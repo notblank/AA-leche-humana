{
 "cells": [
  {
   "cell_type": "markdown",
   "metadata": {},
   "source": [
    "# A First Model\n",
    "\n",
    "Suppose the data is organized in a long format where each individual appears in more than one row: \n",
    "\n",
    "\n",
    "| Id |Faa |week | sex | group |\n",
    "|:--:|:--:|:---:|:---:|:-----:|\n",
    "|1  |5\t| 1 | G = 0 | T \n",
    "|2  |2\t| 1 | B = 1 | A\n",
    "|1  |8\t| 3\t| G = 0 | T\n",
    "|1  |1\t| 2 | G = 0 | T\n",
    "\n",
    "\n",
    "Then, the model for the $i^{th}$ observation is:\n",
    "\n",
    "$$ \\Large\n",
    "Faa_i = \\alpha_0 + \\alpha_{sex} \\ sex_i + \\alpha_{group} \\ group_i + \\alpha_{week} \\ week_i + \\alpha_{j[i]}\n",
    "$$\n",
    "\n",
    "where $j[i]$ is the id of the subject corresponding to observation $i$. So for example, if we consider the third observation, then $i = 3$ and $j[i] = 1$. \n",
    "\n",
    "The last coefficient represents an indivual random effect that, for example, we can set to: \n",
    "\n",
    "$$ \\Large \n",
    "\\alpha_{j} \\sim \\mathcal{N}\\left(0, \\ \\sigma_j^2\\right)\n",
    "$$"
   ]
  },
  {
   "cell_type": "code",
   "execution_count": 1,
   "metadata": {},
   "outputs": [
    {
     "name": "stderr",
     "output_type": "stream",
     "text": [
      "Loading tidyverse: ggplot2\n",
      "Loading tidyverse: tibble\n",
      "Loading tidyverse: tidyr\n",
      "Loading tidyverse: readr\n",
      "Loading tidyverse: purrr\n",
      "Loading tidyverse: dplyr\n",
      "Conflicts with tidy packages ---------------------------------------------------\n",
      "filter(): dplyr, stats\n",
      "lag():    dplyr, stats\n",
      "Loading required package: Matrix\n",
      "\n",
      "Attaching package: 'Matrix'\n",
      "\n",
      "The following object is masked from 'package:tidyr':\n",
      "\n",
      "    expand\n",
      "\n"
     ]
    }
   ],
   "source": [
    "library(haven)\n",
    "library(tidyverse)\n",
    "library(broom)\n",
    "library(lme4) "
   ]
  },
  {
   "cell_type": "code",
   "execution_count": 2,
   "metadata": {
    "collapsed": true
   },
   "outputs": [],
   "source": [
    "aaSelect <- function(df, AA){\n",
    "    aaDf <- df %>% select(id = ID, group = GROUP, age = MATERNALAGE, sex = SEXO, starts_with(AA)) %>%\n",
    "                         mutate(id = factor(id), \n",
    "                                sex =  factor(sex, labels = c('girl', 'boy')),\n",
    "                                group = factor(group, labels = c('teen', 'adult'))) \n",
    "    \n",
    "    return(aaDf)\n",
    "}\n",
    "\n",
    "aaLong <-  function(df, AA){\n",
    "    aaL <- df %>% gather(week, level, starts_with(AA))\n",
    "    \n",
    "    aaL[aaL == paste(AA, 'Calostrum', sep = '')] = 1\n",
    "    aaL[aaL == paste(AA, 'Transition', sep = '')] = 2\n",
    "    aaL[aaL == paste(AA, 'Mature2m', sep = '')] = 8\n",
    "    aaL[aaL == paste(AA, 'Mature4m', sep = '')] = 16\n",
    "\n",
    "    aaL <- aaL %>% mutate(week = as.numeric(week))\n",
    "    \n",
    "    return(aaL)\n",
    "}"
   ]
  },
  {
   "cell_type": "code",
   "execution_count": 3,
   "metadata": {},
   "outputs": [
    {
     "data": {
      "text/html": [
       "<table>\n",
       "<thead><tr><th scope=col>ID</th><th scope=col>GROUP</th><th scope=col>MATERNALAGE</th><th scope=col>SEXO</th><th scope=col>INFANTDOB</th><th scope=col>MATBMI1COLL</th><th scope=col>MATBMI215d</th><th scope=col>MATBMI32mos</th><th scope=col>MATBMI44mos</th><th scope=col>BABYWeigth1g</th><th scope=col>...</th><th scope=col>ALAGLOB</th><th scope=col>ASNGLOB</th><th scope=col>SYSGLOB</th><th scope=col>GLYGLOB</th><th scope=col>GLUGLOB</th><th scope=col>GLNGLOB</th><th scope=col>PROLINEGLOB</th><th scope=col>SERINEGLOB</th><th scope=col>TYRAMINEGLOB</th><th scope=col>new</th></tr></thead>\n",
       "<tbody>\n",
       "\t<tr><td>1         </td><td>0         </td><td>17        </td><td> 1        </td><td>2009-08-20</td><td>25        </td><td>24        </td><td>24        </td><td>22        </td><td>3492.7    </td><td>...       </td><td>21.25     </td><td>0.5       </td><td>1.00      </td><td>10.00     </td><td> 87.25    </td><td>23.25     </td><td>2.75      </td><td>8.0       </td><td>1.00      </td><td>0         </td></tr>\n",
       "\t<tr><td>2         </td><td>0         </td><td>16        </td><td> 2        </td><td>2009-08-24</td><td>32        </td><td>31        </td><td>30        </td><td>29        </td><td>3392.9    </td><td>...       </td><td>18.25     </td><td>0.0       </td><td>0.75      </td><td>13.75     </td><td>100.50    </td><td>40.50     </td><td>2.50      </td><td>9.5       </td><td>0.75      </td><td>0         </td></tr>\n",
       "\t<tr><td>3         </td><td>0         </td><td>17        </td><td> 2        </td><td>2009-08-21</td><td>23        </td><td>23        </td><td>NA        </td><td>NA        </td><td>2993.8    </td><td>...       </td><td>   NA     </td><td> NA       </td><td>  NA      </td><td>   NA     </td><td>    NA    </td><td>   NA     </td><td>  NA      </td><td> NA       </td><td>  NA      </td><td>0         </td></tr>\n",
       "\t<tr><td>4         </td><td>0         </td><td>16        </td><td> 2        </td><td>2009-08-21</td><td>26        </td><td>NA        </td><td>NA        </td><td>NA        </td><td>3692.3    </td><td>...       </td><td>   NA     </td><td> NA       </td><td>  NA      </td><td>   NA     </td><td>    NA    </td><td>   NA     </td><td>  NA      </td><td> NA       </td><td>  NA      </td><td>0         </td></tr>\n",
       "\t<tr><td>5         </td><td>0         </td><td>16        </td><td>NA        </td><td>2009-08-29</td><td>25        </td><td>NA        </td><td>NA        </td><td>NA        </td><td>3592.5    </td><td>...       </td><td>   NA     </td><td> NA       </td><td>  NA      </td><td>   NA     </td><td>    NA    </td><td>   NA     </td><td>  NA      </td><td> NA       </td><td>  NA      </td><td>0         </td></tr>\n",
       "\t<tr><td>6         </td><td>0         </td><td>16        </td><td> 2        </td><td>2009-08-27</td><td>29        </td><td>28        </td><td>30        </td><td>31        </td><td>3093.5    </td><td>...       </td><td>15.50     </td><td>0.5       </td><td>1.50      </td><td>10.25     </td><td> 74.75    </td><td>30.00     </td><td>5.25      </td><td>8.0       </td><td>2.00      </td><td>0         </td></tr>\n",
       "</tbody>\n",
       "</table>\n"
      ],
      "text/latex": [
       "\\begin{tabular}{r|lllllllllllllllllllllllllllllllllllllllllllllllllllllllllllllllllllllllllllllllllllllllllllllllllllllllllllllllllllllllllllllllllllllllllllllllllllllllllllllllllllllllllll}\n",
       " ID & GROUP & MATERNALAGE & SEXO & INFANTDOB & MATBMI1COLL & MATBMI215d & MATBMI32mos & MATBMI44mos & BABYWeigth1g & ... & ALAGLOB & ASNGLOB & SYSGLOB & GLYGLOB & GLUGLOB & GLNGLOB & PROLINEGLOB & SERINEGLOB & TYRAMINEGLOB & new\\\\\n",
       "\\hline\n",
       "\t 1          & 0          & 17         &  1         & 2009-08-20 & 25         & 24         & 24         & 22         & 3492.7     & ...        & 21.25      & 0.5        & 1.00       & 10.00      &  87.25     & 23.25      & 2.75       & 8.0        & 1.00       & 0         \\\\\n",
       "\t 2          & 0          & 16         &  2         & 2009-08-24 & 32         & 31         & 30         & 29         & 3392.9     & ...        & 18.25      & 0.0        & 0.75       & 13.75      & 100.50     & 40.50      & 2.50       & 9.5        & 0.75       & 0         \\\\\n",
       "\t 3          & 0          & 17         &  2         & 2009-08-21 & 23         & 23         & NA         & NA         & 2993.8     & ...        &    NA      &  NA        &   NA       &    NA      &     NA     &    NA      &   NA       &  NA        &   NA       & 0         \\\\\n",
       "\t 4          & 0          & 16         &  2         & 2009-08-21 & 26         & NA         & NA         & NA         & 3692.3     & ...        &    NA      &  NA        &   NA       &    NA      &     NA     &    NA      &   NA       &  NA        &   NA       & 0         \\\\\n",
       "\t 5          & 0          & 16         & NA         & 2009-08-29 & 25         & NA         & NA         & NA         & 3592.5     & ...        &    NA      &  NA        &   NA       &    NA      &     NA     &    NA      &   NA       &  NA        &   NA       & 0         \\\\\n",
       "\t 6          & 0          & 16         &  2         & 2009-08-27 & 29         & 28         & 30         & 31         & 3093.5     & ...        & 15.50      & 0.5        & 1.50       & 10.25      &  74.75     & 30.00      & 5.25       & 8.0        & 2.00       & 0         \\\\\n",
       "\\end{tabular}\n"
      ],
      "text/markdown": [
       "\n",
       "ID | GROUP | MATERNALAGE | SEXO | INFANTDOB | MATBMI1COLL | MATBMI215d | MATBMI32mos | MATBMI44mos | BABYWeigth1g | ... | ALAGLOB | ASNGLOB | SYSGLOB | GLYGLOB | GLUGLOB | GLNGLOB | PROLINEGLOB | SERINEGLOB | TYRAMINEGLOB | new | \n",
       "|---|---|---|---|---|---|\n",
       "| 1          | 0          | 17         |  1         | 2009-08-20 | 25         | 24         | 24         | 22         | 3492.7     | ...        | 21.25      | 0.5        | 1.00       | 10.00      |  87.25     | 23.25      | 2.75       | 8.0        | 1.00       | 0          | \n",
       "| 2          | 0          | 16         |  2         | 2009-08-24 | 32         | 31         | 30         | 29         | 3392.9     | ...        | 18.25      | 0.0        | 0.75       | 13.75      | 100.50     | 40.50      | 2.50       | 9.5        | 0.75       | 0          | \n",
       "| 3          | 0          | 17         |  2         | 2009-08-21 | 23         | 23         | NA         | NA         | 2993.8     | ...        |    NA      |  NA        |   NA       |    NA      |     NA     |    NA      |   NA       |  NA        |   NA       | 0          | \n",
       "| 4          | 0          | 16         |  2         | 2009-08-21 | 26         | NA         | NA         | NA         | 3692.3     | ...        |    NA      |  NA        |   NA       |    NA      |     NA     |    NA      |   NA       |  NA        |   NA       | 0          | \n",
       "| 5          | 0          | 16         | NA         | 2009-08-29 | 25         | NA         | NA         | NA         | 3592.5     | ...        |    NA      |  NA        |   NA       |    NA      |     NA     |    NA      |   NA       |  NA        |   NA       | 0          | \n",
       "| 6          | 0          | 16         |  2         | 2009-08-27 | 29         | 28         | 30         | 31         | 3093.5     | ...        | 15.50      | 0.5        | 1.50       | 10.25      |  74.75     | 30.00      | 5.25       | 8.0        | 2.00       | 0          | \n",
       "\n",
       "\n"
      ],
      "text/plain": [
       "  ID GROUP MATERNALAGE SEXO INFANTDOB  MATBMI1COLL MATBMI215d MATBMI32mos\n",
       "1 1  0     17           1   2009-08-20 25          24         24         \n",
       "2 2  0     16           2   2009-08-24 32          31         30         \n",
       "3 3  0     17           2   2009-08-21 23          23         NA         \n",
       "4 4  0     16           2   2009-08-21 26          NA         NA         \n",
       "5 5  0     16          NA   2009-08-29 25          NA         NA         \n",
       "6 6  0     16           2   2009-08-27 29          28         30         \n",
       "  MATBMI44mos BABYWeigth1g ... ALAGLOB ASNGLOB SYSGLOB GLYGLOB GLUGLOB GLNGLOB\n",
       "1 22          3492.7       ... 21.25   0.5     1.00    10.00    87.25  23.25  \n",
       "2 29          3392.9       ... 18.25   0.0     0.75    13.75   100.50  40.50  \n",
       "3 NA          2993.8       ...    NA    NA       NA       NA       NA     NA  \n",
       "4 NA          3692.3       ...    NA    NA       NA       NA       NA     NA  \n",
       "5 NA          3592.5       ...    NA    NA       NA       NA       NA     NA  \n",
       "6 31          3093.5       ... 15.50   0.5     1.50    10.25    74.75  30.00  \n",
       "  PROLINEGLOB SERINEGLOB TYRAMINEGLOB new\n",
       "1 2.75        8.0        1.00         0  \n",
       "2 2.50        9.5        0.75         0  \n",
       "3   NA         NA          NA         0  \n",
       "4   NA         NA          NA         0  \n",
       "5   NA         NA          NA         0  \n",
       "6 5.25        8.0        2.00         0  "
      ]
     },
     "metadata": {},
     "output_type": "display_data"
    }
   ],
   "source": [
    "AA_Sex_1 <- read_sav(\"C:/Users/Personal/AA leche/datos/AMINOACIDOS POR SEXO_1.sav\")\n",
    "head(AA_Sex_1)"
   ]
  },
  {
   "cell_type": "code",
   "execution_count": 4,
   "metadata": {},
   "outputs": [
    {
     "name": "stderr",
     "output_type": "stream",
     "text": [
      "Warning message:\n",
      "\"`as_dictionary()` is soft-deprecated as of rlang 0.3.0.\n",
      "Please use `as_data_pronoun()` instead\n",
      "This warning is displayed once per session.\"Warning message:\n",
      "\"`new_overscope()` is soft-deprecated as of rlang 0.2.0.\n",
      "Please use `new_data_mask()` instead\n",
      "This warning is displayed once per session.\"Warning message:\n",
      "\"The `parent` argument of `new_data_mask()` is deprecated.\n",
      "The parent of the data mask is determined from either:\n",
      "\n",
      "  * The `env` argument of `eval_tidy()`\n",
      "  * Quosure environments when applicable\n",
      "This warning is displayed once per session.\"Warning message:\n",
      "\"`overscope_clean()` is soft-deprecated as of rlang 0.2.0.\n",
      "This warning is displayed once per session.\""
     ]
    },
    {
     "data": {
      "text/html": [
       "<table>\n",
       "<thead><tr><th scope=col>id</th><th scope=col>group</th><th scope=col>age</th><th scope=col>sex</th><th scope=col>GLUCalostrum</th><th scope=col>GLUTransition</th><th scope=col>GLUMature2m</th><th scope=col>GLUMature4m</th></tr></thead>\n",
       "<tbody>\n",
       "\t<tr><td>1   </td><td>teen</td><td>17  </td><td>girl</td><td>89  </td><td> 89 </td><td> 99 </td><td> 72 </td></tr>\n",
       "\t<tr><td>2   </td><td>teen</td><td>16  </td><td>boy </td><td> 4  </td><td>103 </td><td>104 </td><td>191 </td></tr>\n",
       "\t<tr><td>3   </td><td>teen</td><td>17  </td><td>boy </td><td>54  </td><td>122 </td><td> NA </td><td> NA </td></tr>\n",
       "\t<tr><td>4   </td><td>teen</td><td>16  </td><td>boy </td><td>33  </td><td> NA </td><td> NA </td><td> NA </td></tr>\n",
       "\t<tr><td>6   </td><td>teen</td><td>16  </td><td>boy </td><td>30  </td><td> 67 </td><td> 92 </td><td>110 </td></tr>\n",
       "\t<tr><td>7   </td><td>teen</td><td>16  </td><td>boy </td><td>34  </td><td> 97 </td><td>115 </td><td>130 </td></tr>\n",
       "</tbody>\n",
       "</table>\n"
      ],
      "text/latex": [
       "\\begin{tabular}{r|llllllll}\n",
       " id & group & age & sex & GLUCalostrum & GLUTransition & GLUMature2m & GLUMature4m\\\\\n",
       "\\hline\n",
       "\t 1    & teen & 17   & girl & 89   &  89  &  99  &  72 \\\\\n",
       "\t 2    & teen & 16   & boy  &  4   & 103  & 104  & 191 \\\\\n",
       "\t 3    & teen & 17   & boy  & 54   & 122  &  NA  &  NA \\\\\n",
       "\t 4    & teen & 16   & boy  & 33   &  NA  &  NA  &  NA \\\\\n",
       "\t 6    & teen & 16   & boy  & 30   &  67  &  92  & 110 \\\\\n",
       "\t 7    & teen & 16   & boy  & 34   &  97  & 115  & 130 \\\\\n",
       "\\end{tabular}\n"
      ],
      "text/markdown": [
       "\n",
       "id | group | age | sex | GLUCalostrum | GLUTransition | GLUMature2m | GLUMature4m | \n",
       "|---|---|---|---|---|---|\n",
       "| 1    | teen | 17   | girl | 89   |  89  |  99  |  72  | \n",
       "| 2    | teen | 16   | boy  |  4   | 103  | 104  | 191  | \n",
       "| 3    | teen | 17   | boy  | 54   | 122  |  NA  |  NA  | \n",
       "| 4    | teen | 16   | boy  | 33   |  NA  |  NA  |  NA  | \n",
       "| 6    | teen | 16   | boy  | 30   |  67  |  92  | 110  | \n",
       "| 7    | teen | 16   | boy  | 34   |  97  | 115  | 130  | \n",
       "\n",
       "\n"
      ],
      "text/plain": [
       "  id group age sex  GLUCalostrum GLUTransition GLUMature2m GLUMature4m\n",
       "1 1  teen  17  girl 89            89            99          72        \n",
       "2 2  teen  16  boy   4           103           104         191        \n",
       "3 3  teen  17  boy  54           122            NA          NA        \n",
       "4 4  teen  16  boy  33            NA            NA          NA        \n",
       "5 6  teen  16  boy  30            67            92         110        \n",
       "6 7  teen  16  boy  34            97           115         130        "
      ]
     },
     "metadata": {},
     "output_type": "display_data"
    }
   ],
   "source": [
    "AA <- 'GLU'\n",
    "\n",
    "AAdf <- aaSelect(AA_Sex_1, AA) %>% select(-contains('GLOB')) \n",
    "AAdf <- AAdf %>% filter(!is.na(AAdf$sex))\n",
    "\n",
    "head(AAdf)"
   ]
  },
  {
   "cell_type": "code",
   "execution_count": 5,
   "metadata": {},
   "outputs": [
    {
     "name": "stderr",
     "output_type": "stream",
     "text": [
      "Warning message:\n",
      "\"attributes are not identical across measure variables; they will be dropped\""
     ]
    },
    {
     "data": {
      "text/html": [
       "<table>\n",
       "<thead><tr><th scope=col>id</th><th scope=col>group</th><th scope=col>age</th><th scope=col>sex</th><th scope=col>week</th><th scope=col>level</th></tr></thead>\n",
       "<tbody>\n",
       "\t<tr><td>1   </td><td>teen</td><td>17  </td><td>girl</td><td>1   </td><td>89  </td></tr>\n",
       "\t<tr><td>2   </td><td>teen</td><td>16  </td><td>boy </td><td>1   </td><td> 4  </td></tr>\n",
       "\t<tr><td>3   </td><td>teen</td><td>17  </td><td>boy </td><td>1   </td><td>54  </td></tr>\n",
       "\t<tr><td>4   </td><td>teen</td><td>16  </td><td>boy </td><td>1   </td><td>33  </td></tr>\n",
       "\t<tr><td>6   </td><td>teen</td><td>16  </td><td>boy </td><td>1   </td><td>30  </td></tr>\n",
       "\t<tr><td>7   </td><td>teen</td><td>16  </td><td>boy </td><td>1   </td><td>34  </td></tr>\n",
       "</tbody>\n",
       "</table>\n"
      ],
      "text/latex": [
       "\\begin{tabular}{r|llllll}\n",
       " id & group & age & sex & week & level\\\\\n",
       "\\hline\n",
       "\t 1    & teen & 17   & girl & 1    & 89  \\\\\n",
       "\t 2    & teen & 16   & boy  & 1    &  4  \\\\\n",
       "\t 3    & teen & 17   & boy  & 1    & 54  \\\\\n",
       "\t 4    & teen & 16   & boy  & 1    & 33  \\\\\n",
       "\t 6    & teen & 16   & boy  & 1    & 30  \\\\\n",
       "\t 7    & teen & 16   & boy  & 1    & 34  \\\\\n",
       "\\end{tabular}\n"
      ],
      "text/markdown": [
       "\n",
       "id | group | age | sex | week | level | \n",
       "|---|---|---|---|---|---|\n",
       "| 1    | teen | 17   | girl | 1    | 89   | \n",
       "| 2    | teen | 16   | boy  | 1    |  4   | \n",
       "| 3    | teen | 17   | boy  | 1    | 54   | \n",
       "| 4    | teen | 16   | boy  | 1    | 33   | \n",
       "| 6    | teen | 16   | boy  | 1    | 30   | \n",
       "| 7    | teen | 16   | boy  | 1    | 34   | \n",
       "\n",
       "\n"
      ],
      "text/plain": [
       "  id group age sex  week level\n",
       "1 1  teen  17  girl 1    89   \n",
       "2 2  teen  16  boy  1     4   \n",
       "3 3  teen  17  boy  1    54   \n",
       "4 4  teen  16  boy  1    33   \n",
       "5 6  teen  16  boy  1    30   \n",
       "6 7  teen  16  boy  1    34   "
      ]
     },
     "metadata": {},
     "output_type": "display_data"
    }
   ],
   "source": [
    "AAdfLong <- aaLong(AAdf, AA)\n",
    "head(AAdfLong)"
   ]
  },
  {
   "cell_type": "code",
   "execution_count": 6,
   "metadata": {},
   "outputs": [
    {
     "data": {
      "text/plain": [
       "Linear mixed model fit by REML ['lmerMod']\n",
       "Formula: level ~ sex + group + week + (1 | id)\n",
       "   Data: AAdfLong\n",
       "\n",
       "REML criterion at convergence: 1824.3\n",
       "\n",
       "Scaled residuals: \n",
       "     Min       1Q   Median       3Q      Max \n",
       "-3.08751 -0.52853 -0.02919  0.61700  2.87567 \n",
       "\n",
       "Random effects:\n",
       " Groups   Name        Variance Std.Dev.\n",
       " id       (Intercept)  215.4   14.68   \n",
       " Residual             1211.1   34.80   \n",
       "Number of obs: 183, groups:  id, 61\n",
       "\n",
       "Fixed effects:\n",
       "            Estimate Std. Error t value\n",
       "(Intercept)  56.3690     6.6255   8.508\n",
       "sexboy       13.1931     6.7666   1.950\n",
       "groupadult   -5.2495     6.8277  -0.769\n",
       "week          4.1004     0.4529   9.054\n",
       "\n",
       "Correlation of Fixed Effects:\n",
       "           (Intr) sexboy grpdlt\n",
       "sexboy     -0.686              \n",
       "groupadult -0.532  0.236       \n",
       "week       -0.354  0.001 -0.061"
      ]
     },
     "metadata": {},
     "output_type": "display_data"
    }
   ],
   "source": [
    "mod1 <- lmer(level ~ sex + group + week + (1 | id), data=AAdfLong)\n",
    "summary(mod1)"
   ]
  },
  {
   "cell_type": "code",
   "execution_count": 7,
   "metadata": {},
   "outputs": [
    {
     "data": {
      "text/html": [
       "<dl class=dl-horizontal>\n",
       "\t<dt>(Intercept)</dt>\n",
       "\t\t<dd>56.3690457949284</dd>\n",
       "\t<dt>sexboy</dt>\n",
       "\t\t<dd>13.1930835121792</dd>\n",
       "\t<dt>groupadult</dt>\n",
       "\t\t<dd>-5.24953591820545</dd>\n",
       "\t<dt>week</dt>\n",
       "\t\t<dd>4.10040659284957</dd>\n",
       "</dl>\n"
      ],
      "text/latex": [
       "\\begin{description*}\n",
       "\\item[(Intercept)] 56.3690457949284\n",
       "\\item[sexboy] 13.1930835121792\n",
       "\\item[groupadult] -5.24953591820545\n",
       "\\item[week] 4.10040659284957\n",
       "\\end{description*}\n"
      ],
      "text/markdown": [
       "(Intercept)\n",
       ":   56.3690457949284sexboy\n",
       ":   13.1930835121792groupadult\n",
       ":   -5.24953591820545week\n",
       ":   4.10040659284957\n",
       "\n"
      ],
      "text/plain": [
       "(Intercept)      sexboy  groupadult        week \n",
       "  56.369046   13.193084   -5.249536    4.100407 "
      ]
     },
     "metadata": {},
     "output_type": "display_data"
    }
   ],
   "source": [
    "fixef(mod1)"
   ]
  },
  {
   "cell_type": "code",
   "execution_count": 8,
   "metadata": {},
   "outputs": [
    {
     "data": {
      "text/plain": [
       "$id\n",
       "    (Intercept)\n",
       "1    1.33163072\n",
       "2    1.35529191\n",
       "3    3.22419218\n",
       "4   -6.14059988\n",
       "6   -9.34943688\n",
       "7   -1.34687264\n",
       "8   23.07653771\n",
       "9   -3.41637349\n",
       "10   9.65302198\n",
       "11   2.25076272\n",
       "12  -6.56448272\n",
       "13   7.27926804\n",
       "14  -7.08665114\n",
       "15  -2.59402551\n",
       "16  19.16153460\n",
       "17  -5.65893487\n",
       "18   9.76687092\n",
       "19  -4.96303386\n",
       "20 -17.76771874\n",
       "21  -5.05434575\n",
       "22  -2.81103580\n",
       "23  -3.73724897\n",
       "24  -8.55681903\n",
       "25   3.97731783\n",
       "26  13.77749350\n",
       "28  -0.33123977\n",
       "29  -5.82371837\n",
       "30   8.21463269\n",
       "31 -11.94767202\n",
       "32   3.72200706\n",
       "33   8.23485960\n",
       "34  -2.33609920\n",
       "35   1.71695566\n",
       "36 -12.52794206\n",
       "37  -0.01945155\n",
       "38   4.40499766\n",
       "39  -3.11367254\n",
       "41 -14.13038247\n",
       "42   0.29214374\n",
       "45  -3.08264260\n",
       "46 -12.78906642\n",
       "47  -7.46203981\n",
       "48  -9.14477785\n",
       "49  -5.77173089\n",
       "50  -2.02554672\n",
       "51  -5.36612228\n",
       "52   1.04331077\n",
       "53   1.74715542\n",
       "54   1.33143780\n",
       "55  11.85196896\n",
       "56  -0.95500913\n",
       "57  18.27193093\n",
       "58   5.48861403\n",
       "59   0.80698390\n",
       "61  19.31122499\n",
       "62   6.65549868\n",
       "63  -1.37072675\n",
       "64  -2.17850081\n",
       "65  -4.41260762\n",
       "66   1.57181480\n",
       "67   0.31706933\n"
      ]
     },
     "metadata": {},
     "output_type": "display_data"
    }
   ],
   "source": [
    "ranef(mod1)"
   ]
  },
  {
   "cell_type": "code",
   "execution_count": 9,
   "metadata": {},
   "outputs": [
    {
     "data": {
      "text/plain": [
       "Linear mixed model fit by REML ['lmerMod']\n",
       "Formula: level ~ sex + week + week:sex + (1 | id)\n",
       "   Data: AAdfLong\n",
       "\n",
       "REML criterion at convergence: 1828.3\n",
       "\n",
       "Scaled residuals: \n",
       "     Min       1Q   Median       3Q      Max \n",
       "-2.91969 -0.56760 -0.02618  0.62104  2.93674 \n",
       "\n",
       "Random effects:\n",
       " Groups   Name        Variance Std.Dev.\n",
       " id       (Intercept)  208.8   14.45   \n",
       " Residual             1215.7   34.87   \n",
       "Number of obs: 183, groups:  id, 61\n",
       "\n",
       "Fixed effects:\n",
       "            Estimate Std. Error t value\n",
       "(Intercept)  55.8559     6.2726   8.905\n",
       "sexboy       10.5215     8.2838   1.270\n",
       "week          3.6964     0.6749   5.477\n",
       "sexboy:week   0.6964     0.9100   0.765\n",
       "\n",
       "Correlation of Fixed Effects:\n",
       "            (Intr) sexboy week  \n",
       "sexboy      -0.757              \n",
       "week        -0.611  0.463       \n",
       "sexboy:week  0.453 -0.613 -0.742"
      ]
     },
     "metadata": {},
     "output_type": "display_data"
    }
   ],
   "source": [
    "mod2 <- lmer(level ~ sex + week + week:sex +  (1 | id), data=AAdfLong)\n",
    "summary(mod2)"
   ]
  },
  {
   "cell_type": "code",
   "execution_count": 10,
   "metadata": {},
   "outputs": [
    {
     "data": {
      "text/plain": [
       "Linear mixed model fit by REML ['lmerMod']\n",
       "Formula: level ~ group + week + week:group + (1 | id)\n",
       "   Data: AAdfLong\n",
       "\n",
       "REML criterion at convergence: 1831.4\n",
       "\n",
       "Scaled residuals: \n",
       "     Min       1Q   Median       3Q      Max \n",
       "-3.11876 -0.54679 -0.03097  0.63446  2.89086 \n",
       "\n",
       "Random effects:\n",
       " Groups   Name        Variance Std.Dev.\n",
       " id       (Intercept)  233.3   15.27   \n",
       " Residual             1222.8   34.97   \n",
       "Number of obs: 183, groups:  id, 61\n",
       "\n",
       "Fixed effects:\n",
       "                Estimate Std. Error t value\n",
       "(Intercept)      66.9257     5.3453  12.520\n",
       "groupadult      -12.5097     8.5084  -1.470\n",
       "week              3.7699     0.6188   6.092\n",
       "groupadult:week   0.7188     0.9140   0.786\n",
       "\n",
       "Correlation of Fixed Effects:\n",
       "            (Intr) grpdlt week  \n",
       "groupadult  -0.628              \n",
       "week        -0.598  0.376       \n",
       "groupdlt:wk  0.405 -0.608 -0.677"
      ]
     },
     "metadata": {},
     "output_type": "display_data"
    }
   ],
   "source": [
    "mod3 <- lmer(level ~ group + week + week:group + (1 | id), data=AAdfLong)\n",
    "summary(mod3)"
   ]
  },
  {
   "cell_type": "code",
   "execution_count": 11,
   "metadata": {},
   "outputs": [
    {
     "data": {
      "text/plain": [
       "\n",
       "Call:\n",
       "lm(formula = level ~ group + week + week:group, data = AAdfLong)\n",
       "\n",
       "Residuals:\n",
       "    Min      1Q  Median      3Q     Max \n",
       "-124.92  -24.98   -2.16   21.78  122.12 \n",
       "\n",
       "Coefficients:\n",
       "                Estimate Std. Error t value Pr(>|t|)    \n",
       "(Intercept)      67.4422     5.1073  13.205  < 2e-16 ***\n",
       "groupadult      -12.3016     8.1252  -1.514    0.132    \n",
       "week              3.7174     0.6589   5.642 6.47e-08 ***\n",
       "groupadult:week   0.8391     0.9813   0.855    0.394    \n",
       "---\n",
       "Signif. codes:  0 '***' 0.001 '**' 0.01 '*' 0.05 '.' 0.1 ' ' 1\n",
       "\n",
       "Residual standard error: 38.09 on 179 degrees of freedom\n",
       "  (61 observations deleted due to missingness)\n",
       "Multiple R-squared:  0.2856,\tAdjusted R-squared:  0.2736 \n",
       "F-statistic: 23.86 on 3 and 179 DF,  p-value: 4.906e-13\n"
      ]
     },
     "metadata": {},
     "output_type": "display_data"
    }
   ],
   "source": [
    "lm3 <- lm(level ~ group + week + week:group, data=AAdfLong)\n",
    "summary(lm3)"
   ]
  },
  {
   "cell_type": "markdown",
   "metadata": {
    "collapsed": true
   },
   "source": [
    "# Missing data: \n",
    "\n",
    "There is a trend in missing data in this experiment. It increases over time and it is bigger for teenage mothers. There are two possible interpretations for this phenomenon: \n",
    "\n",
    "One in which we assume that time and teen variables are the cause of dessertion. In this case, the probability that the level variable is missing only depends on available information and these missing observations can be discarded.  \n",
    "\n",
    "And another in which this probability depends on an unobserved variable, like the discomfort caused by the data collection. Since, we haven't observed a discomfot predictor we are forced to model the mechanism by which the data will be replaced. **By doing so, we imagine what would be the result of the analysis if the data was completely observed**. \n",
    "\n"
   ]
  },
  {
   "cell_type": "code",
   "execution_count": 12,
   "metadata": {},
   "outputs": [
    {
     "name": "stderr",
     "output_type": "stream",
     "text": [
      "Joining, by = \"group\"\n"
     ]
    },
    {
     "data": {
      "text/html": [
       "<table>\n",
       "<thead><tr><th scope=col>group</th><th scope=col>id</th><th scope=col>age</th><th scope=col>sex</th><th scope=col>GLUCalostrum</th><th scope=col>GLUTransition</th><th scope=col>GLUMature2m</th><th scope=col>GLUMature4m</th><th scope=col>num</th></tr></thead>\n",
       "<tbody>\n",
       "\t<tr><td>teen </td><td>0    </td><td>0    </td><td>0    </td><td>0    </td><td>8    </td><td>14   </td><td>18   </td><td>37   </td></tr>\n",
       "\t<tr><td>adult</td><td>0    </td><td>0    </td><td>0    </td><td>0    </td><td>6    </td><td> 9   </td><td> 6   </td><td>24   </td></tr>\n",
       "</tbody>\n",
       "</table>\n"
      ],
      "text/latex": [
       "\\begin{tabular}{r|lllllllll}\n",
       " group & id & age & sex & GLUCalostrum & GLUTransition & GLUMature2m & GLUMature4m & num\\\\\n",
       "\\hline\n",
       "\t teen  & 0     & 0     & 0     & 0     & 8     & 14    & 18    & 37   \\\\\n",
       "\t adult & 0     & 0     & 0     & 0     & 6     &  9    &  6    & 24   \\\\\n",
       "\\end{tabular}\n"
      ],
      "text/markdown": [
       "\n",
       "group | id | age | sex | GLUCalostrum | GLUTransition | GLUMature2m | GLUMature4m | num | \n",
       "|---|---|\n",
       "| teen  | 0     | 0     | 0     | 0     | 8     | 14    | 18    | 37    | \n",
       "| adult | 0     | 0     | 0     | 0     | 6     |  9    |  6    | 24    | \n",
       "\n",
       "\n"
      ],
      "text/plain": [
       "  group id age sex GLUCalostrum GLUTransition GLUMature2m GLUMature4m num\n",
       "1 teen  0  0   0   0            8             14          18          37 \n",
       "2 adult 0  0   0   0            6              9           6          24 "
      ]
     },
     "metadata": {},
     "output_type": "display_data"
    }
   ],
   "source": [
    "nPart <- AAdf %>% group_by(group) %>% summarize(num = n()) \n",
    "Missind_data <- AAdf %>% group_by(group) %>% summarise_all(funs(sum(is.na(.)))) %>% inner_join(nPart)\n",
    "Missind_data"
   ]
  },
  {
   "cell_type": "code",
   "execution_count": 15,
   "metadata": {},
   "outputs": [
    {
     "data": {
      "text/html": [
       "<table>\n",
       "<thead><tr><th scope=col>sex</th><th scope=col>num</th></tr></thead>\n",
       "<tbody>\n",
       "\t<tr><td>girl</td><td>26  </td></tr>\n",
       "\t<tr><td>boy </td><td>35  </td></tr>\n",
       "</tbody>\n",
       "</table>\n"
      ],
      "text/latex": [
       "\\begin{tabular}{r|ll}\n",
       " sex & num\\\\\n",
       "\\hline\n",
       "\t girl & 26  \\\\\n",
       "\t boy  & 35  \\\\\n",
       "\\end{tabular}\n"
      ],
      "text/markdown": [
       "\n",
       "sex | num | \n",
       "|---|---|\n",
       "| girl | 26   | \n",
       "| boy  | 35   | \n",
       "\n",
       "\n"
      ],
      "text/plain": [
       "  sex  num\n",
       "1 girl 26 \n",
       "2 boy  35 "
      ]
     },
     "metadata": {},
     "output_type": "display_data"
    },
    {
     "name": "stderr",
     "output_type": "stream",
     "text": [
      "Joining, by = \"sex\"\n"
     ]
    },
    {
     "data": {
      "text/html": [
       "<table>\n",
       "<thead><tr><th scope=col>sex</th><th scope=col>id</th><th scope=col>group</th><th scope=col>age</th><th scope=col>GLUCalostrum</th><th scope=col>GLUTransition</th><th scope=col>GLUMature2m</th><th scope=col>GLUMature4m</th><th scope=col>num</th></tr></thead>\n",
       "<tbody>\n",
       "\t<tr><td>girl</td><td>0   </td><td>0   </td><td>0   </td><td>0   </td><td>6   </td><td>11  </td><td> 9  </td><td>26  </td></tr>\n",
       "\t<tr><td>boy </td><td>0   </td><td>0   </td><td>0   </td><td>0   </td><td>8   </td><td>12  </td><td>15  </td><td>35  </td></tr>\n",
       "</tbody>\n",
       "</table>\n"
      ],
      "text/latex": [
       "\\begin{tabular}{r|lllllllll}\n",
       " sex & id & group & age & GLUCalostrum & GLUTransition & GLUMature2m & GLUMature4m & num\\\\\n",
       "\\hline\n",
       "\t girl & 0    & 0    & 0    & 0    & 6    & 11   &  9   & 26  \\\\\n",
       "\t boy  & 0    & 0    & 0    & 0    & 8    & 12   & 15   & 35  \\\\\n",
       "\\end{tabular}\n"
      ],
      "text/markdown": [
       "\n",
       "sex | id | group | age | GLUCalostrum | GLUTransition | GLUMature2m | GLUMature4m | num | \n",
       "|---|---|\n",
       "| girl | 0    | 0    | 0    | 0    | 6    | 11   |  9   | 26   | \n",
       "| boy  | 0    | 0    | 0    | 0    | 8    | 12   | 15   | 35   | \n",
       "\n",
       "\n"
      ],
      "text/plain": [
       "  sex  id group age GLUCalostrum GLUTransition GLUMature2m GLUMature4m num\n",
       "1 girl 0  0     0   0            6             11           9          26 \n",
       "2 boy  0  0     0   0            8             12          15          35 "
      ]
     },
     "metadata": {},
     "output_type": "display_data"
    }
   ],
   "source": [
    "nPart <- AAdf %>% group_by(sex) %>% summarize(num = n()) \n",
    "nPart\n",
    "\n",
    "Missind_data <- AAdf %>% group_by(sex) %>% summarise_all(funs(sum(is.na(.)))) %>% inner_join(nPart)\n",
    "Missind_data"
   ]
  },
  {
   "cell_type": "code",
   "execution_count": 12,
   "metadata": {},
   "outputs": [
    {
     "data": {
      "text/html": [
       "<table>\n",
       "<thead><tr><th scope=col>group</th><th scope=col>id</th><th scope=col>age</th><th scope=col>sex</th><th scope=col>GLUCalostrum</th><th scope=col>GLUTransition</th><th scope=col>GLUMature2m</th><th scope=col>GLUMature4m</th></tr></thead>\n",
       "<tbody>\n",
       "\t<tr><td>teen     </td><td>0        </td><td>0        </td><td>0        </td><td>0        </td><td>0.2162162</td><td>0.3783784</td><td>0.4864865</td></tr>\n",
       "\t<tr><td>adult    </td><td>0        </td><td>0        </td><td>0        </td><td>0        </td><td>0.2500000</td><td>0.3750000</td><td>0.2500000</td></tr>\n",
       "</tbody>\n",
       "</table>\n"
      ],
      "text/latex": [
       "\\begin{tabular}{r|llllllll}\n",
       " group & id & age & sex & GLUCalostrum & GLUTransition & GLUMature2m & GLUMature4m\\\\\n",
       "\\hline\n",
       "\t teen      & 0         & 0         & 0         & 0         & 0.2162162 & 0.3783784 & 0.4864865\\\\\n",
       "\t adult     & 0         & 0         & 0         & 0         & 0.2500000 & 0.3750000 & 0.2500000\\\\\n",
       "\\end{tabular}\n"
      ],
      "text/markdown": [
       "\n",
       "group | id | age | sex | GLUCalostrum | GLUTransition | GLUMature2m | GLUMature4m | \n",
       "|---|---|\n",
       "| teen      | 0         | 0         | 0         | 0         | 0.2162162 | 0.3783784 | 0.4864865 | \n",
       "| adult     | 0         | 0         | 0         | 0         | 0.2500000 | 0.3750000 | 0.2500000 | \n",
       "\n",
       "\n"
      ],
      "text/plain": [
       "  group id age sex GLUCalostrum GLUTransition GLUMature2m GLUMature4m\n",
       "1 teen  0  0   0   0            0.2162162     0.3783784   0.4864865  \n",
       "2 adult 0  0   0   0            0.2500000     0.3750000   0.2500000  "
      ]
     },
     "metadata": {},
     "output_type": "display_data"
    }
   ],
   "source": [
    "pMissind_data <- \n",
    "    Missind_data %>% mutate(GLUTransition = GLUTransition/num, \n",
    "                        GLUMature2m = GLUMature2m/num, \n",
    "                        GLUMature4m = GLUMature4m/num) %>% select(-num)\n",
    "\n",
    "pMissind_data"
   ]
  },
  {
   "cell_type": "code",
   "execution_count": 13,
   "metadata": {},
   "outputs": [
    {
     "data": {
      "text/html": [
       "<table>\n",
       "<thead><tr><th scope=col>group</th><th scope=col>week</th><th scope=col>pNA</th></tr></thead>\n",
       "<tbody>\n",
       "\t<tr><td>teen     </td><td> 1       </td><td>0.0000000</td></tr>\n",
       "\t<tr><td>adult    </td><td> 1       </td><td>0.0000000</td></tr>\n",
       "\t<tr><td>teen     </td><td> 2       </td><td>0.2162162</td></tr>\n",
       "\t<tr><td>adult    </td><td> 2       </td><td>0.2500000</td></tr>\n",
       "\t<tr><td>teen     </td><td> 8       </td><td>0.3783784</td></tr>\n",
       "\t<tr><td>adult    </td><td> 8       </td><td>0.3750000</td></tr>\n",
       "\t<tr><td>teen     </td><td>16       </td><td>0.4864865</td></tr>\n",
       "\t<tr><td>adult    </td><td>16       </td><td>0.2500000</td></tr>\n",
       "</tbody>\n",
       "</table>\n"
      ],
      "text/latex": [
       "\\begin{tabular}{r|lll}\n",
       " group & week & pNA\\\\\n",
       "\\hline\n",
       "\t teen      &  1        & 0.0000000\\\\\n",
       "\t adult     &  1        & 0.0000000\\\\\n",
       "\t teen      &  2        & 0.2162162\\\\\n",
       "\t adult     &  2        & 0.2500000\\\\\n",
       "\t teen      &  8        & 0.3783784\\\\\n",
       "\t adult     &  8        & 0.3750000\\\\\n",
       "\t teen      & 16        & 0.4864865\\\\\n",
       "\t adult     & 16        & 0.2500000\\\\\n",
       "\\end{tabular}\n"
      ],
      "text/markdown": [
       "\n",
       "group | week | pNA | \n",
       "|---|---|---|---|---|---|---|---|\n",
       "| teen      |  1        | 0.0000000 | \n",
       "| adult     |  1        | 0.0000000 | \n",
       "| teen      |  2        | 0.2162162 | \n",
       "| adult     |  2        | 0.2500000 | \n",
       "| teen      |  8        | 0.3783784 | \n",
       "| adult     |  8        | 0.3750000 | \n",
       "| teen      | 16        | 0.4864865 | \n",
       "| adult     | 16        | 0.2500000 | \n",
       "\n",
       "\n"
      ],
      "text/plain": [
       "  group week pNA      \n",
       "1 teen   1   0.0000000\n",
       "2 adult  1   0.0000000\n",
       "3 teen   2   0.2162162\n",
       "4 adult  2   0.2500000\n",
       "5 teen   8   0.3783784\n",
       "6 adult  8   0.3750000\n",
       "7 teen  16   0.4864865\n",
       "8 adult 16   0.2500000"
      ]
     },
     "metadata": {},
     "output_type": "display_data"
    }
   ],
   "source": [
    "pMD_Long <- aaLong(pMissind_data, AA) %>% select(group, week, pNA = level) \n",
    "pMD_Long"
   ]
  },
  {
   "cell_type": "code",
   "execution_count": 15,
   "metadata": {},
   "outputs": [
    {
     "data": {},
     "metadata": {},
     "output_type": "display_data"
    },
    {
     "data": {
      "image/png": "[encoded data removed]",
      "text/plain": [
       "plot without title"
      ]
     },
     "metadata": {},
     "output_type": "display_data"
    }
   ],
   "source": [
    "ggplot(pMD_Long %>% filter(week != 1), aes(x = week, y = pNA, color = group)) + \n",
    "    geom_point() + geom_smooth(method = lm, formula = y ~ x, se = F)"
   ]
  },
  {
   "cell_type": "code",
   "execution_count": 18,
   "metadata": {},
   "outputs": [
    {
     "data": {
      "text/plain": [
       "\n",
       "Call:\n",
       "lm(formula = pNA ~ week + group, data = pMD_Long %>% filter(week != \n",
       "    1))\n",
       "\n",
       "Residuals:\n",
       "       1        2        3        4        5        6 \n",
       "-0.08365  0.01882  0.02407  0.08938  0.05959 -0.10821 \n",
       "\n",
       "Coefficients:\n",
       "             Estimate Std. Error t value Pr(>|t|)  \n",
       "(Intercept)  0.281722   0.086142   3.270   0.0468 *\n",
       "week         0.009074   0.007257   1.250   0.2998  \n",
       "groupadult  -0.068694   0.083240  -0.825   0.4697  \n",
       "---\n",
       "Signif. codes:  0 '***' 0.001 '**' 0.01 '*' 0.05 '.' 0.1 ' ' 1\n",
       "\n",
       "Residual standard error: 0.1019 on 3 degrees of freedom\n",
       "Multiple R-squared:  0.4279,\tAdjusted R-squared:  0.04657 \n",
       "F-statistic: 1.122 on 2 and 3 DF,  p-value: 0.4327\n"
      ]
     },
     "metadata": {},
     "output_type": "display_data"
    }
   ],
   "source": [
    "modMD <- lm(pNA ~ week + group, pMD_Long %>% filter(week != 1))\n",
    "summary(modMD)"
   ]
  },
  {
   "cell_type": "markdown",
   "metadata": {},
   "source": [
    "### Regression Imputation: \n",
    "\n",
    "I am assuming that given the group variable, the mechanism is ignorable.\n",
    "\n",
    "Idea is to impute the values using a regression model that takes into account the week and group variables.\n",
    "\n",
    "$$\n",
    "\\Large\n",
    "Faa = \\alpha_0 + \\alpha_1 \\ group + \\alpha_2 \\ sex + \\alpha_3 \\ week \n",
    "$$\n",
    "\n",
    "where the time effect for adult is $\\alpha_2 + \\alpha_3$.  \n"
   ]
  },
  {
   "cell_type": "code",
   "execution_count": 92,
   "metadata": {},
   "outputs": [
    {
     "data": {
      "text/plain": [
       "\n",
       "Call:\n",
       "lm(formula = level ~ sex + group + week, data = AAdfLong)\n",
       "\n",
       "Residuals:\n",
       "     Min       1Q   Median       3Q      Max \n",
       "-120.363  -23.154   -0.483   22.416  119.298 \n",
       "\n",
       "Coefficients:\n",
       "            Estimate Std. Error t value Pr(>|t|)    \n",
       "(Intercept)  56.8060     5.9495   9.548  < 2e-16 ***\n",
       "sexboy       12.7018     5.8121   2.185   0.0302 *  \n",
       "groupadult   -4.2192     5.8583  -0.720   0.4723    \n",
       "week          4.0973     0.4829   8.485 7.94e-15 ***\n",
       "---\n",
       "Signif. codes:  0 '***' 0.001 '**' 0.01 '*' 0.05 '.' 0.1 ' ' 1\n",
       "\n",
       "Residual standard error: 37.67 on 179 degrees of freedom\n",
       "  (61 observations deleted due to missingness)\n",
       "Multiple R-squared:  0.3013,\tAdjusted R-squared:  0.2896 \n",
       "F-statistic: 25.74 on 3 and 179 DF,  p-value: 6.869e-14\n"
      ]
     },
     "metadata": {},
     "output_type": "display_data"
    }
   ],
   "source": [
    "lm3 <- lm(level ~ sex + group + week, data=AAdfLong)\n",
    "summary(lm3)"
   ]
  },
  {
   "cell_type": "code",
   "execution_count": 94,
   "metadata": {},
   "outputs": [
    {
     "data": {
      "text/plain": [
       "\n",
       "Call:\n",
       "lm(formula = level ~ sex + week + sex:week, data = AAdfLong)\n",
       "\n",
       "Residuals:\n",
       "    Min      1Q  Median      3Q     Max \n",
       "-114.52  -23.62   -1.02   21.11  121.45 \n",
       "\n",
       "Coefficients:\n",
       "            Estimate Std. Error t value Pr(>|t|)    \n",
       "(Intercept)  56.5199     6.0126   9.400  < 2e-16 ***\n",
       "sexboy       10.3658     7.9406   1.305    0.193    \n",
       "week          3.7499     0.7214   5.198 5.46e-07 ***\n",
       "sexboy:week   0.5840     0.9695   0.602    0.548    \n",
       "---\n",
       "Signif. codes:  0 '***' 0.001 '**' 0.01 '*' 0.05 '.' 0.1 ' ' 1\n",
       "\n",
       "Residual standard error: 37.68 on 179 degrees of freedom\n",
       "  (61 observations deleted due to missingness)\n",
       "Multiple R-squared:  0.3007,\tAdjusted R-squared:  0.289 \n",
       "F-statistic: 25.66 on 3 and 179 DF,  p-value: 7.417e-14\n"
      ]
     },
     "metadata": {},
     "output_type": "display_data"
    }
   ],
   "source": [
    "lm3 <- lm(level ~ sex + week + sex:week , data=AAdfLong)\n",
    "summary(lm3)"
   ]
  },
  {
   "cell_type": "code",
   "execution_count": 95,
   "metadata": {},
   "outputs": [
    {
     "data": {
      "text/html": [
       "244"
      ],
      "text/latex": [
       "244"
      ],
      "text/markdown": [
       "244"
      ],
      "text/plain": [
       "[1] 244"
      ]
     },
     "metadata": {},
     "output_type": "display_data"
    },
    {
     "data": {
      "text/html": [
       "<ol class=list-inline>\n",
       "\t<li>244</li>\n",
       "\t<li>6</li>\n",
       "</ol>\n"
      ],
      "text/latex": [
       "\\begin{enumerate*}\n",
       "\\item 244\n",
       "\\item 6\n",
       "\\end{enumerate*}\n"
      ],
      "text/markdown": [
       "1. 244\n",
       "2. 6\n",
       "\n",
       "\n"
      ],
      "text/plain": [
       "[1] 244   6"
      ]
     },
     "metadata": {},
     "output_type": "display_data"
    }
   ],
   "source": [
    "pred_lm3 <- predict(lm3, AAdfLong) \n",
    "length(pred_lm3)\n",
    "dim(AAdfLong)"
   ]
  },
  {
   "cell_type": "code",
   "execution_count": 96,
   "metadata": {},
   "outputs": [
    {
     "data": {
      "text/html": [
       "<table>\n",
       "<thead><tr><th scope=col>id</th><th scope=col>group</th><th scope=col>age</th><th scope=col>sex</th><th scope=col>week</th><th scope=col>level</th></tr></thead>\n",
       "<tbody>\n",
       "\t<tr><td>4   </td><td>teen</td><td>16  </td><td>boy </td><td>2   </td><td>NA  </td></tr>\n",
       "\t<tr><td>12  </td><td>teen</td><td>16  </td><td>girl</td><td>2   </td><td>NA  </td></tr>\n",
       "\t<tr><td>21  </td><td>teen</td><td>18  </td><td>girl</td><td>2   </td><td>NA  </td></tr>\n",
       "\t<tr><td>24  </td><td>teen</td><td>18  </td><td>boy </td><td>2   </td><td>NA  </td></tr>\n",
       "\t<tr><td>25  </td><td>teen</td><td>17  </td><td>boy </td><td>2   </td><td>NA  </td></tr>\n",
       "\t<tr><td>33  </td><td>teen</td><td>16  </td><td>girl</td><td>2   </td><td>NA  </td></tr>\n",
       "</tbody>\n",
       "</table>\n"
      ],
      "text/latex": [
       "\\begin{tabular}{r|llllll}\n",
       " id & group & age & sex & week & level\\\\\n",
       "\\hline\n",
       "\t 4    & teen & 16   & boy  & 2    & NA  \\\\\n",
       "\t 12   & teen & 16   & girl & 2    & NA  \\\\\n",
       "\t 21   & teen & 18   & girl & 2    & NA  \\\\\n",
       "\t 24   & teen & 18   & boy  & 2    & NA  \\\\\n",
       "\t 25   & teen & 17   & boy  & 2    & NA  \\\\\n",
       "\t 33   & teen & 16   & girl & 2    & NA  \\\\\n",
       "\\end{tabular}\n"
      ],
      "text/markdown": [
       "\n",
       "id | group | age | sex | week | level | \n",
       "|---|---|---|---|---|---|\n",
       "| 4    | teen | 16   | boy  | 2    | NA   | \n",
       "| 12   | teen | 16   | girl | 2    | NA   | \n",
       "| 21   | teen | 18   | girl | 2    | NA   | \n",
       "| 24   | teen | 18   | boy  | 2    | NA   | \n",
       "| 25   | teen | 17   | boy  | 2    | NA   | \n",
       "| 33   | teen | 16   | girl | 2    | NA   | \n",
       "\n",
       "\n"
      ],
      "text/plain": [
       "  id group age sex  week level\n",
       "1 4  teen  16  boy  2    NA   \n",
       "2 12 teen  16  girl 2    NA   \n",
       "3 21 teen  18  girl 2    NA   \n",
       "4 24 teen  18  boy  2    NA   \n",
       "5 25 teen  17  boy  2    NA   \n",
       "6 33 teen  16  girl 2    NA   "
      ]
     },
     "metadata": {},
     "output_type": "display_data"
    }
   ],
   "source": [
    "AAdfLong %>% filter(is.na(level) ) %>% head()"
   ]
  },
  {
   "cell_type": "code",
   "execution_count": 97,
   "metadata": {
    "collapsed": true
   },
   "outputs": [],
   "source": [
    "imputed_level <- ifelse(is.na(AAdfLong$level), pred_lm3, AAdfLong$level) "
   ]
  },
  {
   "cell_type": "code",
   "execution_count": 98,
   "metadata": {},
   "outputs": [
    {
     "data": {
      "text/html": [
       "<table>\n",
       "<thead><tr><th scope=col>id</th><th scope=col>group</th><th scope=col>age</th><th scope=col>sex</th><th scope=col>week</th><th scope=col>level</th><th scope=col>imputed_level</th></tr></thead>\n",
       "<tbody>\n",
       "\t<tr><td>1   </td><td>teen</td><td>17  </td><td>girl</td><td>1   </td><td>89  </td><td>89  </td></tr>\n",
       "\t<tr><td>2   </td><td>teen</td><td>16  </td><td>boy </td><td>1   </td><td> 4  </td><td> 4  </td></tr>\n",
       "\t<tr><td>3   </td><td>teen</td><td>17  </td><td>boy </td><td>1   </td><td>54  </td><td>54  </td></tr>\n",
       "\t<tr><td>4   </td><td>teen</td><td>16  </td><td>boy </td><td>1   </td><td>33  </td><td>33  </td></tr>\n",
       "\t<tr><td>6   </td><td>teen</td><td>16  </td><td>boy </td><td>1   </td><td>30  </td><td>30  </td></tr>\n",
       "\t<tr><td>7   </td><td>teen</td><td>16  </td><td>boy </td><td>1   </td><td>34  </td><td>34  </td></tr>\n",
       "</tbody>\n",
       "</table>\n"
      ],
      "text/latex": [
       "\\begin{tabular}{r|lllllll}\n",
       " id & group & age & sex & week & level & imputed\\_level\\\\\n",
       "\\hline\n",
       "\t 1    & teen & 17   & girl & 1    & 89   & 89  \\\\\n",
       "\t 2    & teen & 16   & boy  & 1    &  4   &  4  \\\\\n",
       "\t 3    & teen & 17   & boy  & 1    & 54   & 54  \\\\\n",
       "\t 4    & teen & 16   & boy  & 1    & 33   & 33  \\\\\n",
       "\t 6    & teen & 16   & boy  & 1    & 30   & 30  \\\\\n",
       "\t 7    & teen & 16   & boy  & 1    & 34   & 34  \\\\\n",
       "\\end{tabular}\n"
      ],
      "text/markdown": [
       "\n",
       "id | group | age | sex | week | level | imputed_level | \n",
       "|---|---|---|---|---|---|\n",
       "| 1    | teen | 17   | girl | 1    | 89   | 89   | \n",
       "| 2    | teen | 16   | boy  | 1    |  4   |  4   | \n",
       "| 3    | teen | 17   | boy  | 1    | 54   | 54   | \n",
       "| 4    | teen | 16   | boy  | 1    | 33   | 33   | \n",
       "| 6    | teen | 16   | boy  | 1    | 30   | 30   | \n",
       "| 7    | teen | 16   | boy  | 1    | 34   | 34   | \n",
       "\n",
       "\n"
      ],
      "text/plain": [
       "  id group age sex  week level imputed_level\n",
       "1 1  teen  17  girl 1    89    89           \n",
       "2 2  teen  16  boy  1     4     4           \n",
       "3 3  teen  17  boy  1    54    54           \n",
       "4 4  teen  16  boy  1    33    33           \n",
       "5 6  teen  16  boy  1    30    30           \n",
       "6 7  teen  16  boy  1    34    34           "
      ]
     },
     "metadata": {},
     "output_type": "display_data"
    }
   ],
   "source": [
    "AAdfLong_imputed <- AAdfLong %>% mutate(imputed_level = imputed_level)\n",
    "head(AAdfLong_imputed)"
   ]
  },
  {
   "cell_type": "code",
   "execution_count": 99,
   "metadata": {},
   "outputs": [
    {
     "data": {
      "text/html": [
       "<table>\n",
       "<thead><tr><th scope=col>id</th><th scope=col>group</th><th scope=col>age</th><th scope=col>sex</th><th scope=col>week</th><th scope=col>level</th></tr></thead>\n",
       "<tbody>\n",
       "\t<tr><td>4   </td><td>teen</td><td>16  </td><td>boy </td><td> 1  </td><td>33  </td></tr>\n",
       "\t<tr><td>4   </td><td>teen</td><td>16  </td><td>boy </td><td> 2  </td><td>NA  </td></tr>\n",
       "\t<tr><td>4   </td><td>teen</td><td>16  </td><td>boy </td><td> 8  </td><td>NA  </td></tr>\n",
       "\t<tr><td>4   </td><td>teen</td><td>16  </td><td>boy </td><td>16  </td><td>NA  </td></tr>\n",
       "</tbody>\n",
       "</table>\n"
      ],
      "text/latex": [
       "\\begin{tabular}{r|llllll}\n",
       " id & group & age & sex & week & level\\\\\n",
       "\\hline\n",
       "\t 4    & teen & 16   & boy  &  1   & 33  \\\\\n",
       "\t 4    & teen & 16   & boy  &  2   & NA  \\\\\n",
       "\t 4    & teen & 16   & boy  &  8   & NA  \\\\\n",
       "\t 4    & teen & 16   & boy  & 16   & NA  \\\\\n",
       "\\end{tabular}\n"
      ],
      "text/markdown": [
       "\n",
       "id | group | age | sex | week | level | \n",
       "|---|---|---|---|\n",
       "| 4    | teen | 16   | boy  |  1   | 33   | \n",
       "| 4    | teen | 16   | boy  |  2   | NA   | \n",
       "| 4    | teen | 16   | boy  |  8   | NA   | \n",
       "| 4    | teen | 16   | boy  | 16   | NA   | \n",
       "\n",
       "\n"
      ],
      "text/plain": [
       "  id group age sex week level\n",
       "1 4  teen  16  boy  1   33   \n",
       "2 4  teen  16  boy  2   NA   \n",
       "3 4  teen  16  boy  8   NA   \n",
       "4 4  teen  16  boy 16   NA   "
      ]
     },
     "metadata": {},
     "output_type": "display_data"
    },
    {
     "data": {
      "text/html": [
       "<table>\n",
       "<thead><tr><th scope=col>id</th><th scope=col>group</th><th scope=col>age</th><th scope=col>sex</th><th scope=col>week</th><th scope=col>level</th><th scope=col>imputed_level</th></tr></thead>\n",
       "<tbody>\n",
       "\t<tr><td>4        </td><td>teen     </td><td>16       </td><td>boy      </td><td> 1       </td><td>33       </td><td> 33.00000</td></tr>\n",
       "\t<tr><td>4        </td><td>teen     </td><td>16       </td><td>boy      </td><td> 2       </td><td>NA       </td><td> 75.55352</td></tr>\n",
       "\t<tr><td>4        </td><td>teen     </td><td>16       </td><td>boy      </td><td> 8       </td><td>NA       </td><td>101.55687</td></tr>\n",
       "\t<tr><td>4        </td><td>teen     </td><td>16       </td><td>boy      </td><td>16       </td><td>NA       </td><td>136.22800</td></tr>\n",
       "</tbody>\n",
       "</table>\n"
      ],
      "text/latex": [
       "\\begin{tabular}{r|lllllll}\n",
       " id & group & age & sex & week & level & imputed\\_level\\\\\n",
       "\\hline\n",
       "\t 4         & teen      & 16        & boy       &  1        & 33        &  33.00000\\\\\n",
       "\t 4         & teen      & 16        & boy       &  2        & NA        &  75.55352\\\\\n",
       "\t 4         & teen      & 16        & boy       &  8        & NA        & 101.55687\\\\\n",
       "\t 4         & teen      & 16        & boy       & 16        & NA        & 136.22800\\\\\n",
       "\\end{tabular}\n"
      ],
      "text/markdown": [
       "\n",
       "id | group | age | sex | week | level | imputed_level | \n",
       "|---|---|---|---|\n",
       "| 4         | teen      | 16        | boy       |  1        | 33        |  33.00000 | \n",
       "| 4         | teen      | 16        | boy       |  2        | NA        |  75.55352 | \n",
       "| 4         | teen      | 16        | boy       |  8        | NA        | 101.55687 | \n",
       "| 4         | teen      | 16        | boy       | 16        | NA        | 136.22800 | \n",
       "\n",
       "\n"
      ],
      "text/plain": [
       "  id group age sex week level imputed_level\n",
       "1 4  teen  16  boy  1   33     33.00000    \n",
       "2 4  teen  16  boy  2   NA     75.55352    \n",
       "3 4  teen  16  boy  8   NA    101.55687    \n",
       "4 4  teen  16  boy 16   NA    136.22800    "
      ]
     },
     "metadata": {},
     "output_type": "display_data"
    }
   ],
   "source": [
    "AAdfLong %>% filter(id == 4)\n",
    "AAdfLong_imputed %>% filter(id == 4)"
   ]
  },
  {
   "cell_type": "code",
   "execution_count": 100,
   "metadata": {},
   "outputs": [
    {
     "data": {
      "text/plain": [
       "Linear mixed model fit by REML ['lmerMod']\n",
       "Formula: imputed_level ~ sex + group + week + (1 | id)\n",
       "   Data: AAdfLong_imputed\n",
       "\n",
       "REML criterion at convergence: 2371.2\n",
       "\n",
       "Scaled residuals: \n",
       "    Min      1Q  Median      3Q     Max \n",
       "-3.5817 -0.4289  0.0125  0.3561  3.4176 \n",
       "\n",
       "Random effects:\n",
       " Groups   Name        Variance Std.Dev.\n",
       " id       (Intercept) 127.6    11.30   \n",
       " Residual             936.7    30.61   \n",
       "Number of obs: 244, groups:  id, 61\n",
       "\n",
       "Fixed effects:\n",
       "            Estimate Std. Error t value\n",
       "(Intercept)   55.775      5.026  11.098\n",
       "sexboy        13.745      5.014   2.741\n",
       "groupadult    -3.033      5.076  -0.598\n",
       "week           4.085      0.328  12.455\n",
       "\n",
       "Correlation of Fixed Effects:\n",
       "           (Intr) sexboy grpdlt\n",
       "sexboy     -0.647              \n",
       "groupadult -0.505  0.188       \n",
       "week       -0.441  0.000  0.000"
      ]
     },
     "metadata": {},
     "output_type": "display_data"
    },
    {
     "data": {
      "text/plain": [
       "Linear mixed model fit by REML ['lmerMod']\n",
       "Formula: level ~ sex + group + week + (1 | id)\n",
       "   Data: AAdfLong_imputed\n",
       "\n",
       "REML criterion at convergence: 1824.3\n",
       "\n",
       "Scaled residuals: \n",
       "     Min       1Q   Median       3Q      Max \n",
       "-3.08751 -0.52853 -0.02919  0.61700  2.87567 \n",
       "\n",
       "Random effects:\n",
       " Groups   Name        Variance Std.Dev.\n",
       " id       (Intercept)  215.4   14.68   \n",
       " Residual             1211.1   34.80   \n",
       "Number of obs: 183, groups:  id, 61\n",
       "\n",
       "Fixed effects:\n",
       "            Estimate Std. Error t value\n",
       "(Intercept)  56.3690     6.6255   8.508\n",
       "sexboy       13.1931     6.7666   1.950\n",
       "groupadult   -5.2495     6.8277  -0.769\n",
       "week          4.1004     0.4529   9.054\n",
       "\n",
       "Correlation of Fixed Effects:\n",
       "           (Intr) sexboy grpdlt\n",
       "sexboy     -0.686              \n",
       "groupadult -0.532  0.236       \n",
       "week       -0.354  0.001 -0.061"
      ]
     },
     "metadata": {},
     "output_type": "display_data"
    }
   ],
   "source": [
    "m1 <- lmer(level ~ sex + group + week + (1 | id), data=AAdfLong_imputed)\n",
    "m1_imputed <- lmer(imputed_level ~ sex + group + week + (1 | id), data=AAdfLong_imputed)\n",
    "summary(m1_imputed)\n",
    "summary(m1)"
   ]
  },
  {
   "cell_type": "code",
   "execution_count": 102,
   "metadata": {},
   "outputs": [
    {
     "data": {
      "text/plain": [
       "Linear mixed model fit by REML ['lmerMod']\n",
       "Formula: imputed_level ~ sex + week + (1 | id)\n",
       "   Data: AAdfLong_imputed\n",
       "\n",
       "REML criterion at convergence: 2376.6\n",
       "\n",
       "Scaled residuals: \n",
       "    Min      1Q  Median      3Q     Max \n",
       "-3.5556 -0.4423  0.0168  0.3690  3.4477 \n",
       "\n",
       "Random effects:\n",
       " Groups   Name        Variance Std.Dev.\n",
       " id       (Intercept) 123.7    11.12   \n",
       " Residual             936.7    30.61   \n",
       "Number of obs: 244, groups:  id, 61\n",
       "\n",
       "Fixed effects:\n",
       "            Estimate Std. Error t value\n",
       "(Intercept)   54.258      4.320  12.559\n",
       "sexboy        14.308      4.898   2.921\n",
       "week           4.085      0.328  12.455\n",
       "\n",
       "Correlation of Fixed Effects:\n",
       "       (Intr) sexboy\n",
       "sexboy -0.650       \n",
       "week   -0.512  0.000"
      ]
     },
     "metadata": {},
     "output_type": "display_data"
    },
    {
     "data": {
      "text/plain": [
       "Linear mixed model fit by REML ['lmerMod']\n",
       "Formula: level ~ sex + week + (1 | id)\n",
       "   Data: AAdfLong_imputed\n",
       "\n",
       "REML criterion at convergence: 1830.5\n",
       "\n",
       "Scaled residuals: \n",
       "    Min      1Q  Median      3Q     Max \n",
       "-3.0354 -0.5579 -0.0244  0.6202  2.9186 \n",
       "\n",
       "Random effects:\n",
       " Groups   Name        Variance Std.Dev.\n",
       " id       (Intercept)  204.5   14.30   \n",
       " Residual             1215.5   34.86   \n",
       "Number of obs: 183, groups:  id, 61\n",
       "\n",
       "Fixed effects:\n",
       "            Estimate Std. Error t value\n",
       "(Intercept)  53.6939     5.5755   9.630\n",
       "sexboy       14.3976     6.5221   2.208\n",
       "week          4.0794     0.4526   9.013\n",
       "\n",
       "Correlation of Fixed Effects:\n",
       "       (Intr) sexboy\n",
       "sexboy -0.680       \n",
       "week   -0.461  0.016"
      ]
     },
     "metadata": {},
     "output_type": "display_data"
    }
   ],
   "source": [
    "m2 <- lmer(level ~ sex + week +  (1 | id), data=AAdfLong_imputed)\n",
    "m2_imputed <- lmer(imputed_level ~ sex + week +  (1 | id), data=AAdfLong_imputed)\n",
    "summary(m2_imputed)\n",
    "summary(m2)"
   ]
  },
  {
   "cell_type": "code",
   "execution_count": 104,
   "metadata": {},
   "outputs": [
    {
     "data": {
      "text/plain": [
       "Linear mixed model fit by REML ['lmerMod']\n",
       "Formula: imputed_level ~ sex + week + sex:week + (1 | id)\n",
       "   Data: AAdfLong_imputed\n",
       "\n",
       "REML criterion at convergence: 2374.8\n",
       "\n",
       "Scaled residuals: \n",
       "    Min      1Q  Median      3Q     Max \n",
       "-3.4529 -0.4579  0.0443  0.3625  3.4853 \n",
       "\n",
       "Random effects:\n",
       " Groups   Name        Variance Std.Dev.\n",
       " id       (Intercept) 123.4    11.11   \n",
       " Residual             937.9    30.62   \n",
       "Number of obs: 244, groups:  id, 61\n",
       "\n",
       "Fixed effects:\n",
       "            Estimate Std. Error t value\n",
       "(Intercept)  56.5199     5.0276  11.242\n",
       "sexboy       10.3658     6.6373   1.562\n",
       "week          3.7499     0.5027   7.460\n",
       "sexboy:week   0.5840     0.6636   0.880\n",
       "\n",
       "Correlation of Fixed Effects:\n",
       "            (Intr) sexboy week  \n",
       "sexboy      -0.757              \n",
       "week        -0.675  0.511       \n",
       "sexboy:week  0.511 -0.675 -0.757"
      ]
     },
     "metadata": {},
     "output_type": "display_data"
    },
    {
     "data": {
      "text/plain": [
       "Linear mixed model fit by REML ['lmerMod']\n",
       "Formula: level ~ sex + week + sex:week + (1 | id)\n",
       "   Data: AAdfLong_imputed\n",
       "\n",
       "REML criterion at convergence: 1828.3\n",
       "\n",
       "Scaled residuals: \n",
       "     Min       1Q   Median       3Q      Max \n",
       "-2.91969 -0.56760 -0.02618  0.62104  2.93674 \n",
       "\n",
       "Random effects:\n",
       " Groups   Name        Variance Std.Dev.\n",
       " id       (Intercept)  208.8   14.45   \n",
       " Residual             1215.7   34.87   \n",
       "Number of obs: 183, groups:  id, 61\n",
       "\n",
       "Fixed effects:\n",
       "            Estimate Std. Error t value\n",
       "(Intercept)  55.8559     6.2726   8.905\n",
       "sexboy       10.5215     8.2838   1.270\n",
       "week          3.6964     0.6749   5.477\n",
       "sexboy:week   0.6964     0.9100   0.765\n",
       "\n",
       "Correlation of Fixed Effects:\n",
       "            (Intr) sexboy week  \n",
       "sexboy      -0.757              \n",
       "week        -0.611  0.463       \n",
       "sexboy:week  0.453 -0.613 -0.742"
      ]
     },
     "metadata": {},
     "output_type": "display_data"
    }
   ],
   "source": [
    "m3 <- lmer(level ~ sex + week +  sex:week + (1 | id), data=AAdfLong_imputed)\n",
    "m3_imputed <- lmer(imputed_level ~ sex + week + sex:week + (1 | id), data=AAdfLong_imputed)\n",
    "summary(m3_imputed)\n",
    "summary(m3)"
   ]
  },
  {
   "cell_type": "code",
   "execution_count": null,
   "metadata": {
    "collapsed": true
   },
   "outputs": [],
   "source": []
  }
 ],
 "metadata": {
  "kernelspec": {
   "display_name": "R 3.3",
   "language": "R",
   "name": "ir33"
  },
  "language_info": {
   "codemirror_mode": "r",
   "file_extension": ".r",
   "mimetype": "text/x-r-source",
   "name": "R",
   "pygments_lexer": "r",
   "version": "3.3.3"
  }
 },
 "nbformat": 4,
 "nbformat_minor": 2
}
