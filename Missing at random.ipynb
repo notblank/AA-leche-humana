{
 "cells": [
  {
   "cell_type": "code",
   "execution_count": 1,
   "metadata": {},
   "outputs": [
    {
     "name": "stderr",
     "output_type": "stream",
     "text": [
      "── \u001b[1mAttaching packages\u001b[22m ─────────────────────────────────────── tidyverse 1.2.1 ──\n",
      "\u001b[32m✔\u001b[39m \u001b[34mggplot2\u001b[39m 3.2.0     \u001b[32m✔\u001b[39m \u001b[34mpurrr  \u001b[39m 0.3.2\n",
      "\u001b[32m✔\u001b[39m \u001b[34mtibble \u001b[39m 2.1.3     \u001b[32m✔\u001b[39m \u001b[34mdplyr  \u001b[39m 0.8.2\n",
      "\u001b[32m✔\u001b[39m \u001b[34mtidyr  \u001b[39m 0.8.3     \u001b[32m✔\u001b[39m \u001b[34mstringr\u001b[39m 1.4.0\n",
      "\u001b[32m✔\u001b[39m \u001b[34mreadr  \u001b[39m 1.3.1     \u001b[32m✔\u001b[39m \u001b[34mforcats\u001b[39m 0.4.0\n",
      "── \u001b[1mConflicts\u001b[22m ────────────────────────────────────────── tidyverse_conflicts() ──\n",
      "\u001b[31m✖\u001b[39m \u001b[34mdplyr\u001b[39m::\u001b[32mfilter()\u001b[39m masks \u001b[34mstats\u001b[39m::filter()\n",
      "\u001b[31m✖\u001b[39m \u001b[34mdplyr\u001b[39m::\u001b[32mlag()\u001b[39m    masks \u001b[34mstats\u001b[39m::lag()\n",
      "Loading required package: Matrix\n",
      "\n",
      "Attaching package: ‘Matrix’\n",
      "\n",
      "The following object is masked from ‘package:tidyr’:\n",
      "\n",
      "    expand\n",
      "\n"
     ]
    }
   ],
   "source": [
    "library(haven)\n",
    "library(tidyverse)\n",
    "library(broom)\n",
    "library(lme4) "
   ]
  },
  {
   "cell_type": "markdown",
   "metadata": {},
   "source": [
    "# Missing at random"
   ]
  },
  {
   "cell_type": "code",
   "execution_count": 2,
   "metadata": {},
   "outputs": [
    {
     "data": {
      "text/html": [
       "<table>\n",
       "<caption>A data.frame: 6 × 9</caption>\n",
       "<thead>\n",
       "\t<tr><th scope=col>X</th><th scope=col>id</th><th scope=col>group</th><th scope=col>age</th><th scope=col>sex</th><th scope=col>weekNames</th><th scope=col>level</th><th scope=col>week</th><th scope=col>AA</th></tr>\n",
       "\t<tr><th scope=col>&lt;int&gt;</th><th scope=col>&lt;int&gt;</th><th scope=col>&lt;fct&gt;</th><th scope=col>&lt;int&gt;</th><th scope=col>&lt;fct&gt;</th><th scope=col>&lt;fct&gt;</th><th scope=col>&lt;int&gt;</th><th scope=col>&lt;int&gt;</th><th scope=col>&lt;fct&gt;</th></tr>\n",
       "</thead>\n",
       "<tbody>\n",
       "\t<tr><td>1</td><td>1</td><td>teen</td><td>17</td><td>girl</td><td>ARGCalostrum</td><td>1</td><td>1</td><td>ARG</td></tr>\n",
       "\t<tr><td>2</td><td>2</td><td>teen</td><td>16</td><td>boy </td><td>ARGCalostrum</td><td>1</td><td>1</td><td>ARG</td></tr>\n",
       "\t<tr><td>3</td><td>3</td><td>teen</td><td>17</td><td>boy </td><td>ARGCalostrum</td><td>1</td><td>1</td><td>ARG</td></tr>\n",
       "\t<tr><td>4</td><td>4</td><td>teen</td><td>16</td><td>boy </td><td>ARGCalostrum</td><td>1</td><td>1</td><td>ARG</td></tr>\n",
       "\t<tr><td>5</td><td>5</td><td>teen</td><td>16</td><td>NA  </td><td>ARGCalostrum</td><td>2</td><td>1</td><td>ARG</td></tr>\n",
       "\t<tr><td>6</td><td>6</td><td>teen</td><td>16</td><td>boy </td><td>ARGCalostrum</td><td>2</td><td>1</td><td>ARG</td></tr>\n",
       "</tbody>\n",
       "</table>\n"
      ],
      "text/latex": [
       "A data.frame: 6 × 9\n",
       "\\begin{tabular}{r|lllllllll}\n",
       " X & id & group & age & sex & weekNames & level & week & AA\\\\\n",
       " <int> & <int> & <fct> & <int> & <fct> & <fct> & <int> & <int> & <fct>\\\\\n",
       "\\hline\n",
       "\t 1 & 1 & teen & 17 & girl & ARGCalostrum & 1 & 1 & ARG\\\\\n",
       "\t 2 & 2 & teen & 16 & boy  & ARGCalostrum & 1 & 1 & ARG\\\\\n",
       "\t 3 & 3 & teen & 17 & boy  & ARGCalostrum & 1 & 1 & ARG\\\\\n",
       "\t 4 & 4 & teen & 16 & boy  & ARGCalostrum & 1 & 1 & ARG\\\\\n",
       "\t 5 & 5 & teen & 16 & NA   & ARGCalostrum & 2 & 1 & ARG\\\\\n",
       "\t 6 & 6 & teen & 16 & boy  & ARGCalostrum & 2 & 1 & ARG\\\\\n",
       "\\end{tabular}\n"
      ],
      "text/markdown": [
       "\n",
       "A data.frame: 6 × 9\n",
       "\n",
       "| X &lt;int&gt; | id &lt;int&gt; | group &lt;fct&gt; | age &lt;int&gt; | sex &lt;fct&gt; | weekNames &lt;fct&gt; | level &lt;int&gt; | week &lt;int&gt; | AA &lt;fct&gt; |\n",
       "|---|---|---|---|---|---|---|---|---|\n",
       "| 1 | 1 | teen | 17 | girl | ARGCalostrum | 1 | 1 | ARG |\n",
       "| 2 | 2 | teen | 16 | boy  | ARGCalostrum | 1 | 1 | ARG |\n",
       "| 3 | 3 | teen | 17 | boy  | ARGCalostrum | 1 | 1 | ARG |\n",
       "| 4 | 4 | teen | 16 | boy  | ARGCalostrum | 1 | 1 | ARG |\n",
       "| 5 | 5 | teen | 16 | NA   | ARGCalostrum | 2 | 1 | ARG |\n",
       "| 6 | 6 | teen | 16 | boy  | ARGCalostrum | 2 | 1 | ARG |\n",
       "\n"
      ],
      "text/plain": [
       "  X id group age sex  weekNames    level week AA \n",
       "1 1 1  teen  17  girl ARGCalostrum 1     1    ARG\n",
       "2 2 2  teen  16  boy  ARGCalostrum 1     1    ARG\n",
       "3 3 3  teen  17  boy  ARGCalostrum 1     1    ARG\n",
       "4 4 4  teen  16  boy  ARGCalostrum 1     1    ARG\n",
       "5 5 5  teen  16  NA   ARGCalostrum 2     1    ARG\n",
       "6 6 6  teen  16  boy  ARGCalostrum 2     1    ARG"
      ]
     },
     "metadata": {},
     "output_type": "display_data"
    },
    {
     "data": {
      "text/html": [
       "<table>\n",
       "<caption>A data.frame: 6 × 8</caption>\n",
       "<thead>\n",
       "\t<tr><th scope=col>X</th><th scope=col>id</th><th scope=col>group</th><th scope=col>momAge</th><th scope=col>sex</th><th scope=col>momHeight</th><th scope=col>momWeight</th><th scope=col>BMI</th></tr>\n",
       "\t<tr><th scope=col>&lt;int&gt;</th><th scope=col>&lt;int&gt;</th><th scope=col>&lt;fct&gt;</th><th scope=col>&lt;int&gt;</th><th scope=col>&lt;fct&gt;</th><th scope=col>&lt;dbl&gt;</th><th scope=col>&lt;dbl&gt;</th><th scope=col>&lt;dbl&gt;</th></tr>\n",
       "</thead>\n",
       "<tbody>\n",
       "\t<tr><td>1</td><td>1</td><td>teen</td><td>17</td><td>girl</td><td>1.48</td><td>54.4</td><td>24.84</td></tr>\n",
       "\t<tr><td>2</td><td>2</td><td>teen</td><td>16</td><td>boy </td><td>1.52</td><td>74.7</td><td>32.33</td></tr>\n",
       "\t<tr><td>3</td><td>3</td><td>teen</td><td>17</td><td>boy </td><td>1.55</td><td>56.4</td><td>23.48</td></tr>\n",
       "\t<tr><td>4</td><td>4</td><td>teen</td><td>16</td><td>boy </td><td>1.60</td><td>65.9</td><td>25.74</td></tr>\n",
       "\t<tr><td>5</td><td>5</td><td>teen</td><td>16</td><td>NA  </td><td>1.51</td><td>56.5</td><td>24.78</td></tr>\n",
       "\t<tr><td>6</td><td>6</td><td>teen</td><td>16</td><td>boy </td><td>1.57</td><td>71.2</td><td>28.89</td></tr>\n",
       "</tbody>\n",
       "</table>\n"
      ],
      "text/latex": [
       "A data.frame: 6 × 8\n",
       "\\begin{tabular}{r|llllllll}\n",
       " X & id & group & momAge & sex & momHeight & momWeight & BMI\\\\\n",
       " <int> & <int> & <fct> & <int> & <fct> & <dbl> & <dbl> & <dbl>\\\\\n",
       "\\hline\n",
       "\t 1 & 1 & teen & 17 & girl & 1.48 & 54.4 & 24.84\\\\\n",
       "\t 2 & 2 & teen & 16 & boy  & 1.52 & 74.7 & 32.33\\\\\n",
       "\t 3 & 3 & teen & 17 & boy  & 1.55 & 56.4 & 23.48\\\\\n",
       "\t 4 & 4 & teen & 16 & boy  & 1.60 & 65.9 & 25.74\\\\\n",
       "\t 5 & 5 & teen & 16 & NA   & 1.51 & 56.5 & 24.78\\\\\n",
       "\t 6 & 6 & teen & 16 & boy  & 1.57 & 71.2 & 28.89\\\\\n",
       "\\end{tabular}\n"
      ],
      "text/markdown": [
       "\n",
       "A data.frame: 6 × 8\n",
       "\n",
       "| X &lt;int&gt; | id &lt;int&gt; | group &lt;fct&gt; | momAge &lt;int&gt; | sex &lt;fct&gt; | momHeight &lt;dbl&gt; | momWeight &lt;dbl&gt; | BMI &lt;dbl&gt; |\n",
       "|---|---|---|---|---|---|---|---|\n",
       "| 1 | 1 | teen | 17 | girl | 1.48 | 54.4 | 24.84 |\n",
       "| 2 | 2 | teen | 16 | boy  | 1.52 | 74.7 | 32.33 |\n",
       "| 3 | 3 | teen | 17 | boy  | 1.55 | 56.4 | 23.48 |\n",
       "| 4 | 4 | teen | 16 | boy  | 1.60 | 65.9 | 25.74 |\n",
       "| 5 | 5 | teen | 16 | NA   | 1.51 | 56.5 | 24.78 |\n",
       "| 6 | 6 | teen | 16 | boy  | 1.57 | 71.2 | 28.89 |\n",
       "\n"
      ],
      "text/plain": [
       "  X id group momAge sex  momHeight momWeight BMI  \n",
       "1 1 1  teen  17     girl 1.48      54.4      24.84\n",
       "2 2 2  teen  16     boy  1.52      74.7      32.33\n",
       "3 3 3  teen  17     boy  1.55      56.4      23.48\n",
       "4 4 4  teen  16     boy  1.60      65.9      25.74\n",
       "5 5 5  teen  16     NA   1.51      56.5      24.78\n",
       "6 6 6  teen  16     boy  1.57      71.2      28.89"
      ]
     },
     "metadata": {},
     "output_type": "display_data"
    }
   ],
   "source": [
    "AA_E_Long <- read.csv('./datos/AA_E_Long.csv')\n",
    "AA_NE_Long <- read.csv('./datos/AA_NE_Long.csv')\n",
    "\n",
    "moms <- read.csv('./datos/moms.csv')\n",
    "\n",
    "head(AA_NE_Long)\n",
    "head(moms)"
   ]
  },
  {
   "cell_type": "code",
   "execution_count": 3,
   "metadata": {},
   "outputs": [],
   "source": [
    "weightLong <- read.csv('./datos/weightLong.csv')\n",
    "headCLong <-read.csv('./datos/headCLong.csv')"
   ]
  },
  {
   "cell_type": "code",
   "execution_count": 4,
   "metadata": {},
   "outputs": [
    {
     "data": {
      "text/html": [
       "<table>\n",
       "<caption>A data.frame: 6 × 10</caption>\n",
       "<thead>\n",
       "\t<tr><th scope=col>X</th><th scope=col>id</th><th scope=col>group</th><th scope=col>age</th><th scope=col>sex</th><th scope=col>weekNames</th><th scope=col>level</th><th scope=col>week</th><th scope=col>AA</th><th scope=col>missing data</th></tr>\n",
       "\t<tr><th scope=col>&lt;int&gt;</th><th scope=col>&lt;int&gt;</th><th scope=col>&lt;fct&gt;</th><th scope=col>&lt;int&gt;</th><th scope=col>&lt;fct&gt;</th><th scope=col>&lt;fct&gt;</th><th scope=col>&lt;int&gt;</th><th scope=col>&lt;int&gt;</th><th scope=col>&lt;fct&gt;</th><th scope=col>&lt;dbl&gt;</th></tr>\n",
       "</thead>\n",
       "<tbody>\n",
       "\t<tr><td>1</td><td>1</td><td>teen</td><td>17</td><td>girl</td><td>ARGCalostrum</td><td>1</td><td>1</td><td>ARG</td><td>0</td></tr>\n",
       "\t<tr><td>2</td><td>2</td><td>teen</td><td>16</td><td>boy </td><td>ARGCalostrum</td><td>1</td><td>1</td><td>ARG</td><td>0</td></tr>\n",
       "\t<tr><td>3</td><td>3</td><td>teen</td><td>17</td><td>boy </td><td>ARGCalostrum</td><td>1</td><td>1</td><td>ARG</td><td>0</td></tr>\n",
       "\t<tr><td>4</td><td>4</td><td>teen</td><td>16</td><td>boy </td><td>ARGCalostrum</td><td>1</td><td>1</td><td>ARG</td><td>0</td></tr>\n",
       "\t<tr><td>5</td><td>5</td><td>teen</td><td>16</td><td>NA  </td><td>ARGCalostrum</td><td>2</td><td>1</td><td>ARG</td><td>0</td></tr>\n",
       "\t<tr><td>6</td><td>6</td><td>teen</td><td>16</td><td>boy </td><td>ARGCalostrum</td><td>2</td><td>1</td><td>ARG</td><td>0</td></tr>\n",
       "</tbody>\n",
       "</table>\n"
      ],
      "text/latex": [
       "A data.frame: 6 × 10\n",
       "\\begin{tabular}{r|llllllllll}\n",
       " X & id & group & age & sex & weekNames & level & week & AA & missing data\\\\\n",
       " <int> & <int> & <fct> & <int> & <fct> & <fct> & <int> & <int> & <fct> & <dbl>\\\\\n",
       "\\hline\n",
       "\t 1 & 1 & teen & 17 & girl & ARGCalostrum & 1 & 1 & ARG & 0\\\\\n",
       "\t 2 & 2 & teen & 16 & boy  & ARGCalostrum & 1 & 1 & ARG & 0\\\\\n",
       "\t 3 & 3 & teen & 17 & boy  & ARGCalostrum & 1 & 1 & ARG & 0\\\\\n",
       "\t 4 & 4 & teen & 16 & boy  & ARGCalostrum & 1 & 1 & ARG & 0\\\\\n",
       "\t 5 & 5 & teen & 16 & NA   & ARGCalostrum & 2 & 1 & ARG & 0\\\\\n",
       "\t 6 & 6 & teen & 16 & boy  & ARGCalostrum & 2 & 1 & ARG & 0\\\\\n",
       "\\end{tabular}\n"
      ],
      "text/markdown": [
       "\n",
       "A data.frame: 6 × 10\n",
       "\n",
       "| X &lt;int&gt; | id &lt;int&gt; | group &lt;fct&gt; | age &lt;int&gt; | sex &lt;fct&gt; | weekNames &lt;fct&gt; | level &lt;int&gt; | week &lt;int&gt; | AA &lt;fct&gt; | missing data &lt;dbl&gt; |\n",
       "|---|---|---|---|---|---|---|---|---|---|\n",
       "| 1 | 1 | teen | 17 | girl | ARGCalostrum | 1 | 1 | ARG | 0 |\n",
       "| 2 | 2 | teen | 16 | boy  | ARGCalostrum | 1 | 1 | ARG | 0 |\n",
       "| 3 | 3 | teen | 17 | boy  | ARGCalostrum | 1 | 1 | ARG | 0 |\n",
       "| 4 | 4 | teen | 16 | boy  | ARGCalostrum | 1 | 1 | ARG | 0 |\n",
       "| 5 | 5 | teen | 16 | NA   | ARGCalostrum | 2 | 1 | ARG | 0 |\n",
       "| 6 | 6 | teen | 16 | boy  | ARGCalostrum | 2 | 1 | ARG | 0 |\n",
       "\n"
      ],
      "text/plain": [
       "  X id group age sex  weekNames    level week AA  missing data\n",
       "1 1 1  teen  17  girl ARGCalostrum 1     1    ARG 0           \n",
       "2 2 2  teen  16  boy  ARGCalostrum 1     1    ARG 0           \n",
       "3 3 3  teen  17  boy  ARGCalostrum 1     1    ARG 0           \n",
       "4 4 4  teen  16  boy  ARGCalostrum 1     1    ARG 0           \n",
       "5 5 5  teen  16  NA   ARGCalostrum 2     1    ARG 0           \n",
       "6 6 6  teen  16  boy  ARGCalostrum 2     1    ARG 0           "
      ]
     },
     "metadata": {},
     "output_type": "display_data"
    }
   ],
   "source": [
    "missingData <- AA_NE_Long %>% mutate(`missing data` = ifelse(is.na(level), 1, 0))\n",
    "head(missingData)"
   ]
  },
  {
   "cell_type": "markdown",
   "metadata": {},
   "source": [
    "There is not a clear distinction between patients with missing data patients and patients without:"
   ]
  },
  {
   "cell_type": "code",
   "execution_count": 5,
   "metadata": {},
   "outputs": [
    {
     "name": "stderr",
     "output_type": "stream",
     "text": [
      "Warning message:\n",
      "“Factor `sex` contains implicit NA, consider using `forcats::fct_explicit_na`”"
     ]
    },
    {
     "data": {
      "text/html": [
       "<table>\n",
       "<caption>A grouped_df: 6 × 6</caption>\n",
       "<thead>\n",
       "\t<tr><th scope=col>id</th><th scope=col>sex</th><th scope=col>age</th><th scope=col>week</th><th scope=col>AA</th><th scope=col>miss</th></tr>\n",
       "\t<tr><th scope=col>&lt;int&gt;</th><th scope=col>&lt;fct&gt;</th><th scope=col>&lt;int&gt;</th><th scope=col>&lt;int&gt;</th><th scope=col>&lt;fct&gt;</th><th scope=col>&lt;dbl&gt;</th></tr>\n",
       "</thead>\n",
       "<tbody>\n",
       "\t<tr><td>1</td><td>girl</td><td>17</td><td>1</td><td>ALA</td><td>0</td></tr>\n",
       "\t<tr><td>1</td><td>girl</td><td>17</td><td>1</td><td>ARG</td><td>0</td></tr>\n",
       "\t<tr><td>1</td><td>girl</td><td>17</td><td>1</td><td>ASN</td><td>0</td></tr>\n",
       "\t<tr><td>1</td><td>girl</td><td>17</td><td>1</td><td>ASP</td><td>0</td></tr>\n",
       "\t<tr><td>1</td><td>girl</td><td>17</td><td>1</td><td>CYS</td><td>0</td></tr>\n",
       "\t<tr><td>1</td><td>girl</td><td>17</td><td>1</td><td>GLN</td><td>0</td></tr>\n",
       "</tbody>\n",
       "</table>\n"
      ],
      "text/latex": [
       "A grouped_df: 6 × 6\n",
       "\\begin{tabular}{r|llllll}\n",
       " id & sex & age & week & AA & miss\\\\\n",
       " <int> & <fct> & <int> & <int> & <fct> & <dbl>\\\\\n",
       "\\hline\n",
       "\t 1 & girl & 17 & 1 & ALA & 0\\\\\n",
       "\t 1 & girl & 17 & 1 & ARG & 0\\\\\n",
       "\t 1 & girl & 17 & 1 & ASN & 0\\\\\n",
       "\t 1 & girl & 17 & 1 & ASP & 0\\\\\n",
       "\t 1 & girl & 17 & 1 & CYS & 0\\\\\n",
       "\t 1 & girl & 17 & 1 & GLN & 0\\\\\n",
       "\\end{tabular}\n"
      ],
      "text/markdown": [
       "\n",
       "A grouped_df: 6 × 6\n",
       "\n",
       "| id &lt;int&gt; | sex &lt;fct&gt; | age &lt;int&gt; | week &lt;int&gt; | AA &lt;fct&gt; | miss &lt;dbl&gt; |\n",
       "|---|---|---|---|---|---|\n",
       "| 1 | girl | 17 | 1 | ALA | 0 |\n",
       "| 1 | girl | 17 | 1 | ARG | 0 |\n",
       "| 1 | girl | 17 | 1 | ASN | 0 |\n",
       "| 1 | girl | 17 | 1 | ASP | 0 |\n",
       "| 1 | girl | 17 | 1 | CYS | 0 |\n",
       "| 1 | girl | 17 | 1 | GLN | 0 |\n",
       "\n"
      ],
      "text/plain": [
       "  id sex  age week AA  miss\n",
       "1 1  girl 17  1    ALA 0   \n",
       "2 1  girl 17  1    ARG 0   \n",
       "3 1  girl 17  1    ASN 0   \n",
       "4 1  girl 17  1    ASP 0   \n",
       "5 1  girl 17  1    CYS 0   \n",
       "6 1  girl 17  1    GLN 0   "
      ]
     },
     "metadata": {},
     "output_type": "display_data"
    }
   ],
   "source": [
    "numNA <- missingData %>% group_by(id, sex, age, week, AA) %>% summarise(miss = sum(`missing data`))\n",
    "head(numNA)"
   ]
  },
  {
   "cell_type": "code",
   "execution_count": 6,
   "metadata": {},
   "outputs": [
    {
     "data": {
      "text/html": [
       "<table>\n",
       "<caption>A tibble: 2 × 2</caption>\n",
       "<thead>\n",
       "\t<tr><th scope=col>complete</th><th scope=col>n()</th></tr>\n",
       "\t<tr><th scope=col>&lt;chr&gt;</th><th scope=col>&lt;int&gt;</th></tr>\n",
       "</thead>\n",
       "<tbody>\n",
       "\t<tr><td>no </td><td>32</td></tr>\n",
       "\t<tr><td>yes</td><td>29</td></tr>\n",
       "</tbody>\n",
       "</table>\n"
      ],
      "text/latex": [
       "A tibble: 2 × 2\n",
       "\\begin{tabular}{r|ll}\n",
       " complete & n()\\\\\n",
       " <chr> & <int>\\\\\n",
       "\\hline\n",
       "\t no  & 32\\\\\n",
       "\t yes & 29\\\\\n",
       "\\end{tabular}\n"
      ],
      "text/markdown": [
       "\n",
       "A tibble: 2 × 2\n",
       "\n",
       "| complete &lt;chr&gt; | n() &lt;int&gt; |\n",
       "|---|---|\n",
       "| no  | 32 |\n",
       "| yes | 29 |\n",
       "\n"
      ],
      "text/plain": [
       "  complete n()\n",
       "1 no       32 \n",
       "2 yes      29 "
      ]
     },
     "metadata": {},
     "output_type": "display_data"
    }
   ],
   "source": [
    "numNA_CI <- numNA %>% filter(!is.na(sex)) %>% group_by(id, sex, age, AA) %>% \n",
    "                    summarise(total_miss = sum(miss)) %>% filter(AA == 'GLU') %>%\n",
    "                    mutate(complete = ifelse(total_miss == 0, 'yes', 'no'))\n",
    "\n",
    "numNA_CI %>% group_by(complete) %>% summarise(n())"
   ]
  },
  {
   "cell_type": "code",
   "execution_count": 7,
   "metadata": {},
   "outputs": [
    {
     "data": {
      "text/html": [
       "<table>\n",
       "<caption>A grouped_df: 4 × 3</caption>\n",
       "<thead>\n",
       "\t<tr><th scope=col>complete</th><th scope=col>sex</th><th scope=col>n()</th></tr>\n",
       "\t<tr><th scope=col>&lt;chr&gt;</th><th scope=col>&lt;fct&gt;</th><th scope=col>&lt;int&gt;</th></tr>\n",
       "</thead>\n",
       "<tbody>\n",
       "\t<tr><td>no </td><td>boy </td><td>19</td></tr>\n",
       "\t<tr><td>no </td><td>girl</td><td>13</td></tr>\n",
       "\t<tr><td>yes</td><td>boy </td><td>16</td></tr>\n",
       "\t<tr><td>yes</td><td>girl</td><td>13</td></tr>\n",
       "</tbody>\n",
       "</table>\n"
      ],
      "text/latex": [
       "A grouped_df: 4 × 3\n",
       "\\begin{tabular}{r|lll}\n",
       " complete & sex & n()\\\\\n",
       " <chr> & <fct> & <int>\\\\\n",
       "\\hline\n",
       "\t no  & boy  & 19\\\\\n",
       "\t no  & girl & 13\\\\\n",
       "\t yes & boy  & 16\\\\\n",
       "\t yes & girl & 13\\\\\n",
       "\\end{tabular}\n"
      ],
      "text/markdown": [
       "\n",
       "A grouped_df: 4 × 3\n",
       "\n",
       "| complete &lt;chr&gt; | sex &lt;fct&gt; | n() &lt;int&gt; |\n",
       "|---|---|---|\n",
       "| no  | boy  | 19 |\n",
       "| no  | girl | 13 |\n",
       "| yes | boy  | 16 |\n",
       "| yes | girl | 13 |\n",
       "\n"
      ],
      "text/plain": [
       "  complete sex  n()\n",
       "1 no       boy  19 \n",
       "2 no       girl 13 \n",
       "3 yes      boy  16 \n",
       "4 yes      girl 13 "
      ]
     },
     "metadata": {},
     "output_type": "display_data"
    }
   ],
   "source": [
    "numNA_CI %>% group_by(complete, sex) %>% summarise(n())"
   ]
  },
  {
   "cell_type": "code",
   "execution_count": 8,
   "metadata": {},
   "outputs": [],
   "source": [
    "completeMising <- numNA %>% filter(!is.na(sex)) %>% group_by(id, sex, age, week, AA) %>% \n",
    "                    summarise(total_miss = sum(miss)) %>% \n",
    "                    filter(AA == 'GLU') %>%\n",
    "                    mutate(complete = ifelse(total_miss == 0, 'yes', 'no'))\n",
    "\n",
    "weekSexNA <- completeMising %>%\n",
    "                    group_by(complete, week, sex) %>% summarise(total = n())"
   ]
  },
  {
   "cell_type": "markdown",
   "metadata": {},
   "source": [
    "## Characteristics for mothers with complete and incomplete data"
   ]
  },
  {
   "cell_type": "code",
   "execution_count": 9,
   "metadata": {},
   "outputs": [
    {
     "data": {
      "text/html": [
       "<ol class=list-inline>\n",
       "\t<li>3</li>\n",
       "\t<li>4</li>\n",
       "\t<li>9</li>\n",
       "\t<li>10</li>\n",
       "\t<li>11</li>\n",
       "\t<li>12</li>\n",
       "\t<li>16</li>\n",
       "\t<li>17</li>\n",
       "\t<li>18</li>\n",
       "\t<li>19</li>\n",
       "\t<li>21</li>\n",
       "\t<li>22</li>\n",
       "\t<li>24</li>\n",
       "\t<li>25</li>\n",
       "\t<li>26</li>\n",
       "\t<li>29</li>\n",
       "\t<li>33</li>\n",
       "\t<li>34</li>\n",
       "\t<li>35</li>\n",
       "\t<li>36</li>\n",
       "\t<li>38</li>\n",
       "\t<li>45</li>\n",
       "\t<li>46</li>\n",
       "\t<li>47</li>\n",
       "\t<li>48</li>\n",
       "\t<li>49</li>\n",
       "\t<li>50</li>\n",
       "\t<li>51</li>\n",
       "\t<li>59</li>\n",
       "\t<li>65</li>\n",
       "\t<li>66</li>\n",
       "\t<li>67</li>\n",
       "</ol>\n"
      ],
      "text/latex": [
       "\\begin{enumerate*}\n",
       "\\item 3\n",
       "\\item 4\n",
       "\\item 9\n",
       "\\item 10\n",
       "\\item 11\n",
       "\\item 12\n",
       "\\item 16\n",
       "\\item 17\n",
       "\\item 18\n",
       "\\item 19\n",
       "\\item 21\n",
       "\\item 22\n",
       "\\item 24\n",
       "\\item 25\n",
       "\\item 26\n",
       "\\item 29\n",
       "\\item 33\n",
       "\\item 34\n",
       "\\item 35\n",
       "\\item 36\n",
       "\\item 38\n",
       "\\item 45\n",
       "\\item 46\n",
       "\\item 47\n",
       "\\item 48\n",
       "\\item 49\n",
       "\\item 50\n",
       "\\item 51\n",
       "\\item 59\n",
       "\\item 65\n",
       "\\item 66\n",
       "\\item 67\n",
       "\\end{enumerate*}\n"
      ],
      "text/markdown": [
       "1. 3\n",
       "2. 4\n",
       "3. 9\n",
       "4. 10\n",
       "5. 11\n",
       "6. 12\n",
       "7. 16\n",
       "8. 17\n",
       "9. 18\n",
       "10. 19\n",
       "11. 21\n",
       "12. 22\n",
       "13. 24\n",
       "14. 25\n",
       "15. 26\n",
       "16. 29\n",
       "17. 33\n",
       "18. 34\n",
       "19. 35\n",
       "20. 36\n",
       "21. 38\n",
       "22. 45\n",
       "23. 46\n",
       "24. 47\n",
       "25. 48\n",
       "26. 49\n",
       "27. 50\n",
       "28. 51\n",
       "29. 59\n",
       "30. 65\n",
       "31. 66\n",
       "32. 67\n",
       "\n",
       "\n"
      ],
      "text/plain": [
       " [1]  3  4  9 10 11 12 16 17 18 19 21 22 24 25 26 29 33 34 35 36 38 45 46 47 48\n",
       "[26] 49 50 51 59 65 66 67"
      ]
     },
     "metadata": {},
     "output_type": "display_data"
    }
   ],
   "source": [
    "df_incomplete <- completeMising %>% filter(complete == 'no') %>% group_by(id) %>% summarise(mean(total_miss))\n",
    "id_incomplete <- df_incomplete$id\n",
    "id_incomplete"
   ]
  },
  {
   "cell_type": "code",
   "execution_count": 10,
   "metadata": {},
   "outputs": [],
   "source": [
    "moms_complete <- moms %>% mutate(complete = ifelse(id %in% id_incomplete, 'no', 'yes'))"
   ]
  },
  {
   "cell_type": "code",
   "execution_count": 11,
   "metadata": {},
   "outputs": [
    {
     "data": {
      "text/html": [
       "<table>\n",
       "<caption>A tibble: 2 × 7</caption>\n",
       "<thead>\n",
       "\t<tr><th scope=col>complete</th><th scope=col>age</th><th scope=col>sdAge</th><th scope=col>height</th><th scope=col>sdHeight</th><th scope=col>weight</th><th scope=col>sdWeight</th></tr>\n",
       "\t<tr><th scope=col>&lt;chr&gt;</th><th scope=col>&lt;dbl&gt;</th><th scope=col>&lt;dbl&gt;</th><th scope=col>&lt;dbl&gt;</th><th scope=col>&lt;dbl&gt;</th><th scope=col>&lt;dbl&gt;</th><th scope=col>&lt;dbl&gt;</th></tr>\n",
       "</thead>\n",
       "<tbody>\n",
       "\t<tr><td>no </td><td>18.0</td><td>5.6</td><td>1.6</td><td>0.2</td><td>59.5</td><td>14.4</td></tr>\n",
       "\t<tr><td>yes</td><td>18.7</td><td>6.2</td><td>1.5</td><td>0.2</td><td>59.4</td><td>19.8</td></tr>\n",
       "</tbody>\n",
       "</table>\n"
      ],
      "text/latex": [
       "A tibble: 2 × 7\n",
       "\\begin{tabular}{r|lllllll}\n",
       " complete & age & sdAge & height & sdHeight & weight & sdWeight\\\\\n",
       " <chr> & <dbl> & <dbl> & <dbl> & <dbl> & <dbl> & <dbl>\\\\\n",
       "\\hline\n",
       "\t no  & 18.0 & 5.6 & 1.6 & 0.2 & 59.5 & 14.4\\\\\n",
       "\t yes & 18.7 & 6.2 & 1.5 & 0.2 & 59.4 & 19.8\\\\\n",
       "\\end{tabular}\n"
      ],
      "text/markdown": [
       "\n",
       "A tibble: 2 × 7\n",
       "\n",
       "| complete &lt;chr&gt; | age &lt;dbl&gt; | sdAge &lt;dbl&gt; | height &lt;dbl&gt; | sdHeight &lt;dbl&gt; | weight &lt;dbl&gt; | sdWeight &lt;dbl&gt; |\n",
       "|---|---|---|---|---|---|---|\n",
       "| no  | 18.0 | 5.6 | 1.6 | 0.2 | 59.5 | 14.4 |\n",
       "| yes | 18.7 | 6.2 | 1.5 | 0.2 | 59.4 | 19.8 |\n",
       "\n"
      ],
      "text/plain": [
       "  complete age  sdAge height sdHeight weight sdWeight\n",
       "1 no       18.0 5.6   1.6    0.2      59.5   14.4    \n",
       "2 yes      18.7 6.2   1.5    0.2      59.4   19.8    "
      ]
     },
     "metadata": {},
     "output_type": "display_data"
    }
   ],
   "source": [
    "moms_complete %>% group_by(complete) %>% \n",
    "    summarise(age = round(mean(momAge), 1), sdAge = 2*round(sd(momAge), 1), \n",
    "              height = round(mean(momHeight, na.rm = T), 1), sdHeight = 2*round(sd(momHeight, na.rm = T), 1),\n",
    "              weight = round(mean(momWeight, na.rm = T), 1), sdWeight = 2*round(sd(momWeight, na.rm = T), 1))"
   ]
  },
  {
   "cell_type": "markdown",
   "metadata": {},
   "source": [
    "## Weigth and Head Circumference for babies with complete and incomplete data"
   ]
  },
  {
   "cell_type": "code",
   "execution_count": 12,
   "metadata": {},
   "outputs": [
    {
     "data": {
      "text/html": [
       "<table>\n",
       "<caption>A data.frame: 6 × 8</caption>\n",
       "<thead>\n",
       "\t<tr><th scope=col>X</th><th scope=col>id</th><th scope=col>group</th><th scope=col>sex</th><th scope=col>weekNames</th><th scope=col>weight</th><th scope=col>week</th><th scope=col>complete</th></tr>\n",
       "\t<tr><th scope=col>&lt;int&gt;</th><th scope=col>&lt;int&gt;</th><th scope=col>&lt;fct&gt;</th><th scope=col>&lt;fct&gt;</th><th scope=col>&lt;fct&gt;</th><th scope=col>&lt;dbl&gt;</th><th scope=col>&lt;int&gt;</th><th scope=col>&lt;chr&gt;</th></tr>\n",
       "</thead>\n",
       "<tbody>\n",
       "\t<tr><td>1</td><td>1</td><td>teen</td><td>girl</td><td>BABYWeigth1g</td><td>3492.7</td><td>1</td><td>yes</td></tr>\n",
       "\t<tr><td>2</td><td>2</td><td>teen</td><td>boy </td><td>BABYWeigth1g</td><td>3392.9</td><td>1</td><td>yes</td></tr>\n",
       "\t<tr><td>3</td><td>3</td><td>teen</td><td>boy </td><td>BABYWeigth1g</td><td>2993.8</td><td>1</td><td>no </td></tr>\n",
       "\t<tr><td>4</td><td>4</td><td>teen</td><td>boy </td><td>BABYWeigth1g</td><td>3692.3</td><td>1</td><td>no </td></tr>\n",
       "\t<tr><td>5</td><td>5</td><td>teen</td><td>NA  </td><td>BABYWeigth1g</td><td>3592.5</td><td>1</td><td>yes</td></tr>\n",
       "\t<tr><td>6</td><td>6</td><td>teen</td><td>boy </td><td>BABYWeigth1g</td><td>3093.5</td><td>1</td><td>yes</td></tr>\n",
       "</tbody>\n",
       "</table>\n"
      ],
      "text/latex": [
       "A data.frame: 6 × 8\n",
       "\\begin{tabular}{r|llllllll}\n",
       " X & id & group & sex & weekNames & weight & week & complete\\\\\n",
       " <int> & <int> & <fct> & <fct> & <fct> & <dbl> & <int> & <chr>\\\\\n",
       "\\hline\n",
       "\t 1 & 1 & teen & girl & BABYWeigth1g & 3492.7 & 1 & yes\\\\\n",
       "\t 2 & 2 & teen & boy  & BABYWeigth1g & 3392.9 & 1 & yes\\\\\n",
       "\t 3 & 3 & teen & boy  & BABYWeigth1g & 2993.8 & 1 & no \\\\\n",
       "\t 4 & 4 & teen & boy  & BABYWeigth1g & 3692.3 & 1 & no \\\\\n",
       "\t 5 & 5 & teen & NA   & BABYWeigth1g & 3592.5 & 1 & yes\\\\\n",
       "\t 6 & 6 & teen & boy  & BABYWeigth1g & 3093.5 & 1 & yes\\\\\n",
       "\\end{tabular}\n"
      ],
      "text/markdown": [
       "\n",
       "A data.frame: 6 × 8\n",
       "\n",
       "| X &lt;int&gt; | id &lt;int&gt; | group &lt;fct&gt; | sex &lt;fct&gt; | weekNames &lt;fct&gt; | weight &lt;dbl&gt; | week &lt;int&gt; | complete &lt;chr&gt; |\n",
       "|---|---|---|---|---|---|---|---|\n",
       "| 1 | 1 | teen | girl | BABYWeigth1g | 3492.7 | 1 | yes |\n",
       "| 2 | 2 | teen | boy  | BABYWeigth1g | 3392.9 | 1 | yes |\n",
       "| 3 | 3 | teen | boy  | BABYWeigth1g | 2993.8 | 1 | no  |\n",
       "| 4 | 4 | teen | boy  | BABYWeigth1g | 3692.3 | 1 | no  |\n",
       "| 5 | 5 | teen | NA   | BABYWeigth1g | 3592.5 | 1 | yes |\n",
       "| 6 | 6 | teen | boy  | BABYWeigth1g | 3093.5 | 1 | yes |\n",
       "\n"
      ],
      "text/plain": [
       "  X id group sex  weekNames    weight week complete\n",
       "1 1 1  teen  girl BABYWeigth1g 3492.7 1    yes     \n",
       "2 2 2  teen  boy  BABYWeigth1g 3392.9 1    yes     \n",
       "3 3 3  teen  boy  BABYWeigth1g 2993.8 1    no      \n",
       "4 4 4  teen  boy  BABYWeigth1g 3692.3 1    no      \n",
       "5 5 5  teen  NA   BABYWeigth1g 3592.5 1    yes     \n",
       "6 6 6  teen  boy  BABYWeigth1g 3093.5 1    yes     "
      ]
     },
     "metadata": {},
     "output_type": "display_data"
    },
    {
     "data": {
      "text/html": [
       "<table>\n",
       "<caption>A data.frame: 6 × 8</caption>\n",
       "<thead>\n",
       "\t<tr><th scope=col>X</th><th scope=col>id</th><th scope=col>group</th><th scope=col>sex</th><th scope=col>weekNames</th><th scope=col>head</th><th scope=col>week</th><th scope=col>complete</th></tr>\n",
       "\t<tr><th scope=col>&lt;int&gt;</th><th scope=col>&lt;int&gt;</th><th scope=col>&lt;fct&gt;</th><th scope=col>&lt;fct&gt;</th><th scope=col>&lt;fct&gt;</th><th scope=col>&lt;int&gt;</th><th scope=col>&lt;int&gt;</th><th scope=col>&lt;chr&gt;</th></tr>\n",
       "</thead>\n",
       "<tbody>\n",
       "\t<tr><td>1</td><td>1</td><td>teen</td><td>girl</td><td>HeadCircumcm1</td><td>34</td><td>1</td><td>yes</td></tr>\n",
       "\t<tr><td>2</td><td>2</td><td>teen</td><td>boy </td><td>HeadCircumcm1</td><td>35</td><td>1</td><td>yes</td></tr>\n",
       "\t<tr><td>3</td><td>3</td><td>teen</td><td>boy </td><td>HeadCircumcm1</td><td>35</td><td>1</td><td>no </td></tr>\n",
       "\t<tr><td>4</td><td>4</td><td>teen</td><td>boy </td><td>HeadCircumcm1</td><td>37</td><td>1</td><td>no </td></tr>\n",
       "\t<tr><td>5</td><td>5</td><td>teen</td><td>NA  </td><td>HeadCircumcm1</td><td>34</td><td>1</td><td>yes</td></tr>\n",
       "\t<tr><td>6</td><td>6</td><td>teen</td><td>boy </td><td>HeadCircumcm1</td><td>35</td><td>1</td><td>yes</td></tr>\n",
       "</tbody>\n",
       "</table>\n"
      ],
      "text/latex": [
       "A data.frame: 6 × 8\n",
       "\\begin{tabular}{r|llllllll}\n",
       " X & id & group & sex & weekNames & head & week & complete\\\\\n",
       " <int> & <int> & <fct> & <fct> & <fct> & <int> & <int> & <chr>\\\\\n",
       "\\hline\n",
       "\t 1 & 1 & teen & girl & HeadCircumcm1 & 34 & 1 & yes\\\\\n",
       "\t 2 & 2 & teen & boy  & HeadCircumcm1 & 35 & 1 & yes\\\\\n",
       "\t 3 & 3 & teen & boy  & HeadCircumcm1 & 35 & 1 & no \\\\\n",
       "\t 4 & 4 & teen & boy  & HeadCircumcm1 & 37 & 1 & no \\\\\n",
       "\t 5 & 5 & teen & NA   & HeadCircumcm1 & 34 & 1 & yes\\\\\n",
       "\t 6 & 6 & teen & boy  & HeadCircumcm1 & 35 & 1 & yes\\\\\n",
       "\\end{tabular}\n"
      ],
      "text/markdown": [
       "\n",
       "A data.frame: 6 × 8\n",
       "\n",
       "| X &lt;int&gt; | id &lt;int&gt; | group &lt;fct&gt; | sex &lt;fct&gt; | weekNames &lt;fct&gt; | head &lt;int&gt; | week &lt;int&gt; | complete &lt;chr&gt; |\n",
       "|---|---|---|---|---|---|---|---|\n",
       "| 1 | 1 | teen | girl | HeadCircumcm1 | 34 | 1 | yes |\n",
       "| 2 | 2 | teen | boy  | HeadCircumcm1 | 35 | 1 | yes |\n",
       "| 3 | 3 | teen | boy  | HeadCircumcm1 | 35 | 1 | no  |\n",
       "| 4 | 4 | teen | boy  | HeadCircumcm1 | 37 | 1 | no  |\n",
       "| 5 | 5 | teen | NA   | HeadCircumcm1 | 34 | 1 | yes |\n",
       "| 6 | 6 | teen | boy  | HeadCircumcm1 | 35 | 1 | yes |\n",
       "\n"
      ],
      "text/plain": [
       "  X id group sex  weekNames     head week complete\n",
       "1 1 1  teen  girl HeadCircumcm1 34   1    yes     \n",
       "2 2 2  teen  boy  HeadCircumcm1 35   1    yes     \n",
       "3 3 3  teen  boy  HeadCircumcm1 35   1    no      \n",
       "4 4 4  teen  boy  HeadCircumcm1 37   1    no      \n",
       "5 5 5  teen  NA   HeadCircumcm1 34   1    yes     \n",
       "6 6 6  teen  boy  HeadCircumcm1 35   1    yes     "
      ]
     },
     "metadata": {},
     "output_type": "display_data"
    }
   ],
   "source": [
    "weightLongComplete <- weightLong %>% mutate(complete = ifelse(id %in% id_incomplete, 'no', 'yes'))\n",
    "headCLongComplete <- headCLong %>% mutate(complete = ifelse(id %in% id_incomplete, 'no', 'yes'))\n",
    "\n",
    "head(weightLongComplete)\n",
    "head(headCLongComplete)"
   ]
  },
  {
   "cell_type": "code",
   "execution_count": 13,
   "metadata": {},
   "outputs": [
    {
     "data": {
      "text/html": [
       "<table>\n",
       "<caption>A tibble: 2 × 3</caption>\n",
       "<thead>\n",
       "\t<tr><th scope=col>complete</th><th scope=col>weightMean</th><th scope=col>weightSd</th></tr>\n",
       "\t<tr><th scope=col>&lt;chr&gt;</th><th scope=col>&lt;dbl&gt;</th><th scope=col>&lt;dbl&gt;</th></tr>\n",
       "</thead>\n",
       "<tbody>\n",
       "\t<tr><td>no </td><td>3366.23</td><td>700.09</td></tr>\n",
       "\t<tr><td>yes</td><td>3148.01</td><td>421.78</td></tr>\n",
       "</tbody>\n",
       "</table>\n"
      ],
      "text/latex": [
       "A tibble: 2 × 3\n",
       "\\begin{tabular}{r|lll}\n",
       " complete & weightMean & weightSd\\\\\n",
       " <chr> & <dbl> & <dbl>\\\\\n",
       "\\hline\n",
       "\t no  & 3366.23 & 700.09\\\\\n",
       "\t yes & 3148.01 & 421.78\\\\\n",
       "\\end{tabular}\n"
      ],
      "text/markdown": [
       "\n",
       "A tibble: 2 × 3\n",
       "\n",
       "| complete &lt;chr&gt; | weightMean &lt;dbl&gt; | weightSd &lt;dbl&gt; |\n",
       "|---|---|---|\n",
       "| no  | 3366.23 | 700.09 |\n",
       "| yes | 3148.01 | 421.78 |\n",
       "\n"
      ],
      "text/plain": [
       "  complete weightMean weightSd\n",
       "1 no       3366.23    700.09  \n",
       "2 yes      3148.01    421.78  "
      ]
     },
     "metadata": {},
     "output_type": "display_data"
    }
   ],
   "source": [
    "weightLongComplete %>% filter(!is.na(sex), week == 1) %>% group_by(complete) %>%\n",
    "                    summarise(weightMean = round(mean(weight, na.rm = T), 2), \n",
    "                              weightSd = round(sd(weight, na.rm = T), 2))"
   ]
  },
  {
   "cell_type": "code",
   "execution_count": 14,
   "metadata": {},
   "outputs": [
    {
     "data": {
      "text/html": [
       "<table>\n",
       "<caption>A tibble: 2 × 3</caption>\n",
       "<thead>\n",
       "\t<tr><th scope=col>complete</th><th scope=col>headMean</th><th scope=col>headSd</th></tr>\n",
       "\t<tr><th scope=col>&lt;chr&gt;</th><th scope=col>&lt;dbl&gt;</th><th scope=col>&lt;dbl&gt;</th></tr>\n",
       "</thead>\n",
       "<tbody>\n",
       "\t<tr><td>no </td><td>33.85</td><td>1.46</td></tr>\n",
       "\t<tr><td>yes</td><td>33.65</td><td>0.88</td></tr>\n",
       "</tbody>\n",
       "</table>\n"
      ],
      "text/latex": [
       "A tibble: 2 × 3\n",
       "\\begin{tabular}{r|lll}\n",
       " complete & headMean & headSd\\\\\n",
       " <chr> & <dbl> & <dbl>\\\\\n",
       "\\hline\n",
       "\t no  & 33.85 & 1.46\\\\\n",
       "\t yes & 33.65 & 0.88\\\\\n",
       "\\end{tabular}\n"
      ],
      "text/markdown": [
       "\n",
       "A tibble: 2 × 3\n",
       "\n",
       "| complete &lt;chr&gt; | headMean &lt;dbl&gt; | headSd &lt;dbl&gt; |\n",
       "|---|---|---|\n",
       "| no  | 33.85 | 1.46 |\n",
       "| yes | 33.65 | 0.88 |\n",
       "\n"
      ],
      "text/plain": [
       "  complete headMean headSd\n",
       "1 no       33.85    1.46  \n",
       "2 yes      33.65    0.88  "
      ]
     },
     "metadata": {},
     "output_type": "display_data"
    }
   ],
   "source": [
    "headCLongComplete %>% filter(!is.na(sex), week == 1) %>% group_by(complete) %>%\n",
    "                    summarise(headMean = round(mean(head, na.rm = T), 2),\n",
    "                              headSd = round(sd(head, na.rm = T), 2))"
   ]
  },
  {
   "cell_type": "markdown",
   "metadata": {},
   "source": [
    "### Sex distribution for patients with missing data and without by week:"
   ]
  },
  {
   "cell_type": "code",
   "execution_count": 15,
   "metadata": {},
   "outputs": [
    {
     "name": "stderr",
     "output_type": "stream",
     "text": [
      "Adding missing grouping variables: `week`\n"
     ]
    },
    {
     "data": {
      "text/html": [
       "<table>\n",
       "<caption>A grouped_df: 1 × 4</caption>\n",
       "<thead>\n",
       "\t<tr><th scope=col>week</th><th scope=col>complete</th><th scope=col>boy</th><th scope=col>girl</th></tr>\n",
       "\t<tr><th scope=col>&lt;int&gt;</th><th scope=col>&lt;chr&gt;</th><th scope=col>&lt;int&gt;</th><th scope=col>&lt;int&gt;</th></tr>\n",
       "</thead>\n",
       "<tbody>\n",
       "\t<tr><td>1</td><td>yes</td><td>35</td><td>26</td></tr>\n",
       "</tbody>\n",
       "</table>\n"
      ],
      "text/latex": [
       "A grouped_df: 1 × 4\n",
       "\\begin{tabular}{r|llll}\n",
       " week & complete & boy & girl\\\\\n",
       " <int> & <chr> & <int> & <int>\\\\\n",
       "\\hline\n",
       "\t 1 & yes & 35 & 26\\\\\n",
       "\\end{tabular}\n"
      ],
      "text/markdown": [
       "\n",
       "A grouped_df: 1 × 4\n",
       "\n",
       "| week &lt;int&gt; | complete &lt;chr&gt; | boy &lt;int&gt; | girl &lt;int&gt; |\n",
       "|---|---|---|---|\n",
       "| 1 | yes | 35 | 26 |\n",
       "\n"
      ],
      "text/plain": [
       "  week complete boy girl\n",
       "1 1    yes      35  26  "
      ]
     },
     "metadata": {},
     "output_type": "display_data"
    },
    {
     "name": "stderr",
     "output_type": "stream",
     "text": [
      "Adding missing grouping variables: `week`\n"
     ]
    },
    {
     "data": {
      "text/html": [
       "<table>\n",
       "<caption>A grouped_df: 2 × 4</caption>\n",
       "<thead>\n",
       "\t<tr><th scope=col>week</th><th scope=col>complete</th><th scope=col>boy</th><th scope=col>girl</th></tr>\n",
       "\t<tr><th scope=col>&lt;int&gt;</th><th scope=col>&lt;chr&gt;</th><th scope=col>&lt;int&gt;</th><th scope=col>&lt;int&gt;</th></tr>\n",
       "</thead>\n",
       "<tbody>\n",
       "\t<tr><td>2</td><td>no </td><td> 8</td><td> 6</td></tr>\n",
       "\t<tr><td>2</td><td>yes</td><td>27</td><td>20</td></tr>\n",
       "</tbody>\n",
       "</table>\n"
      ],
      "text/latex": [
       "A grouped_df: 2 × 4\n",
       "\\begin{tabular}{r|llll}\n",
       " week & complete & boy & girl\\\\\n",
       " <int> & <chr> & <int> & <int>\\\\\n",
       "\\hline\n",
       "\t 2 & no  &  8 &  6\\\\\n",
       "\t 2 & yes & 27 & 20\\\\\n",
       "\\end{tabular}\n"
      ],
      "text/markdown": [
       "\n",
       "A grouped_df: 2 × 4\n",
       "\n",
       "| week &lt;int&gt; | complete &lt;chr&gt; | boy &lt;int&gt; | girl &lt;int&gt; |\n",
       "|---|---|---|---|\n",
       "| 2 | no  |  8 |  6 |\n",
       "| 2 | yes | 27 | 20 |\n",
       "\n"
      ],
      "text/plain": [
       "  week complete boy girl\n",
       "1 2    no        8   6  \n",
       "2 2    yes      27  20  "
      ]
     },
     "metadata": {},
     "output_type": "display_data"
    },
    {
     "name": "stderr",
     "output_type": "stream",
     "text": [
      "Adding missing grouping variables: `week`\n"
     ]
    },
    {
     "data": {
      "text/html": [
       "<table>\n",
       "<caption>A grouped_df: 2 × 4</caption>\n",
       "<thead>\n",
       "\t<tr><th scope=col>week</th><th scope=col>complete</th><th scope=col>boy</th><th scope=col>girl</th></tr>\n",
       "\t<tr><th scope=col>&lt;int&gt;</th><th scope=col>&lt;chr&gt;</th><th scope=col>&lt;int&gt;</th><th scope=col>&lt;int&gt;</th></tr>\n",
       "</thead>\n",
       "<tbody>\n",
       "\t<tr><td>8</td><td>no </td><td>12</td><td>11</td></tr>\n",
       "\t<tr><td>8</td><td>yes</td><td>23</td><td>15</td></tr>\n",
       "</tbody>\n",
       "</table>\n"
      ],
      "text/latex": [
       "A grouped_df: 2 × 4\n",
       "\\begin{tabular}{r|llll}\n",
       " week & complete & boy & girl\\\\\n",
       " <int> & <chr> & <int> & <int>\\\\\n",
       "\\hline\n",
       "\t 8 & no  & 12 & 11\\\\\n",
       "\t 8 & yes & 23 & 15\\\\\n",
       "\\end{tabular}\n"
      ],
      "text/markdown": [
       "\n",
       "A grouped_df: 2 × 4\n",
       "\n",
       "| week &lt;int&gt; | complete &lt;chr&gt; | boy &lt;int&gt; | girl &lt;int&gt; |\n",
       "|---|---|---|---|\n",
       "| 8 | no  | 12 | 11 |\n",
       "| 8 | yes | 23 | 15 |\n",
       "\n"
      ],
      "text/plain": [
       "  week complete boy girl\n",
       "1 8    no       12  11  \n",
       "2 8    yes      23  15  "
      ]
     },
     "metadata": {},
     "output_type": "display_data"
    },
    {
     "name": "stderr",
     "output_type": "stream",
     "text": [
      "Adding missing grouping variables: `week`\n"
     ]
    },
    {
     "data": {
      "text/html": [
       "<table>\n",
       "<caption>A grouped_df: 2 × 4</caption>\n",
       "<thead>\n",
       "\t<tr><th scope=col>week</th><th scope=col>complete</th><th scope=col>boy</th><th scope=col>girl</th></tr>\n",
       "\t<tr><th scope=col>&lt;int&gt;</th><th scope=col>&lt;chr&gt;</th><th scope=col>&lt;int&gt;</th><th scope=col>&lt;int&gt;</th></tr>\n",
       "</thead>\n",
       "<tbody>\n",
       "\t<tr><td>16</td><td>no </td><td>15</td><td> 9</td></tr>\n",
       "\t<tr><td>16</td><td>yes</td><td>20</td><td>17</td></tr>\n",
       "</tbody>\n",
       "</table>\n"
      ],
      "text/latex": [
       "A grouped_df: 2 × 4\n",
       "\\begin{tabular}{r|llll}\n",
       " week & complete & boy & girl\\\\\n",
       " <int> & <chr> & <int> & <int>\\\\\n",
       "\\hline\n",
       "\t 16 & no  & 15 &  9\\\\\n",
       "\t 16 & yes & 20 & 17\\\\\n",
       "\\end{tabular}\n"
      ],
      "text/markdown": [
       "\n",
       "A grouped_df: 2 × 4\n",
       "\n",
       "| week &lt;int&gt; | complete &lt;chr&gt; | boy &lt;int&gt; | girl &lt;int&gt; |\n",
       "|---|---|---|---|\n",
       "| 16 | no  | 15 |  9 |\n",
       "| 16 | yes | 20 | 17 |\n",
       "\n"
      ],
      "text/plain": [
       "  week complete boy girl\n",
       "1 16   no       15   9  \n",
       "2 16   yes      20  17  "
      ]
     },
     "metadata": {},
     "output_type": "display_data"
    }
   ],
   "source": [
    "weekSexNA %>% spread(sex, total) %>% filter(week == 1) %>% select(-week)\n",
    "weekSexNA %>% spread(sex, total) %>% filter(week == 2) %>% select(-week)\n",
    "weekSexNA %>% spread(sex, total) %>% filter(week == 8) %>% select(-week)\n",
    "weekSexNA %>% spread(sex, total) %>% filter(week == 16) %>% select(-week)"
   ]
  },
  {
   "cell_type": "code",
   "execution_count": 16,
   "metadata": {},
   "outputs": [
    {
     "data": {
      "text/html": [
       "<table>\n",
       "<caption>A grouped_df: 4 × 3</caption>\n",
       "<thead>\n",
       "\t<tr><th scope=col>week</th><th scope=col>no</th><th scope=col>yes</th></tr>\n",
       "\t<tr><th scope=col>&lt;int&gt;</th><th scope=col>&lt;dbl&gt;</th><th scope=col>&lt;dbl&gt;</th></tr>\n",
       "</thead>\n",
       "<tbody>\n",
       "\t<tr><td> 1</td><td>  NA</td><td>0.57</td></tr>\n",
       "\t<tr><td> 2</td><td>0.57</td><td>0.57</td></tr>\n",
       "\t<tr><td> 8</td><td>0.52</td><td>0.61</td></tr>\n",
       "\t<tr><td>16</td><td>0.62</td><td>0.54</td></tr>\n",
       "</tbody>\n",
       "</table>\n"
      ],
      "text/latex": [
       "A grouped_df: 4 × 3\n",
       "\\begin{tabular}{r|lll}\n",
       " week & no & yes\\\\\n",
       " <int> & <dbl> & <dbl>\\\\\n",
       "\\hline\n",
       "\t  1 &   NA & 0.57\\\\\n",
       "\t  2 & 0.57 & 0.57\\\\\n",
       "\t  8 & 0.52 & 0.61\\\\\n",
       "\t 16 & 0.62 & 0.54\\\\\n",
       "\\end{tabular}\n"
      ],
      "text/markdown": [
       "\n",
       "A grouped_df: 4 × 3\n",
       "\n",
       "| week &lt;int&gt; | no &lt;dbl&gt; | yes &lt;dbl&gt; |\n",
       "|---|---|---|\n",
       "|  1 |   NA | 0.57 |\n",
       "|  2 | 0.57 | 0.57 |\n",
       "|  8 | 0.52 | 0.61 |\n",
       "| 16 | 0.62 | 0.54 |\n",
       "\n"
      ],
      "text/plain": [
       "  week no   yes \n",
       "1  1     NA 0.57\n",
       "2  2   0.57 0.57\n",
       "3  8   0.52 0.61\n",
       "4 16   0.62 0.54"
      ]
     },
     "metadata": {},
     "output_type": "display_data"
    }
   ],
   "source": [
    "weekSexPlot <- weekSexNA %>% spread(sex, total) %>% mutate(proportion = round(boy/(boy + girl), 2)) %>%\n",
    "                    select(complete, proportion, week) %>% spread(complete, proportion)\n",
    "\n",
    "weekSexPlot"
   ]
  },
  {
   "cell_type": "code",
   "execution_count": 17,
   "metadata": {},
   "outputs": [],
   "source": [
    "# Score statistic:\n",
    "# p0 - p1 / sqrt(p(1 - p)(1/n0 + 1/n1))\n",
    "\n",
    "scoreTestStat <- function(p0, p1, n0, n1, n0_S, n1_S){\n",
    "    \"\n",
    "    Compare two binomials Bin(n0, p0) and Bin(n1, p1).\n",
    "    \n",
    "    Under H0: p0 = p1, TS is approx N(0, 1).\n",
    "\n",
    "    inputs:\n",
    "        pi = probability of success for variable i.\n",
    "        ni = number of trials for variable i.\n",
    "        ni_S = number of succesful trials for variable i.\n",
    "    \"\n",
    "\n",
    "    p <- (n0_S + n1_S) / (n0 + n1)\n",
    "    TS <- (p0 - p1) / sqrt( p*(1 - p)*(1/n0 + 1/n1))\n",
    "    \n",
    "    return(TS)\n",
    "}"
   ]
  },
  {
   "cell_type": "code",
   "execution_count": 18,
   "metadata": {},
   "outputs": [
    {
     "data": {
      "text/html": [
       "-0.688878208984133"
      ],
      "text/latex": [
       "-0.688878208984133"
      ],
      "text/markdown": [
       "-0.688878208984133"
      ],
      "text/plain": [
       "[1] -0.6888782"
      ]
     },
     "metadata": {},
     "output_type": "display_data"
    },
    {
     "data": {
      "text/html": [
       "0.617220996274234"
      ],
      "text/latex": [
       "0.617220996274234"
      ],
      "text/markdown": [
       "0.617220996274234"
      ],
      "text/plain": [
       "[1] 0.617221"
      ]
     },
     "metadata": {},
     "output_type": "display_data"
    }
   ],
   "source": [
    "#week 8:\n",
    "scoreTestStat(p0 =0.52, p1 = 0.61, n0 = 23, n1 = 38, n0_S = 12, n1_S = 23)\n",
    "#week 16:\n",
    "scoreTestStat(p0 =0.62, p1 = 0.54, n0 = 24, n1 = 37, n0_S = 15, n1_S = 20)"
   ]
  },
  {
   "cell_type": "code",
   "execution_count": 19,
   "metadata": {},
   "outputs": [
    {
     "data": {
      "text/html": [
       "0.50285779019062"
      ],
      "text/latex": [
       "0.50285779019062"
      ],
      "text/markdown": [
       "0.50285779019062"
      ],
      "text/plain": [
       "[1] 0.5028578"
      ]
     },
     "metadata": {},
     "output_type": "display_data"
    },
    {
     "data": {
      "text/html": [
       "0.535257786937966"
      ],
      "text/latex": [
       "0.535257786937966"
      ],
      "text/markdown": [
       "0.535257786937966"
      ],
      "text/plain": [
       "[1] 0.5352578"
      ]
     },
     "metadata": {},
     "output_type": "display_data"
    }
   ],
   "source": [
    "1 - pnorm(q = 0.67, mean = 0, sd = 1) + pnorm(q = -0.67, mean = 0, sd = 1)\n",
    "1 - pnorm(q = 0.62, mean = 0, sd = 1) + pnorm(q = -0.62, mean = 0, sd = 1)"
   ]
  },
  {
   "cell_type": "code",
   "execution_count": 20,
   "metadata": {},
   "outputs": [
    {
     "data": {
      "text/plain": [
       "\n",
       "\tFisher's Exact Test for Count Data\n",
       "\n",
       "data:  rbind(c(12, 23 - 12), c(23, 38 - 23))\n",
       "p-value = 0.598\n",
       "alternative hypothesis: true odds ratio is not equal to 1\n",
       "95 percent confidence interval:\n",
       " 0.2209799 2.3049276\n",
       "sample estimates:\n",
       "odds ratio \n",
       " 0.7155006 \n"
      ]
     },
     "metadata": {},
     "output_type": "display_data"
    },
    {
     "data": {
      "text/plain": [
       "\n",
       "\tFisher's Exact Test for Count Data\n",
       "\n",
       "data:  rbind(c(15, 24 - 15), c(20, 37 - 20))\n",
       "p-value = 0.6008\n",
       "alternative hypothesis: true odds ratio is not equal to 1\n",
       "95 percent confidence interval:\n",
       " 0.441436 4.660701\n",
       "sample estimates:\n",
       "odds ratio \n",
       "  1.408597 \n"
      ]
     },
     "metadata": {},
     "output_type": "display_data"
    }
   ],
   "source": [
    "# week 8:\n",
    "fisher.test(rbind(c(12, 23-12), c(23, 38-23)))\n",
    "# week 16:\n",
    "fisher.test(rbind(c(15, 24-15), c(20, 37-20)))"
   ]
  },
  {
   "cell_type": "markdown",
   "metadata": {},
   "source": [
    "### The number of observations per week is bigger than 37"
   ]
  },
  {
   "cell_type": "code",
   "execution_count": 21,
   "metadata": {},
   "outputs": [
    {
     "data": {
      "text/html": [
       "<table>\n",
       "<caption>A tibble: 4 × 2</caption>\n",
       "<thead>\n",
       "\t<tr><th scope=col>week</th><th scope=col>n_obs</th></tr>\n",
       "\t<tr><th scope=col>&lt;int&gt;</th><th scope=col>&lt;int&gt;</th></tr>\n",
       "</thead>\n",
       "<tbody>\n",
       "\t<tr><td> 1</td><td>61</td></tr>\n",
       "\t<tr><td> 2</td><td>47</td></tr>\n",
       "\t<tr><td> 8</td><td>38</td></tr>\n",
       "\t<tr><td>16</td><td>37</td></tr>\n",
       "</tbody>\n",
       "</table>\n"
      ],
      "text/latex": [
       "A tibble: 4 × 2\n",
       "\\begin{tabular}{r|ll}\n",
       " week & n\\_obs\\\\\n",
       " <int> & <int>\\\\\n",
       "\\hline\n",
       "\t  1 & 61\\\\\n",
       "\t  2 & 47\\\\\n",
       "\t  8 & 38\\\\\n",
       "\t 16 & 37\\\\\n",
       "\\end{tabular}\n"
      ],
      "text/markdown": [
       "\n",
       "A tibble: 4 × 2\n",
       "\n",
       "| week &lt;int&gt; | n_obs &lt;int&gt; |\n",
       "|---|---|\n",
       "|  1 | 61 |\n",
       "|  2 | 47 |\n",
       "|  8 | 38 |\n",
       "| 16 | 37 |\n",
       "\n"
      ],
      "text/plain": [
       "  week n_obs\n",
       "1  1   61   \n",
       "2  2   47   \n",
       "3  8   38   \n",
       "4 16   37   "
      ]
     },
     "metadata": {},
     "output_type": "display_data"
    }
   ],
   "source": [
    "AA_NE_Long %>% filter(!is.na(sex), !is.na(level), AA == 'GLU') %>% group_by(week) %>% summarise(n_obs = n())"
   ]
  },
  {
   "cell_type": "code",
   "execution_count": null,
   "metadata": {},
   "outputs": [],
   "source": []
  }
 ],
 "metadata": {
  "kernelspec": {
   "display_name": "R",
   "language": "R",
   "name": "ir"
  },
  "language_info": {
   "codemirror_mode": "r",
   "file_extension": ".r",
   "mimetype": "text/x-r-source",
   "name": "R",
   "pygments_lexer": "r",
   "version": "3.6.0"
  }
 },
 "nbformat": 4,
 "nbformat_minor": 2
}
