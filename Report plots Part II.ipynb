{
 "cells": [
  {
   "cell_type": "code",
   "execution_count": 1,
   "metadata": {},
   "outputs": [
    {
     "name": "stderr",
     "output_type": "stream",
     "text": [
      "Loading tidyverse: ggplot2\n",
      "Loading tidyverse: tibble\n",
      "Loading tidyverse: tidyr\n",
      "Loading tidyverse: readr\n",
      "Loading tidyverse: purrr\n",
      "Loading tidyverse: dplyr\n",
      "Conflicts with tidy packages ---------------------------------------------------\n",
      "filter(): dplyr, stats\n",
      "lag():    dplyr, stats\n",
      "Loading required package: Matrix\n",
      "\n",
      "Attaching package: 'Matrix'\n",
      "\n",
      "The following object is masked from 'package:tidyr':\n",
      "\n",
      "    expand\n",
      "\n"
     ]
    }
   ],
   "source": [
    "library(haven)\n",
    "library(tidyverse)\n",
    "library(broom)\n",
    "library(lme4) \n",
    "library(latex2exp)"
   ]
  },
  {
   "cell_type": "code",
   "execution_count": 2,
   "metadata": {},
   "outputs": [
    {
     "data": {
      "text/html": [
       "<table>\n",
       "<thead><tr><th scope=col>ID</th><th scope=col>GROUP</th><th scope=col>MATERNALAGE</th><th scope=col>SEXO</th><th scope=col>INFANTDOB</th><th scope=col>MATBMI1COLL</th><th scope=col>MATBMI215d</th><th scope=col>MATBMI32mos</th><th scope=col>MATBMI44mos</th><th scope=col>BABYWeigth1g</th><th scope=col>...</th><th scope=col>ALAGLOB</th><th scope=col>ASNGLOB</th><th scope=col>SYSGLOB</th><th scope=col>GLYGLOB</th><th scope=col>GLUGLOB</th><th scope=col>GLNGLOB</th><th scope=col>PROLINEGLOB</th><th scope=col>SERINEGLOB</th><th scope=col>TYRAMINEGLOB</th><th scope=col>new</th></tr></thead>\n",
       "<tbody>\n",
       "\t<tr><td>1         </td><td>0         </td><td>17        </td><td> 1        </td><td>2009-08-20</td><td>25        </td><td>24        </td><td>24        </td><td>22        </td><td>3492.7    </td><td>...       </td><td>21.25     </td><td>0.5       </td><td>1.00      </td><td>10.00     </td><td> 87.25    </td><td>23.25     </td><td>2.75      </td><td>8.0       </td><td>1.00      </td><td>0         </td></tr>\n",
       "\t<tr><td>2         </td><td>0         </td><td>16        </td><td> 2        </td><td>2009-08-24</td><td>32        </td><td>31        </td><td>30        </td><td>29        </td><td>3392.9    </td><td>...       </td><td>18.25     </td><td>0.0       </td><td>0.75      </td><td>13.75     </td><td>100.50    </td><td>40.50     </td><td>2.50      </td><td>9.5       </td><td>0.75      </td><td>0         </td></tr>\n",
       "\t<tr><td>3         </td><td>0         </td><td>17        </td><td> 2        </td><td>2009-08-21</td><td>23        </td><td>23        </td><td>NA        </td><td>NA        </td><td>2993.8    </td><td>...       </td><td>   NA     </td><td> NA       </td><td>  NA      </td><td>   NA     </td><td>    NA    </td><td>   NA     </td><td>  NA      </td><td> NA       </td><td>  NA      </td><td>0         </td></tr>\n",
       "\t<tr><td>4         </td><td>0         </td><td>16        </td><td> 2        </td><td>2009-08-21</td><td>26        </td><td>NA        </td><td>NA        </td><td>NA        </td><td>3692.3    </td><td>...       </td><td>   NA     </td><td> NA       </td><td>  NA      </td><td>   NA     </td><td>    NA    </td><td>   NA     </td><td>  NA      </td><td> NA       </td><td>  NA      </td><td>0         </td></tr>\n",
       "\t<tr><td>5         </td><td>0         </td><td>16        </td><td>NA        </td><td>2009-08-29</td><td>25        </td><td>NA        </td><td>NA        </td><td>NA        </td><td>3592.5    </td><td>...       </td><td>   NA     </td><td> NA       </td><td>  NA      </td><td>   NA     </td><td>    NA    </td><td>   NA     </td><td>  NA      </td><td> NA       </td><td>  NA      </td><td>0         </td></tr>\n",
       "\t<tr><td>6         </td><td>0         </td><td>16        </td><td> 2        </td><td>2009-08-27</td><td>29        </td><td>28        </td><td>30        </td><td>31        </td><td>3093.5    </td><td>...       </td><td>15.50     </td><td>0.5       </td><td>1.50      </td><td>10.25     </td><td> 74.75    </td><td>30.00     </td><td>5.25      </td><td>8.0       </td><td>2.00      </td><td>0         </td></tr>\n",
       "</tbody>\n",
       "</table>\n"
      ],
      "text/latex": [
       "\\begin{tabular}{r|lllllllllllllllllllllllllllllllllllllllllllllllllllllllllllllllllllllllllllllllllllllllllllllllllllllllllllllllllllllllllllllllllllllllllllllllllllllllllllllllllllllllllll}\n",
       " ID & GROUP & MATERNALAGE & SEXO & INFANTDOB & MATBMI1COLL & MATBMI215d & MATBMI32mos & MATBMI44mos & BABYWeigth1g & ... & ALAGLOB & ASNGLOB & SYSGLOB & GLYGLOB & GLUGLOB & GLNGLOB & PROLINEGLOB & SERINEGLOB & TYRAMINEGLOB & new\\\\\n",
       "\\hline\n",
       "\t 1          & 0          & 17         &  1         & 2009-08-20 & 25         & 24         & 24         & 22         & 3492.7     & ...        & 21.25      & 0.5        & 1.00       & 10.00      &  87.25     & 23.25      & 2.75       & 8.0        & 1.00       & 0         \\\\\n",
       "\t 2          & 0          & 16         &  2         & 2009-08-24 & 32         & 31         & 30         & 29         & 3392.9     & ...        & 18.25      & 0.0        & 0.75       & 13.75      & 100.50     & 40.50      & 2.50       & 9.5        & 0.75       & 0         \\\\\n",
       "\t 3          & 0          & 17         &  2         & 2009-08-21 & 23         & 23         & NA         & NA         & 2993.8     & ...        &    NA      &  NA        &   NA       &    NA      &     NA     &    NA      &   NA       &  NA        &   NA       & 0         \\\\\n",
       "\t 4          & 0          & 16         &  2         & 2009-08-21 & 26         & NA         & NA         & NA         & 3692.3     & ...        &    NA      &  NA        &   NA       &    NA      &     NA     &    NA      &   NA       &  NA        &   NA       & 0         \\\\\n",
       "\t 5          & 0          & 16         & NA         & 2009-08-29 & 25         & NA         & NA         & NA         & 3592.5     & ...        &    NA      &  NA        &   NA       &    NA      &     NA     &    NA      &   NA       &  NA        &   NA       & 0         \\\\\n",
       "\t 6          & 0          & 16         &  2         & 2009-08-27 & 29         & 28         & 30         & 31         & 3093.5     & ...        & 15.50      & 0.5        & 1.50       & 10.25      &  74.75     & 30.00      & 5.25       & 8.0        & 2.00       & 0         \\\\\n",
       "\\end{tabular}\n"
      ],
      "text/markdown": [
       "\n",
       "ID | GROUP | MATERNALAGE | SEXO | INFANTDOB | MATBMI1COLL | MATBMI215d | MATBMI32mos | MATBMI44mos | BABYWeigth1g | ... | ALAGLOB | ASNGLOB | SYSGLOB | GLYGLOB | GLUGLOB | GLNGLOB | PROLINEGLOB | SERINEGLOB | TYRAMINEGLOB | new | \n",
       "|---|---|---|---|---|---|\n",
       "| 1          | 0          | 17         |  1         | 2009-08-20 | 25         | 24         | 24         | 22         | 3492.7     | ...        | 21.25      | 0.5        | 1.00       | 10.00      |  87.25     | 23.25      | 2.75       | 8.0        | 1.00       | 0          | \n",
       "| 2          | 0          | 16         |  2         | 2009-08-24 | 32         | 31         | 30         | 29         | 3392.9     | ...        | 18.25      | 0.0        | 0.75       | 13.75      | 100.50     | 40.50      | 2.50       | 9.5        | 0.75       | 0          | \n",
       "| 3          | 0          | 17         |  2         | 2009-08-21 | 23         | 23         | NA         | NA         | 2993.8     | ...        |    NA      |  NA        |   NA       |    NA      |     NA     |    NA      |   NA       |  NA        |   NA       | 0          | \n",
       "| 4          | 0          | 16         |  2         | 2009-08-21 | 26         | NA         | NA         | NA         | 3692.3     | ...        |    NA      |  NA        |   NA       |    NA      |     NA     |    NA      |   NA       |  NA        |   NA       | 0          | \n",
       "| 5          | 0          | 16         | NA         | 2009-08-29 | 25         | NA         | NA         | NA         | 3592.5     | ...        |    NA      |  NA        |   NA       |    NA      |     NA     |    NA      |   NA       |  NA        |   NA       | 0          | \n",
       "| 6          | 0          | 16         |  2         | 2009-08-27 | 29         | 28         | 30         | 31         | 3093.5     | ...        | 15.50      | 0.5        | 1.50       | 10.25      |  74.75     | 30.00      | 5.25       | 8.0        | 2.00       | 0          | \n",
       "\n",
       "\n"
      ],
      "text/plain": [
       "  ID GROUP MATERNALAGE SEXO INFANTDOB  MATBMI1COLL MATBMI215d MATBMI32mos\n",
       "1 1  0     17           1   2009-08-20 25          24         24         \n",
       "2 2  0     16           2   2009-08-24 32          31         30         \n",
       "3 3  0     17           2   2009-08-21 23          23         NA         \n",
       "4 4  0     16           2   2009-08-21 26          NA         NA         \n",
       "5 5  0     16          NA   2009-08-29 25          NA         NA         \n",
       "6 6  0     16           2   2009-08-27 29          28         30         \n",
       "  MATBMI44mos BABYWeigth1g ... ALAGLOB ASNGLOB SYSGLOB GLYGLOB GLUGLOB GLNGLOB\n",
       "1 22          3492.7       ... 21.25   0.5     1.00    10.00    87.25  23.25  \n",
       "2 29          3392.9       ... 18.25   0.0     0.75    13.75   100.50  40.50  \n",
       "3 NA          2993.8       ...    NA    NA       NA       NA       NA     NA  \n",
       "4 NA          3692.3       ...    NA    NA       NA       NA       NA     NA  \n",
       "5 NA          3592.5       ...    NA    NA       NA       NA       NA     NA  \n",
       "6 31          3093.5       ... 15.50   0.5     1.50    10.25    74.75  30.00  \n",
       "  PROLINEGLOB SERINEGLOB TYRAMINEGLOB new\n",
       "1 2.75        8.0        1.00         0  \n",
       "2 2.50        9.5        0.75         0  \n",
       "3   NA         NA          NA         0  \n",
       "4   NA         NA          NA         0  \n",
       "5   NA         NA          NA         0  \n",
       "6 5.25        8.0        2.00         0  "
      ]
     },
     "metadata": {},
     "output_type": "display_data"
    }
   ],
   "source": [
    "AA_Sex_1 <- read_sav(\"C:/Users/Personal/AA leche/datos/AMINOACIDOS POR SEXO_1.sav\")\n",
    "head(AA_Sex_1) "
   ]
  },
  {
   "cell_type": "code",
   "execution_count": 3,
   "metadata": {},
   "outputs": [
    {
     "name": "stderr",
     "output_type": "stream",
     "text": [
      "Warning message:\n",
      "\"`as_dictionary()` is soft-deprecated as of rlang 0.3.0.\n",
      "Please use `as_data_pronoun()` instead\n",
      "This warning is displayed once per session.\"Warning message:\n",
      "\"`new_overscope()` is soft-deprecated as of rlang 0.2.0.\n",
      "Please use `new_data_mask()` instead\n",
      "This warning is displayed once per session.\"Warning message:\n",
      "\"The `parent` argument of `new_data_mask()` is deprecated.\n",
      "The parent of the data mask is determined from either:\n",
      "\n",
      "  * The `env` argument of `eval_tidy()`\n",
      "  * Quosure environments when applicable\n",
      "This warning is displayed once per session.\"Warning message:\n",
      "\"`overscope_clean()` is soft-deprecated as of rlang 0.2.0.\n",
      "This warning is displayed once per session.\""
     ]
    },
    {
     "data": {
      "text/html": [
       "<ol class=list-inline>\n",
       "\t<li>'id'</li>\n",
       "\t<li>'group'</li>\n",
       "\t<li>'age'</li>\n",
       "\t<li>'sex'</li>\n",
       "\t<li>'HISCalostrum'</li>\n",
       "\t<li>'HISTransition'</li>\n",
       "\t<li>'HISMature2m'</li>\n",
       "\t<li>'HISMature4m'</li>\n",
       "\t<li>'ILECalostrum'</li>\n",
       "\t<li>'ILETransition'</li>\n",
       "\t<li>'ILEMature2m'</li>\n",
       "\t<li>'ILEMature4m'</li>\n",
       "\t<li>'LEUCalostrum'</li>\n",
       "\t<li>'LEUTransition'</li>\n",
       "\t<li>'LEUMature2m'</li>\n",
       "\t<li>'LEUMature4m'</li>\n",
       "\t<li>'LYSCalostrum'</li>\n",
       "\t<li>'LYSTransition'</li>\n",
       "\t<li>'LYSMature2m'</li>\n",
       "\t<li>'LYSMature4m'</li>\n",
       "\t<li>'METCalostrum'</li>\n",
       "\t<li>'METTransition'</li>\n",
       "\t<li>'METMature2m'</li>\n",
       "\t<li>'METMature4m'</li>\n",
       "\t<li>'PHECalostrum'</li>\n",
       "\t<li>'PHETransition'</li>\n",
       "\t<li>'PHEMature2m'</li>\n",
       "\t<li>'PHEMature4m'</li>\n",
       "\t<li>'THRCalostrum'</li>\n",
       "\t<li>'THRTransition'</li>\n",
       "\t<li>'THRMature2m'</li>\n",
       "\t<li>'THRMature4m'</li>\n",
       "\t<li>'TRPCalostrum'</li>\n",
       "\t<li>'TRPTransition'</li>\n",
       "\t<li>'TRPMature2m'</li>\n",
       "\t<li>'TRPMature4m'</li>\n",
       "\t<li>'VALCalostrum'</li>\n",
       "\t<li>'VALTransition'</li>\n",
       "\t<li>'VALMature2m'</li>\n",
       "\t<li>'VALMature4m'</li>\n",
       "</ol>\n"
      ],
      "text/latex": [
       "\\begin{enumerate*}\n",
       "\\item 'id'\n",
       "\\item 'group'\n",
       "\\item 'age'\n",
       "\\item 'sex'\n",
       "\\item 'HISCalostrum'\n",
       "\\item 'HISTransition'\n",
       "\\item 'HISMature2m'\n",
       "\\item 'HISMature4m'\n",
       "\\item 'ILECalostrum'\n",
       "\\item 'ILETransition'\n",
       "\\item 'ILEMature2m'\n",
       "\\item 'ILEMature4m'\n",
       "\\item 'LEUCalostrum'\n",
       "\\item 'LEUTransition'\n",
       "\\item 'LEUMature2m'\n",
       "\\item 'LEUMature4m'\n",
       "\\item 'LYSCalostrum'\n",
       "\\item 'LYSTransition'\n",
       "\\item 'LYSMature2m'\n",
       "\\item 'LYSMature4m'\n",
       "\\item 'METCalostrum'\n",
       "\\item 'METTransition'\n",
       "\\item 'METMature2m'\n",
       "\\item 'METMature4m'\n",
       "\\item 'PHECalostrum'\n",
       "\\item 'PHETransition'\n",
       "\\item 'PHEMature2m'\n",
       "\\item 'PHEMature4m'\n",
       "\\item 'THRCalostrum'\n",
       "\\item 'THRTransition'\n",
       "\\item 'THRMature2m'\n",
       "\\item 'THRMature4m'\n",
       "\\item 'TRPCalostrum'\n",
       "\\item 'TRPTransition'\n",
       "\\item 'TRPMature2m'\n",
       "\\item 'TRPMature4m'\n",
       "\\item 'VALCalostrum'\n",
       "\\item 'VALTransition'\n",
       "\\item 'VALMature2m'\n",
       "\\item 'VALMature4m'\n",
       "\\end{enumerate*}\n"
      ],
      "text/markdown": [
       "1. 'id'\n",
       "2. 'group'\n",
       "3. 'age'\n",
       "4. 'sex'\n",
       "5. 'HISCalostrum'\n",
       "6. 'HISTransition'\n",
       "7. 'HISMature2m'\n",
       "8. 'HISMature4m'\n",
       "9. 'ILECalostrum'\n",
       "10. 'ILETransition'\n",
       "11. 'ILEMature2m'\n",
       "12. 'ILEMature4m'\n",
       "13. 'LEUCalostrum'\n",
       "14. 'LEUTransition'\n",
       "15. 'LEUMature2m'\n",
       "16. 'LEUMature4m'\n",
       "17. 'LYSCalostrum'\n",
       "18. 'LYSTransition'\n",
       "19. 'LYSMature2m'\n",
       "20. 'LYSMature4m'\n",
       "21. 'METCalostrum'\n",
       "22. 'METTransition'\n",
       "23. 'METMature2m'\n",
       "24. 'METMature4m'\n",
       "25. 'PHECalostrum'\n",
       "26. 'PHETransition'\n",
       "27. 'PHEMature2m'\n",
       "28. 'PHEMature4m'\n",
       "29. 'THRCalostrum'\n",
       "30. 'THRTransition'\n",
       "31. 'THRMature2m'\n",
       "32. 'THRMature4m'\n",
       "33. 'TRPCalostrum'\n",
       "34. 'TRPTransition'\n",
       "35. 'TRPMature2m'\n",
       "36. 'TRPMature4m'\n",
       "37. 'VALCalostrum'\n",
       "38. 'VALTransition'\n",
       "39. 'VALMature2m'\n",
       "40. 'VALMature4m'\n",
       "\n",
       "\n"
      ],
      "text/plain": [
       " [1] \"id\"            \"group\"         \"age\"           \"sex\"          \n",
       " [5] \"HISCalostrum\"  \"HISTransition\" \"HISMature2m\"   \"HISMature4m\"  \n",
       " [9] \"ILECalostrum\"  \"ILETransition\" \"ILEMature2m\"   \"ILEMature4m\"  \n",
       "[13] \"LEUCalostrum\"  \"LEUTransition\" \"LEUMature2m\"   \"LEUMature4m\"  \n",
       "[17] \"LYSCalostrum\"  \"LYSTransition\" \"LYSMature2m\"   \"LYSMature4m\"  \n",
       "[21] \"METCalostrum\"  \"METTransition\" \"METMature2m\"   \"METMature4m\"  \n",
       "[25] \"PHECalostrum\"  \"PHETransition\" \"PHEMature2m\"   \"PHEMature4m\"  \n",
       "[29] \"THRCalostrum\"  \"THRTransition\" \"THRMature2m\"   \"THRMature4m\"  \n",
       "[33] \"TRPCalostrum\"  \"TRPTransition\" \"TRPMature2m\"   \"TRPMature4m\"  \n",
       "[37] \"VALCalostrum\"  \"VALTransition\" \"VALMature2m\"   \"VALMature4m\"  "
      ]
     },
     "metadata": {},
     "output_type": "display_data"
    }
   ],
   "source": [
    "AA_E <- AA_Sex_1 %>%  select(id = ID, group = GROUP, age = MATERNALAGE, sex = SEXO, 62:97) %>%\n",
    "                         mutate(id = factor(id), \n",
    "                                sex =  factor(sex, labels = c('girl', 'boy')),\n",
    "                                group = factor(group, labels = c('teen', 'adult'))) \n",
    "\n",
    "\n",
    "names(AA_E)"
   ]
  },
  {
   "cell_type": "code",
   "execution_count": 4,
   "metadata": {},
   "outputs": [
    {
     "data": {
      "text/html": [
       "<ol class=list-inline>\n",
       "\t<li>'id'</li>\n",
       "\t<li>'group'</li>\n",
       "\t<li>'age'</li>\n",
       "\t<li>'sex'</li>\n",
       "\t<li>'ARGCalostrum'</li>\n",
       "\t<li>'ARGTransition'</li>\n",
       "\t<li>'ARGMature2m'</li>\n",
       "\t<li>'ARGMature4m'</li>\n",
       "\t<li>'ASPCalostrum'</li>\n",
       "\t<li>'ASPTransition'</li>\n",
       "\t<li>'ASPMature2m'</li>\n",
       "\t<li>'ASPMature4m'</li>\n",
       "\t<li>'ALACalostrum'</li>\n",
       "\t<li>'ALATransition'</li>\n",
       "\t<li>'ALAMature2m'</li>\n",
       "\t<li>'ALAMature4m'</li>\n",
       "\t<li>'ASNCalostrum'</li>\n",
       "\t<li>'ASNTransition'</li>\n",
       "\t<li>'ASNMature2m'</li>\n",
       "\t<li>'ASNMature4m'</li>\n",
       "\t<li>'CYSCalostrum'</li>\n",
       "\t<li>'CYSTransition'</li>\n",
       "\t<li>'CYSMature2m'</li>\n",
       "\t<li>'CYSMature4m'</li>\n",
       "\t<li>'GLYCalostrum'</li>\n",
       "\t<li>'GLYTransition'</li>\n",
       "\t<li>'GLYMature2m'</li>\n",
       "\t<li>'GLYMature4m'</li>\n",
       "\t<li>'GLUCalostrum'</li>\n",
       "\t<li>'GLUTransition'</li>\n",
       "\t<li>'GLUMature2m'</li>\n",
       "\t<li>'GLUMature4m'</li>\n",
       "\t<li>'GLNCalostrum'</li>\n",
       "\t<li>'GLNTransition'</li>\n",
       "\t<li>'GLNMature2m'</li>\n",
       "\t<li>'GLNMature4m'</li>\n",
       "\t<li>'PROCalostrum'</li>\n",
       "\t<li>'PROTransition'</li>\n",
       "\t<li>'PROMature2m'</li>\n",
       "\t<li>'PROMature4m'</li>\n",
       "\t<li>'SERCalostrum'</li>\n",
       "\t<li>'SERTransition'</li>\n",
       "\t<li>'SERMature2m'</li>\n",
       "\t<li>'SERMature4m'</li>\n",
       "\t<li>'TYRCalostrum'</li>\n",
       "\t<li>'TYRTransition'</li>\n",
       "\t<li>'TYRMature2m'</li>\n",
       "\t<li>'TYRMature4m'</li>\n",
       "</ol>\n"
      ],
      "text/latex": [
       "\\begin{enumerate*}\n",
       "\\item 'id'\n",
       "\\item 'group'\n",
       "\\item 'age'\n",
       "\\item 'sex'\n",
       "\\item 'ARGCalostrum'\n",
       "\\item 'ARGTransition'\n",
       "\\item 'ARGMature2m'\n",
       "\\item 'ARGMature4m'\n",
       "\\item 'ASPCalostrum'\n",
       "\\item 'ASPTransition'\n",
       "\\item 'ASPMature2m'\n",
       "\\item 'ASPMature4m'\n",
       "\\item 'ALACalostrum'\n",
       "\\item 'ALATransition'\n",
       "\\item 'ALAMature2m'\n",
       "\\item 'ALAMature4m'\n",
       "\\item 'ASNCalostrum'\n",
       "\\item 'ASNTransition'\n",
       "\\item 'ASNMature2m'\n",
       "\\item 'ASNMature4m'\n",
       "\\item 'CYSCalostrum'\n",
       "\\item 'CYSTransition'\n",
       "\\item 'CYSMature2m'\n",
       "\\item 'CYSMature4m'\n",
       "\\item 'GLYCalostrum'\n",
       "\\item 'GLYTransition'\n",
       "\\item 'GLYMature2m'\n",
       "\\item 'GLYMature4m'\n",
       "\\item 'GLUCalostrum'\n",
       "\\item 'GLUTransition'\n",
       "\\item 'GLUMature2m'\n",
       "\\item 'GLUMature4m'\n",
       "\\item 'GLNCalostrum'\n",
       "\\item 'GLNTransition'\n",
       "\\item 'GLNMature2m'\n",
       "\\item 'GLNMature4m'\n",
       "\\item 'PROCalostrum'\n",
       "\\item 'PROTransition'\n",
       "\\item 'PROMature2m'\n",
       "\\item 'PROMature4m'\n",
       "\\item 'SERCalostrum'\n",
       "\\item 'SERTransition'\n",
       "\\item 'SERMature2m'\n",
       "\\item 'SERMature4m'\n",
       "\\item 'TYRCalostrum'\n",
       "\\item 'TYRTransition'\n",
       "\\item 'TYRMature2m'\n",
       "\\item 'TYRMature4m'\n",
       "\\end{enumerate*}\n"
      ],
      "text/markdown": [
       "1. 'id'\n",
       "2. 'group'\n",
       "3. 'age'\n",
       "4. 'sex'\n",
       "5. 'ARGCalostrum'\n",
       "6. 'ARGTransition'\n",
       "7. 'ARGMature2m'\n",
       "8. 'ARGMature4m'\n",
       "9. 'ASPCalostrum'\n",
       "10. 'ASPTransition'\n",
       "11. 'ASPMature2m'\n",
       "12. 'ASPMature4m'\n",
       "13. 'ALACalostrum'\n",
       "14. 'ALATransition'\n",
       "15. 'ALAMature2m'\n",
       "16. 'ALAMature4m'\n",
       "17. 'ASNCalostrum'\n",
       "18. 'ASNTransition'\n",
       "19. 'ASNMature2m'\n",
       "20. 'ASNMature4m'\n",
       "21. 'CYSCalostrum'\n",
       "22. 'CYSTransition'\n",
       "23. 'CYSMature2m'\n",
       "24. 'CYSMature4m'\n",
       "25. 'GLYCalostrum'\n",
       "26. 'GLYTransition'\n",
       "27. 'GLYMature2m'\n",
       "28. 'GLYMature4m'\n",
       "29. 'GLUCalostrum'\n",
       "30. 'GLUTransition'\n",
       "31. 'GLUMature2m'\n",
       "32. 'GLUMature4m'\n",
       "33. 'GLNCalostrum'\n",
       "34. 'GLNTransition'\n",
       "35. 'GLNMature2m'\n",
       "36. 'GLNMature4m'\n",
       "37. 'PROCalostrum'\n",
       "38. 'PROTransition'\n",
       "39. 'PROMature2m'\n",
       "40. 'PROMature4m'\n",
       "41. 'SERCalostrum'\n",
       "42. 'SERTransition'\n",
       "43. 'SERMature2m'\n",
       "44. 'SERMature4m'\n",
       "45. 'TYRCalostrum'\n",
       "46. 'TYRTransition'\n",
       "47. 'TYRMature2m'\n",
       "48. 'TYRMature4m'\n",
       "\n",
       "\n"
      ],
      "text/plain": [
       " [1] \"id\"            \"group\"         \"age\"           \"sex\"          \n",
       " [5] \"ARGCalostrum\"  \"ARGTransition\" \"ARGMature2m\"   \"ARGMature4m\"  \n",
       " [9] \"ASPCalostrum\"  \"ASPTransition\" \"ASPMature2m\"   \"ASPMature4m\"  \n",
       "[13] \"ALACalostrum\"  \"ALATransition\" \"ALAMature2m\"   \"ALAMature4m\"  \n",
       "[17] \"ASNCalostrum\"  \"ASNTransition\" \"ASNMature2m\"   \"ASNMature4m\"  \n",
       "[21] \"CYSCalostrum\"  \"CYSTransition\" \"CYSMature2m\"   \"CYSMature4m\"  \n",
       "[25] \"GLYCalostrum\"  \"GLYTransition\" \"GLYMature2m\"   \"GLYMature4m\"  \n",
       "[29] \"GLUCalostrum\"  \"GLUTransition\" \"GLUMature2m\"   \"GLUMature4m\"  \n",
       "[33] \"GLNCalostrum\"  \"GLNTransition\" \"GLNMature2m\"   \"GLNMature4m\"  \n",
       "[37] \"PROCalostrum\"  \"PROTransition\" \"PROMature2m\"   \"PROMature4m\"  \n",
       "[41] \"SERCalostrum\"  \"SERTransition\" \"SERMature2m\"   \"SERMature4m\"  \n",
       "[45] \"TYRCalostrum\"  \"TYRTransition\" \"TYRMature2m\"   \"TYRMature4m\"  "
      ]
     },
     "metadata": {},
     "output_type": "display_data"
    }
   ],
   "source": [
    "AA_NE <- AA_Sex_1 %>%  select(id = ID, group = GROUP, age = MATERNALAGE, sex = SEXO, 58:61, 102:141) %>%\n",
    "                         mutate(id = factor(id), \n",
    "                                sex =  factor(sex, labels = c('girl', 'boy')),\n",
    "                                group = factor(group, labels = c('teen', 'adult'))) \n",
    "\n",
    "names(AA_NE)"
   ]
  },
  {
   "cell_type": "code",
   "execution_count": 5,
   "metadata": {},
   "outputs": [
    {
     "name": "stderr",
     "output_type": "stream",
     "text": [
      "Warning message:\n",
      "\"attributes are not identical across measure variables; they will be dropped\"Warning message:\n",
      "\"attributes are not identical across measure variables; they will be dropped\""
     ]
    },
    {
     "data": {
      "text/html": [
       "<table>\n",
       "<thead><tr><th scope=col>id</th><th scope=col>group</th><th scope=col>age</th><th scope=col>sex</th><th scope=col>weekNames</th><th scope=col>level</th></tr></thead>\n",
       "<tbody>\n",
       "\t<tr><td>1           </td><td>teen        </td><td>17          </td><td>girl        </td><td>HISCalostrum</td><td>2           </td></tr>\n",
       "\t<tr><td>2           </td><td>teen        </td><td>16          </td><td>boy         </td><td>HISCalostrum</td><td>1           </td></tr>\n",
       "\t<tr><td>3           </td><td>teen        </td><td>17          </td><td>boy         </td><td>HISCalostrum</td><td>2           </td></tr>\n",
       "\t<tr><td>4           </td><td>teen        </td><td>16          </td><td>boy         </td><td>HISCalostrum</td><td>1           </td></tr>\n",
       "\t<tr><td>5           </td><td>teen        </td><td>16          </td><td>NA          </td><td>HISCalostrum</td><td>1           </td></tr>\n",
       "\t<tr><td>6           </td><td>teen        </td><td>16          </td><td>boy         </td><td>HISCalostrum</td><td>1           </td></tr>\n",
       "</tbody>\n",
       "</table>\n"
      ],
      "text/latex": [
       "\\begin{tabular}{r|llllll}\n",
       " id & group & age & sex & weekNames & level\\\\\n",
       "\\hline\n",
       "\t 1            & teen         & 17           & girl         & HISCalostrum & 2           \\\\\n",
       "\t 2            & teen         & 16           & boy          & HISCalostrum & 1           \\\\\n",
       "\t 3            & teen         & 17           & boy          & HISCalostrum & 2           \\\\\n",
       "\t 4            & teen         & 16           & boy          & HISCalostrum & 1           \\\\\n",
       "\t 5            & teen         & 16           & NA           & HISCalostrum & 1           \\\\\n",
       "\t 6            & teen         & 16           & boy          & HISCalostrum & 1           \\\\\n",
       "\\end{tabular}\n"
      ],
      "text/markdown": [
       "\n",
       "id | group | age | sex | weekNames | level | \n",
       "|---|---|---|---|---|---|\n",
       "| 1            | teen         | 17           | girl         | HISCalostrum | 2            | \n",
       "| 2            | teen         | 16           | boy          | HISCalostrum | 1            | \n",
       "| 3            | teen         | 17           | boy          | HISCalostrum | 2            | \n",
       "| 4            | teen         | 16           | boy          | HISCalostrum | 1            | \n",
       "| 5            | teen         | 16           | NA           | HISCalostrum | 1            | \n",
       "| 6            | teen         | 16           | boy          | HISCalostrum | 1            | \n",
       "\n",
       "\n"
      ],
      "text/plain": [
       "  id group age sex  weekNames    level\n",
       "1 1  teen  17  girl HISCalostrum 2    \n",
       "2 2  teen  16  boy  HISCalostrum 1    \n",
       "3 3  teen  17  boy  HISCalostrum 2    \n",
       "4 4  teen  16  boy  HISCalostrum 1    \n",
       "5 5  teen  16  NA   HISCalostrum 1    \n",
       "6 6  teen  16  boy  HISCalostrum 1    "
      ]
     },
     "metadata": {},
     "output_type": "display_data"
    }
   ],
   "source": [
    "# Removing NAs\n",
    "AA_E_Long <- AA_E %>% gather(weekNames, level, 5:length(names(AA_E))) \n",
    "AA_NE_Long <- AA_NE %>% gather(weekNames, level, 5:length(names(AA_NE))) \n",
    "\n",
    "head(AA_E_Long)"
   ]
  },
  {
   "cell_type": "code",
   "execution_count": 6,
   "metadata": {},
   "outputs": [
    {
     "data": {
      "text/html": [
       "<table>\n",
       "<thead><tr><th scope=col>id</th><th scope=col>group</th><th scope=col>age</th><th scope=col>sex</th><th scope=col>weekNames</th><th scope=col>level</th><th scope=col>week</th><th scope=col>AA</th></tr></thead>\n",
       "<tbody>\n",
       "\t<tr><td>1           </td><td>teen        </td><td>17          </td><td>girl        </td><td>HISCalostrum</td><td>2           </td><td>1           </td><td>HIS         </td></tr>\n",
       "\t<tr><td>2           </td><td>teen        </td><td>16          </td><td>boy         </td><td>HISCalostrum</td><td>1           </td><td>1           </td><td>HIS         </td></tr>\n",
       "\t<tr><td>3           </td><td>teen        </td><td>17          </td><td>boy         </td><td>HISCalostrum</td><td>2           </td><td>1           </td><td>HIS         </td></tr>\n",
       "\t<tr><td>4           </td><td>teen        </td><td>16          </td><td>boy         </td><td>HISCalostrum</td><td>1           </td><td>1           </td><td>HIS         </td></tr>\n",
       "\t<tr><td>5           </td><td>teen        </td><td>16          </td><td>NA          </td><td>HISCalostrum</td><td>1           </td><td>1           </td><td>HIS         </td></tr>\n",
       "\t<tr><td>6           </td><td>teen        </td><td>16          </td><td>boy         </td><td>HISCalostrum</td><td>1           </td><td>1           </td><td>HIS         </td></tr>\n",
       "</tbody>\n",
       "</table>\n"
      ],
      "text/latex": [
       "\\begin{tabular}{r|llllllll}\n",
       " id & group & age & sex & weekNames & level & week & AA\\\\\n",
       "\\hline\n",
       "\t 1            & teen         & 17           & girl         & HISCalostrum & 2            & 1            & HIS         \\\\\n",
       "\t 2            & teen         & 16           & boy          & HISCalostrum & 1            & 1            & HIS         \\\\\n",
       "\t 3            & teen         & 17           & boy          & HISCalostrum & 2            & 1            & HIS         \\\\\n",
       "\t 4            & teen         & 16           & boy          & HISCalostrum & 1            & 1            & HIS         \\\\\n",
       "\t 5            & teen         & 16           & NA           & HISCalostrum & 1            & 1            & HIS         \\\\\n",
       "\t 6            & teen         & 16           & boy          & HISCalostrum & 1            & 1            & HIS         \\\\\n",
       "\\end{tabular}\n"
      ],
      "text/markdown": [
       "\n",
       "id | group | age | sex | weekNames | level | week | AA | \n",
       "|---|---|---|---|---|---|\n",
       "| 1            | teen         | 17           | girl         | HISCalostrum | 2            | 1            | HIS          | \n",
       "| 2            | teen         | 16           | boy          | HISCalostrum | 1            | 1            | HIS          | \n",
       "| 3            | teen         | 17           | boy          | HISCalostrum | 2            | 1            | HIS          | \n",
       "| 4            | teen         | 16           | boy          | HISCalostrum | 1            | 1            | HIS          | \n",
       "| 5            | teen         | 16           | NA           | HISCalostrum | 1            | 1            | HIS          | \n",
       "| 6            | teen         | 16           | boy          | HISCalostrum | 1            | 1            | HIS          | \n",
       "\n",
       "\n"
      ],
      "text/plain": [
       "  id group age sex  weekNames    level week AA \n",
       "1 1  teen  17  girl HISCalostrum 2     1    HIS\n",
       "2 2  teen  16  boy  HISCalostrum 1     1    HIS\n",
       "3 3  teen  17  boy  HISCalostrum 2     1    HIS\n",
       "4 4  teen  16  boy  HISCalostrum 1     1    HIS\n",
       "5 5  teen  16  NA   HISCalostrum 1     1    HIS\n",
       "6 6  teen  16  boy  HISCalostrum 1     1    HIS"
      ]
     },
     "metadata": {},
     "output_type": "display_data"
    }
   ],
   "source": [
    "AA_E_Long <- \n",
    "    AA_E_Long %>% \n",
    "        mutate(week = gsub(\".*Calostrum.*\", \"1\", weekNames)) %>%\n",
    "        mutate(week = gsub(\".*Transition.*\", \"2\", week)) %>%\n",
    "        mutate(week = gsub(\".*Mature2m.*\", \"8\", week)) %>%\n",
    "        mutate(week = gsub(\".*Mature4m.*\", \"16\", week)) %>% \n",
    "        mutate(week = as.numeric(week))\n",
    "\n",
    "AA_E_Long <- \n",
    "    AA_E_Long %>% \n",
    "        mutate(AA = gsub(\"Calostrum.*\", \"\", weekNames)) %>%\n",
    "        mutate(AA = gsub(\"Transition.*\", \"\", AA)) %>%\n",
    "        mutate(AA = gsub(\"Mature2m.*\", \"\", AA)) %>%\n",
    "        mutate(AA = gsub(\"Mature4m.*\", \"\", AA))\n",
    "\n",
    "head(AA_E_Long)"
   ]
  },
  {
   "cell_type": "code",
   "execution_count": 7,
   "metadata": {},
   "outputs": [
    {
     "data": {
      "text/html": [
       "<table>\n",
       "<thead><tr><th scope=col>id</th><th scope=col>group</th><th scope=col>age</th><th scope=col>sex</th><th scope=col>weekNames</th><th scope=col>level</th><th scope=col>week</th><th scope=col>AA</th></tr></thead>\n",
       "<tbody>\n",
       "\t<tr><td>1           </td><td>teen        </td><td>17          </td><td>girl        </td><td>ARGCalostrum</td><td>1           </td><td>1           </td><td>ARG         </td></tr>\n",
       "\t<tr><td>2           </td><td>teen        </td><td>16          </td><td>boy         </td><td>ARGCalostrum</td><td>1           </td><td>1           </td><td>ARG         </td></tr>\n",
       "\t<tr><td>3           </td><td>teen        </td><td>17          </td><td>boy         </td><td>ARGCalostrum</td><td>1           </td><td>1           </td><td>ARG         </td></tr>\n",
       "\t<tr><td>4           </td><td>teen        </td><td>16          </td><td>boy         </td><td>ARGCalostrum</td><td>1           </td><td>1           </td><td>ARG         </td></tr>\n",
       "\t<tr><td>5           </td><td>teen        </td><td>16          </td><td>NA          </td><td>ARGCalostrum</td><td>2           </td><td>1           </td><td>ARG         </td></tr>\n",
       "\t<tr><td>6           </td><td>teen        </td><td>16          </td><td>boy         </td><td>ARGCalostrum</td><td>2           </td><td>1           </td><td>ARG         </td></tr>\n",
       "</tbody>\n",
       "</table>\n"
      ],
      "text/latex": [
       "\\begin{tabular}{r|llllllll}\n",
       " id & group & age & sex & weekNames & level & week & AA\\\\\n",
       "\\hline\n",
       "\t 1            & teen         & 17           & girl         & ARGCalostrum & 1            & 1            & ARG         \\\\\n",
       "\t 2            & teen         & 16           & boy          & ARGCalostrum & 1            & 1            & ARG         \\\\\n",
       "\t 3            & teen         & 17           & boy          & ARGCalostrum & 1            & 1            & ARG         \\\\\n",
       "\t 4            & teen         & 16           & boy          & ARGCalostrum & 1            & 1            & ARG         \\\\\n",
       "\t 5            & teen         & 16           & NA           & ARGCalostrum & 2            & 1            & ARG         \\\\\n",
       "\t 6            & teen         & 16           & boy          & ARGCalostrum & 2            & 1            & ARG         \\\\\n",
       "\\end{tabular}\n"
      ],
      "text/markdown": [
       "\n",
       "id | group | age | sex | weekNames | level | week | AA | \n",
       "|---|---|---|---|---|---|\n",
       "| 1            | teen         | 17           | girl         | ARGCalostrum | 1            | 1            | ARG          | \n",
       "| 2            | teen         | 16           | boy          | ARGCalostrum | 1            | 1            | ARG          | \n",
       "| 3            | teen         | 17           | boy          | ARGCalostrum | 1            | 1            | ARG          | \n",
       "| 4            | teen         | 16           | boy          | ARGCalostrum | 1            | 1            | ARG          | \n",
       "| 5            | teen         | 16           | NA           | ARGCalostrum | 2            | 1            | ARG          | \n",
       "| 6            | teen         | 16           | boy          | ARGCalostrum | 2            | 1            | ARG          | \n",
       "\n",
       "\n"
      ],
      "text/plain": [
       "  id group age sex  weekNames    level week AA \n",
       "1 1  teen  17  girl ARGCalostrum 1     1    ARG\n",
       "2 2  teen  16  boy  ARGCalostrum 1     1    ARG\n",
       "3 3  teen  17  boy  ARGCalostrum 1     1    ARG\n",
       "4 4  teen  16  boy  ARGCalostrum 1     1    ARG\n",
       "5 5  teen  16  NA   ARGCalostrum 2     1    ARG\n",
       "6 6  teen  16  boy  ARGCalostrum 2     1    ARG"
      ]
     },
     "metadata": {},
     "output_type": "display_data"
    }
   ],
   "source": [
    "AA_NE_Long <- \n",
    "    AA_NE_Long %>% \n",
    "        mutate(week = gsub(\".*Calostrum.*\", \"1\", weekNames)) %>%\n",
    "        mutate(week = gsub(\".*Transition.*\", \"2\", week)) %>%\n",
    "        mutate(week = gsub(\".*Mature2m.*\", \"8\", week)) %>%\n",
    "        mutate(week = gsub(\".*Mature4m.*\", \"16\", week)) %>% \n",
    "        mutate(week = as.numeric(week))\n",
    "\n",
    "AA_NE_Long <- \n",
    "    AA_NE_Long %>% \n",
    "        mutate(AA = gsub(\"Calostrum.*\", \"\", weekNames)) %>%\n",
    "        mutate(AA = gsub(\"Transition.*\", \"\", AA)) %>%\n",
    "        mutate(AA = gsub(\"Mature2m.*\", \"\", AA)) %>%\n",
    "        mutate(AA = gsub(\"Mature4m.*\", \"\", AA))\n",
    "\n",
    "head(AA_NE_Long)"
   ]
  },
  {
   "cell_type": "markdown",
   "metadata": {},
   "source": [
    "## Weight and size of babies"
   ]
  },
  {
   "cell_type": "code",
   "execution_count": 8,
   "metadata": {},
   "outputs": [
    {
     "data": {
      "text/html": [
       "<table>\n",
       "<thead><tr><th scope=col>id</th><th scope=col>group</th><th scope=col>sex</th><th scope=col>BABYWeigth1g</th><th scope=col>BABYWeigth2g</th><th scope=col>BABYWeigth3g</th><th scope=col>BABYWeigth4g</th></tr></thead>\n",
       "<tbody>\n",
       "\t<tr><td>1      </td><td>teen   </td><td>girl   </td><td>3492.7 </td><td>3592.5 </td><td>5488.6 </td><td>8282.74</td></tr>\n",
       "\t<tr><td>2      </td><td>teen   </td><td>boy    </td><td>3392.9 </td><td>4091.5 </td><td>5987.5 </td><td>7883.57</td></tr>\n",
       "\t<tr><td>3      </td><td>teen   </td><td>boy    </td><td>2993.8 </td><td>3592.5 </td><td>    NA </td><td>     NA</td></tr>\n",
       "\t<tr><td>4      </td><td>teen   </td><td>boy    </td><td>3692.3 </td><td>    NA </td><td>    NA </td><td>     NA</td></tr>\n",
       "\t<tr><td>5      </td><td>teen   </td><td>NA     </td><td>3592.5 </td><td>    NA </td><td>    NA </td><td>     NA</td></tr>\n",
       "\t<tr><td>6      </td><td>teen   </td><td>boy    </td><td>3093.5 </td><td>3392.9 </td><td>4989.6 </td><td>6785.80</td></tr>\n",
       "</tbody>\n",
       "</table>\n"
      ],
      "text/latex": [
       "\\begin{tabular}{r|lllllll}\n",
       " id & group & sex & BABYWeigth1g & BABYWeigth2g & BABYWeigth3g & BABYWeigth4g\\\\\n",
       "\\hline\n",
       "\t 1       & teen    & girl    & 3492.7  & 3592.5  & 5488.6  & 8282.74\\\\\n",
       "\t 2       & teen    & boy     & 3392.9  & 4091.5  & 5987.5  & 7883.57\\\\\n",
       "\t 3       & teen    & boy     & 2993.8  & 3592.5  &     NA  &      NA\\\\\n",
       "\t 4       & teen    & boy     & 3692.3  &     NA  &     NA  &      NA\\\\\n",
       "\t 5       & teen    & NA      & 3592.5  &     NA  &     NA  &      NA\\\\\n",
       "\t 6       & teen    & boy     & 3093.5  & 3392.9  & 4989.6  & 6785.80\\\\\n",
       "\\end{tabular}\n"
      ],
      "text/markdown": [
       "\n",
       "id | group | sex | BABYWeigth1g | BABYWeigth2g | BABYWeigth3g | BABYWeigth4g | \n",
       "|---|---|---|---|---|---|\n",
       "| 1       | teen    | girl    | 3492.7  | 3592.5  | 5488.6  | 8282.74 | \n",
       "| 2       | teen    | boy     | 3392.9  | 4091.5  | 5987.5  | 7883.57 | \n",
       "| 3       | teen    | boy     | 2993.8  | 3592.5  |     NA  |      NA | \n",
       "| 4       | teen    | boy     | 3692.3  |     NA  |     NA  |      NA | \n",
       "| 5       | teen    | NA      | 3592.5  |     NA  |     NA  |      NA | \n",
       "| 6       | teen    | boy     | 3093.5  | 3392.9  | 4989.6  | 6785.80 | \n",
       "\n",
       "\n"
      ],
      "text/plain": [
       "  id group sex  BABYWeigth1g BABYWeigth2g BABYWeigth3g BABYWeigth4g\n",
       "1 1  teen  girl 3492.7       3592.5       5488.6       8282.74     \n",
       "2 2  teen  boy  3392.9       4091.5       5987.5       7883.57     \n",
       "3 3  teen  boy  2993.8       3592.5           NA            NA     \n",
       "4 4  teen  boy  3692.3           NA           NA            NA     \n",
       "5 5  teen  NA   3592.5           NA           NA            NA     \n",
       "6 6  teen  boy  3093.5       3392.9       4989.6       6785.80     "
      ]
     },
     "metadata": {},
     "output_type": "display_data"
    }
   ],
   "source": [
    "weight <- AA_Sex_1 %>% select(id = ID, group = GROUP, sex = SEXO, 10:13) %>% \n",
    "                        mutate(id = factor(id), \n",
    "                               sex =  factor(sex, labels = c('girl', 'boy')),\n",
    "                               group = factor(group, labels = c('teen', 'adult')))\n",
    "\n",
    "headC <- AA_Sex_1 %>% select(id = ID, group = GROUP, sex = SEXO, 14:17) %>% \n",
    "                        mutate(id = factor(id), \n",
    "                               sex =  factor(sex, labels = c('girl', 'boy')),\n",
    "                               group = factor(group, labels = c('teen', 'adult')))\n",
    "\n",
    "\n",
    "head(weight)"
   ]
  },
  {
   "cell_type": "code",
   "execution_count": 100,
   "metadata": {},
   "outputs": [
    {
     "name": "stderr",
     "output_type": "stream",
     "text": [
      "Warning message:\n",
      "\"attributes are not identical across measure variables; they will be dropped\"Warning message:\n",
      "\"attributes are not identical across measure variables; they will be dropped\""
     ]
    },
    {
     "data": {
      "text/html": [
       "<table>\n",
       "<thead><tr><th scope=col>id</th><th scope=col>group</th><th scope=col>sex</th><th scope=col>weekNames</th><th scope=col>weight</th></tr></thead>\n",
       "<tbody>\n",
       "\t<tr><td>4           </td><td>teen        </td><td>boy         </td><td>BABYWeigth1g</td><td>3692.3      </td></tr>\n",
       "\t<tr><td>4           </td><td>teen        </td><td>boy         </td><td>BABYWeigth2g</td><td>    NA      </td></tr>\n",
       "\t<tr><td>4           </td><td>teen        </td><td>boy         </td><td>BABYWeigth3g</td><td>    NA      </td></tr>\n",
       "\t<tr><td>4           </td><td>teen        </td><td>boy         </td><td>BABYWeigth4g</td><td>    NA      </td></tr>\n",
       "</tbody>\n",
       "</table>\n"
      ],
      "text/latex": [
       "\\begin{tabular}{r|lllll}\n",
       " id & group & sex & weekNames & weight\\\\\n",
       "\\hline\n",
       "\t 4            & teen         & boy          & BABYWeigth1g & 3692.3      \\\\\n",
       "\t 4            & teen         & boy          & BABYWeigth2g &     NA      \\\\\n",
       "\t 4            & teen         & boy          & BABYWeigth3g &     NA      \\\\\n",
       "\t 4            & teen         & boy          & BABYWeigth4g &     NA      \\\\\n",
       "\\end{tabular}\n"
      ],
      "text/markdown": [
       "\n",
       "id | group | sex | weekNames | weight | \n",
       "|---|---|---|---|\n",
       "| 4            | teen         | boy          | BABYWeigth1g | 3692.3       | \n",
       "| 4            | teen         | boy          | BABYWeigth2g |     NA       | \n",
       "| 4            | teen         | boy          | BABYWeigth3g |     NA       | \n",
       "| 4            | teen         | boy          | BABYWeigth4g |     NA       | \n",
       "\n",
       "\n"
      ],
      "text/plain": [
       "  id group sex weekNames    weight\n",
       "1 4  teen  boy BABYWeigth1g 3692.3\n",
       "2 4  teen  boy BABYWeigth2g     NA\n",
       "3 4  teen  boy BABYWeigth3g     NA\n",
       "4 4  teen  boy BABYWeigth4g     NA"
      ]
     },
     "metadata": {},
     "output_type": "display_data"
    },
    {
     "data": {
      "text/html": [
       "<table>\n",
       "<thead><tr><th scope=col>id</th><th scope=col>group</th><th scope=col>sex</th><th scope=col>weekNames</th><th scope=col>head</th></tr></thead>\n",
       "<tbody>\n",
       "\t<tr><td>4            </td><td>teen         </td><td>boy          </td><td>HeadCircumcm1</td><td>37           </td></tr>\n",
       "\t<tr><td>4            </td><td>teen         </td><td>boy          </td><td>HCcm2        </td><td>NA           </td></tr>\n",
       "\t<tr><td>4            </td><td>teen         </td><td>boy          </td><td>HCcm3        </td><td>NA           </td></tr>\n",
       "\t<tr><td>4            </td><td>teen         </td><td>boy          </td><td>HCcm4        </td><td>NA           </td></tr>\n",
       "</tbody>\n",
       "</table>\n"
      ],
      "text/latex": [
       "\\begin{tabular}{r|lllll}\n",
       " id & group & sex & weekNames & head\\\\\n",
       "\\hline\n",
       "\t 4             & teen          & boy           & HeadCircumcm1 & 37           \\\\\n",
       "\t 4             & teen          & boy           & HCcm2         & NA           \\\\\n",
       "\t 4             & teen          & boy           & HCcm3         & NA           \\\\\n",
       "\t 4             & teen          & boy           & HCcm4         & NA           \\\\\n",
       "\\end{tabular}\n"
      ],
      "text/markdown": [
       "\n",
       "id | group | sex | weekNames | head | \n",
       "|---|---|---|---|\n",
       "| 4             | teen          | boy           | HeadCircumcm1 | 37            | \n",
       "| 4             | teen          | boy           | HCcm2         | NA            | \n",
       "| 4             | teen          | boy           | HCcm3         | NA            | \n",
       "| 4             | teen          | boy           | HCcm4         | NA            | \n",
       "\n",
       "\n"
      ],
      "text/plain": [
       "  id group sex weekNames     head\n",
       "1 4  teen  boy HeadCircumcm1 37  \n",
       "2 4  teen  boy HCcm2         NA  \n",
       "3 4  teen  boy HCcm3         NA  \n",
       "4 4  teen  boy HCcm4         NA  "
      ]
     },
     "metadata": {},
     "output_type": "display_data"
    }
   ],
   "source": [
    "weightLong <- weight %>% gather(weekNames, weight, -id, -group, -sex)\n",
    "headCLong <- headC %>% gather(weekNames, head, -id, -group, -sex)\n",
    "\n",
    "weightLong %>% filter(id == 4)\n",
    "headCLong %>% filter(id == 4)"
   ]
  },
  {
   "cell_type": "code",
   "execution_count": 101,
   "metadata": {},
   "outputs": [
    {
     "data": {
      "text/html": [
       "<table>\n",
       "<thead><tr><th scope=col>id</th><th scope=col>group</th><th scope=col>sex</th><th scope=col>weekNames</th><th scope=col>weight</th><th scope=col>week</th></tr></thead>\n",
       "<tbody>\n",
       "\t<tr><td>1           </td><td>teen        </td><td>girl        </td><td>BABYWeigth1g</td><td>3492.70     </td><td> 1          </td></tr>\n",
       "\t<tr><td>1           </td><td>teen        </td><td>girl        </td><td>BABYWeigth2g</td><td>3592.50     </td><td> 2          </td></tr>\n",
       "\t<tr><td>1           </td><td>teen        </td><td>girl        </td><td>BABYWeigth3g</td><td>5488.60     </td><td> 8          </td></tr>\n",
       "\t<tr><td>1           </td><td>teen        </td><td>girl        </td><td>BABYWeigth4g</td><td>8282.74     </td><td>16          </td></tr>\n",
       "</tbody>\n",
       "</table>\n"
      ],
      "text/latex": [
       "\\begin{tabular}{r|llllll}\n",
       " id & group & sex & weekNames & weight & week\\\\\n",
       "\\hline\n",
       "\t 1            & teen         & girl         & BABYWeigth1g & 3492.70      &  1          \\\\\n",
       "\t 1            & teen         & girl         & BABYWeigth2g & 3592.50      &  2          \\\\\n",
       "\t 1            & teen         & girl         & BABYWeigth3g & 5488.60      &  8          \\\\\n",
       "\t 1            & teen         & girl         & BABYWeigth4g & 8282.74      & 16          \\\\\n",
       "\\end{tabular}\n"
      ],
      "text/markdown": [
       "\n",
       "id | group | sex | weekNames | weight | week | \n",
       "|---|---|---|---|\n",
       "| 1            | teen         | girl         | BABYWeigth1g | 3492.70      |  1           | \n",
       "| 1            | teen         | girl         | BABYWeigth2g | 3592.50      |  2           | \n",
       "| 1            | teen         | girl         | BABYWeigth3g | 5488.60      |  8           | \n",
       "| 1            | teen         | girl         | BABYWeigth4g | 8282.74      | 16           | \n",
       "\n",
       "\n"
      ],
      "text/plain": [
       "  id group sex  weekNames    weight  week\n",
       "1 1  teen  girl BABYWeigth1g 3492.70  1  \n",
       "2 1  teen  girl BABYWeigth2g 3592.50  2  \n",
       "3 1  teen  girl BABYWeigth3g 5488.60  8  \n",
       "4 1  teen  girl BABYWeigth4g 8282.74 16  "
      ]
     },
     "metadata": {},
     "output_type": "display_data"
    }
   ],
   "source": [
    "weightLong <- \n",
    "    weightLong %>% \n",
    "        mutate(week = gsub(\".*1g\", \"1\", weekNames)) %>%\n",
    "        mutate(week = gsub(\".*2g\", \"2\", week)) %>%\n",
    "        mutate(week = gsub(\".*3g\", \"8\", week)) %>%\n",
    "        mutate(week = gsub(\".*4g\", \"16\", week)) %>% \n",
    "        mutate(week = as.numeric(week))\n",
    "\n",
    "weightLong %>% filter(id == 1)"
   ]
  },
  {
   "cell_type": "code",
   "execution_count": 102,
   "metadata": {},
   "outputs": [
    {
     "data": {
      "text/html": [
       "<table>\n",
       "<thead><tr><th scope=col>id</th><th scope=col>group</th><th scope=col>sex</th><th scope=col>weekNames</th><th scope=col>head</th><th scope=col>week</th></tr></thead>\n",
       "<tbody>\n",
       "\t<tr><td>1            </td><td>teen         </td><td>girl         </td><td>HeadCircumcm1</td><td>34           </td><td> 1           </td></tr>\n",
       "\t<tr><td>1            </td><td>teen         </td><td>girl         </td><td>HCcm2        </td><td>37           </td><td> 2           </td></tr>\n",
       "\t<tr><td>1            </td><td>teen         </td><td>girl         </td><td>HCcm3        </td><td>39           </td><td> 8           </td></tr>\n",
       "\t<tr><td>1            </td><td>teen         </td><td>girl         </td><td>HCcm4        </td><td>42           </td><td>16           </td></tr>\n",
       "</tbody>\n",
       "</table>\n"
      ],
      "text/latex": [
       "\\begin{tabular}{r|llllll}\n",
       " id & group & sex & weekNames & head & week\\\\\n",
       "\\hline\n",
       "\t 1             & teen          & girl          & HeadCircumcm1 & 34            &  1           \\\\\n",
       "\t 1             & teen          & girl          & HCcm2         & 37            &  2           \\\\\n",
       "\t 1             & teen          & girl          & HCcm3         & 39            &  8           \\\\\n",
       "\t 1             & teen          & girl          & HCcm4         & 42            & 16           \\\\\n",
       "\\end{tabular}\n"
      ],
      "text/markdown": [
       "\n",
       "id | group | sex | weekNames | head | week | \n",
       "|---|---|---|---|\n",
       "| 1             | teen          | girl          | HeadCircumcm1 | 34            |  1            | \n",
       "| 1             | teen          | girl          | HCcm2         | 37            |  2            | \n",
       "| 1             | teen          | girl          | HCcm3         | 39            |  8            | \n",
       "| 1             | teen          | girl          | HCcm4         | 42            | 16            | \n",
       "\n",
       "\n"
      ],
      "text/plain": [
       "  id group sex  weekNames     head week\n",
       "1 1  teen  girl HeadCircumcm1 34    1  \n",
       "2 1  teen  girl HCcm2         37    2  \n",
       "3 1  teen  girl HCcm3         39    8  \n",
       "4 1  teen  girl HCcm4         42   16  "
      ]
     },
     "metadata": {},
     "output_type": "display_data"
    }
   ],
   "source": [
    "headCLong <- \n",
    "    headCLong %>% \n",
    "        mutate(week = gsub(\".*cm1\", \"1\", weekNames)) %>%\n",
    "        mutate(week = gsub(\".*cm2\", \"2\", week)) %>%\n",
    "        mutate(week = gsub(\".*cm3\", \"8\", week)) %>%\n",
    "        mutate(week = gsub(\".*cm4\", \"16\", week)) %>% \n",
    "        mutate(week = as.numeric(week))\n",
    "\n",
    "headCLong %>% filter(id == 1)"
   ]
  },
  {
   "cell_type": "code",
   "execution_count": 103,
   "metadata": {},
   "outputs": [
    {
     "data": {},
     "metadata": {},
     "output_type": "display_data"
    },
    {
     "data": {
      "image/png": "[encoded data removed]",
      "text/plain": [
       "plot without title"
      ]
     },
     "metadata": {},
     "output_type": "display_data"
    }
   ],
   "source": [
    "weightDist <- weightLong %>% filter(!is.na(sex)) %>% group_by(sex, week) %>% \n",
    "        summarise(mean = mean(weight, na.rm = T), sd = sd(weight, na.rm = T))\n",
    "\n",
    "#png(filename=\"./plots/weight.png\", units=\"cm\", width=15, height=15, res = 300)\n",
    "ggplot(weightDist, aes(x = week, y = mean, color = sex)) + \n",
    "    geom_point() + \n",
    "    #geom_linerange(aes(ymin = mean - 2*sd, ymax = mean + 2*sd)) + \n",
    "    geom_line() + #geom_smooth(method = lm, se = F) +\n",
    "    theme(aspect.ratio = 1) +\n",
    "    ggtitle('Weight over time') + ylab('mean weight')\n",
    "#dev.off()"
   ]
  },
  {
   "cell_type": "code",
   "execution_count": 104,
   "metadata": {},
   "outputs": [
    {
     "data": {},
     "metadata": {},
     "output_type": "display_data"
    },
    {
     "data": {
      "image/png": "[encoded data removed]",
      "text/plain": [
       "plot without title"
      ]
     },
     "metadata": {},
     "output_type": "display_data"
    }
   ],
   "source": [
    "headCDist <- headCLong %>% filter(!is.na(sex)) %>% group_by(sex, week) %>% \n",
    "        summarise(mean = mean(head, na.rm = T), sd = sd(head, na.rm = T))\n",
    "\n",
    "#png(filename=\"./plots/head_c.png\", units=\"cm\", width=15, height=15, res = 300)\n",
    "ggplot(headCDist, aes(x = week, y = mean, color = sex)) + \n",
    "    geom_point() + \n",
    "    #geom_errorbar(aes(ymin = mean - 2*sd, ymax = mean + 2*sd), alpha = 0.5) + \n",
    "    geom_line() + #geom_smooth(method = lm, se = F) +\n",
    "    theme(aspect.ratio = 1) +\n",
    "    ggtitle('Head Circumference over time') + ylab('mean head circumference')\n",
    "#dev.off()"
   ]
  },
  {
   "cell_type": "code",
   "execution_count": 105,
   "metadata": {},
   "outputs": [
    {
     "data": {
      "text/plain": [
       "\n",
       "Call:\n",
       "lm(formula = mean ~ week + sex + week:sex, data = weightDist)\n",
       "\n",
       "Residuals:\n",
       "      1       2       3       4       5       6       7       8 \n",
       "-142.77   58.29  165.70  -81.21 -279.17  276.06   40.34  -37.23 \n",
       "\n",
       "Coefficients:\n",
       "            Estimate Std. Error t value Pr(>|t|)    \n",
       "(Intercept)  3365.70     174.91  19.243  4.3e-05 ***\n",
       "week          223.54      19.40  11.520 0.000324 ***\n",
       "sexboy       -185.37     247.35  -0.749 0.495267    \n",
       "week:sexboy    32.75      27.44   1.194 0.298597    \n",
       "---\n",
       "Signif. codes:  0 '***' 0.001 '**' 0.01 '*' 0.05 '.' 0.1 ' ' 1\n",
       "\n",
       "Residual standard error: 231.8 on 4 degrees of freedom\n",
       "Multiple R-squared:  0.9871,\tAdjusted R-squared:  0.9775 \n",
       "F-statistic: 102.4 on 3 and 4 DF,  p-value: 0.0003084\n"
      ]
     },
     "metadata": {},
     "output_type": "display_data"
    }
   ],
   "source": [
    "summary(lm(weightDist, formula = mean ~ week + sex + week:sex))"
   ]
  },
  {
   "cell_type": "code",
   "execution_count": 106,
   "metadata": {},
   "outputs": [
    {
     "data": {
      "text/plain": [
       "\n",
       "Call:\n",
       "lm(formula = mean ~ week + sex + week:sex, data = headCDist)\n",
       "\n",
       "Residuals:\n",
       "      1       2       3       4       5       6       7       8 \n",
       "-0.9137  0.5435  0.7621 -0.3919 -0.7740  0.5162  0.5478 -0.2901 \n",
       "\n",
       "Coefficients:\n",
       "            Estimate Std. Error t value Pr(>|t|)    \n",
       "(Intercept) 34.07687    0.66572  51.188 8.72e-07 ***\n",
       "week         0.36628    0.07385   4.959  0.00771 ** \n",
       "sexboy       0.12198    0.94147   0.130  0.90317    \n",
       "week:sexboy  0.08387    0.10445   0.803  0.46700    \n",
       "---\n",
       "Signif. codes:  0 '***' 0.001 '**' 0.01 '*' 0.05 '.' 0.1 ' ' 1\n",
       "\n",
       "Residual standard error: 0.8824 on 4 degrees of freedom\n",
       "Multiple R-squared:  0.9403,\tAdjusted R-squared:  0.8955 \n",
       "F-statistic: 20.99 on 3 and 4 DF,  p-value: 0.006556\n"
      ]
     },
     "metadata": {},
     "output_type": "display_data"
    }
   ],
   "source": [
    "summary(lm(headCDist, formula = mean ~ week + sex + week:sex))"
   ]
  },
  {
   "cell_type": "code",
   "execution_count": 107,
   "metadata": {},
   "outputs": [
    {
     "data": {
      "text/html": [
       "<table>\n",
       "<thead><tr><th></th><th scope=col>BABYWeigth1g</th><th scope=col>BABYWeigth2g</th><th scope=col>BABYWeigth3g</th><th scope=col>BABYWeigth4g</th><th scope=col>HeadCircumcm1</th><th scope=col>HCcm2</th><th scope=col>HCcm3</th><th scope=col>HCcm4</th></tr></thead>\n",
       "<tbody>\n",
       "\t<tr><th scope=row>BABYWeigth1g</th><td>1.0000000  </td><td> 0.18492505</td><td>0.6236000  </td><td>0.3964243  </td><td>0.52235889 </td><td>0.5382875  </td><td>0.5883136  </td><td> 0.19971893</td></tr>\n",
       "\t<tr><th scope=row>BABYWeigth2g</th><td>0.1849250  </td><td> 1.00000000</td><td>0.3589664  </td><td>0.2509749  </td><td>0.07017043 </td><td>0.2817560  </td><td>0.1265833  </td><td>-0.08215091</td></tr>\n",
       "\t<tr><th scope=row>BABYWeigth3g</th><td>0.6236000  </td><td> 0.35896645</td><td>1.0000000  </td><td>0.7727088  </td><td>0.78427813 </td><td>0.8303841  </td><td>0.8158937  </td><td> 0.54844962</td></tr>\n",
       "\t<tr><th scope=row>BABYWeigth4g</th><td>0.3964243  </td><td> 0.25097489</td><td>0.7727088  </td><td>1.0000000  </td><td>0.66359782 </td><td>0.6963510  </td><td>0.7417554  </td><td> 0.68986933</td></tr>\n",
       "\t<tr><th scope=row>HeadCircumcm1</th><td>0.5223589  </td><td> 0.07017043</td><td>0.7842781  </td><td>0.6635978  </td><td>1.00000000 </td><td>0.8338292  </td><td>0.8214121  </td><td> 0.75736063</td></tr>\n",
       "\t<tr><th scope=row>HCcm2</th><td>0.5382875  </td><td> 0.28175596</td><td>0.8303841  </td><td>0.6963510  </td><td>0.83382922 </td><td>1.0000000  </td><td>0.7285378  </td><td> 0.64730848</td></tr>\n",
       "\t<tr><th scope=row>HCcm3</th><td>0.5883136  </td><td> 0.12658332</td><td>0.8158937  </td><td>0.7417554  </td><td>0.82141209 </td><td>0.7285378  </td><td>1.0000000  </td><td> 0.74281294</td></tr>\n",
       "\t<tr><th scope=row>HCcm4</th><td>0.1997189  </td><td>-0.08215091</td><td>0.5484496  </td><td>0.6898693  </td><td>0.75736063 </td><td>0.6473085  </td><td>0.7428129  </td><td> 1.00000000</td></tr>\n",
       "</tbody>\n",
       "</table>\n"
      ],
      "text/latex": [
       "\\begin{tabular}{r|llllllll}\n",
       "  & BABYWeigth1g & BABYWeigth2g & BABYWeigth3g & BABYWeigth4g & HeadCircumcm1 & HCcm2 & HCcm3 & HCcm4\\\\\n",
       "\\hline\n",
       "\tBABYWeigth1g & 1.0000000   &  0.18492505 & 0.6236000   & 0.3964243   & 0.52235889  & 0.5382875   & 0.5883136   &  0.19971893\\\\\n",
       "\tBABYWeigth2g & 0.1849250   &  1.00000000 & 0.3589664   & 0.2509749   & 0.07017043  & 0.2817560   & 0.1265833   & -0.08215091\\\\\n",
       "\tBABYWeigth3g & 0.6236000   &  0.35896645 & 1.0000000   & 0.7727088   & 0.78427813  & 0.8303841   & 0.8158937   &  0.54844962\\\\\n",
       "\tBABYWeigth4g & 0.3964243   &  0.25097489 & 0.7727088   & 1.0000000   & 0.66359782  & 0.6963510   & 0.7417554   &  0.68986933\\\\\n",
       "\tHeadCircumcm1 & 0.5223589   &  0.07017043 & 0.7842781   & 0.6635978   & 1.00000000  & 0.8338292   & 0.8214121   &  0.75736063\\\\\n",
       "\tHCcm2 & 0.5382875   &  0.28175596 & 0.8303841   & 0.6963510   & 0.83382922  & 1.0000000   & 0.7285378   &  0.64730848\\\\\n",
       "\tHCcm3 & 0.5883136   &  0.12658332 & 0.8158937   & 0.7417554   & 0.82141209  & 0.7285378   & 1.0000000   &  0.74281294\\\\\n",
       "\tHCcm4 & 0.1997189   & -0.08215091 & 0.5484496   & 0.6898693   & 0.75736063  & 0.6473085   & 0.7428129   &  1.00000000\\\\\n",
       "\\end{tabular}\n"
      ],
      "text/markdown": [
       "\n",
       "| <!--/--> | BABYWeigth1g | BABYWeigth2g | BABYWeigth3g | BABYWeigth4g | HeadCircumcm1 | HCcm2 | HCcm3 | HCcm4 | \n",
       "|---|---|---|---|---|---|---|---|\n",
       "| BABYWeigth1g | 1.0000000   |  0.18492505 | 0.6236000   | 0.3964243   | 0.52235889  | 0.5382875   | 0.5883136   |  0.19971893 | \n",
       "| BABYWeigth2g | 0.1849250   |  1.00000000 | 0.3589664   | 0.2509749   | 0.07017043  | 0.2817560   | 0.1265833   | -0.08215091 | \n",
       "| BABYWeigth3g | 0.6236000   |  0.35896645 | 1.0000000   | 0.7727088   | 0.78427813  | 0.8303841   | 0.8158937   |  0.54844962 | \n",
       "| BABYWeigth4g | 0.3964243   |  0.25097489 | 0.7727088   | 1.0000000   | 0.66359782  | 0.6963510   | 0.7417554   |  0.68986933 | \n",
       "| HeadCircumcm1 | 0.5223589   |  0.07017043 | 0.7842781   | 0.6635978   | 1.00000000  | 0.8338292   | 0.8214121   |  0.75736063 | \n",
       "| HCcm2 | 0.5382875   |  0.28175596 | 0.8303841   | 0.6963510   | 0.83382922  | 1.0000000   | 0.7285378   |  0.64730848 | \n",
       "| HCcm3 | 0.5883136   |  0.12658332 | 0.8158937   | 0.7417554   | 0.82141209  | 0.7285378   | 1.0000000   |  0.74281294 | \n",
       "| HCcm4 | 0.1997189   | -0.08215091 | 0.5484496   | 0.6898693   | 0.75736063  | 0.6473085   | 0.7428129   |  1.00000000 | \n",
       "\n",
       "\n"
      ],
      "text/plain": [
       "              BABYWeigth1g BABYWeigth2g BABYWeigth3g BABYWeigth4g HeadCircumcm1\n",
       "BABYWeigth1g  1.0000000     0.18492505  0.6236000    0.3964243    0.52235889   \n",
       "BABYWeigth2g  0.1849250     1.00000000  0.3589664    0.2509749    0.07017043   \n",
       "BABYWeigth3g  0.6236000     0.35896645  1.0000000    0.7727088    0.78427813   \n",
       "BABYWeigth4g  0.3964243     0.25097489  0.7727088    1.0000000    0.66359782   \n",
       "HeadCircumcm1 0.5223589     0.07017043  0.7842781    0.6635978    1.00000000   \n",
       "HCcm2         0.5382875     0.28175596  0.8303841    0.6963510    0.83382922   \n",
       "HCcm3         0.5883136     0.12658332  0.8158937    0.7417554    0.82141209   \n",
       "HCcm4         0.1997189    -0.08215091  0.5484496    0.6898693    0.75736063   \n",
       "              HCcm2     HCcm3     HCcm4      \n",
       "BABYWeigth1g  0.5382875 0.5883136  0.19971893\n",
       "BABYWeigth2g  0.2817560 0.1265833 -0.08215091\n",
       "BABYWeigth3g  0.8303841 0.8158937  0.54844962\n",
       "BABYWeigth4g  0.6963510 0.7417554  0.68986933\n",
       "HeadCircumcm1 0.8338292 0.8214121  0.75736063\n",
       "HCcm2         1.0000000 0.7285378  0.64730848\n",
       "HCcm3         0.7285378 1.0000000  0.74281294\n",
       "HCcm4         0.6473085 0.7428129  1.00000000"
      ]
     },
     "metadata": {},
     "output_type": "display_data"
    }
   ],
   "source": [
    "weight %>% inner_join(headC, by = 'id') %>% select(contains('Weigth'), contains('cm')) %>% cor(use=\"complete.obs\")"
   ]
  },
  {
   "cell_type": "markdown",
   "metadata": {},
   "source": [
    "### Weight and size effect on AA:\n",
    "\n",
    "$AA = \\alpha_0 + \\alpha_1 \\ week + \\alpha_2 \\ sex + \\alpha_3 \\ weight + \\alpha_{id}$\n",
    "\n",
    "and \n",
    "\n",
    "$AA = \\alpha_0 + \\alpha_1 \\ week + \\alpha_2 \\ sex + \\alpha_3 \\ head + \\alpha_{id}$"
   ]
  },
  {
   "cell_type": "code",
   "execution_count": 219,
   "metadata": {
    "collapsed": true
   },
   "outputs": [],
   "source": [
    "meWeight <- function(df){\n",
    "    \n",
    "    me <- lmer(level ~ sex + week + weight + (1 | id), data = df)\n",
    "    \n",
    "    return(me)\n",
    "}"
   ]
  },
  {
   "cell_type": "code",
   "execution_count": 220,
   "metadata": {
    "collapsed": true
   },
   "outputs": [],
   "source": [
    "meHead <- function(df){\n",
    "    \n",
    "    me <- lmer(level ~ sex + week + head + (1 | id), data = df)\n",
    "    \n",
    "    return(me)\n",
    "}"
   ]
  },
  {
   "cell_type": "code",
   "execution_count": 221,
   "metadata": {
    "collapsed": true
   },
   "outputs": [],
   "source": [
    "AA_E_Nested <- AA_E_Long %>% group_by(AA) %>% nest()\n",
    "AA_NE_Nested <- AA_NE_Long %>% group_by(AA) %>% nest()"
   ]
  },
  {
   "cell_type": "code",
   "execution_count": 222,
   "metadata": {
    "collapsed": true
   },
   "outputs": [],
   "source": [
    "nAA_E <- length(AA_E_Nested$AA)\n",
    "nAA_NE <- length(AA_NE_Nested$AA)"
   ]
  },
  {
   "cell_type": "code",
   "execution_count": 223,
   "metadata": {},
   "outputs": [
    {
     "data": {
      "text/html": [
       "<table>\n",
       "<thead><tr><th scope=col>id</th><th scope=col>group</th><th scope=col>age</th><th scope=col>sex</th><th scope=col>weekNames</th><th scope=col>level</th><th scope=col>week</th></tr></thead>\n",
       "<tbody>\n",
       "\t<tr><td>2            </td><td>teen         </td><td>16           </td><td>boy          </td><td>HISCalostrum </td><td>1            </td><td> 1           </td></tr>\n",
       "\t<tr><td>2            </td><td>teen         </td><td>16           </td><td>boy          </td><td>HISTransition</td><td>3            </td><td> 2           </td></tr>\n",
       "\t<tr><td>2            </td><td>teen         </td><td>16           </td><td>boy          </td><td>HISMature2m  </td><td>2            </td><td> 8           </td></tr>\n",
       "\t<tr><td>2            </td><td>teen         </td><td>16           </td><td>boy          </td><td>HISMature4m  </td><td>2            </td><td>16           </td></tr>\n",
       "</tbody>\n",
       "</table>\n"
      ],
      "text/latex": [
       "\\begin{tabular}{r|lllllll}\n",
       " id & group & age & sex & weekNames & level & week\\\\\n",
       "\\hline\n",
       "\t 2             & teen          & 16            & boy           & HISCalostrum  & 1             &  1           \\\\\n",
       "\t 2             & teen          & 16            & boy           & HISTransition & 3             &  2           \\\\\n",
       "\t 2             & teen          & 16            & boy           & HISMature2m   & 2             &  8           \\\\\n",
       "\t 2             & teen          & 16            & boy           & HISMature4m   & 2             & 16           \\\\\n",
       "\\end{tabular}\n"
      ],
      "text/markdown": [
       "\n",
       "id | group | age | sex | weekNames | level | week | \n",
       "|---|---|---|---|\n",
       "| 2             | teen          | 16            | boy           | HISCalostrum  | 1             |  1            | \n",
       "| 2             | teen          | 16            | boy           | HISTransition | 3             |  2            | \n",
       "| 2             | teen          | 16            | boy           | HISMature2m   | 2             |  8            | \n",
       "| 2             | teen          | 16            | boy           | HISMature4m   | 2             | 16            | \n",
       "\n",
       "\n"
      ],
      "text/plain": [
       "  id group age sex weekNames     level week\n",
       "1 2  teen  16  boy HISCalostrum  1      1  \n",
       "2 2  teen  16  boy HISTransition 3      2  \n",
       "3 2  teen  16  boy HISMature2m   2      8  \n",
       "4 2  teen  16  boy HISMature4m   2     16  "
      ]
     },
     "metadata": {},
     "output_type": "display_data"
    }
   ],
   "source": [
    "AA_E_Nested$data[[1]] %>% filter(id == 2)"
   ]
  },
  {
   "cell_type": "code",
   "execution_count": 224,
   "metadata": {},
   "outputs": [
    {
     "data": {
      "text/html": [
       "<table>\n",
       "<thead><tr><th scope=col>id</th><th scope=col>weight</th><th scope=col>week</th></tr></thead>\n",
       "<tbody>\n",
       "\t<tr><td>2      </td><td>3.39290</td><td> 1     </td></tr>\n",
       "\t<tr><td>2      </td><td>4.09150</td><td> 2     </td></tr>\n",
       "\t<tr><td>2      </td><td>5.98750</td><td> 8     </td></tr>\n",
       "\t<tr><td>2      </td><td>7.88357</td><td>16     </td></tr>\n",
       "</tbody>\n",
       "</table>\n"
      ],
      "text/latex": [
       "\\begin{tabular}{r|lll}\n",
       " id & weight & week\\\\\n",
       "\\hline\n",
       "\t 2       & 3.39290 &  1     \\\\\n",
       "\t 2       & 4.09150 &  2     \\\\\n",
       "\t 2       & 5.98750 &  8     \\\\\n",
       "\t 2       & 7.88357 & 16     \\\\\n",
       "\\end{tabular}\n"
      ],
      "text/markdown": [
       "\n",
       "id | weight | week | \n",
       "|---|---|---|---|\n",
       "| 2       | 3.39290 |  1      | \n",
       "| 2       | 4.09150 |  2      | \n",
       "| 2       | 5.98750 |  8      | \n",
       "| 2       | 7.88357 | 16      | \n",
       "\n",
       "\n"
      ],
      "text/plain": [
       "  id weight  week\n",
       "1 2  3.39290  1  \n",
       "2 2  4.09150  2  \n",
       "3 2  5.98750  8  \n",
       "4 2  7.88357 16  "
      ]
     },
     "metadata": {},
     "output_type": "display_data"
    }
   ],
   "source": [
    "w <- weightLong %>% select(id, weight, week) %>% mutate(weight = weight/1000)\n",
    "w %>% filter(id == 2)"
   ]
  },
  {
   "cell_type": "code",
   "execution_count": 225,
   "metadata": {},
   "outputs": [
    {
     "data": {
      "text/html": [
       "<table>\n",
       "<thead><tr><th scope=col>id</th><th scope=col>head</th><th scope=col>week</th></tr></thead>\n",
       "<tbody>\n",
       "\t<tr><td>2 </td><td>35</td><td> 1</td></tr>\n",
       "\t<tr><td>2 </td><td>37</td><td> 2</td></tr>\n",
       "\t<tr><td>2 </td><td>38</td><td> 8</td></tr>\n",
       "\t<tr><td>2 </td><td>41</td><td>16</td></tr>\n",
       "</tbody>\n",
       "</table>\n"
      ],
      "text/latex": [
       "\\begin{tabular}{r|lll}\n",
       " id & head & week\\\\\n",
       "\\hline\n",
       "\t 2  & 35 &  1\\\\\n",
       "\t 2  & 37 &  2\\\\\n",
       "\t 2  & 38 &  8\\\\\n",
       "\t 2  & 41 & 16\\\\\n",
       "\\end{tabular}\n"
      ],
      "text/markdown": [
       "\n",
       "id | head | week | \n",
       "|---|---|---|---|\n",
       "| 2  | 35 |  1 | \n",
       "| 2  | 37 |  2 | \n",
       "| 2  | 38 |  8 | \n",
       "| 2  | 41 | 16 | \n",
       "\n",
       "\n"
      ],
      "text/plain": [
       "  id head week\n",
       "1 2  35    1  \n",
       "2 2  37    2  \n",
       "3 2  38    8  \n",
       "4 2  41   16  "
      ]
     },
     "metadata": {},
     "output_type": "display_data"
    }
   ],
   "source": [
    "hc <- headCLong %>% select(id, head, week) \n",
    "hc %>% filter(id == 2)"
   ]
  },
  {
   "cell_type": "code",
   "execution_count": 226,
   "metadata": {},
   "outputs": [
    {
     "data": {
      "text/html": [
       "<table>\n",
       "<thead><tr><th scope=col>id</th><th scope=col>group</th><th scope=col>age</th><th scope=col>sex</th><th scope=col>weekNames</th><th scope=col>level</th><th scope=col>week</th><th scope=col>weight</th><th scope=col>head</th></tr></thead>\n",
       "<tbody>\n",
       "\t<tr><td>2            </td><td>teen         </td><td>16           </td><td>boy          </td><td>HISCalostrum </td><td>1            </td><td> 1           </td><td>3.39290      </td><td>35           </td></tr>\n",
       "\t<tr><td>2            </td><td>teen         </td><td>16           </td><td>boy          </td><td>HISTransition</td><td>3            </td><td> 2           </td><td>4.09150      </td><td>37           </td></tr>\n",
       "\t<tr><td>2            </td><td>teen         </td><td>16           </td><td>boy          </td><td>HISMature2m  </td><td>2            </td><td> 8           </td><td>5.98750      </td><td>38           </td></tr>\n",
       "\t<tr><td>2            </td><td>teen         </td><td>16           </td><td>boy          </td><td>HISMature4m  </td><td>2            </td><td>16           </td><td>7.88357      </td><td>41           </td></tr>\n",
       "</tbody>\n",
       "</table>\n"
      ],
      "text/latex": [
       "\\begin{tabular}{r|lllllllll}\n",
       " id & group & age & sex & weekNames & level & week & weight & head\\\\\n",
       "\\hline\n",
       "\t 2             & teen          & 16            & boy           & HISCalostrum  & 1             &  1            & 3.39290       & 35           \\\\\n",
       "\t 2             & teen          & 16            & boy           & HISTransition & 3             &  2            & 4.09150       & 37           \\\\\n",
       "\t 2             & teen          & 16            & boy           & HISMature2m   & 2             &  8            & 5.98750       & 38           \\\\\n",
       "\t 2             & teen          & 16            & boy           & HISMature4m   & 2             & 16            & 7.88357       & 41           \\\\\n",
       "\\end{tabular}\n"
      ],
      "text/markdown": [
       "\n",
       "id | group | age | sex | weekNames | level | week | weight | head | \n",
       "|---|---|---|---|\n",
       "| 2             | teen          | 16            | boy           | HISCalostrum  | 1             |  1            | 3.39290       | 35            | \n",
       "| 2             | teen          | 16            | boy           | HISTransition | 3             |  2            | 4.09150       | 37            | \n",
       "| 2             | teen          | 16            | boy           | HISMature2m   | 2             |  8            | 5.98750       | 38            | \n",
       "| 2             | teen          | 16            | boy           | HISMature4m   | 2             | 16            | 7.88357       | 41            | \n",
       "\n",
       "\n"
      ],
      "text/plain": [
       "  id group age sex weekNames     level week weight  head\n",
       "1 2  teen  16  boy HISCalostrum  1      1   3.39290 35  \n",
       "2 2  teen  16  boy HISTransition 3      2   4.09150 37  \n",
       "3 2  teen  16  boy HISMature2m   2      8   5.98750 38  \n",
       "4 2  teen  16  boy HISMature4m   2     16   7.88357 41  "
      ]
     },
     "metadata": {},
     "output_type": "display_data"
    }
   ],
   "source": [
    "AA_E_Nested$data[[1]] %>% left_join(w, by = c('id', 'week')) %>% \n",
    "    left_join(hc, by = c('id', 'week')) %>% filter(id == 2)"
   ]
  },
  {
   "cell_type": "code",
   "execution_count": 227,
   "metadata": {},
   "outputs": [],
   "source": [
    "me_E_W <- list()\n",
    "me_E_HC <- list()\n",
    "\n",
    "tidy_E_W <- list()\n",
    "tidy_E_HC <- list()\n",
    "\n",
    "for(i in 1:nAA_E){\n",
    "    \n",
    "    w <- weightLong %>% select(id, weight, week) %>% mutate(weight = weight/1000)\n",
    "    hc <- headCLong %>% select(id, head, week)\n",
    "    \n",
    "    AA_E_wh <- AA_E_Nested$data[[i]] %>% left_join(w, by = c('id', 'week')) %>% left_join(hc, by = c('id', 'week'))\n",
    "    \n",
    "    me_E_W[[i]] <- meWeight(AA_E_wh)\n",
    "    me_E_HC[[i]] <- meHead(AA_E_wh)\n",
    "    \n",
    "    tidy_E_W[[i]] <- tidy(me_E_W[[i]], effects = 'fixed') %>% mutate(AA = AA_E_Nested$AA[i])\n",
    "    tidy_E_HC[[i]] <- tidy(me_E_HC[[i]], effects = 'fixed') %>% mutate(AA = AA_E_Nested$AA[i])\n",
    "    \n",
    "}"
   ]
  },
  {
   "cell_type": "code",
   "execution_count": 228,
   "metadata": {
    "collapsed": true
   },
   "outputs": [],
   "source": [
    "me_NE_W <- list()\n",
    "me_NE_HC <- list()\n",
    "\n",
    "tidy_NE_W <- list()\n",
    "tidy_NE_HC <- list()\n",
    "\n",
    "for(i in 1:nAA_NE){\n",
    "    \n",
    "    w <- weightLong %>% select(id, weight, week) %>% mutate(weight = weight/1000)\n",
    "    hc <- headCLong %>% select(id, head, week)\n",
    "    \n",
    "    AA_NE_wh <- AA_NE_Nested$data[[i]] %>% left_join(w, by = c('id', 'week')) %>% left_join(hc, by = c('id', 'week'))\n",
    "    \n",
    "    me_NE_W[[i]] <- meWeight(AA_NE_wh)\n",
    "    me_NE_HC[[i]] <- meHead(AA_NE_wh)\n",
    "    \n",
    "    tidy_NE_W[[i]] <- tidy(me_NE_W[[i]], effects = 'fixed') %>% mutate(AA = AA_NE_Nested$AA[i])\n",
    "    tidy_NE_HC[[i]] <- tidy(me_NE_HC[[i]], effects = 'fixed') %>% mutate(AA = AA_NE_Nested$AA[i])\n",
    "    \n",
    "}"
   ]
  },
  {
   "cell_type": "code",
   "execution_count": 229,
   "metadata": {},
   "outputs": [
    {
     "data": {
      "text/plain": [
       "Linear mixed model fit by REML ['lmerMod']\n",
       "Formula: level ~ sex + week + weight + (1 | id)\n",
       "   Data: df\n",
       "REML criterion at convergence: 412.3078\n",
       "Random effects:\n",
       " Groups   Name        Std.Dev.\n",
       " id       (Intercept) 0.2974  \n",
       " Residual             0.8620  \n",
       "Number of obs: 152, groups:  id, 54\n",
       "Fixed Effects:\n",
       "(Intercept)       sexboy         week       weight  \n",
       "    1.34466      0.12460     -0.02125      0.14292  "
      ]
     },
     "metadata": {},
     "output_type": "display_data"
    },
    {
     "data": {
      "text/html": [
       "<table>\n",
       "<thead><tr><th scope=col>term</th><th scope=col>estimate</th><th scope=col>std.error</th><th scope=col>statistic</th><th scope=col>AA</th></tr></thead>\n",
       "<tbody>\n",
       "\t<tr><td>(Intercept)</td><td> 1.3446613 </td><td>0.33539702 </td><td> 4.0091628 </td><td>HIS        </td></tr>\n",
       "\t<tr><td>sexboy     </td><td> 0.1246034 </td><td>0.16811119 </td><td> 0.7411961 </td><td>HIS        </td></tr>\n",
       "\t<tr><td>week       </td><td>-0.0212471 </td><td>0.02601261 </td><td>-0.8168000 </td><td>HIS        </td></tr>\n",
       "\t<tr><td>weight     </td><td> 0.1429245 </td><td>0.09273775 </td><td> 1.5411687 </td><td>HIS        </td></tr>\n",
       "</tbody>\n",
       "</table>\n"
      ],
      "text/latex": [
       "\\begin{tabular}{r|lllll}\n",
       " term & estimate & std.error & statistic & AA\\\\\n",
       "\\hline\n",
       "\t (Intercept) &  1.3446613  & 0.33539702  &  4.0091628  & HIS        \\\\\n",
       "\t sexboy      &  0.1246034  & 0.16811119  &  0.7411961  & HIS        \\\\\n",
       "\t week        & -0.0212471  & 0.02601261  & -0.8168000  & HIS        \\\\\n",
       "\t weight      &  0.1429245  & 0.09273775  &  1.5411687  & HIS        \\\\\n",
       "\\end{tabular}\n"
      ],
      "text/markdown": [
       "\n",
       "term | estimate | std.error | statistic | AA | \n",
       "|---|---|---|---|\n",
       "| (Intercept) |  1.3446613  | 0.33539702  |  4.0091628  | HIS         | \n",
       "| sexboy      |  0.1246034  | 0.16811119  |  0.7411961  | HIS         | \n",
       "| week        | -0.0212471  | 0.02601261  | -0.8168000  | HIS         | \n",
       "| weight      |  0.1429245  | 0.09273775  |  1.5411687  | HIS         | \n",
       "\n",
       "\n"
      ],
      "text/plain": [
       "  term        estimate   std.error  statistic  AA \n",
       "1 (Intercept)  1.3446613 0.33539702  4.0091628 HIS\n",
       "2 sexboy       0.1246034 0.16811119  0.7411961 HIS\n",
       "3 week        -0.0212471 0.02601261 -0.8168000 HIS\n",
       "4 weight       0.1429245 0.09273775  1.5411687 HIS"
      ]
     },
     "metadata": {},
     "output_type": "display_data"
    }
   ],
   "source": [
    "me_E_W[[1]]\n",
    "tidy_E_W[[1]]"
   ]
  },
  {
   "cell_type": "code",
   "execution_count": 230,
   "metadata": {},
   "outputs": [
    {
     "data": {
      "text/plain": [
       "Linear mixed model fit by REML ['lmerMod']\n",
       "Formula: level ~ sex + week + weight + (1 | id)\n",
       "   Data: df\n",
       "REML criterion at convergence: 1517.247\n",
       "Random effects:\n",
       " Groups   Name        Std.Dev.\n",
       " id       (Intercept) 15.78   \n",
       " Residual             35.07   \n",
       "Number of obs: 152, groups:  id, 54\n",
       "Fixed Effects:\n",
       "(Intercept)       sexboy         week       weight  \n",
       "      25.82        11.28         2.09         9.14  "
      ]
     },
     "metadata": {},
     "output_type": "display_data"
    },
    {
     "data": {
      "text/html": [
       "<table>\n",
       "<thead><tr><th scope=col>term</th><th scope=col>estimate</th><th scope=col>std.error</th><th scope=col>statistic</th><th scope=col>AA</th></tr></thead>\n",
       "<tbody>\n",
       "\t<tr><td>(Intercept)</td><td>25.823664  </td><td>14.171763  </td><td>1.822191   </td><td>GLU        </td></tr>\n",
       "\t<tr><td>sexboy     </td><td>11.278562  </td><td> 7.439902  </td><td>1.515956   </td><td>GLU        </td></tr>\n",
       "\t<tr><td>week       </td><td> 2.089540  </td><td> 1.086773  </td><td>1.922703   </td><td>GLU        </td></tr>\n",
       "\t<tr><td>weight     </td><td> 9.140187  </td><td> 3.891223  </td><td>2.348924   </td><td>GLU        </td></tr>\n",
       "</tbody>\n",
       "</table>\n"
      ],
      "text/latex": [
       "\\begin{tabular}{r|lllll}\n",
       " term & estimate & std.error & statistic & AA\\\\\n",
       "\\hline\n",
       "\t (Intercept) & 25.823664   & 14.171763   & 1.822191    & GLU        \\\\\n",
       "\t sexboy      & 11.278562   &  7.439902   & 1.515956    & GLU        \\\\\n",
       "\t week        &  2.089540   &  1.086773   & 1.922703    & GLU        \\\\\n",
       "\t weight      &  9.140187   &  3.891223   & 2.348924    & GLU        \\\\\n",
       "\\end{tabular}\n"
      ],
      "text/markdown": [
       "\n",
       "term | estimate | std.error | statistic | AA | \n",
       "|---|---|---|---|\n",
       "| (Intercept) | 25.823664   | 14.171763   | 1.822191    | GLU         | \n",
       "| sexboy      | 11.278562   |  7.439902   | 1.515956    | GLU         | \n",
       "| week        |  2.089540   |  1.086773   | 1.922703    | GLU         | \n",
       "| weight      |  9.140187   |  3.891223   | 2.348924    | GLU         | \n",
       "\n",
       "\n"
      ],
      "text/plain": [
       "  term        estimate  std.error statistic AA \n",
       "1 (Intercept) 25.823664 14.171763 1.822191  GLU\n",
       "2 sexboy      11.278562  7.439902 1.515956  GLU\n",
       "3 week         2.089540  1.086773 1.922703  GLU\n",
       "4 weight       9.140187  3.891223 2.348924  GLU"
      ]
     },
     "metadata": {},
     "output_type": "display_data"
    }
   ],
   "source": [
    "me_NE_W[[7]]\n",
    "tidy_NE_W[[7]]"
   ]
  },
  {
   "cell_type": "code",
   "execution_count": 231,
   "metadata": {},
   "outputs": [],
   "source": [
    "AA_E_Nested <- AA_E_Nested %>% mutate(model = me_E_W, tidy = tidy_E_W)\n",
    "AA_NE_Nested <- AA_NE_Nested %>% mutate(model = me_NE_W, tidy = tidy_NE_W)"
   ]
  },
  {
   "cell_type": "code",
   "execution_count": 232,
   "metadata": {},
   "outputs": [
    {
     "data": {
      "text/html": [
       "<table>\n",
       "<thead><tr><th scope=col>term</th><th scope=col>estimate</th><th scope=col>std.error</th><th scope=col>statistic</th><th scope=col>AA</th></tr></thead>\n",
       "<tbody>\n",
       "\t<tr><td>weight      </td><td> 0.142924521</td><td>0.092737749 </td><td> 1.5411687  </td><td>HIS         </td></tr>\n",
       "\t<tr><td>weight      </td><td>-0.064548628</td><td>0.056312009 </td><td>-1.1462675  </td><td>ILE         </td></tr>\n",
       "\t<tr><td>weight      </td><td>-0.025239001</td><td>0.135709750 </td><td>-0.1859778  </td><td>LEU         </td></tr>\n",
       "\t<tr><td>weight      </td><td>-0.158585165</td><td>0.135753344 </td><td>-1.1681861  </td><td>LYS         </td></tr>\n",
       "\t<tr><td>weight      </td><td>-0.013331574</td><td>0.035180107 </td><td>-0.3789521  </td><td>MET         </td></tr>\n",
       "\t<tr><td>weight      </td><td> 0.069014978</td><td>0.053265794 </td><td> 1.2956716  </td><td>PHE         </td></tr>\n",
       "\t<tr><td>weight      </td><td>-0.374264506</td><td>0.282506518 </td><td>-1.3247995  </td><td>THR         </td></tr>\n",
       "\t<tr><td>weight      </td><td>-0.004489604</td><td>0.008220352 </td><td>-0.5461571  </td><td>TRP         </td></tr>\n",
       "\t<tr><td>weight      </td><td> 0.037371032</td><td>0.149608772 </td><td> 0.2497917  </td><td>VAL         </td></tr>\n",
       "</tbody>\n",
       "</table>\n"
      ],
      "text/latex": [
       "\\begin{tabular}{r|lllll}\n",
       " term & estimate & std.error & statistic & AA\\\\\n",
       "\\hline\n",
       "\t weight       &  0.142924521 & 0.092737749  &  1.5411687   & HIS         \\\\\n",
       "\t weight       & -0.064548628 & 0.056312009  & -1.1462675   & ILE         \\\\\n",
       "\t weight       & -0.025239001 & 0.135709750  & -0.1859778   & LEU         \\\\\n",
       "\t weight       & -0.158585165 & 0.135753344  & -1.1681861   & LYS         \\\\\n",
       "\t weight       & -0.013331574 & 0.035180107  & -0.3789521   & MET         \\\\\n",
       "\t weight       &  0.069014978 & 0.053265794  &  1.2956716   & PHE         \\\\\n",
       "\t weight       & -0.374264506 & 0.282506518  & -1.3247995   & THR         \\\\\n",
       "\t weight       & -0.004489604 & 0.008220352  & -0.5461571   & TRP         \\\\\n",
       "\t weight       &  0.037371032 & 0.149608772  &  0.2497917   & VAL         \\\\\n",
       "\\end{tabular}\n"
      ],
      "text/markdown": [
       "\n",
       "term | estimate | std.error | statistic | AA | \n",
       "|---|---|---|---|---|---|---|---|---|\n",
       "| weight       |  0.142924521 | 0.092737749  |  1.5411687   | HIS          | \n",
       "| weight       | -0.064548628 | 0.056312009  | -1.1462675   | ILE          | \n",
       "| weight       | -0.025239001 | 0.135709750  | -0.1859778   | LEU          | \n",
       "| weight       | -0.158585165 | 0.135753344  | -1.1681861   | LYS          | \n",
       "| weight       | -0.013331574 | 0.035180107  | -0.3789521   | MET          | \n",
       "| weight       |  0.069014978 | 0.053265794  |  1.2956716   | PHE          | \n",
       "| weight       | -0.374264506 | 0.282506518  | -1.3247995   | THR          | \n",
       "| weight       | -0.004489604 | 0.008220352  | -0.5461571   | TRP          | \n",
       "| weight       |  0.037371032 | 0.149608772  |  0.2497917   | VAL          | \n",
       "\n",
       "\n"
      ],
      "text/plain": [
       "  term   estimate     std.error   statistic  AA \n",
       "1 weight  0.142924521 0.092737749  1.5411687 HIS\n",
       "2 weight -0.064548628 0.056312009 -1.1462675 ILE\n",
       "3 weight -0.025239001 0.135709750 -0.1859778 LEU\n",
       "4 weight -0.158585165 0.135753344 -1.1681861 LYS\n",
       "5 weight -0.013331574 0.035180107 -0.3789521 MET\n",
       "6 weight  0.069014978 0.053265794  1.2956716 PHE\n",
       "7 weight -0.374264506 0.282506518 -1.3247995 THR\n",
       "8 weight -0.004489604 0.008220352 -0.5461571 TRP\n",
       "9 weight  0.037371032 0.149608772  0.2497917 VAL"
      ]
     },
     "metadata": {},
     "output_type": "display_data"
    },
    {
     "data": {
      "text/html": [
       "<table>\n",
       "<thead><tr><th scope=col>term</th><th scope=col>estimate</th><th scope=col>std.error</th><th scope=col>statistic</th><th scope=col>AA</th></tr></thead>\n",
       "<tbody>\n",
       "\t<tr><td>weight      </td><td>-0.041541657</td><td>0.08973246  </td><td>-0.46295018 </td><td>ARG         </td></tr>\n",
       "\t<tr><td>weight      </td><td> 0.521487437</td><td>0.27288208  </td><td> 1.91103585 </td><td>ASP         </td></tr>\n",
       "\t<tr><td>weight      </td><td> 1.637902479</td><td>0.96015602  </td><td> 1.70587118 </td><td>ALA         </td></tr>\n",
       "\t<tr><td>weight      </td><td>-0.139190692</td><td>0.07067147  </td><td>-1.96954581 </td><td>ASN         </td></tr>\n",
       "\t<tr><td>weight      </td><td>-0.022913319</td><td>0.09180929  </td><td>-0.24957518 </td><td>CYS         </td></tr>\n",
       "\t<tr><td>weight      </td><td> 0.755214070</td><td>0.46450363  </td><td> 1.62585183 </td><td>GLY         </td></tr>\n",
       "\t<tr><td>weight      </td><td> 9.140187226</td><td>3.89122340  </td><td> 2.34892379 </td><td>GLU         </td></tr>\n",
       "\t<tr><td>weight      </td><td> 5.265777871</td><td>1.87237213  </td><td> 2.81235647 </td><td>GLN         </td></tr>\n",
       "\t<tr><td>weight      </td><td>-0.431695508</td><td>0.20308406  </td><td>-2.12569867 </td><td>PRO         </td></tr>\n",
       "\t<tr><td>weight      </td><td> 0.775349257</td><td>0.39368808  </td><td> 1.96945066 </td><td>SER         </td></tr>\n",
       "\t<tr><td>weight      </td><td> 0.004108529</td><td>0.06055234  </td><td> 0.06785086 </td><td>TYR         </td></tr>\n",
       "</tbody>\n",
       "</table>\n"
      ],
      "text/latex": [
       "\\begin{tabular}{r|lllll}\n",
       " term & estimate & std.error & statistic & AA\\\\\n",
       "\\hline\n",
       "\t weight       & -0.041541657 & 0.08973246   & -0.46295018  & ARG         \\\\\n",
       "\t weight       &  0.521487437 & 0.27288208   &  1.91103585  & ASP         \\\\\n",
       "\t weight       &  1.637902479 & 0.96015602   &  1.70587118  & ALA         \\\\\n",
       "\t weight       & -0.139190692 & 0.07067147   & -1.96954581  & ASN         \\\\\n",
       "\t weight       & -0.022913319 & 0.09180929   & -0.24957518  & CYS         \\\\\n",
       "\t weight       &  0.755214070 & 0.46450363   &  1.62585183  & GLY         \\\\\n",
       "\t weight       &  9.140187226 & 3.89122340   &  2.34892379  & GLU         \\\\\n",
       "\t weight       &  5.265777871 & 1.87237213   &  2.81235647  & GLN         \\\\\n",
       "\t weight       & -0.431695508 & 0.20308406   & -2.12569867  & PRO         \\\\\n",
       "\t weight       &  0.775349257 & 0.39368808   &  1.96945066  & SER         \\\\\n",
       "\t weight       &  0.004108529 & 0.06055234   &  0.06785086  & TYR         \\\\\n",
       "\\end{tabular}\n"
      ],
      "text/markdown": [
       "\n",
       "term | estimate | std.error | statistic | AA | \n",
       "|---|---|---|---|---|---|---|---|---|---|---|\n",
       "| weight       | -0.041541657 | 0.08973246   | -0.46295018  | ARG          | \n",
       "| weight       |  0.521487437 | 0.27288208   |  1.91103585  | ASP          | \n",
       "| weight       |  1.637902479 | 0.96015602   |  1.70587118  | ALA          | \n",
       "| weight       | -0.139190692 | 0.07067147   | -1.96954581  | ASN          | \n",
       "| weight       | -0.022913319 | 0.09180929   | -0.24957518  | CYS          | \n",
       "| weight       |  0.755214070 | 0.46450363   |  1.62585183  | GLY          | \n",
       "| weight       |  9.140187226 | 3.89122340   |  2.34892379  | GLU          | \n",
       "| weight       |  5.265777871 | 1.87237213   |  2.81235647  | GLN          | \n",
       "| weight       | -0.431695508 | 0.20308406   | -2.12569867  | PRO          | \n",
       "| weight       |  0.775349257 | 0.39368808   |  1.96945066  | SER          | \n",
       "| weight       |  0.004108529 | 0.06055234   |  0.06785086  | TYR          | \n",
       "\n",
       "\n"
      ],
      "text/plain": [
       "   term   estimate     std.error  statistic   AA \n",
       "1  weight -0.041541657 0.08973246 -0.46295018 ARG\n",
       "2  weight  0.521487437 0.27288208  1.91103585 ASP\n",
       "3  weight  1.637902479 0.96015602  1.70587118 ALA\n",
       "4  weight -0.139190692 0.07067147 -1.96954581 ASN\n",
       "5  weight -0.022913319 0.09180929 -0.24957518 CYS\n",
       "6  weight  0.755214070 0.46450363  1.62585183 GLY\n",
       "7  weight  9.140187226 3.89122340  2.34892379 GLU\n",
       "8  weight  5.265777871 1.87237213  2.81235647 GLN\n",
       "9  weight -0.431695508 0.20308406 -2.12569867 PRO\n",
       "10 weight  0.775349257 0.39368808  1.96945066 SER\n",
       "11 weight  0.004108529 0.06055234  0.06785086 TYR"
      ]
     },
     "metadata": {},
     "output_type": "display_data"
    }
   ],
   "source": [
    "weightCoef_E <- bind_rows(tidy_E_W) %>% filter(grepl(\"weight\", term))\n",
    "weightCoef_NE <- bind_rows(tidy_NE_W) %>% filter(grepl(\"weight\", term))\n",
    "\n",
    "weightCoef_E\n",
    "weightCoef_NE"
   ]
  },
  {
   "cell_type": "code",
   "execution_count": 233,
   "metadata": {},
   "outputs": [
    {
     "data": {},
     "metadata": {},
     "output_type": "display_data"
    },
    {
     "data": {
      "image/png": "[encoded data removed]",
      "text/plain": [
       "plot without title"
      ]
     },
     "metadata": {},
     "output_type": "display_data"
    }
   ],
   "source": [
    "#png(filename=\"./plots/weight_E.png\", units=\"cm\", width=20, height=20, res = 300)\n",
    "ggplot(weightCoef_E, aes(x = reorder(AA, estimate), y = estimate, color = AA)) + \n",
    "    geom_hline(yintercept = 0, alpha = 0.4) + \n",
    "    geom_point() + geom_pointrange( aes(x = AA, ymin = estimate - 2*std.error, ymax = estimate + 2*std.error)) + \n",
    "    theme(legend.position = \"none\") + \n",
    "    coord_flip() + \n",
    "    ggtitle('Essential AA \\n Estimate and 95% CI') + xlab('estimate') + ylab('weight')   \n",
    "#dev.off()"
   ]
  },
  {
   "cell_type": "code",
   "execution_count": 234,
   "metadata": {},
   "outputs": [
    {
     "data": {},
     "metadata": {},
     "output_type": "display_data"
    },
    {
     "data": {
      "image/png": "[encoded data removed]",
      "text/plain": [
       "plot without title"
      ]
     },
     "metadata": {},
     "output_type": "display_data"
    }
   ],
   "source": [
    "#png(filename=\"./plots/weight_NE.png\", units=\"cm\", width=20, height=20, res = 300)\n",
    "ggplot(weightCoef_NE, aes(x = reorder(AA, estimate), y = estimate, color = AA)) + \n",
    "    geom_hline(yintercept = 0, alpha = 0.4) + \n",
    "    geom_point() + geom_pointrange( aes(x = AA, ymin = estimate - 2*std.error, ymax = estimate + 2*std.error)) + \n",
    "    theme(legend.position = \"none\") + \n",
    "    coord_flip() + \n",
    "    ggtitle('Non Essential AA \\n Estimate and 95% CI') + xlab('estimate') + ylab('weight')   \n",
    "#dev.off()"
   ]
  },
  {
   "cell_type": "code",
   "execution_count": 235,
   "metadata": {},
   "outputs": [
    {
     "data": {},
     "metadata": {},
     "output_type": "display_data"
    },
    {
     "data": {
      "image/png": "[encoded data removed]",
      "text/plain": [
       "plot without title"
      ]
     },
     "metadata": {},
     "output_type": "display_data"
    }
   ],
   "source": [
    "#png(filename=\"./plots/weight_NE_detail.png\", units=\"cm\", width=20, height=20, res = 300)\n",
    "ggplot(weightCoef_NE, aes(x = reorder(AA, estimate), y = estimate, color = AA)) + \n",
    "    geom_hline(yintercept = 0, alpha = 0.4) + \n",
    "    geom_point() + geom_pointrange( aes(x = AA, ymin = estimate - 2*std.error, ymax = estimate + 2*std.error)) + \n",
    "    theme(legend.position = \"none\") + \n",
    "    coord_flip(ylim = c(-0.9, 0.20), xlim = c(1, 5)) + \n",
    "    ggtitle('Detail') + xlab('estimate') + ylab('weight')   \n",
    "#dev.off()\n"
   ]
  },
  {
   "cell_type": "code",
   "execution_count": 236,
   "metadata": {
    "collapsed": true
   },
   "outputs": [],
   "source": [
    "AA_E_Nested <- AA_E_Nested %>% mutate(model = me_E_HC, tidy = tidy_E_HC)\n",
    "AA_NE_Nested <- AA_NE_Nested %>% mutate(model = me_NE_HC, tidy = tidy_NE_HC)"
   ]
  },
  {
   "cell_type": "code",
   "execution_count": 237,
   "metadata": {},
   "outputs": [
    {
     "data": {
      "text/html": [
       "<table>\n",
       "<thead><tr><th scope=col>term</th><th scope=col>estimate</th><th scope=col>std.error</th><th scope=col>statistic</th><th scope=col>AA</th></tr></thead>\n",
       "<tbody>\n",
       "\t<tr><td>head        </td><td> 0.111209766</td><td>0.052297933 </td><td> 2.1264658  </td><td>HIS         </td></tr>\n",
       "\t<tr><td>head        </td><td> 0.052963534</td><td>0.033091367 </td><td> 1.6005242  </td><td>ILE         </td></tr>\n",
       "\t<tr><td>head        </td><td> 0.084282443</td><td>0.076497320 </td><td> 1.1017699  </td><td>LEU         </td></tr>\n",
       "\t<tr><td>head        </td><td>-0.136979931</td><td>0.079527996 </td><td>-1.7224115  </td><td>LYS         </td></tr>\n",
       "\t<tr><td>head        </td><td> 0.015422154</td><td>0.020094739 </td><td> 0.7674722  </td><td>MET         </td></tr>\n",
       "\t<tr><td>head        </td><td> 0.071149496</td><td>0.029570834 </td><td> 2.4060700  </td><td>PHE         </td></tr>\n",
       "\t<tr><td>head        </td><td> 0.158398712</td><td>0.173909693 </td><td> 0.9108101  </td><td>THR         </td></tr>\n",
       "\t<tr><td>head        </td><td> 0.001125387</td><td>0.004568146 </td><td> 0.2463553  </td><td>TRP         </td></tr>\n",
       "\t<tr><td>head        </td><td> 0.264798218</td><td>0.086031964 </td><td> 3.0779051  </td><td>VAL         </td></tr>\n",
       "</tbody>\n",
       "</table>\n"
      ],
      "text/latex": [
       "\\begin{tabular}{r|lllll}\n",
       " term & estimate & std.error & statistic & AA\\\\\n",
       "\\hline\n",
       "\t head         &  0.111209766 & 0.052297933  &  2.1264658   & HIS         \\\\\n",
       "\t head         &  0.052963534 & 0.033091367  &  1.6005242   & ILE         \\\\\n",
       "\t head         &  0.084282443 & 0.076497320  &  1.1017699   & LEU         \\\\\n",
       "\t head         & -0.136979931 & 0.079527996  & -1.7224115   & LYS         \\\\\n",
       "\t head         &  0.015422154 & 0.020094739  &  0.7674722   & MET         \\\\\n",
       "\t head         &  0.071149496 & 0.029570834  &  2.4060700   & PHE         \\\\\n",
       "\t head         &  0.158398712 & 0.173909693  &  0.9108101   & THR         \\\\\n",
       "\t head         &  0.001125387 & 0.004568146  &  0.2463553   & TRP         \\\\\n",
       "\t head         &  0.264798218 & 0.086031964  &  3.0779051   & VAL         \\\\\n",
       "\\end{tabular}\n"
      ],
      "text/markdown": [
       "\n",
       "term | estimate | std.error | statistic | AA | \n",
       "|---|---|---|---|---|---|---|---|---|\n",
       "| head         |  0.111209766 | 0.052297933  |  2.1264658   | HIS          | \n",
       "| head         |  0.052963534 | 0.033091367  |  1.6005242   | ILE          | \n",
       "| head         |  0.084282443 | 0.076497320  |  1.1017699   | LEU          | \n",
       "| head         | -0.136979931 | 0.079527996  | -1.7224115   | LYS          | \n",
       "| head         |  0.015422154 | 0.020094739  |  0.7674722   | MET          | \n",
       "| head         |  0.071149496 | 0.029570834  |  2.4060700   | PHE          | \n",
       "| head         |  0.158398712 | 0.173909693  |  0.9108101   | THR          | \n",
       "| head         |  0.001125387 | 0.004568146  |  0.2463553   | TRP          | \n",
       "| head         |  0.264798218 | 0.086031964  |  3.0779051   | VAL          | \n",
       "\n",
       "\n"
      ],
      "text/plain": [
       "  term estimate     std.error   statistic  AA \n",
       "1 head  0.111209766 0.052297933  2.1264658 HIS\n",
       "2 head  0.052963534 0.033091367  1.6005242 ILE\n",
       "3 head  0.084282443 0.076497320  1.1017699 LEU\n",
       "4 head -0.136979931 0.079527996 -1.7224115 LYS\n",
       "5 head  0.015422154 0.020094739  0.7674722 MET\n",
       "6 head  0.071149496 0.029570834  2.4060700 PHE\n",
       "7 head  0.158398712 0.173909693  0.9108101 THR\n",
       "8 head  0.001125387 0.004568146  0.2463553 TRP\n",
       "9 head  0.264798218 0.086031964  3.0779051 VAL"
      ]
     },
     "metadata": {},
     "output_type": "display_data"
    },
    {
     "data": {
      "text/html": [
       "<table>\n",
       "<thead><tr><th scope=col>term</th><th scope=col>estimate</th><th scope=col>std.error</th><th scope=col>statistic</th><th scope=col>AA</th></tr></thead>\n",
       "<tbody>\n",
       "\t<tr><td>head       </td><td>-0.09633369</td><td>0.05302874 </td><td>-1.8166317 </td><td>ARG        </td></tr>\n",
       "\t<tr><td>head       </td><td> 0.14311097</td><td>0.16209554 </td><td> 0.8828804 </td><td>ASP        </td></tr>\n",
       "\t<tr><td>head       </td><td> 1.37205321</td><td>0.55787008 </td><td> 2.4594493 </td><td>ALA        </td></tr>\n",
       "\t<tr><td>head       </td><td>-0.04615979</td><td>0.04142477 </td><td>-1.1143042 </td><td>ASN        </td></tr>\n",
       "\t<tr><td>head       </td><td> 0.04043558</td><td>0.05473722 </td><td> 0.7387219 </td><td>CYS        </td></tr>\n",
       "\t<tr><td>head       </td><td> 0.99077084</td><td>0.26566587 </td><td> 3.7293869 </td><td>GLY        </td></tr>\n",
       "\t<tr><td>head       </td><td> 7.81724255</td><td>2.28108154 </td><td> 3.4269895 </td><td>GLU        </td></tr>\n",
       "\t<tr><td>head       </td><td> 3.72412885</td><td>1.12573466 </td><td> 3.3081764 </td><td>GLN        </td></tr>\n",
       "\t<tr><td>head       </td><td>-0.15010396</td><td>0.12300533 </td><td>-1.2203045 </td><td>PRO        </td></tr>\n",
       "\t<tr><td>head       </td><td> 0.94334125</td><td>0.22733104 </td><td> 4.1496368 </td><td>SER        </td></tr>\n",
       "\t<tr><td>head       </td><td> 0.07886436</td><td>0.03624718 </td><td> 2.1757382 </td><td>TYR        </td></tr>\n",
       "</tbody>\n",
       "</table>\n"
      ],
      "text/latex": [
       "\\begin{tabular}{r|lllll}\n",
       " term & estimate & std.error & statistic & AA\\\\\n",
       "\\hline\n",
       "\t head        & -0.09633369 & 0.05302874  & -1.8166317  & ARG        \\\\\n",
       "\t head        &  0.14311097 & 0.16209554  &  0.8828804  & ASP        \\\\\n",
       "\t head        &  1.37205321 & 0.55787008  &  2.4594493  & ALA        \\\\\n",
       "\t head        & -0.04615979 & 0.04142477  & -1.1143042  & ASN        \\\\\n",
       "\t head        &  0.04043558 & 0.05473722  &  0.7387219  & CYS        \\\\\n",
       "\t head        &  0.99077084 & 0.26566587  &  3.7293869  & GLY        \\\\\n",
       "\t head        &  7.81724255 & 2.28108154  &  3.4269895  & GLU        \\\\\n",
       "\t head        &  3.72412885 & 1.12573466  &  3.3081764  & GLN        \\\\\n",
       "\t head        & -0.15010396 & 0.12300533  & -1.2203045  & PRO        \\\\\n",
       "\t head        &  0.94334125 & 0.22733104  &  4.1496368  & SER        \\\\\n",
       "\t head        &  0.07886436 & 0.03624718  &  2.1757382  & TYR        \\\\\n",
       "\\end{tabular}\n"
      ],
      "text/markdown": [
       "\n",
       "term | estimate | std.error | statistic | AA | \n",
       "|---|---|---|---|---|---|---|---|---|---|---|\n",
       "| head        | -0.09633369 | 0.05302874  | -1.8166317  | ARG         | \n",
       "| head        |  0.14311097 | 0.16209554  |  0.8828804  | ASP         | \n",
       "| head        |  1.37205321 | 0.55787008  |  2.4594493  | ALA         | \n",
       "| head        | -0.04615979 | 0.04142477  | -1.1143042  | ASN         | \n",
       "| head        |  0.04043558 | 0.05473722  |  0.7387219  | CYS         | \n",
       "| head        |  0.99077084 | 0.26566587  |  3.7293869  | GLY         | \n",
       "| head        |  7.81724255 | 2.28108154  |  3.4269895  | GLU         | \n",
       "| head        |  3.72412885 | 1.12573466  |  3.3081764  | GLN         | \n",
       "| head        | -0.15010396 | 0.12300533  | -1.2203045  | PRO         | \n",
       "| head        |  0.94334125 | 0.22733104  |  4.1496368  | SER         | \n",
       "| head        |  0.07886436 | 0.03624718  |  2.1757382  | TYR         | \n",
       "\n",
       "\n"
      ],
      "text/plain": [
       "   term estimate    std.error  statistic  AA \n",
       "1  head -0.09633369 0.05302874 -1.8166317 ARG\n",
       "2  head  0.14311097 0.16209554  0.8828804 ASP\n",
       "3  head  1.37205321 0.55787008  2.4594493 ALA\n",
       "4  head -0.04615979 0.04142477 -1.1143042 ASN\n",
       "5  head  0.04043558 0.05473722  0.7387219 CYS\n",
       "6  head  0.99077084 0.26566587  3.7293869 GLY\n",
       "7  head  7.81724255 2.28108154  3.4269895 GLU\n",
       "8  head  3.72412885 1.12573466  3.3081764 GLN\n",
       "9  head -0.15010396 0.12300533 -1.2203045 PRO\n",
       "10 head  0.94334125 0.22733104  4.1496368 SER\n",
       "11 head  0.07886436 0.03624718  2.1757382 TYR"
      ]
     },
     "metadata": {},
     "output_type": "display_data"
    }
   ],
   "source": [
    "headCoef_E <- bind_rows(tidy_E_HC) %>% filter(grepl(\"head\", term))\n",
    "headCoef_NE <- bind_rows(tidy_NE_HC) %>% filter(grepl(\"head\", term))\n",
    "\n",
    "headCoef_E\n",
    "headCoef_NE"
   ]
  },
  {
   "cell_type": "code",
   "execution_count": 238,
   "metadata": {},
   "outputs": [
    {
     "data": {},
     "metadata": {},
     "output_type": "display_data"
    },
    {
     "data": {
      "image/png": "[encoded data removed]",
      "text/plain": [
       "plot without title"
      ]
     },
     "metadata": {},
     "output_type": "display_data"
    }
   ],
   "source": [
    "#png(filename=\"./plots/head_E.png\", units=\"cm\", width=20, height=20, res = 300)\n",
    "ggplot(headCoef_E, aes(x = reorder(AA, estimate), y = estimate, color = AA)) + \n",
    "    geom_hline(yintercept = 0, alpha = 0.4) + \n",
    "    geom_point() + geom_pointrange( aes(x = AA, ymin = estimate - 2*std.error, ymax = estimate + 2*std.error)) + \n",
    "    theme(legend.position = \"none\") + \n",
    "    coord_flip() + \n",
    "    ggtitle('Essential AA \\n Estimate and 95% CI') + xlab('estimate') + ylab('head circumference')   \n",
    "#dev.off()"
   ]
  },
  {
   "cell_type": "code",
   "execution_count": 239,
   "metadata": {},
   "outputs": [
    {
     "data": {},
     "metadata": {},
     "output_type": "display_data"
    },
    {
     "data": {
      "image/png": "[encoded data removed]",
      "text/plain": [
       "plot without title"
      ]
     },
     "metadata": {},
     "output_type": "display_data"
    }
   ],
   "source": [
    "#png(filename=\"./plots/head_NE.png\", units=\"cm\", width=20, height=20, res = 300)\n",
    "ggplot(headCoef_NE, aes(x = reorder(AA, estimate), y = estimate, color = AA)) + \n",
    "    geom_hline(yintercept = 0, alpha = 0.4) + \n",
    "    geom_point() + geom_pointrange( aes(x = AA, ymin = estimate - 2*std.error, ymax = estimate + 2*std.error)) + \n",
    "    theme(legend.position = \"none\") + \n",
    "    coord_flip() + \n",
    "    ggtitle('Non Essential AA \\n Estimate and 95% CI') + xlab('estimate') + ylab('head circumference')   \n",
    "#dev.off()"
   ]
  },
  {
   "cell_type": "code",
   "execution_count": 261,
   "metadata": {},
   "outputs": [
    {
     "data": {},
     "metadata": {},
     "output_type": "display_data"
    },
    {
     "data": {
      "image/png": "[encoded data removed]",
      "text/plain": [
       "plot without title"
      ]
     },
     "metadata": {},
     "output_type": "display_data"
    }
   ],
   "source": [
    "#png(filename=\"./plots/head_NE.png\", units=\"cm\", width=20, height=20, res = 300)\n",
    "ggplot(headCoef_NE, aes(x = reorder(AA, estimate), y = estimate, color = AA)) + \n",
    "    geom_hline(yintercept = 0, alpha = 0.4) + \n",
    "    geom_point() + geom_pointrange( aes(x = AA, ymin = estimate - 2*std.error, ymax = estimate + 2*std.error)) + \n",
    "    theme(legend.position = \"none\") + \n",
    "    coord_flip(ylim = c(-0.75, 0.20), xlim = c(1, 4.8)) + \n",
    "    ggtitle('Non Essential AA \\n Estimate and 95% CI') + xlab('estimate') + ylab('head circumference')   \n",
    "#dev.off()"
   ]
  },
  {
   "cell_type": "markdown",
   "metadata": {},
   "source": [
    "### sex controlling for size and weight "
   ]
  },
  {
   "cell_type": "code",
   "execution_count": 241,
   "metadata": {},
   "outputs": [
    {
     "data": {
      "text/html": [
       "<table>\n",
       "<thead><tr><th scope=col>term</th><th scope=col>estimate</th><th scope=col>std.error</th><th scope=col>statistic</th><th scope=col>AA</th></tr></thead>\n",
       "<tbody>\n",
       "\t<tr><td>sexboy     </td><td> 0.12460336</td><td>0.16811119 </td><td> 0.7411961 </td><td>HIS        </td></tr>\n",
       "\t<tr><td>sexboy     </td><td> 0.05504230</td><td>0.11385017 </td><td> 0.4834626 </td><td>ILE        </td></tr>\n",
       "\t<tr><td>sexboy     </td><td> 0.04795276</td><td>0.23314167 </td><td> 0.2056808 </td><td>LEU        </td></tr>\n",
       "\t<tr><td>sexboy     </td><td> 0.15489128</td><td>0.24582451 </td><td> 0.6300888 </td><td>LYS        </td></tr>\n",
       "\t<tr><td>sexboy     </td><td> 0.08511583</td><td>0.06428092 </td><td> 1.3241227 </td><td>MET        </td></tr>\n",
       "\t<tr><td>sexboy     </td><td> 0.12021643</td><td>0.09179353 </td><td> 1.3096394 </td><td>PHE        </td></tr>\n",
       "\t<tr><td>sexboy     </td><td>-0.64723380</td><td>0.62998388 </td><td>-1.0273815 </td><td>THR        </td></tr>\n",
       "\t<tr><td>sexboy     </td><td> 0.01016903</td><td>0.01367592 </td><td> 0.7435715 </td><td>TRP        </td></tr>\n",
       "\t<tr><td>sexboy     </td><td> 0.13540392</td><td>0.29070121 </td><td> 0.4657838 </td><td>VAL        </td></tr>\n",
       "</tbody>\n",
       "</table>\n"
      ],
      "text/latex": [
       "\\begin{tabular}{r|lllll}\n",
       " term & estimate & std.error & statistic & AA\\\\\n",
       "\\hline\n",
       "\t sexboy      &  0.12460336 & 0.16811119  &  0.7411961  & HIS        \\\\\n",
       "\t sexboy      &  0.05504230 & 0.11385017  &  0.4834626  & ILE        \\\\\n",
       "\t sexboy      &  0.04795276 & 0.23314167  &  0.2056808  & LEU        \\\\\n",
       "\t sexboy      &  0.15489128 & 0.24582451  &  0.6300888  & LYS        \\\\\n",
       "\t sexboy      &  0.08511583 & 0.06428092  &  1.3241227  & MET        \\\\\n",
       "\t sexboy      &  0.12021643 & 0.09179353  &  1.3096394  & PHE        \\\\\n",
       "\t sexboy      & -0.64723380 & 0.62998388  & -1.0273815  & THR        \\\\\n",
       "\t sexboy      &  0.01016903 & 0.01367592  &  0.7435715  & TRP        \\\\\n",
       "\t sexboy      &  0.13540392 & 0.29070121  &  0.4657838  & VAL        \\\\\n",
       "\\end{tabular}\n"
      ],
      "text/markdown": [
       "\n",
       "term | estimate | std.error | statistic | AA | \n",
       "|---|---|---|---|---|---|---|---|---|\n",
       "| sexboy      |  0.12460336 | 0.16811119  |  0.7411961  | HIS         | \n",
       "| sexboy      |  0.05504230 | 0.11385017  |  0.4834626  | ILE         | \n",
       "| sexboy      |  0.04795276 | 0.23314167  |  0.2056808  | LEU         | \n",
       "| sexboy      |  0.15489128 | 0.24582451  |  0.6300888  | LYS         | \n",
       "| sexboy      |  0.08511583 | 0.06428092  |  1.3241227  | MET         | \n",
       "| sexboy      |  0.12021643 | 0.09179353  |  1.3096394  | PHE         | \n",
       "| sexboy      | -0.64723380 | 0.62998388  | -1.0273815  | THR         | \n",
       "| sexboy      |  0.01016903 | 0.01367592  |  0.7435715  | TRP         | \n",
       "| sexboy      |  0.13540392 | 0.29070121  |  0.4657838  | VAL         | \n",
       "\n",
       "\n"
      ],
      "text/plain": [
       "  term   estimate    std.error  statistic  AA \n",
       "1 sexboy  0.12460336 0.16811119  0.7411961 HIS\n",
       "2 sexboy  0.05504230 0.11385017  0.4834626 ILE\n",
       "3 sexboy  0.04795276 0.23314167  0.2056808 LEU\n",
       "4 sexboy  0.15489128 0.24582451  0.6300888 LYS\n",
       "5 sexboy  0.08511583 0.06428092  1.3241227 MET\n",
       "6 sexboy  0.12021643 0.09179353  1.3096394 PHE\n",
       "7 sexboy -0.64723380 0.62998388 -1.0273815 THR\n",
       "8 sexboy  0.01016903 0.01367592  0.7435715 TRP\n",
       "9 sexboy  0.13540392 0.29070121  0.4657838 VAL"
      ]
     },
     "metadata": {},
     "output_type": "display_data"
    },
    {
     "data": {
      "text/html": [
       "<table>\n",
       "<thead><tr><th scope=col>term</th><th scope=col>estimate</th><th scope=col>std.error</th><th scope=col>statistic</th><th scope=col>AA</th></tr></thead>\n",
       "<tbody>\n",
       "\t<tr><td>sexboy     </td><td> 0.15158839</td><td>0.1750708  </td><td>0.8658693  </td><td>ARG        </td></tr>\n",
       "\t<tr><td>sexboy     </td><td> 0.30198659</td><td>0.5198514  </td><td>0.5809094  </td><td>ASP        </td></tr>\n",
       "\t<tr><td>sexboy     </td><td> 1.35318892</td><td>1.7530434  </td><td>0.7719084  </td><td>ALA        </td></tr>\n",
       "\t<tr><td>sexboy     </td><td> 0.05584087</td><td>0.1218386  </td><td>0.4583183  </td><td>ASN        </td></tr>\n",
       "\t<tr><td>sexboy     </td><td> 0.31957951</td><td>0.1779794  </td><td>1.7955979  </td><td>CYS        </td></tr>\n",
       "\t<tr><td>sexboy     </td><td> 1.87421943</td><td>0.8969746  </td><td>2.0894899  </td><td>GLY        </td></tr>\n",
       "\t<tr><td>sexboy     </td><td>11.27856208</td><td>7.4399023  </td><td>1.5159557  </td><td>GLU        </td></tr>\n",
       "\t<tr><td>sexboy     </td><td> 3.65616486</td><td>3.6031770  </td><td>1.0147059  </td><td>GLN        </td></tr>\n",
       "\t<tr><td>sexboy     </td><td> 0.29679944</td><td>0.4090418  </td><td>0.7255968  </td><td>PRO        </td></tr>\n",
       "\t<tr><td>sexboy     </td><td> 1.45270901</td><td>0.7701627  </td><td>1.8862365  </td><td>SER        </td></tr>\n",
       "\t<tr><td>sexboy     </td><td> 0.21260318</td><td>0.1276272  </td><td>1.6658146  </td><td>TYR        </td></tr>\n",
       "</tbody>\n",
       "</table>\n"
      ],
      "text/latex": [
       "\\begin{tabular}{r|lllll}\n",
       " term & estimate & std.error & statistic & AA\\\\\n",
       "\\hline\n",
       "\t sexboy      &  0.15158839 & 0.1750708   & 0.8658693   & ARG        \\\\\n",
       "\t sexboy      &  0.30198659 & 0.5198514   & 0.5809094   & ASP        \\\\\n",
       "\t sexboy      &  1.35318892 & 1.7530434   & 0.7719084   & ALA        \\\\\n",
       "\t sexboy      &  0.05584087 & 0.1218386   & 0.4583183   & ASN        \\\\\n",
       "\t sexboy      &  0.31957951 & 0.1779794   & 1.7955979   & CYS        \\\\\n",
       "\t sexboy      &  1.87421943 & 0.8969746   & 2.0894899   & GLY        \\\\\n",
       "\t sexboy      & 11.27856208 & 7.4399023   & 1.5159557   & GLU        \\\\\n",
       "\t sexboy      &  3.65616486 & 3.6031770   & 1.0147059   & GLN        \\\\\n",
       "\t sexboy      &  0.29679944 & 0.4090418   & 0.7255968   & PRO        \\\\\n",
       "\t sexboy      &  1.45270901 & 0.7701627   & 1.8862365   & SER        \\\\\n",
       "\t sexboy      &  0.21260318 & 0.1276272   & 1.6658146   & TYR        \\\\\n",
       "\\end{tabular}\n"
      ],
      "text/markdown": [
       "\n",
       "term | estimate | std.error | statistic | AA | \n",
       "|---|---|---|---|---|---|---|---|---|---|---|\n",
       "| sexboy      |  0.15158839 | 0.1750708   | 0.8658693   | ARG         | \n",
       "| sexboy      |  0.30198659 | 0.5198514   | 0.5809094   | ASP         | \n",
       "| sexboy      |  1.35318892 | 1.7530434   | 0.7719084   | ALA         | \n",
       "| sexboy      |  0.05584087 | 0.1218386   | 0.4583183   | ASN         | \n",
       "| sexboy      |  0.31957951 | 0.1779794   | 1.7955979   | CYS         | \n",
       "| sexboy      |  1.87421943 | 0.8969746   | 2.0894899   | GLY         | \n",
       "| sexboy      | 11.27856208 | 7.4399023   | 1.5159557   | GLU         | \n",
       "| sexboy      |  3.65616486 | 3.6031770   | 1.0147059   | GLN         | \n",
       "| sexboy      |  0.29679944 | 0.4090418   | 0.7255968   | PRO         | \n",
       "| sexboy      |  1.45270901 | 0.7701627   | 1.8862365   | SER         | \n",
       "| sexboy      |  0.21260318 | 0.1276272   | 1.6658146   | TYR         | \n",
       "\n",
       "\n"
      ],
      "text/plain": [
       "   term   estimate    std.error statistic AA \n",
       "1  sexboy  0.15158839 0.1750708 0.8658693 ARG\n",
       "2  sexboy  0.30198659 0.5198514 0.5809094 ASP\n",
       "3  sexboy  1.35318892 1.7530434 0.7719084 ALA\n",
       "4  sexboy  0.05584087 0.1218386 0.4583183 ASN\n",
       "5  sexboy  0.31957951 0.1779794 1.7955979 CYS\n",
       "6  sexboy  1.87421943 0.8969746 2.0894899 GLY\n",
       "7  sexboy 11.27856208 7.4399023 1.5159557 GLU\n",
       "8  sexboy  3.65616486 3.6031770 1.0147059 GLN\n",
       "9  sexboy  0.29679944 0.4090418 0.7255968 PRO\n",
       "10 sexboy  1.45270901 0.7701627 1.8862365 SER\n",
       "11 sexboy  0.21260318 0.1276272 1.6658146 TYR"
      ]
     },
     "metadata": {},
     "output_type": "display_data"
    }
   ],
   "source": [
    "sexCoef_E <- bind_rows(tidy_E_W) %>% filter(grepl(\"sex\", term))\n",
    "sexCoef_NE <- bind_rows(tidy_NE_W) %>% filter(grepl(\"sex\", term))\n",
    "\n",
    "sexCoef_E\n",
    "sexCoef_NE"
   ]
  },
  {
   "cell_type": "code",
   "execution_count": 272,
   "metadata": {},
   "outputs": [
    {
     "data": {},
     "metadata": {},
     "output_type": "display_data"
    },
    {
     "data": {
      "image/png": "[encoded data removed]",
      "text/plain": [
       "plot without title"
      ]
     },
     "metadata": {},
     "output_type": "display_data"
    }
   ],
   "source": [
    "#png(filename=\"./plots/sex_E.png\", units=\"cm\", width=20, height=20, res = 300)\n",
    "ggplot(sexCoef_E, aes(x = reorder(AA, estimate), y = estimate, color = AA)) + \n",
    "    geom_hline(yintercept = 0, alpha = 0.4) + \n",
    "    geom_point() + geom_pointrange( aes(x = AA, ymin = estimate - 2*std.error, ymax = estimate + 2*std.error)) + \n",
    "    theme(legend.position = \"none\") + \n",
    "    coord_flip() + \n",
    "    ggtitle('Essential AA \\n Estimate and 95% CI - controlling for weight and week') + \n",
    "    xlab('estimate') + ylab(TeX('sex (boy $\\\\rightarrow$)'))   \n",
    "#dev.off()"
   ]
  },
  {
   "cell_type": "code",
   "execution_count": 273,
   "metadata": {},
   "outputs": [
    {
     "data": {},
     "metadata": {},
     "output_type": "display_data"
    },
    {
     "data": {
      "image/png": "[encoded data removed]",
      "text/plain": [
       "plot without title"
      ]
     },
     "metadata": {},
     "output_type": "display_data"
    }
   ],
   "source": [
    "#png(filename=\"./plots/sex_NE.png\", units=\"cm\", width=20, height=20, res = 300)\n",
    "ggplot(sexCoef_NE, aes(x = reorder(AA, estimate), y = estimate, color = AA)) + \n",
    "    geom_hline(yintercept = 0, alpha = 0.4) + \n",
    "    geom_point() + geom_pointrange( aes(x = AA, ymin = estimate - 2*std.error, ymax = estimate + 2*std.error)) + \n",
    "    theme(legend.position = \"none\") + \n",
    "    coord_flip() + \n",
    "    ggtitle('Non Essential AA \\n Estimate and 95% CI - controlling for weight and week') + \n",
    "    xlab('estimate') + ylab(TeX('sex (boy $\\\\rightarrow$)'))   \n",
    "#dev.off()"
   ]
  },
  {
   "cell_type": "code",
   "execution_count": 269,
   "metadata": {},
   "outputs": [
    {
     "data": {},
     "metadata": {},
     "output_type": "display_data"
    },
    {
     "data": {
      "image/png": "[encoded data removed]",
      "text/plain": [
       "plot without title"
      ]
     },
     "metadata": {},
     "output_type": "display_data"
    }
   ],
   "source": [
    "#png(filename=\"./plots/sex_NE.png\", units=\"cm\", width=20, height=20, res = 300)\n",
    "ggplot(sexCoef_NE, aes(x = reorder(AA, estimate), y = estimate, color = AA)) + \n",
    "    geom_hline(yintercept = 0, alpha = 0.4) + \n",
    "    geom_point() + geom_pointrange( aes(x = AA, ymin = estimate - 2*std.error, ymax = estimate + 2*std.error)) + \n",
    "    theme(legend.position = \"none\") + \n",
    "    coord_flip(ylim = c(-0.75, 1.5), xlim = c(1, 5.8)) + \n",
    "    ggtitle('Detail') + \n",
    "    xlab('estimate') + ylab(TeX('sex (boy $\\\\rightarrow$)'))   \n",
    "#dev.off()"
   ]
  },
  {
   "cell_type": "code",
   "execution_count": 271,
   "metadata": {},
   "outputs": [
    {
     "data": {
      "text/html": [
       "<table>\n",
       "<thead><tr><th scope=col>term</th><th scope=col>estimate</th><th scope=col>std.error</th><th scope=col>statistic</th><th scope=col>AA</th></tr></thead>\n",
       "<tbody>\n",
       "\t<tr><td>sexboy      </td><td> 0.033653895</td><td>0.16654079  </td><td> 0.20207598 </td><td>HIS         </td></tr>\n",
       "\t<tr><td>sexboy      </td><td> 0.029099657</td><td>0.11118122  </td><td> 0.26173176 </td><td>ILE         </td></tr>\n",
       "\t<tr><td>sexboy      </td><td>-0.007958073</td><td>0.23761662  </td><td>-0.03349123 </td><td>LEU         </td></tr>\n",
       "\t<tr><td>sexboy      </td><td> 0.226094656</td><td>0.26104797  </td><td> 0.86610387 </td><td>LYS         </td></tr>\n",
       "\t<tr><td>sexboy      </td><td> 0.072466361</td><td>0.06371412  </td><td> 1.13736728 </td><td>MET         </td></tr>\n",
       "\t<tr><td>sexboy      </td><td> 0.084390439</td><td>0.09147499  </td><td> 0.92255208 </td><td>PHE         </td></tr>\n",
       "\t<tr><td>sexboy      </td><td>-0.751393945</td><td>0.64337250  </td><td>-1.16789875 </td><td>THR         </td></tr>\n",
       "\t<tr><td>sexboy      </td><td> 0.009723059</td><td>0.01378500  </td><td> 0.70533624 </td><td>TRP         </td></tr>\n",
       "\t<tr><td>sexboy      </td><td>-0.010395363</td><td>0.29036672  </td><td>-0.03580081 </td><td>VAL         </td></tr>\n",
       "</tbody>\n",
       "</table>\n"
      ],
      "text/latex": [
       "\\begin{tabular}{r|lllll}\n",
       " term & estimate & std.error & statistic & AA\\\\\n",
       "\\hline\n",
       "\t sexboy       &  0.033653895 & 0.16654079   &  0.20207598  & HIS         \\\\\n",
       "\t sexboy       &  0.029099657 & 0.11118122   &  0.26173176  & ILE         \\\\\n",
       "\t sexboy       & -0.007958073 & 0.23761662   & -0.03349123  & LEU         \\\\\n",
       "\t sexboy       &  0.226094656 & 0.26104797   &  0.86610387  & LYS         \\\\\n",
       "\t sexboy       &  0.072466361 & 0.06371412   &  1.13736728  & MET         \\\\\n",
       "\t sexboy       &  0.084390439 & 0.09147499   &  0.92255208  & PHE         \\\\\n",
       "\t sexboy       & -0.751393945 & 0.64337250   & -1.16789875  & THR         \\\\\n",
       "\t sexboy       &  0.009723059 & 0.01378500   &  0.70533624  & TRP         \\\\\n",
       "\t sexboy       & -0.010395363 & 0.29036672   & -0.03580081  & VAL         \\\\\n",
       "\\end{tabular}\n"
      ],
      "text/markdown": [
       "\n",
       "term | estimate | std.error | statistic | AA | \n",
       "|---|---|---|---|---|---|---|---|---|\n",
       "| sexboy       |  0.033653895 | 0.16654079   |  0.20207598  | HIS          | \n",
       "| sexboy       |  0.029099657 | 0.11118122   |  0.26173176  | ILE          | \n",
       "| sexboy       | -0.007958073 | 0.23761662   | -0.03349123  | LEU          | \n",
       "| sexboy       |  0.226094656 | 0.26104797   |  0.86610387  | LYS          | \n",
       "| sexboy       |  0.072466361 | 0.06371412   |  1.13736728  | MET          | \n",
       "| sexboy       |  0.084390439 | 0.09147499   |  0.92255208  | PHE          | \n",
       "| sexboy       | -0.751393945 | 0.64337250   | -1.16789875  | THR          | \n",
       "| sexboy       |  0.009723059 | 0.01378500   |  0.70533624  | TRP          | \n",
       "| sexboy       | -0.010395363 | 0.29036672   | -0.03580081  | VAL          | \n",
       "\n",
       "\n"
      ],
      "text/plain": [
       "  term   estimate     std.error  statistic   AA \n",
       "1 sexboy  0.033653895 0.16654079  0.20207598 HIS\n",
       "2 sexboy  0.029099657 0.11118122  0.26173176 ILE\n",
       "3 sexboy -0.007958073 0.23761662 -0.03349123 LEU\n",
       "4 sexboy  0.226094656 0.26104797  0.86610387 LYS\n",
       "5 sexboy  0.072466361 0.06371412  1.13736728 MET\n",
       "6 sexboy  0.084390439 0.09147499  0.92255208 PHE\n",
       "7 sexboy -0.751393945 0.64337250 -1.16789875 THR\n",
       "8 sexboy  0.009723059 0.01378500  0.70533624 TRP\n",
       "9 sexboy -0.010395363 0.29036672 -0.03580081 VAL"
      ]
     },
     "metadata": {},
     "output_type": "display_data"
    },
    {
     "data": {
      "text/html": [
       "<table>\n",
       "<thead><tr><th scope=col>term</th><th scope=col>estimate</th><th scope=col>std.error</th><th scope=col>statistic</th><th scope=col>AA</th></tr></thead>\n",
       "<tbody>\n",
       "\t<tr><td>sexboy   </td><td>0.2065960</td><td>0.1842581</td><td>1.1212316</td><td>ARG      </td></tr>\n",
       "\t<tr><td>sexboy   </td><td>0.1230930</td><td>0.5403108</td><td>0.2278189</td><td>ASP      </td></tr>\n",
       "\t<tr><td>sexboy   </td><td>0.2120318</td><td>1.8293545</td><td>0.1159053</td><td>ALA      </td></tr>\n",
       "\t<tr><td>sexboy   </td><td>0.0800377</td><td>0.1280958</td><td>0.6248266</td><td>ASN      </td></tr>\n",
       "\t<tr><td>sexboy   </td><td>0.2989439</td><td>0.1869555</td><td>1.5990110</td><td>CYS      </td></tr>\n",
       "\t<tr><td>sexboy   </td><td>1.1919557</td><td>0.9086241</td><td>1.3118250</td><td>GLY      </td></tr>\n",
       "\t<tr><td>sexboy   </td><td>5.5436361</td><td>7.7833029</td><td>0.7122472</td><td>GLU      </td></tr>\n",
       "\t<tr><td>sexboy   </td><td>1.3919164</td><td>3.8663011</td><td>0.3600124</td><td>GLN      </td></tr>\n",
       "\t<tr><td>sexboy   </td><td>0.4135682</td><td>0.4249354</td><td>0.9732495</td><td>PRO      </td></tr>\n",
       "\t<tr><td>sexboy   </td><td>0.8979458</td><td>0.7890213</td><td>1.1380501</td><td>SER      </td></tr>\n",
       "\t<tr><td>sexboy   </td><td>0.1819152</td><td>0.1287884</td><td>1.4125130</td><td>TYR      </td></tr>\n",
       "</tbody>\n",
       "</table>\n"
      ],
      "text/latex": [
       "\\begin{tabular}{r|lllll}\n",
       " term & estimate & std.error & statistic & AA\\\\\n",
       "\\hline\n",
       "\t sexboy    & 0.2065960 & 0.1842581 & 1.1212316 & ARG      \\\\\n",
       "\t sexboy    & 0.1230930 & 0.5403108 & 0.2278189 & ASP      \\\\\n",
       "\t sexboy    & 0.2120318 & 1.8293545 & 0.1159053 & ALA      \\\\\n",
       "\t sexboy    & 0.0800377 & 0.1280958 & 0.6248266 & ASN      \\\\\n",
       "\t sexboy    & 0.2989439 & 0.1869555 & 1.5990110 & CYS      \\\\\n",
       "\t sexboy    & 1.1919557 & 0.9086241 & 1.3118250 & GLY      \\\\\n",
       "\t sexboy    & 5.5436361 & 7.7833029 & 0.7122472 & GLU      \\\\\n",
       "\t sexboy    & 1.3919164 & 3.8663011 & 0.3600124 & GLN      \\\\\n",
       "\t sexboy    & 0.4135682 & 0.4249354 & 0.9732495 & PRO      \\\\\n",
       "\t sexboy    & 0.8979458 & 0.7890213 & 1.1380501 & SER      \\\\\n",
       "\t sexboy    & 0.1819152 & 0.1287884 & 1.4125130 & TYR      \\\\\n",
       "\\end{tabular}\n"
      ],
      "text/markdown": [
       "\n",
       "term | estimate | std.error | statistic | AA | \n",
       "|---|---|---|---|---|---|---|---|---|---|---|\n",
       "| sexboy    | 0.2065960 | 0.1842581 | 1.1212316 | ARG       | \n",
       "| sexboy    | 0.1230930 | 0.5403108 | 0.2278189 | ASP       | \n",
       "| sexboy    | 0.2120318 | 1.8293545 | 0.1159053 | ALA       | \n",
       "| sexboy    | 0.0800377 | 0.1280958 | 0.6248266 | ASN       | \n",
       "| sexboy    | 0.2989439 | 0.1869555 | 1.5990110 | CYS       | \n",
       "| sexboy    | 1.1919557 | 0.9086241 | 1.3118250 | GLY       | \n",
       "| sexboy    | 5.5436361 | 7.7833029 | 0.7122472 | GLU       | \n",
       "| sexboy    | 1.3919164 | 3.8663011 | 0.3600124 | GLN       | \n",
       "| sexboy    | 0.4135682 | 0.4249354 | 0.9732495 | PRO       | \n",
       "| sexboy    | 0.8979458 | 0.7890213 | 1.1380501 | SER       | \n",
       "| sexboy    | 0.1819152 | 0.1287884 | 1.4125130 | TYR       | \n",
       "\n",
       "\n"
      ],
      "text/plain": [
       "   term   estimate  std.error statistic AA \n",
       "1  sexboy 0.2065960 0.1842581 1.1212316 ARG\n",
       "2  sexboy 0.1230930 0.5403108 0.2278189 ASP\n",
       "3  sexboy 0.2120318 1.8293545 0.1159053 ALA\n",
       "4  sexboy 0.0800377 0.1280958 0.6248266 ASN\n",
       "5  sexboy 0.2989439 0.1869555 1.5990110 CYS\n",
       "6  sexboy 1.1919557 0.9086241 1.3118250 GLY\n",
       "7  sexboy 5.5436361 7.7833029 0.7122472 GLU\n",
       "8  sexboy 1.3919164 3.8663011 0.3600124 GLN\n",
       "9  sexboy 0.4135682 0.4249354 0.9732495 PRO\n",
       "10 sexboy 0.8979458 0.7890213 1.1380501 SER\n",
       "11 sexboy 0.1819152 0.1287884 1.4125130 TYR"
      ]
     },
     "metadata": {},
     "output_type": "display_data"
    }
   ],
   "source": [
    "sexCoef_E_HC <- bind_rows(tidy_E_HC) %>% filter(grepl(\"sex\", term))\n",
    "sexCoef_NE_HC <- bind_rows(tidy_NE_HC) %>% filter(grepl(\"sex\", term))\n",
    "\n",
    "sexCoef_E_HC\n",
    "sexCoef_NE_HC"
   ]
  },
  {
   "cell_type": "code",
   "execution_count": 274,
   "metadata": {},
   "outputs": [
    {
     "data": {},
     "metadata": {},
     "output_type": "display_data"
    },
    {
     "data": {
      "image/png": "[encoded data removed]",
      "text/plain": [
       "plot without title"
      ]
     },
     "metadata": {},
     "output_type": "display_data"
    }
   ],
   "source": [
    "#png(filename=\"./plots/sex_E_HC.png\", units=\"cm\", width=20, height=20, res = 300)\n",
    "ggplot(sexCoef_E, aes(x = reorder(AA, estimate), y = estimate, color = AA)) + \n",
    "    geom_hline(yintercept = 0, alpha = 0.4) + \n",
    "    geom_point() + geom_pointrange( aes(x = AA, ymin = estimate - 2*std.error, ymax = estimate + 2*std.error)) + \n",
    "    theme(legend.position = \"none\") + \n",
    "    coord_flip() + \n",
    "    ggtitle('Essential AA \\n Estimate and 95% CI - controlling for head circumference and week') + \n",
    "    xlab('estimate') + ylab(TeX('sex (boy $\\\\rightarrow$)'))   \n",
    "#dev.off()"
   ]
  },
  {
   "cell_type": "code",
   "execution_count": 275,
   "metadata": {},
   "outputs": [
    {
     "data": {},
     "metadata": {},
     "output_type": "display_data"
    },
    {
     "data": {
      "image/png": "[encoded data removed]",
      "text/plain": [
       "plot without title"
      ]
     },
     "metadata": {},
     "output_type": "display_data"
    }
   ],
   "source": [
    "#png(filename=\"./plots/sex_NE.png\", units=\"cm\", width=20, height=20, res = 300)\n",
    "ggplot(sexCoef_NE_HC, aes(x = reorder(AA, estimate), y = estimate, color = AA)) + \n",
    "    geom_hline(yintercept = 0, alpha = 0.4) + \n",
    "    geom_point() + geom_pointrange( aes(x = AA, ymin = estimate - 2*std.error, ymax = estimate + 2*std.error)) + \n",
    "    theme(legend.position = \"none\") + \n",
    "    coord_flip() + \n",
    "    ggtitle('Non Essential AA \\n Estimate and 95% CI - controlling for head circumference and week') + \n",
    "    xlab('estimate') + ylab(TeX('sex (boy $\\\\rightarrow$)'))   \n",
    "#dev.off()"
   ]
  },
  {
   "cell_type": "markdown",
   "metadata": {},
   "source": [
    "## Group and Free AA levels"
   ]
  },
  {
   "cell_type": "code",
   "execution_count": 38,
   "metadata": {},
   "outputs": [
    {
     "name": "stdout",
     "output_type": "stream",
     "text": [
      "      group\n",
      "sex    teen adult\n",
      "  girl   13    13\n",
      "  boy    24    11\n"
     ]
    }
   ],
   "source": [
    "table = table( AA_E %>% select(sex, group)) \n",
    "print(table)"
   ]
  },
  {
   "cell_type": "markdown",
   "metadata": {},
   "source": [
    "Teen mothers have almost twice the number of boys: 24 boys and 13 girls. Is there an assosiation between group and sex? \n",
    "\n",
    "\n",
    "$H_0:$ group and sex are independent."
   ]
  },
  {
   "cell_type": "code",
   "execution_count": 37,
   "metadata": {},
   "outputs": [
    {
     "name": "stdout",
     "output_type": "stream",
     "text": [
      "\n",
      "\tPearson's Chi-squared test with Yates' continuity correction\n",
      "\n",
      "data:  table\n",
      "X-squared = 1.448, df = 1, p-value = 0.2288\n",
      "\n"
     ]
    }
   ],
   "source": [
    "print(chisq.test(table))"
   ]
  },
  {
   "cell_type": "markdown",
   "metadata": {},
   "source": [
    "$P(independence) \\approx 0.23$ \n",
    "\n",
    "### The model: \n",
    "\n",
    "$AA = \\alpha_0 + \\alpha_1 \\ group + \\alpha_2 \\ sex + \\alpha_{id}$"
   ]
  },
  {
   "cell_type": "code",
   "execution_count": null,
   "metadata": {
    "collapsed": true
   },
   "outputs": [],
   "source": []
  }
 ],
 "metadata": {
  "kernelspec": {
   "display_name": "R 3.3",
   "language": "R",
   "name": "ir33"
  },
  "language_info": {
   "codemirror_mode": "r",
   "file_extension": ".r",
   "mimetype": "text/x-r-source",
   "name": "R",
   "pygments_lexer": "r",
   "version": "3.3.3"
  }
 },
 "nbformat": 4,
 "nbformat_minor": 2
}
