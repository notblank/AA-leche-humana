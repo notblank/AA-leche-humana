{
 "cells": [
  {
   "cell_type": "code",
   "execution_count": 1,
   "metadata": {},
   "outputs": [
    {
     "name": "stderr",
     "output_type": "stream",
     "text": [
      "── \u001b[1mAttaching packages\u001b[22m ─────────────────────────────────────── tidyverse 1.2.1 ──\n",
      "\u001b[32m✔\u001b[39m \u001b[34mggplot2\u001b[39m 3.2.0     \u001b[32m✔\u001b[39m \u001b[34mpurrr  \u001b[39m 0.3.2\n",
      "\u001b[32m✔\u001b[39m \u001b[34mtibble \u001b[39m 2.1.3     \u001b[32m✔\u001b[39m \u001b[34mdplyr  \u001b[39m 0.8.2\n",
      "\u001b[32m✔\u001b[39m \u001b[34mtidyr  \u001b[39m 0.8.3     \u001b[32m✔\u001b[39m \u001b[34mstringr\u001b[39m 1.4.0\n",
      "\u001b[32m✔\u001b[39m \u001b[34mreadr  \u001b[39m 1.3.1     \u001b[32m✔\u001b[39m \u001b[34mforcats\u001b[39m 0.4.0\n",
      "── \u001b[1mConflicts\u001b[22m ────────────────────────────────────────── tidyverse_conflicts() ──\n",
      "\u001b[31m✖\u001b[39m \u001b[34mdplyr\u001b[39m::\u001b[32mfilter()\u001b[39m masks \u001b[34mstats\u001b[39m::filter()\n",
      "\u001b[31m✖\u001b[39m \u001b[34mdplyr\u001b[39m::\u001b[32mlag()\u001b[39m    masks \u001b[34mstats\u001b[39m::lag()\n",
      "Loading required package: Matrix\n",
      "\n",
      "Attaching package: ‘Matrix’\n",
      "\n",
      "The following object is masked from ‘package:tidyr’:\n",
      "\n",
      "    expand\n",
      "\n"
     ]
    }
   ],
   "source": [
    "library(haven)\n",
    "library(tidyverse)\n",
    "library(broom)\n",
    "library(lme4) "
   ]
  },
  {
   "cell_type": "markdown",
   "metadata": {},
   "source": [
    "# Missing at random"
   ]
  },
  {
   "cell_type": "code",
   "execution_count": 2,
   "metadata": {},
   "outputs": [
    {
     "data": {
      "text/html": [
       "<table>\n",
       "<caption>A data.frame: 6 × 9</caption>\n",
       "<thead>\n",
       "\t<tr><th scope=col>X</th><th scope=col>id</th><th scope=col>group</th><th scope=col>age</th><th scope=col>sex</th><th scope=col>weekNames</th><th scope=col>level</th><th scope=col>week</th><th scope=col>AA</th></tr>\n",
       "\t<tr><th scope=col>&lt;int&gt;</th><th scope=col>&lt;int&gt;</th><th scope=col>&lt;fct&gt;</th><th scope=col>&lt;int&gt;</th><th scope=col>&lt;fct&gt;</th><th scope=col>&lt;fct&gt;</th><th scope=col>&lt;int&gt;</th><th scope=col>&lt;int&gt;</th><th scope=col>&lt;fct&gt;</th></tr>\n",
       "</thead>\n",
       "<tbody>\n",
       "\t<tr><td>1</td><td>1</td><td>teen</td><td>17</td><td>girl</td><td>ARGCalostrum</td><td>1</td><td>1</td><td>ARG</td></tr>\n",
       "\t<tr><td>2</td><td>2</td><td>teen</td><td>16</td><td>boy </td><td>ARGCalostrum</td><td>1</td><td>1</td><td>ARG</td></tr>\n",
       "\t<tr><td>3</td><td>3</td><td>teen</td><td>17</td><td>boy </td><td>ARGCalostrum</td><td>1</td><td>1</td><td>ARG</td></tr>\n",
       "\t<tr><td>4</td><td>4</td><td>teen</td><td>16</td><td>boy </td><td>ARGCalostrum</td><td>1</td><td>1</td><td>ARG</td></tr>\n",
       "\t<tr><td>5</td><td>5</td><td>teen</td><td>16</td><td>NA  </td><td>ARGCalostrum</td><td>2</td><td>1</td><td>ARG</td></tr>\n",
       "\t<tr><td>6</td><td>6</td><td>teen</td><td>16</td><td>boy </td><td>ARGCalostrum</td><td>2</td><td>1</td><td>ARG</td></tr>\n",
       "</tbody>\n",
       "</table>\n"
      ],
      "text/latex": [
       "A data.frame: 6 × 9\n",
       "\\begin{tabular}{r|lllllllll}\n",
       " X & id & group & age & sex & weekNames & level & week & AA\\\\\n",
       " <int> & <int> & <fct> & <int> & <fct> & <fct> & <int> & <int> & <fct>\\\\\n",
       "\\hline\n",
       "\t 1 & 1 & teen & 17 & girl & ARGCalostrum & 1 & 1 & ARG\\\\\n",
       "\t 2 & 2 & teen & 16 & boy  & ARGCalostrum & 1 & 1 & ARG\\\\\n",
       "\t 3 & 3 & teen & 17 & boy  & ARGCalostrum & 1 & 1 & ARG\\\\\n",
       "\t 4 & 4 & teen & 16 & boy  & ARGCalostrum & 1 & 1 & ARG\\\\\n",
       "\t 5 & 5 & teen & 16 & NA   & ARGCalostrum & 2 & 1 & ARG\\\\\n",
       "\t 6 & 6 & teen & 16 & boy  & ARGCalostrum & 2 & 1 & ARG\\\\\n",
       "\\end{tabular}\n"
      ],
      "text/markdown": [
       "\n",
       "A data.frame: 6 × 9\n",
       "\n",
       "| X &lt;int&gt; | id &lt;int&gt; | group &lt;fct&gt; | age &lt;int&gt; | sex &lt;fct&gt; | weekNames &lt;fct&gt; | level &lt;int&gt; | week &lt;int&gt; | AA &lt;fct&gt; |\n",
       "|---|---|---|---|---|---|---|---|---|\n",
       "| 1 | 1 | teen | 17 | girl | ARGCalostrum | 1 | 1 | ARG |\n",
       "| 2 | 2 | teen | 16 | boy  | ARGCalostrum | 1 | 1 | ARG |\n",
       "| 3 | 3 | teen | 17 | boy  | ARGCalostrum | 1 | 1 | ARG |\n",
       "| 4 | 4 | teen | 16 | boy  | ARGCalostrum | 1 | 1 | ARG |\n",
       "| 5 | 5 | teen | 16 | NA   | ARGCalostrum | 2 | 1 | ARG |\n",
       "| 6 | 6 | teen | 16 | boy  | ARGCalostrum | 2 | 1 | ARG |\n",
       "\n"
      ],
      "text/plain": [
       "  X id group age sex  weekNames    level week AA \n",
       "1 1 1  teen  17  girl ARGCalostrum 1     1    ARG\n",
       "2 2 2  teen  16  boy  ARGCalostrum 1     1    ARG\n",
       "3 3 3  teen  17  boy  ARGCalostrum 1     1    ARG\n",
       "4 4 4  teen  16  boy  ARGCalostrum 1     1    ARG\n",
       "5 5 5  teen  16  NA   ARGCalostrum 2     1    ARG\n",
       "6 6 6  teen  16  boy  ARGCalostrum 2     1    ARG"
      ]
     },
     "metadata": {},
     "output_type": "display_data"
    }
   ],
   "source": [
    "AA_E_Long <- read.csv('./datos/AA_E_Long.csv')\n",
    "AA_NE_Long <- read.csv('./datos/AA_NE_Long.csv')\n",
    "\n",
    "head(AA_NE_Long)"
   ]
  },
  {
   "cell_type": "code",
   "execution_count": 3,
   "metadata": {},
   "outputs": [
    {
     "data": {
      "text/html": [
       "<table>\n",
       "<caption>A data.frame: 6 × 10</caption>\n",
       "<thead>\n",
       "\t<tr><th scope=col>X</th><th scope=col>id</th><th scope=col>group</th><th scope=col>age</th><th scope=col>sex</th><th scope=col>weekNames</th><th scope=col>level</th><th scope=col>week</th><th scope=col>AA</th><th scope=col>missing data</th></tr>\n",
       "\t<tr><th scope=col>&lt;int&gt;</th><th scope=col>&lt;int&gt;</th><th scope=col>&lt;fct&gt;</th><th scope=col>&lt;int&gt;</th><th scope=col>&lt;fct&gt;</th><th scope=col>&lt;fct&gt;</th><th scope=col>&lt;int&gt;</th><th scope=col>&lt;int&gt;</th><th scope=col>&lt;fct&gt;</th><th scope=col>&lt;dbl&gt;</th></tr>\n",
       "</thead>\n",
       "<tbody>\n",
       "\t<tr><td>1</td><td>1</td><td>teen</td><td>17</td><td>girl</td><td>ARGCalostrum</td><td>1</td><td>1</td><td>ARG</td><td>0</td></tr>\n",
       "\t<tr><td>2</td><td>2</td><td>teen</td><td>16</td><td>boy </td><td>ARGCalostrum</td><td>1</td><td>1</td><td>ARG</td><td>0</td></tr>\n",
       "\t<tr><td>3</td><td>3</td><td>teen</td><td>17</td><td>boy </td><td>ARGCalostrum</td><td>1</td><td>1</td><td>ARG</td><td>0</td></tr>\n",
       "\t<tr><td>4</td><td>4</td><td>teen</td><td>16</td><td>boy </td><td>ARGCalostrum</td><td>1</td><td>1</td><td>ARG</td><td>0</td></tr>\n",
       "\t<tr><td>5</td><td>5</td><td>teen</td><td>16</td><td>NA  </td><td>ARGCalostrum</td><td>2</td><td>1</td><td>ARG</td><td>0</td></tr>\n",
       "\t<tr><td>6</td><td>6</td><td>teen</td><td>16</td><td>boy </td><td>ARGCalostrum</td><td>2</td><td>1</td><td>ARG</td><td>0</td></tr>\n",
       "</tbody>\n",
       "</table>\n"
      ],
      "text/latex": [
       "A data.frame: 6 × 10\n",
       "\\begin{tabular}{r|llllllllll}\n",
       " X & id & group & age & sex & weekNames & level & week & AA & missing data\\\\\n",
       " <int> & <int> & <fct> & <int> & <fct> & <fct> & <int> & <int> & <fct> & <dbl>\\\\\n",
       "\\hline\n",
       "\t 1 & 1 & teen & 17 & girl & ARGCalostrum & 1 & 1 & ARG & 0\\\\\n",
       "\t 2 & 2 & teen & 16 & boy  & ARGCalostrum & 1 & 1 & ARG & 0\\\\\n",
       "\t 3 & 3 & teen & 17 & boy  & ARGCalostrum & 1 & 1 & ARG & 0\\\\\n",
       "\t 4 & 4 & teen & 16 & boy  & ARGCalostrum & 1 & 1 & ARG & 0\\\\\n",
       "\t 5 & 5 & teen & 16 & NA   & ARGCalostrum & 2 & 1 & ARG & 0\\\\\n",
       "\t 6 & 6 & teen & 16 & boy  & ARGCalostrum & 2 & 1 & ARG & 0\\\\\n",
       "\\end{tabular}\n"
      ],
      "text/markdown": [
       "\n",
       "A data.frame: 6 × 10\n",
       "\n",
       "| X &lt;int&gt; | id &lt;int&gt; | group &lt;fct&gt; | age &lt;int&gt; | sex &lt;fct&gt; | weekNames &lt;fct&gt; | level &lt;int&gt; | week &lt;int&gt; | AA &lt;fct&gt; | missing data &lt;dbl&gt; |\n",
       "|---|---|---|---|---|---|---|---|---|---|\n",
       "| 1 | 1 | teen | 17 | girl | ARGCalostrum | 1 | 1 | ARG | 0 |\n",
       "| 2 | 2 | teen | 16 | boy  | ARGCalostrum | 1 | 1 | ARG | 0 |\n",
       "| 3 | 3 | teen | 17 | boy  | ARGCalostrum | 1 | 1 | ARG | 0 |\n",
       "| 4 | 4 | teen | 16 | boy  | ARGCalostrum | 1 | 1 | ARG | 0 |\n",
       "| 5 | 5 | teen | 16 | NA   | ARGCalostrum | 2 | 1 | ARG | 0 |\n",
       "| 6 | 6 | teen | 16 | boy  | ARGCalostrum | 2 | 1 | ARG | 0 |\n",
       "\n"
      ],
      "text/plain": [
       "  X id group age sex  weekNames    level week AA  missing data\n",
       "1 1 1  teen  17  girl ARGCalostrum 1     1    ARG 0           \n",
       "2 2 2  teen  16  boy  ARGCalostrum 1     1    ARG 0           \n",
       "3 3 3  teen  17  boy  ARGCalostrum 1     1    ARG 0           \n",
       "4 4 4  teen  16  boy  ARGCalostrum 1     1    ARG 0           \n",
       "5 5 5  teen  16  NA   ARGCalostrum 2     1    ARG 0           \n",
       "6 6 6  teen  16  boy  ARGCalostrum 2     1    ARG 0           "
      ]
     },
     "metadata": {},
     "output_type": "display_data"
    }
   ],
   "source": [
    "missingData <- AA_NE_Long %>% mutate(`missing data` = ifelse(is.na(level), 1, 0))\n",
    "head(missingData)"
   ]
  },
  {
   "cell_type": "markdown",
   "metadata": {},
   "source": [
    "There is not a clear distinction between patients with missing data patients and patients without:"
   ]
  },
  {
   "cell_type": "code",
   "execution_count": 4,
   "metadata": {},
   "outputs": [
    {
     "name": "stderr",
     "output_type": "stream",
     "text": [
      "Warning message:\n",
      "“Factor `sex` contains implicit NA, consider using `forcats::fct_explicit_na`”"
     ]
    },
    {
     "data": {
      "text/html": [
       "<table>\n",
       "<caption>A grouped_df: 6 × 6</caption>\n",
       "<thead>\n",
       "\t<tr><th scope=col>id</th><th scope=col>sex</th><th scope=col>age</th><th scope=col>week</th><th scope=col>AA</th><th scope=col>miss</th></tr>\n",
       "\t<tr><th scope=col>&lt;int&gt;</th><th scope=col>&lt;fct&gt;</th><th scope=col>&lt;int&gt;</th><th scope=col>&lt;int&gt;</th><th scope=col>&lt;fct&gt;</th><th scope=col>&lt;dbl&gt;</th></tr>\n",
       "</thead>\n",
       "<tbody>\n",
       "\t<tr><td>1</td><td>girl</td><td>17</td><td>1</td><td>ALA</td><td>0</td></tr>\n",
       "\t<tr><td>1</td><td>girl</td><td>17</td><td>1</td><td>ARG</td><td>0</td></tr>\n",
       "\t<tr><td>1</td><td>girl</td><td>17</td><td>1</td><td>ASN</td><td>0</td></tr>\n",
       "\t<tr><td>1</td><td>girl</td><td>17</td><td>1</td><td>ASP</td><td>0</td></tr>\n",
       "\t<tr><td>1</td><td>girl</td><td>17</td><td>1</td><td>CYS</td><td>0</td></tr>\n",
       "\t<tr><td>1</td><td>girl</td><td>17</td><td>1</td><td>GLN</td><td>0</td></tr>\n",
       "</tbody>\n",
       "</table>\n"
      ],
      "text/latex": [
       "A grouped_df: 6 × 6\n",
       "\\begin{tabular}{r|llllll}\n",
       " id & sex & age & week & AA & miss\\\\\n",
       " <int> & <fct> & <int> & <int> & <fct> & <dbl>\\\\\n",
       "\\hline\n",
       "\t 1 & girl & 17 & 1 & ALA & 0\\\\\n",
       "\t 1 & girl & 17 & 1 & ARG & 0\\\\\n",
       "\t 1 & girl & 17 & 1 & ASN & 0\\\\\n",
       "\t 1 & girl & 17 & 1 & ASP & 0\\\\\n",
       "\t 1 & girl & 17 & 1 & CYS & 0\\\\\n",
       "\t 1 & girl & 17 & 1 & GLN & 0\\\\\n",
       "\\end{tabular}\n"
      ],
      "text/markdown": [
       "\n",
       "A grouped_df: 6 × 6\n",
       "\n",
       "| id &lt;int&gt; | sex &lt;fct&gt; | age &lt;int&gt; | week &lt;int&gt; | AA &lt;fct&gt; | miss &lt;dbl&gt; |\n",
       "|---|---|---|---|---|---|\n",
       "| 1 | girl | 17 | 1 | ALA | 0 |\n",
       "| 1 | girl | 17 | 1 | ARG | 0 |\n",
       "| 1 | girl | 17 | 1 | ASN | 0 |\n",
       "| 1 | girl | 17 | 1 | ASP | 0 |\n",
       "| 1 | girl | 17 | 1 | CYS | 0 |\n",
       "| 1 | girl | 17 | 1 | GLN | 0 |\n",
       "\n"
      ],
      "text/plain": [
       "  id sex  age week AA  miss\n",
       "1 1  girl 17  1    ALA 0   \n",
       "2 1  girl 17  1    ARG 0   \n",
       "3 1  girl 17  1    ASN 0   \n",
       "4 1  girl 17  1    ASP 0   \n",
       "5 1  girl 17  1    CYS 0   \n",
       "6 1  girl 17  1    GLN 0   "
      ]
     },
     "metadata": {},
     "output_type": "display_data"
    }
   ],
   "source": [
    "numNA <- missingData %>% group_by(id, sex, age, week, AA) %>% summarise(miss = sum(`missing data`))\n",
    "head(numNA)"
   ]
  },
  {
   "cell_type": "code",
   "execution_count": 5,
   "metadata": {},
   "outputs": [
    {
     "data": {
      "text/html": [
       "<table>\n",
       "<caption>A tibble: 2 × 2</caption>\n",
       "<thead>\n",
       "\t<tr><th scope=col>complete</th><th scope=col>n()</th></tr>\n",
       "\t<tr><th scope=col>&lt;chr&gt;</th><th scope=col>&lt;int&gt;</th></tr>\n",
       "</thead>\n",
       "<tbody>\n",
       "\t<tr><td>no </td><td>32</td></tr>\n",
       "\t<tr><td>yes</td><td>29</td></tr>\n",
       "</tbody>\n",
       "</table>\n"
      ],
      "text/latex": [
       "A tibble: 2 × 2\n",
       "\\begin{tabular}{r|ll}\n",
       " complete & n()\\\\\n",
       " <chr> & <int>\\\\\n",
       "\\hline\n",
       "\t no  & 32\\\\\n",
       "\t yes & 29\\\\\n",
       "\\end{tabular}\n"
      ],
      "text/markdown": [
       "\n",
       "A tibble: 2 × 2\n",
       "\n",
       "| complete &lt;chr&gt; | n() &lt;int&gt; |\n",
       "|---|---|\n",
       "| no  | 32 |\n",
       "| yes | 29 |\n",
       "\n"
      ],
      "text/plain": [
       "  complete n()\n",
       "1 no       32 \n",
       "2 yes      29 "
      ]
     },
     "metadata": {},
     "output_type": "display_data"
    }
   ],
   "source": [
    "numNA_CI <- numNA %>% filter(!is.na(sex)) %>% group_by(id, sex, age, AA) %>% summarise(total_miss = sum(miss)) %>% filter(AA == 'GLU') %>%\n",
    "                    mutate(complete = ifelse(total_miss == 0, 'yes', 'no'))\n",
    "\n",
    "numNA_CI %>% group_by(complete) %>% summarise(n())"
   ]
  },
  {
   "cell_type": "code",
   "execution_count": 6,
   "metadata": {},
   "outputs": [
    {
     "data": {
      "text/html": [
       "<table>\n",
       "<caption>A grouped_df: 4 × 3</caption>\n",
       "<thead>\n",
       "\t<tr><th scope=col>complete</th><th scope=col>sex</th><th scope=col>n()</th></tr>\n",
       "\t<tr><th scope=col>&lt;chr&gt;</th><th scope=col>&lt;fct&gt;</th><th scope=col>&lt;int&gt;</th></tr>\n",
       "</thead>\n",
       "<tbody>\n",
       "\t<tr><td>no </td><td>boy </td><td>19</td></tr>\n",
       "\t<tr><td>no </td><td>girl</td><td>13</td></tr>\n",
       "\t<tr><td>yes</td><td>boy </td><td>16</td></tr>\n",
       "\t<tr><td>yes</td><td>girl</td><td>13</td></tr>\n",
       "</tbody>\n",
       "</table>\n"
      ],
      "text/latex": [
       "A grouped_df: 4 × 3\n",
       "\\begin{tabular}{r|lll}\n",
       " complete & sex & n()\\\\\n",
       " <chr> & <fct> & <int>\\\\\n",
       "\\hline\n",
       "\t no  & boy  & 19\\\\\n",
       "\t no  & girl & 13\\\\\n",
       "\t yes & boy  & 16\\\\\n",
       "\t yes & girl & 13\\\\\n",
       "\\end{tabular}\n"
      ],
      "text/markdown": [
       "\n",
       "A grouped_df: 4 × 3\n",
       "\n",
       "| complete &lt;chr&gt; | sex &lt;fct&gt; | n() &lt;int&gt; |\n",
       "|---|---|---|\n",
       "| no  | boy  | 19 |\n",
       "| no  | girl | 13 |\n",
       "| yes | boy  | 16 |\n",
       "| yes | girl | 13 |\n",
       "\n"
      ],
      "text/plain": [
       "  complete sex  n()\n",
       "1 no       boy  19 \n",
       "2 no       girl 13 \n",
       "3 yes      boy  16 \n",
       "4 yes      girl 13 "
      ]
     },
     "metadata": {},
     "output_type": "display_data"
    }
   ],
   "source": [
    "numNA_CI %>% group_by(complete, sex) %>% summarise(n())"
   ]
  },
  {
   "cell_type": "code",
   "execution_count": 21,
   "metadata": {},
   "outputs": [],
   "source": [
    "weekSexNA <- numNA %>% filter(!is.na(sex)) %>% group_by(id, sex, age, week, AA) %>% summarise(total_miss = sum(miss)) %>% filter(AA == 'GLU') %>%\n",
    "                    mutate(complete = ifelse(total_miss == 0, 'yes', 'no')) %>%\n",
    "                    group_by(complete, week, sex) %>% summarise(total = n())"
   ]
  },
  {
   "cell_type": "markdown",
   "metadata": {},
   "source": [
    "### Sex distribution for patients with missing data and without by week:"
   ]
  },
  {
   "cell_type": "code",
   "execution_count": 22,
   "metadata": {},
   "outputs": [
    {
     "name": "stderr",
     "output_type": "stream",
     "text": [
      "Adding missing grouping variables: `week`\n"
     ]
    },
    {
     "data": {
      "text/html": [
       "<table>\n",
       "<caption>A grouped_df: 1 × 4</caption>\n",
       "<thead>\n",
       "\t<tr><th scope=col>week</th><th scope=col>complete</th><th scope=col>boy</th><th scope=col>girl</th></tr>\n",
       "\t<tr><th scope=col>&lt;int&gt;</th><th scope=col>&lt;chr&gt;</th><th scope=col>&lt;int&gt;</th><th scope=col>&lt;int&gt;</th></tr>\n",
       "</thead>\n",
       "<tbody>\n",
       "\t<tr><td>1</td><td>yes</td><td>35</td><td>26</td></tr>\n",
       "</tbody>\n",
       "</table>\n"
      ],
      "text/latex": [
       "A grouped_df: 1 × 4\n",
       "\\begin{tabular}{r|llll}\n",
       " week & complete & boy & girl\\\\\n",
       " <int> & <chr> & <int> & <int>\\\\\n",
       "\\hline\n",
       "\t 1 & yes & 35 & 26\\\\\n",
       "\\end{tabular}\n"
      ],
      "text/markdown": [
       "\n",
       "A grouped_df: 1 × 4\n",
       "\n",
       "| week &lt;int&gt; | complete &lt;chr&gt; | boy &lt;int&gt; | girl &lt;int&gt; |\n",
       "|---|---|---|---|\n",
       "| 1 | yes | 35 | 26 |\n",
       "\n"
      ],
      "text/plain": [
       "  week complete boy girl\n",
       "1 1    yes      35  26  "
      ]
     },
     "metadata": {},
     "output_type": "display_data"
    },
    {
     "name": "stderr",
     "output_type": "stream",
     "text": [
      "Adding missing grouping variables: `week`\n"
     ]
    },
    {
     "data": {
      "text/html": [
       "<table>\n",
       "<caption>A grouped_df: 2 × 4</caption>\n",
       "<thead>\n",
       "\t<tr><th scope=col>week</th><th scope=col>complete</th><th scope=col>boy</th><th scope=col>girl</th></tr>\n",
       "\t<tr><th scope=col>&lt;int&gt;</th><th scope=col>&lt;chr&gt;</th><th scope=col>&lt;int&gt;</th><th scope=col>&lt;int&gt;</th></tr>\n",
       "</thead>\n",
       "<tbody>\n",
       "\t<tr><td>2</td><td>no </td><td> 8</td><td> 6</td></tr>\n",
       "\t<tr><td>2</td><td>yes</td><td>27</td><td>20</td></tr>\n",
       "</tbody>\n",
       "</table>\n"
      ],
      "text/latex": [
       "A grouped_df: 2 × 4\n",
       "\\begin{tabular}{r|llll}\n",
       " week & complete & boy & girl\\\\\n",
       " <int> & <chr> & <int> & <int>\\\\\n",
       "\\hline\n",
       "\t 2 & no  &  8 &  6\\\\\n",
       "\t 2 & yes & 27 & 20\\\\\n",
       "\\end{tabular}\n"
      ],
      "text/markdown": [
       "\n",
       "A grouped_df: 2 × 4\n",
       "\n",
       "| week &lt;int&gt; | complete &lt;chr&gt; | boy &lt;int&gt; | girl &lt;int&gt; |\n",
       "|---|---|---|---|\n",
       "| 2 | no  |  8 |  6 |\n",
       "| 2 | yes | 27 | 20 |\n",
       "\n"
      ],
      "text/plain": [
       "  week complete boy girl\n",
       "1 2    no        8   6  \n",
       "2 2    yes      27  20  "
      ]
     },
     "metadata": {},
     "output_type": "display_data"
    },
    {
     "name": "stderr",
     "output_type": "stream",
     "text": [
      "Adding missing grouping variables: `week`\n"
     ]
    },
    {
     "data": {
      "text/html": [
       "<table>\n",
       "<caption>A grouped_df: 2 × 4</caption>\n",
       "<thead>\n",
       "\t<tr><th scope=col>week</th><th scope=col>complete</th><th scope=col>boy</th><th scope=col>girl</th></tr>\n",
       "\t<tr><th scope=col>&lt;int&gt;</th><th scope=col>&lt;chr&gt;</th><th scope=col>&lt;int&gt;</th><th scope=col>&lt;int&gt;</th></tr>\n",
       "</thead>\n",
       "<tbody>\n",
       "\t<tr><td>8</td><td>no </td><td>12</td><td>11</td></tr>\n",
       "\t<tr><td>8</td><td>yes</td><td>23</td><td>15</td></tr>\n",
       "</tbody>\n",
       "</table>\n"
      ],
      "text/latex": [
       "A grouped_df: 2 × 4\n",
       "\\begin{tabular}{r|llll}\n",
       " week & complete & boy & girl\\\\\n",
       " <int> & <chr> & <int> & <int>\\\\\n",
       "\\hline\n",
       "\t 8 & no  & 12 & 11\\\\\n",
       "\t 8 & yes & 23 & 15\\\\\n",
       "\\end{tabular}\n"
      ],
      "text/markdown": [
       "\n",
       "A grouped_df: 2 × 4\n",
       "\n",
       "| week &lt;int&gt; | complete &lt;chr&gt; | boy &lt;int&gt; | girl &lt;int&gt; |\n",
       "|---|---|---|---|\n",
       "| 8 | no  | 12 | 11 |\n",
       "| 8 | yes | 23 | 15 |\n",
       "\n"
      ],
      "text/plain": [
       "  week complete boy girl\n",
       "1 8    no       12  11  \n",
       "2 8    yes      23  15  "
      ]
     },
     "metadata": {},
     "output_type": "display_data"
    },
    {
     "name": "stderr",
     "output_type": "stream",
     "text": [
      "Adding missing grouping variables: `week`\n"
     ]
    },
    {
     "data": {
      "text/html": [
       "<table>\n",
       "<caption>A grouped_df: 2 × 4</caption>\n",
       "<thead>\n",
       "\t<tr><th scope=col>week</th><th scope=col>complete</th><th scope=col>boy</th><th scope=col>girl</th></tr>\n",
       "\t<tr><th scope=col>&lt;int&gt;</th><th scope=col>&lt;chr&gt;</th><th scope=col>&lt;int&gt;</th><th scope=col>&lt;int&gt;</th></tr>\n",
       "</thead>\n",
       "<tbody>\n",
       "\t<tr><td>16</td><td>no </td><td>15</td><td> 9</td></tr>\n",
       "\t<tr><td>16</td><td>yes</td><td>20</td><td>17</td></tr>\n",
       "</tbody>\n",
       "</table>\n"
      ],
      "text/latex": [
       "A grouped_df: 2 × 4\n",
       "\\begin{tabular}{r|llll}\n",
       " week & complete & boy & girl\\\\\n",
       " <int> & <chr> & <int> & <int>\\\\\n",
       "\\hline\n",
       "\t 16 & no  & 15 &  9\\\\\n",
       "\t 16 & yes & 20 & 17\\\\\n",
       "\\end{tabular}\n"
      ],
      "text/markdown": [
       "\n",
       "A grouped_df: 2 × 4\n",
       "\n",
       "| week &lt;int&gt; | complete &lt;chr&gt; | boy &lt;int&gt; | girl &lt;int&gt; |\n",
       "|---|---|---|---|\n",
       "| 16 | no  | 15 |  9 |\n",
       "| 16 | yes | 20 | 17 |\n",
       "\n"
      ],
      "text/plain": [
       "  week complete boy girl\n",
       "1 16   no       15   9  \n",
       "2 16   yes      20  17  "
      ]
     },
     "metadata": {},
     "output_type": "display_data"
    }
   ],
   "source": [
    "weekSexNA %>% spread(sex, total) %>% filter(week == 1) %>% select(-week)\n",
    "weekSexNA %>% spread(sex, total) %>% filter(week == 2) %>% select(-week)\n",
    "weekSexNA %>% spread(sex, total) %>% filter(week == 8) %>% select(-week)\n",
    "weekSexNA %>% spread(sex, total) %>% filter(week == 16) %>% select(-week)"
   ]
  },
  {
   "cell_type": "code",
   "execution_count": 23,
   "metadata": {},
   "outputs": [
    {
     "data": {
      "text/html": [
       "<table>\n",
       "<caption>A grouped_df: 4 × 3</caption>\n",
       "<thead>\n",
       "\t<tr><th scope=col>week</th><th scope=col>no</th><th scope=col>yes</th></tr>\n",
       "\t<tr><th scope=col>&lt;int&gt;</th><th scope=col>&lt;dbl&gt;</th><th scope=col>&lt;dbl&gt;</th></tr>\n",
       "</thead>\n",
       "<tbody>\n",
       "\t<tr><td> 1</td><td>  NA</td><td>0.57</td></tr>\n",
       "\t<tr><td> 2</td><td>0.57</td><td>0.57</td></tr>\n",
       "\t<tr><td> 8</td><td>0.52</td><td>0.61</td></tr>\n",
       "\t<tr><td>16</td><td>0.62</td><td>0.54</td></tr>\n",
       "</tbody>\n",
       "</table>\n"
      ],
      "text/latex": [
       "A grouped_df: 4 × 3\n",
       "\\begin{tabular}{r|lll}\n",
       " week & no & yes\\\\\n",
       " <int> & <dbl> & <dbl>\\\\\n",
       "\\hline\n",
       "\t  1 &   NA & 0.57\\\\\n",
       "\t  2 & 0.57 & 0.57\\\\\n",
       "\t  8 & 0.52 & 0.61\\\\\n",
       "\t 16 & 0.62 & 0.54\\\\\n",
       "\\end{tabular}\n"
      ],
      "text/markdown": [
       "\n",
       "A grouped_df: 4 × 3\n",
       "\n",
       "| week &lt;int&gt; | no &lt;dbl&gt; | yes &lt;dbl&gt; |\n",
       "|---|---|---|\n",
       "|  1 |   NA | 0.57 |\n",
       "|  2 | 0.57 | 0.57 |\n",
       "|  8 | 0.52 | 0.61 |\n",
       "| 16 | 0.62 | 0.54 |\n",
       "\n"
      ],
      "text/plain": [
       "  week no   yes \n",
       "1  1     NA 0.57\n",
       "2  2   0.57 0.57\n",
       "3  8   0.52 0.61\n",
       "4 16   0.62 0.54"
      ]
     },
     "metadata": {},
     "output_type": "display_data"
    }
   ],
   "source": [
    "weekSexPlot <- weekSexNA %>% spread(sex, total) %>% mutate(proportion = round(boy/(boy + girl), 2)) %>%\n",
    "                    select(complete, proportion, week) %>% spread(complete, proportion)\n",
    "\n",
    "weekSexPlot"
   ]
  },
  {
   "cell_type": "code",
   "execution_count": 11,
   "metadata": {},
   "outputs": [],
   "source": [
    "# Week 2: Identical Proportions:\n",
    "14 * 0.57\n",
    "14 * 0.57 * (1 - 0.57)\n",
    "\n",
    "\n",
    "47 * 0.57\n",
    "47 * 0.57 * (1 - 0.57)\n",
    "\n",
    "# N(np, npq):\n",
    "# Week 8: Overlapping 95% CIs under the normal approximation.\n",
    "23 * 0.52\n",
    "23 * 0.52 * (1 - 0.52)\n",
    "\n",
    "\n",
    "38 * 0.61\n",
    "38 * 0.61 * (1 - 0.61)\n",
    "\n",
    "# Week 16: Overlapping 95% CIs under the normal approximation.\n",
    "24 * 0.62\n",
    "24 * 0.62 * (1 - 0.62)\n",
    "\n",
    "\n",
    "37 * 0.54\n",
    "37 * 0.54 * (1 - 0.54)\n",
    "\n"
   ]
  },
  {
   "cell_type": "markdown",
   "metadata": {},
   "source": [
    "# Missing data increases with time\n",
    "\n",
    "The number of observations per week is bigger than 37"
   ]
  },
  {
   "cell_type": "code",
   "execution_count": 10,
   "metadata": {},
   "outputs": [
    {
     "data": {
      "text/html": [
       "<table>\n",
       "<caption>A tibble: 4 × 2</caption>\n",
       "<thead>\n",
       "\t<tr><th scope=col>week</th><th scope=col>n_obs</th></tr>\n",
       "\t<tr><th scope=col>&lt;int&gt;</th><th scope=col>&lt;int&gt;</th></tr>\n",
       "</thead>\n",
       "<tbody>\n",
       "\t<tr><td> 1</td><td>65</td></tr>\n",
       "\t<tr><td> 2</td><td>48</td></tr>\n",
       "\t<tr><td> 8</td><td>39</td></tr>\n",
       "\t<tr><td>16</td><td>37</td></tr>\n",
       "</tbody>\n",
       "</table>\n"
      ],
      "text/latex": [
       "A tibble: 4 × 2\n",
       "\\begin{tabular}{r|ll}\n",
       " week & n\\_obs\\\\\n",
       " <int> & <int>\\\\\n",
       "\\hline\n",
       "\t  1 & 65\\\\\n",
       "\t  2 & 48\\\\\n",
       "\t  8 & 39\\\\\n",
       "\t 16 & 37\\\\\n",
       "\\end{tabular}\n"
      ],
      "text/markdown": [
       "\n",
       "A tibble: 4 × 2\n",
       "\n",
       "| week &lt;int&gt; | n_obs &lt;int&gt; |\n",
       "|---|---|\n",
       "|  1 | 65 |\n",
       "|  2 | 48 |\n",
       "|  8 | 39 |\n",
       "| 16 | 37 |\n",
       "\n"
      ],
      "text/plain": [
       "  week n_obs\n",
       "1  1   65   \n",
       "2  2   48   \n",
       "3  8   39   \n",
       "4 16   37   "
      ]
     },
     "metadata": {},
     "output_type": "display_data"
    }
   ],
   "source": [
    "AA_NE_Long %>% filter(!is.na(level), AA == 'GLU') %>% group_by(week) %>% summarise(n_obs = n())"
   ]
  }
 ],
 "metadata": {
  "kernelspec": {
   "display_name": "R",
   "language": "R",
   "name": "ir"
  },
  "language_info": {
   "codemirror_mode": "r",
   "file_extension": ".r",
   "mimetype": "text/x-r-source",
   "name": "R",
   "pygments_lexer": "r",
   "version": "3.6.0"
  }
 },
 "nbformat": 4,
 "nbformat_minor": 2
}
