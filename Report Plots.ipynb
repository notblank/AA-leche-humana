{
 "cells": [
  {
   "cell_type": "code",
   "execution_count": 1,
   "metadata": {},
   "outputs": [
    {
     "name": "stderr",
     "output_type": "stream",
     "text": [
      "Loading tidyverse: ggplot2\n",
      "Loading tidyverse: tibble\n",
      "Loading tidyverse: tidyr\n",
      "Loading tidyverse: readr\n",
      "Loading tidyverse: purrr\n",
      "Loading tidyverse: dplyr\n",
      "Conflicts with tidy packages ---------------------------------------------------\n",
      "filter(): dplyr, stats\n",
      "lag():    dplyr, stats\n",
      "Loading required package: Matrix\n",
      "\n",
      "Attaching package: 'Matrix'\n",
      "\n",
      "The following object is masked from 'package:tidyr':\n",
      "\n",
      "    expand\n",
      "\n"
     ]
    }
   ],
   "source": [
    "library(haven)\n",
    "library(tidyverse)\n",
    "library(broom)\n",
    "library(lme4) \n",
    "library(latex2exp)"
   ]
  },
  {
   "cell_type": "code",
   "execution_count": 2,
   "metadata": {},
   "outputs": [
    {
     "data": {
      "text/html": [
       "<table>\n",
       "<thead><tr><th scope=col>ID</th><th scope=col>GROUP</th><th scope=col>MATERNALAGE</th><th scope=col>SEXO</th><th scope=col>INFANTDOB</th><th scope=col>MATBMI1COLL</th><th scope=col>MATBMI215d</th><th scope=col>MATBMI32mos</th><th scope=col>MATBMI44mos</th><th scope=col>BABYWeigth1g</th><th scope=col>...</th><th scope=col>ALAGLOB</th><th scope=col>ASNGLOB</th><th scope=col>SYSGLOB</th><th scope=col>GLYGLOB</th><th scope=col>GLUGLOB</th><th scope=col>GLNGLOB</th><th scope=col>PROLINEGLOB</th><th scope=col>SERINEGLOB</th><th scope=col>TYRAMINEGLOB</th><th scope=col>new</th></tr></thead>\n",
       "<tbody>\n",
       "\t<tr><td>1         </td><td>0         </td><td>17        </td><td> 1        </td><td>2009-08-20</td><td>25        </td><td>24        </td><td>24        </td><td>22        </td><td>3492.7    </td><td>...       </td><td>21.25     </td><td>0.5       </td><td>1.00      </td><td>10.00     </td><td> 87.25    </td><td>23.25     </td><td>2.75      </td><td>8.0       </td><td>1.00      </td><td>0         </td></tr>\n",
       "\t<tr><td>2         </td><td>0         </td><td>16        </td><td> 2        </td><td>2009-08-24</td><td>32        </td><td>31        </td><td>30        </td><td>29        </td><td>3392.9    </td><td>...       </td><td>18.25     </td><td>0.0       </td><td>0.75      </td><td>13.75     </td><td>100.50    </td><td>40.50     </td><td>2.50      </td><td>9.5       </td><td>0.75      </td><td>0         </td></tr>\n",
       "\t<tr><td>3         </td><td>0         </td><td>17        </td><td> 2        </td><td>2009-08-21</td><td>23        </td><td>23        </td><td>NA        </td><td>NA        </td><td>2993.8    </td><td>...       </td><td>   NA     </td><td> NA       </td><td>  NA      </td><td>   NA     </td><td>    NA    </td><td>   NA     </td><td>  NA      </td><td> NA       </td><td>  NA      </td><td>0         </td></tr>\n",
       "\t<tr><td>4         </td><td>0         </td><td>16        </td><td> 2        </td><td>2009-08-21</td><td>26        </td><td>NA        </td><td>NA        </td><td>NA        </td><td>3692.3    </td><td>...       </td><td>   NA     </td><td> NA       </td><td>  NA      </td><td>   NA     </td><td>    NA    </td><td>   NA     </td><td>  NA      </td><td> NA       </td><td>  NA      </td><td>0         </td></tr>\n",
       "\t<tr><td>5         </td><td>0         </td><td>16        </td><td>NA        </td><td>2009-08-29</td><td>25        </td><td>NA        </td><td>NA        </td><td>NA        </td><td>3592.5    </td><td>...       </td><td>   NA     </td><td> NA       </td><td>  NA      </td><td>   NA     </td><td>    NA    </td><td>   NA     </td><td>  NA      </td><td> NA       </td><td>  NA      </td><td>0         </td></tr>\n",
       "\t<tr><td>6         </td><td>0         </td><td>16        </td><td> 2        </td><td>2009-08-27</td><td>29        </td><td>28        </td><td>30        </td><td>31        </td><td>3093.5    </td><td>...       </td><td>15.50     </td><td>0.5       </td><td>1.50      </td><td>10.25     </td><td> 74.75    </td><td>30.00     </td><td>5.25      </td><td>8.0       </td><td>2.00      </td><td>0         </td></tr>\n",
       "</tbody>\n",
       "</table>\n"
      ],
      "text/latex": [
       "\\begin{tabular}{r|lllllllllllllllllllllllllllllllllllllllllllllllllllllllllllllllllllllllllllllllllllllllllllllllllllllllllllllllllllllllllllllllllllllllllllllllllllllllllllllllllllllllllll}\n",
       " ID & GROUP & MATERNALAGE & SEXO & INFANTDOB & MATBMI1COLL & MATBMI215d & MATBMI32mos & MATBMI44mos & BABYWeigth1g & ... & ALAGLOB & ASNGLOB & SYSGLOB & GLYGLOB & GLUGLOB & GLNGLOB & PROLINEGLOB & SERINEGLOB & TYRAMINEGLOB & new\\\\\n",
       "\\hline\n",
       "\t 1          & 0          & 17         &  1         & 2009-08-20 & 25         & 24         & 24         & 22         & 3492.7     & ...        & 21.25      & 0.5        & 1.00       & 10.00      &  87.25     & 23.25      & 2.75       & 8.0        & 1.00       & 0         \\\\\n",
       "\t 2          & 0          & 16         &  2         & 2009-08-24 & 32         & 31         & 30         & 29         & 3392.9     & ...        & 18.25      & 0.0        & 0.75       & 13.75      & 100.50     & 40.50      & 2.50       & 9.5        & 0.75       & 0         \\\\\n",
       "\t 3          & 0          & 17         &  2         & 2009-08-21 & 23         & 23         & NA         & NA         & 2993.8     & ...        &    NA      &  NA        &   NA       &    NA      &     NA     &    NA      &   NA       &  NA        &   NA       & 0         \\\\\n",
       "\t 4          & 0          & 16         &  2         & 2009-08-21 & 26         & NA         & NA         & NA         & 3692.3     & ...        &    NA      &  NA        &   NA       &    NA      &     NA     &    NA      &   NA       &  NA        &   NA       & 0         \\\\\n",
       "\t 5          & 0          & 16         & NA         & 2009-08-29 & 25         & NA         & NA         & NA         & 3592.5     & ...        &    NA      &  NA        &   NA       &    NA      &     NA     &    NA      &   NA       &  NA        &   NA       & 0         \\\\\n",
       "\t 6          & 0          & 16         &  2         & 2009-08-27 & 29         & 28         & 30         & 31         & 3093.5     & ...        & 15.50      & 0.5        & 1.50       & 10.25      &  74.75     & 30.00      & 5.25       & 8.0        & 2.00       & 0         \\\\\n",
       "\\end{tabular}\n"
      ],
      "text/markdown": [
       "\n",
       "ID | GROUP | MATERNALAGE | SEXO | INFANTDOB | MATBMI1COLL | MATBMI215d | MATBMI32mos | MATBMI44mos | BABYWeigth1g | ... | ALAGLOB | ASNGLOB | SYSGLOB | GLYGLOB | GLUGLOB | GLNGLOB | PROLINEGLOB | SERINEGLOB | TYRAMINEGLOB | new | \n",
       "|---|---|---|---|---|---|\n",
       "| 1          | 0          | 17         |  1         | 2009-08-20 | 25         | 24         | 24         | 22         | 3492.7     | ...        | 21.25      | 0.5        | 1.00       | 10.00      |  87.25     | 23.25      | 2.75       | 8.0        | 1.00       | 0          | \n",
       "| 2          | 0          | 16         |  2         | 2009-08-24 | 32         | 31         | 30         | 29         | 3392.9     | ...        | 18.25      | 0.0        | 0.75       | 13.75      | 100.50     | 40.50      | 2.50       | 9.5        | 0.75       | 0          | \n",
       "| 3          | 0          | 17         |  2         | 2009-08-21 | 23         | 23         | NA         | NA         | 2993.8     | ...        |    NA      |  NA        |   NA       |    NA      |     NA     |    NA      |   NA       |  NA        |   NA       | 0          | \n",
       "| 4          | 0          | 16         |  2         | 2009-08-21 | 26         | NA         | NA         | NA         | 3692.3     | ...        |    NA      |  NA        |   NA       |    NA      |     NA     |    NA      |   NA       |  NA        |   NA       | 0          | \n",
       "| 5          | 0          | 16         | NA         | 2009-08-29 | 25         | NA         | NA         | NA         | 3592.5     | ...        |    NA      |  NA        |   NA       |    NA      |     NA     |    NA      |   NA       |  NA        |   NA       | 0          | \n",
       "| 6          | 0          | 16         |  2         | 2009-08-27 | 29         | 28         | 30         | 31         | 3093.5     | ...        | 15.50      | 0.5        | 1.50       | 10.25      |  74.75     | 30.00      | 5.25       | 8.0        | 2.00       | 0          | \n",
       "\n",
       "\n"
      ],
      "text/plain": [
       "  ID GROUP MATERNALAGE SEXO INFANTDOB  MATBMI1COLL MATBMI215d MATBMI32mos\n",
       "1 1  0     17           1   2009-08-20 25          24         24         \n",
       "2 2  0     16           2   2009-08-24 32          31         30         \n",
       "3 3  0     17           2   2009-08-21 23          23         NA         \n",
       "4 4  0     16           2   2009-08-21 26          NA         NA         \n",
       "5 5  0     16          NA   2009-08-29 25          NA         NA         \n",
       "6 6  0     16           2   2009-08-27 29          28         30         \n",
       "  MATBMI44mos BABYWeigth1g ... ALAGLOB ASNGLOB SYSGLOB GLYGLOB GLUGLOB GLNGLOB\n",
       "1 22          3492.7       ... 21.25   0.5     1.00    10.00    87.25  23.25  \n",
       "2 29          3392.9       ... 18.25   0.0     0.75    13.75   100.50  40.50  \n",
       "3 NA          2993.8       ...    NA    NA       NA       NA       NA     NA  \n",
       "4 NA          3692.3       ...    NA    NA       NA       NA       NA     NA  \n",
       "5 NA          3592.5       ...    NA    NA       NA       NA       NA     NA  \n",
       "6 31          3093.5       ... 15.50   0.5     1.50    10.25    74.75  30.00  \n",
       "  PROLINEGLOB SERINEGLOB TYRAMINEGLOB new\n",
       "1 2.75        8.0        1.00         0  \n",
       "2 2.50        9.5        0.75         0  \n",
       "3   NA         NA          NA         0  \n",
       "4   NA         NA          NA         0  \n",
       "5   NA         NA          NA         0  \n",
       "6 5.25        8.0        2.00         0  "
      ]
     },
     "metadata": {},
     "output_type": "display_data"
    }
   ],
   "source": [
    "AA_Sex_1 <- read_sav(\"C:/Users/Personal/AA leche/datos/AMINOACIDOS POR SEXO_1.sav\")\n",
    "head(AA_Sex_1) "
   ]
  },
  {
   "cell_type": "code",
   "execution_count": 3,
   "metadata": {},
   "outputs": [
    {
     "data": {
      "text/html": [
       "<ol class=list-inline>\n",
       "\t<li>'ID'</li>\n",
       "\t<li>'GROUP'</li>\n",
       "\t<li>'MATERNALAGE'</li>\n",
       "\t<li>'SEXO'</li>\n",
       "\t<li>'INFANTDOB'</li>\n",
       "\t<li>'MATBMI1COLL'</li>\n",
       "\t<li>'MATBMI215d'</li>\n",
       "\t<li>'MATBMI32mos'</li>\n",
       "\t<li>'MATBMI44mos'</li>\n",
       "\t<li>'BABYWeigth1g'</li>\n",
       "\t<li>'BABYWeigth2g'</li>\n",
       "\t<li>'BABYWeigth3g'</li>\n",
       "\t<li>'BABYWeigth4g'</li>\n",
       "\t<li>'HeadCircumcm1'</li>\n",
       "\t<li>'HCcm2'</li>\n",
       "\t<li>'HCcm3'</li>\n",
       "\t<li>'HCcm4'</li>\n",
       "\t<li>'MATHeight1m'</li>\n",
       "\t<li>'MATHeight2m'</li>\n",
       "\t<li>'MATHeight3m'</li>\n",
       "\t<li>'MATHeight4m'</li>\n",
       "\t<li>'MATWeight1kg'</li>\n",
       "\t<li>'MATWeight2kg'</li>\n",
       "\t<li>'MATWeight3kg'</li>\n",
       "\t<li>'MATWeight4kg'</li>\n",
       "\t<li>'A.TOTALCALORIESKcal'</li>\n",
       "\t<li>'B.TOTALCALORIESKcal'</li>\n",
       "\t<li>'A.PROTEINg'</li>\n",
       "\t<li>'B.PROTEINg'</li>\n",
       "\t<li>'A.CHOg'</li>\n",
       "\t<li>'B.CHOg'</li>\n",
       "\t<li>'A.LIPIDSg'</li>\n",
       "\t<li>'B.LIPIDSg'</li>\n",
       "\t<li>'A.GLUCOSEmgdL'</li>\n",
       "\t<li>'B.GLUCOSEmgdL'</li>\n",
       "\t<li>'A.CHOLESTEROLmgdL'</li>\n",
       "\t<li>'B.CHOLESTEROLmgdL'</li>\n",
       "\t<li>'A.TRIGLYCERIDSmgdL'</li>\n",
       "\t<li>'B.TRIGLYCERIDmgdL'</li>\n",
       "\t<li>'A.HDLmgdL'</li>\n",
       "\t<li>'B.HDLmgdL'</li>\n",
       "\t<li>'A.LDLmgdL'</li>\n",
       "\t<li>'B.LDLmgdL'</li>\n",
       "\t<li>'A.PROTEINSgdL'</li>\n",
       "\t<li>'B.PROTEINSgdL'</li>\n",
       "\t<li>'A.ALBUMINgdL'</li>\n",
       "\t<li>'B.ALBUMINgdL'</li>\n",
       "\t<li>'edadr'</li>\n",
       "\t<li>'Grupos'</li>\n",
       "\t<li>'CALOSTRUMtotalAA'</li>\n",
       "\t<li>'TRANSITIONtotalAA'</li>\n",
       "\t<li>'MATURE2mtotalAA'</li>\n",
       "\t<li>'MATURE4mtotalAA'</li>\n",
       "\t<li>'CALOSTRUMessentialAA'</li>\n",
       "\t<li>'TRANSITIONessentialAA'</li>\n",
       "\t<li>'MATURE2messentialAA'</li>\n",
       "\t<li>'MATURE4messentialAA'</li>\n",
       "\t<li>'ARGCalostrum'</li>\n",
       "\t<li>'ARGTransition'</li>\n",
       "\t<li>'ARGMature2m'</li>\n",
       "\t<li>'ARGMature4m'</li>\n",
       "\t<li>'HISCalostrum'</li>\n",
       "\t<li>'HISTransition'</li>\n",
       "\t<li>'HISMature2m'</li>\n",
       "\t<li>'HISMature4m'</li>\n",
       "\t<li>'ILECalostrum'</li>\n",
       "\t<li>'ILETransition'</li>\n",
       "\t<li>'ILEMature2m'</li>\n",
       "\t<li>'ILEMature4m'</li>\n",
       "\t<li>'LEUCalostrum'</li>\n",
       "\t<li>'LEUTransition'</li>\n",
       "\t<li>'LEUMature2m'</li>\n",
       "\t<li>'LEUMature4m'</li>\n",
       "\t<li>'LYSCalostrum'</li>\n",
       "\t<li>'LYSTransition'</li>\n",
       "\t<li>'LYSMature2m'</li>\n",
       "\t<li>'LYSMature4m'</li>\n",
       "\t<li>'METCalostrum'</li>\n",
       "\t<li>'METTransition'</li>\n",
       "\t<li>'METMature2m'</li>\n",
       "\t<li>'METMature4m'</li>\n",
       "\t<li>'PHECalostrum'</li>\n",
       "\t<li>'PHETransition'</li>\n",
       "\t<li>'PHEMature2m'</li>\n",
       "\t<li>'PHEMature4m'</li>\n",
       "\t<li>'THRCalostrum'</li>\n",
       "\t<li>'THRTransition'</li>\n",
       "\t<li>'THRMature2m'</li>\n",
       "\t<li>'THRMature4m'</li>\n",
       "\t<li>'TRPCalostrum'</li>\n",
       "\t<li>'TRPTransition'</li>\n",
       "\t<li>'TRPMature2m'</li>\n",
       "\t<li>'TRPMature4m'</li>\n",
       "\t<li>'VALCalostrum'</li>\n",
       "\t<li>'VALTransition'</li>\n",
       "\t<li>'VALMature2m'</li>\n",
       "\t<li>'VALMature4m'</li>\n",
       "\t<li>'CALOSTRUMnonessentialAA'</li>\n",
       "\t<li>'TRANSITIONnonessentialAA'</li>\n",
       "\t<li>'MATURE2mnonessentialAA'</li>\n",
       "\t<li>'MATURE4mnonessentialAA'</li>\n",
       "\t<li>'ASPCalostrum'</li>\n",
       "\t<li>'ASPTransition'</li>\n",
       "\t<li>'ASPMature2m'</li>\n",
       "\t<li>'ASPMature4m'</li>\n",
       "\t<li>'ALACalostrum'</li>\n",
       "\t<li>'ALATransition'</li>\n",
       "\t<li>'ALAMature2m'</li>\n",
       "\t<li>'ALAMature4m'</li>\n",
       "\t<li>'ASNCalostrum'</li>\n",
       "\t<li>'ASNTransition'</li>\n",
       "\t<li>'ASNMature2m'</li>\n",
       "\t<li>'ASNMature4m'</li>\n",
       "\t<li>'CYSCalostrum'</li>\n",
       "\t<li>'CYSTransition'</li>\n",
       "\t<li>'CYSMature2m'</li>\n",
       "\t<li>'CYSMature4m'</li>\n",
       "\t<li>'GLYCalostrum'</li>\n",
       "\t<li>'GLYTransition'</li>\n",
       "\t<li>'GLYMature2m'</li>\n",
       "\t<li>'GLYMature4m'</li>\n",
       "\t<li>'GLUCalostrum'</li>\n",
       "\t<li>'GLUTransition'</li>\n",
       "\t<li>'GLUMature2m'</li>\n",
       "\t<li>'GLUMature4m'</li>\n",
       "\t<li>'GLNCalostrum'</li>\n",
       "\t<li>'GLNTransition'</li>\n",
       "\t<li>'GLNMature2m'</li>\n",
       "\t<li>'GLNMature4m'</li>\n",
       "\t<li>'PROCalostrum'</li>\n",
       "\t<li>'PROTransition'</li>\n",
       "\t<li>'PROMature2m'</li>\n",
       "\t<li>'PROMature4m'</li>\n",
       "\t<li>'SERCalostrum'</li>\n",
       "\t<li>'SERTransition'</li>\n",
       "\t<li>'SERMature2m'</li>\n",
       "\t<li>'SERMature4m'</li>\n",
       "\t<li>'TYRCalostrum'</li>\n",
       "\t<li>'TYRTransition'</li>\n",
       "\t<li>'TYRMature2m'</li>\n",
       "\t<li>'TYRMature4m'</li>\n",
       "\t<li>'filter_$'</li>\n",
       "\t<li>'CAL1NONE'</li>\n",
       "\t<li>'TRANS2NONE'</li>\n",
       "\t<li>'MAT3NONE'</li>\n",
       "\t<li>'MAT4NONE'</li>\n",
       "\t<li>'ADOEXTR'</li>\n",
       "\t<li>'TotalAAGLOB'</li>\n",
       "\t<li>'EssentAAGLOB'</li>\n",
       "\t<li>'ARGGLOB'</li>\n",
       "\t<li>'HISTGLOB'</li>\n",
       "\t<li>'ISOLGLOB'</li>\n",
       "\t<li>'LEUCINEGLOB'</li>\n",
       "\t<li>'LYSINEGLOB'</li>\n",
       "\t<li>'METHIONGLOB'</li>\n",
       "\t<li>'PHENYLGLOB'</li>\n",
       "\t<li>'THREOGLOB'</li>\n",
       "\t<li>'TRYPTOGLOB'</li>\n",
       "\t<li>'VALINEGLOB'</li>\n",
       "\t<li>'NONESSENGLOB'</li>\n",
       "\t<li>'ASPGLOB'</li>\n",
       "\t<li>'ALAGLOB'</li>\n",
       "\t<li>'ASNGLOB'</li>\n",
       "\t<li>'SYSGLOB'</li>\n",
       "\t<li>'GLYGLOB'</li>\n",
       "\t<li>'GLUGLOB'</li>\n",
       "\t<li>'GLNGLOB'</li>\n",
       "\t<li>'PROLINEGLOB'</li>\n",
       "\t<li>'SERINEGLOB'</li>\n",
       "\t<li>'TYRAMINEGLOB'</li>\n",
       "\t<li>'new'</li>\n",
       "</ol>\n"
      ],
      "text/latex": [
       "\\begin{enumerate*}\n",
       "\\item 'ID'\n",
       "\\item 'GROUP'\n",
       "\\item 'MATERNALAGE'\n",
       "\\item 'SEXO'\n",
       "\\item 'INFANTDOB'\n",
       "\\item 'MATBMI1COLL'\n",
       "\\item 'MATBMI215d'\n",
       "\\item 'MATBMI32mos'\n",
       "\\item 'MATBMI44mos'\n",
       "\\item 'BABYWeigth1g'\n",
       "\\item 'BABYWeigth2g'\n",
       "\\item 'BABYWeigth3g'\n",
       "\\item 'BABYWeigth4g'\n",
       "\\item 'HeadCircumcm1'\n",
       "\\item 'HCcm2'\n",
       "\\item 'HCcm3'\n",
       "\\item 'HCcm4'\n",
       "\\item 'MATHeight1m'\n",
       "\\item 'MATHeight2m'\n",
       "\\item 'MATHeight3m'\n",
       "\\item 'MATHeight4m'\n",
       "\\item 'MATWeight1kg'\n",
       "\\item 'MATWeight2kg'\n",
       "\\item 'MATWeight3kg'\n",
       "\\item 'MATWeight4kg'\n",
       "\\item 'A.TOTALCALORIESKcal'\n",
       "\\item 'B.TOTALCALORIESKcal'\n",
       "\\item 'A.PROTEINg'\n",
       "\\item 'B.PROTEINg'\n",
       "\\item 'A.CHOg'\n",
       "\\item 'B.CHOg'\n",
       "\\item 'A.LIPIDSg'\n",
       "\\item 'B.LIPIDSg'\n",
       "\\item 'A.GLUCOSEmgdL'\n",
       "\\item 'B.GLUCOSEmgdL'\n",
       "\\item 'A.CHOLESTEROLmgdL'\n",
       "\\item 'B.CHOLESTEROLmgdL'\n",
       "\\item 'A.TRIGLYCERIDSmgdL'\n",
       "\\item 'B.TRIGLYCERIDmgdL'\n",
       "\\item 'A.HDLmgdL'\n",
       "\\item 'B.HDLmgdL'\n",
       "\\item 'A.LDLmgdL'\n",
       "\\item 'B.LDLmgdL'\n",
       "\\item 'A.PROTEINSgdL'\n",
       "\\item 'B.PROTEINSgdL'\n",
       "\\item 'A.ALBUMINgdL'\n",
       "\\item 'B.ALBUMINgdL'\n",
       "\\item 'edadr'\n",
       "\\item 'Grupos'\n",
       "\\item 'CALOSTRUMtotalAA'\n",
       "\\item 'TRANSITIONtotalAA'\n",
       "\\item 'MATURE2mtotalAA'\n",
       "\\item 'MATURE4mtotalAA'\n",
       "\\item 'CALOSTRUMessentialAA'\n",
       "\\item 'TRANSITIONessentialAA'\n",
       "\\item 'MATURE2messentialAA'\n",
       "\\item 'MATURE4messentialAA'\n",
       "\\item 'ARGCalostrum'\n",
       "\\item 'ARGTransition'\n",
       "\\item 'ARGMature2m'\n",
       "\\item 'ARGMature4m'\n",
       "\\item 'HISCalostrum'\n",
       "\\item 'HISTransition'\n",
       "\\item 'HISMature2m'\n",
       "\\item 'HISMature4m'\n",
       "\\item 'ILECalostrum'\n",
       "\\item 'ILETransition'\n",
       "\\item 'ILEMature2m'\n",
       "\\item 'ILEMature4m'\n",
       "\\item 'LEUCalostrum'\n",
       "\\item 'LEUTransition'\n",
       "\\item 'LEUMature2m'\n",
       "\\item 'LEUMature4m'\n",
       "\\item 'LYSCalostrum'\n",
       "\\item 'LYSTransition'\n",
       "\\item 'LYSMature2m'\n",
       "\\item 'LYSMature4m'\n",
       "\\item 'METCalostrum'\n",
       "\\item 'METTransition'\n",
       "\\item 'METMature2m'\n",
       "\\item 'METMature4m'\n",
       "\\item 'PHECalostrum'\n",
       "\\item 'PHETransition'\n",
       "\\item 'PHEMature2m'\n",
       "\\item 'PHEMature4m'\n",
       "\\item 'THRCalostrum'\n",
       "\\item 'THRTransition'\n",
       "\\item 'THRMature2m'\n",
       "\\item 'THRMature4m'\n",
       "\\item 'TRPCalostrum'\n",
       "\\item 'TRPTransition'\n",
       "\\item 'TRPMature2m'\n",
       "\\item 'TRPMature4m'\n",
       "\\item 'VALCalostrum'\n",
       "\\item 'VALTransition'\n",
       "\\item 'VALMature2m'\n",
       "\\item 'VALMature4m'\n",
       "\\item 'CALOSTRUMnonessentialAA'\n",
       "\\item 'TRANSITIONnonessentialAA'\n",
       "\\item 'MATURE2mnonessentialAA'\n",
       "\\item 'MATURE4mnonessentialAA'\n",
       "\\item 'ASPCalostrum'\n",
       "\\item 'ASPTransition'\n",
       "\\item 'ASPMature2m'\n",
       "\\item 'ASPMature4m'\n",
       "\\item 'ALACalostrum'\n",
       "\\item 'ALATransition'\n",
       "\\item 'ALAMature2m'\n",
       "\\item 'ALAMature4m'\n",
       "\\item 'ASNCalostrum'\n",
       "\\item 'ASNTransition'\n",
       "\\item 'ASNMature2m'\n",
       "\\item 'ASNMature4m'\n",
       "\\item 'CYSCalostrum'\n",
       "\\item 'CYSTransition'\n",
       "\\item 'CYSMature2m'\n",
       "\\item 'CYSMature4m'\n",
       "\\item 'GLYCalostrum'\n",
       "\\item 'GLYTransition'\n",
       "\\item 'GLYMature2m'\n",
       "\\item 'GLYMature4m'\n",
       "\\item 'GLUCalostrum'\n",
       "\\item 'GLUTransition'\n",
       "\\item 'GLUMature2m'\n",
       "\\item 'GLUMature4m'\n",
       "\\item 'GLNCalostrum'\n",
       "\\item 'GLNTransition'\n",
       "\\item 'GLNMature2m'\n",
       "\\item 'GLNMature4m'\n",
       "\\item 'PROCalostrum'\n",
       "\\item 'PROTransition'\n",
       "\\item 'PROMature2m'\n",
       "\\item 'PROMature4m'\n",
       "\\item 'SERCalostrum'\n",
       "\\item 'SERTransition'\n",
       "\\item 'SERMature2m'\n",
       "\\item 'SERMature4m'\n",
       "\\item 'TYRCalostrum'\n",
       "\\item 'TYRTransition'\n",
       "\\item 'TYRMature2m'\n",
       "\\item 'TYRMature4m'\n",
       "\\item 'filter\\_\\$'\n",
       "\\item 'CAL1NONE'\n",
       "\\item 'TRANS2NONE'\n",
       "\\item 'MAT3NONE'\n",
       "\\item 'MAT4NONE'\n",
       "\\item 'ADOEXTR'\n",
       "\\item 'TotalAAGLOB'\n",
       "\\item 'EssentAAGLOB'\n",
       "\\item 'ARGGLOB'\n",
       "\\item 'HISTGLOB'\n",
       "\\item 'ISOLGLOB'\n",
       "\\item 'LEUCINEGLOB'\n",
       "\\item 'LYSINEGLOB'\n",
       "\\item 'METHIONGLOB'\n",
       "\\item 'PHENYLGLOB'\n",
       "\\item 'THREOGLOB'\n",
       "\\item 'TRYPTOGLOB'\n",
       "\\item 'VALINEGLOB'\n",
       "\\item 'NONESSENGLOB'\n",
       "\\item 'ASPGLOB'\n",
       "\\item 'ALAGLOB'\n",
       "\\item 'ASNGLOB'\n",
       "\\item 'SYSGLOB'\n",
       "\\item 'GLYGLOB'\n",
       "\\item 'GLUGLOB'\n",
       "\\item 'GLNGLOB'\n",
       "\\item 'PROLINEGLOB'\n",
       "\\item 'SERINEGLOB'\n",
       "\\item 'TYRAMINEGLOB'\n",
       "\\item 'new'\n",
       "\\end{enumerate*}\n"
      ],
      "text/markdown": [
       "1. 'ID'\n",
       "2. 'GROUP'\n",
       "3. 'MATERNALAGE'\n",
       "4. 'SEXO'\n",
       "5. 'INFANTDOB'\n",
       "6. 'MATBMI1COLL'\n",
       "7. 'MATBMI215d'\n",
       "8. 'MATBMI32mos'\n",
       "9. 'MATBMI44mos'\n",
       "10. 'BABYWeigth1g'\n",
       "11. 'BABYWeigth2g'\n",
       "12. 'BABYWeigth3g'\n",
       "13. 'BABYWeigth4g'\n",
       "14. 'HeadCircumcm1'\n",
       "15. 'HCcm2'\n",
       "16. 'HCcm3'\n",
       "17. 'HCcm4'\n",
       "18. 'MATHeight1m'\n",
       "19. 'MATHeight2m'\n",
       "20. 'MATHeight3m'\n",
       "21. 'MATHeight4m'\n",
       "22. 'MATWeight1kg'\n",
       "23. 'MATWeight2kg'\n",
       "24. 'MATWeight3kg'\n",
       "25. 'MATWeight4kg'\n",
       "26. 'A.TOTALCALORIESKcal'\n",
       "27. 'B.TOTALCALORIESKcal'\n",
       "28. 'A.PROTEINg'\n",
       "29. 'B.PROTEINg'\n",
       "30. 'A.CHOg'\n",
       "31. 'B.CHOg'\n",
       "32. 'A.LIPIDSg'\n",
       "33. 'B.LIPIDSg'\n",
       "34. 'A.GLUCOSEmgdL'\n",
       "35. 'B.GLUCOSEmgdL'\n",
       "36. 'A.CHOLESTEROLmgdL'\n",
       "37. 'B.CHOLESTEROLmgdL'\n",
       "38. 'A.TRIGLYCERIDSmgdL'\n",
       "39. 'B.TRIGLYCERIDmgdL'\n",
       "40. 'A.HDLmgdL'\n",
       "41. 'B.HDLmgdL'\n",
       "42. 'A.LDLmgdL'\n",
       "43. 'B.LDLmgdL'\n",
       "44. 'A.PROTEINSgdL'\n",
       "45. 'B.PROTEINSgdL'\n",
       "46. 'A.ALBUMINgdL'\n",
       "47. 'B.ALBUMINgdL'\n",
       "48. 'edadr'\n",
       "49. 'Grupos'\n",
       "50. 'CALOSTRUMtotalAA'\n",
       "51. 'TRANSITIONtotalAA'\n",
       "52. 'MATURE2mtotalAA'\n",
       "53. 'MATURE4mtotalAA'\n",
       "54. 'CALOSTRUMessentialAA'\n",
       "55. 'TRANSITIONessentialAA'\n",
       "56. 'MATURE2messentialAA'\n",
       "57. 'MATURE4messentialAA'\n",
       "58. 'ARGCalostrum'\n",
       "59. 'ARGTransition'\n",
       "60. 'ARGMature2m'\n",
       "61. 'ARGMature4m'\n",
       "62. 'HISCalostrum'\n",
       "63. 'HISTransition'\n",
       "64. 'HISMature2m'\n",
       "65. 'HISMature4m'\n",
       "66. 'ILECalostrum'\n",
       "67. 'ILETransition'\n",
       "68. 'ILEMature2m'\n",
       "69. 'ILEMature4m'\n",
       "70. 'LEUCalostrum'\n",
       "71. 'LEUTransition'\n",
       "72. 'LEUMature2m'\n",
       "73. 'LEUMature4m'\n",
       "74. 'LYSCalostrum'\n",
       "75. 'LYSTransition'\n",
       "76. 'LYSMature2m'\n",
       "77. 'LYSMature4m'\n",
       "78. 'METCalostrum'\n",
       "79. 'METTransition'\n",
       "80. 'METMature2m'\n",
       "81. 'METMature4m'\n",
       "82. 'PHECalostrum'\n",
       "83. 'PHETransition'\n",
       "84. 'PHEMature2m'\n",
       "85. 'PHEMature4m'\n",
       "86. 'THRCalostrum'\n",
       "87. 'THRTransition'\n",
       "88. 'THRMature2m'\n",
       "89. 'THRMature4m'\n",
       "90. 'TRPCalostrum'\n",
       "91. 'TRPTransition'\n",
       "92. 'TRPMature2m'\n",
       "93. 'TRPMature4m'\n",
       "94. 'VALCalostrum'\n",
       "95. 'VALTransition'\n",
       "96. 'VALMature2m'\n",
       "97. 'VALMature4m'\n",
       "98. 'CALOSTRUMnonessentialAA'\n",
       "99. 'TRANSITIONnonessentialAA'\n",
       "100. 'MATURE2mnonessentialAA'\n",
       "101. 'MATURE4mnonessentialAA'\n",
       "102. 'ASPCalostrum'\n",
       "103. 'ASPTransition'\n",
       "104. 'ASPMature2m'\n",
       "105. 'ASPMature4m'\n",
       "106. 'ALACalostrum'\n",
       "107. 'ALATransition'\n",
       "108. 'ALAMature2m'\n",
       "109. 'ALAMature4m'\n",
       "110. 'ASNCalostrum'\n",
       "111. 'ASNTransition'\n",
       "112. 'ASNMature2m'\n",
       "113. 'ASNMature4m'\n",
       "114. 'CYSCalostrum'\n",
       "115. 'CYSTransition'\n",
       "116. 'CYSMature2m'\n",
       "117. 'CYSMature4m'\n",
       "118. 'GLYCalostrum'\n",
       "119. 'GLYTransition'\n",
       "120. 'GLYMature2m'\n",
       "121. 'GLYMature4m'\n",
       "122. 'GLUCalostrum'\n",
       "123. 'GLUTransition'\n",
       "124. 'GLUMature2m'\n",
       "125. 'GLUMature4m'\n",
       "126. 'GLNCalostrum'\n",
       "127. 'GLNTransition'\n",
       "128. 'GLNMature2m'\n",
       "129. 'GLNMature4m'\n",
       "130. 'PROCalostrum'\n",
       "131. 'PROTransition'\n",
       "132. 'PROMature2m'\n",
       "133. 'PROMature4m'\n",
       "134. 'SERCalostrum'\n",
       "135. 'SERTransition'\n",
       "136. 'SERMature2m'\n",
       "137. 'SERMature4m'\n",
       "138. 'TYRCalostrum'\n",
       "139. 'TYRTransition'\n",
       "140. 'TYRMature2m'\n",
       "141. 'TYRMature4m'\n",
       "142. 'filter_$'\n",
       "143. 'CAL1NONE'\n",
       "144. 'TRANS2NONE'\n",
       "145. 'MAT3NONE'\n",
       "146. 'MAT4NONE'\n",
       "147. 'ADOEXTR'\n",
       "148. 'TotalAAGLOB'\n",
       "149. 'EssentAAGLOB'\n",
       "150. 'ARGGLOB'\n",
       "151. 'HISTGLOB'\n",
       "152. 'ISOLGLOB'\n",
       "153. 'LEUCINEGLOB'\n",
       "154. 'LYSINEGLOB'\n",
       "155. 'METHIONGLOB'\n",
       "156. 'PHENYLGLOB'\n",
       "157. 'THREOGLOB'\n",
       "158. 'TRYPTOGLOB'\n",
       "159. 'VALINEGLOB'\n",
       "160. 'NONESSENGLOB'\n",
       "161. 'ASPGLOB'\n",
       "162. 'ALAGLOB'\n",
       "163. 'ASNGLOB'\n",
       "164. 'SYSGLOB'\n",
       "165. 'GLYGLOB'\n",
       "166. 'GLUGLOB'\n",
       "167. 'GLNGLOB'\n",
       "168. 'PROLINEGLOB'\n",
       "169. 'SERINEGLOB'\n",
       "170. 'TYRAMINEGLOB'\n",
       "171. 'new'\n",
       "\n",
       "\n"
      ],
      "text/plain": [
       "  [1] \"ID\"                       \"GROUP\"                   \n",
       "  [3] \"MATERNALAGE\"              \"SEXO\"                    \n",
       "  [5] \"INFANTDOB\"                \"MATBMI1COLL\"             \n",
       "  [7] \"MATBMI215d\"               \"MATBMI32mos\"             \n",
       "  [9] \"MATBMI44mos\"              \"BABYWeigth1g\"            \n",
       " [11] \"BABYWeigth2g\"             \"BABYWeigth3g\"            \n",
       " [13] \"BABYWeigth4g\"             \"HeadCircumcm1\"           \n",
       " [15] \"HCcm2\"                    \"HCcm3\"                   \n",
       " [17] \"HCcm4\"                    \"MATHeight1m\"             \n",
       " [19] \"MATHeight2m\"              \"MATHeight3m\"             \n",
       " [21] \"MATHeight4m\"              \"MATWeight1kg\"            \n",
       " [23] \"MATWeight2kg\"             \"MATWeight3kg\"            \n",
       " [25] \"MATWeight4kg\"             \"A.TOTALCALORIESKcal\"     \n",
       " [27] \"B.TOTALCALORIESKcal\"      \"A.PROTEINg\"              \n",
       " [29] \"B.PROTEINg\"               \"A.CHOg\"                  \n",
       " [31] \"B.CHOg\"                   \"A.LIPIDSg\"               \n",
       " [33] \"B.LIPIDSg\"                \"A.GLUCOSEmgdL\"           \n",
       " [35] \"B.GLUCOSEmgdL\"            \"A.CHOLESTEROLmgdL\"       \n",
       " [37] \"B.CHOLESTEROLmgdL\"        \"A.TRIGLYCERIDSmgdL\"      \n",
       " [39] \"B.TRIGLYCERIDmgdL\"        \"A.HDLmgdL\"               \n",
       " [41] \"B.HDLmgdL\"                \"A.LDLmgdL\"               \n",
       " [43] \"B.LDLmgdL\"                \"A.PROTEINSgdL\"           \n",
       " [45] \"B.PROTEINSgdL\"            \"A.ALBUMINgdL\"            \n",
       " [47] \"B.ALBUMINgdL\"             \"edadr\"                   \n",
       " [49] \"Grupos\"                   \"CALOSTRUMtotalAA\"        \n",
       " [51] \"TRANSITIONtotalAA\"        \"MATURE2mtotalAA\"         \n",
       " [53] \"MATURE4mtotalAA\"          \"CALOSTRUMessentialAA\"    \n",
       " [55] \"TRANSITIONessentialAA\"    \"MATURE2messentialAA\"     \n",
       " [57] \"MATURE4messentialAA\"      \"ARGCalostrum\"            \n",
       " [59] \"ARGTransition\"            \"ARGMature2m\"             \n",
       " [61] \"ARGMature4m\"              \"HISCalostrum\"            \n",
       " [63] \"HISTransition\"            \"HISMature2m\"             \n",
       " [65] \"HISMature4m\"              \"ILECalostrum\"            \n",
       " [67] \"ILETransition\"            \"ILEMature2m\"             \n",
       " [69] \"ILEMature4m\"              \"LEUCalostrum\"            \n",
       " [71] \"LEUTransition\"            \"LEUMature2m\"             \n",
       " [73] \"LEUMature4m\"              \"LYSCalostrum\"            \n",
       " [75] \"LYSTransition\"            \"LYSMature2m\"             \n",
       " [77] \"LYSMature4m\"              \"METCalostrum\"            \n",
       " [79] \"METTransition\"            \"METMature2m\"             \n",
       " [81] \"METMature4m\"              \"PHECalostrum\"            \n",
       " [83] \"PHETransition\"            \"PHEMature2m\"             \n",
       " [85] \"PHEMature4m\"              \"THRCalostrum\"            \n",
       " [87] \"THRTransition\"            \"THRMature2m\"             \n",
       " [89] \"THRMature4m\"              \"TRPCalostrum\"            \n",
       " [91] \"TRPTransition\"            \"TRPMature2m\"             \n",
       " [93] \"TRPMature4m\"              \"VALCalostrum\"            \n",
       " [95] \"VALTransition\"            \"VALMature2m\"             \n",
       " [97] \"VALMature4m\"              \"CALOSTRUMnonessentialAA\" \n",
       " [99] \"TRANSITIONnonessentialAA\" \"MATURE2mnonessentialAA\"  \n",
       "[101] \"MATURE4mnonessentialAA\"   \"ASPCalostrum\"            \n",
       "[103] \"ASPTransition\"            \"ASPMature2m\"             \n",
       "[105] \"ASPMature4m\"              \"ALACalostrum\"            \n",
       "[107] \"ALATransition\"            \"ALAMature2m\"             \n",
       "[109] \"ALAMature4m\"              \"ASNCalostrum\"            \n",
       "[111] \"ASNTransition\"            \"ASNMature2m\"             \n",
       "[113] \"ASNMature4m\"              \"CYSCalostrum\"            \n",
       "[115] \"CYSTransition\"            \"CYSMature2m\"             \n",
       "[117] \"CYSMature4m\"              \"GLYCalostrum\"            \n",
       "[119] \"GLYTransition\"            \"GLYMature2m\"             \n",
       "[121] \"GLYMature4m\"              \"GLUCalostrum\"            \n",
       "[123] \"GLUTransition\"            \"GLUMature2m\"             \n",
       "[125] \"GLUMature4m\"              \"GLNCalostrum\"            \n",
       "[127] \"GLNTransition\"            \"GLNMature2m\"             \n",
       "[129] \"GLNMature4m\"              \"PROCalostrum\"            \n",
       "[131] \"PROTransition\"            \"PROMature2m\"             \n",
       "[133] \"PROMature4m\"              \"SERCalostrum\"            \n",
       "[135] \"SERTransition\"            \"SERMature2m\"             \n",
       "[137] \"SERMature4m\"              \"TYRCalostrum\"            \n",
       "[139] \"TYRTransition\"            \"TYRMature2m\"             \n",
       "[141] \"TYRMature4m\"              \"filter_$\"                \n",
       "[143] \"CAL1NONE\"                 \"TRANS2NONE\"              \n",
       "[145] \"MAT3NONE\"                 \"MAT4NONE\"                \n",
       "[147] \"ADOEXTR\"                  \"TotalAAGLOB\"             \n",
       "[149] \"EssentAAGLOB\"             \"ARGGLOB\"                 \n",
       "[151] \"HISTGLOB\"                 \"ISOLGLOB\"                \n",
       "[153] \"LEUCINEGLOB\"              \"LYSINEGLOB\"              \n",
       "[155] \"METHIONGLOB\"              \"PHENYLGLOB\"              \n",
       "[157] \"THREOGLOB\"                \"TRYPTOGLOB\"              \n",
       "[159] \"VALINEGLOB\"               \"NONESSENGLOB\"            \n",
       "[161] \"ASPGLOB\"                  \"ALAGLOB\"                 \n",
       "[163] \"ASNGLOB\"                  \"SYSGLOB\"                 \n",
       "[165] \"GLYGLOB\"                  \"GLUGLOB\"                 \n",
       "[167] \"GLNGLOB\"                  \"PROLINEGLOB\"             \n",
       "[169] \"SERINEGLOB\"               \"TYRAMINEGLOB\"            \n",
       "[171] \"new\"                     "
      ]
     },
     "metadata": {},
     "output_type": "display_data"
    }
   ],
   "source": [
    "names(AA_Sex_1)"
   ]
  },
  {
   "cell_type": "code",
   "execution_count": 4,
   "metadata": {
    "collapsed": true
   },
   "outputs": [],
   "source": [
    "#str(AA_Sex_1)"
   ]
  },
  {
   "cell_type": "code",
   "execution_count": 5,
   "metadata": {},
   "outputs": [
    {
     "name": "stdout",
     "output_type": "stream",
     "text": [
      "[1] \"Essential AA \\n\"\n"
     ]
    },
    {
     "data": {
      "text/html": [
       "'ARGCalostrum'"
      ],
      "text/latex": [
       "'ARGCalostrum'"
      ],
      "text/markdown": [
       "'ARGCalostrum'"
      ],
      "text/plain": [
       "[1] \"ARGCalostrum\""
      ]
     },
     "metadata": {},
     "output_type": "display_data"
    },
    {
     "data": {
      "text/html": [
       "'VALMature4m'"
      ],
      "text/latex": [
       "'VALMature4m'"
      ],
      "text/markdown": [
       "'VALMature4m'"
      ],
      "text/plain": [
       "[1] \"VALMature4m\""
      ]
     },
     "metadata": {},
     "output_type": "display_data"
    },
    {
     "name": "stdout",
     "output_type": "stream",
     "text": [
      "[1] \"Prolyne \\n\"\n"
     ]
    },
    {
     "data": {
      "text/html": [
       "'PROCalostrum'"
      ],
      "text/latex": [
       "'PROCalostrum'"
      ],
      "text/markdown": [
       "'PROCalostrum'"
      ],
      "text/plain": [
       "[1] \"PROCalostrum\""
      ]
     },
     "metadata": {},
     "output_type": "display_data"
    },
    {
     "data": {
      "text/html": [
       "'PROMature4m'"
      ],
      "text/latex": [
       "'PROMature4m'"
      ],
      "text/markdown": [
       "'PROMature4m'"
      ],
      "text/plain": [
       "[1] \"PROMature4m\""
      ]
     },
     "metadata": {},
     "output_type": "display_data"
    },
    {
     "name": "stdout",
     "output_type": "stream",
     "text": [
      "[1] \"Non essential AA \\n\"\n"
     ]
    },
    {
     "data": {
      "text/html": [
       "'ASPCalostrum'"
      ],
      "text/latex": [
       "'ASPCalostrum'"
      ],
      "text/markdown": [
       "'ASPCalostrum'"
      ],
      "text/plain": [
       "[1] \"ASPCalostrum\""
      ]
     },
     "metadata": {},
     "output_type": "display_data"
    },
    {
     "data": {
      "text/html": [
       "'TYRMature4m'"
      ],
      "text/latex": [
       "'TYRMature4m'"
      ],
      "text/markdown": [
       "'TYRMature4m'"
      ],
      "text/plain": [
       "[1] \"TYRMature4m\""
      ]
     },
     "metadata": {},
     "output_type": "display_data"
    }
   ],
   "source": [
    "print('Essential AA \\n')\n",
    "names(AA_Sex_1)[58]\n",
    "names(AA_Sex_1)[97]\n",
    "\n",
    "print('Prolyne \\n')\n",
    "names(AA_Sex_1)[130]\n",
    "names(AA_Sex_1)[133]\n",
    "\n",
    "print('Non essential AA \\n')\n",
    "names(AA_Sex_1)[102]\n",
    "names(AA_Sex_1)[141]"
   ]
  },
  {
   "cell_type": "code",
   "execution_count": 6,
   "metadata": {},
   "outputs": [
    {
     "name": "stderr",
     "output_type": "stream",
     "text": [
      "Warning message:\n",
      "\"`as_dictionary()` is soft-deprecated as of rlang 0.3.0.\n",
      "Please use `as_data_pronoun()` instead\n",
      "This warning is displayed once per session.\"Warning message:\n",
      "\"`new_overscope()` is soft-deprecated as of rlang 0.2.0.\n",
      "Please use `new_data_mask()` instead\n",
      "This warning is displayed once per session.\"Warning message:\n",
      "\"The `parent` argument of `new_data_mask()` is deprecated.\n",
      "The parent of the data mask is determined from either:\n",
      "\n",
      "  * The `env` argument of `eval_tidy()`\n",
      "  * Quosure environments when applicable\n",
      "This warning is displayed once per session.\"Warning message:\n",
      "\"`overscope_clean()` is soft-deprecated as of rlang 0.2.0.\n",
      "This warning is displayed once per session.\""
     ]
    },
    {
     "data": {
      "text/html": [
       "<ol class=list-inline>\n",
       "\t<li>'id'</li>\n",
       "\t<li>'group'</li>\n",
       "\t<li>'age'</li>\n",
       "\t<li>'sex'</li>\n",
       "\t<li>'HISCalostrum'</li>\n",
       "\t<li>'HISTransition'</li>\n",
       "\t<li>'HISMature2m'</li>\n",
       "\t<li>'HISMature4m'</li>\n",
       "\t<li>'ILECalostrum'</li>\n",
       "\t<li>'ILETransition'</li>\n",
       "\t<li>'ILEMature2m'</li>\n",
       "\t<li>'ILEMature4m'</li>\n",
       "\t<li>'LEUCalostrum'</li>\n",
       "\t<li>'LEUTransition'</li>\n",
       "\t<li>'LEUMature2m'</li>\n",
       "\t<li>'LEUMature4m'</li>\n",
       "\t<li>'LYSCalostrum'</li>\n",
       "\t<li>'LYSTransition'</li>\n",
       "\t<li>'LYSMature2m'</li>\n",
       "\t<li>'LYSMature4m'</li>\n",
       "\t<li>'METCalostrum'</li>\n",
       "\t<li>'METTransition'</li>\n",
       "\t<li>'METMature2m'</li>\n",
       "\t<li>'METMature4m'</li>\n",
       "\t<li>'PHECalostrum'</li>\n",
       "\t<li>'PHETransition'</li>\n",
       "\t<li>'PHEMature2m'</li>\n",
       "\t<li>'PHEMature4m'</li>\n",
       "\t<li>'THRCalostrum'</li>\n",
       "\t<li>'THRTransition'</li>\n",
       "\t<li>'THRMature2m'</li>\n",
       "\t<li>'THRMature4m'</li>\n",
       "\t<li>'TRPCalostrum'</li>\n",
       "\t<li>'TRPTransition'</li>\n",
       "\t<li>'TRPMature2m'</li>\n",
       "\t<li>'TRPMature4m'</li>\n",
       "\t<li>'VALCalostrum'</li>\n",
       "\t<li>'VALTransition'</li>\n",
       "\t<li>'VALMature2m'</li>\n",
       "\t<li>'VALMature4m'</li>\n",
       "</ol>\n"
      ],
      "text/latex": [
       "\\begin{enumerate*}\n",
       "\\item 'id'\n",
       "\\item 'group'\n",
       "\\item 'age'\n",
       "\\item 'sex'\n",
       "\\item 'HISCalostrum'\n",
       "\\item 'HISTransition'\n",
       "\\item 'HISMature2m'\n",
       "\\item 'HISMature4m'\n",
       "\\item 'ILECalostrum'\n",
       "\\item 'ILETransition'\n",
       "\\item 'ILEMature2m'\n",
       "\\item 'ILEMature4m'\n",
       "\\item 'LEUCalostrum'\n",
       "\\item 'LEUTransition'\n",
       "\\item 'LEUMature2m'\n",
       "\\item 'LEUMature4m'\n",
       "\\item 'LYSCalostrum'\n",
       "\\item 'LYSTransition'\n",
       "\\item 'LYSMature2m'\n",
       "\\item 'LYSMature4m'\n",
       "\\item 'METCalostrum'\n",
       "\\item 'METTransition'\n",
       "\\item 'METMature2m'\n",
       "\\item 'METMature4m'\n",
       "\\item 'PHECalostrum'\n",
       "\\item 'PHETransition'\n",
       "\\item 'PHEMature2m'\n",
       "\\item 'PHEMature4m'\n",
       "\\item 'THRCalostrum'\n",
       "\\item 'THRTransition'\n",
       "\\item 'THRMature2m'\n",
       "\\item 'THRMature4m'\n",
       "\\item 'TRPCalostrum'\n",
       "\\item 'TRPTransition'\n",
       "\\item 'TRPMature2m'\n",
       "\\item 'TRPMature4m'\n",
       "\\item 'VALCalostrum'\n",
       "\\item 'VALTransition'\n",
       "\\item 'VALMature2m'\n",
       "\\item 'VALMature4m'\n",
       "\\end{enumerate*}\n"
      ],
      "text/markdown": [
       "1. 'id'\n",
       "2. 'group'\n",
       "3. 'age'\n",
       "4. 'sex'\n",
       "5. 'HISCalostrum'\n",
       "6. 'HISTransition'\n",
       "7. 'HISMature2m'\n",
       "8. 'HISMature4m'\n",
       "9. 'ILECalostrum'\n",
       "10. 'ILETransition'\n",
       "11. 'ILEMature2m'\n",
       "12. 'ILEMature4m'\n",
       "13. 'LEUCalostrum'\n",
       "14. 'LEUTransition'\n",
       "15. 'LEUMature2m'\n",
       "16. 'LEUMature4m'\n",
       "17. 'LYSCalostrum'\n",
       "18. 'LYSTransition'\n",
       "19. 'LYSMature2m'\n",
       "20. 'LYSMature4m'\n",
       "21. 'METCalostrum'\n",
       "22. 'METTransition'\n",
       "23. 'METMature2m'\n",
       "24. 'METMature4m'\n",
       "25. 'PHECalostrum'\n",
       "26. 'PHETransition'\n",
       "27. 'PHEMature2m'\n",
       "28. 'PHEMature4m'\n",
       "29. 'THRCalostrum'\n",
       "30. 'THRTransition'\n",
       "31. 'THRMature2m'\n",
       "32. 'THRMature4m'\n",
       "33. 'TRPCalostrum'\n",
       "34. 'TRPTransition'\n",
       "35. 'TRPMature2m'\n",
       "36. 'TRPMature4m'\n",
       "37. 'VALCalostrum'\n",
       "38. 'VALTransition'\n",
       "39. 'VALMature2m'\n",
       "40. 'VALMature4m'\n",
       "\n",
       "\n"
      ],
      "text/plain": [
       " [1] \"id\"            \"group\"         \"age\"           \"sex\"          \n",
       " [5] \"HISCalostrum\"  \"HISTransition\" \"HISMature2m\"   \"HISMature4m\"  \n",
       " [9] \"ILECalostrum\"  \"ILETransition\" \"ILEMature2m\"   \"ILEMature4m\"  \n",
       "[13] \"LEUCalostrum\"  \"LEUTransition\" \"LEUMature2m\"   \"LEUMature4m\"  \n",
       "[17] \"LYSCalostrum\"  \"LYSTransition\" \"LYSMature2m\"   \"LYSMature4m\"  \n",
       "[21] \"METCalostrum\"  \"METTransition\" \"METMature2m\"   \"METMature4m\"  \n",
       "[25] \"PHECalostrum\"  \"PHETransition\" \"PHEMature2m\"   \"PHEMature4m\"  \n",
       "[29] \"THRCalostrum\"  \"THRTransition\" \"THRMature2m\"   \"THRMature4m\"  \n",
       "[33] \"TRPCalostrum\"  \"TRPTransition\" \"TRPMature2m\"   \"TRPMature4m\"  \n",
       "[37] \"VALCalostrum\"  \"VALTransition\" \"VALMature2m\"   \"VALMature4m\"  "
      ]
     },
     "metadata": {},
     "output_type": "display_data"
    }
   ],
   "source": [
    "AA_E <- AA_Sex_1 %>%  select(id = ID, group = GROUP, age = MATERNALAGE, sex = SEXO, 62:97) %>%\n",
    "                         mutate(id = factor(id), \n",
    "                                sex =  factor(sex, labels = c('girl', 'boy')),\n",
    "                                group = factor(group, labels = c('teen', 'adult'))) \n",
    "\n",
    "\n",
    "names(AA_E)"
   ]
  },
  {
   "cell_type": "code",
   "execution_count": 7,
   "metadata": {},
   "outputs": [
    {
     "data": {
      "text/html": [
       "<ol class=list-inline>\n",
       "\t<li>'id'</li>\n",
       "\t<li>'group'</li>\n",
       "\t<li>'age'</li>\n",
       "\t<li>'sex'</li>\n",
       "\t<li>'ARGCalostrum'</li>\n",
       "\t<li>'ARGTransition'</li>\n",
       "\t<li>'ARGMature2m'</li>\n",
       "\t<li>'ARGMature4m'</li>\n",
       "\t<li>'ASPCalostrum'</li>\n",
       "\t<li>'ASPTransition'</li>\n",
       "\t<li>'ASPMature2m'</li>\n",
       "\t<li>'ASPMature4m'</li>\n",
       "\t<li>'ALACalostrum'</li>\n",
       "\t<li>'ALATransition'</li>\n",
       "\t<li>'ALAMature2m'</li>\n",
       "\t<li>'ALAMature4m'</li>\n",
       "\t<li>'ASNCalostrum'</li>\n",
       "\t<li>'ASNTransition'</li>\n",
       "\t<li>'ASNMature2m'</li>\n",
       "\t<li>'ASNMature4m'</li>\n",
       "\t<li>'CYSCalostrum'</li>\n",
       "\t<li>'CYSTransition'</li>\n",
       "\t<li>'CYSMature2m'</li>\n",
       "\t<li>'CYSMature4m'</li>\n",
       "\t<li>'GLYCalostrum'</li>\n",
       "\t<li>'GLYTransition'</li>\n",
       "\t<li>'GLYMature2m'</li>\n",
       "\t<li>'GLYMature4m'</li>\n",
       "\t<li>'GLUCalostrum'</li>\n",
       "\t<li>'GLUTransition'</li>\n",
       "\t<li>'GLUMature2m'</li>\n",
       "\t<li>'GLUMature4m'</li>\n",
       "\t<li>'GLNCalostrum'</li>\n",
       "\t<li>'GLNTransition'</li>\n",
       "\t<li>'GLNMature2m'</li>\n",
       "\t<li>'GLNMature4m'</li>\n",
       "\t<li>'PROCalostrum'</li>\n",
       "\t<li>'PROTransition'</li>\n",
       "\t<li>'PROMature2m'</li>\n",
       "\t<li>'PROMature4m'</li>\n",
       "\t<li>'SERCalostrum'</li>\n",
       "\t<li>'SERTransition'</li>\n",
       "\t<li>'SERMature2m'</li>\n",
       "\t<li>'SERMature4m'</li>\n",
       "\t<li>'TYRCalostrum'</li>\n",
       "\t<li>'TYRTransition'</li>\n",
       "\t<li>'TYRMature2m'</li>\n",
       "\t<li>'TYRMature4m'</li>\n",
       "</ol>\n"
      ],
      "text/latex": [
       "\\begin{enumerate*}\n",
       "\\item 'id'\n",
       "\\item 'group'\n",
       "\\item 'age'\n",
       "\\item 'sex'\n",
       "\\item 'ARGCalostrum'\n",
       "\\item 'ARGTransition'\n",
       "\\item 'ARGMature2m'\n",
       "\\item 'ARGMature4m'\n",
       "\\item 'ASPCalostrum'\n",
       "\\item 'ASPTransition'\n",
       "\\item 'ASPMature2m'\n",
       "\\item 'ASPMature4m'\n",
       "\\item 'ALACalostrum'\n",
       "\\item 'ALATransition'\n",
       "\\item 'ALAMature2m'\n",
       "\\item 'ALAMature4m'\n",
       "\\item 'ASNCalostrum'\n",
       "\\item 'ASNTransition'\n",
       "\\item 'ASNMature2m'\n",
       "\\item 'ASNMature4m'\n",
       "\\item 'CYSCalostrum'\n",
       "\\item 'CYSTransition'\n",
       "\\item 'CYSMature2m'\n",
       "\\item 'CYSMature4m'\n",
       "\\item 'GLYCalostrum'\n",
       "\\item 'GLYTransition'\n",
       "\\item 'GLYMature2m'\n",
       "\\item 'GLYMature4m'\n",
       "\\item 'GLUCalostrum'\n",
       "\\item 'GLUTransition'\n",
       "\\item 'GLUMature2m'\n",
       "\\item 'GLUMature4m'\n",
       "\\item 'GLNCalostrum'\n",
       "\\item 'GLNTransition'\n",
       "\\item 'GLNMature2m'\n",
       "\\item 'GLNMature4m'\n",
       "\\item 'PROCalostrum'\n",
       "\\item 'PROTransition'\n",
       "\\item 'PROMature2m'\n",
       "\\item 'PROMature4m'\n",
       "\\item 'SERCalostrum'\n",
       "\\item 'SERTransition'\n",
       "\\item 'SERMature2m'\n",
       "\\item 'SERMature4m'\n",
       "\\item 'TYRCalostrum'\n",
       "\\item 'TYRTransition'\n",
       "\\item 'TYRMature2m'\n",
       "\\item 'TYRMature4m'\n",
       "\\end{enumerate*}\n"
      ],
      "text/markdown": [
       "1. 'id'\n",
       "2. 'group'\n",
       "3. 'age'\n",
       "4. 'sex'\n",
       "5. 'ARGCalostrum'\n",
       "6. 'ARGTransition'\n",
       "7. 'ARGMature2m'\n",
       "8. 'ARGMature4m'\n",
       "9. 'ASPCalostrum'\n",
       "10. 'ASPTransition'\n",
       "11. 'ASPMature2m'\n",
       "12. 'ASPMature4m'\n",
       "13. 'ALACalostrum'\n",
       "14. 'ALATransition'\n",
       "15. 'ALAMature2m'\n",
       "16. 'ALAMature4m'\n",
       "17. 'ASNCalostrum'\n",
       "18. 'ASNTransition'\n",
       "19. 'ASNMature2m'\n",
       "20. 'ASNMature4m'\n",
       "21. 'CYSCalostrum'\n",
       "22. 'CYSTransition'\n",
       "23. 'CYSMature2m'\n",
       "24. 'CYSMature4m'\n",
       "25. 'GLYCalostrum'\n",
       "26. 'GLYTransition'\n",
       "27. 'GLYMature2m'\n",
       "28. 'GLYMature4m'\n",
       "29. 'GLUCalostrum'\n",
       "30. 'GLUTransition'\n",
       "31. 'GLUMature2m'\n",
       "32. 'GLUMature4m'\n",
       "33. 'GLNCalostrum'\n",
       "34. 'GLNTransition'\n",
       "35. 'GLNMature2m'\n",
       "36. 'GLNMature4m'\n",
       "37. 'PROCalostrum'\n",
       "38. 'PROTransition'\n",
       "39. 'PROMature2m'\n",
       "40. 'PROMature4m'\n",
       "41. 'SERCalostrum'\n",
       "42. 'SERTransition'\n",
       "43. 'SERMature2m'\n",
       "44. 'SERMature4m'\n",
       "45. 'TYRCalostrum'\n",
       "46. 'TYRTransition'\n",
       "47. 'TYRMature2m'\n",
       "48. 'TYRMature4m'\n",
       "\n",
       "\n"
      ],
      "text/plain": [
       " [1] \"id\"            \"group\"         \"age\"           \"sex\"          \n",
       " [5] \"ARGCalostrum\"  \"ARGTransition\" \"ARGMature2m\"   \"ARGMature4m\"  \n",
       " [9] \"ASPCalostrum\"  \"ASPTransition\" \"ASPMature2m\"   \"ASPMature4m\"  \n",
       "[13] \"ALACalostrum\"  \"ALATransition\" \"ALAMature2m\"   \"ALAMature4m\"  \n",
       "[17] \"ASNCalostrum\"  \"ASNTransition\" \"ASNMature2m\"   \"ASNMature4m\"  \n",
       "[21] \"CYSCalostrum\"  \"CYSTransition\" \"CYSMature2m\"   \"CYSMature4m\"  \n",
       "[25] \"GLYCalostrum\"  \"GLYTransition\" \"GLYMature2m\"   \"GLYMature4m\"  \n",
       "[29] \"GLUCalostrum\"  \"GLUTransition\" \"GLUMature2m\"   \"GLUMature4m\"  \n",
       "[33] \"GLNCalostrum\"  \"GLNTransition\" \"GLNMature2m\"   \"GLNMature4m\"  \n",
       "[37] \"PROCalostrum\"  \"PROTransition\" \"PROMature2m\"   \"PROMature4m\"  \n",
       "[41] \"SERCalostrum\"  \"SERTransition\" \"SERMature2m\"   \"SERMature4m\"  \n",
       "[45] \"TYRCalostrum\"  \"TYRTransition\" \"TYRMature2m\"   \"TYRMature4m\"  "
      ]
     },
     "metadata": {},
     "output_type": "display_data"
    }
   ],
   "source": [
    "AA_NE <- AA_Sex_1 %>%  select(id = ID, group = GROUP, age = MATERNALAGE, sex = SEXO, 58:61, 102:141) %>%\n",
    "                         mutate(id = factor(id), \n",
    "                                sex =  factor(sex, labels = c('girl', 'boy')),\n",
    "                                group = factor(group, labels = c('teen', 'adult'))) \n",
    "\n",
    "names(AA_NE)"
   ]
  },
  {
   "cell_type": "code",
   "execution_count": 8,
   "metadata": {},
   "outputs": [
    {
     "name": "stderr",
     "output_type": "stream",
     "text": [
      "Warning message:\n",
      "\"attributes are not identical across measure variables; they will be dropped\"Warning message:\n",
      "\"attributes are not identical across measure variables; they will be dropped\""
     ]
    },
    {
     "data": {
      "text/html": [
       "<table>\n",
       "<thead><tr><th scope=col>id</th><th scope=col>group</th><th scope=col>age</th><th scope=col>sex</th><th scope=col>weekNames</th><th scope=col>level</th></tr></thead>\n",
       "<tbody>\n",
       "\t<tr><td>1           </td><td>teen        </td><td>17          </td><td>girl        </td><td>HISCalostrum</td><td>2           </td></tr>\n",
       "\t<tr><td>2           </td><td>teen        </td><td>16          </td><td>boy         </td><td>HISCalostrum</td><td>1           </td></tr>\n",
       "\t<tr><td>3           </td><td>teen        </td><td>17          </td><td>boy         </td><td>HISCalostrum</td><td>2           </td></tr>\n",
       "\t<tr><td>4           </td><td>teen        </td><td>16          </td><td>boy         </td><td>HISCalostrum</td><td>1           </td></tr>\n",
       "\t<tr><td>5           </td><td>teen        </td><td>16          </td><td>NA          </td><td>HISCalostrum</td><td>1           </td></tr>\n",
       "\t<tr><td>6           </td><td>teen        </td><td>16          </td><td>boy         </td><td>HISCalostrum</td><td>1           </td></tr>\n",
       "</tbody>\n",
       "</table>\n"
      ],
      "text/latex": [
       "\\begin{tabular}{r|llllll}\n",
       " id & group & age & sex & weekNames & level\\\\\n",
       "\\hline\n",
       "\t 1            & teen         & 17           & girl         & HISCalostrum & 2           \\\\\n",
       "\t 2            & teen         & 16           & boy          & HISCalostrum & 1           \\\\\n",
       "\t 3            & teen         & 17           & boy          & HISCalostrum & 2           \\\\\n",
       "\t 4            & teen         & 16           & boy          & HISCalostrum & 1           \\\\\n",
       "\t 5            & teen         & 16           & NA           & HISCalostrum & 1           \\\\\n",
       "\t 6            & teen         & 16           & boy          & HISCalostrum & 1           \\\\\n",
       "\\end{tabular}\n"
      ],
      "text/markdown": [
       "\n",
       "id | group | age | sex | weekNames | level | \n",
       "|---|---|---|---|---|---|\n",
       "| 1            | teen         | 17           | girl         | HISCalostrum | 2            | \n",
       "| 2            | teen         | 16           | boy          | HISCalostrum | 1            | \n",
       "| 3            | teen         | 17           | boy          | HISCalostrum | 2            | \n",
       "| 4            | teen         | 16           | boy          | HISCalostrum | 1            | \n",
       "| 5            | teen         | 16           | NA           | HISCalostrum | 1            | \n",
       "| 6            | teen         | 16           | boy          | HISCalostrum | 1            | \n",
       "\n",
       "\n"
      ],
      "text/plain": [
       "  id group age sex  weekNames    level\n",
       "1 1  teen  17  girl HISCalostrum 2    \n",
       "2 2  teen  16  boy  HISCalostrum 1    \n",
       "3 3  teen  17  boy  HISCalostrum 2    \n",
       "4 4  teen  16  boy  HISCalostrum 1    \n",
       "5 5  teen  16  NA   HISCalostrum 1    \n",
       "6 6  teen  16  boy  HISCalostrum 1    "
      ]
     },
     "metadata": {},
     "output_type": "display_data"
    }
   ],
   "source": [
    "# Removing NAs\n",
    "AA_E_Long <- AA_E %>% gather(weekNames, level, 5:length(names(AA_E))) \n",
    "AA_NE_Long <- AA_NE %>% gather(weekNames, level, 5:length(names(AA_NE))) \n",
    "\n",
    "head(AA_E_Long)"
   ]
  },
  {
   "cell_type": "code",
   "execution_count": 9,
   "metadata": {},
   "outputs": [
    {
     "data": {
      "text/html": [
       "<table>\n",
       "<thead><tr><th scope=col>id</th><th scope=col>group</th><th scope=col>age</th><th scope=col>sex</th><th scope=col>weekNames</th><th scope=col>level</th><th scope=col>week</th><th scope=col>AA</th></tr></thead>\n",
       "<tbody>\n",
       "\t<tr><td>1           </td><td>teen        </td><td>17          </td><td>girl        </td><td>HISCalostrum</td><td>2           </td><td>1           </td><td>HIS         </td></tr>\n",
       "\t<tr><td>2           </td><td>teen        </td><td>16          </td><td>boy         </td><td>HISCalostrum</td><td>1           </td><td>1           </td><td>HIS         </td></tr>\n",
       "\t<tr><td>3           </td><td>teen        </td><td>17          </td><td>boy         </td><td>HISCalostrum</td><td>2           </td><td>1           </td><td>HIS         </td></tr>\n",
       "\t<tr><td>4           </td><td>teen        </td><td>16          </td><td>boy         </td><td>HISCalostrum</td><td>1           </td><td>1           </td><td>HIS         </td></tr>\n",
       "\t<tr><td>5           </td><td>teen        </td><td>16          </td><td>NA          </td><td>HISCalostrum</td><td>1           </td><td>1           </td><td>HIS         </td></tr>\n",
       "\t<tr><td>6           </td><td>teen        </td><td>16          </td><td>boy         </td><td>HISCalostrum</td><td>1           </td><td>1           </td><td>HIS         </td></tr>\n",
       "</tbody>\n",
       "</table>\n"
      ],
      "text/latex": [
       "\\begin{tabular}{r|llllllll}\n",
       " id & group & age & sex & weekNames & level & week & AA\\\\\n",
       "\\hline\n",
       "\t 1            & teen         & 17           & girl         & HISCalostrum & 2            & 1            & HIS         \\\\\n",
       "\t 2            & teen         & 16           & boy          & HISCalostrum & 1            & 1            & HIS         \\\\\n",
       "\t 3            & teen         & 17           & boy          & HISCalostrum & 2            & 1            & HIS         \\\\\n",
       "\t 4            & teen         & 16           & boy          & HISCalostrum & 1            & 1            & HIS         \\\\\n",
       "\t 5            & teen         & 16           & NA           & HISCalostrum & 1            & 1            & HIS         \\\\\n",
       "\t 6            & teen         & 16           & boy          & HISCalostrum & 1            & 1            & HIS         \\\\\n",
       "\\end{tabular}\n"
      ],
      "text/markdown": [
       "\n",
       "id | group | age | sex | weekNames | level | week | AA | \n",
       "|---|---|---|---|---|---|\n",
       "| 1            | teen         | 17           | girl         | HISCalostrum | 2            | 1            | HIS          | \n",
       "| 2            | teen         | 16           | boy          | HISCalostrum | 1            | 1            | HIS          | \n",
       "| 3            | teen         | 17           | boy          | HISCalostrum | 2            | 1            | HIS          | \n",
       "| 4            | teen         | 16           | boy          | HISCalostrum | 1            | 1            | HIS          | \n",
       "| 5            | teen         | 16           | NA           | HISCalostrum | 1            | 1            | HIS          | \n",
       "| 6            | teen         | 16           | boy          | HISCalostrum | 1            | 1            | HIS          | \n",
       "\n",
       "\n"
      ],
      "text/plain": [
       "  id group age sex  weekNames    level week AA \n",
       "1 1  teen  17  girl HISCalostrum 2     1    HIS\n",
       "2 2  teen  16  boy  HISCalostrum 1     1    HIS\n",
       "3 3  teen  17  boy  HISCalostrum 2     1    HIS\n",
       "4 4  teen  16  boy  HISCalostrum 1     1    HIS\n",
       "5 5  teen  16  NA   HISCalostrum 1     1    HIS\n",
       "6 6  teen  16  boy  HISCalostrum 1     1    HIS"
      ]
     },
     "metadata": {},
     "output_type": "display_data"
    }
   ],
   "source": [
    "AA_E_Long <- \n",
    "    AA_E_Long %>% \n",
    "        mutate(week = gsub(\".*Calostrum.*\", \"1\", weekNames)) %>%\n",
    "        mutate(week = gsub(\".*Transition.*\", \"2\", week)) %>%\n",
    "        mutate(week = gsub(\".*Mature2m.*\", \"4\", week)) %>%\n",
    "        mutate(week = gsub(\".*Mature4m.*\", \"16\", week)) %>% \n",
    "        mutate(week = as.numeric(week))\n",
    "\n",
    "AA_E_Long <- \n",
    "    AA_E_Long %>% \n",
    "        mutate(AA = gsub(\"Calostrum.*\", \"\", weekNames)) %>%\n",
    "        mutate(AA = gsub(\"Transition.*\", \"\", AA)) %>%\n",
    "        mutate(AA = gsub(\"Mature2m.*\", \"\", AA)) %>%\n",
    "        mutate(AA = gsub(\"Mature4m.*\", \"\", AA))\n",
    "\n",
    "head(AA_E_Long)"
   ]
  },
  {
   "cell_type": "code",
   "execution_count": 10,
   "metadata": {},
   "outputs": [
    {
     "data": {
      "text/html": [
       "<table>\n",
       "<thead><tr><th scope=col>id</th><th scope=col>group</th><th scope=col>age</th><th scope=col>sex</th><th scope=col>weekNames</th><th scope=col>level</th><th scope=col>week</th><th scope=col>AA</th></tr></thead>\n",
       "<tbody>\n",
       "\t<tr><td>1           </td><td>teen        </td><td>17          </td><td>girl        </td><td>ARGCalostrum</td><td>1           </td><td>1           </td><td>ARG         </td></tr>\n",
       "\t<tr><td>2           </td><td>teen        </td><td>16          </td><td>boy         </td><td>ARGCalostrum</td><td>1           </td><td>1           </td><td>ARG         </td></tr>\n",
       "\t<tr><td>3           </td><td>teen        </td><td>17          </td><td>boy         </td><td>ARGCalostrum</td><td>1           </td><td>1           </td><td>ARG         </td></tr>\n",
       "\t<tr><td>4           </td><td>teen        </td><td>16          </td><td>boy         </td><td>ARGCalostrum</td><td>1           </td><td>1           </td><td>ARG         </td></tr>\n",
       "\t<tr><td>5           </td><td>teen        </td><td>16          </td><td>NA          </td><td>ARGCalostrum</td><td>2           </td><td>1           </td><td>ARG         </td></tr>\n",
       "\t<tr><td>6           </td><td>teen        </td><td>16          </td><td>boy         </td><td>ARGCalostrum</td><td>2           </td><td>1           </td><td>ARG         </td></tr>\n",
       "</tbody>\n",
       "</table>\n"
      ],
      "text/latex": [
       "\\begin{tabular}{r|llllllll}\n",
       " id & group & age & sex & weekNames & level & week & AA\\\\\n",
       "\\hline\n",
       "\t 1            & teen         & 17           & girl         & ARGCalostrum & 1            & 1            & ARG         \\\\\n",
       "\t 2            & teen         & 16           & boy          & ARGCalostrum & 1            & 1            & ARG         \\\\\n",
       "\t 3            & teen         & 17           & boy          & ARGCalostrum & 1            & 1            & ARG         \\\\\n",
       "\t 4            & teen         & 16           & boy          & ARGCalostrum & 1            & 1            & ARG         \\\\\n",
       "\t 5            & teen         & 16           & NA           & ARGCalostrum & 2            & 1            & ARG         \\\\\n",
       "\t 6            & teen         & 16           & boy          & ARGCalostrum & 2            & 1            & ARG         \\\\\n",
       "\\end{tabular}\n"
      ],
      "text/markdown": [
       "\n",
       "id | group | age | sex | weekNames | level | week | AA | \n",
       "|---|---|---|---|---|---|\n",
       "| 1            | teen         | 17           | girl         | ARGCalostrum | 1            | 1            | ARG          | \n",
       "| 2            | teen         | 16           | boy          | ARGCalostrum | 1            | 1            | ARG          | \n",
       "| 3            | teen         | 17           | boy          | ARGCalostrum | 1            | 1            | ARG          | \n",
       "| 4            | teen         | 16           | boy          | ARGCalostrum | 1            | 1            | ARG          | \n",
       "| 5            | teen         | 16           | NA           | ARGCalostrum | 2            | 1            | ARG          | \n",
       "| 6            | teen         | 16           | boy          | ARGCalostrum | 2            | 1            | ARG          | \n",
       "\n",
       "\n"
      ],
      "text/plain": [
       "  id group age sex  weekNames    level week AA \n",
       "1 1  teen  17  girl ARGCalostrum 1     1    ARG\n",
       "2 2  teen  16  boy  ARGCalostrum 1     1    ARG\n",
       "3 3  teen  17  boy  ARGCalostrum 1     1    ARG\n",
       "4 4  teen  16  boy  ARGCalostrum 1     1    ARG\n",
       "5 5  teen  16  NA   ARGCalostrum 2     1    ARG\n",
       "6 6  teen  16  boy  ARGCalostrum 2     1    ARG"
      ]
     },
     "metadata": {},
     "output_type": "display_data"
    }
   ],
   "source": [
    "AA_NE_Long <- \n",
    "    AA_NE_Long %>% \n",
    "        mutate(week = gsub(\".*Calostrum.*\", \"1\", weekNames)) %>%\n",
    "        mutate(week = gsub(\".*Transition.*\", \"2\", week)) %>%\n",
    "        mutate(week = gsub(\".*Mature2m.*\", \"4\", week)) %>%\n",
    "        mutate(week = gsub(\".*Mature4m.*\", \"16\", week)) %>% \n",
    "        mutate(week = as.numeric(week))\n",
    "\n",
    "AA_NE_Long <- \n",
    "    AA_NE_Long %>% \n",
    "        mutate(AA = gsub(\"Calostrum.*\", \"\", weekNames)) %>%\n",
    "        mutate(AA = gsub(\"Transition.*\", \"\", AA)) %>%\n",
    "        mutate(AA = gsub(\"Mature2m.*\", \"\", AA)) %>%\n",
    "        mutate(AA = gsub(\"Mature4m.*\", \"\", AA))\n",
    "\n",
    "head(AA_NE_Long)"
   ]
  },
  {
   "cell_type": "code",
   "execution_count": 11,
   "metadata": {},
   "outputs": [
    {
     "data": {
      "text/html": [
       "<table>\n",
       "<thead><tr><th scope=col>id</th><th scope=col>group</th><th scope=col>age</th><th scope=col>sex</th><th scope=col>weekNames</th><th scope=col>level</th><th scope=col>week</th><th scope=col>AA</th></tr></thead>\n",
       "<tbody>\n",
       "\t<tr><td>4            </td><td>teen         </td><td>16           </td><td>boy          </td><td>HISCalostrum </td><td> 1           </td><td> 1           </td><td>HIS          </td></tr>\n",
       "\t<tr><td>4            </td><td>teen         </td><td>16           </td><td>boy          </td><td>HISTransition</td><td>NA           </td><td> 2           </td><td>HIS          </td></tr>\n",
       "\t<tr><td>4            </td><td>teen         </td><td>16           </td><td>boy          </td><td>HISMature2m  </td><td>NA           </td><td> 4           </td><td>HIS          </td></tr>\n",
       "\t<tr><td>4            </td><td>teen         </td><td>16           </td><td>boy          </td><td>HISMature4m  </td><td>NA           </td><td>16           </td><td>HIS          </td></tr>\n",
       "\t<tr><td>4            </td><td>teen         </td><td>16           </td><td>boy          </td><td>ILECalostrum </td><td> 0           </td><td> 1           </td><td>ILE          </td></tr>\n",
       "\t<tr><td>4            </td><td>teen         </td><td>16           </td><td>boy          </td><td>ILETransition</td><td>NA           </td><td> 2           </td><td>ILE          </td></tr>\n",
       "</tbody>\n",
       "</table>\n"
      ],
      "text/latex": [
       "\\begin{tabular}{r|llllllll}\n",
       " id & group & age & sex & weekNames & level & week & AA\\\\\n",
       "\\hline\n",
       "\t 4             & teen          & 16            & boy           & HISCalostrum  &  1            &  1            & HIS          \\\\\n",
       "\t 4             & teen          & 16            & boy           & HISTransition & NA            &  2            & HIS          \\\\\n",
       "\t 4             & teen          & 16            & boy           & HISMature2m   & NA            &  4            & HIS          \\\\\n",
       "\t 4             & teen          & 16            & boy           & HISMature4m   & NA            & 16            & HIS          \\\\\n",
       "\t 4             & teen          & 16            & boy           & ILECalostrum  &  0            &  1            & ILE          \\\\\n",
       "\t 4             & teen          & 16            & boy           & ILETransition & NA            &  2            & ILE          \\\\\n",
       "\\end{tabular}\n"
      ],
      "text/markdown": [
       "\n",
       "id | group | age | sex | weekNames | level | week | AA | \n",
       "|---|---|---|---|---|---|\n",
       "| 4             | teen          | 16            | boy           | HISCalostrum  |  1            |  1            | HIS           | \n",
       "| 4             | teen          | 16            | boy           | HISTransition | NA            |  2            | HIS           | \n",
       "| 4             | teen          | 16            | boy           | HISMature2m   | NA            |  4            | HIS           | \n",
       "| 4             | teen          | 16            | boy           | HISMature4m   | NA            | 16            | HIS           | \n",
       "| 4             | teen          | 16            | boy           | ILECalostrum  |  0            |  1            | ILE           | \n",
       "| 4             | teen          | 16            | boy           | ILETransition | NA            |  2            | ILE           | \n",
       "\n",
       "\n"
      ],
      "text/plain": [
       "  id group age sex weekNames     level week AA \n",
       "1 4  teen  16  boy HISCalostrum   1     1   HIS\n",
       "2 4  teen  16  boy HISTransition NA     2   HIS\n",
       "3 4  teen  16  boy HISMature2m   NA     4   HIS\n",
       "4 4  teen  16  boy HISMature4m   NA    16   HIS\n",
       "5 4  teen  16  boy ILECalostrum   0     1   ILE\n",
       "6 4  teen  16  boy ILETransition NA     2   ILE"
      ]
     },
     "metadata": {},
     "output_type": "display_data"
    }
   ],
   "source": [
    "AA_E_Long %>% filter(id == 4) %>% head()"
   ]
  },
  {
   "cell_type": "code",
   "execution_count": 12,
   "metadata": {},
   "outputs": [
    {
     "name": "stderr",
     "output_type": "stream",
     "text": [
      "Warning message:\n",
      "\"Removed 640 rows containing non-finite values (stat_density).\""
     ]
    },
    {
     "data": {},
     "metadata": {},
     "output_type": "display_data"
    },
    {
     "data": {
      "image/png": "[encoded data removed]",
      "text/plain": [
       "plot without title"
      ]
     },
     "metadata": {},
     "output_type": "display_data"
    }
   ],
   "source": [
    "#png(filename=\"./plots/EAA_dist.png\", units=\"cm\", width=15, height=20, res = 300)\n",
    "\n",
    "AA_E_Long_SU <- AA_E_Long %>% group_by(AA) %>% mutate(level = (level - mean(level, na.rm = TRUE))/sd(level, na.rm = TRUE))\n",
    " \n",
    "ggplot(AA_E_Long_SU, aes(x = level, fill = AA)) + geom_density() + \n",
    "    guides(fill=FALSE) +\n",
    "    facet_grid(AA ~ week, scales = \"free_y\") +\n",
    "    theme( \n",
    "      #strip.background = element_blank(),\n",
    "      axis.ticks.y = element_blank(),\n",
    "      axis.text.y = element_blank(),\n",
    "      axis.text.x = element_blank()\n",
    "    ) + ggtitle('Essential AA (standar units)') \n",
    "\n",
    "#dev.off()\n"
   ]
  },
  {
   "cell_type": "code",
   "execution_count": 13,
   "metadata": {},
   "outputs": [
    {
     "name": "stderr",
     "output_type": "stream",
     "text": [
      "Warning message:\n",
      "\"Removed 781 rows containing non-finite values (stat_density).\""
     ]
    },
    {
     "data": {},
     "metadata": {},
     "output_type": "display_data"
    },
    {
     "data": {
      "image/png": "[encoded data removed]",
      "text/plain": [
       "plot without title"
      ]
     },
     "metadata": {},
     "output_type": "display_data"
    }
   ],
   "source": [
    "#png(filename=\"./plots/NEAA_dist.png\", units=\"cm\", width=15, height=20, res = 300)\n",
    "\n",
    "AA_NE_Long_SU <- AA_NE_Long %>% group_by(AA) %>% mutate(level = (level - mean(level, na.rm = TRUE))/sd(level, na.rm = TRUE))\n",
    "\n",
    "ggplot(AA_NE_Long_SU, aes(x = level, fill = AA)) + geom_density() + \n",
    "    guides(fill=FALSE) + \n",
    "    facet_grid(AA ~ week, scales = \"free_y\") +\n",
    "    theme(\n",
    "      #strip.background = element_blank(),\n",
    "      axis.ticks.y = element_blank(),\n",
    "      axis.text.y = element_blank(),\n",
    "      axis.text.x = element_blank()\n",
    "    ) + ggtitle('Non Essential AA (standar units)')\n",
    "\n",
    "#dev.off()"
   ]
  },
  {
   "cell_type": "code",
   "execution_count": 14,
   "metadata": {},
   "outputs": [
    {
     "data": {
      "text/html": [
       "<table>\n",
       "<thead><tr><th scope=col>AA</th><th scope=col>1</th><th scope=col>2</th><th scope=col>4</th><th scope=col>16</th></tr></thead>\n",
       "<tbody>\n",
       "\t<tr><td>HIS        </td><td>1.43 ± 0.98</td><td>2.29 ± 0.85</td><td>2.23 ± 0.71</td><td>1.95 ± 0.57</td></tr>\n",
       "\t<tr><td>ILE        </td><td>0.45 ± 0.59</td><td>0.56 ± 0.54</td><td>0.74 ± 0.68</td><td>0.62 ± 0.49</td></tr>\n",
       "\t<tr><td>LEU        </td><td>1.38 ± 1   </td><td>1.79 ± 1.09</td><td>2.15 ± 1.39</td><td>2.19 ± 1.7 </td></tr>\n",
       "\t<tr><td>LYS        </td><td>2.55 ± 2.21</td><td>1.38 ± 0.98</td><td>1.36 ± 0.99</td><td>1.27 ± 0.56</td></tr>\n",
       "\t<tr><td>MET        </td><td>0.09 ± 0.29</td><td>0.1 ± 0.31 </td><td>0.23 ± 0.48</td><td>0.16 ± 0.37</td></tr>\n",
       "\t<tr><td>PHE        </td><td>0.48 ± 0.5 </td><td>1 ± 0.51   </td><td>1.13 ± 0.52</td><td>1.03 ± 0.37</td></tr>\n",
       "\t<tr><td>THR        </td><td>5.08 ± 3.05</td><td>6.15 ± 2.63</td><td>6.31 ± 2.9 </td><td>7.68 ± 3.64</td></tr>\n",
       "\t<tr><td>TRP        </td><td>0.03 ± 0.17</td><td>0 ± 0      </td><td>0.03 ± 0.16</td><td>0 ± 0      </td></tr>\n",
       "\t<tr><td>VAL        </td><td>2.38 ± 1.34</td><td>3.73 ± 1.09</td><td>4.54 ± 1.6 </td><td>4.05 ± 1.39</td></tr>\n",
       "</tbody>\n",
       "</table>\n"
      ],
      "text/latex": [
       "\\begin{tabular}{r|lllll}\n",
       " AA & 1 & 2 & 4 & 16\\\\\n",
       "\\hline\n",
       "\t HIS         & 1.43 ± 0.98 & 2.29 ± 0.85 & 2.23 ± 0.71 & 1.95 ± 0.57\\\\\n",
       "\t ILE         & 0.45 ± 0.59 & 0.56 ± 0.54 & 0.74 ± 0.68 & 0.62 ± 0.49\\\\\n",
       "\t LEU         & 1.38 ± 1    & 1.79 ± 1.09 & 2.15 ± 1.39 & 2.19 ± 1.7 \\\\\n",
       "\t LYS         & 2.55 ± 2.21 & 1.38 ± 0.98 & 1.36 ± 0.99 & 1.27 ± 0.56\\\\\n",
       "\t MET         & 0.09 ± 0.29 & 0.1 ± 0.31  & 0.23 ± 0.48 & 0.16 ± 0.37\\\\\n",
       "\t PHE         & 0.48 ± 0.5  & 1 ± 0.51    & 1.13 ± 0.52 & 1.03 ± 0.37\\\\\n",
       "\t THR         & 5.08 ± 3.05 & 6.15 ± 2.63 & 6.31 ± 2.9  & 7.68 ± 3.64\\\\\n",
       "\t TRP         & 0.03 ± 0.17 & 0 ± 0       & 0.03 ± 0.16 & 0 ± 0      \\\\\n",
       "\t VAL         & 2.38 ± 1.34 & 3.73 ± 1.09 & 4.54 ± 1.6  & 4.05 ± 1.39\\\\\n",
       "\\end{tabular}\n"
      ],
      "text/markdown": [
       "\n",
       "AA | 1 | 2 | 4 | 16 | \n",
       "|---|---|---|---|---|---|---|---|---|\n",
       "| HIS         | 1.43 ± 0.98 | 2.29 ± 0.85 | 2.23 ± 0.71 | 1.95 ± 0.57 | \n",
       "| ILE         | 0.45 ± 0.59 | 0.56 ± 0.54 | 0.74 ± 0.68 | 0.62 ± 0.49 | \n",
       "| LEU         | 1.38 ± 1    | 1.79 ± 1.09 | 2.15 ± 1.39 | 2.19 ± 1.7  | \n",
       "| LYS         | 2.55 ± 2.21 | 1.38 ± 0.98 | 1.36 ± 0.99 | 1.27 ± 0.56 | \n",
       "| MET         | 0.09 ± 0.29 | 0.1 ± 0.31  | 0.23 ± 0.48 | 0.16 ± 0.37 | \n",
       "| PHE         | 0.48 ± 0.5  | 1 ± 0.51    | 1.13 ± 0.52 | 1.03 ± 0.37 | \n",
       "| THR         | 5.08 ± 3.05 | 6.15 ± 2.63 | 6.31 ± 2.9  | 7.68 ± 3.64 | \n",
       "| TRP         | 0.03 ± 0.17 | 0 ± 0       | 0.03 ± 0.16 | 0 ± 0       | \n",
       "| VAL         | 2.38 ± 1.34 | 3.73 ± 1.09 | 4.54 ± 1.6  | 4.05 ± 1.39 | \n",
       "\n",
       "\n"
      ],
      "text/plain": [
       "  AA  1           2           4           16         \n",
       "1 HIS 1.43 ± 0.98 2.29 ± 0.85 2.23 ± 0.71 1.95 ± 0.57\n",
       "2 ILE 0.45 ± 0.59 0.56 ± 0.54 0.74 ± 0.68 0.62 ± 0.49\n",
       "3 LEU 1.38 ± 1    1.79 ± 1.09 2.15 ± 1.39 2.19 ± 1.7 \n",
       "4 LYS 2.55 ± 2.21 1.38 ± 0.98 1.36 ± 0.99 1.27 ± 0.56\n",
       "5 MET 0.09 ± 0.29 0.1 ± 0.31  0.23 ± 0.48 0.16 ± 0.37\n",
       "6 PHE 0.48 ± 0.5  1 ± 0.51    1.13 ± 0.52 1.03 ± 0.37\n",
       "7 THR 5.08 ± 3.05 6.15 ± 2.63 6.31 ± 2.9  7.68 ± 3.64\n",
       "8 TRP 0.03 ± 0.17 0 ± 0       0.03 ± 0.16 0 ± 0      \n",
       "9 VAL 2.38 ± 1.34 3.73 ± 1.09 4.54 ± 1.6  4.05 ± 1.39"
      ]
     },
     "metadata": {},
     "output_type": "display_data"
    }
   ],
   "source": [
    "AA_E_sum <- \n",
    " AA_E_Long %>% group_by(week, AA) %>% \n",
    "    summarise(mean = mean(level, na.rm = T), sd = sd(level, na.rm = T)) %>% \n",
    "    mutate(mean = round(mean, 2), sd = round(sd, 2)) %>%\n",
    "    mutate(mean = as.character(mean), sd = as.character(sd)) %>% \n",
    "    mutate(CI = paste(mean, '±', sd)) %>% \n",
    "    select(-mean, -sd) %>% \n",
    "    spread(week, CI)\n",
    "\n",
    "AA_E_sum"
   ]
  },
  {
   "cell_type": "code",
   "execution_count": 15,
   "metadata": {},
   "outputs": [
    {
     "data": {
      "text/html": [
       "<table>\n",
       "<thead><tr><th scope=col>AA</th><th scope=col>1</th><th scope=col>2</th><th scope=col>4</th><th scope=col>16</th></tr></thead>\n",
       "<tbody>\n",
       "\t<tr><td>ALA           </td><td>12.12 ± 9.02  </td><td>20.98 ± 7.65  </td><td>24 ± 8.15     </td><td>24.11 ± 9.67  </td></tr>\n",
       "\t<tr><td>ARG           </td><td>1.54 ± 1.15   </td><td>1.12 ± 1.06   </td><td>1 ± 0.69      </td><td>0.95 ± 0.4    </td></tr>\n",
       "\t<tr><td>ASN           </td><td>0.75 ± 0.66   </td><td>0.21 ± 0.54   </td><td>0.62 ± 1.02   </td><td>0.54 ± 0.87   </td></tr>\n",
       "\t<tr><td>ASP           </td><td>2.66 ± 2.15   </td><td>3.69 ± 1.98   </td><td>4.92 ± 3.06   </td><td>5.03 ± 3.7    </td></tr>\n",
       "\t<tr><td>CYS           </td><td>0.77 ± 0.7    </td><td>1.27 ± 1.01   </td><td>1.85 ± 0.87   </td><td>2.3 ± 1.08    </td></tr>\n",
       "\t<tr><td>GLN           </td><td>12.6 ± 10.68  </td><td>31.42 ± 15.85 </td><td>51.95 ± 21.76 </td><td>56.05 ± 21.17 </td></tr>\n",
       "\t<tr><td>GLU           </td><td>44.92 ± 33.93 </td><td>89.46 ± 31.81 </td><td>118.28 ± 31.19</td><td>114.84 ± 35.95</td></tr>\n",
       "\t<tr><td>GLY           </td><td>5.03 ± 4.07   </td><td>10.12 ± 3.38  </td><td>12.74 ± 4.46  </td><td>12.24 ± 3.85  </td></tr>\n",
       "\t<tr><td>PRO           </td><td>3.6 ± 2.82    </td><td>2.81 ± 0.91   </td><td>2.77 ± 1.68   </td><td>2.54 ± 1.04   </td></tr>\n",
       "\t<tr><td>SER           </td><td>4.57 ± 2.68   </td><td>8.54 ± 3.62   </td><td>11.62 ± 3.7   </td><td>12.32 ± 4.44  </td></tr>\n",
       "\t<tr><td>TYR           </td><td>0.66 ± 0.64   </td><td>1.04 ± 0.58   </td><td>1.13 ± 0.66   </td><td>1 ± 0.58      </td></tr>\n",
       "</tbody>\n",
       "</table>\n"
      ],
      "text/latex": [
       "\\begin{tabular}{r|lllll}\n",
       " AA & 1 & 2 & 4 & 16\\\\\n",
       "\\hline\n",
       "\t ALA            & 12.12 ± 9.02   & 20.98 ± 7.65   & 24 ± 8.15      & 24.11 ± 9.67  \\\\\n",
       "\t ARG            & 1.54 ± 1.15    & 1.12 ± 1.06    & 1 ± 0.69       & 0.95 ± 0.4    \\\\\n",
       "\t ASN            & 0.75 ± 0.66    & 0.21 ± 0.54    & 0.62 ± 1.02    & 0.54 ± 0.87   \\\\\n",
       "\t ASP            & 2.66 ± 2.15    & 3.69 ± 1.98    & 4.92 ± 3.06    & 5.03 ± 3.7    \\\\\n",
       "\t CYS            & 0.77 ± 0.7     & 1.27 ± 1.01    & 1.85 ± 0.87    & 2.3 ± 1.08    \\\\\n",
       "\t GLN            & 12.6 ± 10.68   & 31.42 ± 15.85  & 51.95 ± 21.76  & 56.05 ± 21.17 \\\\\n",
       "\t GLU            & 44.92 ± 33.93  & 89.46 ± 31.81  & 118.28 ± 31.19 & 114.84 ± 35.95\\\\\n",
       "\t GLY            & 5.03 ± 4.07    & 10.12 ± 3.38   & 12.74 ± 4.46   & 12.24 ± 3.85  \\\\\n",
       "\t PRO            & 3.6 ± 2.82     & 2.81 ± 0.91    & 2.77 ± 1.68    & 2.54 ± 1.04   \\\\\n",
       "\t SER            & 4.57 ± 2.68    & 8.54 ± 3.62    & 11.62 ± 3.7    & 12.32 ± 4.44  \\\\\n",
       "\t TYR            & 0.66 ± 0.64    & 1.04 ± 0.58    & 1.13 ± 0.66    & 1 ± 0.58      \\\\\n",
       "\\end{tabular}\n"
      ],
      "text/markdown": [
       "\n",
       "AA | 1 | 2 | 4 | 16 | \n",
       "|---|---|---|---|---|---|---|---|---|---|---|\n",
       "| ALA            | 12.12 ± 9.02   | 20.98 ± 7.65   | 24 ± 8.15      | 24.11 ± 9.67   | \n",
       "| ARG            | 1.54 ± 1.15    | 1.12 ± 1.06    | 1 ± 0.69       | 0.95 ± 0.4     | \n",
       "| ASN            | 0.75 ± 0.66    | 0.21 ± 0.54    | 0.62 ± 1.02    | 0.54 ± 0.87    | \n",
       "| ASP            | 2.66 ± 2.15    | 3.69 ± 1.98    | 4.92 ± 3.06    | 5.03 ± 3.7     | \n",
       "| CYS            | 0.77 ± 0.7     | 1.27 ± 1.01    | 1.85 ± 0.87    | 2.3 ± 1.08     | \n",
       "| GLN            | 12.6 ± 10.68   | 31.42 ± 15.85  | 51.95 ± 21.76  | 56.05 ± 21.17  | \n",
       "| GLU            | 44.92 ± 33.93  | 89.46 ± 31.81  | 118.28 ± 31.19 | 114.84 ± 35.95 | \n",
       "| GLY            | 5.03 ± 4.07    | 10.12 ± 3.38   | 12.74 ± 4.46   | 12.24 ± 3.85   | \n",
       "| PRO            | 3.6 ± 2.82     | 2.81 ± 0.91    | 2.77 ± 1.68    | 2.54 ± 1.04    | \n",
       "| SER            | 4.57 ± 2.68    | 8.54 ± 3.62    | 11.62 ± 3.7    | 12.32 ± 4.44   | \n",
       "| TYR            | 0.66 ± 0.64    | 1.04 ± 0.58    | 1.13 ± 0.66    | 1 ± 0.58       | \n",
       "\n",
       "\n"
      ],
      "text/plain": [
       "   AA  1             2             4              16            \n",
       "1  ALA 12.12 ± 9.02  20.98 ± 7.65  24 ± 8.15      24.11 ± 9.67  \n",
       "2  ARG 1.54 ± 1.15   1.12 ± 1.06   1 ± 0.69       0.95 ± 0.4    \n",
       "3  ASN 0.75 ± 0.66   0.21 ± 0.54   0.62 ± 1.02    0.54 ± 0.87   \n",
       "4  ASP 2.66 ± 2.15   3.69 ± 1.98   4.92 ± 3.06    5.03 ± 3.7    \n",
       "5  CYS 0.77 ± 0.7    1.27 ± 1.01   1.85 ± 0.87    2.3 ± 1.08    \n",
       "6  GLN 12.6 ± 10.68  31.42 ± 15.85 51.95 ± 21.76  56.05 ± 21.17 \n",
       "7  GLU 44.92 ± 33.93 89.46 ± 31.81 118.28 ± 31.19 114.84 ± 35.95\n",
       "8  GLY 5.03 ± 4.07   10.12 ± 3.38  12.74 ± 4.46   12.24 ± 3.85  \n",
       "9  PRO 3.6 ± 2.82    2.81 ± 0.91   2.77 ± 1.68    2.54 ± 1.04   \n",
       "10 SER 4.57 ± 2.68   8.54 ± 3.62   11.62 ± 3.7    12.32 ± 4.44  \n",
       "11 TYR 0.66 ± 0.64   1.04 ± 0.58   1.13 ± 0.66    1 ± 0.58      "
      ]
     },
     "metadata": {},
     "output_type": "display_data"
    }
   ],
   "source": [
    "AA_NE_sum <- \n",
    " AA_NE_Long %>% group_by(week, AA) %>% \n",
    "    summarise(mean = mean(level, na.rm = T), sd = sd(level, na.rm = T)) %>% \n",
    "    mutate(mean = round(mean, 2), sd = round(sd, 2)) %>%\n",
    "    mutate(mean = as.character(mean), sd = as.character(sd)) %>% \n",
    "    mutate(CI = paste(mean, '±', sd)) %>% \n",
    "    select(-mean, -sd) %>% \n",
    "    spread(week, CI)\n",
    "\n",
    "AA_NE_sum"
   ]
  },
  {
   "cell_type": "markdown",
   "metadata": {
    "collapsed": true
   },
   "source": [
    "## Sex and Free AA levels:\n",
    "\n",
    "http://felixhaass.de/dataviz_ggplot2/session4.html\n"
   ]
  },
  {
   "cell_type": "code",
   "execution_count": 16,
   "metadata": {},
   "outputs": [
    {
     "name": "stderr",
     "output_type": "stream",
     "text": [
      "\n",
      "Attaching package: 'broom.mixed'\n",
      "\n",
      "The following object is masked from 'package:broom':\n",
      "\n",
      "    tidyMCMC\n",
      "\n"
     ]
    }
   ],
   "source": [
    "library(broom.mixed)"
   ]
  },
  {
   "cell_type": "code",
   "execution_count": 17,
   "metadata": {
    "collapsed": true
   },
   "outputs": [],
   "source": [
    "AA_E_Nested <- AA_E_Long %>% group_by(AA) %>% nest()\n",
    "AA_NE_Nested <- AA_NE_Long %>% group_by(AA) %>% nest()"
   ]
  },
  {
   "cell_type": "code",
   "execution_count": 18,
   "metadata": {
    "collapsed": true
   },
   "outputs": [],
   "source": [
    "meSex <- function(df){\n",
    "    \n",
    "    me <- lmer(level ~ sex + week + (1 | id), data = df)\n",
    "    \n",
    "    return(me)\n",
    "}"
   ]
  },
  {
   "cell_type": "code",
   "execution_count": 19,
   "metadata": {
    "collapsed": true
   },
   "outputs": [],
   "source": [
    "nAA_E <- length(AA_E_Nested$AA)\n",
    "nAA_NE <- length(AA_NE_Nested$AA)"
   ]
  },
  {
   "cell_type": "code",
   "execution_count": 20,
   "metadata": {
    "collapsed": true
   },
   "outputs": [],
   "source": [
    "me_E <- list()\n",
    "tidy_E <- list()\n",
    "\n",
    "for(i in 1:nAA_E){\n",
    "    \n",
    "    me_E[[i]] <- meSex(AA_E_Nested$data[[i]])\n",
    "    tidy_E[[i]] <- tidy(me_E[[i]], effects = 'fixed') %>% mutate(AA = AA_E_Nested$AA[i])\n",
    "    \n",
    "}"
   ]
  },
  {
   "cell_type": "code",
   "execution_count": 21,
   "metadata": {
    "collapsed": true
   },
   "outputs": [],
   "source": [
    "me_NE <- list()\n",
    "tidy_NE <- list()\n",
    "\n",
    "for(j in 1:nAA_NE) {\n",
    "    me_NE[[j]] <- meSex(AA_NE_Nested$data[[j]])\n",
    "    tidy_NE[[j]] <- tidy(me_NE[[j]], effects = 'fixed') %>% mutate(AA = AA_NE_Nested$AA[j])\n",
    "}"
   ]
  },
  {
   "cell_type": "code",
   "execution_count": 22,
   "metadata": {
    "collapsed": true
   },
   "outputs": [],
   "source": [
    "AA_E_Nested <- AA_E_Nested %>% mutate(model = me_E, tidy = tidy_E)\n",
    "AA_NE_Nested <- AA_NE_Nested %>% mutate(model = me_NE, tidy = tidy_NE)"
   ]
  },
  {
   "cell_type": "code",
   "execution_count": 23,
   "metadata": {},
   "outputs": [
    {
     "data": {
      "text/plain": [
       "Linear mixed model fit by REML ['lmerMod']\n",
       "Formula: level ~ sex + week + (1 | id)\n",
       "   Data: df\n",
       "REML criterion at convergence: 485.4003\n",
       "Random effects:\n",
       " Groups   Name        Std.Dev.\n",
       " id       (Intercept) 0.2791  \n",
       " Residual             0.8480  \n",
       "Number of obs: 183, groups:  id, 61\n",
       "Fixed Effects:\n",
       "(Intercept)       sexboy         week  \n",
       "   1.776441     0.179637     0.009056  "
      ]
     },
     "metadata": {},
     "output_type": "display_data"
    },
    {
     "data": {
      "text/html": [
       "<table>\n",
       "<thead><tr><th scope=col>effect</th><th scope=col>term</th><th scope=col>estimate</th><th scope=col>std.error</th><th scope=col>statistic</th><th scope=col>AA</th></tr></thead>\n",
       "<tbody>\n",
       "\t<tr><td>fixed      </td><td>(Intercept)</td><td>1.776440529</td><td>0.12542575 </td><td>14.1632844 </td><td>HIS        </td></tr>\n",
       "\t<tr><td>fixed      </td><td>sexboy     </td><td>0.179637148</td><td>0.14826963 </td><td> 1.2115572 </td><td>HIS        </td></tr>\n",
       "\t<tr><td>fixed      </td><td>week       </td><td>0.009055677</td><td>0.01114069 </td><td> 0.8128474 </td><td>HIS        </td></tr>\n",
       "</tbody>\n",
       "</table>\n"
      ],
      "text/latex": [
       "\\begin{tabular}{r|llllll}\n",
       " effect & term & estimate & std.error & statistic & AA\\\\\n",
       "\\hline\n",
       "\t fixed       & (Intercept) & 1.776440529 & 0.12542575  & 14.1632844  & HIS        \\\\\n",
       "\t fixed       & sexboy      & 0.179637148 & 0.14826963  &  1.2115572  & HIS        \\\\\n",
       "\t fixed       & week        & 0.009055677 & 0.01114069  &  0.8128474  & HIS        \\\\\n",
       "\\end{tabular}\n"
      ],
      "text/markdown": [
       "\n",
       "effect | term | estimate | std.error | statistic | AA | \n",
       "|---|---|---|\n",
       "| fixed       | (Intercept) | 1.776440529 | 0.12542575  | 14.1632844  | HIS         | \n",
       "| fixed       | sexboy      | 0.179637148 | 0.14826963  |  1.2115572  | HIS         | \n",
       "| fixed       | week        | 0.009055677 | 0.01114069  |  0.8128474  | HIS         | \n",
       "\n",
       "\n"
      ],
      "text/plain": [
       "  effect term        estimate    std.error  statistic  AA \n",
       "1 fixed  (Intercept) 1.776440529 0.12542575 14.1632844 HIS\n",
       "2 fixed  sexboy      0.179637148 0.14826963  1.2115572 HIS\n",
       "3 fixed  week        0.009055677 0.01114069  0.8128474 HIS"
      ]
     },
     "metadata": {},
     "output_type": "display_data"
    }
   ],
   "source": [
    "me_E[[1]]\n",
    "AA_E_Nested$tidy[[1]]"
   ]
  },
  {
   "cell_type": "code",
   "execution_count": 24,
   "metadata": {},
   "outputs": [
    {
     "data": {
      "text/html": [
       "<table>\n",
       "<thead><tr><th scope=col>effect</th><th scope=col>term</th><th scope=col>estimate</th><th scope=col>std.error</th><th scope=col>statistic</th><th scope=col>AA</th></tr></thead>\n",
       "<tbody>\n",
       "\t<tr><td>fixed       </td><td>sexboy      </td><td> 0.179637148</td><td>0.14826963  </td><td> 1.2115572  </td><td>HIS         </td></tr>\n",
       "\t<tr><td>fixed       </td><td>sexboy      </td><td> 0.088613218</td><td>0.10500084  </td><td> 0.8439287  </td><td>ILE         </td></tr>\n",
       "\t<tr><td>fixed       </td><td>sexboy      </td><td> 0.040495036</td><td>0.19819822  </td><td> 0.2043158  </td><td>LEU         </td></tr>\n",
       "\t<tr><td>fixed       </td><td>sexboy      </td><td> 0.174878897</td><td>0.21943104  </td><td> 0.7969652  </td><td>LYS         </td></tr>\n",
       "\t<tr><td>fixed       </td><td>sexboy      </td><td> 0.061657018</td><td>0.05528562  </td><td> 1.1152452  </td><td>MET         </td></tr>\n",
       "\t<tr><td>fixed       </td><td>sexboy      </td><td> 0.117331807</td><td>0.08059965  </td><td> 1.4557359  </td><td>PHE         </td></tr>\n",
       "\t<tr><td>fixed       </td><td>sexboy      </td><td>-0.687749892</td><td>0.61301954  </td><td>-1.1219053  </td><td>THR         </td></tr>\n",
       "\t<tr><td>fixed       </td><td>sexboy      </td><td>-0.003569898</td><td>0.01565889  </td><td>-0.2279790  </td><td>TRP         </td></tr>\n",
       "\t<tr><td>fixed       </td><td>sexboy      </td><td> 0.260670679</td><td>0.25206341  </td><td> 1.0341472  </td><td>VAL         </td></tr>\n",
       "</tbody>\n",
       "</table>\n"
      ],
      "text/latex": [
       "\\begin{tabular}{r|llllll}\n",
       " effect & term & estimate & std.error & statistic & AA\\\\\n",
       "\\hline\n",
       "\t fixed        & sexboy       &  0.179637148 & 0.14826963   &  1.2115572   & HIS         \\\\\n",
       "\t fixed        & sexboy       &  0.088613218 & 0.10500084   &  0.8439287   & ILE         \\\\\n",
       "\t fixed        & sexboy       &  0.040495036 & 0.19819822   &  0.2043158   & LEU         \\\\\n",
       "\t fixed        & sexboy       &  0.174878897 & 0.21943104   &  0.7969652   & LYS         \\\\\n",
       "\t fixed        & sexboy       &  0.061657018 & 0.05528562   &  1.1152452   & MET         \\\\\n",
       "\t fixed        & sexboy       &  0.117331807 & 0.08059965   &  1.4557359   & PHE         \\\\\n",
       "\t fixed        & sexboy       & -0.687749892 & 0.61301954   & -1.1219053   & THR         \\\\\n",
       "\t fixed        & sexboy       & -0.003569898 & 0.01565889   & -0.2279790   & TRP         \\\\\n",
       "\t fixed        & sexboy       &  0.260670679 & 0.25206341   &  1.0341472   & VAL         \\\\\n",
       "\\end{tabular}\n"
      ],
      "text/markdown": [
       "\n",
       "effect | term | estimate | std.error | statistic | AA | \n",
       "|---|---|---|---|---|---|---|---|---|\n",
       "| fixed        | sexboy       |  0.179637148 | 0.14826963   |  1.2115572   | HIS          | \n",
       "| fixed        | sexboy       |  0.088613218 | 0.10500084   |  0.8439287   | ILE          | \n",
       "| fixed        | sexboy       |  0.040495036 | 0.19819822   |  0.2043158   | LEU          | \n",
       "| fixed        | sexboy       |  0.174878897 | 0.21943104   |  0.7969652   | LYS          | \n",
       "| fixed        | sexboy       |  0.061657018 | 0.05528562   |  1.1152452   | MET          | \n",
       "| fixed        | sexboy       |  0.117331807 | 0.08059965   |  1.4557359   | PHE          | \n",
       "| fixed        | sexboy       | -0.687749892 | 0.61301954   | -1.1219053   | THR          | \n",
       "| fixed        | sexboy       | -0.003569898 | 0.01565889   | -0.2279790   | TRP          | \n",
       "| fixed        | sexboy       |  0.260670679 | 0.25206341   |  1.0341472   | VAL          | \n",
       "\n",
       "\n"
      ],
      "text/plain": [
       "  effect term   estimate     std.error  statistic  AA \n",
       "1 fixed  sexboy  0.179637148 0.14826963  1.2115572 HIS\n",
       "2 fixed  sexboy  0.088613218 0.10500084  0.8439287 ILE\n",
       "3 fixed  sexboy  0.040495036 0.19819822  0.2043158 LEU\n",
       "4 fixed  sexboy  0.174878897 0.21943104  0.7969652 LYS\n",
       "5 fixed  sexboy  0.061657018 0.05528562  1.1152452 MET\n",
       "6 fixed  sexboy  0.117331807 0.08059965  1.4557359 PHE\n",
       "7 fixed  sexboy -0.687749892 0.61301954 -1.1219053 THR\n",
       "8 fixed  sexboy -0.003569898 0.01565889 -0.2279790 TRP\n",
       "9 fixed  sexboy  0.260670679 0.25206341  1.0341472 VAL"
      ]
     },
     "metadata": {},
     "output_type": "display_data"
    },
    {
     "data": {
      "text/html": [
       "<table>\n",
       "<thead><tr><th scope=col>effect</th><th scope=col>term</th><th scope=col>estimate</th><th scope=col>std.error</th><th scope=col>statistic</th><th scope=col>AA</th></tr></thead>\n",
       "<tbody>\n",
       "\t<tr><td>fixed      </td><td>sexboy     </td><td> 0.14073970</td><td>0.1529303  </td><td> 0.9202867 </td><td>ARG        </td></tr>\n",
       "\t<tr><td>fixed      </td><td>sexboy     </td><td> 0.55352849</td><td>0.4824506  </td><td> 1.1473268 </td><td>ASP        </td></tr>\n",
       "\t<tr><td>fixed      </td><td>sexboy     </td><td> 1.64897865</td><td>1.6709972  </td><td> 0.9868231 </td><td>ALA        </td></tr>\n",
       "\t<tr><td>fixed      </td><td>sexboy     </td><td>-0.08409476</td><td>0.1258007  </td><td>-0.6684763 </td><td>ASN        </td></tr>\n",
       "\t<tr><td>fixed      </td><td>sexboy     </td><td> 0.36643929</td><td>0.1655625  </td><td> 2.2132985 </td><td>CYS        </td></tr>\n",
       "\t<tr><td>fixed      </td><td>sexboy     </td><td> 1.83468673</td><td>0.8053847  </td><td> 2.2780253 </td><td>GLY        </td></tr>\n",
       "\t<tr><td>fixed      </td><td>sexboy     </td><td>14.45211622</td><td>6.6578580  </td><td> 2.1706856 </td><td>GLU        </td></tr>\n",
       "\t<tr><td>fixed      </td><td>sexboy     </td><td> 3.21092145</td><td>3.5211046  </td><td> 0.9119074 </td><td>GLN        </td></tr>\n",
       "\t<tr><td>fixed      </td><td>sexboy     </td><td> 0.38254081</td><td>0.3443933  </td><td> 1.1107673 </td><td>PRO        </td></tr>\n",
       "\t<tr><td>fixed      </td><td>sexboy     </td><td> 1.25092729</td><td>0.7143037  </td><td> 1.7512541 </td><td>SER        </td></tr>\n",
       "\t<tr><td>fixed      </td><td>sexboy     </td><td> 0.23736429</td><td>0.1101457  </td><td> 2.1550025 </td><td>TYR        </td></tr>\n",
       "</tbody>\n",
       "</table>\n"
      ],
      "text/latex": [
       "\\begin{tabular}{r|llllll}\n",
       " effect & term & estimate & std.error & statistic & AA\\\\\n",
       "\\hline\n",
       "\t fixed       & sexboy      &  0.14073970 & 0.1529303   &  0.9202867  & ARG        \\\\\n",
       "\t fixed       & sexboy      &  0.55352849 & 0.4824506   &  1.1473268  & ASP        \\\\\n",
       "\t fixed       & sexboy      &  1.64897865 & 1.6709972   &  0.9868231  & ALA        \\\\\n",
       "\t fixed       & sexboy      & -0.08409476 & 0.1258007   & -0.6684763  & ASN        \\\\\n",
       "\t fixed       & sexboy      &  0.36643929 & 0.1655625   &  2.2132985  & CYS        \\\\\n",
       "\t fixed       & sexboy      &  1.83468673 & 0.8053847   &  2.2780253  & GLY        \\\\\n",
       "\t fixed       & sexboy      & 14.45211622 & 6.6578580   &  2.1706856  & GLU        \\\\\n",
       "\t fixed       & sexboy      &  3.21092145 & 3.5211046   &  0.9119074  & GLN        \\\\\n",
       "\t fixed       & sexboy      &  0.38254081 & 0.3443933   &  1.1107673  & PRO        \\\\\n",
       "\t fixed       & sexboy      &  1.25092729 & 0.7143037   &  1.7512541  & SER        \\\\\n",
       "\t fixed       & sexboy      &  0.23736429 & 0.1101457   &  2.1550025  & TYR        \\\\\n",
       "\\end{tabular}\n"
      ],
      "text/markdown": [
       "\n",
       "effect | term | estimate | std.error | statistic | AA | \n",
       "|---|---|---|---|---|---|---|---|---|---|---|\n",
       "| fixed       | sexboy      |  0.14073970 | 0.1529303   |  0.9202867  | ARG         | \n",
       "| fixed       | sexboy      |  0.55352849 | 0.4824506   |  1.1473268  | ASP         | \n",
       "| fixed       | sexboy      |  1.64897865 | 1.6709972   |  0.9868231  | ALA         | \n",
       "| fixed       | sexboy      | -0.08409476 | 0.1258007   | -0.6684763  | ASN         | \n",
       "| fixed       | sexboy      |  0.36643929 | 0.1655625   |  2.2132985  | CYS         | \n",
       "| fixed       | sexboy      |  1.83468673 | 0.8053847   |  2.2780253  | GLY         | \n",
       "| fixed       | sexboy      | 14.45211622 | 6.6578580   |  2.1706856  | GLU         | \n",
       "| fixed       | sexboy      |  3.21092145 | 3.5211046   |  0.9119074  | GLN         | \n",
       "| fixed       | sexboy      |  0.38254081 | 0.3443933   |  1.1107673  | PRO         | \n",
       "| fixed       | sexboy      |  1.25092729 | 0.7143037   |  1.7512541  | SER         | \n",
       "| fixed       | sexboy      |  0.23736429 | 0.1101457   |  2.1550025  | TYR         | \n",
       "\n",
       "\n"
      ],
      "text/plain": [
       "   effect term   estimate    std.error statistic  AA \n",
       "1  fixed  sexboy  0.14073970 0.1529303  0.9202867 ARG\n",
       "2  fixed  sexboy  0.55352849 0.4824506  1.1473268 ASP\n",
       "3  fixed  sexboy  1.64897865 1.6709972  0.9868231 ALA\n",
       "4  fixed  sexboy -0.08409476 0.1258007 -0.6684763 ASN\n",
       "5  fixed  sexboy  0.36643929 0.1655625  2.2132985 CYS\n",
       "6  fixed  sexboy  1.83468673 0.8053847  2.2780253 GLY\n",
       "7  fixed  sexboy 14.45211622 6.6578580  2.1706856 GLU\n",
       "8  fixed  sexboy  3.21092145 3.5211046  0.9119074 GLN\n",
       "9  fixed  sexboy  0.38254081 0.3443933  1.1107673 PRO\n",
       "10 fixed  sexboy  1.25092729 0.7143037  1.7512541 SER\n",
       "11 fixed  sexboy  0.23736429 0.1101457  2.1550025 TYR"
      ]
     },
     "metadata": {},
     "output_type": "display_data"
    }
   ],
   "source": [
    "sexCoef_E <- bind_rows(tidy_E) %>% filter(grepl(\"sexboy\", term))\n",
    "sexCoef_NE <- bind_rows(tidy_NE) %>% filter(grepl(\"sexboy\", term))\n",
    "\n",
    "sexCoef_E\n",
    "sexCoef_NE"
   ]
  },
  {
   "cell_type": "code",
   "execution_count": 25,
   "metadata": {},
   "outputs": [
    {
     "data": {},
     "metadata": {},
     "output_type": "display_data"
    },
    {
     "data": {
      "image/png": "[encoded data removed]",
      "text/plain": [
       "plot without title"
      ]
     },
     "metadata": {},
     "output_type": "display_data"
    }
   ],
   "source": [
    "#png(filename=\"./plots/EAA_coeff.png\", units=\"cm\", width=20, height=20, res = 300)\n",
    "ggplot(sexCoef_E, aes(x = AA, y = estimate, color = AA)) + \n",
    "    geom_hline(yintercept = 0, alpha = 0.4) + \n",
    "    geom_point() + geom_pointrange( aes(x = AA, ymin = estimate - 2*std.error, ymax = estimate + 2*std.error)) + \n",
    "    theme(legend.position = \"none\") + \n",
    "    coord_flip() + \n",
    "    ylab(TeX('sex (boy $\\\\rightarrow$)')) + ggtitle('Essential AA \\n Estimate and 95% CI') \n",
    "#dev.off()"
   ]
  },
  {
   "cell_type": "code",
   "execution_count": 26,
   "metadata": {},
   "outputs": [
    {
     "data": {},
     "metadata": {},
     "output_type": "display_data"
    },
    {
     "data": {
      "image/png": "[encoded data removed]",
      "text/plain": [
       "plot without title"
      ]
     },
     "metadata": {},
     "output_type": "display_data"
    }
   ],
   "source": [
    "#png(filename=\"./plots/NEAA_coeff.png\", units=\"cm\", width=20, height=20, res = 300)\n",
    "ggplot(sexCoef_NE, aes(x = AA, y = estimate, color = AA)) + \n",
    "    geom_hline(yintercept = 0, alpha = 0.4) + \n",
    "    geom_point() + geom_pointrange( aes(x = AA, ymin = estimate - 2*std.error, ymax = estimate + 2*std.error)) + \n",
    "    theme(legend.position = \"none\") +\n",
    "    coord_flip() +\n",
    "    ylab(TeX('sex (boy $\\\\rightarrow$)')) + ggtitle('Non Essential AA \\n Estimate and 95% CI')\n",
    "#dev.off()"
   ]
  },
  {
   "cell_type": "code",
   "execution_count": 27,
   "metadata": {},
   "outputs": [
    {
     "data": {},
     "metadata": {},
     "output_type": "display_data"
    },
    {
     "data": {
      "image/png": "[encoded data removed]",
      "text/plain": [
       "plot without title"
      ]
     },
     "metadata": {},
     "output_type": "display_data"
    }
   ],
   "source": [
    "AATYR <- sexCoef_NE %>% filter(AA == 'ARG' | AA == 'TYR')\n",
    "\n",
    "#png(filename=\"./plots/NEAA_ARGTYR_coeff.png\", units=\"cm\", width=20, height=20, res = 300)\n",
    "ggplot(AATYR, aes(x = AA, y = estimate, color = AA)) + \n",
    "    geom_hline(yintercept = 0, alpha = 0.4) + \n",
    "    geom_point() + geom_pointrange( aes(x = AA, ymin = estimate - 2*std.error, ymax = estimate + 2*std.error)) + \n",
    "    theme(legend.position = \"none\") +\n",
    "    coord_flip() +\n",
    "    ylab(TeX('sex (boy $\\\\rightarrow$)')) + ggtitle('Non Essential AA: ARG and TYR detail \\n Estimate and 95% CI')\n",
    "#dev.off()"
   ]
  },
  {
   "cell_type": "code",
   "execution_count": 28,
   "metadata": {},
   "outputs": [
    {
     "data": {},
     "metadata": {},
     "output_type": "display_data"
    },
    {
     "data": {
      "image/png": "[encoded data removed]",
      "text/plain": [
       "plot without title"
      ]
     },
     "metadata": {},
     "output_type": "display_data"
    }
   ],
   "source": [
    "CYSASN <- sexCoef_NE %>% filter(AA == 'CYS' | AA == 'ASN')\n",
    "\n",
    "#png(filename=\"./plots/NEAA_ARGTYR_coeff.png\", units=\"cm\", width=20, height=20, res = 300)\n",
    "ggplot(CYSASN, aes(x = AA, y = estimate, color = AA)) + \n",
    "    geom_hline(yintercept = 0, alpha = 0.4) + \n",
    "    geom_point() + geom_pointrange( aes(x = AA, ymin = estimate - 2*std.error, ymax = estimate + 2*std.error)) + \n",
    "    theme(legend.position = \"none\") +\n",
    "    coord_flip() +\n",
    "    ylab(TeX('sex (boy $\\\\rightarrow$)')) + ggtitle('Non Essential AA: ARG and TYR detail \\n Estimate and 95% CI')\n",
    "#dev.off()"
   ]
  },
  {
   "cell_type": "code",
   "execution_count": 29,
   "metadata": {},
   "outputs": [
    {
     "data": {
      "text/html": [
       "<table>\n",
       "<thead><tr><th scope=col>id</th><th scope=col>TAA</th></tr></thead>\n",
       "<tbody>\n",
       "\t<tr><td>1        </td><td>14.477273</td></tr>\n",
       "\t<tr><td>2        </td><td>17.409091</td></tr>\n",
       "\t<tr><td>3        </td><td>16.045455</td></tr>\n",
       "\t<tr><td>4        </td><td> 5.818182</td></tr>\n",
       "\t<tr><td>5        </td><td> 4.000000</td></tr>\n",
       "\t<tr><td>6        </td><td>13.909091</td></tr>\n",
       "</tbody>\n",
       "</table>\n"
      ],
      "text/latex": [
       "\\begin{tabular}{r|ll}\n",
       " id & TAA\\\\\n",
       "\\hline\n",
       "\t 1         & 14.477273\\\\\n",
       "\t 2         & 17.409091\\\\\n",
       "\t 3         & 16.045455\\\\\n",
       "\t 4         &  5.818182\\\\\n",
       "\t 5         &  4.000000\\\\\n",
       "\t 6         & 13.909091\\\\\n",
       "\\end{tabular}\n"
      ],
      "text/markdown": [
       "\n",
       "id | TAA | \n",
       "|---|---|---|---|---|---|\n",
       "| 1         | 14.477273 | \n",
       "| 2         | 17.409091 | \n",
       "| 3         | 16.045455 | \n",
       "| 4         |  5.818182 | \n",
       "| 5         |  4.000000 | \n",
       "| 6         | 13.909091 | \n",
       "\n",
       "\n"
      ],
      "text/plain": [
       "  id TAA      \n",
       "1 1  14.477273\n",
       "2 2  17.409091\n",
       "3 3  16.045455\n",
       "4 4   5.818182\n",
       "5 5   4.000000\n",
       "6 6  13.909091"
      ]
     },
     "metadata": {},
     "output_type": "display_data"
    }
   ],
   "source": [
    "AA_NE_Long %>% group_by(id) %>% summarise(TAA = mean(level, na.rm = T)) %>% head()"
   ]
  },
  {
   "cell_type": "markdown",
   "metadata": {},
   "source": [
    "## Group and Free AA levels\n",
    "\n",
    "$AA = \\alpha_0 + \\alpha_1 \\ group + \\alpha_2 \\ sex + \\alpha_3 \\ week + \\alpha_{id}$"
   ]
  },
  {
   "cell_type": "code",
   "execution_count": 30,
   "metadata": {
    "collapsed": true
   },
   "outputs": [],
   "source": [
    "meGroup <- function(df){\n",
    "    \n",
    "    me <- lmer(level ~ sex + group + week + (1 | id), data = df)\n",
    "    \n",
    "    return(me)\n",
    "}"
   ]
  },
  {
   "cell_type": "code",
   "execution_count": 31,
   "metadata": {
    "collapsed": true
   },
   "outputs": [],
   "source": [
    "me_E_G <- list()\n",
    "tidy_E_G <- list()\n",
    "\n",
    "for(i in 1:nAA_E){\n",
    "    \n",
    "    me_E_G[[i]] <- meGroup(AA_E_Nested$data[[i]])\n",
    "    tidy_E_G[[i]] <- tidy(me_E_G[[i]], effects = 'fixed') %>% mutate(AA = AA_E_Nested$AA[i])\n",
    "    \n",
    "}"
   ]
  },
  {
   "cell_type": "code",
   "execution_count": 32,
   "metadata": {
    "collapsed": true
   },
   "outputs": [],
   "source": [
    "me_NE_G <- list()\n",
    "tidy_NE_G <- list()\n",
    "\n",
    "for(i in 1:nAA_NE){\n",
    "    \n",
    "    me_NE_G[[i]] <- meGroup(AA_NE_Nested$data[[i]])\n",
    "    tidy_NE_G[[i]] <- tidy(me_NE_G[[i]], effects = 'fixed') %>% mutate(AA = AA_NE_Nested$AA[i])\n",
    "\n",
    "}"
   ]
  },
  {
   "cell_type": "code",
   "execution_count": 33,
   "metadata": {
    "collapsed": true
   },
   "outputs": [],
   "source": [
    "AA_E_Nested <- AA_E_Nested %>% mutate(model_G = me_E_G, tidy_G = tidy_E_G)\n",
    "AA_NE_Nested <- AA_NE_Nested %>% mutate(model_G = me_NE_G, tidy_G = tidy_NE_G)"
   ]
  },
  {
   "cell_type": "code",
   "execution_count": 34,
   "metadata": {},
   "outputs": [
    {
     "data": {
      "text/plain": [
       "[[1]]\n",
       "Linear mixed model fit by REML ['lmerMod']\n",
       "Formula: level ~ sex + group + week + (1 | id)\n",
       "   Data: df\n",
       "REML criterion at convergence: 487.0376\n",
       "Random effects:\n",
       " Groups   Name        Std.Dev.\n",
       " id       (Intercept) 0.2843  \n",
       " Residual             0.8486  \n",
       "Number of obs: 183, groups:  id, 61\n",
       "Fixed Effects:\n",
       "(Intercept)       sexboy   groupadult         week  \n",
       "   1.735365     0.198264     0.078707     0.008659  \n"
      ]
     },
     "metadata": {},
     "output_type": "display_data"
    },
    {
     "data": {
      "text/html": [
       "<table>\n",
       "<thead><tr><th scope=col>effect</th><th scope=col>term</th><th scope=col>estimate</th><th scope=col>std.error</th><th scope=col>statistic</th><th scope=col>AA</th></tr></thead>\n",
       "<tbody>\n",
       "\t<tr><td>fixed      </td><td>(Intercept)</td><td>1.735364729</td><td>0.14946469 </td><td>11.6105334 </td><td>HIS        </td></tr>\n",
       "\t<tr><td>fixed      </td><td>sexboy     </td><td>0.198264129</td><td>0.15352949 </td><td> 1.2913749 </td><td>HIS        </td></tr>\n",
       "\t<tr><td>fixed      </td><td>groupadult </td><td>0.078707251</td><td>0.15488689 </td><td> 0.5081595 </td><td>HIS        </td></tr>\n",
       "\t<tr><td>fixed      </td><td>week       </td><td>0.008659321</td><td>0.01117558 </td><td> 0.7748430 </td><td>HIS        </td></tr>\n",
       "</tbody>\n",
       "</table>\n"
      ],
      "text/latex": [
       "\\begin{tabular}{r|llllll}\n",
       " effect & term & estimate & std.error & statistic & AA\\\\\n",
       "\\hline\n",
       "\t fixed       & (Intercept) & 1.735364729 & 0.14946469  & 11.6105334  & HIS        \\\\\n",
       "\t fixed       & sexboy      & 0.198264129 & 0.15352949  &  1.2913749  & HIS        \\\\\n",
       "\t fixed       & groupadult  & 0.078707251 & 0.15488689  &  0.5081595  & HIS        \\\\\n",
       "\t fixed       & week        & 0.008659321 & 0.01117558  &  0.7748430  & HIS        \\\\\n",
       "\\end{tabular}\n"
      ],
      "text/markdown": [
       "\n",
       "effect | term | estimate | std.error | statistic | AA | \n",
       "|---|---|---|---|\n",
       "| fixed       | (Intercept) | 1.735364729 | 0.14946469  | 11.6105334  | HIS         | \n",
       "| fixed       | sexboy      | 0.198264129 | 0.15352949  |  1.2913749  | HIS         | \n",
       "| fixed       | groupadult  | 0.078707251 | 0.15488689  |  0.5081595  | HIS         | \n",
       "| fixed       | week        | 0.008659321 | 0.01117558  |  0.7748430  | HIS         | \n",
       "\n",
       "\n"
      ],
      "text/plain": [
       "  effect term        estimate    std.error  statistic  AA \n",
       "1 fixed  (Intercept) 1.735364729 0.14946469 11.6105334 HIS\n",
       "2 fixed  sexboy      0.198264129 0.15352949  1.2913749 HIS\n",
       "3 fixed  groupadult  0.078707251 0.15488689  0.5081595 HIS\n",
       "4 fixed  week        0.008659321 0.01117558  0.7748430 HIS"
      ]
     },
     "metadata": {},
     "output_type": "display_data"
    },
    {
     "data": {
      "text/html": [
       "<table>\n",
       "<thead><tr><th scope=col>effect</th><th scope=col>term</th><th scope=col>estimate</th><th scope=col>std.error</th><th scope=col>statistic</th><th scope=col>AA</th></tr></thead>\n",
       "<tbody>\n",
       "\t<tr><td>fixed      </td><td>(Intercept)</td><td>1.776440529</td><td>0.12542575 </td><td>14.1632844 </td><td>HIS        </td></tr>\n",
       "\t<tr><td>fixed      </td><td>sexboy     </td><td>0.179637148</td><td>0.14826963 </td><td> 1.2115572 </td><td>HIS        </td></tr>\n",
       "\t<tr><td>fixed      </td><td>week       </td><td>0.009055677</td><td>0.01114069 </td><td> 0.8128474 </td><td>HIS        </td></tr>\n",
       "</tbody>\n",
       "</table>\n"
      ],
      "text/latex": [
       "\\begin{tabular}{r|llllll}\n",
       " effect & term & estimate & std.error & statistic & AA\\\\\n",
       "\\hline\n",
       "\t fixed       & (Intercept) & 1.776440529 & 0.12542575  & 14.1632844  & HIS        \\\\\n",
       "\t fixed       & sexboy      & 0.179637148 & 0.14826963  &  1.2115572  & HIS        \\\\\n",
       "\t fixed       & week        & 0.009055677 & 0.01114069  &  0.8128474  & HIS        \\\\\n",
       "\\end{tabular}\n"
      ],
      "text/markdown": [
       "\n",
       "effect | term | estimate | std.error | statistic | AA | \n",
       "|---|---|---|\n",
       "| fixed       | (Intercept) | 1.776440529 | 0.12542575  | 14.1632844  | HIS         | \n",
       "| fixed       | sexboy      | 0.179637148 | 0.14826963  |  1.2115572  | HIS         | \n",
       "| fixed       | week        | 0.009055677 | 0.01114069  |  0.8128474  | HIS         | \n",
       "\n",
       "\n"
      ],
      "text/plain": [
       "  effect term        estimate    std.error  statistic  AA \n",
       "1 fixed  (Intercept) 1.776440529 0.12542575 14.1632844 HIS\n",
       "2 fixed  sexboy      0.179637148 0.14826963  1.2115572 HIS\n",
       "3 fixed  week        0.009055677 0.01114069  0.8128474 HIS"
      ]
     },
     "metadata": {},
     "output_type": "display_data"
    }
   ],
   "source": [
    "me_E_G[1]\n",
    "AA_E_Nested$tidy_G[[1]]\n",
    "AA_E_Nested$tidy[[1]]"
   ]
  },
  {
   "cell_type": "code",
   "execution_count": 35,
   "metadata": {},
   "outputs": [
    {
     "data": {
      "text/html": [
       "<table>\n",
       "<thead><tr><th scope=col>effect</th><th scope=col>term</th><th scope=col>estimate</th><th scope=col>std.error</th><th scope=col>statistic</th><th scope=col>AA</th></tr></thead>\n",
       "<tbody>\n",
       "\t<tr><td>fixed      </td><td>sexboy     </td><td> 0.12875803</td><td>0.1587173  </td><td> 0.8112415 </td><td>ARG        </td></tr>\n",
       "\t<tr><td>fixed      </td><td>sexboy     </td><td> 0.48898235</td><td>0.4998729  </td><td> 0.9782133 </td><td>ASP        </td></tr>\n",
       "\t<tr><td>fixed      </td><td>sexboy     </td><td> 1.88231168</td><td>1.7243405  </td><td> 1.0916125 </td><td>ALA        </td></tr>\n",
       "\t<tr><td>fixed      </td><td>sexboy     </td><td>-0.04513407</td><td>0.1290757  </td><td>-0.3496712 </td><td>ASN        </td></tr>\n",
       "\t<tr><td>fixed      </td><td>sexboy     </td><td> 0.33374428</td><td>0.1711375  </td><td> 1.9501525 </td><td>CYS        </td></tr>\n",
       "\t<tr><td>fixed      </td><td>sexboy     </td><td> 1.83744597</td><td>0.8368059  </td><td> 2.1957851 </td><td>GLY        </td></tr>\n",
       "\t<tr><td>fixed      </td><td>sexboy     </td><td>13.42882741</td><td>6.9197059  </td><td> 1.9406645 </td><td>GLU        </td></tr>\n",
       "\t<tr><td>fixed      </td><td>sexboy     </td><td> 5.14216990</td><td>3.4559402  </td><td> 1.4879221 </td><td>GLN        </td></tr>\n",
       "\t<tr><td>fixed      </td><td>sexboy     </td><td> 0.34213434</td><td>0.3558679  </td><td> 0.9614083 </td><td>PRO        </td></tr>\n",
       "\t<tr><td>fixed      </td><td>sexboy     </td><td> 1.53337035</td><td>0.7180422  </td><td> 2.1354877 </td><td>SER        </td></tr>\n",
       "\t<tr><td>fixed      </td><td>sexboy     </td><td> 0.20542126</td><td>0.1126921  </td><td> 1.8228538 </td><td>TYR        </td></tr>\n",
       "</tbody>\n",
       "</table>\n"
      ],
      "text/latex": [
       "\\begin{tabular}{r|llllll}\n",
       " effect & term & estimate & std.error & statistic & AA\\\\\n",
       "\\hline\n",
       "\t fixed       & sexboy      &  0.12875803 & 0.1587173   &  0.8112415  & ARG        \\\\\n",
       "\t fixed       & sexboy      &  0.48898235 & 0.4998729   &  0.9782133  & ASP        \\\\\n",
       "\t fixed       & sexboy      &  1.88231168 & 1.7243405   &  1.0916125  & ALA        \\\\\n",
       "\t fixed       & sexboy      & -0.04513407 & 0.1290757   & -0.3496712  & ASN        \\\\\n",
       "\t fixed       & sexboy      &  0.33374428 & 0.1711375   &  1.9501525  & CYS        \\\\\n",
       "\t fixed       & sexboy      &  1.83744597 & 0.8368059   &  2.1957851  & GLY        \\\\\n",
       "\t fixed       & sexboy      & 13.42882741 & 6.9197059   &  1.9406645  & GLU        \\\\\n",
       "\t fixed       & sexboy      &  5.14216990 & 3.4559402   &  1.4879221  & GLN        \\\\\n",
       "\t fixed       & sexboy      &  0.34213434 & 0.3558679   &  0.9614083  & PRO        \\\\\n",
       "\t fixed       & sexboy      &  1.53337035 & 0.7180422   &  2.1354877  & SER        \\\\\n",
       "\t fixed       & sexboy      &  0.20542126 & 0.1126921   &  1.8228538  & TYR        \\\\\n",
       "\\end{tabular}\n"
      ],
      "text/markdown": [
       "\n",
       "effect | term | estimate | std.error | statistic | AA | \n",
       "|---|---|---|---|---|---|---|---|---|---|---|\n",
       "| fixed       | sexboy      |  0.12875803 | 0.1587173   |  0.8112415  | ARG         | \n",
       "| fixed       | sexboy      |  0.48898235 | 0.4998729   |  0.9782133  | ASP         | \n",
       "| fixed       | sexboy      |  1.88231168 | 1.7243405   |  1.0916125  | ALA         | \n",
       "| fixed       | sexboy      | -0.04513407 | 0.1290757   | -0.3496712  | ASN         | \n",
       "| fixed       | sexboy      |  0.33374428 | 0.1711375   |  1.9501525  | CYS         | \n",
       "| fixed       | sexboy      |  1.83744597 | 0.8368059   |  2.1957851  | GLY         | \n",
       "| fixed       | sexboy      | 13.42882741 | 6.9197059   |  1.9406645  | GLU         | \n",
       "| fixed       | sexboy      |  5.14216990 | 3.4559402   |  1.4879221  | GLN         | \n",
       "| fixed       | sexboy      |  0.34213434 | 0.3558679   |  0.9614083  | PRO         | \n",
       "| fixed       | sexboy      |  1.53337035 | 0.7180422   |  2.1354877  | SER         | \n",
       "| fixed       | sexboy      |  0.20542126 | 0.1126921   |  1.8228538  | TYR         | \n",
       "\n",
       "\n"
      ],
      "text/plain": [
       "   effect term   estimate    std.error statistic  AA \n",
       "1  fixed  sexboy  0.12875803 0.1587173  0.8112415 ARG\n",
       "2  fixed  sexboy  0.48898235 0.4998729  0.9782133 ASP\n",
       "3  fixed  sexboy  1.88231168 1.7243405  1.0916125 ALA\n",
       "4  fixed  sexboy -0.04513407 0.1290757 -0.3496712 ASN\n",
       "5  fixed  sexboy  0.33374428 0.1711375  1.9501525 CYS\n",
       "6  fixed  sexboy  1.83744597 0.8368059  2.1957851 GLY\n",
       "7  fixed  sexboy 13.42882741 6.9197059  1.9406645 GLU\n",
       "8  fixed  sexboy  5.14216990 3.4559402  1.4879221 GLN\n",
       "9  fixed  sexboy  0.34213434 0.3558679  0.9614083 PRO\n",
       "10 fixed  sexboy  1.53337035 0.7180422  2.1354877 SER\n",
       "11 fixed  sexboy  0.20542126 0.1126921  1.8228538 TYR"
      ]
     },
     "metadata": {},
     "output_type": "display_data"
    },
    {
     "data": {
      "text/html": [
       "<table>\n",
       "<thead><tr><th scope=col>effect</th><th scope=col>term</th><th scope=col>estimate</th><th scope=col>std.error</th><th scope=col>statistic</th><th scope=col>AA</th></tr></thead>\n",
       "<tbody>\n",
       "\t<tr><td>fixed       </td><td>groupadult  </td><td> 0.078707251</td><td>0.15488689  </td><td> 0.5081595  </td><td>HIS         </td></tr>\n",
       "\t<tr><td>fixed       </td><td>groupadult  </td><td>-0.079596925</td><td>0.10924127  </td><td>-0.7286342  </td><td>ILE         </td></tr>\n",
       "\t<tr><td>fixed       </td><td>groupadult  </td><td> 0.080070978</td><td>0.20778112  </td><td> 0.3853621  </td><td>LEU         </td></tr>\n",
       "\t<tr><td>fixed       </td><td>groupadult  </td><td> 0.078731029</td><td>0.23015010  </td><td> 0.3420856  </td><td>LYS         </td></tr>\n",
       "\t<tr><td>fixed       </td><td>groupadult  </td><td> 0.031222250</td><td>0.05794368  </td><td> 0.5388379  </td><td>MET         </td></tr>\n",
       "\t<tr><td>fixed       </td><td>groupadult  </td><td> 0.034067776</td><td>0.08401854  </td><td> 0.4054792  </td><td>PHE         </td></tr>\n",
       "\t<tr><td>fixed       </td><td>groupadult  </td><td> 0.918000361</td><td>0.62783098  </td><td> 1.4621776  </td><td>THR         </td></tr>\n",
       "\t<tr><td>fixed       </td><td>groupadult  </td><td> 0.004198853</td><td>0.01633558  </td><td> 0.2570373  </td><td>TRP         </td></tr>\n",
       "\t<tr><td>fixed       </td><td>groupadult  </td><td> 0.076820636</td><td>0.26418239  </td><td> 0.2907864  </td><td>VAL         </td></tr>\n",
       "</tbody>\n",
       "</table>\n"
      ],
      "text/latex": [
       "\\begin{tabular}{r|llllll}\n",
       " effect & term & estimate & std.error & statistic & AA\\\\\n",
       "\\hline\n",
       "\t fixed        & groupadult   &  0.078707251 & 0.15488689   &  0.5081595   & HIS         \\\\\n",
       "\t fixed        & groupadult   & -0.079596925 & 0.10924127   & -0.7286342   & ILE         \\\\\n",
       "\t fixed        & groupadult   &  0.080070978 & 0.20778112   &  0.3853621   & LEU         \\\\\n",
       "\t fixed        & groupadult   &  0.078731029 & 0.23015010   &  0.3420856   & LYS         \\\\\n",
       "\t fixed        & groupadult   &  0.031222250 & 0.05794368   &  0.5388379   & MET         \\\\\n",
       "\t fixed        & groupadult   &  0.034067776 & 0.08401854   &  0.4054792   & PHE         \\\\\n",
       "\t fixed        & groupadult   &  0.918000361 & 0.62783098   &  1.4621776   & THR         \\\\\n",
       "\t fixed        & groupadult   &  0.004198853 & 0.01633558   &  0.2570373   & TRP         \\\\\n",
       "\t fixed        & groupadult   &  0.076820636 & 0.26418239   &  0.2907864   & VAL         \\\\\n",
       "\\end{tabular}\n"
      ],
      "text/markdown": [
       "\n",
       "effect | term | estimate | std.error | statistic | AA | \n",
       "|---|---|---|---|---|---|---|---|---|\n",
       "| fixed        | groupadult   |  0.078707251 | 0.15488689   |  0.5081595   | HIS          | \n",
       "| fixed        | groupadult   | -0.079596925 | 0.10924127   | -0.7286342   | ILE          | \n",
       "| fixed        | groupadult   |  0.080070978 | 0.20778112   |  0.3853621   | LEU          | \n",
       "| fixed        | groupadult   |  0.078731029 | 0.23015010   |  0.3420856   | LYS          | \n",
       "| fixed        | groupadult   |  0.031222250 | 0.05794368   |  0.5388379   | MET          | \n",
       "| fixed        | groupadult   |  0.034067776 | 0.08401854   |  0.4054792   | PHE          | \n",
       "| fixed        | groupadult   |  0.918000361 | 0.62783098   |  1.4621776   | THR          | \n",
       "| fixed        | groupadult   |  0.004198853 | 0.01633558   |  0.2570373   | TRP          | \n",
       "| fixed        | groupadult   |  0.076820636 | 0.26418239   |  0.2907864   | VAL          | \n",
       "\n",
       "\n"
      ],
      "text/plain": [
       "  effect term       estimate     std.error  statistic  AA \n",
       "1 fixed  groupadult  0.078707251 0.15488689  0.5081595 HIS\n",
       "2 fixed  groupadult -0.079596925 0.10924127 -0.7286342 ILE\n",
       "3 fixed  groupadult  0.080070978 0.20778112  0.3853621 LEU\n",
       "4 fixed  groupadult  0.078731029 0.23015010  0.3420856 LYS\n",
       "5 fixed  groupadult  0.031222250 0.05794368  0.5388379 MET\n",
       "6 fixed  groupadult  0.034067776 0.08401854  0.4054792 PHE\n",
       "7 fixed  groupadult  0.918000361 0.62783098  1.4621776 THR\n",
       "8 fixed  groupadult  0.004198853 0.01633558  0.2570373 TRP\n",
       "9 fixed  groupadult  0.076820636 0.26418239  0.2907864 VAL"
      ]
     },
     "metadata": {},
     "output_type": "display_data"
    },
    {
     "data": {
      "text/html": [
       "<table>\n",
       "<thead><tr><th scope=col>effect</th><th scope=col>term</th><th scope=col>estimate</th><th scope=col>std.error</th><th scope=col>statistic</th><th scope=col>AA</th></tr></thead>\n",
       "<tbody>\n",
       "\t<tr><td>fixed       </td><td>groupadult  </td><td>-0.05705268 </td><td>0.1601939   </td><td>-0.356147698</td><td>ARG         </td></tr>\n",
       "\t<tr><td>fixed       </td><td>groupadult  </td><td>-0.28399312 </td><td>0.5045151   </td><td>-0.562903080</td><td>ASP         </td></tr>\n",
       "\t<tr><td>fixed       </td><td>groupadult  </td><td> 1.00021504 </td><td>1.7402092   </td><td> 0.574767135</td><td>ALA         </td></tr>\n",
       "\t<tr><td>fixed       </td><td>groupadult  </td><td> 0.16273681 </td><td>0.1301663   </td><td> 1.250222557</td><td>ASN         </td></tr>\n",
       "\t<tr><td>fixed       </td><td>groupadult  </td><td>-0.14044279 </td><td>0.1727313   </td><td>-0.813070974</td><td>CYS         </td></tr>\n",
       "\t<tr><td>fixed       </td><td>groupadult  </td><td> 0.00459890 </td><td>0.8444166   </td><td> 0.005446246</td><td>GLY         </td></tr>\n",
       "\t<tr><td>fixed       </td><td>groupadult  </td><td>-4.45167262 </td><td>6.9810926   </td><td>-0.637675625</td><td>GLU         </td></tr>\n",
       "\t<tr><td>fixed       </td><td>groupadult  </td><td> 8.20050162 </td><td>3.4861317   </td><td> 2.352321266</td><td>GLN         </td></tr>\n",
       "\t<tr><td>fixed       </td><td>groupadult  </td><td>-0.17499676 </td><td>0.3591263   </td><td>-0.487284722</td><td>PRO         </td></tr>\n",
       "\t<tr><td>fixed       </td><td>groupadult  </td><td> 1.21021751 </td><td>0.7244904   </td><td> 1.670439585</td><td>SER         </td></tr>\n",
       "\t<tr><td>fixed       </td><td>groupadult  </td><td>-0.13679115 </td><td>0.1137469   </td><td>-1.202592257</td><td>TYR         </td></tr>\n",
       "</tbody>\n",
       "</table>\n"
      ],
      "text/latex": [
       "\\begin{tabular}{r|llllll}\n",
       " effect & term & estimate & std.error & statistic & AA\\\\\n",
       "\\hline\n",
       "\t fixed        & groupadult   & -0.05705268  & 0.1601939    & -0.356147698 & ARG         \\\\\n",
       "\t fixed        & groupadult   & -0.28399312  & 0.5045151    & -0.562903080 & ASP         \\\\\n",
       "\t fixed        & groupadult   &  1.00021504  & 1.7402092    &  0.574767135 & ALA         \\\\\n",
       "\t fixed        & groupadult   &  0.16273681  & 0.1301663    &  1.250222557 & ASN         \\\\\n",
       "\t fixed        & groupadult   & -0.14044279  & 0.1727313    & -0.813070974 & CYS         \\\\\n",
       "\t fixed        & groupadult   &  0.00459890  & 0.8444166    &  0.005446246 & GLY         \\\\\n",
       "\t fixed        & groupadult   & -4.45167262  & 6.9810926    & -0.637675625 & GLU         \\\\\n",
       "\t fixed        & groupadult   &  8.20050162  & 3.4861317    &  2.352321266 & GLN         \\\\\n",
       "\t fixed        & groupadult   & -0.17499676  & 0.3591263    & -0.487284722 & PRO         \\\\\n",
       "\t fixed        & groupadult   &  1.21021751  & 0.7244904    &  1.670439585 & SER         \\\\\n",
       "\t fixed        & groupadult   & -0.13679115  & 0.1137469    & -1.202592257 & TYR         \\\\\n",
       "\\end{tabular}\n"
      ],
      "text/markdown": [
       "\n",
       "effect | term | estimate | std.error | statistic | AA | \n",
       "|---|---|---|---|---|---|---|---|---|---|---|\n",
       "| fixed        | groupadult   | -0.05705268  | 0.1601939    | -0.356147698 | ARG          | \n",
       "| fixed        | groupadult   | -0.28399312  | 0.5045151    | -0.562903080 | ASP          | \n",
       "| fixed        | groupadult   |  1.00021504  | 1.7402092    |  0.574767135 | ALA          | \n",
       "| fixed        | groupadult   |  0.16273681  | 0.1301663    |  1.250222557 | ASN          | \n",
       "| fixed        | groupadult   | -0.14044279  | 0.1727313    | -0.813070974 | CYS          | \n",
       "| fixed        | groupadult   |  0.00459890  | 0.8444166    |  0.005446246 | GLY          | \n",
       "| fixed        | groupadult   | -4.45167262  | 6.9810926    | -0.637675625 | GLU          | \n",
       "| fixed        | groupadult   |  8.20050162  | 3.4861317    |  2.352321266 | GLN          | \n",
       "| fixed        | groupadult   | -0.17499676  | 0.3591263    | -0.487284722 | PRO          | \n",
       "| fixed        | groupadult   |  1.21021751  | 0.7244904    |  1.670439585 | SER          | \n",
       "| fixed        | groupadult   | -0.13679115  | 0.1137469    | -1.202592257 | TYR          | \n",
       "\n",
       "\n"
      ],
      "text/plain": [
       "   effect term       estimate    std.error statistic    AA \n",
       "1  fixed  groupadult -0.05705268 0.1601939 -0.356147698 ARG\n",
       "2  fixed  groupadult -0.28399312 0.5045151 -0.562903080 ASP\n",
       "3  fixed  groupadult  1.00021504 1.7402092  0.574767135 ALA\n",
       "4  fixed  groupadult  0.16273681 0.1301663  1.250222557 ASN\n",
       "5  fixed  groupadult -0.14044279 0.1727313 -0.813070974 CYS\n",
       "6  fixed  groupadult  0.00459890 0.8444166  0.005446246 GLY\n",
       "7  fixed  groupadult -4.45167262 6.9810926 -0.637675625 GLU\n",
       "8  fixed  groupadult  8.20050162 3.4861317  2.352321266 GLN\n",
       "9  fixed  groupadult -0.17499676 0.3591263 -0.487284722 PRO\n",
       "10 fixed  groupadult  1.21021751 0.7244904  1.670439585 SER\n",
       "11 fixed  groupadult -0.13679115 0.1137469 -1.202592257 TYR"
      ]
     },
     "metadata": {},
     "output_type": "display_data"
    }
   ],
   "source": [
    "sexCoef_E_G <- bind_rows(tidy_E_G) %>% filter(grepl(\"sexboy\", term))\n",
    "sexCoef_NE_G <- bind_rows(tidy_NE_G) %>% filter(grepl(\"sexboy\", term))\n",
    "\n",
    "groupCoef_E_G <- bind_rows(tidy_E_G) %>% filter(grepl(\"groupadult\", term))\n",
    "groupCoef_NE_G <- bind_rows(tidy_NE_G) %>% filter(grepl(\"groupadult\", term))\n",
    "\n",
    "sexCoef_NE_G\n",
    "groupCoef_E_G\n",
    "groupCoef_NE_G"
   ]
  },
  {
   "cell_type": "code",
   "execution_count": 36,
   "metadata": {},
   "outputs": [
    {
     "data": {},
     "metadata": {},
     "output_type": "display_data"
    },
    {
     "data": {
      "image/png": "[encoded data removed]",
      "text/plain": [
       "plot without title"
      ]
     },
     "metadata": {},
     "output_type": "display_data"
    }
   ],
   "source": [
    "#png(filename=\"./plots/EAA_G_given_S_coeff.png\", units=\"cm\", width=20, height=20, res = 300)\n",
    "ggplot(groupCoef_E_G, aes(x = AA, y = estimate, color = AA)) + \n",
    "    geom_hline(yintercept = 0, alpha = 0.4) + \n",
    "    geom_point() + geom_pointrange( aes(x = AA, ymin = estimate - 2*std.error, ymax = estimate + 2*std.error)) + \n",
    "    theme(legend.position = \"none\") + \n",
    "    coord_flip() + ylab(TeX('group (adult $\\\\rightarrow$)')) + \n",
    "    ggtitle('Essential AA \\n Estimate and 95% CI controlling for sex') \n",
    "#dev.off()"
   ]
  },
  {
   "cell_type": "code",
   "execution_count": 37,
   "metadata": {},
   "outputs": [
    {
     "data": {},
     "metadata": {},
     "output_type": "display_data"
    },
    {
     "data": {
      "image/png": "[encoded data removed]",
      "text/plain": [
       "plot without title"
      ]
     },
     "metadata": {},
     "output_type": "display_data"
    }
   ],
   "source": [
    "#png(filename=\"./plots/EAA_S_given_G_coeff.png\", units=\"cm\", width=20, height=20, res = 300)\n",
    "ggplot(sexCoef_E_G, aes(x = AA, y = estimate, color = AA)) + \n",
    "    geom_hline(yintercept = 0, alpha = 0.4) + \n",
    "    geom_point() + geom_pointrange( aes(x = AA, ymin = estimate - 2*std.error, ymax = estimate + 2*std.error)) + \n",
    "    theme(legend.position = \"none\") + \n",
    "    coord_flip() + ylab(TeX('sex (boy $\\\\rightarrow$)')) + \n",
    "    ggtitle('Essential AA \\n Estimate and 95% CI controlling for group') \n",
    "#dev.off()"
   ]
  },
  {
   "cell_type": "code",
   "execution_count": 38,
   "metadata": {},
   "outputs": [
    {
     "data": {},
     "metadata": {},
     "output_type": "display_data"
    },
    {
     "data": {
      "image/png": "[encoded data removed]",
      "text/plain": [
       "plot without title"
      ]
     },
     "metadata": {},
     "output_type": "display_data"
    }
   ],
   "source": [
    "#png(filename=\"./plots/NEAA_G_given_S_coeff.png\", units=\"cm\", width=20, height=20, res = 300)\n",
    "ggplot(groupCoef_NE_G, aes(x = AA, y = estimate, color = AA)) + \n",
    "    geom_hline(yintercept = 0, alpha = 0.4) + \n",
    "    geom_point() + geom_pointrange( aes(x = AA, ymin = estimate - 2*std.error, ymax = estimate + 2*std.error)) + \n",
    "    theme(legend.position = \"none\") +\n",
    "    coord_flip() + ylab(TeX('group (adult $\\\\rightarrow$)')) + \n",
    "    ggtitle('Non Essential AA \\n Estimate and 95% CI controlling for sex')\n",
    "#dev.off()"
   ]
  },
  {
   "cell_type": "code",
   "execution_count": 39,
   "metadata": {},
   "outputs": [
    {
     "data": {},
     "metadata": {},
     "output_type": "display_data"
    },
    {
     "data": {
      "image/png": "[encoded data removed]",
      "text/plain": [
       "plot without title"
      ]
     },
     "metadata": {},
     "output_type": "display_data"
    }
   ],
   "source": [
    "#png(filename=\"./plots/NEAA_S_given_G_coeff.png\", units=\"cm\", width=20, height=20, res = 300)\n",
    "ggplot(sexCoef_NE_G, aes(x = AA, y = estimate, color = AA)) + \n",
    "    geom_hline(yintercept = 0, alpha = 0.4) + \n",
    "    geom_point() + geom_pointrange( aes(x = AA, ymin = estimate - 2*std.error, ymax = estimate + 2*std.error)) + \n",
    "    theme(legend.position = \"none\") +\n",
    "    coord_flip() + ylab(TeX('sex (boy $\\\\rightarrow$)')) + \n",
    "    ggtitle('Non Essential AA \\n Estimate and 95% CI controlling for group')\n",
    "#dev.off()"
   ]
  },
  {
   "cell_type": "code",
   "execution_count": 40,
   "metadata": {},
   "outputs": [
    {
     "data": {
      "text/html": [
       "<table>\n",
       "<thead><tr><th scope=col>sex</th><th scope=col>group</th><th scope=col>n()</th></tr></thead>\n",
       "<tbody>\n",
       "\t<tr><td>girl </td><td>teen </td><td>13   </td></tr>\n",
       "\t<tr><td>girl </td><td>adult</td><td>13   </td></tr>\n",
       "\t<tr><td>boy  </td><td>teen </td><td>24   </td></tr>\n",
       "\t<tr><td>boy  </td><td>adult</td><td>11   </td></tr>\n",
       "\t<tr><td>NA   </td><td>teen </td><td> 2   </td></tr>\n",
       "\t<tr><td>NA   </td><td>adult</td><td> 2   </td></tr>\n",
       "</tbody>\n",
       "</table>\n"
      ],
      "text/latex": [
       "\\begin{tabular}{r|lll}\n",
       " sex & group & n()\\\\\n",
       "\\hline\n",
       "\t girl  & teen  & 13   \\\\\n",
       "\t girl  & adult & 13   \\\\\n",
       "\t boy   & teen  & 24   \\\\\n",
       "\t boy   & adult & 11   \\\\\n",
       "\t NA    & teen  &  2   \\\\\n",
       "\t NA    & adult &  2   \\\\\n",
       "\\end{tabular}\n"
      ],
      "text/markdown": [
       "\n",
       "sex | group | n() | \n",
       "|---|---|---|---|---|---|\n",
       "| girl  | teen  | 13    | \n",
       "| girl  | adult | 13    | \n",
       "| boy   | teen  | 24    | \n",
       "| boy   | adult | 11    | \n",
       "| NA    | teen  |  2    | \n",
       "| NA    | adult |  2    | \n",
       "\n",
       "\n"
      ],
      "text/plain": [
       "  sex  group n()\n",
       "1 girl teen  13 \n",
       "2 girl adult 13 \n",
       "3 boy  teen  24 \n",
       "4 boy  adult 11 \n",
       "5 NA   teen   2 \n",
       "6 NA   adult  2 "
      ]
     },
     "metadata": {},
     "output_type": "display_data"
    }
   ],
   "source": [
    "AA_E %>% group_by(sex, group) %>% summarise(n())"
   ]
  },
  {
   "cell_type": "markdown",
   "metadata": {},
   "source": [
    "## Sex-Week interaction and Free AA\n",
    "\n",
    "$$\n",
    "\\begin{align*}\n",
    "AA &= \\alpha_0 + \\alpha_1 \\ sex + \\alpha_2 \\ week + \\alpha_3 \\ sex \\times week + \\alpha_{id} \\\\\n",
    "   &= \\alpha_0 + \\alpha_1 \\ sex + \\left( \\alpha_2 + \\alpha_3 \\ sex \\right) \\times week + \\alpha_{id}\n",
    "\\end{align*}\n",
    "$$"
   ]
  },
  {
   "cell_type": "code",
   "execution_count": 41,
   "metadata": {
    "collapsed": true
   },
   "outputs": [],
   "source": [
    "meSexWeek <- function(df){\n",
    "    \n",
    "    me <- lmer(level ~ sex + week + sex:week + (1 | id), data = df)\n",
    "    \n",
    "    return(me)\n",
    "}"
   ]
  },
  {
   "cell_type": "code",
   "execution_count": 42,
   "metadata": {
    "collapsed": true
   },
   "outputs": [],
   "source": [
    "me_E_SW <- list()\n",
    "tidy_E_SW <- list()\n",
    "\n",
    "for(i in 1:nAA_E){\n",
    "    \n",
    "    me_E_SW[[i]] <- meSexWeek(AA_E_Nested$data[[i]])\n",
    "    covMat_E <- vcov(me_E_SW[[i]])\n",
    "    tidy_E_SW[[i]] <- tidy(me_E_SW[[i]], effects = 'fixed') %>% \n",
    "        mutate(AA = AA_E_Nested$AA[i], var_W = covMat_E[3, 3], var_SW = covMat_E[4, 4], cov_SW = covMat_E[3, 4])\n",
    "   \n",
    "}"
   ]
  },
  {
   "cell_type": "code",
   "execution_count": 43,
   "metadata": {
    "collapsed": true
   },
   "outputs": [],
   "source": [
    "me_NE_SW <- list()\n",
    "tidy_NE_SW <- list()\n",
    "\n",
    "for(i in 1:nAA_NE){\n",
    "    \n",
    "    me_NE_SW[[i]] <- meSexWeek(AA_NE_Nested$data[[i]])\n",
    "    covMat_NE <- vcov(me_NE_SW[[i]])\n",
    "    tidy_NE_SW[[i]] <- tidy(me_NE_SW[[i]], effects = 'fixed') %>% \n",
    "        mutate(AA = AA_NE_Nested$AA[i], var_W = covMat_NE[3, 3], var_SW = covMat_NE[4, 4], cov_SW = covMat_NE[3, 4])\n",
    "\n",
    "}"
   ]
  },
  {
   "cell_type": "code",
   "execution_count": 44,
   "metadata": {},
   "outputs": [
    {
     "data": {
      "text/plain": [
       "4 x 4 Matrix of class \"dpoMatrix\"\n",
       "             (Intercept)       sexboy          week   sexboy:week\n",
       "(Intercept)  0.019520193 -0.019520193 -0.0013732530  0.0013732530\n",
       "sexboy      -0.019520193  0.033833078  0.0013732530 -0.0024371933\n",
       "week        -0.001373253  0.001373253  0.0002747843 -0.0002747843\n",
       "sexboy:week  0.001373253 -0.002437193 -0.0002747843  0.0005031010"
      ]
     },
     "metadata": {},
     "output_type": "display_data"
    }
   ],
   "source": [
    "vcov(me_E_SW[[1]])"
   ]
  },
  {
   "cell_type": "code",
   "execution_count": 45,
   "metadata": {
    "collapsed": true
   },
   "outputs": [],
   "source": [
    "AA_E_Nested <- AA_E_Nested %>% mutate(model_SW = me_E_SW, tidy_SW = tidy_E_SW)\n",
    "AA_NE_Nested <- AA_NE_Nested %>% mutate(model_SW = me_NE_SW, tidy_SW = tidy_NE_SW)"
   ]
  },
  {
   "cell_type": "code",
   "execution_count": 46,
   "metadata": {},
   "outputs": [
    {
     "data": {
      "text/plain": [
       "[[1]]\n",
       "Linear mixed model fit by REML ['lmerMod']\n",
       "Formula: level ~ sex + week + sex:week + (1 | id)\n",
       "   Data: df\n",
       "REML criterion at convergence: 490.8816\n",
       "Random effects:\n",
       " Groups   Name        Std.Dev.\n",
       " id       (Intercept) 0.2782  \n",
       " Residual             0.8501  \n",
       "Number of obs: 183, groups:  id, 61\n",
       "Fixed Effects:\n",
       "(Intercept)       sexboy         week  sexboy:week  \n",
       "   1.808736     0.122440     0.002613     0.011808  \n"
      ]
     },
     "metadata": {},
     "output_type": "display_data"
    },
    {
     "data": {
      "text/html": [
       "<ol>\n",
       "\t<li><table>\n",
       "<thead><tr><th scope=col>effect</th><th scope=col>term</th><th scope=col>estimate</th><th scope=col>std.error</th><th scope=col>statistic</th><th scope=col>AA</th><th scope=col>var_W</th><th scope=col>var_SW</th><th scope=col>cov_SW</th></tr></thead>\n",
       "<tbody>\n",
       "\t<tr><td>fixed        </td><td>(Intercept)  </td><td>1.808736489  </td><td>0.13971468   </td><td>12.9459298   </td><td>HIS          </td><td>0.0002747843 </td><td>0.000503101  </td><td>-0.0002747843</td></tr>\n",
       "\t<tr><td>fixed        </td><td>sexboy       </td><td>0.122440475  </td><td>0.18393770   </td><td> 0.6656627   </td><td>HIS          </td><td>0.0002747843 </td><td>0.000503101  </td><td>-0.0002747843</td></tr>\n",
       "\t<tr><td>fixed        </td><td>week         </td><td>0.002612866  </td><td>0.01657662   </td><td> 0.1576236   </td><td>HIS          </td><td>0.0002747843 </td><td>0.000503101  </td><td>-0.0002747843</td></tr>\n",
       "\t<tr><td>fixed        </td><td>sexboy:week  </td><td>0.011807988  </td><td>0.02242991   </td><td> 0.5264393   </td><td>HIS          </td><td>0.0002747843 </td><td>0.000503101  </td><td>-0.0002747843</td></tr>\n",
       "</tbody>\n",
       "</table>\n",
       "</li>\n",
       "</ol>\n"
      ],
      "text/latex": [
       "\\begin{enumerate}\n",
       "\\item \\begin{tabular}{r|lllllllll}\n",
       " effect & term & estimate & std.error & statistic & AA & var\\_W & var\\_SW & cov\\_SW\\\\\n",
       "\\hline\n",
       "\t fixed         & (Intercept)   & 1.808736489   & 0.13971468    & 12.9459298    & HIS           & 0.0002747843  & 0.000503101   & -0.0002747843\\\\\n",
       "\t fixed         & sexboy        & 0.122440475   & 0.18393770    &  0.6656627    & HIS           & 0.0002747843  & 0.000503101   & -0.0002747843\\\\\n",
       "\t fixed         & week          & 0.002612866   & 0.01657662    &  0.1576236    & HIS           & 0.0002747843  & 0.000503101   & -0.0002747843\\\\\n",
       "\t fixed         & sexboy:week   & 0.011807988   & 0.02242991    &  0.5264393    & HIS           & 0.0002747843  & 0.000503101   & -0.0002747843\\\\\n",
       "\\end{tabular}\n",
       "\n",
       "\\end{enumerate}\n"
      ],
      "text/markdown": [
       "1. \n",
       "effect | term | estimate | std.error | statistic | AA | var_W | var_SW | cov_SW | \n",
       "|---|---|---|---|\n",
       "| fixed         | (Intercept)   | 1.808736489   | 0.13971468    | 12.9459298    | HIS           | 0.0002747843  | 0.000503101   | -0.0002747843 | \n",
       "| fixed         | sexboy        | 0.122440475   | 0.18393770    |  0.6656627    | HIS           | 0.0002747843  | 0.000503101   | -0.0002747843 | \n",
       "| fixed         | week          | 0.002612866   | 0.01657662    |  0.1576236    | HIS           | 0.0002747843  | 0.000503101   | -0.0002747843 | \n",
       "| fixed         | sexboy:week   | 0.011807988   | 0.02242991    |  0.5264393    | HIS           | 0.0002747843  | 0.000503101   | -0.0002747843 | \n",
       "\n",
       "\n",
       "\n",
       "\n",
       "\n"
      ],
      "text/plain": [
       "[[1]]\n",
       "# A tibble: 4 x 9\n",
       "  effect        term    estimate  std.error  statistic    AA        var_W\n",
       "   <chr>       <chr>       <dbl>      <dbl>      <dbl> <chr>        <dbl>\n",
       "1  fixed (Intercept) 1.808736489 0.13971468 12.9459298   HIS 0.0002747843\n",
       "2  fixed      sexboy 0.122440475 0.18393770  0.6656627   HIS 0.0002747843\n",
       "3  fixed        week 0.002612866 0.01657662  0.1576236   HIS 0.0002747843\n",
       "4  fixed sexboy:week 0.011807988 0.02242991  0.5264393   HIS 0.0002747843\n",
       "# ... with 2 more variables: var_SW <dbl>, cov_SW <dbl>\n"
      ]
     },
     "metadata": {},
     "output_type": "display_data"
    }
   ],
   "source": [
    "AA_E_Nested$model_SW[1]\n",
    "AA_E_Nested$tidy_SW[1]"
   ]
  },
  {
   "cell_type": "code",
   "execution_count": 47,
   "metadata": {},
   "outputs": [
    {
     "data": {
      "text/html": [
       "<table>\n",
       "<thead><tr><th scope=col>effect</th><th scope=col>term.x</th><th scope=col>estimate.x</th><th scope=col>std.error.x</th><th scope=col>statistic.x</th><th scope=col>AA</th><th scope=col>var_W.x</th><th scope=col>var_SW.x</th><th scope=col>cov_SW.x</th><th scope=col>term.y</th><th scope=col>estimate.y</th><th scope=col>std.error.y</th><th scope=col>statistic.y</th><th scope=col>var_W.y</th><th scope=col>var_SW.y</th><th scope=col>cov_SW.y</th></tr></thead>\n",
       "<tbody>\n",
       "\t<tr><td>fixed        </td><td>week         </td><td> 0.002612866 </td><td>0.016576619  </td><td> 0.1576236   </td><td>HIS          </td><td>2.747843e-04 </td><td>5.031010e-04 </td><td>-2.747843e-04</td><td>sexboy:week  </td><td> 0.0118079876</td><td>0.022429913  </td><td> 0.526439294 </td><td>2.747843e-04 </td><td>5.031010e-04 </td><td>-2.747843e-04</td></tr>\n",
       "\t<tr><td>fixed        </td><td>week         </td><td> 0.015668427 </td><td>0.010139631  </td><td> 1.5452660   </td><td>ILE          </td><td>1.028121e-04 </td><td>1.888612e-04 </td><td>-1.028121e-04</td><td>sexboy:week  </td><td>-0.0120909974</td><td>0.013742676  </td><td>-0.879813876 </td><td>1.028121e-04 </td><td>1.888612e-04 </td><td>-1.028121e-04</td></tr>\n",
       "\t<tr><td>fixed        </td><td>week         </td><td> 0.032661412 </td><td>0.024641902  </td><td> 1.3254420   </td><td>LEU          </td><td>6.072233e-04 </td><td>1.108458e-03 </td><td>-6.072233e-04</td><td>sexboy:week  </td><td> 0.0171436327</td><td>0.033293508  </td><td> 0.514924197 </td><td>6.072233e-04 </td><td>1.108458e-03 </td><td>-6.072233e-04</td></tr>\n",
       "\t<tr><td>fixed        </td><td>week         </td><td>-0.031840262 </td><td>0.025117007  </td><td>-1.2676774   </td><td>LYS          </td><td>6.308640e-04 </td><td>1.154138e-03 </td><td>-6.308640e-04</td><td>sexboy:week  </td><td>-0.0277547062</td><td>0.033972612  </td><td>-0.816972989 </td><td>6.308640e-04 </td><td>1.154138e-03 </td><td>-6.308640e-04</td></tr>\n",
       "\t<tr><td>fixed        </td><td>week         </td><td> 0.003823882 </td><td>0.006928368  </td><td> 0.5519167   </td><td>MET          </td><td>4.800229e-05 </td><td>8.760360e-05 </td><td>-4.800229e-05</td><td>sexboy:week  </td><td> 0.0008289634</td><td>0.009359680  </td><td> 0.088567499 </td><td>4.800229e-05 </td><td>8.760360e-05 </td><td>-4.800229e-05</td></tr>\n",
       "\t<tr><td>fixed        </td><td>week         </td><td> 0.021258453 </td><td>0.010458705  </td><td> 2.0326085   </td><td>PHE          </td><td>1.093845e-04 </td><td>1.988404e-04 </td><td>-1.093845e-04</td><td>sexboy:week  </td><td> 0.0003254222</td><td>0.014101079  </td><td> 0.023077821 </td><td>1.093845e-04 </td><td>1.988404e-04 </td><td>-1.093845e-04</td></tr>\n",
       "\t<tr><td>fixed        </td><td>week         </td><td> 0.153076793 </td><td>0.047632842  </td><td> 3.2136817   </td><td>THR          </td><td>2.268888e-03 </td><td>4.182830e-03 </td><td>-2.268888e-03</td><td>sexboy:week  </td><td>-0.0446219403</td><td>0.064674800  </td><td>-0.689943232 </td><td>2.268888e-03 </td><td>4.182830e-03 </td><td>-2.268888e-03</td></tr>\n",
       "\t<tr><td>fixed        </td><td>week         </td><td>-0.000413382 </td><td>0.002032778  </td><td>-0.2033581   </td><td>TRP          </td><td>4.132188e-06 </td><td>7.533281e-06 </td><td>-4.132188e-06</td><td>sexboy:week  </td><td>-0.0007504544</td><td>0.002744682  </td><td>-0.273421226 </td><td>4.132188e-06 </td><td>7.533281e-06 </td><td>-4.132188e-06</td></tr>\n",
       "\t<tr><td>fixed        </td><td>week         </td><td> 0.072450086 </td><td>0.028218034  </td><td> 2.5675101   </td><td>VAL          </td><td>7.962574e-04 </td><td>1.457804e-03 </td><td>-7.962574e-04</td><td>sexboy:week  </td><td>-0.0001173385</td><td>0.038181199  </td><td>-0.003073201 </td><td>7.962574e-04 </td><td>1.457804e-03 </td><td>-7.962574e-04</td></tr>\n",
       "</tbody>\n",
       "</table>\n"
      ],
      "text/latex": [
       "\\begin{tabular}{r|llllllllllllllll}\n",
       " effect & term.x & estimate.x & std.error.x & statistic.x & AA & var\\_W.x & var\\_SW.x & cov\\_SW.x & term.y & estimate.y & std.error.y & statistic.y & var\\_W.y & var\\_SW.y & cov\\_SW.y\\\\\n",
       "\\hline\n",
       "\t fixed         & week          &  0.002612866  & 0.016576619   &  0.1576236    & HIS           & 2.747843e-04  & 5.031010e-04  & -2.747843e-04 & sexboy:week   &  0.0118079876 & 0.022429913   &  0.526439294  & 2.747843e-04  & 5.031010e-04  & -2.747843e-04\\\\\n",
       "\t fixed         & week          &  0.015668427  & 0.010139631   &  1.5452660    & ILE           & 1.028121e-04  & 1.888612e-04  & -1.028121e-04 & sexboy:week   & -0.0120909974 & 0.013742676   & -0.879813876  & 1.028121e-04  & 1.888612e-04  & -1.028121e-04\\\\\n",
       "\t fixed         & week          &  0.032661412  & 0.024641902   &  1.3254420    & LEU           & 6.072233e-04  & 1.108458e-03  & -6.072233e-04 & sexboy:week   &  0.0171436327 & 0.033293508   &  0.514924197  & 6.072233e-04  & 1.108458e-03  & -6.072233e-04\\\\\n",
       "\t fixed         & week          & -0.031840262  & 0.025117007   & -1.2676774    & LYS           & 6.308640e-04  & 1.154138e-03  & -6.308640e-04 & sexboy:week   & -0.0277547062 & 0.033972612   & -0.816972989  & 6.308640e-04  & 1.154138e-03  & -6.308640e-04\\\\\n",
       "\t fixed         & week          &  0.003823882  & 0.006928368   &  0.5519167    & MET           & 4.800229e-05  & 8.760360e-05  & -4.800229e-05 & sexboy:week   &  0.0008289634 & 0.009359680   &  0.088567499  & 4.800229e-05  & 8.760360e-05  & -4.800229e-05\\\\\n",
       "\t fixed         & week          &  0.021258453  & 0.010458705   &  2.0326085    & PHE           & 1.093845e-04  & 1.988404e-04  & -1.093845e-04 & sexboy:week   &  0.0003254222 & 0.014101079   &  0.023077821  & 1.093845e-04  & 1.988404e-04  & -1.093845e-04\\\\\n",
       "\t fixed         & week          &  0.153076793  & 0.047632842   &  3.2136817    & THR           & 2.268888e-03  & 4.182830e-03  & -2.268888e-03 & sexboy:week   & -0.0446219403 & 0.064674800   & -0.689943232  & 2.268888e-03  & 4.182830e-03  & -2.268888e-03\\\\\n",
       "\t fixed         & week          & -0.000413382  & 0.002032778   & -0.2033581    & TRP           & 4.132188e-06  & 7.533281e-06  & -4.132188e-06 & sexboy:week   & -0.0007504544 & 0.002744682   & -0.273421226  & 4.132188e-06  & 7.533281e-06  & -4.132188e-06\\\\\n",
       "\t fixed         & week          &  0.072450086  & 0.028218034   &  2.5675101    & VAL           & 7.962574e-04  & 1.457804e-03  & -7.962574e-04 & sexboy:week   & -0.0001173385 & 0.038181199   & -0.003073201  & 7.962574e-04  & 1.457804e-03  & -7.962574e-04\\\\\n",
       "\\end{tabular}\n"
      ],
      "text/markdown": [
       "\n",
       "effect | term.x | estimate.x | std.error.x | statistic.x | AA | var_W.x | var_SW.x | cov_SW.x | term.y | estimate.y | std.error.y | statistic.y | var_W.y | var_SW.y | cov_SW.y | \n",
       "|---|---|---|---|---|---|---|---|---|\n",
       "| fixed         | week          |  0.002612866  | 0.016576619   |  0.1576236    | HIS           | 2.747843e-04  | 5.031010e-04  | -2.747843e-04 | sexboy:week   |  0.0118079876 | 0.022429913   |  0.526439294  | 2.747843e-04  | 5.031010e-04  | -2.747843e-04 | \n",
       "| fixed         | week          |  0.015668427  | 0.010139631   |  1.5452660    | ILE           | 1.028121e-04  | 1.888612e-04  | -1.028121e-04 | sexboy:week   | -0.0120909974 | 0.013742676   | -0.879813876  | 1.028121e-04  | 1.888612e-04  | -1.028121e-04 | \n",
       "| fixed         | week          |  0.032661412  | 0.024641902   |  1.3254420    | LEU           | 6.072233e-04  | 1.108458e-03  | -6.072233e-04 | sexboy:week   |  0.0171436327 | 0.033293508   |  0.514924197  | 6.072233e-04  | 1.108458e-03  | -6.072233e-04 | \n",
       "| fixed         | week          | -0.031840262  | 0.025117007   | -1.2676774    | LYS           | 6.308640e-04  | 1.154138e-03  | -6.308640e-04 | sexboy:week   | -0.0277547062 | 0.033972612   | -0.816972989  | 6.308640e-04  | 1.154138e-03  | -6.308640e-04 | \n",
       "| fixed         | week          |  0.003823882  | 0.006928368   |  0.5519167    | MET           | 4.800229e-05  | 8.760360e-05  | -4.800229e-05 | sexboy:week   |  0.0008289634 | 0.009359680   |  0.088567499  | 4.800229e-05  | 8.760360e-05  | -4.800229e-05 | \n",
       "| fixed         | week          |  0.021258453  | 0.010458705   |  2.0326085    | PHE           | 1.093845e-04  | 1.988404e-04  | -1.093845e-04 | sexboy:week   |  0.0003254222 | 0.014101079   |  0.023077821  | 1.093845e-04  | 1.988404e-04  | -1.093845e-04 | \n",
       "| fixed         | week          |  0.153076793  | 0.047632842   |  3.2136817    | THR           | 2.268888e-03  | 4.182830e-03  | -2.268888e-03 | sexboy:week   | -0.0446219403 | 0.064674800   | -0.689943232  | 2.268888e-03  | 4.182830e-03  | -2.268888e-03 | \n",
       "| fixed         | week          | -0.000413382  | 0.002032778   | -0.2033581    | TRP           | 4.132188e-06  | 7.533281e-06  | -4.132188e-06 | sexboy:week   | -0.0007504544 | 0.002744682   | -0.273421226  | 4.132188e-06  | 7.533281e-06  | -4.132188e-06 | \n",
       "| fixed         | week          |  0.072450086  | 0.028218034   |  2.5675101    | VAL           | 7.962574e-04  | 1.457804e-03  | -7.962574e-04 | sexboy:week   | -0.0001173385 | 0.038181199   | -0.003073201  | 7.962574e-04  | 1.457804e-03  | -7.962574e-04 | \n",
       "\n",
       "\n"
      ],
      "text/plain": [
       "  effect term.x estimate.x   std.error.x statistic.x AA  var_W.x     \n",
       "1 fixed  week    0.002612866 0.016576619  0.1576236  HIS 2.747843e-04\n",
       "2 fixed  week    0.015668427 0.010139631  1.5452660  ILE 1.028121e-04\n",
       "3 fixed  week    0.032661412 0.024641902  1.3254420  LEU 6.072233e-04\n",
       "4 fixed  week   -0.031840262 0.025117007 -1.2676774  LYS 6.308640e-04\n",
       "5 fixed  week    0.003823882 0.006928368  0.5519167  MET 4.800229e-05\n",
       "6 fixed  week    0.021258453 0.010458705  2.0326085  PHE 1.093845e-04\n",
       "7 fixed  week    0.153076793 0.047632842  3.2136817  THR 2.268888e-03\n",
       "8 fixed  week   -0.000413382 0.002032778 -0.2033581  TRP 4.132188e-06\n",
       "9 fixed  week    0.072450086 0.028218034  2.5675101  VAL 7.962574e-04\n",
       "  var_SW.x     cov_SW.x      term.y      estimate.y    std.error.y statistic.y \n",
       "1 5.031010e-04 -2.747843e-04 sexboy:week  0.0118079876 0.022429913  0.526439294\n",
       "2 1.888612e-04 -1.028121e-04 sexboy:week -0.0120909974 0.013742676 -0.879813876\n",
       "3 1.108458e-03 -6.072233e-04 sexboy:week  0.0171436327 0.033293508  0.514924197\n",
       "4 1.154138e-03 -6.308640e-04 sexboy:week -0.0277547062 0.033972612 -0.816972989\n",
       "5 8.760360e-05 -4.800229e-05 sexboy:week  0.0008289634 0.009359680  0.088567499\n",
       "6 1.988404e-04 -1.093845e-04 sexboy:week  0.0003254222 0.014101079  0.023077821\n",
       "7 4.182830e-03 -2.268888e-03 sexboy:week -0.0446219403 0.064674800 -0.689943232\n",
       "8 7.533281e-06 -4.132188e-06 sexboy:week -0.0007504544 0.002744682 -0.273421226\n",
       "9 1.457804e-03 -7.962574e-04 sexboy:week -0.0001173385 0.038181199 -0.003073201\n",
       "  var_W.y      var_SW.y     cov_SW.y     \n",
       "1 2.747843e-04 5.031010e-04 -2.747843e-04\n",
       "2 1.028121e-04 1.888612e-04 -1.028121e-04\n",
       "3 6.072233e-04 1.108458e-03 -6.072233e-04\n",
       "4 6.308640e-04 1.154138e-03 -6.308640e-04\n",
       "5 4.800229e-05 8.760360e-05 -4.800229e-05\n",
       "6 1.093845e-04 1.988404e-04 -1.093845e-04\n",
       "7 2.268888e-03 4.182830e-03 -2.268888e-03\n",
       "8 4.132188e-06 7.533281e-06 -4.132188e-06\n",
       "9 7.962574e-04 1.457804e-03 -7.962574e-04"
      ]
     },
     "metadata": {},
     "output_type": "display_data"
    }
   ],
   "source": [
    "df1_E <- bind_rows(tidy_E_SW) %>% filter(grepl(\"^week$\", term))\n",
    "df2_E <- bind_rows(tidy_E_SW) %>% filter(grepl(\"^sexboy:week$\", term))\n",
    "\n",
    "left_join(df1_E, df2_E, by = c('AA', 'effect'))"
   ]
  },
  {
   "cell_type": "code",
   "execution_count": 48,
   "metadata": {},
   "outputs": [
    {
     "data": {
      "text/html": [
       "<table>\n",
       "<thead><tr><th scope=col>effect</th><th scope=col>AA</th><th scope=col>estimate_boy</th><th scope=col>std.error_boy</th><th scope=col>estimate_girl</th></tr></thead>\n",
       "<tbody>\n",
       "\t<tr><td>fixed       </td><td>HIS         </td><td> 0.014420854</td><td>0.015110153 </td><td> 0.002612866</td></tr>\n",
       "\t<tr><td>fixed       </td><td>ILE         </td><td> 0.003577430</td><td>0.009276262 </td><td> 0.015668427</td></tr>\n",
       "\t<tr><td>fixed       </td><td>LEU         </td><td> 0.049805045</td><td>0.022388263 </td><td> 0.032661412</td></tr>\n",
       "\t<tr><td>fixed       </td><td>LYS         </td><td>-0.059594968</td><td>0.022875190 </td><td>-0.031840262</td></tr>\n",
       "\t<tr><td>fixed       </td><td>MET         </td><td> 0.004652845</td><td>0.006292958 </td><td> 0.003823882</td></tr>\n",
       "\t<tr><td>fixed       </td><td>PHE         </td><td> 0.021583876</td><td>0.009458114 </td><td> 0.021258453</td></tr>\n",
       "\t<tr><td>fixed       </td><td>THR         </td><td> 0.108454852</td><td>0.043748624 </td><td> 0.153076793</td></tr>\n",
       "\t<tr><td>fixed       </td><td>TRP         </td><td>-0.001163836</td><td>0.001844205 </td><td>-0.000413382</td></tr>\n",
       "\t<tr><td>fixed       </td><td>VAL         </td><td> 0.072332748</td><td>0.025720547 </td><td> 0.072450086</td></tr>\n",
       "</tbody>\n",
       "</table>\n"
      ],
      "text/latex": [
       "\\begin{tabular}{r|lllll}\n",
       " effect & AA & estimate\\_boy & std.error\\_boy & estimate\\_girl\\\\\n",
       "\\hline\n",
       "\t fixed        & HIS          &  0.014420854 & 0.015110153  &  0.002612866\\\\\n",
       "\t fixed        & ILE          &  0.003577430 & 0.009276262  &  0.015668427\\\\\n",
       "\t fixed        & LEU          &  0.049805045 & 0.022388263  &  0.032661412\\\\\n",
       "\t fixed        & LYS          & -0.059594968 & 0.022875190  & -0.031840262\\\\\n",
       "\t fixed        & MET          &  0.004652845 & 0.006292958  &  0.003823882\\\\\n",
       "\t fixed        & PHE          &  0.021583876 & 0.009458114  &  0.021258453\\\\\n",
       "\t fixed        & THR          &  0.108454852 & 0.043748624  &  0.153076793\\\\\n",
       "\t fixed        & TRP          & -0.001163836 & 0.001844205  & -0.000413382\\\\\n",
       "\t fixed        & VAL          &  0.072332748 & 0.025720547  &  0.072450086\\\\\n",
       "\\end{tabular}\n"
      ],
      "text/markdown": [
       "\n",
       "effect | AA | estimate_boy | std.error_boy | estimate_girl | \n",
       "|---|---|---|---|---|---|---|---|---|\n",
       "| fixed        | HIS          |  0.014420854 | 0.015110153  |  0.002612866 | \n",
       "| fixed        | ILE          |  0.003577430 | 0.009276262  |  0.015668427 | \n",
       "| fixed        | LEU          |  0.049805045 | 0.022388263  |  0.032661412 | \n",
       "| fixed        | LYS          | -0.059594968 | 0.022875190  | -0.031840262 | \n",
       "| fixed        | MET          |  0.004652845 | 0.006292958  |  0.003823882 | \n",
       "| fixed        | PHE          |  0.021583876 | 0.009458114  |  0.021258453 | \n",
       "| fixed        | THR          |  0.108454852 | 0.043748624  |  0.153076793 | \n",
       "| fixed        | TRP          | -0.001163836 | 0.001844205  | -0.000413382 | \n",
       "| fixed        | VAL          |  0.072332748 | 0.025720547  |  0.072450086 | \n",
       "\n",
       "\n"
      ],
      "text/plain": [
       "  effect AA  estimate_boy std.error_boy estimate_girl\n",
       "1 fixed  HIS  0.014420854 0.015110153    0.002612866 \n",
       "2 fixed  ILE  0.003577430 0.009276262    0.015668427 \n",
       "3 fixed  LEU  0.049805045 0.022388263    0.032661412 \n",
       "4 fixed  LYS -0.059594968 0.022875190   -0.031840262 \n",
       "5 fixed  MET  0.004652845 0.006292958    0.003823882 \n",
       "6 fixed  PHE  0.021583876 0.009458114    0.021258453 \n",
       "7 fixed  THR  0.108454852 0.043748624    0.153076793 \n",
       "8 fixed  TRP -0.001163836 0.001844205   -0.000413382 \n",
       "9 fixed  VAL  0.072332748 0.025720547    0.072450086 "
      ]
     },
     "metadata": {},
     "output_type": "display_data"
    }
   ],
   "source": [
    "df1_E <- bind_rows(tidy_E_SW) %>% filter(grepl(\"^week$\", term))\n",
    "df2_E <- bind_rows(tidy_E_SW) %>% filter(grepl(\"^sexboy:week$\", term))\n",
    "\n",
    "sexCoef_E_SW <- left_join(df1_E, df2_E, by = c('AA', 'effect')) %>% \n",
    "            mutate(estimate_girl = estimate.x,\n",
    "                   estimate_boy = estimate.x + estimate.y, \n",
    "                   std.error_boy = sqrt(var_W.x + var_SW.x + 2*cov_SW.x)) %>% \n",
    "            select(effect, AA, estimate_boy, std.error_boy, estimate_girl)\n",
    "\n",
    "sexCoef_E_SW"
   ]
  },
  {
   "cell_type": "code",
   "execution_count": 49,
   "metadata": {},
   "outputs": [
    {
     "data": {
      "text/html": [
       "<table>\n",
       "<thead><tr><th scope=col>effect</th><th scope=col>AA</th><th scope=col>estimate_boy</th><th scope=col>std.error_boy</th><th scope=col>estimate_girl</th></tr></thead>\n",
       "<tbody>\n",
       "\t<tr><td>fixed       </td><td>ARG         </td><td>-0.032405848</td><td>0.014090296 </td><td>-0.010846008</td></tr>\n",
       "\t<tr><td>fixed       </td><td>ASP         </td><td> 0.159940361</td><td>0.044341017 </td><td> 0.088414553</td></tr>\n",
       "\t<tr><td>fixed       </td><td>ALA         </td><td> 0.669325536</td><td>0.155548577 </td><td> 0.403477923</td></tr>\n",
       "\t<tr><td>fixed       </td><td>ASN         </td><td> 0.002062971</td><td>0.013834372 </td><td>-0.008616085</td></tr>\n",
       "\t<tr><td>fixed       </td><td>CYS         </td><td> 0.098553935</td><td>0.015107895 </td><td> 0.074835846</td></tr>\n",
       "\t<tr><td>fixed       </td><td>GLY         </td><td> 0.353514499</td><td>0.077920652 </td><td> 0.327704341</td></tr>\n",
       "\t<tr><td>fixed       </td><td>GLU         </td><td> 3.695463574</td><td>0.677260671 </td><td> 3.056393934</td></tr>\n",
       "\t<tr><td>fixed       </td><td>GLN         </td><td> 2.429967802</td><td>0.348495574 </td><td> 2.187116258</td></tr>\n",
       "\t<tr><td>fixed       </td><td>PRO         </td><td>-0.051868937</td><td>0.032674936 </td><td>-0.044056790</td></tr>\n",
       "\t<tr><td>fixed       </td><td>SER         </td><td> 0.422110920</td><td>0.068513836 </td><td> 0.369754547</td></tr>\n",
       "\t<tr><td>fixed       </td><td>TYR         </td><td> 0.016743548</td><td>0.009862003 </td><td> 0.008344355</td></tr>\n",
       "</tbody>\n",
       "</table>\n"
      ],
      "text/latex": [
       "\\begin{tabular}{r|lllll}\n",
       " effect & AA & estimate\\_boy & std.error\\_boy & estimate\\_girl\\\\\n",
       "\\hline\n",
       "\t fixed        & ARG          & -0.032405848 & 0.014090296  & -0.010846008\\\\\n",
       "\t fixed        & ASP          &  0.159940361 & 0.044341017  &  0.088414553\\\\\n",
       "\t fixed        & ALA          &  0.669325536 & 0.155548577  &  0.403477923\\\\\n",
       "\t fixed        & ASN          &  0.002062971 & 0.013834372  & -0.008616085\\\\\n",
       "\t fixed        & CYS          &  0.098553935 & 0.015107895  &  0.074835846\\\\\n",
       "\t fixed        & GLY          &  0.353514499 & 0.077920652  &  0.327704341\\\\\n",
       "\t fixed        & GLU          &  3.695463574 & 0.677260671  &  3.056393934\\\\\n",
       "\t fixed        & GLN          &  2.429967802 & 0.348495574  &  2.187116258\\\\\n",
       "\t fixed        & PRO          & -0.051868937 & 0.032674936  & -0.044056790\\\\\n",
       "\t fixed        & SER          &  0.422110920 & 0.068513836  &  0.369754547\\\\\n",
       "\t fixed        & TYR          &  0.016743548 & 0.009862003  &  0.008344355\\\\\n",
       "\\end{tabular}\n"
      ],
      "text/markdown": [
       "\n",
       "effect | AA | estimate_boy | std.error_boy | estimate_girl | \n",
       "|---|---|---|---|---|---|---|---|---|---|---|\n",
       "| fixed        | ARG          | -0.032405848 | 0.014090296  | -0.010846008 | \n",
       "| fixed        | ASP          |  0.159940361 | 0.044341017  |  0.088414553 | \n",
       "| fixed        | ALA          |  0.669325536 | 0.155548577  |  0.403477923 | \n",
       "| fixed        | ASN          |  0.002062971 | 0.013834372  | -0.008616085 | \n",
       "| fixed        | CYS          |  0.098553935 | 0.015107895  |  0.074835846 | \n",
       "| fixed        | GLY          |  0.353514499 | 0.077920652  |  0.327704341 | \n",
       "| fixed        | GLU          |  3.695463574 | 0.677260671  |  3.056393934 | \n",
       "| fixed        | GLN          |  2.429967802 | 0.348495574  |  2.187116258 | \n",
       "| fixed        | PRO          | -0.051868937 | 0.032674936  | -0.044056790 | \n",
       "| fixed        | SER          |  0.422110920 | 0.068513836  |  0.369754547 | \n",
       "| fixed        | TYR          |  0.016743548 | 0.009862003  |  0.008344355 | \n",
       "\n",
       "\n"
      ],
      "text/plain": [
       "   effect AA  estimate_boy std.error_boy estimate_girl\n",
       "1  fixed  ARG -0.032405848 0.014090296   -0.010846008 \n",
       "2  fixed  ASP  0.159940361 0.044341017    0.088414553 \n",
       "3  fixed  ALA  0.669325536 0.155548577    0.403477923 \n",
       "4  fixed  ASN  0.002062971 0.013834372   -0.008616085 \n",
       "5  fixed  CYS  0.098553935 0.015107895    0.074835846 \n",
       "6  fixed  GLY  0.353514499 0.077920652    0.327704341 \n",
       "7  fixed  GLU  3.695463574 0.677260671    3.056393934 \n",
       "8  fixed  GLN  2.429967802 0.348495574    2.187116258 \n",
       "9  fixed  PRO -0.051868937 0.032674936   -0.044056790 \n",
       "10 fixed  SER  0.422110920 0.068513836    0.369754547 \n",
       "11 fixed  TYR  0.016743548 0.009862003    0.008344355 "
      ]
     },
     "metadata": {},
     "output_type": "display_data"
    }
   ],
   "source": [
    "df1_NE <- bind_rows(tidy_NE_SW) %>% filter(grepl(\"^week$\", term))\n",
    "df2_NE <- bind_rows(tidy_NE_SW) %>% filter(grepl(\"^sexboy:week$\", term))\n",
    "\n",
    "sexCoef_NE_SW <- left_join(df1_NE, df2_NE, by = c('AA', 'effect')) %>% \n",
    "            mutate(estimate_girl = estimate.x,\n",
    "                   estimate_boy = estimate.x + estimate.y, \n",
    "                   std.error_boy = sqrt(var_W.x + var_SW.x + 2*cov_SW.x)) %>% \n",
    "            select(effect, AA, estimate_boy, std.error_boy, estimate_girl)\n",
    "\n",
    "sexCoef_NE_SW"
   ]
  },
  {
   "cell_type": "code",
   "execution_count": 50,
   "metadata": {},
   "outputs": [
    {
     "data": {},
     "metadata": {},
     "output_type": "display_data"
    },
    {
     "data": {
      "image/png": "[encoded data removed]",
      "text/plain": [
       "plot without title"
      ]
     },
     "metadata": {},
     "output_type": "display_data"
    }
   ],
   "source": [
    "#png(filename=\"./plots/EAA_SW_coeff.png\", units=\"cm\", width=20, height=20, res = 300)\n",
    "ggplot(sexCoef_E_SW, aes(x = AA, y = estimate_boy, color = AA)) + \n",
    "    geom_hline(yintercept = 0, alpha = 0.4) + \n",
    "    geom_point() + geom_pointrange( aes(x = AA, ymin = estimate_boy - 2*std.error_boy, ymax = estimate_boy + 2*std.error_boy)) + \n",
    "    theme(legend.position = \"none\") + \n",
    "    coord_flip() + ylab('week for boys') + \n",
    "    ggtitle('Essential AA \\n Estimate and 95% CI') \n",
    "#dev.off()"
   ]
  },
  {
   "cell_type": "code",
   "execution_count": 51,
   "metadata": {},
   "outputs": [
    {
     "data": {},
     "metadata": {},
     "output_type": "display_data"
    },
    {
     "data": {
      "image/png": "[encoded data removed]",
      "text/plain": [
       "plot without title"
      ]
     },
     "metadata": {},
     "output_type": "display_data"
    }
   ],
   "source": [
    "#png(filename=\"./plots/NEAA_SW_coeff.png\", units=\"cm\", width=20, height=20, res = 300)\n",
    "ggplot(sexCoef_NE_SW, aes(x = AA, y = estimate_boy, color = AA)) + \n",
    "    geom_hline(yintercept = 0, alpha = 0.4) + \n",
    "    geom_point() + geom_pointrange( aes(x = AA, ymin = estimate_boy - 2*std.error_boy, ymax = estimate_boy + 2*std.error_boy)) + \n",
    "    theme(legend.position = \"none\") + \n",
    "    coord_flip() + ylab(TeX('week for boys')) + \n",
    "    ggtitle('Non Essential AA \\n Estimate and 95% CI') \n",
    "#dev.off()"
   ]
  },
  {
   "cell_type": "code",
   "execution_count": 52,
   "metadata": {},
   "outputs": [
    {
     "data": {
      "text/html": [
       "<table>\n",
       "<thead><tr><th scope=col>AA</th><th scope=col>estimate.a_0</th><th scope=col>std.error.a_0</th></tr></thead>\n",
       "<tbody>\n",
       "\t<tr><td>HIS       </td><td>1.80873649</td><td>0.13971468</td></tr>\n",
       "\t<tr><td>ILE       </td><td>0.44104761</td><td>0.09369154</td></tr>\n",
       "\t<tr><td>LEU       </td><td>1.63667005</td><td>0.19551658</td></tr>\n",
       "\t<tr><td>LYS       </td><td>1.76403506</td><td>0.20801540</td></tr>\n",
       "\t<tr><td>MET       </td><td>0.08233561</td><td>0.05472538</td></tr>\n",
       "\t<tr><td>PHE       </td><td>0.69558953</td><td>0.08168510</td></tr>\n",
       "\t<tr><td>THR       </td><td>5.75930577</td><td>0.51689861</td></tr>\n",
       "\t<tr><td>TRP       </td><td>0.01492982</td><td>0.01577609</td></tr>\n",
       "\t<tr><td>VAL       </td><td>2.98515007</td><td>0.23760977</td></tr>\n",
       "</tbody>\n",
       "</table>\n"
      ],
      "text/latex": [
       "\\begin{tabular}{r|lll}\n",
       " AA & estimate.a\\_0 & std.error.a\\_0\\\\\n",
       "\\hline\n",
       "\t HIS        & 1.80873649 & 0.13971468\\\\\n",
       "\t ILE        & 0.44104761 & 0.09369154\\\\\n",
       "\t LEU        & 1.63667005 & 0.19551658\\\\\n",
       "\t LYS        & 1.76403506 & 0.20801540\\\\\n",
       "\t MET        & 0.08233561 & 0.05472538\\\\\n",
       "\t PHE        & 0.69558953 & 0.08168510\\\\\n",
       "\t THR        & 5.75930577 & 0.51689861\\\\\n",
       "\t TRP        & 0.01492982 & 0.01577609\\\\\n",
       "\t VAL        & 2.98515007 & 0.23760977\\\\\n",
       "\\end{tabular}\n"
      ],
      "text/markdown": [
       "\n",
       "AA | estimate.a_0 | std.error.a_0 | \n",
       "|---|---|---|---|---|---|---|---|---|\n",
       "| HIS        | 1.80873649 | 0.13971468 | \n",
       "| ILE        | 0.44104761 | 0.09369154 | \n",
       "| LEU        | 1.63667005 | 0.19551658 | \n",
       "| LYS        | 1.76403506 | 0.20801540 | \n",
       "| MET        | 0.08233561 | 0.05472538 | \n",
       "| PHE        | 0.69558953 | 0.08168510 | \n",
       "| THR        | 5.75930577 | 0.51689861 | \n",
       "| TRP        | 0.01492982 | 0.01577609 | \n",
       "| VAL        | 2.98515007 | 0.23760977 | \n",
       "\n",
       "\n"
      ],
      "text/plain": [
       "  AA  estimate.a_0 std.error.a_0\n",
       "1 HIS 1.80873649   0.13971468   \n",
       "2 ILE 0.44104761   0.09369154   \n",
       "3 LEU 1.63667005   0.19551658   \n",
       "4 LYS 1.76403506   0.20801540   \n",
       "5 MET 0.08233561   0.05472538   \n",
       "6 PHE 0.69558953   0.08168510   \n",
       "7 THR 5.75930577   0.51689861   \n",
       "8 TRP 0.01492982   0.01577609   \n",
       "9 VAL 2.98515007   0.23760977   "
      ]
     },
     "metadata": {},
     "output_type": "display_data"
    },
    {
     "data": {
      "text/html": [
       "<table>\n",
       "<thead><tr><th scope=col>AA</th><th scope=col>estimate.a_0</th><th scope=col>std.error.a_0</th></tr></thead>\n",
       "<tbody>\n",
       "\t<tr><td>ARG       </td><td> 1.1683106</td><td>0.13782134</td></tr>\n",
       "\t<tr><td>ASP       </td><td> 3.1176259</td><td>0.43805579</td></tr>\n",
       "\t<tr><td>ALA       </td><td>16.3290953</td><td>1.52629570</td></tr>\n",
       "\t<tr><td>ASN       </td><td> 0.6397583</td><td>0.12254220</td></tr>\n",
       "\t<tr><td>CYS       </td><td> 0.8555460</td><td>0.14980618</td></tr>\n",
       "\t<tr><td>GLY       </td><td> 6.6789461</td><td>0.74393501</td></tr>\n",
       "\t<tr><td>GLU       </td><td>62.0894968</td><td>6.27197008</td></tr>\n",
       "\t<tr><td>GLN       </td><td>21.6839891</td><td>3.27898888</td></tr>\n",
       "\t<tr><td>PRO       </td><td> 3.0518183</td><td>0.31543060</td></tr>\n",
       "\t<tr><td>SER       </td><td> 6.0760260</td><td>0.65726590</td></tr>\n",
       "\t<tr><td>TYR       </td><td> 0.7428239</td><td>0.09902662</td></tr>\n",
       "</tbody>\n",
       "</table>\n"
      ],
      "text/latex": [
       "\\begin{tabular}{r|lll}\n",
       " AA & estimate.a\\_0 & std.error.a\\_0\\\\\n",
       "\\hline\n",
       "\t ARG        &  1.1683106 & 0.13782134\\\\\n",
       "\t ASP        &  3.1176259 & 0.43805579\\\\\n",
       "\t ALA        & 16.3290953 & 1.52629570\\\\\n",
       "\t ASN        &  0.6397583 & 0.12254220\\\\\n",
       "\t CYS        &  0.8555460 & 0.14980618\\\\\n",
       "\t GLY        &  6.6789461 & 0.74393501\\\\\n",
       "\t GLU        & 62.0894968 & 6.27197008\\\\\n",
       "\t GLN        & 21.6839891 & 3.27898888\\\\\n",
       "\t PRO        &  3.0518183 & 0.31543060\\\\\n",
       "\t SER        &  6.0760260 & 0.65726590\\\\\n",
       "\t TYR        &  0.7428239 & 0.09902662\\\\\n",
       "\\end{tabular}\n"
      ],
      "text/markdown": [
       "\n",
       "AA | estimate.a_0 | std.error.a_0 | \n",
       "|---|---|---|---|---|---|---|---|---|---|---|\n",
       "| ARG        |  1.1683106 | 0.13782134 | \n",
       "| ASP        |  3.1176259 | 0.43805579 | \n",
       "| ALA        | 16.3290953 | 1.52629570 | \n",
       "| ASN        |  0.6397583 | 0.12254220 | \n",
       "| CYS        |  0.8555460 | 0.14980618 | \n",
       "| GLY        |  6.6789461 | 0.74393501 | \n",
       "| GLU        | 62.0894968 | 6.27197008 | \n",
       "| GLN        | 21.6839891 | 3.27898888 | \n",
       "| PRO        |  3.0518183 | 0.31543060 | \n",
       "| SER        |  6.0760260 | 0.65726590 | \n",
       "| TYR        |  0.7428239 | 0.09902662 | \n",
       "\n",
       "\n"
      ],
      "text/plain": [
       "   AA  estimate.a_0 std.error.a_0\n",
       "1  ARG  1.1683106   0.13782134   \n",
       "2  ASP  3.1176259   0.43805579   \n",
       "3  ALA 16.3290953   1.52629570   \n",
       "4  ASN  0.6397583   0.12254220   \n",
       "5  CYS  0.8555460   0.14980618   \n",
       "6  GLY  6.6789461   0.74393501   \n",
       "7  GLU 62.0894968   6.27197008   \n",
       "8  GLN 21.6839891   3.27898888   \n",
       "9  PRO  3.0518183   0.31543060   \n",
       "10 SER  6.0760260   0.65726590   \n",
       "11 TYR  0.7428239   0.09902662   "
      ]
     },
     "metadata": {},
     "output_type": "display_data"
    }
   ],
   "source": [
    "a_0_E <- bind_rows(tidy_E_SW) %>% filter(grepl(\"(Intercept)\", term)) %>% \n",
    "                select(AA, estimate.a_0 = estimate, std.error.a_0 = std.error)\n",
    "a_0_NE <- bind_rows(tidy_NE_SW) %>% filter(grepl(\"(Intercept)\", term)) %>% \n",
    "                select(AA, estimate.a_0 = estimate, std.error.a_0 = std.error)\n",
    "\n",
    "a_0_E \n",
    "a_0_NE "
   ]
  },
  {
   "cell_type": "code",
   "execution_count": 53,
   "metadata": {},
   "outputs": [
    {
     "data": {
      "text/html": [
       "<table>\n",
       "<thead><tr><th scope=col>AA</th><th scope=col>estimate.a_0</th><th scope=col>sex</th><th scope=col>estimate</th></tr></thead>\n",
       "<tbody>\n",
       "\t<tr><td>HIS          </td><td>1.80873649   </td><td>estimate_boy </td><td> 0.014420854 </td></tr>\n",
       "\t<tr><td>ILE          </td><td>0.44104761   </td><td>estimate_boy </td><td> 0.003577430 </td></tr>\n",
       "\t<tr><td>LEU          </td><td>1.63667005   </td><td>estimate_boy </td><td> 0.049805045 </td></tr>\n",
       "\t<tr><td>LYS          </td><td>1.76403506   </td><td>estimate_boy </td><td>-0.059594968 </td></tr>\n",
       "\t<tr><td>MET          </td><td>0.08233561   </td><td>estimate_boy </td><td> 0.004652845 </td></tr>\n",
       "\t<tr><td>PHE          </td><td>0.69558953   </td><td>estimate_boy </td><td> 0.021583876 </td></tr>\n",
       "\t<tr><td>THR          </td><td>5.75930577   </td><td>estimate_boy </td><td> 0.108454852 </td></tr>\n",
       "\t<tr><td>TRP          </td><td>0.01492982   </td><td>estimate_boy </td><td>-0.001163836 </td></tr>\n",
       "\t<tr><td>VAL          </td><td>2.98515007   </td><td>estimate_boy </td><td> 0.072332748 </td></tr>\n",
       "\t<tr><td>HIS          </td><td>1.80873649   </td><td>estimate_girl</td><td> 0.002612866 </td></tr>\n",
       "\t<tr><td>ILE          </td><td>0.44104761   </td><td>estimate_girl</td><td> 0.015668427 </td></tr>\n",
       "\t<tr><td>LEU          </td><td>1.63667005   </td><td>estimate_girl</td><td> 0.032661412 </td></tr>\n",
       "\t<tr><td>LYS          </td><td>1.76403506   </td><td>estimate_girl</td><td>-0.031840262 </td></tr>\n",
       "\t<tr><td>MET          </td><td>0.08233561   </td><td>estimate_girl</td><td> 0.003823882 </td></tr>\n",
       "\t<tr><td>PHE          </td><td>0.69558953   </td><td>estimate_girl</td><td> 0.021258453 </td></tr>\n",
       "\t<tr><td>THR          </td><td>5.75930577   </td><td>estimate_girl</td><td> 0.153076793 </td></tr>\n",
       "\t<tr><td>TRP          </td><td>0.01492982   </td><td>estimate_girl</td><td>-0.000413382 </td></tr>\n",
       "\t<tr><td>VAL          </td><td>2.98515007   </td><td>estimate_girl</td><td> 0.072450086 </td></tr>\n",
       "</tbody>\n",
       "</table>\n"
      ],
      "text/latex": [
       "\\begin{tabular}{r|llll}\n",
       " AA & estimate.a\\_0 & sex & estimate\\\\\n",
       "\\hline\n",
       "\t HIS             & 1.80873649      & estimate\\_boy  &  0.014420854   \\\\\n",
       "\t ILE             & 0.44104761      & estimate\\_boy  &  0.003577430   \\\\\n",
       "\t LEU             & 1.63667005      & estimate\\_boy  &  0.049805045   \\\\\n",
       "\t LYS             & 1.76403506      & estimate\\_boy  & -0.059594968   \\\\\n",
       "\t MET             & 0.08233561      & estimate\\_boy  &  0.004652845   \\\\\n",
       "\t PHE             & 0.69558953      & estimate\\_boy  &  0.021583876   \\\\\n",
       "\t THR             & 5.75930577      & estimate\\_boy  &  0.108454852   \\\\\n",
       "\t TRP             & 0.01492982      & estimate\\_boy  & -0.001163836   \\\\\n",
       "\t VAL             & 2.98515007      & estimate\\_boy  &  0.072332748   \\\\\n",
       "\t HIS             & 1.80873649      & estimate\\_girl &  0.002612866   \\\\\n",
       "\t ILE             & 0.44104761      & estimate\\_girl &  0.015668427   \\\\\n",
       "\t LEU             & 1.63667005      & estimate\\_girl &  0.032661412   \\\\\n",
       "\t LYS             & 1.76403506      & estimate\\_girl & -0.031840262   \\\\\n",
       "\t MET             & 0.08233561      & estimate\\_girl &  0.003823882   \\\\\n",
       "\t PHE             & 0.69558953      & estimate\\_girl &  0.021258453   \\\\\n",
       "\t THR             & 5.75930577      & estimate\\_girl &  0.153076793   \\\\\n",
       "\t TRP             & 0.01492982      & estimate\\_girl & -0.000413382   \\\\\n",
       "\t VAL             & 2.98515007      & estimate\\_girl &  0.072450086   \\\\\n",
       "\\end{tabular}\n"
      ],
      "text/markdown": [
       "\n",
       "AA | estimate.a_0 | sex | estimate | \n",
       "|---|---|---|---|---|---|---|---|---|---|---|---|---|---|---|---|---|---|\n",
       "| HIS           | 1.80873649    | estimate_boy  |  0.014420854  | \n",
       "| ILE           | 0.44104761    | estimate_boy  |  0.003577430  | \n",
       "| LEU           | 1.63667005    | estimate_boy  |  0.049805045  | \n",
       "| LYS           | 1.76403506    | estimate_boy  | -0.059594968  | \n",
       "| MET           | 0.08233561    | estimate_boy  |  0.004652845  | \n",
       "| PHE           | 0.69558953    | estimate_boy  |  0.021583876  | \n",
       "| THR           | 5.75930577    | estimate_boy  |  0.108454852  | \n",
       "| TRP           | 0.01492982    | estimate_boy  | -0.001163836  | \n",
       "| VAL           | 2.98515007    | estimate_boy  |  0.072332748  | \n",
       "| HIS           | 1.80873649    | estimate_girl |  0.002612866  | \n",
       "| ILE           | 0.44104761    | estimate_girl |  0.015668427  | \n",
       "| LEU           | 1.63667005    | estimate_girl |  0.032661412  | \n",
       "| LYS           | 1.76403506    | estimate_girl | -0.031840262  | \n",
       "| MET           | 0.08233561    | estimate_girl |  0.003823882  | \n",
       "| PHE           | 0.69558953    | estimate_girl |  0.021258453  | \n",
       "| THR           | 5.75930577    | estimate_girl |  0.153076793  | \n",
       "| TRP           | 0.01492982    | estimate_girl | -0.000413382  | \n",
       "| VAL           | 2.98515007    | estimate_girl |  0.072450086  | \n",
       "\n",
       "\n"
      ],
      "text/plain": [
       "   AA  estimate.a_0 sex           estimate    \n",
       "1  HIS 1.80873649   estimate_boy   0.014420854\n",
       "2  ILE 0.44104761   estimate_boy   0.003577430\n",
       "3  LEU 1.63667005   estimate_boy   0.049805045\n",
       "4  LYS 1.76403506   estimate_boy  -0.059594968\n",
       "5  MET 0.08233561   estimate_boy   0.004652845\n",
       "6  PHE 0.69558953   estimate_boy   0.021583876\n",
       "7  THR 5.75930577   estimate_boy   0.108454852\n",
       "8  TRP 0.01492982   estimate_boy  -0.001163836\n",
       "9  VAL 2.98515007   estimate_boy   0.072332748\n",
       "10 HIS 1.80873649   estimate_girl  0.002612866\n",
       "11 ILE 0.44104761   estimate_girl  0.015668427\n",
       "12 LEU 1.63667005   estimate_girl  0.032661412\n",
       "13 LYS 1.76403506   estimate_girl -0.031840262\n",
       "14 MET 0.08233561   estimate_girl  0.003823882\n",
       "15 PHE 0.69558953   estimate_girl  0.021258453\n",
       "16 THR 5.75930577   estimate_girl  0.153076793\n",
       "17 TRP 0.01492982   estimate_girl -0.000413382\n",
       "18 VAL 2.98515007   estimate_girl  0.072450086"
      ]
     },
     "metadata": {},
     "output_type": "display_data"
    },
    {
     "data": {
      "text/html": [
       "<table>\n",
       "<thead><tr><th scope=col>AA</th><th scope=col>estimate.a_0</th><th scope=col>sex</th><th scope=col>estimate</th></tr></thead>\n",
       "<tbody>\n",
       "\t<tr><td>ARG          </td><td> 1.1683106   </td><td>estimate_boy </td><td>-0.032405848 </td></tr>\n",
       "\t<tr><td>ASP          </td><td> 3.1176259   </td><td>estimate_boy </td><td> 0.159940361 </td></tr>\n",
       "\t<tr><td>ALA          </td><td>16.3290953   </td><td>estimate_boy </td><td> 0.669325536 </td></tr>\n",
       "\t<tr><td>ASN          </td><td> 0.6397583   </td><td>estimate_boy </td><td> 0.002062971 </td></tr>\n",
       "\t<tr><td>CYS          </td><td> 0.8555460   </td><td>estimate_boy </td><td> 0.098553935 </td></tr>\n",
       "\t<tr><td>GLY          </td><td> 6.6789461   </td><td>estimate_boy </td><td> 0.353514499 </td></tr>\n",
       "\t<tr><td>GLU          </td><td>62.0894968   </td><td>estimate_boy </td><td> 3.695463574 </td></tr>\n",
       "\t<tr><td>GLN          </td><td>21.6839891   </td><td>estimate_boy </td><td> 2.429967802 </td></tr>\n",
       "\t<tr><td>PRO          </td><td> 3.0518183   </td><td>estimate_boy </td><td>-0.051868937 </td></tr>\n",
       "\t<tr><td>SER          </td><td> 6.0760260   </td><td>estimate_boy </td><td> 0.422110920 </td></tr>\n",
       "\t<tr><td>TYR          </td><td> 0.7428239   </td><td>estimate_boy </td><td> 0.016743548 </td></tr>\n",
       "\t<tr><td>ARG          </td><td> 1.1683106   </td><td>estimate_girl</td><td>-0.010846008 </td></tr>\n",
       "\t<tr><td>ASP          </td><td> 3.1176259   </td><td>estimate_girl</td><td> 0.088414553 </td></tr>\n",
       "\t<tr><td>ALA          </td><td>16.3290953   </td><td>estimate_girl</td><td> 0.403477923 </td></tr>\n",
       "\t<tr><td>ASN          </td><td> 0.6397583   </td><td>estimate_girl</td><td>-0.008616085 </td></tr>\n",
       "\t<tr><td>CYS          </td><td> 0.8555460   </td><td>estimate_girl</td><td> 0.074835846 </td></tr>\n",
       "\t<tr><td>GLY          </td><td> 6.6789461   </td><td>estimate_girl</td><td> 0.327704341 </td></tr>\n",
       "\t<tr><td>GLU          </td><td>62.0894968   </td><td>estimate_girl</td><td> 3.056393934 </td></tr>\n",
       "\t<tr><td>GLN          </td><td>21.6839891   </td><td>estimate_girl</td><td> 2.187116258 </td></tr>\n",
       "\t<tr><td>PRO          </td><td> 3.0518183   </td><td>estimate_girl</td><td>-0.044056790 </td></tr>\n",
       "\t<tr><td>SER          </td><td> 6.0760260   </td><td>estimate_girl</td><td> 0.369754547 </td></tr>\n",
       "\t<tr><td>TYR          </td><td> 0.7428239   </td><td>estimate_girl</td><td> 0.008344355 </td></tr>\n",
       "</tbody>\n",
       "</table>\n"
      ],
      "text/latex": [
       "\\begin{tabular}{r|llll}\n",
       " AA & estimate.a\\_0 & sex & estimate\\\\\n",
       "\\hline\n",
       "\t ARG             &  1.1683106      & estimate\\_boy  & -0.032405848   \\\\\n",
       "\t ASP             &  3.1176259      & estimate\\_boy  &  0.159940361   \\\\\n",
       "\t ALA             & 16.3290953      & estimate\\_boy  &  0.669325536   \\\\\n",
       "\t ASN             &  0.6397583      & estimate\\_boy  &  0.002062971   \\\\\n",
       "\t CYS             &  0.8555460      & estimate\\_boy  &  0.098553935   \\\\\n",
       "\t GLY             &  6.6789461      & estimate\\_boy  &  0.353514499   \\\\\n",
       "\t GLU             & 62.0894968      & estimate\\_boy  &  3.695463574   \\\\\n",
       "\t GLN             & 21.6839891      & estimate\\_boy  &  2.429967802   \\\\\n",
       "\t PRO             &  3.0518183      & estimate\\_boy  & -0.051868937   \\\\\n",
       "\t SER             &  6.0760260      & estimate\\_boy  &  0.422110920   \\\\\n",
       "\t TYR             &  0.7428239      & estimate\\_boy  &  0.016743548   \\\\\n",
       "\t ARG             &  1.1683106      & estimate\\_girl & -0.010846008   \\\\\n",
       "\t ASP             &  3.1176259      & estimate\\_girl &  0.088414553   \\\\\n",
       "\t ALA             & 16.3290953      & estimate\\_girl &  0.403477923   \\\\\n",
       "\t ASN             &  0.6397583      & estimate\\_girl & -0.008616085   \\\\\n",
       "\t CYS             &  0.8555460      & estimate\\_girl &  0.074835846   \\\\\n",
       "\t GLY             &  6.6789461      & estimate\\_girl &  0.327704341   \\\\\n",
       "\t GLU             & 62.0894968      & estimate\\_girl &  3.056393934   \\\\\n",
       "\t GLN             & 21.6839891      & estimate\\_girl &  2.187116258   \\\\\n",
       "\t PRO             &  3.0518183      & estimate\\_girl & -0.044056790   \\\\\n",
       "\t SER             &  6.0760260      & estimate\\_girl &  0.369754547   \\\\\n",
       "\t TYR             &  0.7428239      & estimate\\_girl &  0.008344355   \\\\\n",
       "\\end{tabular}\n"
      ],
      "text/markdown": [
       "\n",
       "AA | estimate.a_0 | sex | estimate | \n",
       "|---|---|---|---|---|---|---|---|---|---|---|---|---|---|---|---|---|---|---|---|---|---|\n",
       "| ARG           |  1.1683106    | estimate_boy  | -0.032405848  | \n",
       "| ASP           |  3.1176259    | estimate_boy  |  0.159940361  | \n",
       "| ALA           | 16.3290953    | estimate_boy  |  0.669325536  | \n",
       "| ASN           |  0.6397583    | estimate_boy  |  0.002062971  | \n",
       "| CYS           |  0.8555460    | estimate_boy  |  0.098553935  | \n",
       "| GLY           |  6.6789461    | estimate_boy  |  0.353514499  | \n",
       "| GLU           | 62.0894968    | estimate_boy  |  3.695463574  | \n",
       "| GLN           | 21.6839891    | estimate_boy  |  2.429967802  | \n",
       "| PRO           |  3.0518183    | estimate_boy  | -0.051868937  | \n",
       "| SER           |  6.0760260    | estimate_boy  |  0.422110920  | \n",
       "| TYR           |  0.7428239    | estimate_boy  |  0.016743548  | \n",
       "| ARG           |  1.1683106    | estimate_girl | -0.010846008  | \n",
       "| ASP           |  3.1176259    | estimate_girl |  0.088414553  | \n",
       "| ALA           | 16.3290953    | estimate_girl |  0.403477923  | \n",
       "| ASN           |  0.6397583    | estimate_girl | -0.008616085  | \n",
       "| CYS           |  0.8555460    | estimate_girl |  0.074835846  | \n",
       "| GLY           |  6.6789461    | estimate_girl |  0.327704341  | \n",
       "| GLU           | 62.0894968    | estimate_girl |  3.056393934  | \n",
       "| GLN           | 21.6839891    | estimate_girl |  2.187116258  | \n",
       "| PRO           |  3.0518183    | estimate_girl | -0.044056790  | \n",
       "| SER           |  6.0760260    | estimate_girl |  0.369754547  | \n",
       "| TYR           |  0.7428239    | estimate_girl |  0.008344355  | \n",
       "\n",
       "\n"
      ],
      "text/plain": [
       "   AA  estimate.a_0 sex           estimate    \n",
       "1  ARG  1.1683106   estimate_boy  -0.032405848\n",
       "2  ASP  3.1176259   estimate_boy   0.159940361\n",
       "3  ALA 16.3290953   estimate_boy   0.669325536\n",
       "4  ASN  0.6397583   estimate_boy   0.002062971\n",
       "5  CYS  0.8555460   estimate_boy   0.098553935\n",
       "6  GLY  6.6789461   estimate_boy   0.353514499\n",
       "7  GLU 62.0894968   estimate_boy   3.695463574\n",
       "8  GLN 21.6839891   estimate_boy   2.429967802\n",
       "9  PRO  3.0518183   estimate_boy  -0.051868937\n",
       "10 SER  6.0760260   estimate_boy   0.422110920\n",
       "11 TYR  0.7428239   estimate_boy   0.016743548\n",
       "12 ARG  1.1683106   estimate_girl -0.010846008\n",
       "13 ASP  3.1176259   estimate_girl  0.088414553\n",
       "14 ALA 16.3290953   estimate_girl  0.403477923\n",
       "15 ASN  0.6397583   estimate_girl -0.008616085\n",
       "16 CYS  0.8555460   estimate_girl  0.074835846\n",
       "17 GLY  6.6789461   estimate_girl  0.327704341\n",
       "18 GLU 62.0894968   estimate_girl  3.056393934\n",
       "19 GLN 21.6839891   estimate_girl  2.187116258\n",
       "20 PRO  3.0518183   estimate_girl -0.044056790\n",
       "21 SER  6.0760260   estimate_girl  0.369754547\n",
       "22 TYR  0.7428239   estimate_girl  0.008344355"
      ]
     },
     "metadata": {},
     "output_type": "display_data"
    }
   ],
   "source": [
    "ablines_E_SW <- left_join(sexCoef_E_SW, a_0_E, by = 'AA') %>% select(AA, estimate_boy, estimate_girl, estimate.a_0)\n",
    "ablines_NE_SW <- left_join(sexCoef_NE_SW, a_0_NE, by = 'AA') %>% select(AA, estimate_boy, estimate_girl, estimate.a_0)\n",
    "\n",
    "ablines_E_SW <- ablines_E_SW %>% gather(sex, estimate, 2:3)\n",
    "ablines_NE_SW <- ablines_NE_SW %>% gather(sex, estimate, 2:3)\n",
    "\n",
    "ablines_E_SW\n",
    "ablines_NE_SW"
   ]
  },
  {
   "cell_type": "code",
   "execution_count": 54,
   "metadata": {},
   "outputs": [
    {
     "data": {},
     "metadata": {},
     "output_type": "display_data"
    },
    {
     "data": {
      "image/png": "[encoded data removed]",
      "text/plain": [
       "plot without title"
      ]
     },
     "metadata": {},
     "output_type": "display_data"
    }
   ],
   "source": [
    "#png(filename=\"./plots/E_SW_trends.png\", units=\"cm\", width=20, height=20, res = 300)\n",
    "ggplot() + \n",
    "    scale_x_continuous(limits=c(0, 16)) +\n",
    "    scale_y_continuous(limits=c(0, 10)) + \n",
    "    geom_abline(data=ablines_E_SW, size = 1.1, alpha = 0.5,\n",
    "                aes(slope = estimate, intercept = estimate.a_0, color = AA, linetype=sex)) + \n",
    "    facet_wrap(~AA)\n",
    "\n",
    "#dev.off()"
   ]
  },
  {
   "cell_type": "code",
   "execution_count": 55,
   "metadata": {},
   "outputs": [
    {
     "data": {},
     "metadata": {},
     "output_type": "display_data"
    },
    {
     "data": {
      "image/png": "[encoded data removed]",
      "text/plain": [
       "plot without title"
      ]
     },
     "metadata": {},
     "output_type": "display_data"
    }
   ],
   "source": [
    "#png(filename=\"./plots/NE_SW_trends.png\", units=\"cm\", width=20, height=20, res = 300)\n",
    "ggplot() + \n",
    "    scale_x_continuous(limits=c(0, 16)) +\n",
    "    scale_y_continuous(limits=c(0, 150)) + \n",
    "    geom_abline(data=ablines_NE_SW, size = 1.1, alpha = 0.5,\n",
    "                aes(slope = estimate, intercept = estimate.a_0, color = AA, linetype=sex)) + \n",
    "    facet_wrap(~AA)\n",
    "\n",
    "#dev.off()"
   ]
  },
  {
   "cell_type": "code",
   "execution_count": 56,
   "metadata": {},
   "outputs": [
    {
     "data": {
      "text/html": [
       "<table>\n",
       "<thead><tr><th scope=col>effect</th><th scope=col>term</th><th scope=col>estimate</th><th scope=col>std.error</th><th scope=col>statistic</th><th scope=col>AA</th></tr></thead>\n",
       "<tbody>\n",
       "\t<tr><td>fixed        </td><td>sexboy       </td><td> 0.1224404751</td><td>0.18393770   </td><td> 0.665662740 </td><td>HIS          </td></tr>\n",
       "\t<tr><td>fixed        </td><td>sexboy       </td><td> 0.1456437249</td><td>0.12336780   </td><td> 1.180565121 </td><td>ILE          </td></tr>\n",
       "\t<tr><td>fixed        </td><td>sexboy       </td><td>-0.0440058796</td><td>0.25738046   </td><td>-0.170975995 </td><td>LEU          </td></tr>\n",
       "\t<tr><td>fixed        </td><td>sexboy       </td><td> 0.3084915430</td><td>0.27384991   </td><td> 1.126498620 </td><td>LYS          </td></tr>\n",
       "\t<tr><td>fixed        </td><td>sexboy       </td><td> 0.0575107102</td><td>0.07204078   </td><td> 0.798307764 </td><td>MET          </td></tr>\n",
       "\t<tr><td>fixed        </td><td>sexboy       </td><td> 0.1157102612</td><td>0.10709738   </td><td> 1.080421051 </td><td>PHE          </td></tr>\n",
       "\t<tr><td>fixed        </td><td>sexboy       </td><td>-0.4833866429</td><td>0.68087874   </td><td>-0.709945272 </td><td>THR          </td></tr>\n",
       "\t<tr><td>fixed        </td><td>sexboy       </td><td> 0.0001471507</td><td>0.02076730   </td><td> 0.007085695 </td><td>TRP          </td></tr>\n",
       "\t<tr><td>fixed        </td><td>sexboy       </td><td> 0.2608674979</td><td>0.31281845   </td><td> 0.833926192 </td><td>VAL          </td></tr>\n",
       "</tbody>\n",
       "</table>\n"
      ],
      "text/latex": [
       "\\begin{tabular}{r|llllll}\n",
       " effect & term & estimate & std.error & statistic & AA\\\\\n",
       "\\hline\n",
       "\t fixed         & sexboy        &  0.1224404751 & 0.18393770    &  0.665662740  & HIS          \\\\\n",
       "\t fixed         & sexboy        &  0.1456437249 & 0.12336780    &  1.180565121  & ILE          \\\\\n",
       "\t fixed         & sexboy        & -0.0440058796 & 0.25738046    & -0.170975995  & LEU          \\\\\n",
       "\t fixed         & sexboy        &  0.3084915430 & 0.27384991    &  1.126498620  & LYS          \\\\\n",
       "\t fixed         & sexboy        &  0.0575107102 & 0.07204078    &  0.798307764  & MET          \\\\\n",
       "\t fixed         & sexboy        &  0.1157102612 & 0.10709738    &  1.080421051  & PHE          \\\\\n",
       "\t fixed         & sexboy        & -0.4833866429 & 0.68087874    & -0.709945272  & THR          \\\\\n",
       "\t fixed         & sexboy        &  0.0001471507 & 0.02076730    &  0.007085695  & TRP          \\\\\n",
       "\t fixed         & sexboy        &  0.2608674979 & 0.31281845    &  0.833926192  & VAL          \\\\\n",
       "\\end{tabular}\n"
      ],
      "text/markdown": [
       "\n",
       "effect | term | estimate | std.error | statistic | AA | \n",
       "|---|---|---|---|---|---|---|---|---|\n",
       "| fixed         | sexboy        |  0.1224404751 | 0.18393770    |  0.665662740  | HIS           | \n",
       "| fixed         | sexboy        |  0.1456437249 | 0.12336780    |  1.180565121  | ILE           | \n",
       "| fixed         | sexboy        | -0.0440058796 | 0.25738046    | -0.170975995  | LEU           | \n",
       "| fixed         | sexboy        |  0.3084915430 | 0.27384991    |  1.126498620  | LYS           | \n",
       "| fixed         | sexboy        |  0.0575107102 | 0.07204078    |  0.798307764  | MET           | \n",
       "| fixed         | sexboy        |  0.1157102612 | 0.10709738    |  1.080421051  | PHE           | \n",
       "| fixed         | sexboy        | -0.4833866429 | 0.68087874    | -0.709945272  | THR           | \n",
       "| fixed         | sexboy        |  0.0001471507 | 0.02076730    |  0.007085695  | TRP           | \n",
       "| fixed         | sexboy        |  0.2608674979 | 0.31281845    |  0.833926192  | VAL           | \n",
       "\n",
       "\n"
      ],
      "text/plain": [
       "  effect term   estimate      std.error  statistic    AA \n",
       "1 fixed  sexboy  0.1224404751 0.18393770  0.665662740 HIS\n",
       "2 fixed  sexboy  0.1456437249 0.12336780  1.180565121 ILE\n",
       "3 fixed  sexboy -0.0440058796 0.25738046 -0.170975995 LEU\n",
       "4 fixed  sexboy  0.3084915430 0.27384991  1.126498620 LYS\n",
       "5 fixed  sexboy  0.0575107102 0.07204078  0.798307764 MET\n",
       "6 fixed  sexboy  0.1157102612 0.10709738  1.080421051 PHE\n",
       "7 fixed  sexboy -0.4833866429 0.68087874 -0.709945272 THR\n",
       "8 fixed  sexboy  0.0001471507 0.02076730  0.007085695 TRP\n",
       "9 fixed  sexboy  0.2608674979 0.31281845  0.833926192 VAL"
      ]
     },
     "metadata": {},
     "output_type": "display_data"
    },
    {
     "data": {
      "text/html": [
       "<table>\n",
       "<thead><tr><th scope=col>effect</th><th scope=col>term</th><th scope=col>estimate</th><th scope=col>std.error</th><th scope=col>statistic</th><th scope=col>AA</th></tr></thead>\n",
       "<tbody>\n",
       "\t<tr><td>fixed     </td><td>sexboy    </td><td> 0.2421029</td><td>0.1814636 </td><td> 1.3341684</td><td>ARG       </td></tr>\n",
       "\t<tr><td>fixed     </td><td>sexboy    </td><td> 0.2135958</td><td>0.5767811 </td><td> 0.3703239</td><td>ASP       </td></tr>\n",
       "\t<tr><td>fixed     </td><td>sexboy    </td><td> 0.3833635</td><td>2.0096219 </td><td> 0.1907640</td><td>ALA       </td></tr>\n",
       "\t<tr><td>fixed     </td><td>sexboy    </td><td>-0.1365131</td><td>0.1613192 </td><td>-0.8462300</td><td>ASN       </td></tr>\n",
       "\t<tr><td>fixed     </td><td>sexboy    </td><td> 0.2533538</td><td>0.1972489 </td><td> 1.2844371</td><td>CYS       </td></tr>\n",
       "\t<tr><td>fixed     </td><td>sexboy    </td><td> 1.7104382</td><td>0.9794628 </td><td> 1.7463024</td><td>GLY       </td></tr>\n",
       "\t<tr><td>fixed     </td><td>sexboy    </td><td>11.3579209</td><td>8.2572190 </td><td> 1.3755141</td><td>GLU       </td></tr>\n",
       "\t<tr><td>fixed     </td><td>sexboy    </td><td> 2.0389724</td><td>4.3169949 </td><td> 0.4723129</td><td>GLN       </td></tr>\n",
       "\t<tr><td>fixed     </td><td>sexboy    </td><td> 0.4194294</td><td>0.4153037 </td><td> 1.0099344</td><td>PRO       </td></tr>\n",
       "\t<tr><td>fixed     </td><td>sexboy    </td><td> 0.9994842</td><td>0.8653622 </td><td> 1.1549895</td><td>SER       </td></tr>\n",
       "\t<tr><td>fixed     </td><td>sexboy    </td><td> 0.1975134</td><td>0.1303911 </td><td> 1.5147762</td><td>TYR       </td></tr>\n",
       "</tbody>\n",
       "</table>\n"
      ],
      "text/latex": [
       "\\begin{tabular}{r|llllll}\n",
       " effect & term & estimate & std.error & statistic & AA\\\\\n",
       "\\hline\n",
       "\t fixed      & sexboy     &  0.2421029 & 0.1814636  &  1.3341684 & ARG       \\\\\n",
       "\t fixed      & sexboy     &  0.2135958 & 0.5767811  &  0.3703239 & ASP       \\\\\n",
       "\t fixed      & sexboy     &  0.3833635 & 2.0096219  &  0.1907640 & ALA       \\\\\n",
       "\t fixed      & sexboy     & -0.1365131 & 0.1613192  & -0.8462300 & ASN       \\\\\n",
       "\t fixed      & sexboy     &  0.2533538 & 0.1972489  &  1.2844371 & CYS       \\\\\n",
       "\t fixed      & sexboy     &  1.7104382 & 0.9794628  &  1.7463024 & GLY       \\\\\n",
       "\t fixed      & sexboy     & 11.3579209 & 8.2572190  &  1.3755141 & GLU       \\\\\n",
       "\t fixed      & sexboy     &  2.0389724 & 4.3169949  &  0.4723129 & GLN       \\\\\n",
       "\t fixed      & sexboy     &  0.4194294 & 0.4153037  &  1.0099344 & PRO       \\\\\n",
       "\t fixed      & sexboy     &  0.9994842 & 0.8653622  &  1.1549895 & SER       \\\\\n",
       "\t fixed      & sexboy     &  0.1975134 & 0.1303911  &  1.5147762 & TYR       \\\\\n",
       "\\end{tabular}\n"
      ],
      "text/markdown": [
       "\n",
       "effect | term | estimate | std.error | statistic | AA | \n",
       "|---|---|---|---|---|---|---|---|---|---|---|\n",
       "| fixed      | sexboy     |  0.2421029 | 0.1814636  |  1.3341684 | ARG        | \n",
       "| fixed      | sexboy     |  0.2135958 | 0.5767811  |  0.3703239 | ASP        | \n",
       "| fixed      | sexboy     |  0.3833635 | 2.0096219  |  0.1907640 | ALA        | \n",
       "| fixed      | sexboy     | -0.1365131 | 0.1613192  | -0.8462300 | ASN        | \n",
       "| fixed      | sexboy     |  0.2533538 | 0.1972489  |  1.2844371 | CYS        | \n",
       "| fixed      | sexboy     |  1.7104382 | 0.9794628  |  1.7463024 | GLY        | \n",
       "| fixed      | sexboy     | 11.3579209 | 8.2572190  |  1.3755141 | GLU        | \n",
       "| fixed      | sexboy     |  2.0389724 | 4.3169949  |  0.4723129 | GLN        | \n",
       "| fixed      | sexboy     |  0.4194294 | 0.4153037  |  1.0099344 | PRO        | \n",
       "| fixed      | sexboy     |  0.9994842 | 0.8653622  |  1.1549895 | SER        | \n",
       "| fixed      | sexboy     |  0.1975134 | 0.1303911  |  1.5147762 | TYR        | \n",
       "\n",
       "\n"
      ],
      "text/plain": [
       "   effect term   estimate   std.error statistic  AA \n",
       "1  fixed  sexboy  0.2421029 0.1814636  1.3341684 ARG\n",
       "2  fixed  sexboy  0.2135958 0.5767811  0.3703239 ASP\n",
       "3  fixed  sexboy  0.3833635 2.0096219  0.1907640 ALA\n",
       "4  fixed  sexboy -0.1365131 0.1613192 -0.8462300 ASN\n",
       "5  fixed  sexboy  0.2533538 0.1972489  1.2844371 CYS\n",
       "6  fixed  sexboy  1.7104382 0.9794628  1.7463024 GLY\n",
       "7  fixed  sexboy 11.3579209 8.2572190  1.3755141 GLU\n",
       "8  fixed  sexboy  2.0389724 4.3169949  0.4723129 GLN\n",
       "9  fixed  sexboy  0.4194294 0.4153037  1.0099344 PRO\n",
       "10 fixed  sexboy  0.9994842 0.8653622  1.1549895 SER\n",
       "11 fixed  sexboy  0.1975134 0.1303911  1.5147762 TYR"
      ]
     },
     "metadata": {},
     "output_type": "display_data"
    }
   ],
   "source": [
    "sexCoef_E_SW <- bind_rows(tidy_E_SW) %>% filter(grepl(\"^sexboy$\", term)) %>% select(1:6)\n",
    "sexCoef_NE_SW <- bind_rows(tidy_NE_SW) %>% filter(grepl(\"^sexboy$\", term)) %>% select(1:6)\n",
    "\n",
    "sexCoef_E_SW\n",
    "sexCoef_NE_SW"
   ]
  },
  {
   "cell_type": "code",
   "execution_count": 57,
   "metadata": {},
   "outputs": [
    {
     "data": {},
     "metadata": {},
     "output_type": "display_data"
    },
    {
     "data": {
      "image/png": "[encoded data removed]",
      "text/plain": [
       "plot without title"
      ]
     },
     "metadata": {},
     "output_type": "display_data"
    }
   ],
   "source": [
    "#png(filename=\"./plots/EAA_S_SW_coeff.png\", units=\"cm\", width=20, height=20, res = 300)\n",
    "ggplot(sexCoef_E_SW, aes(x = AA, y = estimate, color = AA)) + \n",
    "    geom_hline(yintercept = 0, alpha = 0.4) + \n",
    "    geom_point() + geom_pointrange( aes(x = AA, ymin = estimate - 2*std.error, ymax = estimate + 2*std.error)) + \n",
    "    theme(legend.position = \"none\") + \n",
    "    coord_flip() + ylab(TeX('sex (boy $\\\\rightarrow$)')) + \n",
    "    ggtitle('Essential AA \\n Estimate and 95% CI controlling for sex:week interaction') \n",
    "#dev.off()"
   ]
  },
  {
   "cell_type": "code",
   "execution_count": 58,
   "metadata": {},
   "outputs": [
    {
     "data": {},
     "metadata": {},
     "output_type": "display_data"
    },
    {
     "data": {
      "image/png": "[encoded data removed]",
      "text/plain": [
       "plot without title"
      ]
     },
     "metadata": {},
     "output_type": "display_data"
    }
   ],
   "source": [
    "#png(filename=\"./plots/NEAA_S_SW_coeff.png\", units=\"cm\", width=20, height=20, res = 300)\n",
    "ggplot(sexCoef_NE_SW, aes(x = AA, y = estimate, color = AA)) + \n",
    "    geom_hline(yintercept = 0, alpha = 0.4) + \n",
    "    geom_point() + geom_pointrange( aes(x = AA, ymin = estimate - 2*std.error, ymax = estimate + 2*std.error)) + \n",
    "    theme(legend.position = \"none\") + \n",
    "    coord_flip() + ylab(TeX('sex (boy $\\\\rightarrow$)')) + \n",
    "    ggtitle('Non Essential AA \\n Estimate and 95% CI controlling for sex:week interaction') \n",
    "#dev.off()"
   ]
  },
  {
   "cell_type": "code",
   "execution_count": 59,
   "metadata": {},
   "outputs": [
    {
     "data": {
      "text/html": [
       "<table>\n",
       "<thead><tr><th scope=col>effect</th><th scope=col>term</th><th scope=col>estimate</th><th scope=col>std.error</th><th scope=col>statistic</th><th scope=col>AA</th></tr></thead>\n",
       "<tbody>\n",
       "\t<tr><td>fixed        </td><td>sexboy:week  </td><td> 0.0118079876</td><td>0.022429913  </td><td> 0.526439294 </td><td>HIS          </td></tr>\n",
       "\t<tr><td>fixed        </td><td>sexboy:week  </td><td>-0.0120909974</td><td>0.013742676  </td><td>-0.879813876 </td><td>ILE          </td></tr>\n",
       "\t<tr><td>fixed        </td><td>sexboy:week  </td><td> 0.0171436327</td><td>0.033293508  </td><td> 0.514924197 </td><td>LEU          </td></tr>\n",
       "\t<tr><td>fixed        </td><td>sexboy:week  </td><td>-0.0277547062</td><td>0.033972612  </td><td>-0.816972989 </td><td>LYS          </td></tr>\n",
       "\t<tr><td>fixed        </td><td>sexboy:week  </td><td> 0.0008289634</td><td>0.009359680  </td><td> 0.088567499 </td><td>MET          </td></tr>\n",
       "\t<tr><td>fixed        </td><td>sexboy:week  </td><td> 0.0003254222</td><td>0.014101079  </td><td> 0.023077821 </td><td>PHE          </td></tr>\n",
       "\t<tr><td>fixed        </td><td>sexboy:week  </td><td>-0.0446219403</td><td>0.064674800  </td><td>-0.689943232 </td><td>THR          </td></tr>\n",
       "\t<tr><td>fixed        </td><td>sexboy:week  </td><td>-0.0007504544</td><td>0.002744682  </td><td>-0.273421226 </td><td>TRP          </td></tr>\n",
       "\t<tr><td>fixed        </td><td>sexboy:week  </td><td>-0.0001173385</td><td>0.038181199  </td><td>-0.003073201 </td><td>VAL          </td></tr>\n",
       "</tbody>\n",
       "</table>\n"
      ],
      "text/latex": [
       "\\begin{tabular}{r|llllll}\n",
       " effect & term & estimate & std.error & statistic & AA\\\\\n",
       "\\hline\n",
       "\t fixed         & sexboy:week   &  0.0118079876 & 0.022429913   &  0.526439294  & HIS          \\\\\n",
       "\t fixed         & sexboy:week   & -0.0120909974 & 0.013742676   & -0.879813876  & ILE          \\\\\n",
       "\t fixed         & sexboy:week   &  0.0171436327 & 0.033293508   &  0.514924197  & LEU          \\\\\n",
       "\t fixed         & sexboy:week   & -0.0277547062 & 0.033972612   & -0.816972989  & LYS          \\\\\n",
       "\t fixed         & sexboy:week   &  0.0008289634 & 0.009359680   &  0.088567499  & MET          \\\\\n",
       "\t fixed         & sexboy:week   &  0.0003254222 & 0.014101079   &  0.023077821  & PHE          \\\\\n",
       "\t fixed         & sexboy:week   & -0.0446219403 & 0.064674800   & -0.689943232  & THR          \\\\\n",
       "\t fixed         & sexboy:week   & -0.0007504544 & 0.002744682   & -0.273421226  & TRP          \\\\\n",
       "\t fixed         & sexboy:week   & -0.0001173385 & 0.038181199   & -0.003073201  & VAL          \\\\\n",
       "\\end{tabular}\n"
      ],
      "text/markdown": [
       "\n",
       "effect | term | estimate | std.error | statistic | AA | \n",
       "|---|---|---|---|---|---|---|---|---|\n",
       "| fixed         | sexboy:week   |  0.0118079876 | 0.022429913   |  0.526439294  | HIS           | \n",
       "| fixed         | sexboy:week   | -0.0120909974 | 0.013742676   | -0.879813876  | ILE           | \n",
       "| fixed         | sexboy:week   |  0.0171436327 | 0.033293508   |  0.514924197  | LEU           | \n",
       "| fixed         | sexboy:week   | -0.0277547062 | 0.033972612   | -0.816972989  | LYS           | \n",
       "| fixed         | sexboy:week   |  0.0008289634 | 0.009359680   |  0.088567499  | MET           | \n",
       "| fixed         | sexboy:week   |  0.0003254222 | 0.014101079   |  0.023077821  | PHE           | \n",
       "| fixed         | sexboy:week   | -0.0446219403 | 0.064674800   | -0.689943232  | THR           | \n",
       "| fixed         | sexboy:week   | -0.0007504544 | 0.002744682   | -0.273421226  | TRP           | \n",
       "| fixed         | sexboy:week   | -0.0001173385 | 0.038181199   | -0.003073201  | VAL           | \n",
       "\n",
       "\n"
      ],
      "text/plain": [
       "  effect term        estimate      std.error   statistic    AA \n",
       "1 fixed  sexboy:week  0.0118079876 0.022429913  0.526439294 HIS\n",
       "2 fixed  sexboy:week -0.0120909974 0.013742676 -0.879813876 ILE\n",
       "3 fixed  sexboy:week  0.0171436327 0.033293508  0.514924197 LEU\n",
       "4 fixed  sexboy:week -0.0277547062 0.033972612 -0.816972989 LYS\n",
       "5 fixed  sexboy:week  0.0008289634 0.009359680  0.088567499 MET\n",
       "6 fixed  sexboy:week  0.0003254222 0.014101079  0.023077821 PHE\n",
       "7 fixed  sexboy:week -0.0446219403 0.064674800 -0.689943232 THR\n",
       "8 fixed  sexboy:week -0.0007504544 0.002744682 -0.273421226 TRP\n",
       "9 fixed  sexboy:week -0.0001173385 0.038181199 -0.003073201 VAL"
      ]
     },
     "metadata": {},
     "output_type": "display_data"
    },
    {
     "data": {
      "text/html": [
       "<table>\n",
       "<thead><tr><th scope=col>effect</th><th scope=col>term</th><th scope=col>estimate</th><th scope=col>std.error</th><th scope=col>statistic</th><th scope=col>AA</th></tr></thead>\n",
       "<tbody>\n",
       "\t<tr><td>fixed       </td><td>sexboy:week </td><td>-0.021559840</td><td>0.02088780  </td><td>-1.0321738  </td><td>ARG         </td></tr>\n",
       "\t<tr><td>fixed       </td><td>sexboy:week </td><td> 0.071525807</td><td>0.06571870  </td><td> 1.0883632  </td><td>ASP         </td></tr>\n",
       "\t<tr><td>fixed       </td><td>sexboy:week </td><td> 0.265847614</td><td>0.23057372  </td><td> 1.1529831  </td><td>ALA         </td></tr>\n",
       "\t<tr><td>fixed       </td><td>sexboy:week </td><td> 0.010679056</td><td>0.02056285  </td><td> 0.5193373  </td><td>ASN         </td></tr>\n",
       "\t<tr><td>fixed       </td><td>sexboy:week </td><td> 0.023718088</td><td>0.02239005  </td><td> 1.0593136  </td><td>CYS         </td></tr>\n",
       "\t<tr><td>fixed       </td><td>sexboy:week </td><td> 0.025810158</td><td>0.11557376  </td><td> 0.2233220  </td><td>GLY         </td></tr>\n",
       "\t<tr><td>fixed       </td><td>sexboy:week </td><td> 0.639069640</td><td>1.00530136  </td><td> 0.6356996  </td><td>GLU         </td></tr>\n",
       "\t<tr><td>fixed       </td><td>sexboy:week </td><td> 0.242851544</td><td>0.51708024  </td><td> 0.4696593  </td><td>GLN         </td></tr>\n",
       "\t<tr><td>fixed       </td><td>sexboy:week </td><td>-0.007812146</td><td>0.04845195  </td><td>-0.1612349  </td><td>PRO         </td></tr>\n",
       "\t<tr><td>fixed       </td><td>sexboy:week </td><td> 0.052356373</td><td>0.10161003  </td><td> 0.5152677  </td><td>SER         </td></tr>\n",
       "\t<tr><td>fixed       </td><td>sexboy:week </td><td> 0.008399193</td><td>0.01461203  </td><td> 0.5748134  </td><td>TYR         </td></tr>\n",
       "</tbody>\n",
       "</table>\n"
      ],
      "text/latex": [
       "\\begin{tabular}{r|llllll}\n",
       " effect & term & estimate & std.error & statistic & AA\\\\\n",
       "\\hline\n",
       "\t fixed        & sexboy:week  & -0.021559840 & 0.02088780   & -1.0321738   & ARG         \\\\\n",
       "\t fixed        & sexboy:week  &  0.071525807 & 0.06571870   &  1.0883632   & ASP         \\\\\n",
       "\t fixed        & sexboy:week  &  0.265847614 & 0.23057372   &  1.1529831   & ALA         \\\\\n",
       "\t fixed        & sexboy:week  &  0.010679056 & 0.02056285   &  0.5193373   & ASN         \\\\\n",
       "\t fixed        & sexboy:week  &  0.023718088 & 0.02239005   &  1.0593136   & CYS         \\\\\n",
       "\t fixed        & sexboy:week  &  0.025810158 & 0.11557376   &  0.2233220   & GLY         \\\\\n",
       "\t fixed        & sexboy:week  &  0.639069640 & 1.00530136   &  0.6356996   & GLU         \\\\\n",
       "\t fixed        & sexboy:week  &  0.242851544 & 0.51708024   &  0.4696593   & GLN         \\\\\n",
       "\t fixed        & sexboy:week  & -0.007812146 & 0.04845195   & -0.1612349   & PRO         \\\\\n",
       "\t fixed        & sexboy:week  &  0.052356373 & 0.10161003   &  0.5152677   & SER         \\\\\n",
       "\t fixed        & sexboy:week  &  0.008399193 & 0.01461203   &  0.5748134   & TYR         \\\\\n",
       "\\end{tabular}\n"
      ],
      "text/markdown": [
       "\n",
       "effect | term | estimate | std.error | statistic | AA | \n",
       "|---|---|---|---|---|---|---|---|---|---|---|\n",
       "| fixed        | sexboy:week  | -0.021559840 | 0.02088780   | -1.0321738   | ARG          | \n",
       "| fixed        | sexboy:week  |  0.071525807 | 0.06571870   |  1.0883632   | ASP          | \n",
       "| fixed        | sexboy:week  |  0.265847614 | 0.23057372   |  1.1529831   | ALA          | \n",
       "| fixed        | sexboy:week  |  0.010679056 | 0.02056285   |  0.5193373   | ASN          | \n",
       "| fixed        | sexboy:week  |  0.023718088 | 0.02239005   |  1.0593136   | CYS          | \n",
       "| fixed        | sexboy:week  |  0.025810158 | 0.11557376   |  0.2233220   | GLY          | \n",
       "| fixed        | sexboy:week  |  0.639069640 | 1.00530136   |  0.6356996   | GLU          | \n",
       "| fixed        | sexboy:week  |  0.242851544 | 0.51708024   |  0.4696593   | GLN          | \n",
       "| fixed        | sexboy:week  | -0.007812146 | 0.04845195   | -0.1612349   | PRO          | \n",
       "| fixed        | sexboy:week  |  0.052356373 | 0.10161003   |  0.5152677   | SER          | \n",
       "| fixed        | sexboy:week  |  0.008399193 | 0.01461203   |  0.5748134   | TYR          | \n",
       "\n",
       "\n"
      ],
      "text/plain": [
       "   effect term        estimate     std.error  statistic  AA \n",
       "1  fixed  sexboy:week -0.021559840 0.02088780 -1.0321738 ARG\n",
       "2  fixed  sexboy:week  0.071525807 0.06571870  1.0883632 ASP\n",
       "3  fixed  sexboy:week  0.265847614 0.23057372  1.1529831 ALA\n",
       "4  fixed  sexboy:week  0.010679056 0.02056285  0.5193373 ASN\n",
       "5  fixed  sexboy:week  0.023718088 0.02239005  1.0593136 CYS\n",
       "6  fixed  sexboy:week  0.025810158 0.11557376  0.2233220 GLY\n",
       "7  fixed  sexboy:week  0.639069640 1.00530136  0.6356996 GLU\n",
       "8  fixed  sexboy:week  0.242851544 0.51708024  0.4696593 GLN\n",
       "9  fixed  sexboy:week -0.007812146 0.04845195 -0.1612349 PRO\n",
       "10 fixed  sexboy:week  0.052356373 0.10161003  0.5152677 SER\n",
       "11 fixed  sexboy:week  0.008399193 0.01461203  0.5748134 TYR"
      ]
     },
     "metadata": {},
     "output_type": "display_data"
    }
   ],
   "source": [
    "swCoef_E_SW <- bind_rows(tidy_E_SW) %>% filter(grepl(\"^sexboy:week$\", term)) %>% select(1:6)\n",
    "swCoef_NE_SW <- bind_rows(tidy_NE_SW) %>% filter(grepl(\"^sexboy:week$\", term)) %>% select(1:6)\n",
    "\n",
    "swCoef_E_SW\n",
    "swCoef_NE_SW"
   ]
  },
  {
   "cell_type": "code",
   "execution_count": 60,
   "metadata": {},
   "outputs": [
    {
     "data": {},
     "metadata": {},
     "output_type": "display_data"
    },
    {
     "data": {
      "image/png": "[encoded data removed]",
      "text/plain": [
       "plot without title"
      ]
     },
     "metadata": {},
     "output_type": "display_data"
    }
   ],
   "source": [
    "#png(filename=\"./plots/EAA_SW_SW_coeff.png\", units=\"cm\", width=20, height=20, res = 300)\n",
    "ggplot(swCoef_E_SW, aes(x = AA, y = estimate, color = AA)) + \n",
    "    geom_hline(yintercept = 0, alpha = 0.4) + \n",
    "    geom_point() + geom_pointrange( aes(x = AA, ymin = estimate - 2*std.error, ymax = estimate + 2*std.error)) + \n",
    "    theme(legend.position = \"none\") + \n",
    "    coord_flip() + ylab(TeX('sex:week')) + \n",
    "    ggtitle('Essential AA \\n Estimate and 95% CI') \n",
    "#dev.off()"
   ]
  },
  {
   "cell_type": "code",
   "execution_count": 61,
   "metadata": {},
   "outputs": [
    {
     "data": {},
     "metadata": {},
     "output_type": "display_data"
    },
    {
     "data": {
      "image/png": "[encoded data removed]",
      "text/plain": [
       "plot without title"
      ]
     },
     "metadata": {},
     "output_type": "display_data"
    }
   ],
   "source": [
    "#png(filename=\"./plots/NEAA_SW_SW_coeff.png\", units=\"cm\", width=20, height=20, res = 300)\n",
    "ggplot(swCoef_NE_SW, aes(x = AA, y = estimate, color = AA)) + \n",
    "    geom_hline(yintercept = 0, alpha = 0.4) + \n",
    "    geom_point() + geom_pointrange( aes(x = AA, ymin = estimate - 2*std.error, ymax = estimate + 2*std.error)) + \n",
    "    theme(legend.position = \"none\") + \n",
    "    coord_flip() + ylab(TeX('sex:week')) + \n",
    "    ggtitle('Non Essential AA \\n Estimate and 95% CI') \n",
    "#dev.off()"
   ]
  },
  {
   "cell_type": "markdown",
   "metadata": {
    "collapsed": true
   },
   "source": [
    "## Week and Free AA\n",
    "\n"
   ]
  },
  {
   "cell_type": "code",
   "execution_count": 62,
   "metadata": {
    "collapsed": true
   },
   "outputs": [],
   "source": [
    "meWeek <- function(df){\n",
    "    \n",
    "    me <- lmer(level ~ week + (1 | id), data = df)\n",
    "    \n",
    "    return(me)\n",
    "}"
   ]
  },
  {
   "cell_type": "code",
   "execution_count": 63,
   "metadata": {
    "collapsed": true
   },
   "outputs": [],
   "source": [
    "me_E_W <- list()\n",
    "tidy_E_W <- list()\n",
    "\n",
    "for(i in 1:nAA_E){\n",
    "    \n",
    "    me_E_W[[i]] <- meWeek(AA_E_Nested$data[[i]])\n",
    "    tidy_E_W[[i]] <- tidy(me_E_W[[i]], effects = 'fixed') %>% mutate(AA = AA_E_Nested$AA[i])\n",
    "   \n",
    "}"
   ]
  },
  {
   "cell_type": "code",
   "execution_count": 64,
   "metadata": {
    "collapsed": true
   },
   "outputs": [],
   "source": [
    "me_NE_W <- list()\n",
    "tidy_NE_W <- list()\n",
    "\n",
    "for(i in 1:nAA_NE){\n",
    "    \n",
    "    me_NE_W[[i]] <- meWeek(AA_NE_Nested$data[[i]])\n",
    "    tidy_NE_W[[i]] <- tidy(me_NE_W[[i]], effects = 'fixed') %>% mutate(AA = AA_NE_Nested$AA[i])\n",
    "\n",
    "}"
   ]
  },
  {
   "cell_type": "code",
   "execution_count": 65,
   "metadata": {
    "collapsed": true
   },
   "outputs": [],
   "source": [
    "AA_E_Nested <- AA_E_Nested %>% mutate(model_W = me_E_W, tidy_W = tidy_E_W)\n",
    "AA_NE_Nested <- AA_NE_Nested %>% mutate(model_W = me_NE_W, tidy_W = tidy_NE_W)"
   ]
  },
  {
   "cell_type": "code",
   "execution_count": 66,
   "metadata": {},
   "outputs": [
    {
     "data": {
      "text/html": [
       "<table>\n",
       "<thead><tr><th scope=col>effect</th><th scope=col>term</th><th scope=col>estimate</th><th scope=col>std.error</th><th scope=col>statistic</th><th scope=col>AA</th></tr></thead>\n",
       "<tbody>\n",
       "\t<tr><td>fixed       </td><td>week        </td><td> 0.011264837</td><td>0.011238746 </td><td> 1.0023216  </td><td>HIS         </td></tr>\n",
       "\t<tr><td>fixed       </td><td>week        </td><td> 0.008828731</td><td>0.006902221 </td><td> 1.2791145  </td><td>ILE         </td></tr>\n",
       "\t<tr><td>fixed       </td><td>week        </td><td> 0.042720268</td><td>0.016387506 </td><td> 2.6068804  </td><td>LEU         </td></tr>\n",
       "\t<tr><td>fixed       </td><td>week        </td><td>-0.051481575</td><td>0.018869839 </td><td>-2.7282466  </td><td>LYS         </td></tr>\n",
       "\t<tr><td>fixed       </td><td>week        </td><td> 0.003879168</td><td>0.004626100 </td><td> 0.8385397  </td><td>MET         </td></tr>\n",
       "\t<tr><td>fixed       </td><td>week        </td><td> 0.022358680</td><td>0.006984564 </td><td> 3.2011563  </td><td>PHE         </td></tr>\n",
       "\t<tr><td>fixed       </td><td>week        </td><td> 0.132238943</td><td>0.031849205 </td><td> 4.1520328  </td><td>THR         </td></tr>\n",
       "\t<tr><td>fixed       </td><td>week        </td><td>-0.001409191</td><td>0.001621429 </td><td>-0.8691042  </td><td>TRP         </td></tr>\n",
       "\t<tr><td>fixed       </td><td>week        </td><td> 0.073534210</td><td>0.019237684 </td><td> 3.8224045  </td><td>VAL         </td></tr>\n",
       "</tbody>\n",
       "</table>\n"
      ],
      "text/latex": [
       "\\begin{tabular}{r|llllll}\n",
       " effect & term & estimate & std.error & statistic & AA\\\\\n",
       "\\hline\n",
       "\t fixed        & week         &  0.011264837 & 0.011238746  &  1.0023216   & HIS         \\\\\n",
       "\t fixed        & week         &  0.008828731 & 0.006902221  &  1.2791145   & ILE         \\\\\n",
       "\t fixed        & week         &  0.042720268 & 0.016387506  &  2.6068804   & LEU         \\\\\n",
       "\t fixed        & week         & -0.051481575 & 0.018869839  & -2.7282466   & LYS         \\\\\n",
       "\t fixed        & week         &  0.003879168 & 0.004626100  &  0.8385397   & MET         \\\\\n",
       "\t fixed        & week         &  0.022358680 & 0.006984564  &  3.2011563   & PHE         \\\\\n",
       "\t fixed        & week         &  0.132238943 & 0.031849205  &  4.1520328   & THR         \\\\\n",
       "\t fixed        & week         & -0.001409191 & 0.001621429  & -0.8691042   & TRP         \\\\\n",
       "\t fixed        & week         &  0.073534210 & 0.019237684  &  3.8224045   & VAL         \\\\\n",
       "\\end{tabular}\n"
      ],
      "text/markdown": [
       "\n",
       "effect | term | estimate | std.error | statistic | AA | \n",
       "|---|---|---|---|---|---|---|---|---|\n",
       "| fixed        | week         |  0.011264837 | 0.011238746  |  1.0023216   | HIS          | \n",
       "| fixed        | week         |  0.008828731 | 0.006902221  |  1.2791145   | ILE          | \n",
       "| fixed        | week         |  0.042720268 | 0.016387506  |  2.6068804   | LEU          | \n",
       "| fixed        | week         | -0.051481575 | 0.018869839  | -2.7282466   | LYS          | \n",
       "| fixed        | week         |  0.003879168 | 0.004626100  |  0.8385397   | MET          | \n",
       "| fixed        | week         |  0.022358680 | 0.006984564  |  3.2011563   | PHE          | \n",
       "| fixed        | week         |  0.132238943 | 0.031849205  |  4.1520328   | THR          | \n",
       "| fixed        | week         | -0.001409191 | 0.001621429  | -0.8691042   | TRP          | \n",
       "| fixed        | week         |  0.073534210 | 0.019237684  |  3.8224045   | VAL          | \n",
       "\n",
       "\n"
      ],
      "text/plain": [
       "  effect term estimate     std.error   statistic  AA \n",
       "1 fixed  week  0.011264837 0.011238746  1.0023216 HIS\n",
       "2 fixed  week  0.008828731 0.006902221  1.2791145 ILE\n",
       "3 fixed  week  0.042720268 0.016387506  2.6068804 LEU\n",
       "4 fixed  week -0.051481575 0.018869839 -2.7282466 LYS\n",
       "5 fixed  week  0.003879168 0.004626100  0.8385397 MET\n",
       "6 fixed  week  0.022358680 0.006984564  3.2011563 PHE\n",
       "7 fixed  week  0.132238943 0.031849205  4.1520328 THR\n",
       "8 fixed  week -0.001409191 0.001621429 -0.8691042 TRP\n",
       "9 fixed  week  0.073534210 0.019237684  3.8224045 VAL"
      ]
     },
     "metadata": {},
     "output_type": "display_data"
    },
    {
     "data": {
      "text/html": [
       "<table>\n",
       "<thead><tr><th scope=col>effect</th><th scope=col>term</th><th scope=col>estimate</th><th scope=col>std.error</th><th scope=col>statistic</th><th scope=col>AA</th></tr></thead>\n",
       "<tbody>\n",
       "\t<tr><td>fixed       </td><td>week        </td><td>-0.024458574</td><td>0.011047882 </td><td>-2.2138699  </td><td>ARG         </td></tr>\n",
       "\t<tr><td>fixed       </td><td>week        </td><td> 0.129219327</td><td>0.033362676 </td><td> 3.8731703  </td><td>ASP         </td></tr>\n",
       "\t<tr><td>fixed       </td><td>week        </td><td> 0.567493831</td><td>0.115958165 </td><td> 4.8939532  </td><td>ALA         </td></tr>\n",
       "\t<tr><td>fixed       </td><td>week        </td><td>-0.002238894</td><td>0.010021312 </td><td>-0.2234133  </td><td>ASN         </td></tr>\n",
       "\t<tr><td>fixed       </td><td>week        </td><td> 0.088794524</td><td>0.011058085 </td><td> 8.0298282  </td><td>CYS         </td></tr>\n",
       "\t<tr><td>fixed       </td><td>week        </td><td> 0.348180869</td><td>0.057169547 </td><td> 6.0903206  </td><td>GLY         </td></tr>\n",
       "\t<tr><td>fixed       </td><td>week        </td><td> 3.462175743</td><td>0.509803639 </td><td> 6.7911946  </td><td>GLU         </td></tr>\n",
       "\t<tr><td>fixed       </td><td>week        </td><td> 2.355437507</td><td>0.254534735 </td><td> 9.2538942  </td><td>GLN         </td></tr>\n",
       "\t<tr><td>fixed       </td><td>week        </td><td>-0.047463530</td><td>0.023724162 </td><td>-2.0006410  </td><td>PRO         </td></tr>\n",
       "\t<tr><td>fixed       </td><td>week        </td><td> 0.403780843</td><td>0.049903779 </td><td> 8.0911877  </td><td>SER         </td></tr>\n",
       "\t<tr><td>fixed       </td><td>week        </td><td> 0.012718020</td><td>0.007479852 </td><td> 1.7003038  </td><td>TYR         </td></tr>\n",
       "</tbody>\n",
       "</table>\n"
      ],
      "text/latex": [
       "\\begin{tabular}{r|llllll}\n",
       " effect & term & estimate & std.error & statistic & AA\\\\\n",
       "\\hline\n",
       "\t fixed        & week         & -0.024458574 & 0.011047882  & -2.2138699   & ARG         \\\\\n",
       "\t fixed        & week         &  0.129219327 & 0.033362676  &  3.8731703   & ASP         \\\\\n",
       "\t fixed        & week         &  0.567493831 & 0.115958165  &  4.8939532   & ALA         \\\\\n",
       "\t fixed        & week         & -0.002238894 & 0.010021312  & -0.2234133   & ASN         \\\\\n",
       "\t fixed        & week         &  0.088794524 & 0.011058085  &  8.0298282   & CYS         \\\\\n",
       "\t fixed        & week         &  0.348180869 & 0.057169547  &  6.0903206   & GLY         \\\\\n",
       "\t fixed        & week         &  3.462175743 & 0.509803639  &  6.7911946   & GLU         \\\\\n",
       "\t fixed        & week         &  2.355437507 & 0.254534735  &  9.2538942   & GLN         \\\\\n",
       "\t fixed        & week         & -0.047463530 & 0.023724162  & -2.0006410   & PRO         \\\\\n",
       "\t fixed        & week         &  0.403780843 & 0.049903779  &  8.0911877   & SER         \\\\\n",
       "\t fixed        & week         &  0.012718020 & 0.007479852  &  1.7003038   & TYR         \\\\\n",
       "\\end{tabular}\n"
      ],
      "text/markdown": [
       "\n",
       "effect | term | estimate | std.error | statistic | AA | \n",
       "|---|---|---|---|---|---|---|---|---|---|---|\n",
       "| fixed        | week         | -0.024458574 | 0.011047882  | -2.2138699   | ARG          | \n",
       "| fixed        | week         |  0.129219327 | 0.033362676  |  3.8731703   | ASP          | \n",
       "| fixed        | week         |  0.567493831 | 0.115958165  |  4.8939532   | ALA          | \n",
       "| fixed        | week         | -0.002238894 | 0.010021312  | -0.2234133   | ASN          | \n",
       "| fixed        | week         |  0.088794524 | 0.011058085  |  8.0298282   | CYS          | \n",
       "| fixed        | week         |  0.348180869 | 0.057169547  |  6.0903206   | GLY          | \n",
       "| fixed        | week         |  3.462175743 | 0.509803639  |  6.7911946   | GLU          | \n",
       "| fixed        | week         |  2.355437507 | 0.254534735  |  9.2538942   | GLN          | \n",
       "| fixed        | week         | -0.047463530 | 0.023724162  | -2.0006410   | PRO          | \n",
       "| fixed        | week         |  0.403780843 | 0.049903779  |  8.0911877   | SER          | \n",
       "| fixed        | week         |  0.012718020 | 0.007479852  |  1.7003038   | TYR          | \n",
       "\n",
       "\n"
      ],
      "text/plain": [
       "   effect term estimate     std.error   statistic  AA \n",
       "1  fixed  week -0.024458574 0.011047882 -2.2138699 ARG\n",
       "2  fixed  week  0.129219327 0.033362676  3.8731703 ASP\n",
       "3  fixed  week  0.567493831 0.115958165  4.8939532 ALA\n",
       "4  fixed  week -0.002238894 0.010021312 -0.2234133 ASN\n",
       "5  fixed  week  0.088794524 0.011058085  8.0298282 CYS\n",
       "6  fixed  week  0.348180869 0.057169547  6.0903206 GLY\n",
       "7  fixed  week  3.462175743 0.509803639  6.7911946 GLU\n",
       "8  fixed  week  2.355437507 0.254534735  9.2538942 GLN\n",
       "9  fixed  week -0.047463530 0.023724162 -2.0006410 PRO\n",
       "10 fixed  week  0.403780843 0.049903779  8.0911877 SER\n",
       "11 fixed  week  0.012718020 0.007479852  1.7003038 TYR"
      ]
     },
     "metadata": {},
     "output_type": "display_data"
    }
   ],
   "source": [
    "weekCoef_E <- bind_rows(tidy_E_W) %>% filter(grepl(\"week\", term))\n",
    "weekCoef_NE <- bind_rows(tidy_NE_W) %>% filter(grepl(\"week\", term))\n",
    "\n",
    "weekCoef_E\n",
    "weekCoef_NE"
   ]
  },
  {
   "cell_type": "code",
   "execution_count": 67,
   "metadata": {},
   "outputs": [
    {
     "data": {},
     "metadata": {},
     "output_type": "display_data"
    },
    {
     "data": {
      "image/png": "[encoded data removed]",
      "text/plain": [
       "plot without title"
      ]
     },
     "metadata": {},
     "output_type": "display_data"
    }
   ],
   "source": [
    "#png(filename=\"./plots/EAA_W_coeff.png\", units=\"cm\", width=20, height=20, res = 300)\n",
    "ggplot(weekCoef_E, aes(x = AA, y = estimate, color = AA)) + \n",
    "    geom_hline(yintercept = 0, alpha = 0.4) + \n",
    "    geom_point() + geom_pointrange( aes(x = AA, ymin = estimate - 2*std.error, ymax = estimate + 2*std.error)) + \n",
    "    theme(legend.position = \"none\") + \n",
    "    coord_flip() + ylab(TeX('week')) + \n",
    "    ggtitle('Essential AA \\n Estimate and 95% CI') \n",
    "#dev.off()"
   ]
  },
  {
   "cell_type": "code",
   "execution_count": 68,
   "metadata": {},
   "outputs": [
    {
     "data": {},
     "metadata": {},
     "output_type": "display_data"
    },
    {
     "data": {
      "image/png": "[encoded data removed]",
      "text/plain": [
       "plot without title"
      ]
     },
     "metadata": {},
     "output_type": "display_data"
    }
   ],
   "source": [
    "#png(filename=\"./plots/NEAA_W1_coeff.png\", units=\"cm\", width=20, height=20, res = 300)\n",
    "ggplot(weekCoef_NE, aes(x = AA, y = estimate, color = AA)) + \n",
    "    geom_hline(yintercept = 0, alpha = 0.4) + \n",
    "    geom_point() + geom_pointrange( aes(x = AA, ymin = estimate - 2*std.error, ymax = estimate + 2*std.error)) + \n",
    "    theme(legend.position = \"none\") + \n",
    "    coord_flip() + ylab(TeX('week')) + \n",
    "    ggtitle('Non Essential AA \\n Estimate and 95% CI') \n",
    "#dev.off()"
   ]
  },
  {
   "cell_type": "code",
   "execution_count": 69,
   "metadata": {},
   "outputs": [
    {
     "data": {
      "text/html": [
       "<table>\n",
       "<thead><tr><th scope=col>sex</th><th scope=col>n()</th></tr></thead>\n",
       "<tbody>\n",
       "\t<tr><td>girl</td><td>12  </td></tr>\n",
       "\t<tr><td>boy </td><td>16  </td></tr>\n",
       "</tbody>\n",
       "</table>\n"
      ],
      "text/latex": [
       "\\begin{tabular}{r|ll}\n",
       " sex & n()\\\\\n",
       "\\hline\n",
       "\t girl & 12  \\\\\n",
       "\t boy  & 16  \\\\\n",
       "\\end{tabular}\n"
      ],
      "text/markdown": [
       "\n",
       "sex | n() | \n",
       "|---|---|\n",
       "| girl | 12   | \n",
       "| boy  | 16   | \n",
       "\n",
       "\n"
      ],
      "text/plain": [
       "  sex  n()\n",
       "1 girl 12 \n",
       "2 boy  16 "
      ]
     },
     "metadata": {},
     "output_type": "display_data"
    }
   ],
   "source": [
    "AA_E %>% na.omit() %>% group_by(sex) %>% summarise(n())"
   ]
  },
  {
   "cell_type": "code",
   "execution_count": null,
   "metadata": {
    "collapsed": true
   },
   "outputs": [],
   "source": []
  }
 ],
 "metadata": {
  "kernelspec": {
   "display_name": "R 3.3",
   "language": "R",
   "name": "ir33"
  },
  "language_info": {
   "codemirror_mode": "r",
   "file_extension": ".r",
   "mimetype": "text/x-r-source",
   "name": "R",
   "pygments_lexer": "r",
   "version": "3.3.3"
  }
 },
 "nbformat": 4,
 "nbformat_minor": 2
}
