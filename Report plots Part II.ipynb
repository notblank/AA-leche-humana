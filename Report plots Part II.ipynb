{
 "cells": [
  {
   "cell_type": "code",
   "execution_count": 1,
   "metadata": {},
   "outputs": [
    {
     "name": "stderr",
     "output_type": "stream",
     "text": [
      "── \u001b[1mAttaching packages\u001b[22m ─────────────────────────────────────── tidyverse 1.2.1 ──\n",
      "\u001b[32m✔\u001b[39m \u001b[34mggplot2\u001b[39m 3.2.0     \u001b[32m✔\u001b[39m \u001b[34mpurrr  \u001b[39m 0.3.2\n",
      "\u001b[32m✔\u001b[39m \u001b[34mtibble \u001b[39m 2.1.3     \u001b[32m✔\u001b[39m \u001b[34mdplyr  \u001b[39m 0.8.2\n",
      "\u001b[32m✔\u001b[39m \u001b[34mtidyr  \u001b[39m 0.8.3     \u001b[32m✔\u001b[39m \u001b[34mstringr\u001b[39m 1.4.0\n",
      "\u001b[32m✔\u001b[39m \u001b[34mreadr  \u001b[39m 1.3.1     \u001b[32m✔\u001b[39m \u001b[34mforcats\u001b[39m 0.4.0\n",
      "── \u001b[1mConflicts\u001b[22m ────────────────────────────────────────── tidyverse_conflicts() ──\n",
      "\u001b[31m✖\u001b[39m \u001b[34mdplyr\u001b[39m::\u001b[32mfilter()\u001b[39m masks \u001b[34mstats\u001b[39m::filter()\n",
      "\u001b[31m✖\u001b[39m \u001b[34mdplyr\u001b[39m::\u001b[32mlag()\u001b[39m    masks \u001b[34mstats\u001b[39m::lag()\n",
      "Loading required package: Matrix\n",
      "\n",
      "Attaching package: ‘Matrix’\n",
      "\n",
      "The following object is masked from ‘package:tidyr’:\n",
      "\n",
      "    expand\n",
      "\n",
      "\n",
      "Attaching package: ‘gridExtra’\n",
      "\n",
      "The following object is masked from ‘package:dplyr’:\n",
      "\n",
      "    combine\n",
      "\n"
     ]
    }
   ],
   "source": [
    "library(haven)\n",
    "library(tidyverse)\n",
    "library(broom)\n",
    "library(lme4) \n",
    "library(latex2exp)\n",
    "library(gridExtra)\n",
    "#library(ggforce)"
   ]
  },
  {
   "cell_type": "code",
   "execution_count": 2,
   "metadata": {},
   "outputs": [
    {
     "data": {
      "text/html": [
       "<table>\n",
       "<caption>A tibble: 6 × 171</caption>\n",
       "<thead>\n",
       "\t<tr><th scope=col>ID</th><th scope=col>GROUP</th><th scope=col>MATERNALAGE</th><th scope=col>SEXO</th><th scope=col>INFANTDOB</th><th scope=col>MATBMI1COLL</th><th scope=col>MATBMI215d</th><th scope=col>MATBMI32mos</th><th scope=col>MATBMI44mos</th><th scope=col>BABYWeigth1g</th><th scope=col>⋯</th><th scope=col>ALAGLOB</th><th scope=col>ASNGLOB</th><th scope=col>SYSGLOB</th><th scope=col>GLYGLOB</th><th scope=col>GLUGLOB</th><th scope=col>GLNGLOB</th><th scope=col>PROLINEGLOB</th><th scope=col>SERINEGLOB</th><th scope=col>TYRAMINEGLOB</th><th scope=col>new</th></tr>\n",
       "\t<tr><th scope=col>&lt;dbl&gt;</th><th scope=col>&lt;dbl+lbl&gt;</th><th scope=col>&lt;dbl&gt;</th><th scope=col>&lt;dbl+lbl&gt;</th><th scope=col>&lt;date&gt;</th><th scope=col>&lt;dbl&gt;</th><th scope=col>&lt;dbl&gt;</th><th scope=col>&lt;dbl&gt;</th><th scope=col>&lt;dbl&gt;</th><th scope=col>&lt;dbl&gt;</th><th scope=col>⋯</th><th scope=col>&lt;dbl&gt;</th><th scope=col>&lt;dbl&gt;</th><th scope=col>&lt;dbl&gt;</th><th scope=col>&lt;dbl&gt;</th><th scope=col>&lt;dbl&gt;</th><th scope=col>&lt;dbl&gt;</th><th scope=col>&lt;dbl&gt;</th><th scope=col>&lt;dbl&gt;</th><th scope=col>&lt;dbl&gt;</th><th scope=col>&lt;dbl&gt;</th></tr>\n",
       "</thead>\n",
       "<tbody>\n",
       "\t<tr><td>1</td><td>0</td><td>17</td><td> 1</td><td>2009-08-20</td><td>25</td><td>24</td><td>24</td><td>22</td><td>3492.7</td><td>⋯</td><td>21.25</td><td>0.5</td><td>1.00</td><td>10.00</td><td> 87.25</td><td>23.25</td><td>2.75</td><td>8.0</td><td>1.00</td><td>0</td></tr>\n",
       "\t<tr><td>2</td><td>0</td><td>16</td><td> 2</td><td>2009-08-24</td><td>32</td><td>31</td><td>30</td><td>29</td><td>3392.9</td><td>⋯</td><td>18.25</td><td>0.0</td><td>0.75</td><td>13.75</td><td>100.50</td><td>40.50</td><td>2.50</td><td>9.5</td><td>0.75</td><td>0</td></tr>\n",
       "\t<tr><td>3</td><td>0</td><td>17</td><td> 2</td><td>2009-08-21</td><td>23</td><td>23</td><td>NA</td><td>NA</td><td>2993.8</td><td>⋯</td><td>   NA</td><td> NA</td><td>  NA</td><td>   NA</td><td>    NA</td><td>   NA</td><td>  NA</td><td> NA</td><td>  NA</td><td>0</td></tr>\n",
       "\t<tr><td>4</td><td>0</td><td>16</td><td> 2</td><td>2009-08-21</td><td>26</td><td>NA</td><td>NA</td><td>NA</td><td>3692.3</td><td>⋯</td><td>   NA</td><td> NA</td><td>  NA</td><td>   NA</td><td>    NA</td><td>   NA</td><td>  NA</td><td> NA</td><td>  NA</td><td>0</td></tr>\n",
       "\t<tr><td>5</td><td>0</td><td>16</td><td>NA</td><td>2009-08-29</td><td>25</td><td>NA</td><td>NA</td><td>NA</td><td>3592.5</td><td>⋯</td><td>   NA</td><td> NA</td><td>  NA</td><td>   NA</td><td>    NA</td><td>   NA</td><td>  NA</td><td> NA</td><td>  NA</td><td>0</td></tr>\n",
       "\t<tr><td>6</td><td>0</td><td>16</td><td> 2</td><td>2009-08-27</td><td>29</td><td>28</td><td>30</td><td>31</td><td>3093.5</td><td>⋯</td><td>15.50</td><td>0.5</td><td>1.50</td><td>10.25</td><td> 74.75</td><td>30.00</td><td>5.25</td><td>8.0</td><td>2.00</td><td>0</td></tr>\n",
       "</tbody>\n",
       "</table>\n"
      ],
      "text/latex": [
       "A tibble: 6 × 171\n",
       "\\begin{tabular}{r|lllllllllllllllllllllllllllllllllllllllllllllllllllllllllllllllllllllllllllllllllllllllllllllllllllllllllllllllllllllllllllllllllllllllllllllllllllllllllllllllllllllllllll}\n",
       " ID & GROUP & MATERNALAGE & SEXO & INFANTDOB & MATBMI1COLL & MATBMI215d & MATBMI32mos & MATBMI44mos & BABYWeigth1g & BABYWeigth2g & BABYWeigth3g & BABYWeigth4g & HeadCircumcm1 & HCcm2 & HCcm3 & HCcm4 & MATHeight1m & MATHeight2m & MATHeight3m & MATHeight4m & MATWeight1kg & MATWeight2kg & MATWeight3kg & MATWeight4kg & A.TOTALCALORIESKcal & B.TOTALCALORIESKcal & A.PROTEINg & B.PROTEINg & A.CHOg & B.CHOg & A.LIPIDSg & B.LIPIDSg & A.GLUCOSEmgdL & B.GLUCOSEmgdL & A.CHOLESTEROLmgdL & B.CHOLESTEROLmgdL & A.TRIGLYCERIDSmgdL & B.TRIGLYCERIDmgdL & A.HDLmgdL & B.HDLmgdL & A.LDLmgdL & B.LDLmgdL & A.PROTEINSgdL & B.PROTEINSgdL & A.ALBUMINgdL & B.ALBUMINgdL & edadr & Grupos & CALOSTRUMtotalAA & TRANSITIONtotalAA & MATURE2mtotalAA & MATURE4mtotalAA & CALOSTRUMessentialAA & TRANSITIONessentialAA & MATURE2messentialAA & MATURE4messentialAA & ARGCalostrum & ARGTransition & ARGMature2m & ARGMature4m & HISCalostrum & HISTransition & HISMature2m & HISMature4m & ILECalostrum & ILETransition & ILEMature2m & ILEMature4m & LEUCalostrum & LEUTransition & LEUMature2m & LEUMature4m & LYSCalostrum & LYSTransition & LYSMature2m & LYSMature4m & METCalostrum & METTransition & METMature2m & METMature4m & PHECalostrum & PHETransition & PHEMature2m & PHEMature4m & THRCalostrum & THRTransition & THRMature2m & THRMature4m & TRPCalostrum & TRPTransition & TRPMature2m & TRPMature4m & VALCalostrum & VALTransition & VALMature2m & VALMature4m & CALOSTRUMnonessentialAA & TRANSITIONnonessentialAA & MATURE2mnonessentialAA & MATURE4mnonessentialAA & ASPCalostrum & ASPTransition & ASPMature2m & ASPMature4m & ALACalostrum & ALATransition & ALAMature2m & ALAMature4m & ASNCalostrum & ASNTransition & ASNMature2m & ASNMature4m & CYSCalostrum & CYSTransition & CYSMature2m & CYSMature4m & GLYCalostrum & GLYTransition & GLYMature2m & GLYMature4m & GLUCalostrum & GLUTransition & GLUMature2m & GLUMature4m & GLNCalostrum & GLNTransition & GLNMature2m & GLNMature4m & PROCalostrum & PROTransition & PROMature2m & PROMature4m & SERCalostrum & SERTransition & SERMature2m & SERMature4m & TYRCalostrum & TYRTransition & TYRMature2m & TYRMature4m & filter\\_\\$ & CAL1NONE & TRANS2NONE & MAT3NONE & MAT4NONE & ADOEXTR & TotalAAGLOB & EssentAAGLOB & ARGGLOB & HISTGLOB & ISOLGLOB & LEUCINEGLOB & LYSINEGLOB & METHIONGLOB & PHENYLGLOB & THREOGLOB & TRYPTOGLOB & VALINEGLOB & NONESSENGLOB & ASPGLOB & ALAGLOB & ASNGLOB & SYSGLOB & GLYGLOB & GLUGLOB & GLNGLOB & PROLINEGLOB & SERINEGLOB & TYRAMINEGLOB & new\\\\\n",
       " <dbl> & <dbl+lbl> & <dbl> & <dbl+lbl> & <date> & <dbl> & <dbl> & <dbl> & <dbl> & <dbl> & <dbl> & <dbl> & <dbl> & <dbl> & <dbl> & <dbl> & <dbl> & <dbl> & <dbl> & <dbl> & <dbl> & <dbl> & <dbl> & <dbl> & <dbl> & <dbl> & <dbl> & <dbl> & <dbl> & <dbl> & <dbl> & <dbl> & <dbl> & <dbl> & <dbl> & <dbl> & <dbl> & <dbl> & <dbl> & <dbl> & <dbl> & <dbl> & <dbl> & <dbl> & <dbl> & <dbl> & <dbl> & <dbl> & <dbl> & <dbl> & <dbl> & <dbl> & <dbl> & <dbl> & <dbl> & <dbl> & <dbl> & <dbl> & <dbl> & <dbl> & <dbl> & <dbl> & <dbl> & <dbl> & <dbl> & <dbl> & <dbl> & <dbl> & <dbl> & <dbl> & <dbl> & <dbl> & <dbl> & <dbl> & <dbl> & <dbl> & <dbl> & <dbl> & <dbl> & <dbl> & <dbl> & <dbl> & <dbl> & <dbl> & <dbl> & <dbl> & <dbl> & <dbl> & <dbl> & <dbl> & <dbl> & <dbl> & <dbl> & <dbl> & <dbl> & <dbl> & <dbl> & <dbl> & <dbl> & <dbl> & <dbl> & <dbl> & <dbl> & <dbl> & <dbl> & <dbl> & <dbl> & <dbl> & <dbl> & <dbl> & <dbl> & <dbl> & <dbl> & <dbl> & <dbl> & <dbl> & <dbl> & <dbl> & <dbl> & <dbl> & <dbl> & <dbl> & <dbl> & <dbl> & <dbl> & <dbl> & <dbl> & <dbl> & <dbl> & <dbl> & <dbl> & <dbl> & <dbl> & <dbl> & <dbl> & <dbl> & <dbl> & <dbl> & <dbl> & <dbl> & <dbl> & <dbl+lbl> & <dbl> & <dbl> & <dbl> & <dbl> & <dbl+lbl> & <dbl> & <dbl> & <dbl> & <dbl> & <dbl> & <dbl> & <dbl> & <dbl> & <dbl> & <dbl> & <dbl> & <dbl> & <dbl> & <dbl> & <dbl> & <dbl> & <dbl> & <dbl> & <dbl> & <dbl> & <dbl> & <dbl> & <dbl> & <dbl>\\\\\n",
       "\\hline\n",
       "\t 1 & 0 & 17 &  1 & 2009-08-20 & 25 & 24 & 24 & 22 & 3492.7 & 3592.5 & 5488.6 & 8282.74 & 34 & 37 & 39 & 42 & 1.48 & 1.48 & 1.48 & 1.48 & 54.4 & 51.7 & 52.6 & 48.3 & 4204 & 3571 & 103 & 114 & 759 & 605 & 86 & 76 & 115.0 &  84.7 & 205 & 135.8 & 304.9 &  79.3 & 23.7 & 38.4 & 120.4 &  81.5 & 7.43 & 6.92 & 4.44 & 5.55 & 1 & 1 & 166.10 & 186.01 & 189.40 & 167.38 & 14.63 & 24.07 & 18.35 & 19.22 & 1 &  1 &  1 &  1 & 2 &  2 &  2 &  1 & 0 &  1 &  1 &  1 & 1 &  3 &  2 &  2 & 2 &  1 &  1 &  1 & 0 &  0 &  0 &  0 & NA &  1 &  1 &  1 & 5 &  9 &  5 &  9 & 0 &  0 &  0 &  0 & 2 &  5 &  5 &  4 & 151.47 & 161.93 & 171.05 & 148.16 & 3 &  5 &  4 &  1 & 18 & 29 & 23 & 15 & 2 &  0 &  0 &  0 & 1 &  1 &  1 &  1 & 10 &  9 & 10 & 11 & 89 &  89 &  99 &  72 & 20 & 17 & 22 & 34 & 3 &  3 &  3 &  2 & 5 &  8 &  8 & 11 & 1 &  1 &  1 &  1 & 1 & 151.47 & 161.93 & 171.05 & 148.16 & 2 & 177.2225 & 19.0675 & 1.00 & 1.75 & 0.75 & 2.00 & 1.25 & 0.00 &   NA & 7.00 &  0 & 4.00 & 158.1525 & 3.25 & 21.25 & 0.5 & 1.00 & 10.00 &  87.25 & 23.25 & 2.75 & 8.0 & 1.00 & 0\\\\\n",
       "\t 2 & 0 & 16 &  2 & 2009-08-24 & 32 & 31 & 30 & 29 & 3392.9 & 4091.5 & 5987.5 & 7883.57 & 35 & 37 & 38 & 41 & 1.52 & 1.52 & 1.52 & 1.52 & 74.7 & 71.7 & 69.0 & 65.9 & 1586 & 2416 &  27 &  65 & 242 & 401 & 34 & 61 & 107.8 &  86.7 & 196 & 160.0 & 193.0 &  86.7 & 34.5 & 30.1 & 122.9 & 112.6 & 7.08 & 7.59 & 4.42 & 5.61 & 1 & 1 &  22.35 & 233.20 & 197.11 & 366.14 &  6.74 & 20.50 & 11.41 & 17.19 & 1 &  1 &  1 &  1 & 1 &  3 &  2 &  2 & 0 &  1 &  0 &  1 & 1 &  2 &  1 &  2 & 1 &  1 &  1 &  1 & 0 &  1 &  0 &  0 &  0 &  1 &  1 &  1 & 1 &  8 &  3 &  5 & 0 &  0 &  0 &  0 & 1 &  4 &  2 &  4 &  15.62 & 212.70 & 185.70 & 348.95 & 1 &  2 &  4 &  9 &  2 & 20 & 21 & 30 & 0 &  0 &  0 &  0 & 0 &  1 &  1 &  1 &  3 & 17 & 15 & 20 &  4 & 103 & 104 & 191 &  1 & 53 & 29 & 79 & 2 &  3 &  3 &  2 & 3 & 12 &  7 & 16 & 0 &  1 &  1 &  1 & 1 &  15.62 & 212.70 & 185.70 & 348.95 & 1 & 204.7000 & 13.9600 & 1.00 & 2.00 & 0.50 & 1.50 & 1.00 & 0.25 & 0.75 & 4.25 &  0 & 2.75 & 190.7425 & 4.00 & 18.25 & 0.0 & 0.75 & 13.75 & 100.50 & 40.50 & 2.50 & 9.5 & 0.75 & 0\\\\\n",
       "\t 3 & 0 & 17 &  2 & 2009-08-21 & 23 & 23 & NA & NA & 2993.8 & 3592.5 &     NA &      NA & 35 & 37 & NA & NA & 1.55 & 1.55 & 1.55 & 1.55 & 56.4 & 54.7 &   NA &   NA & 2052 &   NA &  88 &  NA & 281 &  NA & 67 & NA &  87.2 &    NA & 346 &    NA & 285.0 &    NA & 23.0 &   NA & 266.0 &    NA & 8.35 &   NA & 4.79 &   NA & 1 & 1 & 128.53 & 266.21 &     NA &     NA & 18.49 & 25.04 &    NA &    NA & 1 &  1 & NA & NA & 2 &  3 & NA & NA & 1 &  1 & NA & NA & 2 &  2 & NA & NA & 2 &  1 & NA & NA & 0 &  0 & NA & NA &  1 &  1 & NA & NA & 8 & 12 & NA & NA & 0 &  0 & NA & NA & 3 &  4 & NA & NA & 110.03 & 241.16 &     NA &     NA & 4 &  7 & NA & NA & 20 & 35 & NA & NA & 0 &  0 & NA & NA & 2 &  2 & NA & NA &  5 & 13 & NA & NA & 54 & 122 &  NA &  NA & 16 & 43 & NA & NA & 3 &  3 & NA & NA & 6 & 14 & NA & NA & 1 &  1 & NA & NA & 1 & 110.03 & 241.16 &   0.00 &   0.00 & 2 &       NA &      NA &   NA &   NA &   NA &   NA &   NA &   NA &   NA &   NA & NA &   NA &       NA &   NA &    NA &  NA &   NA &    NA &     NA &    NA &   NA &  NA &   NA & 0\\\\\n",
       "\t 4 & 0 & 16 &  2 & 2009-08-21 & 26 & NA & NA & NA & 3692.3 &     NA &     NA &      NA & 37 & NA & NA & NA & 1.60 &   NA &   NA &   NA & 65.9 &   NA &   NA &   NA &   NA &   NA &  NA &  NA &  NA &  NA & NA & NA &  95.7 &    NA & 273 &    NA & 143.2 &    NA & 39.9 &   NA & 204.4 &    NA & 7.12 &   NA & 4.47 &   NA & 1 & 1 &  71.85 &     NA &     NA &     NA &  8.59 &    NA &    NA &    NA & 1 & NA & NA & NA & 1 & NA & NA & NA & 0 & NA & NA & NA & 1 & NA & NA & NA & 1 & NA & NA & NA & 0 & NA & NA & NA &  0 & NA & NA & NA & 2 & NA & NA & NA & 0 & NA & NA & NA & 2 & NA & NA & NA &  63.27 &     NA &     NA &     NA & 1 & NA & NA & NA &  6 & NA & NA & NA & 0 & NA & NA & NA & 1 & NA & NA & NA &  4 & NA & NA & NA & 33 &  NA &  NA &  NA & 10 & NA & NA & NA & 3 & NA & NA & NA & 4 & NA & NA & NA & 1 & NA & NA & NA & 1 &  63.27 &   0.00 &   0.00 &   0.00 & 1 &       NA &      NA &   NA &   NA &   NA &   NA &   NA &   NA &   NA &   NA & NA &   NA &       NA &   NA &    NA &  NA &   NA &    NA &     NA &    NA &   NA &  NA &   NA & 0\\\\\n",
       "\t 5 & 0 & 16 & NA & 2009-08-29 & 25 & NA & NA & NA & 3592.5 &     NA &     NA &      NA & 34 & NA & NA & NA & 1.51 &   NA &   NA &   NA & 56.5 &   NA &   NA &   NA & 1621 &   NA &  63 &  NA & 270 &  NA & 38 & NA &  73.9 &    NA & 266 &    NA & 123.0 &    NA & 37.7 &   NA & 203.7 &    NA & 6.90 &   NA & 4.39 &   NA & 1 & 1 &  54.19 &     NA &     NA &     NA & 11.05 &    NA &    NA &    NA & 2 & NA & NA & NA & 1 & NA & NA & NA & 0 & NA & NA & NA & 1 & NA & NA & NA & 3 & NA & NA & NA & 0 & NA & NA & NA &  0 & NA & NA & NA & 3 & NA & NA & NA & 0 & NA & NA & NA & 1 & NA & NA & NA &  43.14 &     NA &     NA &     NA & 1 & NA & NA & NA &  5 & NA & NA & NA & 0 & NA & NA & NA & 0 & NA & NA & NA &  3 & NA & NA & NA & 23 &  NA &  NA &  NA &  4 & NA & NA & NA & 2 & NA & NA & NA & 4 & NA & NA & NA & 0 & NA & NA & NA & 1 &  43.14 &   0.00 &   0.00 &   0.00 & 1 &       NA &      NA &   NA &   NA &   NA &   NA &   NA &   NA &   NA &   NA & NA &   NA &       NA &   NA &    NA &  NA &   NA &    NA &     NA &    NA &   NA &  NA &   NA & 0\\\\\n",
       "\t 6 & 0 & 16 &  2 & 2009-08-27 & 29 & 28 & 30 & 31 & 3093.5 & 3392.9 & 4989.6 & 6785.80 & 35 & 36 & 39 & 44 & 1.57 & 1.57 & 1.57 & 1.57 & 71.2 & 69.5 & 72.9 & 76.2 & 1932 &  970 & 100 &  56 & 311 & 131 & 28 & 30 & 100.7 & 117.1 & 224 & 221.0 & 289.0 & 120.0 & 21.9 & 55.0 & 144.3 & 142.0 & 7.72 & 6.77 & 4.49 & 4.72 & 1 & 1 &  79.75 & 155.78 & 201.10 & 248.13 & 14.20 & 20.89 & 22.26 & 24.01 & 2 &  3 &  2 &  2 & 1 &  2 &  2 &  2 & 1 &  1 &  1 &  1 & 1 &  2 &  2 &  2 & 3 &  4 &  2 &  2 & 0 &  0 &  0 &  0 &  0 &  1 &  1 &  1 & 4 &  5 &  6 &  8 & 0 &  0 &  0 &  0 & 2 &  3 &  5 &  4 &  65.55 & 134.89 & 178.85 & 224.13 & 1 &  3 &  3 &  5 &  5 & 17 & 17 & 23 & 1 &  0 &  1 &  0 & 1 &  1 &  2 &  2 &  4 & 10 & 12 & 15 & 30 &  67 &  92 & 110 & 12 & 22 & 36 & 50 & 5 &  6 &  5 &  5 & 4 &  7 &  9 & 12 & 1 &  2 &  2 &  3 & 1 &  65.55 & 134.89 & 178.85 & 224.13 & 1 & 171.1900 & 20.3400 & 2.25 & 1.75 & 1.00 & 1.75 & 2.75 & 0.00 & 0.75 & 5.75 &  0 & 3.50 & 150.8550 & 3.00 & 15.50 & 0.5 & 1.50 & 10.25 &  74.75 & 30.00 & 5.25 & 8.0 & 2.00 & 0\\\\\n",
       "\\end{tabular}\n"
      ],
      "text/markdown": [
       "\n",
       "A tibble: 6 × 171\n",
       "\n",
       "| ID &lt;dbl&gt; | GROUP &lt;dbl+lbl&gt; | MATERNALAGE &lt;dbl&gt; | SEXO &lt;dbl+lbl&gt; | INFANTDOB &lt;date&gt; | MATBMI1COLL &lt;dbl&gt; | MATBMI215d &lt;dbl&gt; | MATBMI32mos &lt;dbl&gt; | MATBMI44mos &lt;dbl&gt; | BABYWeigth1g &lt;dbl&gt; | ⋯ ⋯ | ALAGLOB &lt;dbl&gt; | ASNGLOB &lt;dbl&gt; | SYSGLOB &lt;dbl&gt; | GLYGLOB &lt;dbl&gt; | GLUGLOB &lt;dbl&gt; | GLNGLOB &lt;dbl&gt; | PROLINEGLOB &lt;dbl&gt; | SERINEGLOB &lt;dbl&gt; | TYRAMINEGLOB &lt;dbl&gt; | new &lt;dbl&gt; |\n",
       "|---|---|---|---|---|---|---|---|---|---|---|---|---|---|---|---|---|---|---|---|---|\n",
       "| 1 | 0 | 17 |  1 | 2009-08-20 | 25 | 24 | 24 | 22 | 3492.7 | ⋯ | 21.25 | 0.5 | 1.00 | 10.00 |  87.25 | 23.25 | 2.75 | 8.0 | 1.00 | 0 |\n",
       "| 2 | 0 | 16 |  2 | 2009-08-24 | 32 | 31 | 30 | 29 | 3392.9 | ⋯ | 18.25 | 0.0 | 0.75 | 13.75 | 100.50 | 40.50 | 2.50 | 9.5 | 0.75 | 0 |\n",
       "| 3 | 0 | 17 |  2 | 2009-08-21 | 23 | 23 | NA | NA | 2993.8 | ⋯ |    NA |  NA |   NA |    NA |     NA |    NA |   NA |  NA |   NA | 0 |\n",
       "| 4 | 0 | 16 |  2 | 2009-08-21 | 26 | NA | NA | NA | 3692.3 | ⋯ |    NA |  NA |   NA |    NA |     NA |    NA |   NA |  NA |   NA | 0 |\n",
       "| 5 | 0 | 16 | NA | 2009-08-29 | 25 | NA | NA | NA | 3592.5 | ⋯ |    NA |  NA |   NA |    NA |     NA |    NA |   NA |  NA |   NA | 0 |\n",
       "| 6 | 0 | 16 |  2 | 2009-08-27 | 29 | 28 | 30 | 31 | 3093.5 | ⋯ | 15.50 | 0.5 | 1.50 | 10.25 |  74.75 | 30.00 | 5.25 | 8.0 | 2.00 | 0 |\n",
       "\n"
      ],
      "text/plain": [
       "  ID GROUP MATERNALAGE SEXO INFANTDOB  MATBMI1COLL MATBMI215d MATBMI32mos\n",
       "1 1  0     17           1   2009-08-20 25          24         24         \n",
       "2 2  0     16           2   2009-08-24 32          31         30         \n",
       "3 3  0     17           2   2009-08-21 23          23         NA         \n",
       "4 4  0     16           2   2009-08-21 26          NA         NA         \n",
       "5 5  0     16          NA   2009-08-29 25          NA         NA         \n",
       "6 6  0     16           2   2009-08-27 29          28         30         \n",
       "  MATBMI44mos BABYWeigth1g ⋯ ALAGLOB ASNGLOB SYSGLOB GLYGLOB GLUGLOB GLNGLOB\n",
       "1 22          3492.7       ⋯ 21.25   0.5     1.00    10.00    87.25  23.25  \n",
       "2 29          3392.9       ⋯ 18.25   0.0     0.75    13.75   100.50  40.50  \n",
       "3 NA          2993.8       ⋯    NA    NA       NA       NA       NA     NA  \n",
       "4 NA          3692.3       ⋯    NA    NA       NA       NA       NA     NA  \n",
       "5 NA          3592.5       ⋯    NA    NA       NA       NA       NA     NA  \n",
       "6 31          3093.5       ⋯ 15.50   0.5     1.50    10.25    74.75  30.00  \n",
       "  PROLINEGLOB SERINEGLOB TYRAMINEGLOB new\n",
       "1 2.75        8.0        1.00         0  \n",
       "2 2.50        9.5        0.75         0  \n",
       "3   NA         NA          NA         0  \n",
       "4   NA         NA          NA         0  \n",
       "5   NA         NA          NA         0  \n",
       "6 5.25        8.0        2.00         0  "
      ]
     },
     "metadata": {},
     "output_type": "display_data"
    }
   ],
   "source": [
    "AA_Sex_1 <- read_sav(\"~/Documents/AA-leche-humana/datos/AMINOACIDOS POR SEXO_1.sav\")\n",
    "head(AA_Sex_1) "
   ]
  },
  {
   "cell_type": "code",
   "execution_count": 3,
   "metadata": {},
   "outputs": [
    {
     "data": {
      "text/html": [
       "<ol class=list-inline>\n",
       "\t<li>'id'</li>\n",
       "\t<li>'group'</li>\n",
       "\t<li>'age'</li>\n",
       "\t<li>'sex'</li>\n",
       "\t<li>'HISCalostrum'</li>\n",
       "\t<li>'HISTransition'</li>\n",
       "\t<li>'HISMature2m'</li>\n",
       "\t<li>'HISMature4m'</li>\n",
       "\t<li>'ILECalostrum'</li>\n",
       "\t<li>'ILETransition'</li>\n",
       "\t<li>'ILEMature2m'</li>\n",
       "\t<li>'ILEMature4m'</li>\n",
       "\t<li>'LEUCalostrum'</li>\n",
       "\t<li>'LEUTransition'</li>\n",
       "\t<li>'LEUMature2m'</li>\n",
       "\t<li>'LEUMature4m'</li>\n",
       "\t<li>'LYSCalostrum'</li>\n",
       "\t<li>'LYSTransition'</li>\n",
       "\t<li>'LYSMature2m'</li>\n",
       "\t<li>'LYSMature4m'</li>\n",
       "\t<li>'METCalostrum'</li>\n",
       "\t<li>'METTransition'</li>\n",
       "\t<li>'METMature2m'</li>\n",
       "\t<li>'METMature4m'</li>\n",
       "\t<li>'PHECalostrum'</li>\n",
       "\t<li>'PHETransition'</li>\n",
       "\t<li>'PHEMature2m'</li>\n",
       "\t<li>'PHEMature4m'</li>\n",
       "\t<li>'THRCalostrum'</li>\n",
       "\t<li>'THRTransition'</li>\n",
       "\t<li>'THRMature2m'</li>\n",
       "\t<li>'THRMature4m'</li>\n",
       "\t<li>'TRPCalostrum'</li>\n",
       "\t<li>'TRPTransition'</li>\n",
       "\t<li>'TRPMature2m'</li>\n",
       "\t<li>'TRPMature4m'</li>\n",
       "\t<li>'VALCalostrum'</li>\n",
       "\t<li>'VALTransition'</li>\n",
       "\t<li>'VALMature2m'</li>\n",
       "\t<li>'VALMature4m'</li>\n",
       "</ol>\n"
      ],
      "text/latex": [
       "\\begin{enumerate*}\n",
       "\\item 'id'\n",
       "\\item 'group'\n",
       "\\item 'age'\n",
       "\\item 'sex'\n",
       "\\item 'HISCalostrum'\n",
       "\\item 'HISTransition'\n",
       "\\item 'HISMature2m'\n",
       "\\item 'HISMature4m'\n",
       "\\item 'ILECalostrum'\n",
       "\\item 'ILETransition'\n",
       "\\item 'ILEMature2m'\n",
       "\\item 'ILEMature4m'\n",
       "\\item 'LEUCalostrum'\n",
       "\\item 'LEUTransition'\n",
       "\\item 'LEUMature2m'\n",
       "\\item 'LEUMature4m'\n",
       "\\item 'LYSCalostrum'\n",
       "\\item 'LYSTransition'\n",
       "\\item 'LYSMature2m'\n",
       "\\item 'LYSMature4m'\n",
       "\\item 'METCalostrum'\n",
       "\\item 'METTransition'\n",
       "\\item 'METMature2m'\n",
       "\\item 'METMature4m'\n",
       "\\item 'PHECalostrum'\n",
       "\\item 'PHETransition'\n",
       "\\item 'PHEMature2m'\n",
       "\\item 'PHEMature4m'\n",
       "\\item 'THRCalostrum'\n",
       "\\item 'THRTransition'\n",
       "\\item 'THRMature2m'\n",
       "\\item 'THRMature4m'\n",
       "\\item 'TRPCalostrum'\n",
       "\\item 'TRPTransition'\n",
       "\\item 'TRPMature2m'\n",
       "\\item 'TRPMature4m'\n",
       "\\item 'VALCalostrum'\n",
       "\\item 'VALTransition'\n",
       "\\item 'VALMature2m'\n",
       "\\item 'VALMature4m'\n",
       "\\end{enumerate*}\n"
      ],
      "text/markdown": [
       "1. 'id'\n",
       "2. 'group'\n",
       "3. 'age'\n",
       "4. 'sex'\n",
       "5. 'HISCalostrum'\n",
       "6. 'HISTransition'\n",
       "7. 'HISMature2m'\n",
       "8. 'HISMature4m'\n",
       "9. 'ILECalostrum'\n",
       "10. 'ILETransition'\n",
       "11. 'ILEMature2m'\n",
       "12. 'ILEMature4m'\n",
       "13. 'LEUCalostrum'\n",
       "14. 'LEUTransition'\n",
       "15. 'LEUMature2m'\n",
       "16. 'LEUMature4m'\n",
       "17. 'LYSCalostrum'\n",
       "18. 'LYSTransition'\n",
       "19. 'LYSMature2m'\n",
       "20. 'LYSMature4m'\n",
       "21. 'METCalostrum'\n",
       "22. 'METTransition'\n",
       "23. 'METMature2m'\n",
       "24. 'METMature4m'\n",
       "25. 'PHECalostrum'\n",
       "26. 'PHETransition'\n",
       "27. 'PHEMature2m'\n",
       "28. 'PHEMature4m'\n",
       "29. 'THRCalostrum'\n",
       "30. 'THRTransition'\n",
       "31. 'THRMature2m'\n",
       "32. 'THRMature4m'\n",
       "33. 'TRPCalostrum'\n",
       "34. 'TRPTransition'\n",
       "35. 'TRPMature2m'\n",
       "36. 'TRPMature4m'\n",
       "37. 'VALCalostrum'\n",
       "38. 'VALTransition'\n",
       "39. 'VALMature2m'\n",
       "40. 'VALMature4m'\n",
       "\n",
       "\n"
      ],
      "text/plain": [
       " [1] \"id\"            \"group\"         \"age\"           \"sex\"          \n",
       " [5] \"HISCalostrum\"  \"HISTransition\" \"HISMature2m\"   \"HISMature4m\"  \n",
       " [9] \"ILECalostrum\"  \"ILETransition\" \"ILEMature2m\"   \"ILEMature4m\"  \n",
       "[13] \"LEUCalostrum\"  \"LEUTransition\" \"LEUMature2m\"   \"LEUMature4m\"  \n",
       "[17] \"LYSCalostrum\"  \"LYSTransition\" \"LYSMature2m\"   \"LYSMature4m\"  \n",
       "[21] \"METCalostrum\"  \"METTransition\" \"METMature2m\"   \"METMature4m\"  \n",
       "[25] \"PHECalostrum\"  \"PHETransition\" \"PHEMature2m\"   \"PHEMature4m\"  \n",
       "[29] \"THRCalostrum\"  \"THRTransition\" \"THRMature2m\"   \"THRMature4m\"  \n",
       "[33] \"TRPCalostrum\"  \"TRPTransition\" \"TRPMature2m\"   \"TRPMature4m\"  \n",
       "[37] \"VALCalostrum\"  \"VALTransition\" \"VALMature2m\"   \"VALMature4m\"  "
      ]
     },
     "metadata": {},
     "output_type": "display_data"
    }
   ],
   "source": [
    "AA_E <- AA_Sex_1 %>%  select(id = ID, group = GROUP, age = MATERNALAGE, sex = SEXO, 62:97) %>%\n",
    "                         mutate(id = factor(id), \n",
    "                                sex =  factor(sex, labels = c('girl', 'boy')),\n",
    "                                group = factor(group, labels = c('teen', 'adult'))) \n",
    "\n",
    "\n",
    "names(AA_E)"
   ]
  },
  {
   "cell_type": "code",
   "execution_count": 4,
   "metadata": {},
   "outputs": [
    {
     "data": {
      "text/html": [
       "<ol class=list-inline>\n",
       "\t<li>'id'</li>\n",
       "\t<li>'group'</li>\n",
       "\t<li>'age'</li>\n",
       "\t<li>'sex'</li>\n",
       "\t<li>'ARGCalostrum'</li>\n",
       "\t<li>'ARGTransition'</li>\n",
       "\t<li>'ARGMature2m'</li>\n",
       "\t<li>'ARGMature4m'</li>\n",
       "\t<li>'ASPCalostrum'</li>\n",
       "\t<li>'ASPTransition'</li>\n",
       "\t<li>'ASPMature2m'</li>\n",
       "\t<li>'ASPMature4m'</li>\n",
       "\t<li>'ALACalostrum'</li>\n",
       "\t<li>'ALATransition'</li>\n",
       "\t<li>'ALAMature2m'</li>\n",
       "\t<li>'ALAMature4m'</li>\n",
       "\t<li>'ASNCalostrum'</li>\n",
       "\t<li>'ASNTransition'</li>\n",
       "\t<li>'ASNMature2m'</li>\n",
       "\t<li>'ASNMature4m'</li>\n",
       "\t<li>'CYSCalostrum'</li>\n",
       "\t<li>'CYSTransition'</li>\n",
       "\t<li>'CYSMature2m'</li>\n",
       "\t<li>'CYSMature4m'</li>\n",
       "\t<li>'GLYCalostrum'</li>\n",
       "\t<li>'GLYTransition'</li>\n",
       "\t<li>'GLYMature2m'</li>\n",
       "\t<li>'GLYMature4m'</li>\n",
       "\t<li>'GLUCalostrum'</li>\n",
       "\t<li>'GLUTransition'</li>\n",
       "\t<li>'GLUMature2m'</li>\n",
       "\t<li>'GLUMature4m'</li>\n",
       "\t<li>'GLNCalostrum'</li>\n",
       "\t<li>'GLNTransition'</li>\n",
       "\t<li>'GLNMature2m'</li>\n",
       "\t<li>'GLNMature4m'</li>\n",
       "\t<li>'PROCalostrum'</li>\n",
       "\t<li>'PROTransition'</li>\n",
       "\t<li>'PROMature2m'</li>\n",
       "\t<li>'PROMature4m'</li>\n",
       "\t<li>'SERCalostrum'</li>\n",
       "\t<li>'SERTransition'</li>\n",
       "\t<li>'SERMature2m'</li>\n",
       "\t<li>'SERMature4m'</li>\n",
       "\t<li>'TYRCalostrum'</li>\n",
       "\t<li>'TYRTransition'</li>\n",
       "\t<li>'TYRMature2m'</li>\n",
       "\t<li>'TYRMature4m'</li>\n",
       "</ol>\n"
      ],
      "text/latex": [
       "\\begin{enumerate*}\n",
       "\\item 'id'\n",
       "\\item 'group'\n",
       "\\item 'age'\n",
       "\\item 'sex'\n",
       "\\item 'ARGCalostrum'\n",
       "\\item 'ARGTransition'\n",
       "\\item 'ARGMature2m'\n",
       "\\item 'ARGMature4m'\n",
       "\\item 'ASPCalostrum'\n",
       "\\item 'ASPTransition'\n",
       "\\item 'ASPMature2m'\n",
       "\\item 'ASPMature4m'\n",
       "\\item 'ALACalostrum'\n",
       "\\item 'ALATransition'\n",
       "\\item 'ALAMature2m'\n",
       "\\item 'ALAMature4m'\n",
       "\\item 'ASNCalostrum'\n",
       "\\item 'ASNTransition'\n",
       "\\item 'ASNMature2m'\n",
       "\\item 'ASNMature4m'\n",
       "\\item 'CYSCalostrum'\n",
       "\\item 'CYSTransition'\n",
       "\\item 'CYSMature2m'\n",
       "\\item 'CYSMature4m'\n",
       "\\item 'GLYCalostrum'\n",
       "\\item 'GLYTransition'\n",
       "\\item 'GLYMature2m'\n",
       "\\item 'GLYMature4m'\n",
       "\\item 'GLUCalostrum'\n",
       "\\item 'GLUTransition'\n",
       "\\item 'GLUMature2m'\n",
       "\\item 'GLUMature4m'\n",
       "\\item 'GLNCalostrum'\n",
       "\\item 'GLNTransition'\n",
       "\\item 'GLNMature2m'\n",
       "\\item 'GLNMature4m'\n",
       "\\item 'PROCalostrum'\n",
       "\\item 'PROTransition'\n",
       "\\item 'PROMature2m'\n",
       "\\item 'PROMature4m'\n",
       "\\item 'SERCalostrum'\n",
       "\\item 'SERTransition'\n",
       "\\item 'SERMature2m'\n",
       "\\item 'SERMature4m'\n",
       "\\item 'TYRCalostrum'\n",
       "\\item 'TYRTransition'\n",
       "\\item 'TYRMature2m'\n",
       "\\item 'TYRMature4m'\n",
       "\\end{enumerate*}\n"
      ],
      "text/markdown": [
       "1. 'id'\n",
       "2. 'group'\n",
       "3. 'age'\n",
       "4. 'sex'\n",
       "5. 'ARGCalostrum'\n",
       "6. 'ARGTransition'\n",
       "7. 'ARGMature2m'\n",
       "8. 'ARGMature4m'\n",
       "9. 'ASPCalostrum'\n",
       "10. 'ASPTransition'\n",
       "11. 'ASPMature2m'\n",
       "12. 'ASPMature4m'\n",
       "13. 'ALACalostrum'\n",
       "14. 'ALATransition'\n",
       "15. 'ALAMature2m'\n",
       "16. 'ALAMature4m'\n",
       "17. 'ASNCalostrum'\n",
       "18. 'ASNTransition'\n",
       "19. 'ASNMature2m'\n",
       "20. 'ASNMature4m'\n",
       "21. 'CYSCalostrum'\n",
       "22. 'CYSTransition'\n",
       "23. 'CYSMature2m'\n",
       "24. 'CYSMature4m'\n",
       "25. 'GLYCalostrum'\n",
       "26. 'GLYTransition'\n",
       "27. 'GLYMature2m'\n",
       "28. 'GLYMature4m'\n",
       "29. 'GLUCalostrum'\n",
       "30. 'GLUTransition'\n",
       "31. 'GLUMature2m'\n",
       "32. 'GLUMature4m'\n",
       "33. 'GLNCalostrum'\n",
       "34. 'GLNTransition'\n",
       "35. 'GLNMature2m'\n",
       "36. 'GLNMature4m'\n",
       "37. 'PROCalostrum'\n",
       "38. 'PROTransition'\n",
       "39. 'PROMature2m'\n",
       "40. 'PROMature4m'\n",
       "41. 'SERCalostrum'\n",
       "42. 'SERTransition'\n",
       "43. 'SERMature2m'\n",
       "44. 'SERMature4m'\n",
       "45. 'TYRCalostrum'\n",
       "46. 'TYRTransition'\n",
       "47. 'TYRMature2m'\n",
       "48. 'TYRMature4m'\n",
       "\n",
       "\n"
      ],
      "text/plain": [
       " [1] \"id\"            \"group\"         \"age\"           \"sex\"          \n",
       " [5] \"ARGCalostrum\"  \"ARGTransition\" \"ARGMature2m\"   \"ARGMature4m\"  \n",
       " [9] \"ASPCalostrum\"  \"ASPTransition\" \"ASPMature2m\"   \"ASPMature4m\"  \n",
       "[13] \"ALACalostrum\"  \"ALATransition\" \"ALAMature2m\"   \"ALAMature4m\"  \n",
       "[17] \"ASNCalostrum\"  \"ASNTransition\" \"ASNMature2m\"   \"ASNMature4m\"  \n",
       "[21] \"CYSCalostrum\"  \"CYSTransition\" \"CYSMature2m\"   \"CYSMature4m\"  \n",
       "[25] \"GLYCalostrum\"  \"GLYTransition\" \"GLYMature2m\"   \"GLYMature4m\"  \n",
       "[29] \"GLUCalostrum\"  \"GLUTransition\" \"GLUMature2m\"   \"GLUMature4m\"  \n",
       "[33] \"GLNCalostrum\"  \"GLNTransition\" \"GLNMature2m\"   \"GLNMature4m\"  \n",
       "[37] \"PROCalostrum\"  \"PROTransition\" \"PROMature2m\"   \"PROMature4m\"  \n",
       "[41] \"SERCalostrum\"  \"SERTransition\" \"SERMature2m\"   \"SERMature4m\"  \n",
       "[45] \"TYRCalostrum\"  \"TYRTransition\" \"TYRMature2m\"   \"TYRMature4m\"  "
      ]
     },
     "metadata": {},
     "output_type": "display_data"
    }
   ],
   "source": [
    "AA_NE <- AA_Sex_1 %>%  select(id = ID, group = GROUP, age = MATERNALAGE, sex = SEXO, 58:61, 102:141) %>%\n",
    "                         mutate(id = factor(id), \n",
    "                                sex =  factor(sex, labels = c('girl', 'boy')),\n",
    "                                group = factor(group, labels = c('teen', 'adult'))) \n",
    "\n",
    "names(AA_NE)"
   ]
  },
  {
   "cell_type": "code",
   "execution_count": 5,
   "metadata": {},
   "outputs": [
    {
     "name": "stderr",
     "output_type": "stream",
     "text": [
      "Warning message:\n",
      "\"attributes are not identical across measure variables;\n",
      "they will be dropped\"Warning message:\n",
      "\"attributes are not identical across measure variables;\n",
      "they will be dropped\""
     ]
    },
    {
     "data": {
      "text/html": [
       "<table>\n",
       "<caption>A tibble: 6 × 6</caption>\n",
       "<thead>\n",
       "\t<tr><th scope=col>id</th><th scope=col>group</th><th scope=col>age</th><th scope=col>sex</th><th scope=col>weekNames</th><th scope=col>level</th></tr>\n",
       "\t<tr><th scope=col>&lt;fct&gt;</th><th scope=col>&lt;fct&gt;</th><th scope=col>&lt;dbl&gt;</th><th scope=col>&lt;fct&gt;</th><th scope=col>&lt;chr&gt;</th><th scope=col>&lt;dbl&gt;</th></tr>\n",
       "</thead>\n",
       "<tbody>\n",
       "\t<tr><td>1</td><td>teen</td><td>17</td><td>girl</td><td>HISCalostrum</td><td>2</td></tr>\n",
       "\t<tr><td>2</td><td>teen</td><td>16</td><td>boy </td><td>HISCalostrum</td><td>1</td></tr>\n",
       "\t<tr><td>3</td><td>teen</td><td>17</td><td>boy </td><td>HISCalostrum</td><td>2</td></tr>\n",
       "\t<tr><td>4</td><td>teen</td><td>16</td><td>boy </td><td>HISCalostrum</td><td>1</td></tr>\n",
       "\t<tr><td>5</td><td>teen</td><td>16</td><td>NA  </td><td>HISCalostrum</td><td>1</td></tr>\n",
       "\t<tr><td>6</td><td>teen</td><td>16</td><td>boy </td><td>HISCalostrum</td><td>1</td></tr>\n",
       "</tbody>\n",
       "</table>\n"
      ],
      "text/latex": [
       "A tibble: 6 × 6\n",
       "\\begin{tabular}{r|llllll}\n",
       " id & group & age & sex & weekNames & level\\\\\n",
       " <fct> & <fct> & <dbl> & <fct> & <chr> & <dbl>\\\\\n",
       "\\hline\n",
       "\t 1 & teen & 17 & girl & HISCalostrum & 2\\\\\n",
       "\t 2 & teen & 16 & boy  & HISCalostrum & 1\\\\\n",
       "\t 3 & teen & 17 & boy  & HISCalostrum & 2\\\\\n",
       "\t 4 & teen & 16 & boy  & HISCalostrum & 1\\\\\n",
       "\t 5 & teen & 16 & NA   & HISCalostrum & 1\\\\\n",
       "\t 6 & teen & 16 & boy  & HISCalostrum & 1\\\\\n",
       "\\end{tabular}\n"
      ],
      "text/markdown": [
       "\n",
       "A tibble: 6 × 6\n",
       "\n",
       "| id &lt;fct&gt; | group &lt;fct&gt; | age &lt;dbl&gt; | sex &lt;fct&gt; | weekNames &lt;chr&gt; | level &lt;dbl&gt; |\n",
       "|---|---|---|---|---|---|\n",
       "| 1 | teen | 17 | girl | HISCalostrum | 2 |\n",
       "| 2 | teen | 16 | boy  | HISCalostrum | 1 |\n",
       "| 3 | teen | 17 | boy  | HISCalostrum | 2 |\n",
       "| 4 | teen | 16 | boy  | HISCalostrum | 1 |\n",
       "| 5 | teen | 16 | NA   | HISCalostrum | 1 |\n",
       "| 6 | teen | 16 | boy  | HISCalostrum | 1 |\n",
       "\n"
      ],
      "text/plain": [
       "  id group age sex  weekNames    level\n",
       "1 1  teen  17  girl HISCalostrum 2    \n",
       "2 2  teen  16  boy  HISCalostrum 1    \n",
       "3 3  teen  17  boy  HISCalostrum 2    \n",
       "4 4  teen  16  boy  HISCalostrum 1    \n",
       "5 5  teen  16  NA   HISCalostrum 1    \n",
       "6 6  teen  16  boy  HISCalostrum 1    "
      ]
     },
     "metadata": {},
     "output_type": "display_data"
    }
   ],
   "source": [
    "# Removing NAs\n",
    "AA_E_Long <- AA_E %>% gather(weekNames, level, 5:length(names(AA_E))) \n",
    "AA_NE_Long <- AA_NE %>% gather(weekNames, level, 5:length(names(AA_NE))) \n",
    "\n",
    "head(AA_E_Long)"
   ]
  },
  {
   "cell_type": "code",
   "execution_count": 6,
   "metadata": {},
   "outputs": [
    {
     "data": {
      "text/html": [
       "<table>\n",
       "<caption>A tibble: 6 × 8</caption>\n",
       "<thead>\n",
       "\t<tr><th scope=col>id</th><th scope=col>group</th><th scope=col>age</th><th scope=col>sex</th><th scope=col>weekNames</th><th scope=col>level</th><th scope=col>week</th><th scope=col>AA</th></tr>\n",
       "\t<tr><th scope=col>&lt;fct&gt;</th><th scope=col>&lt;fct&gt;</th><th scope=col>&lt;dbl&gt;</th><th scope=col>&lt;fct&gt;</th><th scope=col>&lt;chr&gt;</th><th scope=col>&lt;dbl&gt;</th><th scope=col>&lt;dbl&gt;</th><th scope=col>&lt;chr&gt;</th></tr>\n",
       "</thead>\n",
       "<tbody>\n",
       "\t<tr><td>1</td><td>teen</td><td>17</td><td>girl</td><td>HISCalostrum</td><td>2</td><td>1</td><td>HIS</td></tr>\n",
       "\t<tr><td>2</td><td>teen</td><td>16</td><td>boy </td><td>HISCalostrum</td><td>1</td><td>1</td><td>HIS</td></tr>\n",
       "\t<tr><td>3</td><td>teen</td><td>17</td><td>boy </td><td>HISCalostrum</td><td>2</td><td>1</td><td>HIS</td></tr>\n",
       "\t<tr><td>4</td><td>teen</td><td>16</td><td>boy </td><td>HISCalostrum</td><td>1</td><td>1</td><td>HIS</td></tr>\n",
       "\t<tr><td>5</td><td>teen</td><td>16</td><td>NA  </td><td>HISCalostrum</td><td>1</td><td>1</td><td>HIS</td></tr>\n",
       "\t<tr><td>6</td><td>teen</td><td>16</td><td>boy </td><td>HISCalostrum</td><td>1</td><td>1</td><td>HIS</td></tr>\n",
       "</tbody>\n",
       "</table>\n"
      ],
      "text/latex": [
       "A tibble: 6 × 8\n",
       "\\begin{tabular}{r|llllllll}\n",
       " id & group & age & sex & weekNames & level & week & AA\\\\\n",
       " <fct> & <fct> & <dbl> & <fct> & <chr> & <dbl> & <dbl> & <chr>\\\\\n",
       "\\hline\n",
       "\t 1 & teen & 17 & girl & HISCalostrum & 2 & 1 & HIS\\\\\n",
       "\t 2 & teen & 16 & boy  & HISCalostrum & 1 & 1 & HIS\\\\\n",
       "\t 3 & teen & 17 & boy  & HISCalostrum & 2 & 1 & HIS\\\\\n",
       "\t 4 & teen & 16 & boy  & HISCalostrum & 1 & 1 & HIS\\\\\n",
       "\t 5 & teen & 16 & NA   & HISCalostrum & 1 & 1 & HIS\\\\\n",
       "\t 6 & teen & 16 & boy  & HISCalostrum & 1 & 1 & HIS\\\\\n",
       "\\end{tabular}\n"
      ],
      "text/markdown": [
       "\n",
       "A tibble: 6 × 8\n",
       "\n",
       "| id &lt;fct&gt; | group &lt;fct&gt; | age &lt;dbl&gt; | sex &lt;fct&gt; | weekNames &lt;chr&gt; | level &lt;dbl&gt; | week &lt;dbl&gt; | AA &lt;chr&gt; |\n",
       "|---|---|---|---|---|---|---|---|\n",
       "| 1 | teen | 17 | girl | HISCalostrum | 2 | 1 | HIS |\n",
       "| 2 | teen | 16 | boy  | HISCalostrum | 1 | 1 | HIS |\n",
       "| 3 | teen | 17 | boy  | HISCalostrum | 2 | 1 | HIS |\n",
       "| 4 | teen | 16 | boy  | HISCalostrum | 1 | 1 | HIS |\n",
       "| 5 | teen | 16 | NA   | HISCalostrum | 1 | 1 | HIS |\n",
       "| 6 | teen | 16 | boy  | HISCalostrum | 1 | 1 | HIS |\n",
       "\n"
      ],
      "text/plain": [
       "  id group age sex  weekNames    level week AA \n",
       "1 1  teen  17  girl HISCalostrum 2     1    HIS\n",
       "2 2  teen  16  boy  HISCalostrum 1     1    HIS\n",
       "3 3  teen  17  boy  HISCalostrum 2     1    HIS\n",
       "4 4  teen  16  boy  HISCalostrum 1     1    HIS\n",
       "5 5  teen  16  NA   HISCalostrum 1     1    HIS\n",
       "6 6  teen  16  boy  HISCalostrum 1     1    HIS"
      ]
     },
     "metadata": {},
     "output_type": "display_data"
    }
   ],
   "source": [
    "AA_E_Long <- \n",
    "    AA_E_Long %>% \n",
    "        mutate(week = gsub(\".*Calostrum.*\", \"1\", weekNames)) %>%\n",
    "        mutate(week = gsub(\".*Transition.*\", \"2\", week)) %>%\n",
    "        mutate(week = gsub(\".*Mature2m.*\", \"8\", week)) %>%\n",
    "        mutate(week = gsub(\".*Mature4m.*\", \"16\", week)) %>% \n",
    "        mutate(week = as.numeric(week))\n",
    "\n",
    "AA_E_Long <- \n",
    "    AA_E_Long %>% \n",
    "        mutate(AA = gsub(\"Calostrum.*\", \"\", weekNames)) %>%\n",
    "        mutate(AA = gsub(\"Transition.*\", \"\", AA)) %>%\n",
    "        mutate(AA = gsub(\"Mature2m.*\", \"\", AA)) %>%\n",
    "        mutate(AA = gsub(\"Mature4m.*\", \"\", AA))\n",
    "\n",
    "head(AA_E_Long)"
   ]
  },
  {
   "cell_type": "code",
   "execution_count": 7,
   "metadata": {},
   "outputs": [
    {
     "data": {
      "text/html": [
       "<table>\n",
       "<caption>A tibble: 6 × 8</caption>\n",
       "<thead>\n",
       "\t<tr><th scope=col>id</th><th scope=col>group</th><th scope=col>age</th><th scope=col>sex</th><th scope=col>weekNames</th><th scope=col>level</th><th scope=col>week</th><th scope=col>AA</th></tr>\n",
       "\t<tr><th scope=col>&lt;fct&gt;</th><th scope=col>&lt;fct&gt;</th><th scope=col>&lt;dbl&gt;</th><th scope=col>&lt;fct&gt;</th><th scope=col>&lt;chr&gt;</th><th scope=col>&lt;dbl&gt;</th><th scope=col>&lt;dbl&gt;</th><th scope=col>&lt;chr&gt;</th></tr>\n",
       "</thead>\n",
       "<tbody>\n",
       "\t<tr><td>1</td><td>teen</td><td>17</td><td>girl</td><td>ARGCalostrum</td><td>1</td><td>1</td><td>ARG</td></tr>\n",
       "\t<tr><td>2</td><td>teen</td><td>16</td><td>boy </td><td>ARGCalostrum</td><td>1</td><td>1</td><td>ARG</td></tr>\n",
       "\t<tr><td>3</td><td>teen</td><td>17</td><td>boy </td><td>ARGCalostrum</td><td>1</td><td>1</td><td>ARG</td></tr>\n",
       "\t<tr><td>4</td><td>teen</td><td>16</td><td>boy </td><td>ARGCalostrum</td><td>1</td><td>1</td><td>ARG</td></tr>\n",
       "\t<tr><td>5</td><td>teen</td><td>16</td><td>NA  </td><td>ARGCalostrum</td><td>2</td><td>1</td><td>ARG</td></tr>\n",
       "\t<tr><td>6</td><td>teen</td><td>16</td><td>boy </td><td>ARGCalostrum</td><td>2</td><td>1</td><td>ARG</td></tr>\n",
       "</tbody>\n",
       "</table>\n"
      ],
      "text/latex": [
       "A tibble: 6 × 8\n",
       "\\begin{tabular}{r|llllllll}\n",
       " id & group & age & sex & weekNames & level & week & AA\\\\\n",
       " <fct> & <fct> & <dbl> & <fct> & <chr> & <dbl> & <dbl> & <chr>\\\\\n",
       "\\hline\n",
       "\t 1 & teen & 17 & girl & ARGCalostrum & 1 & 1 & ARG\\\\\n",
       "\t 2 & teen & 16 & boy  & ARGCalostrum & 1 & 1 & ARG\\\\\n",
       "\t 3 & teen & 17 & boy  & ARGCalostrum & 1 & 1 & ARG\\\\\n",
       "\t 4 & teen & 16 & boy  & ARGCalostrum & 1 & 1 & ARG\\\\\n",
       "\t 5 & teen & 16 & NA   & ARGCalostrum & 2 & 1 & ARG\\\\\n",
       "\t 6 & teen & 16 & boy  & ARGCalostrum & 2 & 1 & ARG\\\\\n",
       "\\end{tabular}\n"
      ],
      "text/markdown": [
       "\n",
       "A tibble: 6 × 8\n",
       "\n",
       "| id &lt;fct&gt; | group &lt;fct&gt; | age &lt;dbl&gt; | sex &lt;fct&gt; | weekNames &lt;chr&gt; | level &lt;dbl&gt; | week &lt;dbl&gt; | AA &lt;chr&gt; |\n",
       "|---|---|---|---|---|---|---|---|\n",
       "| 1 | teen | 17 | girl | ARGCalostrum | 1 | 1 | ARG |\n",
       "| 2 | teen | 16 | boy  | ARGCalostrum | 1 | 1 | ARG |\n",
       "| 3 | teen | 17 | boy  | ARGCalostrum | 1 | 1 | ARG |\n",
       "| 4 | teen | 16 | boy  | ARGCalostrum | 1 | 1 | ARG |\n",
       "| 5 | teen | 16 | NA   | ARGCalostrum | 2 | 1 | ARG |\n",
       "| 6 | teen | 16 | boy  | ARGCalostrum | 2 | 1 | ARG |\n",
       "\n"
      ],
      "text/plain": [
       "  id group age sex  weekNames    level week AA \n",
       "1 1  teen  17  girl ARGCalostrum 1     1    ARG\n",
       "2 2  teen  16  boy  ARGCalostrum 1     1    ARG\n",
       "3 3  teen  17  boy  ARGCalostrum 1     1    ARG\n",
       "4 4  teen  16  boy  ARGCalostrum 1     1    ARG\n",
       "5 5  teen  16  NA   ARGCalostrum 2     1    ARG\n",
       "6 6  teen  16  boy  ARGCalostrum 2     1    ARG"
      ]
     },
     "metadata": {},
     "output_type": "display_data"
    }
   ],
   "source": [
    "AA_NE_Long <- \n",
    "    AA_NE_Long %>% \n",
    "        mutate(week = gsub(\".*Calostrum.*\", \"1\", weekNames)) %>%\n",
    "        mutate(week = gsub(\".*Transition.*\", \"2\", week)) %>%\n",
    "        mutate(week = gsub(\".*Mature2m.*\", \"8\", week)) %>%\n",
    "        mutate(week = gsub(\".*Mature4m.*\", \"16\", week)) %>% \n",
    "        mutate(week = as.numeric(week))\n",
    "\n",
    "AA_NE_Long <- \n",
    "    AA_NE_Long %>% \n",
    "        mutate(AA = gsub(\"Calostrum.*\", \"\", weekNames)) %>%\n",
    "        mutate(AA = gsub(\"Transition.*\", \"\", AA)) %>%\n",
    "        mutate(AA = gsub(\"Mature2m.*\", \"\", AA)) %>%\n",
    "        mutate(AA = gsub(\"Mature4m.*\", \"\", AA))\n",
    "\n",
    "head(AA_NE_Long)"
   ]
  },
  {
   "cell_type": "code",
   "execution_count": 8,
   "metadata": {
    "collapsed": true
   },
   "outputs": [],
   "source": [
    "write.csv(AA_E_Long, './datos/AA_E_Long.csv')\n",
    "write.csv(AA_NE_Long, './datos/AA_NE_Long.csv')"
   ]
  },
  {
   "cell_type": "markdown",
   "metadata": {},
   "source": [
    "## Weight and size of babies"
   ]
  },
  {
   "cell_type": "code",
   "execution_count": 9,
   "metadata": {},
   "outputs": [
    {
     "data": {
      "text/html": [
       "<ol class=list-inline>\n",
       "\t<li>'ID'</li>\n",
       "\t<li>'GROUP'</li>\n",
       "\t<li>'MATERNALAGE'</li>\n",
       "\t<li>'SEXO'</li>\n",
       "\t<li>'INFANTDOB'</li>\n",
       "\t<li>'MATBMI1COLL'</li>\n",
       "\t<li>'MATBMI215d'</li>\n",
       "\t<li>'MATBMI32mos'</li>\n",
       "\t<li>'MATBMI44mos'</li>\n",
       "\t<li>'BABYWeigth1g'</li>\n",
       "\t<li>'BABYWeigth2g'</li>\n",
       "\t<li>'BABYWeigth3g'</li>\n",
       "\t<li>'BABYWeigth4g'</li>\n",
       "\t<li>'HeadCircumcm1'</li>\n",
       "\t<li>'HCcm2'</li>\n",
       "\t<li>'HCcm3'</li>\n",
       "\t<li>'HCcm4'</li>\n",
       "\t<li>'MATHeight1m'</li>\n",
       "\t<li>'MATHeight2m'</li>\n",
       "\t<li>'MATHeight3m'</li>\n",
       "\t<li>'MATHeight4m'</li>\n",
       "\t<li>'MATWeight1kg'</li>\n",
       "\t<li>'MATWeight2kg'</li>\n",
       "\t<li>'MATWeight3kg'</li>\n",
       "\t<li>'MATWeight4kg'</li>\n",
       "\t<li>'A.TOTALCALORIESKcal'</li>\n",
       "\t<li>'B.TOTALCALORIESKcal'</li>\n",
       "\t<li>'A.PROTEINg'</li>\n",
       "\t<li>'B.PROTEINg'</li>\n",
       "\t<li>'A.CHOg'</li>\n",
       "\t<li>'B.CHOg'</li>\n",
       "\t<li>'A.LIPIDSg'</li>\n",
       "\t<li>'B.LIPIDSg'</li>\n",
       "\t<li>'A.GLUCOSEmgdL'</li>\n",
       "\t<li>'B.GLUCOSEmgdL'</li>\n",
       "\t<li>'A.CHOLESTEROLmgdL'</li>\n",
       "\t<li>'B.CHOLESTEROLmgdL'</li>\n",
       "\t<li>'A.TRIGLYCERIDSmgdL'</li>\n",
       "\t<li>'B.TRIGLYCERIDmgdL'</li>\n",
       "\t<li>'A.HDLmgdL'</li>\n",
       "\t<li>'B.HDLmgdL'</li>\n",
       "\t<li>'A.LDLmgdL'</li>\n",
       "\t<li>'B.LDLmgdL'</li>\n",
       "\t<li>'A.PROTEINSgdL'</li>\n",
       "\t<li>'B.PROTEINSgdL'</li>\n",
       "\t<li>'A.ALBUMINgdL'</li>\n",
       "\t<li>'B.ALBUMINgdL'</li>\n",
       "\t<li>'edadr'</li>\n",
       "\t<li>'Grupos'</li>\n",
       "\t<li>'CALOSTRUMtotalAA'</li>\n",
       "\t<li>'TRANSITIONtotalAA'</li>\n",
       "\t<li>'MATURE2mtotalAA'</li>\n",
       "\t<li>'MATURE4mtotalAA'</li>\n",
       "\t<li>'CALOSTRUMessentialAA'</li>\n",
       "\t<li>'TRANSITIONessentialAA'</li>\n",
       "\t<li>'MATURE2messentialAA'</li>\n",
       "\t<li>'MATURE4messentialAA'</li>\n",
       "\t<li>'ARGCalostrum'</li>\n",
       "\t<li>'ARGTransition'</li>\n",
       "\t<li>'ARGMature2m'</li>\n",
       "\t<li>'ARGMature4m'</li>\n",
       "\t<li>'HISCalostrum'</li>\n",
       "\t<li>'HISTransition'</li>\n",
       "\t<li>'HISMature2m'</li>\n",
       "\t<li>'HISMature4m'</li>\n",
       "\t<li>'ILECalostrum'</li>\n",
       "\t<li>'ILETransition'</li>\n",
       "\t<li>'ILEMature2m'</li>\n",
       "\t<li>'ILEMature4m'</li>\n",
       "\t<li>'LEUCalostrum'</li>\n",
       "\t<li>'LEUTransition'</li>\n",
       "\t<li>'LEUMature2m'</li>\n",
       "\t<li>'LEUMature4m'</li>\n",
       "\t<li>'LYSCalostrum'</li>\n",
       "\t<li>'LYSTransition'</li>\n",
       "\t<li>'LYSMature2m'</li>\n",
       "\t<li>'LYSMature4m'</li>\n",
       "\t<li>'METCalostrum'</li>\n",
       "\t<li>'METTransition'</li>\n",
       "\t<li>'METMature2m'</li>\n",
       "\t<li>'METMature4m'</li>\n",
       "\t<li>'PHECalostrum'</li>\n",
       "\t<li>'PHETransition'</li>\n",
       "\t<li>'PHEMature2m'</li>\n",
       "\t<li>'PHEMature4m'</li>\n",
       "\t<li>'THRCalostrum'</li>\n",
       "\t<li>'THRTransition'</li>\n",
       "\t<li>'THRMature2m'</li>\n",
       "\t<li>'THRMature4m'</li>\n",
       "\t<li>'TRPCalostrum'</li>\n",
       "\t<li>'TRPTransition'</li>\n",
       "\t<li>'TRPMature2m'</li>\n",
       "\t<li>'TRPMature4m'</li>\n",
       "\t<li>'VALCalostrum'</li>\n",
       "\t<li>'VALTransition'</li>\n",
       "\t<li>'VALMature2m'</li>\n",
       "\t<li>'VALMature4m'</li>\n",
       "\t<li>'CALOSTRUMnonessentialAA'</li>\n",
       "\t<li>'TRANSITIONnonessentialAA'</li>\n",
       "\t<li>'MATURE2mnonessentialAA'</li>\n",
       "\t<li>'MATURE4mnonessentialAA'</li>\n",
       "\t<li>'ASPCalostrum'</li>\n",
       "\t<li>'ASPTransition'</li>\n",
       "\t<li>'ASPMature2m'</li>\n",
       "\t<li>'ASPMature4m'</li>\n",
       "\t<li>'ALACalostrum'</li>\n",
       "\t<li>'ALATransition'</li>\n",
       "\t<li>'ALAMature2m'</li>\n",
       "\t<li>'ALAMature4m'</li>\n",
       "\t<li>'ASNCalostrum'</li>\n",
       "\t<li>'ASNTransition'</li>\n",
       "\t<li>'ASNMature2m'</li>\n",
       "\t<li>'ASNMature4m'</li>\n",
       "\t<li>'CYSCalostrum'</li>\n",
       "\t<li>'CYSTransition'</li>\n",
       "\t<li>'CYSMature2m'</li>\n",
       "\t<li>'CYSMature4m'</li>\n",
       "\t<li>'GLYCalostrum'</li>\n",
       "\t<li>'GLYTransition'</li>\n",
       "\t<li>'GLYMature2m'</li>\n",
       "\t<li>'GLYMature4m'</li>\n",
       "\t<li>'GLUCalostrum'</li>\n",
       "\t<li>'GLUTransition'</li>\n",
       "\t<li>'GLUMature2m'</li>\n",
       "\t<li>'GLUMature4m'</li>\n",
       "\t<li>'GLNCalostrum'</li>\n",
       "\t<li>'GLNTransition'</li>\n",
       "\t<li>'GLNMature2m'</li>\n",
       "\t<li>'GLNMature4m'</li>\n",
       "\t<li>'PROCalostrum'</li>\n",
       "\t<li>'PROTransition'</li>\n",
       "\t<li>'PROMature2m'</li>\n",
       "\t<li>'PROMature4m'</li>\n",
       "\t<li>'SERCalostrum'</li>\n",
       "\t<li>'SERTransition'</li>\n",
       "\t<li>'SERMature2m'</li>\n",
       "\t<li>'SERMature4m'</li>\n",
       "\t<li>'TYRCalostrum'</li>\n",
       "\t<li>'TYRTransition'</li>\n",
       "\t<li>'TYRMature2m'</li>\n",
       "\t<li>'TYRMature4m'</li>\n",
       "\t<li>'filter_$'</li>\n",
       "\t<li>'CAL1NONE'</li>\n",
       "\t<li>'TRANS2NONE'</li>\n",
       "\t<li>'MAT3NONE'</li>\n",
       "\t<li>'MAT4NONE'</li>\n",
       "\t<li>'ADOEXTR'</li>\n",
       "\t<li>'TotalAAGLOB'</li>\n",
       "\t<li>'EssentAAGLOB'</li>\n",
       "\t<li>'ARGGLOB'</li>\n",
       "\t<li>'HISTGLOB'</li>\n",
       "\t<li>'ISOLGLOB'</li>\n",
       "\t<li>'LEUCINEGLOB'</li>\n",
       "\t<li>'LYSINEGLOB'</li>\n",
       "\t<li>'METHIONGLOB'</li>\n",
       "\t<li>'PHENYLGLOB'</li>\n",
       "\t<li>'THREOGLOB'</li>\n",
       "\t<li>'TRYPTOGLOB'</li>\n",
       "\t<li>'VALINEGLOB'</li>\n",
       "\t<li>'NONESSENGLOB'</li>\n",
       "\t<li>'ASPGLOB'</li>\n",
       "\t<li>'ALAGLOB'</li>\n",
       "\t<li>'ASNGLOB'</li>\n",
       "\t<li>'SYSGLOB'</li>\n",
       "\t<li>'GLYGLOB'</li>\n",
       "\t<li>'GLUGLOB'</li>\n",
       "\t<li>'GLNGLOB'</li>\n",
       "\t<li>'PROLINEGLOB'</li>\n",
       "\t<li>'SERINEGLOB'</li>\n",
       "\t<li>'TYRAMINEGLOB'</li>\n",
       "\t<li>'new'</li>\n",
       "</ol>\n"
      ],
      "text/latex": [
       "\\begin{enumerate*}\n",
       "\\item 'ID'\n",
       "\\item 'GROUP'\n",
       "\\item 'MATERNALAGE'\n",
       "\\item 'SEXO'\n",
       "\\item 'INFANTDOB'\n",
       "\\item 'MATBMI1COLL'\n",
       "\\item 'MATBMI215d'\n",
       "\\item 'MATBMI32mos'\n",
       "\\item 'MATBMI44mos'\n",
       "\\item 'BABYWeigth1g'\n",
       "\\item 'BABYWeigth2g'\n",
       "\\item 'BABYWeigth3g'\n",
       "\\item 'BABYWeigth4g'\n",
       "\\item 'HeadCircumcm1'\n",
       "\\item 'HCcm2'\n",
       "\\item 'HCcm3'\n",
       "\\item 'HCcm4'\n",
       "\\item 'MATHeight1m'\n",
       "\\item 'MATHeight2m'\n",
       "\\item 'MATHeight3m'\n",
       "\\item 'MATHeight4m'\n",
       "\\item 'MATWeight1kg'\n",
       "\\item 'MATWeight2kg'\n",
       "\\item 'MATWeight3kg'\n",
       "\\item 'MATWeight4kg'\n",
       "\\item 'A.TOTALCALORIESKcal'\n",
       "\\item 'B.TOTALCALORIESKcal'\n",
       "\\item 'A.PROTEINg'\n",
       "\\item 'B.PROTEINg'\n",
       "\\item 'A.CHOg'\n",
       "\\item 'B.CHOg'\n",
       "\\item 'A.LIPIDSg'\n",
       "\\item 'B.LIPIDSg'\n",
       "\\item 'A.GLUCOSEmgdL'\n",
       "\\item 'B.GLUCOSEmgdL'\n",
       "\\item 'A.CHOLESTEROLmgdL'\n",
       "\\item 'B.CHOLESTEROLmgdL'\n",
       "\\item 'A.TRIGLYCERIDSmgdL'\n",
       "\\item 'B.TRIGLYCERIDmgdL'\n",
       "\\item 'A.HDLmgdL'\n",
       "\\item 'B.HDLmgdL'\n",
       "\\item 'A.LDLmgdL'\n",
       "\\item 'B.LDLmgdL'\n",
       "\\item 'A.PROTEINSgdL'\n",
       "\\item 'B.PROTEINSgdL'\n",
       "\\item 'A.ALBUMINgdL'\n",
       "\\item 'B.ALBUMINgdL'\n",
       "\\item 'edadr'\n",
       "\\item 'Grupos'\n",
       "\\item 'CALOSTRUMtotalAA'\n",
       "\\item 'TRANSITIONtotalAA'\n",
       "\\item 'MATURE2mtotalAA'\n",
       "\\item 'MATURE4mtotalAA'\n",
       "\\item 'CALOSTRUMessentialAA'\n",
       "\\item 'TRANSITIONessentialAA'\n",
       "\\item 'MATURE2messentialAA'\n",
       "\\item 'MATURE4messentialAA'\n",
       "\\item 'ARGCalostrum'\n",
       "\\item 'ARGTransition'\n",
       "\\item 'ARGMature2m'\n",
       "\\item 'ARGMature4m'\n",
       "\\item 'HISCalostrum'\n",
       "\\item 'HISTransition'\n",
       "\\item 'HISMature2m'\n",
       "\\item 'HISMature4m'\n",
       "\\item 'ILECalostrum'\n",
       "\\item 'ILETransition'\n",
       "\\item 'ILEMature2m'\n",
       "\\item 'ILEMature4m'\n",
       "\\item 'LEUCalostrum'\n",
       "\\item 'LEUTransition'\n",
       "\\item 'LEUMature2m'\n",
       "\\item 'LEUMature4m'\n",
       "\\item 'LYSCalostrum'\n",
       "\\item 'LYSTransition'\n",
       "\\item 'LYSMature2m'\n",
       "\\item 'LYSMature4m'\n",
       "\\item 'METCalostrum'\n",
       "\\item 'METTransition'\n",
       "\\item 'METMature2m'\n",
       "\\item 'METMature4m'\n",
       "\\item 'PHECalostrum'\n",
       "\\item 'PHETransition'\n",
       "\\item 'PHEMature2m'\n",
       "\\item 'PHEMature4m'\n",
       "\\item 'THRCalostrum'\n",
       "\\item 'THRTransition'\n",
       "\\item 'THRMature2m'\n",
       "\\item 'THRMature4m'\n",
       "\\item 'TRPCalostrum'\n",
       "\\item 'TRPTransition'\n",
       "\\item 'TRPMature2m'\n",
       "\\item 'TRPMature4m'\n",
       "\\item 'VALCalostrum'\n",
       "\\item 'VALTransition'\n",
       "\\item 'VALMature2m'\n",
       "\\item 'VALMature4m'\n",
       "\\item 'CALOSTRUMnonessentialAA'\n",
       "\\item 'TRANSITIONnonessentialAA'\n",
       "\\item 'MATURE2mnonessentialAA'\n",
       "\\item 'MATURE4mnonessentialAA'\n",
       "\\item 'ASPCalostrum'\n",
       "\\item 'ASPTransition'\n",
       "\\item 'ASPMature2m'\n",
       "\\item 'ASPMature4m'\n",
       "\\item 'ALACalostrum'\n",
       "\\item 'ALATransition'\n",
       "\\item 'ALAMature2m'\n",
       "\\item 'ALAMature4m'\n",
       "\\item 'ASNCalostrum'\n",
       "\\item 'ASNTransition'\n",
       "\\item 'ASNMature2m'\n",
       "\\item 'ASNMature4m'\n",
       "\\item 'CYSCalostrum'\n",
       "\\item 'CYSTransition'\n",
       "\\item 'CYSMature2m'\n",
       "\\item 'CYSMature4m'\n",
       "\\item 'GLYCalostrum'\n",
       "\\item 'GLYTransition'\n",
       "\\item 'GLYMature2m'\n",
       "\\item 'GLYMature4m'\n",
       "\\item 'GLUCalostrum'\n",
       "\\item 'GLUTransition'\n",
       "\\item 'GLUMature2m'\n",
       "\\item 'GLUMature4m'\n",
       "\\item 'GLNCalostrum'\n",
       "\\item 'GLNTransition'\n",
       "\\item 'GLNMature2m'\n",
       "\\item 'GLNMature4m'\n",
       "\\item 'PROCalostrum'\n",
       "\\item 'PROTransition'\n",
       "\\item 'PROMature2m'\n",
       "\\item 'PROMature4m'\n",
       "\\item 'SERCalostrum'\n",
       "\\item 'SERTransition'\n",
       "\\item 'SERMature2m'\n",
       "\\item 'SERMature4m'\n",
       "\\item 'TYRCalostrum'\n",
       "\\item 'TYRTransition'\n",
       "\\item 'TYRMature2m'\n",
       "\\item 'TYRMature4m'\n",
       "\\item 'filter\\_\\$'\n",
       "\\item 'CAL1NONE'\n",
       "\\item 'TRANS2NONE'\n",
       "\\item 'MAT3NONE'\n",
       "\\item 'MAT4NONE'\n",
       "\\item 'ADOEXTR'\n",
       "\\item 'TotalAAGLOB'\n",
       "\\item 'EssentAAGLOB'\n",
       "\\item 'ARGGLOB'\n",
       "\\item 'HISTGLOB'\n",
       "\\item 'ISOLGLOB'\n",
       "\\item 'LEUCINEGLOB'\n",
       "\\item 'LYSINEGLOB'\n",
       "\\item 'METHIONGLOB'\n",
       "\\item 'PHENYLGLOB'\n",
       "\\item 'THREOGLOB'\n",
       "\\item 'TRYPTOGLOB'\n",
       "\\item 'VALINEGLOB'\n",
       "\\item 'NONESSENGLOB'\n",
       "\\item 'ASPGLOB'\n",
       "\\item 'ALAGLOB'\n",
       "\\item 'ASNGLOB'\n",
       "\\item 'SYSGLOB'\n",
       "\\item 'GLYGLOB'\n",
       "\\item 'GLUGLOB'\n",
       "\\item 'GLNGLOB'\n",
       "\\item 'PROLINEGLOB'\n",
       "\\item 'SERINEGLOB'\n",
       "\\item 'TYRAMINEGLOB'\n",
       "\\item 'new'\n",
       "\\end{enumerate*}\n"
      ],
      "text/markdown": [
       "1. 'ID'\n",
       "2. 'GROUP'\n",
       "3. 'MATERNALAGE'\n",
       "4. 'SEXO'\n",
       "5. 'INFANTDOB'\n",
       "6. 'MATBMI1COLL'\n",
       "7. 'MATBMI215d'\n",
       "8. 'MATBMI32mos'\n",
       "9. 'MATBMI44mos'\n",
       "10. 'BABYWeigth1g'\n",
       "11. 'BABYWeigth2g'\n",
       "12. 'BABYWeigth3g'\n",
       "13. 'BABYWeigth4g'\n",
       "14. 'HeadCircumcm1'\n",
       "15. 'HCcm2'\n",
       "16. 'HCcm3'\n",
       "17. 'HCcm4'\n",
       "18. 'MATHeight1m'\n",
       "19. 'MATHeight2m'\n",
       "20. 'MATHeight3m'\n",
       "21. 'MATHeight4m'\n",
       "22. 'MATWeight1kg'\n",
       "23. 'MATWeight2kg'\n",
       "24. 'MATWeight3kg'\n",
       "25. 'MATWeight4kg'\n",
       "26. 'A.TOTALCALORIESKcal'\n",
       "27. 'B.TOTALCALORIESKcal'\n",
       "28. 'A.PROTEINg'\n",
       "29. 'B.PROTEINg'\n",
       "30. 'A.CHOg'\n",
       "31. 'B.CHOg'\n",
       "32. 'A.LIPIDSg'\n",
       "33. 'B.LIPIDSg'\n",
       "34. 'A.GLUCOSEmgdL'\n",
       "35. 'B.GLUCOSEmgdL'\n",
       "36. 'A.CHOLESTEROLmgdL'\n",
       "37. 'B.CHOLESTEROLmgdL'\n",
       "38. 'A.TRIGLYCERIDSmgdL'\n",
       "39. 'B.TRIGLYCERIDmgdL'\n",
       "40. 'A.HDLmgdL'\n",
       "41. 'B.HDLmgdL'\n",
       "42. 'A.LDLmgdL'\n",
       "43. 'B.LDLmgdL'\n",
       "44. 'A.PROTEINSgdL'\n",
       "45. 'B.PROTEINSgdL'\n",
       "46. 'A.ALBUMINgdL'\n",
       "47. 'B.ALBUMINgdL'\n",
       "48. 'edadr'\n",
       "49. 'Grupos'\n",
       "50. 'CALOSTRUMtotalAA'\n",
       "51. 'TRANSITIONtotalAA'\n",
       "52. 'MATURE2mtotalAA'\n",
       "53. 'MATURE4mtotalAA'\n",
       "54. 'CALOSTRUMessentialAA'\n",
       "55. 'TRANSITIONessentialAA'\n",
       "56. 'MATURE2messentialAA'\n",
       "57. 'MATURE4messentialAA'\n",
       "58. 'ARGCalostrum'\n",
       "59. 'ARGTransition'\n",
       "60. 'ARGMature2m'\n",
       "61. 'ARGMature4m'\n",
       "62. 'HISCalostrum'\n",
       "63. 'HISTransition'\n",
       "64. 'HISMature2m'\n",
       "65. 'HISMature4m'\n",
       "66. 'ILECalostrum'\n",
       "67. 'ILETransition'\n",
       "68. 'ILEMature2m'\n",
       "69. 'ILEMature4m'\n",
       "70. 'LEUCalostrum'\n",
       "71. 'LEUTransition'\n",
       "72. 'LEUMature2m'\n",
       "73. 'LEUMature4m'\n",
       "74. 'LYSCalostrum'\n",
       "75. 'LYSTransition'\n",
       "76. 'LYSMature2m'\n",
       "77. 'LYSMature4m'\n",
       "78. 'METCalostrum'\n",
       "79. 'METTransition'\n",
       "80. 'METMature2m'\n",
       "81. 'METMature4m'\n",
       "82. 'PHECalostrum'\n",
       "83. 'PHETransition'\n",
       "84. 'PHEMature2m'\n",
       "85. 'PHEMature4m'\n",
       "86. 'THRCalostrum'\n",
       "87. 'THRTransition'\n",
       "88. 'THRMature2m'\n",
       "89. 'THRMature4m'\n",
       "90. 'TRPCalostrum'\n",
       "91. 'TRPTransition'\n",
       "92. 'TRPMature2m'\n",
       "93. 'TRPMature4m'\n",
       "94. 'VALCalostrum'\n",
       "95. 'VALTransition'\n",
       "96. 'VALMature2m'\n",
       "97. 'VALMature4m'\n",
       "98. 'CALOSTRUMnonessentialAA'\n",
       "99. 'TRANSITIONnonessentialAA'\n",
       "100. 'MATURE2mnonessentialAA'\n",
       "101. 'MATURE4mnonessentialAA'\n",
       "102. 'ASPCalostrum'\n",
       "103. 'ASPTransition'\n",
       "104. 'ASPMature2m'\n",
       "105. 'ASPMature4m'\n",
       "106. 'ALACalostrum'\n",
       "107. 'ALATransition'\n",
       "108. 'ALAMature2m'\n",
       "109. 'ALAMature4m'\n",
       "110. 'ASNCalostrum'\n",
       "111. 'ASNTransition'\n",
       "112. 'ASNMature2m'\n",
       "113. 'ASNMature4m'\n",
       "114. 'CYSCalostrum'\n",
       "115. 'CYSTransition'\n",
       "116. 'CYSMature2m'\n",
       "117. 'CYSMature4m'\n",
       "118. 'GLYCalostrum'\n",
       "119. 'GLYTransition'\n",
       "120. 'GLYMature2m'\n",
       "121. 'GLYMature4m'\n",
       "122. 'GLUCalostrum'\n",
       "123. 'GLUTransition'\n",
       "124. 'GLUMature2m'\n",
       "125. 'GLUMature4m'\n",
       "126. 'GLNCalostrum'\n",
       "127. 'GLNTransition'\n",
       "128. 'GLNMature2m'\n",
       "129. 'GLNMature4m'\n",
       "130. 'PROCalostrum'\n",
       "131. 'PROTransition'\n",
       "132. 'PROMature2m'\n",
       "133. 'PROMature4m'\n",
       "134. 'SERCalostrum'\n",
       "135. 'SERTransition'\n",
       "136. 'SERMature2m'\n",
       "137. 'SERMature4m'\n",
       "138. 'TYRCalostrum'\n",
       "139. 'TYRTransition'\n",
       "140. 'TYRMature2m'\n",
       "141. 'TYRMature4m'\n",
       "142. 'filter_$'\n",
       "143. 'CAL1NONE'\n",
       "144. 'TRANS2NONE'\n",
       "145. 'MAT3NONE'\n",
       "146. 'MAT4NONE'\n",
       "147. 'ADOEXTR'\n",
       "148. 'TotalAAGLOB'\n",
       "149. 'EssentAAGLOB'\n",
       "150. 'ARGGLOB'\n",
       "151. 'HISTGLOB'\n",
       "152. 'ISOLGLOB'\n",
       "153. 'LEUCINEGLOB'\n",
       "154. 'LYSINEGLOB'\n",
       "155. 'METHIONGLOB'\n",
       "156. 'PHENYLGLOB'\n",
       "157. 'THREOGLOB'\n",
       "158. 'TRYPTOGLOB'\n",
       "159. 'VALINEGLOB'\n",
       "160. 'NONESSENGLOB'\n",
       "161. 'ASPGLOB'\n",
       "162. 'ALAGLOB'\n",
       "163. 'ASNGLOB'\n",
       "164. 'SYSGLOB'\n",
       "165. 'GLYGLOB'\n",
       "166. 'GLUGLOB'\n",
       "167. 'GLNGLOB'\n",
       "168. 'PROLINEGLOB'\n",
       "169. 'SERINEGLOB'\n",
       "170. 'TYRAMINEGLOB'\n",
       "171. 'new'\n",
       "\n",
       "\n"
      ],
      "text/plain": [
       "  [1] \"ID\"                       \"GROUP\"                   \n",
       "  [3] \"MATERNALAGE\"              \"SEXO\"                    \n",
       "  [5] \"INFANTDOB\"                \"MATBMI1COLL\"             \n",
       "  [7] \"MATBMI215d\"               \"MATBMI32mos\"             \n",
       "  [9] \"MATBMI44mos\"              \"BABYWeigth1g\"            \n",
       " [11] \"BABYWeigth2g\"             \"BABYWeigth3g\"            \n",
       " [13] \"BABYWeigth4g\"             \"HeadCircumcm1\"           \n",
       " [15] \"HCcm2\"                    \"HCcm3\"                   \n",
       " [17] \"HCcm4\"                    \"MATHeight1m\"             \n",
       " [19] \"MATHeight2m\"              \"MATHeight3m\"             \n",
       " [21] \"MATHeight4m\"              \"MATWeight1kg\"            \n",
       " [23] \"MATWeight2kg\"             \"MATWeight3kg\"            \n",
       " [25] \"MATWeight4kg\"             \"A.TOTALCALORIESKcal\"     \n",
       " [27] \"B.TOTALCALORIESKcal\"      \"A.PROTEINg\"              \n",
       " [29] \"B.PROTEINg\"               \"A.CHOg\"                  \n",
       " [31] \"B.CHOg\"                   \"A.LIPIDSg\"               \n",
       " [33] \"B.LIPIDSg\"                \"A.GLUCOSEmgdL\"           \n",
       " [35] \"B.GLUCOSEmgdL\"            \"A.CHOLESTEROLmgdL\"       \n",
       " [37] \"B.CHOLESTEROLmgdL\"        \"A.TRIGLYCERIDSmgdL\"      \n",
       " [39] \"B.TRIGLYCERIDmgdL\"        \"A.HDLmgdL\"               \n",
       " [41] \"B.HDLmgdL\"                \"A.LDLmgdL\"               \n",
       " [43] \"B.LDLmgdL\"                \"A.PROTEINSgdL\"           \n",
       " [45] \"B.PROTEINSgdL\"            \"A.ALBUMINgdL\"            \n",
       " [47] \"B.ALBUMINgdL\"             \"edadr\"                   \n",
       " [49] \"Grupos\"                   \"CALOSTRUMtotalAA\"        \n",
       " [51] \"TRANSITIONtotalAA\"        \"MATURE2mtotalAA\"         \n",
       " [53] \"MATURE4mtotalAA\"          \"CALOSTRUMessentialAA\"    \n",
       " [55] \"TRANSITIONessentialAA\"    \"MATURE2messentialAA\"     \n",
       " [57] \"MATURE4messentialAA\"      \"ARGCalostrum\"            \n",
       " [59] \"ARGTransition\"            \"ARGMature2m\"             \n",
       " [61] \"ARGMature4m\"              \"HISCalostrum\"            \n",
       " [63] \"HISTransition\"            \"HISMature2m\"             \n",
       " [65] \"HISMature4m\"              \"ILECalostrum\"            \n",
       " [67] \"ILETransition\"            \"ILEMature2m\"             \n",
       " [69] \"ILEMature4m\"              \"LEUCalostrum\"            \n",
       " [71] \"LEUTransition\"            \"LEUMature2m\"             \n",
       " [73] \"LEUMature4m\"              \"LYSCalostrum\"            \n",
       " [75] \"LYSTransition\"            \"LYSMature2m\"             \n",
       " [77] \"LYSMature4m\"              \"METCalostrum\"            \n",
       " [79] \"METTransition\"            \"METMature2m\"             \n",
       " [81] \"METMature4m\"              \"PHECalostrum\"            \n",
       " [83] \"PHETransition\"            \"PHEMature2m\"             \n",
       " [85] \"PHEMature4m\"              \"THRCalostrum\"            \n",
       " [87] \"THRTransition\"            \"THRMature2m\"             \n",
       " [89] \"THRMature4m\"              \"TRPCalostrum\"            \n",
       " [91] \"TRPTransition\"            \"TRPMature2m\"             \n",
       " [93] \"TRPMature4m\"              \"VALCalostrum\"            \n",
       " [95] \"VALTransition\"            \"VALMature2m\"             \n",
       " [97] \"VALMature4m\"              \"CALOSTRUMnonessentialAA\" \n",
       " [99] \"TRANSITIONnonessentialAA\" \"MATURE2mnonessentialAA\"  \n",
       "[101] \"MATURE4mnonessentialAA\"   \"ASPCalostrum\"            \n",
       "[103] \"ASPTransition\"            \"ASPMature2m\"             \n",
       "[105] \"ASPMature4m\"              \"ALACalostrum\"            \n",
       "[107] \"ALATransition\"            \"ALAMature2m\"             \n",
       "[109] \"ALAMature4m\"              \"ASNCalostrum\"            \n",
       "[111] \"ASNTransition\"            \"ASNMature2m\"             \n",
       "[113] \"ASNMature4m\"              \"CYSCalostrum\"            \n",
       "[115] \"CYSTransition\"            \"CYSMature2m\"             \n",
       "[117] \"CYSMature4m\"              \"GLYCalostrum\"            \n",
       "[119] \"GLYTransition\"            \"GLYMature2m\"             \n",
       "[121] \"GLYMature4m\"              \"GLUCalostrum\"            \n",
       "[123] \"GLUTransition\"            \"GLUMature2m\"             \n",
       "[125] \"GLUMature4m\"              \"GLNCalostrum\"            \n",
       "[127] \"GLNTransition\"            \"GLNMature2m\"             \n",
       "[129] \"GLNMature4m\"              \"PROCalostrum\"            \n",
       "[131] \"PROTransition\"            \"PROMature2m\"             \n",
       "[133] \"PROMature4m\"              \"SERCalostrum\"            \n",
       "[135] \"SERTransition\"            \"SERMature2m\"             \n",
       "[137] \"SERMature4m\"              \"TYRCalostrum\"            \n",
       "[139] \"TYRTransition\"            \"TYRMature2m\"             \n",
       "[141] \"TYRMature4m\"              \"filter_$\"                \n",
       "[143] \"CAL1NONE\"                 \"TRANS2NONE\"              \n",
       "[145] \"MAT3NONE\"                 \"MAT4NONE\"                \n",
       "[147] \"ADOEXTR\"                  \"TotalAAGLOB\"             \n",
       "[149] \"EssentAAGLOB\"             \"ARGGLOB\"                 \n",
       "[151] \"HISTGLOB\"                 \"ISOLGLOB\"                \n",
       "[153] \"LEUCINEGLOB\"              \"LYSINEGLOB\"              \n",
       "[155] \"METHIONGLOB\"              \"PHENYLGLOB\"              \n",
       "[157] \"THREOGLOB\"                \"TRYPTOGLOB\"              \n",
       "[159] \"VALINEGLOB\"               \"NONESSENGLOB\"            \n",
       "[161] \"ASPGLOB\"                  \"ALAGLOB\"                 \n",
       "[163] \"ASNGLOB\"                  \"SYSGLOB\"                 \n",
       "[165] \"GLYGLOB\"                  \"GLUGLOB\"                 \n",
       "[167] \"GLNGLOB\"                  \"PROLINEGLOB\"             \n",
       "[169] \"SERINEGLOB\"               \"TYRAMINEGLOB\"            \n",
       "[171] \"new\"                     "
      ]
     },
     "metadata": {},
     "output_type": "display_data"
    }
   ],
   "source": [
    "names(AA_Sex_1)"
   ]
  },
  {
   "cell_type": "code",
   "execution_count": 10,
   "metadata": {},
   "outputs": [
    {
     "data": {
      "text/html": [
       "<ol class=list-inline>\n",
       "\t<li>'id'</li>\n",
       "\t<li>'group'</li>\n",
       "\t<li>'momAge'</li>\n",
       "\t<li>'sex'</li>\n",
       "\t<li>'momHeight'</li>\n",
       "\t<li>'momWeight'</li>\n",
       "\t<li>'BMI'</li>\n",
       "</ol>\n"
      ],
      "text/latex": [
       "\\begin{enumerate*}\n",
       "\\item 'id'\n",
       "\\item 'group'\n",
       "\\item 'momAge'\n",
       "\\item 'sex'\n",
       "\\item 'momHeight'\n",
       "\\item 'momWeight'\n",
       "\\item 'BMI'\n",
       "\\end{enumerate*}\n"
      ],
      "text/markdown": [
       "1. 'id'\n",
       "2. 'group'\n",
       "3. 'momAge'\n",
       "4. 'sex'\n",
       "5. 'momHeight'\n",
       "6. 'momWeight'\n",
       "7. 'BMI'\n",
       "\n",
       "\n"
      ],
      "text/plain": [
       "[1] \"id\"        \"group\"     \"momAge\"    \"sex\"       \"momHeight\" \"momWeight\"\n",
       "[7] \"BMI\"      "
      ]
     },
     "metadata": {},
     "output_type": "display_data"
    },
    {
     "data": {
      "text/html": [
       "<table>\n",
       "<caption>A tibble: 6 × 7</caption>\n",
       "<thead>\n",
       "\t<tr><th scope=col>id</th><th scope=col>group</th><th scope=col>momAge</th><th scope=col>sex</th><th scope=col>momHeight</th><th scope=col>momWeight</th><th scope=col>BMI</th></tr>\n",
       "\t<tr><th scope=col>&lt;fct&gt;</th><th scope=col>&lt;fct&gt;</th><th scope=col>&lt;dbl&gt;</th><th scope=col>&lt;fct&gt;</th><th scope=col>&lt;dbl&gt;</th><th scope=col>&lt;dbl&gt;</th><th scope=col>&lt;dbl&gt;</th></tr>\n",
       "</thead>\n",
       "<tbody>\n",
       "\t<tr><td>1</td><td>teen</td><td>17</td><td>girl</td><td>1.48</td><td>54.4</td><td>24.84</td></tr>\n",
       "\t<tr><td>2</td><td>teen</td><td>16</td><td>boy </td><td>1.52</td><td>74.7</td><td>32.33</td></tr>\n",
       "\t<tr><td>3</td><td>teen</td><td>17</td><td>boy </td><td>1.55</td><td>56.4</td><td>23.48</td></tr>\n",
       "\t<tr><td>4</td><td>teen</td><td>16</td><td>boy </td><td>1.60</td><td>65.9</td><td>25.74</td></tr>\n",
       "\t<tr><td>5</td><td>teen</td><td>16</td><td>NA  </td><td>1.51</td><td>56.5</td><td>24.78</td></tr>\n",
       "\t<tr><td>6</td><td>teen</td><td>16</td><td>boy </td><td>1.57</td><td>71.2</td><td>28.89</td></tr>\n",
       "</tbody>\n",
       "</table>\n"
      ],
      "text/latex": [
       "A tibble: 6 × 7\n",
       "\\begin{tabular}{r|lllllll}\n",
       " id & group & momAge & sex & momHeight & momWeight & BMI\\\\\n",
       " <fct> & <fct> & <dbl> & <fct> & <dbl> & <dbl> & <dbl>\\\\\n",
       "\\hline\n",
       "\t 1 & teen & 17 & girl & 1.48 & 54.4 & 24.84\\\\\n",
       "\t 2 & teen & 16 & boy  & 1.52 & 74.7 & 32.33\\\\\n",
       "\t 3 & teen & 17 & boy  & 1.55 & 56.4 & 23.48\\\\\n",
       "\t 4 & teen & 16 & boy  & 1.60 & 65.9 & 25.74\\\\\n",
       "\t 5 & teen & 16 & NA   & 1.51 & 56.5 & 24.78\\\\\n",
       "\t 6 & teen & 16 & boy  & 1.57 & 71.2 & 28.89\\\\\n",
       "\\end{tabular}\n"
      ],
      "text/markdown": [
       "\n",
       "A tibble: 6 × 7\n",
       "\n",
       "| id &lt;fct&gt; | group &lt;fct&gt; | momAge &lt;dbl&gt; | sex &lt;fct&gt; | momHeight &lt;dbl&gt; | momWeight &lt;dbl&gt; | BMI &lt;dbl&gt; |\n",
       "|---|---|---|---|---|---|---|\n",
       "| 1 | teen | 17 | girl | 1.48 | 54.4 | 24.84 |\n",
       "| 2 | teen | 16 | boy  | 1.52 | 74.7 | 32.33 |\n",
       "| 3 | teen | 17 | boy  | 1.55 | 56.4 | 23.48 |\n",
       "| 4 | teen | 16 | boy  | 1.60 | 65.9 | 25.74 |\n",
       "| 5 | teen | 16 | NA   | 1.51 | 56.5 | 24.78 |\n",
       "| 6 | teen | 16 | boy  | 1.57 | 71.2 | 28.89 |\n",
       "\n"
      ],
      "text/plain": [
       "  id group momAge sex  momHeight momWeight BMI  \n",
       "1 1  teen  17     girl 1.48      54.4      24.84\n",
       "2 2  teen  16     boy  1.52      74.7      32.33\n",
       "3 3  teen  17     boy  1.55      56.4      23.48\n",
       "4 4  teen  16     boy  1.60      65.9      25.74\n",
       "5 5  teen  16     NA   1.51      56.5      24.78\n",
       "6 6  teen  16     boy  1.57      71.2      28.89"
      ]
     },
     "metadata": {},
     "output_type": "display_data"
    }
   ],
   "source": [
    "#names(AA_Sex_1)\n",
    "moms <- AA_Sex_1 %>% select(id = ID, group = GROUP, momAge = MATERNALAGE, sex = SEXO, \n",
    "                            momHeight = MATHeight1m, momWeight = MATWeight1kg) %>%\n",
    "                     mutate(id = factor(id), \n",
    "                            sex =  factor(sex, labels = c('girl', 'boy')),\n",
    "                            group = factor(group, labels = c('teen', 'adult')),\n",
    "                            BMI = round(momWeight / (momHeight)^2, 2))\n",
    "\n",
    "names(moms)\n",
    "head(moms)"
   ]
  },
  {
   "cell_type": "code",
   "execution_count": 11,
   "metadata": {},
   "outputs": [
    {
     "data": {
      "text/html": [
       "<table>\n",
       "<caption>A tibble: 2 × 9</caption>\n",
       "<thead>\n",
       "\t<tr><th scope=col>group</th><th scope=col>meanHeight</th><th scope=col>sdHeight</th><th scope=col>meanWeight</th><th scope=col>sdWeight</th><th scope=col>meanAge</th><th scope=col>sdAge</th><th scope=col>meanBMI</th><th scope=col>sdBMI</th></tr>\n",
       "\t<tr><th scope=col>&lt;fct&gt;</th><th scope=col>&lt;dbl&gt;</th><th scope=col>&lt;dbl&gt;</th><th scope=col>&lt;dbl&gt;</th><th scope=col>&lt;dbl&gt;</th><th scope=col>&lt;dbl&gt;</th><th scope=col>&lt;dbl&gt;</th><th scope=col>&lt;dbl&gt;</th><th scope=col>&lt;dbl&gt;</th></tr>\n",
       "</thead>\n",
       "<tbody>\n",
       "\t<tr><td>teen </td><td>1.5</td><td>0.1</td><td>59.5</td><td>8.2</td><td>16.4</td><td>1.0</td><td>16.4</td><td>1.0</td></tr>\n",
       "\t<tr><td>adult</td><td>1.6</td><td>0.1</td><td>59.4</td><td>9.5</td><td>21.3</td><td>2.4</td><td>21.3</td><td>2.4</td></tr>\n",
       "</tbody>\n",
       "</table>\n"
      ],
      "text/latex": [
       "A tibble: 2 × 9\n",
       "\\begin{tabular}{r|lllllllll}\n",
       " group & meanHeight & sdHeight & meanWeight & sdWeight & meanAge & sdAge & meanBMI & sdBMI\\\\\n",
       " <fct> & <dbl> & <dbl> & <dbl> & <dbl> & <dbl> & <dbl> & <dbl> & <dbl>\\\\\n",
       "\\hline\n",
       "\t teen  & 1.5 & 0.1 & 59.5 & 8.2 & 16.4 & 1.0 & 16.4 & 1.0\\\\\n",
       "\t adult & 1.6 & 0.1 & 59.4 & 9.5 & 21.3 & 2.4 & 21.3 & 2.4\\\\\n",
       "\\end{tabular}\n"
      ],
      "text/markdown": [
       "\n",
       "A tibble: 2 × 9\n",
       "\n",
       "| group &lt;fct&gt; | meanHeight &lt;dbl&gt; | sdHeight &lt;dbl&gt; | meanWeight &lt;dbl&gt; | sdWeight &lt;dbl&gt; | meanAge &lt;dbl&gt; | sdAge &lt;dbl&gt; | meanBMI &lt;dbl&gt; | sdBMI &lt;dbl&gt; |\n",
       "|---|---|---|---|---|---|---|---|---|\n",
       "| teen  | 1.5 | 0.1 | 59.5 | 8.2 | 16.4 | 1.0 | 16.4 | 1.0 |\n",
       "| adult | 1.6 | 0.1 | 59.4 | 9.5 | 21.3 | 2.4 | 21.3 | 2.4 |\n",
       "\n"
      ],
      "text/plain": [
       "  group meanHeight sdHeight meanWeight sdWeight meanAge sdAge meanBMI sdBMI\n",
       "1 teen  1.5        0.1      59.5       8.2      16.4    1.0   16.4    1.0  \n",
       "2 adult 1.6        0.1      59.4       9.5      21.3    2.4   21.3    2.4  "
      ]
     },
     "metadata": {},
     "output_type": "display_data"
    }
   ],
   "source": [
    "moms %>% group_by(group) %>%   \n",
    "    summarise(meanHeight = round(mean(momHeight, na.rm = T), 1),\n",
    "              sdHeight = round(sd(momHeight, na.rm = T), 1),\n",
    "              meanWeight = round(mean(momWeight, na.rm = T), 1),\n",
    "              sdWeight = round(sd(momWeight, na.rm = T), 1),\n",
    "              meanAge = round(mean(momAge), 1), \n",
    "              sdAge = round(sd(momAge), 1), \n",
    "              meanBMI = round(mean(momAge, na.rm = T), 1), \n",
    "              sdBMI = round(sd(momAge, na.rm = T), 1)) "
   ]
  },
  {
   "cell_type": "code",
   "execution_count": 12,
   "metadata": {},
   "outputs": [
    {
     "data": {
      "text/html": [
       "<table>\n",
       "<caption>A tibble: 6 × 7</caption>\n",
       "<thead>\n",
       "\t<tr><th scope=col>id</th><th scope=col>group</th><th scope=col>sex</th><th scope=col>HeadCircumcm1</th><th scope=col>HCcm2</th><th scope=col>HCcm3</th><th scope=col>HCcm4</th></tr>\n",
       "\t<tr><th scope=col>&lt;fct&gt;</th><th scope=col>&lt;fct&gt;</th><th scope=col>&lt;fct&gt;</th><th scope=col>&lt;dbl&gt;</th><th scope=col>&lt;dbl&gt;</th><th scope=col>&lt;dbl&gt;</th><th scope=col>&lt;dbl&gt;</th></tr>\n",
       "</thead>\n",
       "<tbody>\n",
       "\t<tr><td>1</td><td>teen</td><td>girl</td><td>34</td><td>37</td><td>39</td><td>42</td></tr>\n",
       "\t<tr><td>2</td><td>teen</td><td>boy </td><td>35</td><td>37</td><td>38</td><td>41</td></tr>\n",
       "\t<tr><td>3</td><td>teen</td><td>boy </td><td>35</td><td>37</td><td>NA</td><td>NA</td></tr>\n",
       "\t<tr><td>4</td><td>teen</td><td>boy </td><td>37</td><td>NA</td><td>NA</td><td>NA</td></tr>\n",
       "\t<tr><td>5</td><td>teen</td><td>NA  </td><td>34</td><td>NA</td><td>NA</td><td>NA</td></tr>\n",
       "\t<tr><td>6</td><td>teen</td><td>boy </td><td>35</td><td>36</td><td>39</td><td>44</td></tr>\n",
       "</tbody>\n",
       "</table>\n"
      ],
      "text/latex": [
       "A tibble: 6 × 7\n",
       "\\begin{tabular}{r|lllllll}\n",
       " id & group & sex & HeadCircumcm1 & HCcm2 & HCcm3 & HCcm4\\\\\n",
       " <fct> & <fct> & <fct> & <dbl> & <dbl> & <dbl> & <dbl>\\\\\n",
       "\\hline\n",
       "\t 1 & teen & girl & 34 & 37 & 39 & 42\\\\\n",
       "\t 2 & teen & boy  & 35 & 37 & 38 & 41\\\\\n",
       "\t 3 & teen & boy  & 35 & 37 & NA & NA\\\\\n",
       "\t 4 & teen & boy  & 37 & NA & NA & NA\\\\\n",
       "\t 5 & teen & NA   & 34 & NA & NA & NA\\\\\n",
       "\t 6 & teen & boy  & 35 & 36 & 39 & 44\\\\\n",
       "\\end{tabular}\n"
      ],
      "text/markdown": [
       "\n",
       "A tibble: 6 × 7\n",
       "\n",
       "| id &lt;fct&gt; | group &lt;fct&gt; | sex &lt;fct&gt; | HeadCircumcm1 &lt;dbl&gt; | HCcm2 &lt;dbl&gt; | HCcm3 &lt;dbl&gt; | HCcm4 &lt;dbl&gt; |\n",
       "|---|---|---|---|---|---|---|\n",
       "| 1 | teen | girl | 34 | 37 | 39 | 42 |\n",
       "| 2 | teen | boy  | 35 | 37 | 38 | 41 |\n",
       "| 3 | teen | boy  | 35 | 37 | NA | NA |\n",
       "| 4 | teen | boy  | 37 | NA | NA | NA |\n",
       "| 5 | teen | NA   | 34 | NA | NA | NA |\n",
       "| 6 | teen | boy  | 35 | 36 | 39 | 44 |\n",
       "\n"
      ],
      "text/plain": [
       "  id group sex  HeadCircumcm1 HCcm2 HCcm3 HCcm4\n",
       "1 1  teen  girl 34            37    39    42   \n",
       "2 2  teen  boy  35            37    38    41   \n",
       "3 3  teen  boy  35            37    NA    NA   \n",
       "4 4  teen  boy  37            NA    NA    NA   \n",
       "5 5  teen  NA   34            NA    NA    NA   \n",
       "6 6  teen  boy  35            36    39    44   "
      ]
     },
     "metadata": {},
     "output_type": "display_data"
    }
   ],
   "source": [
    "weight <- AA_Sex_1 %>% select(id = ID, group = GROUP, sex = SEXO, 10:13) %>% \n",
    "                        mutate(id = factor(id), \n",
    "                               sex =  factor(sex, labels = c('girl', 'boy')),\n",
    "                               group = factor(group, labels = c('teen', 'adult')))\n",
    "\n",
    "headC <- AA_Sex_1 %>% select(id = ID, group = GROUP, sex = SEXO, 14:17) %>% \n",
    "                        mutate(id = factor(id), \n",
    "                               sex =  factor(sex, labels = c('girl', 'boy')),\n",
    "                               group = factor(group, labels = c('teen', 'adult')))\n",
    "\n",
    "\n",
    "head(headC)"
   ]
  },
  {
   "cell_type": "code",
   "execution_count": 13,
   "metadata": {},
   "outputs": [
    {
     "data": {
      "text/html": [
       "<table>\n",
       "<caption>A tibble: 2 × 2</caption>\n",
       "<thead>\n",
       "\t<tr><th scope=col>group</th><th scope=col>n()</th></tr>\n",
       "\t<tr><th scope=col>&lt;fct&gt;</th><th scope=col>&lt;int&gt;</th></tr>\n",
       "</thead>\n",
       "<tbody>\n",
       "\t<tr><td>teen </td><td>39</td></tr>\n",
       "\t<tr><td>adult</td><td>26</td></tr>\n",
       "</tbody>\n",
       "</table>\n"
      ],
      "text/latex": [
       "A tibble: 2 × 2\n",
       "\\begin{tabular}{r|ll}\n",
       " group & n()\\\\\n",
       " <fct> & <int>\\\\\n",
       "\\hline\n",
       "\t teen  & 39\\\\\n",
       "\t adult & 26\\\\\n",
       "\\end{tabular}\n"
      ],
      "text/markdown": [
       "\n",
       "A tibble: 2 × 2\n",
       "\n",
       "| group &lt;fct&gt; | n() &lt;int&gt; |\n",
       "|---|---|\n",
       "| teen  | 39 |\n",
       "| adult | 26 |\n",
       "\n"
      ],
      "text/plain": [
       "  group n()\n",
       "1 teen  39 \n",
       "2 adult 26 "
      ]
     },
     "metadata": {},
     "output_type": "display_data"
    }
   ],
   "source": [
    "weight %>% group_by(group) %>% summarise(n())"
   ]
  },
  {
   "cell_type": "code",
   "execution_count": 14,
   "metadata": {},
   "outputs": [
    {
     "name": "stderr",
     "output_type": "stream",
     "text": [
      "Warning message:\n",
      "\"Factor `sex` contains implicit NA, consider using `forcats::fct_explicit_na`\""
     ]
    },
    {
     "data": {
      "text/html": [
       "<table>\n",
       "<caption>A tibble: 3 × 2</caption>\n",
       "<thead>\n",
       "\t<tr><th scope=col>sex</th><th scope=col>n()</th></tr>\n",
       "\t<tr><th scope=col>&lt;fct&gt;</th><th scope=col>&lt;int&gt;</th></tr>\n",
       "</thead>\n",
       "<tbody>\n",
       "\t<tr><td>girl</td><td>26</td></tr>\n",
       "\t<tr><td>boy </td><td>35</td></tr>\n",
       "\t<tr><td>NA  </td><td> 4</td></tr>\n",
       "</tbody>\n",
       "</table>\n"
      ],
      "text/latex": [
       "A tibble: 3 × 2\n",
       "\\begin{tabular}{r|ll}\n",
       " sex & n()\\\\\n",
       " <fct> & <int>\\\\\n",
       "\\hline\n",
       "\t girl & 26\\\\\n",
       "\t boy  & 35\\\\\n",
       "\t NA   &  4\\\\\n",
       "\\end{tabular}\n"
      ],
      "text/markdown": [
       "\n",
       "A tibble: 3 × 2\n",
       "\n",
       "| sex &lt;fct&gt; | n() &lt;int&gt; |\n",
       "|---|---|\n",
       "| girl | 26 |\n",
       "| boy  | 35 |\n",
       "| NA   |  4 |\n",
       "\n"
      ],
      "text/plain": [
       "  sex  n()\n",
       "1 girl 26 \n",
       "2 boy  35 \n",
       "3 NA    4 "
      ]
     },
     "metadata": {},
     "output_type": "display_data"
    }
   ],
   "source": [
    "weight %>% group_by(sex) %>% summarise(n())"
   ]
  },
  {
   "cell_type": "code",
   "execution_count": 15,
   "metadata": {},
   "outputs": [
    {
     "name": "stderr",
     "output_type": "stream",
     "text": [
      "Warning message:\n",
      "\"Factor `sex` contains implicit NA, consider using `forcats::fct_explicit_na`\""
     ]
    },
    {
     "data": {
      "text/html": [
       "<table>\n",
       "<caption>A tibble: 3 × 3</caption>\n",
       "<thead>\n",
       "\t<tr><th scope=col>sex</th><th scope=col>meanWeight</th><th scope=col>sdWeight</th></tr>\n",
       "\t<tr><th scope=col>&lt;fct&gt;</th><th scope=col>&lt;dbl&gt;</th><th scope=col>&lt;dbl&gt;</th></tr>\n",
       "</thead>\n",
       "<tbody>\n",
       "\t<tr><td>girl</td><td>3.45</td><td>0.78</td></tr>\n",
       "\t<tr><td>boy </td><td>3.16</td><td>0.43</td></tr>\n",
       "\t<tr><td>NA  </td><td>3.36</td><td>0.32</td></tr>\n",
       "</tbody>\n",
       "</table>\n"
      ],
      "text/latex": [
       "A tibble: 3 × 3\n",
       "\\begin{tabular}{r|lll}\n",
       " sex & meanWeight & sdWeight\\\\\n",
       " <fct> & <dbl> & <dbl>\\\\\n",
       "\\hline\n",
       "\t girl & 3.45 & 0.78\\\\\n",
       "\t boy  & 3.16 & 0.43\\\\\n",
       "\t NA   & 3.36 & 0.32\\\\\n",
       "\\end{tabular}\n"
      ],
      "text/markdown": [
       "\n",
       "A tibble: 3 × 3\n",
       "\n",
       "| sex &lt;fct&gt; | meanWeight &lt;dbl&gt; | sdWeight &lt;dbl&gt; |\n",
       "|---|---|---|\n",
       "| girl | 3.45 | 0.78 |\n",
       "| boy  | 3.16 | 0.43 |\n",
       "| NA   | 3.36 | 0.32 |\n",
       "\n"
      ],
      "text/plain": [
       "  sex  meanWeight sdWeight\n",
       "1 girl 3.45       0.78    \n",
       "2 boy  3.16       0.43    \n",
       "3 NA   3.36       0.32    "
      ]
     },
     "metadata": {},
     "output_type": "display_data"
    }
   ],
   "source": [
    "weight %>% group_by(sex) %>% \n",
    "    summarise(meanWeight = round(mean(BABYWeigth1g/1000, na.rm = T), 2), \n",
    "              sdWeight = round(sd(BABYWeigth1g/1000, na.rm = T), 2))"
   ]
  },
  {
   "cell_type": "code",
   "execution_count": 16,
   "metadata": {},
   "outputs": [
    {
     "name": "stderr",
     "output_type": "stream",
     "text": [
      "Warning message:\n",
      "\"Factor `sex` contains implicit NA, consider using `forcats::fct_explicit_na`\""
     ]
    },
    {
     "data": {
      "text/html": [
       "<table>\n",
       "<caption>A tibble: 3 × 3</caption>\n",
       "<thead>\n",
       "\t<tr><th scope=col>sex</th><th scope=col>meanWeight</th><th scope=col>sdWeight</th></tr>\n",
       "\t<tr><th scope=col>&lt;fct&gt;</th><th scope=col>&lt;dbl&gt;</th><th scope=col>&lt;dbl&gt;</th></tr>\n",
       "</thead>\n",
       "<tbody>\n",
       "\t<tr><td>girl</td><td>33.53</td><td>0.87</td></tr>\n",
       "\t<tr><td>boy </td><td>33.88</td><td>1.36</td></tr>\n",
       "\t<tr><td>NA  </td><td>33.67</td><td>0.58</td></tr>\n",
       "</tbody>\n",
       "</table>\n"
      ],
      "text/latex": [
       "A tibble: 3 × 3\n",
       "\\begin{tabular}{r|lll}\n",
       " sex & meanWeight & sdWeight\\\\\n",
       " <fct> & <dbl> & <dbl>\\\\\n",
       "\\hline\n",
       "\t girl & 33.53 & 0.87\\\\\n",
       "\t boy  & 33.88 & 1.36\\\\\n",
       "\t NA   & 33.67 & 0.58\\\\\n",
       "\\end{tabular}\n"
      ],
      "text/markdown": [
       "\n",
       "A tibble: 3 × 3\n",
       "\n",
       "| sex &lt;fct&gt; | meanWeight &lt;dbl&gt; | sdWeight &lt;dbl&gt; |\n",
       "|---|---|---|\n",
       "| girl | 33.53 | 0.87 |\n",
       "| boy  | 33.88 | 1.36 |\n",
       "| NA   | 33.67 | 0.58 |\n",
       "\n"
      ],
      "text/plain": [
       "  sex  meanWeight sdWeight\n",
       "1 girl 33.53      0.87    \n",
       "2 boy  33.88      1.36    \n",
       "3 NA   33.67      0.58    "
      ]
     },
     "metadata": {},
     "output_type": "display_data"
    }
   ],
   "source": [
    "headC %>% group_by(sex) %>% \n",
    "    summarise(meanWeight = round(mean(HeadCircumcm1, na.rm = T), 2), \n",
    "              sdWeight = round(sd(HeadCircumcm1, na.rm = T), 2))"
   ]
  },
  {
   "cell_type": "code",
   "execution_count": 17,
   "metadata": {},
   "outputs": [
    {
     "name": "stderr",
     "output_type": "stream",
     "text": [
      "Warning message:\n",
      "\"attributes are not identical across measure variables;\n",
      "they will be dropped\"Warning message:\n",
      "\"attributes are not identical across measure variables;\n",
      "they will be dropped\""
     ]
    },
    {
     "data": {
      "text/html": [
       "<table>\n",
       "<caption>A tibble: 4 × 5</caption>\n",
       "<thead>\n",
       "\t<tr><th scope=col>id</th><th scope=col>group</th><th scope=col>sex</th><th scope=col>weekNames</th><th scope=col>weight</th></tr>\n",
       "\t<tr><th scope=col>&lt;fct&gt;</th><th scope=col>&lt;fct&gt;</th><th scope=col>&lt;fct&gt;</th><th scope=col>&lt;chr&gt;</th><th scope=col>&lt;dbl&gt;</th></tr>\n",
       "</thead>\n",
       "<tbody>\n",
       "\t<tr><td>4</td><td>teen</td><td>boy</td><td>BABYWeigth1g</td><td>3692.3</td></tr>\n",
       "\t<tr><td>4</td><td>teen</td><td>boy</td><td>BABYWeigth2g</td><td>    NA</td></tr>\n",
       "\t<tr><td>4</td><td>teen</td><td>boy</td><td>BABYWeigth3g</td><td>    NA</td></tr>\n",
       "\t<tr><td>4</td><td>teen</td><td>boy</td><td>BABYWeigth4g</td><td>    NA</td></tr>\n",
       "</tbody>\n",
       "</table>\n"
      ],
      "text/latex": [
       "A tibble: 4 × 5\n",
       "\\begin{tabular}{r|lllll}\n",
       " id & group & sex & weekNames & weight\\\\\n",
       " <fct> & <fct> & <fct> & <chr> & <dbl>\\\\\n",
       "\\hline\n",
       "\t 4 & teen & boy & BABYWeigth1g & 3692.3\\\\\n",
       "\t 4 & teen & boy & BABYWeigth2g &     NA\\\\\n",
       "\t 4 & teen & boy & BABYWeigth3g &     NA\\\\\n",
       "\t 4 & teen & boy & BABYWeigth4g &     NA\\\\\n",
       "\\end{tabular}\n"
      ],
      "text/markdown": [
       "\n",
       "A tibble: 4 × 5\n",
       "\n",
       "| id &lt;fct&gt; | group &lt;fct&gt; | sex &lt;fct&gt; | weekNames &lt;chr&gt; | weight &lt;dbl&gt; |\n",
       "|---|---|---|---|---|\n",
       "| 4 | teen | boy | BABYWeigth1g | 3692.3 |\n",
       "| 4 | teen | boy | BABYWeigth2g |     NA |\n",
       "| 4 | teen | boy | BABYWeigth3g |     NA |\n",
       "| 4 | teen | boy | BABYWeigth4g |     NA |\n",
       "\n"
      ],
      "text/plain": [
       "  id group sex weekNames    weight\n",
       "1 4  teen  boy BABYWeigth1g 3692.3\n",
       "2 4  teen  boy BABYWeigth2g     NA\n",
       "3 4  teen  boy BABYWeigth3g     NA\n",
       "4 4  teen  boy BABYWeigth4g     NA"
      ]
     },
     "metadata": {},
     "output_type": "display_data"
    },
    {
     "data": {
      "text/html": [
       "<table>\n",
       "<caption>A tibble: 4 × 5</caption>\n",
       "<thead>\n",
       "\t<tr><th scope=col>id</th><th scope=col>group</th><th scope=col>sex</th><th scope=col>weekNames</th><th scope=col>head</th></tr>\n",
       "\t<tr><th scope=col>&lt;fct&gt;</th><th scope=col>&lt;fct&gt;</th><th scope=col>&lt;fct&gt;</th><th scope=col>&lt;chr&gt;</th><th scope=col>&lt;dbl&gt;</th></tr>\n",
       "</thead>\n",
       "<tbody>\n",
       "\t<tr><td>4</td><td>teen</td><td>boy</td><td>HeadCircumcm1</td><td>37</td></tr>\n",
       "\t<tr><td>4</td><td>teen</td><td>boy</td><td>HCcm2        </td><td>NA</td></tr>\n",
       "\t<tr><td>4</td><td>teen</td><td>boy</td><td>HCcm3        </td><td>NA</td></tr>\n",
       "\t<tr><td>4</td><td>teen</td><td>boy</td><td>HCcm4        </td><td>NA</td></tr>\n",
       "</tbody>\n",
       "</table>\n"
      ],
      "text/latex": [
       "A tibble: 4 × 5\n",
       "\\begin{tabular}{r|lllll}\n",
       " id & group & sex & weekNames & head\\\\\n",
       " <fct> & <fct> & <fct> & <chr> & <dbl>\\\\\n",
       "\\hline\n",
       "\t 4 & teen & boy & HeadCircumcm1 & 37\\\\\n",
       "\t 4 & teen & boy & HCcm2         & NA\\\\\n",
       "\t 4 & teen & boy & HCcm3         & NA\\\\\n",
       "\t 4 & teen & boy & HCcm4         & NA\\\\\n",
       "\\end{tabular}\n"
      ],
      "text/markdown": [
       "\n",
       "A tibble: 4 × 5\n",
       "\n",
       "| id &lt;fct&gt; | group &lt;fct&gt; | sex &lt;fct&gt; | weekNames &lt;chr&gt; | head &lt;dbl&gt; |\n",
       "|---|---|---|---|---|\n",
       "| 4 | teen | boy | HeadCircumcm1 | 37 |\n",
       "| 4 | teen | boy | HCcm2         | NA |\n",
       "| 4 | teen | boy | HCcm3         | NA |\n",
       "| 4 | teen | boy | HCcm4         | NA |\n",
       "\n"
      ],
      "text/plain": [
       "  id group sex weekNames     head\n",
       "1 4  teen  boy HeadCircumcm1 37  \n",
       "2 4  teen  boy HCcm2         NA  \n",
       "3 4  teen  boy HCcm3         NA  \n",
       "4 4  teen  boy HCcm4         NA  "
      ]
     },
     "metadata": {},
     "output_type": "display_data"
    }
   ],
   "source": [
    "weightLong <- weight %>% gather(weekNames, weight, -id, -group, -sex)\n",
    "headCLong <- headC %>% gather(weekNames, head, -id, -group, -sex)\n",
    "\n",
    "weightLong %>% filter(id == 4)\n",
    "headCLong %>% filter(id == 4)"
   ]
  },
  {
   "cell_type": "code",
   "execution_count": 18,
   "metadata": {},
   "outputs": [
    {
     "data": {
      "text/html": [
       "<table>\n",
       "<caption>A tibble: 4 × 6</caption>\n",
       "<thead>\n",
       "\t<tr><th scope=col>id</th><th scope=col>group</th><th scope=col>sex</th><th scope=col>weekNames</th><th scope=col>weight</th><th scope=col>week</th></tr>\n",
       "\t<tr><th scope=col>&lt;fct&gt;</th><th scope=col>&lt;fct&gt;</th><th scope=col>&lt;fct&gt;</th><th scope=col>&lt;chr&gt;</th><th scope=col>&lt;dbl&gt;</th><th scope=col>&lt;dbl&gt;</th></tr>\n",
       "</thead>\n",
       "<tbody>\n",
       "\t<tr><td>1</td><td>teen</td><td>girl</td><td>BABYWeigth1g</td><td>3492.70</td><td> 1</td></tr>\n",
       "\t<tr><td>1</td><td>teen</td><td>girl</td><td>BABYWeigth2g</td><td>3592.50</td><td> 2</td></tr>\n",
       "\t<tr><td>1</td><td>teen</td><td>girl</td><td>BABYWeigth3g</td><td>5488.60</td><td> 8</td></tr>\n",
       "\t<tr><td>1</td><td>teen</td><td>girl</td><td>BABYWeigth4g</td><td>8282.74</td><td>16</td></tr>\n",
       "</tbody>\n",
       "</table>\n"
      ],
      "text/latex": [
       "A tibble: 4 × 6\n",
       "\\begin{tabular}{r|llllll}\n",
       " id & group & sex & weekNames & weight & week\\\\\n",
       " <fct> & <fct> & <fct> & <chr> & <dbl> & <dbl>\\\\\n",
       "\\hline\n",
       "\t 1 & teen & girl & BABYWeigth1g & 3492.70 &  1\\\\\n",
       "\t 1 & teen & girl & BABYWeigth2g & 3592.50 &  2\\\\\n",
       "\t 1 & teen & girl & BABYWeigth3g & 5488.60 &  8\\\\\n",
       "\t 1 & teen & girl & BABYWeigth4g & 8282.74 & 16\\\\\n",
       "\\end{tabular}\n"
      ],
      "text/markdown": [
       "\n",
       "A tibble: 4 × 6\n",
       "\n",
       "| id &lt;fct&gt; | group &lt;fct&gt; | sex &lt;fct&gt; | weekNames &lt;chr&gt; | weight &lt;dbl&gt; | week &lt;dbl&gt; |\n",
       "|---|---|---|---|---|---|\n",
       "| 1 | teen | girl | BABYWeigth1g | 3492.70 |  1 |\n",
       "| 1 | teen | girl | BABYWeigth2g | 3592.50 |  2 |\n",
       "| 1 | teen | girl | BABYWeigth3g | 5488.60 |  8 |\n",
       "| 1 | teen | girl | BABYWeigth4g | 8282.74 | 16 |\n",
       "\n"
      ],
      "text/plain": [
       "  id group sex  weekNames    weight  week\n",
       "1 1  teen  girl BABYWeigth1g 3492.70  1  \n",
       "2 1  teen  girl BABYWeigth2g 3592.50  2  \n",
       "3 1  teen  girl BABYWeigth3g 5488.60  8  \n",
       "4 1  teen  girl BABYWeigth4g 8282.74 16  "
      ]
     },
     "metadata": {},
     "output_type": "display_data"
    }
   ],
   "source": [
    "weightLong <- \n",
    "    weightLong %>% \n",
    "        mutate(week = gsub(\".*1g\", \"1\", weekNames)) %>%\n",
    "        mutate(week = gsub(\".*2g\", \"2\", week)) %>%\n",
    "        mutate(week = gsub(\".*3g\", \"8\", week)) %>%\n",
    "        mutate(week = gsub(\".*4g\", \"16\", week)) %>% \n",
    "        mutate(week = as.numeric(week))\n",
    "\n",
    "weightLong %>% filter(id == 1)"
   ]
  },
  {
   "cell_type": "code",
   "execution_count": 19,
   "metadata": {},
   "outputs": [
    {
     "data": {
      "text/html": [
       "<table>\n",
       "<caption>A tibble: 4 × 6</caption>\n",
       "<thead>\n",
       "\t<tr><th scope=col>id</th><th scope=col>group</th><th scope=col>sex</th><th scope=col>weekNames</th><th scope=col>head</th><th scope=col>week</th></tr>\n",
       "\t<tr><th scope=col>&lt;fct&gt;</th><th scope=col>&lt;fct&gt;</th><th scope=col>&lt;fct&gt;</th><th scope=col>&lt;chr&gt;</th><th scope=col>&lt;dbl&gt;</th><th scope=col>&lt;dbl&gt;</th></tr>\n",
       "</thead>\n",
       "<tbody>\n",
       "\t<tr><td>1</td><td>teen</td><td>girl</td><td>HeadCircumcm1</td><td>34</td><td> 1</td></tr>\n",
       "\t<tr><td>1</td><td>teen</td><td>girl</td><td>HCcm2        </td><td>37</td><td> 2</td></tr>\n",
       "\t<tr><td>1</td><td>teen</td><td>girl</td><td>HCcm3        </td><td>39</td><td> 8</td></tr>\n",
       "\t<tr><td>1</td><td>teen</td><td>girl</td><td>HCcm4        </td><td>42</td><td>16</td></tr>\n",
       "</tbody>\n",
       "</table>\n"
      ],
      "text/latex": [
       "A tibble: 4 × 6\n",
       "\\begin{tabular}{r|llllll}\n",
       " id & group & sex & weekNames & head & week\\\\\n",
       " <fct> & <fct> & <fct> & <chr> & <dbl> & <dbl>\\\\\n",
       "\\hline\n",
       "\t 1 & teen & girl & HeadCircumcm1 & 34 &  1\\\\\n",
       "\t 1 & teen & girl & HCcm2         & 37 &  2\\\\\n",
       "\t 1 & teen & girl & HCcm3         & 39 &  8\\\\\n",
       "\t 1 & teen & girl & HCcm4         & 42 & 16\\\\\n",
       "\\end{tabular}\n"
      ],
      "text/markdown": [
       "\n",
       "A tibble: 4 × 6\n",
       "\n",
       "| id &lt;fct&gt; | group &lt;fct&gt; | sex &lt;fct&gt; | weekNames &lt;chr&gt; | head &lt;dbl&gt; | week &lt;dbl&gt; |\n",
       "|---|---|---|---|---|---|\n",
       "| 1 | teen | girl | HeadCircumcm1 | 34 |  1 |\n",
       "| 1 | teen | girl | HCcm2         | 37 |  2 |\n",
       "| 1 | teen | girl | HCcm3         | 39 |  8 |\n",
       "| 1 | teen | girl | HCcm4         | 42 | 16 |\n",
       "\n"
      ],
      "text/plain": [
       "  id group sex  weekNames     head week\n",
       "1 1  teen  girl HeadCircumcm1 34    1  \n",
       "2 1  teen  girl HCcm2         37    2  \n",
       "3 1  teen  girl HCcm3         39    8  \n",
       "4 1  teen  girl HCcm4         42   16  "
      ]
     },
     "metadata": {},
     "output_type": "display_data"
    }
   ],
   "source": [
    "headCLong <- \n",
    "    headCLong %>% \n",
    "        mutate(week = gsub(\".*cm1\", \"1\", weekNames)) %>%\n",
    "        mutate(week = gsub(\".*cm2\", \"2\", week)) %>%\n",
    "        mutate(week = gsub(\".*cm3\", \"8\", week)) %>%\n",
    "        mutate(week = gsub(\".*cm4\", \"16\", week)) %>% \n",
    "        mutate(week = as.numeric(week))\n",
    "\n",
    "headCLong %>% filter(id == 1)"
   ]
  },
  {
   "cell_type": "code",
   "execution_count": 20,
   "metadata": {},
   "outputs": [
    {
     "data": {
      "image/png": "[encoded data removed]",
      "text/plain": [
       "plot without title"
      ]
     },
     "metadata": {},
     "output_type": "display_data"
    }
   ],
   "source": [
    "weightDist <- weightLong %>% filter(!is.na(sex)) %>% group_by(sex, week) %>% \n",
    "        summarise(mean = mean(weight, na.rm = T), sd = sd(weight, na.rm = T))\n",
    "\n",
    "#png(filename=\"./plots/weight.png\", units=\"cm\", width=15, height=15, res = 300)\n",
    "ggplot(weightDist, aes(x = week, y = mean, color = sex)) + \n",
    "    geom_point() + \n",
    "    #geom_linerange(aes(ymin = mean - 2*sd, ymax = mean + 2*sd)) + \n",
    "    geom_line() + #geom_smooth(method = lm, se = F) +\n",
    "    theme(aspect.ratio = 1) +\n",
    "    ggtitle('Weight over time') + ylab('mean weight')\n",
    "#dev.off()"
   ]
  },
  {
   "cell_type": "code",
   "execution_count": 21,
   "metadata": {},
   "outputs": [
    {
     "data": {
      "image/png": "[encoded data removed]",
      "text/plain": [
       "plot without title"
      ]
     },
     "metadata": {},
     "output_type": "display_data"
    }
   ],
   "source": [
    "headCDist <- headCLong %>% filter(!is.na(sex)) %>% group_by(sex, week) %>% \n",
    "        summarise(mean = mean(head, na.rm = T), sd = sd(head, na.rm = T))\n",
    "\n",
    "#png(filename=\"./plots/head_c.png\", units=\"cm\", width=15, height=15, res = 300)\n",
    "ggplot(headCDist, aes(x = week, y = mean, color = sex)) + \n",
    "    geom_point() + \n",
    "    #geom_errorbar(aes(ymin = mean - 2*sd, ymax = mean + 2*sd), alpha = 0.5) + \n",
    "    geom_line() + #geom_smooth(method = lm, se = F) +\n",
    "    theme(aspect.ratio = 1) +\n",
    "    ggtitle('Head Circumference over time') + ylab('mean head circumference')\n",
    "#dev.off()"
   ]
  },
  {
   "cell_type": "code",
   "execution_count": 22,
   "metadata": {},
   "outputs": [
    {
     "data": {
      "text/plain": [
       "\n",
       "Call:\n",
       "lm(formula = mean ~ week + sex + week:sex, data = weightDist)\n",
       "\n",
       "Residuals:\n",
       "      1       2       3       4       5       6       7       8 \n",
       "-142.77   58.29  165.70  -81.21 -279.17  276.06   40.34  -37.23 \n",
       "\n",
       "Coefficients:\n",
       "            Estimate Std. Error t value Pr(>|t|)    \n",
       "(Intercept)  3365.70     174.91  19.243  4.3e-05 ***\n",
       "week          223.54      19.40  11.520 0.000324 ***\n",
       "sexboy       -185.37     247.35  -0.749 0.495267    \n",
       "week:sexboy    32.75      27.44   1.194 0.298597    \n",
       "---\n",
       "Signif. codes:  0 '***' 0.001 '**' 0.01 '*' 0.05 '.' 0.1 ' ' 1\n",
       "\n",
       "Residual standard error: 231.8 on 4 degrees of freedom\n",
       "Multiple R-squared:  0.9871,\tAdjusted R-squared:  0.9775 \n",
       "F-statistic: 102.4 on 3 and 4 DF,  p-value: 0.0003084\n"
      ]
     },
     "metadata": {},
     "output_type": "display_data"
    }
   ],
   "source": [
    "summary(lm(weightDist, formula = mean ~ week + sex + week:sex))"
   ]
  },
  {
   "cell_type": "code",
   "execution_count": 23,
   "metadata": {},
   "outputs": [
    {
     "data": {
      "text/plain": [
       "\n",
       "Call:\n",
       "lm(formula = mean ~ week + sex + week:sex, data = headCDist)\n",
       "\n",
       "Residuals:\n",
       "      1       2       3       4       5       6       7       8 \n",
       "-0.9137  0.5435  0.7621 -0.3919 -0.7740  0.5162  0.5478 -0.2901 \n",
       "\n",
       "Coefficients:\n",
       "            Estimate Std. Error t value Pr(>|t|)    \n",
       "(Intercept) 34.07687    0.66572  51.188 8.72e-07 ***\n",
       "week         0.36628    0.07385   4.959  0.00771 ** \n",
       "sexboy       0.12198    0.94147   0.130  0.90317    \n",
       "week:sexboy  0.08387    0.10445   0.803  0.46700    \n",
       "---\n",
       "Signif. codes:  0 '***' 0.001 '**' 0.01 '*' 0.05 '.' 0.1 ' ' 1\n",
       "\n",
       "Residual standard error: 0.8824 on 4 degrees of freedom\n",
       "Multiple R-squared:  0.9403,\tAdjusted R-squared:  0.8955 \n",
       "F-statistic: 20.99 on 3 and 4 DF,  p-value: 0.006556\n"
      ]
     },
     "metadata": {},
     "output_type": "display_data"
    }
   ],
   "source": [
    "summary(lm(headCDist, formula = mean ~ week + sex + week:sex))"
   ]
  },
  {
   "cell_type": "code",
   "execution_count": 24,
   "metadata": {},
   "outputs": [
    {
     "data": {
      "text/html": [
       "<table>\n",
       "<caption>A matrix: 8 × 8 of type dbl</caption>\n",
       "<thead>\n",
       "\t<tr><th></th><th scope=col>BABYWeigth1g</th><th scope=col>BABYWeigth2g</th><th scope=col>BABYWeigth3g</th><th scope=col>BABYWeigth4g</th><th scope=col>HeadCircumcm1</th><th scope=col>HCcm2</th><th scope=col>HCcm3</th><th scope=col>HCcm4</th></tr>\n",
       "</thead>\n",
       "<tbody>\n",
       "\t<tr><th scope=row>BABYWeigth1g</th><td>1.0000000</td><td> 0.18492505</td><td>0.6236000</td><td>0.3964243</td><td>0.52235889</td><td>0.5382875</td><td>0.5883136</td><td> 0.19971893</td></tr>\n",
       "\t<tr><th scope=row>BABYWeigth2g</th><td>0.1849250</td><td> 1.00000000</td><td>0.3589664</td><td>0.2509749</td><td>0.07017043</td><td>0.2817560</td><td>0.1265833</td><td>-0.08215091</td></tr>\n",
       "\t<tr><th scope=row>BABYWeigth3g</th><td>0.6236000</td><td> 0.35896645</td><td>1.0000000</td><td>0.7727088</td><td>0.78427813</td><td>0.8303841</td><td>0.8158937</td><td> 0.54844962</td></tr>\n",
       "\t<tr><th scope=row>BABYWeigth4g</th><td>0.3964243</td><td> 0.25097489</td><td>0.7727088</td><td>1.0000000</td><td>0.66359782</td><td>0.6963510</td><td>0.7417554</td><td> 0.68986933</td></tr>\n",
       "\t<tr><th scope=row>HeadCircumcm1</th><td>0.5223589</td><td> 0.07017043</td><td>0.7842781</td><td>0.6635978</td><td>1.00000000</td><td>0.8338292</td><td>0.8214121</td><td> 0.75736063</td></tr>\n",
       "\t<tr><th scope=row>HCcm2</th><td>0.5382875</td><td> 0.28175596</td><td>0.8303841</td><td>0.6963510</td><td>0.83382922</td><td>1.0000000</td><td>0.7285378</td><td> 0.64730848</td></tr>\n",
       "\t<tr><th scope=row>HCcm3</th><td>0.5883136</td><td> 0.12658332</td><td>0.8158937</td><td>0.7417554</td><td>0.82141209</td><td>0.7285378</td><td>1.0000000</td><td> 0.74281294</td></tr>\n",
       "\t<tr><th scope=row>HCcm4</th><td>0.1997189</td><td>-0.08215091</td><td>0.5484496</td><td>0.6898693</td><td>0.75736063</td><td>0.6473085</td><td>0.7428129</td><td> 1.00000000</td></tr>\n",
       "</tbody>\n",
       "</table>\n"
      ],
      "text/latex": [
       "A matrix: 8 × 8 of type dbl\n",
       "\\begin{tabular}{r|llllllll}\n",
       "  & BABYWeigth1g & BABYWeigth2g & BABYWeigth3g & BABYWeigth4g & HeadCircumcm1 & HCcm2 & HCcm3 & HCcm4\\\\\n",
       "\\hline\n",
       "\tBABYWeigth1g & 1.0000000 &  0.18492505 & 0.6236000 & 0.3964243 & 0.52235889 & 0.5382875 & 0.5883136 &  0.19971893\\\\\n",
       "\tBABYWeigth2g & 0.1849250 &  1.00000000 & 0.3589664 & 0.2509749 & 0.07017043 & 0.2817560 & 0.1265833 & -0.08215091\\\\\n",
       "\tBABYWeigth3g & 0.6236000 &  0.35896645 & 1.0000000 & 0.7727088 & 0.78427813 & 0.8303841 & 0.8158937 &  0.54844962\\\\\n",
       "\tBABYWeigth4g & 0.3964243 &  0.25097489 & 0.7727088 & 1.0000000 & 0.66359782 & 0.6963510 & 0.7417554 &  0.68986933\\\\\n",
       "\tHeadCircumcm1 & 0.5223589 &  0.07017043 & 0.7842781 & 0.6635978 & 1.00000000 & 0.8338292 & 0.8214121 &  0.75736063\\\\\n",
       "\tHCcm2 & 0.5382875 &  0.28175596 & 0.8303841 & 0.6963510 & 0.83382922 & 1.0000000 & 0.7285378 &  0.64730848\\\\\n",
       "\tHCcm3 & 0.5883136 &  0.12658332 & 0.8158937 & 0.7417554 & 0.82141209 & 0.7285378 & 1.0000000 &  0.74281294\\\\\n",
       "\tHCcm4 & 0.1997189 & -0.08215091 & 0.5484496 & 0.6898693 & 0.75736063 & 0.6473085 & 0.7428129 &  1.00000000\\\\\n",
       "\\end{tabular}\n"
      ],
      "text/markdown": [
       "\n",
       "A matrix: 8 × 8 of type dbl\n",
       "\n",
       "| <!--/--> | BABYWeigth1g | BABYWeigth2g | BABYWeigth3g | BABYWeigth4g | HeadCircumcm1 | HCcm2 | HCcm3 | HCcm4 |\n",
       "|---|---|---|---|---|---|---|---|---|\n",
       "| BABYWeigth1g | 1.0000000 |  0.18492505 | 0.6236000 | 0.3964243 | 0.52235889 | 0.5382875 | 0.5883136 |  0.19971893 |\n",
       "| BABYWeigth2g | 0.1849250 |  1.00000000 | 0.3589664 | 0.2509749 | 0.07017043 | 0.2817560 | 0.1265833 | -0.08215091 |\n",
       "| BABYWeigth3g | 0.6236000 |  0.35896645 | 1.0000000 | 0.7727088 | 0.78427813 | 0.8303841 | 0.8158937 |  0.54844962 |\n",
       "| BABYWeigth4g | 0.3964243 |  0.25097489 | 0.7727088 | 1.0000000 | 0.66359782 | 0.6963510 | 0.7417554 |  0.68986933 |\n",
       "| HeadCircumcm1 | 0.5223589 |  0.07017043 | 0.7842781 | 0.6635978 | 1.00000000 | 0.8338292 | 0.8214121 |  0.75736063 |\n",
       "| HCcm2 | 0.5382875 |  0.28175596 | 0.8303841 | 0.6963510 | 0.83382922 | 1.0000000 | 0.7285378 |  0.64730848 |\n",
       "| HCcm3 | 0.5883136 |  0.12658332 | 0.8158937 | 0.7417554 | 0.82141209 | 0.7285378 | 1.0000000 |  0.74281294 |\n",
       "| HCcm4 | 0.1997189 | -0.08215091 | 0.5484496 | 0.6898693 | 0.75736063 | 0.6473085 | 0.7428129 |  1.00000000 |\n",
       "\n"
      ],
      "text/plain": [
       "              BABYWeigth1g BABYWeigth2g BABYWeigth3g BABYWeigth4g HeadCircumcm1\n",
       "BABYWeigth1g  1.0000000     0.18492505  0.6236000    0.3964243    0.52235889   \n",
       "BABYWeigth2g  0.1849250     1.00000000  0.3589664    0.2509749    0.07017043   \n",
       "BABYWeigth3g  0.6236000     0.35896645  1.0000000    0.7727088    0.78427813   \n",
       "BABYWeigth4g  0.3964243     0.25097489  0.7727088    1.0000000    0.66359782   \n",
       "HeadCircumcm1 0.5223589     0.07017043  0.7842781    0.6635978    1.00000000   \n",
       "HCcm2         0.5382875     0.28175596  0.8303841    0.6963510    0.83382922   \n",
       "HCcm3         0.5883136     0.12658332  0.8158937    0.7417554    0.82141209   \n",
       "HCcm4         0.1997189    -0.08215091  0.5484496    0.6898693    0.75736063   \n",
       "              HCcm2     HCcm3     HCcm4      \n",
       "BABYWeigth1g  0.5382875 0.5883136  0.19971893\n",
       "BABYWeigth2g  0.2817560 0.1265833 -0.08215091\n",
       "BABYWeigth3g  0.8303841 0.8158937  0.54844962\n",
       "BABYWeigth4g  0.6963510 0.7417554  0.68986933\n",
       "HeadCircumcm1 0.8338292 0.8214121  0.75736063\n",
       "HCcm2         1.0000000 0.7285378  0.64730848\n",
       "HCcm3         0.7285378 1.0000000  0.74281294\n",
       "HCcm4         0.6473085 0.7428129  1.00000000"
      ]
     },
     "metadata": {},
     "output_type": "display_data"
    }
   ],
   "source": [
    "weight %>% inner_join(headC, by = 'id') %>% select(contains('Weigth'), contains('cm')) %>% cor(use=\"complete.obs\")"
   ]
  },
  {
   "cell_type": "markdown",
   "metadata": {},
   "source": [
    "## Weight and size of babies = Week?"
   ]
  },
  {
   "cell_type": "code",
   "execution_count": 25,
   "metadata": {},
   "outputs": [
    {
     "data": {
      "text/html": [
       "<table>\n",
       "<caption>A tibble: 8 × 4</caption>\n",
       "<thead>\n",
       "\t<tr><th scope=col>sex</th><th scope=col>week</th><th scope=col>mean</th><th scope=col>sd</th></tr>\n",
       "\t<tr><th scope=col>&lt;fct&gt;</th><th scope=col>&lt;dbl&gt;</th><th scope=col>&lt;dbl&gt;</th><th scope=col>&lt;dbl&gt;</th></tr>\n",
       "</thead>\n",
       "<tbody>\n",
       "\t<tr><td>girl</td><td> 1</td><td>33.52941</td><td>0.8744746</td></tr>\n",
       "\t<tr><td>girl</td><td> 2</td><td>35.35294</td><td>1.4116115</td></tr>\n",
       "\t<tr><td>girl</td><td> 8</td><td>37.76923</td><td>1.0919284</td></tr>\n",
       "\t<tr><td>girl</td><td>16</td><td>39.54545</td><td>1.3684763</td></tr>\n",
       "\t<tr><td>boy </td><td> 1</td><td>33.87500</td><td>1.3619246</td></tr>\n",
       "\t<tr><td>boy </td><td> 2</td><td>35.61538</td><td>1.3587324</td></tr>\n",
       "\t<tr><td>boy </td><td> 8</td><td>38.34783</td><td>1.5553046</td></tr>\n",
       "\t<tr><td>boy </td><td>16</td><td>41.11111</td><td>1.5676468</td></tr>\n",
       "</tbody>\n",
       "</table>\n"
      ],
      "text/latex": [
       "A tibble: 8 × 4\n",
       "\\begin{tabular}{r|llll}\n",
       " sex & week & mean & sd\\\\\n",
       " <fct> & <dbl> & <dbl> & <dbl>\\\\\n",
       "\\hline\n",
       "\t girl &  1 & 33.52941 & 0.8744746\\\\\n",
       "\t girl &  2 & 35.35294 & 1.4116115\\\\\n",
       "\t girl &  8 & 37.76923 & 1.0919284\\\\\n",
       "\t girl & 16 & 39.54545 & 1.3684763\\\\\n",
       "\t boy  &  1 & 33.87500 & 1.3619246\\\\\n",
       "\t boy  &  2 & 35.61538 & 1.3587324\\\\\n",
       "\t boy  &  8 & 38.34783 & 1.5553046\\\\\n",
       "\t boy  & 16 & 41.11111 & 1.5676468\\\\\n",
       "\\end{tabular}\n"
      ],
      "text/markdown": [
       "\n",
       "A tibble: 8 × 4\n",
       "\n",
       "| sex &lt;fct&gt; | week &lt;dbl&gt; | mean &lt;dbl&gt; | sd &lt;dbl&gt; |\n",
       "|---|---|---|---|\n",
       "| girl |  1 | 33.52941 | 0.8744746 |\n",
       "| girl |  2 | 35.35294 | 1.4116115 |\n",
       "| girl |  8 | 37.76923 | 1.0919284 |\n",
       "| girl | 16 | 39.54545 | 1.3684763 |\n",
       "| boy  |  1 | 33.87500 | 1.3619246 |\n",
       "| boy  |  2 | 35.61538 | 1.3587324 |\n",
       "| boy  |  8 | 38.34783 | 1.5553046 |\n",
       "| boy  | 16 | 41.11111 | 1.5676468 |\n",
       "\n"
      ],
      "text/plain": [
       "  sex  week mean     sd       \n",
       "1 girl  1   33.52941 0.8744746\n",
       "2 girl  2   35.35294 1.4116115\n",
       "3 girl  8   37.76923 1.0919284\n",
       "4 girl 16   39.54545 1.3684763\n",
       "5 boy   1   33.87500 1.3619246\n",
       "6 boy   2   35.61538 1.3587324\n",
       "7 boy   8   38.34783 1.5553046\n",
       "8 boy  16   41.11111 1.5676468"
      ]
     },
     "metadata": {},
     "output_type": "display_data"
    },
    {
     "data": {
      "text/html": [
       "<table>\n",
       "<caption>A matrix: 2 × 2 of type dbl</caption>\n",
       "<thead>\n",
       "\t<tr><th></th><th scope=col>week</th><th scope=col>mean</th></tr>\n",
       "</thead>\n",
       "<tbody>\n",
       "\t<tr><th scope=row>week</th><td>1.0000000</td><td>0.9911695</td></tr>\n",
       "\t<tr><th scope=row>mean</th><td>0.9911695</td><td>1.0000000</td></tr>\n",
       "</tbody>\n",
       "</table>\n"
      ],
      "text/latex": [
       "A matrix: 2 × 2 of type dbl\n",
       "\\begin{tabular}{r|ll}\n",
       "  & week & mean\\\\\n",
       "\\hline\n",
       "\tweek & 1.0000000 & 0.9911695\\\\\n",
       "\tmean & 0.9911695 & 1.0000000\\\\\n",
       "\\end{tabular}\n"
      ],
      "text/markdown": [
       "\n",
       "A matrix: 2 × 2 of type dbl\n",
       "\n",
       "| <!--/--> | week | mean |\n",
       "|---|---|---|\n",
       "| week | 1.0000000 | 0.9911695 |\n",
       "| mean | 0.9911695 | 1.0000000 |\n",
       "\n"
      ],
      "text/plain": [
       "     week      mean     \n",
       "week 1.0000000 0.9911695\n",
       "mean 0.9911695 1.0000000"
      ]
     },
     "metadata": {},
     "output_type": "display_data"
    },
    {
     "data": {
      "text/html": [
       "<table>\n",
       "<caption>A matrix: 2 × 2 of type dbl</caption>\n",
       "<thead>\n",
       "\t<tr><th></th><th scope=col>week</th><th scope=col>mean</th></tr>\n",
       "</thead>\n",
       "<tbody>\n",
       "\t<tr><th scope=row>week</th><td>1.0000000</td><td>0.9552353</td></tr>\n",
       "\t<tr><th scope=row>mean</th><td>0.9552353</td><td>1.0000000</td></tr>\n",
       "</tbody>\n",
       "</table>\n"
      ],
      "text/latex": [
       "A matrix: 2 × 2 of type dbl\n",
       "\\begin{tabular}{r|ll}\n",
       "  & week & mean\\\\\n",
       "\\hline\n",
       "\tweek & 1.0000000 & 0.9552353\\\\\n",
       "\tmean & 0.9552353 & 1.0000000\\\\\n",
       "\\end{tabular}\n"
      ],
      "text/markdown": [
       "\n",
       "A matrix: 2 × 2 of type dbl\n",
       "\n",
       "| <!--/--> | week | mean |\n",
       "|---|---|---|\n",
       "| week | 1.0000000 | 0.9552353 |\n",
       "| mean | 0.9552353 | 1.0000000 |\n",
       "\n"
      ],
      "text/plain": [
       "     week      mean     \n",
       "week 1.0000000 0.9552353\n",
       "mean 0.9552353 1.0000000"
      ]
     },
     "metadata": {},
     "output_type": "display_data"
    }
   ],
   "source": [
    "headCDist\n",
    "cor(weightDist[2:3])\n",
    "cor(headCDist[2:3])"
   ]
  },
  {
   "cell_type": "markdown",
   "metadata": {},
   "source": [
    "## Group and Free AA levels"
   ]
  },
  {
   "cell_type": "code",
   "execution_count": 26,
   "metadata": {},
   "outputs": [
    {
     "data": {
      "text/html": [
       "<table>\n",
       "<caption>A tibble: 2 × 3</caption>\n",
       "<thead>\n",
       "\t<tr><th scope=col>sex</th><th scope=col>teen</th><th scope=col>adult</th></tr>\n",
       "\t<tr><th scope=col>&lt;fct&gt;</th><th scope=col>&lt;int&gt;</th><th scope=col>&lt;int&gt;</th></tr>\n",
       "</thead>\n",
       "<tbody>\n",
       "\t<tr><td>girl</td><td>13</td><td>13</td></tr>\n",
       "\t<tr><td>boy </td><td>24</td><td>11</td></tr>\n",
       "</tbody>\n",
       "</table>\n"
      ],
      "text/latex": [
       "A tibble: 2 × 3\n",
       "\\begin{tabular}{r|lll}\n",
       " sex & teen & adult\\\\\n",
       " <fct> & <int> & <int>\\\\\n",
       "\\hline\n",
       "\t girl & 13 & 13\\\\\n",
       "\t boy  & 24 & 11\\\\\n",
       "\\end{tabular}\n"
      ],
      "text/markdown": [
       "\n",
       "A tibble: 2 × 3\n",
       "\n",
       "| sex &lt;fct&gt; | teen &lt;int&gt; | adult &lt;int&gt; |\n",
       "|---|---|---|\n",
       "| girl | 13 | 13 |\n",
       "| boy  | 24 | 11 |\n",
       "\n"
      ],
      "text/plain": [
       "  sex  teen adult\n",
       "1 girl 13   13   \n",
       "2 boy  24   11   "
      ]
     },
     "metadata": {},
     "output_type": "display_data"
    }
   ],
   "source": [
    "AA_E %>% select(sex, group) %>% filter(!is.na(sex)) %>%\n",
    "    group_by(sex, group) %>% summarise(number = n()) %>%\n",
    "    spread(group, number)"
   ]
  },
  {
   "cell_type": "code",
   "execution_count": 27,
   "metadata": {},
   "outputs": [
    {
     "name": "stdout",
     "output_type": "stream",
     "text": [
      "      group\n",
      "sex    teen adult\n",
      "  girl   13    13\n",
      "  boy    24    11\n"
     ]
    }
   ],
   "source": [
    "table = table( AA_E %>% select(sex, group)) \n",
    "print(table)"
   ]
  },
  {
   "cell_type": "markdown",
   "metadata": {},
   "source": [
    "Teen mothers have almost twice the number of boys: 24 boys and 13 girls. Is there an assosiation between group and sex? \n",
    "\n",
    "\n",
    "$H_0:$ group and sex are independent."
   ]
  },
  {
   "cell_type": "code",
   "execution_count": 28,
   "metadata": {},
   "outputs": [
    {
     "name": "stdout",
     "output_type": "stream",
     "text": [
      "\n",
      "\tPearson's Chi-squared test with Yates' continuity correction\n",
      "\n",
      "data:  table\n",
      "X-squared = 1.448, df = 1, p-value = 0.2288\n",
      "\n"
     ]
    }
   ],
   "source": [
    "print(chisq.test(table))"
   ]
  },
  {
   "cell_type": "markdown",
   "metadata": {},
   "source": [
    "$P(independence) \\approx 0.23$ \n",
    "\n",
    "### The model: \n",
    "\n",
    "$  AA = \\alpha_0 + \\alpha_1 \\ week + \\alpha_2 \\ sex + \\alpha_3 \\ group + \\alpha_{id}$"
   ]
  },
  {
   "cell_type": "code",
   "execution_count": 29,
   "metadata": {
    "collapsed": true
   },
   "outputs": [],
   "source": [
    "meGroup <- function(df){\n",
    "    \n",
    "    me <- lmer(level ~ sex + group + week + (1 | id), data = df)\n",
    "    \n",
    "    return(me)\n",
    "}"
   ]
  },
  {
   "cell_type": "code",
   "execution_count": 30,
   "metadata": {
    "collapsed": true
   },
   "outputs": [],
   "source": [
    "AA_E_Nested <- AA_E_Long %>% group_by(AA) %>% nest()\n",
    "AA_NE_Nested <- AA_NE_Long %>% group_by(AA) %>% nest()"
   ]
  },
  {
   "cell_type": "code",
   "execution_count": 31,
   "metadata": {
    "collapsed": true
   },
   "outputs": [],
   "source": [
    "nAA_E <- dim(AA_E_Nested)[1]\n",
    "nAA_NE <- dim(AA_NE_Nested)[1]"
   ]
  },
  {
   "cell_type": "code",
   "execution_count": 32,
   "metadata": {
    "collapsed": true
   },
   "outputs": [],
   "source": [
    "me_E_G <- list()\n",
    "tidy_E_G <- list()\n",
    "\n",
    "for(i in 1:nAA_E){\n",
    "    \n",
    "    me_E_G[[i]] <- meGroup(AA_E_Nested$data[[i]])\n",
    "    tidy_E_G[[i]] <- tidy(me_E_G[[i]], effects = 'fixed') %>% mutate(AA = AA_E_Nested$AA[i])\n",
    "    \n",
    "}"
   ]
  },
  {
   "cell_type": "code",
   "execution_count": 33,
   "metadata": {
    "collapsed": true
   },
   "outputs": [],
   "source": [
    "me_NE_G <- list()\n",
    "tidy_NE_G <- list()\n",
    "\n",
    "for(i in 1:nAA_NE){\n",
    "    \n",
    "    me_NE_G[[i]] <- meGroup(AA_NE_Nested$data[[i]])\n",
    "    tidy_NE_G[[i]] <- tidy(me_NE_G[[i]], effects = 'fixed') %>% mutate(AA = AA_NE_Nested$AA[i])\n",
    "\n",
    "}"
   ]
  },
  {
   "cell_type": "code",
   "execution_count": 34,
   "metadata": {},
   "outputs": [
    {
     "data": {
      "text/plain": [
       "[[1]]\n",
       "Linear mixed model fit by REML ['lmerMod']\n",
       "Formula: level ~ sex + group + week + (1 | id)\n",
       "   Data: df\n",
       "REML criterion at convergence: 485.7638\n",
       "Random effects:\n",
       " Groups   Name        Std.Dev.\n",
       " id       (Intercept) 0.2849  \n",
       " Residual             0.8451  \n",
       "Number of obs: 183, groups:  id, 61\n",
       "Fixed Effects:\n",
       "(Intercept)       sexboy   groupadult         week  \n",
       "    1.69466      0.19741      0.07302      0.01516  \n"
      ]
     },
     "metadata": {},
     "output_type": "display_data"
    },
    {
     "data": {
      "text/html": [
       "<ol>\n",
       "\t<li><table>\n",
       "<caption>A tibble: 4 × 5</caption>\n",
       "<thead>\n",
       "\t<tr><th scope=col>term</th><th scope=col>estimate</th><th scope=col>std.error</th><th scope=col>statistic</th><th scope=col>AA</th></tr>\n",
       "\t<tr><th scope=col>&lt;chr&gt;</th><th scope=col>&lt;dbl&gt;</th><th scope=col>&lt;dbl&gt;</th><th scope=col>&lt;dbl&gt;</th><th scope=col>&lt;chr&gt;</th></tr>\n",
       "</thead>\n",
       "<tbody>\n",
       "\t<tr><td>(Intercept)</td><td>1.69465972</td><td>0.15172437</td><td>11.1693307</td><td>HIS</td></tr>\n",
       "\t<tr><td>sexboy     </td><td>0.19741206</td><td>0.15314414</td><td> 1.2890605</td><td>HIS</td></tr>\n",
       "\t<tr><td>groupadult </td><td>0.07302050</td><td>0.15447799</td><td> 0.4726919</td><td>HIS</td></tr>\n",
       "\t<tr><td>week       </td><td>0.01515671</td><td>0.01095015</td><td> 1.3841560</td><td>HIS</td></tr>\n",
       "</tbody>\n",
       "</table>\n",
       "</li>\n",
       "</ol>\n"
      ],
      "text/latex": [
       "\\begin{enumerate}\n",
       "\\item A tibble: 4 × 5\n",
       "\\begin{tabular}{r|lllll}\n",
       " term & estimate & std.error & statistic & AA\\\\\n",
       " <chr> & <dbl> & <dbl> & <dbl> & <chr>\\\\\n",
       "\\hline\n",
       "\t (Intercept) & 1.69465972 & 0.15172437 & 11.1693307 & HIS\\\\\n",
       "\t sexboy      & 0.19741206 & 0.15314414 &  1.2890605 & HIS\\\\\n",
       "\t groupadult  & 0.07302050 & 0.15447799 &  0.4726919 & HIS\\\\\n",
       "\t week        & 0.01515671 & 0.01095015 &  1.3841560 & HIS\\\\\n",
       "\\end{tabular}\n",
       "\n",
       "\\end{enumerate}\n"
      ],
      "text/markdown": [
       "1. \n",
       "A tibble: 4 × 5\n",
       "\n",
       "| term &lt;chr&gt; | estimate &lt;dbl&gt; | std.error &lt;dbl&gt; | statistic &lt;dbl&gt; | AA &lt;chr&gt; |\n",
       "|---|---|---|---|---|\n",
       "| (Intercept) | 1.69465972 | 0.15172437 | 11.1693307 | HIS |\n",
       "| sexboy      | 0.19741206 | 0.15314414 |  1.2890605 | HIS |\n",
       "| groupadult  | 0.07302050 | 0.15447799 |  0.4726919 | HIS |\n",
       "| week        | 0.01515671 | 0.01095015 |  1.3841560 | HIS |\n",
       "\n",
       "\n",
       "\n",
       "\n"
      ],
      "text/plain": [
       "[[1]]\n",
       "\u001b[90m# A tibble: 4 x 5\u001b[39m\n",
       "  term        estimate std.error statistic AA   \n",
       "  \u001b[3m\u001b[90m<chr>\u001b[39m\u001b[23m          \u001b[3m\u001b[90m<dbl>\u001b[39m\u001b[23m     \u001b[3m\u001b[90m<dbl>\u001b[39m\u001b[23m     \u001b[3m\u001b[90m<dbl>\u001b[39m\u001b[23m \u001b[3m\u001b[90m<chr>\u001b[39m\u001b[23m\n",
       "\u001b[90m1\u001b[39m (Intercept)   1.69      0.152     11.2   HIS  \n",
       "\u001b[90m2\u001b[39m sexboy        0.197     0.153      1.29  HIS  \n",
       "\u001b[90m3\u001b[39m groupadult    0.073\u001b[4m0\u001b[24m    0.154      0.473 HIS  \n",
       "\u001b[90m4\u001b[39m week          0.015\u001b[4m2\u001b[24m    0.011\u001b[4m0\u001b[24m     1.38  HIS  \n"
      ]
     },
     "metadata": {},
     "output_type": "display_data"
    }
   ],
   "source": [
    "me_E_G[1]\n",
    "tidy_E_G[1]"
   ]
  },
  {
   "cell_type": "code",
   "execution_count": 35,
   "metadata": {},
   "outputs": [
    {
     "data": {
      "text/html": [
       "<table>\n",
       "<caption>A tibble: 11 × 5</caption>\n",
       "<thead>\n",
       "\t<tr><th scope=col>term</th><th scope=col>estimate</th><th scope=col>std.error</th><th scope=col>statistic</th><th scope=col>AA</th></tr>\n",
       "\t<tr><th scope=col>&lt;chr&gt;</th><th scope=col>&lt;dbl&gt;</th><th scope=col>&lt;dbl&gt;</th><th scope=col>&lt;dbl&gt;</th><th scope=col>&lt;chr&gt;</th></tr>\n",
       "</thead>\n",
       "<tbody>\n",
       "\t<tr><td>sexboy</td><td> 0.1311929</td><td>0.1580725</td><td> 0.8299535</td><td>ARG</td></tr>\n",
       "\t<tr><td>sexboy</td><td> 0.4778137</td><td>0.4972377</td><td> 0.9609362</td><td>ASP</td></tr>\n",
       "\t<tr><td>sexboy</td><td> 1.8260594</td><td>1.7129060</td><td> 1.0660594</td><td>ALA</td></tr>\n",
       "\t<tr><td>sexboy</td><td>-0.0447674</td><td>0.1290418</td><td>-0.3469216</td><td>ASN</td></tr>\n",
       "\t<tr><td>sexboy</td><td> 0.3227123</td><td>0.1688611</td><td> 1.9111112</td><td>CYS</td></tr>\n",
       "\t<tr><td>sexboy</td><td> 1.8089129</td><td>0.8199613</td><td> 2.2060955</td><td>GLY</td></tr>\n",
       "\t<tr><td>sexboy</td><td>13.1930834</td><td>6.7666047</td><td> 1.9497346</td><td>GLU</td></tr>\n",
       "\t<tr><td>sexboy</td><td> 4.8596302</td><td>3.3327430</td><td> 1.4581473</td><td>GLN</td></tr>\n",
       "\t<tr><td>sexboy</td><td> 0.3474801</td><td>0.3551628</td><td> 0.9783684</td><td>PRO</td></tr>\n",
       "\t<tr><td>sexboy</td><td> 1.4858178</td><td>0.7025900</td><td> 2.1147721</td><td>SER</td></tr>\n",
       "\t<tr><td>sexboy</td><td> 0.2047612</td><td>0.1124081</td><td> 1.8215867</td><td>TYR</td></tr>\n",
       "</tbody>\n",
       "</table>\n"
      ],
      "text/latex": [
       "A tibble: 11 × 5\n",
       "\\begin{tabular}{r|lllll}\n",
       " term & estimate & std.error & statistic & AA\\\\\n",
       " <chr> & <dbl> & <dbl> & <dbl> & <chr>\\\\\n",
       "\\hline\n",
       "\t sexboy &  0.1311929 & 0.1580725 &  0.8299535 & ARG\\\\\n",
       "\t sexboy &  0.4778137 & 0.4972377 &  0.9609362 & ASP\\\\\n",
       "\t sexboy &  1.8260594 & 1.7129060 &  1.0660594 & ALA\\\\\n",
       "\t sexboy & -0.0447674 & 0.1290418 & -0.3469216 & ASN\\\\\n",
       "\t sexboy &  0.3227123 & 0.1688611 &  1.9111112 & CYS\\\\\n",
       "\t sexboy &  1.8089129 & 0.8199613 &  2.2060955 & GLY\\\\\n",
       "\t sexboy & 13.1930834 & 6.7666047 &  1.9497346 & GLU\\\\\n",
       "\t sexboy &  4.8596302 & 3.3327430 &  1.4581473 & GLN\\\\\n",
       "\t sexboy &  0.3474801 & 0.3551628 &  0.9783684 & PRO\\\\\n",
       "\t sexboy &  1.4858178 & 0.7025900 &  2.1147721 & SER\\\\\n",
       "\t sexboy &  0.2047612 & 0.1124081 &  1.8215867 & TYR\\\\\n",
       "\\end{tabular}\n"
      ],
      "text/markdown": [
       "\n",
       "A tibble: 11 × 5\n",
       "\n",
       "| term &lt;chr&gt; | estimate &lt;dbl&gt; | std.error &lt;dbl&gt; | statistic &lt;dbl&gt; | AA &lt;chr&gt; |\n",
       "|---|---|---|---|---|\n",
       "| sexboy |  0.1311929 | 0.1580725 |  0.8299535 | ARG |\n",
       "| sexboy |  0.4778137 | 0.4972377 |  0.9609362 | ASP |\n",
       "| sexboy |  1.8260594 | 1.7129060 |  1.0660594 | ALA |\n",
       "| sexboy | -0.0447674 | 0.1290418 | -0.3469216 | ASN |\n",
       "| sexboy |  0.3227123 | 0.1688611 |  1.9111112 | CYS |\n",
       "| sexboy |  1.8089129 | 0.8199613 |  2.2060955 | GLY |\n",
       "| sexboy | 13.1930834 | 6.7666047 |  1.9497346 | GLU |\n",
       "| sexboy |  4.8596302 | 3.3327430 |  1.4581473 | GLN |\n",
       "| sexboy |  0.3474801 | 0.3551628 |  0.9783684 | PRO |\n",
       "| sexboy |  1.4858178 | 0.7025900 |  2.1147721 | SER |\n",
       "| sexboy |  0.2047612 | 0.1124081 |  1.8215867 | TYR |\n",
       "\n"
      ],
      "text/plain": [
       "   term   estimate   std.error statistic  AA \n",
       "1  sexboy  0.1311929 0.1580725  0.8299535 ARG\n",
       "2  sexboy  0.4778137 0.4972377  0.9609362 ASP\n",
       "3  sexboy  1.8260594 1.7129060  1.0660594 ALA\n",
       "4  sexboy -0.0447674 0.1290418 -0.3469216 ASN\n",
       "5  sexboy  0.3227123 0.1688611  1.9111112 CYS\n",
       "6  sexboy  1.8089129 0.8199613  2.2060955 GLY\n",
       "7  sexboy 13.1930834 6.7666047  1.9497346 GLU\n",
       "8  sexboy  4.8596302 3.3327430  1.4581473 GLN\n",
       "9  sexboy  0.3474801 0.3551628  0.9783684 PRO\n",
       "10 sexboy  1.4858178 0.7025900  2.1147721 SER\n",
       "11 sexboy  0.2047612 0.1124081  1.8215867 TYR"
      ]
     },
     "metadata": {},
     "output_type": "display_data"
    },
    {
     "data": {
      "text/html": [
       "<table>\n",
       "<caption>A tibble: 9 × 5</caption>\n",
       "<thead>\n",
       "\t<tr><th scope=col>term</th><th scope=col>estimate</th><th scope=col>std.error</th><th scope=col>statistic</th><th scope=col>AA</th></tr>\n",
       "\t<tr><th scope=col>&lt;chr&gt;</th><th scope=col>&lt;dbl&gt;</th><th scope=col>&lt;dbl&gt;</th><th scope=col>&lt;dbl&gt;</th><th scope=col>&lt;chr&gt;</th></tr>\n",
       "</thead>\n",
       "<tbody>\n",
       "\t<tr><td>groupadult</td><td> 0.07302050</td><td>0.15447799</td><td> 0.4726919</td><td>HIS</td></tr>\n",
       "\t<tr><td>groupadult</td><td>-0.08315549</td><td>0.10912814</td><td>-0.7619986</td><td>ILE</td></tr>\n",
       "\t<tr><td>groupadult</td><td> 0.07478572</td><td>0.20732118</td><td> 0.3607240</td><td>LEU</td></tr>\n",
       "\t<tr><td>groupadult</td><td> 0.08402700</td><td>0.22950017</td><td> 0.3661304</td><td>LYS</td></tr>\n",
       "\t<tr><td>groupadult</td><td> 0.02942618</td><td>0.05794486</td><td> 0.5078308</td><td>MET</td></tr>\n",
       "\t<tr><td>groupadult</td><td> 0.02896083</td><td>0.08380150</td><td> 0.3455884</td><td>PHE</td></tr>\n",
       "\t<tr><td>groupadult</td><td> 0.91736996</td><td>0.62730432</td><td> 1.4624002</td><td>THR</td></tr>\n",
       "\t<tr><td>groupadult</td><td> 0.00382029</td><td>0.01636282</td><td> 0.2334738</td><td>TRP</td></tr>\n",
       "\t<tr><td>groupadult</td><td> 0.06041745</td><td>0.26093028</td><td> 0.2315463</td><td>VAL</td></tr>\n",
       "</tbody>\n",
       "</table>\n"
      ],
      "text/latex": [
       "A tibble: 9 × 5\n",
       "\\begin{tabular}{r|lllll}\n",
       " term & estimate & std.error & statistic & AA\\\\\n",
       " <chr> & <dbl> & <dbl> & <dbl> & <chr>\\\\\n",
       "\\hline\n",
       "\t groupadult &  0.07302050 & 0.15447799 &  0.4726919 & HIS\\\\\n",
       "\t groupadult & -0.08315549 & 0.10912814 & -0.7619986 & ILE\\\\\n",
       "\t groupadult &  0.07478572 & 0.20732118 &  0.3607240 & LEU\\\\\n",
       "\t groupadult &  0.08402700 & 0.22950017 &  0.3661304 & LYS\\\\\n",
       "\t groupadult &  0.02942618 & 0.05794486 &  0.5078308 & MET\\\\\n",
       "\t groupadult &  0.02896083 & 0.08380150 &  0.3455884 & PHE\\\\\n",
       "\t groupadult &  0.91736996 & 0.62730432 &  1.4624002 & THR\\\\\n",
       "\t groupadult &  0.00382029 & 0.01636282 &  0.2334738 & TRP\\\\\n",
       "\t groupadult &  0.06041745 & 0.26093028 &  0.2315463 & VAL\\\\\n",
       "\\end{tabular}\n"
      ],
      "text/markdown": [
       "\n",
       "A tibble: 9 × 5\n",
       "\n",
       "| term &lt;chr&gt; | estimate &lt;dbl&gt; | std.error &lt;dbl&gt; | statistic &lt;dbl&gt; | AA &lt;chr&gt; |\n",
       "|---|---|---|---|---|\n",
       "| groupadult |  0.07302050 | 0.15447799 |  0.4726919 | HIS |\n",
       "| groupadult | -0.08315549 | 0.10912814 | -0.7619986 | ILE |\n",
       "| groupadult |  0.07478572 | 0.20732118 |  0.3607240 | LEU |\n",
       "| groupadult |  0.08402700 | 0.22950017 |  0.3661304 | LYS |\n",
       "| groupadult |  0.02942618 | 0.05794486 |  0.5078308 | MET |\n",
       "| groupadult |  0.02896083 | 0.08380150 |  0.3455884 | PHE |\n",
       "| groupadult |  0.91736996 | 0.62730432 |  1.4624002 | THR |\n",
       "| groupadult |  0.00382029 | 0.01636282 |  0.2334738 | TRP |\n",
       "| groupadult |  0.06041745 | 0.26093028 |  0.2315463 | VAL |\n",
       "\n"
      ],
      "text/plain": [
       "  term       estimate    std.error  statistic  AA \n",
       "1 groupadult  0.07302050 0.15447799  0.4726919 HIS\n",
       "2 groupadult -0.08315549 0.10912814 -0.7619986 ILE\n",
       "3 groupadult  0.07478572 0.20732118  0.3607240 LEU\n",
       "4 groupadult  0.08402700 0.22950017  0.3661304 LYS\n",
       "5 groupadult  0.02942618 0.05794486  0.5078308 MET\n",
       "6 groupadult  0.02896083 0.08380150  0.3455884 PHE\n",
       "7 groupadult  0.91736996 0.62730432  1.4624002 THR\n",
       "8 groupadult  0.00382029 0.01636282  0.2334738 TRP\n",
       "9 groupadult  0.06041745 0.26093028  0.2315463 VAL"
      ]
     },
     "metadata": {},
     "output_type": "display_data"
    }
   ],
   "source": [
    "sexCoef_E_G <- bind_rows(tidy_E_G) %>% filter(grepl(\"sexboy\", term))\n",
    "sexCoef_NE_G <- bind_rows(tidy_NE_G) %>% filter(grepl(\"sexboy\", term))\n",
    "\n",
    "groupCoef_E_G <- bind_rows(tidy_E_G) %>% filter(grepl(\"groupadult\", term))\n",
    "groupCoef_NE_G <- bind_rows(tidy_NE_G) %>% filter(grepl(\"groupadult\", term))\n",
    "\n",
    "sexCoef_NE_G\n",
    "groupCoef_E_G"
   ]
  },
  {
   "cell_type": "code",
   "execution_count": 36,
   "metadata": {
    "collapsed": true
   },
   "outputs": [],
   "source": [
    "meSex <- function(df){\n",
    "    \n",
    "    me <- lmer(level ~ sex + week + (1 | id), data = df)\n",
    "    \n",
    "    return(me)\n",
    "}"
   ]
  },
  {
   "cell_type": "code",
   "execution_count": 37,
   "metadata": {},
   "outputs": [
    {
     "name": "stderr",
     "output_type": "stream",
     "text": [
      "boundary (singular) fit: see ?isSingular\n"
     ]
    }
   ],
   "source": [
    "me_E_S <- list()\n",
    "tidy_E_S <- list()\n",
    "\n",
    "for(i in 1:nAA_E){\n",
    "    \n",
    "    me_E_S[[i]] <- meSex(AA_E_Nested$data[[i]])\n",
    "    tidy_E_S[[i]] <- tidy(me_E_S[[i]], effects = 'fixed') %>% mutate(AA = AA_E_Nested$AA[i])\n",
    "    \n",
    "}"
   ]
  },
  {
   "cell_type": "code",
   "execution_count": 38,
   "metadata": {
    "collapsed": true
   },
   "outputs": [],
   "source": [
    "me_NE_S <- list()\n",
    "tidy_NE_S <- list()\n",
    "\n",
    "for(i in 1:nAA_NE){\n",
    "    \n",
    "    me_NE_S[[i]] <- meSex(AA_NE_Nested$data[[i]])\n",
    "    tidy_NE_S[[i]] <- tidy(me_NE_S[[i]], effects = 'fixed') %>% mutate(AA = AA_NE_Nested$AA[i])\n",
    "\n",
    "}"
   ]
  },
  {
   "cell_type": "code",
   "execution_count": 39,
   "metadata": {
    "collapsed": true
   },
   "outputs": [],
   "source": [
    "sexCoef_E_S <- bind_rows(tidy_E_S) %>% filter(grepl(\"sexboy\", term))\n",
    "sexCoef_NE_S <- bind_rows(tidy_NE_S) %>% filter(grepl(\"sexboy\", term))\n",
    "\n",
    "sexCoef_E_S$term <- rep('sexboy (w/o group)', nAA_E)\n",
    "sexCoef_NE_S$term <- rep('sexboy (w/o group)', nAA_NE)"
   ]
  },
  {
   "cell_type": "code",
   "execution_count": 40,
   "metadata": {},
   "outputs": [
    {
     "data": {
      "image/png": "[encoded data removed]",
      "text/plain": [
       "plot without title"
      ]
     },
     "metadata": {},
     "output_type": "display_data"
    }
   ],
   "source": [
    "group_E <- rbind(sexCoef_E_G, groupCoef_E_G, sexCoef_E_S)\n",
    "\n",
    "#png(filename=\"./plots/group_E.png\", units=\"cm\", width=20, height=20, res = 300)\n",
    "ggplot(group_E, aes(x = reorder(AA, estimate), y = estimate, color = AA)) + \n",
    "    geom_hline(yintercept = 0, alpha = 0.4) + \n",
    "    geom_point() + geom_pointrange( aes(x = AA, ymin = estimate - 2*std.error, ymax = estimate + 2*std.error)) + \n",
    "    theme(legend.position = \"none\") + \n",
    "    coord_flip() + \n",
    "    facet_wrap(~term) + \n",
    "    xlab('Amino Acids') + ylab('') +\n",
    "    ggtitle('Essential AA \\n Estimate and 95% CI') \n",
    "#dev.off()"
   ]
  },
  {
   "cell_type": "code",
   "execution_count": 41,
   "metadata": {},
   "outputs": [
    {
     "data": {
      "image/png": "[encoded data removed]",
      "text/plain": [
       "plot without title"
      ]
     },
     "metadata": {},
     "output_type": "display_data"
    }
   ],
   "source": [
    "group_NE <- rbind(sexCoef_NE_G, groupCoef_NE_G, sexCoef_NE_S)\n",
    "\n",
    "#png(filename=\"./plots/group_NE.png\", units=\"cm\", width=20, height=20, res = 300)\n",
    "ggplot(group_NE, aes(x = reorder(AA, estimate), y = estimate, color = AA)) + \n",
    "    geom_hline(yintercept = 0, alpha = 0.4) + \n",
    "    geom_point() + geom_pointrange( aes(x = AA, ymin = estimate - 2*std.error, ymax = estimate + 2*std.error)) + \n",
    "    theme(legend.position = \"none\") + \n",
    "    coord_flip() + \n",
    "    facet_wrap(~term) + \n",
    "    xlab('Amino Acids') + ylab('') +\n",
    "    ggtitle('Non Essential AA \\n Estimate and 95% CI') \n",
    "#dev.off()"
   ]
  },
  {
   "cell_type": "code",
   "execution_count": 42,
   "metadata": {},
   "outputs": [
    {
     "data": {
      "image/png": "[encoded data removed]",
      "text/plain": [
       "plot without title"
      ]
     },
     "metadata": {},
     "output_type": "display_data"
    }
   ],
   "source": [
    "#png(filename=\"./plots/group_NE_detail.png\", units=\"cm\", width=20, height=20, res = 300)\n",
    "ggplot(group_NE, aes(x = reorder(AA, estimate), y = estimate, color = AA)) + \n",
    "    geom_hline(yintercept = 0, alpha = 0.4) + \n",
    "    geom_point() + geom_pointrange( aes(x = AA, ymin = estimate - 2*std.error, ymax = estimate + 2*std.error)) + \n",
    "    theme(legend.position = \"none\") + \n",
    "    coord_flip(ylim = c(-1, 1), xlim = c(1, 4.7)) + \n",
    "    facet_wrap(~term) + \n",
    "    xlab('Amino Acids') + ylab('') +\n",
    "    ggtitle('Detail Non Essential AA \\n Estimate and 95% CI') \n",
    "#dev.off()"
   ]
  },
  {
   "cell_type": "markdown",
   "metadata": {},
   "source": [
    "# Fastest Growing Babies\n",
    "\n",
    "Here only ids with all 4 measurements are used. "
   ]
  },
  {
   "cell_type": "code",
   "execution_count": 43,
   "metadata": {
    "collapsed": true
   },
   "outputs": [],
   "source": [
    "percentil <- function(x, p){\n",
    "    n <- length(x)\n",
    "    xs <- sort(x)\n",
    "    \n",
    "    k <- ceiling(p*n)\n",
    "    \n",
    "    return(list(percentil = k, value = xs[k]))\n",
    "}"
   ]
  },
  {
   "cell_type": "code",
   "execution_count": 44,
   "metadata": {},
   "outputs": [
    {
     "data": {
      "text/html": [
       "<dl>\n",
       "\t<dt>$percentil</dt>\n",
       "\t\t<dd>3</dd>\n",
       "\t<dt>$value</dt>\n",
       "\t\t<dd>5</dd>\n",
       "</dl>\n"
      ],
      "text/latex": [
       "\\begin{description}\n",
       "\\item[\\$percentil] 3\n",
       "\\item[\\$value] 5\n",
       "\\end{description}\n"
      ],
      "text/markdown": [
       "$percentil\n",
       ":   3\n",
       "$value\n",
       ":   5\n",
       "\n",
       "\n"
      ],
      "text/plain": [
       "$percentil\n",
       "[1] 3\n",
       "\n",
       "$value\n",
       "[1] 5\n"
      ]
     },
     "metadata": {},
     "output_type": "display_data"
    }
   ],
   "source": [
    "x <- c(2, 4, 5, 10)\n",
    "\n",
    "percentil(x, 0.75)\n"
   ]
  },
  {
   "cell_type": "code",
   "execution_count": 45,
   "metadata": {},
   "outputs": [
    {
     "data": {
      "text/html": [
       "<table>\n",
       "<caption>A tibble: 6 × 7</caption>\n",
       "<thead>\n",
       "\t<tr><th scope=col>id</th><th scope=col>group</th><th scope=col>sex</th><th scope=col>HeadCircumcm1</th><th scope=col>HCcm2</th><th scope=col>HCcm3</th><th scope=col>HCcm4</th></tr>\n",
       "\t<tr><th scope=col>&lt;fct&gt;</th><th scope=col>&lt;fct&gt;</th><th scope=col>&lt;fct&gt;</th><th scope=col>&lt;dbl&gt;</th><th scope=col>&lt;dbl&gt;</th><th scope=col>&lt;dbl&gt;</th><th scope=col>&lt;dbl&gt;</th></tr>\n",
       "</thead>\n",
       "<tbody>\n",
       "\t<tr><td>1</td><td>teen</td><td>girl</td><td>34</td><td>37</td><td>39</td><td>42</td></tr>\n",
       "\t<tr><td>2</td><td>teen</td><td>boy </td><td>35</td><td>37</td><td>38</td><td>41</td></tr>\n",
       "\t<tr><td>3</td><td>teen</td><td>boy </td><td>35</td><td>37</td><td>NA</td><td>NA</td></tr>\n",
       "\t<tr><td>4</td><td>teen</td><td>boy </td><td>37</td><td>NA</td><td>NA</td><td>NA</td></tr>\n",
       "\t<tr><td>5</td><td>teen</td><td>NA  </td><td>34</td><td>NA</td><td>NA</td><td>NA</td></tr>\n",
       "\t<tr><td>6</td><td>teen</td><td>boy </td><td>35</td><td>36</td><td>39</td><td>44</td></tr>\n",
       "</tbody>\n",
       "</table>\n"
      ],
      "text/latex": [
       "A tibble: 6 × 7\n",
       "\\begin{tabular}{r|lllllll}\n",
       " id & group & sex & HeadCircumcm1 & HCcm2 & HCcm3 & HCcm4\\\\\n",
       " <fct> & <fct> & <fct> & <dbl> & <dbl> & <dbl> & <dbl>\\\\\n",
       "\\hline\n",
       "\t 1 & teen & girl & 34 & 37 & 39 & 42\\\\\n",
       "\t 2 & teen & boy  & 35 & 37 & 38 & 41\\\\\n",
       "\t 3 & teen & boy  & 35 & 37 & NA & NA\\\\\n",
       "\t 4 & teen & boy  & 37 & NA & NA & NA\\\\\n",
       "\t 5 & teen & NA   & 34 & NA & NA & NA\\\\\n",
       "\t 6 & teen & boy  & 35 & 36 & 39 & 44\\\\\n",
       "\\end{tabular}\n"
      ],
      "text/markdown": [
       "\n",
       "A tibble: 6 × 7\n",
       "\n",
       "| id &lt;fct&gt; | group &lt;fct&gt; | sex &lt;fct&gt; | HeadCircumcm1 &lt;dbl&gt; | HCcm2 &lt;dbl&gt; | HCcm3 &lt;dbl&gt; | HCcm4 &lt;dbl&gt; |\n",
       "|---|---|---|---|---|---|---|\n",
       "| 1 | teen | girl | 34 | 37 | 39 | 42 |\n",
       "| 2 | teen | boy  | 35 | 37 | 38 | 41 |\n",
       "| 3 | teen | boy  | 35 | 37 | NA | NA |\n",
       "| 4 | teen | boy  | 37 | NA | NA | NA |\n",
       "| 5 | teen | NA   | 34 | NA | NA | NA |\n",
       "| 6 | teen | boy  | 35 | 36 | 39 | 44 |\n",
       "\n"
      ],
      "text/plain": [
       "  id group sex  HeadCircumcm1 HCcm2 HCcm3 HCcm4\n",
       "1 1  teen  girl 34            37    39    42   \n",
       "2 2  teen  boy  35            37    38    41   \n",
       "3 3  teen  boy  35            37    NA    NA   \n",
       "4 4  teen  boy  37            NA    NA    NA   \n",
       "5 5  teen  NA   34            NA    NA    NA   \n",
       "6 6  teen  boy  35            36    39    44   "
      ]
     },
     "metadata": {},
     "output_type": "display_data"
    },
    {
     "data": {
      "text/html": [
       "<table>\n",
       "<caption>A tibble: 6 × 7</caption>\n",
       "<thead>\n",
       "\t<tr><th scope=col>id</th><th scope=col>group</th><th scope=col>sex</th><th scope=col>BABYWeigth1g</th><th scope=col>BABYWeigth2g</th><th scope=col>BABYWeigth3g</th><th scope=col>BABYWeigth4g</th></tr>\n",
       "\t<tr><th scope=col>&lt;fct&gt;</th><th scope=col>&lt;fct&gt;</th><th scope=col>&lt;fct&gt;</th><th scope=col>&lt;dbl&gt;</th><th scope=col>&lt;dbl&gt;</th><th scope=col>&lt;dbl&gt;</th><th scope=col>&lt;dbl&gt;</th></tr>\n",
       "</thead>\n",
       "<tbody>\n",
       "\t<tr><td>1</td><td>teen</td><td>girl</td><td>3492.7</td><td>3592.5</td><td>5488.6</td><td>8282.74</td></tr>\n",
       "\t<tr><td>2</td><td>teen</td><td>boy </td><td>3392.9</td><td>4091.5</td><td>5987.5</td><td>7883.57</td></tr>\n",
       "\t<tr><td>3</td><td>teen</td><td>boy </td><td>2993.8</td><td>3592.5</td><td>    NA</td><td>     NA</td></tr>\n",
       "\t<tr><td>4</td><td>teen</td><td>boy </td><td>3692.3</td><td>    NA</td><td>    NA</td><td>     NA</td></tr>\n",
       "\t<tr><td>5</td><td>teen</td><td>NA  </td><td>3592.5</td><td>    NA</td><td>    NA</td><td>     NA</td></tr>\n",
       "\t<tr><td>6</td><td>teen</td><td>boy </td><td>3093.5</td><td>3392.9</td><td>4989.6</td><td>6785.80</td></tr>\n",
       "</tbody>\n",
       "</table>\n"
      ],
      "text/latex": [
       "A tibble: 6 × 7\n",
       "\\begin{tabular}{r|lllllll}\n",
       " id & group & sex & BABYWeigth1g & BABYWeigth2g & BABYWeigth3g & BABYWeigth4g\\\\\n",
       " <fct> & <fct> & <fct> & <dbl> & <dbl> & <dbl> & <dbl>\\\\\n",
       "\\hline\n",
       "\t 1 & teen & girl & 3492.7 & 3592.5 & 5488.6 & 8282.74\\\\\n",
       "\t 2 & teen & boy  & 3392.9 & 4091.5 & 5987.5 & 7883.57\\\\\n",
       "\t 3 & teen & boy  & 2993.8 & 3592.5 &     NA &      NA\\\\\n",
       "\t 4 & teen & boy  & 3692.3 &     NA &     NA &      NA\\\\\n",
       "\t 5 & teen & NA   & 3592.5 &     NA &     NA &      NA\\\\\n",
       "\t 6 & teen & boy  & 3093.5 & 3392.9 & 4989.6 & 6785.80\\\\\n",
       "\\end{tabular}\n"
      ],
      "text/markdown": [
       "\n",
       "A tibble: 6 × 7\n",
       "\n",
       "| id &lt;fct&gt; | group &lt;fct&gt; | sex &lt;fct&gt; | BABYWeigth1g &lt;dbl&gt; | BABYWeigth2g &lt;dbl&gt; | BABYWeigth3g &lt;dbl&gt; | BABYWeigth4g &lt;dbl&gt; |\n",
       "|---|---|---|---|---|---|---|\n",
       "| 1 | teen | girl | 3492.7 | 3592.5 | 5488.6 | 8282.74 |\n",
       "| 2 | teen | boy  | 3392.9 | 4091.5 | 5987.5 | 7883.57 |\n",
       "| 3 | teen | boy  | 2993.8 | 3592.5 |     NA |      NA |\n",
       "| 4 | teen | boy  | 3692.3 |     NA |     NA |      NA |\n",
       "| 5 | teen | NA   | 3592.5 |     NA |     NA |      NA |\n",
       "| 6 | teen | boy  | 3093.5 | 3392.9 | 4989.6 | 6785.80 |\n",
       "\n"
      ],
      "text/plain": [
       "  id group sex  BABYWeigth1g BABYWeigth2g BABYWeigth3g BABYWeigth4g\n",
       "1 1  teen  girl 3492.7       3592.5       5488.6       8282.74     \n",
       "2 2  teen  boy  3392.9       4091.5       5987.5       7883.57     \n",
       "3 3  teen  boy  2993.8       3592.5           NA            NA     \n",
       "4 4  teen  boy  3692.3           NA           NA            NA     \n",
       "5 5  teen  NA   3592.5           NA           NA            NA     \n",
       "6 6  teen  boy  3093.5       3392.9       4989.6       6785.80     "
      ]
     },
     "metadata": {},
     "output_type": "display_data"
    }
   ],
   "source": [
    "head(headC)\n",
    "head(weight)"
   ]
  },
  {
   "cell_type": "code",
   "execution_count": 46,
   "metadata": {
    "collapsed": true
   },
   "outputs": [],
   "source": [
    "# All observed:\n",
    "headC_NO_NA <- headC %>% na.omit()\n",
    "weight_NO_NA <- weight %>% na.omit()\n",
    "\n",
    "headCLong_NO_NA <- headC_NO_NA %>% gather(weekNames, head, -id, -group, -sex)\n",
    "weightLong_NO_NA <- weight_NO_NA %>% gather(weekNames, weight, -id, -group, -sex)"
   ]
  },
  {
   "cell_type": "code",
   "execution_count": 47,
   "metadata": {
    "collapsed": true
   },
   "outputs": [],
   "source": [
    "headCLong_NO_NA <- \n",
    "    headCLong_NO_NA %>% \n",
    "        mutate(week = gsub(\".*cm1\", \"1\", weekNames)) %>%\n",
    "        mutate(week = gsub(\".*cm2\", \"2\", week)) %>%\n",
    "        mutate(week = gsub(\".*cm3\", \"8\", week)) %>%\n",
    "        mutate(week = gsub(\".*cm4\", \"16\", week)) %>% \n",
    "        mutate(week = as.numeric(week))"
   ]
  },
  {
   "cell_type": "code",
   "execution_count": 48,
   "metadata": {
    "collapsed": true
   },
   "outputs": [],
   "source": [
    "weightLong_NO_NA <- \n",
    "    weightLong_NO_NA %>% \n",
    "        mutate(week = gsub(\".*1g\", \"1\", weekNames)) %>%\n",
    "        mutate(week = gsub(\".*2g\", \"2\", week)) %>%\n",
    "        mutate(week = gsub(\".*3g\", \"8\", week)) %>%\n",
    "        mutate(week = gsub(\".*4g\", \"16\", week)) %>% \n",
    "        mutate(week = as.numeric(week))"
   ]
  },
  {
   "cell_type": "code",
   "execution_count": 49,
   "metadata": {},
   "outputs": [
    {
     "data": {
      "text/html": [
       "<table>\n",
       "<caption>A tibble: 6 × 6</caption>\n",
       "<thead>\n",
       "\t<tr><th scope=col>id</th><th scope=col>group</th><th scope=col>sex</th><th scope=col>weekNames</th><th scope=col>head</th><th scope=col>week</th></tr>\n",
       "\t<tr><th scope=col>&lt;fct&gt;</th><th scope=col>&lt;fct&gt;</th><th scope=col>&lt;fct&gt;</th><th scope=col>&lt;chr&gt;</th><th scope=col>&lt;dbl&gt;</th><th scope=col>&lt;dbl&gt;</th></tr>\n",
       "</thead>\n",
       "<tbody>\n",
       "\t<tr><td>1 </td><td>teen</td><td>girl</td><td>HeadCircumcm1</td><td>34</td><td>1</td></tr>\n",
       "\t<tr><td>2 </td><td>teen</td><td>boy </td><td>HeadCircumcm1</td><td>35</td><td>1</td></tr>\n",
       "\t<tr><td>6 </td><td>teen</td><td>boy </td><td>HeadCircumcm1</td><td>35</td><td>1</td></tr>\n",
       "\t<tr><td>7 </td><td>teen</td><td>boy </td><td>HeadCircumcm1</td><td>34</td><td>1</td></tr>\n",
       "\t<tr><td>8 </td><td>teen</td><td>boy </td><td>HeadCircumcm1</td><td>34</td><td>1</td></tr>\n",
       "\t<tr><td>20</td><td>teen</td><td>boy </td><td>HeadCircumcm1</td><td>33</td><td>1</td></tr>\n",
       "</tbody>\n",
       "</table>\n"
      ],
      "text/latex": [
       "A tibble: 6 × 6\n",
       "\\begin{tabular}{r|llllll}\n",
       " id & group & sex & weekNames & head & week\\\\\n",
       " <fct> & <fct> & <fct> & <chr> & <dbl> & <dbl>\\\\\n",
       "\\hline\n",
       "\t 1  & teen & girl & HeadCircumcm1 & 34 & 1\\\\\n",
       "\t 2  & teen & boy  & HeadCircumcm1 & 35 & 1\\\\\n",
       "\t 6  & teen & boy  & HeadCircumcm1 & 35 & 1\\\\\n",
       "\t 7  & teen & boy  & HeadCircumcm1 & 34 & 1\\\\\n",
       "\t 8  & teen & boy  & HeadCircumcm1 & 34 & 1\\\\\n",
       "\t 20 & teen & boy  & HeadCircumcm1 & 33 & 1\\\\\n",
       "\\end{tabular}\n"
      ],
      "text/markdown": [
       "\n",
       "A tibble: 6 × 6\n",
       "\n",
       "| id &lt;fct&gt; | group &lt;fct&gt; | sex &lt;fct&gt; | weekNames &lt;chr&gt; | head &lt;dbl&gt; | week &lt;dbl&gt; |\n",
       "|---|---|---|---|---|---|\n",
       "| 1  | teen | girl | HeadCircumcm1 | 34 | 1 |\n",
       "| 2  | teen | boy  | HeadCircumcm1 | 35 | 1 |\n",
       "| 6  | teen | boy  | HeadCircumcm1 | 35 | 1 |\n",
       "| 7  | teen | boy  | HeadCircumcm1 | 34 | 1 |\n",
       "| 8  | teen | boy  | HeadCircumcm1 | 34 | 1 |\n",
       "| 20 | teen | boy  | HeadCircumcm1 | 33 | 1 |\n",
       "\n"
      ],
      "text/plain": [
       "  id group sex  weekNames     head week\n",
       "1 1  teen  girl HeadCircumcm1 34   1   \n",
       "2 2  teen  boy  HeadCircumcm1 35   1   \n",
       "3 6  teen  boy  HeadCircumcm1 35   1   \n",
       "4 7  teen  boy  HeadCircumcm1 34   1   \n",
       "5 8  teen  boy  HeadCircumcm1 34   1   \n",
       "6 20 teen  boy  HeadCircumcm1 33   1   "
      ]
     },
     "metadata": {},
     "output_type": "display_data"
    },
    {
     "data": {
      "text/html": [
       "<table>\n",
       "<caption>A tibble: 2 × 2</caption>\n",
       "<thead>\n",
       "\t<tr><th scope=col>sex</th><th scope=col>n()</th></tr>\n",
       "\t<tr><th scope=col>&lt;fct&gt;</th><th scope=col>&lt;int&gt;</th></tr>\n",
       "</thead>\n",
       "<tbody>\n",
       "\t<tr><td>girl</td><td>24</td></tr>\n",
       "\t<tr><td>boy </td><td>60</td></tr>\n",
       "</tbody>\n",
       "</table>\n"
      ],
      "text/latex": [
       "A tibble: 2 × 2\n",
       "\\begin{tabular}{r|ll}\n",
       " sex & n()\\\\\n",
       " <fct> & <int>\\\\\n",
       "\\hline\n",
       "\t girl & 24\\\\\n",
       "\t boy  & 60\\\\\n",
       "\\end{tabular}\n"
      ],
      "text/markdown": [
       "\n",
       "A tibble: 2 × 2\n",
       "\n",
       "| sex &lt;fct&gt; | n() &lt;int&gt; |\n",
       "|---|---|\n",
       "| girl | 24 |\n",
       "| boy  | 60 |\n",
       "\n"
      ],
      "text/plain": [
       "  sex  n()\n",
       "1 girl 24 \n",
       "2 boy  60 "
      ]
     },
     "metadata": {},
     "output_type": "display_data"
    }
   ],
   "source": [
    "head(headCLong_NO_NA)\n",
    "headCLong_NO_NA %>% group_by(sex) %>% summarise(n())"
   ]
  },
  {
   "cell_type": "code",
   "execution_count": 50,
   "metadata": {},
   "outputs": [
    {
     "data": {
      "text/html": [
       "<table>\n",
       "<caption>A tibble: 6 × 6</caption>\n",
       "<thead>\n",
       "\t<tr><th scope=col>id</th><th scope=col>group</th><th scope=col>sex</th><th scope=col>weekNames</th><th scope=col>weight</th><th scope=col>week</th></tr>\n",
       "\t<tr><th scope=col>&lt;fct&gt;</th><th scope=col>&lt;fct&gt;</th><th scope=col>&lt;fct&gt;</th><th scope=col>&lt;chr&gt;</th><th scope=col>&lt;dbl&gt;</th><th scope=col>&lt;dbl&gt;</th></tr>\n",
       "</thead>\n",
       "<tbody>\n",
       "\t<tr><td>1 </td><td>teen</td><td>girl</td><td>BABYWeigth1g</td><td>3492.7</td><td>1</td></tr>\n",
       "\t<tr><td>2 </td><td>teen</td><td>boy </td><td>BABYWeigth1g</td><td>3392.9</td><td>1</td></tr>\n",
       "\t<tr><td>6 </td><td>teen</td><td>boy </td><td>BABYWeigth1g</td><td>3093.5</td><td>1</td></tr>\n",
       "\t<tr><td>7 </td><td>teen</td><td>boy </td><td>BABYWeigth1g</td><td>2993.7</td><td>1</td></tr>\n",
       "\t<tr><td>8 </td><td>teen</td><td>boy </td><td>BABYWeigth1g</td><td>3392.9</td><td>1</td></tr>\n",
       "\t<tr><td>14</td><td>teen</td><td>girl</td><td>BABYWeigth1g</td><td>2164.0</td><td>1</td></tr>\n",
       "</tbody>\n",
       "</table>\n"
      ],
      "text/latex": [
       "A tibble: 6 × 6\n",
       "\\begin{tabular}{r|llllll}\n",
       " id & group & sex & weekNames & weight & week\\\\\n",
       " <fct> & <fct> & <fct> & <chr> & <dbl> & <dbl>\\\\\n",
       "\\hline\n",
       "\t 1  & teen & girl & BABYWeigth1g & 3492.7 & 1\\\\\n",
       "\t 2  & teen & boy  & BABYWeigth1g & 3392.9 & 1\\\\\n",
       "\t 6  & teen & boy  & BABYWeigth1g & 3093.5 & 1\\\\\n",
       "\t 7  & teen & boy  & BABYWeigth1g & 2993.7 & 1\\\\\n",
       "\t 8  & teen & boy  & BABYWeigth1g & 3392.9 & 1\\\\\n",
       "\t 14 & teen & girl & BABYWeigth1g & 2164.0 & 1\\\\\n",
       "\\end{tabular}\n"
      ],
      "text/markdown": [
       "\n",
       "A tibble: 6 × 6\n",
       "\n",
       "| id &lt;fct&gt; | group &lt;fct&gt; | sex &lt;fct&gt; | weekNames &lt;chr&gt; | weight &lt;dbl&gt; | week &lt;dbl&gt; |\n",
       "|---|---|---|---|---|---|\n",
       "| 1  | teen | girl | BABYWeigth1g | 3492.7 | 1 |\n",
       "| 2  | teen | boy  | BABYWeigth1g | 3392.9 | 1 |\n",
       "| 6  | teen | boy  | BABYWeigth1g | 3093.5 | 1 |\n",
       "| 7  | teen | boy  | BABYWeigth1g | 2993.7 | 1 |\n",
       "| 8  | teen | boy  | BABYWeigth1g | 3392.9 | 1 |\n",
       "| 14 | teen | girl | BABYWeigth1g | 2164.0 | 1 |\n",
       "\n"
      ],
      "text/plain": [
       "  id group sex  weekNames    weight week\n",
       "1 1  teen  girl BABYWeigth1g 3492.7 1   \n",
       "2 2  teen  boy  BABYWeigth1g 3392.9 1   \n",
       "3 6  teen  boy  BABYWeigth1g 3093.5 1   \n",
       "4 7  teen  boy  BABYWeigth1g 2993.7 1   \n",
       "5 8  teen  boy  BABYWeigth1g 3392.9 1   \n",
       "6 14 teen  girl BABYWeigth1g 2164.0 1   "
      ]
     },
     "metadata": {},
     "output_type": "display_data"
    },
    {
     "data": {
      "text/html": [
       "<table>\n",
       "<caption>A tibble: 2 × 2</caption>\n",
       "<thead>\n",
       "\t<tr><th scope=col>sex</th><th scope=col>n()</th></tr>\n",
       "\t<tr><th scope=col>&lt;fct&gt;</th><th scope=col>&lt;int&gt;</th></tr>\n",
       "</thead>\n",
       "<tbody>\n",
       "\t<tr><td>girl</td><td>28</td></tr>\n",
       "\t<tr><td>boy </td><td>56</td></tr>\n",
       "</tbody>\n",
       "</table>\n"
      ],
      "text/latex": [
       "A tibble: 2 × 2\n",
       "\\begin{tabular}{r|ll}\n",
       " sex & n()\\\\\n",
       " <fct> & <int>\\\\\n",
       "\\hline\n",
       "\t girl & 28\\\\\n",
       "\t boy  & 56\\\\\n",
       "\\end{tabular}\n"
      ],
      "text/markdown": [
       "\n",
       "A tibble: 2 × 2\n",
       "\n",
       "| sex &lt;fct&gt; | n() &lt;int&gt; |\n",
       "|---|---|\n",
       "| girl | 28 |\n",
       "| boy  | 56 |\n",
       "\n"
      ],
      "text/plain": [
       "  sex  n()\n",
       "1 girl 28 \n",
       "2 boy  56 "
      ]
     },
     "metadata": {},
     "output_type": "display_data"
    }
   ],
   "source": [
    "head(weightLong_NO_NA)\n",
    "weightLong_NO_NA %>% group_by(sex) %>% summarise(n())"
   ]
  },
  {
   "cell_type": "code",
   "execution_count": 51,
   "metadata": {},
   "outputs": [
    {
     "data": {
      "text/html": [
       "<ol class=list-inline>\n",
       "\t<li>84</li>\n",
       "\t<li>6</li>\n",
       "</ol>\n"
      ],
      "text/latex": [
       "\\begin{enumerate*}\n",
       "\\item 84\n",
       "\\item 6\n",
       "\\end{enumerate*}\n"
      ],
      "text/markdown": [
       "1. 84\n",
       "2. 6\n",
       "\n",
       "\n"
      ],
      "text/plain": [
       "[1] 84  6"
      ]
     },
     "metadata": {},
     "output_type": "display_data"
    },
    {
     "data": {
      "text/html": [
       "<ol class=list-inline>\n",
       "\t<li>84</li>\n",
       "\t<li>6</li>\n",
       "</ol>\n"
      ],
      "text/latex": [
       "\\begin{enumerate*}\n",
       "\\item 84\n",
       "\\item 6\n",
       "\\end{enumerate*}\n"
      ],
      "text/markdown": [
       "1. 84\n",
       "2. 6\n",
       "\n",
       "\n"
      ],
      "text/plain": [
       "[1] 84  6"
      ]
     },
     "metadata": {},
     "output_type": "display_data"
    }
   ],
   "source": [
    "dim(headCLong_NO_NA)\n",
    "dim(weightLong_NO_NA)"
   ]
  },
  {
   "cell_type": "code",
   "execution_count": 52,
   "metadata": {},
   "outputs": [
    {
     "name": "stderr",
     "output_type": "stream",
     "text": [
      "boundary (singular) fit: see ?isSingular\n",
      "boundary (singular) fit: see ?isSingular\n"
     ]
    }
   ],
   "source": [
    "head_id <- lmer(head ~ week + (1 + week| id), data = headCLong_NO_NA)\n",
    "weight_id <- lmer(weight ~ week + (1 + week| id), data = weightLong_NO_NA)"
   ]
  },
  {
   "cell_type": "code",
   "execution_count": 53,
   "metadata": {
    "collapsed": true
   },
   "outputs": [],
   "source": [
    "?isSingular"
   ]
  },
  {
   "cell_type": "code",
   "execution_count": 54,
   "metadata": {},
   "outputs": [
    {
     "data": {
      "text/html": [
       "<dl class=dl-horizontal>\n",
       "\t<dt>(Intercept)</dt>\n",
       "\t\t<dd>34.1888082728713</dd>\n",
       "\t<dt>week</dt>\n",
       "\t\t<dd>0.441164206488195</dd>\n",
       "</dl>\n"
      ],
      "text/latex": [
       "\\begin{description*}\n",
       "\\item[(Intercept)] 34.1888082728713\n",
       "\\item[week] 0.441164206488195\n",
       "\\end{description*}\n"
      ],
      "text/markdown": [
       "(Intercept)\n",
       ":   34.1888082728713week\n",
       ":   0.441164206488195\n",
       "\n"
      ],
      "text/plain": [
       "(Intercept)        week \n",
       " 34.1888083   0.4411642 "
      ]
     },
     "metadata": {},
     "output_type": "display_data"
    },
    {
     "data": {
      "text/plain": [
       "$id\n",
       "   (Intercept)          week\n",
       "1   0.59205613  0.0164598483\n",
       "2   0.35197434  0.0097852956\n",
       "6   1.01115063  0.0281111621\n",
       "7  -0.14027978 -0.0038999407\n",
       "8   0.43747106  0.0121622037\n",
       "20 -0.43723610 -0.0121556715\n",
       "23 -1.14107310 -0.0317231578\n",
       "30  0.76699757  0.0213234233\n",
       "32 -0.46980628 -0.0130611603\n",
       "35 -0.52680409 -0.0146457657\n",
       "36 -0.86040187 -0.0239201714\n",
       "37 -0.86040187 -0.0239201714\n",
       "41 -0.04664051 -0.0012966604\n",
       "48  2.54898207  0.0708646626\n",
       "52 -0.43723610 -0.0121556715\n",
       "54 -0.01419361 -0.0003945989\n",
       "55 -0.80340406 -0.0223355660\n",
       "57 -0.31929248 -0.0088767019\n",
       "59  1.25518041  0.0348954736\n",
       "62 -0.64881898 -0.0180379215\n",
       "64 -0.25822340 -0.0071789104\n",
       "\n",
       "with conditional variances for \"id\" "
      ]
     },
     "metadata": {},
     "output_type": "display_data"
    }
   ],
   "source": [
    "fixef(head_id)\n",
    "ranef(head_id)"
   ]
  },
  {
   "cell_type": "code",
   "execution_count": 55,
   "metadata": {},
   "outputs": [
    {
     "data": {
      "text/html": [
       "<dl class=dl-horizontal>\n",
       "\t<dt>(Intercept)</dt>\n",
       "\t\t<dd>3237.69245517471</dd>\n",
       "\t<dt>week</dt>\n",
       "\t\t<dd>237.47298724043</dd>\n",
       "</dl>\n"
      ],
      "text/latex": [
       "\\begin{description*}\n",
       "\\item[(Intercept)] 3237.69245517471\n",
       "\\item[week] 237.47298724043\n",
       "\\end{description*}\n"
      ],
      "text/markdown": [
       "(Intercept)\n",
       ":   3237.69245517471week\n",
       ":   237.47298724043\n",
       "\n"
      ],
      "text/plain": [
       "(Intercept)        week \n",
       "   3237.692     237.473 "
      ]
     },
     "metadata": {},
     "output_type": "display_data"
    },
    {
     "data": {
      "text/plain": [
       "$id\n",
       "   (Intercept)       week\n",
       "1    168.08267  36.043397\n",
       "2    172.81118  37.057373\n",
       "6    -64.77157 -13.889519\n",
       "7    -99.46309 -21.328717\n",
       "8     95.45112  20.468396\n",
       "14  -278.14172 -59.644297\n",
       "20  -270.48381 -58.002146\n",
       "23  -199.39121 -42.757154\n",
       "30   261.63063  56.103683\n",
       "32    47.44798  10.174673\n",
       "35    59.96879  12.859619\n",
       "36   -68.77083 -14.747115\n",
       "37  -240.55796 -51.584891\n",
       "41  -119.76730 -25.682721\n",
       "48   469.93695 100.772579\n",
       "52    44.24314   9.487432\n",
       "53    24.14365   5.177328\n",
       "54  -116.54443 -24.991614\n",
       "55   -88.84043 -19.050809\n",
       "59   272.89611  58.519436\n",
       "62   -69.87986 -14.984934\n",
       "\n",
       "with conditional variances for \"id\" "
      ]
     },
     "metadata": {},
     "output_type": "display_data"
    }
   ],
   "source": [
    "fixef(weight_id)\n",
    "ranef(weight_id)"
   ]
  },
  {
   "cell_type": "code",
   "execution_count": 56,
   "metadata": {
    "collapsed": true
   },
   "outputs": [],
   "source": [
    "head_week_p1 <- percentil(ranef(head_id)$id$week, 1/3)$value\n",
    "head_week_p2 <- percentil(ranef(head_id)$id$week, 2/3)$value\n",
    "\n",
    "head_start_p1 <- percentil(ranef(head_id)$id$`(Intercept)`, 1/3)$value\n",
    "head_start_p2 <- percentil(ranef(head_id)$id$`(Intercept)`, 2/3)$value"
   ]
  },
  {
   "cell_type": "code",
   "execution_count": 57,
   "metadata": {
    "collapsed": true
   },
   "outputs": [],
   "source": [
    "weight_week_p1 <- percentil(ranef(weight_id)$id$week, 1/3)$value\n",
    "weight_week_p2 <- percentil(ranef(weight_id)$id$week, 2/3)$value\n",
    "\n",
    "weight_start_p1 <- percentil(ranef(weight_id)$id$`(Intercept)`, 1/3)$value\n",
    "weight_start_p2 <- percentil(ranef(weight_id)$id$`(Intercept)`, 2/3)$value"
   ]
  },
  {
   "cell_type": "code",
   "execution_count": 58,
   "metadata": {},
   "outputs": [
    {
     "data": {
      "text/html": [
       "<table>\n",
       "<caption>A data.frame: 1 × 1</caption>\n",
       "<thead>\n",
       "\t<tr><th scope=col>n()</th></tr>\n",
       "\t<tr><th scope=col>&lt;int&gt;</th></tr>\n",
       "</thead>\n",
       "<tbody>\n",
       "\t<tr><td>14</td></tr>\n",
       "</tbody>\n",
       "</table>\n"
      ],
      "text/latex": [
       "A data.frame: 1 × 1\n",
       "\\begin{tabular}{r|l}\n",
       " n()\\\\\n",
       " <int>\\\\\n",
       "\\hline\n",
       "\t 14\\\\\n",
       "\\end{tabular}\n"
      ],
      "text/markdown": [
       "\n",
       "A data.frame: 1 × 1\n",
       "\n",
       "| n() &lt;int&gt; |\n",
       "|---|\n",
       "| 14 |\n",
       "\n"
      ],
      "text/plain": [
       "  n()\n",
       "1 14 "
      ]
     },
     "metadata": {},
     "output_type": "display_data"
    }
   ],
   "source": [
    "hc_growth <- \n",
    "    ranef(head_id)$id %>% mutate(id = headC_NO_NA$id, \n",
    "                             hc_speed = ifelse(week < head_week_p1, 'slow',\n",
    "                                   ifelse(week < head_week_p2, 'moderate', 'fast'))) %>%\n",
    "                      mutate(first_hc = ifelse(`(Intercept)` < head_start_p1, 'small', \n",
    "                                              ifelse(`(Intercept)` < head_start_p2, 'normal', 'big')))\n",
    "\n",
    "hc_growth %>% filter(hc_speed != 'moderate') %>% summarise(n())"
   ]
  },
  {
   "cell_type": "code",
   "execution_count": 59,
   "metadata": {},
   "outputs": [
    {
     "data": {
      "text/html": [
       "<table>\n",
       "<caption>A data.frame: 1 × 1</caption>\n",
       "<thead>\n",
       "\t<tr><th scope=col>n()</th></tr>\n",
       "\t<tr><th scope=col>&lt;int&gt;</th></tr>\n",
       "</thead>\n",
       "<tbody>\n",
       "\t<tr><td>14</td></tr>\n",
       "</tbody>\n",
       "</table>\n"
      ],
      "text/latex": [
       "A data.frame: 1 × 1\n",
       "\\begin{tabular}{r|l}\n",
       " n()\\\\\n",
       " <int>\\\\\n",
       "\\hline\n",
       "\t 14\\\\\n",
       "\\end{tabular}\n"
      ],
      "text/markdown": [
       "\n",
       "A data.frame: 1 × 1\n",
       "\n",
       "| n() &lt;int&gt; |\n",
       "|---|\n",
       "| 14 |\n",
       "\n"
      ],
      "text/plain": [
       "  n()\n",
       "1 14 "
      ]
     },
     "metadata": {},
     "output_type": "display_data"
    }
   ],
   "source": [
    "weight_growth <- \n",
    "    ranef(weight_id)$id %>% mutate(id = weight_NO_NA$id,\n",
    "                             weight_speed = ifelse(week < weight_week_p1, 'slow',\n",
    "                                   ifelse(week < weight_week_p2, 'moderate', 'fast'))) %>%\n",
    "                      mutate(first_weight = ifelse(`(Intercept)` < weight_start_p1, 'small', \n",
    "                                              ifelse(`(Intercept)` < weight_start_p2, 'normal', 'big')))\n",
    "\n",
    "weight_growth %>% filter(weight_speed != 'moderate') %>% summarise(n())"
   ]
  },
  {
   "cell_type": "code",
   "execution_count": 60,
   "metadata": {},
   "outputs": [
    {
     "data": {
      "image/png": "[encoded data removed]",
      "text/plain": [
       "plot without title"
      ]
     },
     "metadata": {},
     "output_type": "display_data"
    }
   ],
   "source": [
    "#png(filename=\"./plots/speed and start/hc_dist.png\", units=\"cm\", width=20, height=20, res = 300)\n",
    "ggplot(hc_growth %>% mutate(speed = hc_speed), aes(x = week, fill = speed)) + geom_histogram(bins = 40) +\n",
    "    geom_vline(xintercept = head_week_p1) + \n",
    "    geom_vline(xintercept = head_week_p2) +\n",
    "    theme(aspect.ratio = 1) +\n",
    "    ggtitle('Head Circumference Coefficients Distribution')\n",
    "#dev.off()"
   ]
  },
  {
   "cell_type": "code",
   "execution_count": 61,
   "metadata": {},
   "outputs": [
    {
     "data": {
      "image/png": "[encoded data removed]",
      "text/plain": [
       "plot without title"
      ]
     },
     "metadata": {},
     "output_type": "display_data"
    }
   ],
   "source": [
    "#png(filename=\"./plots/speed and start/weight_dist.png\", units=\"cm\", width=20, height=20, res = 300)\n",
    "ggplot(weight_growth %>% mutate(speed = weight_speed), aes(x = week, fill = speed)) + \n",
    "    #geom_density() +\n",
    "    geom_histogram(bins = 40) +\n",
    "    geom_vline(xintercept = weight_week_p1) + \n",
    "    geom_vline(xintercept = weight_week_p2) +\n",
    "    theme(aspect.ratio = 1) +\n",
    "    ggtitle('Weight Coefficients Distribution')\n",
    "\n",
    "#dev.off()"
   ]
  },
  {
   "cell_type": "code",
   "execution_count": 62,
   "metadata": {
    "scrolled": false
   },
   "outputs": [
    {
     "data": {
      "text/html": [
       "<table>\n",
       "<caption>A tibble: 6 × 3</caption>\n",
       "<thead>\n",
       "\t<tr><th scope=col>sex</th><th scope=col>speed</th><th scope=col>n()</th></tr>\n",
       "\t<tr><th scope=col>&lt;fct&gt;</th><th scope=col>&lt;chr&gt;</th><th scope=col>&lt;int&gt;</th></tr>\n",
       "</thead>\n",
       "<tbody>\n",
       "\t<tr><td>girl</td><td>fast    </td><td>2</td></tr>\n",
       "\t<tr><td>girl</td><td>moderate</td><td>2</td></tr>\n",
       "\t<tr><td>girl</td><td>slow    </td><td>2</td></tr>\n",
       "\t<tr><td>boy </td><td>fast    </td><td>6</td></tr>\n",
       "\t<tr><td>boy </td><td>moderate</td><td>5</td></tr>\n",
       "\t<tr><td>boy </td><td>slow    </td><td>4</td></tr>\n",
       "</tbody>\n",
       "</table>\n"
      ],
      "text/latex": [
       "A tibble: 6 × 3\n",
       "\\begin{tabular}{r|lll}\n",
       " sex & speed & n()\\\\\n",
       " <fct> & <chr> & <int>\\\\\n",
       "\\hline\n",
       "\t girl & fast     & 2\\\\\n",
       "\t girl & moderate & 2\\\\\n",
       "\t girl & slow     & 2\\\\\n",
       "\t boy  & fast     & 6\\\\\n",
       "\t boy  & moderate & 5\\\\\n",
       "\t boy  & slow     & 4\\\\\n",
       "\\end{tabular}\n"
      ],
      "text/markdown": [
       "\n",
       "A tibble: 6 × 3\n",
       "\n",
       "| sex &lt;fct&gt; | speed &lt;chr&gt; | n() &lt;int&gt; |\n",
       "|---|---|---|\n",
       "| girl | fast     | 2 |\n",
       "| girl | moderate | 2 |\n",
       "| girl | slow     | 2 |\n",
       "| boy  | fast     | 6 |\n",
       "| boy  | moderate | 5 |\n",
       "| boy  | slow     | 4 |\n",
       "\n"
      ],
      "text/plain": [
       "  sex  speed    n()\n",
       "1 girl fast     2  \n",
       "2 girl moderate 2  \n",
       "3 girl slow     2  \n",
       "4 boy  fast     6  \n",
       "5 boy  moderate 5  \n",
       "6 boy  slow     4  "
      ]
     },
     "metadata": {},
     "output_type": "display_data"
    }
   ],
   "source": [
    "df_hc <- headCLong_NO_NA %>% \n",
    "    inner_join(hc_growth %>% select(id, hc_speed), by = 'id') %>% \n",
    "    mutate(speed = hc_speed)\n",
    "\n",
    "df_hc %>% filter(week == 1) %>% group_by(sex, speed) %>% summarise(n())\n",
    "\n",
    "#png(filename=\"./plots/speed and start/hc_time.png\", units=\"cm\", width=20, height=20, res = 500)\n",
    "p_hc <-\n",
    "    ggplot(df_hc, aes(x = week, y = head, group = id)) + \n",
    "        geom_point() + geom_line(alpha=0.5) +\n",
    "        geom_line(stat = 'smooth', method = lm, se = F, alpha = 0.8, linetype = 'longdash') +\n",
    "        facet_wrap(~speed) + \n",
    "        theme_bw() +\n",
    "        theme(legend.position = \"none\", aspect.ratio = 1) +\n",
    "        ggtitle('B.') + ylab('head circumference (cm)')\n",
    "#dev.off()"
   ]
  },
  {
   "cell_type": "code",
   "execution_count": 63,
   "metadata": {},
   "outputs": [
    {
     "data": {
      "text/html": [
       "<table>\n",
       "<caption>A tibble: 6 × 3</caption>\n",
       "<thead>\n",
       "\t<tr><th scope=col>sex</th><th scope=col>speed</th><th scope=col>n()</th></tr>\n",
       "\t<tr><th scope=col>&lt;fct&gt;</th><th scope=col>&lt;chr&gt;</th><th scope=col>&lt;int&gt;</th></tr>\n",
       "</thead>\n",
       "<tbody>\n",
       "\t<tr><td>girl</td><td>fast    </td><td>2</td></tr>\n",
       "\t<tr><td>girl</td><td>moderate</td><td>2</td></tr>\n",
       "\t<tr><td>girl</td><td>slow    </td><td>3</td></tr>\n",
       "\t<tr><td>boy </td><td>fast    </td><td>6</td></tr>\n",
       "\t<tr><td>boy </td><td>moderate</td><td>5</td></tr>\n",
       "\t<tr><td>boy </td><td>slow    </td><td>3</td></tr>\n",
       "</tbody>\n",
       "</table>\n"
      ],
      "text/latex": [
       "A tibble: 6 × 3\n",
       "\\begin{tabular}{r|lll}\n",
       " sex & speed & n()\\\\\n",
       " <fct> & <chr> & <int>\\\\\n",
       "\\hline\n",
       "\t girl & fast     & 2\\\\\n",
       "\t girl & moderate & 2\\\\\n",
       "\t girl & slow     & 3\\\\\n",
       "\t boy  & fast     & 6\\\\\n",
       "\t boy  & moderate & 5\\\\\n",
       "\t boy  & slow     & 3\\\\\n",
       "\\end{tabular}\n"
      ],
      "text/markdown": [
       "\n",
       "A tibble: 6 × 3\n",
       "\n",
       "| sex &lt;fct&gt; | speed &lt;chr&gt; | n() &lt;int&gt; |\n",
       "|---|---|---|\n",
       "| girl | fast     | 2 |\n",
       "| girl | moderate | 2 |\n",
       "| girl | slow     | 3 |\n",
       "| boy  | fast     | 6 |\n",
       "| boy  | moderate | 5 |\n",
       "| boy  | slow     | 3 |\n",
       "\n"
      ],
      "text/plain": [
       "  sex  speed    n()\n",
       "1 girl fast     2  \n",
       "2 girl moderate 2  \n",
       "3 girl slow     3  \n",
       "4 boy  fast     6  \n",
       "5 boy  moderate 5  \n",
       "6 boy  slow     3  "
      ]
     },
     "metadata": {},
     "output_type": "display_data"
    }
   ],
   "source": [
    "df_weight <- weightLong_NO_NA %>% \n",
    "    inner_join(weight_growth %>% select(id, weight_speed), by = 'id') %>% \n",
    "    mutate(speed = weight_speed)\n",
    "\n",
    "df_weight %>% filter(week == 1) %>% group_by(sex, speed) %>% summarise(n())\n",
    "\n",
    "#png(filename=\"./plots/speed and start/weight_time.png\", units=\"cm\", width=20, height=20, res = 300)\n",
    "p_weight <-\n",
    "    ggplot(df_weight, aes(x = week, y = weight, group = id)) + \n",
    "        geom_point() + geom_line(alpha = 0.5) +\n",
    "        theme(legend.position = \"none\", aspect.ratio = 1) +\n",
    "        geom_line(stat = 'smooth', method = lm, se = F, alpha = 0.8, linetype = 'longdash') +\n",
    "        facet_wrap(~speed) + \n",
    "        theme_bw() +\n",
    "        theme(legend.position = \"none\", aspect.ratio = 1) +\n",
    "        ggtitle('A.') + ylab('weight (gr)')\n",
    "#dev.off()"
   ]
  },
  {
   "cell_type": "code",
   "execution_count": 64,
   "metadata": {
    "scrolled": false
   },
   "outputs": [
    {
     "data": {
      "image/png": "[encoded data removed]",
      "text/plain": [
       "plot without title"
      ]
     },
     "metadata": {},
     "output_type": "display_data"
    }
   ],
   "source": [
    "#png(filename=\"./plots/speed and start/hc_w_time.png\", units=\"cm\", width=20, height=20, res = 300)\n",
    "grid.arrange(p_weight, p_hc, \n",
    "            layout_matrix = rbind(c(1), c(2))) \n",
    "#dev.off()"
   ]
  },
  {
   "cell_type": "markdown",
   "metadata": {},
   "source": [
    "## AA concentration for fast growing babies"
   ]
  },
  {
   "cell_type": "code",
   "execution_count": 65,
   "metadata": {
    "collapsed": true
   },
   "outputs": [],
   "source": [
    "meSpeed <- function(df){\n",
    "    \n",
    "    me <- lmer(level ~ sex + week + speed + (1| id), data = df)\n",
    "    \n",
    "    return(me)\n",
    "}"
   ]
  },
  {
   "cell_type": "code",
   "execution_count": 66,
   "metadata": {
    "collapsed": true
   },
   "outputs": [],
   "source": [
    "me_E_S <- list()\n",
    "tidy_E_S <- list()\n",
    "\n",
    "nAA_E_wo_TRP <- 1:nAA_E\n",
    "for(i in nAA_E_wo_TRP[-8]){\n",
    "\n",
    "    df <- AA_E_Nested$data[[i]] %>% filter(id %in% headC_NO_NA$id)\n",
    "    df <- df %>% inner_join(hc_growth %>% select(id, speed = hc_speed, start = first_hc), by = 'id') %>% \n",
    "        filter(speed != 'moderate')\n",
    "    \n",
    "    me_E_S[[i]] <- meSpeed(df)\n",
    "    tidy_E_S[[i]] <- tidy(me_E_S[[i]], effects = 'fixed') %>% mutate(AA = AA_E_Nested$AA[i])\n",
    "   \n",
    "}"
   ]
  },
  {
   "cell_type": "code",
   "execution_count": 67,
   "metadata": {
    "scrolled": false
   },
   "outputs": [
    {
     "data": {
      "text/html": [
       "<table>\n",
       "<caption>A tibble: 6 × 7</caption>\n",
       "<thead>\n",
       "\t<tr><th scope=col>id</th><th scope=col>group</th><th scope=col>age</th><th scope=col>sex</th><th scope=col>weekNames</th><th scope=col>level</th><th scope=col>week</th></tr>\n",
       "\t<tr><th scope=col>&lt;fct&gt;</th><th scope=col>&lt;fct&gt;</th><th scope=col>&lt;dbl&gt;</th><th scope=col>&lt;fct&gt;</th><th scope=col>&lt;chr&gt;</th><th scope=col>&lt;dbl&gt;</th><th scope=col>&lt;dbl&gt;</th></tr>\n",
       "</thead>\n",
       "<tbody>\n",
       "\t<tr><td>1</td><td>teen</td><td>17</td><td>girl</td><td>TRPCalostrum</td><td>0</td><td>1</td></tr>\n",
       "\t<tr><td>2</td><td>teen</td><td>16</td><td>boy </td><td>TRPCalostrum</td><td>0</td><td>1</td></tr>\n",
       "\t<tr><td>3</td><td>teen</td><td>17</td><td>boy </td><td>TRPCalostrum</td><td>0</td><td>1</td></tr>\n",
       "\t<tr><td>4</td><td>teen</td><td>16</td><td>boy </td><td>TRPCalostrum</td><td>0</td><td>1</td></tr>\n",
       "\t<tr><td>5</td><td>teen</td><td>16</td><td>NA  </td><td>TRPCalostrum</td><td>0</td><td>1</td></tr>\n",
       "\t<tr><td>6</td><td>teen</td><td>16</td><td>boy </td><td>TRPCalostrum</td><td>0</td><td>1</td></tr>\n",
       "</tbody>\n",
       "</table>\n"
      ],
      "text/latex": [
       "A tibble: 6 × 7\n",
       "\\begin{tabular}{r|lllllll}\n",
       " id & group & age & sex & weekNames & level & week\\\\\n",
       " <fct> & <fct> & <dbl> & <fct> & <chr> & <dbl> & <dbl>\\\\\n",
       "\\hline\n",
       "\t 1 & teen & 17 & girl & TRPCalostrum & 0 & 1\\\\\n",
       "\t 2 & teen & 16 & boy  & TRPCalostrum & 0 & 1\\\\\n",
       "\t 3 & teen & 17 & boy  & TRPCalostrum & 0 & 1\\\\\n",
       "\t 4 & teen & 16 & boy  & TRPCalostrum & 0 & 1\\\\\n",
       "\t 5 & teen & 16 & NA   & TRPCalostrum & 0 & 1\\\\\n",
       "\t 6 & teen & 16 & boy  & TRPCalostrum & 0 & 1\\\\\n",
       "\\end{tabular}\n"
      ],
      "text/markdown": [
       "\n",
       "A tibble: 6 × 7\n",
       "\n",
       "| id &lt;fct&gt; | group &lt;fct&gt; | age &lt;dbl&gt; | sex &lt;fct&gt; | weekNames &lt;chr&gt; | level &lt;dbl&gt; | week &lt;dbl&gt; |\n",
       "|---|---|---|---|---|---|---|\n",
       "| 1 | teen | 17 | girl | TRPCalostrum | 0 | 1 |\n",
       "| 2 | teen | 16 | boy  | TRPCalostrum | 0 | 1 |\n",
       "| 3 | teen | 17 | boy  | TRPCalostrum | 0 | 1 |\n",
       "| 4 | teen | 16 | boy  | TRPCalostrum | 0 | 1 |\n",
       "| 5 | teen | 16 | NA   | TRPCalostrum | 0 | 1 |\n",
       "| 6 | teen | 16 | boy  | TRPCalostrum | 0 | 1 |\n",
       "\n"
      ],
      "text/plain": [
       "  id group age sex  weekNames    level week\n",
       "1 1  teen  17  girl TRPCalostrum 0     1   \n",
       "2 2  teen  16  boy  TRPCalostrum 0     1   \n",
       "3 3  teen  17  boy  TRPCalostrum 0     1   \n",
       "4 4  teen  16  boy  TRPCalostrum 0     1   \n",
       "5 5  teen  16  NA   TRPCalostrum 0     1   \n",
       "6 6  teen  16  boy  TRPCalostrum 0     1   "
      ]
     },
     "metadata": {},
     "output_type": "display_data"
    }
   ],
   "source": [
    "# TRP data is unsufficient. Almost all meas. are 0.\n",
    "j <- 8\n",
    "#df <- AA_E_Nested$data[[j]] %>% filter(id %in% headC_NO_NA$id)\n",
    "#mod <- meWeek(df)\n",
    "\n",
    "#tidy(mod, effects = 'fixed')\n",
    "head(AA_E_Nested$data[[j]])"
   ]
  },
  {
   "cell_type": "code",
   "execution_count": 68,
   "metadata": {},
   "outputs": [
    {
     "name": "stderr",
     "output_type": "stream",
     "text": [
      "boundary (singular) fit: see ?isSingular\n"
     ]
    }
   ],
   "source": [
    "me_NE_S <- list()\n",
    "tidy_NE_S <- list()\n",
    "\n",
    "for(i in 1:nAA_NE){\n",
    "    \n",
    "    df <- AA_NE_Nested$data[[i]] %>% filter(id %in% headC_NO_NA$id)\n",
    "    df <- df %>% inner_join(hc_growth %>% select(id, speed = hc_speed, start = first_hc), by = 'id') %>%\n",
    "        filter(speed != 'moderate')\n",
    "    \n",
    "    me_NE_S[[i]] <- meSpeed(df)\n",
    "    tidy_NE_S[[i]] <- tidy(me_NE_S[[i]], effects = 'fixed') %>% mutate(AA = AA_NE_Nested$AA[i])\n",
    "\n",
    "}"
   ]
  },
  {
   "cell_type": "code",
   "execution_count": 69,
   "metadata": {},
   "outputs": [
    {
     "data": {
      "text/html": [
       "<table>\n",
       "<caption>A tibble: 8 × 5</caption>\n",
       "<thead>\n",
       "\t<tr><th scope=col>term</th><th scope=col>estimate</th><th scope=col>std.error</th><th scope=col>statistic</th><th scope=col>AA</th></tr>\n",
       "\t<tr><th scope=col>&lt;chr&gt;</th><th scope=col>&lt;dbl&gt;</th><th scope=col>&lt;dbl&gt;</th><th scope=col>&lt;dbl&gt;</th><th scope=col>&lt;chr&gt;</th></tr>\n",
       "</thead>\n",
       "<tbody>\n",
       "\t<tr><td>speedslow</td><td> 0.03923469</td><td>0.2860682</td><td> 0.1371515</td><td>HIS</td></tr>\n",
       "\t<tr><td>speedslow</td><td>-0.25513679</td><td>0.1539446</td><td>-1.6573288</td><td>ILE</td></tr>\n",
       "\t<tr><td>speedslow</td><td>-0.18431813</td><td>0.4549518</td><td>-0.4051377</td><td>LEU</td></tr>\n",
       "\t<tr><td>speedslow</td><td>-0.36268885</td><td>0.3822199</td><td>-0.9489011</td><td>LYS</td></tr>\n",
       "\t<tr><td>speedslow</td><td>-0.10445143</td><td>0.1164600</td><td>-0.8968869</td><td>MET</td></tr>\n",
       "\t<tr><td>speedslow</td><td>-0.07999467</td><td>0.1866290</td><td>-0.4286294</td><td>PHE</td></tr>\n",
       "\t<tr><td>speedslow</td><td>-1.73629832</td><td>1.0729249</td><td>-1.6182851</td><td>THR</td></tr>\n",
       "\t<tr><td>speedslow</td><td>-0.62784275</td><td>0.5893949</td><td>-1.0652328</td><td>VAL</td></tr>\n",
       "</tbody>\n",
       "</table>\n"
      ],
      "text/latex": [
       "A tibble: 8 × 5\n",
       "\\begin{tabular}{r|lllll}\n",
       " term & estimate & std.error & statistic & AA\\\\\n",
       " <chr> & <dbl> & <dbl> & <dbl> & <chr>\\\\\n",
       "\\hline\n",
       "\t speedslow &  0.03923469 & 0.2860682 &  0.1371515 & HIS\\\\\n",
       "\t speedslow & -0.25513679 & 0.1539446 & -1.6573288 & ILE\\\\\n",
       "\t speedslow & -0.18431813 & 0.4549518 & -0.4051377 & LEU\\\\\n",
       "\t speedslow & -0.36268885 & 0.3822199 & -0.9489011 & LYS\\\\\n",
       "\t speedslow & -0.10445143 & 0.1164600 & -0.8968869 & MET\\\\\n",
       "\t speedslow & -0.07999467 & 0.1866290 & -0.4286294 & PHE\\\\\n",
       "\t speedslow & -1.73629832 & 1.0729249 & -1.6182851 & THR\\\\\n",
       "\t speedslow & -0.62784275 & 0.5893949 & -1.0652328 & VAL\\\\\n",
       "\\end{tabular}\n"
      ],
      "text/markdown": [
       "\n",
       "A tibble: 8 × 5\n",
       "\n",
       "| term &lt;chr&gt; | estimate &lt;dbl&gt; | std.error &lt;dbl&gt; | statistic &lt;dbl&gt; | AA &lt;chr&gt; |\n",
       "|---|---|---|---|---|\n",
       "| speedslow |  0.03923469 | 0.2860682 |  0.1371515 | HIS |\n",
       "| speedslow | -0.25513679 | 0.1539446 | -1.6573288 | ILE |\n",
       "| speedslow | -0.18431813 | 0.4549518 | -0.4051377 | LEU |\n",
       "| speedslow | -0.36268885 | 0.3822199 | -0.9489011 | LYS |\n",
       "| speedslow | -0.10445143 | 0.1164600 | -0.8968869 | MET |\n",
       "| speedslow | -0.07999467 | 0.1866290 | -0.4286294 | PHE |\n",
       "| speedslow | -1.73629832 | 1.0729249 | -1.6182851 | THR |\n",
       "| speedslow | -0.62784275 | 0.5893949 | -1.0652328 | VAL |\n",
       "\n"
      ],
      "text/plain": [
       "  term      estimate    std.error statistic  AA \n",
       "1 speedslow  0.03923469 0.2860682  0.1371515 HIS\n",
       "2 speedslow -0.25513679 0.1539446 -1.6573288 ILE\n",
       "3 speedslow -0.18431813 0.4549518 -0.4051377 LEU\n",
       "4 speedslow -0.36268885 0.3822199 -0.9489011 LYS\n",
       "5 speedslow -0.10445143 0.1164600 -0.8968869 MET\n",
       "6 speedslow -0.07999467 0.1866290 -0.4286294 PHE\n",
       "7 speedslow -1.73629832 1.0729249 -1.6182851 THR\n",
       "8 speedslow -0.62784275 0.5893949 -1.0652328 VAL"
      ]
     },
     "metadata": {},
     "output_type": "display_data"
    },
    {
     "data": {
      "text/html": [
       "<table>\n",
       "<caption>A tibble: 11 × 5</caption>\n",
       "<thead>\n",
       "\t<tr><th scope=col>term</th><th scope=col>estimate</th><th scope=col>std.error</th><th scope=col>statistic</th><th scope=col>AA</th></tr>\n",
       "\t<tr><th scope=col>&lt;chr&gt;</th><th scope=col>&lt;dbl&gt;</th><th scope=col>&lt;dbl&gt;</th><th scope=col>&lt;dbl&gt;</th><th scope=col>&lt;chr&gt;</th></tr>\n",
       "</thead>\n",
       "<tbody>\n",
       "\t<tr><td>speedslow</td><td>-0.321482992</td><td> 0.2785112</td><td>-1.15429116</td><td>ARG</td></tr>\n",
       "\t<tr><td>speedslow</td><td> 0.259016879</td><td> 0.9358773</td><td> 0.27676373</td><td>ASP</td></tr>\n",
       "\t<tr><td>speedslow</td><td>-2.152256761</td><td> 3.4407642</td><td>-0.62551707</td><td>ALA</td></tr>\n",
       "\t<tr><td>speedslow</td><td> 0.006730534</td><td> 0.1848849</td><td> 0.03640392</td><td>ASN</td></tr>\n",
       "\t<tr><td>speedslow</td><td> 0.381998286</td><td> 0.3379170</td><td> 1.13045002</td><td>CYS</td></tr>\n",
       "\t<tr><td>speedslow</td><td>-0.833478245</td><td> 1.8836167</td><td>-0.44248825</td><td>GLY</td></tr>\n",
       "\t<tr><td>speedslow</td><td>-2.578198948</td><td>13.1509696</td><td>-0.19604630</td><td>GLU</td></tr>\n",
       "\t<tr><td>speedslow</td><td> 1.707580573</td><td> 6.0473231</td><td> 0.28236966</td><td>GLN</td></tr>\n",
       "\t<tr><td>speedslow</td><td>-0.577353741</td><td> 0.5530983</td><td>-1.04385379</td><td>PRO</td></tr>\n",
       "\t<tr><td>speedslow</td><td>-0.642776178</td><td> 1.7270996</td><td>-0.37217089</td><td>SER</td></tr>\n",
       "\t<tr><td>speedslow</td><td>-0.313053779</td><td> 0.2546396</td><td>-1.22939966</td><td>TYR</td></tr>\n",
       "</tbody>\n",
       "</table>\n"
      ],
      "text/latex": [
       "A tibble: 11 × 5\n",
       "\\begin{tabular}{r|lllll}\n",
       " term & estimate & std.error & statistic & AA\\\\\n",
       " <chr> & <dbl> & <dbl> & <dbl> & <chr>\\\\\n",
       "\\hline\n",
       "\t speedslow & -0.321482992 &  0.2785112 & -1.15429116 & ARG\\\\\n",
       "\t speedslow &  0.259016879 &  0.9358773 &  0.27676373 & ASP\\\\\n",
       "\t speedslow & -2.152256761 &  3.4407642 & -0.62551707 & ALA\\\\\n",
       "\t speedslow &  0.006730534 &  0.1848849 &  0.03640392 & ASN\\\\\n",
       "\t speedslow &  0.381998286 &  0.3379170 &  1.13045002 & CYS\\\\\n",
       "\t speedslow & -0.833478245 &  1.8836167 & -0.44248825 & GLY\\\\\n",
       "\t speedslow & -2.578198948 & 13.1509696 & -0.19604630 & GLU\\\\\n",
       "\t speedslow &  1.707580573 &  6.0473231 &  0.28236966 & GLN\\\\\n",
       "\t speedslow & -0.577353741 &  0.5530983 & -1.04385379 & PRO\\\\\n",
       "\t speedslow & -0.642776178 &  1.7270996 & -0.37217089 & SER\\\\\n",
       "\t speedslow & -0.313053779 &  0.2546396 & -1.22939966 & TYR\\\\\n",
       "\\end{tabular}\n"
      ],
      "text/markdown": [
       "\n",
       "A tibble: 11 × 5\n",
       "\n",
       "| term &lt;chr&gt; | estimate &lt;dbl&gt; | std.error &lt;dbl&gt; | statistic &lt;dbl&gt; | AA &lt;chr&gt; |\n",
       "|---|---|---|---|---|\n",
       "| speedslow | -0.321482992 |  0.2785112 | -1.15429116 | ARG |\n",
       "| speedslow |  0.259016879 |  0.9358773 |  0.27676373 | ASP |\n",
       "| speedslow | -2.152256761 |  3.4407642 | -0.62551707 | ALA |\n",
       "| speedslow |  0.006730534 |  0.1848849 |  0.03640392 | ASN |\n",
       "| speedslow |  0.381998286 |  0.3379170 |  1.13045002 | CYS |\n",
       "| speedslow | -0.833478245 |  1.8836167 | -0.44248825 | GLY |\n",
       "| speedslow | -2.578198948 | 13.1509696 | -0.19604630 | GLU |\n",
       "| speedslow |  1.707580573 |  6.0473231 |  0.28236966 | GLN |\n",
       "| speedslow | -0.577353741 |  0.5530983 | -1.04385379 | PRO |\n",
       "| speedslow | -0.642776178 |  1.7270996 | -0.37217089 | SER |\n",
       "| speedslow | -0.313053779 |  0.2546396 | -1.22939966 | TYR |\n",
       "\n"
      ],
      "text/plain": [
       "   term      estimate     std.error  statistic   AA \n",
       "1  speedslow -0.321482992  0.2785112 -1.15429116 ARG\n",
       "2  speedslow  0.259016879  0.9358773  0.27676373 ASP\n",
       "3  speedslow -2.152256761  3.4407642 -0.62551707 ALA\n",
       "4  speedslow  0.006730534  0.1848849  0.03640392 ASN\n",
       "5  speedslow  0.381998286  0.3379170  1.13045002 CYS\n",
       "6  speedslow -0.833478245  1.8836167 -0.44248825 GLY\n",
       "7  speedslow -2.578198948 13.1509696 -0.19604630 GLU\n",
       "8  speedslow  1.707580573  6.0473231  0.28236966 GLN\n",
       "9  speedslow -0.577353741  0.5530983 -1.04385379 PRO\n",
       "10 speedslow -0.642776178  1.7270996 -0.37217089 SER\n",
       "11 speedslow -0.313053779  0.2546396 -1.22939966 TYR"
      ]
     },
     "metadata": {},
     "output_type": "display_data"
    }
   ],
   "source": [
    "speed_E <- bind_rows(tidy_E_S) %>% filter(grepl(\"speed\", term)) \n",
    "speed_NE <- bind_rows(tidy_NE_S) %>% filter(grepl(\"speed\", term)) \n",
    "\n",
    "speed_E\n",
    "speed_NE"
   ]
  },
  {
   "cell_type": "code",
   "execution_count": 70,
   "metadata": {},
   "outputs": [
    {
     "data": {
      "image/png": "[encoded data removed]",
      "text/plain": [
       "plot without title"
      ]
     },
     "metadata": {},
     "output_type": "display_data"
    }
   ],
   "source": [
    "#png(filename=\"./plots/speed and start/EAA_speed_coeff.png\", units=\"cm\", width=20, height=20, res = 300)\n",
    "ggplot(speed_E, aes(x = reorder(AA, estimate), y = estimate, color = AA)) + \n",
    "    geom_hline(yintercept = 0, alpha = 0.4) + \n",
    "    geom_point() + geom_pointrange( aes(x = AA, ymin = estimate - 2*std.error, ymax = estimate + 2*std.error)) + \n",
    "    theme(legend.position = \"none\", aspect.ratio = 1) + \n",
    "    coord_flip() + \n",
    "    facet_wrap(~term) + \n",
    "    ggtitle('Essential AA \\n Estimate and 95% CI') + ylab(TeX('speed (slow $\\\\rightarrow$)')) + xlab('estimate')\n",
    "#dev.off()"
   ]
  },
  {
   "cell_type": "code",
   "execution_count": 71,
   "metadata": {
    "scrolled": false
   },
   "outputs": [
    {
     "data": {
      "image/png": "[encoded data removed]",
      "text/plain": [
       "plot without title"
      ]
     },
     "metadata": {},
     "output_type": "display_data"
    }
   ],
   "source": [
    "#png(filename=\"./plots/speed and start/NEAA_speed_coeff.png\", units=\"cm\", width=20, height=20, res = 300)\n",
    "ggplot(speed_NE, aes(x = reorder(AA, estimate), y = estimate, color = AA)) + \n",
    "    geom_hline(yintercept = 0, alpha = 0.4) + \n",
    "    geom_point() + geom_pointrange( aes(x = AA, ymin = estimate - 2*std.error, ymax = estimate + 2*std.error)) + \n",
    "    theme(legend.position = \"none\", aspect.ratio = 1) + \n",
    "    coord_flip() + \n",
    "    facet_wrap(~term) + \n",
    "    ggtitle('Non Essential AA \\n Estimate and 95% CI') + ylab(TeX('speed (slow $\\\\rightarrow$)')) + xlab('estimate')\n",
    "#dev.off()"
   ]
  },
  {
   "cell_type": "code",
   "execution_count": 72,
   "metadata": {
    "collapsed": true
   },
   "outputs": [],
   "source": [
    "meStart <- function(df){\n",
    "    \n",
    "    me <- lmer(level ~ week + start + (1| id), data = df)\n",
    "    \n",
    "    return(me)\n",
    "}"
   ]
  },
  {
   "cell_type": "code",
   "execution_count": 73,
   "metadata": {
    "collapsed": true
   },
   "outputs": [],
   "source": [
    "me_E_Start <- list()\n",
    "tidy_E_Start <- list()\n",
    "\n",
    "nAA_E_wo_TRP <- 1:nAA_E\n",
    "for(i in nAA_E_wo_TRP[-8]){\n",
    "\n",
    "    df <- AA_E_Nested$data[[i]] %>% filter(id %in% headC_NO_NA$id)\n",
    "    df <- df %>% inner_join(hc_growth %>% select(id, speed = hc_speed, start = first_hc), by = 'id') %>%\n",
    "        filter(start != 'normal')\n",
    "    \n",
    "    me_E_Start[[i]] <- meStart(df)\n",
    "    tidy_E_Start[[i]] <- tidy(me_E_Start[[i]], effects = 'fixed') %>% mutate(AA = AA_E_Nested$AA[i])\n",
    "   \n",
    "}"
   ]
  },
  {
   "cell_type": "code",
   "execution_count": 74,
   "metadata": {},
   "outputs": [
    {
     "name": "stderr",
     "output_type": "stream",
     "text": [
      "boundary (singular) fit: see ?isSingular\n"
     ]
    }
   ],
   "source": [
    "me_NE_Start <- list()\n",
    "tidy_NE_Start <- list()\n",
    "\n",
    "for(i in 1:nAA_NE){\n",
    "    \n",
    "    df <- AA_NE_Nested$data[[i]] %>% filter(id %in% headC_NO_NA$id)\n",
    "    df <- df %>% inner_join(hc_growth %>% select(id, speed = hc_speed, start = first_hc), by = 'id') %>%\n",
    "        filter(start != 'normal')\n",
    "    \n",
    "    me_NE_Start[[i]] <- meStart(df)\n",
    "    tidy_NE_Start[[i]] <- tidy(me_NE_Start[[i]], effects = 'fixed') %>% mutate(AA = AA_NE_Nested$AA[i])\n",
    "\n",
    "}"
   ]
  },
  {
   "cell_type": "code",
   "execution_count": 75,
   "metadata": {},
   "outputs": [
    {
     "data": {
      "text/html": [
       "<table>\n",
       "<caption>A tibble: 3 × 5</caption>\n",
       "<thead>\n",
       "\t<tr><th scope=col>term</th><th scope=col>estimate</th><th scope=col>std.error</th><th scope=col>statistic</th><th scope=col>AA</th></tr>\n",
       "\t<tr><th scope=col>&lt;chr&gt;</th><th scope=col>&lt;dbl&gt;</th><th scope=col>&lt;dbl&gt;</th><th scope=col>&lt;dbl&gt;</th><th scope=col>&lt;chr&gt;</th></tr>\n",
       "</thead>\n",
       "<tbody>\n",
       "\t<tr><td>(Intercept)</td><td>2.0117774901</td><td>0.2159049</td><td>9.31788750</td><td>HIS</td></tr>\n",
       "\t<tr><td>week       </td><td>0.0002242841</td><td>0.0172505</td><td>0.01300159</td><td>HIS</td></tr>\n",
       "\t<tr><td>startsmall </td><td>0.0186126848</td><td>0.2852156</td><td>0.06525830</td><td>HIS</td></tr>\n",
       "</tbody>\n",
       "</table>\n"
      ],
      "text/latex": [
       "A tibble: 3 × 5\n",
       "\\begin{tabular}{r|lllll}\n",
       " term & estimate & std.error & statistic & AA\\\\\n",
       " <chr> & <dbl> & <dbl> & <dbl> & <chr>\\\\\n",
       "\\hline\n",
       "\t (Intercept) & 2.0117774901 & 0.2159049 & 9.31788750 & HIS\\\\\n",
       "\t week        & 0.0002242841 & 0.0172505 & 0.01300159 & HIS\\\\\n",
       "\t startsmall  & 0.0186126848 & 0.2852156 & 0.06525830 & HIS\\\\\n",
       "\\end{tabular}\n"
      ],
      "text/markdown": [
       "\n",
       "A tibble: 3 × 5\n",
       "\n",
       "| term &lt;chr&gt; | estimate &lt;dbl&gt; | std.error &lt;dbl&gt; | statistic &lt;dbl&gt; | AA &lt;chr&gt; |\n",
       "|---|---|---|---|---|\n",
       "| (Intercept) | 2.0117774901 | 0.2159049 | 9.31788750 | HIS |\n",
       "| week        | 0.0002242841 | 0.0172505 | 0.01300159 | HIS |\n",
       "| startsmall  | 0.0186126848 | 0.2852156 | 0.06525830 | HIS |\n",
       "\n"
      ],
      "text/plain": [
       "  term        estimate     std.error statistic  AA \n",
       "1 (Intercept) 2.0117774901 0.2159049 9.31788750 HIS\n",
       "2 week        0.0002242841 0.0172505 0.01300159 HIS\n",
       "3 startsmall  0.0186126848 0.2852156 0.06525830 HIS"
      ]
     },
     "metadata": {},
     "output_type": "display_data"
    }
   ],
   "source": [
    "tidy_E_Start[[1]]"
   ]
  },
  {
   "cell_type": "code",
   "execution_count": 76,
   "metadata": {},
   "outputs": [
    {
     "data": {
      "text/html": [
       "<table>\n",
       "<caption>A tibble: 8 × 5</caption>\n",
       "<thead>\n",
       "\t<tr><th scope=col>term</th><th scope=col>estimate</th><th scope=col>std.error</th><th scope=col>statistic</th><th scope=col>AA</th></tr>\n",
       "\t<tr><th scope=col>&lt;chr&gt;</th><th scope=col>&lt;dbl&gt;</th><th scope=col>&lt;dbl&gt;</th><th scope=col>&lt;dbl&gt;</th><th scope=col>&lt;chr&gt;</th></tr>\n",
       "</thead>\n",
       "<tbody>\n",
       "\t<tr><td>startsmall</td><td> 0.01861268</td><td>0.2852156</td><td> 0.0652583</td><td>HIS</td></tr>\n",
       "\t<tr><td>startsmall</td><td>-0.26807322</td><td>0.1558782</td><td>-1.7197611</td><td>ILE</td></tr>\n",
       "\t<tr><td>startsmall</td><td>-0.22080716</td><td>0.4643266</td><td>-0.4755428</td><td>LEU</td></tr>\n",
       "\t<tr><td>startsmall</td><td>-0.38574064</td><td>0.3734910</td><td>-1.0327976</td><td>LYS</td></tr>\n",
       "\t<tr><td>startsmall</td><td>-0.11859162</td><td>0.1240855</td><td>-0.9557247</td><td>MET</td></tr>\n",
       "\t<tr><td>startsmall</td><td>-0.10573769</td><td>0.1947653</td><td>-0.5428981</td><td>PHE</td></tr>\n",
       "\t<tr><td>startsmall</td><td>-1.64889213</td><td>1.0786694</td><td>-1.5286353</td><td>THR</td></tr>\n",
       "\t<tr><td>startsmall</td><td>-0.68874440</td><td>0.6059481</td><td>-1.1366392</td><td>VAL</td></tr>\n",
       "</tbody>\n",
       "</table>\n"
      ],
      "text/latex": [
       "A tibble: 8 × 5\n",
       "\\begin{tabular}{r|lllll}\n",
       " term & estimate & std.error & statistic & AA\\\\\n",
       " <chr> & <dbl> & <dbl> & <dbl> & <chr>\\\\\n",
       "\\hline\n",
       "\t startsmall &  0.01861268 & 0.2852156 &  0.0652583 & HIS\\\\\n",
       "\t startsmall & -0.26807322 & 0.1558782 & -1.7197611 & ILE\\\\\n",
       "\t startsmall & -0.22080716 & 0.4643266 & -0.4755428 & LEU\\\\\n",
       "\t startsmall & -0.38574064 & 0.3734910 & -1.0327976 & LYS\\\\\n",
       "\t startsmall & -0.11859162 & 0.1240855 & -0.9557247 & MET\\\\\n",
       "\t startsmall & -0.10573769 & 0.1947653 & -0.5428981 & PHE\\\\\n",
       "\t startsmall & -1.64889213 & 1.0786694 & -1.5286353 & THR\\\\\n",
       "\t startsmall & -0.68874440 & 0.6059481 & -1.1366392 & VAL\\\\\n",
       "\\end{tabular}\n"
      ],
      "text/markdown": [
       "\n",
       "A tibble: 8 × 5\n",
       "\n",
       "| term &lt;chr&gt; | estimate &lt;dbl&gt; | std.error &lt;dbl&gt; | statistic &lt;dbl&gt; | AA &lt;chr&gt; |\n",
       "|---|---|---|---|---|\n",
       "| startsmall |  0.01861268 | 0.2852156 |  0.0652583 | HIS |\n",
       "| startsmall | -0.26807322 | 0.1558782 | -1.7197611 | ILE |\n",
       "| startsmall | -0.22080716 | 0.4643266 | -0.4755428 | LEU |\n",
       "| startsmall | -0.38574064 | 0.3734910 | -1.0327976 | LYS |\n",
       "| startsmall | -0.11859162 | 0.1240855 | -0.9557247 | MET |\n",
       "| startsmall | -0.10573769 | 0.1947653 | -0.5428981 | PHE |\n",
       "| startsmall | -1.64889213 | 1.0786694 | -1.5286353 | THR |\n",
       "| startsmall | -0.68874440 | 0.6059481 | -1.1366392 | VAL |\n",
       "\n"
      ],
      "text/plain": [
       "  term       estimate    std.error statistic  AA \n",
       "1 startsmall  0.01861268 0.2852156  0.0652583 HIS\n",
       "2 startsmall -0.26807322 0.1558782 -1.7197611 ILE\n",
       "3 startsmall -0.22080716 0.4643266 -0.4755428 LEU\n",
       "4 startsmall -0.38574064 0.3734910 -1.0327976 LYS\n",
       "5 startsmall -0.11859162 0.1240855 -0.9557247 MET\n",
       "6 startsmall -0.10573769 0.1947653 -0.5428981 PHE\n",
       "7 startsmall -1.64889213 1.0786694 -1.5286353 THR\n",
       "8 startsmall -0.68874440 0.6059481 -1.1366392 VAL"
      ]
     },
     "metadata": {},
     "output_type": "display_data"
    },
    {
     "data": {
      "text/html": [
       "<table>\n",
       "<caption>A tibble: 11 × 5</caption>\n",
       "<thead>\n",
       "\t<tr><th scope=col>term</th><th scope=col>estimate</th><th scope=col>std.error</th><th scope=col>statistic</th><th scope=col>AA</th></tr>\n",
       "\t<tr><th scope=col>&lt;chr&gt;</th><th scope=col>&lt;dbl&gt;</th><th scope=col>&lt;dbl&gt;</th><th scope=col>&lt;dbl&gt;</th><th scope=col>&lt;chr&gt;</th></tr>\n",
       "</thead>\n",
       "<tbody>\n",
       "\t<tr><td>startsmall</td><td>-0.32959534</td><td> 0.2675748</td><td>-1.23178789</td><td>ARG</td></tr>\n",
       "\t<tr><td>startsmall</td><td> 0.22913243</td><td> 0.9029031</td><td> 0.25377299</td><td>ASP</td></tr>\n",
       "\t<tr><td>startsmall</td><td>-2.36003741</td><td> 3.3879479</td><td>-0.69659791</td><td>ALA</td></tr>\n",
       "\t<tr><td>startsmall</td><td> 0.02777939</td><td> 0.1904047</td><td> 0.14589650</td><td>ASN</td></tr>\n",
       "\t<tr><td>startsmall</td><td> 0.34082611</td><td> 0.3518682</td><td> 0.96861868</td><td>CYS</td></tr>\n",
       "\t<tr><td>startsmall</td><td>-1.08091615</td><td> 1.9916289</td><td>-0.54272971</td><td>GLY</td></tr>\n",
       "\t<tr><td>startsmall</td><td>-4.31906429</td><td>14.3597124</td><td>-0.30077652</td><td>GLU</td></tr>\n",
       "\t<tr><td>startsmall</td><td> 0.46529600</td><td> 7.1404861</td><td> 0.06516307</td><td>GLN</td></tr>\n",
       "\t<tr><td>startsmall</td><td>-0.60492699</td><td> 0.5364408</td><td>-1.12766767</td><td>PRO</td></tr>\n",
       "\t<tr><td>startsmall</td><td>-0.86171709</td><td> 1.8143514</td><td>-0.47494498</td><td>SER</td></tr>\n",
       "\t<tr><td>startsmall</td><td>-0.33875771</td><td> 0.2598930</td><td>-1.30345093</td><td>TYR</td></tr>\n",
       "</tbody>\n",
       "</table>\n"
      ],
      "text/latex": [
       "A tibble: 11 × 5\n",
       "\\begin{tabular}{r|lllll}\n",
       " term & estimate & std.error & statistic & AA\\\\\n",
       " <chr> & <dbl> & <dbl> & <dbl> & <chr>\\\\\n",
       "\\hline\n",
       "\t startsmall & -0.32959534 &  0.2675748 & -1.23178789 & ARG\\\\\n",
       "\t startsmall &  0.22913243 &  0.9029031 &  0.25377299 & ASP\\\\\n",
       "\t startsmall & -2.36003741 &  3.3879479 & -0.69659791 & ALA\\\\\n",
       "\t startsmall &  0.02777939 &  0.1904047 &  0.14589650 & ASN\\\\\n",
       "\t startsmall &  0.34082611 &  0.3518682 &  0.96861868 & CYS\\\\\n",
       "\t startsmall & -1.08091615 &  1.9916289 & -0.54272971 & GLY\\\\\n",
       "\t startsmall & -4.31906429 & 14.3597124 & -0.30077652 & GLU\\\\\n",
       "\t startsmall &  0.46529600 &  7.1404861 &  0.06516307 & GLN\\\\\n",
       "\t startsmall & -0.60492699 &  0.5364408 & -1.12766767 & PRO\\\\\n",
       "\t startsmall & -0.86171709 &  1.8143514 & -0.47494498 & SER\\\\\n",
       "\t startsmall & -0.33875771 &  0.2598930 & -1.30345093 & TYR\\\\\n",
       "\\end{tabular}\n"
      ],
      "text/markdown": [
       "\n",
       "A tibble: 11 × 5\n",
       "\n",
       "| term &lt;chr&gt; | estimate &lt;dbl&gt; | std.error &lt;dbl&gt; | statistic &lt;dbl&gt; | AA &lt;chr&gt; |\n",
       "|---|---|---|---|---|\n",
       "| startsmall | -0.32959534 |  0.2675748 | -1.23178789 | ARG |\n",
       "| startsmall |  0.22913243 |  0.9029031 |  0.25377299 | ASP |\n",
       "| startsmall | -2.36003741 |  3.3879479 | -0.69659791 | ALA |\n",
       "| startsmall |  0.02777939 |  0.1904047 |  0.14589650 | ASN |\n",
       "| startsmall |  0.34082611 |  0.3518682 |  0.96861868 | CYS |\n",
       "| startsmall | -1.08091615 |  1.9916289 | -0.54272971 | GLY |\n",
       "| startsmall | -4.31906429 | 14.3597124 | -0.30077652 | GLU |\n",
       "| startsmall |  0.46529600 |  7.1404861 |  0.06516307 | GLN |\n",
       "| startsmall | -0.60492699 |  0.5364408 | -1.12766767 | PRO |\n",
       "| startsmall | -0.86171709 |  1.8143514 | -0.47494498 | SER |\n",
       "| startsmall | -0.33875771 |  0.2598930 | -1.30345093 | TYR |\n",
       "\n"
      ],
      "text/plain": [
       "   term       estimate    std.error  statistic   AA \n",
       "1  startsmall -0.32959534  0.2675748 -1.23178789 ARG\n",
       "2  startsmall  0.22913243  0.9029031  0.25377299 ASP\n",
       "3  startsmall -2.36003741  3.3879479 -0.69659791 ALA\n",
       "4  startsmall  0.02777939  0.1904047  0.14589650 ASN\n",
       "5  startsmall  0.34082611  0.3518682  0.96861868 CYS\n",
       "6  startsmall -1.08091615  1.9916289 -0.54272971 GLY\n",
       "7  startsmall -4.31906429 14.3597124 -0.30077652 GLU\n",
       "8  startsmall  0.46529600  7.1404861  0.06516307 GLN\n",
       "9  startsmall -0.60492699  0.5364408 -1.12766767 PRO\n",
       "10 startsmall -0.86171709  1.8143514 -0.47494498 SER\n",
       "11 startsmall -0.33875771  0.2598930 -1.30345093 TYR"
      ]
     },
     "metadata": {},
     "output_type": "display_data"
    }
   ],
   "source": [
    "start_E <- bind_rows(tidy_E_Start) %>% filter(grepl(\"start\", term)) \n",
    "start_NE <- bind_rows(tidy_NE_Start) %>% filter(grepl(\"start\", term)) \n",
    "\n",
    "start_E\n",
    "start_NE"
   ]
  },
  {
   "cell_type": "code",
   "execution_count": 77,
   "metadata": {},
   "outputs": [
    {
     "data": {
      "image/png": "[encoded data removed]",
      "text/plain": [
       "plot without title"
      ]
     },
     "metadata": {},
     "output_type": "display_data"
    }
   ],
   "source": [
    "#png(filename=\"./plots/speed and start/EAA_start_coeff.png\", units=\"cm\", width=20, height=20, res = 300)\n",
    "ggplot(start_E, aes(x = reorder(AA, estimate), y = estimate, color = AA)) + \n",
    "    geom_hline(yintercept = 0, alpha = 0.4) + \n",
    "    geom_point() + geom_pointrange( aes(x = AA, ymin = estimate - 2*std.error, ymax = estimate + 2*std.error)) + \n",
    "    theme(legend.position = \"none\", aspect.ratio = 1) + \n",
    "    coord_flip() + \n",
    "    facet_wrap(~term) + \n",
    "    ggtitle('Essential AA \\n Estimate and 95% CI') + ylab(TeX('start (small $\\\\rightarrow$)')) + xlab('estimate')\n",
    "#dev.off()"
   ]
  },
  {
   "cell_type": "code",
   "execution_count": 78,
   "metadata": {},
   "outputs": [
    {
     "data": {
      "image/png": "[encoded data removed]",
      "text/plain": [
       "plot without title"
      ]
     },
     "metadata": {},
     "output_type": "display_data"
    }
   ],
   "source": [
    "#png(filename=\"./plots/speed and start/NEAA_start_coeff.png\", units=\"cm\", width=20, height=20, res = 300)\n",
    "ggplot(start_NE, aes(x = reorder(AA, estimate), y = estimate, color = AA)) + \n",
    "    geom_hline(yintercept = 0, alpha = 0.4) + \n",
    "    geom_point() + geom_pointrange( aes(x = AA, ymin = estimate - 2*std.error, ymax = estimate + 2*std.error)) + \n",
    "    theme(legend.position = \"none\", aspect.ratio = 1) + \n",
    "    coord_flip() + \n",
    "    facet_wrap(~term) + \n",
    "    ggtitle('Non Essential AA \\n Estimate and 95% CI') + ylab(TeX('start (small $\\\\rightarrow$)')) + xlab('estimate')\n",
    "#dev.off()"
   ]
  },
  {
   "cell_type": "markdown",
   "metadata": {
    "collapsed": true
   },
   "source": [
    "# Total amino acid levels and Final Plots"
   ]
  },
  {
   "cell_type": "code",
   "execution_count": 79,
   "metadata": {
    "collapsed": true
   },
   "outputs": [],
   "source": [
    "AA_E_total <- AA_E_Long %>% filter(!is.na(sex)) %>% group_by(id, week, sex, group) %>% summarise(level = sum(level,na.rm = T))\n",
    "AA_NE_total <- AA_NE_Long %>% filter(!is.na(sex)) %>% group_by(id, week, sex, group) %>% summarise(level = sum(level,na.rm = T))"
   ]
  },
  {
   "cell_type": "code",
   "execution_count": 80,
   "metadata": {},
   "outputs": [
    {
     "data": {
      "text/html": [
       "<table>\n",
       "<caption>A tibble: 4 × 5</caption>\n",
       "<thead>\n",
       "\t<tr><th scope=col>id</th><th scope=col>week</th><th scope=col>sex</th><th scope=col>group</th><th scope=col>level</th></tr>\n",
       "\t<tr><th scope=col>&lt;fct&gt;</th><th scope=col>&lt;dbl&gt;</th><th scope=col>&lt;fct&gt;</th><th scope=col>&lt;fct&gt;</th><th scope=col>&lt;dbl&gt;</th></tr>\n",
       "</thead>\n",
       "<tbody>\n",
       "\t<tr><td>2</td><td> 1</td><td>boy</td><td>teen</td><td> 5</td></tr>\n",
       "\t<tr><td>2</td><td> 2</td><td>boy</td><td>teen</td><td>21</td></tr>\n",
       "\t<tr><td>2</td><td> 8</td><td>boy</td><td>teen</td><td>10</td></tr>\n",
       "\t<tr><td>2</td><td>16</td><td>boy</td><td>teen</td><td>16</td></tr>\n",
       "</tbody>\n",
       "</table>\n"
      ],
      "text/latex": [
       "A tibble: 4 × 5\n",
       "\\begin{tabular}{r|lllll}\n",
       " id & week & sex & group & level\\\\\n",
       " <fct> & <dbl> & <fct> & <fct> & <dbl>\\\\\n",
       "\\hline\n",
       "\t 2 &  1 & boy & teen &  5\\\\\n",
       "\t 2 &  2 & boy & teen & 21\\\\\n",
       "\t 2 &  8 & boy & teen & 10\\\\\n",
       "\t 2 & 16 & boy & teen & 16\\\\\n",
       "\\end{tabular}\n"
      ],
      "text/markdown": [
       "\n",
       "A tibble: 4 × 5\n",
       "\n",
       "| id &lt;fct&gt; | week &lt;dbl&gt; | sex &lt;fct&gt; | group &lt;fct&gt; | level &lt;dbl&gt; |\n",
       "|---|---|---|---|---|\n",
       "| 2 |  1 | boy | teen |  5 |\n",
       "| 2 |  2 | boy | teen | 21 |\n",
       "| 2 |  8 | boy | teen | 10 |\n",
       "| 2 | 16 | boy | teen | 16 |\n",
       "\n"
      ],
      "text/plain": [
       "  id week sex group level\n",
       "1 2   1   boy teen   5   \n",
       "2 2   2   boy teen  21   \n",
       "3 2   8   boy teen  10   \n",
       "4 2  16   boy teen  16   "
      ]
     },
     "metadata": {},
     "output_type": "display_data"
    }
   ],
   "source": [
    "AA_E_total %>% filter(id == 2)"
   ]
  },
  {
   "cell_type": "code",
   "execution_count": 81,
   "metadata": {
    "collapsed": true
   },
   "outputs": [],
   "source": [
    "meSex <- function(df){\n",
    "    \n",
    "    me <- lmer(level ~ sex + week + (1 | id), data = df)\n",
    "    \n",
    "    return(me)\n",
    "}"
   ]
  },
  {
   "cell_type": "code",
   "execution_count": 82,
   "metadata": {},
   "outputs": [
    {
     "name": "stderr",
     "output_type": "stream",
     "text": [
      "boundary (singular) fit: see ?isSingular\n"
     ]
    }
   ],
   "source": [
    "me_E_S <- list()\n",
    "tidy_E_S <- list()\n",
    "\n",
    "for(i in 1:nAA_E){\n",
    "    \n",
    "    me_E_S[[i]] <- meSex(AA_E_Nested$data[[i]])\n",
    "    tidy_E_S[[i]] <- tidy(me_E_S[[i]], effects = 'fixed') %>% mutate(AA = AA_E_Nested$AA[i])\n",
    "    \n",
    "}"
   ]
  },
  {
   "cell_type": "code",
   "execution_count": 83,
   "metadata": {
    "collapsed": true
   },
   "outputs": [],
   "source": [
    "me_NE_S <- list()\n",
    "tidy_NE_S <- list()\n",
    "\n",
    "for(i in 1:nAA_NE){\n",
    "    \n",
    "    me_NE_S[[i]] <- meSex(AA_NE_Nested$data[[i]])\n",
    "    tidy_NE_S[[i]] <- tidy(me_NE_S[[i]], effects = 'fixed') %>% mutate(AA = AA_NE_Nested$AA[i])\n",
    "\n",
    "}"
   ]
  },
  {
   "cell_type": "code",
   "execution_count": 84,
   "metadata": {
    "collapsed": true
   },
   "outputs": [],
   "source": [
    "total_AA_E <- meSex(AA_E_total)\n",
    "total_AA_NE <- meSex(AA_NE_total)"
   ]
  },
  {
   "cell_type": "code",
   "execution_count": 85,
   "metadata": {
    "collapsed": true
   },
   "outputs": [],
   "source": [
    "tidy_total_E <- tidy(total_AA_E, effects = 'fixed') %>% mutate(AA = 'total', type = 'Essential')\n",
    "tidy_total_NE <- tidy(total_AA_NE, effects = 'fixed') %>% mutate(AA = 'total', type = 'Non Essential')"
   ]
  },
  {
   "cell_type": "code",
   "execution_count": 86,
   "metadata": {
    "collapsed": true
   },
   "outputs": [],
   "source": [
    "tidy_E <- bind_rows(tidy_E_S, tidy_total_E) %>% mutate(type = 'Essential')\n",
    "tidy_NE <- bind_rows(tidy_NE_S, tidy_total_NE) %>% mutate(type = 'Non Essential')"
   ]
  },
  {
   "cell_type": "code",
   "execution_count": 87,
   "metadata": {},
   "outputs": [
    {
     "data": {
      "text/html": [
       "<table>\n",
       "<caption>A tibble: 30 × 6</caption>\n",
       "<thead>\n",
       "\t<tr><th scope=col>term</th><th scope=col>estimate</th><th scope=col>std.error</th><th scope=col>statistic</th><th scope=col>AA</th><th scope=col>type</th></tr>\n",
       "\t<tr><th scope=col>&lt;chr&gt;</th><th scope=col>&lt;dbl&gt;</th><th scope=col>&lt;dbl&gt;</th><th scope=col>&lt;dbl&gt;</th><th scope=col>&lt;chr&gt;</th><th scope=col>&lt;chr&gt;</th></tr>\n",
       "</thead>\n",
       "<tbody>\n",
       "\t<tr><td>(Intercept)</td><td> 1.7326073792</td><td>0.128407731</td><td>13.49301452</td><td>HIS  </td><td>Essential</td></tr>\n",
       "\t<tr><td>sexboy     </td><td> 0.1800951053</td><td>0.147831420</td><td> 1.21824647</td><td>HIS  </td><td>Essential</td></tr>\n",
       "\t<tr><td>week       </td><td> 0.0155052457</td><td>0.010917283</td><td> 1.42024766</td><td>HIS  </td><td>Essential</td></tr>\n",
       "\t<tr><td>(Intercept)</td><td> 0.4421079596</td><td>0.087982135</td><td> 5.02497420</td><td>ILE  </td><td>Essential</td></tr>\n",
       "\t<tr><td>sexboy     </td><td> 0.0890954265</td><td>0.104943804</td><td> 0.84898225</td><td>ILE  </td><td>Essential</td></tr>\n",
       "\t<tr><td>week       </td><td> 0.0133510720</td><td>0.006676275</td><td> 1.99977872</td><td>ILE  </td><td>Essential</td></tr>\n",
       "\t<tr><td>(Intercept)</td><td> 1.5116065512</td><td>0.176766559</td><td> 8.55142830</td><td>LEU  </td><td>Essential</td></tr>\n",
       "\t<tr><td>sexboy     </td><td> 0.0387230482</td><td>0.197753114</td><td> 0.19581511</td><td>LEU  </td><td>Essential</td></tr>\n",
       "\t<tr><td>week       </td><td> 0.0497045109</td><td>0.016096316</td><td> 3.08794330</td><td>LEU  </td><td>Essential</td></tr>\n",
       "\t<tr><td>(Intercept)</td><td> 1.9138562428</td><td>0.190959562</td><td>10.02231167</td><td>LYS  </td><td>Essential</td></tr>\n",
       "\t<tr><td>sexboy     </td><td> 0.1797649809</td><td>0.218851112</td><td> 0.82140309</td><td>LYS  </td><td>Essential</td></tr>\n",
       "\t<tr><td>week       </td><td>-0.0537753502</td><td>0.016430852</td><td>-3.27282780</td><td>LYS  </td><td>Essential</td></tr>\n",
       "\t<tr><td>(Intercept)</td><td> 0.0631215491</td><td>0.049570822</td><td> 1.27336096</td><td>MET  </td><td>Essential</td></tr>\n",
       "\t<tr><td>sexboy     </td><td> 0.0618334513</td><td>0.055281594</td><td> 1.11851787</td><td>MET  </td><td>Essential</td></tr>\n",
       "\t<tr><td>week       </td><td> 0.0065908317</td><td>0.004543971</td><td> 1.45045641</td><td>MET  </td><td>Essential</td></tr>\n",
       "\t<tr><td>(Intercept)</td><td> 0.6424683690</td><td>0.072738353</td><td> 8.83259438</td><td>PHE  </td><td>Essential</td></tr>\n",
       "\t<tr><td>sexboy     </td><td> 0.1179304724</td><td>0.080117530</td><td> 1.47196841</td><td>PHE  </td><td>Essential</td></tr>\n",
       "\t<tr><td>week       </td><td> 0.0272732216</td><td>0.006733246</td><td> 4.05053078</td><td>PHE  </td><td>Essential</td></tr>\n",
       "\t<tr><td>(Intercept)</td><td> 5.7719216625</td><td>0.495608132</td><td>11.64613995</td><td>THR  </td><td>Essential</td></tr>\n",
       "\t<tr><td>sexboy     </td><td>-0.7013584342</td><td>0.612545736</td><td>-1.14498950</td><td>THR  </td><td>Essential</td></tr>\n",
       "\t<tr><td>week       </td><td> 0.1310249700</td><td>0.031598542</td><td> 4.14655106</td><td>THR  </td><td>Essential</td></tr>\n",
       "\t<tr><td>(Intercept)</td><td> 0.0152398515</td><td>0.014237377</td><td> 1.07041145</td><td>TRP  </td><td>Essential</td></tr>\n",
       "\t<tr><td>sexboy     </td><td>-0.0033890698</td><td>0.015667097</td><td>-0.21631767</td><td>TRP  </td><td>Essential</td></tr>\n",
       "\t<tr><td>week       </td><td>-0.0004120271</td><td>0.001340103</td><td>-0.30745927</td><td>TRP  </td><td>Essential</td></tr>\n",
       "\t<tr><td>(Intercept)</td><td> 2.8008362827</td><td>0.214877337</td><td>13.03458203</td><td>VAL  </td><td>Essential</td></tr>\n",
       "\t<tr><td>sexboy     </td><td> 0.2611677185</td><td>0.249022065</td><td> 1.04877340</td><td>VAL  </td><td>Essential</td></tr>\n",
       "\t<tr><td>week       </td><td> 0.0943042851</td><td>0.017936935</td><td> 5.25754725</td><td>VAL  </td><td>Essential</td></tr>\n",
       "\t<tr><td>(Intercept)</td><td>13.6094225855</td><td>1.398374266</td><td> 9.73231768</td><td>total</td><td>Essential</td></tr>\n",
       "\t<tr><td>sexboy     </td><td>-0.0771978022</td><td>1.698978593</td><td>-0.04543777</td><td>total</td><td>Essential</td></tr>\n",
       "\t<tr><td>week       </td><td>-0.1486893859</td><td>0.081042027</td><td>-1.83471949</td><td>total</td><td>Essential</td></tr>\n",
       "</tbody>\n",
       "</table>\n"
      ],
      "text/latex": [
       "A tibble: 30 × 6\n",
       "\\begin{tabular}{r|llllll}\n",
       " term & estimate & std.error & statistic & AA & type\\\\\n",
       " <chr> & <dbl> & <dbl> & <dbl> & <chr> & <chr>\\\\\n",
       "\\hline\n",
       "\t (Intercept) &  1.7326073792 & 0.128407731 & 13.49301452 & HIS   & Essential\\\\\n",
       "\t sexboy      &  0.1800951053 & 0.147831420 &  1.21824647 & HIS   & Essential\\\\\n",
       "\t week        &  0.0155052457 & 0.010917283 &  1.42024766 & HIS   & Essential\\\\\n",
       "\t (Intercept) &  0.4421079596 & 0.087982135 &  5.02497420 & ILE   & Essential\\\\\n",
       "\t sexboy      &  0.0890954265 & 0.104943804 &  0.84898225 & ILE   & Essential\\\\\n",
       "\t week        &  0.0133510720 & 0.006676275 &  1.99977872 & ILE   & Essential\\\\\n",
       "\t (Intercept) &  1.5116065512 & 0.176766559 &  8.55142830 & LEU   & Essential\\\\\n",
       "\t sexboy      &  0.0387230482 & 0.197753114 &  0.19581511 & LEU   & Essential\\\\\n",
       "\t week        &  0.0497045109 & 0.016096316 &  3.08794330 & LEU   & Essential\\\\\n",
       "\t (Intercept) &  1.9138562428 & 0.190959562 & 10.02231167 & LYS   & Essential\\\\\n",
       "\t sexboy      &  0.1797649809 & 0.218851112 &  0.82140309 & LYS   & Essential\\\\\n",
       "\t week        & -0.0537753502 & 0.016430852 & -3.27282780 & LYS   & Essential\\\\\n",
       "\t (Intercept) &  0.0631215491 & 0.049570822 &  1.27336096 & MET   & Essential\\\\\n",
       "\t sexboy      &  0.0618334513 & 0.055281594 &  1.11851787 & MET   & Essential\\\\\n",
       "\t week        &  0.0065908317 & 0.004543971 &  1.45045641 & MET   & Essential\\\\\n",
       "\t (Intercept) &  0.6424683690 & 0.072738353 &  8.83259438 & PHE   & Essential\\\\\n",
       "\t sexboy      &  0.1179304724 & 0.080117530 &  1.47196841 & PHE   & Essential\\\\\n",
       "\t week        &  0.0272732216 & 0.006733246 &  4.05053078 & PHE   & Essential\\\\\n",
       "\t (Intercept) &  5.7719216625 & 0.495608132 & 11.64613995 & THR   & Essential\\\\\n",
       "\t sexboy      & -0.7013584342 & 0.612545736 & -1.14498950 & THR   & Essential\\\\\n",
       "\t week        &  0.1310249700 & 0.031598542 &  4.14655106 & THR   & Essential\\\\\n",
       "\t (Intercept) &  0.0152398515 & 0.014237377 &  1.07041145 & TRP   & Essential\\\\\n",
       "\t sexboy      & -0.0033890698 & 0.015667097 & -0.21631767 & TRP   & Essential\\\\\n",
       "\t week        & -0.0004120271 & 0.001340103 & -0.30745927 & TRP   & Essential\\\\\n",
       "\t (Intercept) &  2.8008362827 & 0.214877337 & 13.03458203 & VAL   & Essential\\\\\n",
       "\t sexboy      &  0.2611677185 & 0.249022065 &  1.04877340 & VAL   & Essential\\\\\n",
       "\t week        &  0.0943042851 & 0.017936935 &  5.25754725 & VAL   & Essential\\\\\n",
       "\t (Intercept) & 13.6094225855 & 1.398374266 &  9.73231768 & total & Essential\\\\\n",
       "\t sexboy      & -0.0771978022 & 1.698978593 & -0.04543777 & total & Essential\\\\\n",
       "\t week        & -0.1486893859 & 0.081042027 & -1.83471949 & total & Essential\\\\\n",
       "\\end{tabular}\n"
      ],
      "text/markdown": [
       "\n",
       "A tibble: 30 × 6\n",
       "\n",
       "| term &lt;chr&gt; | estimate &lt;dbl&gt; | std.error &lt;dbl&gt; | statistic &lt;dbl&gt; | AA &lt;chr&gt; | type &lt;chr&gt; |\n",
       "|---|---|---|---|---|---|\n",
       "| (Intercept) |  1.7326073792 | 0.128407731 | 13.49301452 | HIS   | Essential |\n",
       "| sexboy      |  0.1800951053 | 0.147831420 |  1.21824647 | HIS   | Essential |\n",
       "| week        |  0.0155052457 | 0.010917283 |  1.42024766 | HIS   | Essential |\n",
       "| (Intercept) |  0.4421079596 | 0.087982135 |  5.02497420 | ILE   | Essential |\n",
       "| sexboy      |  0.0890954265 | 0.104943804 |  0.84898225 | ILE   | Essential |\n",
       "| week        |  0.0133510720 | 0.006676275 |  1.99977872 | ILE   | Essential |\n",
       "| (Intercept) |  1.5116065512 | 0.176766559 |  8.55142830 | LEU   | Essential |\n",
       "| sexboy      |  0.0387230482 | 0.197753114 |  0.19581511 | LEU   | Essential |\n",
       "| week        |  0.0497045109 | 0.016096316 |  3.08794330 | LEU   | Essential |\n",
       "| (Intercept) |  1.9138562428 | 0.190959562 | 10.02231167 | LYS   | Essential |\n",
       "| sexboy      |  0.1797649809 | 0.218851112 |  0.82140309 | LYS   | Essential |\n",
       "| week        | -0.0537753502 | 0.016430852 | -3.27282780 | LYS   | Essential |\n",
       "| (Intercept) |  0.0631215491 | 0.049570822 |  1.27336096 | MET   | Essential |\n",
       "| sexboy      |  0.0618334513 | 0.055281594 |  1.11851787 | MET   | Essential |\n",
       "| week        |  0.0065908317 | 0.004543971 |  1.45045641 | MET   | Essential |\n",
       "| (Intercept) |  0.6424683690 | 0.072738353 |  8.83259438 | PHE   | Essential |\n",
       "| sexboy      |  0.1179304724 | 0.080117530 |  1.47196841 | PHE   | Essential |\n",
       "| week        |  0.0272732216 | 0.006733246 |  4.05053078 | PHE   | Essential |\n",
       "| (Intercept) |  5.7719216625 | 0.495608132 | 11.64613995 | THR   | Essential |\n",
       "| sexboy      | -0.7013584342 | 0.612545736 | -1.14498950 | THR   | Essential |\n",
       "| week        |  0.1310249700 | 0.031598542 |  4.14655106 | THR   | Essential |\n",
       "| (Intercept) |  0.0152398515 | 0.014237377 |  1.07041145 | TRP   | Essential |\n",
       "| sexboy      | -0.0033890698 | 0.015667097 | -0.21631767 | TRP   | Essential |\n",
       "| week        | -0.0004120271 | 0.001340103 | -0.30745927 | TRP   | Essential |\n",
       "| (Intercept) |  2.8008362827 | 0.214877337 | 13.03458203 | VAL   | Essential |\n",
       "| sexboy      |  0.2611677185 | 0.249022065 |  1.04877340 | VAL   | Essential |\n",
       "| week        |  0.0943042851 | 0.017936935 |  5.25754725 | VAL   | Essential |\n",
       "| (Intercept) | 13.6094225855 | 1.398374266 |  9.73231768 | total | Essential |\n",
       "| sexboy      | -0.0771978022 | 1.698978593 | -0.04543777 | total | Essential |\n",
       "| week        | -0.1486893859 | 0.081042027 | -1.83471949 | total | Essential |\n",
       "\n"
      ],
      "text/plain": [
       "   term        estimate      std.error   statistic   AA    type     \n",
       "1  (Intercept)  1.7326073792 0.128407731 13.49301452 HIS   Essential\n",
       "2  sexboy       0.1800951053 0.147831420  1.21824647 HIS   Essential\n",
       "3  week         0.0155052457 0.010917283  1.42024766 HIS   Essential\n",
       "4  (Intercept)  0.4421079596 0.087982135  5.02497420 ILE   Essential\n",
       "5  sexboy       0.0890954265 0.104943804  0.84898225 ILE   Essential\n",
       "6  week         0.0133510720 0.006676275  1.99977872 ILE   Essential\n",
       "7  (Intercept)  1.5116065512 0.176766559  8.55142830 LEU   Essential\n",
       "8  sexboy       0.0387230482 0.197753114  0.19581511 LEU   Essential\n",
       "9  week         0.0497045109 0.016096316  3.08794330 LEU   Essential\n",
       "10 (Intercept)  1.9138562428 0.190959562 10.02231167 LYS   Essential\n",
       "11 sexboy       0.1797649809 0.218851112  0.82140309 LYS   Essential\n",
       "12 week        -0.0537753502 0.016430852 -3.27282780 LYS   Essential\n",
       "13 (Intercept)  0.0631215491 0.049570822  1.27336096 MET   Essential\n",
       "14 sexboy       0.0618334513 0.055281594  1.11851787 MET   Essential\n",
       "15 week         0.0065908317 0.004543971  1.45045641 MET   Essential\n",
       "16 (Intercept)  0.6424683690 0.072738353  8.83259438 PHE   Essential\n",
       "17 sexboy       0.1179304724 0.080117530  1.47196841 PHE   Essential\n",
       "18 week         0.0272732216 0.006733246  4.05053078 PHE   Essential\n",
       "19 (Intercept)  5.7719216625 0.495608132 11.64613995 THR   Essential\n",
       "20 sexboy      -0.7013584342 0.612545736 -1.14498950 THR   Essential\n",
       "21 week         0.1310249700 0.031598542  4.14655106 THR   Essential\n",
       "22 (Intercept)  0.0152398515 0.014237377  1.07041145 TRP   Essential\n",
       "23 sexboy      -0.0033890698 0.015667097 -0.21631767 TRP   Essential\n",
       "24 week        -0.0004120271 0.001340103 -0.30745927 TRP   Essential\n",
       "25 (Intercept)  2.8008362827 0.214877337 13.03458203 VAL   Essential\n",
       "26 sexboy       0.2611677185 0.249022065  1.04877340 VAL   Essential\n",
       "27 week         0.0943042851 0.017936935  5.25754725 VAL   Essential\n",
       "28 (Intercept) 13.6094225855 1.398374266  9.73231768 total Essential\n",
       "29 sexboy      -0.0771978022 1.698978593 -0.04543777 total Essential\n",
       "30 week        -0.1486893859 0.081042027 -1.83471949 total Essential"
      ]
     },
     "metadata": {},
     "output_type": "display_data"
    }
   ],
   "source": [
    "tidy_E"
   ]
  },
  {
   "cell_type": "code",
   "execution_count": 88,
   "metadata": {},
   "outputs": [
    {
     "data": {
      "text/html": [
       "<table>\n",
       "<caption>A tibble: 10 × 7</caption>\n",
       "<thead>\n",
       "\t<tr><th scope=col>term</th><th scope=col>estimate</th><th scope=col>std.error</th><th scope=col>statistic</th><th scope=col>AA</th><th scope=col>type</th><th scope=col>sig</th></tr>\n",
       "\t<tr><th scope=col>&lt;chr&gt;</th><th scope=col>&lt;dbl&gt;</th><th scope=col>&lt;dbl&gt;</th><th scope=col>&lt;dbl&gt;</th><th scope=col>&lt;fct&gt;</th><th scope=col>&lt;chr&gt;</th><th scope=col>&lt;chr&gt;</th></tr>\n",
       "</thead>\n",
       "<tbody>\n",
       "\t<tr><td>sexboy</td><td>-0.70135843</td><td>0.61254574</td><td>-1.14498950</td><td>THR  </td><td>Essential</td><td>b.no</td></tr>\n",
       "\t<tr><td>sexboy</td><td>-0.07719780</td><td>1.69897859</td><td>-0.04543777</td><td>total</td><td>Essential</td><td>b.no</td></tr>\n",
       "\t<tr><td>sexboy</td><td>-0.00338907</td><td>0.01566710</td><td>-0.21631767</td><td>TRP  </td><td>Essential</td><td>b.no</td></tr>\n",
       "\t<tr><td>sexboy</td><td> 0.03872305</td><td>0.19775311</td><td> 0.19581511</td><td>LEU  </td><td>Essential</td><td>b.no</td></tr>\n",
       "\t<tr><td>sexboy</td><td> 0.06183345</td><td>0.05528159</td><td> 1.11851787</td><td>MET  </td><td>Essential</td><td>b.no</td></tr>\n",
       "\t<tr><td>sexboy</td><td> 0.08909543</td><td>0.10494380</td><td> 0.84898225</td><td>ILE  </td><td>Essential</td><td>b.no</td></tr>\n",
       "\t<tr><td>sexboy</td><td> 0.11793047</td><td>0.08011753</td><td> 1.47196841</td><td>PHE  </td><td>Essential</td><td>b.no</td></tr>\n",
       "\t<tr><td>sexboy</td><td> 0.17976498</td><td>0.21885111</td><td> 0.82140309</td><td>LYS  </td><td>Essential</td><td>b.no</td></tr>\n",
       "\t<tr><td>sexboy</td><td> 0.18009511</td><td>0.14783142</td><td> 1.21824647</td><td>HIS  </td><td>Essential</td><td>b.no</td></tr>\n",
       "\t<tr><td>sexboy</td><td> 0.26116772</td><td>0.24902207</td><td> 1.04877340</td><td>VAL  </td><td>Essential</td><td>b.no</td></tr>\n",
       "</tbody>\n",
       "</table>\n"
      ],
      "text/latex": [
       "A tibble: 10 × 7\n",
       "\\begin{tabular}{r|lllllll}\n",
       " term & estimate & std.error & statistic & AA & type & sig\\\\\n",
       " <chr> & <dbl> & <dbl> & <dbl> & <fct> & <chr> & <chr>\\\\\n",
       "\\hline\n",
       "\t sexboy & -0.70135843 & 0.61254574 & -1.14498950 & THR   & Essential & b.no\\\\\n",
       "\t sexboy & -0.07719780 & 1.69897859 & -0.04543777 & total & Essential & b.no\\\\\n",
       "\t sexboy & -0.00338907 & 0.01566710 & -0.21631767 & TRP   & Essential & b.no\\\\\n",
       "\t sexboy &  0.03872305 & 0.19775311 &  0.19581511 & LEU   & Essential & b.no\\\\\n",
       "\t sexboy &  0.06183345 & 0.05528159 &  1.11851787 & MET   & Essential & b.no\\\\\n",
       "\t sexboy &  0.08909543 & 0.10494380 &  0.84898225 & ILE   & Essential & b.no\\\\\n",
       "\t sexboy &  0.11793047 & 0.08011753 &  1.47196841 & PHE   & Essential & b.no\\\\\n",
       "\t sexboy &  0.17976498 & 0.21885111 &  0.82140309 & LYS   & Essential & b.no\\\\\n",
       "\t sexboy &  0.18009511 & 0.14783142 &  1.21824647 & HIS   & Essential & b.no\\\\\n",
       "\t sexboy &  0.26116772 & 0.24902207 &  1.04877340 & VAL   & Essential & b.no\\\\\n",
       "\\end{tabular}\n"
      ],
      "text/markdown": [
       "\n",
       "A tibble: 10 × 7\n",
       "\n",
       "| term &lt;chr&gt; | estimate &lt;dbl&gt; | std.error &lt;dbl&gt; | statistic &lt;dbl&gt; | AA &lt;fct&gt; | type &lt;chr&gt; | sig &lt;chr&gt; |\n",
       "|---|---|---|---|---|---|---|\n",
       "| sexboy | -0.70135843 | 0.61254574 | -1.14498950 | THR   | Essential | b.no |\n",
       "| sexboy | -0.07719780 | 1.69897859 | -0.04543777 | total | Essential | b.no |\n",
       "| sexboy | -0.00338907 | 0.01566710 | -0.21631767 | TRP   | Essential | b.no |\n",
       "| sexboy |  0.03872305 | 0.19775311 |  0.19581511 | LEU   | Essential | b.no |\n",
       "| sexboy |  0.06183345 | 0.05528159 |  1.11851787 | MET   | Essential | b.no |\n",
       "| sexboy |  0.08909543 | 0.10494380 |  0.84898225 | ILE   | Essential | b.no |\n",
       "| sexboy |  0.11793047 | 0.08011753 |  1.47196841 | PHE   | Essential | b.no |\n",
       "| sexboy |  0.17976498 | 0.21885111 |  0.82140309 | LYS   | Essential | b.no |\n",
       "| sexboy |  0.18009511 | 0.14783142 |  1.21824647 | HIS   | Essential | b.no |\n",
       "| sexboy |  0.26116772 | 0.24902207 |  1.04877340 | VAL   | Essential | b.no |\n",
       "\n"
      ],
      "text/plain": [
       "   term   estimate    std.error  statistic   AA    type      sig \n",
       "1  sexboy -0.70135843 0.61254574 -1.14498950 THR   Essential b.no\n",
       "2  sexboy -0.07719780 1.69897859 -0.04543777 total Essential b.no\n",
       "3  sexboy -0.00338907 0.01566710 -0.21631767 TRP   Essential b.no\n",
       "4  sexboy  0.03872305 0.19775311  0.19581511 LEU   Essential b.no\n",
       "5  sexboy  0.06183345 0.05528159  1.11851787 MET   Essential b.no\n",
       "6  sexboy  0.08909543 0.10494380  0.84898225 ILE   Essential b.no\n",
       "7  sexboy  0.11793047 0.08011753  1.47196841 PHE   Essential b.no\n",
       "8  sexboy  0.17976498 0.21885111  0.82140309 LYS   Essential b.no\n",
       "9  sexboy  0.18009511 0.14783142  1.21824647 HIS   Essential b.no\n",
       "10 sexboy  0.26116772 0.24902207  1.04877340 VAL   Essential b.no"
      ]
     },
     "metadata": {},
     "output_type": "display_data"
    }
   ],
   "source": [
    "plotdf_E <- \n",
    "    tidy_E %>% filter(grepl(\"sexboy\", term)) %>% \n",
    "            #mutate(size = ifelse(AA %in% c('THR', 'MET', 'ILE', 'PRO', 'ASP', 'CYS'), 'small', 'big')) %>%\n",
    "            mutate(AA = factor(AA, levels = c('total', 'THR', 'TRP', 'LEU', 'MET', 'ILE', 'PHE', 'LYS', 'HIS', 'VAL'))) %>%\n",
    "            mutate(sig = 'b.no')\n",
    "\n",
    "plotdf_E %>% arrange(estimate)"
   ]
  },
  {
   "cell_type": "code",
   "execution_count": 89,
   "metadata": {},
   "outputs": [
    {
     "data": {
      "text/html": [
       "<table>\n",
       "<caption>A tibble: 12 × 8</caption>\n",
       "<thead>\n",
       "\t<tr><th scope=col>term</th><th scope=col>estimate</th><th scope=col>std.error</th><th scope=col>statistic</th><th scope=col>AA</th><th scope=col>type</th><th scope=col>size</th><th scope=col>sig</th></tr>\n",
       "\t<tr><th scope=col>&lt;chr&gt;</th><th scope=col>&lt;dbl&gt;</th><th scope=col>&lt;dbl&gt;</th><th scope=col>&lt;dbl&gt;</th><th scope=col>&lt;fct&gt;</th><th scope=col>&lt;chr&gt;</th><th scope=col>&lt;chr&gt;</th><th scope=col>&lt;chr&gt;</th></tr>\n",
       "</thead>\n",
       "<tbody>\n",
       "\t<tr><td>sexboy</td><td>-0.08339889</td><td> 0.1257034</td><td>-0.6634576</td><td>ASN  </td><td>Non Essential</td><td>small</td><td>b.no </td></tr>\n",
       "\t<tr><td>sexboy</td><td> 0.14263751</td><td> 0.1522882</td><td> 0.9366285</td><td>ARG  </td><td>Non Essential</td><td>small</td><td>b.no </td></tr>\n",
       "\t<tr><td>sexboy</td><td> 0.23773898</td><td> 0.1099537</td><td> 2.1621732</td><td>TYR  </td><td>Non Essential</td><td>small</td><td>a.yes</td></tr>\n",
       "\t<tr><td>sexboy</td><td> 0.35682776</td><td> 0.1635167</td><td> 2.1822096</td><td>CYS  </td><td>Non Essential</td><td>small</td><td>a.yes</td></tr>\n",
       "\t<tr><td>sexboy</td><td> 0.38692513</td><td> 0.3436295</td><td> 1.1259951</td><td>PRO  </td><td>Non Essential</td><td>small</td><td>b.no </td></tr>\n",
       "\t<tr><td>sexboy</td><td> 0.54756968</td><td> 0.4801045</td><td> 1.1405219</td><td>ASP  </td><td>Non Essential</td><td>small</td><td>b.no </td></tr>\n",
       "\t<tr><td>sexboy</td><td> 1.22571449</td><td> 0.6975134</td><td> 1.7572631</td><td>SER  </td><td>Non Essential</td><td>small</td><td>b.no </td></tr>\n",
       "\t<tr><td>sexboy</td><td> 1.61818930</td><td> 1.6590414</td><td> 0.9753761</td><td>ALA  </td><td>Non Essential</td><td>big  </td><td>b.no </td></tr>\n",
       "\t<tr><td>sexboy</td><td> 1.81908239</td><td> 0.7897730</td><td> 2.3032978</td><td>GLY  </td><td>Non Essential</td><td>small</td><td>a.yes</td></tr>\n",
       "\t<tr><td>sexboy</td><td> 3.06094539</td><td> 3.3877643</td><td> 0.9035296</td><td>GLN  </td><td>Non Essential</td><td>big  </td><td>b.no </td></tr>\n",
       "\t<tr><td>sexboy</td><td>14.39755180</td><td> 6.5220682</td><td> 2.2075132</td><td>GLU  </td><td>Non Essential</td><td>big  </td><td>a.yes</td></tr>\n",
       "\t<tr><td>sexboy</td><td>15.51456044</td><td>18.3946075</td><td> 0.8434298</td><td>total</td><td>Non Essential</td><td>big  </td><td>b.no </td></tr>\n",
       "</tbody>\n",
       "</table>\n"
      ],
      "text/latex": [
       "A tibble: 12 × 8\n",
       "\\begin{tabular}{r|llllllll}\n",
       " term & estimate & std.error & statistic & AA & type & size & sig\\\\\n",
       " <chr> & <dbl> & <dbl> & <dbl> & <fct> & <chr> & <chr> & <chr>\\\\\n",
       "\\hline\n",
       "\t sexboy & -0.08339889 &  0.1257034 & -0.6634576 & ASN   & Non Essential & small & b.no \\\\\n",
       "\t sexboy &  0.14263751 &  0.1522882 &  0.9366285 & ARG   & Non Essential & small & b.no \\\\\n",
       "\t sexboy &  0.23773898 &  0.1099537 &  2.1621732 & TYR   & Non Essential & small & a.yes\\\\\n",
       "\t sexboy &  0.35682776 &  0.1635167 &  2.1822096 & CYS   & Non Essential & small & a.yes\\\\\n",
       "\t sexboy &  0.38692513 &  0.3436295 &  1.1259951 & PRO   & Non Essential & small & b.no \\\\\n",
       "\t sexboy &  0.54756968 &  0.4801045 &  1.1405219 & ASP   & Non Essential & small & b.no \\\\\n",
       "\t sexboy &  1.22571449 &  0.6975134 &  1.7572631 & SER   & Non Essential & small & b.no \\\\\n",
       "\t sexboy &  1.61818930 &  1.6590414 &  0.9753761 & ALA   & Non Essential & big   & b.no \\\\\n",
       "\t sexboy &  1.81908239 &  0.7897730 &  2.3032978 & GLY   & Non Essential & small & a.yes\\\\\n",
       "\t sexboy &  3.06094539 &  3.3877643 &  0.9035296 & GLN   & Non Essential & big   & b.no \\\\\n",
       "\t sexboy & 14.39755180 &  6.5220682 &  2.2075132 & GLU   & Non Essential & big   & a.yes\\\\\n",
       "\t sexboy & 15.51456044 & 18.3946075 &  0.8434298 & total & Non Essential & big   & b.no \\\\\n",
       "\\end{tabular}\n"
      ],
      "text/markdown": [
       "\n",
       "A tibble: 12 × 8\n",
       "\n",
       "| term &lt;chr&gt; | estimate &lt;dbl&gt; | std.error &lt;dbl&gt; | statistic &lt;dbl&gt; | AA &lt;fct&gt; | type &lt;chr&gt; | size &lt;chr&gt; | sig &lt;chr&gt; |\n",
       "|---|---|---|---|---|---|---|---|\n",
       "| sexboy | -0.08339889 |  0.1257034 | -0.6634576 | ASN   | Non Essential | small | b.no  |\n",
       "| sexboy |  0.14263751 |  0.1522882 |  0.9366285 | ARG   | Non Essential | small | b.no  |\n",
       "| sexboy |  0.23773898 |  0.1099537 |  2.1621732 | TYR   | Non Essential | small | a.yes |\n",
       "| sexboy |  0.35682776 |  0.1635167 |  2.1822096 | CYS   | Non Essential | small | a.yes |\n",
       "| sexboy |  0.38692513 |  0.3436295 |  1.1259951 | PRO   | Non Essential | small | b.no  |\n",
       "| sexboy |  0.54756968 |  0.4801045 |  1.1405219 | ASP   | Non Essential | small | b.no  |\n",
       "| sexboy |  1.22571449 |  0.6975134 |  1.7572631 | SER   | Non Essential | small | b.no  |\n",
       "| sexboy |  1.61818930 |  1.6590414 |  0.9753761 | ALA   | Non Essential | big   | b.no  |\n",
       "| sexboy |  1.81908239 |  0.7897730 |  2.3032978 | GLY   | Non Essential | small | a.yes |\n",
       "| sexboy |  3.06094539 |  3.3877643 |  0.9035296 | GLN   | Non Essential | big   | b.no  |\n",
       "| sexboy | 14.39755180 |  6.5220682 |  2.2075132 | GLU   | Non Essential | big   | a.yes |\n",
       "| sexboy | 15.51456044 | 18.3946075 |  0.8434298 | total | Non Essential | big   | b.no  |\n",
       "\n"
      ],
      "text/plain": [
       "   term   estimate    std.error  statistic  AA    type          size  sig  \n",
       "1  sexboy -0.08339889  0.1257034 -0.6634576 ASN   Non Essential small b.no \n",
       "2  sexboy  0.14263751  0.1522882  0.9366285 ARG   Non Essential small b.no \n",
       "3  sexboy  0.23773898  0.1099537  2.1621732 TYR   Non Essential small a.yes\n",
       "4  sexboy  0.35682776  0.1635167  2.1822096 CYS   Non Essential small a.yes\n",
       "5  sexboy  0.38692513  0.3436295  1.1259951 PRO   Non Essential small b.no \n",
       "6  sexboy  0.54756968  0.4801045  1.1405219 ASP   Non Essential small b.no \n",
       "7  sexboy  1.22571449  0.6975134  1.7572631 SER   Non Essential small b.no \n",
       "8  sexboy  1.61818930  1.6590414  0.9753761 ALA   Non Essential big   b.no \n",
       "9  sexboy  1.81908239  0.7897730  2.3032978 GLY   Non Essential small a.yes\n",
       "10 sexboy  3.06094539  3.3877643  0.9035296 GLN   Non Essential big   b.no \n",
       "11 sexboy 14.39755180  6.5220682  2.2075132 GLU   Non Essential big   a.yes\n",
       "12 sexboy 15.51456044 18.3946075  0.8434298 total Non Essential big   b.no "
      ]
     },
     "metadata": {},
     "output_type": "display_data"
    }
   ],
   "source": [
    "plotdf_NE <- \n",
    "    tidy_NE %>% filter(grepl(\"sexboy\", term)) %>% \n",
    "            mutate(size = ifelse(AA %in% c('ASN', 'ARG', 'TYR', 'PRO', 'ASP', 'CYS', 'GLY', 'SER'), 'small', 'big')) %>%\n",
    "            mutate(AA = factor(AA, levels = c('total', 'ASN', 'ARG', 'TYR', 'CYS', 'PRO', 'ASP', \n",
    "                                             'SER', 'GLY', 'ALA', 'GLN', 'GLU'))) %>%\n",
    "            mutate(sig = ifelse(AA %in% c('GLU', 'GLY', 'CYS', 'TYR'), 'a.yes', 'b.no'))\n",
    "\n",
    "plotdf_NE %>% arrange(estimate)"
   ]
  },
  {
   "cell_type": "code",
   "execution_count": 90,
   "metadata": {
    "collapsed": true
   },
   "outputs": [],
   "source": [
    "pE <-\n",
    "    ggplot(plotdf_E, aes(x = reorder(AA, estimate), y = estimate, color = sig)) +   \n",
    "        geom_hline(yintercept = 0, alpha = 0.8, linetype=\"dotted\") +\n",
    "        theme_bw() + \n",
    "        geom_pointrange(aes(x = AA, ymin = estimate - 2*std.error, ymax = estimate + 2*std.error)) +\n",
    "        theme(legend.position = \"none\") +  \n",
    "        coord_flip() + \n",
    "        facet_wrap(~type) + \n",
    "        xlab('') + ylab('') +\n",
    "        ggtitle('C.') +\n",
    "        annotate(\"text\", x = 0, y = -1, label = TeX('$\\\\leftarrow$ Favors Girls'), size = 2) +\n",
    "        annotate(\"text\", x = 0, y = 1, label = TeX('Favors Boys $\\\\rightarrow$'), size = 2) +\n",
    "        annotate(\"text\", x = -1, y = -2, label = \"\") +\n",
    "        scale_colour_grey(start = 0.5, end = 0.5)"
   ]
  },
  {
   "cell_type": "code",
   "execution_count": 91,
   "metadata": {
    "collapsed": true,
    "scrolled": false
   },
   "outputs": [],
   "source": [
    "pNE <- \n",
    "    ggplot(plotdf_NE, aes(x = AA, y = estimate, color = sig)) +  \n",
    "        geom_hline(yintercept = 0, alpha = 0.8, linetype=\"dotted\") +\n",
    "        theme_bw() + \n",
    "        geom_pointrange(aes(x = AA, ymin = estimate - 2*std.error, ymax = estimate + 2*std.error)) +\n",
    "        theme(legend.position = \"none\") +  \n",
    "        coord_flip() + \n",
    "        facet_wrap(~type) + \n",
    "        xlab('') + ylab('') +\n",
    "        ggtitle('A.') +\n",
    "        annotate(\"text\", x = 0, y = -10, label = TeX('$\\\\leftarrow$ Favors Girls'), size = 2) +\n",
    "        annotate(\"text\", x = 0, y = 10, label = TeX('Favors Boys $\\\\rightarrow$'), size = 2) +\n",
    "        annotate(\"text\", x = -1, y = -2, label = \"\") + scale_colour_grey(start = 0, end = 0.5)"
   ]
  },
  {
   "cell_type": "code",
   "execution_count": 92,
   "metadata": {
    "collapsed": true
   },
   "outputs": [],
   "source": [
    "pNE_detail <-\n",
    "    ggplot(plotdf_NE %>% filter(size == 'small'), aes(x = AA, y = estimate, color = sig)) +  \n",
    "        geom_hline(yintercept = 0, alpha = 0.8, linetype=\"dotted\") +\n",
    "        theme_bw() + \n",
    "        geom_pointrange(aes(x = AA, ymin = estimate - 2*std.error, ymax = estimate + 2*std.error)) +\n",
    "        theme(legend.position = \"none\") +\n",
    "        facet_wrap(~type, scales = \"free\") + \n",
    "        coord_flip() + \n",
    "        xlab('') + ylab('') +\n",
    "        ggtitle('B. Detail') +\n",
    "        annotate(\"text\", x = 0, y = -0.8, label = TeX('$\\\\leftarrow$ Favors Girls'), size = 2) +\n",
    "        annotate(\"text\", x = 0, y = 0.8, label = TeX('Favors Boys $\\\\rightarrow$'), size = 2) +\n",
    "        annotate(\"text\", x = -0.5, y = -2, label = \"\") + scale_colour_grey(start = 0, end = 0.5)"
   ]
  },
  {
   "cell_type": "code",
   "execution_count": 93,
   "metadata": {},
   "outputs": [
    {
     "name": "stderr",
     "output_type": "stream",
     "text": [
      "Warning message:\n",
      "\"Setting row names on a tibble is deprecated.\"Warning message in is.na(x):\n",
      "\"is.na() aplicado a un objeto que no es (lista o vector) de tipo 'expression\"Warning message in is.na(x):\n",
      "\"is.na() aplicado a un objeto que no es (lista o vector) de tipo 'expression\"Warning message in is.na(x):\n",
      "\"is.na() aplicado a un objeto que no es (lista o vector) de tipo 'expression\"Warning message in is.na(x):\n",
      "\"is.na() aplicado a un objeto que no es (lista o vector) de tipo 'expression\"Warning message in is.na(x):\n",
      "\"is.na() aplicado a un objeto que no es (lista o vector) de tipo 'expression\"Warning message in is.na(x):\n",
      "\"is.na() aplicado a un objeto que no es (lista o vector) de tipo 'expression\""
     ]
    },
    {
     "data": {
      "image/png": "[encoded data removed]",
      "text/plain": [
       "plot without title"
      ]
     },
     "metadata": {},
     "output_type": "display_data"
    }
   ],
   "source": [
    "# https://cran.r-project.org/web/packages/egg/vignettes/Ecosystem.html\n",
    "sig_tab <- plotdf_NE %>% filter(sig == 'a.yes') %>% select(2:4) %>% \n",
    "                        mutate(estimate = round(estimate, 2), \n",
    "                               std.error = round(std.error, 2), statistic = round(statistic, 2)) %>%\n",
    "                        arrange(-estimate)\n",
    "\n",
    "row.names(sig_tab) <- c('GLU', 'GLY', 'CYS', 'TYR')\n",
    "\n",
    "#png(filename=\"./plots/sex_mosaic_final.png\", units=\"cm\", width=20, height=20, res = 500)\n",
    "grid.arrange(pNE, pNE_detail, pE, \n",
    "            layout_matrix = rbind(c(1, 2), c(3, NA))) \n",
    "\n",
    "#dev.off()"
   ]
  },
  {
   "cell_type": "code",
   "execution_count": 94,
   "metadata": {
    "collapsed": true
   },
   "outputs": [],
   "source": [
    "pspeed_E <-\n",
    "    ggplot(speed_E %>% mutate(type = 'Essential'), aes(x = AA, y = estimate)) + \n",
    "        geom_hline(yintercept = 0, alpha = 0.8, linetype=\"dotted\") + \n",
    "        geom_pointrange(alpha = 0.5, \n",
    "                        aes(x = reorder(AA, estimate), ymin = estimate - 2*std.error, ymax = estimate + 2*std.error)) + \n",
    "        theme(legend.position = \"none\", aspect.ratio = 1) + \n",
    "        theme_bw() +\n",
    "        coord_flip() + \n",
    "        facet_wrap(~type) + \n",
    "        ggtitle('A.') + ylab('') + xlab('') +\n",
    "        annotate(\"text\", x = 0, y = -0.5, label = TeX('$\\\\leftarrow$ Favors Fast'), size = 3) +\n",
    "        annotate(\"text\", x = 0, y = 0.5, label = TeX('Favors Slow $\\\\rightarrow$'), size = 3) +\n",
    "        annotate(\"text\", x = -0.5, y = -2, label = \"\") + scale_colour_grey(start = 0.5, end = 0.5)"
   ]
  },
  {
   "cell_type": "code",
   "execution_count": 95,
   "metadata": {
    "collapsed": true
   },
   "outputs": [],
   "source": [
    "pspeed_NE <-\n",
    "    ggplot(speed_NE %>% mutate(type = 'Non Essential'), aes(x = AA, y = estimate)) + \n",
    "        geom_hline(yintercept = 0, alpha = 0.8, linetype=\"dotted\") + \n",
    "        geom_pointrange(alpha = 0.5, \n",
    "                        aes(x = reorder(AA, estimate), ymin = estimate - 2*std.error, ymax = estimate + 2*std.error)) + \n",
    "        theme(legend.position = \"none\", aspect.ratio = 1) + \n",
    "        theme_bw() +\n",
    "        coord_flip() + \n",
    "        facet_wrap(~type) + \n",
    "        ggtitle('B.') + ylab('') + xlab('') +\n",
    "        annotate(\"text\", x = 0, y = -5, label = TeX('$\\\\leftarrow$ Favors Fast'), size = 3) +\n",
    "        annotate(\"text\", x = 0, y = 5, label = TeX('Favors Slow $\\\\rightarrow$'), size = 3) +\n",
    "        annotate(\"text\", x = -0.5, y = -2, label = \"\") "
   ]
  },
  {
   "cell_type": "code",
   "execution_count": 98,
   "metadata": {
    "scrolled": false
   },
   "outputs": [
    {
     "name": "stderr",
     "output_type": "stream",
     "text": [
      "Warning message in is.na(x):\n",
      "\"is.na() aplicado a un objeto que no es (lista o vector) de tipo 'expression\"Warning message in is.na(x):\n",
      "\"is.na() aplicado a un objeto que no es (lista o vector) de tipo 'expression\"Warning message in is.na(x):\n",
      "\"is.na() aplicado a un objeto que no es (lista o vector) de tipo 'expression\"Warning message in is.na(x):\n",
      "\"is.na() aplicado a un objeto que no es (lista o vector) de tipo 'expression\""
     ]
    },
    {
     "data": {
      "image/png": "[encoded data removed]",
      "text/plain": [
       "plot without title"
      ]
     },
     "metadata": {},
     "output_type": "display_data"
    }
   ],
   "source": [
    "#png(filename=\"./plots/speed_mosaic_final.png\", units=\"cm\", width=40, height=20, res = 300)\n",
    "grid.arrange(pspeed_E, pspeed_NE, \n",
    "            layout_matrix = rbind(c(1, 2))) \n",
    "\n",
    "#dev.off()"
   ]
  },
  {
   "cell_type": "code",
   "execution_count": 96,
   "metadata": {
    "collapsed": true
   },
   "outputs": [],
   "source": [
    "pE <-\n",
    "    ggplot(plotdf_E, aes(x = reorder(AA, estimate), y = estimate, color = sig)) +   \n",
    "        geom_hline(yintercept = 0, alpha = 0.8, linetype=\"dotted\") +\n",
    "        theme_bw() + \n",
    "        geom_pointrange(aes(x = AA, ymin = estimate - 2*std.error, ymax = estimate + 2*std.error)) +\n",
    "        theme(legend.position = \"none\") +  \n",
    "        coord_flip() + \n",
    "        facet_wrap(~type) + \n",
    "        xlab('') + ylab('') +\n",
    "        ggtitle('A.') +\n",
    "        annotate(\"text\", x = 0, y = -1, label = TeX('$\\\\leftarrow$ Favors Girls'), size = 2) +\n",
    "        annotate(\"text\", x = 0, y = 1, label = TeX('Favors Boys $\\\\rightarrow$'), size = 2) +\n",
    "        annotate(\"text\", x = -1, y = -2, label = \"\") +\n",
    "        scale_colour_grey(start = 0.5, end = 0.5)"
   ]
  },
  {
   "cell_type": "code",
   "execution_count": 97,
   "metadata": {},
   "outputs": [
    {
     "name": "stderr",
     "output_type": "stream",
     "text": [
      "Warning message in is.na(x):\n",
      "\"is.na() aplicado a un objeto que no es (lista o vector) de tipo 'expression\"Warning message in is.na(x):\n",
      "\"is.na() aplicado a un objeto que no es (lista o vector) de tipo 'expression\""
     ]
    },
    {
     "data": {
      "image/png": "[encoded data removed]",
      "text/plain": [
       "plot without title"
      ]
     },
     "metadata": {},
     "output_type": "display_data"
    }
   ],
   "source": [
    "pstartNE <-\n",
    "    ggplot(start_NE %>% mutate(type = 'Non Essential'), aes(x = reorder(AA, estimate), y = estimate, color = AA)) + \n",
    "        geom_hline(yintercept = 0, alpha = 0.4) + \n",
    "        geom_point() + geom_pointrange( aes(x = AA, ymin = estimate - 2*std.error, ymax = estimate + 2*std.error)) + \n",
    "        theme_bw() +\n",
    "        theme(legend.position = \"none\", aspect.ratio = 1) + \n",
    "        coord_flip() + \n",
    "        facet_wrap(~type) + \n",
    "        ggtitle('D.') + ylab('') + xlab('') +\n",
    "            annotate(\"text\", x = 0, y = -10, label = TeX('$\\\\leftarrow$ Favors Big'), size = 3) +\n",
    "            annotate(\"text\", x = 0, y = 10, label = TeX('Favors Small $\\\\rightarrow$'), size = 3) +\n",
    "            annotate(\"text\", x = -0.5, y = -2, label = \"\") + scale_colour_grey(start = 0.5, end = 0.5)\n",
    "pstartNE"
   ]
  },
  {
   "cell_type": "markdown",
   "metadata": {},
   "source": [
    "# Fast and Slow revisited"
   ]
  },
  {
   "cell_type": "code",
   "execution_count": 114,
   "metadata": {},
   "outputs": [
    {
     "name": "stderr",
     "output_type": "stream",
     "text": [
      "Warning message:\n",
      "\"attributes are not identical across measure variables;\n",
      "they will be dropped\"Warning message:\n",
      "\"attributes are not identical across measure variables;\n",
      "they will be dropped\""
     ]
    }
   ],
   "source": [
    "# NOT All observed:\n",
    "df <- headC %>% na.omit()\n",
    "headC_NO_NA <- headC %>% filter(!is.na(HeadCircumcm1) & !is.na(HCcm4))\n",
    "weight_NO_NA <- weight %>% filter(!is.na(BABYWeigth1g) & !is.na(BABYWeigth4g))\n",
    "\n",
    "headCLong_NO_NA <- headC_NO_NA %>% gather(weekNames, head, -id, -group, -sex) %>% group_by(id) %>% nest()\n",
    "weightLong_NO_NA <- weight_NO_NA %>% gather(weekNames, weight, -id, -group, -sex) %>% group_by(id) %>% nest()"
   ]
  },
  {
   "cell_type": "code",
   "execution_count": 124,
   "metadata": {},
   "outputs": [
    {
     "data": {
      "text/html": [
       "<table>\n",
       "<caption>A tibble: 4 × 4</caption>\n",
       "<thead>\n",
       "\t<tr><th scope=col>group</th><th scope=col>sex</th><th scope=col>weekNames</th><th scope=col>head</th></tr>\n",
       "\t<tr><th scope=col>&lt;fct&gt;</th><th scope=col>&lt;fct&gt;</th><th scope=col>&lt;chr&gt;</th><th scope=col>&lt;dbl&gt;</th></tr>\n",
       "</thead>\n",
       "<tbody>\n",
       "\t<tr><td>teen</td><td>girl</td><td>HeadCircumcm1</td><td>34</td></tr>\n",
       "\t<tr><td>teen</td><td>girl</td><td>HCcm2        </td><td>37</td></tr>\n",
       "\t<tr><td>teen</td><td>girl</td><td>HCcm3        </td><td>39</td></tr>\n",
       "\t<tr><td>teen</td><td>girl</td><td>HCcm4        </td><td>42</td></tr>\n",
       "</tbody>\n",
       "</table>\n"
      ],
      "text/latex": [
       "A tibble: 4 × 4\n",
       "\\begin{tabular}{r|llll}\n",
       " group & sex & weekNames & head\\\\\n",
       " <fct> & <fct> & <chr> & <dbl>\\\\\n",
       "\\hline\n",
       "\t teen & girl & HeadCircumcm1 & 34\\\\\n",
       "\t teen & girl & HCcm2         & 37\\\\\n",
       "\t teen & girl & HCcm3         & 39\\\\\n",
       "\t teen & girl & HCcm4         & 42\\\\\n",
       "\\end{tabular}\n"
      ],
      "text/markdown": [
       "\n",
       "A tibble: 4 × 4\n",
       "\n",
       "| group &lt;fct&gt; | sex &lt;fct&gt; | weekNames &lt;chr&gt; | head &lt;dbl&gt; |\n",
       "|---|---|---|---|\n",
       "| teen | girl | HeadCircumcm1 | 34 |\n",
       "| teen | girl | HCcm2         | 37 |\n",
       "| teen | girl | HCcm3         | 39 |\n",
       "| teen | girl | HCcm4         | 42 |\n",
       "\n"
      ],
      "text/plain": [
       "  group sex  weekNames     head\n",
       "1 teen  girl HeadCircumcm1 34  \n",
       "2 teen  girl HCcm2         37  \n",
       "3 teen  girl HCcm3         39  \n",
       "4 teen  girl HCcm4         42  "
      ]
     },
     "metadata": {},
     "output_type": "display_data"
    }
   ],
   "source": [
    "n_HC <- dim(headCLong_NO_NA)[1]\n",
    "n_W <- dim(weightLong_NO_NA)[1]\n",
    "\n",
    "headCLong_NO_NA$data[[1]]"
   ]
  },
  {
   "cell_type": "code",
   "execution_count": 131,
   "metadata": {},
   "outputs": [
    {
     "data": {
      "text/html": [
       "<table>\n",
       "<caption>A tibble: 4 × 5</caption>\n",
       "<thead>\n",
       "\t<tr><th scope=col>group</th><th scope=col>sex</th><th scope=col>weekNames</th><th scope=col>head</th><th scope=col>week</th></tr>\n",
       "\t<tr><th scope=col>&lt;fct&gt;</th><th scope=col>&lt;fct&gt;</th><th scope=col>&lt;chr&gt;</th><th scope=col>&lt;dbl&gt;</th><th scope=col>&lt;dbl&gt;</th></tr>\n",
       "</thead>\n",
       "<tbody>\n",
       "\t<tr><td>teen</td><td>boy</td><td>HeadCircumcm1</td><td>35</td><td> 1</td></tr>\n",
       "\t<tr><td>teen</td><td>boy</td><td>HCcm2        </td><td>36</td><td> 2</td></tr>\n",
       "\t<tr><td>teen</td><td>boy</td><td>HCcm3        </td><td>39</td><td> 4</td></tr>\n",
       "\t<tr><td>teen</td><td>boy</td><td>HCcm4        </td><td>44</td><td>16</td></tr>\n",
       "</tbody>\n",
       "</table>\n"
      ],
      "text/latex": [
       "A tibble: 4 × 5\n",
       "\\begin{tabular}{r|lllll}\n",
       " group & sex & weekNames & head & week\\\\\n",
       " <fct> & <fct> & <chr> & <dbl> & <dbl>\\\\\n",
       "\\hline\n",
       "\t teen & boy & HeadCircumcm1 & 35 &  1\\\\\n",
       "\t teen & boy & HCcm2         & 36 &  2\\\\\n",
       "\t teen & boy & HCcm3         & 39 &  4\\\\\n",
       "\t teen & boy & HCcm4         & 44 & 16\\\\\n",
       "\\end{tabular}\n"
      ],
      "text/markdown": [
       "\n",
       "A tibble: 4 × 5\n",
       "\n",
       "| group &lt;fct&gt; | sex &lt;fct&gt; | weekNames &lt;chr&gt; | head &lt;dbl&gt; | week &lt;dbl&gt; |\n",
       "|---|---|---|---|---|\n",
       "| teen | boy | HeadCircumcm1 | 35 |  1 |\n",
       "| teen | boy | HCcm2         | 36 |  2 |\n",
       "| teen | boy | HCcm3         | 39 |  4 |\n",
       "| teen | boy | HCcm4         | 44 | 16 |\n",
       "\n"
      ],
      "text/plain": [
       "  group sex weekNames     head week\n",
       "1 teen  boy HeadCircumcm1 35    1  \n",
       "2 teen  boy HCcm2         36    2  \n",
       "3 teen  boy HCcm3         39    4  \n",
       "4 teen  boy HCcm4         44   16  "
      ]
     },
     "metadata": {},
     "output_type": "display_data"
    },
    {
     "data": {
      "text/html": [
       "<table>\n",
       "<caption>A tibble: 4 × 5</caption>\n",
       "<thead>\n",
       "\t<tr><th scope=col>group</th><th scope=col>sex</th><th scope=col>weekNames</th><th scope=col>weight</th><th scope=col>week</th></tr>\n",
       "\t<tr><th scope=col>&lt;fct&gt;</th><th scope=col>&lt;fct&gt;</th><th scope=col>&lt;chr&gt;</th><th scope=col>&lt;dbl&gt;</th><th scope=col>&lt;dbl&gt;</th></tr>\n",
       "</thead>\n",
       "<tbody>\n",
       "\t<tr><td>teen</td><td>girl</td><td>BABYWeigth1g</td><td>3492.70</td><td> 1</td></tr>\n",
       "\t<tr><td>teen</td><td>girl</td><td>BABYWeigth2g</td><td>3592.50</td><td> 2</td></tr>\n",
       "\t<tr><td>teen</td><td>girl</td><td>BABYWeigth3g</td><td>5488.60</td><td> 4</td></tr>\n",
       "\t<tr><td>teen</td><td>girl</td><td>BABYWeigth4g</td><td>8282.74</td><td>16</td></tr>\n",
       "</tbody>\n",
       "</table>\n"
      ],
      "text/latex": [
       "A tibble: 4 × 5\n",
       "\\begin{tabular}{r|lllll}\n",
       " group & sex & weekNames & weight & week\\\\\n",
       " <fct> & <fct> & <chr> & <dbl> & <dbl>\\\\\n",
       "\\hline\n",
       "\t teen & girl & BABYWeigth1g & 3492.70 &  1\\\\\n",
       "\t teen & girl & BABYWeigth2g & 3592.50 &  2\\\\\n",
       "\t teen & girl & BABYWeigth3g & 5488.60 &  4\\\\\n",
       "\t teen & girl & BABYWeigth4g & 8282.74 & 16\\\\\n",
       "\\end{tabular}\n"
      ],
      "text/markdown": [
       "\n",
       "A tibble: 4 × 5\n",
       "\n",
       "| group &lt;fct&gt; | sex &lt;fct&gt; | weekNames &lt;chr&gt; | weight &lt;dbl&gt; | week &lt;dbl&gt; |\n",
       "|---|---|---|---|---|\n",
       "| teen | girl | BABYWeigth1g | 3492.70 |  1 |\n",
       "| teen | girl | BABYWeigth2g | 3592.50 |  2 |\n",
       "| teen | girl | BABYWeigth3g | 5488.60 |  4 |\n",
       "| teen | girl | BABYWeigth4g | 8282.74 | 16 |\n",
       "\n"
      ],
      "text/plain": [
       "  group sex  weekNames    weight  week\n",
       "1 teen  girl BABYWeigth1g 3492.70  1  \n",
       "2 teen  girl BABYWeigth2g 3592.50  2  \n",
       "3 teen  girl BABYWeigth3g 5488.60  4  \n",
       "4 teen  girl BABYWeigth4g 8282.74 16  "
      ]
     },
     "metadata": {},
     "output_type": "display_data"
    }
   ],
   "source": [
    "for(i in 1:n_HC){\n",
    "    headCLong_NO_NA$data[[i]] <- headCLong_NO_NA$data[[i]] %>% mutate(week = c(1, 2 ,4, 16))\n",
    "}\n",
    "\n",
    "for(i in 1:n_W){\n",
    "    weightLong_NO_NA$data[[i]] <- weightLong_NO_NA$data[[i]] %>% mutate(week = c(1, 2 ,4, 16))\n",
    "}\n",
    "\n",
    "\n",
    "headCLong_NO_NA$data[[3]]\n",
    "weightLong_NO_NA$data[[1]]"
   ]
  },
  {
   "cell_type": "code",
   "execution_count": 132,
   "metadata": {
    "collapsed": true
   },
   "outputs": [],
   "source": [
    "hcMod <- function(df){\n",
    "    \n",
    "    mhc <- lm(head~week, data = df)\n",
    "    \n",
    "    return(mhc)\n",
    "}"
   ]
  },
  {
   "cell_type": "code",
   "execution_count": 134,
   "metadata": {
    "collapsed": true
   },
   "outputs": [],
   "source": [
    "wMod <- function(df){\n",
    "    \n",
    "    mw <- lm(weight~week, data = df)\n",
    "    \n",
    "    return(mw)\n",
    "}"
   ]
  },
  {
   "cell_type": "code",
   "execution_count": 174,
   "metadata": {},
   "outputs": [
    {
     "data": {
      "text/plain": [
       "\n",
       "Call:\n",
       "lm(formula = head ~ week, data = df)\n",
       "\n",
       "Coefficients:\n",
       "(Intercept)         week  \n",
       "    35.5371       0.4283  \n"
      ]
     },
     "metadata": {},
     "output_type": "display_data"
    },
    {
     "data": {
      "text/html": [
       "<table>\n",
       "<caption>A tibble: 2 × 5</caption>\n",
       "<thead>\n",
       "\t<tr><th scope=col>term</th><th scope=col>estimate</th><th scope=col>std.error</th><th scope=col>statistic</th><th scope=col>p.value</th></tr>\n",
       "\t<tr><th scope=col>&lt;chr&gt;</th><th scope=col>&lt;dbl&gt;</th><th scope=col>&lt;dbl&gt;</th><th scope=col>&lt;dbl&gt;</th><th scope=col>&lt;dbl&gt;</th></tr>\n",
       "</thead>\n",
       "<tbody>\n",
       "\t<tr><td>(Intercept)</td><td>35.5371330</td><td>1.3343967</td><td>26.631610</td><td>0.00140698</td></tr>\n",
       "\t<tr><td>week       </td><td> 0.4283247</td><td>0.1603523</td><td> 2.671149</td><td>0.11622249</td></tr>\n",
       "</tbody>\n",
       "</table>\n"
      ],
      "text/latex": [
       "A tibble: 2 × 5\n",
       "\\begin{tabular}{r|lllll}\n",
       " term & estimate & std.error & statistic & p.value\\\\\n",
       " <chr> & <dbl> & <dbl> & <dbl> & <dbl>\\\\\n",
       "\\hline\n",
       "\t (Intercept) & 35.5371330 & 1.3343967 & 26.631610 & 0.00140698\\\\\n",
       "\t week        &  0.4283247 & 0.1603523 &  2.671149 & 0.11622249\\\\\n",
       "\\end{tabular}\n"
      ],
      "text/markdown": [
       "\n",
       "A tibble: 2 × 5\n",
       "\n",
       "| term &lt;chr&gt; | estimate &lt;dbl&gt; | std.error &lt;dbl&gt; | statistic &lt;dbl&gt; | p.value &lt;dbl&gt; |\n",
       "|---|---|---|---|---|\n",
       "| (Intercept) | 35.5371330 | 1.3343967 | 26.631610 | 0.00140698 |\n",
       "| week        |  0.4283247 | 0.1603523 |  2.671149 | 0.11622249 |\n",
       "\n"
      ],
      "text/plain": [
       "  term        estimate   std.error statistic p.value   \n",
       "1 (Intercept) 35.5371330 1.3343967 26.631610 0.00140698\n",
       "2 week         0.4283247 0.1603523  2.671149 0.11622249"
      ]
     },
     "metadata": {},
     "output_type": "display_data"
    }
   ],
   "source": [
    "headCLong_NO_NA <- headCLong_NO_NA %>% mutate(model = map(data, hcMod), tidy = map(model, broom::tidy))\n",
    "weightLong_NO_NA <- weightLong_NO_NA %>% mutate(model = map(data, wMod), tidy = map(model, broom::tidy))\n",
    "\n",
    "headCLong_NO_NA$model[[1]]\n",
    "headCLong_NO_NA$tidy[[1]]"
   ]
  },
  {
   "cell_type": "code",
   "execution_count": 182,
   "metadata": {},
   "outputs": [
    {
     "data": {
      "text/html": [
       "<table>\n",
       "<caption>A tibble: 18 × 9</caption>\n",
       "<thead>\n",
       "\t<tr><th scope=col>id</th><th scope=col>term</th><th scope=col>estimate</th><th scope=col>std.error</th><th scope=col>statistic</th><th scope=col>p.value</th><th scope=col>hc13</th><th scope=col>hc23</th><th scope=col>percentile</th></tr>\n",
       "\t<tr><th scope=col>&lt;fct&gt;</th><th scope=col>&lt;chr&gt;</th><th scope=col>&lt;dbl&gt;</th><th scope=col>&lt;dbl&gt;</th><th scope=col>&lt;dbl&gt;</th><th scope=col>&lt;dbl&gt;</th><th scope=col>&lt;dbl&gt;</th><th scope=col>&lt;dbl&gt;</th><th scope=col>&lt;chr&gt;</th></tr>\n",
       "</thead>\n",
       "<tbody>\n",
       "\t<tr><td>1 </td><td>(Intercept)</td><td>35.5371330</td><td>1.3343967</td><td>26.631610</td><td>0.0014069797</td><td>33.9810017</td><td>35.0535406</td><td>third</td></tr>\n",
       "\t<tr><td>1 </td><td>week       </td><td> 0.4283247</td><td>0.1603523</td><td> 2.671149</td><td>0.1162224917</td><td> 0.3506045</td><td> 0.4283247</td><td>third</td></tr>\n",
       "\t<tr><td>2 </td><td>(Intercept)</td><td>35.8134715</td><td>0.7468153</td><td>47.954925</td><td>0.0004345607</td><td>33.9810017</td><td>35.0535406</td><td>third</td></tr>\n",
       "\t<tr><td>6 </td><td>(Intercept)</td><td>35.2625216</td><td>0.8628270</td><td>40.868589</td><td>0.0005981786</td><td>33.9810017</td><td>35.0535406</td><td>third</td></tr>\n",
       "\t<tr><td>6 </td><td>week       </td><td> 0.5630397</td><td>0.1036845</td><td> 5.430317</td><td>0.0322787393</td><td> 0.3506045</td><td> 0.4283247</td><td>third</td></tr>\n",
       "\t<tr><td>7 </td><td>(Intercept)</td><td>35.0535406</td><td>1.5005296</td><td>23.360779</td><td>0.0018274001</td><td>33.9810017</td><td>35.0535406</td><td>third</td></tr>\n",
       "\t<tr><td>8 </td><td>(Intercept)</td><td>35.1381693</td><td>1.2832609</td><td>27.381937</td><td>0.0013310792</td><td>33.9810017</td><td>35.0535406</td><td>third</td></tr>\n",
       "\t<tr><td>8 </td><td>week       </td><td> 0.4542314</td><td>0.1542074</td><td> 2.945589</td><td>0.0985164645</td><td> 0.3506045</td><td> 0.4283247</td><td>third</td></tr>\n",
       "\t<tr><td>11</td><td>week       </td><td> 0.4573460</td><td>0.1518623</td><td> 3.011584</td><td>0.2040978690</td><td> 0.3506045</td><td> 0.4283247</td><td>third</td></tr>\n",
       "\t<tr><td>20</td><td>week       </td><td> 0.4663212</td><td>0.1103193</td><td> 4.227014</td><td>0.0516678711</td><td> 0.3506045</td><td> 0.4283247</td><td>third</td></tr>\n",
       "\t<tr><td>30</td><td>(Intercept)</td><td>35.8963731</td><td>1.4257024</td><td>25.178027</td><td>0.0015737309</td><td>33.9810017</td><td>35.0535406</td><td>third</td></tr>\n",
       "\t<tr><td>41</td><td>week       </td><td> 0.5250432</td><td>0.1451188</td><td> 3.618022</td><td>0.0686232547</td><td> 0.3506045</td><td> 0.4283247</td><td>third</td></tr>\n",
       "\t<tr><td>48</td><td>(Intercept)</td><td>38.0587219</td><td>1.7661183</td><td>21.549361</td><td>0.0021465011</td><td>33.9810017</td><td>35.0535406</td><td>third</td></tr>\n",
       "\t<tr><td>48</td><td>week       </td><td> 0.4680484</td><td>0.2122315</td><td> 2.205367</td><td>0.1582105209</td><td> 0.3506045</td><td> 0.4283247</td><td>third</td></tr>\n",
       "\t<tr><td>52</td><td>week       </td><td> 0.4663212</td><td>0.1103193</td><td> 4.227014</td><td>0.0516678711</td><td> 0.3506045</td><td> 0.4283247</td><td>third</td></tr>\n",
       "\t<tr><td>54</td><td>(Intercept)</td><td>35.5716753</td><td>0.7605195</td><td>46.772866</td><td>0.0004567877</td><td>33.9810017</td><td>35.0535406</td><td>third</td></tr>\n",
       "\t<tr><td>59</td><td>(Intercept)</td><td>37.0138169</td><td>1.7449383</td><td>21.212107</td><td>0.0022150704</td><td>33.9810017</td><td>35.0535406</td><td>third</td></tr>\n",
       "\t<tr><td>64</td><td>week       </td><td> 0.4542314</td><td>0.1542074</td><td> 2.945589</td><td>0.0985164645</td><td> 0.3506045</td><td> 0.4283247</td><td>third</td></tr>\n",
       "</tbody>\n",
       "</table>\n"
      ],
      "text/latex": [
       "A tibble: 18 × 9\n",
       "\\begin{tabular}{r|lllllllll}\n",
       " id & term & estimate & std.error & statistic & p.value & hc13 & hc23 & percentile\\\\\n",
       " <fct> & <chr> & <dbl> & <dbl> & <dbl> & <dbl> & <dbl> & <dbl> & <chr>\\\\\n",
       "\\hline\n",
       "\t 1  & (Intercept) & 35.5371330 & 1.3343967 & 26.631610 & 0.0014069797 & 33.9810017 & 35.0535406 & third\\\\\n",
       "\t 1  & week        &  0.4283247 & 0.1603523 &  2.671149 & 0.1162224917 &  0.3506045 &  0.4283247 & third\\\\\n",
       "\t 2  & (Intercept) & 35.8134715 & 0.7468153 & 47.954925 & 0.0004345607 & 33.9810017 & 35.0535406 & third\\\\\n",
       "\t 6  & (Intercept) & 35.2625216 & 0.8628270 & 40.868589 & 0.0005981786 & 33.9810017 & 35.0535406 & third\\\\\n",
       "\t 6  & week        &  0.5630397 & 0.1036845 &  5.430317 & 0.0322787393 &  0.3506045 &  0.4283247 & third\\\\\n",
       "\t 7  & (Intercept) & 35.0535406 & 1.5005296 & 23.360779 & 0.0018274001 & 33.9810017 & 35.0535406 & third\\\\\n",
       "\t 8  & (Intercept) & 35.1381693 & 1.2832609 & 27.381937 & 0.0013310792 & 33.9810017 & 35.0535406 & third\\\\\n",
       "\t 8  & week        &  0.4542314 & 0.1542074 &  2.945589 & 0.0985164645 &  0.3506045 &  0.4283247 & third\\\\\n",
       "\t 11 & week        &  0.4573460 & 0.1518623 &  3.011584 & 0.2040978690 &  0.3506045 &  0.4283247 & third\\\\\n",
       "\t 20 & week        &  0.4663212 & 0.1103193 &  4.227014 & 0.0516678711 &  0.3506045 &  0.4283247 & third\\\\\n",
       "\t 30 & (Intercept) & 35.8963731 & 1.4257024 & 25.178027 & 0.0015737309 & 33.9810017 & 35.0535406 & third\\\\\n",
       "\t 41 & week        &  0.5250432 & 0.1451188 &  3.618022 & 0.0686232547 &  0.3506045 &  0.4283247 & third\\\\\n",
       "\t 48 & (Intercept) & 38.0587219 & 1.7661183 & 21.549361 & 0.0021465011 & 33.9810017 & 35.0535406 & third\\\\\n",
       "\t 48 & week        &  0.4680484 & 0.2122315 &  2.205367 & 0.1582105209 &  0.3506045 &  0.4283247 & third\\\\\n",
       "\t 52 & week        &  0.4663212 & 0.1103193 &  4.227014 & 0.0516678711 &  0.3506045 &  0.4283247 & third\\\\\n",
       "\t 54 & (Intercept) & 35.5716753 & 0.7605195 & 46.772866 & 0.0004567877 & 33.9810017 & 35.0535406 & third\\\\\n",
       "\t 59 & (Intercept) & 37.0138169 & 1.7449383 & 21.212107 & 0.0022150704 & 33.9810017 & 35.0535406 & third\\\\\n",
       "\t 64 & week        &  0.4542314 & 0.1542074 &  2.945589 & 0.0985164645 &  0.3506045 &  0.4283247 & third\\\\\n",
       "\\end{tabular}\n"
      ],
      "text/markdown": [
       "\n",
       "A tibble: 18 × 9\n",
       "\n",
       "| id &lt;fct&gt; | term &lt;chr&gt; | estimate &lt;dbl&gt; | std.error &lt;dbl&gt; | statistic &lt;dbl&gt; | p.value &lt;dbl&gt; | hc13 &lt;dbl&gt; | hc23 &lt;dbl&gt; | percentile &lt;chr&gt; |\n",
       "|---|---|---|---|---|---|---|---|---|\n",
       "| 1  | (Intercept) | 35.5371330 | 1.3343967 | 26.631610 | 0.0014069797 | 33.9810017 | 35.0535406 | third |\n",
       "| 1  | week        |  0.4283247 | 0.1603523 |  2.671149 | 0.1162224917 |  0.3506045 |  0.4283247 | third |\n",
       "| 2  | (Intercept) | 35.8134715 | 0.7468153 | 47.954925 | 0.0004345607 | 33.9810017 | 35.0535406 | third |\n",
       "| 6  | (Intercept) | 35.2625216 | 0.8628270 | 40.868589 | 0.0005981786 | 33.9810017 | 35.0535406 | third |\n",
       "| 6  | week        |  0.5630397 | 0.1036845 |  5.430317 | 0.0322787393 |  0.3506045 |  0.4283247 | third |\n",
       "| 7  | (Intercept) | 35.0535406 | 1.5005296 | 23.360779 | 0.0018274001 | 33.9810017 | 35.0535406 | third |\n",
       "| 8  | (Intercept) | 35.1381693 | 1.2832609 | 27.381937 | 0.0013310792 | 33.9810017 | 35.0535406 | third |\n",
       "| 8  | week        |  0.4542314 | 0.1542074 |  2.945589 | 0.0985164645 |  0.3506045 |  0.4283247 | third |\n",
       "| 11 | week        |  0.4573460 | 0.1518623 |  3.011584 | 0.2040978690 |  0.3506045 |  0.4283247 | third |\n",
       "| 20 | week        |  0.4663212 | 0.1103193 |  4.227014 | 0.0516678711 |  0.3506045 |  0.4283247 | third |\n",
       "| 30 | (Intercept) | 35.8963731 | 1.4257024 | 25.178027 | 0.0015737309 | 33.9810017 | 35.0535406 | third |\n",
       "| 41 | week        |  0.5250432 | 0.1451188 |  3.618022 | 0.0686232547 |  0.3506045 |  0.4283247 | third |\n",
       "| 48 | (Intercept) | 38.0587219 | 1.7661183 | 21.549361 | 0.0021465011 | 33.9810017 | 35.0535406 | third |\n",
       "| 48 | week        |  0.4680484 | 0.2122315 |  2.205367 | 0.1582105209 |  0.3506045 |  0.4283247 | third |\n",
       "| 52 | week        |  0.4663212 | 0.1103193 |  4.227014 | 0.0516678711 |  0.3506045 |  0.4283247 | third |\n",
       "| 54 | (Intercept) | 35.5716753 | 0.7605195 | 46.772866 | 0.0004567877 | 33.9810017 | 35.0535406 | third |\n",
       "| 59 | (Intercept) | 37.0138169 | 1.7449383 | 21.212107 | 0.0022150704 | 33.9810017 | 35.0535406 | third |\n",
       "| 64 | week        |  0.4542314 | 0.1542074 |  2.945589 | 0.0985164645 |  0.3506045 |  0.4283247 | third |\n",
       "\n"
      ],
      "text/plain": [
       "   id term        estimate   std.error statistic p.value      hc13      \n",
       "1  1  (Intercept) 35.5371330 1.3343967 26.631610 0.0014069797 33.9810017\n",
       "2  1  week         0.4283247 0.1603523  2.671149 0.1162224917  0.3506045\n",
       "3  2  (Intercept) 35.8134715 0.7468153 47.954925 0.0004345607 33.9810017\n",
       "4  6  (Intercept) 35.2625216 0.8628270 40.868589 0.0005981786 33.9810017\n",
       "5  6  week         0.5630397 0.1036845  5.430317 0.0322787393  0.3506045\n",
       "6  7  (Intercept) 35.0535406 1.5005296 23.360779 0.0018274001 33.9810017\n",
       "7  8  (Intercept) 35.1381693 1.2832609 27.381937 0.0013310792 33.9810017\n",
       "8  8  week         0.4542314 0.1542074  2.945589 0.0985164645  0.3506045\n",
       "9  11 week         0.4573460 0.1518623  3.011584 0.2040978690  0.3506045\n",
       "10 20 week         0.4663212 0.1103193  4.227014 0.0516678711  0.3506045\n",
       "11 30 (Intercept) 35.8963731 1.4257024 25.178027 0.0015737309 33.9810017\n",
       "12 41 week         0.5250432 0.1451188  3.618022 0.0686232547  0.3506045\n",
       "13 48 (Intercept) 38.0587219 1.7661183 21.549361 0.0021465011 33.9810017\n",
       "14 48 week         0.4680484 0.2122315  2.205367 0.1582105209  0.3506045\n",
       "15 52 week         0.4663212 0.1103193  4.227014 0.0516678711  0.3506045\n",
       "16 54 (Intercept) 35.5716753 0.7605195 46.772866 0.0004567877 33.9810017\n",
       "17 59 (Intercept) 37.0138169 1.7449383 21.212107 0.0022150704 33.9810017\n",
       "18 64 week         0.4542314 0.1542074  2.945589 0.0985164645  0.3506045\n",
       "   hc23       percentile\n",
       "1  35.0535406 third     \n",
       "2   0.4283247 third     \n",
       "3  35.0535406 third     \n",
       "4  35.0535406 third     \n",
       "5   0.4283247 third     \n",
       "6  35.0535406 third     \n",
       "7  35.0535406 third     \n",
       "8   0.4283247 third     \n",
       "9   0.4283247 third     \n",
       "10  0.4283247 third     \n",
       "11 35.0535406 third     \n",
       "12  0.4283247 third     \n",
       "13 35.0535406 third     \n",
       "14  0.4283247 third     \n",
       "15  0.4283247 third     \n",
       "16 35.0535406 third     \n",
       "17 35.0535406 third     \n",
       "18  0.4283247 third     "
      ]
     },
     "metadata": {},
     "output_type": "display_data"
    }
   ],
   "source": [
    "weekHC <- headCLong_NO_NA %>% select(id, tidy) %>% unnest() %>% filter(term == \"week\")\n",
    "hc13 <- percentil(weekHC$estimate, 1/3)$value\n",
    "hc23 <- percentil(weekHC$estimate, 2/3)$value\n",
    "\n",
    "hc_coefs <-\n",
    "    headCLong_NO_NA %>% select(id, tidy) %>% unnest() %>% group_by(term) %>% \n",
    "        mutate(hc13 = percentil(estimate, 1/3)$value, hc23 = percentil(estimate, 2/3)$value) %>%\n",
    "        mutate(percentile = ifelse(estimate <= hc13, 'first', ifelse(estimate >= hc23, 'third', 'second'))) %>%\n",
    "        filter(percentile %in% c('fisrt', 'third'))\n",
    "\n",
    "hc_coefs"
   ]
  },
  {
   "cell_type": "markdown",
   "metadata": {},
   "source": [
    "## Sum of branched AA"
   ]
  },
  {
   "cell_type": "code",
   "execution_count": 113,
   "metadata": {
    "collapsed": true
   },
   "outputs": [],
   "source": [
    "AA_E_Branched <- AA_E_Long %>% filter(AA %in% c('LEU', 'ILE', 'VAL', 'THR'))\n",
    "AA_NE_ARG <- AA_E_Long %>% filter(AA == 'ARG')"
   ]
  },
  {
   "cell_type": "code",
   "execution_count": 115,
   "metadata": {},
   "outputs": [
    {
     "data": {
      "text/html": [
       "<table>\n",
       "<caption>A tibble: 6 × 10</caption>\n",
       "<thead>\n",
       "\t<tr><th scope=col>id</th><th scope=col>group</th><th scope=col>age</th><th scope=col>sex</th><th scope=col>weekNames</th><th scope=col>level</th><th scope=col>week</th><th scope=col>AA</th><th scope=col>speed</th><th scope=col>start</th></tr>\n",
       "\t<tr><th scope=col>&lt;fct&gt;</th><th scope=col>&lt;fct&gt;</th><th scope=col>&lt;dbl&gt;</th><th scope=col>&lt;fct&gt;</th><th scope=col>&lt;chr&gt;</th><th scope=col>&lt;dbl&gt;</th><th scope=col>&lt;dbl&gt;</th><th scope=col>&lt;chr&gt;</th><th scope=col>&lt;chr&gt;</th><th scope=col>&lt;chr&gt;</th></tr>\n",
       "</thead>\n",
       "<tbody>\n",
       "\t<tr><td>1 </td><td>teen</td><td>17</td><td>girl</td><td>ILECalostrum</td><td>0</td><td>1</td><td>ILE</td><td>fast</td><td>big  </td></tr>\n",
       "\t<tr><td>2 </td><td>teen</td><td>16</td><td>boy </td><td>ILECalostrum</td><td>0</td><td>1</td><td>ILE</td><td>fast</td><td>big  </td></tr>\n",
       "\t<tr><td>6 </td><td>teen</td><td>16</td><td>boy </td><td>ILECalostrum</td><td>1</td><td>1</td><td>ILE</td><td>fast</td><td>big  </td></tr>\n",
       "\t<tr><td>8 </td><td>teen</td><td>16</td><td>boy </td><td>ILECalostrum</td><td>1</td><td>1</td><td>ILE</td><td>fast</td><td>big  </td></tr>\n",
       "\t<tr><td>23</td><td>teen</td><td>16</td><td>boy </td><td>ILECalostrum</td><td>0</td><td>1</td><td>ILE</td><td>slow</td><td>small</td></tr>\n",
       "\t<tr><td>30</td><td>teen</td><td>17</td><td>boy </td><td>ILECalostrum</td><td>1</td><td>1</td><td>ILE</td><td>fast</td><td>big  </td></tr>\n",
       "</tbody>\n",
       "</table>\n"
      ],
      "text/latex": [
       "A tibble: 6 × 10\n",
       "\\begin{tabular}{r|llllllllll}\n",
       " id & group & age & sex & weekNames & level & week & AA & speed & start\\\\\n",
       " <fct> & <fct> & <dbl> & <fct> & <chr> & <dbl> & <dbl> & <chr> & <chr> & <chr>\\\\\n",
       "\\hline\n",
       "\t 1  & teen & 17 & girl & ILECalostrum & 0 & 1 & ILE & fast & big  \\\\\n",
       "\t 2  & teen & 16 & boy  & ILECalostrum & 0 & 1 & ILE & fast & big  \\\\\n",
       "\t 6  & teen & 16 & boy  & ILECalostrum & 1 & 1 & ILE & fast & big  \\\\\n",
       "\t 8  & teen & 16 & boy  & ILECalostrum & 1 & 1 & ILE & fast & big  \\\\\n",
       "\t 23 & teen & 16 & boy  & ILECalostrum & 0 & 1 & ILE & slow & small\\\\\n",
       "\t 30 & teen & 17 & boy  & ILECalostrum & 1 & 1 & ILE & fast & big  \\\\\n",
       "\\end{tabular}\n"
      ],
      "text/markdown": [
       "\n",
       "A tibble: 6 × 10\n",
       "\n",
       "| id &lt;fct&gt; | group &lt;fct&gt; | age &lt;dbl&gt; | sex &lt;fct&gt; | weekNames &lt;chr&gt; | level &lt;dbl&gt; | week &lt;dbl&gt; | AA &lt;chr&gt; | speed &lt;chr&gt; | start &lt;chr&gt; |\n",
       "|---|---|---|---|---|---|---|---|---|---|\n",
       "| 1  | teen | 17 | girl | ILECalostrum | 0 | 1 | ILE | fast | big   |\n",
       "| 2  | teen | 16 | boy  | ILECalostrum | 0 | 1 | ILE | fast | big   |\n",
       "| 6  | teen | 16 | boy  | ILECalostrum | 1 | 1 | ILE | fast | big   |\n",
       "| 8  | teen | 16 | boy  | ILECalostrum | 1 | 1 | ILE | fast | big   |\n",
       "| 23 | teen | 16 | boy  | ILECalostrum | 0 | 1 | ILE | slow | small |\n",
       "| 30 | teen | 17 | boy  | ILECalostrum | 1 | 1 | ILE | fast | big   |\n",
       "\n"
      ],
      "text/plain": [
       "  id group age sex  weekNames    level week AA  speed start\n",
       "1 1  teen  17  girl ILECalostrum 0     1    ILE fast  big  \n",
       "2 2  teen  16  boy  ILECalostrum 0     1    ILE fast  big  \n",
       "3 6  teen  16  boy  ILECalostrum 1     1    ILE fast  big  \n",
       "4 8  teen  16  boy  ILECalostrum 1     1    ILE fast  big  \n",
       "5 23 teen  16  boy  ILECalostrum 0     1    ILE slow  small\n",
       "6 30 teen  17  boy  ILECalostrum 1     1    ILE fast  big  "
      ]
     },
     "metadata": {},
     "output_type": "display_data"
    }
   ],
   "source": [
    "AA_E_Branched_NO_NA <- AA_E_Branched %>% filter(id %in% headC_NO_NA$id)\n",
    "\n",
    "AA_E_Branched_NO_NA <- AA_E_Branched_NO_NA %>% \n",
    "        inner_join(hc_growth %>% select(id, speed = hc_speed, start = first_hc), by = 'id') %>% \n",
    "        filter(speed != 'moderate')\n",
    "\n",
    "head(AA_E_Branched_NO_NA)"
   ]
  },
  {
   "cell_type": "code",
   "execution_count": 117,
   "metadata": {},
   "outputs": [
    {
     "data": {
      "text/html": [
       "<table>\n",
       "<caption>A tibble: 4 × 10</caption>\n",
       "<thead>\n",
       "\t<tr><th scope=col>id</th><th scope=col>group</th><th scope=col>age</th><th scope=col>sex</th><th scope=col>weekNames</th><th scope=col>level</th><th scope=col>week</th><th scope=col>AA</th><th scope=col>speed</th><th scope=col>start</th></tr>\n",
       "\t<tr><th scope=col>&lt;fct&gt;</th><th scope=col>&lt;fct&gt;</th><th scope=col>&lt;dbl&gt;</th><th scope=col>&lt;fct&gt;</th><th scope=col>&lt;chr&gt;</th><th scope=col>&lt;dbl&gt;</th><th scope=col>&lt;dbl&gt;</th><th scope=col>&lt;chr&gt;</th><th scope=col>&lt;chr&gt;</th><th scope=col>&lt;chr&gt;</th></tr>\n",
       "</thead>\n",
       "<tbody>\n",
       "\t<tr><td>1</td><td>teen</td><td>17</td><td>girl</td><td>ILECalostrum</td><td>0</td><td>1</td><td>ILE</td><td>fast</td><td>big</td></tr>\n",
       "\t<tr><td>1</td><td>teen</td><td>17</td><td>girl</td><td>LEUCalostrum</td><td>1</td><td>1</td><td>LEU</td><td>fast</td><td>big</td></tr>\n",
       "\t<tr><td>1</td><td>teen</td><td>17</td><td>girl</td><td>THRCalostrum</td><td>5</td><td>1</td><td>THR</td><td>fast</td><td>big</td></tr>\n",
       "\t<tr><td>1</td><td>teen</td><td>17</td><td>girl</td><td>VALCalostrum</td><td>2</td><td>1</td><td>VAL</td><td>fast</td><td>big</td></tr>\n",
       "</tbody>\n",
       "</table>\n"
      ],
      "text/latex": [
       "A tibble: 4 × 10\n",
       "\\begin{tabular}{r|llllllllll}\n",
       " id & group & age & sex & weekNames & level & week & AA & speed & start\\\\\n",
       " <fct> & <fct> & <dbl> & <fct> & <chr> & <dbl> & <dbl> & <chr> & <chr> & <chr>\\\\\n",
       "\\hline\n",
       "\t 1 & teen & 17 & girl & ILECalostrum & 0 & 1 & ILE & fast & big\\\\\n",
       "\t 1 & teen & 17 & girl & LEUCalostrum & 1 & 1 & LEU & fast & big\\\\\n",
       "\t 1 & teen & 17 & girl & THRCalostrum & 5 & 1 & THR & fast & big\\\\\n",
       "\t 1 & teen & 17 & girl & VALCalostrum & 2 & 1 & VAL & fast & big\\\\\n",
       "\\end{tabular}\n"
      ],
      "text/markdown": [
       "\n",
       "A tibble: 4 × 10\n",
       "\n",
       "| id &lt;fct&gt; | group &lt;fct&gt; | age &lt;dbl&gt; | sex &lt;fct&gt; | weekNames &lt;chr&gt; | level &lt;dbl&gt; | week &lt;dbl&gt; | AA &lt;chr&gt; | speed &lt;chr&gt; | start &lt;chr&gt; |\n",
       "|---|---|---|---|---|---|---|---|---|---|\n",
       "| 1 | teen | 17 | girl | ILECalostrum | 0 | 1 | ILE | fast | big |\n",
       "| 1 | teen | 17 | girl | LEUCalostrum | 1 | 1 | LEU | fast | big |\n",
       "| 1 | teen | 17 | girl | THRCalostrum | 5 | 1 | THR | fast | big |\n",
       "| 1 | teen | 17 | girl | VALCalostrum | 2 | 1 | VAL | fast | big |\n",
       "\n"
      ],
      "text/plain": [
       "  id group age sex  weekNames    level week AA  speed start\n",
       "1 1  teen  17  girl ILECalostrum 0     1    ILE fast  big  \n",
       "2 1  teen  17  girl LEUCalostrum 1     1    LEU fast  big  \n",
       "3 1  teen  17  girl THRCalostrum 5     1    THR fast  big  \n",
       "4 1  teen  17  girl VALCalostrum 2     1    VAL fast  big  "
      ]
     },
     "metadata": {},
     "output_type": "display_data"
    },
    {
     "data": {
      "text/html": [
       "<table>\n",
       "<caption>A tibble: 6 × 7</caption>\n",
       "<thead>\n",
       "\t<tr><th scope=col>id</th><th scope=col>week</th><th scope=col>sex</th><th scope=col>age</th><th scope=col>speed</th><th scope=col>start</th><th scope=col>level</th></tr>\n",
       "\t<tr><th scope=col>&lt;fct&gt;</th><th scope=col>&lt;dbl&gt;</th><th scope=col>&lt;fct&gt;</th><th scope=col>&lt;dbl&gt;</th><th scope=col>&lt;chr&gt;</th><th scope=col>&lt;chr&gt;</th><th scope=col>&lt;dbl&gt;</th></tr>\n",
       "</thead>\n",
       "<tbody>\n",
       "\t<tr><td>1</td><td> 1</td><td>girl</td><td>17</td><td>fast</td><td>big</td><td> 8</td></tr>\n",
       "\t<tr><td>1</td><td> 2</td><td>girl</td><td>17</td><td>fast</td><td>big</td><td>18</td></tr>\n",
       "\t<tr><td>1</td><td> 8</td><td>girl</td><td>17</td><td>fast</td><td>big</td><td>13</td></tr>\n",
       "\t<tr><td>1</td><td>16</td><td>girl</td><td>17</td><td>fast</td><td>big</td><td>16</td></tr>\n",
       "\t<tr><td>2</td><td> 1</td><td>boy </td><td>16</td><td>fast</td><td>big</td><td> 3</td></tr>\n",
       "\t<tr><td>2</td><td> 2</td><td>boy </td><td>16</td><td>fast</td><td>big</td><td>15</td></tr>\n",
       "</tbody>\n",
       "</table>\n"
      ],
      "text/latex": [
       "A tibble: 6 × 7\n",
       "\\begin{tabular}{r|lllllll}\n",
       " id & week & sex & age & speed & start & level\\\\\n",
       " <fct> & <dbl> & <fct> & <dbl> & <chr> & <chr> & <dbl>\\\\\n",
       "\\hline\n",
       "\t 1 &  1 & girl & 17 & fast & big &  8\\\\\n",
       "\t 1 &  2 & girl & 17 & fast & big & 18\\\\\n",
       "\t 1 &  8 & girl & 17 & fast & big & 13\\\\\n",
       "\t 1 & 16 & girl & 17 & fast & big & 16\\\\\n",
       "\t 2 &  1 & boy  & 16 & fast & big &  3\\\\\n",
       "\t 2 &  2 & boy  & 16 & fast & big & 15\\\\\n",
       "\\end{tabular}\n"
      ],
      "text/markdown": [
       "\n",
       "A tibble: 6 × 7\n",
       "\n",
       "| id &lt;fct&gt; | week &lt;dbl&gt; | sex &lt;fct&gt; | age &lt;dbl&gt; | speed &lt;chr&gt; | start &lt;chr&gt; | level &lt;dbl&gt; |\n",
       "|---|---|---|---|---|---|---|\n",
       "| 1 |  1 | girl | 17 | fast | big |  8 |\n",
       "| 1 |  2 | girl | 17 | fast | big | 18 |\n",
       "| 1 |  8 | girl | 17 | fast | big | 13 |\n",
       "| 1 | 16 | girl | 17 | fast | big | 16 |\n",
       "| 2 |  1 | boy  | 16 | fast | big |  3 |\n",
       "| 2 |  2 | boy  | 16 | fast | big | 15 |\n",
       "\n"
      ],
      "text/plain": [
       "  id week sex  age speed start level\n",
       "1 1   1   girl 17  fast  big    8   \n",
       "2 1   2   girl 17  fast  big   18   \n",
       "3 1   8   girl 17  fast  big   13   \n",
       "4 1  16   girl 17  fast  big   16   \n",
       "5 2   1   boy  16  fast  big    3   \n",
       "6 2   2   boy  16  fast  big   15   "
      ]
     },
     "metadata": {},
     "output_type": "display_data"
    }
   ],
   "source": [
    "AA_E_Branched_NO_NA %>% filter(id == 1, week == 1)\n",
    "AA_E_Branched_sum <- AA_E_Branched_NO_NA %>% group_by(id, week, sex, age, speed, start) %>% summarise(level = sum(level))\n",
    "head(AA_E_Branched_sum)"
   ]
  },
  {
   "cell_type": "code",
   "execution_count": 119,
   "metadata": {},
   "outputs": [
    {
     "data": {
      "text/plain": [
       "Linear mixed model fit by REML ['lmerMod']\n",
       "Formula: level ~ sex + week + speed + (1 | id)\n",
       "   Data: AA_E_Branched_sum\n",
       "\n",
       "REML criterion at convergence: 302.9\n",
       "\n",
       "Scaled residuals: \n",
       "     Min       1Q   Median       3Q      Max \n",
       "-2.06304 -0.69700 -0.03534  0.46882  2.71698 \n",
       "\n",
       "Random effects:\n",
       " Groups   Name        Variance Std.Dev.\n",
       " id       (Intercept)  6.068   2.463   \n",
       " Residual             19.172   4.379   \n",
       "Number of obs: 52, groups:  id, 14\n",
       "\n",
       "Fixed effects:\n",
       "            Estimate Std. Error t value\n",
       "(Intercept)  11.1866     1.9994   5.595\n",
       "sexboy        0.4602     1.9891   0.231\n",
       "week          0.2047     0.1013   2.020\n",
       "speedslow    -2.8183     1.8207  -1.548\n",
       "\n",
       "Correlation of Fixed Effects:\n",
       "          (Intr) sexboy week  \n",
       "sexboy    -0.738              \n",
       "week      -0.323  0.002       \n",
       "speedslow -0.430  0.074 -0.032"
      ]
     },
     "metadata": {},
     "output_type": "display_data"
    }
   ],
   "source": [
    "me_branched <- lmer(level ~ sex + week + speed + (1| id), data = AA_E_Branched_sum)\n",
    "\n",
    "summary(me_branched)"
   ]
  },
  {
   "cell_type": "code",
   "execution_count": 122,
   "metadata": {},
   "outputs": [
    {
     "data": {
      "text/html": [
       "<table>\n",
       "<caption>A tibble: 4 × 4</caption>\n",
       "<thead>\n",
       "\t<tr><th scope=col>term</th><th scope=col>estimate</th><th scope=col>std.error</th><th scope=col>statistic</th></tr>\n",
       "\t<tr><th scope=col>&lt;chr&gt;</th><th scope=col>&lt;dbl&gt;</th><th scope=col>&lt;dbl&gt;</th><th scope=col>&lt;dbl&gt;</th></tr>\n",
       "</thead>\n",
       "<tbody>\n",
       "\t<tr><td>(Intercept)</td><td>11.1866295</td><td>1.9993683</td><td> 5.595082</td></tr>\n",
       "\t<tr><td>sexboy     </td><td> 0.4601614</td><td>1.9890875</td><td> 0.231343</td></tr>\n",
       "\t<tr><td>week       </td><td> 0.2046873</td><td>0.1013425</td><td> 2.019758</td></tr>\n",
       "\t<tr><td>speedslow  </td><td>-2.8183401</td><td>1.8207397</td><td>-1.547909</td></tr>\n",
       "</tbody>\n",
       "</table>\n"
      ],
      "text/latex": [
       "A tibble: 4 × 4\n",
       "\\begin{tabular}{r|llll}\n",
       " term & estimate & std.error & statistic\\\\\n",
       " <chr> & <dbl> & <dbl> & <dbl>\\\\\n",
       "\\hline\n",
       "\t (Intercept) & 11.1866295 & 1.9993683 &  5.595082\\\\\n",
       "\t sexboy      &  0.4601614 & 1.9890875 &  0.231343\\\\\n",
       "\t week        &  0.2046873 & 0.1013425 &  2.019758\\\\\n",
       "\t speedslow   & -2.8183401 & 1.8207397 & -1.547909\\\\\n",
       "\\end{tabular}\n"
      ],
      "text/markdown": [
       "\n",
       "A tibble: 4 × 4\n",
       "\n",
       "| term &lt;chr&gt; | estimate &lt;dbl&gt; | std.error &lt;dbl&gt; | statistic &lt;dbl&gt; |\n",
       "|---|---|---|---|\n",
       "| (Intercept) | 11.1866295 | 1.9993683 |  5.595082 |\n",
       "| sexboy      |  0.4601614 | 1.9890875 |  0.231343 |\n",
       "| week        |  0.2046873 | 0.1013425 |  2.019758 |\n",
       "| speedslow   | -2.8183401 | 1.8207397 | -1.547909 |\n",
       "\n"
      ],
      "text/plain": [
       "  term        estimate   std.error statistic\n",
       "1 (Intercept) 11.1866295 1.9993683  5.595082\n",
       "2 sexboy       0.4601614 1.9890875  0.231343\n",
       "3 week         0.2046873 0.1013425  2.019758\n",
       "4 speedslow   -2.8183401 1.8207397 -1.547909"
      ]
     },
     "metadata": {},
     "output_type": "display_data"
    }
   ],
   "source": [
    "tidy_branched <- tidy(me_branched, effects = 'fixed') \n",
    "tidy_branched"
   ]
  },
  {
   "cell_type": "markdown",
   "metadata": {},
   "source": [
    "## Predicting head circumference"
   ]
  },
  {
   "cell_type": "code",
   "execution_count": 90,
   "metadata": {},
   "outputs": [
    {
     "data": {
      "text/html": [
       "<table>\n",
       "<caption>A tibble: 6 × 8</caption>\n",
       "<thead>\n",
       "\t<tr><th scope=col>id</th><th scope=col>group</th><th scope=col>sex</th><th scope=col>head</th><th scope=col>week</th><th scope=col>age</th><th scope=col>BRANCHED</th><th scope=col>SIGNIFICATIVE</th></tr>\n",
       "\t<tr><th scope=col>&lt;fct&gt;</th><th scope=col>&lt;fct&gt;</th><th scope=col>&lt;fct&gt;</th><th scope=col>&lt;dbl&gt;</th><th scope=col>&lt;dbl&gt;</th><th scope=col>&lt;dbl&gt;</th><th scope=col>&lt;dbl&gt;</th><th scope=col>&lt;dbl&gt;</th></tr>\n",
       "</thead>\n",
       "<tbody>\n",
       "\t<tr><td>1</td><td>teen</td><td>girl</td><td>34</td><td>1</td><td>17</td><td>3</td><td>101</td></tr>\n",
       "\t<tr><td>2</td><td>teen</td><td>boy </td><td>35</td><td>1</td><td>16</td><td>2</td><td>  7</td></tr>\n",
       "\t<tr><td>3</td><td>teen</td><td>boy </td><td>35</td><td>1</td><td>17</td><td>5</td><td> 62</td></tr>\n",
       "\t<tr><td>4</td><td>teen</td><td>boy </td><td>37</td><td>1</td><td>16</td><td>3</td><td> 39</td></tr>\n",
       "\t<tr><td>5</td><td>teen</td><td>NA  </td><td>34</td><td>1</td><td>16</td><td>2</td><td> 26</td></tr>\n",
       "\t<tr><td>6</td><td>teen</td><td>boy </td><td>35</td><td>1</td><td>16</td><td>3</td><td> 36</td></tr>\n",
       "</tbody>\n",
       "</table>\n"
      ],
      "text/latex": [
       "A tibble: 6 × 8\n",
       "\\begin{tabular}{r|llllllll}\n",
       " id & group & sex & head & week & age & BRANCHED & SIGNIFICATIVE\\\\\n",
       " <fct> & <fct> & <fct> & <dbl> & <dbl> & <dbl> & <dbl> & <dbl>\\\\\n",
       "\\hline\n",
       "\t 1 & teen & girl & 34 & 1 & 17 & 3 & 101\\\\\n",
       "\t 2 & teen & boy  & 35 & 1 & 16 & 2 &   7\\\\\n",
       "\t 3 & teen & boy  & 35 & 1 & 17 & 5 &  62\\\\\n",
       "\t 4 & teen & boy  & 37 & 1 & 16 & 3 &  39\\\\\n",
       "\t 5 & teen & NA   & 34 & 1 & 16 & 2 &  26\\\\\n",
       "\t 6 & teen & boy  & 35 & 1 & 16 & 3 &  36\\\\\n",
       "\\end{tabular}\n"
      ],
      "text/markdown": [
       "\n",
       "A tibble: 6 × 8\n",
       "\n",
       "| id &lt;fct&gt; | group &lt;fct&gt; | sex &lt;fct&gt; | head &lt;dbl&gt; | week &lt;dbl&gt; | age &lt;dbl&gt; | BRANCHED &lt;dbl&gt; | SIGNIFICATIVE &lt;dbl&gt; |\n",
       "|---|---|---|---|---|---|---|---|\n",
       "| 1 | teen | girl | 34 | 1 | 17 | 3 | 101 |\n",
       "| 2 | teen | boy  | 35 | 1 | 16 | 2 |   7 |\n",
       "| 3 | teen | boy  | 35 | 1 | 17 | 5 |  62 |\n",
       "| 4 | teen | boy  | 37 | 1 | 16 | 3 |  39 |\n",
       "| 5 | teen | NA   | 34 | 1 | 16 | 2 |  26 |\n",
       "| 6 | teen | boy  | 35 | 1 | 16 | 3 |  36 |\n",
       "\n"
      ],
      "text/plain": [
       "  id group sex  head week age BRANCHED SIGNIFICATIVE\n",
       "1 1  teen  girl 34   1    17  3        101          \n",
       "2 2  teen  boy  35   1    16  2          7          \n",
       "3 3  teen  boy  35   1    17  5         62          \n",
       "4 4  teen  boy  37   1    16  3         39          \n",
       "5 5  teen  NA   34   1    16  2         26          \n",
       "6 6  teen  boy  35   1    16  3         36          "
      ]
     },
     "metadata": {},
     "output_type": "display_data"
    }
   ],
   "source": [
    "AA_branched_Long <- \n",
    "    AA_E_Long %>% filter(AA %in% c('VAL', 'ISO', 'LEU', 'ARG')) %>% \n",
    "            group_by(id, week, age) %>% summarise(BRANCHED = sum(level, na.rm = T))\n",
    "\n",
    "AA_significative_Long <- \n",
    "    AA_NE_Long %>% filter(AA %in% c('GLU', 'GLY', 'CYS', 'TYR')) %>% \n",
    "            group_by(id, week, age) %>% summarise(SIGNIFICATIVE = sum(level, na.rm = T))\n",
    "\n",
    "head_pred <-\n",
    "    headCLong %>% select(-weekNames) %>% inner_join(AA_branched_Long, by = c('id', 'week')) %>% \n",
    "                inner_join(AA_significative_Long, by = c('id', 'week', 'age'))\n",
    "\n",
    "head(head_pred)"
   ]
  },
  {
   "cell_type": "code",
   "execution_count": 91,
   "metadata": {},
   "outputs": [
    {
     "data": {
      "text/plain": [
       "\n",
       "Call:\n",
       "lm(formula = head ~ sex + week + BRANCHED + SIGNIFICATIVE, data = head_pred)\n",
       "\n",
       "Residuals:\n",
       "    Min      1Q  Median      3Q     Max \n",
       "-3.5793 -0.9749  0.0408  0.8565  5.7974 \n",
       "\n",
       "Coefficients:\n",
       "               Estimate Std. Error t value Pr(>|t|)    \n",
       "(Intercept)   33.376629   0.314135 106.249   <2e-16 ***\n",
       "sexboy         0.530318   0.249093   2.129   0.0349 *  \n",
       "week           0.411955   0.024168  17.046   <2e-16 ***\n",
       "BRANCHED       0.013383   0.052156   0.257   0.7978    \n",
       "SIGNIFICATIVE  0.003954   0.003089   1.280   0.2025    \n",
       "---\n",
       "Signif. codes:  0 '***' 0.001 '**' 0.01 '*' 0.05 '.' 0.1 ' ' 1\n",
       "\n",
       "Residual standard error: 1.496 on 152 degrees of freedom\n",
       "  (103 observations deleted due to missingness)\n",
       "Multiple R-squared:  0.7327,\tAdjusted R-squared:  0.7256 \n",
       "F-statistic: 104.1 on 4 and 152 DF,  p-value: < 2.2e-16\n"
      ]
     },
     "metadata": {},
     "output_type": "display_data"
    },
    {
     "data": {
      "text/plain": [
       "Linear mixed model fit by REML ['lmerMod']\n",
       "Formula: head ~ sex + week + BRANCHED + SIGNIFICATIVE + (1 | id)\n",
       "   Data: head_pred\n",
       "\n",
       "REML criterion at convergence: 539.4\n",
       "\n",
       "Scaled residuals: \n",
       "     Min       1Q   Median       3Q      Max \n",
       "-2.33112 -0.55591  0.06058  0.54084  2.84294 \n",
       "\n",
       "Random effects:\n",
       " Groups   Name        Variance Std.Dev.\n",
       " id       (Intercept) 1.269    1.1263  \n",
       " Residual             0.956    0.9778  \n",
       "Number of obs: 157, groups:  id, 54\n",
       "\n",
       "Fixed effects:\n",
       "               Estimate Std. Error t value\n",
       "(Intercept)   33.092113   0.334118  99.043\n",
       "sexboy         0.576831   0.358635   1.608\n",
       "week           0.405269   0.017402  23.289\n",
       "BRANCHED       0.016609   0.040104   0.414\n",
       "SIGNIFICATIVE  0.006326   0.002420   2.614\n",
       "\n",
       "Correlation of Fixed Effects:\n",
       "            (Intr) sexboy week   BRANCH\n",
       "sexboy      -0.631                     \n",
       "week         0.015  0.036              \n",
       "BRANCHED    -0.306  0.026  0.024       \n",
       "SIGNIFICATI -0.194 -0.064 -0.478 -0.501"
      ]
     },
     "metadata": {},
     "output_type": "display_data"
    }
   ],
   "source": [
    "hc_mod <- lmer(head ~ sex + week + BRANCHED + SIGNIFICATIVE + (1 | id), data = head_pred)\n",
    "\n",
    "lm_hc_mod <- lm(head ~ sex + week + BRANCHED + SIGNIFICATIVE, data = head_pred)\n",
    "\n",
    "\n",
    "summary(lm_hc_mod)\n",
    "summary(hc_mod)"
   ]
  },
  {
   "cell_type": "code",
   "execution_count": null,
   "metadata": {
    "collapsed": true
   },
   "outputs": [],
   "source": []
  }
 ],
 "metadata": {
  "kernelspec": {
   "display_name": "R",
   "language": "R",
   "name": "ir"
  },
  "language_info": {
   "codemirror_mode": "r",
   "file_extension": ".r",
   "mimetype": "text/x-r-source",
   "name": "R",
   "pygments_lexer": "r",
   "version": "3.6.0"
  }
 },
 "nbformat": 4,
 "nbformat_minor": 2
}
