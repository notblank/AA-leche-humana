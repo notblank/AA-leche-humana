{
 "cells": [
  {
   "cell_type": "code",
   "execution_count": 1,
   "metadata": {},
   "outputs": [
    {
     "name": "stderr",
     "output_type": "stream",
     "text": [
      "── \u001b[1mAttaching packages\u001b[22m ─────────────────────────────────────── tidyverse 1.2.1 ──\n",
      "\u001b[32m✔\u001b[39m \u001b[34mggplot2\u001b[39m 3.2.0     \u001b[32m✔\u001b[39m \u001b[34mpurrr  \u001b[39m 0.3.2\n",
      "\u001b[32m✔\u001b[39m \u001b[34mtibble \u001b[39m 2.1.3     \u001b[32m✔\u001b[39m \u001b[34mdplyr  \u001b[39m 0.8.2\n",
      "\u001b[32m✔\u001b[39m \u001b[34mtidyr  \u001b[39m 0.8.3     \u001b[32m✔\u001b[39m \u001b[34mstringr\u001b[39m 1.4.0\n",
      "\u001b[32m✔\u001b[39m \u001b[34mreadr  \u001b[39m 1.3.1     \u001b[32m✔\u001b[39m \u001b[34mforcats\u001b[39m 0.4.0\n",
      "── \u001b[1mConflicts\u001b[22m ────────────────────────────────────────── tidyverse_conflicts() ──\n",
      "\u001b[31m✖\u001b[39m \u001b[34mdplyr\u001b[39m::\u001b[32mfilter()\u001b[39m masks \u001b[34mstats\u001b[39m::filter()\n",
      "\u001b[31m✖\u001b[39m \u001b[34mdplyr\u001b[39m::\u001b[32mlag()\u001b[39m    masks \u001b[34mstats\u001b[39m::lag()\n",
      "Loading required package: Matrix\n",
      "\n",
      "Attaching package: ‘Matrix’\n",
      "\n",
      "The following object is masked from ‘package:tidyr’:\n",
      "\n",
      "    expand\n",
      "\n"
     ]
    }
   ],
   "source": [
    "library(haven)\n",
    "library(tidyverse)\n",
    "library(broom)\n",
    "library(lme4) "
   ]
  },
  {
   "cell_type": "markdown",
   "metadata": {},
   "source": [
    "# Missing at random"
   ]
  },
  {
   "cell_type": "code",
   "execution_count": 2,
   "metadata": {},
   "outputs": [
    {
     "data": {
      "text/html": [
       "<table>\n",
       "<caption>A data.frame: 6 × 9</caption>\n",
       "<thead>\n",
       "\t<tr><th scope=col>X</th><th scope=col>id</th><th scope=col>group</th><th scope=col>age</th><th scope=col>sex</th><th scope=col>weekNames</th><th scope=col>level</th><th scope=col>week</th><th scope=col>AA</th></tr>\n",
       "\t<tr><th scope=col>&lt;int&gt;</th><th scope=col>&lt;int&gt;</th><th scope=col>&lt;fct&gt;</th><th scope=col>&lt;int&gt;</th><th scope=col>&lt;fct&gt;</th><th scope=col>&lt;fct&gt;</th><th scope=col>&lt;int&gt;</th><th scope=col>&lt;int&gt;</th><th scope=col>&lt;fct&gt;</th></tr>\n",
       "</thead>\n",
       "<tbody>\n",
       "\t<tr><td>1</td><td>1</td><td>teen</td><td>17</td><td>girl</td><td>ARGCalostrum</td><td>1</td><td>1</td><td>ARG</td></tr>\n",
       "\t<tr><td>2</td><td>2</td><td>teen</td><td>16</td><td>boy </td><td>ARGCalostrum</td><td>1</td><td>1</td><td>ARG</td></tr>\n",
       "\t<tr><td>3</td><td>3</td><td>teen</td><td>17</td><td>boy </td><td>ARGCalostrum</td><td>1</td><td>1</td><td>ARG</td></tr>\n",
       "\t<tr><td>4</td><td>4</td><td>teen</td><td>16</td><td>boy </td><td>ARGCalostrum</td><td>1</td><td>1</td><td>ARG</td></tr>\n",
       "\t<tr><td>5</td><td>5</td><td>teen</td><td>16</td><td>NA  </td><td>ARGCalostrum</td><td>2</td><td>1</td><td>ARG</td></tr>\n",
       "\t<tr><td>6</td><td>6</td><td>teen</td><td>16</td><td>boy </td><td>ARGCalostrum</td><td>2</td><td>1</td><td>ARG</td></tr>\n",
       "</tbody>\n",
       "</table>\n"
      ],
      "text/latex": [
       "A data.frame: 6 × 9\n",
       "\\begin{tabular}{r|lllllllll}\n",
       " X & id & group & age & sex & weekNames & level & week & AA\\\\\n",
       " <int> & <int> & <fct> & <int> & <fct> & <fct> & <int> & <int> & <fct>\\\\\n",
       "\\hline\n",
       "\t 1 & 1 & teen & 17 & girl & ARGCalostrum & 1 & 1 & ARG\\\\\n",
       "\t 2 & 2 & teen & 16 & boy  & ARGCalostrum & 1 & 1 & ARG\\\\\n",
       "\t 3 & 3 & teen & 17 & boy  & ARGCalostrum & 1 & 1 & ARG\\\\\n",
       "\t 4 & 4 & teen & 16 & boy  & ARGCalostrum & 1 & 1 & ARG\\\\\n",
       "\t 5 & 5 & teen & 16 & NA   & ARGCalostrum & 2 & 1 & ARG\\\\\n",
       "\t 6 & 6 & teen & 16 & boy  & ARGCalostrum & 2 & 1 & ARG\\\\\n",
       "\\end{tabular}\n"
      ],
      "text/markdown": [
       "\n",
       "A data.frame: 6 × 9\n",
       "\n",
       "| X &lt;int&gt; | id &lt;int&gt; | group &lt;fct&gt; | age &lt;int&gt; | sex &lt;fct&gt; | weekNames &lt;fct&gt; | level &lt;int&gt; | week &lt;int&gt; | AA &lt;fct&gt; |\n",
       "|---|---|---|---|---|---|---|---|---|\n",
       "| 1 | 1 | teen | 17 | girl | ARGCalostrum | 1 | 1 | ARG |\n",
       "| 2 | 2 | teen | 16 | boy  | ARGCalostrum | 1 | 1 | ARG |\n",
       "| 3 | 3 | teen | 17 | boy  | ARGCalostrum | 1 | 1 | ARG |\n",
       "| 4 | 4 | teen | 16 | boy  | ARGCalostrum | 1 | 1 | ARG |\n",
       "| 5 | 5 | teen | 16 | NA   | ARGCalostrum | 2 | 1 | ARG |\n",
       "| 6 | 6 | teen | 16 | boy  | ARGCalostrum | 2 | 1 | ARG |\n",
       "\n"
      ],
      "text/plain": [
       "  X id group age sex  weekNames    level week AA \n",
       "1 1 1  teen  17  girl ARGCalostrum 1     1    ARG\n",
       "2 2 2  teen  16  boy  ARGCalostrum 1     1    ARG\n",
       "3 3 3  teen  17  boy  ARGCalostrum 1     1    ARG\n",
       "4 4 4  teen  16  boy  ARGCalostrum 1     1    ARG\n",
       "5 5 5  teen  16  NA   ARGCalostrum 2     1    ARG\n",
       "6 6 6  teen  16  boy  ARGCalostrum 2     1    ARG"
      ]
     },
     "metadata": {},
     "output_type": "display_data"
    },
    {
     "data": {
      "text/html": [
       "<table>\n",
       "<caption>A data.frame: 6 × 18</caption>\n",
       "<thead>\n",
       "\t<tr><th scope=col>X</th><th scope=col>id</th><th scope=col>group</th><th scope=col>momAge</th><th scope=col>sex</th><th scope=col>momHeight</th><th scope=col>momWeight</th><th scope=col>kcal</th><th scope=col>prot</th><th scope=col>cho</th><th scope=col>lipids</th><th scope=col>glu</th><th scope=col>choles</th><th scope=col>trig</th><th scope=col>hdl</th><th scope=col>ldl</th><th scope=col>album</th><th scope=col>BMI</th></tr>\n",
       "\t<tr><th scope=col>&lt;int&gt;</th><th scope=col>&lt;int&gt;</th><th scope=col>&lt;fct&gt;</th><th scope=col>&lt;int&gt;</th><th scope=col>&lt;fct&gt;</th><th scope=col>&lt;dbl&gt;</th><th scope=col>&lt;dbl&gt;</th><th scope=col>&lt;int&gt;</th><th scope=col>&lt;int&gt;</th><th scope=col>&lt;int&gt;</th><th scope=col>&lt;int&gt;</th><th scope=col>&lt;dbl&gt;</th><th scope=col>&lt;dbl&gt;</th><th scope=col>&lt;dbl&gt;</th><th scope=col>&lt;dbl&gt;</th><th scope=col>&lt;dbl&gt;</th><th scope=col>&lt;dbl&gt;</th><th scope=col>&lt;dbl&gt;</th></tr>\n",
       "</thead>\n",
       "<tbody>\n",
       "\t<tr><td>1</td><td>1</td><td>teen</td><td>17</td><td>girl</td><td>1.48</td><td>54.4</td><td>4204</td><td>103</td><td>759</td><td>86</td><td>115.0</td><td>205</td><td>304.9</td><td>23.7</td><td>120.4</td><td>4.44</td><td>24.84</td></tr>\n",
       "\t<tr><td>2</td><td>2</td><td>teen</td><td>16</td><td>boy </td><td>1.52</td><td>74.7</td><td>1586</td><td> 27</td><td>242</td><td>34</td><td>107.8</td><td>196</td><td>193.0</td><td>34.5</td><td>122.9</td><td>4.42</td><td>32.33</td></tr>\n",
       "\t<tr><td>3</td><td>3</td><td>teen</td><td>17</td><td>boy </td><td>1.55</td><td>56.4</td><td>2052</td><td> 88</td><td>281</td><td>67</td><td> 87.2</td><td>346</td><td>285.0</td><td>23.0</td><td>266.0</td><td>4.79</td><td>23.48</td></tr>\n",
       "\t<tr><td>4</td><td>4</td><td>teen</td><td>16</td><td>boy </td><td>1.60</td><td>65.9</td><td>  NA</td><td> NA</td><td> NA</td><td>NA</td><td> 95.7</td><td>273</td><td>143.2</td><td>39.9</td><td>204.4</td><td>4.47</td><td>25.74</td></tr>\n",
       "\t<tr><td>5</td><td>5</td><td>teen</td><td>16</td><td>NA  </td><td>1.51</td><td>56.5</td><td>1621</td><td> 63</td><td>270</td><td>38</td><td> 73.9</td><td>266</td><td>123.0</td><td>37.7</td><td>203.7</td><td>4.39</td><td>24.78</td></tr>\n",
       "\t<tr><td>6</td><td>6</td><td>teen</td><td>16</td><td>boy </td><td>1.57</td><td>71.2</td><td>1932</td><td>100</td><td>311</td><td>28</td><td>100.7</td><td>224</td><td>289.0</td><td>21.9</td><td>144.3</td><td>4.49</td><td>28.89</td></tr>\n",
       "</tbody>\n",
       "</table>\n"
      ],
      "text/latex": [
       "A data.frame: 6 × 18\n",
       "\\begin{tabular}{r|llllllllllllllllll}\n",
       " X & id & group & momAge & sex & momHeight & momWeight & kcal & prot & cho & lipids & glu & choles & trig & hdl & ldl & album & BMI\\\\\n",
       " <int> & <int> & <fct> & <int> & <fct> & <dbl> & <dbl> & <int> & <int> & <int> & <int> & <dbl> & <dbl> & <dbl> & <dbl> & <dbl> & <dbl> & <dbl>\\\\\n",
       "\\hline\n",
       "\t 1 & 1 & teen & 17 & girl & 1.48 & 54.4 & 4204 & 103 & 759 & 86 & 115.0 & 205 & 304.9 & 23.7 & 120.4 & 4.44 & 24.84\\\\\n",
       "\t 2 & 2 & teen & 16 & boy  & 1.52 & 74.7 & 1586 &  27 & 242 & 34 & 107.8 & 196 & 193.0 & 34.5 & 122.9 & 4.42 & 32.33\\\\\n",
       "\t 3 & 3 & teen & 17 & boy  & 1.55 & 56.4 & 2052 &  88 & 281 & 67 &  87.2 & 346 & 285.0 & 23.0 & 266.0 & 4.79 & 23.48\\\\\n",
       "\t 4 & 4 & teen & 16 & boy  & 1.60 & 65.9 &   NA &  NA &  NA & NA &  95.7 & 273 & 143.2 & 39.9 & 204.4 & 4.47 & 25.74\\\\\n",
       "\t 5 & 5 & teen & 16 & NA   & 1.51 & 56.5 & 1621 &  63 & 270 & 38 &  73.9 & 266 & 123.0 & 37.7 & 203.7 & 4.39 & 24.78\\\\\n",
       "\t 6 & 6 & teen & 16 & boy  & 1.57 & 71.2 & 1932 & 100 & 311 & 28 & 100.7 & 224 & 289.0 & 21.9 & 144.3 & 4.49 & 28.89\\\\\n",
       "\\end{tabular}\n"
      ],
      "text/markdown": [
       "\n",
       "A data.frame: 6 × 18\n",
       "\n",
       "| X &lt;int&gt; | id &lt;int&gt; | group &lt;fct&gt; | momAge &lt;int&gt; | sex &lt;fct&gt; | momHeight &lt;dbl&gt; | momWeight &lt;dbl&gt; | kcal &lt;int&gt; | prot &lt;int&gt; | cho &lt;int&gt; | lipids &lt;int&gt; | glu &lt;dbl&gt; | choles &lt;dbl&gt; | trig &lt;dbl&gt; | hdl &lt;dbl&gt; | ldl &lt;dbl&gt; | album &lt;dbl&gt; | BMI &lt;dbl&gt; |\n",
       "|---|---|---|---|---|---|---|---|---|---|---|---|---|---|---|---|---|---|\n",
       "| 1 | 1 | teen | 17 | girl | 1.48 | 54.4 | 4204 | 103 | 759 | 86 | 115.0 | 205 | 304.9 | 23.7 | 120.4 | 4.44 | 24.84 |\n",
       "| 2 | 2 | teen | 16 | boy  | 1.52 | 74.7 | 1586 |  27 | 242 | 34 | 107.8 | 196 | 193.0 | 34.5 | 122.9 | 4.42 | 32.33 |\n",
       "| 3 | 3 | teen | 17 | boy  | 1.55 | 56.4 | 2052 |  88 | 281 | 67 |  87.2 | 346 | 285.0 | 23.0 | 266.0 | 4.79 | 23.48 |\n",
       "| 4 | 4 | teen | 16 | boy  | 1.60 | 65.9 |   NA |  NA |  NA | NA |  95.7 | 273 | 143.2 | 39.9 | 204.4 | 4.47 | 25.74 |\n",
       "| 5 | 5 | teen | 16 | NA   | 1.51 | 56.5 | 1621 |  63 | 270 | 38 |  73.9 | 266 | 123.0 | 37.7 | 203.7 | 4.39 | 24.78 |\n",
       "| 6 | 6 | teen | 16 | boy  | 1.57 | 71.2 | 1932 | 100 | 311 | 28 | 100.7 | 224 | 289.0 | 21.9 | 144.3 | 4.49 | 28.89 |\n",
       "\n"
      ],
      "text/plain": [
       "  X id group momAge sex  momHeight momWeight kcal prot cho lipids glu   choles\n",
       "1 1 1  teen  17     girl 1.48      54.4      4204 103  759 86     115.0 205   \n",
       "2 2 2  teen  16     boy  1.52      74.7      1586  27  242 34     107.8 196   \n",
       "3 3 3  teen  17     boy  1.55      56.4      2052  88  281 67      87.2 346   \n",
       "4 4 4  teen  16     boy  1.60      65.9        NA  NA   NA NA      95.7 273   \n",
       "5 5 5  teen  16     NA   1.51      56.5      1621  63  270 38      73.9 266   \n",
       "6 6 6  teen  16     boy  1.57      71.2      1932 100  311 28     100.7 224   \n",
       "  trig  hdl  ldl   album BMI  \n",
       "1 304.9 23.7 120.4 4.44  24.84\n",
       "2 193.0 34.5 122.9 4.42  32.33\n",
       "3 285.0 23.0 266.0 4.79  23.48\n",
       "4 143.2 39.9 204.4 4.47  25.74\n",
       "5 123.0 37.7 203.7 4.39  24.78\n",
       "6 289.0 21.9 144.3 4.49  28.89"
      ]
     },
     "metadata": {},
     "output_type": "display_data"
    }
   ],
   "source": [
    "AA_E_Long <- read.csv('./datos/AA_E_Long.csv')\n",
    "AA_NE_Long <- read.csv('./datos/AA_NE_Long.csv')\n",
    "\n",
    "moms <- read.csv('./datos/moms.csv')\n",
    "\n",
    "head(AA_NE_Long)\n",
    "head(moms)"
   ]
  },
  {
   "cell_type": "code",
   "execution_count": 3,
   "metadata": {},
   "outputs": [],
   "source": [
    "weightLong <- read.csv('./datos/weightLong.csv')\n",
    "headCLong <- read.csv('./datos/headCLong.csv')"
   ]
  },
  {
   "cell_type": "code",
   "execution_count": 4,
   "metadata": {},
   "outputs": [
    {
     "data": {
      "text/html": [
       "<table>\n",
       "<caption>A data.frame: 6 × 10</caption>\n",
       "<thead>\n",
       "\t<tr><th scope=col>X</th><th scope=col>id</th><th scope=col>group</th><th scope=col>age</th><th scope=col>sex</th><th scope=col>weekNames</th><th scope=col>level</th><th scope=col>week</th><th scope=col>AA</th><th scope=col>missing data</th></tr>\n",
       "\t<tr><th scope=col>&lt;int&gt;</th><th scope=col>&lt;int&gt;</th><th scope=col>&lt;fct&gt;</th><th scope=col>&lt;int&gt;</th><th scope=col>&lt;fct&gt;</th><th scope=col>&lt;fct&gt;</th><th scope=col>&lt;int&gt;</th><th scope=col>&lt;int&gt;</th><th scope=col>&lt;fct&gt;</th><th scope=col>&lt;dbl&gt;</th></tr>\n",
       "</thead>\n",
       "<tbody>\n",
       "\t<tr><td>1</td><td>1</td><td>teen</td><td>17</td><td>girl</td><td>ARGCalostrum</td><td>1</td><td>1</td><td>ARG</td><td>0</td></tr>\n",
       "\t<tr><td>2</td><td>2</td><td>teen</td><td>16</td><td>boy </td><td>ARGCalostrum</td><td>1</td><td>1</td><td>ARG</td><td>0</td></tr>\n",
       "\t<tr><td>3</td><td>3</td><td>teen</td><td>17</td><td>boy </td><td>ARGCalostrum</td><td>1</td><td>1</td><td>ARG</td><td>0</td></tr>\n",
       "\t<tr><td>4</td><td>4</td><td>teen</td><td>16</td><td>boy </td><td>ARGCalostrum</td><td>1</td><td>1</td><td>ARG</td><td>0</td></tr>\n",
       "\t<tr><td>5</td><td>5</td><td>teen</td><td>16</td><td>NA  </td><td>ARGCalostrum</td><td>2</td><td>1</td><td>ARG</td><td>0</td></tr>\n",
       "\t<tr><td>6</td><td>6</td><td>teen</td><td>16</td><td>boy </td><td>ARGCalostrum</td><td>2</td><td>1</td><td>ARG</td><td>0</td></tr>\n",
       "</tbody>\n",
       "</table>\n"
      ],
      "text/latex": [
       "A data.frame: 6 × 10\n",
       "\\begin{tabular}{r|llllllllll}\n",
       " X & id & group & age & sex & weekNames & level & week & AA & missing data\\\\\n",
       " <int> & <int> & <fct> & <int> & <fct> & <fct> & <int> & <int> & <fct> & <dbl>\\\\\n",
       "\\hline\n",
       "\t 1 & 1 & teen & 17 & girl & ARGCalostrum & 1 & 1 & ARG & 0\\\\\n",
       "\t 2 & 2 & teen & 16 & boy  & ARGCalostrum & 1 & 1 & ARG & 0\\\\\n",
       "\t 3 & 3 & teen & 17 & boy  & ARGCalostrum & 1 & 1 & ARG & 0\\\\\n",
       "\t 4 & 4 & teen & 16 & boy  & ARGCalostrum & 1 & 1 & ARG & 0\\\\\n",
       "\t 5 & 5 & teen & 16 & NA   & ARGCalostrum & 2 & 1 & ARG & 0\\\\\n",
       "\t 6 & 6 & teen & 16 & boy  & ARGCalostrum & 2 & 1 & ARG & 0\\\\\n",
       "\\end{tabular}\n"
      ],
      "text/markdown": [
       "\n",
       "A data.frame: 6 × 10\n",
       "\n",
       "| X &lt;int&gt; | id &lt;int&gt; | group &lt;fct&gt; | age &lt;int&gt; | sex &lt;fct&gt; | weekNames &lt;fct&gt; | level &lt;int&gt; | week &lt;int&gt; | AA &lt;fct&gt; | missing data &lt;dbl&gt; |\n",
       "|---|---|---|---|---|---|---|---|---|---|\n",
       "| 1 | 1 | teen | 17 | girl | ARGCalostrum | 1 | 1 | ARG | 0 |\n",
       "| 2 | 2 | teen | 16 | boy  | ARGCalostrum | 1 | 1 | ARG | 0 |\n",
       "| 3 | 3 | teen | 17 | boy  | ARGCalostrum | 1 | 1 | ARG | 0 |\n",
       "| 4 | 4 | teen | 16 | boy  | ARGCalostrum | 1 | 1 | ARG | 0 |\n",
       "| 5 | 5 | teen | 16 | NA   | ARGCalostrum | 2 | 1 | ARG | 0 |\n",
       "| 6 | 6 | teen | 16 | boy  | ARGCalostrum | 2 | 1 | ARG | 0 |\n",
       "\n"
      ],
      "text/plain": [
       "  X id group age sex  weekNames    level week AA  missing data\n",
       "1 1 1  teen  17  girl ARGCalostrum 1     1    ARG 0           \n",
       "2 2 2  teen  16  boy  ARGCalostrum 1     1    ARG 0           \n",
       "3 3 3  teen  17  boy  ARGCalostrum 1     1    ARG 0           \n",
       "4 4 4  teen  16  boy  ARGCalostrum 1     1    ARG 0           \n",
       "5 5 5  teen  16  NA   ARGCalostrum 2     1    ARG 0           \n",
       "6 6 6  teen  16  boy  ARGCalostrum 2     1    ARG 0           "
      ]
     },
     "metadata": {},
     "output_type": "display_data"
    }
   ],
   "source": [
    "missingData <- AA_NE_Long %>% mutate(`missing data` = ifelse(is.na(level), 1, 0))\n",
    "head(missingData)"
   ]
  },
  {
   "cell_type": "markdown",
   "metadata": {},
   "source": [
    "There is not a clear distinction between patients with missing data patients and patients without:"
   ]
  },
  {
   "cell_type": "code",
   "execution_count": 5,
   "metadata": {},
   "outputs": [
    {
     "name": "stderr",
     "output_type": "stream",
     "text": [
      "Warning message:\n",
      "“Factor `sex` contains implicit NA, consider using `forcats::fct_explicit_na`”"
     ]
    },
    {
     "data": {
      "text/html": [
       "<table>\n",
       "<caption>A grouped_df: 6 × 6</caption>\n",
       "<thead>\n",
       "\t<tr><th scope=col>id</th><th scope=col>sex</th><th scope=col>age</th><th scope=col>week</th><th scope=col>AA</th><th scope=col>miss</th></tr>\n",
       "\t<tr><th scope=col>&lt;int&gt;</th><th scope=col>&lt;fct&gt;</th><th scope=col>&lt;int&gt;</th><th scope=col>&lt;int&gt;</th><th scope=col>&lt;fct&gt;</th><th scope=col>&lt;dbl&gt;</th></tr>\n",
       "</thead>\n",
       "<tbody>\n",
       "\t<tr><td>1</td><td>girl</td><td>17</td><td>1</td><td>ALA</td><td>0</td></tr>\n",
       "\t<tr><td>1</td><td>girl</td><td>17</td><td>1</td><td>ARG</td><td>0</td></tr>\n",
       "\t<tr><td>1</td><td>girl</td><td>17</td><td>1</td><td>ASN</td><td>0</td></tr>\n",
       "\t<tr><td>1</td><td>girl</td><td>17</td><td>1</td><td>ASP</td><td>0</td></tr>\n",
       "\t<tr><td>1</td><td>girl</td><td>17</td><td>1</td><td>CYS</td><td>0</td></tr>\n",
       "\t<tr><td>1</td><td>girl</td><td>17</td><td>1</td><td>GLN</td><td>0</td></tr>\n",
       "</tbody>\n",
       "</table>\n"
      ],
      "text/latex": [
       "A grouped_df: 6 × 6\n",
       "\\begin{tabular}{r|llllll}\n",
       " id & sex & age & week & AA & miss\\\\\n",
       " <int> & <fct> & <int> & <int> & <fct> & <dbl>\\\\\n",
       "\\hline\n",
       "\t 1 & girl & 17 & 1 & ALA & 0\\\\\n",
       "\t 1 & girl & 17 & 1 & ARG & 0\\\\\n",
       "\t 1 & girl & 17 & 1 & ASN & 0\\\\\n",
       "\t 1 & girl & 17 & 1 & ASP & 0\\\\\n",
       "\t 1 & girl & 17 & 1 & CYS & 0\\\\\n",
       "\t 1 & girl & 17 & 1 & GLN & 0\\\\\n",
       "\\end{tabular}\n"
      ],
      "text/markdown": [
       "\n",
       "A grouped_df: 6 × 6\n",
       "\n",
       "| id &lt;int&gt; | sex &lt;fct&gt; | age &lt;int&gt; | week &lt;int&gt; | AA &lt;fct&gt; | miss &lt;dbl&gt; |\n",
       "|---|---|---|---|---|---|\n",
       "| 1 | girl | 17 | 1 | ALA | 0 |\n",
       "| 1 | girl | 17 | 1 | ARG | 0 |\n",
       "| 1 | girl | 17 | 1 | ASN | 0 |\n",
       "| 1 | girl | 17 | 1 | ASP | 0 |\n",
       "| 1 | girl | 17 | 1 | CYS | 0 |\n",
       "| 1 | girl | 17 | 1 | GLN | 0 |\n",
       "\n"
      ],
      "text/plain": [
       "  id sex  age week AA  miss\n",
       "1 1  girl 17  1    ALA 0   \n",
       "2 1  girl 17  1    ARG 0   \n",
       "3 1  girl 17  1    ASN 0   \n",
       "4 1  girl 17  1    ASP 0   \n",
       "5 1  girl 17  1    CYS 0   \n",
       "6 1  girl 17  1    GLN 0   "
      ]
     },
     "metadata": {},
     "output_type": "display_data"
    }
   ],
   "source": [
    "numNA <- missingData %>% group_by(id, sex, age, week, AA) %>% summarise(miss = sum(`missing data`))\n",
    "head(numNA)"
   ]
  },
  {
   "cell_type": "code",
   "execution_count": 6,
   "metadata": {},
   "outputs": [
    {
     "data": {
      "text/html": [
       "<table>\n",
       "<caption>A tibble: 2 × 2</caption>\n",
       "<thead>\n",
       "\t<tr><th scope=col>complete</th><th scope=col>n()</th></tr>\n",
       "\t<tr><th scope=col>&lt;chr&gt;</th><th scope=col>&lt;int&gt;</th></tr>\n",
       "</thead>\n",
       "<tbody>\n",
       "\t<tr><td>no </td><td>32</td></tr>\n",
       "\t<tr><td>yes</td><td>29</td></tr>\n",
       "</tbody>\n",
       "</table>\n"
      ],
      "text/latex": [
       "A tibble: 2 × 2\n",
       "\\begin{tabular}{r|ll}\n",
       " complete & n()\\\\\n",
       " <chr> & <int>\\\\\n",
       "\\hline\n",
       "\t no  & 32\\\\\n",
       "\t yes & 29\\\\\n",
       "\\end{tabular}\n"
      ],
      "text/markdown": [
       "\n",
       "A tibble: 2 × 2\n",
       "\n",
       "| complete &lt;chr&gt; | n() &lt;int&gt; |\n",
       "|---|---|\n",
       "| no  | 32 |\n",
       "| yes | 29 |\n",
       "\n"
      ],
      "text/plain": [
       "  complete n()\n",
       "1 no       32 \n",
       "2 yes      29 "
      ]
     },
     "metadata": {},
     "output_type": "display_data"
    }
   ],
   "source": [
    "numNA_CI <- numNA %>% filter(!is.na(sex)) %>% group_by(id, sex, age, AA) %>% \n",
    "                    summarise(total_miss = sum(miss)) %>% filter(AA == 'GLU') %>%\n",
    "                    mutate(complete = ifelse(total_miss == 0, 'yes', 'no'))\n",
    "\n",
    "numNA_CI %>% group_by(complete) %>% summarise(n())"
   ]
  },
  {
   "cell_type": "code",
   "execution_count": 7,
   "metadata": {},
   "outputs": [
    {
     "data": {
      "text/html": [
       "<table>\n",
       "<caption>A grouped_df: 4 × 3</caption>\n",
       "<thead>\n",
       "\t<tr><th scope=col>complete</th><th scope=col>sex</th><th scope=col>n()</th></tr>\n",
       "\t<tr><th scope=col>&lt;chr&gt;</th><th scope=col>&lt;fct&gt;</th><th scope=col>&lt;int&gt;</th></tr>\n",
       "</thead>\n",
       "<tbody>\n",
       "\t<tr><td>no </td><td>boy </td><td>19</td></tr>\n",
       "\t<tr><td>no </td><td>girl</td><td>13</td></tr>\n",
       "\t<tr><td>yes</td><td>boy </td><td>16</td></tr>\n",
       "\t<tr><td>yes</td><td>girl</td><td>13</td></tr>\n",
       "</tbody>\n",
       "</table>\n"
      ],
      "text/latex": [
       "A grouped_df: 4 × 3\n",
       "\\begin{tabular}{r|lll}\n",
       " complete & sex & n()\\\\\n",
       " <chr> & <fct> & <int>\\\\\n",
       "\\hline\n",
       "\t no  & boy  & 19\\\\\n",
       "\t no  & girl & 13\\\\\n",
       "\t yes & boy  & 16\\\\\n",
       "\t yes & girl & 13\\\\\n",
       "\\end{tabular}\n"
      ],
      "text/markdown": [
       "\n",
       "A grouped_df: 4 × 3\n",
       "\n",
       "| complete &lt;chr&gt; | sex &lt;fct&gt; | n() &lt;int&gt; |\n",
       "|---|---|---|\n",
       "| no  | boy  | 19 |\n",
       "| no  | girl | 13 |\n",
       "| yes | boy  | 16 |\n",
       "| yes | girl | 13 |\n",
       "\n"
      ],
      "text/plain": [
       "  complete sex  n()\n",
       "1 no       boy  19 \n",
       "2 no       girl 13 \n",
       "3 yes      boy  16 \n",
       "4 yes      girl 13 "
      ]
     },
     "metadata": {},
     "output_type": "display_data"
    }
   ],
   "source": [
    "numNA_CI %>% group_by(complete, sex) %>% summarise(n())"
   ]
  },
  {
   "cell_type": "code",
   "execution_count": 8,
   "metadata": {},
   "outputs": [],
   "source": [
    "completeMising <- numNA %>% filter(!is.na(sex)) %>% group_by(id, sex, age, week, AA) %>% \n",
    "                    summarise(total_miss = sum(miss)) %>% \n",
    "                    filter(AA == 'GLU') %>%\n",
    "                    mutate(complete = ifelse(total_miss == 0, 'yes', 'no'))\n",
    "\n",
    "weekSexNA <- completeMising %>%\n",
    "                    group_by(complete, week, sex) %>% summarise(total = n())"
   ]
  },
  {
   "cell_type": "markdown",
   "metadata": {},
   "source": [
    "## Characteristics for mothers with complete and incomplete data"
   ]
  },
  {
   "cell_type": "code",
   "execution_count": 26,
   "metadata": {},
   "outputs": [
    {
     "data": {
      "text/html": [
       "<ol class=list-inline>\n",
       "\t<li>3</li>\n",
       "\t<li>4</li>\n",
       "\t<li>9</li>\n",
       "\t<li>10</li>\n",
       "\t<li>11</li>\n",
       "\t<li>12</li>\n",
       "\t<li>16</li>\n",
       "\t<li>17</li>\n",
       "\t<li>18</li>\n",
       "\t<li>19</li>\n",
       "\t<li>21</li>\n",
       "\t<li>22</li>\n",
       "\t<li>24</li>\n",
       "\t<li>25</li>\n",
       "\t<li>26</li>\n",
       "\t<li>29</li>\n",
       "\t<li>33</li>\n",
       "\t<li>34</li>\n",
       "\t<li>35</li>\n",
       "\t<li>36</li>\n",
       "\t<li>38</li>\n",
       "\t<li>45</li>\n",
       "\t<li>46</li>\n",
       "\t<li>47</li>\n",
       "\t<li>48</li>\n",
       "\t<li>49</li>\n",
       "\t<li>50</li>\n",
       "\t<li>51</li>\n",
       "\t<li>59</li>\n",
       "\t<li>65</li>\n",
       "\t<li>66</li>\n",
       "\t<li>67</li>\n",
       "</ol>\n"
      ],
      "text/latex": [
       "\\begin{enumerate*}\n",
       "\\item 3\n",
       "\\item 4\n",
       "\\item 9\n",
       "\\item 10\n",
       "\\item 11\n",
       "\\item 12\n",
       "\\item 16\n",
       "\\item 17\n",
       "\\item 18\n",
       "\\item 19\n",
       "\\item 21\n",
       "\\item 22\n",
       "\\item 24\n",
       "\\item 25\n",
       "\\item 26\n",
       "\\item 29\n",
       "\\item 33\n",
       "\\item 34\n",
       "\\item 35\n",
       "\\item 36\n",
       "\\item 38\n",
       "\\item 45\n",
       "\\item 46\n",
       "\\item 47\n",
       "\\item 48\n",
       "\\item 49\n",
       "\\item 50\n",
       "\\item 51\n",
       "\\item 59\n",
       "\\item 65\n",
       "\\item 66\n",
       "\\item 67\n",
       "\\end{enumerate*}\n"
      ],
      "text/markdown": [
       "1. 3\n",
       "2. 4\n",
       "3. 9\n",
       "4. 10\n",
       "5. 11\n",
       "6. 12\n",
       "7. 16\n",
       "8. 17\n",
       "9. 18\n",
       "10. 19\n",
       "11. 21\n",
       "12. 22\n",
       "13. 24\n",
       "14. 25\n",
       "15. 26\n",
       "16. 29\n",
       "17. 33\n",
       "18. 34\n",
       "19. 35\n",
       "20. 36\n",
       "21. 38\n",
       "22. 45\n",
       "23. 46\n",
       "24. 47\n",
       "25. 48\n",
       "26. 49\n",
       "27. 50\n",
       "28. 51\n",
       "29. 59\n",
       "30. 65\n",
       "31. 66\n",
       "32. 67\n",
       "\n",
       "\n"
      ],
      "text/plain": [
       " [1]  3  4  9 10 11 12 16 17 18 19 21 22 24 25 26 29 33 34 35 36 38 45 46 47 48\n",
       "[26] 49 50 51 59 65 66 67"
      ]
     },
     "metadata": {},
     "output_type": "display_data"
    }
   ],
   "source": [
    "df_incomplete <- completeMising %>% filter(complete == 'no') %>% group_by(id) %>% summarise(mean(total_miss))\n",
    "id_incomplete <- df_incomplete$id\n",
    "n_obs <- length(id_incomplete)\n",
    "id_incomplete"
   ]
  },
  {
   "cell_type": "code",
   "execution_count": 10,
   "metadata": {},
   "outputs": [
    {
     "data": {
      "text/html": [
       "<ol class=list-inline>\n",
       "\t<li>-2.03951344639641</li>\n",
       "\t<li>2.03951344639641</li>\n",
       "</ol>\n"
      ],
      "text/latex": [
       "\\begin{enumerate*}\n",
       "\\item -2.03951344639641\n",
       "\\item 2.03951344639641\n",
       "\\end{enumerate*}\n"
      ],
      "text/markdown": [
       "1. -2.03951344639641\n",
       "2. 2.03951344639641\n",
       "\n",
       "\n"
      ],
      "text/plain": [
       "[1] -2.039513  2.039513"
      ]
     },
     "metadata": {},
     "output_type": "display_data"
    }
   ],
   "source": [
    "qt(c(.025, .975), df = n_obs-1)"
   ]
  },
  {
   "cell_type": "code",
   "execution_count": 11,
   "metadata": {},
   "outputs": [],
   "source": [
    "moms_complete <- moms %>% mutate(complete = ifelse(id %in% id_incomplete, 'no', 'yes'))"
   ]
  },
  {
   "cell_type": "code",
   "execution_count": 12,
   "metadata": {},
   "outputs": [
    {
     "data": {
      "text/html": [
       "<table>\n",
       "<caption>A tibble: 2 × 7</caption>\n",
       "<thead>\n",
       "\t<tr><th scope=col>complete</th><th scope=col>age</th><th scope=col>sdAge</th><th scope=col>height</th><th scope=col>sdHeight</th><th scope=col>weight</th><th scope=col>sdWeight</th></tr>\n",
       "\t<tr><th scope=col>&lt;chr&gt;</th><th scope=col>&lt;dbl&gt;</th><th scope=col>&lt;dbl&gt;</th><th scope=col>&lt;dbl&gt;</th><th scope=col>&lt;dbl&gt;</th><th scope=col>&lt;dbl&gt;</th><th scope=col>&lt;dbl&gt;</th></tr>\n",
       "</thead>\n",
       "<tbody>\n",
       "\t<tr><td>no </td><td>18.0</td><td>5.6</td><td>1.6</td><td>0.2</td><td>59.5</td><td>14.4</td></tr>\n",
       "\t<tr><td>yes</td><td>18.7</td><td>6.2</td><td>1.5</td><td>0.2</td><td>59.4</td><td>19.8</td></tr>\n",
       "</tbody>\n",
       "</table>\n"
      ],
      "text/latex": [
       "A tibble: 2 × 7\n",
       "\\begin{tabular}{r|lllllll}\n",
       " complete & age & sdAge & height & sdHeight & weight & sdWeight\\\\\n",
       " <chr> & <dbl> & <dbl> & <dbl> & <dbl> & <dbl> & <dbl>\\\\\n",
       "\\hline\n",
       "\t no  & 18.0 & 5.6 & 1.6 & 0.2 & 59.5 & 14.4\\\\\n",
       "\t yes & 18.7 & 6.2 & 1.5 & 0.2 & 59.4 & 19.8\\\\\n",
       "\\end{tabular}\n"
      ],
      "text/markdown": [
       "\n",
       "A tibble: 2 × 7\n",
       "\n",
       "| complete &lt;chr&gt; | age &lt;dbl&gt; | sdAge &lt;dbl&gt; | height &lt;dbl&gt; | sdHeight &lt;dbl&gt; | weight &lt;dbl&gt; | sdWeight &lt;dbl&gt; |\n",
       "|---|---|---|---|---|---|---|\n",
       "| no  | 18.0 | 5.6 | 1.6 | 0.2 | 59.5 | 14.4 |\n",
       "| yes | 18.7 | 6.2 | 1.5 | 0.2 | 59.4 | 19.8 |\n",
       "\n"
      ],
      "text/plain": [
       "  complete age  sdAge height sdHeight weight sdWeight\n",
       "1 no       18.0 5.6   1.6    0.2      59.5   14.4    \n",
       "2 yes      18.7 6.2   1.5    0.2      59.4   19.8    "
      ]
     },
     "metadata": {},
     "output_type": "display_data"
    }
   ],
   "source": [
    "moms_complete %>% group_by(complete) %>% \n",
    "    summarise(age = round(mean(momAge), 1), sdAge = 2*round(sd(momAge), 1), \n",
    "              height = round(mean(momHeight, na.rm = T), 1), sdHeight = 2*round(sd(momHeight, na.rm = T), 1),\n",
    "              weight = round(mean(momWeight, na.rm = T), 1), sdWeight = 2*round(sd(momWeight, na.rm = T), 1))"
   ]
  },
  {
   "cell_type": "markdown",
   "metadata": {},
   "source": [
    "## Diet for mothers with complete and incomplete data"
   ]
  },
  {
   "cell_type": "code",
   "execution_count": 50,
   "metadata": {},
   "outputs": [
    {
     "data": {
      "text/html": [
       "<table>\n",
       "<caption>A tibble: 2 × 2</caption>\n",
       "<thead>\n",
       "\t<tr><th scope=col>complete</th><th scope=col>number</th></tr>\n",
       "\t<tr><th scope=col>&lt;chr&gt;</th><th scope=col>&lt;int&gt;</th></tr>\n",
       "</thead>\n",
       "<tbody>\n",
       "\t<tr><td>no </td><td>32</td></tr>\n",
       "\t<tr><td>yes</td><td>29</td></tr>\n",
       "</tbody>\n",
       "</table>\n"
      ],
      "text/latex": [
       "A tibble: 2 × 2\n",
       "\\begin{tabular}{r|ll}\n",
       " complete & number\\\\\n",
       " <chr> & <int>\\\\\n",
       "\\hline\n",
       "\t no  & 32\\\\\n",
       "\t yes & 29\\\\\n",
       "\\end{tabular}\n"
      ],
      "text/markdown": [
       "\n",
       "A tibble: 2 × 2\n",
       "\n",
       "| complete &lt;chr&gt; | number &lt;int&gt; |\n",
       "|---|---|\n",
       "| no  | 32 |\n",
       "| yes | 29 |\n",
       "\n"
      ],
      "text/plain": [
       "  complete number\n",
       "1 no       32    \n",
       "2 yes      29    "
      ]
     },
     "metadata": {},
     "output_type": "display_data"
    },
    {
     "data": {
      "text/html": [
       "<table>\n",
       "<caption>A tibble: 2 × 14</caption>\n",
       "<thead>\n",
       "\t<tr><th scope=col>complete</th><th scope=col>age</th><th scope=col>height</th><th scope=col>weight</th><th scope=col>kcal</th><th scope=col>prot</th><th scope=col>trig</th><th scope=col>cho</th><th scope=col>lipids</th><th scope=col>glu</th><th scope=col>choles</th><th scope=col>hdl</th><th scope=col>ldl</th><th scope=col>album</th></tr>\n",
       "\t<tr><th scope=col>&lt;chr&gt;</th><th scope=col>&lt;int&gt;</th><th scope=col>&lt;int&gt;</th><th scope=col>&lt;int&gt;</th><th scope=col>&lt;int&gt;</th><th scope=col>&lt;int&gt;</th><th scope=col>&lt;int&gt;</th><th scope=col>&lt;int&gt;</th><th scope=col>&lt;int&gt;</th><th scope=col>&lt;int&gt;</th><th scope=col>&lt;int&gt;</th><th scope=col>&lt;int&gt;</th><th scope=col>&lt;int&gt;</th><th scope=col>&lt;int&gt;</th></tr>\n",
       "</thead>\n",
       "<tbody>\n",
       "\t<tr><td>no </td><td>32</td><td>30</td><td>30</td><td>13</td><td>13</td><td>25</td><td>13</td><td>13</td><td>25</td><td>25</td><td>25</td><td>25</td><td>25</td></tr>\n",
       "\t<tr><td>yes</td><td>29</td><td>27</td><td>29</td><td>22</td><td>22</td><td>29</td><td>22</td><td>22</td><td>29</td><td>29</td><td>29</td><td>29</td><td>29</td></tr>\n",
       "</tbody>\n",
       "</table>\n"
      ],
      "text/latex": [
       "A tibble: 2 × 14\n",
       "\\begin{tabular}{r|llllllllllllll}\n",
       " complete & age & height & weight & kcal & prot & trig & cho & lipids & glu & choles & hdl & ldl & album\\\\\n",
       " <chr> & <int> & <int> & <int> & <int> & <int> & <int> & <int> & <int> & <int> & <int> & <int> & <int> & <int>\\\\\n",
       "\\hline\n",
       "\t no  & 32 & 30 & 30 & 13 & 13 & 25 & 13 & 13 & 25 & 25 & 25 & 25 & 25\\\\\n",
       "\t yes & 29 & 27 & 29 & 22 & 22 & 29 & 22 & 22 & 29 & 29 & 29 & 29 & 29\\\\\n",
       "\\end{tabular}\n"
      ],
      "text/markdown": [
       "\n",
       "A tibble: 2 × 14\n",
       "\n",
       "| complete &lt;chr&gt; | age &lt;int&gt; | height &lt;int&gt; | weight &lt;int&gt; | kcal &lt;int&gt; | prot &lt;int&gt; | trig &lt;int&gt; | cho &lt;int&gt; | lipids &lt;int&gt; | glu &lt;int&gt; | choles &lt;int&gt; | hdl &lt;int&gt; | ldl &lt;int&gt; | album &lt;int&gt; |\n",
       "|---|---|---|---|---|---|---|---|---|---|---|---|---|---|\n",
       "| no  | 32 | 30 | 30 | 13 | 13 | 25 | 13 | 13 | 25 | 25 | 25 | 25 | 25 |\n",
       "| yes | 29 | 27 | 29 | 22 | 22 | 29 | 22 | 22 | 29 | 29 | 29 | 29 | 29 |\n",
       "\n"
      ],
      "text/plain": [
       "  complete age height weight kcal prot trig cho lipids glu choles hdl ldl album\n",
       "1 no       32  30     30     13   13   25   13  13     25  25     25  25  25   \n",
       "2 yes      29  27     29     22   22   29   22  22     29  29     29  29  29   "
      ]
     },
     "metadata": {},
     "output_type": "display_data"
    }
   ],
   "source": [
    "moms_complete %>% group_by(complete) %>% filter(!is.na(sex)) %>% summarise(number = n())\n",
    "\n",
    "moms_complete %>% group_by(complete) %>% filter(!is.na(sex)) %>% \n",
    "    summarise(age = sum(!is.na(momAge)), height = sum(!is.na(momHeight)), weight = sum(!is.na(momWeight)), \n",
    "              kcal = sum(!is.na(kcal)), prot = sum(!is.na(prot)), trig = sum(!is.na(trig)),\n",
    "              cho = sum(!is.na(cho)), lipids = sum(!is.na(lipids)), glu = sum(!is.na(glu)),\n",
    "              choles = sum(!is.na(choles)), hdl = sum(!is.na(hdl)),\n",
    "              ldl = sum(!is.na(ldl)), album = sum(!is.na(album)))"
   ]
  },
  {
   "cell_type": "code",
   "execution_count": 51,
   "metadata": {},
   "outputs": [
    {
     "data": {
      "text/html": [
       "<ol class=list-inline>\n",
       "\t<li>'X'</li>\n",
       "\t<li>'id'</li>\n",
       "\t<li>'group'</li>\n",
       "\t<li>'momAge'</li>\n",
       "\t<li>'sex'</li>\n",
       "\t<li>'momHeight'</li>\n",
       "\t<li>'momWeight'</li>\n",
       "\t<li>'kcal'</li>\n",
       "\t<li>'prot'</li>\n",
       "\t<li>'cho'</li>\n",
       "\t<li>'lipids'</li>\n",
       "\t<li>'glu'</li>\n",
       "\t<li>'choles'</li>\n",
       "\t<li>'trig'</li>\n",
       "\t<li>'hdl'</li>\n",
       "\t<li>'ldl'</li>\n",
       "\t<li>'album'</li>\n",
       "\t<li>'BMI'</li>\n",
       "\t<li>'complete'</li>\n",
       "</ol>\n"
      ],
      "text/latex": [
       "\\begin{enumerate*}\n",
       "\\item 'X'\n",
       "\\item 'id'\n",
       "\\item 'group'\n",
       "\\item 'momAge'\n",
       "\\item 'sex'\n",
       "\\item 'momHeight'\n",
       "\\item 'momWeight'\n",
       "\\item 'kcal'\n",
       "\\item 'prot'\n",
       "\\item 'cho'\n",
       "\\item 'lipids'\n",
       "\\item 'glu'\n",
       "\\item 'choles'\n",
       "\\item 'trig'\n",
       "\\item 'hdl'\n",
       "\\item 'ldl'\n",
       "\\item 'album'\n",
       "\\item 'BMI'\n",
       "\\item 'complete'\n",
       "\\end{enumerate*}\n"
      ],
      "text/markdown": [
       "1. 'X'\n",
       "2. 'id'\n",
       "3. 'group'\n",
       "4. 'momAge'\n",
       "5. 'sex'\n",
       "6. 'momHeight'\n",
       "7. 'momWeight'\n",
       "8. 'kcal'\n",
       "9. 'prot'\n",
       "10. 'cho'\n",
       "11. 'lipids'\n",
       "12. 'glu'\n",
       "13. 'choles'\n",
       "14. 'trig'\n",
       "15. 'hdl'\n",
       "16. 'ldl'\n",
       "17. 'album'\n",
       "18. 'BMI'\n",
       "19. 'complete'\n",
       "\n",
       "\n"
      ],
      "text/plain": [
       " [1] \"X\"         \"id\"        \"group\"     \"momAge\"    \"sex\"       \"momHeight\"\n",
       " [7] \"momWeight\" \"kcal\"      \"prot\"      \"cho\"       \"lipids\"    \"glu\"      \n",
       "[13] \"choles\"    \"trig\"      \"hdl\"       \"ldl\"       \"album\"     \"BMI\"      \n",
       "[19] \"complete\" "
      ]
     },
     "metadata": {},
     "output_type": "display_data"
    }
   ],
   "source": [
    "names(moms_complete)\n",
    "#moms_complete %>% group_by(complete) %>% filter(is.na(glu))"
   ]
  },
  {
   "cell_type": "code",
   "execution_count": 52,
   "metadata": {},
   "outputs": [
    {
     "data": {
      "text/html": [
       "<table>\n",
       "<caption>A tibble: 2 × 9</caption>\n",
       "<thead>\n",
       "\t<tr><th scope=col>complete</th><th scope=col>mKcal</th><th scope=col>sdKcal</th><th scope=col>mProt</th><th scope=col>sdProt</th><th scope=col>mGlu</th><th scope=col>sdGlu</th><th scope=col>mTrig</th><th scope=col>sdTrig</th></tr>\n",
       "\t<tr><th scope=col>&lt;chr&gt;</th><th scope=col>&lt;dbl&gt;</th><th scope=col>&lt;dbl&gt;</th><th scope=col>&lt;dbl&gt;</th><th scope=col>&lt;dbl&gt;</th><th scope=col>&lt;dbl&gt;</th><th scope=col>&lt;dbl&gt;</th><th scope=col>&lt;dbl&gt;</th><th scope=col>&lt;dbl&gt;</th></tr>\n",
       "</thead>\n",
       "<tbody>\n",
       "\t<tr><td>no </td><td>1785.0</td><td> 806.6</td><td>74.5</td><td>35.4</td><td>75.7</td><td>16.6</td><td>145.3</td><td> 90.6</td></tr>\n",
       "\t<tr><td>yes</td><td>2085.2</td><td>1729.8</td><td>78.0</td><td>55.6</td><td>82.2</td><td>27.4</td><td>161.1</td><td>125.8</td></tr>\n",
       "</tbody>\n",
       "</table>\n"
      ],
      "text/latex": [
       "A tibble: 2 × 9\n",
       "\\begin{tabular}{r|lllllllll}\n",
       " complete & mKcal & sdKcal & mProt & sdProt & mGlu & sdGlu & mTrig & sdTrig\\\\\n",
       " <chr> & <dbl> & <dbl> & <dbl> & <dbl> & <dbl> & <dbl> & <dbl> & <dbl>\\\\\n",
       "\\hline\n",
       "\t no  & 1785.0 &  806.6 & 74.5 & 35.4 & 75.7 & 16.6 & 145.3 &  90.6\\\\\n",
       "\t yes & 2085.2 & 1729.8 & 78.0 & 55.6 & 82.2 & 27.4 & 161.1 & 125.8\\\\\n",
       "\\end{tabular}\n"
      ],
      "text/markdown": [
       "\n",
       "A tibble: 2 × 9\n",
       "\n",
       "| complete &lt;chr&gt; | mKcal &lt;dbl&gt; | sdKcal &lt;dbl&gt; | mProt &lt;dbl&gt; | sdProt &lt;dbl&gt; | mGlu &lt;dbl&gt; | sdGlu &lt;dbl&gt; | mTrig &lt;dbl&gt; | sdTrig &lt;dbl&gt; |\n",
       "|---|---|---|---|---|---|---|---|---|\n",
       "| no  | 1785.0 |  806.6 | 74.5 | 35.4 | 75.7 | 16.6 | 145.3 |  90.6 |\n",
       "| yes | 2085.2 | 1729.8 | 78.0 | 55.6 | 82.2 | 27.4 | 161.1 | 125.8 |\n",
       "\n"
      ],
      "text/plain": [
       "  complete mKcal  sdKcal mProt sdProt mGlu sdGlu mTrig sdTrig\n",
       "1 no       1785.0  806.6 74.5  35.4   75.7 16.6  145.3  90.6 \n",
       "2 yes      2085.2 1729.8 78.0  55.6   82.2 27.4  161.1 125.8 "
      ]
     },
     "metadata": {},
     "output_type": "display_data"
    },
    {
     "data": {
      "text/html": [
       "1473.62334495175"
      ],
      "text/latex": [
       "1473.62334495175"
      ],
      "text/markdown": [
       "1473.62334495175"
      ],
      "text/plain": [
       "[1] 1473.623"
      ]
     },
     "metadata": {},
     "output_type": "display_data"
    },
    {
     "data": {
      "text/html": [
       "116.622983463366"
      ],
      "text/latex": [
       "116.622983463366"
      ],
      "text/markdown": [
       "116.622983463366"
      ],
      "text/plain": [
       "[1] 116.623"
      ]
     },
     "metadata": {},
     "output_type": "display_data"
    }
   ],
   "source": [
    "moms_complete %>% group_by(complete) %>% \n",
    "    summarise(mKcal = round(mean(kcal, na.rm = T), 1), sdKcal = 2*round(sd(kcal, na.rm = T), 1), \n",
    "              mProt = round(mean(prot, na.rm = T), 1), sdProt = 2*round(sd(prot, na.rm = T), 1),\n",
    "              mGlu = round(mean(glu, na.rm = T), 1), sdGlu = 2*round(sd(glu, na.rm = T), 1), \n",
    "              mTrig = round(mean(trig, na.rm = T), 1), sdTrig = 2*round(sd(trig, na.rm = T), 1))\n",
    "\n",
    "2085.2 - (2* 1729.8 / sqrt(n_obs))\n",
    "161.1 - (2* 125.8 / sqrt(n_obs))"
   ]
  },
  {
   "cell_type": "code",
   "execution_count": 53,
   "metadata": {},
   "outputs": [
    {
     "data": {
      "text/html": [
       "<table>\n",
       "<caption>A tibble: 2 × 11</caption>\n",
       "<thead>\n",
       "\t<tr><th scope=col>complete</th><th scope=col>mCho</th><th scope=col>sdCho</th><th scope=col>mLipids</th><th scope=col>sdLipids</th><th scope=col>mHdl</th><th scope=col>sdHdl</th><th scope=col>mLdl</th><th scope=col>sdLdl</th><th scope=col>mAlbum</th><th scope=col>sdAlbum</th></tr>\n",
       "\t<tr><th scope=col>&lt;chr&gt;</th><th scope=col>&lt;dbl&gt;</th><th scope=col>&lt;dbl&gt;</th><th scope=col>&lt;dbl&gt;</th><th scope=col>&lt;dbl&gt;</th><th scope=col>&lt;dbl&gt;</th><th scope=col>&lt;dbl&gt;</th><th scope=col>&lt;dbl&gt;</th><th scope=col>&lt;dbl&gt;</th><th scope=col>&lt;dbl&gt;</th><th scope=col>&lt;dbl&gt;</th></tr>\n",
       "</thead>\n",
       "<tbody>\n",
       "\t<tr><td>no </td><td>393.4</td><td>886.6</td><td>46.1</td><td>32.8</td><td>41.4</td><td>22.8</td><td>156.1</td><td>83.4</td><td>4.5</td><td>0.6</td></tr>\n",
       "\t<tr><td>yes</td><td>329.2</td><td>311.4</td><td>52.4</td><td>55.8</td><td>44.8</td><td>29.0</td><td>163.3</td><td>76.6</td><td>4.5</td><td>0.6</td></tr>\n",
       "</tbody>\n",
       "</table>\n"
      ],
      "text/latex": [
       "A tibble: 2 × 11\n",
       "\\begin{tabular}{r|lllllllllll}\n",
       " complete & mCho & sdCho & mLipids & sdLipids & mHdl & sdHdl & mLdl & sdLdl & mAlbum & sdAlbum\\\\\n",
       " <chr> & <dbl> & <dbl> & <dbl> & <dbl> & <dbl> & <dbl> & <dbl> & <dbl> & <dbl> & <dbl>\\\\\n",
       "\\hline\n",
       "\t no  & 393.4 & 886.6 & 46.1 & 32.8 & 41.4 & 22.8 & 156.1 & 83.4 & 4.5 & 0.6\\\\\n",
       "\t yes & 329.2 & 311.4 & 52.4 & 55.8 & 44.8 & 29.0 & 163.3 & 76.6 & 4.5 & 0.6\\\\\n",
       "\\end{tabular}\n"
      ],
      "text/markdown": [
       "\n",
       "A tibble: 2 × 11\n",
       "\n",
       "| complete &lt;chr&gt; | mCho &lt;dbl&gt; | sdCho &lt;dbl&gt; | mLipids &lt;dbl&gt; | sdLipids &lt;dbl&gt; | mHdl &lt;dbl&gt; | sdHdl &lt;dbl&gt; | mLdl &lt;dbl&gt; | sdLdl &lt;dbl&gt; | mAlbum &lt;dbl&gt; | sdAlbum &lt;dbl&gt; |\n",
       "|---|---|---|---|---|---|---|---|---|---|---|\n",
       "| no  | 393.4 | 886.6 | 46.1 | 32.8 | 41.4 | 22.8 | 156.1 | 83.4 | 4.5 | 0.6 |\n",
       "| yes | 329.2 | 311.4 | 52.4 | 55.8 | 44.8 | 29.0 | 163.3 | 76.6 | 4.5 | 0.6 |\n",
       "\n"
      ],
      "text/plain": [
       "  complete mCho  sdCho mLipids sdLipids mHdl sdHdl mLdl  sdLdl mAlbum sdAlbum\n",
       "1 no       393.4 886.6 46.1    32.8     41.4 22.8  156.1 83.4  4.5    0.6    \n",
       "2 yes      329.2 311.4 52.4    55.8     44.8 29.0  163.3 76.6  4.5    0.6    "
      ]
     },
     "metadata": {},
     "output_type": "display_data"
    }
   ],
   "source": [
    "moms_complete %>% group_by(complete) %>% \n",
    "    summarise(mCho = round(mean(cho, na.rm = T), 1), sdCho = 2*round(sd(cho, na.rm = T), 1),\n",
    "              mLipids = round(mean(lipids, na.rm = T), 1), sdLipids = 2*round(sd(lipids, na.rm = T), 1), \n",
    "              mHdl = round(mean(hdl, na.rm = T), 1), sdHdl = 2*round(sd(hdl, na.rm = T), 1),\n",
    "              mLdl = round(mean(ldl, na.rm = T), 1), sdLdl = 2*round(sd(ldl, na.rm = T), 1),\n",
    "              mAlbum = round(mean(album, na.rm = T), 1), sdAlbum = 2*round(sd(album, na.rm = T), 1))"
   ]
  },
  {
   "cell_type": "code",
   "execution_count": 54,
   "metadata": {},
   "outputs": [
    {
     "data": {
      "text/html": [
       "<table>\n",
       "<caption>A grouped_df: 65 × 19</caption>\n",
       "<thead>\n",
       "\t<tr><th scope=col>X</th><th scope=col>id</th><th scope=col>group</th><th scope=col>momAge</th><th scope=col>sex</th><th scope=col>momHeight</th><th scope=col>momWeight</th><th scope=col>kcal</th><th scope=col>prot</th><th scope=col>cho</th><th scope=col>lipids</th><th scope=col>glu</th><th scope=col>choles</th><th scope=col>trig</th><th scope=col>hdl</th><th scope=col>ldl</th><th scope=col>album</th><th scope=col>BMI</th><th scope=col>complete</th></tr>\n",
       "\t<tr><th scope=col>&lt;int&gt;</th><th scope=col>&lt;int&gt;</th><th scope=col>&lt;fct&gt;</th><th scope=col>&lt;int&gt;</th><th scope=col>&lt;fct&gt;</th><th scope=col>&lt;dbl&gt;</th><th scope=col>&lt;dbl&gt;</th><th scope=col>&lt;int&gt;</th><th scope=col>&lt;int&gt;</th><th scope=col>&lt;int&gt;</th><th scope=col>&lt;int&gt;</th><th scope=col>&lt;dbl&gt;</th><th scope=col>&lt;dbl&gt;</th><th scope=col>&lt;dbl&gt;</th><th scope=col>&lt;dbl&gt;</th><th scope=col>&lt;dbl&gt;</th><th scope=col>&lt;dbl&gt;</th><th scope=col>&lt;dbl&gt;</th><th scope=col>&lt;chr&gt;</th></tr>\n",
       "</thead>\n",
       "<tbody>\n",
       "\t<tr><td> 1</td><td> 1</td><td>teen</td><td>17</td><td>girl</td><td>1.48</td><td>54.4</td><td>4204</td><td>103</td><td> 759</td><td>86</td><td>115.0</td><td>205.0</td><td>304.9</td><td>23.7</td><td>120.4</td><td>4.44</td><td>24.84</td><td>yes</td></tr>\n",
       "\t<tr><td> 2</td><td> 2</td><td>teen</td><td>16</td><td>boy </td><td>1.52</td><td>74.7</td><td>1586</td><td> 27</td><td> 242</td><td>34</td><td>107.8</td><td>196.0</td><td>193.0</td><td>34.5</td><td>122.9</td><td>4.42</td><td>32.33</td><td>yes</td></tr>\n",
       "\t<tr><td> 3</td><td> 3</td><td>teen</td><td>17</td><td>boy </td><td>1.55</td><td>56.4</td><td>2052</td><td> 88</td><td> 281</td><td>67</td><td> 87.2</td><td>346.0</td><td>285.0</td><td>23.0</td><td>266.0</td><td>4.79</td><td>23.48</td><td>no </td></tr>\n",
       "\t<tr><td> 4</td><td> 4</td><td>teen</td><td>16</td><td>boy </td><td>1.60</td><td>65.9</td><td>  NA</td><td> NA</td><td>  NA</td><td>NA</td><td> 95.7</td><td>273.0</td><td>143.2</td><td>39.9</td><td>204.4</td><td>4.47</td><td>25.74</td><td>no </td></tr>\n",
       "\t<tr><td> 5</td><td> 5</td><td>teen</td><td>16</td><td>NA  </td><td>1.51</td><td>56.5</td><td>1621</td><td> 63</td><td> 270</td><td>38</td><td> 73.9</td><td>266.0</td><td>123.0</td><td>37.7</td><td>203.7</td><td>4.39</td><td>24.78</td><td>yes</td></tr>\n",
       "\t<tr><td> 6</td><td> 6</td><td>teen</td><td>16</td><td>boy </td><td>1.57</td><td>71.2</td><td>1932</td><td>100</td><td> 311</td><td>28</td><td>100.7</td><td>224.0</td><td>289.0</td><td>21.9</td><td>144.3</td><td>4.49</td><td>28.89</td><td>yes</td></tr>\n",
       "\t<tr><td> 7</td><td> 7</td><td>teen</td><td>16</td><td>boy </td><td>1.67</td><td>64.9</td><td>2284</td><td> 87</td><td> 343</td><td>65</td><td> 72.0</td><td>243.0</td><td>153.4</td><td>30.0</td><td>182.3</td><td>4.78</td><td>23.27</td><td>yes</td></tr>\n",
       "\t<tr><td> 8</td><td> 8</td><td>teen</td><td>16</td><td>boy </td><td>1.50</td><td>64.5</td><td>1160</td><td> 38</td><td> 214</td><td>20</td><td> 85.7</td><td>253.0</td><td>151.1</td><td>29.1</td><td>193.6</td><td>4.42</td><td>28.67</td><td>yes</td></tr>\n",
       "\t<tr><td> 9</td><td> 9</td><td>teen</td><td>17</td><td>girl</td><td>1.65</td><td>65.5</td><td>1241</td><td> 69</td><td> 146</td><td>42</td><td> 68.3</td><td>255.0</td><td>173.0</td><td>31.3</td><td>189.1</td><td>4.55</td><td>24.06</td><td>no </td></tr>\n",
       "\t<tr><td>10</td><td>10</td><td>teen</td><td>18</td><td>boy </td><td>1.64</td><td>63.5</td><td>  NA</td><td> NA</td><td>  NA</td><td>NA</td><td> 69.0</td><td>159.0</td><td>113.0</td><td>41.3</td><td> 95.1</td><td>4.67</td><td>23.61</td><td>no </td></tr>\n",
       "\t<tr><td>11</td><td>11</td><td>teen</td><td>17</td><td>boy </td><td>1.49</td><td>50.0</td><td>  NA</td><td> NA</td><td>  NA</td><td>NA</td><td> 66.0</td><td>279.3</td><td> 80.2</td><td>37.6</td><td>125.6</td><td>4.61</td><td>22.52</td><td>no </td></tr>\n",
       "\t<tr><td>12</td><td>12</td><td>teen</td><td>16</td><td>girl</td><td>1.58</td><td>62.8</td><td>  NA</td><td> NA</td><td>  NA</td><td>NA</td><td>   NA</td><td>   NA</td><td>   NA</td><td>  NA</td><td>   NA</td><td>  NA</td><td>25.16</td><td>no </td></tr>\n",
       "\t<tr><td>13</td><td>13</td><td>teen</td><td>14</td><td>boy </td><td>1.51</td><td>55.4</td><td>1965</td><td> 64</td><td> 337</td><td>37</td><td> 70.0</td><td>246.0</td><td>169.0</td><td>34.2</td><td>178.0</td><td>4.11</td><td>24.30</td><td>yes</td></tr>\n",
       "\t<tr><td>14</td><td>14</td><td>teen</td><td>17</td><td>girl</td><td>1.46</td><td>56.8</td><td>1330</td><td> 88</td><td> 163</td><td>36</td><td> 77.2</td><td>272.0</td><td>154.4</td><td>50.4</td><td>190.7</td><td>4.58</td><td>26.65</td><td>yes</td></tr>\n",
       "\t<tr><td>15</td><td>15</td><td>teen</td><td>17</td><td>boy </td><td>1.50</td><td>59.6</td><td>1580</td><td> 73</td><td> 242</td><td>34</td><td> 67.0</td><td>275.4</td><td>126.0</td><td>33.7</td><td>216.5</td><td>4.33</td><td>26.49</td><td>yes</td></tr>\n",
       "\t<tr><td>16</td><td>16</td><td>teen</td><td>15</td><td>boy </td><td>1.50</td><td>61.5</td><td>1783</td><td> 68</td><td> 302</td><td>35</td><td> 72.0</td><td>152.0</td><td>141.0</td><td>36.5</td><td> 87.3</td><td>4.30</td><td>27.33</td><td>no </td></tr>\n",
       "\t<tr><td>17</td><td>17</td><td>teen</td><td>16</td><td>boy </td><td>1.53</td><td>51.6</td><td>  NA</td><td> NA</td><td>  NA</td><td>NA</td><td> 68.0</td><td>214.0</td><td>138.0</td><td>37.6</td><td>148.8</td><td>4.13</td><td>22.04</td><td>no </td></tr>\n",
       "\t<tr><td>18</td><td>18</td><td>teen</td><td>16</td><td>boy </td><td>1.52</td><td>57.5</td><td>1943</td><td> 92</td><td> 239</td><td>67</td><td> 72.7</td><td>236.6</td><td>165.1</td><td>38.9</td><td>164.6</td><td>4.24</td><td>24.89</td><td>no </td></tr>\n",
       "\t<tr><td>19</td><td>19</td><td>teen</td><td>14</td><td>boy </td><td>1.52</td><td>56.9</td><td>1686</td><td> 52</td><td> 275</td><td>51</td><td> 71.1</td><td>183.0</td><td>148.3</td><td>25.3</td><td>128.0</td><td>4.54</td><td>24.63</td><td>no </td></tr>\n",
       "\t<tr><td>20</td><td>20</td><td>teen</td><td>16</td><td>boy </td><td>1.60</td><td>49.6</td><td>1623</td><td> 55</td><td> 265</td><td>43</td><td> 74.7</td><td>179.0</td><td>122.0</td><td>55.9</td><td> 98.7</td><td>4.56</td><td>19.37</td><td>yes</td></tr>\n",
       "\t<tr><td>21</td><td>21</td><td>teen</td><td>18</td><td>girl</td><td>1.41</td><td>47.1</td><td>  NA</td><td> NA</td><td>  NA</td><td>NA</td><td> 74.3</td><td>203.0</td><td> 90.2</td><td>42.1</td><td>142.8</td><td>5.19</td><td>23.69</td><td>no </td></tr>\n",
       "\t<tr><td>22</td><td>22</td><td>teen</td><td>16</td><td>boy </td><td>1.55</td><td>50.6</td><td>1956</td><td> 92</td><td> 241</td><td>70</td><td> 82.9</td><td>197.0</td><td>124.2</td><td>43.1</td><td>129.0</td><td>4.24</td><td>21.06</td><td>no </td></tr>\n",
       "\t<tr><td>23</td><td>23</td><td>teen</td><td>16</td><td>boy </td><td>1.49</td><td>41.9</td><td>2232</td><td> 75</td><td> 428</td><td>27</td><td> 81.7</td><td>173.4</td><td>120.0</td><td>25.1</td><td>124.3</td><td>4.33</td><td>18.87</td><td>yes</td></tr>\n",
       "\t<tr><td>24</td><td>24</td><td>teen</td><td>18</td><td>boy </td><td>1.60</td><td>64.2</td><td>  NA</td><td> NA</td><td>  NA</td><td>NA</td><td>   NA</td><td>   NA</td><td>   NA</td><td>  NA</td><td>   NA</td><td>  NA</td><td>25.08</td><td>no </td></tr>\n",
       "\t<tr><td>25</td><td>25</td><td>teen</td><td>17</td><td>boy </td><td>1.67</td><td>73.5</td><td>  NA</td><td> NA</td><td>  NA</td><td>NA</td><td>   NA</td><td>   NA</td><td>   NA</td><td>  NA</td><td>   NA</td><td>  NA</td><td>26.35</td><td>no </td></tr>\n",
       "\t<tr><td>26</td><td>26</td><td>teen</td><td>15</td><td>girl</td><td>1.60</td><td>68.8</td><td>2783</td><td> 92</td><td> 474</td><td>65</td><td> 71.9</td><td>204.0</td><td>123.0</td><td>45.3</td><td>134.1</td><td>4.14</td><td>26.87</td><td>no </td></tr>\n",
       "\t<tr><td>27</td><td>27</td><td>teen</td><td>15</td><td>NA  </td><td>1.50</td><td>50.5</td><td> 870</td><td> 33</td><td> 138</td><td>20</td><td> 80.3</td><td>263.0</td><td>116.0</td><td>40.8</td><td>199.0</td><td>4.03</td><td>22.44</td><td>yes</td></tr>\n",
       "\t<tr><td>28</td><td>28</td><td>teen</td><td>16</td><td>girl</td><td>1.52</td><td>49.4</td><td>  NA</td><td> NA</td><td>  NA</td><td>NA</td><td> 72.9</td><td>290.3</td><td>131.0</td><td>53.0</td><td>211.1</td><td>4.64</td><td>21.38</td><td>yes</td></tr>\n",
       "\t<tr><td>29</td><td>29</td><td>teen</td><td>16</td><td>girl</td><td>1.55</td><td>63.3</td><td>1788</td><td> 72</td><td>1840</td><td>41</td><td> 77.0</td><td>226.0</td><td>203.6</td><td>22.0</td><td>163.2</td><td>4.60</td><td>26.35</td><td>no </td></tr>\n",
       "\t<tr><td>30</td><td>30</td><td>teen</td><td>17</td><td>boy </td><td>1.57</td><td>74.3</td><td>  NA</td><td> NA</td><td>  NA</td><td>NA</td><td> 88.1</td><td>265.0</td><td>271.0</td><td>43.7</td><td>167.1</td><td>5.09</td><td>30.14</td><td>yes</td></tr>\n",
       "\t<tr><td>⋮</td><td>⋮</td><td>⋮</td><td>⋮</td><td>⋮</td><td>⋮</td><td>⋮</td><td>⋮</td><td>⋮</td><td>⋮</td><td>⋮</td><td>⋮</td><td>⋮</td><td>⋮</td><td>⋮</td><td>⋮</td><td>⋮</td><td>⋮</td><td>⋮</td></tr>\n",
       "\t<tr><td>36</td><td>36</td><td>teen </td><td>16</td><td>girl</td><td>1.62</td><td>70.2</td><td>1304</td><td> 85</td><td>140</td><td> 46</td><td> 78.6</td><td>235.1</td><td>142.2</td><td>50.1</td><td>156.6</td><td>4.78</td><td>26.75</td><td>no </td></tr>\n",
       "\t<tr><td>37</td><td>37</td><td>teen </td><td>18</td><td>girl</td><td>1.56</td><td>52.1</td><td>1240</td><td> 48</td><td>220</td><td> 23</td><td> 71.1</td><td>205.1</td><td>102.6</td><td>43.8</td><td>140.8</td><td>4.60</td><td>21.41</td><td>yes</td></tr>\n",
       "\t<tr><td>38</td><td>38</td><td>teen </td><td>17</td><td>boy </td><td>  NA</td><td>  NA</td><td>  NA</td><td> NA</td><td> NA</td><td> NA</td><td> 70.0</td><td>207.7</td><td> 94.1</td><td>48.0</td><td>140.9</td><td>4.55</td><td>   NA</td><td>no </td></tr>\n",
       "\t<tr><td>39</td><td>39</td><td>teen </td><td>17</td><td>boy </td><td>1.56</td><td>55.8</td><td>1355</td><td> 59</td><td>188</td><td> 40</td><td> 80.4</td><td>239.7</td><td>137.2</td><td>63.5</td><td>148.8</td><td>4.41</td><td>22.93</td><td>yes</td></tr>\n",
       "\t<tr><td>40</td><td>41</td><td>adult</td><td>27</td><td>boy </td><td>1.56</td><td>58.1</td><td>2725</td><td>119</td><td>344</td><td>105</td><td> 80.7</td><td>154.0</td><td> 62.7</td><td>41.9</td><td> 99.6</td><td>4.73</td><td>23.87</td><td>yes</td></tr>\n",
       "\t<tr><td>41</td><td>42</td><td>adult</td><td>22</td><td>girl</td><td>1.58</td><td>63.1</td><td>1808</td><td> 84</td><td>222</td><td> 68</td><td> 90.2</td><td>217.0</td><td>142.0</td><td>23.0</td><td>165.6</td><td>4.43</td><td>25.28</td><td>yes</td></tr>\n",
       "\t<tr><td>42</td><td>43</td><td>adult</td><td>20</td><td>NA  </td><td>  NA</td><td>  NA</td><td>  NA</td><td> NA</td><td> NA</td><td> NA</td><td>   NA</td><td>   NA</td><td>   NA</td><td>  NA</td><td>   NA</td><td>  NA</td><td>   NA</td><td>yes</td></tr>\n",
       "\t<tr><td>43</td><td>45</td><td>adult</td><td>23</td><td>boy </td><td>1.54</td><td>57.0</td><td>  NA</td><td> NA</td><td> NA</td><td> NA</td><td>   NA</td><td>   NA</td><td>   NA</td><td>  NA</td><td>   NA</td><td>  NA</td><td>24.03</td><td>no </td></tr>\n",
       "\t<tr><td>44</td><td>46</td><td>adult</td><td>19</td><td>girl</td><td>1.54</td><td>67.4</td><td>  NA</td><td> NA</td><td> NA</td><td> NA</td><td> 81.9</td><td>332.0</td><td>183.0</td><td>42.6</td><td>252.8</td><td>4.93</td><td>28.42</td><td>no </td></tr>\n",
       "\t<tr><td>45</td><td>47</td><td>adult</td><td>20</td><td>boy </td><td>1.54</td><td>63.7</td><td>  NA</td><td> NA</td><td> NA</td><td> NA</td><td> 91.3</td><td>197.2</td><td>122.0</td><td>36.3</td><td>136.5</td><td>4.62</td><td>26.86</td><td>no </td></tr>\n",
       "\t<tr><td>46</td><td>48</td><td>adult</td><td>19</td><td>boy </td><td>1.47</td><td>47.5</td><td>1363</td><td> 54</td><td>227</td><td> 26</td><td> 77.9</td><td>227.4</td><td>128.0</td><td>35.9</td><td>165.9</td><td>4.27</td><td>21.98</td><td>no </td></tr>\n",
       "\t<tr><td>47</td><td>49</td><td>adult</td><td>20</td><td>girl</td><td>1.65</td><td>62.5</td><td>  NA</td><td> NA</td><td> NA</td><td> NA</td><td>   NA</td><td>   NA</td><td>   NA</td><td>  NA</td><td>   NA</td><td>  NA</td><td>22.96</td><td>no </td></tr>\n",
       "\t<tr><td>48</td><td>50</td><td>adult</td><td>20</td><td>boy </td><td>1.66</td><td>53.5</td><td>  NA</td><td> NA</td><td> NA</td><td> NA</td><td> 68.0</td><td>242.0</td><td>121.0</td><td>40.0</td><td>177.8</td><td>4.05</td><td>19.42</td><td>no </td></tr>\n",
       "\t<tr><td>49</td><td>51</td><td>adult</td><td>23</td><td>girl</td><td>1.51</td><td>70.6</td><td>1813</td><td> 47</td><td>370</td><td> 27</td><td> 65.4</td><td>252.0</td><td>128.8</td><td>75.6</td><td>150.6</td><td>4.30</td><td>30.96</td><td>no </td></tr>\n",
       "\t<tr><td>50</td><td>52</td><td>adult</td><td>22</td><td>boy </td><td>1.47</td><td>63.7</td><td>1859</td><td>100</td><td>251</td><td> 47</td><td> 93.7</td><td>242.3</td><td>213.0</td><td>41.4</td><td>158.3</td><td>4.63</td><td>29.48</td><td>yes</td></tr>\n",
       "\t<tr><td>51</td><td>53</td><td>adult</td><td>23</td><td>girl</td><td>1.58</td><td>86.0</td><td>2551</td><td> 96</td><td>413</td><td> 61</td><td> 70.0</td><td>158.3</td><td>110.0</td><td>55.5</td><td> 80.8</td><td>3.86</td><td>34.45</td><td>yes</td></tr>\n",
       "\t<tr><td>52</td><td>54</td><td>adult</td><td>22</td><td>girl</td><td>1.59</td><td>62.6</td><td>  NA</td><td> NA</td><td> NA</td><td> NA</td><td> 69.4</td><td>253.3</td><td>130.0</td><td>47.8</td><td>179.5</td><td>4.76</td><td>24.76</td><td>yes</td></tr>\n",
       "\t<tr><td>53</td><td>55</td><td>adult</td><td>25</td><td>boy </td><td>1.68</td><td>63.2</td><td>  NA</td><td> NA</td><td> NA</td><td> NA</td><td> 92.9</td><td>287.0</td><td>176.0</td><td>47.4</td><td>204.4</td><td>5.02</td><td>22.39</td><td>yes</td></tr>\n",
       "\t<tr><td>54</td><td>56</td><td>adult</td><td>24</td><td>girl</td><td>  NA</td><td>55.2</td><td>2532</td><td> 76</td><td>407</td><td> 68</td><td> 67.9</td><td>286.7</td><td>278.0</td><td>60.2</td><td>170.9</td><td>4.80</td><td>   NA</td><td>yes</td></tr>\n",
       "\t<tr><td>55</td><td>57</td><td>adult</td><td>19</td><td>girl</td><td>1.66</td><td>73.5</td><td>  NA</td><td> NA</td><td> NA</td><td> NA</td><td> 72.0</td><td>249.0</td><td>162.0</td><td>67.6</td><td>149.0</td><td>4.55</td><td>26.67</td><td>yes</td></tr>\n",
       "\t<tr><td>56</td><td>58</td><td>adult</td><td>20</td><td>girl</td><td>1.50</td><td>60.0</td><td>  NA</td><td> NA</td><td> NA</td><td> NA</td><td> 89.1</td><td>261.0</td><td>160.0</td><td>53.1</td><td>175.9</td><td>4.68</td><td>26.67</td><td>yes</td></tr>\n",
       "\t<tr><td>57</td><td>59</td><td>adult</td><td>27</td><td>boy </td><td>1.59</td><td>58.8</td><td>1511</td><td> 59</td><td>265</td><td> 29</td><td> 72.8</td><td>209.0</td><td>170.8</td><td>38.0</td><td>136.8</td><td>4.92</td><td>23.26</td><td>no </td></tr>\n",
       "\t<tr><td>58</td><td>60</td><td>adult</td><td>19</td><td>NA  </td><td>1.51</td><td>49.5</td><td>  NA</td><td> NA</td><td> NA</td><td> NA</td><td>112.6</td><td>197.8</td><td>264.0</td><td>33.5</td><td>111.5</td><td>4.80</td><td>21.71</td><td>yes</td></tr>\n",
       "\t<tr><td>59</td><td>61</td><td>adult</td><td>22</td><td>girl</td><td>1.50</td><td>50.3</td><td>2043</td><td> 83</td><td>296</td><td> 60</td><td> 73.9</td><td>287.0</td><td>121.0</td><td>39.2</td><td>223.6</td><td>3.87</td><td>22.36</td><td>yes</td></tr>\n",
       "\t<tr><td>60</td><td>62</td><td>adult</td><td>19</td><td>boy </td><td>1.51</td><td>42.7</td><td>3349</td><td>128</td><td>582</td><td> 67</td><td>102.9</td><td>266.0</td><td> 89.3</td><td>69.1</td><td>179.0</td><td>4.72</td><td>18.73</td><td>yes</td></tr>\n",
       "\t<tr><td>61</td><td>63</td><td>adult</td><td>19</td><td>girl</td><td>  NA</td><td>48.0</td><td>3413</td><td> 99</td><td>601</td><td> 83</td><td> 72.5</td><td>299.0</td><td>166.0</td><td>60.1</td><td>205.7</td><td>4.28</td><td>   NA</td><td>yes</td></tr>\n",
       "\t<tr><td>62</td><td>64</td><td>adult</td><td>20</td><td>boy </td><td>1.58</td><td>62.7</td><td>  NA</td><td> NA</td><td> NA</td><td> NA</td><td> 86.6</td><td>213.0</td><td>221.0</td><td>43.6</td><td>125.2</td><td>4.97</td><td>25.12</td><td>yes</td></tr>\n",
       "\t<tr><td>63</td><td>65</td><td>adult</td><td>19</td><td>girl</td><td>  NA</td><td>  NA</td><td>  NA</td><td> NA</td><td> NA</td><td> NA</td><td> 70.2</td><td>278.0</td><td>230.0</td><td>58.2</td><td>173.8</td><td>4.22</td><td>   NA</td><td>no </td></tr>\n",
       "\t<tr><td>64</td><td>66</td><td>adult</td><td>22</td><td>boy </td><td>1.55</td><td>53.2</td><td>  NA</td><td> NA</td><td> NA</td><td> NA</td><td> 85.9</td><td>220.0</td><td>127.2</td><td>45.3</td><td>149.3</td><td>4.68</td><td>22.14</td><td>no </td></tr>\n",
       "\t<tr><td>65</td><td>67</td><td>adult</td><td>19</td><td>girl</td><td>1.50</td><td>52.7</td><td>1982</td><td> 98</td><td>314</td><td> 33</td><td>   NA</td><td>   NA</td><td>   NA</td><td>  NA</td><td>   NA</td><td>  NA</td><td>23.42</td><td>no </td></tr>\n",
       "</tbody>\n",
       "</table>\n"
      ],
      "text/latex": [
       "A grouped_df: 65 × 19\n",
       "\\begin{tabular}{r|lllllllllllllllllll}\n",
       " X & id & group & momAge & sex & momHeight & momWeight & kcal & prot & cho & lipids & glu & choles & trig & hdl & ldl & album & BMI & complete\\\\\n",
       " <int> & <int> & <fct> & <int> & <fct> & <dbl> & <dbl> & <int> & <int> & <int> & <int> & <dbl> & <dbl> & <dbl> & <dbl> & <dbl> & <dbl> & <dbl> & <chr>\\\\\n",
       "\\hline\n",
       "\t  1 &  1 & teen & 17 & girl & 1.48 & 54.4 & 4204 & 103 &  759 & 86 & 115.0 & 205.0 & 304.9 & 23.7 & 120.4 & 4.44 & 24.84 & yes\\\\\n",
       "\t  2 &  2 & teen & 16 & boy  & 1.52 & 74.7 & 1586 &  27 &  242 & 34 & 107.8 & 196.0 & 193.0 & 34.5 & 122.9 & 4.42 & 32.33 & yes\\\\\n",
       "\t  3 &  3 & teen & 17 & boy  & 1.55 & 56.4 & 2052 &  88 &  281 & 67 &  87.2 & 346.0 & 285.0 & 23.0 & 266.0 & 4.79 & 23.48 & no \\\\\n",
       "\t  4 &  4 & teen & 16 & boy  & 1.60 & 65.9 &   NA &  NA &   NA & NA &  95.7 & 273.0 & 143.2 & 39.9 & 204.4 & 4.47 & 25.74 & no \\\\\n",
       "\t  5 &  5 & teen & 16 & NA   & 1.51 & 56.5 & 1621 &  63 &  270 & 38 &  73.9 & 266.0 & 123.0 & 37.7 & 203.7 & 4.39 & 24.78 & yes\\\\\n",
       "\t  6 &  6 & teen & 16 & boy  & 1.57 & 71.2 & 1932 & 100 &  311 & 28 & 100.7 & 224.0 & 289.0 & 21.9 & 144.3 & 4.49 & 28.89 & yes\\\\\n",
       "\t  7 &  7 & teen & 16 & boy  & 1.67 & 64.9 & 2284 &  87 &  343 & 65 &  72.0 & 243.0 & 153.4 & 30.0 & 182.3 & 4.78 & 23.27 & yes\\\\\n",
       "\t  8 &  8 & teen & 16 & boy  & 1.50 & 64.5 & 1160 &  38 &  214 & 20 &  85.7 & 253.0 & 151.1 & 29.1 & 193.6 & 4.42 & 28.67 & yes\\\\\n",
       "\t  9 &  9 & teen & 17 & girl & 1.65 & 65.5 & 1241 &  69 &  146 & 42 &  68.3 & 255.0 & 173.0 & 31.3 & 189.1 & 4.55 & 24.06 & no \\\\\n",
       "\t 10 & 10 & teen & 18 & boy  & 1.64 & 63.5 &   NA &  NA &   NA & NA &  69.0 & 159.0 & 113.0 & 41.3 &  95.1 & 4.67 & 23.61 & no \\\\\n",
       "\t 11 & 11 & teen & 17 & boy  & 1.49 & 50.0 &   NA &  NA &   NA & NA &  66.0 & 279.3 &  80.2 & 37.6 & 125.6 & 4.61 & 22.52 & no \\\\\n",
       "\t 12 & 12 & teen & 16 & girl & 1.58 & 62.8 &   NA &  NA &   NA & NA &    NA &    NA &    NA &   NA &    NA &   NA & 25.16 & no \\\\\n",
       "\t 13 & 13 & teen & 14 & boy  & 1.51 & 55.4 & 1965 &  64 &  337 & 37 &  70.0 & 246.0 & 169.0 & 34.2 & 178.0 & 4.11 & 24.30 & yes\\\\\n",
       "\t 14 & 14 & teen & 17 & girl & 1.46 & 56.8 & 1330 &  88 &  163 & 36 &  77.2 & 272.0 & 154.4 & 50.4 & 190.7 & 4.58 & 26.65 & yes\\\\\n",
       "\t 15 & 15 & teen & 17 & boy  & 1.50 & 59.6 & 1580 &  73 &  242 & 34 &  67.0 & 275.4 & 126.0 & 33.7 & 216.5 & 4.33 & 26.49 & yes\\\\\n",
       "\t 16 & 16 & teen & 15 & boy  & 1.50 & 61.5 & 1783 &  68 &  302 & 35 &  72.0 & 152.0 & 141.0 & 36.5 &  87.3 & 4.30 & 27.33 & no \\\\\n",
       "\t 17 & 17 & teen & 16 & boy  & 1.53 & 51.6 &   NA &  NA &   NA & NA &  68.0 & 214.0 & 138.0 & 37.6 & 148.8 & 4.13 & 22.04 & no \\\\\n",
       "\t 18 & 18 & teen & 16 & boy  & 1.52 & 57.5 & 1943 &  92 &  239 & 67 &  72.7 & 236.6 & 165.1 & 38.9 & 164.6 & 4.24 & 24.89 & no \\\\\n",
       "\t 19 & 19 & teen & 14 & boy  & 1.52 & 56.9 & 1686 &  52 &  275 & 51 &  71.1 & 183.0 & 148.3 & 25.3 & 128.0 & 4.54 & 24.63 & no \\\\\n",
       "\t 20 & 20 & teen & 16 & boy  & 1.60 & 49.6 & 1623 &  55 &  265 & 43 &  74.7 & 179.0 & 122.0 & 55.9 &  98.7 & 4.56 & 19.37 & yes\\\\\n",
       "\t 21 & 21 & teen & 18 & girl & 1.41 & 47.1 &   NA &  NA &   NA & NA &  74.3 & 203.0 &  90.2 & 42.1 & 142.8 & 5.19 & 23.69 & no \\\\\n",
       "\t 22 & 22 & teen & 16 & boy  & 1.55 & 50.6 & 1956 &  92 &  241 & 70 &  82.9 & 197.0 & 124.2 & 43.1 & 129.0 & 4.24 & 21.06 & no \\\\\n",
       "\t 23 & 23 & teen & 16 & boy  & 1.49 & 41.9 & 2232 &  75 &  428 & 27 &  81.7 & 173.4 & 120.0 & 25.1 & 124.3 & 4.33 & 18.87 & yes\\\\\n",
       "\t 24 & 24 & teen & 18 & boy  & 1.60 & 64.2 &   NA &  NA &   NA & NA &    NA &    NA &    NA &   NA &    NA &   NA & 25.08 & no \\\\\n",
       "\t 25 & 25 & teen & 17 & boy  & 1.67 & 73.5 &   NA &  NA &   NA & NA &    NA &    NA &    NA &   NA &    NA &   NA & 26.35 & no \\\\\n",
       "\t 26 & 26 & teen & 15 & girl & 1.60 & 68.8 & 2783 &  92 &  474 & 65 &  71.9 & 204.0 & 123.0 & 45.3 & 134.1 & 4.14 & 26.87 & no \\\\\n",
       "\t 27 & 27 & teen & 15 & NA   & 1.50 & 50.5 &  870 &  33 &  138 & 20 &  80.3 & 263.0 & 116.0 & 40.8 & 199.0 & 4.03 & 22.44 & yes\\\\\n",
       "\t 28 & 28 & teen & 16 & girl & 1.52 & 49.4 &   NA &  NA &   NA & NA &  72.9 & 290.3 & 131.0 & 53.0 & 211.1 & 4.64 & 21.38 & yes\\\\\n",
       "\t 29 & 29 & teen & 16 & girl & 1.55 & 63.3 & 1788 &  72 & 1840 & 41 &  77.0 & 226.0 & 203.6 & 22.0 & 163.2 & 4.60 & 26.35 & no \\\\\n",
       "\t 30 & 30 & teen & 17 & boy  & 1.57 & 74.3 &   NA &  NA &   NA & NA &  88.1 & 265.0 & 271.0 & 43.7 & 167.1 & 5.09 & 30.14 & yes\\\\\n",
       "\t ⋮ & ⋮ & ⋮ & ⋮ & ⋮ & ⋮ & ⋮ & ⋮ & ⋮ & ⋮ & ⋮ & ⋮ & ⋮ & ⋮ & ⋮ & ⋮ & ⋮ & ⋮ & ⋮\\\\\n",
       "\t 36 & 36 & teen  & 16 & girl & 1.62 & 70.2 & 1304 &  85 & 140 &  46 &  78.6 & 235.1 & 142.2 & 50.1 & 156.6 & 4.78 & 26.75 & no \\\\\n",
       "\t 37 & 37 & teen  & 18 & girl & 1.56 & 52.1 & 1240 &  48 & 220 &  23 &  71.1 & 205.1 & 102.6 & 43.8 & 140.8 & 4.60 & 21.41 & yes\\\\\n",
       "\t 38 & 38 & teen  & 17 & boy  &   NA &   NA &   NA &  NA &  NA &  NA &  70.0 & 207.7 &  94.1 & 48.0 & 140.9 & 4.55 &    NA & no \\\\\n",
       "\t 39 & 39 & teen  & 17 & boy  & 1.56 & 55.8 & 1355 &  59 & 188 &  40 &  80.4 & 239.7 & 137.2 & 63.5 & 148.8 & 4.41 & 22.93 & yes\\\\\n",
       "\t 40 & 41 & adult & 27 & boy  & 1.56 & 58.1 & 2725 & 119 & 344 & 105 &  80.7 & 154.0 &  62.7 & 41.9 &  99.6 & 4.73 & 23.87 & yes\\\\\n",
       "\t 41 & 42 & adult & 22 & girl & 1.58 & 63.1 & 1808 &  84 & 222 &  68 &  90.2 & 217.0 & 142.0 & 23.0 & 165.6 & 4.43 & 25.28 & yes\\\\\n",
       "\t 42 & 43 & adult & 20 & NA   &   NA &   NA &   NA &  NA &  NA &  NA &    NA &    NA &    NA &   NA &    NA &   NA &    NA & yes\\\\\n",
       "\t 43 & 45 & adult & 23 & boy  & 1.54 & 57.0 &   NA &  NA &  NA &  NA &    NA &    NA &    NA &   NA &    NA &   NA & 24.03 & no \\\\\n",
       "\t 44 & 46 & adult & 19 & girl & 1.54 & 67.4 &   NA &  NA &  NA &  NA &  81.9 & 332.0 & 183.0 & 42.6 & 252.8 & 4.93 & 28.42 & no \\\\\n",
       "\t 45 & 47 & adult & 20 & boy  & 1.54 & 63.7 &   NA &  NA &  NA &  NA &  91.3 & 197.2 & 122.0 & 36.3 & 136.5 & 4.62 & 26.86 & no \\\\\n",
       "\t 46 & 48 & adult & 19 & boy  & 1.47 & 47.5 & 1363 &  54 & 227 &  26 &  77.9 & 227.4 & 128.0 & 35.9 & 165.9 & 4.27 & 21.98 & no \\\\\n",
       "\t 47 & 49 & adult & 20 & girl & 1.65 & 62.5 &   NA &  NA &  NA &  NA &    NA &    NA &    NA &   NA &    NA &   NA & 22.96 & no \\\\\n",
       "\t 48 & 50 & adult & 20 & boy  & 1.66 & 53.5 &   NA &  NA &  NA &  NA &  68.0 & 242.0 & 121.0 & 40.0 & 177.8 & 4.05 & 19.42 & no \\\\\n",
       "\t 49 & 51 & adult & 23 & girl & 1.51 & 70.6 & 1813 &  47 & 370 &  27 &  65.4 & 252.0 & 128.8 & 75.6 & 150.6 & 4.30 & 30.96 & no \\\\\n",
       "\t 50 & 52 & adult & 22 & boy  & 1.47 & 63.7 & 1859 & 100 & 251 &  47 &  93.7 & 242.3 & 213.0 & 41.4 & 158.3 & 4.63 & 29.48 & yes\\\\\n",
       "\t 51 & 53 & adult & 23 & girl & 1.58 & 86.0 & 2551 &  96 & 413 &  61 &  70.0 & 158.3 & 110.0 & 55.5 &  80.8 & 3.86 & 34.45 & yes\\\\\n",
       "\t 52 & 54 & adult & 22 & girl & 1.59 & 62.6 &   NA &  NA &  NA &  NA &  69.4 & 253.3 & 130.0 & 47.8 & 179.5 & 4.76 & 24.76 & yes\\\\\n",
       "\t 53 & 55 & adult & 25 & boy  & 1.68 & 63.2 &   NA &  NA &  NA &  NA &  92.9 & 287.0 & 176.0 & 47.4 & 204.4 & 5.02 & 22.39 & yes\\\\\n",
       "\t 54 & 56 & adult & 24 & girl &   NA & 55.2 & 2532 &  76 & 407 &  68 &  67.9 & 286.7 & 278.0 & 60.2 & 170.9 & 4.80 &    NA & yes\\\\\n",
       "\t 55 & 57 & adult & 19 & girl & 1.66 & 73.5 &   NA &  NA &  NA &  NA &  72.0 & 249.0 & 162.0 & 67.6 & 149.0 & 4.55 & 26.67 & yes\\\\\n",
       "\t 56 & 58 & adult & 20 & girl & 1.50 & 60.0 &   NA &  NA &  NA &  NA &  89.1 & 261.0 & 160.0 & 53.1 & 175.9 & 4.68 & 26.67 & yes\\\\\n",
       "\t 57 & 59 & adult & 27 & boy  & 1.59 & 58.8 & 1511 &  59 & 265 &  29 &  72.8 & 209.0 & 170.8 & 38.0 & 136.8 & 4.92 & 23.26 & no \\\\\n",
       "\t 58 & 60 & adult & 19 & NA   & 1.51 & 49.5 &   NA &  NA &  NA &  NA & 112.6 & 197.8 & 264.0 & 33.5 & 111.5 & 4.80 & 21.71 & yes\\\\\n",
       "\t 59 & 61 & adult & 22 & girl & 1.50 & 50.3 & 2043 &  83 & 296 &  60 &  73.9 & 287.0 & 121.0 & 39.2 & 223.6 & 3.87 & 22.36 & yes\\\\\n",
       "\t 60 & 62 & adult & 19 & boy  & 1.51 & 42.7 & 3349 & 128 & 582 &  67 & 102.9 & 266.0 &  89.3 & 69.1 & 179.0 & 4.72 & 18.73 & yes\\\\\n",
       "\t 61 & 63 & adult & 19 & girl &   NA & 48.0 & 3413 &  99 & 601 &  83 &  72.5 & 299.0 & 166.0 & 60.1 & 205.7 & 4.28 &    NA & yes\\\\\n",
       "\t 62 & 64 & adult & 20 & boy  & 1.58 & 62.7 &   NA &  NA &  NA &  NA &  86.6 & 213.0 & 221.0 & 43.6 & 125.2 & 4.97 & 25.12 & yes\\\\\n",
       "\t 63 & 65 & adult & 19 & girl &   NA &   NA &   NA &  NA &  NA &  NA &  70.2 & 278.0 & 230.0 & 58.2 & 173.8 & 4.22 &    NA & no \\\\\n",
       "\t 64 & 66 & adult & 22 & boy  & 1.55 & 53.2 &   NA &  NA &  NA &  NA &  85.9 & 220.0 & 127.2 & 45.3 & 149.3 & 4.68 & 22.14 & no \\\\\n",
       "\t 65 & 67 & adult & 19 & girl & 1.50 & 52.7 & 1982 &  98 & 314 &  33 &    NA &    NA &    NA &   NA &    NA &   NA & 23.42 & no \\\\\n",
       "\\end{tabular}\n"
      ],
      "text/markdown": [
       "\n",
       "A grouped_df: 65 × 19\n",
       "\n",
       "| X &lt;int&gt; | id &lt;int&gt; | group &lt;fct&gt; | momAge &lt;int&gt; | sex &lt;fct&gt; | momHeight &lt;dbl&gt; | momWeight &lt;dbl&gt; | kcal &lt;int&gt; | prot &lt;int&gt; | cho &lt;int&gt; | lipids &lt;int&gt; | glu &lt;dbl&gt; | choles &lt;dbl&gt; | trig &lt;dbl&gt; | hdl &lt;dbl&gt; | ldl &lt;dbl&gt; | album &lt;dbl&gt; | BMI &lt;dbl&gt; | complete &lt;chr&gt; |\n",
       "|---|---|---|---|---|---|---|---|---|---|---|---|---|---|---|---|---|---|---|\n",
       "|  1 |  1 | teen | 17 | girl | 1.48 | 54.4 | 4204 | 103 |  759 | 86 | 115.0 | 205.0 | 304.9 | 23.7 | 120.4 | 4.44 | 24.84 | yes |\n",
       "|  2 |  2 | teen | 16 | boy  | 1.52 | 74.7 | 1586 |  27 |  242 | 34 | 107.8 | 196.0 | 193.0 | 34.5 | 122.9 | 4.42 | 32.33 | yes |\n",
       "|  3 |  3 | teen | 17 | boy  | 1.55 | 56.4 | 2052 |  88 |  281 | 67 |  87.2 | 346.0 | 285.0 | 23.0 | 266.0 | 4.79 | 23.48 | no  |\n",
       "|  4 |  4 | teen | 16 | boy  | 1.60 | 65.9 |   NA |  NA |   NA | NA |  95.7 | 273.0 | 143.2 | 39.9 | 204.4 | 4.47 | 25.74 | no  |\n",
       "|  5 |  5 | teen | 16 | NA   | 1.51 | 56.5 | 1621 |  63 |  270 | 38 |  73.9 | 266.0 | 123.0 | 37.7 | 203.7 | 4.39 | 24.78 | yes |\n",
       "|  6 |  6 | teen | 16 | boy  | 1.57 | 71.2 | 1932 | 100 |  311 | 28 | 100.7 | 224.0 | 289.0 | 21.9 | 144.3 | 4.49 | 28.89 | yes |\n",
       "|  7 |  7 | teen | 16 | boy  | 1.67 | 64.9 | 2284 |  87 |  343 | 65 |  72.0 | 243.0 | 153.4 | 30.0 | 182.3 | 4.78 | 23.27 | yes |\n",
       "|  8 |  8 | teen | 16 | boy  | 1.50 | 64.5 | 1160 |  38 |  214 | 20 |  85.7 | 253.0 | 151.1 | 29.1 | 193.6 | 4.42 | 28.67 | yes |\n",
       "|  9 |  9 | teen | 17 | girl | 1.65 | 65.5 | 1241 |  69 |  146 | 42 |  68.3 | 255.0 | 173.0 | 31.3 | 189.1 | 4.55 | 24.06 | no  |\n",
       "| 10 | 10 | teen | 18 | boy  | 1.64 | 63.5 |   NA |  NA |   NA | NA |  69.0 | 159.0 | 113.0 | 41.3 |  95.1 | 4.67 | 23.61 | no  |\n",
       "| 11 | 11 | teen | 17 | boy  | 1.49 | 50.0 |   NA |  NA |   NA | NA |  66.0 | 279.3 |  80.2 | 37.6 | 125.6 | 4.61 | 22.52 | no  |\n",
       "| 12 | 12 | teen | 16 | girl | 1.58 | 62.8 |   NA |  NA |   NA | NA |    NA |    NA |    NA |   NA |    NA |   NA | 25.16 | no  |\n",
       "| 13 | 13 | teen | 14 | boy  | 1.51 | 55.4 | 1965 |  64 |  337 | 37 |  70.0 | 246.0 | 169.0 | 34.2 | 178.0 | 4.11 | 24.30 | yes |\n",
       "| 14 | 14 | teen | 17 | girl | 1.46 | 56.8 | 1330 |  88 |  163 | 36 |  77.2 | 272.0 | 154.4 | 50.4 | 190.7 | 4.58 | 26.65 | yes |\n",
       "| 15 | 15 | teen | 17 | boy  | 1.50 | 59.6 | 1580 |  73 |  242 | 34 |  67.0 | 275.4 | 126.0 | 33.7 | 216.5 | 4.33 | 26.49 | yes |\n",
       "| 16 | 16 | teen | 15 | boy  | 1.50 | 61.5 | 1783 |  68 |  302 | 35 |  72.0 | 152.0 | 141.0 | 36.5 |  87.3 | 4.30 | 27.33 | no  |\n",
       "| 17 | 17 | teen | 16 | boy  | 1.53 | 51.6 |   NA |  NA |   NA | NA |  68.0 | 214.0 | 138.0 | 37.6 | 148.8 | 4.13 | 22.04 | no  |\n",
       "| 18 | 18 | teen | 16 | boy  | 1.52 | 57.5 | 1943 |  92 |  239 | 67 |  72.7 | 236.6 | 165.1 | 38.9 | 164.6 | 4.24 | 24.89 | no  |\n",
       "| 19 | 19 | teen | 14 | boy  | 1.52 | 56.9 | 1686 |  52 |  275 | 51 |  71.1 | 183.0 | 148.3 | 25.3 | 128.0 | 4.54 | 24.63 | no  |\n",
       "| 20 | 20 | teen | 16 | boy  | 1.60 | 49.6 | 1623 |  55 |  265 | 43 |  74.7 | 179.0 | 122.0 | 55.9 |  98.7 | 4.56 | 19.37 | yes |\n",
       "| 21 | 21 | teen | 18 | girl | 1.41 | 47.1 |   NA |  NA |   NA | NA |  74.3 | 203.0 |  90.2 | 42.1 | 142.8 | 5.19 | 23.69 | no  |\n",
       "| 22 | 22 | teen | 16 | boy  | 1.55 | 50.6 | 1956 |  92 |  241 | 70 |  82.9 | 197.0 | 124.2 | 43.1 | 129.0 | 4.24 | 21.06 | no  |\n",
       "| 23 | 23 | teen | 16 | boy  | 1.49 | 41.9 | 2232 |  75 |  428 | 27 |  81.7 | 173.4 | 120.0 | 25.1 | 124.3 | 4.33 | 18.87 | yes |\n",
       "| 24 | 24 | teen | 18 | boy  | 1.60 | 64.2 |   NA |  NA |   NA | NA |    NA |    NA |    NA |   NA |    NA |   NA | 25.08 | no  |\n",
       "| 25 | 25 | teen | 17 | boy  | 1.67 | 73.5 |   NA |  NA |   NA | NA |    NA |    NA |    NA |   NA |    NA |   NA | 26.35 | no  |\n",
       "| 26 | 26 | teen | 15 | girl | 1.60 | 68.8 | 2783 |  92 |  474 | 65 |  71.9 | 204.0 | 123.0 | 45.3 | 134.1 | 4.14 | 26.87 | no  |\n",
       "| 27 | 27 | teen | 15 | NA   | 1.50 | 50.5 |  870 |  33 |  138 | 20 |  80.3 | 263.0 | 116.0 | 40.8 | 199.0 | 4.03 | 22.44 | yes |\n",
       "| 28 | 28 | teen | 16 | girl | 1.52 | 49.4 |   NA |  NA |   NA | NA |  72.9 | 290.3 | 131.0 | 53.0 | 211.1 | 4.64 | 21.38 | yes |\n",
       "| 29 | 29 | teen | 16 | girl | 1.55 | 63.3 | 1788 |  72 | 1840 | 41 |  77.0 | 226.0 | 203.6 | 22.0 | 163.2 | 4.60 | 26.35 | no  |\n",
       "| 30 | 30 | teen | 17 | boy  | 1.57 | 74.3 |   NA |  NA |   NA | NA |  88.1 | 265.0 | 271.0 | 43.7 | 167.1 | 5.09 | 30.14 | yes |\n",
       "| ⋮ | ⋮ | ⋮ | ⋮ | ⋮ | ⋮ | ⋮ | ⋮ | ⋮ | ⋮ | ⋮ | ⋮ | ⋮ | ⋮ | ⋮ | ⋮ | ⋮ | ⋮ | ⋮ |\n",
       "| 36 | 36 | teen  | 16 | girl | 1.62 | 70.2 | 1304 |  85 | 140 |  46 |  78.6 | 235.1 | 142.2 | 50.1 | 156.6 | 4.78 | 26.75 | no  |\n",
       "| 37 | 37 | teen  | 18 | girl | 1.56 | 52.1 | 1240 |  48 | 220 |  23 |  71.1 | 205.1 | 102.6 | 43.8 | 140.8 | 4.60 | 21.41 | yes |\n",
       "| 38 | 38 | teen  | 17 | boy  |   NA |   NA |   NA |  NA |  NA |  NA |  70.0 | 207.7 |  94.1 | 48.0 | 140.9 | 4.55 |    NA | no  |\n",
       "| 39 | 39 | teen  | 17 | boy  | 1.56 | 55.8 | 1355 |  59 | 188 |  40 |  80.4 | 239.7 | 137.2 | 63.5 | 148.8 | 4.41 | 22.93 | yes |\n",
       "| 40 | 41 | adult | 27 | boy  | 1.56 | 58.1 | 2725 | 119 | 344 | 105 |  80.7 | 154.0 |  62.7 | 41.9 |  99.6 | 4.73 | 23.87 | yes |\n",
       "| 41 | 42 | adult | 22 | girl | 1.58 | 63.1 | 1808 |  84 | 222 |  68 |  90.2 | 217.0 | 142.0 | 23.0 | 165.6 | 4.43 | 25.28 | yes |\n",
       "| 42 | 43 | adult | 20 | NA   |   NA |   NA |   NA |  NA |  NA |  NA |    NA |    NA |    NA |   NA |    NA |   NA |    NA | yes |\n",
       "| 43 | 45 | adult | 23 | boy  | 1.54 | 57.0 |   NA |  NA |  NA |  NA |    NA |    NA |    NA |   NA |    NA |   NA | 24.03 | no  |\n",
       "| 44 | 46 | adult | 19 | girl | 1.54 | 67.4 |   NA |  NA |  NA |  NA |  81.9 | 332.0 | 183.0 | 42.6 | 252.8 | 4.93 | 28.42 | no  |\n",
       "| 45 | 47 | adult | 20 | boy  | 1.54 | 63.7 |   NA |  NA |  NA |  NA |  91.3 | 197.2 | 122.0 | 36.3 | 136.5 | 4.62 | 26.86 | no  |\n",
       "| 46 | 48 | adult | 19 | boy  | 1.47 | 47.5 | 1363 |  54 | 227 |  26 |  77.9 | 227.4 | 128.0 | 35.9 | 165.9 | 4.27 | 21.98 | no  |\n",
       "| 47 | 49 | adult | 20 | girl | 1.65 | 62.5 |   NA |  NA |  NA |  NA |    NA |    NA |    NA |   NA |    NA |   NA | 22.96 | no  |\n",
       "| 48 | 50 | adult | 20 | boy  | 1.66 | 53.5 |   NA |  NA |  NA |  NA |  68.0 | 242.0 | 121.0 | 40.0 | 177.8 | 4.05 | 19.42 | no  |\n",
       "| 49 | 51 | adult | 23 | girl | 1.51 | 70.6 | 1813 |  47 | 370 |  27 |  65.4 | 252.0 | 128.8 | 75.6 | 150.6 | 4.30 | 30.96 | no  |\n",
       "| 50 | 52 | adult | 22 | boy  | 1.47 | 63.7 | 1859 | 100 | 251 |  47 |  93.7 | 242.3 | 213.0 | 41.4 | 158.3 | 4.63 | 29.48 | yes |\n",
       "| 51 | 53 | adult | 23 | girl | 1.58 | 86.0 | 2551 |  96 | 413 |  61 |  70.0 | 158.3 | 110.0 | 55.5 |  80.8 | 3.86 | 34.45 | yes |\n",
       "| 52 | 54 | adult | 22 | girl | 1.59 | 62.6 |   NA |  NA |  NA |  NA |  69.4 | 253.3 | 130.0 | 47.8 | 179.5 | 4.76 | 24.76 | yes |\n",
       "| 53 | 55 | adult | 25 | boy  | 1.68 | 63.2 |   NA |  NA |  NA |  NA |  92.9 | 287.0 | 176.0 | 47.4 | 204.4 | 5.02 | 22.39 | yes |\n",
       "| 54 | 56 | adult | 24 | girl |   NA | 55.2 | 2532 |  76 | 407 |  68 |  67.9 | 286.7 | 278.0 | 60.2 | 170.9 | 4.80 |    NA | yes |\n",
       "| 55 | 57 | adult | 19 | girl | 1.66 | 73.5 |   NA |  NA |  NA |  NA |  72.0 | 249.0 | 162.0 | 67.6 | 149.0 | 4.55 | 26.67 | yes |\n",
       "| 56 | 58 | adult | 20 | girl | 1.50 | 60.0 |   NA |  NA |  NA |  NA |  89.1 | 261.0 | 160.0 | 53.1 | 175.9 | 4.68 | 26.67 | yes |\n",
       "| 57 | 59 | adult | 27 | boy  | 1.59 | 58.8 | 1511 |  59 | 265 |  29 |  72.8 | 209.0 | 170.8 | 38.0 | 136.8 | 4.92 | 23.26 | no  |\n",
       "| 58 | 60 | adult | 19 | NA   | 1.51 | 49.5 |   NA |  NA |  NA |  NA | 112.6 | 197.8 | 264.0 | 33.5 | 111.5 | 4.80 | 21.71 | yes |\n",
       "| 59 | 61 | adult | 22 | girl | 1.50 | 50.3 | 2043 |  83 | 296 |  60 |  73.9 | 287.0 | 121.0 | 39.2 | 223.6 | 3.87 | 22.36 | yes |\n",
       "| 60 | 62 | adult | 19 | boy  | 1.51 | 42.7 | 3349 | 128 | 582 |  67 | 102.9 | 266.0 |  89.3 | 69.1 | 179.0 | 4.72 | 18.73 | yes |\n",
       "| 61 | 63 | adult | 19 | girl |   NA | 48.0 | 3413 |  99 | 601 |  83 |  72.5 | 299.0 | 166.0 | 60.1 | 205.7 | 4.28 |    NA | yes |\n",
       "| 62 | 64 | adult | 20 | boy  | 1.58 | 62.7 |   NA |  NA |  NA |  NA |  86.6 | 213.0 | 221.0 | 43.6 | 125.2 | 4.97 | 25.12 | yes |\n",
       "| 63 | 65 | adult | 19 | girl |   NA |   NA |   NA |  NA |  NA |  NA |  70.2 | 278.0 | 230.0 | 58.2 | 173.8 | 4.22 |    NA | no  |\n",
       "| 64 | 66 | adult | 22 | boy  | 1.55 | 53.2 |   NA |  NA |  NA |  NA |  85.9 | 220.0 | 127.2 | 45.3 | 149.3 | 4.68 | 22.14 | no  |\n",
       "| 65 | 67 | adult | 19 | girl | 1.50 | 52.7 | 1982 |  98 | 314 |  33 |    NA |    NA |    NA |   NA |    NA |   NA | 23.42 | no  |\n",
       "\n"
      ],
      "text/plain": [
       "   X  id group momAge sex  momHeight momWeight kcal prot cho  lipids glu  \n",
       "1   1  1 teen  17     girl 1.48      54.4      4204 103   759 86     115.0\n",
       "2   2  2 teen  16     boy  1.52      74.7      1586  27   242 34     107.8\n",
       "3   3  3 teen  17     boy  1.55      56.4      2052  88   281 67      87.2\n",
       "4   4  4 teen  16     boy  1.60      65.9        NA  NA    NA NA      95.7\n",
       "5   5  5 teen  16     NA   1.51      56.5      1621  63   270 38      73.9\n",
       "6   6  6 teen  16     boy  1.57      71.2      1932 100   311 28     100.7\n",
       "7   7  7 teen  16     boy  1.67      64.9      2284  87   343 65      72.0\n",
       "8   8  8 teen  16     boy  1.50      64.5      1160  38   214 20      85.7\n",
       "9   9  9 teen  17     girl 1.65      65.5      1241  69   146 42      68.3\n",
       "10 10 10 teen  18     boy  1.64      63.5        NA  NA    NA NA      69.0\n",
       "11 11 11 teen  17     boy  1.49      50.0        NA  NA    NA NA      66.0\n",
       "12 12 12 teen  16     girl 1.58      62.8        NA  NA    NA NA        NA\n",
       "13 13 13 teen  14     boy  1.51      55.4      1965  64   337 37      70.0\n",
       "14 14 14 teen  17     girl 1.46      56.8      1330  88   163 36      77.2\n",
       "15 15 15 teen  17     boy  1.50      59.6      1580  73   242 34      67.0\n",
       "16 16 16 teen  15     boy  1.50      61.5      1783  68   302 35      72.0\n",
       "17 17 17 teen  16     boy  1.53      51.6        NA  NA    NA NA      68.0\n",
       "18 18 18 teen  16     boy  1.52      57.5      1943  92   239 67      72.7\n",
       "19 19 19 teen  14     boy  1.52      56.9      1686  52   275 51      71.1\n",
       "20 20 20 teen  16     boy  1.60      49.6      1623  55   265 43      74.7\n",
       "21 21 21 teen  18     girl 1.41      47.1        NA  NA    NA NA      74.3\n",
       "22 22 22 teen  16     boy  1.55      50.6      1956  92   241 70      82.9\n",
       "23 23 23 teen  16     boy  1.49      41.9      2232  75   428 27      81.7\n",
       "24 24 24 teen  18     boy  1.60      64.2        NA  NA    NA NA        NA\n",
       "25 25 25 teen  17     boy  1.67      73.5        NA  NA    NA NA        NA\n",
       "26 26 26 teen  15     girl 1.60      68.8      2783  92   474 65      71.9\n",
       "27 27 27 teen  15     NA   1.50      50.5       870  33   138 20      80.3\n",
       "28 28 28 teen  16     girl 1.52      49.4        NA  NA    NA NA      72.9\n",
       "29 29 29 teen  16     girl 1.55      63.3      1788  72  1840 41      77.0\n",
       "30 30 30 teen  17     boy  1.57      74.3        NA  NA    NA NA      88.1\n",
       "⋮  ⋮  ⋮  ⋮     ⋮      ⋮    ⋮         ⋮         ⋮    ⋮    ⋮    ⋮      ⋮    \n",
       "36 36 36 teen  16     girl 1.62      70.2      1304  85  140   46     78.6\n",
       "37 37 37 teen  18     girl 1.56      52.1      1240  48  220   23     71.1\n",
       "38 38 38 teen  17     boy    NA        NA        NA  NA   NA   NA     70.0\n",
       "39 39 39 teen  17     boy  1.56      55.8      1355  59  188   40     80.4\n",
       "40 40 41 adult 27     boy  1.56      58.1      2725 119  344  105     80.7\n",
       "41 41 42 adult 22     girl 1.58      63.1      1808  84  222   68     90.2\n",
       "42 42 43 adult 20     NA     NA        NA        NA  NA   NA   NA       NA\n",
       "43 43 45 adult 23     boy  1.54      57.0        NA  NA   NA   NA       NA\n",
       "44 44 46 adult 19     girl 1.54      67.4        NA  NA   NA   NA     81.9\n",
       "45 45 47 adult 20     boy  1.54      63.7        NA  NA   NA   NA     91.3\n",
       "46 46 48 adult 19     boy  1.47      47.5      1363  54  227   26     77.9\n",
       "47 47 49 adult 20     girl 1.65      62.5        NA  NA   NA   NA       NA\n",
       "48 48 50 adult 20     boy  1.66      53.5        NA  NA   NA   NA     68.0\n",
       "49 49 51 adult 23     girl 1.51      70.6      1813  47  370   27     65.4\n",
       "50 50 52 adult 22     boy  1.47      63.7      1859 100  251   47     93.7\n",
       "51 51 53 adult 23     girl 1.58      86.0      2551  96  413   61     70.0\n",
       "52 52 54 adult 22     girl 1.59      62.6        NA  NA   NA   NA     69.4\n",
       "53 53 55 adult 25     boy  1.68      63.2        NA  NA   NA   NA     92.9\n",
       "54 54 56 adult 24     girl   NA      55.2      2532  76  407   68     67.9\n",
       "55 55 57 adult 19     girl 1.66      73.5        NA  NA   NA   NA     72.0\n",
       "56 56 58 adult 20     girl 1.50      60.0        NA  NA   NA   NA     89.1\n",
       "57 57 59 adult 27     boy  1.59      58.8      1511  59  265   29     72.8\n",
       "58 58 60 adult 19     NA   1.51      49.5        NA  NA   NA   NA    112.6\n",
       "59 59 61 adult 22     girl 1.50      50.3      2043  83  296   60     73.9\n",
       "60 60 62 adult 19     boy  1.51      42.7      3349 128  582   67    102.9\n",
       "61 61 63 adult 19     girl   NA      48.0      3413  99  601   83     72.5\n",
       "62 62 64 adult 20     boy  1.58      62.7        NA  NA   NA   NA     86.6\n",
       "63 63 65 adult 19     girl   NA        NA        NA  NA   NA   NA     70.2\n",
       "64 64 66 adult 22     boy  1.55      53.2        NA  NA   NA   NA     85.9\n",
       "65 65 67 adult 19     girl 1.50      52.7      1982  98  314   33       NA\n",
       "   choles trig  hdl  ldl   album BMI   complete\n",
       "1  205.0  304.9 23.7 120.4 4.44  24.84 yes     \n",
       "2  196.0  193.0 34.5 122.9 4.42  32.33 yes     \n",
       "3  346.0  285.0 23.0 266.0 4.79  23.48 no      \n",
       "4  273.0  143.2 39.9 204.4 4.47  25.74 no      \n",
       "5  266.0  123.0 37.7 203.7 4.39  24.78 yes     \n",
       "6  224.0  289.0 21.9 144.3 4.49  28.89 yes     \n",
       "7  243.0  153.4 30.0 182.3 4.78  23.27 yes     \n",
       "8  253.0  151.1 29.1 193.6 4.42  28.67 yes     \n",
       "9  255.0  173.0 31.3 189.1 4.55  24.06 no      \n",
       "10 159.0  113.0 41.3  95.1 4.67  23.61 no      \n",
       "11 279.3   80.2 37.6 125.6 4.61  22.52 no      \n",
       "12    NA     NA   NA    NA   NA  25.16 no      \n",
       "13 246.0  169.0 34.2 178.0 4.11  24.30 yes     \n",
       "14 272.0  154.4 50.4 190.7 4.58  26.65 yes     \n",
       "15 275.4  126.0 33.7 216.5 4.33  26.49 yes     \n",
       "16 152.0  141.0 36.5  87.3 4.30  27.33 no      \n",
       "17 214.0  138.0 37.6 148.8 4.13  22.04 no      \n",
       "18 236.6  165.1 38.9 164.6 4.24  24.89 no      \n",
       "19 183.0  148.3 25.3 128.0 4.54  24.63 no      \n",
       "20 179.0  122.0 55.9  98.7 4.56  19.37 yes     \n",
       "21 203.0   90.2 42.1 142.8 5.19  23.69 no      \n",
       "22 197.0  124.2 43.1 129.0 4.24  21.06 no      \n",
       "23 173.4  120.0 25.1 124.3 4.33  18.87 yes     \n",
       "24    NA     NA   NA    NA   NA  25.08 no      \n",
       "25    NA     NA   NA    NA   NA  26.35 no      \n",
       "26 204.0  123.0 45.3 134.1 4.14  26.87 no      \n",
       "27 263.0  116.0 40.8 199.0 4.03  22.44 yes     \n",
       "28 290.3  131.0 53.0 211.1 4.64  21.38 yes     \n",
       "29 226.0  203.6 22.0 163.2 4.60  26.35 no      \n",
       "30 265.0  271.0 43.7 167.1 5.09  30.14 yes     \n",
       "⋮  ⋮      ⋮     ⋮    ⋮     ⋮     ⋮     ⋮       \n",
       "36 235.1  142.2 50.1 156.6 4.78  26.75 no      \n",
       "37 205.1  102.6 43.8 140.8 4.60  21.41 yes     \n",
       "38 207.7   94.1 48.0 140.9 4.55     NA no      \n",
       "39 239.7  137.2 63.5 148.8 4.41  22.93 yes     \n",
       "40 154.0   62.7 41.9  99.6 4.73  23.87 yes     \n",
       "41 217.0  142.0 23.0 165.6 4.43  25.28 yes     \n",
       "42    NA     NA   NA    NA   NA     NA yes     \n",
       "43    NA     NA   NA    NA   NA  24.03 no      \n",
       "44 332.0  183.0 42.6 252.8 4.93  28.42 no      \n",
       "45 197.2  122.0 36.3 136.5 4.62  26.86 no      \n",
       "46 227.4  128.0 35.9 165.9 4.27  21.98 no      \n",
       "47    NA     NA   NA    NA   NA  22.96 no      \n",
       "48 242.0  121.0 40.0 177.8 4.05  19.42 no      \n",
       "49 252.0  128.8 75.6 150.6 4.30  30.96 no      \n",
       "50 242.3  213.0 41.4 158.3 4.63  29.48 yes     \n",
       "51 158.3  110.0 55.5  80.8 3.86  34.45 yes     \n",
       "52 253.3  130.0 47.8 179.5 4.76  24.76 yes     \n",
       "53 287.0  176.0 47.4 204.4 5.02  22.39 yes     \n",
       "54 286.7  278.0 60.2 170.9 4.80     NA yes     \n",
       "55 249.0  162.0 67.6 149.0 4.55  26.67 yes     \n",
       "56 261.0  160.0 53.1 175.9 4.68  26.67 yes     \n",
       "57 209.0  170.8 38.0 136.8 4.92  23.26 no      \n",
       "58 197.8  264.0 33.5 111.5 4.80  21.71 yes     \n",
       "59 287.0  121.0 39.2 223.6 3.87  22.36 yes     \n",
       "60 266.0   89.3 69.1 179.0 4.72  18.73 yes     \n",
       "61 299.0  166.0 60.1 205.7 4.28     NA yes     \n",
       "62 213.0  221.0 43.6 125.2 4.97  25.12 yes     \n",
       "63 278.0  230.0 58.2 173.8 4.22     NA no      \n",
       "64 220.0  127.2 45.3 149.3 4.68  22.14 no      \n",
       "65    NA     NA   NA    NA   NA  23.42 no      "
      ]
     },
     "metadata": {},
     "output_type": "display_data"
    }
   ],
   "source": [
    "moms_complete %>% group_by(complete)"
   ]
  },
  {
   "cell_type": "markdown",
   "metadata": {},
   "source": [
    "## Weigth and Head Circumference for babies with complete and incomplete data"
   ]
  },
  {
   "cell_type": "code",
   "execution_count": 55,
   "metadata": {},
   "outputs": [
    {
     "data": {
      "text/html": [
       "<table>\n",
       "<caption>A data.frame: 6 × 8</caption>\n",
       "<thead>\n",
       "\t<tr><th scope=col>X</th><th scope=col>id</th><th scope=col>group</th><th scope=col>sex</th><th scope=col>weekNames</th><th scope=col>weight</th><th scope=col>week</th><th scope=col>complete</th></tr>\n",
       "\t<tr><th scope=col>&lt;int&gt;</th><th scope=col>&lt;int&gt;</th><th scope=col>&lt;fct&gt;</th><th scope=col>&lt;fct&gt;</th><th scope=col>&lt;fct&gt;</th><th scope=col>&lt;dbl&gt;</th><th scope=col>&lt;int&gt;</th><th scope=col>&lt;chr&gt;</th></tr>\n",
       "</thead>\n",
       "<tbody>\n",
       "\t<tr><td>1</td><td>1</td><td>teen</td><td>girl</td><td>BABYWeigth1g</td><td>3492.7</td><td>1</td><td>yes</td></tr>\n",
       "\t<tr><td>2</td><td>2</td><td>teen</td><td>boy </td><td>BABYWeigth1g</td><td>3392.9</td><td>1</td><td>yes</td></tr>\n",
       "\t<tr><td>3</td><td>3</td><td>teen</td><td>boy </td><td>BABYWeigth1g</td><td>2993.8</td><td>1</td><td>no </td></tr>\n",
       "\t<tr><td>4</td><td>4</td><td>teen</td><td>boy </td><td>BABYWeigth1g</td><td>3692.3</td><td>1</td><td>no </td></tr>\n",
       "\t<tr><td>5</td><td>5</td><td>teen</td><td>NA  </td><td>BABYWeigth1g</td><td>3592.5</td><td>1</td><td>yes</td></tr>\n",
       "\t<tr><td>6</td><td>6</td><td>teen</td><td>boy </td><td>BABYWeigth1g</td><td>3093.5</td><td>1</td><td>yes</td></tr>\n",
       "</tbody>\n",
       "</table>\n"
      ],
      "text/latex": [
       "A data.frame: 6 × 8\n",
       "\\begin{tabular}{r|llllllll}\n",
       " X & id & group & sex & weekNames & weight & week & complete\\\\\n",
       " <int> & <int> & <fct> & <fct> & <fct> & <dbl> & <int> & <chr>\\\\\n",
       "\\hline\n",
       "\t 1 & 1 & teen & girl & BABYWeigth1g & 3492.7 & 1 & yes\\\\\n",
       "\t 2 & 2 & teen & boy  & BABYWeigth1g & 3392.9 & 1 & yes\\\\\n",
       "\t 3 & 3 & teen & boy  & BABYWeigth1g & 2993.8 & 1 & no \\\\\n",
       "\t 4 & 4 & teen & boy  & BABYWeigth1g & 3692.3 & 1 & no \\\\\n",
       "\t 5 & 5 & teen & NA   & BABYWeigth1g & 3592.5 & 1 & yes\\\\\n",
       "\t 6 & 6 & teen & boy  & BABYWeigth1g & 3093.5 & 1 & yes\\\\\n",
       "\\end{tabular}\n"
      ],
      "text/markdown": [
       "\n",
       "A data.frame: 6 × 8\n",
       "\n",
       "| X &lt;int&gt; | id &lt;int&gt; | group &lt;fct&gt; | sex &lt;fct&gt; | weekNames &lt;fct&gt; | weight &lt;dbl&gt; | week &lt;int&gt; | complete &lt;chr&gt; |\n",
       "|---|---|---|---|---|---|---|---|\n",
       "| 1 | 1 | teen | girl | BABYWeigth1g | 3492.7 | 1 | yes |\n",
       "| 2 | 2 | teen | boy  | BABYWeigth1g | 3392.9 | 1 | yes |\n",
       "| 3 | 3 | teen | boy  | BABYWeigth1g | 2993.8 | 1 | no  |\n",
       "| 4 | 4 | teen | boy  | BABYWeigth1g | 3692.3 | 1 | no  |\n",
       "| 5 | 5 | teen | NA   | BABYWeigth1g | 3592.5 | 1 | yes |\n",
       "| 6 | 6 | teen | boy  | BABYWeigth1g | 3093.5 | 1 | yes |\n",
       "\n"
      ],
      "text/plain": [
       "  X id group sex  weekNames    weight week complete\n",
       "1 1 1  teen  girl BABYWeigth1g 3492.7 1    yes     \n",
       "2 2 2  teen  boy  BABYWeigth1g 3392.9 1    yes     \n",
       "3 3 3  teen  boy  BABYWeigth1g 2993.8 1    no      \n",
       "4 4 4  teen  boy  BABYWeigth1g 3692.3 1    no      \n",
       "5 5 5  teen  NA   BABYWeigth1g 3592.5 1    yes     \n",
       "6 6 6  teen  boy  BABYWeigth1g 3093.5 1    yes     "
      ]
     },
     "metadata": {},
     "output_type": "display_data"
    },
    {
     "data": {
      "text/html": [
       "<table>\n",
       "<caption>A data.frame: 6 × 8</caption>\n",
       "<thead>\n",
       "\t<tr><th scope=col>X</th><th scope=col>id</th><th scope=col>group</th><th scope=col>sex</th><th scope=col>weekNames</th><th scope=col>head</th><th scope=col>week</th><th scope=col>complete</th></tr>\n",
       "\t<tr><th scope=col>&lt;int&gt;</th><th scope=col>&lt;int&gt;</th><th scope=col>&lt;fct&gt;</th><th scope=col>&lt;fct&gt;</th><th scope=col>&lt;fct&gt;</th><th scope=col>&lt;int&gt;</th><th scope=col>&lt;int&gt;</th><th scope=col>&lt;chr&gt;</th></tr>\n",
       "</thead>\n",
       "<tbody>\n",
       "\t<tr><td>1</td><td>1</td><td>teen</td><td>girl</td><td>HeadCircumcm1</td><td>34</td><td>1</td><td>yes</td></tr>\n",
       "\t<tr><td>2</td><td>2</td><td>teen</td><td>boy </td><td>HeadCircumcm1</td><td>35</td><td>1</td><td>yes</td></tr>\n",
       "\t<tr><td>3</td><td>3</td><td>teen</td><td>boy </td><td>HeadCircumcm1</td><td>35</td><td>1</td><td>no </td></tr>\n",
       "\t<tr><td>4</td><td>4</td><td>teen</td><td>boy </td><td>HeadCircumcm1</td><td>37</td><td>1</td><td>no </td></tr>\n",
       "\t<tr><td>5</td><td>5</td><td>teen</td><td>NA  </td><td>HeadCircumcm1</td><td>34</td><td>1</td><td>yes</td></tr>\n",
       "\t<tr><td>6</td><td>6</td><td>teen</td><td>boy </td><td>HeadCircumcm1</td><td>35</td><td>1</td><td>yes</td></tr>\n",
       "</tbody>\n",
       "</table>\n"
      ],
      "text/latex": [
       "A data.frame: 6 × 8\n",
       "\\begin{tabular}{r|llllllll}\n",
       " X & id & group & sex & weekNames & head & week & complete\\\\\n",
       " <int> & <int> & <fct> & <fct> & <fct> & <int> & <int> & <chr>\\\\\n",
       "\\hline\n",
       "\t 1 & 1 & teen & girl & HeadCircumcm1 & 34 & 1 & yes\\\\\n",
       "\t 2 & 2 & teen & boy  & HeadCircumcm1 & 35 & 1 & yes\\\\\n",
       "\t 3 & 3 & teen & boy  & HeadCircumcm1 & 35 & 1 & no \\\\\n",
       "\t 4 & 4 & teen & boy  & HeadCircumcm1 & 37 & 1 & no \\\\\n",
       "\t 5 & 5 & teen & NA   & HeadCircumcm1 & 34 & 1 & yes\\\\\n",
       "\t 6 & 6 & teen & boy  & HeadCircumcm1 & 35 & 1 & yes\\\\\n",
       "\\end{tabular}\n"
      ],
      "text/markdown": [
       "\n",
       "A data.frame: 6 × 8\n",
       "\n",
       "| X &lt;int&gt; | id &lt;int&gt; | group &lt;fct&gt; | sex &lt;fct&gt; | weekNames &lt;fct&gt; | head &lt;int&gt; | week &lt;int&gt; | complete &lt;chr&gt; |\n",
       "|---|---|---|---|---|---|---|---|\n",
       "| 1 | 1 | teen | girl | HeadCircumcm1 | 34 | 1 | yes |\n",
       "| 2 | 2 | teen | boy  | HeadCircumcm1 | 35 | 1 | yes |\n",
       "| 3 | 3 | teen | boy  | HeadCircumcm1 | 35 | 1 | no  |\n",
       "| 4 | 4 | teen | boy  | HeadCircumcm1 | 37 | 1 | no  |\n",
       "| 5 | 5 | teen | NA   | HeadCircumcm1 | 34 | 1 | yes |\n",
       "| 6 | 6 | teen | boy  | HeadCircumcm1 | 35 | 1 | yes |\n",
       "\n"
      ],
      "text/plain": [
       "  X id group sex  weekNames     head week complete\n",
       "1 1 1  teen  girl HeadCircumcm1 34   1    yes     \n",
       "2 2 2  teen  boy  HeadCircumcm1 35   1    yes     \n",
       "3 3 3  teen  boy  HeadCircumcm1 35   1    no      \n",
       "4 4 4  teen  boy  HeadCircumcm1 37   1    no      \n",
       "5 5 5  teen  NA   HeadCircumcm1 34   1    yes     \n",
       "6 6 6  teen  boy  HeadCircumcm1 35   1    yes     "
      ]
     },
     "metadata": {},
     "output_type": "display_data"
    }
   ],
   "source": [
    "weightLongComplete <- weightLong %>% mutate(complete = ifelse(id %in% id_incomplete, 'no', 'yes'))\n",
    "headCLongComplete <- headCLong %>% mutate(complete = ifelse(id %in% id_incomplete, 'no', 'yes'))\n",
    "\n",
    "head(weightLongComplete)\n",
    "head(headCLongComplete)"
   ]
  },
  {
   "cell_type": "code",
   "execution_count": 56,
   "metadata": {},
   "outputs": [
    {
     "data": {
      "text/html": [
       "<table>\n",
       "<caption>A tibble: 2 × 3</caption>\n",
       "<thead>\n",
       "\t<tr><th scope=col>complete</th><th scope=col>weightMean</th><th scope=col>weightSd</th></tr>\n",
       "\t<tr><th scope=col>&lt;chr&gt;</th><th scope=col>&lt;dbl&gt;</th><th scope=col>&lt;dbl&gt;</th></tr>\n",
       "</thead>\n",
       "<tbody>\n",
       "\t<tr><td>no </td><td>3366.23</td><td>700.09</td></tr>\n",
       "\t<tr><td>yes</td><td>3148.01</td><td>421.78</td></tr>\n",
       "</tbody>\n",
       "</table>\n"
      ],
      "text/latex": [
       "A tibble: 2 × 3\n",
       "\\begin{tabular}{r|lll}\n",
       " complete & weightMean & weightSd\\\\\n",
       " <chr> & <dbl> & <dbl>\\\\\n",
       "\\hline\n",
       "\t no  & 3366.23 & 700.09\\\\\n",
       "\t yes & 3148.01 & 421.78\\\\\n",
       "\\end{tabular}\n"
      ],
      "text/markdown": [
       "\n",
       "A tibble: 2 × 3\n",
       "\n",
       "| complete &lt;chr&gt; | weightMean &lt;dbl&gt; | weightSd &lt;dbl&gt; |\n",
       "|---|---|---|\n",
       "| no  | 3366.23 | 700.09 |\n",
       "| yes | 3148.01 | 421.78 |\n",
       "\n"
      ],
      "text/plain": [
       "  complete weightMean weightSd\n",
       "1 no       3366.23    700.09  \n",
       "2 yes      3148.01    421.78  "
      ]
     },
     "metadata": {},
     "output_type": "display_data"
    }
   ],
   "source": [
    "weightLongComplete %>% filter(!is.na(sex), week == 1) %>% group_by(complete) %>%\n",
    "                    summarise(weightMean = round(mean(weight, na.rm = T), 2), \n",
    "                              weightSd = round(sd(weight, na.rm = T), 2))"
   ]
  },
  {
   "cell_type": "code",
   "execution_count": 57,
   "metadata": {},
   "outputs": [
    {
     "data": {
      "text/html": [
       "<table>\n",
       "<caption>A tibble: 2 × 3</caption>\n",
       "<thead>\n",
       "\t<tr><th scope=col>complete</th><th scope=col>headMean</th><th scope=col>headSd</th></tr>\n",
       "\t<tr><th scope=col>&lt;chr&gt;</th><th scope=col>&lt;dbl&gt;</th><th scope=col>&lt;dbl&gt;</th></tr>\n",
       "</thead>\n",
       "<tbody>\n",
       "\t<tr><td>no </td><td>33.85</td><td>1.46</td></tr>\n",
       "\t<tr><td>yes</td><td>33.65</td><td>0.88</td></tr>\n",
       "</tbody>\n",
       "</table>\n"
      ],
      "text/latex": [
       "A tibble: 2 × 3\n",
       "\\begin{tabular}{r|lll}\n",
       " complete & headMean & headSd\\\\\n",
       " <chr> & <dbl> & <dbl>\\\\\n",
       "\\hline\n",
       "\t no  & 33.85 & 1.46\\\\\n",
       "\t yes & 33.65 & 0.88\\\\\n",
       "\\end{tabular}\n"
      ],
      "text/markdown": [
       "\n",
       "A tibble: 2 × 3\n",
       "\n",
       "| complete &lt;chr&gt; | headMean &lt;dbl&gt; | headSd &lt;dbl&gt; |\n",
       "|---|---|---|\n",
       "| no  | 33.85 | 1.46 |\n",
       "| yes | 33.65 | 0.88 |\n",
       "\n"
      ],
      "text/plain": [
       "  complete headMean headSd\n",
       "1 no       33.85    1.46  \n",
       "2 yes      33.65    0.88  "
      ]
     },
     "metadata": {},
     "output_type": "display_data"
    }
   ],
   "source": [
    "headCLongComplete %>% filter(!is.na(sex), week == 1) %>% group_by(complete) %>%\n",
    "                    summarise(headMean = round(mean(head, na.rm = T), 2),\n",
    "                              headSd = round(sd(head, na.rm = T), 2))"
   ]
  },
  {
   "cell_type": "markdown",
   "metadata": {},
   "source": [
    "### Sex distribution for patients with missing data and without in total and by week:"
   ]
  },
  {
   "cell_type": "code",
   "execution_count": 58,
   "metadata": {},
   "outputs": [
    {
     "data": {
      "text/html": [
       "<table>\n",
       "<caption>A tibble: 2 × 4</caption>\n",
       "<thead>\n",
       "\t<tr><th scope=col>complete</th><th scope=col>boys</th><th scope=col>girls</th><th scope=col>proportion</th></tr>\n",
       "\t<tr><th scope=col>&lt;chr&gt;</th><th scope=col>&lt;int&gt;</th><th scope=col>&lt;int&gt;</th><th scope=col>&lt;dbl&gt;</th></tr>\n",
       "</thead>\n",
       "<tbody>\n",
       "\t<tr><td>no </td><td> 35</td><td>26</td><td>0.57</td></tr>\n",
       "\t<tr><td>yes</td><td>105</td><td>78</td><td>0.57</td></tr>\n",
       "</tbody>\n",
       "</table>\n"
      ],
      "text/latex": [
       "A tibble: 2 × 4\n",
       "\\begin{tabular}{r|llll}\n",
       " complete & boys & girls & proportion\\\\\n",
       " <chr> & <int> & <int> & <dbl>\\\\\n",
       "\\hline\n",
       "\t no  &  35 & 26 & 0.57\\\\\n",
       "\t yes & 105 & 78 & 0.57\\\\\n",
       "\\end{tabular}\n"
      ],
      "text/markdown": [
       "\n",
       "A tibble: 2 × 4\n",
       "\n",
       "| complete &lt;chr&gt; | boys &lt;int&gt; | girls &lt;int&gt; | proportion &lt;dbl&gt; |\n",
       "|---|---|---|---|\n",
       "| no  |  35 | 26 | 0.57 |\n",
       "| yes | 105 | 78 | 0.57 |\n",
       "\n"
      ],
      "text/plain": [
       "  complete boys girls proportion\n",
       "1 no        35  26    0.57      \n",
       "2 yes      105  78    0.57      "
      ]
     },
     "metadata": {},
     "output_type": "display_data"
    }
   ],
   "source": [
    "weekSexNA %>% spread(sex, total) %>% group_by(complete) %>% \n",
    "                summarise(boys = sum(boy), girls = sum(girl), proportion = round(boys / (boys + girls), 2))"
   ]
  },
  {
   "cell_type": "code",
   "execution_count": 59,
   "metadata": {},
   "outputs": [
    {
     "name": "stderr",
     "output_type": "stream",
     "text": [
      "Adding missing grouping variables: `week`\n"
     ]
    },
    {
     "data": {
      "text/html": [
       "<table>\n",
       "<caption>A grouped_df: 1 × 4</caption>\n",
       "<thead>\n",
       "\t<tr><th scope=col>week</th><th scope=col>complete</th><th scope=col>boy</th><th scope=col>girl</th></tr>\n",
       "\t<tr><th scope=col>&lt;int&gt;</th><th scope=col>&lt;chr&gt;</th><th scope=col>&lt;int&gt;</th><th scope=col>&lt;int&gt;</th></tr>\n",
       "</thead>\n",
       "<tbody>\n",
       "\t<tr><td>1</td><td>yes</td><td>35</td><td>26</td></tr>\n",
       "</tbody>\n",
       "</table>\n"
      ],
      "text/latex": [
       "A grouped_df: 1 × 4\n",
       "\\begin{tabular}{r|llll}\n",
       " week & complete & boy & girl\\\\\n",
       " <int> & <chr> & <int> & <int>\\\\\n",
       "\\hline\n",
       "\t 1 & yes & 35 & 26\\\\\n",
       "\\end{tabular}\n"
      ],
      "text/markdown": [
       "\n",
       "A grouped_df: 1 × 4\n",
       "\n",
       "| week &lt;int&gt; | complete &lt;chr&gt; | boy &lt;int&gt; | girl &lt;int&gt; |\n",
       "|---|---|---|---|\n",
       "| 1 | yes | 35 | 26 |\n",
       "\n"
      ],
      "text/plain": [
       "  week complete boy girl\n",
       "1 1    yes      35  26  "
      ]
     },
     "metadata": {},
     "output_type": "display_data"
    },
    {
     "name": "stderr",
     "output_type": "stream",
     "text": [
      "Adding missing grouping variables: `week`\n"
     ]
    },
    {
     "data": {
      "text/html": [
       "<table>\n",
       "<caption>A grouped_df: 2 × 4</caption>\n",
       "<thead>\n",
       "\t<tr><th scope=col>week</th><th scope=col>complete</th><th scope=col>boy</th><th scope=col>girl</th></tr>\n",
       "\t<tr><th scope=col>&lt;int&gt;</th><th scope=col>&lt;chr&gt;</th><th scope=col>&lt;int&gt;</th><th scope=col>&lt;int&gt;</th></tr>\n",
       "</thead>\n",
       "<tbody>\n",
       "\t<tr><td>2</td><td>no </td><td> 8</td><td> 6</td></tr>\n",
       "\t<tr><td>2</td><td>yes</td><td>27</td><td>20</td></tr>\n",
       "</tbody>\n",
       "</table>\n"
      ],
      "text/latex": [
       "A grouped_df: 2 × 4\n",
       "\\begin{tabular}{r|llll}\n",
       " week & complete & boy & girl\\\\\n",
       " <int> & <chr> & <int> & <int>\\\\\n",
       "\\hline\n",
       "\t 2 & no  &  8 &  6\\\\\n",
       "\t 2 & yes & 27 & 20\\\\\n",
       "\\end{tabular}\n"
      ],
      "text/markdown": [
       "\n",
       "A grouped_df: 2 × 4\n",
       "\n",
       "| week &lt;int&gt; | complete &lt;chr&gt; | boy &lt;int&gt; | girl &lt;int&gt; |\n",
       "|---|---|---|---|\n",
       "| 2 | no  |  8 |  6 |\n",
       "| 2 | yes | 27 | 20 |\n",
       "\n"
      ],
      "text/plain": [
       "  week complete boy girl\n",
       "1 2    no        8   6  \n",
       "2 2    yes      27  20  "
      ]
     },
     "metadata": {},
     "output_type": "display_data"
    },
    {
     "name": "stderr",
     "output_type": "stream",
     "text": [
      "Adding missing grouping variables: `week`\n"
     ]
    },
    {
     "data": {
      "text/html": [
       "<table>\n",
       "<caption>A grouped_df: 2 × 4</caption>\n",
       "<thead>\n",
       "\t<tr><th scope=col>week</th><th scope=col>complete</th><th scope=col>boy</th><th scope=col>girl</th></tr>\n",
       "\t<tr><th scope=col>&lt;int&gt;</th><th scope=col>&lt;chr&gt;</th><th scope=col>&lt;int&gt;</th><th scope=col>&lt;int&gt;</th></tr>\n",
       "</thead>\n",
       "<tbody>\n",
       "\t<tr><td>8</td><td>no </td><td>12</td><td>11</td></tr>\n",
       "\t<tr><td>8</td><td>yes</td><td>23</td><td>15</td></tr>\n",
       "</tbody>\n",
       "</table>\n"
      ],
      "text/latex": [
       "A grouped_df: 2 × 4\n",
       "\\begin{tabular}{r|llll}\n",
       " week & complete & boy & girl\\\\\n",
       " <int> & <chr> & <int> & <int>\\\\\n",
       "\\hline\n",
       "\t 8 & no  & 12 & 11\\\\\n",
       "\t 8 & yes & 23 & 15\\\\\n",
       "\\end{tabular}\n"
      ],
      "text/markdown": [
       "\n",
       "A grouped_df: 2 × 4\n",
       "\n",
       "| week &lt;int&gt; | complete &lt;chr&gt; | boy &lt;int&gt; | girl &lt;int&gt; |\n",
       "|---|---|---|---|\n",
       "| 8 | no  | 12 | 11 |\n",
       "| 8 | yes | 23 | 15 |\n",
       "\n"
      ],
      "text/plain": [
       "  week complete boy girl\n",
       "1 8    no       12  11  \n",
       "2 8    yes      23  15  "
      ]
     },
     "metadata": {},
     "output_type": "display_data"
    },
    {
     "name": "stderr",
     "output_type": "stream",
     "text": [
      "Adding missing grouping variables: `week`\n"
     ]
    },
    {
     "data": {
      "text/html": [
       "<table>\n",
       "<caption>A grouped_df: 2 × 4</caption>\n",
       "<thead>\n",
       "\t<tr><th scope=col>week</th><th scope=col>complete</th><th scope=col>boy</th><th scope=col>girl</th></tr>\n",
       "\t<tr><th scope=col>&lt;int&gt;</th><th scope=col>&lt;chr&gt;</th><th scope=col>&lt;int&gt;</th><th scope=col>&lt;int&gt;</th></tr>\n",
       "</thead>\n",
       "<tbody>\n",
       "\t<tr><td>16</td><td>no </td><td>15</td><td> 9</td></tr>\n",
       "\t<tr><td>16</td><td>yes</td><td>20</td><td>17</td></tr>\n",
       "</tbody>\n",
       "</table>\n"
      ],
      "text/latex": [
       "A grouped_df: 2 × 4\n",
       "\\begin{tabular}{r|llll}\n",
       " week & complete & boy & girl\\\\\n",
       " <int> & <chr> & <int> & <int>\\\\\n",
       "\\hline\n",
       "\t 16 & no  & 15 &  9\\\\\n",
       "\t 16 & yes & 20 & 17\\\\\n",
       "\\end{tabular}\n"
      ],
      "text/markdown": [
       "\n",
       "A grouped_df: 2 × 4\n",
       "\n",
       "| week &lt;int&gt; | complete &lt;chr&gt; | boy &lt;int&gt; | girl &lt;int&gt; |\n",
       "|---|---|---|---|\n",
       "| 16 | no  | 15 |  9 |\n",
       "| 16 | yes | 20 | 17 |\n",
       "\n"
      ],
      "text/plain": [
       "  week complete boy girl\n",
       "1 16   no       15   9  \n",
       "2 16   yes      20  17  "
      ]
     },
     "metadata": {},
     "output_type": "display_data"
    }
   ],
   "source": [
    "weekSexNA %>% spread(sex, total) %>% filter(week == 1) %>% select(-week)\n",
    "weekSexNA %>% spread(sex, total) %>% filter(week == 2) %>% select(-week)\n",
    "weekSexNA %>% spread(sex, total) %>% filter(week == 8) %>% select(-week)\n",
    "weekSexNA %>% spread(sex, total) %>% filter(week == 16) %>% select(-week)"
   ]
  },
  {
   "cell_type": "code",
   "execution_count": 60,
   "metadata": {},
   "outputs": [
    {
     "data": {
      "text/html": [
       "<table>\n",
       "<caption>A grouped_df: 4 × 3</caption>\n",
       "<thead>\n",
       "\t<tr><th scope=col>week</th><th scope=col>no</th><th scope=col>yes</th></tr>\n",
       "\t<tr><th scope=col>&lt;int&gt;</th><th scope=col>&lt;dbl&gt;</th><th scope=col>&lt;dbl&gt;</th></tr>\n",
       "</thead>\n",
       "<tbody>\n",
       "\t<tr><td> 1</td><td>  NA</td><td>0.57</td></tr>\n",
       "\t<tr><td> 2</td><td>0.57</td><td>0.57</td></tr>\n",
       "\t<tr><td> 8</td><td>0.52</td><td>0.61</td></tr>\n",
       "\t<tr><td>16</td><td>0.62</td><td>0.54</td></tr>\n",
       "</tbody>\n",
       "</table>\n"
      ],
      "text/latex": [
       "A grouped_df: 4 × 3\n",
       "\\begin{tabular}{r|lll}\n",
       " week & no & yes\\\\\n",
       " <int> & <dbl> & <dbl>\\\\\n",
       "\\hline\n",
       "\t  1 &   NA & 0.57\\\\\n",
       "\t  2 & 0.57 & 0.57\\\\\n",
       "\t  8 & 0.52 & 0.61\\\\\n",
       "\t 16 & 0.62 & 0.54\\\\\n",
       "\\end{tabular}\n"
      ],
      "text/markdown": [
       "\n",
       "A grouped_df: 4 × 3\n",
       "\n",
       "| week &lt;int&gt; | no &lt;dbl&gt; | yes &lt;dbl&gt; |\n",
       "|---|---|---|\n",
       "|  1 |   NA | 0.57 |\n",
       "|  2 | 0.57 | 0.57 |\n",
       "|  8 | 0.52 | 0.61 |\n",
       "| 16 | 0.62 | 0.54 |\n",
       "\n"
      ],
      "text/plain": [
       "  week no   yes \n",
       "1  1     NA 0.57\n",
       "2  2   0.57 0.57\n",
       "3  8   0.52 0.61\n",
       "4 16   0.62 0.54"
      ]
     },
     "metadata": {},
     "output_type": "display_data"
    }
   ],
   "source": [
    "weekSexPlot <- weekSexNA %>% spread(sex, total) %>% mutate(proportion = round(boy/(boy + girl), 2)) %>%\n",
    "                    select(complete, proportion, week) %>% spread(complete, proportion)\n",
    "\n",
    "weekSexPlot"
   ]
  },
  {
   "cell_type": "code",
   "execution_count": 61,
   "metadata": {},
   "outputs": [],
   "source": [
    "# Score statistic:\n",
    "# p0 - p1 / sqrt(p(1 - p)(1/n0 + 1/n1))\n",
    "\n",
    "scoreTestStat <- function(p0, p1, n0, n1, n0_S, n1_S){\n",
    "    \"\n",
    "    Compare two binomials Bin(n0, p0) and Bin(n1, p1).\n",
    "    \n",
    "    Under H0: p0 = p1, TS is approx N(0, 1).\n",
    "\n",
    "    inputs:\n",
    "        pi = probability of success for variable i.\n",
    "        ni = number of trials for variable i.\n",
    "        ni_S = number of succesful trials for variable i.\n",
    "    \"\n",
    "\n",
    "    p <- (n0_S + n1_S) / (n0 + n1)\n",
    "    TS <- (p0 - p1) / sqrt( p*(1 - p)*(1/n0 + 1/n1))\n",
    "    \n",
    "    return(TS)\n",
    "}"
   ]
  },
  {
   "cell_type": "code",
   "execution_count": 62,
   "metadata": {},
   "outputs": [
    {
     "data": {
      "text/html": [
       "-0.688878208984133"
      ],
      "text/latex": [
       "-0.688878208984133"
      ],
      "text/markdown": [
       "-0.688878208984133"
      ],
      "text/plain": [
       "[1] -0.6888782"
      ]
     },
     "metadata": {},
     "output_type": "display_data"
    },
    {
     "data": {
      "text/html": [
       "0.617220996274234"
      ],
      "text/latex": [
       "0.617220996274234"
      ],
      "text/markdown": [
       "0.617220996274234"
      ],
      "text/plain": [
       "[1] 0.617221"
      ]
     },
     "metadata": {},
     "output_type": "display_data"
    }
   ],
   "source": [
    "#week 8:\n",
    "scoreTestStat(p0 =0.52, p1 = 0.61, n0 = 23, n1 = 38, n0_S = 12, n1_S = 23)\n",
    "#week 16:\n",
    "scoreTestStat(p0 =0.62, p1 = 0.54, n0 = 24, n1 = 37, n0_S = 15, n1_S = 20)"
   ]
  },
  {
   "cell_type": "code",
   "execution_count": 63,
   "metadata": {},
   "outputs": [
    {
     "data": {
      "text/html": [
       "0.50285779019062"
      ],
      "text/latex": [
       "0.50285779019062"
      ],
      "text/markdown": [
       "0.50285779019062"
      ],
      "text/plain": [
       "[1] 0.5028578"
      ]
     },
     "metadata": {},
     "output_type": "display_data"
    },
    {
     "data": {
      "text/html": [
       "0.535257786937966"
      ],
      "text/latex": [
       "0.535257786937966"
      ],
      "text/markdown": [
       "0.535257786937966"
      ],
      "text/plain": [
       "[1] 0.5352578"
      ]
     },
     "metadata": {},
     "output_type": "display_data"
    }
   ],
   "source": [
    "1 - pnorm(q = 0.67, mean = 0, sd = 1) + pnorm(q = -0.67, mean = 0, sd = 1)\n",
    "1 - pnorm(q = 0.62, mean = 0, sd = 1) + pnorm(q = -0.62, mean = 0, sd = 1)"
   ]
  },
  {
   "cell_type": "code",
   "execution_count": 64,
   "metadata": {},
   "outputs": [
    {
     "data": {
      "text/plain": [
       "\n",
       "\tFisher's Exact Test for Count Data\n",
       "\n",
       "data:  rbind(c(12, 23 - 12), c(23, 38 - 23))\n",
       "p-value = 0.598\n",
       "alternative hypothesis: true odds ratio is not equal to 1\n",
       "95 percent confidence interval:\n",
       " 0.2209799 2.3049276\n",
       "sample estimates:\n",
       "odds ratio \n",
       " 0.7155006 \n"
      ]
     },
     "metadata": {},
     "output_type": "display_data"
    },
    {
     "data": {
      "text/plain": [
       "\n",
       "\tFisher's Exact Test for Count Data\n",
       "\n",
       "data:  rbind(c(15, 24 - 15), c(20, 37 - 20))\n",
       "p-value = 0.6008\n",
       "alternative hypothesis: true odds ratio is not equal to 1\n",
       "95 percent confidence interval:\n",
       " 0.441436 4.660701\n",
       "sample estimates:\n",
       "odds ratio \n",
       "  1.408597 \n"
      ]
     },
     "metadata": {},
     "output_type": "display_data"
    }
   ],
   "source": [
    "# week 8:\n",
    "fisher.test(rbind(c(12, 23-12), c(23, 38-23)))\n",
    "# week 16:\n",
    "fisher.test(rbind(c(15, 24-15), c(20, 37-20)))"
   ]
  },
  {
   "cell_type": "markdown",
   "metadata": {},
   "source": [
    "### The number of observations per week is bigger than 37"
   ]
  },
  {
   "cell_type": "code",
   "execution_count": 65,
   "metadata": {},
   "outputs": [
    {
     "data": {
      "text/html": [
       "<table>\n",
       "<caption>A tibble: 4 × 2</caption>\n",
       "<thead>\n",
       "\t<tr><th scope=col>week</th><th scope=col>n_obs</th></tr>\n",
       "\t<tr><th scope=col>&lt;int&gt;</th><th scope=col>&lt;int&gt;</th></tr>\n",
       "</thead>\n",
       "<tbody>\n",
       "\t<tr><td> 1</td><td>61</td></tr>\n",
       "\t<tr><td> 2</td><td>47</td></tr>\n",
       "\t<tr><td> 8</td><td>38</td></tr>\n",
       "\t<tr><td>16</td><td>37</td></tr>\n",
       "</tbody>\n",
       "</table>\n"
      ],
      "text/latex": [
       "A tibble: 4 × 2\n",
       "\\begin{tabular}{r|ll}\n",
       " week & n\\_obs\\\\\n",
       " <int> & <int>\\\\\n",
       "\\hline\n",
       "\t  1 & 61\\\\\n",
       "\t  2 & 47\\\\\n",
       "\t  8 & 38\\\\\n",
       "\t 16 & 37\\\\\n",
       "\\end{tabular}\n"
      ],
      "text/markdown": [
       "\n",
       "A tibble: 4 × 2\n",
       "\n",
       "| week &lt;int&gt; | n_obs &lt;int&gt; |\n",
       "|---|---|\n",
       "|  1 | 61 |\n",
       "|  2 | 47 |\n",
       "|  8 | 38 |\n",
       "| 16 | 37 |\n",
       "\n"
      ],
      "text/plain": [
       "  week n_obs\n",
       "1  1   61   \n",
       "2  2   47   \n",
       "3  8   38   \n",
       "4 16   37   "
      ]
     },
     "metadata": {},
     "output_type": "display_data"
    }
   ],
   "source": [
    "AA_NE_Long %>% filter(!is.na(sex), !is.na(level), AA == 'GLU') %>% group_by(week) %>% summarise(n_obs = n())"
   ]
  },
  {
   "cell_type": "markdown",
   "metadata": {},
   "source": [
    "# Some Extra tests"
   ]
  },
  {
   "cell_type": "code",
   "execution_count": 66,
   "metadata": {},
   "outputs": [],
   "source": [
    "pAge <- t.test(moms$momAge[-id_incomplete], moms$momAge[id_incomplete])$p.value\n",
    "pHeight <- t.test(moms$momHeight[-id_incomplete], moms$momHeight[id_incomplete])$p.value\n",
    "pWeight <- t.test(moms$momWeight[-id_incomplete], moms$momWeight[id_incomplete])$p.value"
   ]
  },
  {
   "cell_type": "code",
   "execution_count": 67,
   "metadata": {},
   "outputs": [],
   "source": [
    "pCho <- t.test(moms$cho[-id_incomplete], moms$cho[id_incomplete])$p.value\n",
    "pProt <- t.test(moms$prot[-id_incomplete], moms$prot[id_incomplete])$p.value\n",
    "pLipids <- t.test(moms$lipids[-id_incomplete], moms$lipids[id_incomplete])$p.value"
   ]
  },
  {
   "cell_type": "code",
   "execution_count": 68,
   "metadata": {},
   "outputs": [],
   "source": [
    "wboysC <- filter(weightLongComplete, week == 1, !(id %in% id_incomplete))\n",
    "wboysM <- filter(weightLongComplete, week == 1, id %in% id_incomplete)\n",
    "\n",
    "hboysC <- filter(headCLongComplete, week == 1, !(id %in% id_incomplete))\n",
    "hboysM <- filter(headCLongComplete, week == 1, id %in% id_incomplete)"
   ]
  },
  {
   "cell_type": "code",
   "execution_count": 69,
   "metadata": {},
   "outputs": [],
   "source": [
    "pWeightB <- t.test(wboysC$weight, wboysM$weight)$p.value\n",
    "pHeadB <- t.test(hboysC$head, hboysM$head)$p.value"
   ]
  },
  {
   "cell_type": "code",
   "execution_count": 70,
   "metadata": {},
   "outputs": [
    {
     "data": {
      "text/html": [
       "<ol class=list-inline>\n",
       "\t<li>0.741418680222964</li>\n",
       "\t<li>0.741418680222964</li>\n",
       "\t<li>0.741418680222964</li>\n",
       "\t<li>0.741418680222964</li>\n",
       "\t<li>0.741418680222964</li>\n",
       "\t<li>0.828352287185737</li>\n",
       "\t<li>0.741418680222964</li>\n",
       "\t<li>0.741418680222964</li>\n",
       "</ol>\n"
      ],
      "text/latex": [
       "\\begin{enumerate*}\n",
       "\\item 0.741418680222964\n",
       "\\item 0.741418680222964\n",
       "\\item 0.741418680222964\n",
       "\\item 0.741418680222964\n",
       "\\item 0.741418680222964\n",
       "\\item 0.828352287185737\n",
       "\\item 0.741418680222964\n",
       "\\item 0.741418680222964\n",
       "\\end{enumerate*}\n"
      ],
      "text/markdown": [
       "1. 0.741418680222964\n",
       "2. 0.741418680222964\n",
       "3. 0.741418680222964\n",
       "4. 0.741418680222964\n",
       "5. 0.741418680222964\n",
       "6. 0.828352287185737\n",
       "7. 0.741418680222964\n",
       "8. 0.741418680222964\n",
       "\n",
       "\n"
      ],
      "text/plain": [
       "[1] 0.7414187 0.7414187 0.7414187 0.7414187 0.7414187 0.8283523 0.7414187\n",
       "[8] 0.7414187"
      ]
     },
     "metadata": {},
     "output_type": "display_data"
    }
   ],
   "source": [
    "p.adjust(c(pAge, pHeight, pWeight, pCho, pProt, pLipids, pWeightB, pHeadB), \"fdr\")"
   ]
  },
  {
   "cell_type": "code",
   "execution_count": 71,
   "metadata": {},
   "outputs": [],
   "source": [
    "girlsW1 <- weightLongComplete %>% filter(week == 1, !is.na(sex), sex == 'girl')\n",
    "boysW1 <- weightLongComplete %>% filter(week == 1, !is.na(sex), sex == 'boy')\n",
    "\n",
    "girlsW16 <- weightLongComplete %>% filter(week == 16, !is.na(sex), sex == 'girl')\n",
    "boysW16 <- weightLongComplete %>% filter(week == 16, !is.na(sex), sex == 'boy')"
   ]
  },
  {
   "cell_type": "code",
   "execution_count": 72,
   "metadata": {},
   "outputs": [],
   "source": [
    "girlsH1 <- headCLongComplete %>% filter(week == 1, !is.na(sex), sex == 'girl')\n",
    "boysH1 <- headCLongComplete %>% filter(week == 1, !is.na(sex), sex == 'boy')\n",
    "\n",
    "girlsH16 <- headCLongComplete %>% filter(!is.na(sex), !is.na(head)) %>% filter(week == 16, sex == 'girl')\n",
    "boysH16 <- headCLongComplete %>% filter(!is.na(sex), !is.na(head)) %>% filter(week == 16, sex == 'boy')"
   ]
  },
  {
   "cell_type": "code",
   "execution_count": 73,
   "metadata": {},
   "outputs": [],
   "source": [
    "pW1 <- t.test(girlsW1$weight, boysW1$weight)$p.value\n",
    "pW16 <- t.test(girlsW16$weight, boysW16$weight)$p.value"
   ]
  },
  {
   "cell_type": "code",
   "execution_count": 74,
   "metadata": {},
   "outputs": [],
   "source": [
    "pH1 <- t.test(girlsH1$head, boysH1$head)$p.value\n",
    "pH16 <- t.test(girlsH16$head, boysH16$head)$p.value"
   ]
  },
  {
   "cell_type": "code",
   "execution_count": 75,
   "metadata": {},
   "outputs": [
    {
     "data": {
      "text/html": [
       "<ol class=list-inline>\n",
       "\t<li>0.317314422136572</li>\n",
       "\t<li>0.460150712726108</li>\n",
       "\t<li>0.382883898848279</li>\n",
       "\t<li>0.037722219826894</li>\n",
       "</ol>\n"
      ],
      "text/latex": [
       "\\begin{enumerate*}\n",
       "\\item 0.317314422136572\n",
       "\\item 0.460150712726108\n",
       "\\item 0.382883898848279\n",
       "\\item 0.037722219826894\n",
       "\\end{enumerate*}\n"
      ],
      "text/markdown": [
       "1. 0.317314422136572\n",
       "2. 0.460150712726108\n",
       "3. 0.382883898848279\n",
       "4. 0.037722219826894\n",
       "\n",
       "\n"
      ],
      "text/plain": [
       "[1] 0.31731442 0.46015071 0.38288390 0.03772222"
      ]
     },
     "metadata": {},
     "output_type": "display_data"
    }
   ],
   "source": [
    "p.adjust(c(pW1, pW16, pH1, pH16), \"fdr\")"
   ]
  },
  {
   "cell_type": "code",
   "execution_count": 76,
   "metadata": {},
   "outputs": [
    {
     "data": {
      "text/html": [
       "<ol class=list-inline>\n",
       "\t<li>0.634628844273143</li>\n",
       "\t<li>0.70771783112192</li>\n",
       "\t<li>0.70771783112192</li>\n",
       "\t<li>0.70771783112192</li>\n",
       "\t<li>0.70771783112192</li>\n",
       "\t<li>0.828352287185737</li>\n",
       "\t<li>0.679890596468972</li>\n",
       "\t<li>0.70771783112192</li>\n",
       "\t<li>0.634628844273143</li>\n",
       "\t<li>0.70771783112192</li>\n",
       "\t<li>0.689191017926902</li>\n",
       "\t<li>0.113166659480682</li>\n",
       "</ol>\n"
      ],
      "text/latex": [
       "\\begin{enumerate*}\n",
       "\\item 0.634628844273143\n",
       "\\item 0.70771783112192\n",
       "\\item 0.70771783112192\n",
       "\\item 0.70771783112192\n",
       "\\item 0.70771783112192\n",
       "\\item 0.828352287185737\n",
       "\\item 0.679890596468972\n",
       "\\item 0.70771783112192\n",
       "\\item 0.634628844273143\n",
       "\\item 0.70771783112192\n",
       "\\item 0.689191017926902\n",
       "\\item 0.113166659480682\n",
       "\\end{enumerate*}\n"
      ],
      "text/markdown": [
       "1. 0.634628844273143\n",
       "2. 0.70771783112192\n",
       "3. 0.70771783112192\n",
       "4. 0.70771783112192\n",
       "5. 0.70771783112192\n",
       "6. 0.828352287185737\n",
       "7. 0.679890596468972\n",
       "8. 0.70771783112192\n",
       "9. 0.634628844273143\n",
       "10. 0.70771783112192\n",
       "11. 0.689191017926902\n",
       "12. 0.113166659480682\n",
       "\n",
       "\n"
      ],
      "text/plain": [
       " [1] 0.6346288 0.7077178 0.7077178 0.7077178 0.7077178 0.8283523 0.6798906\n",
       " [8] 0.7077178 0.6346288 0.7077178 0.6891910 0.1131667"
      ]
     },
     "metadata": {},
     "output_type": "display_data"
    }
   ],
   "source": [
    "p.adjust(c(pAge, pHeight, pWeight, pCho, pProt, pLipids, pWeightB, pHeadB, pW1, pW16, pH1, pH16), \"fdr\")"
   ]
  },
  {
   "cell_type": "code",
   "execution_count": null,
   "metadata": {},
   "outputs": [],
   "source": []
  }
 ],
 "metadata": {
  "kernelspec": {
   "display_name": "R",
   "language": "R",
   "name": "ir"
  },
  "language_info": {
   "codemirror_mode": "r",
   "file_extension": ".r",
   "mimetype": "text/x-r-source",
   "name": "R",
   "pygments_lexer": "r",
   "version": "3.6.0"
  }
 },
 "nbformat": 4,
 "nbformat_minor": 2
}
