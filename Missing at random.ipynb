{
 "cells": [
  {
   "cell_type": "code",
   "execution_count": 1,
   "metadata": {},
   "outputs": [
    {
     "name": "stderr",
     "output_type": "stream",
     "text": [
      "── \u001b[1mAttaching packages\u001b[22m ─────────────────────────────────────── tidyverse 1.2.1 ──\n",
      "\u001b[32m✔\u001b[39m \u001b[34mggplot2\u001b[39m 3.2.0     \u001b[32m✔\u001b[39m \u001b[34mpurrr  \u001b[39m 0.3.2\n",
      "\u001b[32m✔\u001b[39m \u001b[34mtibble \u001b[39m 2.1.3     \u001b[32m✔\u001b[39m \u001b[34mdplyr  \u001b[39m 0.8.2\n",
      "\u001b[32m✔\u001b[39m \u001b[34mtidyr  \u001b[39m 0.8.3     \u001b[32m✔\u001b[39m \u001b[34mstringr\u001b[39m 1.4.0\n",
      "\u001b[32m✔\u001b[39m \u001b[34mreadr  \u001b[39m 1.3.1     \u001b[32m✔\u001b[39m \u001b[34mforcats\u001b[39m 0.4.0\n",
      "── \u001b[1mConflicts\u001b[22m ────────────────────────────────────────── tidyverse_conflicts() ──\n",
      "\u001b[31m✖\u001b[39m \u001b[34mdplyr\u001b[39m::\u001b[32mfilter()\u001b[39m masks \u001b[34mstats\u001b[39m::filter()\n",
      "\u001b[31m✖\u001b[39m \u001b[34mdplyr\u001b[39m::\u001b[32mlag()\u001b[39m    masks \u001b[34mstats\u001b[39m::lag()\n",
      "Loading required package: Matrix\n",
      "\n",
      "Attaching package: ‘Matrix’\n",
      "\n",
      "The following object is masked from ‘package:tidyr’:\n",
      "\n",
      "    expand\n",
      "\n"
     ]
    }
   ],
   "source": [
    "library(haven)\n",
    "library(tidyverse)\n",
    "library(broom)\n",
    "library(lme4) "
   ]
  },
  {
   "cell_type": "markdown",
   "metadata": {},
   "source": [
    "# Missing at random"
   ]
  },
  {
   "cell_type": "code",
   "execution_count": 2,
   "metadata": {},
   "outputs": [
    {
     "data": {
      "text/html": [
       "<table>\n",
       "<caption>A data.frame: 6 × 9</caption>\n",
       "<thead>\n",
       "\t<tr><th scope=col>X</th><th scope=col>id</th><th scope=col>group</th><th scope=col>age</th><th scope=col>sex</th><th scope=col>weekNames</th><th scope=col>level</th><th scope=col>week</th><th scope=col>AA</th></tr>\n",
       "\t<tr><th scope=col>&lt;int&gt;</th><th scope=col>&lt;int&gt;</th><th scope=col>&lt;fct&gt;</th><th scope=col>&lt;int&gt;</th><th scope=col>&lt;fct&gt;</th><th scope=col>&lt;fct&gt;</th><th scope=col>&lt;int&gt;</th><th scope=col>&lt;int&gt;</th><th scope=col>&lt;fct&gt;</th></tr>\n",
       "</thead>\n",
       "<tbody>\n",
       "\t<tr><td>1</td><td>1</td><td>teen</td><td>17</td><td>girl</td><td>ARGCalostrum</td><td>1</td><td>1</td><td>ARG</td></tr>\n",
       "\t<tr><td>2</td><td>2</td><td>teen</td><td>16</td><td>boy </td><td>ARGCalostrum</td><td>1</td><td>1</td><td>ARG</td></tr>\n",
       "\t<tr><td>3</td><td>3</td><td>teen</td><td>17</td><td>boy </td><td>ARGCalostrum</td><td>1</td><td>1</td><td>ARG</td></tr>\n",
       "\t<tr><td>4</td><td>4</td><td>teen</td><td>16</td><td>boy </td><td>ARGCalostrum</td><td>1</td><td>1</td><td>ARG</td></tr>\n",
       "\t<tr><td>5</td><td>5</td><td>teen</td><td>16</td><td>NA  </td><td>ARGCalostrum</td><td>2</td><td>1</td><td>ARG</td></tr>\n",
       "\t<tr><td>6</td><td>6</td><td>teen</td><td>16</td><td>boy </td><td>ARGCalostrum</td><td>2</td><td>1</td><td>ARG</td></tr>\n",
       "</tbody>\n",
       "</table>\n"
      ],
      "text/latex": [
       "A data.frame: 6 × 9\n",
       "\\begin{tabular}{r|lllllllll}\n",
       " X & id & group & age & sex & weekNames & level & week & AA\\\\\n",
       " <int> & <int> & <fct> & <int> & <fct> & <fct> & <int> & <int> & <fct>\\\\\n",
       "\\hline\n",
       "\t 1 & 1 & teen & 17 & girl & ARGCalostrum & 1 & 1 & ARG\\\\\n",
       "\t 2 & 2 & teen & 16 & boy  & ARGCalostrum & 1 & 1 & ARG\\\\\n",
       "\t 3 & 3 & teen & 17 & boy  & ARGCalostrum & 1 & 1 & ARG\\\\\n",
       "\t 4 & 4 & teen & 16 & boy  & ARGCalostrum & 1 & 1 & ARG\\\\\n",
       "\t 5 & 5 & teen & 16 & NA   & ARGCalostrum & 2 & 1 & ARG\\\\\n",
       "\t 6 & 6 & teen & 16 & boy  & ARGCalostrum & 2 & 1 & ARG\\\\\n",
       "\\end{tabular}\n"
      ],
      "text/markdown": [
       "\n",
       "A data.frame: 6 × 9\n",
       "\n",
       "| X &lt;int&gt; | id &lt;int&gt; | group &lt;fct&gt; | age &lt;int&gt; | sex &lt;fct&gt; | weekNames &lt;fct&gt; | level &lt;int&gt; | week &lt;int&gt; | AA &lt;fct&gt; |\n",
       "|---|---|---|---|---|---|---|---|---|\n",
       "| 1 | 1 | teen | 17 | girl | ARGCalostrum | 1 | 1 | ARG |\n",
       "| 2 | 2 | teen | 16 | boy  | ARGCalostrum | 1 | 1 | ARG |\n",
       "| 3 | 3 | teen | 17 | boy  | ARGCalostrum | 1 | 1 | ARG |\n",
       "| 4 | 4 | teen | 16 | boy  | ARGCalostrum | 1 | 1 | ARG |\n",
       "| 5 | 5 | teen | 16 | NA   | ARGCalostrum | 2 | 1 | ARG |\n",
       "| 6 | 6 | teen | 16 | boy  | ARGCalostrum | 2 | 1 | ARG |\n",
       "\n"
      ],
      "text/plain": [
       "  X id group age sex  weekNames    level week AA \n",
       "1 1 1  teen  17  girl ARGCalostrum 1     1    ARG\n",
       "2 2 2  teen  16  boy  ARGCalostrum 1     1    ARG\n",
       "3 3 3  teen  17  boy  ARGCalostrum 1     1    ARG\n",
       "4 4 4  teen  16  boy  ARGCalostrum 1     1    ARG\n",
       "5 5 5  teen  16  NA   ARGCalostrum 2     1    ARG\n",
       "6 6 6  teen  16  boy  ARGCalostrum 2     1    ARG"
      ]
     },
     "metadata": {},
     "output_type": "display_data"
    },
    {
     "data": {
      "text/html": [
       "<table>\n",
       "<caption>A data.frame: 6 × 18</caption>\n",
       "<thead>\n",
       "\t<tr><th scope=col>X</th><th scope=col>id</th><th scope=col>group</th><th scope=col>momAge</th><th scope=col>sex</th><th scope=col>momHeight</th><th scope=col>momWeight</th><th scope=col>kcal</th><th scope=col>prot</th><th scope=col>cho</th><th scope=col>lipids</th><th scope=col>glu</th><th scope=col>choles</th><th scope=col>trig</th><th scope=col>hdl</th><th scope=col>ldl</th><th scope=col>album</th><th scope=col>BMI</th></tr>\n",
       "\t<tr><th scope=col>&lt;int&gt;</th><th scope=col>&lt;int&gt;</th><th scope=col>&lt;fct&gt;</th><th scope=col>&lt;int&gt;</th><th scope=col>&lt;fct&gt;</th><th scope=col>&lt;dbl&gt;</th><th scope=col>&lt;dbl&gt;</th><th scope=col>&lt;int&gt;</th><th scope=col>&lt;int&gt;</th><th scope=col>&lt;int&gt;</th><th scope=col>&lt;int&gt;</th><th scope=col>&lt;dbl&gt;</th><th scope=col>&lt;dbl&gt;</th><th scope=col>&lt;dbl&gt;</th><th scope=col>&lt;dbl&gt;</th><th scope=col>&lt;dbl&gt;</th><th scope=col>&lt;dbl&gt;</th><th scope=col>&lt;dbl&gt;</th></tr>\n",
       "</thead>\n",
       "<tbody>\n",
       "\t<tr><td>1</td><td>1</td><td>teen</td><td>17</td><td>girl</td><td>1.48</td><td>54.4</td><td>4204</td><td>103</td><td>759</td><td>86</td><td>115.0</td><td>205</td><td>304.9</td><td>23.7</td><td>120.4</td><td>4.44</td><td>24.84</td></tr>\n",
       "\t<tr><td>2</td><td>2</td><td>teen</td><td>16</td><td>boy </td><td>1.52</td><td>74.7</td><td>1586</td><td> 27</td><td>242</td><td>34</td><td>107.8</td><td>196</td><td>193.0</td><td>34.5</td><td>122.9</td><td>4.42</td><td>32.33</td></tr>\n",
       "\t<tr><td>3</td><td>3</td><td>teen</td><td>17</td><td>boy </td><td>1.55</td><td>56.4</td><td>2052</td><td> 88</td><td>281</td><td>67</td><td> 87.2</td><td>346</td><td>285.0</td><td>23.0</td><td>266.0</td><td>4.79</td><td>23.48</td></tr>\n",
       "\t<tr><td>4</td><td>4</td><td>teen</td><td>16</td><td>boy </td><td>1.60</td><td>65.9</td><td>  NA</td><td> NA</td><td> NA</td><td>NA</td><td> 95.7</td><td>273</td><td>143.2</td><td>39.9</td><td>204.4</td><td>4.47</td><td>25.74</td></tr>\n",
       "\t<tr><td>5</td><td>5</td><td>teen</td><td>16</td><td>NA  </td><td>1.51</td><td>56.5</td><td>1621</td><td> 63</td><td>270</td><td>38</td><td> 73.9</td><td>266</td><td>123.0</td><td>37.7</td><td>203.7</td><td>4.39</td><td>24.78</td></tr>\n",
       "\t<tr><td>6</td><td>6</td><td>teen</td><td>16</td><td>boy </td><td>1.57</td><td>71.2</td><td>1932</td><td>100</td><td>311</td><td>28</td><td>100.7</td><td>224</td><td>289.0</td><td>21.9</td><td>144.3</td><td>4.49</td><td>28.89</td></tr>\n",
       "</tbody>\n",
       "</table>\n"
      ],
      "text/latex": [
       "A data.frame: 6 × 18\n",
       "\\begin{tabular}{r|llllllllllllllllll}\n",
       " X & id & group & momAge & sex & momHeight & momWeight & kcal & prot & cho & lipids & glu & choles & trig & hdl & ldl & album & BMI\\\\\n",
       " <int> & <int> & <fct> & <int> & <fct> & <dbl> & <dbl> & <int> & <int> & <int> & <int> & <dbl> & <dbl> & <dbl> & <dbl> & <dbl> & <dbl> & <dbl>\\\\\n",
       "\\hline\n",
       "\t 1 & 1 & teen & 17 & girl & 1.48 & 54.4 & 4204 & 103 & 759 & 86 & 115.0 & 205 & 304.9 & 23.7 & 120.4 & 4.44 & 24.84\\\\\n",
       "\t 2 & 2 & teen & 16 & boy  & 1.52 & 74.7 & 1586 &  27 & 242 & 34 & 107.8 & 196 & 193.0 & 34.5 & 122.9 & 4.42 & 32.33\\\\\n",
       "\t 3 & 3 & teen & 17 & boy  & 1.55 & 56.4 & 2052 &  88 & 281 & 67 &  87.2 & 346 & 285.0 & 23.0 & 266.0 & 4.79 & 23.48\\\\\n",
       "\t 4 & 4 & teen & 16 & boy  & 1.60 & 65.9 &   NA &  NA &  NA & NA &  95.7 & 273 & 143.2 & 39.9 & 204.4 & 4.47 & 25.74\\\\\n",
       "\t 5 & 5 & teen & 16 & NA   & 1.51 & 56.5 & 1621 &  63 & 270 & 38 &  73.9 & 266 & 123.0 & 37.7 & 203.7 & 4.39 & 24.78\\\\\n",
       "\t 6 & 6 & teen & 16 & boy  & 1.57 & 71.2 & 1932 & 100 & 311 & 28 & 100.7 & 224 & 289.0 & 21.9 & 144.3 & 4.49 & 28.89\\\\\n",
       "\\end{tabular}\n"
      ],
      "text/markdown": [
       "\n",
       "A data.frame: 6 × 18\n",
       "\n",
       "| X &lt;int&gt; | id &lt;int&gt; | group &lt;fct&gt; | momAge &lt;int&gt; | sex &lt;fct&gt; | momHeight &lt;dbl&gt; | momWeight &lt;dbl&gt; | kcal &lt;int&gt; | prot &lt;int&gt; | cho &lt;int&gt; | lipids &lt;int&gt; | glu &lt;dbl&gt; | choles &lt;dbl&gt; | trig &lt;dbl&gt; | hdl &lt;dbl&gt; | ldl &lt;dbl&gt; | album &lt;dbl&gt; | BMI &lt;dbl&gt; |\n",
       "|---|---|---|---|---|---|---|---|---|---|---|---|---|---|---|---|---|---|\n",
       "| 1 | 1 | teen | 17 | girl | 1.48 | 54.4 | 4204 | 103 | 759 | 86 | 115.0 | 205 | 304.9 | 23.7 | 120.4 | 4.44 | 24.84 |\n",
       "| 2 | 2 | teen | 16 | boy  | 1.52 | 74.7 | 1586 |  27 | 242 | 34 | 107.8 | 196 | 193.0 | 34.5 | 122.9 | 4.42 | 32.33 |\n",
       "| 3 | 3 | teen | 17 | boy  | 1.55 | 56.4 | 2052 |  88 | 281 | 67 |  87.2 | 346 | 285.0 | 23.0 | 266.0 | 4.79 | 23.48 |\n",
       "| 4 | 4 | teen | 16 | boy  | 1.60 | 65.9 |   NA |  NA |  NA | NA |  95.7 | 273 | 143.2 | 39.9 | 204.4 | 4.47 | 25.74 |\n",
       "| 5 | 5 | teen | 16 | NA   | 1.51 | 56.5 | 1621 |  63 | 270 | 38 |  73.9 | 266 | 123.0 | 37.7 | 203.7 | 4.39 | 24.78 |\n",
       "| 6 | 6 | teen | 16 | boy  | 1.57 | 71.2 | 1932 | 100 | 311 | 28 | 100.7 | 224 | 289.0 | 21.9 | 144.3 | 4.49 | 28.89 |\n",
       "\n"
      ],
      "text/plain": [
       "  X id group momAge sex  momHeight momWeight kcal prot cho lipids glu   choles\n",
       "1 1 1  teen  17     girl 1.48      54.4      4204 103  759 86     115.0 205   \n",
       "2 2 2  teen  16     boy  1.52      74.7      1586  27  242 34     107.8 196   \n",
       "3 3 3  teen  17     boy  1.55      56.4      2052  88  281 67      87.2 346   \n",
       "4 4 4  teen  16     boy  1.60      65.9        NA  NA   NA NA      95.7 273   \n",
       "5 5 5  teen  16     NA   1.51      56.5      1621  63  270 38      73.9 266   \n",
       "6 6 6  teen  16     boy  1.57      71.2      1932 100  311 28     100.7 224   \n",
       "  trig  hdl  ldl   album BMI  \n",
       "1 304.9 23.7 120.4 4.44  24.84\n",
       "2 193.0 34.5 122.9 4.42  32.33\n",
       "3 285.0 23.0 266.0 4.79  23.48\n",
       "4 143.2 39.9 204.4 4.47  25.74\n",
       "5 123.0 37.7 203.7 4.39  24.78\n",
       "6 289.0 21.9 144.3 4.49  28.89"
      ]
     },
     "metadata": {},
     "output_type": "display_data"
    }
   ],
   "source": [
    "AA_E_Long <- read.csv('./datos/AA_E_Long.csv')\n",
    "AA_NE_Long <- read.csv('./datos/AA_NE_Long.csv')\n",
    "\n",
    "moms <- read.csv('./datos/moms.csv')\n",
    "\n",
    "head(AA_NE_Long)\n",
    "head(moms)"
   ]
  },
  {
   "cell_type": "code",
   "execution_count": 3,
   "metadata": {},
   "outputs": [],
   "source": [
    "weightLong <- read.csv('./datos/weightLong.csv')\n",
    "headCLong <- read.csv('./datos/headCLong.csv')"
   ]
  },
  {
   "cell_type": "code",
   "execution_count": 4,
   "metadata": {},
   "outputs": [
    {
     "data": {
      "text/html": [
       "<table>\n",
       "<caption>A data.frame: 6 × 10</caption>\n",
       "<thead>\n",
       "\t<tr><th scope=col>X</th><th scope=col>id</th><th scope=col>group</th><th scope=col>age</th><th scope=col>sex</th><th scope=col>weekNames</th><th scope=col>level</th><th scope=col>week</th><th scope=col>AA</th><th scope=col>missing data</th></tr>\n",
       "\t<tr><th scope=col>&lt;int&gt;</th><th scope=col>&lt;int&gt;</th><th scope=col>&lt;fct&gt;</th><th scope=col>&lt;int&gt;</th><th scope=col>&lt;fct&gt;</th><th scope=col>&lt;fct&gt;</th><th scope=col>&lt;int&gt;</th><th scope=col>&lt;int&gt;</th><th scope=col>&lt;fct&gt;</th><th scope=col>&lt;dbl&gt;</th></tr>\n",
       "</thead>\n",
       "<tbody>\n",
       "\t<tr><td>1</td><td>1</td><td>teen</td><td>17</td><td>girl</td><td>ARGCalostrum</td><td>1</td><td>1</td><td>ARG</td><td>0</td></tr>\n",
       "\t<tr><td>2</td><td>2</td><td>teen</td><td>16</td><td>boy </td><td>ARGCalostrum</td><td>1</td><td>1</td><td>ARG</td><td>0</td></tr>\n",
       "\t<tr><td>3</td><td>3</td><td>teen</td><td>17</td><td>boy </td><td>ARGCalostrum</td><td>1</td><td>1</td><td>ARG</td><td>0</td></tr>\n",
       "\t<tr><td>4</td><td>4</td><td>teen</td><td>16</td><td>boy </td><td>ARGCalostrum</td><td>1</td><td>1</td><td>ARG</td><td>0</td></tr>\n",
       "\t<tr><td>5</td><td>5</td><td>teen</td><td>16</td><td>NA  </td><td>ARGCalostrum</td><td>2</td><td>1</td><td>ARG</td><td>0</td></tr>\n",
       "\t<tr><td>6</td><td>6</td><td>teen</td><td>16</td><td>boy </td><td>ARGCalostrum</td><td>2</td><td>1</td><td>ARG</td><td>0</td></tr>\n",
       "</tbody>\n",
       "</table>\n"
      ],
      "text/latex": [
       "A data.frame: 6 × 10\n",
       "\\begin{tabular}{r|llllllllll}\n",
       " X & id & group & age & sex & weekNames & level & week & AA & missing data\\\\\n",
       " <int> & <int> & <fct> & <int> & <fct> & <fct> & <int> & <int> & <fct> & <dbl>\\\\\n",
       "\\hline\n",
       "\t 1 & 1 & teen & 17 & girl & ARGCalostrum & 1 & 1 & ARG & 0\\\\\n",
       "\t 2 & 2 & teen & 16 & boy  & ARGCalostrum & 1 & 1 & ARG & 0\\\\\n",
       "\t 3 & 3 & teen & 17 & boy  & ARGCalostrum & 1 & 1 & ARG & 0\\\\\n",
       "\t 4 & 4 & teen & 16 & boy  & ARGCalostrum & 1 & 1 & ARG & 0\\\\\n",
       "\t 5 & 5 & teen & 16 & NA   & ARGCalostrum & 2 & 1 & ARG & 0\\\\\n",
       "\t 6 & 6 & teen & 16 & boy  & ARGCalostrum & 2 & 1 & ARG & 0\\\\\n",
       "\\end{tabular}\n"
      ],
      "text/markdown": [
       "\n",
       "A data.frame: 6 × 10\n",
       "\n",
       "| X &lt;int&gt; | id &lt;int&gt; | group &lt;fct&gt; | age &lt;int&gt; | sex &lt;fct&gt; | weekNames &lt;fct&gt; | level &lt;int&gt; | week &lt;int&gt; | AA &lt;fct&gt; | missing data &lt;dbl&gt; |\n",
       "|---|---|---|---|---|---|---|---|---|---|\n",
       "| 1 | 1 | teen | 17 | girl | ARGCalostrum | 1 | 1 | ARG | 0 |\n",
       "| 2 | 2 | teen | 16 | boy  | ARGCalostrum | 1 | 1 | ARG | 0 |\n",
       "| 3 | 3 | teen | 17 | boy  | ARGCalostrum | 1 | 1 | ARG | 0 |\n",
       "| 4 | 4 | teen | 16 | boy  | ARGCalostrum | 1 | 1 | ARG | 0 |\n",
       "| 5 | 5 | teen | 16 | NA   | ARGCalostrum | 2 | 1 | ARG | 0 |\n",
       "| 6 | 6 | teen | 16 | boy  | ARGCalostrum | 2 | 1 | ARG | 0 |\n",
       "\n"
      ],
      "text/plain": [
       "  X id group age sex  weekNames    level week AA  missing data\n",
       "1 1 1  teen  17  girl ARGCalostrum 1     1    ARG 0           \n",
       "2 2 2  teen  16  boy  ARGCalostrum 1     1    ARG 0           \n",
       "3 3 3  teen  17  boy  ARGCalostrum 1     1    ARG 0           \n",
       "4 4 4  teen  16  boy  ARGCalostrum 1     1    ARG 0           \n",
       "5 5 5  teen  16  NA   ARGCalostrum 2     1    ARG 0           \n",
       "6 6 6  teen  16  boy  ARGCalostrum 2     1    ARG 0           "
      ]
     },
     "metadata": {},
     "output_type": "display_data"
    }
   ],
   "source": [
    "missingData <- AA_NE_Long %>% mutate(`missing data` = ifelse(is.na(level), 1, 0))\n",
    "head(missingData)"
   ]
  },
  {
   "cell_type": "markdown",
   "metadata": {},
   "source": [
    "There is not a clear distinction between patients with missing data patients and patients without:"
   ]
  },
  {
   "cell_type": "code",
   "execution_count": 46,
   "metadata": {},
   "outputs": [
    {
     "data": {
      "text/html": [
       "<table>\n",
       "<caption>A grouped_df: 6 × 6</caption>\n",
       "<thead>\n",
       "\t<tr><th scope=col>id</th><th scope=col>sex</th><th scope=col>age</th><th scope=col>week</th><th scope=col>AA</th><th scope=col>miss</th></tr>\n",
       "\t<tr><th scope=col>&lt;int&gt;</th><th scope=col>&lt;fct&gt;</th><th scope=col>&lt;int&gt;</th><th scope=col>&lt;int&gt;</th><th scope=col>&lt;fct&gt;</th><th scope=col>&lt;dbl&gt;</th></tr>\n",
       "</thead>\n",
       "<tbody>\n",
       "\t<tr><td>1</td><td>girl</td><td>17</td><td>1</td><td>ALA</td><td>0</td></tr>\n",
       "\t<tr><td>1</td><td>girl</td><td>17</td><td>1</td><td>ARG</td><td>0</td></tr>\n",
       "\t<tr><td>1</td><td>girl</td><td>17</td><td>1</td><td>ASN</td><td>0</td></tr>\n",
       "\t<tr><td>1</td><td>girl</td><td>17</td><td>1</td><td>ASP</td><td>0</td></tr>\n",
       "\t<tr><td>1</td><td>girl</td><td>17</td><td>1</td><td>CYS</td><td>0</td></tr>\n",
       "\t<tr><td>1</td><td>girl</td><td>17</td><td>1</td><td>GLN</td><td>0</td></tr>\n",
       "</tbody>\n",
       "</table>\n"
      ],
      "text/latex": [
       "A grouped_df: 6 × 6\n",
       "\\begin{tabular}{r|llllll}\n",
       " id & sex & age & week & AA & miss\\\\\n",
       " <int> & <fct> & <int> & <int> & <fct> & <dbl>\\\\\n",
       "\\hline\n",
       "\t 1 & girl & 17 & 1 & ALA & 0\\\\\n",
       "\t 1 & girl & 17 & 1 & ARG & 0\\\\\n",
       "\t 1 & girl & 17 & 1 & ASN & 0\\\\\n",
       "\t 1 & girl & 17 & 1 & ASP & 0\\\\\n",
       "\t 1 & girl & 17 & 1 & CYS & 0\\\\\n",
       "\t 1 & girl & 17 & 1 & GLN & 0\\\\\n",
       "\\end{tabular}\n"
      ],
      "text/markdown": [
       "\n",
       "A grouped_df: 6 × 6\n",
       "\n",
       "| id &lt;int&gt; | sex &lt;fct&gt; | age &lt;int&gt; | week &lt;int&gt; | AA &lt;fct&gt; | miss &lt;dbl&gt; |\n",
       "|---|---|---|---|---|---|\n",
       "| 1 | girl | 17 | 1 | ALA | 0 |\n",
       "| 1 | girl | 17 | 1 | ARG | 0 |\n",
       "| 1 | girl | 17 | 1 | ASN | 0 |\n",
       "| 1 | girl | 17 | 1 | ASP | 0 |\n",
       "| 1 | girl | 17 | 1 | CYS | 0 |\n",
       "| 1 | girl | 17 | 1 | GLN | 0 |\n",
       "\n"
      ],
      "text/plain": [
       "  id sex  age week AA  miss\n",
       "1 1  girl 17  1    ALA 0   \n",
       "2 1  girl 17  1    ARG 0   \n",
       "3 1  girl 17  1    ASN 0   \n",
       "4 1  girl 17  1    ASP 0   \n",
       "5 1  girl 17  1    CYS 0   \n",
       "6 1  girl 17  1    GLN 0   "
      ]
     },
     "metadata": {},
     "output_type": "display_data"
    }
   ],
   "source": [
    "numNA <- missingData %>% filter(!is.na(sex)) %>% group_by(id, sex, age, week, AA) %>% summarise(miss = sum(`missing data`))\n",
    "head(numNA)"
   ]
  },
  {
   "cell_type": "code",
   "execution_count": 6,
   "metadata": {},
   "outputs": [
    {
     "data": {
      "text/html": [
       "<table>\n",
       "<caption>A tibble: 2 × 2</caption>\n",
       "<thead>\n",
       "\t<tr><th scope=col>complete</th><th scope=col>n()</th></tr>\n",
       "\t<tr><th scope=col>&lt;chr&gt;</th><th scope=col>&lt;int&gt;</th></tr>\n",
       "</thead>\n",
       "<tbody>\n",
       "\t<tr><td>no </td><td>32</td></tr>\n",
       "\t<tr><td>yes</td><td>29</td></tr>\n",
       "</tbody>\n",
       "</table>\n"
      ],
      "text/latex": [
       "A tibble: 2 × 2\n",
       "\\begin{tabular}{r|ll}\n",
       " complete & n()\\\\\n",
       " <chr> & <int>\\\\\n",
       "\\hline\n",
       "\t no  & 32\\\\\n",
       "\t yes & 29\\\\\n",
       "\\end{tabular}\n"
      ],
      "text/markdown": [
       "\n",
       "A tibble: 2 × 2\n",
       "\n",
       "| complete &lt;chr&gt; | n() &lt;int&gt; |\n",
       "|---|---|\n",
       "| no  | 32 |\n",
       "| yes | 29 |\n",
       "\n"
      ],
      "text/plain": [
       "  complete n()\n",
       "1 no       32 \n",
       "2 yes      29 "
      ]
     },
     "metadata": {},
     "output_type": "display_data"
    }
   ],
   "source": [
    "numNA_CI <- numNA %>% filter(!is.na(sex)) %>% group_by(id, sex, age, AA) %>% \n",
    "                    summarise(total_miss = sum(miss)) %>% filter(AA == 'GLU') %>%\n",
    "                    mutate(complete = ifelse(total_miss == 0, 'yes', 'no'))\n",
    "\n",
    "numNA_CI %>% group_by(complete) %>% summarise(n())"
   ]
  },
  {
   "cell_type": "code",
   "execution_count": 7,
   "metadata": {},
   "outputs": [
    {
     "data": {
      "text/html": [
       "<table>\n",
       "<caption>A grouped_df: 4 × 3</caption>\n",
       "<thead>\n",
       "\t<tr><th scope=col>complete</th><th scope=col>sex</th><th scope=col>n()</th></tr>\n",
       "\t<tr><th scope=col>&lt;chr&gt;</th><th scope=col>&lt;fct&gt;</th><th scope=col>&lt;int&gt;</th></tr>\n",
       "</thead>\n",
       "<tbody>\n",
       "\t<tr><td>no </td><td>boy </td><td>19</td></tr>\n",
       "\t<tr><td>no </td><td>girl</td><td>13</td></tr>\n",
       "\t<tr><td>yes</td><td>boy </td><td>16</td></tr>\n",
       "\t<tr><td>yes</td><td>girl</td><td>13</td></tr>\n",
       "</tbody>\n",
       "</table>\n"
      ],
      "text/latex": [
       "A grouped_df: 4 × 3\n",
       "\\begin{tabular}{r|lll}\n",
       " complete & sex & n()\\\\\n",
       " <chr> & <fct> & <int>\\\\\n",
       "\\hline\n",
       "\t no  & boy  & 19\\\\\n",
       "\t no  & girl & 13\\\\\n",
       "\t yes & boy  & 16\\\\\n",
       "\t yes & girl & 13\\\\\n",
       "\\end{tabular}\n"
      ],
      "text/markdown": [
       "\n",
       "A grouped_df: 4 × 3\n",
       "\n",
       "| complete &lt;chr&gt; | sex &lt;fct&gt; | n() &lt;int&gt; |\n",
       "|---|---|---|\n",
       "| no  | boy  | 19 |\n",
       "| no  | girl | 13 |\n",
       "| yes | boy  | 16 |\n",
       "| yes | girl | 13 |\n",
       "\n"
      ],
      "text/plain": [
       "  complete sex  n()\n",
       "1 no       boy  19 \n",
       "2 no       girl 13 \n",
       "3 yes      boy  16 \n",
       "4 yes      girl 13 "
      ]
     },
     "metadata": {},
     "output_type": "display_data"
    }
   ],
   "source": [
    "numNA_CI %>% group_by(complete, sex) %>% summarise(n())"
   ]
  },
  {
   "cell_type": "code",
   "execution_count": 8,
   "metadata": {},
   "outputs": [],
   "source": [
    "completeMising <- numNA %>% filter(!is.na(sex)) %>% group_by(id, sex, age, week, AA) %>% \n",
    "                    summarise(total_miss = sum(miss)) %>% \n",
    "                    filter(AA == 'GLU') %>%\n",
    "                    mutate(complete = ifelse(total_miss == 0, 'yes', 'no'))\n",
    "\n",
    "weekSexNA <- completeMising %>%\n",
    "                    group_by(complete, week, sex) %>% summarise(total = n())"
   ]
  },
  {
   "cell_type": "markdown",
   "metadata": {},
   "source": [
    "## Characteristics for mothers with complete and incomplete data"
   ]
  },
  {
   "cell_type": "code",
   "execution_count": 9,
   "metadata": {},
   "outputs": [
    {
     "data": {
      "text/html": [
       "<ol class=list-inline>\n",
       "\t<li>3</li>\n",
       "\t<li>4</li>\n",
       "\t<li>9</li>\n",
       "\t<li>10</li>\n",
       "\t<li>11</li>\n",
       "\t<li>12</li>\n",
       "\t<li>16</li>\n",
       "\t<li>17</li>\n",
       "\t<li>18</li>\n",
       "\t<li>19</li>\n",
       "\t<li>21</li>\n",
       "\t<li>22</li>\n",
       "\t<li>24</li>\n",
       "\t<li>25</li>\n",
       "\t<li>26</li>\n",
       "\t<li>29</li>\n",
       "\t<li>33</li>\n",
       "\t<li>34</li>\n",
       "\t<li>35</li>\n",
       "\t<li>36</li>\n",
       "\t<li>38</li>\n",
       "\t<li>45</li>\n",
       "\t<li>46</li>\n",
       "\t<li>47</li>\n",
       "\t<li>48</li>\n",
       "\t<li>49</li>\n",
       "\t<li>50</li>\n",
       "\t<li>51</li>\n",
       "\t<li>59</li>\n",
       "\t<li>65</li>\n",
       "\t<li>66</li>\n",
       "\t<li>67</li>\n",
       "</ol>\n"
      ],
      "text/latex": [
       "\\begin{enumerate*}\n",
       "\\item 3\n",
       "\\item 4\n",
       "\\item 9\n",
       "\\item 10\n",
       "\\item 11\n",
       "\\item 12\n",
       "\\item 16\n",
       "\\item 17\n",
       "\\item 18\n",
       "\\item 19\n",
       "\\item 21\n",
       "\\item 22\n",
       "\\item 24\n",
       "\\item 25\n",
       "\\item 26\n",
       "\\item 29\n",
       "\\item 33\n",
       "\\item 34\n",
       "\\item 35\n",
       "\\item 36\n",
       "\\item 38\n",
       "\\item 45\n",
       "\\item 46\n",
       "\\item 47\n",
       "\\item 48\n",
       "\\item 49\n",
       "\\item 50\n",
       "\\item 51\n",
       "\\item 59\n",
       "\\item 65\n",
       "\\item 66\n",
       "\\item 67\n",
       "\\end{enumerate*}\n"
      ],
      "text/markdown": [
       "1. 3\n",
       "2. 4\n",
       "3. 9\n",
       "4. 10\n",
       "5. 11\n",
       "6. 12\n",
       "7. 16\n",
       "8. 17\n",
       "9. 18\n",
       "10. 19\n",
       "11. 21\n",
       "12. 22\n",
       "13. 24\n",
       "14. 25\n",
       "15. 26\n",
       "16. 29\n",
       "17. 33\n",
       "18. 34\n",
       "19. 35\n",
       "20. 36\n",
       "21. 38\n",
       "22. 45\n",
       "23. 46\n",
       "24. 47\n",
       "25. 48\n",
       "26. 49\n",
       "27. 50\n",
       "28. 51\n",
       "29. 59\n",
       "30. 65\n",
       "31. 66\n",
       "32. 67\n",
       "\n",
       "\n"
      ],
      "text/plain": [
       " [1]  3  4  9 10 11 12 16 17 18 19 21 22 24 25 26 29 33 34 35 36 38 45 46 47 48\n",
       "[26] 49 50 51 59 65 66 67"
      ]
     },
     "metadata": {},
     "output_type": "display_data"
    }
   ],
   "source": [
    "df_incomplete <- completeMising %>% filter(complete == 'no') %>% group_by(id) %>% summarise(mean(total_miss))\n",
    "id_incomplete <- df_incomplete$id\n",
    "n_obs <- length(id_incomplete)\n",
    "id_incomplete"
   ]
  },
  {
   "cell_type": "code",
   "execution_count": 10,
   "metadata": {},
   "outputs": [
    {
     "data": {
      "text/html": [
       "<ol class=list-inline>\n",
       "\t<li>-2.03951344639641</li>\n",
       "\t<li>2.03951344639641</li>\n",
       "</ol>\n"
      ],
      "text/latex": [
       "\\begin{enumerate*}\n",
       "\\item -2.03951344639641\n",
       "\\item 2.03951344639641\n",
       "\\end{enumerate*}\n"
      ],
      "text/markdown": [
       "1. -2.03951344639641\n",
       "2. 2.03951344639641\n",
       "\n",
       "\n"
      ],
      "text/plain": [
       "[1] -2.039513  2.039513"
      ]
     },
     "metadata": {},
     "output_type": "display_data"
    }
   ],
   "source": [
    "qt(c(.025, .975), df = n_obs-1)"
   ]
  },
  {
   "cell_type": "code",
   "execution_count": 11,
   "metadata": {},
   "outputs": [],
   "source": [
    "moms_complete <- moms %>% mutate(complete = ifelse(id %in% id_incomplete, 'no', 'yes'))"
   ]
  },
  {
   "cell_type": "code",
   "execution_count": 12,
   "metadata": {},
   "outputs": [
    {
     "data": {
      "text/html": [
       "<table>\n",
       "<caption>A tibble: 2 × 4</caption>\n",
       "<thead>\n",
       "\t<tr><th scope=col>complete</th><th scope=col>age</th><th scope=col>height</th><th scope=col>weight</th></tr>\n",
       "\t<tr><th scope=col>&lt;chr&gt;</th><th scope=col>&lt;int&gt;</th><th scope=col>&lt;int&gt;</th><th scope=col>&lt;int&gt;</th></tr>\n",
       "</thead>\n",
       "<tbody>\n",
       "\t<tr><td>no </td><td>32</td><td>30</td><td>30</td></tr>\n",
       "\t<tr><td>yes</td><td>29</td><td>27</td><td>29</td></tr>\n",
       "</tbody>\n",
       "</table>\n"
      ],
      "text/latex": [
       "A tibble: 2 × 4\n",
       "\\begin{tabular}{r|llll}\n",
       " complete & age & height & weight\\\\\n",
       " <chr> & <int> & <int> & <int>\\\\\n",
       "\\hline\n",
       "\t no  & 32 & 30 & 30\\\\\n",
       "\t yes & 29 & 27 & 29\\\\\n",
       "\\end{tabular}\n"
      ],
      "text/markdown": [
       "\n",
       "A tibble: 2 × 4\n",
       "\n",
       "| complete &lt;chr&gt; | age &lt;int&gt; | height &lt;int&gt; | weight &lt;int&gt; |\n",
       "|---|---|---|---|\n",
       "| no  | 32 | 30 | 30 |\n",
       "| yes | 29 | 27 | 29 |\n",
       "\n"
      ],
      "text/plain": [
       "  complete age height weight\n",
       "1 no       32  30     30    \n",
       "2 yes      29  27     29    "
      ]
     },
     "metadata": {},
     "output_type": "display_data"
    },
    {
     "data": {
      "text/html": [
       "<table>\n",
       "<caption>A tibble: 2 × 7</caption>\n",
       "<thead>\n",
       "\t<tr><th scope=col>complete</th><th scope=col>age</th><th scope=col>sdAge</th><th scope=col>height</th><th scope=col>sdHeight</th><th scope=col>weight</th><th scope=col>sdWeight</th></tr>\n",
       "\t<tr><th scope=col>&lt;chr&gt;</th><th scope=col>&lt;dbl&gt;</th><th scope=col>&lt;dbl&gt;</th><th scope=col>&lt;dbl&gt;</th><th scope=col>&lt;dbl&gt;</th><th scope=col>&lt;dbl&gt;</th><th scope=col>&lt;dbl&gt;</th></tr>\n",
       "</thead>\n",
       "<tbody>\n",
       "\t<tr><td>no </td><td>18.0</td><td>5.6</td><td>1.6</td><td>0.2</td><td>59.5</td><td>14.4</td></tr>\n",
       "\t<tr><td>yes</td><td>18.7</td><td>6.2</td><td>1.5</td><td>0.2</td><td>59.4</td><td>19.8</td></tr>\n",
       "</tbody>\n",
       "</table>\n"
      ],
      "text/latex": [
       "A tibble: 2 × 7\n",
       "\\begin{tabular}{r|lllllll}\n",
       " complete & age & sdAge & height & sdHeight & weight & sdWeight\\\\\n",
       " <chr> & <dbl> & <dbl> & <dbl> & <dbl> & <dbl> & <dbl>\\\\\n",
       "\\hline\n",
       "\t no  & 18.0 & 5.6 & 1.6 & 0.2 & 59.5 & 14.4\\\\\n",
       "\t yes & 18.7 & 6.2 & 1.5 & 0.2 & 59.4 & 19.8\\\\\n",
       "\\end{tabular}\n"
      ],
      "text/markdown": [
       "\n",
       "A tibble: 2 × 7\n",
       "\n",
       "| complete &lt;chr&gt; | age &lt;dbl&gt; | sdAge &lt;dbl&gt; | height &lt;dbl&gt; | sdHeight &lt;dbl&gt; | weight &lt;dbl&gt; | sdWeight &lt;dbl&gt; |\n",
       "|---|---|---|---|---|---|---|\n",
       "| no  | 18.0 | 5.6 | 1.6 | 0.2 | 59.5 | 14.4 |\n",
       "| yes | 18.7 | 6.2 | 1.5 | 0.2 | 59.4 | 19.8 |\n",
       "\n"
      ],
      "text/plain": [
       "  complete age  sdAge height sdHeight weight sdWeight\n",
       "1 no       18.0 5.6   1.6    0.2      59.5   14.4    \n",
       "2 yes      18.7 6.2   1.5    0.2      59.4   19.8    "
      ]
     },
     "metadata": {},
     "output_type": "display_data"
    }
   ],
   "source": [
    "moms_complete %>% group_by(complete) %>% filter(!is.na(sex)) %>% \n",
    "    summarise(age = sum(!is.na(momAge)), height = sum(!is.na(momHeight)), weight = sum(!is.na(momWeight)))\n",
    "              \n",
    "moms_complete %>% group_by(complete) %>% \n",
    "    summarise(age = round(mean(momAge), 1), sdAge = 2*round(sd(momAge), 1), \n",
    "              height = round(mean(momHeight, na.rm = T), 1), sdHeight = 2*round(sd(momHeight, na.rm = T), 1),\n",
    "              weight = round(mean(momWeight, na.rm = T), 1), sdWeight = 2*round(sd(momWeight, na.rm = T), 1))"
   ]
  },
  {
   "cell_type": "markdown",
   "metadata": {},
   "source": [
    "## Diet for mothers with complete and incomplete data"
   ]
  },
  {
   "cell_type": "code",
   "execution_count": 13,
   "metadata": {},
   "outputs": [
    {
     "data": {
      "text/html": [
       "<ol class=list-inline>\n",
       "\t<li>'X'</li>\n",
       "\t<li>'id'</li>\n",
       "\t<li>'group'</li>\n",
       "\t<li>'momAge'</li>\n",
       "\t<li>'sex'</li>\n",
       "\t<li>'momHeight'</li>\n",
       "\t<li>'momWeight'</li>\n",
       "\t<li>'kcal'</li>\n",
       "\t<li>'prot'</li>\n",
       "\t<li>'cho'</li>\n",
       "\t<li>'lipids'</li>\n",
       "\t<li>'glu'</li>\n",
       "\t<li>'choles'</li>\n",
       "\t<li>'trig'</li>\n",
       "\t<li>'hdl'</li>\n",
       "\t<li>'ldl'</li>\n",
       "\t<li>'album'</li>\n",
       "\t<li>'BMI'</li>\n",
       "\t<li>'complete'</li>\n",
       "</ol>\n"
      ],
      "text/latex": [
       "\\begin{enumerate*}\n",
       "\\item 'X'\n",
       "\\item 'id'\n",
       "\\item 'group'\n",
       "\\item 'momAge'\n",
       "\\item 'sex'\n",
       "\\item 'momHeight'\n",
       "\\item 'momWeight'\n",
       "\\item 'kcal'\n",
       "\\item 'prot'\n",
       "\\item 'cho'\n",
       "\\item 'lipids'\n",
       "\\item 'glu'\n",
       "\\item 'choles'\n",
       "\\item 'trig'\n",
       "\\item 'hdl'\n",
       "\\item 'ldl'\n",
       "\\item 'album'\n",
       "\\item 'BMI'\n",
       "\\item 'complete'\n",
       "\\end{enumerate*}\n"
      ],
      "text/markdown": [
       "1. 'X'\n",
       "2. 'id'\n",
       "3. 'group'\n",
       "4. 'momAge'\n",
       "5. 'sex'\n",
       "6. 'momHeight'\n",
       "7. 'momWeight'\n",
       "8. 'kcal'\n",
       "9. 'prot'\n",
       "10. 'cho'\n",
       "11. 'lipids'\n",
       "12. 'glu'\n",
       "13. 'choles'\n",
       "14. 'trig'\n",
       "15. 'hdl'\n",
       "16. 'ldl'\n",
       "17. 'album'\n",
       "18. 'BMI'\n",
       "19. 'complete'\n",
       "\n",
       "\n"
      ],
      "text/plain": [
       " [1] \"X\"         \"id\"        \"group\"     \"momAge\"    \"sex\"       \"momHeight\"\n",
       " [7] \"momWeight\" \"kcal\"      \"prot\"      \"cho\"       \"lipids\"    \"glu\"      \n",
       "[13] \"choles\"    \"trig\"      \"hdl\"       \"ldl\"       \"album\"     \"BMI\"      \n",
       "[19] \"complete\" "
      ]
     },
     "metadata": {},
     "output_type": "display_data"
    }
   ],
   "source": [
    "names(moms_complete)"
   ]
  },
  {
   "cell_type": "code",
   "execution_count": 14,
   "metadata": {},
   "outputs": [
    {
     "data": {
      "text/html": [
       "'total complete and missing data cases:'"
      ],
      "text/latex": [
       "'total complete and missing data cases:'"
      ],
      "text/markdown": [
       "'total complete and missing data cases:'"
      ],
      "text/plain": [
       "[1] \"total complete and missing data cases:\""
      ]
     },
     "metadata": {},
     "output_type": "display_data"
    },
    {
     "data": {
      "text/html": [
       "<table>\n",
       "<caption>A tibble: 2 × 2</caption>\n",
       "<thead>\n",
       "\t<tr><th scope=col>complete</th><th scope=col>number</th></tr>\n",
       "\t<tr><th scope=col>&lt;chr&gt;</th><th scope=col>&lt;int&gt;</th></tr>\n",
       "</thead>\n",
       "<tbody>\n",
       "\t<tr><td>no </td><td>32</td></tr>\n",
       "\t<tr><td>yes</td><td>29</td></tr>\n",
       "</tbody>\n",
       "</table>\n"
      ],
      "text/latex": [
       "A tibble: 2 × 2\n",
       "\\begin{tabular}{r|ll}\n",
       " complete & number\\\\\n",
       " <chr> & <int>\\\\\n",
       "\\hline\n",
       "\t no  & 32\\\\\n",
       "\t yes & 29\\\\\n",
       "\\end{tabular}\n"
      ],
      "text/markdown": [
       "\n",
       "A tibble: 2 × 2\n",
       "\n",
       "| complete &lt;chr&gt; | number &lt;int&gt; |\n",
       "|---|---|\n",
       "| no  | 32 |\n",
       "| yes | 29 |\n",
       "\n"
      ],
      "text/plain": [
       "  complete number\n",
       "1 no       32    \n",
       "2 yes      29    "
      ]
     },
     "metadata": {},
     "output_type": "display_data"
    },
    {
     "data": {
      "text/html": [
       "'quesionanaire:'"
      ],
      "text/latex": [
       "'quesionanaire:'"
      ],
      "text/markdown": [
       "'quesionanaire:'"
      ],
      "text/plain": [
       "[1] \"quesionanaire:\""
      ]
     },
     "metadata": {},
     "output_type": "display_data"
    },
    {
     "data": {
      "text/html": [
       "<table>\n",
       "<caption>A tibble: 2 × 5</caption>\n",
       "<thead>\n",
       "\t<tr><th scope=col>complete</th><th scope=col>kcal</th><th scope=col>prot</th><th scope=col>cho</th><th scope=col>lipids</th></tr>\n",
       "\t<tr><th scope=col>&lt;chr&gt;</th><th scope=col>&lt;int&gt;</th><th scope=col>&lt;int&gt;</th><th scope=col>&lt;int&gt;</th><th scope=col>&lt;int&gt;</th></tr>\n",
       "</thead>\n",
       "<tbody>\n",
       "\t<tr><td>no </td><td>13</td><td>13</td><td>13</td><td>13</td></tr>\n",
       "\t<tr><td>yes</td><td>22</td><td>22</td><td>22</td><td>22</td></tr>\n",
       "</tbody>\n",
       "</table>\n"
      ],
      "text/latex": [
       "A tibble: 2 × 5\n",
       "\\begin{tabular}{r|lllll}\n",
       " complete & kcal & prot & cho & lipids\\\\\n",
       " <chr> & <int> & <int> & <int> & <int>\\\\\n",
       "\\hline\n",
       "\t no  & 13 & 13 & 13 & 13\\\\\n",
       "\t yes & 22 & 22 & 22 & 22\\\\\n",
       "\\end{tabular}\n"
      ],
      "text/markdown": [
       "\n",
       "A tibble: 2 × 5\n",
       "\n",
       "| complete &lt;chr&gt; | kcal &lt;int&gt; | prot &lt;int&gt; | cho &lt;int&gt; | lipids &lt;int&gt; |\n",
       "|---|---|---|---|---|\n",
       "| no  | 13 | 13 | 13 | 13 |\n",
       "| yes | 22 | 22 | 22 | 22 |\n",
       "\n"
      ],
      "text/plain": [
       "  complete kcal prot cho lipids\n",
       "1 no       13   13   13  13    \n",
       "2 yes      22   22   22  22    "
      ]
     },
     "metadata": {},
     "output_type": "display_data"
    },
    {
     "data": {
      "text/html": [
       "'blood samples:'"
      ],
      "text/latex": [
       "'blood samples:'"
      ],
      "text/markdown": [
       "'blood samples:'"
      ],
      "text/plain": [
       "[1] \"blood samples:\""
      ]
     },
     "metadata": {},
     "output_type": "display_data"
    },
    {
     "data": {
      "text/html": [
       "<table>\n",
       "<caption>A tibble: 2 × 7</caption>\n",
       "<thead>\n",
       "\t<tr><th scope=col>complete</th><th scope=col>trig</th><th scope=col>glu</th><th scope=col>choles</th><th scope=col>hdl</th><th scope=col>ldl</th><th scope=col>album</th></tr>\n",
       "\t<tr><th scope=col>&lt;chr&gt;</th><th scope=col>&lt;int&gt;</th><th scope=col>&lt;int&gt;</th><th scope=col>&lt;int&gt;</th><th scope=col>&lt;int&gt;</th><th scope=col>&lt;int&gt;</th><th scope=col>&lt;int&gt;</th></tr>\n",
       "</thead>\n",
       "<tbody>\n",
       "\t<tr><td>no </td><td>25</td><td>25</td><td>25</td><td>25</td><td>25</td><td>25</td></tr>\n",
       "\t<tr><td>yes</td><td>29</td><td>29</td><td>29</td><td>29</td><td>29</td><td>29</td></tr>\n",
       "</tbody>\n",
       "</table>\n"
      ],
      "text/latex": [
       "A tibble: 2 × 7\n",
       "\\begin{tabular}{r|lllllll}\n",
       " complete & trig & glu & choles & hdl & ldl & album\\\\\n",
       " <chr> & <int> & <int> & <int> & <int> & <int> & <int>\\\\\n",
       "\\hline\n",
       "\t no  & 25 & 25 & 25 & 25 & 25 & 25\\\\\n",
       "\t yes & 29 & 29 & 29 & 29 & 29 & 29\\\\\n",
       "\\end{tabular}\n"
      ],
      "text/markdown": [
       "\n",
       "A tibble: 2 × 7\n",
       "\n",
       "| complete &lt;chr&gt; | trig &lt;int&gt; | glu &lt;int&gt; | choles &lt;int&gt; | hdl &lt;int&gt; | ldl &lt;int&gt; | album &lt;int&gt; |\n",
       "|---|---|---|---|---|---|---|\n",
       "| no  | 25 | 25 | 25 | 25 | 25 | 25 |\n",
       "| yes | 29 | 29 | 29 | 29 | 29 | 29 |\n",
       "\n"
      ],
      "text/plain": [
       "  complete trig glu choles hdl ldl album\n",
       "1 no       25   25  25     25  25  25   \n",
       "2 yes      29   29  29     29  29  29   "
      ]
     },
     "metadata": {},
     "output_type": "display_data"
    }
   ],
   "source": [
    "'total complete and missing data cases:'\n",
    "moms_complete %>% group_by(complete) %>% filter(!is.na(sex)) %>% summarise(number = n())\n",
    "\n",
    "'quesionanaire:' \n",
    "moms_complete %>% group_by(complete) %>% filter(!is.na(sex)) %>% \n",
    "    summarise(kcal = sum(!is.na(kcal)), prot = sum(!is.na(prot)),\n",
    "              cho = sum(!is.na(cho)), lipids = sum(!is.na(lipids)))\n",
    "\n",
    "'blood samples:'\n",
    "moms_complete %>% group_by(complete) %>% filter(!is.na(sex)) %>% \n",
    "    summarise(trig = sum(!is.na(trig)), glu = sum(!is.na(glu)),\n",
    "              choles = sum(!is.na(choles)), hdl = sum(!is.na(hdl)),\n",
    "              ldl = sum(!is.na(ldl)), album = sum(!is.na(album)))"
   ]
  },
  {
   "cell_type": "code",
   "execution_count": 44,
   "metadata": {},
   "outputs": [
    {
     "data": {
      "text/html": [
       "<table>\n",
       "<caption>A tibble: 2 × 9</caption>\n",
       "<thead>\n",
       "\t<tr><th scope=col>complete</th><th scope=col>mKcal</th><th scope=col>sdKcal</th><th scope=col>mProt</th><th scope=col>sdProt</th><th scope=col>mCho</th><th scope=col>sdCho</th><th scope=col>mLipids</th><th scope=col>sdLipids</th></tr>\n",
       "\t<tr><th scope=col>&lt;chr&gt;</th><th scope=col>&lt;dbl&gt;</th><th scope=col>&lt;dbl&gt;</th><th scope=col>&lt;dbl&gt;</th><th scope=col>&lt;dbl&gt;</th><th scope=col>&lt;dbl&gt;</th><th scope=col>&lt;dbl&gt;</th><th scope=col>&lt;dbl&gt;</th><th scope=col>&lt;dbl&gt;</th></tr>\n",
       "</thead>\n",
       "<tbody>\n",
       "\t<tr><td>no </td><td>1785.0</td><td> 806.6</td><td>74.5</td><td>35.4</td><td>393.4</td><td>886.6</td><td>46.1</td><td>32.8</td></tr>\n",
       "\t<tr><td>yes</td><td>2085.2</td><td>1729.8</td><td>78.0</td><td>55.6</td><td>329.2</td><td>311.4</td><td>52.4</td><td>55.8</td></tr>\n",
       "</tbody>\n",
       "</table>\n"
      ],
      "text/latex": [
       "A tibble: 2 × 9\n",
       "\\begin{tabular}{r|lllllllll}\n",
       " complete & mKcal & sdKcal & mProt & sdProt & mCho & sdCho & mLipids & sdLipids\\\\\n",
       " <chr> & <dbl> & <dbl> & <dbl> & <dbl> & <dbl> & <dbl> & <dbl> & <dbl>\\\\\n",
       "\\hline\n",
       "\t no  & 1785.0 &  806.6 & 74.5 & 35.4 & 393.4 & 886.6 & 46.1 & 32.8\\\\\n",
       "\t yes & 2085.2 & 1729.8 & 78.0 & 55.6 & 329.2 & 311.4 & 52.4 & 55.8\\\\\n",
       "\\end{tabular}\n"
      ],
      "text/markdown": [
       "\n",
       "A tibble: 2 × 9\n",
       "\n",
       "| complete &lt;chr&gt; | mKcal &lt;dbl&gt; | sdKcal &lt;dbl&gt; | mProt &lt;dbl&gt; | sdProt &lt;dbl&gt; | mCho &lt;dbl&gt; | sdCho &lt;dbl&gt; | mLipids &lt;dbl&gt; | sdLipids &lt;dbl&gt; |\n",
       "|---|---|---|---|---|---|---|---|---|\n",
       "| no  | 1785.0 |  806.6 | 74.5 | 35.4 | 393.4 | 886.6 | 46.1 | 32.8 |\n",
       "| yes | 2085.2 | 1729.8 | 78.0 | 55.6 | 329.2 | 311.4 | 52.4 | 55.8 |\n",
       "\n"
      ],
      "text/plain": [
       "  complete mKcal  sdKcal mProt sdProt mCho  sdCho mLipids sdLipids\n",
       "1 no       1785.0  806.6 74.5  35.4   393.4 886.6 46.1    32.8    \n",
       "2 yes      2085.2 1729.8 78.0  55.6   329.2 311.4 52.4    55.8    "
      ]
     },
     "metadata": {},
     "output_type": "display_data"
    }
   ],
   "source": [
    "moms_complete %>% group_by(complete) %>% \n",
    "    summarise(mKcal = round(mean(kcal, na.rm = T), 1), sdKcal = 2*round(sd(kcal, na.rm = T), 1), \n",
    "              mProt = round(mean(prot, na.rm = T), 1), sdProt = 2*round(sd(prot, na.rm = T), 1),\n",
    "              mCho = round(mean(cho, na.rm = T), 1), sdCho = 2*round(sd(cho, na.rm = T), 1),\n",
    "              mLipids = round(mean(lipids, na.rm = T), 1), sdLipids = 2*round(sd(lipids, na.rm = T), 1))"
   ]
  },
  {
   "cell_type": "code",
   "execution_count": 43,
   "metadata": {},
   "outputs": [
    {
     "data": {
      "text/html": [
       "<table>\n",
       "<caption>A tibble: 2 × 11</caption>\n",
       "<thead>\n",
       "\t<tr><th scope=col>complete</th><th scope=col>mGlu</th><th scope=col>sdGlu</th><th scope=col>mTrig</th><th scope=col>sdTrig</th><th scope=col>mHdl</th><th scope=col>sdHdl</th><th scope=col>mLdl</th><th scope=col>sdLdl</th><th scope=col>mAlbum</th><th scope=col>sdAlbum</th></tr>\n",
       "\t<tr><th scope=col>&lt;chr&gt;</th><th scope=col>&lt;dbl&gt;</th><th scope=col>&lt;dbl&gt;</th><th scope=col>&lt;dbl&gt;</th><th scope=col>&lt;dbl&gt;</th><th scope=col>&lt;dbl&gt;</th><th scope=col>&lt;dbl&gt;</th><th scope=col>&lt;dbl&gt;</th><th scope=col>&lt;dbl&gt;</th><th scope=col>&lt;dbl&gt;</th><th scope=col>&lt;dbl&gt;</th></tr>\n",
       "</thead>\n",
       "<tbody>\n",
       "\t<tr><td>no </td><td>75.7</td><td>16.6</td><td>145.3</td><td> 90.6</td><td>41.4</td><td>22.8</td><td>156.1</td><td>83.4</td><td>4.5</td><td>0.6</td></tr>\n",
       "\t<tr><td>yes</td><td>82.2</td><td>27.4</td><td>161.1</td><td>125.8</td><td>44.8</td><td>29.0</td><td>163.3</td><td>76.6</td><td>4.5</td><td>0.6</td></tr>\n",
       "</tbody>\n",
       "</table>\n"
      ],
      "text/latex": [
       "A tibble: 2 × 11\n",
       "\\begin{tabular}{r|lllllllllll}\n",
       " complete & mGlu & sdGlu & mTrig & sdTrig & mHdl & sdHdl & mLdl & sdLdl & mAlbum & sdAlbum\\\\\n",
       " <chr> & <dbl> & <dbl> & <dbl> & <dbl> & <dbl> & <dbl> & <dbl> & <dbl> & <dbl> & <dbl>\\\\\n",
       "\\hline\n",
       "\t no  & 75.7 & 16.6 & 145.3 &  90.6 & 41.4 & 22.8 & 156.1 & 83.4 & 4.5 & 0.6\\\\\n",
       "\t yes & 82.2 & 27.4 & 161.1 & 125.8 & 44.8 & 29.0 & 163.3 & 76.6 & 4.5 & 0.6\\\\\n",
       "\\end{tabular}\n"
      ],
      "text/markdown": [
       "\n",
       "A tibble: 2 × 11\n",
       "\n",
       "| complete &lt;chr&gt; | mGlu &lt;dbl&gt; | sdGlu &lt;dbl&gt; | mTrig &lt;dbl&gt; | sdTrig &lt;dbl&gt; | mHdl &lt;dbl&gt; | sdHdl &lt;dbl&gt; | mLdl &lt;dbl&gt; | sdLdl &lt;dbl&gt; | mAlbum &lt;dbl&gt; | sdAlbum &lt;dbl&gt; |\n",
       "|---|---|---|---|---|---|---|---|---|---|---|\n",
       "| no  | 75.7 | 16.6 | 145.3 |  90.6 | 41.4 | 22.8 | 156.1 | 83.4 | 4.5 | 0.6 |\n",
       "| yes | 82.2 | 27.4 | 161.1 | 125.8 | 44.8 | 29.0 | 163.3 | 76.6 | 4.5 | 0.6 |\n",
       "\n"
      ],
      "text/plain": [
       "  complete mGlu sdGlu mTrig sdTrig mHdl sdHdl mLdl  sdLdl mAlbum sdAlbum\n",
       "1 no       75.7 16.6  145.3  90.6  41.4 22.8  156.1 83.4  4.5    0.6    \n",
       "2 yes      82.2 27.4  161.1 125.8  44.8 29.0  163.3 76.6  4.5    0.6    "
      ]
     },
     "metadata": {},
     "output_type": "display_data"
    }
   ],
   "source": [
    "moms_complete %>% group_by(complete) %>% \n",
    "    summarise(mGlu = round(mean(glu, na.rm = T), 1), sdGlu = 2*round(sd(glu, na.rm = T), 1), \n",
    "              mTrig = round(mean(trig, na.rm = T), 1), sdTrig = 2*round(sd(trig, na.rm = T), 1),\n",
    "              mHdl = round(mean(hdl, na.rm = T), 1), sdHdl = 2*round(sd(hdl, na.rm = T), 1),\n",
    "              mLdl = round(mean(ldl, na.rm = T), 1), sdLdl = 2*round(sd(ldl, na.rm = T), 1),\n",
    "              mAlbum = round(mean(album, na.rm = T), 1), sdAlbum = 2*round(sd(album, na.rm = T), 1))"
   ]
  },
  {
   "cell_type": "markdown",
   "metadata": {},
   "source": [
    "## Weigth and Head Circumference for babies with complete and incomplete data"
   ]
  },
  {
   "cell_type": "code",
   "execution_count": 17,
   "metadata": {},
   "outputs": [
    {
     "data": {
      "text/html": [
       "<table>\n",
       "<caption>A data.frame: 6 × 8</caption>\n",
       "<thead>\n",
       "\t<tr><th scope=col>X</th><th scope=col>id</th><th scope=col>group</th><th scope=col>sex</th><th scope=col>weekNames</th><th scope=col>weight</th><th scope=col>week</th><th scope=col>complete</th></tr>\n",
       "\t<tr><th scope=col>&lt;int&gt;</th><th scope=col>&lt;int&gt;</th><th scope=col>&lt;fct&gt;</th><th scope=col>&lt;fct&gt;</th><th scope=col>&lt;fct&gt;</th><th scope=col>&lt;dbl&gt;</th><th scope=col>&lt;int&gt;</th><th scope=col>&lt;chr&gt;</th></tr>\n",
       "</thead>\n",
       "<tbody>\n",
       "\t<tr><td>1</td><td>1</td><td>teen</td><td>girl</td><td>BABYWeigth1g</td><td>3492.7</td><td>1</td><td>yes</td></tr>\n",
       "\t<tr><td>2</td><td>2</td><td>teen</td><td>boy </td><td>BABYWeigth1g</td><td>3392.9</td><td>1</td><td>yes</td></tr>\n",
       "\t<tr><td>3</td><td>3</td><td>teen</td><td>boy </td><td>BABYWeigth1g</td><td>2993.8</td><td>1</td><td>no </td></tr>\n",
       "\t<tr><td>4</td><td>4</td><td>teen</td><td>boy </td><td>BABYWeigth1g</td><td>3692.3</td><td>1</td><td>no </td></tr>\n",
       "\t<tr><td>5</td><td>5</td><td>teen</td><td>NA  </td><td>BABYWeigth1g</td><td>3592.5</td><td>1</td><td>yes</td></tr>\n",
       "\t<tr><td>6</td><td>6</td><td>teen</td><td>boy </td><td>BABYWeigth1g</td><td>3093.5</td><td>1</td><td>yes</td></tr>\n",
       "</tbody>\n",
       "</table>\n"
      ],
      "text/latex": [
       "A data.frame: 6 × 8\n",
       "\\begin{tabular}{r|llllllll}\n",
       " X & id & group & sex & weekNames & weight & week & complete\\\\\n",
       " <int> & <int> & <fct> & <fct> & <fct> & <dbl> & <int> & <chr>\\\\\n",
       "\\hline\n",
       "\t 1 & 1 & teen & girl & BABYWeigth1g & 3492.7 & 1 & yes\\\\\n",
       "\t 2 & 2 & teen & boy  & BABYWeigth1g & 3392.9 & 1 & yes\\\\\n",
       "\t 3 & 3 & teen & boy  & BABYWeigth1g & 2993.8 & 1 & no \\\\\n",
       "\t 4 & 4 & teen & boy  & BABYWeigth1g & 3692.3 & 1 & no \\\\\n",
       "\t 5 & 5 & teen & NA   & BABYWeigth1g & 3592.5 & 1 & yes\\\\\n",
       "\t 6 & 6 & teen & boy  & BABYWeigth1g & 3093.5 & 1 & yes\\\\\n",
       "\\end{tabular}\n"
      ],
      "text/markdown": [
       "\n",
       "A data.frame: 6 × 8\n",
       "\n",
       "| X &lt;int&gt; | id &lt;int&gt; | group &lt;fct&gt; | sex &lt;fct&gt; | weekNames &lt;fct&gt; | weight &lt;dbl&gt; | week &lt;int&gt; | complete &lt;chr&gt; |\n",
       "|---|---|---|---|---|---|---|---|\n",
       "| 1 | 1 | teen | girl | BABYWeigth1g | 3492.7 | 1 | yes |\n",
       "| 2 | 2 | teen | boy  | BABYWeigth1g | 3392.9 | 1 | yes |\n",
       "| 3 | 3 | teen | boy  | BABYWeigth1g | 2993.8 | 1 | no  |\n",
       "| 4 | 4 | teen | boy  | BABYWeigth1g | 3692.3 | 1 | no  |\n",
       "| 5 | 5 | teen | NA   | BABYWeigth1g | 3592.5 | 1 | yes |\n",
       "| 6 | 6 | teen | boy  | BABYWeigth1g | 3093.5 | 1 | yes |\n",
       "\n"
      ],
      "text/plain": [
       "  X id group sex  weekNames    weight week complete\n",
       "1 1 1  teen  girl BABYWeigth1g 3492.7 1    yes     \n",
       "2 2 2  teen  boy  BABYWeigth1g 3392.9 1    yes     \n",
       "3 3 3  teen  boy  BABYWeigth1g 2993.8 1    no      \n",
       "4 4 4  teen  boy  BABYWeigth1g 3692.3 1    no      \n",
       "5 5 5  teen  NA   BABYWeigth1g 3592.5 1    yes     \n",
       "6 6 6  teen  boy  BABYWeigth1g 3093.5 1    yes     "
      ]
     },
     "metadata": {},
     "output_type": "display_data"
    },
    {
     "data": {
      "text/html": [
       "<table>\n",
       "<caption>A data.frame: 6 × 8</caption>\n",
       "<thead>\n",
       "\t<tr><th scope=col>X</th><th scope=col>id</th><th scope=col>group</th><th scope=col>sex</th><th scope=col>weekNames</th><th scope=col>head</th><th scope=col>week</th><th scope=col>complete</th></tr>\n",
       "\t<tr><th scope=col>&lt;int&gt;</th><th scope=col>&lt;int&gt;</th><th scope=col>&lt;fct&gt;</th><th scope=col>&lt;fct&gt;</th><th scope=col>&lt;fct&gt;</th><th scope=col>&lt;int&gt;</th><th scope=col>&lt;int&gt;</th><th scope=col>&lt;chr&gt;</th></tr>\n",
       "</thead>\n",
       "<tbody>\n",
       "\t<tr><td>1</td><td>1</td><td>teen</td><td>girl</td><td>HeadCircumcm1</td><td>34</td><td>1</td><td>yes</td></tr>\n",
       "\t<tr><td>2</td><td>2</td><td>teen</td><td>boy </td><td>HeadCircumcm1</td><td>35</td><td>1</td><td>yes</td></tr>\n",
       "\t<tr><td>3</td><td>3</td><td>teen</td><td>boy </td><td>HeadCircumcm1</td><td>35</td><td>1</td><td>no </td></tr>\n",
       "\t<tr><td>4</td><td>4</td><td>teen</td><td>boy </td><td>HeadCircumcm1</td><td>37</td><td>1</td><td>no </td></tr>\n",
       "\t<tr><td>5</td><td>5</td><td>teen</td><td>NA  </td><td>HeadCircumcm1</td><td>34</td><td>1</td><td>yes</td></tr>\n",
       "\t<tr><td>6</td><td>6</td><td>teen</td><td>boy </td><td>HeadCircumcm1</td><td>35</td><td>1</td><td>yes</td></tr>\n",
       "</tbody>\n",
       "</table>\n"
      ],
      "text/latex": [
       "A data.frame: 6 × 8\n",
       "\\begin{tabular}{r|llllllll}\n",
       " X & id & group & sex & weekNames & head & week & complete\\\\\n",
       " <int> & <int> & <fct> & <fct> & <fct> & <int> & <int> & <chr>\\\\\n",
       "\\hline\n",
       "\t 1 & 1 & teen & girl & HeadCircumcm1 & 34 & 1 & yes\\\\\n",
       "\t 2 & 2 & teen & boy  & HeadCircumcm1 & 35 & 1 & yes\\\\\n",
       "\t 3 & 3 & teen & boy  & HeadCircumcm1 & 35 & 1 & no \\\\\n",
       "\t 4 & 4 & teen & boy  & HeadCircumcm1 & 37 & 1 & no \\\\\n",
       "\t 5 & 5 & teen & NA   & HeadCircumcm1 & 34 & 1 & yes\\\\\n",
       "\t 6 & 6 & teen & boy  & HeadCircumcm1 & 35 & 1 & yes\\\\\n",
       "\\end{tabular}\n"
      ],
      "text/markdown": [
       "\n",
       "A data.frame: 6 × 8\n",
       "\n",
       "| X &lt;int&gt; | id &lt;int&gt; | group &lt;fct&gt; | sex &lt;fct&gt; | weekNames &lt;fct&gt; | head &lt;int&gt; | week &lt;int&gt; | complete &lt;chr&gt; |\n",
       "|---|---|---|---|---|---|---|---|\n",
       "| 1 | 1 | teen | girl | HeadCircumcm1 | 34 | 1 | yes |\n",
       "| 2 | 2 | teen | boy  | HeadCircumcm1 | 35 | 1 | yes |\n",
       "| 3 | 3 | teen | boy  | HeadCircumcm1 | 35 | 1 | no  |\n",
       "| 4 | 4 | teen | boy  | HeadCircumcm1 | 37 | 1 | no  |\n",
       "| 5 | 5 | teen | NA   | HeadCircumcm1 | 34 | 1 | yes |\n",
       "| 6 | 6 | teen | boy  | HeadCircumcm1 | 35 | 1 | yes |\n",
       "\n"
      ],
      "text/plain": [
       "  X id group sex  weekNames     head week complete\n",
       "1 1 1  teen  girl HeadCircumcm1 34   1    yes     \n",
       "2 2 2  teen  boy  HeadCircumcm1 35   1    yes     \n",
       "3 3 3  teen  boy  HeadCircumcm1 35   1    no      \n",
       "4 4 4  teen  boy  HeadCircumcm1 37   1    no      \n",
       "5 5 5  teen  NA   HeadCircumcm1 34   1    yes     \n",
       "6 6 6  teen  boy  HeadCircumcm1 35   1    yes     "
      ]
     },
     "metadata": {},
     "output_type": "display_data"
    }
   ],
   "source": [
    "weightLongComplete <- weightLong %>% mutate(complete = ifelse(id %in% id_incomplete, 'no', 'yes'))\n",
    "headCLongComplete <- headCLong %>% mutate(complete = ifelse(id %in% id_incomplete, 'no', 'yes'))\n",
    "\n",
    "head(weightLongComplete)\n",
    "head(headCLongComplete)"
   ]
  },
  {
   "cell_type": "code",
   "execution_count": 18,
   "metadata": {},
   "outputs": [
    {
     "data": {
      "text/html": [
       "<table>\n",
       "<caption>A tibble: 2 × 2</caption>\n",
       "<thead>\n",
       "\t<tr><th scope=col>complete</th><th scope=col>weight</th></tr>\n",
       "\t<tr><th scope=col>&lt;chr&gt;</th><th scope=col>&lt;int&gt;</th></tr>\n",
       "</thead>\n",
       "<tbody>\n",
       "\t<tr><td>no </td><td>26</td></tr>\n",
       "\t<tr><td>yes</td><td>24</td></tr>\n",
       "</tbody>\n",
       "</table>\n"
      ],
      "text/latex": [
       "A tibble: 2 × 2\n",
       "\\begin{tabular}{r|ll}\n",
       " complete & weight\\\\\n",
       " <chr> & <int>\\\\\n",
       "\\hline\n",
       "\t no  & 26\\\\\n",
       "\t yes & 24\\\\\n",
       "\\end{tabular}\n"
      ],
      "text/markdown": [
       "\n",
       "A tibble: 2 × 2\n",
       "\n",
       "| complete &lt;chr&gt; | weight &lt;int&gt; |\n",
       "|---|---|\n",
       "| no  | 26 |\n",
       "| yes | 24 |\n",
       "\n"
      ],
      "text/plain": [
       "  complete weight\n",
       "1 no       26    \n",
       "2 yes      24    "
      ]
     },
     "metadata": {},
     "output_type": "display_data"
    }
   ],
   "source": [
    "weightLongComplete %>% filter(!is.na(sex), week == 1) %>% group_by(complete) %>%  \n",
    "    summarise(weight = sum(!is.na(weight)))"
   ]
  },
  {
   "cell_type": "code",
   "execution_count": 19,
   "metadata": {},
   "outputs": [
    {
     "data": {
      "text/html": [
       "<table>\n",
       "<caption>A tibble: 2 × 3</caption>\n",
       "<thead>\n",
       "\t<tr><th scope=col>complete</th><th scope=col>weightMean</th><th scope=col>weightSd</th></tr>\n",
       "\t<tr><th scope=col>&lt;chr&gt;</th><th scope=col>&lt;dbl&gt;</th><th scope=col>&lt;dbl&gt;</th></tr>\n",
       "</thead>\n",
       "<tbody>\n",
       "\t<tr><td>no </td><td>3366.23</td><td>700.09</td></tr>\n",
       "\t<tr><td>yes</td><td>3148.01</td><td>421.78</td></tr>\n",
       "</tbody>\n",
       "</table>\n"
      ],
      "text/latex": [
       "A tibble: 2 × 3\n",
       "\\begin{tabular}{r|lll}\n",
       " complete & weightMean & weightSd\\\\\n",
       " <chr> & <dbl> & <dbl>\\\\\n",
       "\\hline\n",
       "\t no  & 3366.23 & 700.09\\\\\n",
       "\t yes & 3148.01 & 421.78\\\\\n",
       "\\end{tabular}\n"
      ],
      "text/markdown": [
       "\n",
       "A tibble: 2 × 3\n",
       "\n",
       "| complete &lt;chr&gt; | weightMean &lt;dbl&gt; | weightSd &lt;dbl&gt; |\n",
       "|---|---|---|\n",
       "| no  | 3366.23 | 700.09 |\n",
       "| yes | 3148.01 | 421.78 |\n",
       "\n"
      ],
      "text/plain": [
       "  complete weightMean weightSd\n",
       "1 no       3366.23    700.09  \n",
       "2 yes      3148.01    421.78  "
      ]
     },
     "metadata": {},
     "output_type": "display_data"
    },
    {
     "data": {
      "text/html": [
       "3091.63210990222"
      ],
      "text/latex": [
       "3091.63210990222"
      ],
      "text/markdown": [
       "3091.63210990222"
      ],
      "text/plain": [
       "[1] 3091.632"
      ]
     },
     "metadata": {},
     "output_type": "display_data"
    },
    {
     "data": {
      "text/html": [
       "3313.44572695717"
      ],
      "text/latex": [
       "3313.44572695717"
      ],
      "text/markdown": [
       "3313.44572695717"
      ],
      "text/plain": [
       "[1] 3313.446"
      ]
     },
     "metadata": {},
     "output_type": "display_data"
    }
   ],
   "source": [
    "weightLongComplete %>% filter(!is.na(sex), week == 1) %>% group_by(complete) %>%\n",
    "                    summarise(weightMean = round(mean(weight, na.rm = T), 2), \n",
    "                              weightSd = round(sd(weight, na.rm = T), 2))\n",
    "\n",
    "3366.23 - 2 * 700.09/sqrt(26)\n",
    "3148.01 + 2 * 421.78/sqrt(26)"
   ]
  },
  {
   "cell_type": "code",
   "execution_count": 20,
   "metadata": {},
   "outputs": [
    {
     "data": {
      "text/html": [
       "<table>\n",
       "<caption>A tibble: 2 × 2</caption>\n",
       "<thead>\n",
       "\t<tr><th scope=col>complete</th><th scope=col>head</th></tr>\n",
       "\t<tr><th scope=col>&lt;chr&gt;</th><th scope=col>&lt;int&gt;</th></tr>\n",
       "</thead>\n",
       "<tbody>\n",
       "\t<tr><td>no </td><td>26</td></tr>\n",
       "\t<tr><td>yes</td><td>23</td></tr>\n",
       "</tbody>\n",
       "</table>\n"
      ],
      "text/latex": [
       "A tibble: 2 × 2\n",
       "\\begin{tabular}{r|ll}\n",
       " complete & head\\\\\n",
       " <chr> & <int>\\\\\n",
       "\\hline\n",
       "\t no  & 26\\\\\n",
       "\t yes & 23\\\\\n",
       "\\end{tabular}\n"
      ],
      "text/markdown": [
       "\n",
       "A tibble: 2 × 2\n",
       "\n",
       "| complete &lt;chr&gt; | head &lt;int&gt; |\n",
       "|---|---|\n",
       "| no  | 26 |\n",
       "| yes | 23 |\n",
       "\n"
      ],
      "text/plain": [
       "  complete head\n",
       "1 no       26  \n",
       "2 yes      23  "
      ]
     },
     "metadata": {},
     "output_type": "display_data"
    }
   ],
   "source": [
    "headCLongComplete %>% filter(!is.na(sex), week == 1) %>% group_by(complete) %>%  \n",
    "    summarise(head = sum(!is.na(head)))"
   ]
  },
  {
   "cell_type": "code",
   "execution_count": 21,
   "metadata": {},
   "outputs": [
    {
     "data": {
      "text/html": [
       "<table>\n",
       "<caption>A tibble: 2 × 3</caption>\n",
       "<thead>\n",
       "\t<tr><th scope=col>complete</th><th scope=col>headMean</th><th scope=col>headSd</th></tr>\n",
       "\t<tr><th scope=col>&lt;chr&gt;</th><th scope=col>&lt;dbl&gt;</th><th scope=col>&lt;dbl&gt;</th></tr>\n",
       "</thead>\n",
       "<tbody>\n",
       "\t<tr><td>no </td><td>33.85</td><td>1.46</td></tr>\n",
       "\t<tr><td>yes</td><td>33.65</td><td>0.88</td></tr>\n",
       "</tbody>\n",
       "</table>\n"
      ],
      "text/latex": [
       "A tibble: 2 × 3\n",
       "\\begin{tabular}{r|lll}\n",
       " complete & headMean & headSd\\\\\n",
       " <chr> & <dbl> & <dbl>\\\\\n",
       "\\hline\n",
       "\t no  & 33.85 & 1.46\\\\\n",
       "\t yes & 33.65 & 0.88\\\\\n",
       "\\end{tabular}\n"
      ],
      "text/markdown": [
       "\n",
       "A tibble: 2 × 3\n",
       "\n",
       "| complete &lt;chr&gt; | headMean &lt;dbl&gt; | headSd &lt;dbl&gt; |\n",
       "|---|---|---|\n",
       "| no  | 33.85 | 1.46 |\n",
       "| yes | 33.65 | 0.88 |\n",
       "\n"
      ],
      "text/plain": [
       "  complete headMean headSd\n",
       "1 no       33.85    1.46  \n",
       "2 yes      33.65    0.88  "
      ]
     },
     "metadata": {},
     "output_type": "display_data"
    }
   ],
   "source": [
    "headCLongComplete %>% filter(!is.na(sex), week == 1) %>% group_by(complete) %>%\n",
    "                    summarise(headMean = round(mean(head, na.rm = T), 2),\n",
    "                              headSd = round(sd(head, na.rm = T), 2))"
   ]
  },
  {
   "cell_type": "markdown",
   "metadata": {},
   "source": [
    "### Sex distribution for patients with missing data and without in total and by week:"
   ]
  },
  {
   "cell_type": "code",
   "execution_count": 22,
   "metadata": {},
   "outputs": [
    {
     "data": {
      "text/html": [
       "<table>\n",
       "<caption>A tibble: 2 × 4</caption>\n",
       "<thead>\n",
       "\t<tr><th scope=col>complete</th><th scope=col>boys</th><th scope=col>girls</th><th scope=col>proportion</th></tr>\n",
       "\t<tr><th scope=col>&lt;chr&gt;</th><th scope=col>&lt;int&gt;</th><th scope=col>&lt;int&gt;</th><th scope=col>&lt;dbl&gt;</th></tr>\n",
       "</thead>\n",
       "<tbody>\n",
       "\t<tr><td>no </td><td> 35</td><td>26</td><td>0.57</td></tr>\n",
       "\t<tr><td>yes</td><td>105</td><td>78</td><td>0.57</td></tr>\n",
       "</tbody>\n",
       "</table>\n"
      ],
      "text/latex": [
       "A tibble: 2 × 4\n",
       "\\begin{tabular}{r|llll}\n",
       " complete & boys & girls & proportion\\\\\n",
       " <chr> & <int> & <int> & <dbl>\\\\\n",
       "\\hline\n",
       "\t no  &  35 & 26 & 0.57\\\\\n",
       "\t yes & 105 & 78 & 0.57\\\\\n",
       "\\end{tabular}\n"
      ],
      "text/markdown": [
       "\n",
       "A tibble: 2 × 4\n",
       "\n",
       "| complete &lt;chr&gt; | boys &lt;int&gt; | girls &lt;int&gt; | proportion &lt;dbl&gt; |\n",
       "|---|---|---|---|\n",
       "| no  |  35 | 26 | 0.57 |\n",
       "| yes | 105 | 78 | 0.57 |\n",
       "\n"
      ],
      "text/plain": [
       "  complete boys girls proportion\n",
       "1 no        35  26    0.57      \n",
       "2 yes      105  78    0.57      "
      ]
     },
     "metadata": {},
     "output_type": "display_data"
    }
   ],
   "source": [
    "weekSexNA %>% spread(sex, total) %>% group_by(complete) %>% \n",
    "                summarise(boys = sum(boy), girls = sum(girl), proportion = round(boys / (boys + girls), 2))"
   ]
  },
  {
   "cell_type": "code",
   "execution_count": 45,
   "metadata": {},
   "outputs": [
    {
     "data": {
      "text/html": [
       "<table>\n",
       "<caption>A grouped_df: 1 × 4</caption>\n",
       "<thead>\n",
       "\t<tr><th scope=col>complete</th><th scope=col>week</th><th scope=col>boy</th><th scope=col>girl</th></tr>\n",
       "\t<tr><th scope=col>&lt;chr&gt;</th><th scope=col>&lt;int&gt;</th><th scope=col>&lt;int&gt;</th><th scope=col>&lt;int&gt;</th></tr>\n",
       "</thead>\n",
       "<tbody>\n",
       "\t<tr><td>yes</td><td>1</td><td>35</td><td>26</td></tr>\n",
       "</tbody>\n",
       "</table>\n"
      ],
      "text/latex": [
       "A grouped_df: 1 × 4\n",
       "\\begin{tabular}{r|llll}\n",
       " complete & week & boy & girl\\\\\n",
       " <chr> & <int> & <int> & <int>\\\\\n",
       "\\hline\n",
       "\t yes & 1 & 35 & 26\\\\\n",
       "\\end{tabular}\n"
      ],
      "text/markdown": [
       "\n",
       "A grouped_df: 1 × 4\n",
       "\n",
       "| complete &lt;chr&gt; | week &lt;int&gt; | boy &lt;int&gt; | girl &lt;int&gt; |\n",
       "|---|---|---|---|\n",
       "| yes | 1 | 35 | 26 |\n",
       "\n"
      ],
      "text/plain": [
       "  complete week boy girl\n",
       "1 yes      1    35  26  "
      ]
     },
     "metadata": {},
     "output_type": "display_data"
    },
    {
     "data": {
      "text/html": [
       "<table>\n",
       "<caption>A grouped_df: 2 × 4</caption>\n",
       "<thead>\n",
       "\t<tr><th scope=col>complete</th><th scope=col>week</th><th scope=col>boy</th><th scope=col>girl</th></tr>\n",
       "\t<tr><th scope=col>&lt;chr&gt;</th><th scope=col>&lt;int&gt;</th><th scope=col>&lt;int&gt;</th><th scope=col>&lt;int&gt;</th></tr>\n",
       "</thead>\n",
       "<tbody>\n",
       "\t<tr><td>no </td><td>2</td><td> 8</td><td> 6</td></tr>\n",
       "\t<tr><td>yes</td><td>2</td><td>27</td><td>20</td></tr>\n",
       "</tbody>\n",
       "</table>\n"
      ],
      "text/latex": [
       "A grouped_df: 2 × 4\n",
       "\\begin{tabular}{r|llll}\n",
       " complete & week & boy & girl\\\\\n",
       " <chr> & <int> & <int> & <int>\\\\\n",
       "\\hline\n",
       "\t no  & 2 &  8 &  6\\\\\n",
       "\t yes & 2 & 27 & 20\\\\\n",
       "\\end{tabular}\n"
      ],
      "text/markdown": [
       "\n",
       "A grouped_df: 2 × 4\n",
       "\n",
       "| complete &lt;chr&gt; | week &lt;int&gt; | boy &lt;int&gt; | girl &lt;int&gt; |\n",
       "|---|---|---|---|\n",
       "| no  | 2 |  8 |  6 |\n",
       "| yes | 2 | 27 | 20 |\n",
       "\n"
      ],
      "text/plain": [
       "  complete week boy girl\n",
       "1 no       2     8   6  \n",
       "2 yes      2    27  20  "
      ]
     },
     "metadata": {},
     "output_type": "display_data"
    },
    {
     "data": {
      "text/html": [
       "<table>\n",
       "<caption>A grouped_df: 2 × 4</caption>\n",
       "<thead>\n",
       "\t<tr><th scope=col>complete</th><th scope=col>week</th><th scope=col>boy</th><th scope=col>girl</th></tr>\n",
       "\t<tr><th scope=col>&lt;chr&gt;</th><th scope=col>&lt;int&gt;</th><th scope=col>&lt;int&gt;</th><th scope=col>&lt;int&gt;</th></tr>\n",
       "</thead>\n",
       "<tbody>\n",
       "\t<tr><td>no </td><td>8</td><td>12</td><td>11</td></tr>\n",
       "\t<tr><td>yes</td><td>8</td><td>23</td><td>15</td></tr>\n",
       "</tbody>\n",
       "</table>\n"
      ],
      "text/latex": [
       "A grouped_df: 2 × 4\n",
       "\\begin{tabular}{r|llll}\n",
       " complete & week & boy & girl\\\\\n",
       " <chr> & <int> & <int> & <int>\\\\\n",
       "\\hline\n",
       "\t no  & 8 & 12 & 11\\\\\n",
       "\t yes & 8 & 23 & 15\\\\\n",
       "\\end{tabular}\n"
      ],
      "text/markdown": [
       "\n",
       "A grouped_df: 2 × 4\n",
       "\n",
       "| complete &lt;chr&gt; | week &lt;int&gt; | boy &lt;int&gt; | girl &lt;int&gt; |\n",
       "|---|---|---|---|\n",
       "| no  | 8 | 12 | 11 |\n",
       "| yes | 8 | 23 | 15 |\n",
       "\n"
      ],
      "text/plain": [
       "  complete week boy girl\n",
       "1 no       8    12  11  \n",
       "2 yes      8    23  15  "
      ]
     },
     "metadata": {},
     "output_type": "display_data"
    },
    {
     "data": {
      "text/html": [
       "<table>\n",
       "<caption>A grouped_df: 2 × 4</caption>\n",
       "<thead>\n",
       "\t<tr><th scope=col>complete</th><th scope=col>week</th><th scope=col>boy</th><th scope=col>girl</th></tr>\n",
       "\t<tr><th scope=col>&lt;chr&gt;</th><th scope=col>&lt;int&gt;</th><th scope=col>&lt;int&gt;</th><th scope=col>&lt;int&gt;</th></tr>\n",
       "</thead>\n",
       "<tbody>\n",
       "\t<tr><td>no </td><td>16</td><td>15</td><td> 9</td></tr>\n",
       "\t<tr><td>yes</td><td>16</td><td>20</td><td>17</td></tr>\n",
       "</tbody>\n",
       "</table>\n"
      ],
      "text/latex": [
       "A grouped_df: 2 × 4\n",
       "\\begin{tabular}{r|llll}\n",
       " complete & week & boy & girl\\\\\n",
       " <chr> & <int> & <int> & <int>\\\\\n",
       "\\hline\n",
       "\t no  & 16 & 15 &  9\\\\\n",
       "\t yes & 16 & 20 & 17\\\\\n",
       "\\end{tabular}\n"
      ],
      "text/markdown": [
       "\n",
       "A grouped_df: 2 × 4\n",
       "\n",
       "| complete &lt;chr&gt; | week &lt;int&gt; | boy &lt;int&gt; | girl &lt;int&gt; |\n",
       "|---|---|---|---|\n",
       "| no  | 16 | 15 |  9 |\n",
       "| yes | 16 | 20 | 17 |\n",
       "\n"
      ],
      "text/plain": [
       "  complete week boy girl\n",
       "1 no       16   15   9  \n",
       "2 yes      16   20  17  "
      ]
     },
     "metadata": {},
     "output_type": "display_data"
    }
   ],
   "source": [
    "weekSexNA %>% spread(sex, total) %>% filter(week == 1) \n",
    "weekSexNA %>% spread(sex, total) %>% filter(week == 2) \n",
    "weekSexNA %>% spread(sex, total) %>% filter(week == 8) \n",
    "weekSexNA %>% spread(sex, total) %>% filter(week == 16) "
   ]
  },
  {
   "cell_type": "code",
   "execution_count": 24,
   "metadata": {},
   "outputs": [
    {
     "data": {
      "text/html": [
       "<table>\n",
       "<caption>A grouped_df: 4 × 3</caption>\n",
       "<thead>\n",
       "\t<tr><th scope=col>week</th><th scope=col>no</th><th scope=col>yes</th></tr>\n",
       "\t<tr><th scope=col>&lt;int&gt;</th><th scope=col>&lt;dbl&gt;</th><th scope=col>&lt;dbl&gt;</th></tr>\n",
       "</thead>\n",
       "<tbody>\n",
       "\t<tr><td> 1</td><td>  NA</td><td>0.57</td></tr>\n",
       "\t<tr><td> 2</td><td>0.57</td><td>0.57</td></tr>\n",
       "\t<tr><td> 8</td><td>0.52</td><td>0.61</td></tr>\n",
       "\t<tr><td>16</td><td>0.62</td><td>0.54</td></tr>\n",
       "</tbody>\n",
       "</table>\n"
      ],
      "text/latex": [
       "A grouped_df: 4 × 3\n",
       "\\begin{tabular}{r|lll}\n",
       " week & no & yes\\\\\n",
       " <int> & <dbl> & <dbl>\\\\\n",
       "\\hline\n",
       "\t  1 &   NA & 0.57\\\\\n",
       "\t  2 & 0.57 & 0.57\\\\\n",
       "\t  8 & 0.52 & 0.61\\\\\n",
       "\t 16 & 0.62 & 0.54\\\\\n",
       "\\end{tabular}\n"
      ],
      "text/markdown": [
       "\n",
       "A grouped_df: 4 × 3\n",
       "\n",
       "| week &lt;int&gt; | no &lt;dbl&gt; | yes &lt;dbl&gt; |\n",
       "|---|---|---|\n",
       "|  1 |   NA | 0.57 |\n",
       "|  2 | 0.57 | 0.57 |\n",
       "|  8 | 0.52 | 0.61 |\n",
       "| 16 | 0.62 | 0.54 |\n",
       "\n"
      ],
      "text/plain": [
       "  week no   yes \n",
       "1  1     NA 0.57\n",
       "2  2   0.57 0.57\n",
       "3  8   0.52 0.61\n",
       "4 16   0.62 0.54"
      ]
     },
     "metadata": {},
     "output_type": "display_data"
    }
   ],
   "source": [
    "weekSexPlot <- weekSexNA %>% spread(sex, total) %>% mutate(proportion = round(boy/(boy + girl), 2)) %>%\n",
    "                    select(complete, proportion, week) %>% spread(complete, proportion)\n",
    "\n",
    "weekSexPlot"
   ]
  },
  {
   "cell_type": "code",
   "execution_count": 25,
   "metadata": {},
   "outputs": [],
   "source": [
    "# Score statistic:\n",
    "# p0 - p1 / sqrt(p(1 - p)(1/n0 + 1/n1))\n",
    "\n",
    "scoreTestStat <- function(p0, p1, n0, n1, n0_S, n1_S){\n",
    "    \"\n",
    "    Compare two binomials Bin(n0, p0) and Bin(n1, p1).\n",
    "    \n",
    "    Under H0: p0 = p1, TS is approx N(0, 1).\n",
    "\n",
    "    inputs:\n",
    "        pi = probability of success for variable i.\n",
    "        ni = number of trials for variable i.\n",
    "        ni_S = number of succesful trials for variable i.\n",
    "    \"\n",
    "\n",
    "    p <- (n0_S + n1_S) / (n0 + n1)\n",
    "    TS <- (p0 - p1) / sqrt( p*(1 - p)*(1/n0 + 1/n1))\n",
    "    \n",
    "    return(TS)\n",
    "}"
   ]
  },
  {
   "cell_type": "code",
   "execution_count": 26,
   "metadata": {},
   "outputs": [
    {
     "data": {
      "text/html": [
       "-0.688878208984133"
      ],
      "text/latex": [
       "-0.688878208984133"
      ],
      "text/markdown": [
       "-0.688878208984133"
      ],
      "text/plain": [
       "[1] -0.6888782"
      ]
     },
     "metadata": {},
     "output_type": "display_data"
    },
    {
     "data": {
      "text/html": [
       "0.617220996274234"
      ],
      "text/latex": [
       "0.617220996274234"
      ],
      "text/markdown": [
       "0.617220996274234"
      ],
      "text/plain": [
       "[1] 0.617221"
      ]
     },
     "metadata": {},
     "output_type": "display_data"
    }
   ],
   "source": [
    "#week 8:\n",
    "scoreTestStat(p0 =0.52, p1 = 0.61, n0 = 23, n1 = 38, n0_S = 12, n1_S = 23)\n",
    "#week 16:\n",
    "scoreTestStat(p0 =0.62, p1 = 0.54, n0 = 24, n1 = 37, n0_S = 15, n1_S = 20)"
   ]
  },
  {
   "cell_type": "code",
   "execution_count": 27,
   "metadata": {},
   "outputs": [
    {
     "data": {
      "text/html": [
       "0.50285779019062"
      ],
      "text/latex": [
       "0.50285779019062"
      ],
      "text/markdown": [
       "0.50285779019062"
      ],
      "text/plain": [
       "[1] 0.5028578"
      ]
     },
     "metadata": {},
     "output_type": "display_data"
    },
    {
     "data": {
      "text/html": [
       "0.535257786937966"
      ],
      "text/latex": [
       "0.535257786937966"
      ],
      "text/markdown": [
       "0.535257786937966"
      ],
      "text/plain": [
       "[1] 0.5352578"
      ]
     },
     "metadata": {},
     "output_type": "display_data"
    }
   ],
   "source": [
    "1 - pnorm(q = 0.67, mean = 0, sd = 1) + pnorm(q = -0.67, mean = 0, sd = 1)\n",
    "1 - pnorm(q = 0.62, mean = 0, sd = 1) + pnorm(q = -0.62, mean = 0, sd = 1)"
   ]
  },
  {
   "cell_type": "code",
   "execution_count": 28,
   "metadata": {},
   "outputs": [
    {
     "data": {
      "text/plain": [
       "\n",
       "\tFisher's Exact Test for Count Data\n",
       "\n",
       "data:  rbind(c(12, 23 - 12), c(23, 38 - 23))\n",
       "p-value = 0.598\n",
       "alternative hypothesis: true odds ratio is not equal to 1\n",
       "95 percent confidence interval:\n",
       " 0.2209799 2.3049276\n",
       "sample estimates:\n",
       "odds ratio \n",
       " 0.7155006 \n"
      ]
     },
     "metadata": {},
     "output_type": "display_data"
    },
    {
     "data": {
      "text/plain": [
       "\n",
       "\tFisher's Exact Test for Count Data\n",
       "\n",
       "data:  rbind(c(15, 24 - 15), c(20, 37 - 20))\n",
       "p-value = 0.6008\n",
       "alternative hypothesis: true odds ratio is not equal to 1\n",
       "95 percent confidence interval:\n",
       " 0.441436 4.660701\n",
       "sample estimates:\n",
       "odds ratio \n",
       "  1.408597 \n"
      ]
     },
     "metadata": {},
     "output_type": "display_data"
    }
   ],
   "source": [
    "# week 8:\n",
    "fisher.test(rbind(c(12, 23-12), c(23, 38-23)))\n",
    "# week 16:\n",
    "fisher.test(rbind(c(15, 24-15), c(20, 37-20)))"
   ]
  },
  {
   "cell_type": "markdown",
   "metadata": {},
   "source": [
    "### The number of observations per week is bigger than 37"
   ]
  },
  {
   "cell_type": "code",
   "execution_count": 29,
   "metadata": {},
   "outputs": [
    {
     "data": {
      "text/html": [
       "<table>\n",
       "<caption>A tibble: 4 × 2</caption>\n",
       "<thead>\n",
       "\t<tr><th scope=col>week</th><th scope=col>n_obs</th></tr>\n",
       "\t<tr><th scope=col>&lt;int&gt;</th><th scope=col>&lt;int&gt;</th></tr>\n",
       "</thead>\n",
       "<tbody>\n",
       "\t<tr><td> 1</td><td>61</td></tr>\n",
       "\t<tr><td> 2</td><td>47</td></tr>\n",
       "\t<tr><td> 8</td><td>38</td></tr>\n",
       "\t<tr><td>16</td><td>37</td></tr>\n",
       "</tbody>\n",
       "</table>\n"
      ],
      "text/latex": [
       "A tibble: 4 × 2\n",
       "\\begin{tabular}{r|ll}\n",
       " week & n\\_obs\\\\\n",
       " <int> & <int>\\\\\n",
       "\\hline\n",
       "\t  1 & 61\\\\\n",
       "\t  2 & 47\\\\\n",
       "\t  8 & 38\\\\\n",
       "\t 16 & 37\\\\\n",
       "\\end{tabular}\n"
      ],
      "text/markdown": [
       "\n",
       "A tibble: 4 × 2\n",
       "\n",
       "| week &lt;int&gt; | n_obs &lt;int&gt; |\n",
       "|---|---|\n",
       "|  1 | 61 |\n",
       "|  2 | 47 |\n",
       "|  8 | 38 |\n",
       "| 16 | 37 |\n",
       "\n"
      ],
      "text/plain": [
       "  week n_obs\n",
       "1  1   61   \n",
       "2  2   47   \n",
       "3  8   38   \n",
       "4 16   37   "
      ]
     },
     "metadata": {},
     "output_type": "display_data"
    }
   ],
   "source": [
    "AA_NE_Long %>% filter(!is.na(sex), !is.na(level), AA == 'GLU') %>% group_by(week) %>% summarise(n_obs = n())"
   ]
  },
  {
   "cell_type": "markdown",
   "metadata": {},
   "source": [
    "# Some Extra tests"
   ]
  },
  {
   "cell_type": "code",
   "execution_count": 30,
   "metadata": {},
   "outputs": [],
   "source": [
    "pAge <- t.test(moms$momAge[-id_incomplete], moms$momAge[id_incomplete])$p.value\n",
    "pHeight <- t.test(moms$momHeight[-id_incomplete], moms$momHeight[id_incomplete])$p.value\n",
    "pWeight <- t.test(moms$momWeight[-id_incomplete], moms$momWeight[id_incomplete])$p.value"
   ]
  },
  {
   "cell_type": "code",
   "execution_count": 31,
   "metadata": {},
   "outputs": [],
   "source": [
    "pCho <- t.test(moms$cho[-id_incomplete], moms$cho[id_incomplete])$p.value\n",
    "pProt <- t.test(moms$prot[-id_incomplete], moms$prot[id_incomplete])$p.value\n",
    "pLipids <- t.test(moms$lipids[-id_incomplete], moms$lipids[id_incomplete])$p.value"
   ]
  },
  {
   "cell_type": "code",
   "execution_count": 32,
   "metadata": {},
   "outputs": [],
   "source": [
    "wboysC <- filter(weightLongComplete, week == 1, !(id %in% id_incomplete))\n",
    "wboysM <- filter(weightLongComplete, week == 1, id %in% id_incomplete)\n",
    "\n",
    "hboysC <- filter(headCLongComplete, week == 1, !(id %in% id_incomplete))\n",
    "hboysM <- filter(headCLongComplete, week == 1, id %in% id_incomplete)"
   ]
  },
  {
   "cell_type": "code",
   "execution_count": 33,
   "metadata": {},
   "outputs": [],
   "source": [
    "pWeightB <- t.test(wboysC$weight, wboysM$weight)$p.value\n",
    "pHeadB <- t.test(hboysC$head, hboysM$head)$p.value"
   ]
  },
  {
   "cell_type": "code",
   "execution_count": 34,
   "metadata": {},
   "outputs": [
    {
     "data": {
      "text/html": [
       "<ol class=list-inline>\n",
       "\t<li>0.741418680222964</li>\n",
       "\t<li>0.741418680222964</li>\n",
       "\t<li>0.741418680222964</li>\n",
       "\t<li>0.741418680222964</li>\n",
       "\t<li>0.741418680222964</li>\n",
       "\t<li>0.828352287185737</li>\n",
       "\t<li>0.741418680222964</li>\n",
       "\t<li>0.741418680222964</li>\n",
       "</ol>\n"
      ],
      "text/latex": [
       "\\begin{enumerate*}\n",
       "\\item 0.741418680222964\n",
       "\\item 0.741418680222964\n",
       "\\item 0.741418680222964\n",
       "\\item 0.741418680222964\n",
       "\\item 0.741418680222964\n",
       "\\item 0.828352287185737\n",
       "\\item 0.741418680222964\n",
       "\\item 0.741418680222964\n",
       "\\end{enumerate*}\n"
      ],
      "text/markdown": [
       "1. 0.741418680222964\n",
       "2. 0.741418680222964\n",
       "3. 0.741418680222964\n",
       "4. 0.741418680222964\n",
       "5. 0.741418680222964\n",
       "6. 0.828352287185737\n",
       "7. 0.741418680222964\n",
       "8. 0.741418680222964\n",
       "\n",
       "\n"
      ],
      "text/plain": [
       "[1] 0.7414187 0.7414187 0.7414187 0.7414187 0.7414187 0.8283523 0.7414187\n",
       "[8] 0.7414187"
      ]
     },
     "metadata": {},
     "output_type": "display_data"
    }
   ],
   "source": [
    "p.adjust(c(pAge, pHeight, pWeight, pCho, pProt, pLipids, pWeightB, pHeadB), \"fdr\")"
   ]
  },
  {
   "cell_type": "code",
   "execution_count": 35,
   "metadata": {},
   "outputs": [],
   "source": [
    "girlsW1 <- weightLongComplete %>% filter(week == 1, !is.na(sex), sex == 'girl')\n",
    "boysW1 <- weightLongComplete %>% filter(week == 1, !is.na(sex), sex == 'boy')\n",
    "\n",
    "girlsW16 <- weightLongComplete %>% filter(week == 16, !is.na(sex), sex == 'girl')\n",
    "boysW16 <- weightLongComplete %>% filter(week == 16, !is.na(sex), sex == 'boy')"
   ]
  },
  {
   "cell_type": "code",
   "execution_count": 36,
   "metadata": {},
   "outputs": [],
   "source": [
    "girlsH1 <- headCLongComplete %>% filter(week == 1, !is.na(sex), sex == 'girl')\n",
    "boysH1 <- headCLongComplete %>% filter(week == 1, !is.na(sex), sex == 'boy')\n",
    "\n",
    "girlsH16 <- headCLongComplete %>% filter(!is.na(sex), !is.na(head)) %>% filter(week == 16, sex == 'girl')\n",
    "boysH16 <- headCLongComplete %>% filter(!is.na(sex), !is.na(head)) %>% filter(week == 16, sex == 'boy')"
   ]
  },
  {
   "cell_type": "code",
   "execution_count": 37,
   "metadata": {},
   "outputs": [],
   "source": [
    "pW1 <- t.test(girlsW1$weight, boysW1$weight)$p.value\n",
    "pW16 <- t.test(girlsW16$weight, boysW16$weight)$p.value"
   ]
  },
  {
   "cell_type": "code",
   "execution_count": 38,
   "metadata": {},
   "outputs": [],
   "source": [
    "pH1 <- t.test(girlsH1$head, boysH1$head)$p.value\n",
    "pH16 <- t.test(girlsH16$head, boysH16$head)$p.value"
   ]
  },
  {
   "cell_type": "code",
   "execution_count": 39,
   "metadata": {},
   "outputs": [
    {
     "data": {
      "text/html": [
       "<ol class=list-inline>\n",
       "\t<li>0.317314422136572</li>\n",
       "\t<li>0.460150712726108</li>\n",
       "\t<li>0.382883898848279</li>\n",
       "\t<li>0.037722219826894</li>\n",
       "</ol>\n"
      ],
      "text/latex": [
       "\\begin{enumerate*}\n",
       "\\item 0.317314422136572\n",
       "\\item 0.460150712726108\n",
       "\\item 0.382883898848279\n",
       "\\item 0.037722219826894\n",
       "\\end{enumerate*}\n"
      ],
      "text/markdown": [
       "1. 0.317314422136572\n",
       "2. 0.460150712726108\n",
       "3. 0.382883898848279\n",
       "4. 0.037722219826894\n",
       "\n",
       "\n"
      ],
      "text/plain": [
       "[1] 0.31731442 0.46015071 0.38288390 0.03772222"
      ]
     },
     "metadata": {},
     "output_type": "display_data"
    }
   ],
   "source": [
    "p.adjust(c(pW1, pW16, pH1, pH16), \"fdr\")"
   ]
  },
  {
   "cell_type": "code",
   "execution_count": 40,
   "metadata": {},
   "outputs": [
    {
     "data": {
      "text/html": [
       "<ol class=list-inline>\n",
       "\t<li>0.121738063292717</li>\n",
       "\t<li>0.648741345195094</li>\n",
       "\t<li>0.492898541405261</li>\n",
       "\t<li>0.599794630693218</li>\n",
       "\t<li>0.588557081249481</li>\n",
       "\t<li>0.828352287185737</li>\n",
       "\t<li>0.226630198822991</li>\n",
       "\t<li>0.564650307398728</li>\n",
       "\t<li>0.158657211068286</li>\n",
       "\t<li>0.460150712726108</li>\n",
       "\t<li>0.287162924136209</li>\n",
       "\t<li>0.00943055495672351</li>\n",
       "</ol>\n"
      ],
      "text/latex": [
       "\\begin{enumerate*}\n",
       "\\item 0.121738063292717\n",
       "\\item 0.648741345195094\n",
       "\\item 0.492898541405261\n",
       "\\item 0.599794630693218\n",
       "\\item 0.588557081249481\n",
       "\\item 0.828352287185737\n",
       "\\item 0.226630198822991\n",
       "\\item 0.564650307398728\n",
       "\\item 0.158657211068286\n",
       "\\item 0.460150712726108\n",
       "\\item 0.287162924136209\n",
       "\\item 0.00943055495672351\n",
       "\\end{enumerate*}\n"
      ],
      "text/markdown": [
       "1. 0.121738063292717\n",
       "2. 0.648741345195094\n",
       "3. 0.492898541405261\n",
       "4. 0.599794630693218\n",
       "5. 0.588557081249481\n",
       "6. 0.828352287185737\n",
       "7. 0.226630198822991\n",
       "8. 0.564650307398728\n",
       "9. 0.158657211068286\n",
       "10. 0.460150712726108\n",
       "11. 0.287162924136209\n",
       "12. 0.00943055495672351\n",
       "\n",
       "\n"
      ],
      "text/plain": [
       " [1] 0.121738063 0.648741345 0.492898541 0.599794631 0.588557081 0.828352287\n",
       " [7] 0.226630199 0.564650307 0.158657211 0.460150713 0.287162924 0.009430555"
      ]
     },
     "metadata": {},
     "output_type": "display_data"
    }
   ],
   "source": [
    "c(pAge, pHeight, pWeight, pCho, pProt, pLipids, pWeightB, pHeadB, pW1, pW16, pH1, pH16)"
   ]
  },
  {
   "cell_type": "code",
   "execution_count": 41,
   "metadata": {},
   "outputs": [
    {
     "data": {
      "text/html": [
       "<ol class=list-inline>\n",
       "\t<li>0.634628844273143</li>\n",
       "\t<li>0.70771783112192</li>\n",
       "\t<li>0.70771783112192</li>\n",
       "\t<li>0.70771783112192</li>\n",
       "\t<li>0.70771783112192</li>\n",
       "\t<li>0.828352287185737</li>\n",
       "\t<li>0.679890596468972</li>\n",
       "\t<li>0.70771783112192</li>\n",
       "\t<li>0.634628844273143</li>\n",
       "\t<li>0.70771783112192</li>\n",
       "\t<li>0.689191017926902</li>\n",
       "\t<li>0.113166659480682</li>\n",
       "</ol>\n"
      ],
      "text/latex": [
       "\\begin{enumerate*}\n",
       "\\item 0.634628844273143\n",
       "\\item 0.70771783112192\n",
       "\\item 0.70771783112192\n",
       "\\item 0.70771783112192\n",
       "\\item 0.70771783112192\n",
       "\\item 0.828352287185737\n",
       "\\item 0.679890596468972\n",
       "\\item 0.70771783112192\n",
       "\\item 0.634628844273143\n",
       "\\item 0.70771783112192\n",
       "\\item 0.689191017926902\n",
       "\\item 0.113166659480682\n",
       "\\end{enumerate*}\n"
      ],
      "text/markdown": [
       "1. 0.634628844273143\n",
       "2. 0.70771783112192\n",
       "3. 0.70771783112192\n",
       "4. 0.70771783112192\n",
       "5. 0.70771783112192\n",
       "6. 0.828352287185737\n",
       "7. 0.679890596468972\n",
       "8. 0.70771783112192\n",
       "9. 0.634628844273143\n",
       "10. 0.70771783112192\n",
       "11. 0.689191017926902\n",
       "12. 0.113166659480682\n",
       "\n",
       "\n"
      ],
      "text/plain": [
       " [1] 0.6346288 0.7077178 0.7077178 0.7077178 0.7077178 0.8283523 0.6798906\n",
       " [8] 0.7077178 0.6346288 0.7077178 0.6891910 0.1131667"
      ]
     },
     "metadata": {},
     "output_type": "display_data"
    }
   ],
   "source": [
    "p.adjust(c(pAge, pHeight, pWeight, pCho, pProt, pLipids, pWeightB, pHeadB, pW1, pW16, pH1, pH16), \"fdr\")"
   ]
  },
  {
   "cell_type": "code",
   "execution_count": null,
   "metadata": {},
   "outputs": [],
   "source": []
  }
 ],
 "metadata": {
  "kernelspec": {
   "display_name": "R",
   "language": "R",
   "name": "ir"
  },
  "language_info": {
   "codemirror_mode": "r",
   "file_extension": ".r",
   "mimetype": "text/x-r-source",
   "name": "R",
   "pygments_lexer": "r",
   "version": "3.6.0"
  }
 },
 "nbformat": 4,
 "nbformat_minor": 2
}
