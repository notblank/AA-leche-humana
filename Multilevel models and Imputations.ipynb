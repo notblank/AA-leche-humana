{
 "cells": [
  {
   "cell_type": "markdown",
   "metadata": {},
   "source": [
    "# A First Model\n",
    "\n",
    "Suppose the data is organized in a long format where each individual appears in more than one row: \n",
    "\n",
    "\n",
    "| Id |Faa |week | sex | group |\n",
    "|:--:|:--:|:---:|:---:|:-----:|\n",
    "|1  |5\t| 1 | G = 0 | T \n",
    "|2  |2\t| 1 | B = 1 | A\n",
    "|1  |8\t| 3\t| G = 0 | T\n",
    "|1  |1\t| 2 | G = 0 | T\n",
    "\n",
    "\n",
    "Then, the model for the $i^{th}$ observation is:\n",
    "\n",
    "$$ \\Large\n",
    "Faa_i = \\alpha_0 + \\alpha_{sex} \\ sex_{j[i]} + \\alpha_{group} \\ group_{j[i]} + \\alpha_{week} \\ week_{j[i]} + \\alpha_{j[i]}\n",
    "$$\n",
    "\n",
    "where $j[i]$ is the id of the subject corresponding to observation $i$. So for example, if we consider the third observation, then $i = 3$ and $j[i] = 1$ so that $week_{j[i]} = 3$. \n",
    "\n",
    "The last coefficient represents an indivual random effect. For example we can set: \n",
    "\n",
    "$$ \\Large \n",
    "\\alpha_{j} \\sim \\mathcal{N}\\left(0, \\ \\sigma_j^2\\right)\n",
    "$$"
   ]
  },
  {
   "cell_type": "code",
   "execution_count": 1,
   "metadata": {},
   "outputs": [
    {
     "name": "stderr",
     "output_type": "stream",
     "text": [
      "Loading tidyverse: ggplot2\n",
      "Loading tidyverse: tibble\n",
      "Loading tidyverse: tidyr\n",
      "Loading tidyverse: readr\n",
      "Loading tidyverse: purrr\n",
      "Loading tidyverse: dplyr\n",
      "Conflicts with tidy packages ---------------------------------------------------\n",
      "filter(): dplyr, stats\n",
      "lag():    dplyr, stats\n",
      "Loading required package: Matrix\n",
      "\n",
      "Attaching package: 'Matrix'\n",
      "\n",
      "The following object is masked from 'package:tidyr':\n",
      "\n",
      "    expand\n",
      "\n"
     ]
    }
   ],
   "source": [
    "library(haven)\n",
    "library(tidyverse)\n",
    "library(broom)\n",
    "library(lme4) "
   ]
  },
  {
   "cell_type": "code",
   "execution_count": 2,
   "metadata": {
    "collapsed": true
   },
   "outputs": [],
   "source": [
    "aaSelect <- function(df, AA){\n",
    "    aaDf <- df %>% select(id = ID, group = GROUP, age = MATERNALAGE, sex = SEXO, starts_with(AA)) %>%\n",
    "                         mutate(id = factor(id), \n",
    "                                sex =  factor(sex, labels = c('girl', 'boy')),\n",
    "                                group = factor(group, labels = c('teen', 'adult'))) \n",
    "    \n",
    "    return(aaDf)\n",
    "}\n",
    "\n",
    "aaLong <-  function(df, AA){\n",
    "    aaL <- df %>% gather(week, level, starts_with(AA))\n",
    "    \n",
    "    aaL[aaL == paste(AA, 'Calostrum', sep = '')] = 1\n",
    "    aaL[aaL == paste(AA, 'Transition', sep = '')] = 2\n",
    "    aaL[aaL == paste(AA, 'Mature2m', sep = '')] = 4\n",
    "    aaL[aaL == paste(AA, 'Mature4m', sep = '')] = 16\n",
    "\n",
    "    aaL <- aaL %>% mutate(week = as.numeric(week))\n",
    "    \n",
    "    return(aaL)\n",
    "}"
   ]
  },
  {
   "cell_type": "code",
   "execution_count": 3,
   "metadata": {},
   "outputs": [
    {
     "data": {
      "text/html": [
       "<table>\n",
       "<thead><tr><th scope=col>ID</th><th scope=col>GROUP</th><th scope=col>MATERNALAGE</th><th scope=col>SEXO</th><th scope=col>INFANTDOB</th><th scope=col>MATBMI1COLL</th><th scope=col>MATBMI215d</th><th scope=col>MATBMI32mos</th><th scope=col>MATBMI44mos</th><th scope=col>BABYWeigth1g</th><th scope=col>...</th><th scope=col>ALAGLOB</th><th scope=col>ASNGLOB</th><th scope=col>SYSGLOB</th><th scope=col>GLYGLOB</th><th scope=col>GLUGLOB</th><th scope=col>GLNGLOB</th><th scope=col>PROLINEGLOB</th><th scope=col>SERINEGLOB</th><th scope=col>TYRAMINEGLOB</th><th scope=col>new</th></tr></thead>\n",
       "<tbody>\n",
       "\t<tr><td>1         </td><td>0         </td><td>17        </td><td> 1        </td><td>2009-08-20</td><td>25        </td><td>24        </td><td>24        </td><td>22        </td><td>3492.7    </td><td>...       </td><td>21.25     </td><td>0.5       </td><td>1.00      </td><td>10.00     </td><td> 87.25    </td><td>23.25     </td><td>2.75      </td><td>8.0       </td><td>1.00      </td><td>0         </td></tr>\n",
       "\t<tr><td>2         </td><td>0         </td><td>16        </td><td> 2        </td><td>2009-08-24</td><td>32        </td><td>31        </td><td>30        </td><td>29        </td><td>3392.9    </td><td>...       </td><td>18.25     </td><td>0.0       </td><td>0.75      </td><td>13.75     </td><td>100.50    </td><td>40.50     </td><td>2.50      </td><td>9.5       </td><td>0.75      </td><td>0         </td></tr>\n",
       "\t<tr><td>3         </td><td>0         </td><td>17        </td><td> 2        </td><td>2009-08-21</td><td>23        </td><td>23        </td><td>NA        </td><td>NA        </td><td>2993.8    </td><td>...       </td><td>   NA     </td><td> NA       </td><td>  NA      </td><td>   NA     </td><td>    NA    </td><td>   NA     </td><td>  NA      </td><td> NA       </td><td>  NA      </td><td>0         </td></tr>\n",
       "\t<tr><td>4         </td><td>0         </td><td>16        </td><td> 2        </td><td>2009-08-21</td><td>26        </td><td>NA        </td><td>NA        </td><td>NA        </td><td>3692.3    </td><td>...       </td><td>   NA     </td><td> NA       </td><td>  NA      </td><td>   NA     </td><td>    NA    </td><td>   NA     </td><td>  NA      </td><td> NA       </td><td>  NA      </td><td>0         </td></tr>\n",
       "\t<tr><td>5         </td><td>0         </td><td>16        </td><td>NA        </td><td>2009-08-29</td><td>25        </td><td>NA        </td><td>NA        </td><td>NA        </td><td>3592.5    </td><td>...       </td><td>   NA     </td><td> NA       </td><td>  NA      </td><td>   NA     </td><td>    NA    </td><td>   NA     </td><td>  NA      </td><td> NA       </td><td>  NA      </td><td>0         </td></tr>\n",
       "\t<tr><td>6         </td><td>0         </td><td>16        </td><td> 2        </td><td>2009-08-27</td><td>29        </td><td>28        </td><td>30        </td><td>31        </td><td>3093.5    </td><td>...       </td><td>15.50     </td><td>0.5       </td><td>1.50      </td><td>10.25     </td><td> 74.75    </td><td>30.00     </td><td>5.25      </td><td>8.0       </td><td>2.00      </td><td>0         </td></tr>\n",
       "</tbody>\n",
       "</table>\n"
      ],
      "text/latex": [
       "\\begin{tabular}{r|lllllllllllllllllllllllllllllllllllllllllllllllllllllllllllllllllllllllllllllllllllllllllllllllllllllllllllllllllllllllllllllllllllllllllllllllllllllllllllllllllllllllllll}\n",
       " ID & GROUP & MATERNALAGE & SEXO & INFANTDOB & MATBMI1COLL & MATBMI215d & MATBMI32mos & MATBMI44mos & BABYWeigth1g & ... & ALAGLOB & ASNGLOB & SYSGLOB & GLYGLOB & GLUGLOB & GLNGLOB & PROLINEGLOB & SERINEGLOB & TYRAMINEGLOB & new\\\\\n",
       "\\hline\n",
       "\t 1          & 0          & 17         &  1         & 2009-08-20 & 25         & 24         & 24         & 22         & 3492.7     & ...        & 21.25      & 0.5        & 1.00       & 10.00      &  87.25     & 23.25      & 2.75       & 8.0        & 1.00       & 0         \\\\\n",
       "\t 2          & 0          & 16         &  2         & 2009-08-24 & 32         & 31         & 30         & 29         & 3392.9     & ...        & 18.25      & 0.0        & 0.75       & 13.75      & 100.50     & 40.50      & 2.50       & 9.5        & 0.75       & 0         \\\\\n",
       "\t 3          & 0          & 17         &  2         & 2009-08-21 & 23         & 23         & NA         & NA         & 2993.8     & ...        &    NA      &  NA        &   NA       &    NA      &     NA     &    NA      &   NA       &  NA        &   NA       & 0         \\\\\n",
       "\t 4          & 0          & 16         &  2         & 2009-08-21 & 26         & NA         & NA         & NA         & 3692.3     & ...        &    NA      &  NA        &   NA       &    NA      &     NA     &    NA      &   NA       &  NA        &   NA       & 0         \\\\\n",
       "\t 5          & 0          & 16         & NA         & 2009-08-29 & 25         & NA         & NA         & NA         & 3592.5     & ...        &    NA      &  NA        &   NA       &    NA      &     NA     &    NA      &   NA       &  NA        &   NA       & 0         \\\\\n",
       "\t 6          & 0          & 16         &  2         & 2009-08-27 & 29         & 28         & 30         & 31         & 3093.5     & ...        & 15.50      & 0.5        & 1.50       & 10.25      &  74.75     & 30.00      & 5.25       & 8.0        & 2.00       & 0         \\\\\n",
       "\\end{tabular}\n"
      ],
      "text/markdown": [
       "\n",
       "ID | GROUP | MATERNALAGE | SEXO | INFANTDOB | MATBMI1COLL | MATBMI215d | MATBMI32mos | MATBMI44mos | BABYWeigth1g | ... | ALAGLOB | ASNGLOB | SYSGLOB | GLYGLOB | GLUGLOB | GLNGLOB | PROLINEGLOB | SERINEGLOB | TYRAMINEGLOB | new | \n",
       "|---|---|---|---|---|---|\n",
       "| 1          | 0          | 17         |  1         | 2009-08-20 | 25         | 24         | 24         | 22         | 3492.7     | ...        | 21.25      | 0.5        | 1.00       | 10.00      |  87.25     | 23.25      | 2.75       | 8.0        | 1.00       | 0          | \n",
       "| 2          | 0          | 16         |  2         | 2009-08-24 | 32         | 31         | 30         | 29         | 3392.9     | ...        | 18.25      | 0.0        | 0.75       | 13.75      | 100.50     | 40.50      | 2.50       | 9.5        | 0.75       | 0          | \n",
       "| 3          | 0          | 17         |  2         | 2009-08-21 | 23         | 23         | NA         | NA         | 2993.8     | ...        |    NA      |  NA        |   NA       |    NA      |     NA     |    NA      |   NA       |  NA        |   NA       | 0          | \n",
       "| 4          | 0          | 16         |  2         | 2009-08-21 | 26         | NA         | NA         | NA         | 3692.3     | ...        |    NA      |  NA        |   NA       |    NA      |     NA     |    NA      |   NA       |  NA        |   NA       | 0          | \n",
       "| 5          | 0          | 16         | NA         | 2009-08-29 | 25         | NA         | NA         | NA         | 3592.5     | ...        |    NA      |  NA        |   NA       |    NA      |     NA     |    NA      |   NA       |  NA        |   NA       | 0          | \n",
       "| 6          | 0          | 16         |  2         | 2009-08-27 | 29         | 28         | 30         | 31         | 3093.5     | ...        | 15.50      | 0.5        | 1.50       | 10.25      |  74.75     | 30.00      | 5.25       | 8.0        | 2.00       | 0          | \n",
       "\n",
       "\n"
      ],
      "text/plain": [
       "  ID GROUP MATERNALAGE SEXO INFANTDOB  MATBMI1COLL MATBMI215d MATBMI32mos\n",
       "1 1  0     17           1   2009-08-20 25          24         24         \n",
       "2 2  0     16           2   2009-08-24 32          31         30         \n",
       "3 3  0     17           2   2009-08-21 23          23         NA         \n",
       "4 4  0     16           2   2009-08-21 26          NA         NA         \n",
       "5 5  0     16          NA   2009-08-29 25          NA         NA         \n",
       "6 6  0     16           2   2009-08-27 29          28         30         \n",
       "  MATBMI44mos BABYWeigth1g ... ALAGLOB ASNGLOB SYSGLOB GLYGLOB GLUGLOB GLNGLOB\n",
       "1 22          3492.7       ... 21.25   0.5     1.00    10.00    87.25  23.25  \n",
       "2 29          3392.9       ... 18.25   0.0     0.75    13.75   100.50  40.50  \n",
       "3 NA          2993.8       ...    NA    NA       NA       NA       NA     NA  \n",
       "4 NA          3692.3       ...    NA    NA       NA       NA       NA     NA  \n",
       "5 NA          3592.5       ...    NA    NA       NA       NA       NA     NA  \n",
       "6 31          3093.5       ... 15.50   0.5     1.50    10.25    74.75  30.00  \n",
       "  PROLINEGLOB SERINEGLOB TYRAMINEGLOB new\n",
       "1 2.75        8.0        1.00         0  \n",
       "2 2.50        9.5        0.75         0  \n",
       "3   NA         NA          NA         0  \n",
       "4   NA         NA          NA         0  \n",
       "5   NA         NA          NA         0  \n",
       "6 5.25        8.0        2.00         0  "
      ]
     },
     "metadata": {},
     "output_type": "display_data"
    }
   ],
   "source": [
    "AA_Sex_1 <- read_sav(\"C:/Users/Personal/AA leche lactancia/datos/AMINOACIDOS POR SEXO_1.sav\")\n",
    "head(AA_Sex_1)"
   ]
  },
  {
   "cell_type": "code",
   "execution_count": 4,
   "metadata": {},
   "outputs": [
    {
     "data": {
      "text/html": [
       "<table>\n",
       "<thead><tr><th scope=col>id</th><th scope=col>group</th><th scope=col>age</th><th scope=col>sex</th><th scope=col>GLUCalostrum</th><th scope=col>GLUTransition</th><th scope=col>GLUMature2m</th><th scope=col>GLUMature4m</th></tr></thead>\n",
       "<tbody>\n",
       "\t<tr><td>1   </td><td>teen</td><td>17  </td><td>girl</td><td>89  </td><td> 89 </td><td> 99 </td><td> 72 </td></tr>\n",
       "\t<tr><td>2   </td><td>teen</td><td>16  </td><td>boy </td><td> 4  </td><td>103 </td><td>104 </td><td>191 </td></tr>\n",
       "\t<tr><td>3   </td><td>teen</td><td>17  </td><td>boy </td><td>54  </td><td>122 </td><td> NA </td><td> NA </td></tr>\n",
       "\t<tr><td>4   </td><td>teen</td><td>16  </td><td>boy </td><td>33  </td><td> NA </td><td> NA </td><td> NA </td></tr>\n",
       "\t<tr><td>5   </td><td>teen</td><td>16  </td><td>NA  </td><td>23  </td><td> NA </td><td> NA </td><td> NA </td></tr>\n",
       "\t<tr><td>6   </td><td>teen</td><td>16  </td><td>boy </td><td>30  </td><td> 67 </td><td> 92 </td><td>110 </td></tr>\n",
       "</tbody>\n",
       "</table>\n"
      ],
      "text/latex": [
       "\\begin{tabular}{r|llllllll}\n",
       " id & group & age & sex & GLUCalostrum & GLUTransition & GLUMature2m & GLUMature4m\\\\\n",
       "\\hline\n",
       "\t 1    & teen & 17   & girl & 89   &  89  &  99  &  72 \\\\\n",
       "\t 2    & teen & 16   & boy  &  4   & 103  & 104  & 191 \\\\\n",
       "\t 3    & teen & 17   & boy  & 54   & 122  &  NA  &  NA \\\\\n",
       "\t 4    & teen & 16   & boy  & 33   &  NA  &  NA  &  NA \\\\\n",
       "\t 5    & teen & 16   & NA   & 23   &  NA  &  NA  &  NA \\\\\n",
       "\t 6    & teen & 16   & boy  & 30   &  67  &  92  & 110 \\\\\n",
       "\\end{tabular}\n"
      ],
      "text/markdown": [
       "\n",
       "id | group | age | sex | GLUCalostrum | GLUTransition | GLUMature2m | GLUMature4m | \n",
       "|---|---|---|---|---|---|\n",
       "| 1    | teen | 17   | girl | 89   |  89  |  99  |  72  | \n",
       "| 2    | teen | 16   | boy  |  4   | 103  | 104  | 191  | \n",
       "| 3    | teen | 17   | boy  | 54   | 122  |  NA  |  NA  | \n",
       "| 4    | teen | 16   | boy  | 33   |  NA  |  NA  |  NA  | \n",
       "| 5    | teen | 16   | NA   | 23   |  NA  |  NA  |  NA  | \n",
       "| 6    | teen | 16   | boy  | 30   |  67  |  92  | 110  | \n",
       "\n",
       "\n"
      ],
      "text/plain": [
       "  id group age sex  GLUCalostrum GLUTransition GLUMature2m GLUMature4m\n",
       "1 1  teen  17  girl 89            89            99          72        \n",
       "2 2  teen  16  boy   4           103           104         191        \n",
       "3 3  teen  17  boy  54           122            NA          NA        \n",
       "4 4  teen  16  boy  33            NA            NA          NA        \n",
       "5 5  teen  16  NA   23            NA            NA          NA        \n",
       "6 6  teen  16  boy  30            67            92         110        "
      ]
     },
     "metadata": {},
     "output_type": "display_data"
    }
   ],
   "source": [
    "AA <- 'GLU'\n",
    "\n",
    "AAdf <- aaSelect(AA_Sex_1, AA) %>% select(-contains('GLOB'))\n",
    "head(AAdf)"
   ]
  },
  {
   "cell_type": "code",
   "execution_count": 5,
   "metadata": {},
   "outputs": [
    {
     "name": "stderr",
     "output_type": "stream",
     "text": [
      "Warning message:\n",
      "\"attributes are not identical across measure variables; they will be dropped\""
     ]
    },
    {
     "data": {
      "text/html": [
       "<table>\n",
       "<thead><tr><th scope=col>id</th><th scope=col>group</th><th scope=col>age</th><th scope=col>sex</th><th scope=col>week</th><th scope=col>level</th></tr></thead>\n",
       "<tbody>\n",
       "\t<tr><td>1   </td><td>teen</td><td>17  </td><td>girl</td><td>1   </td><td>89  </td></tr>\n",
       "\t<tr><td>2   </td><td>teen</td><td>16  </td><td>boy </td><td>1   </td><td> 4  </td></tr>\n",
       "\t<tr><td>3   </td><td>teen</td><td>17  </td><td>boy </td><td>1   </td><td>54  </td></tr>\n",
       "\t<tr><td>4   </td><td>teen</td><td>16  </td><td>boy </td><td>1   </td><td>33  </td></tr>\n",
       "\t<tr><td>5   </td><td>teen</td><td>16  </td><td>NA  </td><td>1   </td><td>23  </td></tr>\n",
       "\t<tr><td>6   </td><td>teen</td><td>16  </td><td>boy </td><td>1   </td><td>30  </td></tr>\n",
       "</tbody>\n",
       "</table>\n"
      ],
      "text/latex": [
       "\\begin{tabular}{r|llllll}\n",
       " id & group & age & sex & week & level\\\\\n",
       "\\hline\n",
       "\t 1    & teen & 17   & girl & 1    & 89  \\\\\n",
       "\t 2    & teen & 16   & boy  & 1    &  4  \\\\\n",
       "\t 3    & teen & 17   & boy  & 1    & 54  \\\\\n",
       "\t 4    & teen & 16   & boy  & 1    & 33  \\\\\n",
       "\t 5    & teen & 16   & NA   & 1    & 23  \\\\\n",
       "\t 6    & teen & 16   & boy  & 1    & 30  \\\\\n",
       "\\end{tabular}\n"
      ],
      "text/markdown": [
       "\n",
       "id | group | age | sex | week | level | \n",
       "|---|---|---|---|---|---|\n",
       "| 1    | teen | 17   | girl | 1    | 89   | \n",
       "| 2    | teen | 16   | boy  | 1    |  4   | \n",
       "| 3    | teen | 17   | boy  | 1    | 54   | \n",
       "| 4    | teen | 16   | boy  | 1    | 33   | \n",
       "| 5    | teen | 16   | NA   | 1    | 23   | \n",
       "| 6    | teen | 16   | boy  | 1    | 30   | \n",
       "\n",
       "\n"
      ],
      "text/plain": [
       "  id group age sex  week level\n",
       "1 1  teen  17  girl 1    89   \n",
       "2 2  teen  16  boy  1     4   \n",
       "3 3  teen  17  boy  1    54   \n",
       "4 4  teen  16  boy  1    33   \n",
       "5 5  teen  16  NA   1    23   \n",
       "6 6  teen  16  boy  1    30   "
      ]
     },
     "metadata": {},
     "output_type": "display_data"
    }
   ],
   "source": [
    "AAdfLong <- aaLong(AAdf, AA)\n",
    "head(AAdfLong)"
   ]
  },
  {
   "cell_type": "code",
   "execution_count": 6,
   "metadata": {},
   "outputs": [
    {
     "data": {
      "text/plain": [
       "Linear mixed model fit by REML ['lmerMod']\n",
       "Formula: level ~ sex + group + week + (1 | id)\n",
       "   Data: AAdfLong\n",
       "\n",
       "REML criterion at convergence: 1848.6\n",
       "\n",
       "Scaled residuals: \n",
       "     Min       1Q   Median       3Q      Max \n",
       "-2.77767 -0.60556 -0.00799  0.55937  2.97839 \n",
       "\n",
       "Random effects:\n",
       " Groups   Name        Variance Std.Dev.\n",
       " id       (Intercept)  170.5   13.06   \n",
       " Residual             1442.3   37.98   \n",
       "Number of obs: 183, groups:  id, 61\n",
       "\n",
       "Fixed effects:\n",
       "            Estimate Std. Error t value\n",
       "(Intercept)  62.6019     6.7297   9.302\n",
       "sexboy       13.4288     6.9197   1.941\n",
       "groupadult   -4.4517     6.9811  -0.638\n",
       "week          3.4269     0.5003   6.849\n",
       "\n",
       "Correlation of Fixed Effects:\n",
       "           (Intr) sexboy grpdlt\n",
       "sexboy     -0.695              \n",
       "groupadult -0.539  0.239       \n",
       "week       -0.334  0.009 -0.066"
      ]
     },
     "metadata": {},
     "output_type": "display_data"
    }
   ],
   "source": [
    "mod1 <- lmer(level ~ sex + group + week + (1 | id), data=AAdfLong)\n",
    "summary(mod1)"
   ]
  },
  {
   "cell_type": "code",
   "execution_count": 7,
   "metadata": {},
   "outputs": [
    {
     "data": {
      "text/html": [
       "<dl class=dl-horizontal>\n",
       "\t<dt>(Intercept)</dt>\n",
       "\t\t<dd>62.6018645193816</dd>\n",
       "\t<dt>sexboy</dt>\n",
       "\t\t<dd>13.4288274143804</dd>\n",
       "\t<dt>groupadult</dt>\n",
       "\t\t<dd>-4.45167261987269</dd>\n",
       "\t<dt>week</dt>\n",
       "\t\t<dd>3.42685041138526</dd>\n",
       "</dl>\n"
      ],
      "text/latex": [
       "\\begin{description*}\n",
       "\\item[(Intercept)] 62.6018645193816\n",
       "\\item[sexboy] 13.4288274143804\n",
       "\\item[groupadult] -4.45167261987269\n",
       "\\item[week] 3.42685041138526\n",
       "\\end{description*}\n"
      ],
      "text/markdown": [
       "(Intercept)\n",
       ":   62.6018645193816sexboy\n",
       ":   13.4288274143804groupadult\n",
       ":   -4.45167261987269week\n",
       ":   3.42685041138526\n",
       "\n"
      ],
      "text/plain": [
       "(Intercept)      sexboy  groupadult        week \n",
       "  62.601865   13.428827   -4.451673    3.426850 "
      ]
     },
     "metadata": {},
     "output_type": "display_data"
    }
   ],
   "source": [
    "fixef(mod1)"
   ]
  },
  {
   "cell_type": "code",
   "execution_count": 8,
   "metadata": {},
   "outputs": [
    {
     "data": {
      "text/plain": [
       "$id\n",
       "   (Intercept)\n",
       "1    1.5871717\n",
       "2    1.5297598\n",
       "3    1.3058349\n",
       "4   -4.9113302\n",
       "6   -6.7371847\n",
       "7   -0.5570417\n",
       "8   18.3044336\n",
       "9   -3.4882281\n",
       "10   5.9906794\n",
       "11   1.1168058\n",
       "12  -5.1831456\n",
       "13   6.1046708\n",
       "14  -4.9140177\n",
       "15  -1.5201809\n",
       "16  14.5663848\n",
       "17  -4.1084707\n",
       "18   7.4978647\n",
       "19  -3.5848766\n",
       "20 -13.2383741\n",
       "21  -4.1259803\n",
       "22  -3.0921824\n",
       "23  -2.4030585\n",
       "24  -6.6027946\n",
       "25   2.1716773\n",
       "26  10.5771636\n",
       "28   0.3029861\n",
       "29  -4.1707363\n",
       "30   6.8270252\n",
       "31  -8.7437247\n",
       "32   3.4331884\n",
       "33   5.1770743\n",
       "34  -2.2230828\n",
       "35   2.2640265\n",
       "36  -9.9409355\n",
       "37   0.5437709\n",
       "38   2.1663165\n",
       "39  -1.9214889\n",
       "41 -10.6855183\n",
       "42   0.5282556\n",
       "45  -2.8549668\n",
       "46 -10.3462830\n",
       "47  -5.9207462\n",
       "48  -7.6660470\n",
       "49  -4.7125302\n",
       "50  -2.1149511\n",
       "51  -4.7612795\n",
       "52   1.0326749\n",
       "53   1.6519179\n",
       "54   1.3308716\n",
       "55   9.3798810\n",
       "56  -0.4348836\n",
       "57  14.4135119\n",
       "58   4.5413354\n",
       "59   0.5475912\n",
       "61  15.2161279\n",
       "62   5.3668011\n",
       "63  -0.7559300\n",
       "64  -1.4554346\n",
       "65  -3.7610815\n",
       "66   1.9459447\n",
       "67  -0.4852612\n"
      ]
     },
     "metadata": {},
     "output_type": "display_data"
    }
   ],
   "source": [
    "ranef(mod1)"
   ]
  },
  {
   "cell_type": "code",
   "execution_count": null,
   "metadata": {
    "collapsed": true
   },
   "outputs": [],
   "source": []
  }
 ],
 "metadata": {
  "kernelspec": {
   "display_name": "R 3.3",
   "language": "R",
   "name": "ir33"
  },
  "language_info": {
   "codemirror_mode": "r",
   "file_extension": ".r",
   "mimetype": "text/x-r-source",
   "name": "R",
   "pygments_lexer": "r",
   "version": "3.3.3"
  }
 },
 "nbformat": 4,
 "nbformat_minor": 2
}
