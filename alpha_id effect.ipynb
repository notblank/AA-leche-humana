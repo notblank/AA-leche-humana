{
 "cells": [
  {
   "cell_type": "code",
   "execution_count": 2,
   "metadata": {},
   "outputs": [
    {
     "name": "stderr",
     "output_type": "stream",
     "text": [
      "── \u001b[1mAttaching packages\u001b[22m ─────────────────────────────────────── tidyverse 1.2.1 ──\n",
      "\u001b[32m✔\u001b[39m \u001b[34mggplot2\u001b[39m 3.2.0     \u001b[32m✔\u001b[39m \u001b[34mpurrr  \u001b[39m 0.3.2\n",
      "\u001b[32m✔\u001b[39m \u001b[34mtibble \u001b[39m 2.1.3     \u001b[32m✔\u001b[39m \u001b[34mdplyr  \u001b[39m 0.8.2\n",
      "\u001b[32m✔\u001b[39m \u001b[34mtidyr  \u001b[39m 0.8.3     \u001b[32m✔\u001b[39m \u001b[34mstringr\u001b[39m 1.4.0\n",
      "\u001b[32m✔\u001b[39m \u001b[34mreadr  \u001b[39m 1.3.1     \u001b[32m✔\u001b[39m \u001b[34mforcats\u001b[39m 0.4.0\n",
      "── \u001b[1mConflicts\u001b[22m ────────────────────────────────────────── tidyverse_conflicts() ──\n",
      "\u001b[31m✖\u001b[39m \u001b[34mdplyr\u001b[39m::\u001b[32mfilter()\u001b[39m masks \u001b[34mstats\u001b[39m::filter()\n",
      "\u001b[31m✖\u001b[39m \u001b[34mdplyr\u001b[39m::\u001b[32mlag()\u001b[39m    masks \u001b[34mstats\u001b[39m::lag()\n",
      "Loading required package: Matrix\n",
      "\n",
      "Attaching package: ‘Matrix’\n",
      "\n",
      "The following object is masked from ‘package:tidyr’:\n",
      "\n",
      "    expand\n",
      "\n",
      "\n",
      "Attaching package: ‘gridExtra’\n",
      "\n",
      "The following object is masked from ‘package:dplyr’:\n",
      "\n",
      "    combine\n",
      "\n"
     ]
    }
   ],
   "source": [
    "library(haven)\n",
    "library(tidyverse)\n",
    "library(broom)\n",
    "library(lme4) \n",
    "library(latex2exp)\n",
    "library(gridExtra)\n",
    "#library(ggforce)"
   ]
  },
  {
   "cell_type": "code",
   "execution_count": 3,
   "metadata": {},
   "outputs": [
    {
     "data": {
      "text/html": [
       "<table>\n",
       "<caption>A data.frame: 6 × 9</caption>\n",
       "<thead>\n",
       "\t<tr><th scope=col>X</th><th scope=col>id</th><th scope=col>group</th><th scope=col>age</th><th scope=col>sex</th><th scope=col>weekNames</th><th scope=col>level</th><th scope=col>week</th><th scope=col>AA</th></tr>\n",
       "\t<tr><th scope=col>&lt;int&gt;</th><th scope=col>&lt;int&gt;</th><th scope=col>&lt;fct&gt;</th><th scope=col>&lt;int&gt;</th><th scope=col>&lt;fct&gt;</th><th scope=col>&lt;fct&gt;</th><th scope=col>&lt;int&gt;</th><th scope=col>&lt;int&gt;</th><th scope=col>&lt;fct&gt;</th></tr>\n",
       "</thead>\n",
       "<tbody>\n",
       "\t<tr><td>1</td><td>1</td><td>teen</td><td>17</td><td>girl</td><td>ARGCalostrum</td><td>1</td><td>1</td><td>ARG</td></tr>\n",
       "\t<tr><td>2</td><td>2</td><td>teen</td><td>16</td><td>boy </td><td>ARGCalostrum</td><td>1</td><td>1</td><td>ARG</td></tr>\n",
       "\t<tr><td>3</td><td>3</td><td>teen</td><td>17</td><td>boy </td><td>ARGCalostrum</td><td>1</td><td>1</td><td>ARG</td></tr>\n",
       "\t<tr><td>4</td><td>4</td><td>teen</td><td>16</td><td>boy </td><td>ARGCalostrum</td><td>1</td><td>1</td><td>ARG</td></tr>\n",
       "\t<tr><td>5</td><td>5</td><td>teen</td><td>16</td><td>NA  </td><td>ARGCalostrum</td><td>2</td><td>1</td><td>ARG</td></tr>\n",
       "\t<tr><td>6</td><td>6</td><td>teen</td><td>16</td><td>boy </td><td>ARGCalostrum</td><td>2</td><td>1</td><td>ARG</td></tr>\n",
       "</tbody>\n",
       "</table>\n"
      ],
      "text/latex": [
       "A data.frame: 6 × 9\n",
       "\\begin{tabular}{r|lllllllll}\n",
       " X & id & group & age & sex & weekNames & level & week & AA\\\\\n",
       " <int> & <int> & <fct> & <int> & <fct> & <fct> & <int> & <int> & <fct>\\\\\n",
       "\\hline\n",
       "\t 1 & 1 & teen & 17 & girl & ARGCalostrum & 1 & 1 & ARG\\\\\n",
       "\t 2 & 2 & teen & 16 & boy  & ARGCalostrum & 1 & 1 & ARG\\\\\n",
       "\t 3 & 3 & teen & 17 & boy  & ARGCalostrum & 1 & 1 & ARG\\\\\n",
       "\t 4 & 4 & teen & 16 & boy  & ARGCalostrum & 1 & 1 & ARG\\\\\n",
       "\t 5 & 5 & teen & 16 & NA   & ARGCalostrum & 2 & 1 & ARG\\\\\n",
       "\t 6 & 6 & teen & 16 & boy  & ARGCalostrum & 2 & 1 & ARG\\\\\n",
       "\\end{tabular}\n"
      ],
      "text/markdown": [
       "\n",
       "A data.frame: 6 × 9\n",
       "\n",
       "| X &lt;int&gt; | id &lt;int&gt; | group &lt;fct&gt; | age &lt;int&gt; | sex &lt;fct&gt; | weekNames &lt;fct&gt; | level &lt;int&gt; | week &lt;int&gt; | AA &lt;fct&gt; |\n",
       "|---|---|---|---|---|---|---|---|---|\n",
       "| 1 | 1 | teen | 17 | girl | ARGCalostrum | 1 | 1 | ARG |\n",
       "| 2 | 2 | teen | 16 | boy  | ARGCalostrum | 1 | 1 | ARG |\n",
       "| 3 | 3 | teen | 17 | boy  | ARGCalostrum | 1 | 1 | ARG |\n",
       "| 4 | 4 | teen | 16 | boy  | ARGCalostrum | 1 | 1 | ARG |\n",
       "| 5 | 5 | teen | 16 | NA   | ARGCalostrum | 2 | 1 | ARG |\n",
       "| 6 | 6 | teen | 16 | boy  | ARGCalostrum | 2 | 1 | ARG |\n",
       "\n"
      ],
      "text/plain": [
       "  X id group age sex  weekNames    level week AA \n",
       "1 1 1  teen  17  girl ARGCalostrum 1     1    ARG\n",
       "2 2 2  teen  16  boy  ARGCalostrum 1     1    ARG\n",
       "3 3 3  teen  17  boy  ARGCalostrum 1     1    ARG\n",
       "4 4 4  teen  16  boy  ARGCalostrum 1     1    ARG\n",
       "5 5 5  teen  16  NA   ARGCalostrum 2     1    ARG\n",
       "6 6 6  teen  16  boy  ARGCalostrum 2     1    ARG"
      ]
     },
     "metadata": {},
     "output_type": "display_data"
    }
   ],
   "source": [
    "AA_E_Long <- read.csv('./datos/AA_E_Long.csv')\n",
    "AA_NE_Long <- read.csv('./datos/AA_NE_Long.csv')\n",
    "\n",
    "head(AA_NE_Long)"
   ]
  },
  {
   "cell_type": "markdown",
   "metadata": {},
   "source": [
    "# $\\alpha_{id}$ effect"
   ]
  },
  {
   "cell_type": "code",
   "execution_count": 13,
   "metadata": {},
   "outputs": [],
   "source": [
    "meSex <- function(df){\n",
    "    \n",
    "    me <- lmer(level ~ sex + week + (1 | id), data = df)\n",
    "    \n",
    "    return(me)\n",
    "}"
   ]
  },
  {
   "cell_type": "code",
   "execution_count": 14,
   "metadata": {},
   "outputs": [
    {
     "data": {
      "text/html": [
       "<table>\n",
       "<caption>A grouped_df: 6 × 3</caption>\n",
       "<thead>\n",
       "\t<tr><th scope=col>id</th><th scope=col>AA</th><th scope=col>num_obs</th></tr>\n",
       "\t<tr><th scope=col>&lt;int&gt;</th><th scope=col>&lt;fct&gt;</th><th scope=col>&lt;int&gt;</th></tr>\n",
       "</thead>\n",
       "<tbody>\n",
       "\t<tr><td>1</td><td>ALA</td><td>4</td></tr>\n",
       "\t<tr><td>1</td><td>ARG</td><td>4</td></tr>\n",
       "\t<tr><td>1</td><td>ASN</td><td>4</td></tr>\n",
       "\t<tr><td>1</td><td>ASP</td><td>4</td></tr>\n",
       "\t<tr><td>1</td><td>CYS</td><td>4</td></tr>\n",
       "\t<tr><td>1</td><td>GLN</td><td>4</td></tr>\n",
       "</tbody>\n",
       "</table>\n"
      ],
      "text/latex": [
       "A grouped_df: 6 × 3\n",
       "\\begin{tabular}{r|lll}\n",
       " id & AA & num\\_obs\\\\\n",
       " <int> & <fct> & <int>\\\\\n",
       "\\hline\n",
       "\t 1 & ALA & 4\\\\\n",
       "\t 1 & ARG & 4\\\\\n",
       "\t 1 & ASN & 4\\\\\n",
       "\t 1 & ASP & 4\\\\\n",
       "\t 1 & CYS & 4\\\\\n",
       "\t 1 & GLN & 4\\\\\n",
       "\\end{tabular}\n"
      ],
      "text/markdown": [
       "\n",
       "A grouped_df: 6 × 3\n",
       "\n",
       "| id &lt;int&gt; | AA &lt;fct&gt; | num_obs &lt;int&gt; |\n",
       "|---|---|---|\n",
       "| 1 | ALA | 4 |\n",
       "| 1 | ARG | 4 |\n",
       "| 1 | ASN | 4 |\n",
       "| 1 | ASP | 4 |\n",
       "| 1 | CYS | 4 |\n",
       "| 1 | GLN | 4 |\n",
       "\n"
      ],
      "text/plain": [
       "  id AA  num_obs\n",
       "1 1  ALA 4      \n",
       "2 1  ARG 4      \n",
       "3 1  ASN 4      \n",
       "4 1  ASP 4      \n",
       "5 1  CYS 4      \n",
       "6 1  GLN 4      "
      ]
     },
     "metadata": {},
     "output_type": "display_data"
    }
   ],
   "source": [
    "num_obs <- AA_NE_Long %>% group_by(id, AA) %>% summarise(num_obs = sum(!is.na(level)))\n",
    "head(num_obs)"
   ]
  },
  {
   "cell_type": "code",
   "execution_count": 15,
   "metadata": {},
   "outputs": [],
   "source": [
    "AA_E_Nested <- AA_E_Long %>% group_by(AA) %>% nest()\n",
    "AA_NE_Nested <- AA_NE_Long %>% group_by(AA) %>% nest()"
   ]
  },
  {
   "cell_type": "code",
   "execution_count": 16,
   "metadata": {},
   "outputs": [],
   "source": [
    "nAA_E <- dim(AA_E_Nested)[1]\n",
    "nAA_NE <- dim(AA_NE_Nested)[1]"
   ]
  },
  {
   "cell_type": "code",
   "execution_count": 41,
   "metadata": {},
   "outputs": [
    {
     "name": "stderr",
     "output_type": "stream",
     "text": [
      "boundary (singular) fit: see ?isSingular\n"
     ]
    }
   ],
   "source": [
    "me_E_S <- list()\n",
    "tidy_E_S <- list()\n",
    "\n",
    "for(i in 1:nAA_E){\n",
    "    \n",
    "    me_E_S[[i]] <- meSex(AA_E_Nested$data[[i]])\n",
    "    tidy_E_S[[i]] <- tidy(me_E_S[[i]], effects = 'fixed') %>% mutate(AA = AA_E_Nested$AA[i])\n",
    "    \n",
    "}"
   ]
  },
  {
   "cell_type": "code",
   "execution_count": 28,
   "metadata": {},
   "outputs": [],
   "source": [
    "me_NE_S <- list()\n",
    "tidy_NE_S <- list()\n",
    "\n",
    "for(i in 1:nAA_NE){\n",
    "    \n",
    "    me_NE_S[[i]] <- meSex(AA_NE_Nested$data[[i]])\n",
    "    tidy_NE_S[[i]] <- tidy(me_NE_S[[i]], effects = 'fixed') %>% mutate(AA = AA_NE_Nested$AA[i])\n",
    "\n",
    "}"
   ]
  },
  {
   "cell_type": "code",
   "execution_count": 40,
   "metadata": {},
   "outputs": [
    {
     "data": {
      "text/html": [
       "<table>\n",
       "<caption>A data.frame: 6 × 1</caption>\n",
       "<thead>\n",
       "\t<tr><th></th><th scope=col>(Intercept)</th></tr>\n",
       "\t<tr><th></th><th scope=col>&lt;dbl&gt;</th></tr>\n",
       "</thead>\n",
       "<tbody>\n",
       "\t<tr><th scope=row>1</th><td>-0.014677562</td></tr>\n",
       "\t<tr><th scope=row>2</th><td> 0.001756398</td></tr>\n",
       "\t<tr><th scope=row>3</th><td> 0.108370892</td></tr>\n",
       "\t<tr><th scope=row>4</th><td>-0.092576022</td></tr>\n",
       "\t<tr><th scope=row>6</th><td>-0.076369691</td></tr>\n",
       "\t<tr><th scope=row>7</th><td> 0.079882488</td></tr>\n",
       "</tbody>\n",
       "</table>\n"
      ],
      "text/latex": [
       "A data.frame: 6 × 1\n",
       "\\begin{tabular}{r|l}\n",
       "  & (Intercept)\\\\\n",
       "  & <dbl>\\\\\n",
       "\\hline\n",
       "\t1 & -0.014677562\\\\\n",
       "\t2 &  0.001756398\\\\\n",
       "\t3 &  0.108370892\\\\\n",
       "\t4 & -0.092576022\\\\\n",
       "\t6 & -0.076369691\\\\\n",
       "\t7 &  0.079882488\\\\\n",
       "\\end{tabular}\n"
      ],
      "text/markdown": [
       "\n",
       "A data.frame: 6 × 1\n",
       "\n",
       "| <!--/--> | (Intercept) &lt;dbl&gt; |\n",
       "|---|---|\n",
       "| 1 | -0.014677562 |\n",
       "| 2 |  0.001756398 |\n",
       "| 3 |  0.108370892 |\n",
       "| 4 | -0.092576022 |\n",
       "| 6 | -0.076369691 |\n",
       "| 7 |  0.079882488 |\n",
       "\n"
      ],
      "text/plain": [
       "  (Intercept) \n",
       "1 -0.014677562\n",
       "2  0.001756398\n",
       "3  0.108370892\n",
       "4 -0.092576022\n",
       "6 -0.076369691\n",
       "7  0.079882488"
      ]
     },
     "metadata": {},
     "output_type": "display_data"
    }
   ],
   "source": [
    "ranef(me_E_G[[1]])$id %>% head()"
   ]
  },
  {
   "cell_type": "code",
   "execution_count": 20,
   "metadata": {},
   "outputs": [],
   "source": [
    "one_obs_index <- num_obs %>% filter(AA == 'ARG', num_obs < 2) %>% select(id)"
   ]
  },
  {
   "cell_type": "markdown",
   "metadata": {
    "collapsed": true
   },
   "source": [
    "# No $\\alpha_{id}$ "
   ]
  },
  {
   "cell_type": "code",
   "execution_count": 34,
   "metadata": {},
   "outputs": [],
   "source": [
    "lmSex <- function(df){\n",
    "    \n",
    "    me <- lm(level ~ sex + week, data = df)\n",
    "    \n",
    "    return(me)\n",
    "}"
   ]
  },
  {
   "cell_type": "code",
   "execution_count": 35,
   "metadata": {},
   "outputs": [
    {
     "data": {
      "text/html": [
       "<table>\n",
       "<caption>A tibble: 3 × 2</caption>\n",
       "<thead>\n",
       "\t<tr><th scope=col>term</th><th scope=col>estimate</th></tr>\n",
       "\t<tr><th scope=col>&lt;chr&gt;</th><th scope=col>&lt;dbl&gt;</th></tr>\n",
       "</thead>\n",
       "<tbody>\n",
       "\t<tr><td>(Intercept)</td><td> 1.91837606</td></tr>\n",
       "\t<tr><td>sexgirl    </td><td>-0.17980848</td></tr>\n",
       "\t<tr><td>week       </td><td> 0.01613915</td></tr>\n",
       "</tbody>\n",
       "</table>\n"
      ],
      "text/latex": [
       "A tibble: 3 × 2\n",
       "\\begin{tabular}{r|ll}\n",
       " term & estimate\\\\\n",
       " <chr> & <dbl>\\\\\n",
       "\\hline\n",
       "\t (Intercept) &  1.91837606\\\\\n",
       "\t sexgirl     & -0.17980848\\\\\n",
       "\t week        &  0.01613915\\\\\n",
       "\\end{tabular}\n"
      ],
      "text/markdown": [
       "\n",
       "A tibble: 3 × 2\n",
       "\n",
       "| term &lt;chr&gt; | estimate &lt;dbl&gt; |\n",
       "|---|---|\n",
       "| (Intercept) |  1.91837606 |\n",
       "| sexgirl     | -0.17980848 |\n",
       "| week        |  0.01613915 |\n",
       "\n"
      ],
      "text/plain": [
       "  term        estimate   \n",
       "1 (Intercept)  1.91837606\n",
       "2 sexgirl     -0.17980848\n",
       "3 week         0.01613915"
      ]
     },
     "metadata": {},
     "output_type": "display_data"
    }
   ],
   "source": [
    "mod1 <- lmSex(AA_E_Nested$data[[1]])\n",
    "tidy(mod1) %>% select(term, estimate)"
   ]
  },
  {
   "cell_type": "code",
   "execution_count": 36,
   "metadata": {},
   "outputs": [],
   "source": [
    "lm_E_S <- list()\n",
    "lm_tidy_E_S <- list()\n",
    "\n",
    "for(i in 1:nAA_E){\n",
    "    \n",
    "    lm_E_S[[i]] <- lmSex(AA_E_Nested$data[[i]])\n",
    "    lm_tidy_E_S[[i]] <- tidy(lm_E_S[[i]]) %>% mutate(AA = AA_E_Nested$AA[i])\n",
    "    \n",
    "}"
   ]
  },
  {
   "cell_type": "code",
   "execution_count": 37,
   "metadata": {},
   "outputs": [],
   "source": [
    "lm_NE_S <- list()\n",
    "lm_tidy_NE_S <- list()\n",
    "\n",
    "for(i in 1:nAA_NE){\n",
    "    \n",
    "    lm_NE_S[[i]] <- lmSex(AA_NE_Nested$data[[i]])\n",
    "    lm_tidy_NE_S[[i]] <- tidy(lm_NE_S[[i]]) %>% mutate(AA = AA_NE_Nested$AA[i])\n",
    "\n",
    "}"
   ]
  },
  {
   "cell_type": "code",
   "execution_count": 38,
   "metadata": {},
   "outputs": [
    {
     "data": {
      "text/html": [
       "<table>\n",
       "<caption>A tibble: 3 × 6</caption>\n",
       "<thead>\n",
       "\t<tr><th scope=col>term</th><th scope=col>estimate</th><th scope=col>std.error</th><th scope=col>statistic</th><th scope=col>p.value</th><th scope=col>AA</th></tr>\n",
       "\t<tr><th scope=col>&lt;chr&gt;</th><th scope=col>&lt;dbl&gt;</th><th scope=col>&lt;dbl&gt;</th><th scope=col>&lt;dbl&gt;</th><th scope=col>&lt;dbl&gt;</th><th scope=col>&lt;fct&gt;</th></tr>\n",
       "</thead>\n",
       "<tbody>\n",
       "\t<tr><td>(Intercept)</td><td> 1.38779276</td><td>0.1038167</td><td>13.3677281</td><td>9.370341e-29</td><td>ARG</td></tr>\n",
       "\t<tr><td>sexgirl    </td><td>-0.10686670</td><td>0.1278442</td><td>-0.8359135</td><td>4.043118e-01</td><td>ARG</td></tr>\n",
       "\t<tr><td>week       </td><td>-0.02819265</td><td>0.0109353</td><td>-2.5781316</td><td>1.073340e-02</td><td>ARG</td></tr>\n",
       "</tbody>\n",
       "</table>\n"
      ],
      "text/latex": [
       "A tibble: 3 × 6\n",
       "\\begin{tabular}{r|llllll}\n",
       " term & estimate & std.error & statistic & p.value & AA\\\\\n",
       " <chr> & <dbl> & <dbl> & <dbl> & <dbl> & <fct>\\\\\n",
       "\\hline\n",
       "\t (Intercept) &  1.38779276 & 0.1038167 & 13.3677281 & 9.370341e-29 & ARG\\\\\n",
       "\t sexgirl     & -0.10686670 & 0.1278442 & -0.8359135 & 4.043118e-01 & ARG\\\\\n",
       "\t week        & -0.02819265 & 0.0109353 & -2.5781316 & 1.073340e-02 & ARG\\\\\n",
       "\\end{tabular}\n"
      ],
      "text/markdown": [
       "\n",
       "A tibble: 3 × 6\n",
       "\n",
       "| term &lt;chr&gt; | estimate &lt;dbl&gt; | std.error &lt;dbl&gt; | statistic &lt;dbl&gt; | p.value &lt;dbl&gt; | AA &lt;fct&gt; |\n",
       "|---|---|---|---|---|---|\n",
       "| (Intercept) |  1.38779276 | 0.1038167 | 13.3677281 | 9.370341e-29 | ARG |\n",
       "| sexgirl     | -0.10686670 | 0.1278442 | -0.8359135 | 4.043118e-01 | ARG |\n",
       "| week        | -0.02819265 | 0.0109353 | -2.5781316 | 1.073340e-02 | ARG |\n",
       "\n"
      ],
      "text/plain": [
       "  term        estimate    std.error statistic  p.value      AA \n",
       "1 (Intercept)  1.38779276 0.1038167 13.3677281 9.370341e-29 ARG\n",
       "2 sexgirl     -0.10686670 0.1278442 -0.8359135 4.043118e-01 ARG\n",
       "3 week        -0.02819265 0.0109353 -2.5781316 1.073340e-02 ARG"
      ]
     },
     "metadata": {},
     "output_type": "display_data"
    },
    {
     "data": {
      "text/html": [
       "<table>\n",
       "<caption>A tibble: 3 × 5</caption>\n",
       "<thead>\n",
       "\t<tr><th scope=col>term</th><th scope=col>estimate</th><th scope=col>std.error</th><th scope=col>statistic</th><th scope=col>AA</th></tr>\n",
       "\t<tr><th scope=col>&lt;chr&gt;</th><th scope=col>&lt;dbl&gt;</th><th scope=col>&lt;dbl&gt;</th><th scope=col>&lt;dbl&gt;</th><th scope=col>&lt;fct&gt;</th></tr>\n",
       "</thead>\n",
       "<tbody>\n",
       "\t<tr><td>(Intercept)</td><td> 1.40209993</td><td>0.11349256</td><td>12.3541127</td><td>ARG</td></tr>\n",
       "\t<tr><td>sexgirl    </td><td>-0.14263751</td><td>0.15228825</td><td>-0.9366285</td><td>ARG</td></tr>\n",
       "\t<tr><td>week       </td><td>-0.02560585</td><td>0.01016558</td><td>-2.5188766</td><td>ARG</td></tr>\n",
       "</tbody>\n",
       "</table>\n"
      ],
      "text/latex": [
       "A tibble: 3 × 5\n",
       "\\begin{tabular}{r|lllll}\n",
       " term & estimate & std.error & statistic & AA\\\\\n",
       " <chr> & <dbl> & <dbl> & <dbl> & <fct>\\\\\n",
       "\\hline\n",
       "\t (Intercept) &  1.40209993 & 0.11349256 & 12.3541127 & ARG\\\\\n",
       "\t sexgirl     & -0.14263751 & 0.15228825 & -0.9366285 & ARG\\\\\n",
       "\t week        & -0.02560585 & 0.01016558 & -2.5188766 & ARG\\\\\n",
       "\\end{tabular}\n"
      ],
      "text/markdown": [
       "\n",
       "A tibble: 3 × 5\n",
       "\n",
       "| term &lt;chr&gt; | estimate &lt;dbl&gt; | std.error &lt;dbl&gt; | statistic &lt;dbl&gt; | AA &lt;fct&gt; |\n",
       "|---|---|---|---|---|\n",
       "| (Intercept) |  1.40209993 | 0.11349256 | 12.3541127 | ARG |\n",
       "| sexgirl     | -0.14263751 | 0.15228825 | -0.9366285 | ARG |\n",
       "| week        | -0.02560585 | 0.01016558 | -2.5188766 | ARG |\n",
       "\n"
      ],
      "text/plain": [
       "  term        estimate    std.error  statistic  AA \n",
       "1 (Intercept)  1.40209993 0.11349256 12.3541127 ARG\n",
       "2 sexgirl     -0.14263751 0.15228825 -0.9366285 ARG\n",
       "3 week        -0.02560585 0.01016558 -2.5188766 ARG"
      ]
     },
     "metadata": {},
     "output_type": "display_data"
    }
   ],
   "source": [
    "lm_tidy_NE_S[[1]]\n",
    "tidy_NE_S[[1]]"
   ]
  },
  {
   "cell_type": "code",
   "execution_count": 52,
   "metadata": {},
   "outputs": [],
   "source": [
    "me_coef_E_S <- bind_rows(tidy_E_S) %>% filter(grepl(\"sexgirl\", term))\n",
    "me_coef_NE_S <- bind_rows(tidy_NE_S) %>% filter(grepl(\"sexgirl\", term))\n",
    "\n",
    "lm_coef_E_S <- bind_rows(lm_tidy_E_S) %>% filter(grepl(\"sexgirl\", term))\n",
    "lm_coef_NE_S <- bind_rows(lm_tidy_NE_S) %>% filter(grepl(\"sexgirl\", term))"
   ]
  },
  {
   "cell_type": "code",
   "execution_count": 54,
   "metadata": {},
   "outputs": [
    {
     "data": {
      "text/html": [
       "<table>\n",
       "<caption>A tibble: 11 × 5</caption>\n",
       "<thead>\n",
       "\t<tr><th scope=col>term</th><th scope=col>estimate</th><th scope=col>std.error</th><th scope=col>statistic</th><th scope=col>AA</th></tr>\n",
       "\t<tr><th scope=col>&lt;chr&gt;</th><th scope=col>&lt;dbl&gt;</th><th scope=col>&lt;dbl&gt;</th><th scope=col>&lt;dbl&gt;</th><th scope=col>&lt;fct&gt;</th></tr>\n",
       "</thead>\n",
       "<tbody>\n",
       "\t<tr><td>sexgirl</td><td> -0.14263751</td><td>0.1522882</td><td>-0.9366285</td><td>ARG</td></tr>\n",
       "\t<tr><td>sexgirl</td><td> -0.54756968</td><td>0.4801045</td><td>-1.1405219</td><td>ASP</td></tr>\n",
       "\t<tr><td>sexgirl</td><td> -1.61818930</td><td>1.6590414</td><td>-0.9753761</td><td>ALA</td></tr>\n",
       "\t<tr><td>sexgirl</td><td>  0.08339889</td><td>0.1257034</td><td> 0.6634576</td><td>ASN</td></tr>\n",
       "\t<tr><td>sexgirl</td><td> -0.35682776</td><td>0.1635167</td><td>-2.1822096</td><td>CYS</td></tr>\n",
       "\t<tr><td>sexgirl</td><td> -1.81908239</td><td>0.7897730</td><td>-2.3032978</td><td>GLY</td></tr>\n",
       "\t<tr><td>sexgirl</td><td>-14.39755180</td><td>6.5220682</td><td>-2.2075132</td><td>GLU</td></tr>\n",
       "\t<tr><td>sexgirl</td><td> -3.06094539</td><td>3.3877643</td><td>-0.9035296</td><td>GLN</td></tr>\n",
       "\t<tr><td>sexgirl</td><td> -0.38692513</td><td>0.3436295</td><td>-1.1259951</td><td>PRO</td></tr>\n",
       "\t<tr><td>sexgirl</td><td> -1.22571449</td><td>0.6975134</td><td>-1.7572631</td><td>SER</td></tr>\n",
       "\t<tr><td>sexgirl</td><td> -0.23773898</td><td>0.1099537</td><td>-2.1621732</td><td>TYR</td></tr>\n",
       "</tbody>\n",
       "</table>\n"
      ],
      "text/latex": [
       "A tibble: 11 × 5\n",
       "\\begin{tabular}{r|lllll}\n",
       " term & estimate & std.error & statistic & AA\\\\\n",
       " <chr> & <dbl> & <dbl> & <dbl> & <fct>\\\\\n",
       "\\hline\n",
       "\t sexgirl &  -0.14263751 & 0.1522882 & -0.9366285 & ARG\\\\\n",
       "\t sexgirl &  -0.54756968 & 0.4801045 & -1.1405219 & ASP\\\\\n",
       "\t sexgirl &  -1.61818930 & 1.6590414 & -0.9753761 & ALA\\\\\n",
       "\t sexgirl &   0.08339889 & 0.1257034 &  0.6634576 & ASN\\\\\n",
       "\t sexgirl &  -0.35682776 & 0.1635167 & -2.1822096 & CYS\\\\\n",
       "\t sexgirl &  -1.81908239 & 0.7897730 & -2.3032978 & GLY\\\\\n",
       "\t sexgirl & -14.39755180 & 6.5220682 & -2.2075132 & GLU\\\\\n",
       "\t sexgirl &  -3.06094539 & 3.3877643 & -0.9035296 & GLN\\\\\n",
       "\t sexgirl &  -0.38692513 & 0.3436295 & -1.1259951 & PRO\\\\\n",
       "\t sexgirl &  -1.22571449 & 0.6975134 & -1.7572631 & SER\\\\\n",
       "\t sexgirl &  -0.23773898 & 0.1099537 & -2.1621732 & TYR\\\\\n",
       "\\end{tabular}\n"
      ],
      "text/markdown": [
       "\n",
       "A tibble: 11 × 5\n",
       "\n",
       "| term &lt;chr&gt; | estimate &lt;dbl&gt; | std.error &lt;dbl&gt; | statistic &lt;dbl&gt; | AA &lt;fct&gt; |\n",
       "|---|---|---|---|---|\n",
       "| sexgirl |  -0.14263751 | 0.1522882 | -0.9366285 | ARG |\n",
       "| sexgirl |  -0.54756968 | 0.4801045 | -1.1405219 | ASP |\n",
       "| sexgirl |  -1.61818930 | 1.6590414 | -0.9753761 | ALA |\n",
       "| sexgirl |   0.08339889 | 0.1257034 |  0.6634576 | ASN |\n",
       "| sexgirl |  -0.35682776 | 0.1635167 | -2.1822096 | CYS |\n",
       "| sexgirl |  -1.81908239 | 0.7897730 | -2.3032978 | GLY |\n",
       "| sexgirl | -14.39755180 | 6.5220682 | -2.2075132 | GLU |\n",
       "| sexgirl |  -3.06094539 | 3.3877643 | -0.9035296 | GLN |\n",
       "| sexgirl |  -0.38692513 | 0.3436295 | -1.1259951 | PRO |\n",
       "| sexgirl |  -1.22571449 | 0.6975134 | -1.7572631 | SER |\n",
       "| sexgirl |  -0.23773898 | 0.1099537 | -2.1621732 | TYR |\n",
       "\n"
      ],
      "text/plain": [
       "   term    estimate     std.error statistic  AA \n",
       "1  sexgirl  -0.14263751 0.1522882 -0.9366285 ARG\n",
       "2  sexgirl  -0.54756968 0.4801045 -1.1405219 ASP\n",
       "3  sexgirl  -1.61818930 1.6590414 -0.9753761 ALA\n",
       "4  sexgirl   0.08339889 0.1257034  0.6634576 ASN\n",
       "5  sexgirl  -0.35682776 0.1635167 -2.1822096 CYS\n",
       "6  sexgirl  -1.81908239 0.7897730 -2.3032978 GLY\n",
       "7  sexgirl -14.39755180 6.5220682 -2.2075132 GLU\n",
       "8  sexgirl  -3.06094539 3.3877643 -0.9035296 GLN\n",
       "9  sexgirl  -0.38692513 0.3436295 -1.1259951 PRO\n",
       "10 sexgirl  -1.22571449 0.6975134 -1.7572631 SER\n",
       "11 sexgirl  -0.23773898 0.1099537 -2.1621732 TYR"
      ]
     },
     "metadata": {},
     "output_type": "display_data"
    },
    {
     "data": {
      "text/html": [
       "<table>\n",
       "<caption>A tibble: 11 × 6</caption>\n",
       "<thead>\n",
       "\t<tr><th scope=col>term</th><th scope=col>estimate</th><th scope=col>std.error</th><th scope=col>statistic</th><th scope=col>p.value</th><th scope=col>AA</th></tr>\n",
       "\t<tr><th scope=col>&lt;chr&gt;</th><th scope=col>&lt;dbl&gt;</th><th scope=col>&lt;dbl&gt;</th><th scope=col>&lt;dbl&gt;</th><th scope=col>&lt;dbl&gt;</th><th scope=col>&lt;fct&gt;</th></tr>\n",
       "</thead>\n",
       "<tbody>\n",
       "\t<tr><td>sexgirl</td><td> -0.10686670</td><td>0.12784422</td><td>-0.8359135</td><td>0.404311832</td><td>ARG</td></tr>\n",
       "\t<tr><td>sexgirl</td><td> -0.49103477</td><td>0.40143256</td><td>-1.2232061</td><td>0.222850827</td><td>ASP</td></tr>\n",
       "\t<tr><td>sexgirl</td><td> -1.48348397</td><td>1.38899957</td><td>-1.0680234</td><td>0.286940243</td><td>ALA</td></tr>\n",
       "\t<tr><td>sexgirl</td><td>  0.08834972</td><td>0.11945416</td><td> 0.7396120</td><td>0.460498966</td><td>ASN</td></tr>\n",
       "\t<tr><td>sexgirl</td><td> -0.36488166</td><td>0.13414632</td><td>-2.7200273</td><td>0.007167546</td><td>CYS</td></tr>\n",
       "\t<tr><td>sexgirl</td><td> -1.76619168</td><td>0.66729874</td><td>-2.6467781</td><td>0.008846554</td><td>GLY</td></tr>\n",
       "\t<tr><td>sexgirl</td><td>-13.73657310</td><td>5.62418996</td><td>-2.4424092</td><td>0.015555734</td><td>GLU</td></tr>\n",
       "\t<tr><td>sexgirl</td><td> -2.95129058</td><td>2.84943254</td><td>-1.0357468</td><td>0.301709750</td><td>GLN</td></tr>\n",
       "\t<tr><td>sexgirl</td><td> -0.35706764</td><td>0.29387192</td><td>-1.2150451</td><td>0.225940268</td><td>PRO</td></tr>\n",
       "\t<tr><td>sexgirl</td><td> -1.19870274</td><td>0.57962318</td><td>-2.0680725</td><td>0.040063315</td><td>SER</td></tr>\n",
       "\t<tr><td>sexgirl</td><td> -0.21530679</td><td>0.09065301</td><td>-2.3750651</td><td>0.018597403</td><td>TYR</td></tr>\n",
       "</tbody>\n",
       "</table>\n"
      ],
      "text/latex": [
       "A tibble: 11 × 6\n",
       "\\begin{tabular}{r|llllll}\n",
       " term & estimate & std.error & statistic & p.value & AA\\\\\n",
       " <chr> & <dbl> & <dbl> & <dbl> & <dbl> & <fct>\\\\\n",
       "\\hline\n",
       "\t sexgirl &  -0.10686670 & 0.12784422 & -0.8359135 & 0.404311832 & ARG\\\\\n",
       "\t sexgirl &  -0.49103477 & 0.40143256 & -1.2232061 & 0.222850827 & ASP\\\\\n",
       "\t sexgirl &  -1.48348397 & 1.38899957 & -1.0680234 & 0.286940243 & ALA\\\\\n",
       "\t sexgirl &   0.08834972 & 0.11945416 &  0.7396120 & 0.460498966 & ASN\\\\\n",
       "\t sexgirl &  -0.36488166 & 0.13414632 & -2.7200273 & 0.007167546 & CYS\\\\\n",
       "\t sexgirl &  -1.76619168 & 0.66729874 & -2.6467781 & 0.008846554 & GLY\\\\\n",
       "\t sexgirl & -13.73657310 & 5.62418996 & -2.4424092 & 0.015555734 & GLU\\\\\n",
       "\t sexgirl &  -2.95129058 & 2.84943254 & -1.0357468 & 0.301709750 & GLN\\\\\n",
       "\t sexgirl &  -0.35706764 & 0.29387192 & -1.2150451 & 0.225940268 & PRO\\\\\n",
       "\t sexgirl &  -1.19870274 & 0.57962318 & -2.0680725 & 0.040063315 & SER\\\\\n",
       "\t sexgirl &  -0.21530679 & 0.09065301 & -2.3750651 & 0.018597403 & TYR\\\\\n",
       "\\end{tabular}\n"
      ],
      "text/markdown": [
       "\n",
       "A tibble: 11 × 6\n",
       "\n",
       "| term &lt;chr&gt; | estimate &lt;dbl&gt; | std.error &lt;dbl&gt; | statistic &lt;dbl&gt; | p.value &lt;dbl&gt; | AA &lt;fct&gt; |\n",
       "|---|---|---|---|---|---|\n",
       "| sexgirl |  -0.10686670 | 0.12784422 | -0.8359135 | 0.404311832 | ARG |\n",
       "| sexgirl |  -0.49103477 | 0.40143256 | -1.2232061 | 0.222850827 | ASP |\n",
       "| sexgirl |  -1.48348397 | 1.38899957 | -1.0680234 | 0.286940243 | ALA |\n",
       "| sexgirl |   0.08834972 | 0.11945416 |  0.7396120 | 0.460498966 | ASN |\n",
       "| sexgirl |  -0.36488166 | 0.13414632 | -2.7200273 | 0.007167546 | CYS |\n",
       "| sexgirl |  -1.76619168 | 0.66729874 | -2.6467781 | 0.008846554 | GLY |\n",
       "| sexgirl | -13.73657310 | 5.62418996 | -2.4424092 | 0.015555734 | GLU |\n",
       "| sexgirl |  -2.95129058 | 2.84943254 | -1.0357468 | 0.301709750 | GLN |\n",
       "| sexgirl |  -0.35706764 | 0.29387192 | -1.2150451 | 0.225940268 | PRO |\n",
       "| sexgirl |  -1.19870274 | 0.57962318 | -2.0680725 | 0.040063315 | SER |\n",
       "| sexgirl |  -0.21530679 | 0.09065301 | -2.3750651 | 0.018597403 | TYR |\n",
       "\n"
      ],
      "text/plain": [
       "   term    estimate     std.error  statistic  p.value     AA \n",
       "1  sexgirl  -0.10686670 0.12784422 -0.8359135 0.404311832 ARG\n",
       "2  sexgirl  -0.49103477 0.40143256 -1.2232061 0.222850827 ASP\n",
       "3  sexgirl  -1.48348397 1.38899957 -1.0680234 0.286940243 ALA\n",
       "4  sexgirl   0.08834972 0.11945416  0.7396120 0.460498966 ASN\n",
       "5  sexgirl  -0.36488166 0.13414632 -2.7200273 0.007167546 CYS\n",
       "6  sexgirl  -1.76619168 0.66729874 -2.6467781 0.008846554 GLY\n",
       "7  sexgirl -13.73657310 5.62418996 -2.4424092 0.015555734 GLU\n",
       "8  sexgirl  -2.95129058 2.84943254 -1.0357468 0.301709750 GLN\n",
       "9  sexgirl  -0.35706764 0.29387192 -1.2150451 0.225940268 PRO\n",
       "10 sexgirl  -1.19870274 0.57962318 -2.0680725 0.040063315 SER\n",
       "11 sexgirl  -0.21530679 0.09065301 -2.3750651 0.018597403 TYR"
      ]
     },
     "metadata": {},
     "output_type": "display_data"
    }
   ],
   "source": [
    "me_coef_NE_S\n",
    "lm_coef_NE_S"
   ]
  },
  {
   "cell_type": "code",
   "execution_count": 60,
   "metadata": {},
   "outputs": [
    {
     "data": {
      "image/png": "[encoded data removed]",
      "text/plain": [
       "plot without title"
      ]
     },
     "metadata": {},
     "output_type": "display_data"
    }
   ],
   "source": [
    "#png(filename=\"./plots/NEAA_lm_coeff.png\", units=\"cm\", width=20, height=20, res = 300)\n",
    "ggplot(lm_coef_NE_S, aes(x = reorder(AA, estimate), y = estimate, color = AA)) + \n",
    "    geom_hline(yintercept = 0, alpha = 0.4) + \n",
    "    geom_point() + geom_pointrange( aes(x = AA, ymin = estimate - 2*std.error, ymax = estimate + 2*std.error)) + \n",
    "    theme(legend.position = \"none\") + \n",
    "    coord_flip() + \n",
    "    ggtitle('Non Essential AA \\n Estimate and 95% CI') + ylab('sex (<- boy)') + xlab('estimate')\n",
    "#dev.off()"
   ]
  },
  {
   "cell_type": "code",
   "execution_count": 61,
   "metadata": {},
   "outputs": [
    {
     "data": {
      "image/png": "[encoded data removed]",
      "text/plain": [
       "plot without title"
      ]
     },
     "metadata": {},
     "output_type": "display_data"
    }
   ],
   "source": [
    "\n",
    "#png(filename=\"./plots/NEAA_lm_coeff.png\", units=\"cm\", width=20, height=20, res = 300)\n",
    "ggplot(lm_coef_NE_S %>% filter(AA %in% c('TYR', 'SER')), aes(x = reorder(AA, estimate), y = estimate, color = AA)) + \n",
    "    geom_hline(yintercept = 0, alpha = 0.4) + \n",
    "    geom_point() + geom_pointrange( aes(x = AA, ymin = estimate - 2*std.error, ymax = estimate + 2*std.error)) + \n",
    "    theme(legend.position = \"none\") + \n",
    "    coord_flip() + \n",
    "    ggtitle('Non Essential AA \\n Estimate and 95% CI') + ylab('sex (<- boy)') + xlab('estimate')\n",
    "#dev.off()\n"
   ]
  },
  {
   "cell_type": "code",
   "execution_count": null,
   "metadata": {},
   "outputs": [],
   "source": []
  }
 ],
 "metadata": {
  "kernelspec": {
   "display_name": "R",
   "language": "R",
   "name": "ir"
  },
  "language_info": {
   "codemirror_mode": "r",
   "file_extension": ".r",
   "mimetype": "text/x-r-source",
   "name": "R",
   "pygments_lexer": "r",
   "version": "3.6.0"
  }
 },
 "nbformat": 4,
 "nbformat_minor": 2
}
