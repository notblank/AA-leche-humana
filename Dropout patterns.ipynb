{
 "cells": [
  {
   "cell_type": "code",
   "execution_count": 1,
   "metadata": {},
   "outputs": [
    {
     "name": "stderr",
     "output_type": "stream",
     "text": [
      "── \u001b[1mAttaching packages\u001b[22m ─────────────────────────────────────── tidyverse 1.2.1 ──\n",
      "\u001b[32m✔\u001b[39m \u001b[34mggplot2\u001b[39m 3.2.0     \u001b[32m✔\u001b[39m \u001b[34mpurrr  \u001b[39m 0.3.2\n",
      "\u001b[32m✔\u001b[39m \u001b[34mtibble \u001b[39m 2.1.3     \u001b[32m✔\u001b[39m \u001b[34mdplyr  \u001b[39m 0.8.2\n",
      "\u001b[32m✔\u001b[39m \u001b[34mtidyr  \u001b[39m 0.8.3     \u001b[32m✔\u001b[39m \u001b[34mstringr\u001b[39m 1.4.0\n",
      "\u001b[32m✔\u001b[39m \u001b[34mreadr  \u001b[39m 1.3.1     \u001b[32m✔\u001b[39m \u001b[34mforcats\u001b[39m 0.4.0\n",
      "── \u001b[1mConflicts\u001b[22m ────────────────────────────────────────── tidyverse_conflicts() ──\n",
      "\u001b[31m✖\u001b[39m \u001b[34mdplyr\u001b[39m::\u001b[32mfilter()\u001b[39m masks \u001b[34mstats\u001b[39m::filter()\n",
      "\u001b[31m✖\u001b[39m \u001b[34mdplyr\u001b[39m::\u001b[32mlag()\u001b[39m    masks \u001b[34mstats\u001b[39m::lag()\n",
      "Loading required package: Matrix\n",
      "\n",
      "Attaching package: ‘Matrix’\n",
      "\n",
      "The following object is masked from ‘package:tidyr’:\n",
      "\n",
      "    expand\n",
      "\n"
     ]
    }
   ],
   "source": [
    "library(haven)\n",
    "library(tidyverse)\n",
    "library(broom)\n",
    "library(lme4) "
   ]
  },
  {
   "cell_type": "code",
   "execution_count": 2,
   "metadata": {},
   "outputs": [],
   "source": [
    "aaSelect <- function(df, AA){\n",
    "    aaDf <- df %>% select(id = ID, group = GROUP, age = MATERNALAGE, sex = SEXO, starts_with(AA)) %>%\n",
    "                         mutate(id = factor(id), \n",
    "                                sex =  factor(sex, labels = c('girl', 'boy')),\n",
    "                                group = factor(group, labels = c('teen', 'adult'))) \n",
    "    \n",
    "    return(aaDf)\n",
    "}\n",
    "\n",
    "aaLong <-  function(df, AA){\n",
    "    aaL <- df %>% gather(week, level, starts_with(AA))\n",
    "    \n",
    "    aaL[aaL == paste(AA, 'Calostrum', sep = '')] = 1\n",
    "    aaL[aaL == paste(AA, 'Transition', sep = '')] = 2\n",
    "    aaL[aaL == paste(AA, 'Mature2m', sep = '')] = 8\n",
    "    aaL[aaL == paste(AA, 'Mature4m', sep = '')] = 16\n",
    "\n",
    "    aaL <- aaL %>% mutate(week = as.numeric(week))\n",
    "    \n",
    "    return(aaL)\n",
    "}"
   ]
  },
  {
   "cell_type": "code",
   "execution_count": 3,
   "metadata": {},
   "outputs": [
    {
     "data": {
      "text/html": [
       "<table>\n",
       "<caption>A tibble: 6 × 171</caption>\n",
       "<thead>\n",
       "\t<tr><th scope=col>ID</th><th scope=col>GROUP</th><th scope=col>MATERNALAGE</th><th scope=col>SEXO</th><th scope=col>INFANTDOB</th><th scope=col>MATBMI1COLL</th><th scope=col>MATBMI215d</th><th scope=col>MATBMI32mos</th><th scope=col>MATBMI44mos</th><th scope=col>BABYWeigth1g</th><th scope=col>⋯</th><th scope=col>ALAGLOB</th><th scope=col>ASNGLOB</th><th scope=col>SYSGLOB</th><th scope=col>GLYGLOB</th><th scope=col>GLUGLOB</th><th scope=col>GLNGLOB</th><th scope=col>PROLINEGLOB</th><th scope=col>SERINEGLOB</th><th scope=col>TYRAMINEGLOB</th><th scope=col>new</th></tr>\n",
       "\t<tr><th scope=col>&lt;dbl&gt;</th><th scope=col>&lt;dbl+lbl&gt;</th><th scope=col>&lt;dbl&gt;</th><th scope=col>&lt;dbl+lbl&gt;</th><th scope=col>&lt;date&gt;</th><th scope=col>&lt;dbl&gt;</th><th scope=col>&lt;dbl&gt;</th><th scope=col>&lt;dbl&gt;</th><th scope=col>&lt;dbl&gt;</th><th scope=col>&lt;dbl&gt;</th><th scope=col>⋯</th><th scope=col>&lt;dbl&gt;</th><th scope=col>&lt;dbl&gt;</th><th scope=col>&lt;dbl&gt;</th><th scope=col>&lt;dbl&gt;</th><th scope=col>&lt;dbl&gt;</th><th scope=col>&lt;dbl&gt;</th><th scope=col>&lt;dbl&gt;</th><th scope=col>&lt;dbl&gt;</th><th scope=col>&lt;dbl&gt;</th><th scope=col>&lt;dbl&gt;</th></tr>\n",
       "</thead>\n",
       "<tbody>\n",
       "\t<tr><td>1</td><td>0</td><td>17</td><td> 1</td><td>2009-08-20</td><td>25</td><td>24</td><td>24</td><td>22</td><td>3492.7</td><td>⋯</td><td>21.25</td><td>0.5</td><td>1.00</td><td>10.00</td><td> 87.25</td><td>23.25</td><td>2.75</td><td>8.0</td><td>1.00</td><td>0</td></tr>\n",
       "\t<tr><td>2</td><td>0</td><td>16</td><td> 2</td><td>2009-08-24</td><td>32</td><td>31</td><td>30</td><td>29</td><td>3392.9</td><td>⋯</td><td>18.25</td><td>0.0</td><td>0.75</td><td>13.75</td><td>100.50</td><td>40.50</td><td>2.50</td><td>9.5</td><td>0.75</td><td>0</td></tr>\n",
       "\t<tr><td>3</td><td>0</td><td>17</td><td> 2</td><td>2009-08-21</td><td>23</td><td>23</td><td>NA</td><td>NA</td><td>2993.8</td><td>⋯</td><td>   NA</td><td> NA</td><td>  NA</td><td>   NA</td><td>    NA</td><td>   NA</td><td>  NA</td><td> NA</td><td>  NA</td><td>0</td></tr>\n",
       "\t<tr><td>4</td><td>0</td><td>16</td><td> 2</td><td>2009-08-21</td><td>26</td><td>NA</td><td>NA</td><td>NA</td><td>3692.3</td><td>⋯</td><td>   NA</td><td> NA</td><td>  NA</td><td>   NA</td><td>    NA</td><td>   NA</td><td>  NA</td><td> NA</td><td>  NA</td><td>0</td></tr>\n",
       "\t<tr><td>5</td><td>0</td><td>16</td><td>NA</td><td>2009-08-29</td><td>25</td><td>NA</td><td>NA</td><td>NA</td><td>3592.5</td><td>⋯</td><td>   NA</td><td> NA</td><td>  NA</td><td>   NA</td><td>    NA</td><td>   NA</td><td>  NA</td><td> NA</td><td>  NA</td><td>0</td></tr>\n",
       "\t<tr><td>6</td><td>0</td><td>16</td><td> 2</td><td>2009-08-27</td><td>29</td><td>28</td><td>30</td><td>31</td><td>3093.5</td><td>⋯</td><td>15.50</td><td>0.5</td><td>1.50</td><td>10.25</td><td> 74.75</td><td>30.00</td><td>5.25</td><td>8.0</td><td>2.00</td><td>0</td></tr>\n",
       "</tbody>\n",
       "</table>\n"
      ],
      "text/latex": [
       "A tibble: 6 × 171\n",
       "\\begin{tabular}{r|lllllllllllllllllllllllllllllllllllllllllllllllllllllllllllllllllllllllllllllllllllllllllllllllllllllllllllllllllllllllllllllllllllllllllllllllllllllllllllllllllllllllllll}\n",
       " ID & GROUP & MATERNALAGE & SEXO & INFANTDOB & MATBMI1COLL & MATBMI215d & MATBMI32mos & MATBMI44mos & BABYWeigth1g & BABYWeigth2g & BABYWeigth3g & BABYWeigth4g & HeadCircumcm1 & HCcm2 & HCcm3 & HCcm4 & MATHeight1m & MATHeight2m & MATHeight3m & MATHeight4m & MATWeight1kg & MATWeight2kg & MATWeight3kg & MATWeight4kg & A.TOTALCALORIESKcal & B.TOTALCALORIESKcal & A.PROTEINg & B.PROTEINg & A.CHOg & B.CHOg & A.LIPIDSg & B.LIPIDSg & A.GLUCOSEmgdL & B.GLUCOSEmgdL & A.CHOLESTEROLmgdL & B.CHOLESTEROLmgdL & A.TRIGLYCERIDSmgdL & B.TRIGLYCERIDmgdL & A.HDLmgdL & B.HDLmgdL & A.LDLmgdL & B.LDLmgdL & A.PROTEINSgdL & B.PROTEINSgdL & A.ALBUMINgdL & B.ALBUMINgdL & edadr & Grupos & CALOSTRUMtotalAA & TRANSITIONtotalAA & MATURE2mtotalAA & MATURE4mtotalAA & CALOSTRUMessentialAA & TRANSITIONessentialAA & MATURE2messentialAA & MATURE4messentialAA & ARGCalostrum & ARGTransition & ARGMature2m & ARGMature4m & HISCalostrum & HISTransition & HISMature2m & HISMature4m & ILECalostrum & ILETransition & ILEMature2m & ILEMature4m & LEUCalostrum & LEUTransition & LEUMature2m & LEUMature4m & LYSCalostrum & LYSTransition & LYSMature2m & LYSMature4m & METCalostrum & METTransition & METMature2m & METMature4m & PHECalostrum & PHETransition & PHEMature2m & PHEMature4m & THRCalostrum & THRTransition & THRMature2m & THRMature4m & TRPCalostrum & TRPTransition & TRPMature2m & TRPMature4m & VALCalostrum & VALTransition & VALMature2m & VALMature4m & CALOSTRUMnonessentialAA & TRANSITIONnonessentialAA & MATURE2mnonessentialAA & MATURE4mnonessentialAA & ASPCalostrum & ASPTransition & ASPMature2m & ASPMature4m & ALACalostrum & ALATransition & ALAMature2m & ALAMature4m & ASNCalostrum & ASNTransition & ASNMature2m & ASNMature4m & CYSCalostrum & CYSTransition & CYSMature2m & CYSMature4m & GLYCalostrum & GLYTransition & GLYMature2m & GLYMature4m & GLUCalostrum & GLUTransition & GLUMature2m & GLUMature4m & GLNCalostrum & GLNTransition & GLNMature2m & GLNMature4m & PROCalostrum & PROTransition & PROMature2m & PROMature4m & SERCalostrum & SERTransition & SERMature2m & SERMature4m & TYRCalostrum & TYRTransition & TYRMature2m & TYRMature4m & filter\\_\\$ & CAL1NONE & TRANS2NONE & MAT3NONE & MAT4NONE & ADOEXTR & TotalAAGLOB & EssentAAGLOB & ARGGLOB & HISTGLOB & ISOLGLOB & LEUCINEGLOB & LYSINEGLOB & METHIONGLOB & PHENYLGLOB & THREOGLOB & TRYPTOGLOB & VALINEGLOB & NONESSENGLOB & ASPGLOB & ALAGLOB & ASNGLOB & SYSGLOB & GLYGLOB & GLUGLOB & GLNGLOB & PROLINEGLOB & SERINEGLOB & TYRAMINEGLOB & new\\\\\n",
       " <dbl> & <dbl+lbl> & <dbl> & <dbl+lbl> & <date> & <dbl> & <dbl> & <dbl> & <dbl> & <dbl> & <dbl> & <dbl> & <dbl> & <dbl> & <dbl> & <dbl> & <dbl> & <dbl> & <dbl> & <dbl> & <dbl> & <dbl> & <dbl> & <dbl> & <dbl> & <dbl> & <dbl> & <dbl> & <dbl> & <dbl> & <dbl> & <dbl> & <dbl> & <dbl> & <dbl> & <dbl> & <dbl> & <dbl> & <dbl> & <dbl> & <dbl> & <dbl> & <dbl> & <dbl> & <dbl> & <dbl> & <dbl> & <dbl> & <dbl> & <dbl> & <dbl> & <dbl> & <dbl> & <dbl> & <dbl> & <dbl> & <dbl> & <dbl> & <dbl> & <dbl> & <dbl> & <dbl> & <dbl> & <dbl> & <dbl> & <dbl> & <dbl> & <dbl> & <dbl> & <dbl> & <dbl> & <dbl> & <dbl> & <dbl> & <dbl> & <dbl> & <dbl> & <dbl> & <dbl> & <dbl> & <dbl> & <dbl> & <dbl> & <dbl> & <dbl> & <dbl> & <dbl> & <dbl> & <dbl> & <dbl> & <dbl> & <dbl> & <dbl> & <dbl> & <dbl> & <dbl> & <dbl> & <dbl> & <dbl> & <dbl> & <dbl> & <dbl> & <dbl> & <dbl> & <dbl> & <dbl> & <dbl> & <dbl> & <dbl> & <dbl> & <dbl> & <dbl> & <dbl> & <dbl> & <dbl> & <dbl> & <dbl> & <dbl> & <dbl> & <dbl> & <dbl> & <dbl> & <dbl> & <dbl> & <dbl> & <dbl> & <dbl> & <dbl> & <dbl> & <dbl> & <dbl> & <dbl> & <dbl> & <dbl> & <dbl> & <dbl> & <dbl> & <dbl> & <dbl> & <dbl> & <dbl> & <dbl+lbl> & <dbl> & <dbl> & <dbl> & <dbl> & <dbl+lbl> & <dbl> & <dbl> & <dbl> & <dbl> & <dbl> & <dbl> & <dbl> & <dbl> & <dbl> & <dbl> & <dbl> & <dbl> & <dbl> & <dbl> & <dbl> & <dbl> & <dbl> & <dbl> & <dbl> & <dbl> & <dbl> & <dbl> & <dbl> & <dbl>\\\\\n",
       "\\hline\n",
       "\t 1 & 0 & 17 &  1 & 2009-08-20 & 25 & 24 & 24 & 22 & 3492.7 & 3592.5 & 5488.6 & 8282.74 & 34 & 37 & 39 & 42 & 1.48 & 1.48 & 1.48 & 1.48 & 54.4 & 51.7 & 52.6 & 48.3 & 4204 & 3571 & 103 & 114 & 759 & 605 & 86 & 76 & 115.0 &  84.7 & 205 & 135.8 & 304.9 &  79.3 & 23.7 & 38.4 & 120.4 &  81.5 & 7.43 & 6.92 & 4.44 & 5.55 & 1 & 1 & 166.10 & 186.01 & 189.40 & 167.38 & 14.63 & 24.07 & 18.35 & 19.22 & 1 &  1 &  1 &  1 & 2 &  2 &  2 &  1 & 0 &  1 &  1 &  1 & 1 &  3 &  2 &  2 & 2 &  1 &  1 &  1 & 0 &  0 &  0 &  0 & NA &  1 &  1 &  1 & 5 &  9 &  5 &  9 & 0 &  0 &  0 &  0 & 2 &  5 &  5 &  4 & 151.47 & 161.93 & 171.05 & 148.16 & 3 &  5 &  4 &  1 & 18 & 29 & 23 & 15 & 2 &  0 &  0 &  0 & 1 &  1 &  1 &  1 & 10 &  9 & 10 & 11 & 89 &  89 &  99 &  72 & 20 & 17 & 22 & 34 & 3 &  3 &  3 &  2 & 5 &  8 &  8 & 11 & 1 &  1 &  1 &  1 & 1 & 151.47 & 161.93 & 171.05 & 148.16 & 2 & 177.2225 & 19.0675 & 1.00 & 1.75 & 0.75 & 2.00 & 1.25 & 0.00 &   NA & 7.00 &  0 & 4.00 & 158.1525 & 3.25 & 21.25 & 0.5 & 1.00 & 10.00 &  87.25 & 23.25 & 2.75 & 8.0 & 1.00 & 0\\\\\n",
       "\t 2 & 0 & 16 &  2 & 2009-08-24 & 32 & 31 & 30 & 29 & 3392.9 & 4091.5 & 5987.5 & 7883.57 & 35 & 37 & 38 & 41 & 1.52 & 1.52 & 1.52 & 1.52 & 74.7 & 71.7 & 69.0 & 65.9 & 1586 & 2416 &  27 &  65 & 242 & 401 & 34 & 61 & 107.8 &  86.7 & 196 & 160.0 & 193.0 &  86.7 & 34.5 & 30.1 & 122.9 & 112.6 & 7.08 & 7.59 & 4.42 & 5.61 & 1 & 1 &  22.35 & 233.20 & 197.11 & 366.14 &  6.74 & 20.50 & 11.41 & 17.19 & 1 &  1 &  1 &  1 & 1 &  3 &  2 &  2 & 0 &  1 &  0 &  1 & 1 &  2 &  1 &  2 & 1 &  1 &  1 &  1 & 0 &  1 &  0 &  0 &  0 &  1 &  1 &  1 & 1 &  8 &  3 &  5 & 0 &  0 &  0 &  0 & 1 &  4 &  2 &  4 &  15.62 & 212.70 & 185.70 & 348.95 & 1 &  2 &  4 &  9 &  2 & 20 & 21 & 30 & 0 &  0 &  0 &  0 & 0 &  1 &  1 &  1 &  3 & 17 & 15 & 20 &  4 & 103 & 104 & 191 &  1 & 53 & 29 & 79 & 2 &  3 &  3 &  2 & 3 & 12 &  7 & 16 & 0 &  1 &  1 &  1 & 1 &  15.62 & 212.70 & 185.70 & 348.95 & 1 & 204.7000 & 13.9600 & 1.00 & 2.00 & 0.50 & 1.50 & 1.00 & 0.25 & 0.75 & 4.25 &  0 & 2.75 & 190.7425 & 4.00 & 18.25 & 0.0 & 0.75 & 13.75 & 100.50 & 40.50 & 2.50 & 9.5 & 0.75 & 0\\\\\n",
       "\t 3 & 0 & 17 &  2 & 2009-08-21 & 23 & 23 & NA & NA & 2993.8 & 3592.5 &     NA &      NA & 35 & 37 & NA & NA & 1.55 & 1.55 & 1.55 & 1.55 & 56.4 & 54.7 &   NA &   NA & 2052 &   NA &  88 &  NA & 281 &  NA & 67 & NA &  87.2 &    NA & 346 &    NA & 285.0 &    NA & 23.0 &   NA & 266.0 &    NA & 8.35 &   NA & 4.79 &   NA & 1 & 1 & 128.53 & 266.21 &     NA &     NA & 18.49 & 25.04 &    NA &    NA & 1 &  1 & NA & NA & 2 &  3 & NA & NA & 1 &  1 & NA & NA & 2 &  2 & NA & NA & 2 &  1 & NA & NA & 0 &  0 & NA & NA &  1 &  1 & NA & NA & 8 & 12 & NA & NA & 0 &  0 & NA & NA & 3 &  4 & NA & NA & 110.03 & 241.16 &     NA &     NA & 4 &  7 & NA & NA & 20 & 35 & NA & NA & 0 &  0 & NA & NA & 2 &  2 & NA & NA &  5 & 13 & NA & NA & 54 & 122 &  NA &  NA & 16 & 43 & NA & NA & 3 &  3 & NA & NA & 6 & 14 & NA & NA & 1 &  1 & NA & NA & 1 & 110.03 & 241.16 &   0.00 &   0.00 & 2 &       NA &      NA &   NA &   NA &   NA &   NA &   NA &   NA &   NA &   NA & NA &   NA &       NA &   NA &    NA &  NA &   NA &    NA &     NA &    NA &   NA &  NA &   NA & 0\\\\\n",
       "\t 4 & 0 & 16 &  2 & 2009-08-21 & 26 & NA & NA & NA & 3692.3 &     NA &     NA &      NA & 37 & NA & NA & NA & 1.60 &   NA &   NA &   NA & 65.9 &   NA &   NA &   NA &   NA &   NA &  NA &  NA &  NA &  NA & NA & NA &  95.7 &    NA & 273 &    NA & 143.2 &    NA & 39.9 &   NA & 204.4 &    NA & 7.12 &   NA & 4.47 &   NA & 1 & 1 &  71.85 &     NA &     NA &     NA &  8.59 &    NA &    NA &    NA & 1 & NA & NA & NA & 1 & NA & NA & NA & 0 & NA & NA & NA & 1 & NA & NA & NA & 1 & NA & NA & NA & 0 & NA & NA & NA &  0 & NA & NA & NA & 2 & NA & NA & NA & 0 & NA & NA & NA & 2 & NA & NA & NA &  63.27 &     NA &     NA &     NA & 1 & NA & NA & NA &  6 & NA & NA & NA & 0 & NA & NA & NA & 1 & NA & NA & NA &  4 & NA & NA & NA & 33 &  NA &  NA &  NA & 10 & NA & NA & NA & 3 & NA & NA & NA & 4 & NA & NA & NA & 1 & NA & NA & NA & 1 &  63.27 &   0.00 &   0.00 &   0.00 & 1 &       NA &      NA &   NA &   NA &   NA &   NA &   NA &   NA &   NA &   NA & NA &   NA &       NA &   NA &    NA &  NA &   NA &    NA &     NA &    NA &   NA &  NA &   NA & 0\\\\\n",
       "\t 5 & 0 & 16 & NA & 2009-08-29 & 25 & NA & NA & NA & 3592.5 &     NA &     NA &      NA & 34 & NA & NA & NA & 1.51 &   NA &   NA &   NA & 56.5 &   NA &   NA &   NA & 1621 &   NA &  63 &  NA & 270 &  NA & 38 & NA &  73.9 &    NA & 266 &    NA & 123.0 &    NA & 37.7 &   NA & 203.7 &    NA & 6.90 &   NA & 4.39 &   NA & 1 & 1 &  54.19 &     NA &     NA &     NA & 11.05 &    NA &    NA &    NA & 2 & NA & NA & NA & 1 & NA & NA & NA & 0 & NA & NA & NA & 1 & NA & NA & NA & 3 & NA & NA & NA & 0 & NA & NA & NA &  0 & NA & NA & NA & 3 & NA & NA & NA & 0 & NA & NA & NA & 1 & NA & NA & NA &  43.14 &     NA &     NA &     NA & 1 & NA & NA & NA &  5 & NA & NA & NA & 0 & NA & NA & NA & 0 & NA & NA & NA &  3 & NA & NA & NA & 23 &  NA &  NA &  NA &  4 & NA & NA & NA & 2 & NA & NA & NA & 4 & NA & NA & NA & 0 & NA & NA & NA & 1 &  43.14 &   0.00 &   0.00 &   0.00 & 1 &       NA &      NA &   NA &   NA &   NA &   NA &   NA &   NA &   NA &   NA & NA &   NA &       NA &   NA &    NA &  NA &   NA &    NA &     NA &    NA &   NA &  NA &   NA & 0\\\\\n",
       "\t 6 & 0 & 16 &  2 & 2009-08-27 & 29 & 28 & 30 & 31 & 3093.5 & 3392.9 & 4989.6 & 6785.80 & 35 & 36 & 39 & 44 & 1.57 & 1.57 & 1.57 & 1.57 & 71.2 & 69.5 & 72.9 & 76.2 & 1932 &  970 & 100 &  56 & 311 & 131 & 28 & 30 & 100.7 & 117.1 & 224 & 221.0 & 289.0 & 120.0 & 21.9 & 55.0 & 144.3 & 142.0 & 7.72 & 6.77 & 4.49 & 4.72 & 1 & 1 &  79.75 & 155.78 & 201.10 & 248.13 & 14.20 & 20.89 & 22.26 & 24.01 & 2 &  3 &  2 &  2 & 1 &  2 &  2 &  2 & 1 &  1 &  1 &  1 & 1 &  2 &  2 &  2 & 3 &  4 &  2 &  2 & 0 &  0 &  0 &  0 &  0 &  1 &  1 &  1 & 4 &  5 &  6 &  8 & 0 &  0 &  0 &  0 & 2 &  3 &  5 &  4 &  65.55 & 134.89 & 178.85 & 224.13 & 1 &  3 &  3 &  5 &  5 & 17 & 17 & 23 & 1 &  0 &  1 &  0 & 1 &  1 &  2 &  2 &  4 & 10 & 12 & 15 & 30 &  67 &  92 & 110 & 12 & 22 & 36 & 50 & 5 &  6 &  5 &  5 & 4 &  7 &  9 & 12 & 1 &  2 &  2 &  3 & 1 &  65.55 & 134.89 & 178.85 & 224.13 & 1 & 171.1900 & 20.3400 & 2.25 & 1.75 & 1.00 & 1.75 & 2.75 & 0.00 & 0.75 & 5.75 &  0 & 3.50 & 150.8550 & 3.00 & 15.50 & 0.5 & 1.50 & 10.25 &  74.75 & 30.00 & 5.25 & 8.0 & 2.00 & 0\\\\\n",
       "\\end{tabular}\n"
      ],
      "text/markdown": [
       "\n",
       "A tibble: 6 × 171\n",
       "\n",
       "| ID &lt;dbl&gt; | GROUP &lt;dbl+lbl&gt; | MATERNALAGE &lt;dbl&gt; | SEXO &lt;dbl+lbl&gt; | INFANTDOB &lt;date&gt; | MATBMI1COLL &lt;dbl&gt; | MATBMI215d &lt;dbl&gt; | MATBMI32mos &lt;dbl&gt; | MATBMI44mos &lt;dbl&gt; | BABYWeigth1g &lt;dbl&gt; | ⋯ ⋯ | ALAGLOB &lt;dbl&gt; | ASNGLOB &lt;dbl&gt; | SYSGLOB &lt;dbl&gt; | GLYGLOB &lt;dbl&gt; | GLUGLOB &lt;dbl&gt; | GLNGLOB &lt;dbl&gt; | PROLINEGLOB &lt;dbl&gt; | SERINEGLOB &lt;dbl&gt; | TYRAMINEGLOB &lt;dbl&gt; | new &lt;dbl&gt; |\n",
       "|---|---|---|---|---|---|---|---|---|---|---|---|---|---|---|---|---|---|---|---|---|\n",
       "| 1 | 0 | 17 |  1 | 2009-08-20 | 25 | 24 | 24 | 22 | 3492.7 | ⋯ | 21.25 | 0.5 | 1.00 | 10.00 |  87.25 | 23.25 | 2.75 | 8.0 | 1.00 | 0 |\n",
       "| 2 | 0 | 16 |  2 | 2009-08-24 | 32 | 31 | 30 | 29 | 3392.9 | ⋯ | 18.25 | 0.0 | 0.75 | 13.75 | 100.50 | 40.50 | 2.50 | 9.5 | 0.75 | 0 |\n",
       "| 3 | 0 | 17 |  2 | 2009-08-21 | 23 | 23 | NA | NA | 2993.8 | ⋯ |    NA |  NA |   NA |    NA |     NA |    NA |   NA |  NA |   NA | 0 |\n",
       "| 4 | 0 | 16 |  2 | 2009-08-21 | 26 | NA | NA | NA | 3692.3 | ⋯ |    NA |  NA |   NA |    NA |     NA |    NA |   NA |  NA |   NA | 0 |\n",
       "| 5 | 0 | 16 | NA | 2009-08-29 | 25 | NA | NA | NA | 3592.5 | ⋯ |    NA |  NA |   NA |    NA |     NA |    NA |   NA |  NA |   NA | 0 |\n",
       "| 6 | 0 | 16 |  2 | 2009-08-27 | 29 | 28 | 30 | 31 | 3093.5 | ⋯ | 15.50 | 0.5 | 1.50 | 10.25 |  74.75 | 30.00 | 5.25 | 8.0 | 2.00 | 0 |\n",
       "\n"
      ],
      "text/plain": [
       "  ID GROUP MATERNALAGE SEXO INFANTDOB  MATBMI1COLL MATBMI215d MATBMI32mos\n",
       "1 1  0     17           1   2009-08-20 25          24         24         \n",
       "2 2  0     16           2   2009-08-24 32          31         30         \n",
       "3 3  0     17           2   2009-08-21 23          23         NA         \n",
       "4 4  0     16           2   2009-08-21 26          NA         NA         \n",
       "5 5  0     16          NA   2009-08-29 25          NA         NA         \n",
       "6 6  0     16           2   2009-08-27 29          28         30         \n",
       "  MATBMI44mos BABYWeigth1g ⋯ ALAGLOB ASNGLOB SYSGLOB GLYGLOB GLUGLOB GLNGLOB\n",
       "1 22          3492.7       ⋯ 21.25   0.5     1.00    10.00    87.25  23.25  \n",
       "2 29          3392.9       ⋯ 18.25   0.0     0.75    13.75   100.50  40.50  \n",
       "3 NA          2993.8       ⋯    NA    NA       NA       NA       NA     NA  \n",
       "4 NA          3692.3       ⋯    NA    NA       NA       NA       NA     NA  \n",
       "5 NA          3592.5       ⋯    NA    NA       NA       NA       NA     NA  \n",
       "6 31          3093.5       ⋯ 15.50   0.5     1.50    10.25    74.75  30.00  \n",
       "  PROLINEGLOB SERINEGLOB TYRAMINEGLOB new\n",
       "1 2.75        8.0        1.00         0  \n",
       "2 2.50        9.5        0.75         0  \n",
       "3   NA         NA          NA         0  \n",
       "4   NA         NA          NA         0  \n",
       "5   NA         NA          NA         0  \n",
       "6 5.25        8.0        2.00         0  "
      ]
     },
     "metadata": {},
     "output_type": "display_data"
    }
   ],
   "source": [
    "AA_Sex_1 <- read_sav(\"~/Documents/AA-leche-humana/datos/AMINOACIDOS POR SEXO_1.sav\")\n",
    "head(AA_Sex_1)"
   ]
  },
  {
   "cell_type": "code",
   "execution_count": 7,
   "metadata": {},
   "outputs": [
    {
     "name": "stderr",
     "output_type": "stream",
     "text": [
      "Warning message:\n",
      "\"attributes are not identical across measure variables; they will be dropped\""
     ]
    },
    {
     "data": {
      "text/html": [
       "<table>\n",
       "<thead><tr><th scope=col>id</th><th scope=col>group</th><th scope=col>age</th><th scope=col>sex</th><th scope=col>GLUCalostrum</th><th scope=col>GLUTransition</th><th scope=col>GLUMature2m</th><th scope=col>GLUMature4m</th></tr></thead>\n",
       "<tbody>\n",
       "\t<tr><td>1   </td><td>teen</td><td>17  </td><td>girl</td><td>89  </td><td> 89 </td><td> 99 </td><td> 72 </td></tr>\n",
       "\t<tr><td>2   </td><td>teen</td><td>16  </td><td>boy </td><td> 4  </td><td>103 </td><td>104 </td><td>191 </td></tr>\n",
       "\t<tr><td>3   </td><td>teen</td><td>17  </td><td>boy </td><td>54  </td><td>122 </td><td> NA </td><td> NA </td></tr>\n",
       "\t<tr><td>4   </td><td>teen</td><td>16  </td><td>boy </td><td>33  </td><td> NA </td><td> NA </td><td> NA </td></tr>\n",
       "\t<tr><td>6   </td><td>teen</td><td>16  </td><td>boy </td><td>30  </td><td> 67 </td><td> 92 </td><td>110 </td></tr>\n",
       "\t<tr><td>7   </td><td>teen</td><td>16  </td><td>boy </td><td>34  </td><td> 97 </td><td>115 </td><td>130 </td></tr>\n",
       "</tbody>\n",
       "</table>\n"
      ],
      "text/latex": [
       "\\begin{tabular}{r|llllllll}\n",
       " id & group & age & sex & GLUCalostrum & GLUTransition & GLUMature2m & GLUMature4m\\\\\n",
       "\\hline\n",
       "\t 1    & teen & 17   & girl & 89   &  89  &  99  &  72 \\\\\n",
       "\t 2    & teen & 16   & boy  &  4   & 103  & 104  & 191 \\\\\n",
       "\t 3    & teen & 17   & boy  & 54   & 122  &  NA  &  NA \\\\\n",
       "\t 4    & teen & 16   & boy  & 33   &  NA  &  NA  &  NA \\\\\n",
       "\t 6    & teen & 16   & boy  & 30   &  67  &  92  & 110 \\\\\n",
       "\t 7    & teen & 16   & boy  & 34   &  97  & 115  & 130 \\\\\n",
       "\\end{tabular}\n"
      ],
      "text/markdown": [
       "\n",
       "id | group | age | sex | GLUCalostrum | GLUTransition | GLUMature2m | GLUMature4m | \n",
       "|---|---|---|---|---|---|\n",
       "| 1    | teen | 17   | girl | 89   |  89  |  99  |  72  | \n",
       "| 2    | teen | 16   | boy  |  4   | 103  | 104  | 191  | \n",
       "| 3    | teen | 17   | boy  | 54   | 122  |  NA  |  NA  | \n",
       "| 4    | teen | 16   | boy  | 33   |  NA  |  NA  |  NA  | \n",
       "| 6    | teen | 16   | boy  | 30   |  67  |  92  | 110  | \n",
       "| 7    | teen | 16   | boy  | 34   |  97  | 115  | 130  | \n",
       "\n",
       "\n"
      ],
      "text/plain": [
       "  id group age sex  GLUCalostrum GLUTransition GLUMature2m GLUMature4m\n",
       "1 1  teen  17  girl 89            89            99          72        \n",
       "2 2  teen  16  boy   4           103           104         191        \n",
       "3 3  teen  17  boy  54           122            NA          NA        \n",
       "4 4  teen  16  boy  33            NA            NA          NA        \n",
       "5 6  teen  16  boy  30            67            92         110        \n",
       "6 7  teen  16  boy  34            97           115         130        "
      ]
     },
     "metadata": {},
     "output_type": "display_data"
    }
   ],
   "source": [
    "AA <- 'GLU'\n",
    "\n",
    "AAdf <- aaSelect(AA_Sex_1, AA) %>% select(-contains('GLOB')) \n",
    "AAdf <- AAdf %>% filter(!is.na(AAdf$sex))\n",
    "AAdfLong <- aaLong(AAdf, AA)\n",
    "\n",
    "head(AAdf)"
   ]
  },
  {
   "cell_type": "code",
   "execution_count": 116,
   "metadata": {},
   "outputs": [
    {
     "data": {
      "text/html": [
       "<table>\n",
       "<thead><tr><th scope=col>id</th><th scope=col>group</th><th scope=col>age</th><th scope=col>sex</th><th scope=col>GLUCalostrum</th><th scope=col>GLUTransition</th><th scope=col>GLUMature2m</th><th scope=col>GLUMature4m</th></tr></thead>\n",
       "<tbody>\n",
       "\t<tr><td>3    </td><td>teen </td><td>17   </td><td>boy  </td><td> 54  </td><td>122  </td><td> NA  </td><td> NA  </td></tr>\n",
       "\t<tr><td>4    </td><td>teen </td><td>16   </td><td>boy  </td><td> 33  </td><td> NA  </td><td> NA  </td><td> NA  </td></tr>\n",
       "\t<tr><td>9    </td><td>teen </td><td>17   </td><td>girl </td><td> 27  </td><td> 72  </td><td> NA  </td><td> NA  </td></tr>\n",
       "\t<tr><td>10   </td><td>teen </td><td>18   </td><td>boy  </td><td> 84  </td><td>141  </td><td> NA  </td><td> NA  </td></tr>\n",
       "\t<tr><td>11   </td><td>teen </td><td>17   </td><td>boy  </td><td> 64  </td><td> 84  </td><td> NA  </td><td>158  </td></tr>\n",
       "\t<tr><td>12   </td><td>teen </td><td>16   </td><td>girl </td><td> 17  </td><td> NA  </td><td> NA  </td><td> NA  </td></tr>\n",
       "\t<tr><td>16   </td><td>teen </td><td>15   </td><td>boy  </td><td> 43  </td><td>197  </td><td>179  </td><td> NA  </td></tr>\n",
       "\t<tr><td>17   </td><td>teen </td><td>16   </td><td>boy  </td><td>  9  </td><td> 79  </td><td>117  </td><td> NA  </td></tr>\n",
       "\t<tr><td>18   </td><td>teen </td><td>16   </td><td>boy  </td><td> 69  </td><td> 85  </td><td>184  </td><td> NA  </td></tr>\n",
       "\t<tr><td>19   </td><td>teen </td><td>14   </td><td>boy  </td><td>  3  </td><td> 70  </td><td>138  </td><td> NA  </td></tr>\n",
       "\t<tr><td>21   </td><td>teen </td><td>18   </td><td>girl </td><td> 27  </td><td> NA  </td><td> NA  </td><td> NA  </td></tr>\n",
       "\t<tr><td>22   </td><td>teen </td><td>16   </td><td>boy  </td><td> 51  </td><td> 79  </td><td> NA  </td><td> NA  </td></tr>\n",
       "\t<tr><td>24   </td><td>teen </td><td>18   </td><td>boy  </td><td> 17  </td><td> NA  </td><td> NA  </td><td> NA  </td></tr>\n",
       "\t<tr><td>25   </td><td>teen </td><td>17   </td><td>boy  </td><td>100  </td><td> NA  </td><td> NA  </td><td> NA  </td></tr>\n",
       "\t<tr><td>26   </td><td>teen </td><td>15   </td><td>girl </td><td>  3  </td><td>130  </td><td>200  </td><td> NA  </td></tr>\n",
       "\t<tr><td>29   </td><td>teen </td><td>16   </td><td>girl </td><td>  6  </td><td> 60  </td><td> 98  </td><td> NA  </td></tr>\n",
       "\t<tr><td>33   </td><td>teen </td><td>16   </td><td>girl </td><td>115  </td><td> NA  </td><td> NA  </td><td> NA  </td></tr>\n",
       "\t<tr><td>34   </td><td>teen </td><td>16   </td><td>girl </td><td> 45  </td><td> NA  </td><td> NA  </td><td> NA  </td></tr>\n",
       "\t<tr><td>35   </td><td>teen </td><td>18   </td><td>boy  </td><td> 46  </td><td> NA  </td><td>136  </td><td>144  </td></tr>\n",
       "\t<tr><td>36   </td><td>teen </td><td>16   </td><td>girl </td><td> 27  </td><td>110  </td><td> NA  </td><td>  2  </td></tr>\n",
       "\t<tr><td>38   </td><td>teen </td><td>17   </td><td>boy  </td><td> 75  </td><td>110  </td><td> NA  </td><td> NA  </td></tr>\n",
       "\t<tr><td>45   </td><td>adult</td><td>23   </td><td>boy  </td><td> 48  </td><td> NA  </td><td> NA  </td><td> NA  </td></tr>\n",
       "\t<tr><td>46   </td><td>adult</td><td>19   </td><td>girl </td><td>  7  </td><td> 40  </td><td> NA  </td><td> 74  </td></tr>\n",
       "\t<tr><td>47   </td><td>adult</td><td>20   </td><td>boy  </td><td> 19  </td><td> NA  </td><td> NA  </td><td> NA  </td></tr>\n",
       "\t<tr><td>48   </td><td>adult</td><td>19   </td><td>boy  </td><td> 34  </td><td> 48  </td><td> NA  </td><td>110  </td></tr>\n",
       "\t<tr><td>49   </td><td>adult</td><td>20   </td><td>girl </td><td> 17  </td><td> NA  </td><td> NA  </td><td> NA  </td></tr>\n",
       "\t<tr><td>50   </td><td>adult</td><td>20   </td><td>boy  </td><td> 55  </td><td> NA  </td><td> NA  </td><td> NA  </td></tr>\n",
       "\t<tr><td>51   </td><td>adult</td><td>23   </td><td>girl </td><td>  4  </td><td> 82  </td><td> NA  </td><td> 99  </td></tr>\n",
       "\t<tr><td>59   </td><td>adult</td><td>27   </td><td>boy  </td><td> 92  </td><td> 72  </td><td> 81  </td><td> NA  </td></tr>\n",
       "\t<tr><td>65   </td><td>adult</td><td>19   </td><td>girl </td><td> 26  </td><td> NA  </td><td> NA  </td><td> NA  </td></tr>\n",
       "\t<tr><td>66   </td><td>adult</td><td>22   </td><td>boy  </td><td> 59  </td><td> NA  </td><td>128  </td><td>122  </td></tr>\n",
       "\t<tr><td>67   </td><td>adult</td><td>19   </td><td>girl </td><td> 40  </td><td> 76  </td><td> NA  </td><td>118  </td></tr>\n",
       "</tbody>\n",
       "</table>\n"
      ],
      "text/latex": [
       "\\begin{tabular}{r|llllllll}\n",
       " id & group & age & sex & GLUCalostrum & GLUTransition & GLUMature2m & GLUMature4m\\\\\n",
       "\\hline\n",
       "\t 3     & teen  & 17    & boy   &  54   & 122   &  NA   &  NA  \\\\\n",
       "\t 4     & teen  & 16    & boy   &  33   &  NA   &  NA   &  NA  \\\\\n",
       "\t 9     & teen  & 17    & girl  &  27   &  72   &  NA   &  NA  \\\\\n",
       "\t 10    & teen  & 18    & boy   &  84   & 141   &  NA   &  NA  \\\\\n",
       "\t 11    & teen  & 17    & boy   &  64   &  84   &  NA   & 158  \\\\\n",
       "\t 12    & teen  & 16    & girl  &  17   &  NA   &  NA   &  NA  \\\\\n",
       "\t 16    & teen  & 15    & boy   &  43   & 197   & 179   &  NA  \\\\\n",
       "\t 17    & teen  & 16    & boy   &   9   &  79   & 117   &  NA  \\\\\n",
       "\t 18    & teen  & 16    & boy   &  69   &  85   & 184   &  NA  \\\\\n",
       "\t 19    & teen  & 14    & boy   &   3   &  70   & 138   &  NA  \\\\\n",
       "\t 21    & teen  & 18    & girl  &  27   &  NA   &  NA   &  NA  \\\\\n",
       "\t 22    & teen  & 16    & boy   &  51   &  79   &  NA   &  NA  \\\\\n",
       "\t 24    & teen  & 18    & boy   &  17   &  NA   &  NA   &  NA  \\\\\n",
       "\t 25    & teen  & 17    & boy   & 100   &  NA   &  NA   &  NA  \\\\\n",
       "\t 26    & teen  & 15    & girl  &   3   & 130   & 200   &  NA  \\\\\n",
       "\t 29    & teen  & 16    & girl  &   6   &  60   &  98   &  NA  \\\\\n",
       "\t 33    & teen  & 16    & girl  & 115   &  NA   &  NA   &  NA  \\\\\n",
       "\t 34    & teen  & 16    & girl  &  45   &  NA   &  NA   &  NA  \\\\\n",
       "\t 35    & teen  & 18    & boy   &  46   &  NA   & 136   & 144  \\\\\n",
       "\t 36    & teen  & 16    & girl  &  27   & 110   &  NA   &   2  \\\\\n",
       "\t 38    & teen  & 17    & boy   &  75   & 110   &  NA   &  NA  \\\\\n",
       "\t 45    & adult & 23    & boy   &  48   &  NA   &  NA   &  NA  \\\\\n",
       "\t 46    & adult & 19    & girl  &   7   &  40   &  NA   &  74  \\\\\n",
       "\t 47    & adult & 20    & boy   &  19   &  NA   &  NA   &  NA  \\\\\n",
       "\t 48    & adult & 19    & boy   &  34   &  48   &  NA   & 110  \\\\\n",
       "\t 49    & adult & 20    & girl  &  17   &  NA   &  NA   &  NA  \\\\\n",
       "\t 50    & adult & 20    & boy   &  55   &  NA   &  NA   &  NA  \\\\\n",
       "\t 51    & adult & 23    & girl  &   4   &  82   &  NA   &  99  \\\\\n",
       "\t 59    & adult & 27    & boy   &  92   &  72   &  81   &  NA  \\\\\n",
       "\t 65    & adult & 19    & girl  &  26   &  NA   &  NA   &  NA  \\\\\n",
       "\t 66    & adult & 22    & boy   &  59   &  NA   & 128   & 122  \\\\\n",
       "\t 67    & adult & 19    & girl  &  40   &  76   &  NA   & 118  \\\\\n",
       "\\end{tabular}\n"
      ],
      "text/markdown": [
       "\n",
       "id | group | age | sex | GLUCalostrum | GLUTransition | GLUMature2m | GLUMature4m | \n",
       "|---|---|---|---|---|---|---|---|---|---|---|---|---|---|---|---|---|---|---|---|---|---|---|---|---|---|---|---|---|---|---|---|\n",
       "| 3     | teen  | 17    | boy   |  54   | 122   |  NA   |  NA   | \n",
       "| 4     | teen  | 16    | boy   |  33   |  NA   |  NA   |  NA   | \n",
       "| 9     | teen  | 17    | girl  |  27   |  72   |  NA   |  NA   | \n",
       "| 10    | teen  | 18    | boy   |  84   | 141   |  NA   |  NA   | \n",
       "| 11    | teen  | 17    | boy   |  64   |  84   |  NA   | 158   | \n",
       "| 12    | teen  | 16    | girl  |  17   |  NA   |  NA   |  NA   | \n",
       "| 16    | teen  | 15    | boy   |  43   | 197   | 179   |  NA   | \n",
       "| 17    | teen  | 16    | boy   |   9   |  79   | 117   |  NA   | \n",
       "| 18    | teen  | 16    | boy   |  69   |  85   | 184   |  NA   | \n",
       "| 19    | teen  | 14    | boy   |   3   |  70   | 138   |  NA   | \n",
       "| 21    | teen  | 18    | girl  |  27   |  NA   |  NA   |  NA   | \n",
       "| 22    | teen  | 16    | boy   |  51   |  79   |  NA   |  NA   | \n",
       "| 24    | teen  | 18    | boy   |  17   |  NA   |  NA   |  NA   | \n",
       "| 25    | teen  | 17    | boy   | 100   |  NA   |  NA   |  NA   | \n",
       "| 26    | teen  | 15    | girl  |   3   | 130   | 200   |  NA   | \n",
       "| 29    | teen  | 16    | girl  |   6   |  60   |  98   |  NA   | \n",
       "| 33    | teen  | 16    | girl  | 115   |  NA   |  NA   |  NA   | \n",
       "| 34    | teen  | 16    | girl  |  45   |  NA   |  NA   |  NA   | \n",
       "| 35    | teen  | 18    | boy   |  46   |  NA   | 136   | 144   | \n",
       "| 36    | teen  | 16    | girl  |  27   | 110   |  NA   |   2   | \n",
       "| 38    | teen  | 17    | boy   |  75   | 110   |  NA   |  NA   | \n",
       "| 45    | adult | 23    | boy   |  48   |  NA   |  NA   |  NA   | \n",
       "| 46    | adult | 19    | girl  |   7   |  40   |  NA   |  74   | \n",
       "| 47    | adult | 20    | boy   |  19   |  NA   |  NA   |  NA   | \n",
       "| 48    | adult | 19    | boy   |  34   |  48   |  NA   | 110   | \n",
       "| 49    | adult | 20    | girl  |  17   |  NA   |  NA   |  NA   | \n",
       "| 50    | adult | 20    | boy   |  55   |  NA   |  NA   |  NA   | \n",
       "| 51    | adult | 23    | girl  |   4   |  82   |  NA   |  99   | \n",
       "| 59    | adult | 27    | boy   |  92   |  72   |  81   |  NA   | \n",
       "| 65    | adult | 19    | girl  |  26   |  NA   |  NA   |  NA   | \n",
       "| 66    | adult | 22    | boy   |  59   |  NA   | 128   | 122   | \n",
       "| 67    | adult | 19    | girl  |  40   |  76   |  NA   | 118   | \n",
       "\n",
       "\n"
      ],
      "text/plain": [
       "   id group age sex  GLUCalostrum GLUTransition GLUMature2m GLUMature4m\n",
       "1  3  teen  17  boy   54          122            NA          NA        \n",
       "2  4  teen  16  boy   33           NA            NA          NA        \n",
       "3  9  teen  17  girl  27           72            NA          NA        \n",
       "4  10 teen  18  boy   84          141            NA          NA        \n",
       "5  11 teen  17  boy   64           84            NA         158        \n",
       "6  12 teen  16  girl  17           NA            NA          NA        \n",
       "7  16 teen  15  boy   43          197           179          NA        \n",
       "8  17 teen  16  boy    9           79           117          NA        \n",
       "9  18 teen  16  boy   69           85           184          NA        \n",
       "10 19 teen  14  boy    3           70           138          NA        \n",
       "11 21 teen  18  girl  27           NA            NA          NA        \n",
       "12 22 teen  16  boy   51           79            NA          NA        \n",
       "13 24 teen  18  boy   17           NA            NA          NA        \n",
       "14 25 teen  17  boy  100           NA            NA          NA        \n",
       "15 26 teen  15  girl   3          130           200          NA        \n",
       "16 29 teen  16  girl   6           60            98          NA        \n",
       "17 33 teen  16  girl 115           NA            NA          NA        \n",
       "18 34 teen  16  girl  45           NA            NA          NA        \n",
       "19 35 teen  18  boy   46           NA           136         144        \n",
       "20 36 teen  16  girl  27          110            NA           2        \n",
       "21 38 teen  17  boy   75          110            NA          NA        \n",
       "22 45 adult 23  boy   48           NA            NA          NA        \n",
       "23 46 adult 19  girl   7           40            NA          74        \n",
       "24 47 adult 20  boy   19           NA            NA          NA        \n",
       "25 48 adult 19  boy   34           48            NA         110        \n",
       "26 49 adult 20  girl  17           NA            NA          NA        \n",
       "27 50 adult 20  boy   55           NA            NA          NA        \n",
       "28 51 adult 23  girl   4           82            NA          99        \n",
       "29 59 adult 27  boy   92           72            81          NA        \n",
       "30 65 adult 19  girl  26           NA            NA          NA        \n",
       "31 66 adult 22  boy   59           NA           128         122        \n",
       "32 67 adult 19  girl  40           76            NA         118        "
      ]
     },
     "metadata": {},
     "output_type": "display_data"
    }
   ],
   "source": [
    "AAdf %>% filter(is.na(GLUTransition) | is.na(GLUMature2m) | is.na(GLUMature4m) )"
   ]
  },
  {
   "cell_type": "code",
   "execution_count": 127,
   "metadata": {},
   "outputs": [
    {
     "data": {
      "text/html": [
       "<table>\n",
       "<thead><tr><th scope=col>id</th><th scope=col>group</th><th scope=col>age</th><th scope=col>sex</th><th scope=col>GLUCalostrum</th><th scope=col>GLUTransition</th><th scope=col>GLUMature2m</th><th scope=col>GLUMature4m</th></tr></thead>\n",
       "<tbody>\n",
       "\t<tr><td>46   </td><td>adult</td><td>19   </td><td>girl </td><td> 7   </td><td>40   </td><td>NA   </td><td> 74  </td></tr>\n",
       "\t<tr><td>48   </td><td>adult</td><td>19   </td><td>boy  </td><td>34   </td><td>48   </td><td>NA   </td><td>110  </td></tr>\n",
       "\t<tr><td>51   </td><td>adult</td><td>23   </td><td>girl </td><td> 4   </td><td>82   </td><td>NA   </td><td> 99  </td></tr>\n",
       "\t<tr><td>67   </td><td>adult</td><td>19   </td><td>girl </td><td>40   </td><td>76   </td><td>NA   </td><td>118  </td></tr>\n",
       "</tbody>\n",
       "</table>\n"
      ],
      "text/latex": [
       "\\begin{tabular}{r|llllllll}\n",
       " id & group & age & sex & GLUCalostrum & GLUTransition & GLUMature2m & GLUMature4m\\\\\n",
       "\\hline\n",
       "\t 46    & adult & 19    & girl  &  7    & 40    & NA    &  74  \\\\\n",
       "\t 48    & adult & 19    & boy   & 34    & 48    & NA    & 110  \\\\\n",
       "\t 51    & adult & 23    & girl  &  4    & 82    & NA    &  99  \\\\\n",
       "\t 67    & adult & 19    & girl  & 40    & 76    & NA    & 118  \\\\\n",
       "\\end{tabular}\n"
      ],
      "text/markdown": [
       "\n",
       "id | group | age | sex | GLUCalostrum | GLUTransition | GLUMature2m | GLUMature4m | \n",
       "|---|---|---|---|\n",
       "| 46    | adult | 19    | girl  |  7    | 40    | NA    |  74   | \n",
       "| 48    | adult | 19    | boy   | 34    | 48    | NA    | 110   | \n",
       "| 51    | adult | 23    | girl  |  4    | 82    | NA    |  99   | \n",
       "| 67    | adult | 19    | girl  | 40    | 76    | NA    | 118   | \n",
       "\n",
       "\n"
      ],
      "text/plain": [
       "  id group age sex  GLUCalostrum GLUTransition GLUMature2m GLUMature4m\n",
       "1 46 adult 19  girl  7           40            NA           74        \n",
       "2 48 adult 19  boy  34           48            NA          110        \n",
       "3 51 adult 23  girl  4           82            NA           99        \n",
       "4 67 adult 19  girl 40           76            NA          118        "
      ]
     },
     "metadata": {},
     "output_type": "display_data"
    }
   ],
   "source": [
    "AAdf %>% filter(group == 'adult') %>% \n",
    "    filter( (!is.na(GLUTransition)) & is.na(GLUMature2m) )"
   ]
  },
  {
   "cell_type": "code",
   "execution_count": 132,
   "metadata": {},
   "outputs": [
    {
     "data": {
      "text/html": [
       "<table>\n",
       "<thead><tr><th scope=col>id</th><th scope=col>group</th><th scope=col>age</th><th scope=col>sex</th><th scope=col>GLUCalostrum</th><th scope=col>GLUTransition</th><th scope=col>GLUMature2m</th><th scope=col>GLUMature4m</th></tr></thead>\n",
       "<tbody>\n",
       "\t<tr><td>66   </td><td>adult</td><td>22   </td><td>boy  </td><td>59   </td><td>NA   </td><td>128  </td><td>122  </td></tr>\n",
       "</tbody>\n",
       "</table>\n"
      ],
      "text/latex": [
       "\\begin{tabular}{r|llllllll}\n",
       " id & group & age & sex & GLUCalostrum & GLUTransition & GLUMature2m & GLUMature4m\\\\\n",
       "\\hline\n",
       "\t 66    & adult & 22    & boy   & 59    & NA    & 128   & 122  \\\\\n",
       "\\end{tabular}\n"
      ],
      "text/markdown": [
       "\n",
       "id | group | age | sex | GLUCalostrum | GLUTransition | GLUMature2m | GLUMature4m | \n",
       "|---|\n",
       "| 66    | adult | 22    | boy   | 59    | NA    | 128   | 122   | \n",
       "\n",
       "\n"
      ],
      "text/plain": [
       "  id group age sex GLUCalostrum GLUTransition GLUMature2m GLUMature4m\n",
       "1 66 adult 22  boy 59           NA            128         122        "
      ]
     },
     "metadata": {},
     "output_type": "display_data"
    }
   ],
   "source": [
    "AAdf %>% filter(group == 'adult') %>% \n",
    "    filter( (is.na(GLUTransition)) & !is.na(GLUMature2m) )"
   ]
  },
  {
   "cell_type": "code",
   "execution_count": 135,
   "metadata": {},
   "outputs": [
    {
     "data": {
      "text/html": [
       "<table>\n",
       "<thead><tr><th scope=col>id</th><th scope=col>group</th><th scope=col>age</th><th scope=col>sex</th><th scope=col>GLUCalostrum</th><th scope=col>GLUTransition</th><th scope=col>GLUMature2m</th><th scope=col>GLUMature4m</th></tr></thead>\n",
       "<tbody>\n",
       "\t<tr><td>66   </td><td>adult</td><td>22   </td><td>boy  </td><td>59   </td><td>NA   </td><td>128  </td><td>122  </td></tr>\n",
       "</tbody>\n",
       "</table>\n"
      ],
      "text/latex": [
       "\\begin{tabular}{r|llllllll}\n",
       " id & group & age & sex & GLUCalostrum & GLUTransition & GLUMature2m & GLUMature4m\\\\\n",
       "\\hline\n",
       "\t 66    & adult & 22    & boy   & 59    & NA    & 128   & 122  \\\\\n",
       "\\end{tabular}\n"
      ],
      "text/markdown": [
       "\n",
       "id | group | age | sex | GLUCalostrum | GLUTransition | GLUMature2m | GLUMature4m | \n",
       "|---|\n",
       "| 66    | adult | 22    | boy   | 59    | NA    | 128   | 122   | \n",
       "\n",
       "\n"
      ],
      "text/plain": [
       "  id group age sex GLUCalostrum GLUTransition GLUMature2m GLUMature4m\n",
       "1 66 adult 22  boy 59           NA            128         122        "
      ]
     },
     "metadata": {},
     "output_type": "display_data"
    }
   ],
   "source": [
    "AAdf %>% filter(group == 'adult') %>% \n",
    "    filter( is.na(GLUTransition) &  !is.na(GLUMature4m))"
   ]
  },
  {
   "cell_type": "code",
   "execution_count": 136,
   "metadata": {},
   "outputs": [
    {
     "data": {
      "text/html": [
       "<table>\n",
       "<thead><tr><th scope=col>id</th><th scope=col>group</th><th scope=col>age</th><th scope=col>sex</th><th scope=col>GLUCalostrum</th><th scope=col>GLUTransition</th><th scope=col>GLUMature2m</th><th scope=col>GLUMature4m</th></tr></thead>\n",
       "<tbody>\n",
       "\t<tr><td>3   </td><td>teen</td><td>17  </td><td>boy </td><td>54  </td><td>122 </td><td>NA  </td><td> NA </td></tr>\n",
       "\t<tr><td>9   </td><td>teen</td><td>17  </td><td>girl</td><td>27  </td><td> 72 </td><td>NA  </td><td> NA </td></tr>\n",
       "\t<tr><td>10  </td><td>teen</td><td>18  </td><td>boy </td><td>84  </td><td>141 </td><td>NA  </td><td> NA </td></tr>\n",
       "\t<tr><td>11  </td><td>teen</td><td>17  </td><td>boy </td><td>64  </td><td> 84 </td><td>NA  </td><td>158 </td></tr>\n",
       "\t<tr><td>22  </td><td>teen</td><td>16  </td><td>boy </td><td>51  </td><td> 79 </td><td>NA  </td><td> NA </td></tr>\n",
       "\t<tr><td>36  </td><td>teen</td><td>16  </td><td>girl</td><td>27  </td><td>110 </td><td>NA  </td><td>  2 </td></tr>\n",
       "\t<tr><td>38  </td><td>teen</td><td>17  </td><td>boy </td><td>75  </td><td>110 </td><td>NA  </td><td> NA </td></tr>\n",
       "</tbody>\n",
       "</table>\n"
      ],
      "text/latex": [
       "\\begin{tabular}{r|llllllll}\n",
       " id & group & age & sex & GLUCalostrum & GLUTransition & GLUMature2m & GLUMature4m\\\\\n",
       "\\hline\n",
       "\t 3    & teen & 17   & boy  & 54   & 122  & NA   &  NA \\\\\n",
       "\t 9    & teen & 17   & girl & 27   &  72  & NA   &  NA \\\\\n",
       "\t 10   & teen & 18   & boy  & 84   & 141  & NA   &  NA \\\\\n",
       "\t 11   & teen & 17   & boy  & 64   &  84  & NA   & 158 \\\\\n",
       "\t 22   & teen & 16   & boy  & 51   &  79  & NA   &  NA \\\\\n",
       "\t 36   & teen & 16   & girl & 27   & 110  & NA   &   2 \\\\\n",
       "\t 38   & teen & 17   & boy  & 75   & 110  & NA   &  NA \\\\\n",
       "\\end{tabular}\n"
      ],
      "text/markdown": [
       "\n",
       "id | group | age | sex | GLUCalostrum | GLUTransition | GLUMature2m | GLUMature4m | \n",
       "|---|---|---|---|---|---|---|\n",
       "| 3    | teen | 17   | boy  | 54   | 122  | NA   |  NA  | \n",
       "| 9    | teen | 17   | girl | 27   |  72  | NA   |  NA  | \n",
       "| 10   | teen | 18   | boy  | 84   | 141  | NA   |  NA  | \n",
       "| 11   | teen | 17   | boy  | 64   |  84  | NA   | 158  | \n",
       "| 22   | teen | 16   | boy  | 51   |  79  | NA   |  NA  | \n",
       "| 36   | teen | 16   | girl | 27   | 110  | NA   |   2  | \n",
       "| 38   | teen | 17   | boy  | 75   | 110  | NA   |  NA  | \n",
       "\n",
       "\n"
      ],
      "text/plain": [
       "  id group age sex  GLUCalostrum GLUTransition GLUMature2m GLUMature4m\n",
       "1 3  teen  17  boy  54           122           NA           NA        \n",
       "2 9  teen  17  girl 27            72           NA           NA        \n",
       "3 10 teen  18  boy  84           141           NA           NA        \n",
       "4 11 teen  17  boy  64            84           NA          158        \n",
       "5 22 teen  16  boy  51            79           NA           NA        \n",
       "6 36 teen  16  girl 27           110           NA            2        \n",
       "7 38 teen  17  boy  75           110           NA           NA        "
      ]
     },
     "metadata": {},
     "output_type": "display_data"
    }
   ],
   "source": [
    "AAdf %>% filter(group == 'teen') %>% \n",
    "    filter( !is.na(GLUTransition) & is.na(GLUMature2m) )"
   ]
  },
  {
   "cell_type": "code",
   "execution_count": 137,
   "metadata": {},
   "outputs": [
    {
     "data": {
      "text/html": [
       "<table>\n",
       "<thead><tr><th scope=col>id</th><th scope=col>group</th><th scope=col>age</th><th scope=col>sex</th><th scope=col>GLUCalostrum</th><th scope=col>GLUTransition</th><th scope=col>GLUMature2m</th><th scope=col>GLUMature4m</th></tr></thead>\n",
       "<tbody>\n",
       "\t<tr><td>35  </td><td>teen</td><td>18  </td><td>boy </td><td>46  </td><td>NA  </td><td>136 </td><td>144 </td></tr>\n",
       "</tbody>\n",
       "</table>\n"
      ],
      "text/latex": [
       "\\begin{tabular}{r|llllllll}\n",
       " id & group & age & sex & GLUCalostrum & GLUTransition & GLUMature2m & GLUMature4m\\\\\n",
       "\\hline\n",
       "\t 35   & teen & 18   & boy  & 46   & NA   & 136  & 144 \\\\\n",
       "\\end{tabular}\n"
      ],
      "text/markdown": [
       "\n",
       "id | group | age | sex | GLUCalostrum | GLUTransition | GLUMature2m | GLUMature4m | \n",
       "|---|\n",
       "| 35   | teen | 18   | boy  | 46   | NA   | 136  | 144  | \n",
       "\n",
       "\n"
      ],
      "text/plain": [
       "  id group age sex GLUCalostrum GLUTransition GLUMature2m GLUMature4m\n",
       "1 35 teen  18  boy 46           NA            136         144        "
      ]
     },
     "metadata": {},
     "output_type": "display_data"
    }
   ],
   "source": [
    "AAdf %>% filter(group == 'teen') %>% \n",
    "    filter( is.na(GLUTransition) & !is.na(GLUMature4m) )"
   ]
  },
  {
   "cell_type": "code",
   "execution_count": 6,
   "metadata": {},
   "outputs": [
    {
     "data": {
      "text/html": [
       "<table>\n",
       "<thead><tr><th scope=col>x</th><th scope=col>y</th></tr></thead>\n",
       "<tbody>\n",
       "\t<tr><td>NA</td><td>NA</td></tr>\n",
       "\t<tr><td> 3</td><td>NA</td></tr>\n",
       "</tbody>\n",
       "</table>\n"
      ],
      "text/latex": [
       "\\begin{tabular}{r|ll}\n",
       " x & y\\\\\n",
       "\\hline\n",
       "\t NA & NA\\\\\n",
       "\t  3 & NA\\\\\n",
       "\\end{tabular}\n"
      ],
      "text/markdown": [
       "\n",
       "x | y | \n",
       "|---|---|\n",
       "| NA | NA | \n",
       "|  3 | NA | \n",
       "\n",
       "\n"
      ],
      "text/plain": [
       "  x  y \n",
       "1 NA NA\n",
       "2  3 NA"
      ]
     },
     "metadata": {},
     "output_type": "display_data"
    }
   ],
   "source": [
    "df <- data.frame(x = c(1, NA, 3, 8), y = c(1, NA, NA, 8))\n",
    "\n",
    "df %>% filter(is.na(x) | is.na(y))"
   ]
  },
  {
   "cell_type": "markdown",
   "metadata": {},
   "source": [
    "# Dropout mechanism: \n",
    "\n",
    "Suppose the data is organized in a long format where each individual appears in more than one row: \n",
    "\n",
    "\n",
    "| Id |DO |week | sex | group |\n",
    "|:--:|:--:|:---:|:---:|:-----:|\n",
    "|1  |NO\t| 1 | G = 0 | T \n",
    "|2  |NO\t| 1 | B = 1 | A\n",
    "|1  |YES| 3\t| G = 0 | T\n",
    "|1  |NO\t| 2 | G = 0 | T\n",
    "\n",
    "\n",
    "where $DO$ register if patient $i$ came to the corresponding measurement session. Then, the model for the probability of dropping out is: \n",
    "\n",
    "$$\n",
    "logit \\left( P(DO_i = 1) \\right) = \\beta_1 \\ week + \\beta_2 \\ group + \\beta_3 \\ group \\times week  \n",
    "$$\n",
    "\n",
    "where the $\\beta_1$ is the time effect for adults and $\\beta_2 + \\beta_3$  is the time effect for teens. The intercept is $0$ since we already have an interaction term. "
   ]
  },
  {
   "cell_type": "code",
   "execution_count": 15,
   "metadata": {},
   "outputs": [
    {
     "data": {
      "text/html": [
       "<table>\n",
       "<thead><tr><th scope=col>id</th><th scope=col>group</th><th scope=col>age</th><th scope=col>sex</th><th scope=col>week</th><th scope=col>level</th></tr></thead>\n",
       "<tbody>\n",
       "\t<tr><td>3   </td><td>teen</td><td>17  </td><td>boy </td><td> 1  </td><td> 54 </td></tr>\n",
       "\t<tr><td>3   </td><td>teen</td><td>17  </td><td>boy </td><td> 2  </td><td>122 </td></tr>\n",
       "\t<tr><td>3   </td><td>teen</td><td>17  </td><td>boy </td><td> 8  </td><td> NA </td></tr>\n",
       "\t<tr><td>3   </td><td>teen</td><td>17  </td><td>boy </td><td>16  </td><td> NA </td></tr>\n",
       "</tbody>\n",
       "</table>\n"
      ],
      "text/latex": [
       "\\begin{tabular}{r|llllll}\n",
       " id & group & age & sex & week & level\\\\\n",
       "\\hline\n",
       "\t 3    & teen & 17   & boy  &  1   &  54 \\\\\n",
       "\t 3    & teen & 17   & boy  &  2   & 122 \\\\\n",
       "\t 3    & teen & 17   & boy  &  8   &  NA \\\\\n",
       "\t 3    & teen & 17   & boy  & 16   &  NA \\\\\n",
       "\\end{tabular}\n"
      ],
      "text/markdown": [
       "\n",
       "id | group | age | sex | week | level | \n",
       "|---|---|---|---|\n",
       "| 3    | teen | 17   | boy  |  1   |  54  | \n",
       "| 3    | teen | 17   | boy  |  2   | 122  | \n",
       "| 3    | teen | 17   | boy  |  8   |  NA  | \n",
       "| 3    | teen | 17   | boy  | 16   |  NA  | \n",
       "\n",
       "\n"
      ],
      "text/plain": [
       "  id group age sex week level\n",
       "1 3  teen  17  boy  1    54  \n",
       "2 3  teen  17  boy  2   122  \n",
       "3 3  teen  17  boy  8    NA  \n",
       "4 3  teen  17  boy 16    NA  "
      ]
     },
     "metadata": {},
     "output_type": "display_data"
    }
   ],
   "source": [
    "AAdfLong %>% filter(id == 3)"
   ]
  },
  {
   "cell_type": "code",
   "execution_count": 87,
   "metadata": {},
   "outputs": [
    {
     "data": {
      "text/html": [
       "<table>\n",
       "<thead><tr><th scope=col>group</th><th scope=col>age</th><th scope=col>sex</th><th scope=col>week</th><th scope=col>DO</th></tr></thead>\n",
       "<tbody>\n",
       "\t<tr><td>teen</td><td>17  </td><td>girl</td><td>1   </td><td>0   </td></tr>\n",
       "\t<tr><td>teen</td><td>16  </td><td>boy </td><td>1   </td><td>0   </td></tr>\n",
       "\t<tr><td>teen</td><td>17  </td><td>boy </td><td>1   </td><td>0   </td></tr>\n",
       "\t<tr><td>teen</td><td>16  </td><td>boy </td><td>1   </td><td>0   </td></tr>\n",
       "\t<tr><td>teen</td><td>16  </td><td>boy </td><td>1   </td><td>0   </td></tr>\n",
       "\t<tr><td>teen</td><td>16  </td><td>boy </td><td>1   </td><td>0   </td></tr>\n",
       "</tbody>\n",
       "</table>\n"
      ],
      "text/latex": [
       "\\begin{tabular}{r|lllll}\n",
       " group & age & sex & week & DO\\\\\n",
       "\\hline\n",
       "\t teen & 17   & girl & 1    & 0   \\\\\n",
       "\t teen & 16   & boy  & 1    & 0   \\\\\n",
       "\t teen & 17   & boy  & 1    & 0   \\\\\n",
       "\t teen & 16   & boy  & 1    & 0   \\\\\n",
       "\t teen & 16   & boy  & 1    & 0   \\\\\n",
       "\t teen & 16   & boy  & 1    & 0   \\\\\n",
       "\\end{tabular}\n"
      ],
      "text/markdown": [
       "\n",
       "group | age | sex | week | DO | \n",
       "|---|---|---|---|---|---|\n",
       "| teen | 17   | girl | 1    | 0    | \n",
       "| teen | 16   | boy  | 1    | 0    | \n",
       "| teen | 17   | boy  | 1    | 0    | \n",
       "| teen | 16   | boy  | 1    | 0    | \n",
       "| teen | 16   | boy  | 1    | 0    | \n",
       "| teen | 16   | boy  | 1    | 0    | \n",
       "\n",
       "\n"
      ],
      "text/plain": [
       "  group age sex  week DO\n",
       "1 teen  17  girl 1    0 \n",
       "2 teen  16  boy  1    0 \n",
       "3 teen  17  boy  1    0 \n",
       "4 teen  16  boy  1    0 \n",
       "5 teen  16  boy  1    0 \n",
       "6 teen  16  boy  1    0 "
      ]
     },
     "metadata": {},
     "output_type": "display_data"
    }
   ],
   "source": [
    "AAdfLongDO <- AAdfLong %>% \n",
    "        mutate(DO = ifelse(is.na(level), 1, 0)) %>% \n",
    "        select(-level, -id) \n",
    "\n",
    "head(AAdfLongDO)"
   ]
  },
  {
   "cell_type": "code",
   "execution_count": 88,
   "metadata": {},
   "outputs": [
    {
     "data": {
      "image/png": "[encoded data removed]",
      "text/plain": [
       "plot without title"
      ]
     },
     "metadata": {},
     "output_type": "display_data"
    }
   ],
   "source": [
    "pairs(AAdfLongDO)"
   ]
  },
  {
   "cell_type": "code",
   "execution_count": 138,
   "metadata": {},
   "outputs": [
    {
     "data": {
      "text/plain": [
       "\n",
       "Call:\n",
       "glm(formula = DO ~ week + group, family = binomial(link = \"logit\"), \n",
       "    data = AAdfLongDO)\n",
       "\n",
       "Deviance Residuals: \n",
       "     Min        1Q    Median        3Q       Max  \n",
       "-1.15126  -0.70844  -0.57278  -0.07158   2.02799  \n",
       "\n",
       "Coefficients:\n",
       "            Estimate Std. Error z value Pr(>|z|)    \n",
       "(Intercept) -1.83535    0.28631  -6.410 1.45e-10 ***\n",
       "week         0.11084    0.02514   4.409 1.04e-05 ***\n",
       "groupadult  -0.30584    0.32263  -0.948    0.343    \n",
       "---\n",
       "Signif. codes:  0 '***' 0.001 '**' 0.01 '*' 0.05 '.' 0.1 ' ' 1\n",
       "\n",
       "(Dispersion parameter for binomial family taken to be 1)\n",
       "\n",
       "    Null deviance: 274.42  on 243  degrees of freedom\n",
       "Residual deviance: 253.26  on 241  degrees of freedom\n",
       "AIC: 259.26\n",
       "\n",
       "Number of Fisher Scoring iterations: 4\n"
      ]
     },
     "metadata": {},
     "output_type": "display_data"
    }
   ],
   "source": [
    "pDO <- glm(DO ~ week + group, data=AAdfLongDO, family = binomial(link='logit'))\n",
    "summary(pDO)"
   ]
  },
  {
   "cell_type": "code",
   "execution_count": 139,
   "metadata": {},
   "outputs": [
    {
     "data": {},
     "metadata": {},
     "output_type": "display_data"
    },
    {
     "data": {
      "image/png": "[encoded data removed]",
      "text/plain": [
       "plot without title"
      ]
     },
     "metadata": {},
     "output_type": "display_data"
    }
   ],
   "source": [
    "ggplot(AAdfLongDO, aes(x = week, y = DO, color = group)) + \n",
    "    geom_point() + geom_jitter(alpha = 0.3, width = 0.5, height = 0) +\n",
    "    geom_smooth(method = glm, formula = y ~ x, method.args = list(family = \"binomial\"), se = FALSE)"
   ]
  },
  {
   "cell_type": "code",
   "execution_count": 149,
   "metadata": {},
   "outputs": [
    {
     "data": {
      "text/plain": [
       "\n",
       "Call:\n",
       "glm(formula = DO ~ week * group, family = binomial(link = \"logit\"), \n",
       "    data = AAdfLongDO)\n",
       "\n",
       "Deviance Residuals: \n",
       "    Min       1Q   Median       3Q      Max  \n",
       "-1.2450  -0.7150  -0.5514  -0.1095   1.9793  \n",
       "\n",
       "Coefficients:\n",
       "                Estimate Std. Error z value Pr(>|z|)    \n",
       "(Intercept)     -2.08757    0.34844  -5.991 2.08e-09 ***\n",
       "week             0.14033    0.03271   4.289 1.79e-05 ***\n",
       "groupadult       0.34976    0.53676   0.652    0.515    \n",
       "week:groupadult -0.07730    0.05197  -1.487    0.137    \n",
       "---\n",
       "Signif. codes:  0 '***' 0.001 '**' 0.01 '*' 0.05 '.' 0.1 ' ' 1\n",
       "\n",
       "(Dispersion parameter for binomial family taken to be 1)\n",
       "\n",
       "    Null deviance: 274.42  on 243  degrees of freedom\n",
       "Residual deviance: 251.05  on 240  degrees of freedom\n",
       "AIC: 259.05\n",
       "\n",
       "Number of Fisher Scoring iterations: 4\n"
      ]
     },
     "metadata": {},
     "output_type": "display_data"
    }
   ],
   "source": [
    "pDO <- glm(DO ~ week*group, data=AAdfLongDO, family = binomial(link='logit'))\n",
    "summary(pDO)"
   ]
  }
 ],
 "metadata": {
  "kernelspec": {
   "display_name": "R",
   "language": "R",
   "name": "ir"
  },
  "language_info": {
   "codemirror_mode": "r",
   "file_extension": ".r",
   "mimetype": "text/x-r-source",
   "name": "R",
   "pygments_lexer": "r",
   "version": "3.6.0"
  }
 },
 "nbformat": 4,
 "nbformat_minor": 2
}
