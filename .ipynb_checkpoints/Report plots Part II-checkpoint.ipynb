{
 "cells": [
  {
   "cell_type": "code",
   "execution_count": 1,
   "metadata": {},
   "outputs": [
    {
     "name": "stderr",
     "output_type": "stream",
     "text": [
      "Loading tidyverse: ggplot2\n",
      "Loading tidyverse: tibble\n",
      "Loading tidyverse: tidyr\n",
      "Loading tidyverse: readr\n",
      "Loading tidyverse: purrr\n",
      "Loading tidyverse: dplyr\n",
      "Conflicts with tidy packages ---------------------------------------------------\n",
      "filter(): dplyr, stats\n",
      "lag():    dplyr, stats\n",
      "Loading required package: Matrix\n",
      "\n",
      "Attaching package: 'Matrix'\n",
      "\n",
      "The following object is masked from 'package:tidyr':\n",
      "\n",
      "    expand\n",
      "\n"
     ]
    }
   ],
   "source": [
    "library(haven)\n",
    "library(tidyverse)\n",
    "library(broom)\n",
    "library(lme4) \n",
    "library(latex2exp)"
   ]
  },
  {
   "cell_type": "code",
   "execution_count": 2,
   "metadata": {},
   "outputs": [
    {
     "data": {
      "text/html": [
       "<table>\n",
       "<thead><tr><th scope=col>ID</th><th scope=col>GROUP</th><th scope=col>MATERNALAGE</th><th scope=col>SEXO</th><th scope=col>INFANTDOB</th><th scope=col>MATBMI1COLL</th><th scope=col>MATBMI215d</th><th scope=col>MATBMI32mos</th><th scope=col>MATBMI44mos</th><th scope=col>BABYWeigth1g</th><th scope=col>...</th><th scope=col>ALAGLOB</th><th scope=col>ASNGLOB</th><th scope=col>SYSGLOB</th><th scope=col>GLYGLOB</th><th scope=col>GLUGLOB</th><th scope=col>GLNGLOB</th><th scope=col>PROLINEGLOB</th><th scope=col>SERINEGLOB</th><th scope=col>TYRAMINEGLOB</th><th scope=col>new</th></tr></thead>\n",
       "<tbody>\n",
       "\t<tr><td>1         </td><td>0         </td><td>17        </td><td> 1        </td><td>2009-08-20</td><td>25        </td><td>24        </td><td>24        </td><td>22        </td><td>3492.7    </td><td>...       </td><td>21.25     </td><td>0.5       </td><td>1.00      </td><td>10.00     </td><td> 87.25    </td><td>23.25     </td><td>2.75      </td><td>8.0       </td><td>1.00      </td><td>0         </td></tr>\n",
       "\t<tr><td>2         </td><td>0         </td><td>16        </td><td> 2        </td><td>2009-08-24</td><td>32        </td><td>31        </td><td>30        </td><td>29        </td><td>3392.9    </td><td>...       </td><td>18.25     </td><td>0.0       </td><td>0.75      </td><td>13.75     </td><td>100.50    </td><td>40.50     </td><td>2.50      </td><td>9.5       </td><td>0.75      </td><td>0         </td></tr>\n",
       "\t<tr><td>3         </td><td>0         </td><td>17        </td><td> 2        </td><td>2009-08-21</td><td>23        </td><td>23        </td><td>NA        </td><td>NA        </td><td>2993.8    </td><td>...       </td><td>   NA     </td><td> NA       </td><td>  NA      </td><td>   NA     </td><td>    NA    </td><td>   NA     </td><td>  NA      </td><td> NA       </td><td>  NA      </td><td>0         </td></tr>\n",
       "\t<tr><td>4         </td><td>0         </td><td>16        </td><td> 2        </td><td>2009-08-21</td><td>26        </td><td>NA        </td><td>NA        </td><td>NA        </td><td>3692.3    </td><td>...       </td><td>   NA     </td><td> NA       </td><td>  NA      </td><td>   NA     </td><td>    NA    </td><td>   NA     </td><td>  NA      </td><td> NA       </td><td>  NA      </td><td>0         </td></tr>\n",
       "\t<tr><td>5         </td><td>0         </td><td>16        </td><td>NA        </td><td>2009-08-29</td><td>25        </td><td>NA        </td><td>NA        </td><td>NA        </td><td>3592.5    </td><td>...       </td><td>   NA     </td><td> NA       </td><td>  NA      </td><td>   NA     </td><td>    NA    </td><td>   NA     </td><td>  NA      </td><td> NA       </td><td>  NA      </td><td>0         </td></tr>\n",
       "\t<tr><td>6         </td><td>0         </td><td>16        </td><td> 2        </td><td>2009-08-27</td><td>29        </td><td>28        </td><td>30        </td><td>31        </td><td>3093.5    </td><td>...       </td><td>15.50     </td><td>0.5       </td><td>1.50      </td><td>10.25     </td><td> 74.75    </td><td>30.00     </td><td>5.25      </td><td>8.0       </td><td>2.00      </td><td>0         </td></tr>\n",
       "</tbody>\n",
       "</table>\n"
      ],
      "text/latex": [
       "\\begin{tabular}{r|lllllllllllllllllllllllllllllllllllllllllllllllllllllllllllllllllllllllllllllllllllllllllllllllllllllllllllllllllllllllllllllllllllllllllllllllllllllllllllllllllllllllllll}\n",
       " ID & GROUP & MATERNALAGE & SEXO & INFANTDOB & MATBMI1COLL & MATBMI215d & MATBMI32mos & MATBMI44mos & BABYWeigth1g & ... & ALAGLOB & ASNGLOB & SYSGLOB & GLYGLOB & GLUGLOB & GLNGLOB & PROLINEGLOB & SERINEGLOB & TYRAMINEGLOB & new\\\\\n",
       "\\hline\n",
       "\t 1          & 0          & 17         &  1         & 2009-08-20 & 25         & 24         & 24         & 22         & 3492.7     & ...        & 21.25      & 0.5        & 1.00       & 10.00      &  87.25     & 23.25      & 2.75       & 8.0        & 1.00       & 0         \\\\\n",
       "\t 2          & 0          & 16         &  2         & 2009-08-24 & 32         & 31         & 30         & 29         & 3392.9     & ...        & 18.25      & 0.0        & 0.75       & 13.75      & 100.50     & 40.50      & 2.50       & 9.5        & 0.75       & 0         \\\\\n",
       "\t 3          & 0          & 17         &  2         & 2009-08-21 & 23         & 23         & NA         & NA         & 2993.8     & ...        &    NA      &  NA        &   NA       &    NA      &     NA     &    NA      &   NA       &  NA        &   NA       & 0         \\\\\n",
       "\t 4          & 0          & 16         &  2         & 2009-08-21 & 26         & NA         & NA         & NA         & 3692.3     & ...        &    NA      &  NA        &   NA       &    NA      &     NA     &    NA      &   NA       &  NA        &   NA       & 0         \\\\\n",
       "\t 5          & 0          & 16         & NA         & 2009-08-29 & 25         & NA         & NA         & NA         & 3592.5     & ...        &    NA      &  NA        &   NA       &    NA      &     NA     &    NA      &   NA       &  NA        &   NA       & 0         \\\\\n",
       "\t 6          & 0          & 16         &  2         & 2009-08-27 & 29         & 28         & 30         & 31         & 3093.5     & ...        & 15.50      & 0.5        & 1.50       & 10.25      &  74.75     & 30.00      & 5.25       & 8.0        & 2.00       & 0         \\\\\n",
       "\\end{tabular}\n"
      ],
      "text/markdown": [
       "\n",
       "ID | GROUP | MATERNALAGE | SEXO | INFANTDOB | MATBMI1COLL | MATBMI215d | MATBMI32mos | MATBMI44mos | BABYWeigth1g | ... | ALAGLOB | ASNGLOB | SYSGLOB | GLYGLOB | GLUGLOB | GLNGLOB | PROLINEGLOB | SERINEGLOB | TYRAMINEGLOB | new | \n",
       "|---|---|---|---|---|---|\n",
       "| 1          | 0          | 17         |  1         | 2009-08-20 | 25         | 24         | 24         | 22         | 3492.7     | ...        | 21.25      | 0.5        | 1.00       | 10.00      |  87.25     | 23.25      | 2.75       | 8.0        | 1.00       | 0          | \n",
       "| 2          | 0          | 16         |  2         | 2009-08-24 | 32         | 31         | 30         | 29         | 3392.9     | ...        | 18.25      | 0.0        | 0.75       | 13.75      | 100.50     | 40.50      | 2.50       | 9.5        | 0.75       | 0          | \n",
       "| 3          | 0          | 17         |  2         | 2009-08-21 | 23         | 23         | NA         | NA         | 2993.8     | ...        |    NA      |  NA        |   NA       |    NA      |     NA     |    NA      |   NA       |  NA        |   NA       | 0          | \n",
       "| 4          | 0          | 16         |  2         | 2009-08-21 | 26         | NA         | NA         | NA         | 3692.3     | ...        |    NA      |  NA        |   NA       |    NA      |     NA     |    NA      |   NA       |  NA        |   NA       | 0          | \n",
       "| 5          | 0          | 16         | NA         | 2009-08-29 | 25         | NA         | NA         | NA         | 3592.5     | ...        |    NA      |  NA        |   NA       |    NA      |     NA     |    NA      |   NA       |  NA        |   NA       | 0          | \n",
       "| 6          | 0          | 16         |  2         | 2009-08-27 | 29         | 28         | 30         | 31         | 3093.5     | ...        | 15.50      | 0.5        | 1.50       | 10.25      |  74.75     | 30.00      | 5.25       | 8.0        | 2.00       | 0          | \n",
       "\n",
       "\n"
      ],
      "text/plain": [
       "  ID GROUP MATERNALAGE SEXO INFANTDOB  MATBMI1COLL MATBMI215d MATBMI32mos\n",
       "1 1  0     17           1   2009-08-20 25          24         24         \n",
       "2 2  0     16           2   2009-08-24 32          31         30         \n",
       "3 3  0     17           2   2009-08-21 23          23         NA         \n",
       "4 4  0     16           2   2009-08-21 26          NA         NA         \n",
       "5 5  0     16          NA   2009-08-29 25          NA         NA         \n",
       "6 6  0     16           2   2009-08-27 29          28         30         \n",
       "  MATBMI44mos BABYWeigth1g ... ALAGLOB ASNGLOB SYSGLOB GLYGLOB GLUGLOB GLNGLOB\n",
       "1 22          3492.7       ... 21.25   0.5     1.00    10.00    87.25  23.25  \n",
       "2 29          3392.9       ... 18.25   0.0     0.75    13.75   100.50  40.50  \n",
       "3 NA          2993.8       ...    NA    NA       NA       NA       NA     NA  \n",
       "4 NA          3692.3       ...    NA    NA       NA       NA       NA     NA  \n",
       "5 NA          3592.5       ...    NA    NA       NA       NA       NA     NA  \n",
       "6 31          3093.5       ... 15.50   0.5     1.50    10.25    74.75  30.00  \n",
       "  PROLINEGLOB SERINEGLOB TYRAMINEGLOB new\n",
       "1 2.75        8.0        1.00         0  \n",
       "2 2.50        9.5        0.75         0  \n",
       "3   NA         NA          NA         0  \n",
       "4   NA         NA          NA         0  \n",
       "5   NA         NA          NA         0  \n",
       "6 5.25        8.0        2.00         0  "
      ]
     },
     "metadata": {},
     "output_type": "display_data"
    }
   ],
   "source": [
    "AA_Sex_1 <- read_sav(\"C:/Users/Personal/AA leche/datos/AMINOACIDOS POR SEXO_1.sav\")\n",
    "head(AA_Sex_1) "
   ]
  },
  {
   "cell_type": "code",
   "execution_count": 3,
   "metadata": {},
   "outputs": [
    {
     "name": "stderr",
     "output_type": "stream",
     "text": [
      "Warning message:\n",
      "\"`as_dictionary()` is soft-deprecated as of rlang 0.3.0.\n",
      "Please use `as_data_pronoun()` instead\n",
      "This warning is displayed once per session.\"Warning message:\n",
      "\"`new_overscope()` is soft-deprecated as of rlang 0.2.0.\n",
      "Please use `new_data_mask()` instead\n",
      "This warning is displayed once per session.\"Warning message:\n",
      "\"The `parent` argument of `new_data_mask()` is deprecated.\n",
      "The parent of the data mask is determined from either:\n",
      "\n",
      "  * The `env` argument of `eval_tidy()`\n",
      "  * Quosure environments when applicable\n",
      "This warning is displayed once per session.\"Warning message:\n",
      "\"`overscope_clean()` is soft-deprecated as of rlang 0.2.0.\n",
      "This warning is displayed once per session.\""
     ]
    },
    {
     "data": {
      "text/html": [
       "<ol class=list-inline>\n",
       "\t<li>'id'</li>\n",
       "\t<li>'group'</li>\n",
       "\t<li>'age'</li>\n",
       "\t<li>'sex'</li>\n",
       "\t<li>'HISCalostrum'</li>\n",
       "\t<li>'HISTransition'</li>\n",
       "\t<li>'HISMature2m'</li>\n",
       "\t<li>'HISMature4m'</li>\n",
       "\t<li>'ILECalostrum'</li>\n",
       "\t<li>'ILETransition'</li>\n",
       "\t<li>'ILEMature2m'</li>\n",
       "\t<li>'ILEMature4m'</li>\n",
       "\t<li>'LEUCalostrum'</li>\n",
       "\t<li>'LEUTransition'</li>\n",
       "\t<li>'LEUMature2m'</li>\n",
       "\t<li>'LEUMature4m'</li>\n",
       "\t<li>'LYSCalostrum'</li>\n",
       "\t<li>'LYSTransition'</li>\n",
       "\t<li>'LYSMature2m'</li>\n",
       "\t<li>'LYSMature4m'</li>\n",
       "\t<li>'METCalostrum'</li>\n",
       "\t<li>'METTransition'</li>\n",
       "\t<li>'METMature2m'</li>\n",
       "\t<li>'METMature4m'</li>\n",
       "\t<li>'PHECalostrum'</li>\n",
       "\t<li>'PHETransition'</li>\n",
       "\t<li>'PHEMature2m'</li>\n",
       "\t<li>'PHEMature4m'</li>\n",
       "\t<li>'THRCalostrum'</li>\n",
       "\t<li>'THRTransition'</li>\n",
       "\t<li>'THRMature2m'</li>\n",
       "\t<li>'THRMature4m'</li>\n",
       "\t<li>'TRPCalostrum'</li>\n",
       "\t<li>'TRPTransition'</li>\n",
       "\t<li>'TRPMature2m'</li>\n",
       "\t<li>'TRPMature4m'</li>\n",
       "\t<li>'VALCalostrum'</li>\n",
       "\t<li>'VALTransition'</li>\n",
       "\t<li>'VALMature2m'</li>\n",
       "\t<li>'VALMature4m'</li>\n",
       "</ol>\n"
      ],
      "text/latex": [
       "\\begin{enumerate*}\n",
       "\\item 'id'\n",
       "\\item 'group'\n",
       "\\item 'age'\n",
       "\\item 'sex'\n",
       "\\item 'HISCalostrum'\n",
       "\\item 'HISTransition'\n",
       "\\item 'HISMature2m'\n",
       "\\item 'HISMature4m'\n",
       "\\item 'ILECalostrum'\n",
       "\\item 'ILETransition'\n",
       "\\item 'ILEMature2m'\n",
       "\\item 'ILEMature4m'\n",
       "\\item 'LEUCalostrum'\n",
       "\\item 'LEUTransition'\n",
       "\\item 'LEUMature2m'\n",
       "\\item 'LEUMature4m'\n",
       "\\item 'LYSCalostrum'\n",
       "\\item 'LYSTransition'\n",
       "\\item 'LYSMature2m'\n",
       "\\item 'LYSMature4m'\n",
       "\\item 'METCalostrum'\n",
       "\\item 'METTransition'\n",
       "\\item 'METMature2m'\n",
       "\\item 'METMature4m'\n",
       "\\item 'PHECalostrum'\n",
       "\\item 'PHETransition'\n",
       "\\item 'PHEMature2m'\n",
       "\\item 'PHEMature4m'\n",
       "\\item 'THRCalostrum'\n",
       "\\item 'THRTransition'\n",
       "\\item 'THRMature2m'\n",
       "\\item 'THRMature4m'\n",
       "\\item 'TRPCalostrum'\n",
       "\\item 'TRPTransition'\n",
       "\\item 'TRPMature2m'\n",
       "\\item 'TRPMature4m'\n",
       "\\item 'VALCalostrum'\n",
       "\\item 'VALTransition'\n",
       "\\item 'VALMature2m'\n",
       "\\item 'VALMature4m'\n",
       "\\end{enumerate*}\n"
      ],
      "text/markdown": [
       "1. 'id'\n",
       "2. 'group'\n",
       "3. 'age'\n",
       "4. 'sex'\n",
       "5. 'HISCalostrum'\n",
       "6. 'HISTransition'\n",
       "7. 'HISMature2m'\n",
       "8. 'HISMature4m'\n",
       "9. 'ILECalostrum'\n",
       "10. 'ILETransition'\n",
       "11. 'ILEMature2m'\n",
       "12. 'ILEMature4m'\n",
       "13. 'LEUCalostrum'\n",
       "14. 'LEUTransition'\n",
       "15. 'LEUMature2m'\n",
       "16. 'LEUMature4m'\n",
       "17. 'LYSCalostrum'\n",
       "18. 'LYSTransition'\n",
       "19. 'LYSMature2m'\n",
       "20. 'LYSMature4m'\n",
       "21. 'METCalostrum'\n",
       "22. 'METTransition'\n",
       "23. 'METMature2m'\n",
       "24. 'METMature4m'\n",
       "25. 'PHECalostrum'\n",
       "26. 'PHETransition'\n",
       "27. 'PHEMature2m'\n",
       "28. 'PHEMature4m'\n",
       "29. 'THRCalostrum'\n",
       "30. 'THRTransition'\n",
       "31. 'THRMature2m'\n",
       "32. 'THRMature4m'\n",
       "33. 'TRPCalostrum'\n",
       "34. 'TRPTransition'\n",
       "35. 'TRPMature2m'\n",
       "36. 'TRPMature4m'\n",
       "37. 'VALCalostrum'\n",
       "38. 'VALTransition'\n",
       "39. 'VALMature2m'\n",
       "40. 'VALMature4m'\n",
       "\n",
       "\n"
      ],
      "text/plain": [
       " [1] \"id\"            \"group\"         \"age\"           \"sex\"          \n",
       " [5] \"HISCalostrum\"  \"HISTransition\" \"HISMature2m\"   \"HISMature4m\"  \n",
       " [9] \"ILECalostrum\"  \"ILETransition\" \"ILEMature2m\"   \"ILEMature4m\"  \n",
       "[13] \"LEUCalostrum\"  \"LEUTransition\" \"LEUMature2m\"   \"LEUMature4m\"  \n",
       "[17] \"LYSCalostrum\"  \"LYSTransition\" \"LYSMature2m\"   \"LYSMature4m\"  \n",
       "[21] \"METCalostrum\"  \"METTransition\" \"METMature2m\"   \"METMature4m\"  \n",
       "[25] \"PHECalostrum\"  \"PHETransition\" \"PHEMature2m\"   \"PHEMature4m\"  \n",
       "[29] \"THRCalostrum\"  \"THRTransition\" \"THRMature2m\"   \"THRMature4m\"  \n",
       "[33] \"TRPCalostrum\"  \"TRPTransition\" \"TRPMature2m\"   \"TRPMature4m\"  \n",
       "[37] \"VALCalostrum\"  \"VALTransition\" \"VALMature2m\"   \"VALMature4m\"  "
      ]
     },
     "metadata": {},
     "output_type": "display_data"
    }
   ],
   "source": [
    "AA_E <- AA_Sex_1 %>%  select(id = ID, group = GROUP, age = MATERNALAGE, sex = SEXO, 62:97) %>%\n",
    "                         mutate(id = factor(id), \n",
    "                                sex =  factor(sex, labels = c('girl', 'boy')),\n",
    "                                group = factor(group, labels = c('teen', 'adult'))) \n",
    "\n",
    "\n",
    "names(AA_E)"
   ]
  },
  {
   "cell_type": "code",
   "execution_count": 4,
   "metadata": {},
   "outputs": [
    {
     "data": {
      "text/html": [
       "<ol class=list-inline>\n",
       "\t<li>'id'</li>\n",
       "\t<li>'group'</li>\n",
       "\t<li>'age'</li>\n",
       "\t<li>'sex'</li>\n",
       "\t<li>'ARGCalostrum'</li>\n",
       "\t<li>'ARGTransition'</li>\n",
       "\t<li>'ARGMature2m'</li>\n",
       "\t<li>'ARGMature4m'</li>\n",
       "\t<li>'ASPCalostrum'</li>\n",
       "\t<li>'ASPTransition'</li>\n",
       "\t<li>'ASPMature2m'</li>\n",
       "\t<li>'ASPMature4m'</li>\n",
       "\t<li>'ALACalostrum'</li>\n",
       "\t<li>'ALATransition'</li>\n",
       "\t<li>'ALAMature2m'</li>\n",
       "\t<li>'ALAMature4m'</li>\n",
       "\t<li>'ASNCalostrum'</li>\n",
       "\t<li>'ASNTransition'</li>\n",
       "\t<li>'ASNMature2m'</li>\n",
       "\t<li>'ASNMature4m'</li>\n",
       "\t<li>'CYSCalostrum'</li>\n",
       "\t<li>'CYSTransition'</li>\n",
       "\t<li>'CYSMature2m'</li>\n",
       "\t<li>'CYSMature4m'</li>\n",
       "\t<li>'GLYCalostrum'</li>\n",
       "\t<li>'GLYTransition'</li>\n",
       "\t<li>'GLYMature2m'</li>\n",
       "\t<li>'GLYMature4m'</li>\n",
       "\t<li>'GLUCalostrum'</li>\n",
       "\t<li>'GLUTransition'</li>\n",
       "\t<li>'GLUMature2m'</li>\n",
       "\t<li>'GLUMature4m'</li>\n",
       "\t<li>'GLNCalostrum'</li>\n",
       "\t<li>'GLNTransition'</li>\n",
       "\t<li>'GLNMature2m'</li>\n",
       "\t<li>'GLNMature4m'</li>\n",
       "\t<li>'PROCalostrum'</li>\n",
       "\t<li>'PROTransition'</li>\n",
       "\t<li>'PROMature2m'</li>\n",
       "\t<li>'PROMature4m'</li>\n",
       "\t<li>'SERCalostrum'</li>\n",
       "\t<li>'SERTransition'</li>\n",
       "\t<li>'SERMature2m'</li>\n",
       "\t<li>'SERMature4m'</li>\n",
       "\t<li>'TYRCalostrum'</li>\n",
       "\t<li>'TYRTransition'</li>\n",
       "\t<li>'TYRMature2m'</li>\n",
       "\t<li>'TYRMature4m'</li>\n",
       "</ol>\n"
      ],
      "text/latex": [
       "\\begin{enumerate*}\n",
       "\\item 'id'\n",
       "\\item 'group'\n",
       "\\item 'age'\n",
       "\\item 'sex'\n",
       "\\item 'ARGCalostrum'\n",
       "\\item 'ARGTransition'\n",
       "\\item 'ARGMature2m'\n",
       "\\item 'ARGMature4m'\n",
       "\\item 'ASPCalostrum'\n",
       "\\item 'ASPTransition'\n",
       "\\item 'ASPMature2m'\n",
       "\\item 'ASPMature4m'\n",
       "\\item 'ALACalostrum'\n",
       "\\item 'ALATransition'\n",
       "\\item 'ALAMature2m'\n",
       "\\item 'ALAMature4m'\n",
       "\\item 'ASNCalostrum'\n",
       "\\item 'ASNTransition'\n",
       "\\item 'ASNMature2m'\n",
       "\\item 'ASNMature4m'\n",
       "\\item 'CYSCalostrum'\n",
       "\\item 'CYSTransition'\n",
       "\\item 'CYSMature2m'\n",
       "\\item 'CYSMature4m'\n",
       "\\item 'GLYCalostrum'\n",
       "\\item 'GLYTransition'\n",
       "\\item 'GLYMature2m'\n",
       "\\item 'GLYMature4m'\n",
       "\\item 'GLUCalostrum'\n",
       "\\item 'GLUTransition'\n",
       "\\item 'GLUMature2m'\n",
       "\\item 'GLUMature4m'\n",
       "\\item 'GLNCalostrum'\n",
       "\\item 'GLNTransition'\n",
       "\\item 'GLNMature2m'\n",
       "\\item 'GLNMature4m'\n",
       "\\item 'PROCalostrum'\n",
       "\\item 'PROTransition'\n",
       "\\item 'PROMature2m'\n",
       "\\item 'PROMature4m'\n",
       "\\item 'SERCalostrum'\n",
       "\\item 'SERTransition'\n",
       "\\item 'SERMature2m'\n",
       "\\item 'SERMature4m'\n",
       "\\item 'TYRCalostrum'\n",
       "\\item 'TYRTransition'\n",
       "\\item 'TYRMature2m'\n",
       "\\item 'TYRMature4m'\n",
       "\\end{enumerate*}\n"
      ],
      "text/markdown": [
       "1. 'id'\n",
       "2. 'group'\n",
       "3. 'age'\n",
       "4. 'sex'\n",
       "5. 'ARGCalostrum'\n",
       "6. 'ARGTransition'\n",
       "7. 'ARGMature2m'\n",
       "8. 'ARGMature4m'\n",
       "9. 'ASPCalostrum'\n",
       "10. 'ASPTransition'\n",
       "11. 'ASPMature2m'\n",
       "12. 'ASPMature4m'\n",
       "13. 'ALACalostrum'\n",
       "14. 'ALATransition'\n",
       "15. 'ALAMature2m'\n",
       "16. 'ALAMature4m'\n",
       "17. 'ASNCalostrum'\n",
       "18. 'ASNTransition'\n",
       "19. 'ASNMature2m'\n",
       "20. 'ASNMature4m'\n",
       "21. 'CYSCalostrum'\n",
       "22. 'CYSTransition'\n",
       "23. 'CYSMature2m'\n",
       "24. 'CYSMature4m'\n",
       "25. 'GLYCalostrum'\n",
       "26. 'GLYTransition'\n",
       "27. 'GLYMature2m'\n",
       "28. 'GLYMature4m'\n",
       "29. 'GLUCalostrum'\n",
       "30. 'GLUTransition'\n",
       "31. 'GLUMature2m'\n",
       "32. 'GLUMature4m'\n",
       "33. 'GLNCalostrum'\n",
       "34. 'GLNTransition'\n",
       "35. 'GLNMature2m'\n",
       "36. 'GLNMature4m'\n",
       "37. 'PROCalostrum'\n",
       "38. 'PROTransition'\n",
       "39. 'PROMature2m'\n",
       "40. 'PROMature4m'\n",
       "41. 'SERCalostrum'\n",
       "42. 'SERTransition'\n",
       "43. 'SERMature2m'\n",
       "44. 'SERMature4m'\n",
       "45. 'TYRCalostrum'\n",
       "46. 'TYRTransition'\n",
       "47. 'TYRMature2m'\n",
       "48. 'TYRMature4m'\n",
       "\n",
       "\n"
      ],
      "text/plain": [
       " [1] \"id\"            \"group\"         \"age\"           \"sex\"          \n",
       " [5] \"ARGCalostrum\"  \"ARGTransition\" \"ARGMature2m\"   \"ARGMature4m\"  \n",
       " [9] \"ASPCalostrum\"  \"ASPTransition\" \"ASPMature2m\"   \"ASPMature4m\"  \n",
       "[13] \"ALACalostrum\"  \"ALATransition\" \"ALAMature2m\"   \"ALAMature4m\"  \n",
       "[17] \"ASNCalostrum\"  \"ASNTransition\" \"ASNMature2m\"   \"ASNMature4m\"  \n",
       "[21] \"CYSCalostrum\"  \"CYSTransition\" \"CYSMature2m\"   \"CYSMature4m\"  \n",
       "[25] \"GLYCalostrum\"  \"GLYTransition\" \"GLYMature2m\"   \"GLYMature4m\"  \n",
       "[29] \"GLUCalostrum\"  \"GLUTransition\" \"GLUMature2m\"   \"GLUMature4m\"  \n",
       "[33] \"GLNCalostrum\"  \"GLNTransition\" \"GLNMature2m\"   \"GLNMature4m\"  \n",
       "[37] \"PROCalostrum\"  \"PROTransition\" \"PROMature2m\"   \"PROMature4m\"  \n",
       "[41] \"SERCalostrum\"  \"SERTransition\" \"SERMature2m\"   \"SERMature4m\"  \n",
       "[45] \"TYRCalostrum\"  \"TYRTransition\" \"TYRMature2m\"   \"TYRMature4m\"  "
      ]
     },
     "metadata": {},
     "output_type": "display_data"
    }
   ],
   "source": [
    "AA_NE <- AA_Sex_1 %>%  select(id = ID, group = GROUP, age = MATERNALAGE, sex = SEXO, 58:61, 102:141) %>%\n",
    "                         mutate(id = factor(id), \n",
    "                                sex =  factor(sex, labels = c('girl', 'boy')),\n",
    "                                group = factor(group, labels = c('teen', 'adult'))) \n",
    "\n",
    "names(AA_NE)"
   ]
  },
  {
   "cell_type": "code",
   "execution_count": 5,
   "metadata": {},
   "outputs": [
    {
     "name": "stderr",
     "output_type": "stream",
     "text": [
      "Warning message:\n",
      "\"attributes are not identical across measure variables; they will be dropped\"Warning message:\n",
      "\"attributes are not identical across measure variables; they will be dropped\""
     ]
    },
    {
     "data": {
      "text/html": [
       "<table>\n",
       "<thead><tr><th scope=col>id</th><th scope=col>group</th><th scope=col>age</th><th scope=col>sex</th><th scope=col>weekNames</th><th scope=col>level</th></tr></thead>\n",
       "<tbody>\n",
       "\t<tr><td>1           </td><td>teen        </td><td>17          </td><td>girl        </td><td>HISCalostrum</td><td>2           </td></tr>\n",
       "\t<tr><td>2           </td><td>teen        </td><td>16          </td><td>boy         </td><td>HISCalostrum</td><td>1           </td></tr>\n",
       "\t<tr><td>3           </td><td>teen        </td><td>17          </td><td>boy         </td><td>HISCalostrum</td><td>2           </td></tr>\n",
       "\t<tr><td>4           </td><td>teen        </td><td>16          </td><td>boy         </td><td>HISCalostrum</td><td>1           </td></tr>\n",
       "\t<tr><td>5           </td><td>teen        </td><td>16          </td><td>NA          </td><td>HISCalostrum</td><td>1           </td></tr>\n",
       "\t<tr><td>6           </td><td>teen        </td><td>16          </td><td>boy         </td><td>HISCalostrum</td><td>1           </td></tr>\n",
       "</tbody>\n",
       "</table>\n"
      ],
      "text/latex": [
       "\\begin{tabular}{r|llllll}\n",
       " id & group & age & sex & weekNames & level\\\\\n",
       "\\hline\n",
       "\t 1            & teen         & 17           & girl         & HISCalostrum & 2           \\\\\n",
       "\t 2            & teen         & 16           & boy          & HISCalostrum & 1           \\\\\n",
       "\t 3            & teen         & 17           & boy          & HISCalostrum & 2           \\\\\n",
       "\t 4            & teen         & 16           & boy          & HISCalostrum & 1           \\\\\n",
       "\t 5            & teen         & 16           & NA           & HISCalostrum & 1           \\\\\n",
       "\t 6            & teen         & 16           & boy          & HISCalostrum & 1           \\\\\n",
       "\\end{tabular}\n"
      ],
      "text/markdown": [
       "\n",
       "id | group | age | sex | weekNames | level | \n",
       "|---|---|---|---|---|---|\n",
       "| 1            | teen         | 17           | girl         | HISCalostrum | 2            | \n",
       "| 2            | teen         | 16           | boy          | HISCalostrum | 1            | \n",
       "| 3            | teen         | 17           | boy          | HISCalostrum | 2            | \n",
       "| 4            | teen         | 16           | boy          | HISCalostrum | 1            | \n",
       "| 5            | teen         | 16           | NA           | HISCalostrum | 1            | \n",
       "| 6            | teen         | 16           | boy          | HISCalostrum | 1            | \n",
       "\n",
       "\n"
      ],
      "text/plain": [
       "  id group age sex  weekNames    level\n",
       "1 1  teen  17  girl HISCalostrum 2    \n",
       "2 2  teen  16  boy  HISCalostrum 1    \n",
       "3 3  teen  17  boy  HISCalostrum 2    \n",
       "4 4  teen  16  boy  HISCalostrum 1    \n",
       "5 5  teen  16  NA   HISCalostrum 1    \n",
       "6 6  teen  16  boy  HISCalostrum 1    "
      ]
     },
     "metadata": {},
     "output_type": "display_data"
    }
   ],
   "source": [
    "# Removing NAs\n",
    "AA_E_Long <- AA_E %>% gather(weekNames, level, 5:length(names(AA_E))) \n",
    "AA_NE_Long <- AA_NE %>% gather(weekNames, level, 5:length(names(AA_NE))) \n",
    "\n",
    "head(AA_E_Long)"
   ]
  },
  {
   "cell_type": "code",
   "execution_count": 6,
   "metadata": {},
   "outputs": [
    {
     "data": {
      "text/html": [
       "<table>\n",
       "<thead><tr><th scope=col>id</th><th scope=col>group</th><th scope=col>age</th><th scope=col>sex</th><th scope=col>weekNames</th><th scope=col>level</th><th scope=col>week</th><th scope=col>AA</th></tr></thead>\n",
       "<tbody>\n",
       "\t<tr><td>1           </td><td>teen        </td><td>17          </td><td>girl        </td><td>HISCalostrum</td><td>2           </td><td>1           </td><td>HIS         </td></tr>\n",
       "\t<tr><td>2           </td><td>teen        </td><td>16          </td><td>boy         </td><td>HISCalostrum</td><td>1           </td><td>1           </td><td>HIS         </td></tr>\n",
       "\t<tr><td>3           </td><td>teen        </td><td>17          </td><td>boy         </td><td>HISCalostrum</td><td>2           </td><td>1           </td><td>HIS         </td></tr>\n",
       "\t<tr><td>4           </td><td>teen        </td><td>16          </td><td>boy         </td><td>HISCalostrum</td><td>1           </td><td>1           </td><td>HIS         </td></tr>\n",
       "\t<tr><td>5           </td><td>teen        </td><td>16          </td><td>NA          </td><td>HISCalostrum</td><td>1           </td><td>1           </td><td>HIS         </td></tr>\n",
       "\t<tr><td>6           </td><td>teen        </td><td>16          </td><td>boy         </td><td>HISCalostrum</td><td>1           </td><td>1           </td><td>HIS         </td></tr>\n",
       "</tbody>\n",
       "</table>\n"
      ],
      "text/latex": [
       "\\begin{tabular}{r|llllllll}\n",
       " id & group & age & sex & weekNames & level & week & AA\\\\\n",
       "\\hline\n",
       "\t 1            & teen         & 17           & girl         & HISCalostrum & 2            & 1            & HIS         \\\\\n",
       "\t 2            & teen         & 16           & boy          & HISCalostrum & 1            & 1            & HIS         \\\\\n",
       "\t 3            & teen         & 17           & boy          & HISCalostrum & 2            & 1            & HIS         \\\\\n",
       "\t 4            & teen         & 16           & boy          & HISCalostrum & 1            & 1            & HIS         \\\\\n",
       "\t 5            & teen         & 16           & NA           & HISCalostrum & 1            & 1            & HIS         \\\\\n",
       "\t 6            & teen         & 16           & boy          & HISCalostrum & 1            & 1            & HIS         \\\\\n",
       "\\end{tabular}\n"
      ],
      "text/markdown": [
       "\n",
       "id | group | age | sex | weekNames | level | week | AA | \n",
       "|---|---|---|---|---|---|\n",
       "| 1            | teen         | 17           | girl         | HISCalostrum | 2            | 1            | HIS          | \n",
       "| 2            | teen         | 16           | boy          | HISCalostrum | 1            | 1            | HIS          | \n",
       "| 3            | teen         | 17           | boy          | HISCalostrum | 2            | 1            | HIS          | \n",
       "| 4            | teen         | 16           | boy          | HISCalostrum | 1            | 1            | HIS          | \n",
       "| 5            | teen         | 16           | NA           | HISCalostrum | 1            | 1            | HIS          | \n",
       "| 6            | teen         | 16           | boy          | HISCalostrum | 1            | 1            | HIS          | \n",
       "\n",
       "\n"
      ],
      "text/plain": [
       "  id group age sex  weekNames    level week AA \n",
       "1 1  teen  17  girl HISCalostrum 2     1    HIS\n",
       "2 2  teen  16  boy  HISCalostrum 1     1    HIS\n",
       "3 3  teen  17  boy  HISCalostrum 2     1    HIS\n",
       "4 4  teen  16  boy  HISCalostrum 1     1    HIS\n",
       "5 5  teen  16  NA   HISCalostrum 1     1    HIS\n",
       "6 6  teen  16  boy  HISCalostrum 1     1    HIS"
      ]
     },
     "metadata": {},
     "output_type": "display_data"
    }
   ],
   "source": [
    "AA_E_Long <- \n",
    "    AA_E_Long %>% \n",
    "        mutate(week = gsub(\".*Calostrum.*\", \"1\", weekNames)) %>%\n",
    "        mutate(week = gsub(\".*Transition.*\", \"2\", week)) %>%\n",
    "        mutate(week = gsub(\".*Mature2m.*\", \"8\", week)) %>%\n",
    "        mutate(week = gsub(\".*Mature4m.*\", \"16\", week)) %>% \n",
    "        mutate(week = as.numeric(week))\n",
    "\n",
    "AA_E_Long <- \n",
    "    AA_E_Long %>% \n",
    "        mutate(AA = gsub(\"Calostrum.*\", \"\", weekNames)) %>%\n",
    "        mutate(AA = gsub(\"Transition.*\", \"\", AA)) %>%\n",
    "        mutate(AA = gsub(\"Mature2m.*\", \"\", AA)) %>%\n",
    "        mutate(AA = gsub(\"Mature4m.*\", \"\", AA))\n",
    "\n",
    "head(AA_E_Long)"
   ]
  },
  {
   "cell_type": "code",
   "execution_count": 7,
   "metadata": {},
   "outputs": [
    {
     "data": {
      "text/html": [
       "<table>\n",
       "<thead><tr><th scope=col>id</th><th scope=col>group</th><th scope=col>age</th><th scope=col>sex</th><th scope=col>weekNames</th><th scope=col>level</th><th scope=col>week</th><th scope=col>AA</th></tr></thead>\n",
       "<tbody>\n",
       "\t<tr><td>1           </td><td>teen        </td><td>17          </td><td>girl        </td><td>ARGCalostrum</td><td>1           </td><td>1           </td><td>ARG         </td></tr>\n",
       "\t<tr><td>2           </td><td>teen        </td><td>16          </td><td>boy         </td><td>ARGCalostrum</td><td>1           </td><td>1           </td><td>ARG         </td></tr>\n",
       "\t<tr><td>3           </td><td>teen        </td><td>17          </td><td>boy         </td><td>ARGCalostrum</td><td>1           </td><td>1           </td><td>ARG         </td></tr>\n",
       "\t<tr><td>4           </td><td>teen        </td><td>16          </td><td>boy         </td><td>ARGCalostrum</td><td>1           </td><td>1           </td><td>ARG         </td></tr>\n",
       "\t<tr><td>5           </td><td>teen        </td><td>16          </td><td>NA          </td><td>ARGCalostrum</td><td>2           </td><td>1           </td><td>ARG         </td></tr>\n",
       "\t<tr><td>6           </td><td>teen        </td><td>16          </td><td>boy         </td><td>ARGCalostrum</td><td>2           </td><td>1           </td><td>ARG         </td></tr>\n",
       "</tbody>\n",
       "</table>\n"
      ],
      "text/latex": [
       "\\begin{tabular}{r|llllllll}\n",
       " id & group & age & sex & weekNames & level & week & AA\\\\\n",
       "\\hline\n",
       "\t 1            & teen         & 17           & girl         & ARGCalostrum & 1            & 1            & ARG         \\\\\n",
       "\t 2            & teen         & 16           & boy          & ARGCalostrum & 1            & 1            & ARG         \\\\\n",
       "\t 3            & teen         & 17           & boy          & ARGCalostrum & 1            & 1            & ARG         \\\\\n",
       "\t 4            & teen         & 16           & boy          & ARGCalostrum & 1            & 1            & ARG         \\\\\n",
       "\t 5            & teen         & 16           & NA           & ARGCalostrum & 2            & 1            & ARG         \\\\\n",
       "\t 6            & teen         & 16           & boy          & ARGCalostrum & 2            & 1            & ARG         \\\\\n",
       "\\end{tabular}\n"
      ],
      "text/markdown": [
       "\n",
       "id | group | age | sex | weekNames | level | week | AA | \n",
       "|---|---|---|---|---|---|\n",
       "| 1            | teen         | 17           | girl         | ARGCalostrum | 1            | 1            | ARG          | \n",
       "| 2            | teen         | 16           | boy          | ARGCalostrum | 1            | 1            | ARG          | \n",
       "| 3            | teen         | 17           | boy          | ARGCalostrum | 1            | 1            | ARG          | \n",
       "| 4            | teen         | 16           | boy          | ARGCalostrum | 1            | 1            | ARG          | \n",
       "| 5            | teen         | 16           | NA           | ARGCalostrum | 2            | 1            | ARG          | \n",
       "| 6            | teen         | 16           | boy          | ARGCalostrum | 2            | 1            | ARG          | \n",
       "\n",
       "\n"
      ],
      "text/plain": [
       "  id group age sex  weekNames    level week AA \n",
       "1 1  teen  17  girl ARGCalostrum 1     1    ARG\n",
       "2 2  teen  16  boy  ARGCalostrum 1     1    ARG\n",
       "3 3  teen  17  boy  ARGCalostrum 1     1    ARG\n",
       "4 4  teen  16  boy  ARGCalostrum 1     1    ARG\n",
       "5 5  teen  16  NA   ARGCalostrum 2     1    ARG\n",
       "6 6  teen  16  boy  ARGCalostrum 2     1    ARG"
      ]
     },
     "metadata": {},
     "output_type": "display_data"
    }
   ],
   "source": [
    "AA_NE_Long <- \n",
    "    AA_NE_Long %>% \n",
    "        mutate(week = gsub(\".*Calostrum.*\", \"1\", weekNames)) %>%\n",
    "        mutate(week = gsub(\".*Transition.*\", \"2\", week)) %>%\n",
    "        mutate(week = gsub(\".*Mature2m.*\", \"8\", week)) %>%\n",
    "        mutate(week = gsub(\".*Mature4m.*\", \"16\", week)) %>% \n",
    "        mutate(week = as.numeric(week))\n",
    "\n",
    "AA_NE_Long <- \n",
    "    AA_NE_Long %>% \n",
    "        mutate(AA = gsub(\"Calostrum.*\", \"\", weekNames)) %>%\n",
    "        mutate(AA = gsub(\"Transition.*\", \"\", AA)) %>%\n",
    "        mutate(AA = gsub(\"Mature2m.*\", \"\", AA)) %>%\n",
    "        mutate(AA = gsub(\"Mature4m.*\", \"\", AA))\n",
    "\n",
    "head(AA_NE_Long)"
   ]
  },
  {
   "cell_type": "markdown",
   "metadata": {},
   "source": [
    "## Weight and size of babies"
   ]
  },
  {
   "cell_type": "code",
   "execution_count": 8,
   "metadata": {},
   "outputs": [
    {
     "data": {
      "text/html": [
       "<table>\n",
       "<thead><tr><th scope=col>id</th><th scope=col>group</th><th scope=col>sex</th><th scope=col>BABYWeigth1g</th><th scope=col>BABYWeigth2g</th><th scope=col>BABYWeigth3g</th><th scope=col>BABYWeigth4g</th></tr></thead>\n",
       "<tbody>\n",
       "\t<tr><td>1      </td><td>teen   </td><td>girl   </td><td>3492.7 </td><td>3592.5 </td><td>5488.6 </td><td>8282.74</td></tr>\n",
       "\t<tr><td>2      </td><td>teen   </td><td>boy    </td><td>3392.9 </td><td>4091.5 </td><td>5987.5 </td><td>7883.57</td></tr>\n",
       "\t<tr><td>3      </td><td>teen   </td><td>boy    </td><td>2993.8 </td><td>3592.5 </td><td>    NA </td><td>     NA</td></tr>\n",
       "\t<tr><td>4      </td><td>teen   </td><td>boy    </td><td>3692.3 </td><td>    NA </td><td>    NA </td><td>     NA</td></tr>\n",
       "\t<tr><td>5      </td><td>teen   </td><td>NA     </td><td>3592.5 </td><td>    NA </td><td>    NA </td><td>     NA</td></tr>\n",
       "\t<tr><td>6      </td><td>teen   </td><td>boy    </td><td>3093.5 </td><td>3392.9 </td><td>4989.6 </td><td>6785.80</td></tr>\n",
       "</tbody>\n",
       "</table>\n"
      ],
      "text/latex": [
       "\\begin{tabular}{r|lllllll}\n",
       " id & group & sex & BABYWeigth1g & BABYWeigth2g & BABYWeigth3g & BABYWeigth4g\\\\\n",
       "\\hline\n",
       "\t 1       & teen    & girl    & 3492.7  & 3592.5  & 5488.6  & 8282.74\\\\\n",
       "\t 2       & teen    & boy     & 3392.9  & 4091.5  & 5987.5  & 7883.57\\\\\n",
       "\t 3       & teen    & boy     & 2993.8  & 3592.5  &     NA  &      NA\\\\\n",
       "\t 4       & teen    & boy     & 3692.3  &     NA  &     NA  &      NA\\\\\n",
       "\t 5       & teen    & NA      & 3592.5  &     NA  &     NA  &      NA\\\\\n",
       "\t 6       & teen    & boy     & 3093.5  & 3392.9  & 4989.6  & 6785.80\\\\\n",
       "\\end{tabular}\n"
      ],
      "text/markdown": [
       "\n",
       "id | group | sex | BABYWeigth1g | BABYWeigth2g | BABYWeigth3g | BABYWeigth4g | \n",
       "|---|---|---|---|---|---|\n",
       "| 1       | teen    | girl    | 3492.7  | 3592.5  | 5488.6  | 8282.74 | \n",
       "| 2       | teen    | boy     | 3392.9  | 4091.5  | 5987.5  | 7883.57 | \n",
       "| 3       | teen    | boy     | 2993.8  | 3592.5  |     NA  |      NA | \n",
       "| 4       | teen    | boy     | 3692.3  |     NA  |     NA  |      NA | \n",
       "| 5       | teen    | NA      | 3592.5  |     NA  |     NA  |      NA | \n",
       "| 6       | teen    | boy     | 3093.5  | 3392.9  | 4989.6  | 6785.80 | \n",
       "\n",
       "\n"
      ],
      "text/plain": [
       "  id group sex  BABYWeigth1g BABYWeigth2g BABYWeigth3g BABYWeigth4g\n",
       "1 1  teen  girl 3492.7       3592.5       5488.6       8282.74     \n",
       "2 2  teen  boy  3392.9       4091.5       5987.5       7883.57     \n",
       "3 3  teen  boy  2993.8       3592.5           NA            NA     \n",
       "4 4  teen  boy  3692.3           NA           NA            NA     \n",
       "5 5  teen  NA   3592.5           NA           NA            NA     \n",
       "6 6  teen  boy  3093.5       3392.9       4989.6       6785.80     "
      ]
     },
     "metadata": {},
     "output_type": "display_data"
    }
   ],
   "source": [
    "weight <- AA_Sex_1 %>% select(id = ID, group = GROUP, sex = SEXO, 10:13) %>% \n",
    "                        mutate(id = factor(id), \n",
    "                               sex =  factor(sex, labels = c('girl', 'boy')),\n",
    "                               group = factor(group, labels = c('teen', 'adult')))\n",
    "\n",
    "headC <- AA_Sex_1 %>% select(id = ID, group = GROUP, sex = SEXO, 14:17) %>% \n",
    "                        mutate(id = factor(id), \n",
    "                               sex =  factor(sex, labels = c('girl', 'boy')),\n",
    "                               group = factor(group, labels = c('teen', 'adult')))\n",
    "\n",
    "\n",
    "head(weight)"
   ]
  },
  {
   "cell_type": "code",
   "execution_count": 9,
   "metadata": {},
   "outputs": [
    {
     "name": "stderr",
     "output_type": "stream",
     "text": [
      "Warning message:\n",
      "\"attributes are not identical across measure variables; they will be dropped\"Warning message:\n",
      "\"attributes are not identical across measure variables; they will be dropped\""
     ]
    },
    {
     "data": {
      "text/html": [
       "<table>\n",
       "<thead><tr><th scope=col>id</th><th scope=col>group</th><th scope=col>sex</th><th scope=col>weekNames</th><th scope=col>weight</th></tr></thead>\n",
       "<tbody>\n",
       "\t<tr><td>4           </td><td>teen        </td><td>boy         </td><td>BABYWeigth1g</td><td>3692.3      </td></tr>\n",
       "\t<tr><td>4           </td><td>teen        </td><td>boy         </td><td>BABYWeigth2g</td><td>    NA      </td></tr>\n",
       "\t<tr><td>4           </td><td>teen        </td><td>boy         </td><td>BABYWeigth3g</td><td>    NA      </td></tr>\n",
       "\t<tr><td>4           </td><td>teen        </td><td>boy         </td><td>BABYWeigth4g</td><td>    NA      </td></tr>\n",
       "</tbody>\n",
       "</table>\n"
      ],
      "text/latex": [
       "\\begin{tabular}{r|lllll}\n",
       " id & group & sex & weekNames & weight\\\\\n",
       "\\hline\n",
       "\t 4            & teen         & boy          & BABYWeigth1g & 3692.3      \\\\\n",
       "\t 4            & teen         & boy          & BABYWeigth2g &     NA      \\\\\n",
       "\t 4            & teen         & boy          & BABYWeigth3g &     NA      \\\\\n",
       "\t 4            & teen         & boy          & BABYWeigth4g &     NA      \\\\\n",
       "\\end{tabular}\n"
      ],
      "text/markdown": [
       "\n",
       "id | group | sex | weekNames | weight | \n",
       "|---|---|---|---|\n",
       "| 4            | teen         | boy          | BABYWeigth1g | 3692.3       | \n",
       "| 4            | teen         | boy          | BABYWeigth2g |     NA       | \n",
       "| 4            | teen         | boy          | BABYWeigth3g |     NA       | \n",
       "| 4            | teen         | boy          | BABYWeigth4g |     NA       | \n",
       "\n",
       "\n"
      ],
      "text/plain": [
       "  id group sex weekNames    weight\n",
       "1 4  teen  boy BABYWeigth1g 3692.3\n",
       "2 4  teen  boy BABYWeigth2g     NA\n",
       "3 4  teen  boy BABYWeigth3g     NA\n",
       "4 4  teen  boy BABYWeigth4g     NA"
      ]
     },
     "metadata": {},
     "output_type": "display_data"
    },
    {
     "data": {
      "text/html": [
       "<table>\n",
       "<thead><tr><th scope=col>id</th><th scope=col>group</th><th scope=col>sex</th><th scope=col>weekNames</th><th scope=col>head</th></tr></thead>\n",
       "<tbody>\n",
       "\t<tr><td>4            </td><td>teen         </td><td>boy          </td><td>HeadCircumcm1</td><td>37           </td></tr>\n",
       "\t<tr><td>4            </td><td>teen         </td><td>boy          </td><td>HCcm2        </td><td>NA           </td></tr>\n",
       "\t<tr><td>4            </td><td>teen         </td><td>boy          </td><td>HCcm3        </td><td>NA           </td></tr>\n",
       "\t<tr><td>4            </td><td>teen         </td><td>boy          </td><td>HCcm4        </td><td>NA           </td></tr>\n",
       "</tbody>\n",
       "</table>\n"
      ],
      "text/latex": [
       "\\begin{tabular}{r|lllll}\n",
       " id & group & sex & weekNames & head\\\\\n",
       "\\hline\n",
       "\t 4             & teen          & boy           & HeadCircumcm1 & 37           \\\\\n",
       "\t 4             & teen          & boy           & HCcm2         & NA           \\\\\n",
       "\t 4             & teen          & boy           & HCcm3         & NA           \\\\\n",
       "\t 4             & teen          & boy           & HCcm4         & NA           \\\\\n",
       "\\end{tabular}\n"
      ],
      "text/markdown": [
       "\n",
       "id | group | sex | weekNames | head | \n",
       "|---|---|---|---|\n",
       "| 4             | teen          | boy           | HeadCircumcm1 | 37            | \n",
       "| 4             | teen          | boy           | HCcm2         | NA            | \n",
       "| 4             | teen          | boy           | HCcm3         | NA            | \n",
       "| 4             | teen          | boy           | HCcm4         | NA            | \n",
       "\n",
       "\n"
      ],
      "text/plain": [
       "  id group sex weekNames     head\n",
       "1 4  teen  boy HeadCircumcm1 37  \n",
       "2 4  teen  boy HCcm2         NA  \n",
       "3 4  teen  boy HCcm3         NA  \n",
       "4 4  teen  boy HCcm4         NA  "
      ]
     },
     "metadata": {},
     "output_type": "display_data"
    }
   ],
   "source": [
    "weightLong <- weight %>% gather(weekNames, weight, -id, -group, -sex)\n",
    "headCLong <- headC %>% gather(weekNames, head, -id, -group, -sex)\n",
    "\n",
    "weightLong %>% filter(id == 4)\n",
    "headCLong %>% filter(id == 4)"
   ]
  },
  {
   "cell_type": "code",
   "execution_count": 10,
   "metadata": {},
   "outputs": [
    {
     "data": {
      "text/html": [
       "<table>\n",
       "<thead><tr><th scope=col>id</th><th scope=col>group</th><th scope=col>sex</th><th scope=col>weekNames</th><th scope=col>weight</th><th scope=col>week</th></tr></thead>\n",
       "<tbody>\n",
       "\t<tr><td>1           </td><td>teen        </td><td>girl        </td><td>BABYWeigth1g</td><td>3492.70     </td><td> 1          </td></tr>\n",
       "\t<tr><td>1           </td><td>teen        </td><td>girl        </td><td>BABYWeigth2g</td><td>3592.50     </td><td> 2          </td></tr>\n",
       "\t<tr><td>1           </td><td>teen        </td><td>girl        </td><td>BABYWeigth3g</td><td>5488.60     </td><td> 8          </td></tr>\n",
       "\t<tr><td>1           </td><td>teen        </td><td>girl        </td><td>BABYWeigth4g</td><td>8282.74     </td><td>16          </td></tr>\n",
       "</tbody>\n",
       "</table>\n"
      ],
      "text/latex": [
       "\\begin{tabular}{r|llllll}\n",
       " id & group & sex & weekNames & weight & week\\\\\n",
       "\\hline\n",
       "\t 1            & teen         & girl         & BABYWeigth1g & 3492.70      &  1          \\\\\n",
       "\t 1            & teen         & girl         & BABYWeigth2g & 3592.50      &  2          \\\\\n",
       "\t 1            & teen         & girl         & BABYWeigth3g & 5488.60      &  8          \\\\\n",
       "\t 1            & teen         & girl         & BABYWeigth4g & 8282.74      & 16          \\\\\n",
       "\\end{tabular}\n"
      ],
      "text/markdown": [
       "\n",
       "id | group | sex | weekNames | weight | week | \n",
       "|---|---|---|---|\n",
       "| 1            | teen         | girl         | BABYWeigth1g | 3492.70      |  1           | \n",
       "| 1            | teen         | girl         | BABYWeigth2g | 3592.50      |  2           | \n",
       "| 1            | teen         | girl         | BABYWeigth3g | 5488.60      |  8           | \n",
       "| 1            | teen         | girl         | BABYWeigth4g | 8282.74      | 16           | \n",
       "\n",
       "\n"
      ],
      "text/plain": [
       "  id group sex  weekNames    weight  week\n",
       "1 1  teen  girl BABYWeigth1g 3492.70  1  \n",
       "2 1  teen  girl BABYWeigth2g 3592.50  2  \n",
       "3 1  teen  girl BABYWeigth3g 5488.60  8  \n",
       "4 1  teen  girl BABYWeigth4g 8282.74 16  "
      ]
     },
     "metadata": {},
     "output_type": "display_data"
    }
   ],
   "source": [
    "weightLong <- \n",
    "    weightLong %>% \n",
    "        mutate(week = gsub(\".*1g\", \"1\", weekNames)) %>%\n",
    "        mutate(week = gsub(\".*2g\", \"2\", week)) %>%\n",
    "        mutate(week = gsub(\".*3g\", \"8\", week)) %>%\n",
    "        mutate(week = gsub(\".*4g\", \"16\", week)) %>% \n",
    "        mutate(week = as.numeric(week))\n",
    "\n",
    "weightLong %>% filter(id == 1)"
   ]
  },
  {
   "cell_type": "code",
   "execution_count": 11,
   "metadata": {},
   "outputs": [
    {
     "data": {
      "text/html": [
       "<table>\n",
       "<thead><tr><th scope=col>id</th><th scope=col>group</th><th scope=col>sex</th><th scope=col>weekNames</th><th scope=col>head</th><th scope=col>week</th></tr></thead>\n",
       "<tbody>\n",
       "\t<tr><td>1            </td><td>teen         </td><td>girl         </td><td>HeadCircumcm1</td><td>34           </td><td> 1           </td></tr>\n",
       "\t<tr><td>1            </td><td>teen         </td><td>girl         </td><td>HCcm2        </td><td>37           </td><td> 2           </td></tr>\n",
       "\t<tr><td>1            </td><td>teen         </td><td>girl         </td><td>HCcm3        </td><td>39           </td><td> 8           </td></tr>\n",
       "\t<tr><td>1            </td><td>teen         </td><td>girl         </td><td>HCcm4        </td><td>42           </td><td>16           </td></tr>\n",
       "</tbody>\n",
       "</table>\n"
      ],
      "text/latex": [
       "\\begin{tabular}{r|llllll}\n",
       " id & group & sex & weekNames & head & week\\\\\n",
       "\\hline\n",
       "\t 1             & teen          & girl          & HeadCircumcm1 & 34            &  1           \\\\\n",
       "\t 1             & teen          & girl          & HCcm2         & 37            &  2           \\\\\n",
       "\t 1             & teen          & girl          & HCcm3         & 39            &  8           \\\\\n",
       "\t 1             & teen          & girl          & HCcm4         & 42            & 16           \\\\\n",
       "\\end{tabular}\n"
      ],
      "text/markdown": [
       "\n",
       "id | group | sex | weekNames | head | week | \n",
       "|---|---|---|---|\n",
       "| 1             | teen          | girl          | HeadCircumcm1 | 34            |  1            | \n",
       "| 1             | teen          | girl          | HCcm2         | 37            |  2            | \n",
       "| 1             | teen          | girl          | HCcm3         | 39            |  8            | \n",
       "| 1             | teen          | girl          | HCcm4         | 42            | 16            | \n",
       "\n",
       "\n"
      ],
      "text/plain": [
       "  id group sex  weekNames     head week\n",
       "1 1  teen  girl HeadCircumcm1 34    1  \n",
       "2 1  teen  girl HCcm2         37    2  \n",
       "3 1  teen  girl HCcm3         39    8  \n",
       "4 1  teen  girl HCcm4         42   16  "
      ]
     },
     "metadata": {},
     "output_type": "display_data"
    }
   ],
   "source": [
    "headCLong <- \n",
    "    headCLong %>% \n",
    "        mutate(week = gsub(\".*cm1\", \"1\", weekNames)) %>%\n",
    "        mutate(week = gsub(\".*cm2\", \"2\", week)) %>%\n",
    "        mutate(week = gsub(\".*cm3\", \"8\", week)) %>%\n",
    "        mutate(week = gsub(\".*cm4\", \"16\", week)) %>% \n",
    "        mutate(week = as.numeric(week))\n",
    "\n",
    "headCLong %>% filter(id == 1)"
   ]
  },
  {
   "cell_type": "code",
   "execution_count": 12,
   "metadata": {},
   "outputs": [
    {
     "data": {},
     "metadata": {},
     "output_type": "display_data"
    },
    {
     "data": {
      "image/png": "[encoded data removed]",
      "text/plain": [
       "plot without title"
      ]
     },
     "metadata": {},
     "output_type": "display_data"
    }
   ],
   "source": [
    "weightDist <- weightLong %>% filter(!is.na(sex)) %>% group_by(sex, week) %>% \n",
    "        summarise(mean = mean(weight, na.rm = T), sd = sd(weight, na.rm = T))\n",
    "\n",
    "#png(filename=\"./plots/weight.png\", units=\"cm\", width=15, height=15, res = 300)\n",
    "ggplot(weightDist, aes(x = week, y = mean, color = sex)) + \n",
    "    geom_point() + \n",
    "    #geom_linerange(aes(ymin = mean - 2*sd, ymax = mean + 2*sd)) + \n",
    "    geom_line() + #geom_smooth(method = lm, se = F) +\n",
    "    theme(aspect.ratio = 1) +\n",
    "    ggtitle('Weight over time') + ylab('mean weight')\n",
    "#dev.off()"
   ]
  },
  {
   "cell_type": "code",
   "execution_count": 13,
   "metadata": {},
   "outputs": [
    {
     "data": {},
     "metadata": {},
     "output_type": "display_data"
    },
    {
     "data": {
      "image/png": "[encoded data removed]",
      "text/plain": [
       "plot without title"
      ]
     },
     "metadata": {},
     "output_type": "display_data"
    }
   ],
   "source": [
    "headCDist <- headCLong %>% filter(!is.na(sex)) %>% group_by(sex, week) %>% \n",
    "        summarise(mean = mean(head, na.rm = T), sd = sd(head, na.rm = T))\n",
    "\n",
    "#png(filename=\"./plots/head_c.png\", units=\"cm\", width=15, height=15, res = 300)\n",
    "ggplot(headCDist, aes(x = week, y = mean, color = sex)) + \n",
    "    geom_point() + \n",
    "    #geom_errorbar(aes(ymin = mean - 2*sd, ymax = mean + 2*sd), alpha = 0.5) + \n",
    "    geom_line() + #geom_smooth(method = lm, se = F) +\n",
    "    theme(aspect.ratio = 1) +\n",
    "    ggtitle('Head Circumference over time') + ylab('mean head circumference')\n",
    "#dev.off()"
   ]
  },
  {
   "cell_type": "code",
   "execution_count": 14,
   "metadata": {},
   "outputs": [
    {
     "data": {
      "text/plain": [
       "\n",
       "Call:\n",
       "lm(formula = mean ~ week + sex + week:sex, data = weightDist)\n",
       "\n",
       "Residuals:\n",
       "      1       2       3       4       5       6       7       8 \n",
       "-142.77   58.29  165.70  -81.21 -279.17  276.06   40.34  -37.23 \n",
       "\n",
       "Coefficients:\n",
       "            Estimate Std. Error t value Pr(>|t|)    \n",
       "(Intercept)  3365.70     174.91  19.243  4.3e-05 ***\n",
       "week          223.54      19.40  11.520 0.000324 ***\n",
       "sexboy       -185.37     247.35  -0.749 0.495267    \n",
       "week:sexboy    32.75      27.44   1.194 0.298597    \n",
       "---\n",
       "Signif. codes:  0 '***' 0.001 '**' 0.01 '*' 0.05 '.' 0.1 ' ' 1\n",
       "\n",
       "Residual standard error: 231.8 on 4 degrees of freedom\n",
       "Multiple R-squared:  0.9871,\tAdjusted R-squared:  0.9775 \n",
       "F-statistic: 102.4 on 3 and 4 DF,  p-value: 0.0003084\n"
      ]
     },
     "metadata": {},
     "output_type": "display_data"
    }
   ],
   "source": [
    "summary(lm(weightDist, formula = mean ~ week + sex + week:sex))"
   ]
  },
  {
   "cell_type": "code",
   "execution_count": 15,
   "metadata": {},
   "outputs": [
    {
     "data": {
      "text/plain": [
       "\n",
       "Call:\n",
       "lm(formula = mean ~ week + sex + week:sex, data = headCDist)\n",
       "\n",
       "Residuals:\n",
       "      1       2       3       4       5       6       7       8 \n",
       "-0.9137  0.5435  0.7621 -0.3919 -0.7740  0.5162  0.5478 -0.2901 \n",
       "\n",
       "Coefficients:\n",
       "            Estimate Std. Error t value Pr(>|t|)    \n",
       "(Intercept) 34.07687    0.66572  51.188 8.72e-07 ***\n",
       "week         0.36628    0.07385   4.959  0.00771 ** \n",
       "sexboy       0.12198    0.94147   0.130  0.90317    \n",
       "week:sexboy  0.08387    0.10445   0.803  0.46700    \n",
       "---\n",
       "Signif. codes:  0 '***' 0.001 '**' 0.01 '*' 0.05 '.' 0.1 ' ' 1\n",
       "\n",
       "Residual standard error: 0.8824 on 4 degrees of freedom\n",
       "Multiple R-squared:  0.9403,\tAdjusted R-squared:  0.8955 \n",
       "F-statistic: 20.99 on 3 and 4 DF,  p-value: 0.006556\n"
      ]
     },
     "metadata": {},
     "output_type": "display_data"
    }
   ],
   "source": [
    "summary(lm(headCDist, formula = mean ~ week + sex + week:sex))"
   ]
  },
  {
   "cell_type": "code",
   "execution_count": 16,
   "metadata": {},
   "outputs": [
    {
     "data": {
      "text/html": [
       "<table>\n",
       "<thead><tr><th></th><th scope=col>BABYWeigth1g</th><th scope=col>BABYWeigth2g</th><th scope=col>BABYWeigth3g</th><th scope=col>BABYWeigth4g</th><th scope=col>HeadCircumcm1</th><th scope=col>HCcm2</th><th scope=col>HCcm3</th><th scope=col>HCcm4</th></tr></thead>\n",
       "<tbody>\n",
       "\t<tr><th scope=row>BABYWeigth1g</th><td>1.0000000  </td><td> 0.18492505</td><td>0.6236000  </td><td>0.3964243  </td><td>0.52235889 </td><td>0.5382875  </td><td>0.5883136  </td><td> 0.19971893</td></tr>\n",
       "\t<tr><th scope=row>BABYWeigth2g</th><td>0.1849250  </td><td> 1.00000000</td><td>0.3589664  </td><td>0.2509749  </td><td>0.07017043 </td><td>0.2817560  </td><td>0.1265833  </td><td>-0.08215091</td></tr>\n",
       "\t<tr><th scope=row>BABYWeigth3g</th><td>0.6236000  </td><td> 0.35896645</td><td>1.0000000  </td><td>0.7727088  </td><td>0.78427813 </td><td>0.8303841  </td><td>0.8158937  </td><td> 0.54844962</td></tr>\n",
       "\t<tr><th scope=row>BABYWeigth4g</th><td>0.3964243  </td><td> 0.25097489</td><td>0.7727088  </td><td>1.0000000  </td><td>0.66359782 </td><td>0.6963510  </td><td>0.7417554  </td><td> 0.68986933</td></tr>\n",
       "\t<tr><th scope=row>HeadCircumcm1</th><td>0.5223589  </td><td> 0.07017043</td><td>0.7842781  </td><td>0.6635978  </td><td>1.00000000 </td><td>0.8338292  </td><td>0.8214121  </td><td> 0.75736063</td></tr>\n",
       "\t<tr><th scope=row>HCcm2</th><td>0.5382875  </td><td> 0.28175596</td><td>0.8303841  </td><td>0.6963510  </td><td>0.83382922 </td><td>1.0000000  </td><td>0.7285378  </td><td> 0.64730848</td></tr>\n",
       "\t<tr><th scope=row>HCcm3</th><td>0.5883136  </td><td> 0.12658332</td><td>0.8158937  </td><td>0.7417554  </td><td>0.82141209 </td><td>0.7285378  </td><td>1.0000000  </td><td> 0.74281294</td></tr>\n",
       "\t<tr><th scope=row>HCcm4</th><td>0.1997189  </td><td>-0.08215091</td><td>0.5484496  </td><td>0.6898693  </td><td>0.75736063 </td><td>0.6473085  </td><td>0.7428129  </td><td> 1.00000000</td></tr>\n",
       "</tbody>\n",
       "</table>\n"
      ],
      "text/latex": [
       "\\begin{tabular}{r|llllllll}\n",
       "  & BABYWeigth1g & BABYWeigth2g & BABYWeigth3g & BABYWeigth4g & HeadCircumcm1 & HCcm2 & HCcm3 & HCcm4\\\\\n",
       "\\hline\n",
       "\tBABYWeigth1g & 1.0000000   &  0.18492505 & 0.6236000   & 0.3964243   & 0.52235889  & 0.5382875   & 0.5883136   &  0.19971893\\\\\n",
       "\tBABYWeigth2g & 0.1849250   &  1.00000000 & 0.3589664   & 0.2509749   & 0.07017043  & 0.2817560   & 0.1265833   & -0.08215091\\\\\n",
       "\tBABYWeigth3g & 0.6236000   &  0.35896645 & 1.0000000   & 0.7727088   & 0.78427813  & 0.8303841   & 0.8158937   &  0.54844962\\\\\n",
       "\tBABYWeigth4g & 0.3964243   &  0.25097489 & 0.7727088   & 1.0000000   & 0.66359782  & 0.6963510   & 0.7417554   &  0.68986933\\\\\n",
       "\tHeadCircumcm1 & 0.5223589   &  0.07017043 & 0.7842781   & 0.6635978   & 1.00000000  & 0.8338292   & 0.8214121   &  0.75736063\\\\\n",
       "\tHCcm2 & 0.5382875   &  0.28175596 & 0.8303841   & 0.6963510   & 0.83382922  & 1.0000000   & 0.7285378   &  0.64730848\\\\\n",
       "\tHCcm3 & 0.5883136   &  0.12658332 & 0.8158937   & 0.7417554   & 0.82141209  & 0.7285378   & 1.0000000   &  0.74281294\\\\\n",
       "\tHCcm4 & 0.1997189   & -0.08215091 & 0.5484496   & 0.6898693   & 0.75736063  & 0.6473085   & 0.7428129   &  1.00000000\\\\\n",
       "\\end{tabular}\n"
      ],
      "text/markdown": [
       "\n",
       "| <!--/--> | BABYWeigth1g | BABYWeigth2g | BABYWeigth3g | BABYWeigth4g | HeadCircumcm1 | HCcm2 | HCcm3 | HCcm4 | \n",
       "|---|---|---|---|---|---|---|---|\n",
       "| BABYWeigth1g | 1.0000000   |  0.18492505 | 0.6236000   | 0.3964243   | 0.52235889  | 0.5382875   | 0.5883136   |  0.19971893 | \n",
       "| BABYWeigth2g | 0.1849250   |  1.00000000 | 0.3589664   | 0.2509749   | 0.07017043  | 0.2817560   | 0.1265833   | -0.08215091 | \n",
       "| BABYWeigth3g | 0.6236000   |  0.35896645 | 1.0000000   | 0.7727088   | 0.78427813  | 0.8303841   | 0.8158937   |  0.54844962 | \n",
       "| BABYWeigth4g | 0.3964243   |  0.25097489 | 0.7727088   | 1.0000000   | 0.66359782  | 0.6963510   | 0.7417554   |  0.68986933 | \n",
       "| HeadCircumcm1 | 0.5223589   |  0.07017043 | 0.7842781   | 0.6635978   | 1.00000000  | 0.8338292   | 0.8214121   |  0.75736063 | \n",
       "| HCcm2 | 0.5382875   |  0.28175596 | 0.8303841   | 0.6963510   | 0.83382922  | 1.0000000   | 0.7285378   |  0.64730848 | \n",
       "| HCcm3 | 0.5883136   |  0.12658332 | 0.8158937   | 0.7417554   | 0.82141209  | 0.7285378   | 1.0000000   |  0.74281294 | \n",
       "| HCcm4 | 0.1997189   | -0.08215091 | 0.5484496   | 0.6898693   | 0.75736063  | 0.6473085   | 0.7428129   |  1.00000000 | \n",
       "\n",
       "\n"
      ],
      "text/plain": [
       "              BABYWeigth1g BABYWeigth2g BABYWeigth3g BABYWeigth4g HeadCircumcm1\n",
       "BABYWeigth1g  1.0000000     0.18492505  0.6236000    0.3964243    0.52235889   \n",
       "BABYWeigth2g  0.1849250     1.00000000  0.3589664    0.2509749    0.07017043   \n",
       "BABYWeigth3g  0.6236000     0.35896645  1.0000000    0.7727088    0.78427813   \n",
       "BABYWeigth4g  0.3964243     0.25097489  0.7727088    1.0000000    0.66359782   \n",
       "HeadCircumcm1 0.5223589     0.07017043  0.7842781    0.6635978    1.00000000   \n",
       "HCcm2         0.5382875     0.28175596  0.8303841    0.6963510    0.83382922   \n",
       "HCcm3         0.5883136     0.12658332  0.8158937    0.7417554    0.82141209   \n",
       "HCcm4         0.1997189    -0.08215091  0.5484496    0.6898693    0.75736063   \n",
       "              HCcm2     HCcm3     HCcm4      \n",
       "BABYWeigth1g  0.5382875 0.5883136  0.19971893\n",
       "BABYWeigth2g  0.2817560 0.1265833 -0.08215091\n",
       "BABYWeigth3g  0.8303841 0.8158937  0.54844962\n",
       "BABYWeigth4g  0.6963510 0.7417554  0.68986933\n",
       "HeadCircumcm1 0.8338292 0.8214121  0.75736063\n",
       "HCcm2         1.0000000 0.7285378  0.64730848\n",
       "HCcm3         0.7285378 1.0000000  0.74281294\n",
       "HCcm4         0.6473085 0.7428129  1.00000000"
      ]
     },
     "metadata": {},
     "output_type": "display_data"
    }
   ],
   "source": [
    "weight %>% inner_join(headC, by = 'id') %>% select(contains('Weigth'), contains('cm')) %>% cor(use=\"complete.obs\")"
   ]
  },
  {
   "cell_type": "markdown",
   "metadata": {},
   "source": [
    "## Weight and size of babies = Week?"
   ]
  },
  {
   "cell_type": "code",
   "execution_count": 17,
   "metadata": {},
   "outputs": [
    {
     "data": {
      "text/html": [
       "<table>\n",
       "<thead><tr><th scope=col>sex</th><th scope=col>week</th><th scope=col>mean</th><th scope=col>sd</th></tr></thead>\n",
       "<tbody>\n",
       "\t<tr><td>girl     </td><td> 1       </td><td>33.52941 </td><td>0.8744746</td></tr>\n",
       "\t<tr><td>girl     </td><td> 2       </td><td>35.35294 </td><td>1.4116115</td></tr>\n",
       "\t<tr><td>girl     </td><td> 8       </td><td>37.76923 </td><td>1.0919284</td></tr>\n",
       "\t<tr><td>girl     </td><td>16       </td><td>39.54545 </td><td>1.3684763</td></tr>\n",
       "\t<tr><td>boy      </td><td> 1       </td><td>33.87500 </td><td>1.3619246</td></tr>\n",
       "\t<tr><td>boy      </td><td> 2       </td><td>35.61538 </td><td>1.3587324</td></tr>\n",
       "\t<tr><td>boy      </td><td> 8       </td><td>38.34783 </td><td>1.5553046</td></tr>\n",
       "\t<tr><td>boy      </td><td>16       </td><td>41.11111 </td><td>1.5676468</td></tr>\n",
       "</tbody>\n",
       "</table>\n"
      ],
      "text/latex": [
       "\\begin{tabular}{r|llll}\n",
       " sex & week & mean & sd\\\\\n",
       "\\hline\n",
       "\t girl      &  1        & 33.52941  & 0.8744746\\\\\n",
       "\t girl      &  2        & 35.35294  & 1.4116115\\\\\n",
       "\t girl      &  8        & 37.76923  & 1.0919284\\\\\n",
       "\t girl      & 16        & 39.54545  & 1.3684763\\\\\n",
       "\t boy       &  1        & 33.87500  & 1.3619246\\\\\n",
       "\t boy       &  2        & 35.61538  & 1.3587324\\\\\n",
       "\t boy       &  8        & 38.34783  & 1.5553046\\\\\n",
       "\t boy       & 16        & 41.11111  & 1.5676468\\\\\n",
       "\\end{tabular}\n"
      ],
      "text/markdown": [
       "\n",
       "sex | week | mean | sd | \n",
       "|---|---|---|---|---|---|---|---|\n",
       "| girl      |  1        | 33.52941  | 0.8744746 | \n",
       "| girl      |  2        | 35.35294  | 1.4116115 | \n",
       "| girl      |  8        | 37.76923  | 1.0919284 | \n",
       "| girl      | 16        | 39.54545  | 1.3684763 | \n",
       "| boy       |  1        | 33.87500  | 1.3619246 | \n",
       "| boy       |  2        | 35.61538  | 1.3587324 | \n",
       "| boy       |  8        | 38.34783  | 1.5553046 | \n",
       "| boy       | 16        | 41.11111  | 1.5676468 | \n",
       "\n",
       "\n"
      ],
      "text/plain": [
       "  sex  week mean     sd       \n",
       "1 girl  1   33.52941 0.8744746\n",
       "2 girl  2   35.35294 1.4116115\n",
       "3 girl  8   37.76923 1.0919284\n",
       "4 girl 16   39.54545 1.3684763\n",
       "5 boy   1   33.87500 1.3619246\n",
       "6 boy   2   35.61538 1.3587324\n",
       "7 boy   8   38.34783 1.5553046\n",
       "8 boy  16   41.11111 1.5676468"
      ]
     },
     "metadata": {},
     "output_type": "display_data"
    },
    {
     "data": {
      "text/html": [
       "<table>\n",
       "<thead><tr><th></th><th scope=col>week</th><th scope=col>mean</th></tr></thead>\n",
       "<tbody>\n",
       "\t<tr><th scope=row>week</th><td>1.0000000</td><td>0.9911695</td></tr>\n",
       "\t<tr><th scope=row>mean</th><td>0.9911695</td><td>1.0000000</td></tr>\n",
       "</tbody>\n",
       "</table>\n"
      ],
      "text/latex": [
       "\\begin{tabular}{r|ll}\n",
       "  & week & mean\\\\\n",
       "\\hline\n",
       "\tweek & 1.0000000 & 0.9911695\\\\\n",
       "\tmean & 0.9911695 & 1.0000000\\\\\n",
       "\\end{tabular}\n"
      ],
      "text/markdown": [
       "\n",
       "| <!--/--> | week | mean | \n",
       "|---|---|\n",
       "| week | 1.0000000 | 0.9911695 | \n",
       "| mean | 0.9911695 | 1.0000000 | \n",
       "\n",
       "\n"
      ],
      "text/plain": [
       "     week      mean     \n",
       "week 1.0000000 0.9911695\n",
       "mean 0.9911695 1.0000000"
      ]
     },
     "metadata": {},
     "output_type": "display_data"
    },
    {
     "data": {
      "text/html": [
       "<table>\n",
       "<thead><tr><th></th><th scope=col>week</th><th scope=col>mean</th></tr></thead>\n",
       "<tbody>\n",
       "\t<tr><th scope=row>week</th><td>1.0000000</td><td>0.9552353</td></tr>\n",
       "\t<tr><th scope=row>mean</th><td>0.9552353</td><td>1.0000000</td></tr>\n",
       "</tbody>\n",
       "</table>\n"
      ],
      "text/latex": [
       "\\begin{tabular}{r|ll}\n",
       "  & week & mean\\\\\n",
       "\\hline\n",
       "\tweek & 1.0000000 & 0.9552353\\\\\n",
       "\tmean & 0.9552353 & 1.0000000\\\\\n",
       "\\end{tabular}\n"
      ],
      "text/markdown": [
       "\n",
       "| <!--/--> | week | mean | \n",
       "|---|---|\n",
       "| week | 1.0000000 | 0.9552353 | \n",
       "| mean | 0.9552353 | 1.0000000 | \n",
       "\n",
       "\n"
      ],
      "text/plain": [
       "     week      mean     \n",
       "week 1.0000000 0.9552353\n",
       "mean 0.9552353 1.0000000"
      ]
     },
     "metadata": {},
     "output_type": "display_data"
    }
   ],
   "source": [
    "headCDist\n",
    "cor(weightDist[2:3])\n",
    "cor(headCDist[2:3])"
   ]
  },
  {
   "cell_type": "markdown",
   "metadata": {},
   "source": [
    "## Group and Free AA levels"
   ]
  },
  {
   "cell_type": "code",
   "execution_count": 18,
   "metadata": {},
   "outputs": [
    {
     "data": {
      "text/html": [
       "<table>\n",
       "<thead><tr><th scope=col>sex</th><th scope=col>teen</th><th scope=col>adult</th></tr></thead>\n",
       "<tbody>\n",
       "\t<tr><td>girl</td><td>13  </td><td>13  </td></tr>\n",
       "\t<tr><td>boy </td><td>24  </td><td>11  </td></tr>\n",
       "</tbody>\n",
       "</table>\n"
      ],
      "text/latex": [
       "\\begin{tabular}{r|lll}\n",
       " sex & teen & adult\\\\\n",
       "\\hline\n",
       "\t girl & 13   & 13  \\\\\n",
       "\t boy  & 24   & 11  \\\\\n",
       "\\end{tabular}\n"
      ],
      "text/markdown": [
       "\n",
       "sex | teen | adult | \n",
       "|---|---|\n",
       "| girl | 13   | 13   | \n",
       "| boy  | 24   | 11   | \n",
       "\n",
       "\n"
      ],
      "text/plain": [
       "  sex  teen adult\n",
       "1 girl 13   13   \n",
       "2 boy  24   11   "
      ]
     },
     "metadata": {},
     "output_type": "display_data"
    }
   ],
   "source": [
    "AA_E %>% select(sex, group) %>% filter(!is.na(sex)) %>%\n",
    "    group_by(sex, group) %>% summarise(number = n()) %>%\n",
    "    spread(group, number)"
   ]
  },
  {
   "cell_type": "code",
   "execution_count": 19,
   "metadata": {},
   "outputs": [
    {
     "name": "stdout",
     "output_type": "stream",
     "text": [
      "      group\n",
      "sex    teen adult\n",
      "  girl   13    13\n",
      "  boy    24    11\n"
     ]
    }
   ],
   "source": [
    "table = table( AA_E %>% select(sex, group)) \n",
    "print(table)"
   ]
  },
  {
   "cell_type": "markdown",
   "metadata": {},
   "source": [
    "Teen mothers have almost twice the number of boys: 24 boys and 13 girls. Is there an assosiation between group and sex? \n",
    "\n",
    "\n",
    "$H_0:$ group and sex are independent."
   ]
  },
  {
   "cell_type": "code",
   "execution_count": 20,
   "metadata": {},
   "outputs": [
    {
     "name": "stdout",
     "output_type": "stream",
     "text": [
      "\n",
      "\tPearson's Chi-squared test with Yates' continuity correction\n",
      "\n",
      "data:  table\n",
      "X-squared = 1.448, df = 1, p-value = 0.2288\n",
      "\n"
     ]
    }
   ],
   "source": [
    "print(chisq.test(table))"
   ]
  },
  {
   "cell_type": "markdown",
   "metadata": {},
   "source": [
    "$P(independence) \\approx 0.23$ \n",
    "\n",
    "### The model: \n",
    "\n",
    "$  AA = \\alpha_0 + \\alpha_1 \\ week + \\alpha_2 \\ sex + \\alpha_3 \\ group + \\alpha_{id}$"
   ]
  },
  {
   "cell_type": "code",
   "execution_count": 21,
   "metadata": {
    "collapsed": true
   },
   "outputs": [],
   "source": [
    "meGroup <- function(df){\n",
    "    \n",
    "    me <- lmer(level ~ sex + group + week + (1 | id), data = df)\n",
    "    \n",
    "    return(me)\n",
    "}"
   ]
  },
  {
   "cell_type": "code",
   "execution_count": 22,
   "metadata": {
    "collapsed": true
   },
   "outputs": [],
   "source": [
    "AA_E_Nested <- AA_E_Long %>% group_by(AA) %>% nest()\n",
    "AA_NE_Nested <- AA_NE_Long %>% group_by(AA) %>% nest()"
   ]
  },
  {
   "cell_type": "code",
   "execution_count": 23,
   "metadata": {
    "collapsed": true
   },
   "outputs": [],
   "source": [
    "nAA_E <- dim(AA_E_Nested)[1]\n",
    "nAA_NE <- dim(AA_NE_Nested)[1]"
   ]
  },
  {
   "cell_type": "code",
   "execution_count": 24,
   "metadata": {
    "collapsed": true
   },
   "outputs": [],
   "source": [
    "me_E_G <- list()\n",
    "tidy_E_G <- list()\n",
    "\n",
    "for(i in 1:nAA_E){\n",
    "    \n",
    "    me_E_G[[i]] <- meGroup(AA_E_Nested$data[[i]])\n",
    "    tidy_E_G[[i]] <- tidy(me_E_G[[i]], effects = 'fixed') %>% mutate(AA = AA_E_Nested$AA[i])\n",
    "    \n",
    "}"
   ]
  },
  {
   "cell_type": "code",
   "execution_count": 25,
   "metadata": {
    "collapsed": true
   },
   "outputs": [],
   "source": [
    "me_NE_G <- list()\n",
    "tidy_NE_G <- list()\n",
    "\n",
    "for(i in 1:nAA_NE){\n",
    "    \n",
    "    me_NE_G[[i]] <- meGroup(AA_NE_Nested$data[[i]])\n",
    "    tidy_NE_G[[i]] <- tidy(me_NE_G[[i]], effects = 'fixed') %>% mutate(AA = AA_NE_Nested$AA[i])\n",
    "\n",
    "}"
   ]
  },
  {
   "cell_type": "code",
   "execution_count": 26,
   "metadata": {},
   "outputs": [
    {
     "data": {
      "text/plain": [
       "[[1]]\n",
       "Linear mixed model fit by REML ['lmerMod']\n",
       "Formula: level ~ sex + group + week + (1 | id)\n",
       "   Data: df\n",
       "REML criterion at convergence: 485.7638\n",
       "Random effects:\n",
       " Groups   Name        Std.Dev.\n",
       " id       (Intercept) 0.2849  \n",
       " Residual             0.8451  \n",
       "Number of obs: 183, groups:  id, 61\n",
       "Fixed Effects:\n",
       "(Intercept)       sexboy   groupadult         week  \n",
       "    1.69466      0.19741      0.07302      0.01516  \n"
      ]
     },
     "metadata": {},
     "output_type": "display_data"
    },
    {
     "data": {
      "text/html": [
       "<ol>\n",
       "\t<li><table>\n",
       "<thead><tr><th scope=col>term</th><th scope=col>estimate</th><th scope=col>std.error</th><th scope=col>statistic</th><th scope=col>AA</th></tr></thead>\n",
       "<tbody>\n",
       "\t<tr><td>(Intercept)</td><td>1.69465972 </td><td>0.15172437 </td><td>11.1693307 </td><td>HIS        </td></tr>\n",
       "\t<tr><td>sexboy     </td><td>0.19741206 </td><td>0.15314414 </td><td> 1.2890605 </td><td>HIS        </td></tr>\n",
       "\t<tr><td>groupadult </td><td>0.07302050 </td><td>0.15447799 </td><td> 0.4726919 </td><td>HIS        </td></tr>\n",
       "\t<tr><td>week       </td><td>0.01515671 </td><td>0.01095015 </td><td> 1.3841560 </td><td>HIS        </td></tr>\n",
       "</tbody>\n",
       "</table>\n",
       "</li>\n",
       "</ol>\n"
      ],
      "text/latex": [
       "\\begin{enumerate}\n",
       "\\item \\begin{tabular}{r|lllll}\n",
       " term & estimate & std.error & statistic & AA\\\\\n",
       "\\hline\n",
       "\t (Intercept) & 1.69465972  & 0.15172437  & 11.1693307  & HIS        \\\\\n",
       "\t sexboy      & 0.19741206  & 0.15314414  &  1.2890605  & HIS        \\\\\n",
       "\t groupadult  & 0.07302050  & 0.15447799  &  0.4726919  & HIS        \\\\\n",
       "\t week        & 0.01515671  & 0.01095015  &  1.3841560  & HIS        \\\\\n",
       "\\end{tabular}\n",
       "\n",
       "\\end{enumerate}\n"
      ],
      "text/markdown": [
       "1. \n",
       "term | estimate | std.error | statistic | AA | \n",
       "|---|---|---|---|\n",
       "| (Intercept) | 1.69465972  | 0.15172437  | 11.1693307  | HIS         | \n",
       "| sexboy      | 0.19741206  | 0.15314414  |  1.2890605  | HIS         | \n",
       "| groupadult  | 0.07302050  | 0.15447799  |  0.4726919  | HIS         | \n",
       "| week        | 0.01515671  | 0.01095015  |  1.3841560  | HIS         | \n",
       "\n",
       "\n",
       "\n",
       "\n",
       "\n"
      ],
      "text/plain": [
       "[[1]]\n",
       "         term   estimate  std.error  statistic  AA\n",
       "1 (Intercept) 1.69465972 0.15172437 11.1693307 HIS\n",
       "2      sexboy 0.19741206 0.15314414  1.2890605 HIS\n",
       "3  groupadult 0.07302050 0.15447799  0.4726919 HIS\n",
       "4        week 0.01515671 0.01095015  1.3841560 HIS\n"
      ]
     },
     "metadata": {},
     "output_type": "display_data"
    }
   ],
   "source": [
    "me_E_G[1]\n",
    "tidy_E_G[1]"
   ]
  },
  {
   "cell_type": "code",
   "execution_count": 27,
   "metadata": {},
   "outputs": [
    {
     "data": {
      "text/html": [
       "<table>\n",
       "<thead><tr><th scope=col>term</th><th scope=col>estimate</th><th scope=col>std.error</th><th scope=col>statistic</th><th scope=col>AA</th></tr></thead>\n",
       "<tbody>\n",
       "\t<tr><td>sexboy     </td><td> 0.13119286</td><td>0.1580725  </td><td> 0.8299535 </td><td>ARG        </td></tr>\n",
       "\t<tr><td>sexboy     </td><td> 0.47781369</td><td>0.4972377  </td><td> 0.9609363 </td><td>ASP        </td></tr>\n",
       "\t<tr><td>sexboy     </td><td> 1.82605942</td><td>1.7129060  </td><td> 1.0660594 </td><td>ALA        </td></tr>\n",
       "\t<tr><td>sexboy     </td><td>-0.04476726</td><td>0.1290421  </td><td>-0.3469199 </td><td>ASN        </td></tr>\n",
       "\t<tr><td>sexboy     </td><td> 0.32271226</td><td>0.1688611  </td><td> 1.9111112 </td><td>CYS        </td></tr>\n",
       "\t<tr><td>sexboy     </td><td> 1.80891292</td><td>0.8199613  </td><td> 2.2060955 </td><td>GLY        </td></tr>\n",
       "\t<tr><td>sexboy     </td><td>13.19308351</td><td>6.7666051  </td><td> 1.9497345 </td><td>GLU        </td></tr>\n",
       "\t<tr><td>sexboy     </td><td> 4.85963020</td><td>3.3327430  </td><td> 1.4581473 </td><td>GLN        </td></tr>\n",
       "\t<tr><td>sexboy     </td><td> 0.34748015</td><td>0.3551629  </td><td> 0.9783683 </td><td>PRO        </td></tr>\n",
       "\t<tr><td>sexboy     </td><td> 1.48581776</td><td>0.7025900  </td><td> 2.1147721 </td><td>SER        </td></tr>\n",
       "\t<tr><td>sexboy     </td><td> 0.20476119</td><td>0.1124081  </td><td> 1.8215867 </td><td>TYR        </td></tr>\n",
       "</tbody>\n",
       "</table>\n"
      ],
      "text/latex": [
       "\\begin{tabular}{r|lllll}\n",
       " term & estimate & std.error & statistic & AA\\\\\n",
       "\\hline\n",
       "\t sexboy      &  0.13119286 & 0.1580725   &  0.8299535  & ARG        \\\\\n",
       "\t sexboy      &  0.47781369 & 0.4972377   &  0.9609363  & ASP        \\\\\n",
       "\t sexboy      &  1.82605942 & 1.7129060   &  1.0660594  & ALA        \\\\\n",
       "\t sexboy      & -0.04476726 & 0.1290421   & -0.3469199  & ASN        \\\\\n",
       "\t sexboy      &  0.32271226 & 0.1688611   &  1.9111112  & CYS        \\\\\n",
       "\t sexboy      &  1.80891292 & 0.8199613   &  2.2060955  & GLY        \\\\\n",
       "\t sexboy      & 13.19308351 & 6.7666051   &  1.9497345  & GLU        \\\\\n",
       "\t sexboy      &  4.85963020 & 3.3327430   &  1.4581473  & GLN        \\\\\n",
       "\t sexboy      &  0.34748015 & 0.3551629   &  0.9783683  & PRO        \\\\\n",
       "\t sexboy      &  1.48581776 & 0.7025900   &  2.1147721  & SER        \\\\\n",
       "\t sexboy      &  0.20476119 & 0.1124081   &  1.8215867  & TYR        \\\\\n",
       "\\end{tabular}\n"
      ],
      "text/markdown": [
       "\n",
       "term | estimate | std.error | statistic | AA | \n",
       "|---|---|---|---|---|---|---|---|---|---|---|\n",
       "| sexboy      |  0.13119286 | 0.1580725   |  0.8299535  | ARG         | \n",
       "| sexboy      |  0.47781369 | 0.4972377   |  0.9609363  | ASP         | \n",
       "| sexboy      |  1.82605942 | 1.7129060   |  1.0660594  | ALA         | \n",
       "| sexboy      | -0.04476726 | 0.1290421   | -0.3469199  | ASN         | \n",
       "| sexboy      |  0.32271226 | 0.1688611   |  1.9111112  | CYS         | \n",
       "| sexboy      |  1.80891292 | 0.8199613   |  2.2060955  | GLY         | \n",
       "| sexboy      | 13.19308351 | 6.7666051   |  1.9497345  | GLU         | \n",
       "| sexboy      |  4.85963020 | 3.3327430   |  1.4581473  | GLN         | \n",
       "| sexboy      |  0.34748015 | 0.3551629   |  0.9783683  | PRO         | \n",
       "| sexboy      |  1.48581776 | 0.7025900   |  2.1147721  | SER         | \n",
       "| sexboy      |  0.20476119 | 0.1124081   |  1.8215867  | TYR         | \n",
       "\n",
       "\n"
      ],
      "text/plain": [
       "   term   estimate    std.error statistic  AA \n",
       "1  sexboy  0.13119286 0.1580725  0.8299535 ARG\n",
       "2  sexboy  0.47781369 0.4972377  0.9609363 ASP\n",
       "3  sexboy  1.82605942 1.7129060  1.0660594 ALA\n",
       "4  sexboy -0.04476726 0.1290421 -0.3469199 ASN\n",
       "5  sexboy  0.32271226 0.1688611  1.9111112 CYS\n",
       "6  sexboy  1.80891292 0.8199613  2.2060955 GLY\n",
       "7  sexboy 13.19308351 6.7666051  1.9497345 GLU\n",
       "8  sexboy  4.85963020 3.3327430  1.4581473 GLN\n",
       "9  sexboy  0.34748015 0.3551629  0.9783683 PRO\n",
       "10 sexboy  1.48581776 0.7025900  2.1147721 SER\n",
       "11 sexboy  0.20476119 0.1124081  1.8215867 TYR"
      ]
     },
     "metadata": {},
     "output_type": "display_data"
    },
    {
     "data": {
      "text/html": [
       "<table>\n",
       "<thead><tr><th scope=col>term</th><th scope=col>estimate</th><th scope=col>std.error</th><th scope=col>statistic</th><th scope=col>AA</th></tr></thead>\n",
       "<tbody>\n",
       "\t<tr><td>groupadult  </td><td> 0.073020496</td><td>0.15447799  </td><td> 0.4726919  </td><td>HIS         </td></tr>\n",
       "\t<tr><td>groupadult  </td><td>-0.083155492</td><td>0.10912814  </td><td>-0.7619986  </td><td>ILE         </td></tr>\n",
       "\t<tr><td>groupadult  </td><td> 0.074785724</td><td>0.20732122  </td><td> 0.3607239  </td><td>LEU         </td></tr>\n",
       "\t<tr><td>groupadult  </td><td> 0.084027004</td><td>0.22950020  </td><td> 0.3661304  </td><td>LYS         </td></tr>\n",
       "\t<tr><td>groupadult  </td><td> 0.029426189</td><td>0.05794487  </td><td> 0.5078308  </td><td>MET         </td></tr>\n",
       "\t<tr><td>groupadult  </td><td> 0.028960713</td><td>0.08380161  </td><td> 0.3455866  </td><td>PHE         </td></tr>\n",
       "\t<tr><td>groupadult  </td><td> 0.917370138</td><td>0.62730367  </td><td> 1.4624020  </td><td>THR         </td></tr>\n",
       "\t<tr><td>groupadult  </td><td> 0.003820134</td><td>0.01636325  </td><td> 0.2334581  </td><td>TRP         </td></tr>\n",
       "\t<tr><td>groupadult  </td><td> 0.060417454</td><td>0.26093030  </td><td> 0.2315463  </td><td>VAL         </td></tr>\n",
       "</tbody>\n",
       "</table>\n"
      ],
      "text/latex": [
       "\\begin{tabular}{r|lllll}\n",
       " term & estimate & std.error & statistic & AA\\\\\n",
       "\\hline\n",
       "\t groupadult   &  0.073020496 & 0.15447799   &  0.4726919   & HIS         \\\\\n",
       "\t groupadult   & -0.083155492 & 0.10912814   & -0.7619986   & ILE         \\\\\n",
       "\t groupadult   &  0.074785724 & 0.20732122   &  0.3607239   & LEU         \\\\\n",
       "\t groupadult   &  0.084027004 & 0.22950020   &  0.3661304   & LYS         \\\\\n",
       "\t groupadult   &  0.029426189 & 0.05794487   &  0.5078308   & MET         \\\\\n",
       "\t groupadult   &  0.028960713 & 0.08380161   &  0.3455866   & PHE         \\\\\n",
       "\t groupadult   &  0.917370138 & 0.62730367   &  1.4624020   & THR         \\\\\n",
       "\t groupadult   &  0.003820134 & 0.01636325   &  0.2334581   & TRP         \\\\\n",
       "\t groupadult   &  0.060417454 & 0.26093030   &  0.2315463   & VAL         \\\\\n",
       "\\end{tabular}\n"
      ],
      "text/markdown": [
       "\n",
       "term | estimate | std.error | statistic | AA | \n",
       "|---|---|---|---|---|---|---|---|---|\n",
       "| groupadult   |  0.073020496 | 0.15447799   |  0.4726919   | HIS          | \n",
       "| groupadult   | -0.083155492 | 0.10912814   | -0.7619986   | ILE          | \n",
       "| groupadult   |  0.074785724 | 0.20732122   |  0.3607239   | LEU          | \n",
       "| groupadult   |  0.084027004 | 0.22950020   |  0.3661304   | LYS          | \n",
       "| groupadult   |  0.029426189 | 0.05794487   |  0.5078308   | MET          | \n",
       "| groupadult   |  0.028960713 | 0.08380161   |  0.3455866   | PHE          | \n",
       "| groupadult   |  0.917370138 | 0.62730367   |  1.4624020   | THR          | \n",
       "| groupadult   |  0.003820134 | 0.01636325   |  0.2334581   | TRP          | \n",
       "| groupadult   |  0.060417454 | 0.26093030   |  0.2315463   | VAL          | \n",
       "\n",
       "\n"
      ],
      "text/plain": [
       "  term       estimate     std.error  statistic  AA \n",
       "1 groupadult  0.073020496 0.15447799  0.4726919 HIS\n",
       "2 groupadult -0.083155492 0.10912814 -0.7619986 ILE\n",
       "3 groupadult  0.074785724 0.20732122  0.3607239 LEU\n",
       "4 groupadult  0.084027004 0.22950020  0.3661304 LYS\n",
       "5 groupadult  0.029426189 0.05794487  0.5078308 MET\n",
       "6 groupadult  0.028960713 0.08380161  0.3455866 PHE\n",
       "7 groupadult  0.917370138 0.62730367  1.4624020 THR\n",
       "8 groupadult  0.003820134 0.01636325  0.2334581 TRP\n",
       "9 groupadult  0.060417454 0.26093030  0.2315463 VAL"
      ]
     },
     "metadata": {},
     "output_type": "display_data"
    }
   ],
   "source": [
    "sexCoef_E_G <- bind_rows(tidy_E_G) %>% filter(grepl(\"sexboy\", term))\n",
    "sexCoef_NE_G <- bind_rows(tidy_NE_G) %>% filter(grepl(\"sexboy\", term))\n",
    "\n",
    "groupCoef_E_G <- bind_rows(tidy_E_G) %>% filter(grepl(\"groupadult\", term))\n",
    "groupCoef_NE_G <- bind_rows(tidy_NE_G) %>% filter(grepl(\"groupadult\", term))\n",
    "\n",
    "sexCoef_NE_G\n",
    "groupCoef_E_G"
   ]
  },
  {
   "cell_type": "code",
   "execution_count": 28,
   "metadata": {
    "collapsed": true
   },
   "outputs": [],
   "source": [
    "meSex <- function(df){\n",
    "    \n",
    "    me <- lmer(level ~ sex + week + (1 | id), data = df)\n",
    "    \n",
    "    return(me)\n",
    "}"
   ]
  },
  {
   "cell_type": "code",
   "execution_count": 29,
   "metadata": {
    "collapsed": true
   },
   "outputs": [],
   "source": [
    "me_E_S <- list()\n",
    "tidy_E_S <- list()\n",
    "\n",
    "for(i in 1:nAA_E){\n",
    "    \n",
    "    me_E_S[[i]] <- meSex(AA_E_Nested$data[[i]])\n",
    "    tidy_E_S[[i]] <- tidy(me_E_S[[i]], effects = 'fixed') %>% mutate(AA = AA_E_Nested$AA[i])\n",
    "    \n",
    "}"
   ]
  },
  {
   "cell_type": "code",
   "execution_count": 30,
   "metadata": {
    "collapsed": true
   },
   "outputs": [],
   "source": [
    "me_NE_S <- list()\n",
    "tidy_NE_S <- list()\n",
    "\n",
    "for(i in 1:nAA_NE){\n",
    "    \n",
    "    me_NE_S[[i]] <- meSex(AA_NE_Nested$data[[i]])\n",
    "    tidy_NE_S[[i]] <- tidy(me_NE_S[[i]], effects = 'fixed') %>% mutate(AA = AA_NE_Nested$AA[i])\n",
    "\n",
    "}"
   ]
  },
  {
   "cell_type": "code",
   "execution_count": 31,
   "metadata": {
    "collapsed": true
   },
   "outputs": [],
   "source": [
    "sexCoef_E_S <- bind_rows(tidy_E_S) %>% filter(grepl(\"sexboy\", term))\n",
    "sexCoef_NE_S <- bind_rows(tidy_NE_S) %>% filter(grepl(\"sexboy\", term))\n",
    "\n",
    "sexCoef_E_S$term <- rep('sexboy (w/o group)', nAA_E)\n",
    "sexCoef_NE_S$term <- rep('sexboy (w/o group)', nAA_NE)"
   ]
  },
  {
   "cell_type": "code",
   "execution_count": 32,
   "metadata": {},
   "outputs": [
    {
     "data": {},
     "metadata": {},
     "output_type": "display_data"
    },
    {
     "data": {
      "image/png": "[encoded data removed]",
      "text/plain": [
       "plot without title"
      ]
     },
     "metadata": {},
     "output_type": "display_data"
    }
   ],
   "source": [
    "group_E <- rbind(sexCoef_E_G, groupCoef_E_G, sexCoef_E_S)\n",
    "\n",
    "#png(filename=\"./plots/group_E.png\", units=\"cm\", width=20, height=20, res = 300)\n",
    "ggplot(group_E, aes(x = reorder(AA, estimate), y = estimate, color = AA)) + \n",
    "    geom_hline(yintercept = 0, alpha = 0.4) + \n",
    "    geom_point() + geom_pointrange( aes(x = AA, ymin = estimate - 2*std.error, ymax = estimate + 2*std.error)) + \n",
    "    theme(legend.position = \"none\") + \n",
    "    coord_flip() + \n",
    "    facet_wrap(~term) + \n",
    "    xlab('Amino Acids') + ylab('') +\n",
    "    ggtitle('Essential AA \\n Estimate and 95% CI') \n",
    "#dev.off()"
   ]
  },
  {
   "cell_type": "code",
   "execution_count": 33,
   "metadata": {},
   "outputs": [
    {
     "data": {},
     "metadata": {},
     "output_type": "display_data"
    },
    {
     "data": {
      "image/png": "[encoded data removed]",
      "text/plain": [
       "plot without title"
      ]
     },
     "metadata": {},
     "output_type": "display_data"
    }
   ],
   "source": [
    "group_NE <- rbind(sexCoef_NE_G, groupCoef_NE_G, sexCoef_NE_S)\n",
    "\n",
    "#png(filename=\"./plots/group_NE.png\", units=\"cm\", width=20, height=20, res = 300)\n",
    "ggplot(group_NE, aes(x = reorder(AA, estimate), y = estimate, color = AA)) + \n",
    "    geom_hline(yintercept = 0, alpha = 0.4) + \n",
    "    geom_point() + geom_pointrange( aes(x = AA, ymin = estimate - 2*std.error, ymax = estimate + 2*std.error)) + \n",
    "    theme(legend.position = \"none\") + \n",
    "    coord_flip() + \n",
    "    facet_wrap(~term) + \n",
    "    xlab('Amino Acids') + ylab('') +\n",
    "    ggtitle('Non Essential AA \\n Estimate and 95% CI') \n",
    "#dev.off()"
   ]
  },
  {
   "cell_type": "code",
   "execution_count": 34,
   "metadata": {},
   "outputs": [
    {
     "data": {},
     "metadata": {},
     "output_type": "display_data"
    },
    {
     "data": {
      "image/png": "[encoded data removed]",
      "text/plain": [
       "plot without title"
      ]
     },
     "metadata": {},
     "output_type": "display_data"
    }
   ],
   "source": [
    "#png(filename=\"./plots/group_NE_detail.png\", units=\"cm\", width=20, height=20, res = 300)\n",
    "ggplot(group_NE, aes(x = reorder(AA, estimate), y = estimate, color = AA)) + \n",
    "    geom_hline(yintercept = 0, alpha = 0.4) + \n",
    "    geom_point() + geom_pointrange( aes(x = AA, ymin = estimate - 2*std.error, ymax = estimate + 2*std.error)) + \n",
    "    theme(legend.position = \"none\") + \n",
    "    coord_flip(ylim = c(-1, 1), xlim = c(1, 4.7)) + \n",
    "    facet_wrap(~term) + \n",
    "    xlab('Amino Acids') + ylab('') +\n",
    "    ggtitle('Detail Non Essential AA \\n Estimate and 95% CI') \n",
    "#dev.off()"
   ]
  },
  {
   "cell_type": "markdown",
   "metadata": {},
   "source": [
    "# Fastest Growing Babies\n",
    "\n",
    "Here only ids with all 4 measurements are used. "
   ]
  },
  {
   "cell_type": "code",
   "execution_count": 35,
   "metadata": {
    "collapsed": true
   },
   "outputs": [],
   "source": [
    "percentil <- function(x, p){\n",
    "    n <- length(x)\n",
    "    xs <- sort(x)\n",
    "    \n",
    "    k <- ceiling(p*n)\n",
    "    \n",
    "    return(list(percentil = k, value = xs[k]))\n",
    "}"
   ]
  },
  {
   "cell_type": "code",
   "execution_count": 36,
   "metadata": {},
   "outputs": [
    {
     "data": {
      "text/html": [
       "<dl>\n",
       "\t<dt>$percentil</dt>\n",
       "\t\t<dd>3</dd>\n",
       "\t<dt>$value</dt>\n",
       "\t\t<dd>5</dd>\n",
       "</dl>\n"
      ],
      "text/latex": [
       "\\begin{description}\n",
       "\\item[\\$percentil] 3\n",
       "\\item[\\$value] 5\n",
       "\\end{description}\n"
      ],
      "text/markdown": [
       "$percentil\n",
       ":   3\n",
       "$value\n",
       ":   5\n",
       "\n",
       "\n"
      ],
      "text/plain": [
       "$percentil\n",
       "[1] 3\n",
       "\n",
       "$value\n",
       "[1] 5\n"
      ]
     },
     "metadata": {},
     "output_type": "display_data"
    }
   ],
   "source": [
    "x <- c(2, 4, 5, 10)\n",
    "\n",
    "percentil(x, 0.75)\n"
   ]
  },
  {
   "cell_type": "code",
   "execution_count": 37,
   "metadata": {},
   "outputs": [
    {
     "data": {
      "text/html": [
       "<table>\n",
       "<thead><tr><th scope=col>id</th><th scope=col>group</th><th scope=col>sex</th><th scope=col>HeadCircumcm1</th><th scope=col>HCcm2</th><th scope=col>HCcm3</th><th scope=col>HCcm4</th></tr></thead>\n",
       "<tbody>\n",
       "\t<tr><td>1   </td><td>teen</td><td>girl</td><td>34  </td><td>37  </td><td>39  </td><td>42  </td></tr>\n",
       "\t<tr><td>2   </td><td>teen</td><td>boy </td><td>35  </td><td>37  </td><td>38  </td><td>41  </td></tr>\n",
       "\t<tr><td>3   </td><td>teen</td><td>boy </td><td>35  </td><td>37  </td><td>NA  </td><td>NA  </td></tr>\n",
       "\t<tr><td>4   </td><td>teen</td><td>boy </td><td>37  </td><td>NA  </td><td>NA  </td><td>NA  </td></tr>\n",
       "\t<tr><td>5   </td><td>teen</td><td>NA  </td><td>34  </td><td>NA  </td><td>NA  </td><td>NA  </td></tr>\n",
       "\t<tr><td>6   </td><td>teen</td><td>boy </td><td>35  </td><td>36  </td><td>39  </td><td>44  </td></tr>\n",
       "</tbody>\n",
       "</table>\n"
      ],
      "text/latex": [
       "\\begin{tabular}{r|lllllll}\n",
       " id & group & sex & HeadCircumcm1 & HCcm2 & HCcm3 & HCcm4\\\\\n",
       "\\hline\n",
       "\t 1    & teen & girl & 34   & 37   & 39   & 42  \\\\\n",
       "\t 2    & teen & boy  & 35   & 37   & 38   & 41  \\\\\n",
       "\t 3    & teen & boy  & 35   & 37   & NA   & NA  \\\\\n",
       "\t 4    & teen & boy  & 37   & NA   & NA   & NA  \\\\\n",
       "\t 5    & teen & NA   & 34   & NA   & NA   & NA  \\\\\n",
       "\t 6    & teen & boy  & 35   & 36   & 39   & 44  \\\\\n",
       "\\end{tabular}\n"
      ],
      "text/markdown": [
       "\n",
       "id | group | sex | HeadCircumcm1 | HCcm2 | HCcm3 | HCcm4 | \n",
       "|---|---|---|---|---|---|\n",
       "| 1    | teen | girl | 34   | 37   | 39   | 42   | \n",
       "| 2    | teen | boy  | 35   | 37   | 38   | 41   | \n",
       "| 3    | teen | boy  | 35   | 37   | NA   | NA   | \n",
       "| 4    | teen | boy  | 37   | NA   | NA   | NA   | \n",
       "| 5    | teen | NA   | 34   | NA   | NA   | NA   | \n",
       "| 6    | teen | boy  | 35   | 36   | 39   | 44   | \n",
       "\n",
       "\n"
      ],
      "text/plain": [
       "  id group sex  HeadCircumcm1 HCcm2 HCcm3 HCcm4\n",
       "1 1  teen  girl 34            37    39    42   \n",
       "2 2  teen  boy  35            37    38    41   \n",
       "3 3  teen  boy  35            37    NA    NA   \n",
       "4 4  teen  boy  37            NA    NA    NA   \n",
       "5 5  teen  NA   34            NA    NA    NA   \n",
       "6 6  teen  boy  35            36    39    44   "
      ]
     },
     "metadata": {},
     "output_type": "display_data"
    },
    {
     "data": {
      "text/html": [
       "<table>\n",
       "<thead><tr><th scope=col>id</th><th scope=col>group</th><th scope=col>sex</th><th scope=col>BABYWeigth1g</th><th scope=col>BABYWeigth2g</th><th scope=col>BABYWeigth3g</th><th scope=col>BABYWeigth4g</th></tr></thead>\n",
       "<tbody>\n",
       "\t<tr><td>1      </td><td>teen   </td><td>girl   </td><td>3492.7 </td><td>3592.5 </td><td>5488.6 </td><td>8282.74</td></tr>\n",
       "\t<tr><td>2      </td><td>teen   </td><td>boy    </td><td>3392.9 </td><td>4091.5 </td><td>5987.5 </td><td>7883.57</td></tr>\n",
       "\t<tr><td>3      </td><td>teen   </td><td>boy    </td><td>2993.8 </td><td>3592.5 </td><td>    NA </td><td>     NA</td></tr>\n",
       "\t<tr><td>4      </td><td>teen   </td><td>boy    </td><td>3692.3 </td><td>    NA </td><td>    NA </td><td>     NA</td></tr>\n",
       "\t<tr><td>5      </td><td>teen   </td><td>NA     </td><td>3592.5 </td><td>    NA </td><td>    NA </td><td>     NA</td></tr>\n",
       "\t<tr><td>6      </td><td>teen   </td><td>boy    </td><td>3093.5 </td><td>3392.9 </td><td>4989.6 </td><td>6785.80</td></tr>\n",
       "</tbody>\n",
       "</table>\n"
      ],
      "text/latex": [
       "\\begin{tabular}{r|lllllll}\n",
       " id & group & sex & BABYWeigth1g & BABYWeigth2g & BABYWeigth3g & BABYWeigth4g\\\\\n",
       "\\hline\n",
       "\t 1       & teen    & girl    & 3492.7  & 3592.5  & 5488.6  & 8282.74\\\\\n",
       "\t 2       & teen    & boy     & 3392.9  & 4091.5  & 5987.5  & 7883.57\\\\\n",
       "\t 3       & teen    & boy     & 2993.8  & 3592.5  &     NA  &      NA\\\\\n",
       "\t 4       & teen    & boy     & 3692.3  &     NA  &     NA  &      NA\\\\\n",
       "\t 5       & teen    & NA      & 3592.5  &     NA  &     NA  &      NA\\\\\n",
       "\t 6       & teen    & boy     & 3093.5  & 3392.9  & 4989.6  & 6785.80\\\\\n",
       "\\end{tabular}\n"
      ],
      "text/markdown": [
       "\n",
       "id | group | sex | BABYWeigth1g | BABYWeigth2g | BABYWeigth3g | BABYWeigth4g | \n",
       "|---|---|---|---|---|---|\n",
       "| 1       | teen    | girl    | 3492.7  | 3592.5  | 5488.6  | 8282.74 | \n",
       "| 2       | teen    | boy     | 3392.9  | 4091.5  | 5987.5  | 7883.57 | \n",
       "| 3       | teen    | boy     | 2993.8  | 3592.5  |     NA  |      NA | \n",
       "| 4       | teen    | boy     | 3692.3  |     NA  |     NA  |      NA | \n",
       "| 5       | teen    | NA      | 3592.5  |     NA  |     NA  |      NA | \n",
       "| 6       | teen    | boy     | 3093.5  | 3392.9  | 4989.6  | 6785.80 | \n",
       "\n",
       "\n"
      ],
      "text/plain": [
       "  id group sex  BABYWeigth1g BABYWeigth2g BABYWeigth3g BABYWeigth4g\n",
       "1 1  teen  girl 3492.7       3592.5       5488.6       8282.74     \n",
       "2 2  teen  boy  3392.9       4091.5       5987.5       7883.57     \n",
       "3 3  teen  boy  2993.8       3592.5           NA            NA     \n",
       "4 4  teen  boy  3692.3           NA           NA            NA     \n",
       "5 5  teen  NA   3592.5           NA           NA            NA     \n",
       "6 6  teen  boy  3093.5       3392.9       4989.6       6785.80     "
      ]
     },
     "metadata": {},
     "output_type": "display_data"
    }
   ],
   "source": [
    "head(headC)\n",
    "head(weight)"
   ]
  },
  {
   "cell_type": "code",
   "execution_count": 38,
   "metadata": {
    "collapsed": true
   },
   "outputs": [],
   "source": [
    "headC_NO_NA <- headC %>% na.omit()\n",
    "weight_NO_NA <- weight %>% na.omit()\n",
    "\n",
    "headCLong_NO_NA <- headC_NO_NA %>% gather(weekNames, head, -id, -group, -sex)\n",
    "weightLong_NO_NA <- weight_NO_NA %>% gather(weekNames, weight, -id, -group, -sex)"
   ]
  },
  {
   "cell_type": "code",
   "execution_count": 39,
   "metadata": {
    "collapsed": true
   },
   "outputs": [],
   "source": [
    "headCLong_NO_NA <- \n",
    "    headCLong_NO_NA %>% \n",
    "        mutate(week = gsub(\".*cm1\", \"1\", weekNames)) %>%\n",
    "        mutate(week = gsub(\".*cm2\", \"2\", week)) %>%\n",
    "        mutate(week = gsub(\".*cm3\", \"8\", week)) %>%\n",
    "        mutate(week = gsub(\".*cm4\", \"16\", week)) %>% \n",
    "        mutate(week = as.numeric(week))"
   ]
  },
  {
   "cell_type": "code",
   "execution_count": 40,
   "metadata": {
    "collapsed": true
   },
   "outputs": [],
   "source": [
    "weightLong_NO_NA <- \n",
    "    weightLong_NO_NA %>% \n",
    "        mutate(week = gsub(\".*1g\", \"1\", weekNames)) %>%\n",
    "        mutate(week = gsub(\".*2g\", \"2\", week)) %>%\n",
    "        mutate(week = gsub(\".*3g\", \"8\", week)) %>%\n",
    "        mutate(week = gsub(\".*4g\", \"16\", week)) %>% \n",
    "        mutate(week = as.numeric(week))"
   ]
  },
  {
   "cell_type": "code",
   "execution_count": 41,
   "metadata": {},
   "outputs": [
    {
     "data": {
      "text/html": [
       "<table>\n",
       "<thead><tr><th scope=col>id</th><th scope=col>group</th><th scope=col>sex</th><th scope=col>weekNames</th><th scope=col>head</th><th scope=col>week</th></tr></thead>\n",
       "<tbody>\n",
       "\t<tr><td>1            </td><td>teen         </td><td>girl         </td><td>HeadCircumcm1</td><td>34           </td><td>1            </td></tr>\n",
       "\t<tr><td>2            </td><td>teen         </td><td>boy          </td><td>HeadCircumcm1</td><td>35           </td><td>1            </td></tr>\n",
       "\t<tr><td>6            </td><td>teen         </td><td>boy          </td><td>HeadCircumcm1</td><td>35           </td><td>1            </td></tr>\n",
       "\t<tr><td>7            </td><td>teen         </td><td>boy          </td><td>HeadCircumcm1</td><td>34           </td><td>1            </td></tr>\n",
       "\t<tr><td>8            </td><td>teen         </td><td>boy          </td><td>HeadCircumcm1</td><td>34           </td><td>1            </td></tr>\n",
       "\t<tr><td>20           </td><td>teen         </td><td>boy          </td><td>HeadCircumcm1</td><td>33           </td><td>1            </td></tr>\n",
       "</tbody>\n",
       "</table>\n"
      ],
      "text/latex": [
       "\\begin{tabular}{r|llllll}\n",
       " id & group & sex & weekNames & head & week\\\\\n",
       "\\hline\n",
       "\t 1             & teen          & girl          & HeadCircumcm1 & 34            & 1            \\\\\n",
       "\t 2             & teen          & boy           & HeadCircumcm1 & 35            & 1            \\\\\n",
       "\t 6             & teen          & boy           & HeadCircumcm1 & 35            & 1            \\\\\n",
       "\t 7             & teen          & boy           & HeadCircumcm1 & 34            & 1            \\\\\n",
       "\t 8             & teen          & boy           & HeadCircumcm1 & 34            & 1            \\\\\n",
       "\t 20            & teen          & boy           & HeadCircumcm1 & 33            & 1            \\\\\n",
       "\\end{tabular}\n"
      ],
      "text/markdown": [
       "\n",
       "id | group | sex | weekNames | head | week | \n",
       "|---|---|---|---|---|---|\n",
       "| 1             | teen          | girl          | HeadCircumcm1 | 34            | 1             | \n",
       "| 2             | teen          | boy           | HeadCircumcm1 | 35            | 1             | \n",
       "| 6             | teen          | boy           | HeadCircumcm1 | 35            | 1             | \n",
       "| 7             | teen          | boy           | HeadCircumcm1 | 34            | 1             | \n",
       "| 8             | teen          | boy           | HeadCircumcm1 | 34            | 1             | \n",
       "| 20            | teen          | boy           | HeadCircumcm1 | 33            | 1             | \n",
       "\n",
       "\n"
      ],
      "text/plain": [
       "  id group sex  weekNames     head week\n",
       "1 1  teen  girl HeadCircumcm1 34   1   \n",
       "2 2  teen  boy  HeadCircumcm1 35   1   \n",
       "3 6  teen  boy  HeadCircumcm1 35   1   \n",
       "4 7  teen  boy  HeadCircumcm1 34   1   \n",
       "5 8  teen  boy  HeadCircumcm1 34   1   \n",
       "6 20 teen  boy  HeadCircumcm1 33   1   "
      ]
     },
     "metadata": {},
     "output_type": "display_data"
    }
   ],
   "source": [
    "head(headCLong_NO_NA)"
   ]
  },
  {
   "cell_type": "code",
   "execution_count": 42,
   "metadata": {},
   "outputs": [
    {
     "data": {
      "text/html": [
       "<table>\n",
       "<thead><tr><th scope=col>id</th><th scope=col>group</th><th scope=col>sex</th><th scope=col>weekNames</th><th scope=col>weight</th><th scope=col>week</th></tr></thead>\n",
       "<tbody>\n",
       "\t<tr><td>1           </td><td>teen        </td><td>girl        </td><td>BABYWeigth1g</td><td>3492.7      </td><td>1           </td></tr>\n",
       "\t<tr><td>2           </td><td>teen        </td><td>boy         </td><td>BABYWeigth1g</td><td>3392.9      </td><td>1           </td></tr>\n",
       "\t<tr><td>6           </td><td>teen        </td><td>boy         </td><td>BABYWeigth1g</td><td>3093.5      </td><td>1           </td></tr>\n",
       "\t<tr><td>7           </td><td>teen        </td><td>boy         </td><td>BABYWeigth1g</td><td>2993.7      </td><td>1           </td></tr>\n",
       "\t<tr><td>8           </td><td>teen        </td><td>boy         </td><td>BABYWeigth1g</td><td>3392.9      </td><td>1           </td></tr>\n",
       "\t<tr><td>14          </td><td>teen        </td><td>girl        </td><td>BABYWeigth1g</td><td>2164.0      </td><td>1           </td></tr>\n",
       "</tbody>\n",
       "</table>\n"
      ],
      "text/latex": [
       "\\begin{tabular}{r|llllll}\n",
       " id & group & sex & weekNames & weight & week\\\\\n",
       "\\hline\n",
       "\t 1            & teen         & girl         & BABYWeigth1g & 3492.7       & 1           \\\\\n",
       "\t 2            & teen         & boy          & BABYWeigth1g & 3392.9       & 1           \\\\\n",
       "\t 6            & teen         & boy          & BABYWeigth1g & 3093.5       & 1           \\\\\n",
       "\t 7            & teen         & boy          & BABYWeigth1g & 2993.7       & 1           \\\\\n",
       "\t 8            & teen         & boy          & BABYWeigth1g & 3392.9       & 1           \\\\\n",
       "\t 14           & teen         & girl         & BABYWeigth1g & 2164.0       & 1           \\\\\n",
       "\\end{tabular}\n"
      ],
      "text/markdown": [
       "\n",
       "id | group | sex | weekNames | weight | week | \n",
       "|---|---|---|---|---|---|\n",
       "| 1            | teen         | girl         | BABYWeigth1g | 3492.7       | 1            | \n",
       "| 2            | teen         | boy          | BABYWeigth1g | 3392.9       | 1            | \n",
       "| 6            | teen         | boy          | BABYWeigth1g | 3093.5       | 1            | \n",
       "| 7            | teen         | boy          | BABYWeigth1g | 2993.7       | 1            | \n",
       "| 8            | teen         | boy          | BABYWeigth1g | 3392.9       | 1            | \n",
       "| 14           | teen         | girl         | BABYWeigth1g | 2164.0       | 1            | \n",
       "\n",
       "\n"
      ],
      "text/plain": [
       "  id group sex  weekNames    weight week\n",
       "1 1  teen  girl BABYWeigth1g 3492.7 1   \n",
       "2 2  teen  boy  BABYWeigth1g 3392.9 1   \n",
       "3 6  teen  boy  BABYWeigth1g 3093.5 1   \n",
       "4 7  teen  boy  BABYWeigth1g 2993.7 1   \n",
       "5 8  teen  boy  BABYWeigth1g 3392.9 1   \n",
       "6 14 teen  girl BABYWeigth1g 2164.0 1   "
      ]
     },
     "metadata": {},
     "output_type": "display_data"
    }
   ],
   "source": [
    "head(weightLong_NO_NA)"
   ]
  },
  {
   "cell_type": "code",
   "execution_count": 43,
   "metadata": {},
   "outputs": [
    {
     "data": {
      "text/html": [
       "<ol class=list-inline>\n",
       "\t<li>84</li>\n",
       "\t<li>6</li>\n",
       "</ol>\n"
      ],
      "text/latex": [
       "\\begin{enumerate*}\n",
       "\\item 84\n",
       "\\item 6\n",
       "\\end{enumerate*}\n"
      ],
      "text/markdown": [
       "1. 84\n",
       "2. 6\n",
       "\n",
       "\n"
      ],
      "text/plain": [
       "[1] 84  6"
      ]
     },
     "metadata": {},
     "output_type": "display_data"
    },
    {
     "data": {
      "text/html": [
       "<ol class=list-inline>\n",
       "\t<li>84</li>\n",
       "\t<li>6</li>\n",
       "</ol>\n"
      ],
      "text/latex": [
       "\\begin{enumerate*}\n",
       "\\item 84\n",
       "\\item 6\n",
       "\\end{enumerate*}\n"
      ],
      "text/markdown": [
       "1. 84\n",
       "2. 6\n",
       "\n",
       "\n"
      ],
      "text/plain": [
       "[1] 84  6"
      ]
     },
     "metadata": {},
     "output_type": "display_data"
    }
   ],
   "source": [
    "dim(headCLong_NO_NA)\n",
    "dim(weightLong_NO_NA)"
   ]
  },
  {
   "cell_type": "code",
   "execution_count": 110,
   "metadata": {},
   "outputs": [
    {
     "data": {},
     "metadata": {},
     "output_type": "display_data"
    },
    {
     "data": {
      "image/png": "[encoded data removed]",
      "text/plain": [
       "plot without title"
      ]
     },
     "metadata": {},
     "output_type": "display_data"
    }
   ],
   "source": [
    "ggplot(headCLong_NO_NA, aes(x = week, y = head, group = id)) + \n",
    "    #geom_smooth(method = lm, se = F) +        \n",
    "    geom_point() + geom_line() \n",
    "    "
   ]
  },
  {
   "cell_type": "code",
   "execution_count": 45,
   "metadata": {},
   "outputs": [
    {
     "data": {},
     "metadata": {},
     "output_type": "display_data"
    },
    {
     "data": {
      "image/png": "[encoded data removed]",
      "text/plain": [
       "plot without title"
      ]
     },
     "metadata": {},
     "output_type": "display_data"
    }
   ],
   "source": [
    "ggplot(weightLong_NO_NA, aes(x = week, y = weight, group = id)) + geom_point() + geom_line()"
   ]
  },
  {
   "cell_type": "code",
   "execution_count": 46,
   "metadata": {
    "collapsed": true
   },
   "outputs": [],
   "source": [
    "head_id <- lmer(head ~ week + (1 + week| id), data = headCLong_NO_NA)\n",
    "weight_id <- lmer(weight ~ week + (1 + week| id), data = weightLong_NO_NA)"
   ]
  },
  {
   "cell_type": "code",
   "execution_count": 47,
   "metadata": {},
   "outputs": [
    {
     "data": {
      "text/html": [
       "<dl class=dl-horizontal>\n",
       "\t<dt>(Intercept)</dt>\n",
       "\t\t<dd>34.1888082728713</dd>\n",
       "\t<dt>week</dt>\n",
       "\t\t<dd>0.441164206488195</dd>\n",
       "</dl>\n"
      ],
      "text/latex": [
       "\\begin{description*}\n",
       "\\item[(Intercept)] 34.1888082728713\n",
       "\\item[week] 0.441164206488195\n",
       "\\end{description*}\n"
      ],
      "text/markdown": [
       "(Intercept)\n",
       ":   34.1888082728713week\n",
       ":   0.441164206488195\n",
       "\n"
      ],
      "text/plain": [
       "(Intercept)        week \n",
       " 34.1888083   0.4411642 "
      ]
     },
     "metadata": {},
     "output_type": "display_data"
    },
    {
     "data": {
      "text/plain": [
       "$id\n",
       "   (Intercept)          week\n",
       "1   0.59199045  0.0164747724\n",
       "2   0.35188290  0.0097927097\n",
       "6   1.01109202  0.0281381413\n",
       "7  -0.14028256 -0.0039039873\n",
       "8   0.43744185  0.0121737689\n",
       "20 -0.43715705 -0.0121658431\n",
       "23 -1.14091041 -0.0317509164\n",
       "30  0.76691023  0.0213426948\n",
       "32 -0.46975094 -0.0130729132\n",
       "35 -0.52679024 -0.0146602860\n",
       "36 -0.86033286 -0.0239425957\n",
       "37 -0.86033286 -0.0239425957\n",
       "41 -0.04657513 -0.0012961606\n",
       "48  2.54870192  0.0709289888\n",
       "52 -0.43715705 -0.0121658431\n",
       "54 -0.01425361 -0.0003966702\n",
       "55 -0.80329356 -0.0223552229\n",
       "57 -0.31927657 -0.0088852935\n",
       "59  1.25500145  0.0349260080\n",
       "62 -0.64874495 -0.0180542194\n",
       "64 -0.25816303 -0.0071845369\n"
      ]
     },
     "metadata": {},
     "output_type": "display_data"
    }
   ],
   "source": [
    "fixef(head_id)\n",
    "ranef(head_id)"
   ]
  },
  {
   "cell_type": "code",
   "execution_count": 48,
   "metadata": {},
   "outputs": [
    {
     "data": {
      "text/html": [
       "<dl class=dl-horizontal>\n",
       "\t<dt>(Intercept)</dt>\n",
       "\t\t<dd>3237.69245517471</dd>\n",
       "\t<dt>week</dt>\n",
       "\t\t<dd>237.472987240431</dd>\n",
       "</dl>\n"
      ],
      "text/latex": [
       "\\begin{description*}\n",
       "\\item[(Intercept)] 3237.69245517471\n",
       "\\item[week] 237.472987240431\n",
       "\\end{description*}\n"
      ],
      "text/markdown": [
       "(Intercept)\n",
       ":   3237.69245517471week\n",
       ":   237.472987240431\n",
       "\n"
      ],
      "text/plain": [
       "(Intercept)        week \n",
       "   3237.692     237.473 "
      ]
     },
     "metadata": {},
     "output_type": "display_data"
    },
    {
     "data": {
      "text/plain": [
       "$id\n",
       "   (Intercept)       week\n",
       "1    168.09469  36.040552\n",
       "2    172.82537  37.054840\n",
       "6    -64.77830 -13.888874\n",
       "7    -99.47227 -21.327476\n",
       "8     95.45774  20.466736\n",
       "14  -278.16406 -59.640114\n",
       "20  -270.51032 -57.999105\n",
       "23  -199.40797 -42.754317\n",
       "30   261.65164  56.099749\n",
       "32    47.45208  10.174024\n",
       "35    59.97693  12.859428\n",
       "36   -68.77412 -14.745601\n",
       "37  -240.57580 -51.580957\n",
       "41  -119.77760 -25.681068\n",
       "48   469.97579 100.765750\n",
       "52    44.24791   9.487028\n",
       "53    24.14464   5.176762\n",
       "54  -116.55183 -24.989441\n",
       "55   -88.84882 -19.049743\n",
       "59   272.92228  58.516244\n",
       "62   -69.88798 -14.984419\n"
      ]
     },
     "metadata": {},
     "output_type": "display_data"
    }
   ],
   "source": [
    "fixef(weight_id)\n",
    "ranef(weight_id)"
   ]
  },
  {
   "cell_type": "code",
   "execution_count": 49,
   "metadata": {},
   "outputs": [
    {
     "data": {},
     "metadata": {},
     "output_type": "display_data"
    },
    {
     "data": {
      "image/png": "[encoded data removed]",
      "text/plain": [
       "plot without title"
      ]
     },
     "metadata": {},
     "output_type": "display_data"
    }
   ],
   "source": [
    "ggplot(ranef(head_id)$id, aes(x = week)) + geom_density()"
   ]
  },
  {
   "cell_type": "code",
   "execution_count": 50,
   "metadata": {},
   "outputs": [
    {
     "data": {},
     "metadata": {},
     "output_type": "display_data"
    },
    {
     "data": {
      "image/png": "[encoded data removed]",
      "text/plain": [
       "plot without title"
      ]
     },
     "metadata": {},
     "output_type": "display_data"
    }
   ],
   "source": [
    "ggplot(ranef(weight_id)$id, aes(x = week)) + geom_density()"
   ]
  },
  {
   "cell_type": "code",
   "execution_count": 94,
   "metadata": {},
   "outputs": [],
   "source": [
    "head_week_p1 <- percentil(ranef(head_id)$id$week, 1/3)$value\n",
    "head_week_p2 <- percentil(ranef(head_id)$id$week, 2/3)$value\n",
    "\n",
    "head_start_p1 <- percentil(ranef(head_id)$id$`(Intercept)`, 1/3)$value\n",
    "head_start_p2 <- percentil(ranef(head_id)$id$`(Intercept)`, 2/3)$value"
   ]
  },
  {
   "cell_type": "code",
   "execution_count": 95,
   "metadata": {
    "collapsed": true
   },
   "outputs": [],
   "source": [
    "weight_week_p1 <- percentil(ranef(weight_id)$id$week, 1/3)$value\n",
    "weight_week_p2 <- percentil(ranef(weight_id)$id$week, 2/3)$value\n",
    "\n",
    "weight_start_p1 <- percentil(ranef(weight_id)$id$`(Intercept)`, 1/3)$value\n",
    "weight_start_p2 <- percentil(ranef(weight_id)$id$`(Intercept)`, 2/3)$value"
   ]
  },
  {
   "cell_type": "code",
   "execution_count": 99,
   "metadata": {},
   "outputs": [
    {
     "data": {
      "text/html": [
       "<table>\n",
       "<thead><tr><th scope=col>(Intercept)</th><th scope=col>week</th><th scope=col>id</th><th scope=col>hc_speed</th><th scope=col>first_hc</th></tr></thead>\n",
       "<tbody>\n",
       "\t<tr><td> 0.59199045  </td><td> 0.0164747724</td><td>1            </td><td>fast         </td><td>big          </td></tr>\n",
       "\t<tr><td> 0.35188290  </td><td> 0.0097927097</td><td>2            </td><td>fast         </td><td>big          </td></tr>\n",
       "\t<tr><td> 1.01109202  </td><td> 0.0281381413</td><td>6            </td><td>fast         </td><td>big          </td></tr>\n",
       "\t<tr><td>-0.14028256  </td><td>-0.0039039873</td><td>7            </td><td>moderate     </td><td>normal       </td></tr>\n",
       "\t<tr><td> 0.43744185  </td><td> 0.0121737689</td><td>8            </td><td>fast         </td><td>big          </td></tr>\n",
       "\t<tr><td>-0.43715705  </td><td>-0.0121658431</td><td>20           </td><td>moderate     </td><td>normal       </td></tr>\n",
       "\t<tr><td>-1.14091041  </td><td>-0.0317509164</td><td>23           </td><td>slow         </td><td>small        </td></tr>\n",
       "\t<tr><td> 0.76691023  </td><td> 0.0213426948</td><td>30           </td><td>fast         </td><td>big          </td></tr>\n",
       "\t<tr><td>-0.46975094  </td><td>-0.0130729132</td><td>32           </td><td>moderate     </td><td>normal       </td></tr>\n",
       "\t<tr><td>-0.52679024  </td><td>-0.0146602860</td><td>35           </td><td>slow         </td><td>small        </td></tr>\n",
       "\t<tr><td>-0.86033286  </td><td>-0.0239425957</td><td>36           </td><td>slow         </td><td>small        </td></tr>\n",
       "\t<tr><td>-0.86033286  </td><td>-0.0239425957</td><td>37           </td><td>slow         </td><td>small        </td></tr>\n",
       "\t<tr><td>-0.04657513  </td><td>-0.0012961606</td><td>41           </td><td>moderate     </td><td>normal       </td></tr>\n",
       "\t<tr><td> 2.54870192  </td><td> 0.0709289888</td><td>48           </td><td>fast         </td><td>big          </td></tr>\n",
       "\t<tr><td>-0.43715705  </td><td>-0.0121658431</td><td>52           </td><td>moderate     </td><td>normal       </td></tr>\n",
       "\t<tr><td>-0.01425361  </td><td>-0.0003966702</td><td>54           </td><td>fast         </td><td>big          </td></tr>\n",
       "\t<tr><td>-0.80329356  </td><td>-0.0223552229</td><td>55           </td><td>slow         </td><td>small        </td></tr>\n",
       "\t<tr><td>-0.31927657  </td><td>-0.0088852935</td><td>57           </td><td>moderate     </td><td>normal       </td></tr>\n",
       "\t<tr><td> 1.25500145  </td><td> 0.0349260080</td><td>59           </td><td>fast         </td><td>big          </td></tr>\n",
       "\t<tr><td>-0.64874495  </td><td>-0.0180542194</td><td>62           </td><td>slow         </td><td>small        </td></tr>\n",
       "\t<tr><td>-0.25816303  </td><td>-0.0071845369</td><td>64           </td><td>moderate     </td><td>normal       </td></tr>\n",
       "</tbody>\n",
       "</table>\n"
      ],
      "text/latex": [
       "\\begin{tabular}{r|lllll}\n",
       " (Intercept) & week & id & hc\\_speed & first\\_hc\\\\\n",
       "\\hline\n",
       "\t  0.59199045   &  0.0164747724 & 1             & fast          & big          \\\\\n",
       "\t  0.35188290   &  0.0097927097 & 2             & fast          & big          \\\\\n",
       "\t  1.01109202   &  0.0281381413 & 6             & fast          & big          \\\\\n",
       "\t -0.14028256   & -0.0039039873 & 7             & moderate      & normal       \\\\\n",
       "\t  0.43744185   &  0.0121737689 & 8             & fast          & big          \\\\\n",
       "\t -0.43715705   & -0.0121658431 & 20            & moderate      & normal       \\\\\n",
       "\t -1.14091041   & -0.0317509164 & 23            & slow          & small        \\\\\n",
       "\t  0.76691023   &  0.0213426948 & 30            & fast          & big          \\\\\n",
       "\t -0.46975094   & -0.0130729132 & 32            & moderate      & normal       \\\\\n",
       "\t -0.52679024   & -0.0146602860 & 35            & slow          & small        \\\\\n",
       "\t -0.86033286   & -0.0239425957 & 36            & slow          & small        \\\\\n",
       "\t -0.86033286   & -0.0239425957 & 37            & slow          & small        \\\\\n",
       "\t -0.04657513   & -0.0012961606 & 41            & moderate      & normal       \\\\\n",
       "\t  2.54870192   &  0.0709289888 & 48            & fast          & big          \\\\\n",
       "\t -0.43715705   & -0.0121658431 & 52            & moderate      & normal       \\\\\n",
       "\t -0.01425361   & -0.0003966702 & 54            & fast          & big          \\\\\n",
       "\t -0.80329356   & -0.0223552229 & 55            & slow          & small        \\\\\n",
       "\t -0.31927657   & -0.0088852935 & 57            & moderate      & normal       \\\\\n",
       "\t  1.25500145   &  0.0349260080 & 59            & fast          & big          \\\\\n",
       "\t -0.64874495   & -0.0180542194 & 62            & slow          & small        \\\\\n",
       "\t -0.25816303   & -0.0071845369 & 64            & moderate      & normal       \\\\\n",
       "\\end{tabular}\n"
      ],
      "text/markdown": [
       "\n",
       "(Intercept) | week | id | hc_speed | first_hc | \n",
       "|---|---|---|---|---|---|---|---|---|---|---|---|---|---|---|---|---|---|---|---|---|\n",
       "|  0.59199045   |  0.0164747724 | 1             | fast          | big           | \n",
       "|  0.35188290   |  0.0097927097 | 2             | fast          | big           | \n",
       "|  1.01109202   |  0.0281381413 | 6             | fast          | big           | \n",
       "| -0.14028256   | -0.0039039873 | 7             | moderate      | normal        | \n",
       "|  0.43744185   |  0.0121737689 | 8             | fast          | big           | \n",
       "| -0.43715705   | -0.0121658431 | 20            | moderate      | normal        | \n",
       "| -1.14091041   | -0.0317509164 | 23            | slow          | small         | \n",
       "|  0.76691023   |  0.0213426948 | 30            | fast          | big           | \n",
       "| -0.46975094   | -0.0130729132 | 32            | moderate      | normal        | \n",
       "| -0.52679024   | -0.0146602860 | 35            | slow          | small         | \n",
       "| -0.86033286   | -0.0239425957 | 36            | slow          | small         | \n",
       "| -0.86033286   | -0.0239425957 | 37            | slow          | small         | \n",
       "| -0.04657513   | -0.0012961606 | 41            | moderate      | normal        | \n",
       "|  2.54870192   |  0.0709289888 | 48            | fast          | big           | \n",
       "| -0.43715705   | -0.0121658431 | 52            | moderate      | normal        | \n",
       "| -0.01425361   | -0.0003966702 | 54            | fast          | big           | \n",
       "| -0.80329356   | -0.0223552229 | 55            | slow          | small         | \n",
       "| -0.31927657   | -0.0088852935 | 57            | moderate      | normal        | \n",
       "|  1.25500145   |  0.0349260080 | 59            | fast          | big           | \n",
       "| -0.64874495   | -0.0180542194 | 62            | slow          | small         | \n",
       "| -0.25816303   | -0.0071845369 | 64            | moderate      | normal        | \n",
       "\n",
       "\n"
      ],
      "text/plain": [
       "   (Intercept) week          id hc_speed first_hc\n",
       "1   0.59199045  0.0164747724 1  fast     big     \n",
       "2   0.35188290  0.0097927097 2  fast     big     \n",
       "3   1.01109202  0.0281381413 6  fast     big     \n",
       "4  -0.14028256 -0.0039039873 7  moderate normal  \n",
       "5   0.43744185  0.0121737689 8  fast     big     \n",
       "6  -0.43715705 -0.0121658431 20 moderate normal  \n",
       "7  -1.14091041 -0.0317509164 23 slow     small   \n",
       "8   0.76691023  0.0213426948 30 fast     big     \n",
       "9  -0.46975094 -0.0130729132 32 moderate normal  \n",
       "10 -0.52679024 -0.0146602860 35 slow     small   \n",
       "11 -0.86033286 -0.0239425957 36 slow     small   \n",
       "12 -0.86033286 -0.0239425957 37 slow     small   \n",
       "13 -0.04657513 -0.0012961606 41 moderate normal  \n",
       "14  2.54870192  0.0709289888 48 fast     big     \n",
       "15 -0.43715705 -0.0121658431 52 moderate normal  \n",
       "16 -0.01425361 -0.0003966702 54 fast     big     \n",
       "17 -0.80329356 -0.0223552229 55 slow     small   \n",
       "18 -0.31927657 -0.0088852935 57 moderate normal  \n",
       "19  1.25500145  0.0349260080 59 fast     big     \n",
       "20 -0.64874495 -0.0180542194 62 slow     small   \n",
       "21 -0.25816303 -0.0071845369 64 moderate normal  "
      ]
     },
     "metadata": {},
     "output_type": "display_data"
    }
   ],
   "source": [
    "hc_growth <- \n",
    "    ranef(head_id)$id %>% mutate(id = headC_NO_NA$id, \n",
    "                             hc_speed = ifelse(week < head_week_p1, 'slow',\n",
    "                                   ifelse(week < head_week_p2, 'moderate', 'fast'))) %>%\n",
    "                      mutate(first_hc = ifelse(`(Intercept)` < head_start_p1, 'small', \n",
    "                                              ifelse(`(Intercept)` < head_start_p2, 'normal', 'big')))\n",
    "\n",
    "hc_growth"
   ]
  },
  {
   "cell_type": "code",
   "execution_count": 107,
   "metadata": {},
   "outputs": [
    {
     "data": {
      "text/html": [
       "<table>\n",
       "<thead><tr><th scope=col>(Intercept)</th><th scope=col>week</th><th scope=col>id</th><th scope=col>weight_speed</th><th scope=col>first_weight</th></tr></thead>\n",
       "<tbody>\n",
       "\t<tr><td> 168.09469</td><td> 36.040552</td><td>1         </td><td>fast      </td><td>big       </td></tr>\n",
       "\t<tr><td> 172.82537</td><td> 37.054840</td><td>2         </td><td>fast      </td><td>big       </td></tr>\n",
       "\t<tr><td> -64.77830</td><td>-13.888874</td><td>6         </td><td>moderate  </td><td>normal    </td></tr>\n",
       "\t<tr><td> -99.47227</td><td>-21.327476</td><td>7         </td><td>moderate  </td><td>normal    </td></tr>\n",
       "\t<tr><td>  95.45774</td><td> 20.466736</td><td>8         </td><td>fast      </td><td>big       </td></tr>\n",
       "\t<tr><td>-278.16406</td><td>-59.640114</td><td>14        </td><td>slow      </td><td>small     </td></tr>\n",
       "\t<tr><td>-270.51032</td><td>-57.999105</td><td>20        </td><td>slow      </td><td>small     </td></tr>\n",
       "\t<tr><td>-199.40797</td><td>-42.754317</td><td>23        </td><td>slow      </td><td>small     </td></tr>\n",
       "\t<tr><td> 261.65164</td><td> 56.099749</td><td>30        </td><td>fast      </td><td>big       </td></tr>\n",
       "\t<tr><td>  47.45208</td><td> 10.174024</td><td>32        </td><td>fast      </td><td>big       </td></tr>\n",
       "\t<tr><td>  59.97693</td><td> 12.859428</td><td>35        </td><td>fast      </td><td>big       </td></tr>\n",
       "\t<tr><td> -68.77412</td><td>-14.745601</td><td>36        </td><td>moderate  </td><td>normal    </td></tr>\n",
       "\t<tr><td>-240.57580</td><td>-51.580957</td><td>37        </td><td>slow      </td><td>small     </td></tr>\n",
       "\t<tr><td>-119.77760</td><td>-25.681068</td><td>41        </td><td>slow      </td><td>small     </td></tr>\n",
       "\t<tr><td> 469.97579</td><td>100.765750</td><td>48        </td><td>fast      </td><td>big       </td></tr>\n",
       "\t<tr><td>  44.24791</td><td>  9.487028</td><td>52        </td><td>moderate  </td><td>normal    </td></tr>\n",
       "\t<tr><td>  24.14464</td><td>  5.176762</td><td>53        </td><td>moderate  </td><td>normal    </td></tr>\n",
       "\t<tr><td>-116.55183</td><td>-24.989441</td><td>54        </td><td>slow      </td><td>small     </td></tr>\n",
       "\t<tr><td> -88.84882</td><td>-19.049743</td><td>55        </td><td>moderate  </td><td>normal    </td></tr>\n",
       "\t<tr><td> 272.92228</td><td> 58.516244</td><td>59        </td><td>fast      </td><td>big       </td></tr>\n",
       "\t<tr><td> -69.88798</td><td>-14.984419</td><td>62        </td><td>moderate  </td><td>normal    </td></tr>\n",
       "</tbody>\n",
       "</table>\n"
      ],
      "text/latex": [
       "\\begin{tabular}{r|lllll}\n",
       " (Intercept) & week & id & weight\\_speed & first\\_weight\\\\\n",
       "\\hline\n",
       "\t  168.09469 &  36.040552 & 1          & fast       & big       \\\\\n",
       "\t  172.82537 &  37.054840 & 2          & fast       & big       \\\\\n",
       "\t  -64.77830 & -13.888874 & 6          & moderate   & normal    \\\\\n",
       "\t  -99.47227 & -21.327476 & 7          & moderate   & normal    \\\\\n",
       "\t   95.45774 &  20.466736 & 8          & fast       & big       \\\\\n",
       "\t -278.16406 & -59.640114 & 14         & slow       & small     \\\\\n",
       "\t -270.51032 & -57.999105 & 20         & slow       & small     \\\\\n",
       "\t -199.40797 & -42.754317 & 23         & slow       & small     \\\\\n",
       "\t  261.65164 &  56.099749 & 30         & fast       & big       \\\\\n",
       "\t   47.45208 &  10.174024 & 32         & fast       & big       \\\\\n",
       "\t   59.97693 &  12.859428 & 35         & fast       & big       \\\\\n",
       "\t  -68.77412 & -14.745601 & 36         & moderate   & normal    \\\\\n",
       "\t -240.57580 & -51.580957 & 37         & slow       & small     \\\\\n",
       "\t -119.77760 & -25.681068 & 41         & slow       & small     \\\\\n",
       "\t  469.97579 & 100.765750 & 48         & fast       & big       \\\\\n",
       "\t   44.24791 &   9.487028 & 52         & moderate   & normal    \\\\\n",
       "\t   24.14464 &   5.176762 & 53         & moderate   & normal    \\\\\n",
       "\t -116.55183 & -24.989441 & 54         & slow       & small     \\\\\n",
       "\t  -88.84882 & -19.049743 & 55         & moderate   & normal    \\\\\n",
       "\t  272.92228 &  58.516244 & 59         & fast       & big       \\\\\n",
       "\t  -69.88798 & -14.984419 & 62         & moderate   & normal    \\\\\n",
       "\\end{tabular}\n"
      ],
      "text/markdown": [
       "\n",
       "(Intercept) | week | id | weight_speed | first_weight | \n",
       "|---|---|---|---|---|---|---|---|---|---|---|---|---|---|---|---|---|---|---|---|---|\n",
       "|  168.09469 |  36.040552 | 1          | fast       | big        | \n",
       "|  172.82537 |  37.054840 | 2          | fast       | big        | \n",
       "|  -64.77830 | -13.888874 | 6          | moderate   | normal     | \n",
       "|  -99.47227 | -21.327476 | 7          | moderate   | normal     | \n",
       "|   95.45774 |  20.466736 | 8          | fast       | big        | \n",
       "| -278.16406 | -59.640114 | 14         | slow       | small      | \n",
       "| -270.51032 | -57.999105 | 20         | slow       | small      | \n",
       "| -199.40797 | -42.754317 | 23         | slow       | small      | \n",
       "|  261.65164 |  56.099749 | 30         | fast       | big        | \n",
       "|   47.45208 |  10.174024 | 32         | fast       | big        | \n",
       "|   59.97693 |  12.859428 | 35         | fast       | big        | \n",
       "|  -68.77412 | -14.745601 | 36         | moderate   | normal     | \n",
       "| -240.57580 | -51.580957 | 37         | slow       | small      | \n",
       "| -119.77760 | -25.681068 | 41         | slow       | small      | \n",
       "|  469.97579 | 100.765750 | 48         | fast       | big        | \n",
       "|   44.24791 |   9.487028 | 52         | moderate   | normal     | \n",
       "|   24.14464 |   5.176762 | 53         | moderate   | normal     | \n",
       "| -116.55183 | -24.989441 | 54         | slow       | small      | \n",
       "|  -88.84882 | -19.049743 | 55         | moderate   | normal     | \n",
       "|  272.92228 |  58.516244 | 59         | fast       | big        | \n",
       "|  -69.88798 | -14.984419 | 62         | moderate   | normal     | \n",
       "\n",
       "\n"
      ],
      "text/plain": [
       "   (Intercept) week       id weight_speed first_weight\n",
       "1   168.09469   36.040552 1  fast         big         \n",
       "2   172.82537   37.054840 2  fast         big         \n",
       "3   -64.77830  -13.888874 6  moderate     normal      \n",
       "4   -99.47227  -21.327476 7  moderate     normal      \n",
       "5    95.45774   20.466736 8  fast         big         \n",
       "6  -278.16406  -59.640114 14 slow         small       \n",
       "7  -270.51032  -57.999105 20 slow         small       \n",
       "8  -199.40797  -42.754317 23 slow         small       \n",
       "9   261.65164   56.099749 30 fast         big         \n",
       "10   47.45208   10.174024 32 fast         big         \n",
       "11   59.97693   12.859428 35 fast         big         \n",
       "12  -68.77412  -14.745601 36 moderate     normal      \n",
       "13 -240.57580  -51.580957 37 slow         small       \n",
       "14 -119.77760  -25.681068 41 slow         small       \n",
       "15  469.97579  100.765750 48 fast         big         \n",
       "16   44.24791    9.487028 52 moderate     normal      \n",
       "17   24.14464    5.176762 53 moderate     normal      \n",
       "18 -116.55183  -24.989441 54 slow         small       \n",
       "19  -88.84882  -19.049743 55 moderate     normal      \n",
       "20  272.92228   58.516244 59 fast         big         \n",
       "21  -69.88798  -14.984419 62 moderate     normal      "
      ]
     },
     "metadata": {},
     "output_type": "display_data"
    }
   ],
   "source": [
    "weight_growth <- \n",
    "    ranef(weight_id)$id %>% mutate(id = weight_NO_NA$id,\n",
    "                             weight_speed = ifelse(week < weight_week_p1, 'slow',\n",
    "                                   ifelse(week < weight_week_p2, 'moderate', 'fast'))) %>%\n",
    "                      mutate(first_weight = ifelse(`(Intercept)` < weight_start_p1, 'small', \n",
    "                                              ifelse(`(Intercept)` < weight_start_p2, 'normal', 'big')))\n",
    "\n",
    "weight_growth"
   ]
  },
  {
   "cell_type": "markdown",
   "metadata": {},
   "source": [
    "## AA concentration for fast growing babies"
   ]
  },
  {
   "cell_type": "code",
   "execution_count": 267,
   "metadata": {
    "collapsed": true
   },
   "outputs": [],
   "source": [
    "meSpeed <- function(df){\n",
    "    \n",
    "    me <- lmer(level ~ week + speed + (1| id), data = df)\n",
    "    \n",
    "    return(me)\n",
    "}"
   ]
  },
  {
   "cell_type": "code",
   "execution_count": 272,
   "metadata": {},
   "outputs": [],
   "source": [
    "me_E_S <- list()\n",
    "tidy_E_S <- list()\n",
    "\n",
    "nAA_E_wo_TRP <- 1:nAA_E\n",
    "for(i in nAA_E_wo_TRP[-8]){\n",
    "\n",
    "    df <- AA_E_Nested$data[[i]] %>% filter(id %in% headC_NO_NA$id)\n",
    "    df <- df %>% inner_join(hc_growth %>% select(id, speed = hc_speed, start = first_hc), by = 'id')\n",
    "    \n",
    "    me_E_S[[i]] <- meSpeed(df)\n",
    "    tidy_E_S[[i]] <- tidy(me_E_S[[i]], effects = 'fixed') %>% mutate(AA = AA_E_Nested$AA[i])\n",
    "   \n",
    "}"
   ]
  },
  {
   "cell_type": "code",
   "execution_count": 263,
   "metadata": {},
   "outputs": [
    {
     "data": {
      "text/html": [
       "<table>\n",
       "<thead><tr><th scope=col>id</th><th scope=col>group</th><th scope=col>age</th><th scope=col>sex</th><th scope=col>weekNames</th><th scope=col>level</th><th scope=col>week</th></tr></thead>\n",
       "<tbody>\n",
       "\t<tr><td>1           </td><td>teen        </td><td>17          </td><td>girl        </td><td>TRPCalostrum</td><td>0           </td><td>1           </td></tr>\n",
       "\t<tr><td>2           </td><td>teen        </td><td>16          </td><td>boy         </td><td>TRPCalostrum</td><td>0           </td><td>1           </td></tr>\n",
       "\t<tr><td>3           </td><td>teen        </td><td>17          </td><td>boy         </td><td>TRPCalostrum</td><td>0           </td><td>1           </td></tr>\n",
       "\t<tr><td>4           </td><td>teen        </td><td>16          </td><td>boy         </td><td>TRPCalostrum</td><td>0           </td><td>1           </td></tr>\n",
       "\t<tr><td>5           </td><td>teen        </td><td>16          </td><td>NA          </td><td>TRPCalostrum</td><td>0           </td><td>1           </td></tr>\n",
       "\t<tr><td>6           </td><td>teen        </td><td>16          </td><td>boy         </td><td>TRPCalostrum</td><td>0           </td><td>1           </td></tr>\n",
       "</tbody>\n",
       "</table>\n"
      ],
      "text/latex": [
       "\\begin{tabular}{r|lllllll}\n",
       " id & group & age & sex & weekNames & level & week\\\\\n",
       "\\hline\n",
       "\t 1            & teen         & 17           & girl         & TRPCalostrum & 0            & 1           \\\\\n",
       "\t 2            & teen         & 16           & boy          & TRPCalostrum & 0            & 1           \\\\\n",
       "\t 3            & teen         & 17           & boy          & TRPCalostrum & 0            & 1           \\\\\n",
       "\t 4            & teen         & 16           & boy          & TRPCalostrum & 0            & 1           \\\\\n",
       "\t 5            & teen         & 16           & NA           & TRPCalostrum & 0            & 1           \\\\\n",
       "\t 6            & teen         & 16           & boy          & TRPCalostrum & 0            & 1           \\\\\n",
       "\\end{tabular}\n"
      ],
      "text/markdown": [
       "\n",
       "id | group | age | sex | weekNames | level | week | \n",
       "|---|---|---|---|---|---|\n",
       "| 1            | teen         | 17           | girl         | TRPCalostrum | 0            | 1            | \n",
       "| 2            | teen         | 16           | boy          | TRPCalostrum | 0            | 1            | \n",
       "| 3            | teen         | 17           | boy          | TRPCalostrum | 0            | 1            | \n",
       "| 4            | teen         | 16           | boy          | TRPCalostrum | 0            | 1            | \n",
       "| 5            | teen         | 16           | NA           | TRPCalostrum | 0            | 1            | \n",
       "| 6            | teen         | 16           | boy          | TRPCalostrum | 0            | 1            | \n",
       "\n",
       "\n"
      ],
      "text/plain": [
       "  id group age sex  weekNames    level week\n",
       "1 1  teen  17  girl TRPCalostrum 0     1   \n",
       "2 2  teen  16  boy  TRPCalostrum 0     1   \n",
       "3 3  teen  17  boy  TRPCalostrum 0     1   \n",
       "4 4  teen  16  boy  TRPCalostrum 0     1   \n",
       "5 5  teen  16  NA   TRPCalostrum 0     1   \n",
       "6 6  teen  16  boy  TRPCalostrum 0     1   "
      ]
     },
     "metadata": {},
     "output_type": "display_data"
    }
   ],
   "source": [
    "# TRP data is unsufficient. Almost all meas. are 0.\n",
    "j <- 8\n",
    "#df <- AA_E_Nested$data[[j]] %>% filter(id %in% headC_NO_NA$id)\n",
    "#mod <- meWeek(df)\n",
    "\n",
    "#tidy(mod, effects = 'fixed')\n",
    "head(AA_E_Nested$data[[j]])"
   ]
  },
  {
   "cell_type": "code",
   "execution_count": 273,
   "metadata": {},
   "outputs": [],
   "source": [
    "me_NE_S <- list()\n",
    "tidy_NE_S <- list()\n",
    "\n",
    "for(i in 1:nAA_NE){\n",
    "    \n",
    "    df <- AA_NE_Nested$data[[i]] %>% filter(id %in% headC_NO_NA$id)\n",
    "    df <- df %>% inner_join(hc_growth %>% select(id, speed = hc_speed, start = first_hc), by = 'id')\n",
    "    \n",
    "    me_NE_S[[i]] <- meSpeed(df)\n",
    "    tidy_NE_S[[i]] <- tidy(me_NE_S[[i]], effects = 'fixed') %>% mutate(AA = AA_NE_Nested$AA[i])\n",
    "\n",
    "}"
   ]
  },
  {
   "cell_type": "code",
   "execution_count": 278,
   "metadata": {},
   "outputs": [
    {
     "data": {
      "text/html": [
       "<table>\n",
       "<thead><tr><th scope=col>term</th><th scope=col>estimate</th><th scope=col>std.error</th><th scope=col>statistic</th><th scope=col>AA</th></tr></thead>\n",
       "<tbody>\n",
       "\t<tr><td>speedmoderate</td><td> 0.052511825 </td><td>0.3098461    </td><td> 0.16947710  </td><td>HIS          </td></tr>\n",
       "\t<tr><td>speedslow    </td><td> 0.008555793 </td><td>0.3269976    </td><td> 0.02616469  </td><td>HIS          </td></tr>\n",
       "\t<tr><td>speedmoderate</td><td>-0.141653687 </td><td>0.1696495    </td><td>-0.83497852  </td><td>ILE          </td></tr>\n",
       "\t<tr><td>speedslow    </td><td>-0.273932911 </td><td>0.1791854    </td><td>-1.52876841  </td><td>ILE          </td></tr>\n",
       "\t<tr><td>speedmoderate</td><td>-0.211085517 </td><td>0.3697956    </td><td>-0.57081674  </td><td>LEU          </td></tr>\n",
       "\t<tr><td>speedslow    </td><td>-0.222029351 </td><td>0.3934940    </td><td>-0.56425097  </td><td>LEU          </td></tr>\n",
       "\t<tr><td>speedmoderate</td><td> 0.153586098 </td><td>0.3273216    </td><td> 0.46922075  </td><td>LYS          </td></tr>\n",
       "\t<tr><td>speedslow    </td><td>-0.378513257 </td><td>0.3450347    </td><td>-1.09702968  </td><td>LYS          </td></tr>\n",
       "\t<tr><td>speedmoderate</td><td>-0.098438832 </td><td>0.1123560    </td><td>-0.87613342  </td><td>MET          </td></tr>\n",
       "\t<tr><td>speedslow    </td><td>-0.118730444 </td><td>0.1189618    </td><td>-0.99805561  </td><td>MET          </td></tr>\n",
       "\t<tr><td>speedmoderate</td><td>-0.048141608 </td><td>0.1556524    </td><td>-0.30928916  </td><td>PHE          </td></tr>\n",
       "\t<tr><td>speedslow    </td><td>-0.102358785 </td><td>0.1647129    </td><td>-0.62143768  </td><td>PHE          </td></tr>\n",
       "\t<tr><td>speedmoderate</td><td> 0.094930220 </td><td>1.0647996    </td><td> 0.08915313  </td><td>THR          </td></tr>\n",
       "\t<tr><td>speedslow    </td><td>-1.666478152 </td><td>1.1226982    </td><td>-1.48435100  </td><td>THR          </td></tr>\n",
       "\t<tr><td>speedmoderate</td><td>-0.189236882 </td><td>0.5046466    </td><td>-0.37498894  </td><td>VAL          </td></tr>\n",
       "\t<tr><td>speedslow    </td><td>-0.692509432 </td><td>0.5328757    </td><td>-1.29957030  </td><td>VAL          </td></tr>\n",
       "</tbody>\n",
       "</table>\n"
      ],
      "text/latex": [
       "\\begin{tabular}{r|lllll}\n",
       " term & estimate & std.error & statistic & AA\\\\\n",
       "\\hline\n",
       "\t speedmoderate &  0.052511825  & 0.3098461     &  0.16947710   & HIS          \\\\\n",
       "\t speedslow     &  0.008555793  & 0.3269976     &  0.02616469   & HIS          \\\\\n",
       "\t speedmoderate & -0.141653687  & 0.1696495     & -0.83497852   & ILE          \\\\\n",
       "\t speedslow     & -0.273932911  & 0.1791854     & -1.52876841   & ILE          \\\\\n",
       "\t speedmoderate & -0.211085517  & 0.3697956     & -0.57081674   & LEU          \\\\\n",
       "\t speedslow     & -0.222029351  & 0.3934940     & -0.56425097   & LEU          \\\\\n",
       "\t speedmoderate &  0.153586098  & 0.3273216     &  0.46922075   & LYS          \\\\\n",
       "\t speedslow     & -0.378513257  & 0.3450347     & -1.09702968   & LYS          \\\\\n",
       "\t speedmoderate & -0.098438832  & 0.1123560     & -0.87613342   & MET          \\\\\n",
       "\t speedslow     & -0.118730444  & 0.1189618     & -0.99805561   & MET          \\\\\n",
       "\t speedmoderate & -0.048141608  & 0.1556524     & -0.30928916   & PHE          \\\\\n",
       "\t speedslow     & -0.102358785  & 0.1647129     & -0.62143768   & PHE          \\\\\n",
       "\t speedmoderate &  0.094930220  & 1.0647996     &  0.08915313   & THR          \\\\\n",
       "\t speedslow     & -1.666478152  & 1.1226982     & -1.48435100   & THR          \\\\\n",
       "\t speedmoderate & -0.189236882  & 0.5046466     & -0.37498894   & VAL          \\\\\n",
       "\t speedslow     & -0.692509432  & 0.5328757     & -1.29957030   & VAL          \\\\\n",
       "\\end{tabular}\n"
      ],
      "text/markdown": [
       "\n",
       "term | estimate | std.error | statistic | AA | \n",
       "|---|---|---|---|---|---|---|---|---|---|---|---|---|---|---|---|\n",
       "| speedmoderate |  0.052511825  | 0.3098461     |  0.16947710   | HIS           | \n",
       "| speedslow     |  0.008555793  | 0.3269976     |  0.02616469   | HIS           | \n",
       "| speedmoderate | -0.141653687  | 0.1696495     | -0.83497852   | ILE           | \n",
       "| speedslow     | -0.273932911  | 0.1791854     | -1.52876841   | ILE           | \n",
       "| speedmoderate | -0.211085517  | 0.3697956     | -0.57081674   | LEU           | \n",
       "| speedslow     | -0.222029351  | 0.3934940     | -0.56425097   | LEU           | \n",
       "| speedmoderate |  0.153586098  | 0.3273216     |  0.46922075   | LYS           | \n",
       "| speedslow     | -0.378513257  | 0.3450347     | -1.09702968   | LYS           | \n",
       "| speedmoderate | -0.098438832  | 0.1123560     | -0.87613342   | MET           | \n",
       "| speedslow     | -0.118730444  | 0.1189618     | -0.99805561   | MET           | \n",
       "| speedmoderate | -0.048141608  | 0.1556524     | -0.30928916   | PHE           | \n",
       "| speedslow     | -0.102358785  | 0.1647129     | -0.62143768   | PHE           | \n",
       "| speedmoderate |  0.094930220  | 1.0647996     |  0.08915313   | THR           | \n",
       "| speedslow     | -1.666478152  | 1.1226982     | -1.48435100   | THR           | \n",
       "| speedmoderate | -0.189236882  | 0.5046466     | -0.37498894   | VAL           | \n",
       "| speedslow     | -0.692509432  | 0.5328757     | -1.29957030   | VAL           | \n",
       "\n",
       "\n"
      ],
      "text/plain": [
       "   term          estimate     std.error statistic   AA \n",
       "1  speedmoderate  0.052511825 0.3098461  0.16947710 HIS\n",
       "2  speedslow      0.008555793 0.3269976  0.02616469 HIS\n",
       "3  speedmoderate -0.141653687 0.1696495 -0.83497852 ILE\n",
       "4  speedslow     -0.273932911 0.1791854 -1.52876841 ILE\n",
       "5  speedmoderate -0.211085517 0.3697956 -0.57081674 LEU\n",
       "6  speedslow     -0.222029351 0.3934940 -0.56425097 LEU\n",
       "7  speedmoderate  0.153586098 0.3273216  0.46922075 LYS\n",
       "8  speedslow     -0.378513257 0.3450347 -1.09702968 LYS\n",
       "9  speedmoderate -0.098438832 0.1123560 -0.87613342 MET\n",
       "10 speedslow     -0.118730444 0.1189618 -0.99805561 MET\n",
       "11 speedmoderate -0.048141608 0.1556524 -0.30928916 PHE\n",
       "12 speedslow     -0.102358785 0.1647129 -0.62143768 PHE\n",
       "13 speedmoderate  0.094930220 1.0647996  0.08915313 THR\n",
       "14 speedslow     -1.666478152 1.1226982 -1.48435100 THR\n",
       "15 speedmoderate -0.189236882 0.5046466 -0.37498894 VAL\n",
       "16 speedslow     -0.692509432 0.5328757 -1.29957030 VAL"
      ]
     },
     "metadata": {},
     "output_type": "display_data"
    },
    {
     "data": {
      "text/html": [
       "<table>\n",
       "<thead><tr><th scope=col>term</th><th scope=col>estimate</th><th scope=col>std.error</th><th scope=col>statistic</th><th scope=col>AA</th></tr></thead>\n",
       "<tbody>\n",
       "\t<tr><td>speedmoderate</td><td> -0.16839879 </td><td> 0.2357068   </td><td>-0.71444188  </td><td>ARG          </td></tr>\n",
       "\t<tr><td>speedslow    </td><td> -0.32761886 </td><td> 0.2479181   </td><td>-1.32148033  </td><td>ARG          </td></tr>\n",
       "\t<tr><td>speedmoderate</td><td> -0.74397489 </td><td> 0.9329817   </td><td>-0.79741635  </td><td>ASP          </td></tr>\n",
       "\t<tr><td>speedslow    </td><td>  0.20334658 </td><td> 0.9858011   </td><td> 0.20627546  </td><td>ASP          </td></tr>\n",
       "\t<tr><td>speedmoderate</td><td> -2.48171464 </td><td> 3.2295569   </td><td>-0.76843811  </td><td>ALA          </td></tr>\n",
       "\t<tr><td>speedslow    </td><td> -2.45475295 </td><td> 3.4094209   </td><td>-0.71999118  </td><td>ALA          </td></tr>\n",
       "\t<tr><td>speedmoderate</td><td>  0.21083417 </td><td> 0.1887975   </td><td> 1.11672135  </td><td>ASN          </td></tr>\n",
       "\t<tr><td>speedslow    </td><td>  0.02311810 </td><td> 0.2017277   </td><td> 0.11460053  </td><td>ASN          </td></tr>\n",
       "\t<tr><td>speedmoderate</td><td>  0.22396946 </td><td> 0.2931474   </td><td> 0.76401654  </td><td>CYS          </td></tr>\n",
       "\t<tr><td>speedslow    </td><td>  0.34193800 </td><td> 0.3095052   </td><td> 1.10478930  </td><td>CYS          </td></tr>\n",
       "\t<tr><td>speedmoderate</td><td> -1.84057415 </td><td> 1.5775506   </td><td>-1.16672906  </td><td>GLY          </td></tr>\n",
       "\t<tr><td>speedslow    </td><td> -1.10303086 </td><td> 1.6623634   </td><td>-0.66353174  </td><td>GLY          </td></tr>\n",
       "\t<tr><td>speedmoderate</td><td>-10.99123743 </td><td>13.1329961   </td><td>-0.83691774  </td><td>GLU          </td></tr>\n",
       "\t<tr><td>speedslow    </td><td> -4.69693578 </td><td>13.8486719   </td><td>-0.33916146  </td><td>GLU          </td></tr>\n",
       "\t<tr><td>speedmoderate</td><td>  4.98704511 </td><td> 6.9020831   </td><td> 0.72254202  </td><td>GLN          </td></tr>\n",
       "\t<tr><td>speedslow    </td><td>  0.28652764 </td><td> 7.2911024   </td><td> 0.03929826  </td><td>GLN          </td></tr>\n",
       "\t<tr><td>speedmoderate</td><td> -0.28406691 </td><td> 0.4656666   </td><td>-0.61002213  </td><td>PRO          </td></tr>\n",
       "\t<tr><td>speedslow    </td><td> -0.60627965 </td><td> 0.4893458   </td><td>-1.23895951  </td><td>PRO          </td></tr>\n",
       "\t<tr><td>speedmoderate</td><td>  0.75029524 </td><td> 1.5568117   </td><td> 0.48194348  </td><td>SER          </td></tr>\n",
       "\t<tr><td>speedslow    </td><td> -0.87893788 </td><td> 1.6396908   </td><td>-0.53603881  </td><td>SER          </td></tr>\n",
       "\t<tr><td>speedmoderate</td><td> -0.07312346 </td><td> 0.2182925   </td><td>-0.33497917  </td><td>TYR          </td></tr>\n",
       "\t<tr><td>speedslow    </td><td> -0.33321449 </td><td> 0.2298310   </td><td>-1.44982402  </td><td>TYR          </td></tr>\n",
       "</tbody>\n",
       "</table>\n"
      ],
      "text/latex": [
       "\\begin{tabular}{r|lllll}\n",
       " term & estimate & std.error & statistic & AA\\\\\n",
       "\\hline\n",
       "\t speedmoderate &  -0.16839879  &  0.2357068    & -0.71444188   & ARG          \\\\\n",
       "\t speedslow     &  -0.32761886  &  0.2479181    & -1.32148033   & ARG          \\\\\n",
       "\t speedmoderate &  -0.74397489  &  0.9329817    & -0.79741635   & ASP          \\\\\n",
       "\t speedslow     &   0.20334658  &  0.9858011    &  0.20627546   & ASP          \\\\\n",
       "\t speedmoderate &  -2.48171464  &  3.2295569    & -0.76843811   & ALA          \\\\\n",
       "\t speedslow     &  -2.45475295  &  3.4094209    & -0.71999118   & ALA          \\\\\n",
       "\t speedmoderate &   0.21083417  &  0.1887975    &  1.11672135   & ASN          \\\\\n",
       "\t speedslow     &   0.02311810  &  0.2017277    &  0.11460053   & ASN          \\\\\n",
       "\t speedmoderate &   0.22396946  &  0.2931474    &  0.76401654   & CYS          \\\\\n",
       "\t speedslow     &   0.34193800  &  0.3095052    &  1.10478930   & CYS          \\\\\n",
       "\t speedmoderate &  -1.84057415  &  1.5775506    & -1.16672906   & GLY          \\\\\n",
       "\t speedslow     &  -1.10303086  &  1.6623634    & -0.66353174   & GLY          \\\\\n",
       "\t speedmoderate & -10.99123743  & 13.1329961    & -0.83691774   & GLU          \\\\\n",
       "\t speedslow     &  -4.69693578  & 13.8486719    & -0.33916146   & GLU          \\\\\n",
       "\t speedmoderate &   4.98704511  &  6.9020831    &  0.72254202   & GLN          \\\\\n",
       "\t speedslow     &   0.28652764  &  7.2911024    &  0.03929826   & GLN          \\\\\n",
       "\t speedmoderate &  -0.28406691  &  0.4656666    & -0.61002213   & PRO          \\\\\n",
       "\t speedslow     &  -0.60627965  &  0.4893458    & -1.23895951   & PRO          \\\\\n",
       "\t speedmoderate &   0.75029524  &  1.5568117    &  0.48194348   & SER          \\\\\n",
       "\t speedslow     &  -0.87893788  &  1.6396908    & -0.53603881   & SER          \\\\\n",
       "\t speedmoderate &  -0.07312346  &  0.2182925    & -0.33497917   & TYR          \\\\\n",
       "\t speedslow     &  -0.33321449  &  0.2298310    & -1.44982402   & TYR          \\\\\n",
       "\\end{tabular}\n"
      ],
      "text/markdown": [
       "\n",
       "term | estimate | std.error | statistic | AA | \n",
       "|---|---|---|---|---|---|---|---|---|---|---|---|---|---|---|---|---|---|---|---|---|---|\n",
       "| speedmoderate |  -0.16839879  |  0.2357068    | -0.71444188   | ARG           | \n",
       "| speedslow     |  -0.32761886  |  0.2479181    | -1.32148033   | ARG           | \n",
       "| speedmoderate |  -0.74397489  |  0.9329817    | -0.79741635   | ASP           | \n",
       "| speedslow     |   0.20334658  |  0.9858011    |  0.20627546   | ASP           | \n",
       "| speedmoderate |  -2.48171464  |  3.2295569    | -0.76843811   | ALA           | \n",
       "| speedslow     |  -2.45475295  |  3.4094209    | -0.71999118   | ALA           | \n",
       "| speedmoderate |   0.21083417  |  0.1887975    |  1.11672135   | ASN           | \n",
       "| speedslow     |   0.02311810  |  0.2017277    |  0.11460053   | ASN           | \n",
       "| speedmoderate |   0.22396946  |  0.2931474    |  0.76401654   | CYS           | \n",
       "| speedslow     |   0.34193800  |  0.3095052    |  1.10478930   | CYS           | \n",
       "| speedmoderate |  -1.84057415  |  1.5775506    | -1.16672906   | GLY           | \n",
       "| speedslow     |  -1.10303086  |  1.6623634    | -0.66353174   | GLY           | \n",
       "| speedmoderate | -10.99123743  | 13.1329961    | -0.83691774   | GLU           | \n",
       "| speedslow     |  -4.69693578  | 13.8486719    | -0.33916146   | GLU           | \n",
       "| speedmoderate |   4.98704511  |  6.9020831    |  0.72254202   | GLN           | \n",
       "| speedslow     |   0.28652764  |  7.2911024    |  0.03929826   | GLN           | \n",
       "| speedmoderate |  -0.28406691  |  0.4656666    | -0.61002213   | PRO           | \n",
       "| speedslow     |  -0.60627965  |  0.4893458    | -1.23895951   | PRO           | \n",
       "| speedmoderate |   0.75029524  |  1.5568117    |  0.48194348   | SER           | \n",
       "| speedslow     |  -0.87893788  |  1.6396908    | -0.53603881   | SER           | \n",
       "| speedmoderate |  -0.07312346  |  0.2182925    | -0.33497917   | TYR           | \n",
       "| speedslow     |  -0.33321449  |  0.2298310    | -1.44982402   | TYR           | \n",
       "\n",
       "\n"
      ],
      "text/plain": [
       "   term          estimate     std.error  statistic   AA \n",
       "1  speedmoderate  -0.16839879  0.2357068 -0.71444188 ARG\n",
       "2  speedslow      -0.32761886  0.2479181 -1.32148033 ARG\n",
       "3  speedmoderate  -0.74397489  0.9329817 -0.79741635 ASP\n",
       "4  speedslow       0.20334658  0.9858011  0.20627546 ASP\n",
       "5  speedmoderate  -2.48171464  3.2295569 -0.76843811 ALA\n",
       "6  speedslow      -2.45475295  3.4094209 -0.71999118 ALA\n",
       "7  speedmoderate   0.21083417  0.1887975  1.11672135 ASN\n",
       "8  speedslow       0.02311810  0.2017277  0.11460053 ASN\n",
       "9  speedmoderate   0.22396946  0.2931474  0.76401654 CYS\n",
       "10 speedslow       0.34193800  0.3095052  1.10478930 CYS\n",
       "11 speedmoderate  -1.84057415  1.5775506 -1.16672906 GLY\n",
       "12 speedslow      -1.10303086  1.6623634 -0.66353174 GLY\n",
       "13 speedmoderate -10.99123743 13.1329961 -0.83691774 GLU\n",
       "14 speedslow      -4.69693578 13.8486719 -0.33916146 GLU\n",
       "15 speedmoderate   4.98704511  6.9020831  0.72254202 GLN\n",
       "16 speedslow       0.28652764  7.2911024  0.03929826 GLN\n",
       "17 speedmoderate  -0.28406691  0.4656666 -0.61002213 PRO\n",
       "18 speedslow      -0.60627965  0.4893458 -1.23895951 PRO\n",
       "19 speedmoderate   0.75029524  1.5568117  0.48194348 SER\n",
       "20 speedslow      -0.87893788  1.6396908 -0.53603881 SER\n",
       "21 speedmoderate  -0.07312346  0.2182925 -0.33497917 TYR\n",
       "22 speedslow      -0.33321449  0.2298310 -1.44982402 TYR"
      ]
     },
     "metadata": {},
     "output_type": "display_data"
    }
   ],
   "source": [
    "speed_E <- bind_rows(tidy_E_S) %>% filter(grepl(\"speed\", term)) \n",
    "speed_NE <- bind_rows(tidy_NE_S) %>% filter(grepl(\"speed\", term)) \n",
    "\n",
    "speed_E\n",
    "speed_NE"
   ]
  },
  {
   "cell_type": "code",
   "execution_count": 284,
   "metadata": {},
   "outputs": [
    {
     "data": {},
     "metadata": {},
     "output_type": "display_data"
    },
    {
     "data": {
      "image/png": "[encoded data removed]",
      "text/plain": [
       "plot without title"
      ]
     },
     "metadata": {},
     "output_type": "display_data"
    }
   ],
   "source": [
    "#png(filename=\"./plots/EAA_SW_SW_coeff.png\", units=\"cm\", width=20, height=20, res = 300)\n",
    "ggplot(speed_E, aes(x = reorder(AA, estimate), y = estimate, color = AA)) + \n",
    "    geom_hline(yintercept = 0, alpha = 0.4) + \n",
    "    geom_point() + geom_pointrange( aes(x = AA, ymin = estimate - 2*std.error, ymax = estimate + 2*std.error)) + \n",
    "    theme(legend.position = \"none\", aspect.ratio = 1) + \n",
    "    coord_flip() + \n",
    "    facet_wrap(~term) + \n",
    "    ggtitle('Essential AA \\n Estimate and 95% CI') + ylab('') + xlab('estimate')\n",
    "#dev.off()"
   ]
  },
  {
   "cell_type": "code",
   "execution_count": 285,
   "metadata": {},
   "outputs": [
    {
     "data": {},
     "metadata": {},
     "output_type": "display_data"
    },
    {
     "data": {
      "image/png": "[encoded data removed]",
      "text/plain": [
       "plot without title"
      ]
     },
     "metadata": {},
     "output_type": "display_data"
    }
   ],
   "source": [
    "#png(filename=\"./plots/EAA_SW_SW_coeff.png\", units=\"cm\", width=20, height=20, res = 300)\n",
    "ggplot(speed_NE, aes(x = reorder(AA, estimate), y = estimate, color = AA)) + \n",
    "    geom_hline(yintercept = 0, alpha = 0.4) + \n",
    "    geom_point() + geom_pointrange( aes(x = AA, ymin = estimate - 2*std.error, ymax = estimate + 2*std.error)) + \n",
    "    theme(legend.position = \"none\", aspect.ratio = 1) + \n",
    "    coord_flip() + \n",
    "    facet_wrap(~term) + \n",
    "    ggtitle('Non Essential AA \\n Estimate and 95% CI') + ylab('') + xlab('estimate')\n",
    "#dev.off()"
   ]
  },
  {
   "cell_type": "code",
   "execution_count": 286,
   "metadata": {
    "collapsed": true
   },
   "outputs": [],
   "source": [
    "meStart <- function(df){\n",
    "    \n",
    "    me <- lmer(level ~ week + start + (1| id), data = df)\n",
    "    \n",
    "    return(me)\n",
    "}"
   ]
  },
  {
   "cell_type": "code",
   "execution_count": 287,
   "metadata": {
    "collapsed": true
   },
   "outputs": [],
   "source": [
    "me_E_Start <- list()\n",
    "tidy_E_Start <- list()\n",
    "\n",
    "nAA_E_wo_TRP <- 1:nAA_E\n",
    "for(i in nAA_E_wo_TRP[-8]){\n",
    "\n",
    "    df <- AA_E_Nested$data[[i]] %>% filter(id %in% headC_NO_NA$id)\n",
    "    df <- df %>% inner_join(hc_growth %>% select(id, speed = hc_speed, start = first_hc), by = 'id')\n",
    "    \n",
    "    me_E_Start[[i]] <- meStart(df)\n",
    "    tidy_E_Start[[i]] <- tidy(me_E_Start[[i]], effects = 'fixed') %>% mutate(AA = AA_E_Nested$AA[i])\n",
    "   \n",
    "}"
   ]
  },
  {
   "cell_type": "code",
   "execution_count": 289,
   "metadata": {
    "collapsed": true
   },
   "outputs": [],
   "source": [
    "me_NE_Start <- list()\n",
    "tidy_NE_Start <- list()\n",
    "\n",
    "for(i in 1:nAA_NE){\n",
    "    \n",
    "    df <- AA_NE_Nested$data[[i]] %>% filter(id %in% headC_NO_NA$id)\n",
    "    df <- df %>% inner_join(hc_growth %>% select(id, speed = hc_speed, start = first_hc), by = 'id')\n",
    "    \n",
    "    me_NE_Start[[i]] <- meStart(df)\n",
    "    tidy_NE_Start[[i]] <- tidy(me_NE_Start[[i]], effects = 'fixed') %>% mutate(AA = AA_NE_Nested$AA[i])\n",
    "\n",
    "}"
   ]
  },
  {
   "cell_type": "code",
   "execution_count": 292,
   "metadata": {},
   "outputs": [
    {
     "data": {
      "text/html": [
       "<table>\n",
       "<thead><tr><th scope=col>term</th><th scope=col>estimate</th><th scope=col>std.error</th><th scope=col>statistic</th><th scope=col>AA</th></tr></thead>\n",
       "<tbody>\n",
       "\t<tr><td>(Intercept)</td><td>1.979391050</td><td>0.23186783 </td><td>8.53672118 </td><td>HIS        </td></tr>\n",
       "\t<tr><td>week       </td><td>0.005855659</td><td>0.01428677 </td><td>0.40986569 </td><td>HIS        </td></tr>\n",
       "\t<tr><td>startnormal</td><td>0.052511825</td><td>0.30984613 </td><td>0.16947710 </td><td>HIS        </td></tr>\n",
       "\t<tr><td>startsmall </td><td>0.008555793</td><td>0.32699762 </td><td>0.02616469 </td><td>HIS        </td></tr>\n",
       "</tbody>\n",
       "</table>\n"
      ],
      "text/latex": [
       "\\begin{tabular}{r|lllll}\n",
       " term & estimate & std.error & statistic & AA\\\\\n",
       "\\hline\n",
       "\t (Intercept) & 1.979391050 & 0.23186783  & 8.53672118  & HIS        \\\\\n",
       "\t week        & 0.005855659 & 0.01428677  & 0.40986569  & HIS        \\\\\n",
       "\t startnormal & 0.052511825 & 0.30984613  & 0.16947710  & HIS        \\\\\n",
       "\t startsmall  & 0.008555793 & 0.32699762  & 0.02616469  & HIS        \\\\\n",
       "\\end{tabular}\n"
      ],
      "text/markdown": [
       "\n",
       "term | estimate | std.error | statistic | AA | \n",
       "|---|---|---|---|\n",
       "| (Intercept) | 1.979391050 | 0.23186783  | 8.53672118  | HIS         | \n",
       "| week        | 0.005855659 | 0.01428677  | 0.40986569  | HIS         | \n",
       "| startnormal | 0.052511825 | 0.30984613  | 0.16947710  | HIS         | \n",
       "| startsmall  | 0.008555793 | 0.32699762  | 0.02616469  | HIS         | \n",
       "\n",
       "\n"
      ],
      "text/plain": [
       "  term        estimate    std.error  statistic  AA \n",
       "1 (Intercept) 1.979391050 0.23186783 8.53672118 HIS\n",
       "2 week        0.005855659 0.01428677 0.40986569 HIS\n",
       "3 startnormal 0.052511825 0.30984613 0.16947710 HIS\n",
       "4 startsmall  0.008555793 0.32699762 0.02616469 HIS"
      ]
     },
     "metadata": {},
     "output_type": "display_data"
    }
   ],
   "source": [
    "tidy_E_Start[[1]]"
   ]
  },
  {
   "cell_type": "code",
   "execution_count": 293,
   "metadata": {},
   "outputs": [
    {
     "data": {
      "text/html": [
       "<table>\n",
       "<thead><tr><th scope=col>term</th><th scope=col>estimate</th><th scope=col>std.error</th><th scope=col>statistic</th><th scope=col>AA</th></tr></thead>\n",
       "<tbody>\n",
       "\t<tr><td>startnormal </td><td> 0.052511825</td><td>0.3098461   </td><td> 0.16947710 </td><td>HIS         </td></tr>\n",
       "\t<tr><td>startsmall  </td><td> 0.008555793</td><td>0.3269976   </td><td> 0.02616469 </td><td>HIS         </td></tr>\n",
       "\t<tr><td>startnormal </td><td>-0.141653687</td><td>0.1696495   </td><td>-0.83497852 </td><td>ILE         </td></tr>\n",
       "\t<tr><td>startsmall  </td><td>-0.273932911</td><td>0.1791854   </td><td>-1.52876841 </td><td>ILE         </td></tr>\n",
       "\t<tr><td>startnormal </td><td>-0.211085517</td><td>0.3697956   </td><td>-0.57081674 </td><td>LEU         </td></tr>\n",
       "\t<tr><td>startsmall  </td><td>-0.222029351</td><td>0.3934940   </td><td>-0.56425097 </td><td>LEU         </td></tr>\n",
       "\t<tr><td>startnormal </td><td> 0.153586098</td><td>0.3273216   </td><td> 0.46922075 </td><td>LYS         </td></tr>\n",
       "\t<tr><td>startsmall  </td><td>-0.378513257</td><td>0.3450347   </td><td>-1.09702968 </td><td>LYS         </td></tr>\n",
       "\t<tr><td>startnormal </td><td>-0.098438832</td><td>0.1123560   </td><td>-0.87613342 </td><td>MET         </td></tr>\n",
       "\t<tr><td>startsmall  </td><td>-0.118730444</td><td>0.1189618   </td><td>-0.99805561 </td><td>MET         </td></tr>\n",
       "\t<tr><td>startnormal </td><td>-0.048141608</td><td>0.1556524   </td><td>-0.30928916 </td><td>PHE         </td></tr>\n",
       "\t<tr><td>startsmall  </td><td>-0.102358785</td><td>0.1647129   </td><td>-0.62143768 </td><td>PHE         </td></tr>\n",
       "\t<tr><td>startnormal </td><td> 0.094930220</td><td>1.0647996   </td><td> 0.08915313 </td><td>THR         </td></tr>\n",
       "\t<tr><td>startsmall  </td><td>-1.666478152</td><td>1.1226982   </td><td>-1.48435100 </td><td>THR         </td></tr>\n",
       "\t<tr><td>startnormal </td><td>-0.189236882</td><td>0.5046466   </td><td>-0.37498894 </td><td>VAL         </td></tr>\n",
       "\t<tr><td>startsmall  </td><td>-0.692509432</td><td>0.5328757   </td><td>-1.29957030 </td><td>VAL         </td></tr>\n",
       "</tbody>\n",
       "</table>\n"
      ],
      "text/latex": [
       "\\begin{tabular}{r|lllll}\n",
       " term & estimate & std.error & statistic & AA\\\\\n",
       "\\hline\n",
       "\t startnormal  &  0.052511825 & 0.3098461    &  0.16947710  & HIS         \\\\\n",
       "\t startsmall   &  0.008555793 & 0.3269976    &  0.02616469  & HIS         \\\\\n",
       "\t startnormal  & -0.141653687 & 0.1696495    & -0.83497852  & ILE         \\\\\n",
       "\t startsmall   & -0.273932911 & 0.1791854    & -1.52876841  & ILE         \\\\\n",
       "\t startnormal  & -0.211085517 & 0.3697956    & -0.57081674  & LEU         \\\\\n",
       "\t startsmall   & -0.222029351 & 0.3934940    & -0.56425097  & LEU         \\\\\n",
       "\t startnormal  &  0.153586098 & 0.3273216    &  0.46922075  & LYS         \\\\\n",
       "\t startsmall   & -0.378513257 & 0.3450347    & -1.09702968  & LYS         \\\\\n",
       "\t startnormal  & -0.098438832 & 0.1123560    & -0.87613342  & MET         \\\\\n",
       "\t startsmall   & -0.118730444 & 0.1189618    & -0.99805561  & MET         \\\\\n",
       "\t startnormal  & -0.048141608 & 0.1556524    & -0.30928916  & PHE         \\\\\n",
       "\t startsmall   & -0.102358785 & 0.1647129    & -0.62143768  & PHE         \\\\\n",
       "\t startnormal  &  0.094930220 & 1.0647996    &  0.08915313  & THR         \\\\\n",
       "\t startsmall   & -1.666478152 & 1.1226982    & -1.48435100  & THR         \\\\\n",
       "\t startnormal  & -0.189236882 & 0.5046466    & -0.37498894  & VAL         \\\\\n",
       "\t startsmall   & -0.692509432 & 0.5328757    & -1.29957030  & VAL         \\\\\n",
       "\\end{tabular}\n"
      ],
      "text/markdown": [
       "\n",
       "term | estimate | std.error | statistic | AA | \n",
       "|---|---|---|---|---|---|---|---|---|---|---|---|---|---|---|---|\n",
       "| startnormal  |  0.052511825 | 0.3098461    |  0.16947710  | HIS          | \n",
       "| startsmall   |  0.008555793 | 0.3269976    |  0.02616469  | HIS          | \n",
       "| startnormal  | -0.141653687 | 0.1696495    | -0.83497852  | ILE          | \n",
       "| startsmall   | -0.273932911 | 0.1791854    | -1.52876841  | ILE          | \n",
       "| startnormal  | -0.211085517 | 0.3697956    | -0.57081674  | LEU          | \n",
       "| startsmall   | -0.222029351 | 0.3934940    | -0.56425097  | LEU          | \n",
       "| startnormal  |  0.153586098 | 0.3273216    |  0.46922075  | LYS          | \n",
       "| startsmall   | -0.378513257 | 0.3450347    | -1.09702968  | LYS          | \n",
       "| startnormal  | -0.098438832 | 0.1123560    | -0.87613342  | MET          | \n",
       "| startsmall   | -0.118730444 | 0.1189618    | -0.99805561  | MET          | \n",
       "| startnormal  | -0.048141608 | 0.1556524    | -0.30928916  | PHE          | \n",
       "| startsmall   | -0.102358785 | 0.1647129    | -0.62143768  | PHE          | \n",
       "| startnormal  |  0.094930220 | 1.0647996    |  0.08915313  | THR          | \n",
       "| startsmall   | -1.666478152 | 1.1226982    | -1.48435100  | THR          | \n",
       "| startnormal  | -0.189236882 | 0.5046466    | -0.37498894  | VAL          | \n",
       "| startsmall   | -0.692509432 | 0.5328757    | -1.29957030  | VAL          | \n",
       "\n",
       "\n"
      ],
      "text/plain": [
       "   term        estimate     std.error statistic   AA \n",
       "1  startnormal  0.052511825 0.3098461  0.16947710 HIS\n",
       "2  startsmall   0.008555793 0.3269976  0.02616469 HIS\n",
       "3  startnormal -0.141653687 0.1696495 -0.83497852 ILE\n",
       "4  startsmall  -0.273932911 0.1791854 -1.52876841 ILE\n",
       "5  startnormal -0.211085517 0.3697956 -0.57081674 LEU\n",
       "6  startsmall  -0.222029351 0.3934940 -0.56425097 LEU\n",
       "7  startnormal  0.153586098 0.3273216  0.46922075 LYS\n",
       "8  startsmall  -0.378513257 0.3450347 -1.09702968 LYS\n",
       "9  startnormal -0.098438832 0.1123560 -0.87613342 MET\n",
       "10 startsmall  -0.118730444 0.1189618 -0.99805561 MET\n",
       "11 startnormal -0.048141608 0.1556524 -0.30928916 PHE\n",
       "12 startsmall  -0.102358785 0.1647129 -0.62143768 PHE\n",
       "13 startnormal  0.094930220 1.0647996  0.08915313 THR\n",
       "14 startsmall  -1.666478152 1.1226982 -1.48435100 THR\n",
       "15 startnormal -0.189236882 0.5046466 -0.37498894 VAL\n",
       "16 startsmall  -0.692509432 0.5328757 -1.29957030 VAL"
      ]
     },
     "metadata": {},
     "output_type": "display_data"
    },
    {
     "data": {
      "text/html": [
       "<table>\n",
       "<thead><tr><th scope=col>term</th><th scope=col>estimate</th><th scope=col>std.error</th><th scope=col>statistic</th><th scope=col>AA</th></tr></thead>\n",
       "<tbody>\n",
       "\t<tr><td>startnormal </td><td> -0.16839879</td><td> 0.2357068  </td><td>-0.71444188 </td><td>ARG         </td></tr>\n",
       "\t<tr><td>startsmall  </td><td> -0.32761886</td><td> 0.2479181  </td><td>-1.32148033 </td><td>ARG         </td></tr>\n",
       "\t<tr><td>startnormal </td><td> -0.74397489</td><td> 0.9329817  </td><td>-0.79741635 </td><td>ASP         </td></tr>\n",
       "\t<tr><td>startsmall  </td><td>  0.20334658</td><td> 0.9858011  </td><td> 0.20627546 </td><td>ASP         </td></tr>\n",
       "\t<tr><td>startnormal </td><td> -2.48171464</td><td> 3.2295569  </td><td>-0.76843811 </td><td>ALA         </td></tr>\n",
       "\t<tr><td>startsmall  </td><td> -2.45475295</td><td> 3.4094209  </td><td>-0.71999118 </td><td>ALA         </td></tr>\n",
       "\t<tr><td>startnormal </td><td>  0.21083417</td><td> 0.1887975  </td><td> 1.11672135 </td><td>ASN         </td></tr>\n",
       "\t<tr><td>startsmall  </td><td>  0.02311810</td><td> 0.2017277  </td><td> 0.11460053 </td><td>ASN         </td></tr>\n",
       "\t<tr><td>startnormal </td><td>  0.22396946</td><td> 0.2931474  </td><td> 0.76401654 </td><td>CYS         </td></tr>\n",
       "\t<tr><td>startsmall  </td><td>  0.34193800</td><td> 0.3095052  </td><td> 1.10478930 </td><td>CYS         </td></tr>\n",
       "\t<tr><td>startnormal </td><td> -1.84057415</td><td> 1.5775506  </td><td>-1.16672906 </td><td>GLY         </td></tr>\n",
       "\t<tr><td>startsmall  </td><td> -1.10303086</td><td> 1.6623634  </td><td>-0.66353174 </td><td>GLY         </td></tr>\n",
       "\t<tr><td>startnormal </td><td>-10.99123743</td><td>13.1329961  </td><td>-0.83691774 </td><td>GLU         </td></tr>\n",
       "\t<tr><td>startsmall  </td><td> -4.69693578</td><td>13.8486719  </td><td>-0.33916146 </td><td>GLU         </td></tr>\n",
       "\t<tr><td>startnormal </td><td>  4.98704511</td><td> 6.9020831  </td><td> 0.72254202 </td><td>GLN         </td></tr>\n",
       "\t<tr><td>startsmall  </td><td>  0.28652764</td><td> 7.2911024  </td><td> 0.03929826 </td><td>GLN         </td></tr>\n",
       "\t<tr><td>startnormal </td><td> -0.28406691</td><td> 0.4656666  </td><td>-0.61002213 </td><td>PRO         </td></tr>\n",
       "\t<tr><td>startsmall  </td><td> -0.60627965</td><td> 0.4893458  </td><td>-1.23895951 </td><td>PRO         </td></tr>\n",
       "\t<tr><td>startnormal </td><td>  0.75029524</td><td> 1.5568117  </td><td> 0.48194348 </td><td>SER         </td></tr>\n",
       "\t<tr><td>startsmall  </td><td> -0.87893788</td><td> 1.6396908  </td><td>-0.53603881 </td><td>SER         </td></tr>\n",
       "\t<tr><td>startnormal </td><td> -0.07312346</td><td> 0.2182925  </td><td>-0.33497917 </td><td>TYR         </td></tr>\n",
       "\t<tr><td>startsmall  </td><td> -0.33321449</td><td> 0.2298310  </td><td>-1.44982402 </td><td>TYR         </td></tr>\n",
       "</tbody>\n",
       "</table>\n"
      ],
      "text/latex": [
       "\\begin{tabular}{r|lllll}\n",
       " term & estimate & std.error & statistic & AA\\\\\n",
       "\\hline\n",
       "\t startnormal  &  -0.16839879 &  0.2357068   & -0.71444188  & ARG         \\\\\n",
       "\t startsmall   &  -0.32761886 &  0.2479181   & -1.32148033  & ARG         \\\\\n",
       "\t startnormal  &  -0.74397489 &  0.9329817   & -0.79741635  & ASP         \\\\\n",
       "\t startsmall   &   0.20334658 &  0.9858011   &  0.20627546  & ASP         \\\\\n",
       "\t startnormal  &  -2.48171464 &  3.2295569   & -0.76843811  & ALA         \\\\\n",
       "\t startsmall   &  -2.45475295 &  3.4094209   & -0.71999118  & ALA         \\\\\n",
       "\t startnormal  &   0.21083417 &  0.1887975   &  1.11672135  & ASN         \\\\\n",
       "\t startsmall   &   0.02311810 &  0.2017277   &  0.11460053  & ASN         \\\\\n",
       "\t startnormal  &   0.22396946 &  0.2931474   &  0.76401654  & CYS         \\\\\n",
       "\t startsmall   &   0.34193800 &  0.3095052   &  1.10478930  & CYS         \\\\\n",
       "\t startnormal  &  -1.84057415 &  1.5775506   & -1.16672906  & GLY         \\\\\n",
       "\t startsmall   &  -1.10303086 &  1.6623634   & -0.66353174  & GLY         \\\\\n",
       "\t startnormal  & -10.99123743 & 13.1329961   & -0.83691774  & GLU         \\\\\n",
       "\t startsmall   &  -4.69693578 & 13.8486719   & -0.33916146  & GLU         \\\\\n",
       "\t startnormal  &   4.98704511 &  6.9020831   &  0.72254202  & GLN         \\\\\n",
       "\t startsmall   &   0.28652764 &  7.2911024   &  0.03929826  & GLN         \\\\\n",
       "\t startnormal  &  -0.28406691 &  0.4656666   & -0.61002213  & PRO         \\\\\n",
       "\t startsmall   &  -0.60627965 &  0.4893458   & -1.23895951  & PRO         \\\\\n",
       "\t startnormal  &   0.75029524 &  1.5568117   &  0.48194348  & SER         \\\\\n",
       "\t startsmall   &  -0.87893788 &  1.6396908   & -0.53603881  & SER         \\\\\n",
       "\t startnormal  &  -0.07312346 &  0.2182925   & -0.33497917  & TYR         \\\\\n",
       "\t startsmall   &  -0.33321449 &  0.2298310   & -1.44982402  & TYR         \\\\\n",
       "\\end{tabular}\n"
      ],
      "text/markdown": [
       "\n",
       "term | estimate | std.error | statistic | AA | \n",
       "|---|---|---|---|---|---|---|---|---|---|---|---|---|---|---|---|---|---|---|---|---|---|\n",
       "| startnormal  |  -0.16839879 |  0.2357068   | -0.71444188  | ARG          | \n",
       "| startsmall   |  -0.32761886 |  0.2479181   | -1.32148033  | ARG          | \n",
       "| startnormal  |  -0.74397489 |  0.9329817   | -0.79741635  | ASP          | \n",
       "| startsmall   |   0.20334658 |  0.9858011   |  0.20627546  | ASP          | \n",
       "| startnormal  |  -2.48171464 |  3.2295569   | -0.76843811  | ALA          | \n",
       "| startsmall   |  -2.45475295 |  3.4094209   | -0.71999118  | ALA          | \n",
       "| startnormal  |   0.21083417 |  0.1887975   |  1.11672135  | ASN          | \n",
       "| startsmall   |   0.02311810 |  0.2017277   |  0.11460053  | ASN          | \n",
       "| startnormal  |   0.22396946 |  0.2931474   |  0.76401654  | CYS          | \n",
       "| startsmall   |   0.34193800 |  0.3095052   |  1.10478930  | CYS          | \n",
       "| startnormal  |  -1.84057415 |  1.5775506   | -1.16672906  | GLY          | \n",
       "| startsmall   |  -1.10303086 |  1.6623634   | -0.66353174  | GLY          | \n",
       "| startnormal  | -10.99123743 | 13.1329961   | -0.83691774  | GLU          | \n",
       "| startsmall   |  -4.69693578 | 13.8486719   | -0.33916146  | GLU          | \n",
       "| startnormal  |   4.98704511 |  6.9020831   |  0.72254202  | GLN          | \n",
       "| startsmall   |   0.28652764 |  7.2911024   |  0.03929826  | GLN          | \n",
       "| startnormal  |  -0.28406691 |  0.4656666   | -0.61002213  | PRO          | \n",
       "| startsmall   |  -0.60627965 |  0.4893458   | -1.23895951  | PRO          | \n",
       "| startnormal  |   0.75029524 |  1.5568117   |  0.48194348  | SER          | \n",
       "| startsmall   |  -0.87893788 |  1.6396908   | -0.53603881  | SER          | \n",
       "| startnormal  |  -0.07312346 |  0.2182925   | -0.33497917  | TYR          | \n",
       "| startsmall   |  -0.33321449 |  0.2298310   | -1.44982402  | TYR          | \n",
       "\n",
       "\n"
      ],
      "text/plain": [
       "   term        estimate     std.error  statistic   AA \n",
       "1  startnormal  -0.16839879  0.2357068 -0.71444188 ARG\n",
       "2  startsmall   -0.32761886  0.2479181 -1.32148033 ARG\n",
       "3  startnormal  -0.74397489  0.9329817 -0.79741635 ASP\n",
       "4  startsmall    0.20334658  0.9858011  0.20627546 ASP\n",
       "5  startnormal  -2.48171464  3.2295569 -0.76843811 ALA\n",
       "6  startsmall   -2.45475295  3.4094209 -0.71999118 ALA\n",
       "7  startnormal   0.21083417  0.1887975  1.11672135 ASN\n",
       "8  startsmall    0.02311810  0.2017277  0.11460053 ASN\n",
       "9  startnormal   0.22396946  0.2931474  0.76401654 CYS\n",
       "10 startsmall    0.34193800  0.3095052  1.10478930 CYS\n",
       "11 startnormal  -1.84057415  1.5775506 -1.16672906 GLY\n",
       "12 startsmall   -1.10303086  1.6623634 -0.66353174 GLY\n",
       "13 startnormal -10.99123743 13.1329961 -0.83691774 GLU\n",
       "14 startsmall   -4.69693578 13.8486719 -0.33916146 GLU\n",
       "15 startnormal   4.98704511  6.9020831  0.72254202 GLN\n",
       "16 startsmall    0.28652764  7.2911024  0.03929826 GLN\n",
       "17 startnormal  -0.28406691  0.4656666 -0.61002213 PRO\n",
       "18 startsmall   -0.60627965  0.4893458 -1.23895951 PRO\n",
       "19 startnormal   0.75029524  1.5568117  0.48194348 SER\n",
       "20 startsmall   -0.87893788  1.6396908 -0.53603881 SER\n",
       "21 startnormal  -0.07312346  0.2182925 -0.33497917 TYR\n",
       "22 startsmall   -0.33321449  0.2298310 -1.44982402 TYR"
      ]
     },
     "metadata": {},
     "output_type": "display_data"
    }
   ],
   "source": [
    "start_E <- bind_rows(tidy_E_Start) %>% filter(grepl(\"start\", term)) \n",
    "start_NE <- bind_rows(tidy_NE_Start) %>% filter(grepl(\"start\", term)) \n",
    "\n",
    "start_E\n",
    "start_NE"
   ]
  },
  {
   "cell_type": "code",
   "execution_count": 294,
   "metadata": {},
   "outputs": [
    {
     "data": {},
     "metadata": {},
     "output_type": "display_data"
    },
    {
     "data": {
      "image/png": "[encoded data removed]",
      "text/plain": [
       "plot without title"
      ]
     },
     "metadata": {},
     "output_type": "display_data"
    }
   ],
   "source": [
    "#png(filename=\"./plots/EAA_SW_SW_coeff.png\", units=\"cm\", width=20, height=20, res = 300)\n",
    "ggplot(start_E, aes(x = reorder(AA, estimate), y = estimate, color = AA)) + \n",
    "    geom_hline(yintercept = 0, alpha = 0.4) + \n",
    "    geom_point() + geom_pointrange( aes(x = AA, ymin = estimate - 2*std.error, ymax = estimate + 2*std.error)) + \n",
    "    theme(legend.position = \"none\", aspect.ratio = 1) + \n",
    "    coord_flip() + \n",
    "    facet_wrap(~term) + \n",
    "    ggtitle('Essential AA \\n Estimate and 95% CI') + ylab('') + xlab('estimate')\n",
    "#dev.off()"
   ]
  },
  {
   "cell_type": "code",
   "execution_count": 295,
   "metadata": {},
   "outputs": [
    {
     "data": {},
     "metadata": {},
     "output_type": "display_data"
    },
    {
     "data": {
      "image/png": "[encoded data removed]",
      "text/plain": [
       "plot without title"
      ]
     },
     "metadata": {},
     "output_type": "display_data"
    }
   ],
   "source": [
    "#png(filename=\"./plots/EAA_SW_SW_coeff.png\", units=\"cm\", width=20, height=20, res = 300)\n",
    "ggplot(start_NE, aes(x = reorder(AA, estimate), y = estimate, color = AA)) + \n",
    "    geom_hline(yintercept = 0, alpha = 0.4) + \n",
    "    geom_point() + geom_pointrange( aes(x = AA, ymin = estimate - 2*std.error, ymax = estimate + 2*std.error)) + \n",
    "    theme(legend.position = \"none\", aspect.ratio = 1) + \n",
    "    coord_flip() + \n",
    "    facet_wrap(~term) + \n",
    "    ggtitle('Non Essential AA \\n Estimate and 95% CI') + ylab('') + xlab('estimate')\n",
    "#dev.off()"
   ]
  },
  {
   "cell_type": "code",
   "execution_count": null,
   "metadata": {
    "collapsed": true
   },
   "outputs": [],
   "source": []
  }
 ],
 "metadata": {
  "kernelspec": {
   "display_name": "R 3.3",
   "language": "R",
   "name": "ir33"
  },
  "language_info": {
   "codemirror_mode": "r",
   "file_extension": ".r",
   "mimetype": "text/x-r-source",
   "name": "R",
   "pygments_lexer": "r",
   "version": "3.3.3"
  }
 },
 "nbformat": 4,
 "nbformat_minor": 2
}
