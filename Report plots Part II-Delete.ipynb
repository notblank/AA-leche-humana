{
 "cells": [
  {
   "cell_type": "code",
   "execution_count": 1,
   "metadata": {},
   "outputs": [
    {
     "name": "stderr",
     "output_type": "stream",
     "text": [
      "Loading tidyverse: ggplot2\n",
      "Loading tidyverse: tibble\n",
      "Loading tidyverse: tidyr\n",
      "Loading tidyverse: readr\n",
      "Loading tidyverse: purrr\n",
      "Loading tidyverse: dplyr\n",
      "Conflicts with tidy packages ---------------------------------------------------\n",
      "filter(): dplyr, stats\n",
      "lag():    dplyr, stats\n",
      "Loading required package: Matrix\n",
      "\n",
      "Attaching package: 'Matrix'\n",
      "\n",
      "The following object is masked from 'package:tidyr':\n",
      "\n",
      "    expand\n",
      "\n"
     ]
    }
   ],
   "source": [
    "library(haven)\n",
    "library(tidyverse)\n",
    "library(broom)\n",
    "library(lme4) \n",
    "library(latex2exp)"
   ]
  },
  {
   "cell_type": "code",
   "execution_count": 2,
   "metadata": {},
   "outputs": [
    {
     "data": {
      "text/html": [
       "<table>\n",
       "<thead><tr><th scope=col>ID</th><th scope=col>GROUP</th><th scope=col>MATERNALAGE</th><th scope=col>SEXO</th><th scope=col>INFANTDOB</th><th scope=col>MATBMI1COLL</th><th scope=col>MATBMI215d</th><th scope=col>MATBMI32mos</th><th scope=col>MATBMI44mos</th><th scope=col>BABYWeigth1g</th><th scope=col>...</th><th scope=col>ALAGLOB</th><th scope=col>ASNGLOB</th><th scope=col>SYSGLOB</th><th scope=col>GLYGLOB</th><th scope=col>GLUGLOB</th><th scope=col>GLNGLOB</th><th scope=col>PROLINEGLOB</th><th scope=col>SERINEGLOB</th><th scope=col>TYRAMINEGLOB</th><th scope=col>new</th></tr></thead>\n",
       "<tbody>\n",
       "\t<tr><td>1         </td><td>0         </td><td>17        </td><td> 1        </td><td>2009-08-20</td><td>25        </td><td>24        </td><td>24        </td><td>22        </td><td>3492.7    </td><td>...       </td><td>21.25     </td><td>0.5       </td><td>1.00      </td><td>10.00     </td><td> 87.25    </td><td>23.25     </td><td>2.75      </td><td>8.0       </td><td>1.00      </td><td>0         </td></tr>\n",
       "\t<tr><td>2         </td><td>0         </td><td>16        </td><td> 2        </td><td>2009-08-24</td><td>32        </td><td>31        </td><td>30        </td><td>29        </td><td>3392.9    </td><td>...       </td><td>18.25     </td><td>0.0       </td><td>0.75      </td><td>13.75     </td><td>100.50    </td><td>40.50     </td><td>2.50      </td><td>9.5       </td><td>0.75      </td><td>0         </td></tr>\n",
       "\t<tr><td>3         </td><td>0         </td><td>17        </td><td> 2        </td><td>2009-08-21</td><td>23        </td><td>23        </td><td>NA        </td><td>NA        </td><td>2993.8    </td><td>...       </td><td>   NA     </td><td> NA       </td><td>  NA      </td><td>   NA     </td><td>    NA    </td><td>   NA     </td><td>  NA      </td><td> NA       </td><td>  NA      </td><td>0         </td></tr>\n",
       "\t<tr><td>4         </td><td>0         </td><td>16        </td><td> 2        </td><td>2009-08-21</td><td>26        </td><td>NA        </td><td>NA        </td><td>NA        </td><td>3692.3    </td><td>...       </td><td>   NA     </td><td> NA       </td><td>  NA      </td><td>   NA     </td><td>    NA    </td><td>   NA     </td><td>  NA      </td><td> NA       </td><td>  NA      </td><td>0         </td></tr>\n",
       "\t<tr><td>5         </td><td>0         </td><td>16        </td><td>NA        </td><td>2009-08-29</td><td>25        </td><td>NA        </td><td>NA        </td><td>NA        </td><td>3592.5    </td><td>...       </td><td>   NA     </td><td> NA       </td><td>  NA      </td><td>   NA     </td><td>    NA    </td><td>   NA     </td><td>  NA      </td><td> NA       </td><td>  NA      </td><td>0         </td></tr>\n",
       "\t<tr><td>6         </td><td>0         </td><td>16        </td><td> 2        </td><td>2009-08-27</td><td>29        </td><td>28        </td><td>30        </td><td>31        </td><td>3093.5    </td><td>...       </td><td>15.50     </td><td>0.5       </td><td>1.50      </td><td>10.25     </td><td> 74.75    </td><td>30.00     </td><td>5.25      </td><td>8.0       </td><td>2.00      </td><td>0         </td></tr>\n",
       "</tbody>\n",
       "</table>\n"
      ],
      "text/latex": [
       "\\begin{tabular}{r|lllllllllllllllllllllllllllllllllllllllllllllllllllllllllllllllllllllllllllllllllllllllllllllllllllllllllllllllllllllllllllllllllllllllllllllllllllllllllllllllllllllllllll}\n",
       " ID & GROUP & MATERNALAGE & SEXO & INFANTDOB & MATBMI1COLL & MATBMI215d & MATBMI32mos & MATBMI44mos & BABYWeigth1g & ... & ALAGLOB & ASNGLOB & SYSGLOB & GLYGLOB & GLUGLOB & GLNGLOB & PROLINEGLOB & SERINEGLOB & TYRAMINEGLOB & new\\\\\n",
       "\\hline\n",
       "\t 1          & 0          & 17         &  1         & 2009-08-20 & 25         & 24         & 24         & 22         & 3492.7     & ...        & 21.25      & 0.5        & 1.00       & 10.00      &  87.25     & 23.25      & 2.75       & 8.0        & 1.00       & 0         \\\\\n",
       "\t 2          & 0          & 16         &  2         & 2009-08-24 & 32         & 31         & 30         & 29         & 3392.9     & ...        & 18.25      & 0.0        & 0.75       & 13.75      & 100.50     & 40.50      & 2.50       & 9.5        & 0.75       & 0         \\\\\n",
       "\t 3          & 0          & 17         &  2         & 2009-08-21 & 23         & 23         & NA         & NA         & 2993.8     & ...        &    NA      &  NA        &   NA       &    NA      &     NA     &    NA      &   NA       &  NA        &   NA       & 0         \\\\\n",
       "\t 4          & 0          & 16         &  2         & 2009-08-21 & 26         & NA         & NA         & NA         & 3692.3     & ...        &    NA      &  NA        &   NA       &    NA      &     NA     &    NA      &   NA       &  NA        &   NA       & 0         \\\\\n",
       "\t 5          & 0          & 16         & NA         & 2009-08-29 & 25         & NA         & NA         & NA         & 3592.5     & ...        &    NA      &  NA        &   NA       &    NA      &     NA     &    NA      &   NA       &  NA        &   NA       & 0         \\\\\n",
       "\t 6          & 0          & 16         &  2         & 2009-08-27 & 29         & 28         & 30         & 31         & 3093.5     & ...        & 15.50      & 0.5        & 1.50       & 10.25      &  74.75     & 30.00      & 5.25       & 8.0        & 2.00       & 0         \\\\\n",
       "\\end{tabular}\n"
      ],
      "text/markdown": [
       "\n",
       "ID | GROUP | MATERNALAGE | SEXO | INFANTDOB | MATBMI1COLL | MATBMI215d | MATBMI32mos | MATBMI44mos | BABYWeigth1g | ... | ALAGLOB | ASNGLOB | SYSGLOB | GLYGLOB | GLUGLOB | GLNGLOB | PROLINEGLOB | SERINEGLOB | TYRAMINEGLOB | new | \n",
       "|---|---|---|---|---|---|\n",
       "| 1          | 0          | 17         |  1         | 2009-08-20 | 25         | 24         | 24         | 22         | 3492.7     | ...        | 21.25      | 0.5        | 1.00       | 10.00      |  87.25     | 23.25      | 2.75       | 8.0        | 1.00       | 0          | \n",
       "| 2          | 0          | 16         |  2         | 2009-08-24 | 32         | 31         | 30         | 29         | 3392.9     | ...        | 18.25      | 0.0        | 0.75       | 13.75      | 100.50     | 40.50      | 2.50       | 9.5        | 0.75       | 0          | \n",
       "| 3          | 0          | 17         |  2         | 2009-08-21 | 23         | 23         | NA         | NA         | 2993.8     | ...        |    NA      |  NA        |   NA       |    NA      |     NA     |    NA      |   NA       |  NA        |   NA       | 0          | \n",
       "| 4          | 0          | 16         |  2         | 2009-08-21 | 26         | NA         | NA         | NA         | 3692.3     | ...        |    NA      |  NA        |   NA       |    NA      |     NA     |    NA      |   NA       |  NA        |   NA       | 0          | \n",
       "| 5          | 0          | 16         | NA         | 2009-08-29 | 25         | NA         | NA         | NA         | 3592.5     | ...        |    NA      |  NA        |   NA       |    NA      |     NA     |    NA      |   NA       |  NA        |   NA       | 0          | \n",
       "| 6          | 0          | 16         |  2         | 2009-08-27 | 29         | 28         | 30         | 31         | 3093.5     | ...        | 15.50      | 0.5        | 1.50       | 10.25      |  74.75     | 30.00      | 5.25       | 8.0        | 2.00       | 0          | \n",
       "\n",
       "\n"
      ],
      "text/plain": [
       "  ID GROUP MATERNALAGE SEXO INFANTDOB  MATBMI1COLL MATBMI215d MATBMI32mos\n",
       "1 1  0     17           1   2009-08-20 25          24         24         \n",
       "2 2  0     16           2   2009-08-24 32          31         30         \n",
       "3 3  0     17           2   2009-08-21 23          23         NA         \n",
       "4 4  0     16           2   2009-08-21 26          NA         NA         \n",
       "5 5  0     16          NA   2009-08-29 25          NA         NA         \n",
       "6 6  0     16           2   2009-08-27 29          28         30         \n",
       "  MATBMI44mos BABYWeigth1g ... ALAGLOB ASNGLOB SYSGLOB GLYGLOB GLUGLOB GLNGLOB\n",
       "1 22          3492.7       ... 21.25   0.5     1.00    10.00    87.25  23.25  \n",
       "2 29          3392.9       ... 18.25   0.0     0.75    13.75   100.50  40.50  \n",
       "3 NA          2993.8       ...    NA    NA       NA       NA       NA     NA  \n",
       "4 NA          3692.3       ...    NA    NA       NA       NA       NA     NA  \n",
       "5 NA          3592.5       ...    NA    NA       NA       NA       NA     NA  \n",
       "6 31          3093.5       ... 15.50   0.5     1.50    10.25    74.75  30.00  \n",
       "  PROLINEGLOB SERINEGLOB TYRAMINEGLOB new\n",
       "1 2.75        8.0        1.00         0  \n",
       "2 2.50        9.5        0.75         0  \n",
       "3   NA         NA          NA         0  \n",
       "4   NA         NA          NA         0  \n",
       "5   NA         NA          NA         0  \n",
       "6 5.25        8.0        2.00         0  "
      ]
     },
     "metadata": {},
     "output_type": "display_data"
    }
   ],
   "source": [
    "AA_Sex_1 <- read_sav(\"C:/Users/Personal/AA leche/datos/AMINOACIDOS POR SEXO_1.sav\")\n",
    "head(AA_Sex_1) "
   ]
  },
  {
   "cell_type": "code",
   "execution_count": 3,
   "metadata": {},
   "outputs": [
    {
     "name": "stderr",
     "output_type": "stream",
     "text": [
      "Warning message:\n",
      "\"`as_dictionary()` is soft-deprecated as of rlang 0.3.0.\n",
      "Please use `as_data_pronoun()` instead\n",
      "This warning is displayed once per session.\"Warning message:\n",
      "\"`new_overscope()` is soft-deprecated as of rlang 0.2.0.\n",
      "Please use `new_data_mask()` instead\n",
      "This warning is displayed once per session.\"Warning message:\n",
      "\"The `parent` argument of `new_data_mask()` is deprecated.\n",
      "The parent of the data mask is determined from either:\n",
      "\n",
      "  * The `env` argument of `eval_tidy()`\n",
      "  * Quosure environments when applicable\n",
      "This warning is displayed once per session.\"Warning message:\n",
      "\"`overscope_clean()` is soft-deprecated as of rlang 0.2.0.\n",
      "This warning is displayed once per session.\""
     ]
    },
    {
     "data": {
      "text/html": [
       "<ol class=list-inline>\n",
       "\t<li>'id'</li>\n",
       "\t<li>'group'</li>\n",
       "\t<li>'age'</li>\n",
       "\t<li>'sex'</li>\n",
       "\t<li>'HISCalostrum'</li>\n",
       "\t<li>'HISTransition'</li>\n",
       "\t<li>'HISMature2m'</li>\n",
       "\t<li>'HISMature4m'</li>\n",
       "\t<li>'ILECalostrum'</li>\n",
       "\t<li>'ILETransition'</li>\n",
       "\t<li>'ILEMature2m'</li>\n",
       "\t<li>'ILEMature4m'</li>\n",
       "\t<li>'LEUCalostrum'</li>\n",
       "\t<li>'LEUTransition'</li>\n",
       "\t<li>'LEUMature2m'</li>\n",
       "\t<li>'LEUMature4m'</li>\n",
       "\t<li>'LYSCalostrum'</li>\n",
       "\t<li>'LYSTransition'</li>\n",
       "\t<li>'LYSMature2m'</li>\n",
       "\t<li>'LYSMature4m'</li>\n",
       "\t<li>'METCalostrum'</li>\n",
       "\t<li>'METTransition'</li>\n",
       "\t<li>'METMature2m'</li>\n",
       "\t<li>'METMature4m'</li>\n",
       "\t<li>'PHECalostrum'</li>\n",
       "\t<li>'PHETransition'</li>\n",
       "\t<li>'PHEMature2m'</li>\n",
       "\t<li>'PHEMature4m'</li>\n",
       "\t<li>'THRCalostrum'</li>\n",
       "\t<li>'THRTransition'</li>\n",
       "\t<li>'THRMature2m'</li>\n",
       "\t<li>'THRMature4m'</li>\n",
       "\t<li>'TRPCalostrum'</li>\n",
       "\t<li>'TRPTransition'</li>\n",
       "\t<li>'TRPMature2m'</li>\n",
       "\t<li>'TRPMature4m'</li>\n",
       "\t<li>'VALCalostrum'</li>\n",
       "\t<li>'VALTransition'</li>\n",
       "\t<li>'VALMature2m'</li>\n",
       "\t<li>'VALMature4m'</li>\n",
       "</ol>\n"
      ],
      "text/latex": [
       "\\begin{enumerate*}\n",
       "\\item 'id'\n",
       "\\item 'group'\n",
       "\\item 'age'\n",
       "\\item 'sex'\n",
       "\\item 'HISCalostrum'\n",
       "\\item 'HISTransition'\n",
       "\\item 'HISMature2m'\n",
       "\\item 'HISMature4m'\n",
       "\\item 'ILECalostrum'\n",
       "\\item 'ILETransition'\n",
       "\\item 'ILEMature2m'\n",
       "\\item 'ILEMature4m'\n",
       "\\item 'LEUCalostrum'\n",
       "\\item 'LEUTransition'\n",
       "\\item 'LEUMature2m'\n",
       "\\item 'LEUMature4m'\n",
       "\\item 'LYSCalostrum'\n",
       "\\item 'LYSTransition'\n",
       "\\item 'LYSMature2m'\n",
       "\\item 'LYSMature4m'\n",
       "\\item 'METCalostrum'\n",
       "\\item 'METTransition'\n",
       "\\item 'METMature2m'\n",
       "\\item 'METMature4m'\n",
       "\\item 'PHECalostrum'\n",
       "\\item 'PHETransition'\n",
       "\\item 'PHEMature2m'\n",
       "\\item 'PHEMature4m'\n",
       "\\item 'THRCalostrum'\n",
       "\\item 'THRTransition'\n",
       "\\item 'THRMature2m'\n",
       "\\item 'THRMature4m'\n",
       "\\item 'TRPCalostrum'\n",
       "\\item 'TRPTransition'\n",
       "\\item 'TRPMature2m'\n",
       "\\item 'TRPMature4m'\n",
       "\\item 'VALCalostrum'\n",
       "\\item 'VALTransition'\n",
       "\\item 'VALMature2m'\n",
       "\\item 'VALMature4m'\n",
       "\\end{enumerate*}\n"
      ],
      "text/markdown": [
       "1. 'id'\n",
       "2. 'group'\n",
       "3. 'age'\n",
       "4. 'sex'\n",
       "5. 'HISCalostrum'\n",
       "6. 'HISTransition'\n",
       "7. 'HISMature2m'\n",
       "8. 'HISMature4m'\n",
       "9. 'ILECalostrum'\n",
       "10. 'ILETransition'\n",
       "11. 'ILEMature2m'\n",
       "12. 'ILEMature4m'\n",
       "13. 'LEUCalostrum'\n",
       "14. 'LEUTransition'\n",
       "15. 'LEUMature2m'\n",
       "16. 'LEUMature4m'\n",
       "17. 'LYSCalostrum'\n",
       "18. 'LYSTransition'\n",
       "19. 'LYSMature2m'\n",
       "20. 'LYSMature4m'\n",
       "21. 'METCalostrum'\n",
       "22. 'METTransition'\n",
       "23. 'METMature2m'\n",
       "24. 'METMature4m'\n",
       "25. 'PHECalostrum'\n",
       "26. 'PHETransition'\n",
       "27. 'PHEMature2m'\n",
       "28. 'PHEMature4m'\n",
       "29. 'THRCalostrum'\n",
       "30. 'THRTransition'\n",
       "31. 'THRMature2m'\n",
       "32. 'THRMature4m'\n",
       "33. 'TRPCalostrum'\n",
       "34. 'TRPTransition'\n",
       "35. 'TRPMature2m'\n",
       "36. 'TRPMature4m'\n",
       "37. 'VALCalostrum'\n",
       "38. 'VALTransition'\n",
       "39. 'VALMature2m'\n",
       "40. 'VALMature4m'\n",
       "\n",
       "\n"
      ],
      "text/plain": [
       " [1] \"id\"            \"group\"         \"age\"           \"sex\"          \n",
       " [5] \"HISCalostrum\"  \"HISTransition\" \"HISMature2m\"   \"HISMature4m\"  \n",
       " [9] \"ILECalostrum\"  \"ILETransition\" \"ILEMature2m\"   \"ILEMature4m\"  \n",
       "[13] \"LEUCalostrum\"  \"LEUTransition\" \"LEUMature2m\"   \"LEUMature4m\"  \n",
       "[17] \"LYSCalostrum\"  \"LYSTransition\" \"LYSMature2m\"   \"LYSMature4m\"  \n",
       "[21] \"METCalostrum\"  \"METTransition\" \"METMature2m\"   \"METMature4m\"  \n",
       "[25] \"PHECalostrum\"  \"PHETransition\" \"PHEMature2m\"   \"PHEMature4m\"  \n",
       "[29] \"THRCalostrum\"  \"THRTransition\" \"THRMature2m\"   \"THRMature4m\"  \n",
       "[33] \"TRPCalostrum\"  \"TRPTransition\" \"TRPMature2m\"   \"TRPMature4m\"  \n",
       "[37] \"VALCalostrum\"  \"VALTransition\" \"VALMature2m\"   \"VALMature4m\"  "
      ]
     },
     "metadata": {},
     "output_type": "display_data"
    }
   ],
   "source": [
    "AA_E <- AA_Sex_1 %>%  select(id = ID, group = GROUP, age = MATERNALAGE, sex = SEXO, 62:97) %>%\n",
    "                         mutate(id = factor(id), \n",
    "                                sex =  factor(sex, labels = c('girl', 'boy')),\n",
    "                                group = factor(group, labels = c('teen', 'adult'))) \n",
    "\n",
    "\n",
    "names(AA_E)"
   ]
  },
  {
   "cell_type": "code",
   "execution_count": 4,
   "metadata": {},
   "outputs": [
    {
     "data": {
      "text/html": [
       "<ol class=list-inline>\n",
       "\t<li>'id'</li>\n",
       "\t<li>'group'</li>\n",
       "\t<li>'age'</li>\n",
       "\t<li>'sex'</li>\n",
       "\t<li>'ARGCalostrum'</li>\n",
       "\t<li>'ARGTransition'</li>\n",
       "\t<li>'ARGMature2m'</li>\n",
       "\t<li>'ARGMature4m'</li>\n",
       "\t<li>'ASPCalostrum'</li>\n",
       "\t<li>'ASPTransition'</li>\n",
       "\t<li>'ASPMature2m'</li>\n",
       "\t<li>'ASPMature4m'</li>\n",
       "\t<li>'ALACalostrum'</li>\n",
       "\t<li>'ALATransition'</li>\n",
       "\t<li>'ALAMature2m'</li>\n",
       "\t<li>'ALAMature4m'</li>\n",
       "\t<li>'ASNCalostrum'</li>\n",
       "\t<li>'ASNTransition'</li>\n",
       "\t<li>'ASNMature2m'</li>\n",
       "\t<li>'ASNMature4m'</li>\n",
       "\t<li>'CYSCalostrum'</li>\n",
       "\t<li>'CYSTransition'</li>\n",
       "\t<li>'CYSMature2m'</li>\n",
       "\t<li>'CYSMature4m'</li>\n",
       "\t<li>'GLYCalostrum'</li>\n",
       "\t<li>'GLYTransition'</li>\n",
       "\t<li>'GLYMature2m'</li>\n",
       "\t<li>'GLYMature4m'</li>\n",
       "\t<li>'GLUCalostrum'</li>\n",
       "\t<li>'GLUTransition'</li>\n",
       "\t<li>'GLUMature2m'</li>\n",
       "\t<li>'GLUMature4m'</li>\n",
       "\t<li>'GLNCalostrum'</li>\n",
       "\t<li>'GLNTransition'</li>\n",
       "\t<li>'GLNMature2m'</li>\n",
       "\t<li>'GLNMature4m'</li>\n",
       "\t<li>'PROCalostrum'</li>\n",
       "\t<li>'PROTransition'</li>\n",
       "\t<li>'PROMature2m'</li>\n",
       "\t<li>'PROMature4m'</li>\n",
       "\t<li>'SERCalostrum'</li>\n",
       "\t<li>'SERTransition'</li>\n",
       "\t<li>'SERMature2m'</li>\n",
       "\t<li>'SERMature4m'</li>\n",
       "\t<li>'TYRCalostrum'</li>\n",
       "\t<li>'TYRTransition'</li>\n",
       "\t<li>'TYRMature2m'</li>\n",
       "\t<li>'TYRMature4m'</li>\n",
       "</ol>\n"
      ],
      "text/latex": [
       "\\begin{enumerate*}\n",
       "\\item 'id'\n",
       "\\item 'group'\n",
       "\\item 'age'\n",
       "\\item 'sex'\n",
       "\\item 'ARGCalostrum'\n",
       "\\item 'ARGTransition'\n",
       "\\item 'ARGMature2m'\n",
       "\\item 'ARGMature4m'\n",
       "\\item 'ASPCalostrum'\n",
       "\\item 'ASPTransition'\n",
       "\\item 'ASPMature2m'\n",
       "\\item 'ASPMature4m'\n",
       "\\item 'ALACalostrum'\n",
       "\\item 'ALATransition'\n",
       "\\item 'ALAMature2m'\n",
       "\\item 'ALAMature4m'\n",
       "\\item 'ASNCalostrum'\n",
       "\\item 'ASNTransition'\n",
       "\\item 'ASNMature2m'\n",
       "\\item 'ASNMature4m'\n",
       "\\item 'CYSCalostrum'\n",
       "\\item 'CYSTransition'\n",
       "\\item 'CYSMature2m'\n",
       "\\item 'CYSMature4m'\n",
       "\\item 'GLYCalostrum'\n",
       "\\item 'GLYTransition'\n",
       "\\item 'GLYMature2m'\n",
       "\\item 'GLYMature4m'\n",
       "\\item 'GLUCalostrum'\n",
       "\\item 'GLUTransition'\n",
       "\\item 'GLUMature2m'\n",
       "\\item 'GLUMature4m'\n",
       "\\item 'GLNCalostrum'\n",
       "\\item 'GLNTransition'\n",
       "\\item 'GLNMature2m'\n",
       "\\item 'GLNMature4m'\n",
       "\\item 'PROCalostrum'\n",
       "\\item 'PROTransition'\n",
       "\\item 'PROMature2m'\n",
       "\\item 'PROMature4m'\n",
       "\\item 'SERCalostrum'\n",
       "\\item 'SERTransition'\n",
       "\\item 'SERMature2m'\n",
       "\\item 'SERMature4m'\n",
       "\\item 'TYRCalostrum'\n",
       "\\item 'TYRTransition'\n",
       "\\item 'TYRMature2m'\n",
       "\\item 'TYRMature4m'\n",
       "\\end{enumerate*}\n"
      ],
      "text/markdown": [
       "1. 'id'\n",
       "2. 'group'\n",
       "3. 'age'\n",
       "4. 'sex'\n",
       "5. 'ARGCalostrum'\n",
       "6. 'ARGTransition'\n",
       "7. 'ARGMature2m'\n",
       "8. 'ARGMature4m'\n",
       "9. 'ASPCalostrum'\n",
       "10. 'ASPTransition'\n",
       "11. 'ASPMature2m'\n",
       "12. 'ASPMature4m'\n",
       "13. 'ALACalostrum'\n",
       "14. 'ALATransition'\n",
       "15. 'ALAMature2m'\n",
       "16. 'ALAMature4m'\n",
       "17. 'ASNCalostrum'\n",
       "18. 'ASNTransition'\n",
       "19. 'ASNMature2m'\n",
       "20. 'ASNMature4m'\n",
       "21. 'CYSCalostrum'\n",
       "22. 'CYSTransition'\n",
       "23. 'CYSMature2m'\n",
       "24. 'CYSMature4m'\n",
       "25. 'GLYCalostrum'\n",
       "26. 'GLYTransition'\n",
       "27. 'GLYMature2m'\n",
       "28. 'GLYMature4m'\n",
       "29. 'GLUCalostrum'\n",
       "30. 'GLUTransition'\n",
       "31. 'GLUMature2m'\n",
       "32. 'GLUMature4m'\n",
       "33. 'GLNCalostrum'\n",
       "34. 'GLNTransition'\n",
       "35. 'GLNMature2m'\n",
       "36. 'GLNMature4m'\n",
       "37. 'PROCalostrum'\n",
       "38. 'PROTransition'\n",
       "39. 'PROMature2m'\n",
       "40. 'PROMature4m'\n",
       "41. 'SERCalostrum'\n",
       "42. 'SERTransition'\n",
       "43. 'SERMature2m'\n",
       "44. 'SERMature4m'\n",
       "45. 'TYRCalostrum'\n",
       "46. 'TYRTransition'\n",
       "47. 'TYRMature2m'\n",
       "48. 'TYRMature4m'\n",
       "\n",
       "\n"
      ],
      "text/plain": [
       " [1] \"id\"            \"group\"         \"age\"           \"sex\"          \n",
       " [5] \"ARGCalostrum\"  \"ARGTransition\" \"ARGMature2m\"   \"ARGMature4m\"  \n",
       " [9] \"ASPCalostrum\"  \"ASPTransition\" \"ASPMature2m\"   \"ASPMature4m\"  \n",
       "[13] \"ALACalostrum\"  \"ALATransition\" \"ALAMature2m\"   \"ALAMature4m\"  \n",
       "[17] \"ASNCalostrum\"  \"ASNTransition\" \"ASNMature2m\"   \"ASNMature4m\"  \n",
       "[21] \"CYSCalostrum\"  \"CYSTransition\" \"CYSMature2m\"   \"CYSMature4m\"  \n",
       "[25] \"GLYCalostrum\"  \"GLYTransition\" \"GLYMature2m\"   \"GLYMature4m\"  \n",
       "[29] \"GLUCalostrum\"  \"GLUTransition\" \"GLUMature2m\"   \"GLUMature4m\"  \n",
       "[33] \"GLNCalostrum\"  \"GLNTransition\" \"GLNMature2m\"   \"GLNMature4m\"  \n",
       "[37] \"PROCalostrum\"  \"PROTransition\" \"PROMature2m\"   \"PROMature4m\"  \n",
       "[41] \"SERCalostrum\"  \"SERTransition\" \"SERMature2m\"   \"SERMature4m\"  \n",
       "[45] \"TYRCalostrum\"  \"TYRTransition\" \"TYRMature2m\"   \"TYRMature4m\"  "
      ]
     },
     "metadata": {},
     "output_type": "display_data"
    }
   ],
   "source": [
    "AA_NE <- AA_Sex_1 %>%  select(id = ID, group = GROUP, age = MATERNALAGE, sex = SEXO, 58:61, 102:141) %>%\n",
    "                         mutate(id = factor(id), \n",
    "                                sex =  factor(sex, labels = c('girl', 'boy')),\n",
    "                                group = factor(group, labels = c('teen', 'adult'))) \n",
    "\n",
    "names(AA_NE)"
   ]
  },
  {
   "cell_type": "code",
   "execution_count": 5,
   "metadata": {},
   "outputs": [
    {
     "name": "stderr",
     "output_type": "stream",
     "text": [
      "Warning message:\n",
      "\"attributes are not identical across measure variables; they will be dropped\"Warning message:\n",
      "\"attributes are not identical across measure variables; they will be dropped\""
     ]
    },
    {
     "data": {
      "text/html": [
       "<table>\n",
       "<thead><tr><th scope=col>id</th><th scope=col>group</th><th scope=col>age</th><th scope=col>sex</th><th scope=col>weekNames</th><th scope=col>level</th></tr></thead>\n",
       "<tbody>\n",
       "\t<tr><td>1           </td><td>teen        </td><td>17          </td><td>girl        </td><td>HISCalostrum</td><td>2           </td></tr>\n",
       "\t<tr><td>2           </td><td>teen        </td><td>16          </td><td>boy         </td><td>HISCalostrum</td><td>1           </td></tr>\n",
       "\t<tr><td>3           </td><td>teen        </td><td>17          </td><td>boy         </td><td>HISCalostrum</td><td>2           </td></tr>\n",
       "\t<tr><td>4           </td><td>teen        </td><td>16          </td><td>boy         </td><td>HISCalostrum</td><td>1           </td></tr>\n",
       "\t<tr><td>5           </td><td>teen        </td><td>16          </td><td>NA          </td><td>HISCalostrum</td><td>1           </td></tr>\n",
       "\t<tr><td>6           </td><td>teen        </td><td>16          </td><td>boy         </td><td>HISCalostrum</td><td>1           </td></tr>\n",
       "</tbody>\n",
       "</table>\n"
      ],
      "text/latex": [
       "\\begin{tabular}{r|llllll}\n",
       " id & group & age & sex & weekNames & level\\\\\n",
       "\\hline\n",
       "\t 1            & teen         & 17           & girl         & HISCalostrum & 2           \\\\\n",
       "\t 2            & teen         & 16           & boy          & HISCalostrum & 1           \\\\\n",
       "\t 3            & teen         & 17           & boy          & HISCalostrum & 2           \\\\\n",
       "\t 4            & teen         & 16           & boy          & HISCalostrum & 1           \\\\\n",
       "\t 5            & teen         & 16           & NA           & HISCalostrum & 1           \\\\\n",
       "\t 6            & teen         & 16           & boy          & HISCalostrum & 1           \\\\\n",
       "\\end{tabular}\n"
      ],
      "text/markdown": [
       "\n",
       "id | group | age | sex | weekNames | level | \n",
       "|---|---|---|---|---|---|\n",
       "| 1            | teen         | 17           | girl         | HISCalostrum | 2            | \n",
       "| 2            | teen         | 16           | boy          | HISCalostrum | 1            | \n",
       "| 3            | teen         | 17           | boy          | HISCalostrum | 2            | \n",
       "| 4            | teen         | 16           | boy          | HISCalostrum | 1            | \n",
       "| 5            | teen         | 16           | NA           | HISCalostrum | 1            | \n",
       "| 6            | teen         | 16           | boy          | HISCalostrum | 1            | \n",
       "\n",
       "\n"
      ],
      "text/plain": [
       "  id group age sex  weekNames    level\n",
       "1 1  teen  17  girl HISCalostrum 2    \n",
       "2 2  teen  16  boy  HISCalostrum 1    \n",
       "3 3  teen  17  boy  HISCalostrum 2    \n",
       "4 4  teen  16  boy  HISCalostrum 1    \n",
       "5 5  teen  16  NA   HISCalostrum 1    \n",
       "6 6  teen  16  boy  HISCalostrum 1    "
      ]
     },
     "metadata": {},
     "output_type": "display_data"
    }
   ],
   "source": [
    "# Removing NAs\n",
    "AA_E_Long <- AA_E %>% gather(weekNames, level, 5:length(names(AA_E))) \n",
    "AA_NE_Long <- AA_NE %>% gather(weekNames, level, 5:length(names(AA_NE))) \n",
    "\n",
    "head(AA_E_Long)"
   ]
  },
  {
   "cell_type": "code",
   "execution_count": 6,
   "metadata": {},
   "outputs": [
    {
     "data": {
      "text/html": [
       "<table>\n",
       "<thead><tr><th scope=col>id</th><th scope=col>group</th><th scope=col>age</th><th scope=col>sex</th><th scope=col>weekNames</th><th scope=col>level</th><th scope=col>week</th><th scope=col>AA</th></tr></thead>\n",
       "<tbody>\n",
       "\t<tr><td>1           </td><td>teen        </td><td>17          </td><td>girl        </td><td>HISCalostrum</td><td>2           </td><td>1           </td><td>HIS         </td></tr>\n",
       "\t<tr><td>2           </td><td>teen        </td><td>16          </td><td>boy         </td><td>HISCalostrum</td><td>1           </td><td>1           </td><td>HIS         </td></tr>\n",
       "\t<tr><td>3           </td><td>teen        </td><td>17          </td><td>boy         </td><td>HISCalostrum</td><td>2           </td><td>1           </td><td>HIS         </td></tr>\n",
       "\t<tr><td>4           </td><td>teen        </td><td>16          </td><td>boy         </td><td>HISCalostrum</td><td>1           </td><td>1           </td><td>HIS         </td></tr>\n",
       "\t<tr><td>5           </td><td>teen        </td><td>16          </td><td>NA          </td><td>HISCalostrum</td><td>1           </td><td>1           </td><td>HIS         </td></tr>\n",
       "\t<tr><td>6           </td><td>teen        </td><td>16          </td><td>boy         </td><td>HISCalostrum</td><td>1           </td><td>1           </td><td>HIS         </td></tr>\n",
       "</tbody>\n",
       "</table>\n"
      ],
      "text/latex": [
       "\\begin{tabular}{r|llllllll}\n",
       " id & group & age & sex & weekNames & level & week & AA\\\\\n",
       "\\hline\n",
       "\t 1            & teen         & 17           & girl         & HISCalostrum & 2            & 1            & HIS         \\\\\n",
       "\t 2            & teen         & 16           & boy          & HISCalostrum & 1            & 1            & HIS         \\\\\n",
       "\t 3            & teen         & 17           & boy          & HISCalostrum & 2            & 1            & HIS         \\\\\n",
       "\t 4            & teen         & 16           & boy          & HISCalostrum & 1            & 1            & HIS         \\\\\n",
       "\t 5            & teen         & 16           & NA           & HISCalostrum & 1            & 1            & HIS         \\\\\n",
       "\t 6            & teen         & 16           & boy          & HISCalostrum & 1            & 1            & HIS         \\\\\n",
       "\\end{tabular}\n"
      ],
      "text/markdown": [
       "\n",
       "id | group | age | sex | weekNames | level | week | AA | \n",
       "|---|---|---|---|---|---|\n",
       "| 1            | teen         | 17           | girl         | HISCalostrum | 2            | 1            | HIS          | \n",
       "| 2            | teen         | 16           | boy          | HISCalostrum | 1            | 1            | HIS          | \n",
       "| 3            | teen         | 17           | boy          | HISCalostrum | 2            | 1            | HIS          | \n",
       "| 4            | teen         | 16           | boy          | HISCalostrum | 1            | 1            | HIS          | \n",
       "| 5            | teen         | 16           | NA           | HISCalostrum | 1            | 1            | HIS          | \n",
       "| 6            | teen         | 16           | boy          | HISCalostrum | 1            | 1            | HIS          | \n",
       "\n",
       "\n"
      ],
      "text/plain": [
       "  id group age sex  weekNames    level week AA \n",
       "1 1  teen  17  girl HISCalostrum 2     1    HIS\n",
       "2 2  teen  16  boy  HISCalostrum 1     1    HIS\n",
       "3 3  teen  17  boy  HISCalostrum 2     1    HIS\n",
       "4 4  teen  16  boy  HISCalostrum 1     1    HIS\n",
       "5 5  teen  16  NA   HISCalostrum 1     1    HIS\n",
       "6 6  teen  16  boy  HISCalostrum 1     1    HIS"
      ]
     },
     "metadata": {},
     "output_type": "display_data"
    }
   ],
   "source": [
    "AA_E_Long <- \n",
    "    AA_E_Long %>% \n",
    "        mutate(week = gsub(\".*Calostrum.*\", \"1\", weekNames)) %>%\n",
    "        mutate(week = gsub(\".*Transition.*\", \"2\", week)) %>%\n",
    "        mutate(week = gsub(\".*Mature2m.*\", \"8\", week)) %>%\n",
    "        mutate(week = gsub(\".*Mature4m.*\", \"16\", week)) %>% \n",
    "        mutate(week = as.numeric(week))\n",
    "\n",
    "AA_E_Long <- \n",
    "    AA_E_Long %>% \n",
    "        mutate(AA = gsub(\"Calostrum.*\", \"\", weekNames)) %>%\n",
    "        mutate(AA = gsub(\"Transition.*\", \"\", AA)) %>%\n",
    "        mutate(AA = gsub(\"Mature2m.*\", \"\", AA)) %>%\n",
    "        mutate(AA = gsub(\"Mature4m.*\", \"\", AA))\n",
    "\n",
    "head(AA_E_Long)"
   ]
  },
  {
   "cell_type": "code",
   "execution_count": 7,
   "metadata": {},
   "outputs": [
    {
     "data": {
      "text/html": [
       "<table>\n",
       "<thead><tr><th scope=col>id</th><th scope=col>group</th><th scope=col>age</th><th scope=col>sex</th><th scope=col>weekNames</th><th scope=col>level</th><th scope=col>week</th><th scope=col>AA</th></tr></thead>\n",
       "<tbody>\n",
       "\t<tr><td>1           </td><td>teen        </td><td>17          </td><td>girl        </td><td>ARGCalostrum</td><td>1           </td><td>1           </td><td>ARG         </td></tr>\n",
       "\t<tr><td>2           </td><td>teen        </td><td>16          </td><td>boy         </td><td>ARGCalostrum</td><td>1           </td><td>1           </td><td>ARG         </td></tr>\n",
       "\t<tr><td>3           </td><td>teen        </td><td>17          </td><td>boy         </td><td>ARGCalostrum</td><td>1           </td><td>1           </td><td>ARG         </td></tr>\n",
       "\t<tr><td>4           </td><td>teen        </td><td>16          </td><td>boy         </td><td>ARGCalostrum</td><td>1           </td><td>1           </td><td>ARG         </td></tr>\n",
       "\t<tr><td>5           </td><td>teen        </td><td>16          </td><td>NA          </td><td>ARGCalostrum</td><td>2           </td><td>1           </td><td>ARG         </td></tr>\n",
       "\t<tr><td>6           </td><td>teen        </td><td>16          </td><td>boy         </td><td>ARGCalostrum</td><td>2           </td><td>1           </td><td>ARG         </td></tr>\n",
       "</tbody>\n",
       "</table>\n"
      ],
      "text/latex": [
       "\\begin{tabular}{r|llllllll}\n",
       " id & group & age & sex & weekNames & level & week & AA\\\\\n",
       "\\hline\n",
       "\t 1            & teen         & 17           & girl         & ARGCalostrum & 1            & 1            & ARG         \\\\\n",
       "\t 2            & teen         & 16           & boy          & ARGCalostrum & 1            & 1            & ARG         \\\\\n",
       "\t 3            & teen         & 17           & boy          & ARGCalostrum & 1            & 1            & ARG         \\\\\n",
       "\t 4            & teen         & 16           & boy          & ARGCalostrum & 1            & 1            & ARG         \\\\\n",
       "\t 5            & teen         & 16           & NA           & ARGCalostrum & 2            & 1            & ARG         \\\\\n",
       "\t 6            & teen         & 16           & boy          & ARGCalostrum & 2            & 1            & ARG         \\\\\n",
       "\\end{tabular}\n"
      ],
      "text/markdown": [
       "\n",
       "id | group | age | sex | weekNames | level | week | AA | \n",
       "|---|---|---|---|---|---|\n",
       "| 1            | teen         | 17           | girl         | ARGCalostrum | 1            | 1            | ARG          | \n",
       "| 2            | teen         | 16           | boy          | ARGCalostrum | 1            | 1            | ARG          | \n",
       "| 3            | teen         | 17           | boy          | ARGCalostrum | 1            | 1            | ARG          | \n",
       "| 4            | teen         | 16           | boy          | ARGCalostrum | 1            | 1            | ARG          | \n",
       "| 5            | teen         | 16           | NA           | ARGCalostrum | 2            | 1            | ARG          | \n",
       "| 6            | teen         | 16           | boy          | ARGCalostrum | 2            | 1            | ARG          | \n",
       "\n",
       "\n"
      ],
      "text/plain": [
       "  id group age sex  weekNames    level week AA \n",
       "1 1  teen  17  girl ARGCalostrum 1     1    ARG\n",
       "2 2  teen  16  boy  ARGCalostrum 1     1    ARG\n",
       "3 3  teen  17  boy  ARGCalostrum 1     1    ARG\n",
       "4 4  teen  16  boy  ARGCalostrum 1     1    ARG\n",
       "5 5  teen  16  NA   ARGCalostrum 2     1    ARG\n",
       "6 6  teen  16  boy  ARGCalostrum 2     1    ARG"
      ]
     },
     "metadata": {},
     "output_type": "display_data"
    }
   ],
   "source": [
    "AA_NE_Long <- \n",
    "    AA_NE_Long %>% \n",
    "        mutate(week = gsub(\".*Calostrum.*\", \"1\", weekNames)) %>%\n",
    "        mutate(week = gsub(\".*Transition.*\", \"2\", week)) %>%\n",
    "        mutate(week = gsub(\".*Mature2m.*\", \"8\", week)) %>%\n",
    "        mutate(week = gsub(\".*Mature4m.*\", \"16\", week)) %>% \n",
    "        mutate(week = as.numeric(week))\n",
    "\n",
    "AA_NE_Long <- \n",
    "    AA_NE_Long %>% \n",
    "        mutate(AA = gsub(\"Calostrum.*\", \"\", weekNames)) %>%\n",
    "        mutate(AA = gsub(\"Transition.*\", \"\", AA)) %>%\n",
    "        mutate(AA = gsub(\"Mature2m.*\", \"\", AA)) %>%\n",
    "        mutate(AA = gsub(\"Mature4m.*\", \"\", AA))\n",
    "\n",
    "head(AA_NE_Long)"
   ]
  },
  {
   "cell_type": "markdown",
   "metadata": {},
   "source": [
    "## Weight and size of babies"
   ]
  },
  {
   "cell_type": "code",
   "execution_count": 8,
   "metadata": {},
   "outputs": [
    {
     "data": {
      "text/html": [
       "<table>\n",
       "<thead><tr><th scope=col>id</th><th scope=col>group</th><th scope=col>sex</th><th scope=col>BABYWeigth1g</th><th scope=col>BABYWeigth2g</th><th scope=col>BABYWeigth3g</th><th scope=col>BABYWeigth4g</th></tr></thead>\n",
       "<tbody>\n",
       "\t<tr><td>1      </td><td>teen   </td><td>girl   </td><td>3492.7 </td><td>3592.5 </td><td>5488.6 </td><td>8282.74</td></tr>\n",
       "\t<tr><td>2      </td><td>teen   </td><td>boy    </td><td>3392.9 </td><td>4091.5 </td><td>5987.5 </td><td>7883.57</td></tr>\n",
       "\t<tr><td>3      </td><td>teen   </td><td>boy    </td><td>2993.8 </td><td>3592.5 </td><td>    NA </td><td>     NA</td></tr>\n",
       "\t<tr><td>4      </td><td>teen   </td><td>boy    </td><td>3692.3 </td><td>    NA </td><td>    NA </td><td>     NA</td></tr>\n",
       "\t<tr><td>5      </td><td>teen   </td><td>NA     </td><td>3592.5 </td><td>    NA </td><td>    NA </td><td>     NA</td></tr>\n",
       "\t<tr><td>6      </td><td>teen   </td><td>boy    </td><td>3093.5 </td><td>3392.9 </td><td>4989.6 </td><td>6785.80</td></tr>\n",
       "</tbody>\n",
       "</table>\n"
      ],
      "text/latex": [
       "\\begin{tabular}{r|lllllll}\n",
       " id & group & sex & BABYWeigth1g & BABYWeigth2g & BABYWeigth3g & BABYWeigth4g\\\\\n",
       "\\hline\n",
       "\t 1       & teen    & girl    & 3492.7  & 3592.5  & 5488.6  & 8282.74\\\\\n",
       "\t 2       & teen    & boy     & 3392.9  & 4091.5  & 5987.5  & 7883.57\\\\\n",
       "\t 3       & teen    & boy     & 2993.8  & 3592.5  &     NA  &      NA\\\\\n",
       "\t 4       & teen    & boy     & 3692.3  &     NA  &     NA  &      NA\\\\\n",
       "\t 5       & teen    & NA      & 3592.5  &     NA  &     NA  &      NA\\\\\n",
       "\t 6       & teen    & boy     & 3093.5  & 3392.9  & 4989.6  & 6785.80\\\\\n",
       "\\end{tabular}\n"
      ],
      "text/markdown": [
       "\n",
       "id | group | sex | BABYWeigth1g | BABYWeigth2g | BABYWeigth3g | BABYWeigth4g | \n",
       "|---|---|---|---|---|---|\n",
       "| 1       | teen    | girl    | 3492.7  | 3592.5  | 5488.6  | 8282.74 | \n",
       "| 2       | teen    | boy     | 3392.9  | 4091.5  | 5987.5  | 7883.57 | \n",
       "| 3       | teen    | boy     | 2993.8  | 3592.5  |     NA  |      NA | \n",
       "| 4       | teen    | boy     | 3692.3  |     NA  |     NA  |      NA | \n",
       "| 5       | teen    | NA      | 3592.5  |     NA  |     NA  |      NA | \n",
       "| 6       | teen    | boy     | 3093.5  | 3392.9  | 4989.6  | 6785.80 | \n",
       "\n",
       "\n"
      ],
      "text/plain": [
       "  id group sex  BABYWeigth1g BABYWeigth2g BABYWeigth3g BABYWeigth4g\n",
       "1 1  teen  girl 3492.7       3592.5       5488.6       8282.74     \n",
       "2 2  teen  boy  3392.9       4091.5       5987.5       7883.57     \n",
       "3 3  teen  boy  2993.8       3592.5           NA            NA     \n",
       "4 4  teen  boy  3692.3           NA           NA            NA     \n",
       "5 5  teen  NA   3592.5           NA           NA            NA     \n",
       "6 6  teen  boy  3093.5       3392.9       4989.6       6785.80     "
      ]
     },
     "metadata": {},
     "output_type": "display_data"
    }
   ],
   "source": [
    "weight <- AA_Sex_1 %>% select(id = ID, group = GROUP, sex = SEXO, 10:13) %>% \n",
    "                        mutate(id = factor(id), \n",
    "                               sex =  factor(sex, labels = c('girl', 'boy')),\n",
    "                               group = factor(group, labels = c('teen', 'adult')))\n",
    "\n",
    "headC <- AA_Sex_1 %>% select(id = ID, group = GROUP, sex = SEXO, 14:17) %>% \n",
    "                        mutate(id = factor(id), \n",
    "                               sex =  factor(sex, labels = c('girl', 'boy')),\n",
    "                               group = factor(group, labels = c('teen', 'adult')))\n",
    "\n",
    "\n",
    "head(weight)"
   ]
  },
  {
   "cell_type": "code",
   "execution_count": 9,
   "metadata": {},
   "outputs": [
    {
     "name": "stderr",
     "output_type": "stream",
     "text": [
      "Warning message:\n",
      "\"attributes are not identical across measure variables; they will be dropped\"Warning message:\n",
      "\"attributes are not identical across measure variables; they will be dropped\""
     ]
    },
    {
     "data": {
      "text/html": [
       "<table>\n",
       "<thead><tr><th scope=col>id</th><th scope=col>group</th><th scope=col>sex</th><th scope=col>weekNames</th><th scope=col>weight</th></tr></thead>\n",
       "<tbody>\n",
       "\t<tr><td>4           </td><td>teen        </td><td>boy         </td><td>BABYWeigth1g</td><td>3692.3      </td></tr>\n",
       "\t<tr><td>4           </td><td>teen        </td><td>boy         </td><td>BABYWeigth2g</td><td>    NA      </td></tr>\n",
       "\t<tr><td>4           </td><td>teen        </td><td>boy         </td><td>BABYWeigth3g</td><td>    NA      </td></tr>\n",
       "\t<tr><td>4           </td><td>teen        </td><td>boy         </td><td>BABYWeigth4g</td><td>    NA      </td></tr>\n",
       "</tbody>\n",
       "</table>\n"
      ],
      "text/latex": [
       "\\begin{tabular}{r|lllll}\n",
       " id & group & sex & weekNames & weight\\\\\n",
       "\\hline\n",
       "\t 4            & teen         & boy          & BABYWeigth1g & 3692.3      \\\\\n",
       "\t 4            & teen         & boy          & BABYWeigth2g &     NA      \\\\\n",
       "\t 4            & teen         & boy          & BABYWeigth3g &     NA      \\\\\n",
       "\t 4            & teen         & boy          & BABYWeigth4g &     NA      \\\\\n",
       "\\end{tabular}\n"
      ],
      "text/markdown": [
       "\n",
       "id | group | sex | weekNames | weight | \n",
       "|---|---|---|---|\n",
       "| 4            | teen         | boy          | BABYWeigth1g | 3692.3       | \n",
       "| 4            | teen         | boy          | BABYWeigth2g |     NA       | \n",
       "| 4            | teen         | boy          | BABYWeigth3g |     NA       | \n",
       "| 4            | teen         | boy          | BABYWeigth4g |     NA       | \n",
       "\n",
       "\n"
      ],
      "text/plain": [
       "  id group sex weekNames    weight\n",
       "1 4  teen  boy BABYWeigth1g 3692.3\n",
       "2 4  teen  boy BABYWeigth2g     NA\n",
       "3 4  teen  boy BABYWeigth3g     NA\n",
       "4 4  teen  boy BABYWeigth4g     NA"
      ]
     },
     "metadata": {},
     "output_type": "display_data"
    },
    {
     "data": {
      "text/html": [
       "<table>\n",
       "<thead><tr><th scope=col>id</th><th scope=col>group</th><th scope=col>sex</th><th scope=col>weekNames</th><th scope=col>head</th></tr></thead>\n",
       "<tbody>\n",
       "\t<tr><td>4            </td><td>teen         </td><td>boy          </td><td>HeadCircumcm1</td><td>37           </td></tr>\n",
       "\t<tr><td>4            </td><td>teen         </td><td>boy          </td><td>HCcm2        </td><td>NA           </td></tr>\n",
       "\t<tr><td>4            </td><td>teen         </td><td>boy          </td><td>HCcm3        </td><td>NA           </td></tr>\n",
       "\t<tr><td>4            </td><td>teen         </td><td>boy          </td><td>HCcm4        </td><td>NA           </td></tr>\n",
       "</tbody>\n",
       "</table>\n"
      ],
      "text/latex": [
       "\\begin{tabular}{r|lllll}\n",
       " id & group & sex & weekNames & head\\\\\n",
       "\\hline\n",
       "\t 4             & teen          & boy           & HeadCircumcm1 & 37           \\\\\n",
       "\t 4             & teen          & boy           & HCcm2         & NA           \\\\\n",
       "\t 4             & teen          & boy           & HCcm3         & NA           \\\\\n",
       "\t 4             & teen          & boy           & HCcm4         & NA           \\\\\n",
       "\\end{tabular}\n"
      ],
      "text/markdown": [
       "\n",
       "id | group | sex | weekNames | head | \n",
       "|---|---|---|---|\n",
       "| 4             | teen          | boy           | HeadCircumcm1 | 37            | \n",
       "| 4             | teen          | boy           | HCcm2         | NA            | \n",
       "| 4             | teen          | boy           | HCcm3         | NA            | \n",
       "| 4             | teen          | boy           | HCcm4         | NA            | \n",
       "\n",
       "\n"
      ],
      "text/plain": [
       "  id group sex weekNames     head\n",
       "1 4  teen  boy HeadCircumcm1 37  \n",
       "2 4  teen  boy HCcm2         NA  \n",
       "3 4  teen  boy HCcm3         NA  \n",
       "4 4  teen  boy HCcm4         NA  "
      ]
     },
     "metadata": {},
     "output_type": "display_data"
    }
   ],
   "source": [
    "weightLong <- weight %>% gather(weekNames, weight, -id, -group, -sex)\n",
    "headCLong <- headC %>% gather(weekNames, head, -id, -group, -sex)\n",
    "\n",
    "weightLong %>% filter(id == 4)\n",
    "headCLong %>% filter(id == 4)"
   ]
  },
  {
   "cell_type": "code",
   "execution_count": 10,
   "metadata": {},
   "outputs": [
    {
     "data": {
      "text/html": [
       "<table>\n",
       "<thead><tr><th scope=col>id</th><th scope=col>group</th><th scope=col>sex</th><th scope=col>weekNames</th><th scope=col>weight</th><th scope=col>week</th></tr></thead>\n",
       "<tbody>\n",
       "\t<tr><td>1           </td><td>teen        </td><td>girl        </td><td>BABYWeigth1g</td><td>3492.70     </td><td> 1          </td></tr>\n",
       "\t<tr><td>1           </td><td>teen        </td><td>girl        </td><td>BABYWeigth2g</td><td>3592.50     </td><td> 2          </td></tr>\n",
       "\t<tr><td>1           </td><td>teen        </td><td>girl        </td><td>BABYWeigth3g</td><td>5488.60     </td><td> 8          </td></tr>\n",
       "\t<tr><td>1           </td><td>teen        </td><td>girl        </td><td>BABYWeigth4g</td><td>8282.74     </td><td>16          </td></tr>\n",
       "</tbody>\n",
       "</table>\n"
      ],
      "text/latex": [
       "\\begin{tabular}{r|llllll}\n",
       " id & group & sex & weekNames & weight & week\\\\\n",
       "\\hline\n",
       "\t 1            & teen         & girl         & BABYWeigth1g & 3492.70      &  1          \\\\\n",
       "\t 1            & teen         & girl         & BABYWeigth2g & 3592.50      &  2          \\\\\n",
       "\t 1            & teen         & girl         & BABYWeigth3g & 5488.60      &  8          \\\\\n",
       "\t 1            & teen         & girl         & BABYWeigth4g & 8282.74      & 16          \\\\\n",
       "\\end{tabular}\n"
      ],
      "text/markdown": [
       "\n",
       "id | group | sex | weekNames | weight | week | \n",
       "|---|---|---|---|\n",
       "| 1            | teen         | girl         | BABYWeigth1g | 3492.70      |  1           | \n",
       "| 1            | teen         | girl         | BABYWeigth2g | 3592.50      |  2           | \n",
       "| 1            | teen         | girl         | BABYWeigth3g | 5488.60      |  8           | \n",
       "| 1            | teen         | girl         | BABYWeigth4g | 8282.74      | 16           | \n",
       "\n",
       "\n"
      ],
      "text/plain": [
       "  id group sex  weekNames    weight  week\n",
       "1 1  teen  girl BABYWeigth1g 3492.70  1  \n",
       "2 1  teen  girl BABYWeigth2g 3592.50  2  \n",
       "3 1  teen  girl BABYWeigth3g 5488.60  8  \n",
       "4 1  teen  girl BABYWeigth4g 8282.74 16  "
      ]
     },
     "metadata": {},
     "output_type": "display_data"
    }
   ],
   "source": [
    "weightLong <- \n",
    "    weightLong %>% \n",
    "        mutate(week = gsub(\".*1g\", \"1\", weekNames)) %>%\n",
    "        mutate(week = gsub(\".*2g\", \"2\", week)) %>%\n",
    "        mutate(week = gsub(\".*3g\", \"8\", week)) %>%\n",
    "        mutate(week = gsub(\".*4g\", \"16\", week)) %>% \n",
    "        mutate(week = as.numeric(week))\n",
    "\n",
    "weightLong %>% filter(id == 1)"
   ]
  },
  {
   "cell_type": "code",
   "execution_count": 11,
   "metadata": {},
   "outputs": [
    {
     "data": {
      "text/html": [
       "<table>\n",
       "<thead><tr><th scope=col>id</th><th scope=col>group</th><th scope=col>sex</th><th scope=col>weekNames</th><th scope=col>head</th><th scope=col>week</th></tr></thead>\n",
       "<tbody>\n",
       "\t<tr><td>1            </td><td>teen         </td><td>girl         </td><td>HeadCircumcm1</td><td>34           </td><td> 1           </td></tr>\n",
       "\t<tr><td>1            </td><td>teen         </td><td>girl         </td><td>HCcm2        </td><td>37           </td><td> 2           </td></tr>\n",
       "\t<tr><td>1            </td><td>teen         </td><td>girl         </td><td>HCcm3        </td><td>39           </td><td> 8           </td></tr>\n",
       "\t<tr><td>1            </td><td>teen         </td><td>girl         </td><td>HCcm4        </td><td>42           </td><td>16           </td></tr>\n",
       "</tbody>\n",
       "</table>\n"
      ],
      "text/latex": [
       "\\begin{tabular}{r|llllll}\n",
       " id & group & sex & weekNames & head & week\\\\\n",
       "\\hline\n",
       "\t 1             & teen          & girl          & HeadCircumcm1 & 34            &  1           \\\\\n",
       "\t 1             & teen          & girl          & HCcm2         & 37            &  2           \\\\\n",
       "\t 1             & teen          & girl          & HCcm3         & 39            &  8           \\\\\n",
       "\t 1             & teen          & girl          & HCcm4         & 42            & 16           \\\\\n",
       "\\end{tabular}\n"
      ],
      "text/markdown": [
       "\n",
       "id | group | sex | weekNames | head | week | \n",
       "|---|---|---|---|\n",
       "| 1             | teen          | girl          | HeadCircumcm1 | 34            |  1            | \n",
       "| 1             | teen          | girl          | HCcm2         | 37            |  2            | \n",
       "| 1             | teen          | girl          | HCcm3         | 39            |  8            | \n",
       "| 1             | teen          | girl          | HCcm4         | 42            | 16            | \n",
       "\n",
       "\n"
      ],
      "text/plain": [
       "  id group sex  weekNames     head week\n",
       "1 1  teen  girl HeadCircumcm1 34    1  \n",
       "2 1  teen  girl HCcm2         37    2  \n",
       "3 1  teen  girl HCcm3         39    8  \n",
       "4 1  teen  girl HCcm4         42   16  "
      ]
     },
     "metadata": {},
     "output_type": "display_data"
    }
   ],
   "source": [
    "headCLong <- \n",
    "    headCLong %>% \n",
    "        mutate(week = gsub(\".*cm1\", \"1\", weekNames)) %>%\n",
    "        mutate(week = gsub(\".*cm2\", \"2\", week)) %>%\n",
    "        mutate(week = gsub(\".*cm3\", \"8\", week)) %>%\n",
    "        mutate(week = gsub(\".*cm4\", \"16\", week)) %>% \n",
    "        mutate(week = as.numeric(week))\n",
    "\n",
    "headCLong %>% filter(id == 1)"
   ]
  },
  {
   "cell_type": "code",
   "execution_count": 12,
   "metadata": {},
   "outputs": [
    {
     "data": {},
     "metadata": {},
     "output_type": "display_data"
    },
    {
     "data": {
      "image/png": "[encoded data removed]",
      "text/plain": [
       "plot without title"
      ]
     },
     "metadata": {},
     "output_type": "display_data"
    }
   ],
   "source": [
    "weightDist <- weightLong %>% filter(!is.na(sex)) %>% group_by(sex, week) %>% \n",
    "        summarise(mean = mean(weight, na.rm = T), sd = sd(weight, na.rm = T))\n",
    "\n",
    "#png(filename=\"./plots/weight.png\", units=\"cm\", width=15, height=15, res = 300)\n",
    "ggplot(weightDist, aes(x = week, y = mean, color = sex)) + \n",
    "    geom_point() + \n",
    "    #geom_linerange(aes(ymin = mean - 2*sd, ymax = mean + 2*sd)) + \n",
    "    geom_line() + #geom_smooth(method = lm, se = F) +\n",
    "    theme(aspect.ratio = 1) +\n",
    "    ggtitle('Weight over time') + ylab('mean weight')\n",
    "#dev.off()"
   ]
  },
  {
   "cell_type": "code",
   "execution_count": 13,
   "metadata": {},
   "outputs": [
    {
     "data": {},
     "metadata": {},
     "output_type": "display_data"
    },
    {
     "data": {
      "image/png": "[encoded data removed]",
      "text/plain": [
       "plot without title"
      ]
     },
     "metadata": {},
     "output_type": "display_data"
    }
   ],
   "source": [
    "headCDist <- headCLong %>% filter(!is.na(sex)) %>% group_by(sex, week) %>% \n",
    "        summarise(mean = mean(head, na.rm = T), sd = sd(head, na.rm = T))\n",
    "\n",
    "#png(filename=\"./plots/head_c.png\", units=\"cm\", width=15, height=15, res = 300)\n",
    "ggplot(headCDist, aes(x = week, y = mean, color = sex)) + \n",
    "    geom_point() + \n",
    "    #geom_errorbar(aes(ymin = mean - 2*sd, ymax = mean + 2*sd), alpha = 0.5) + \n",
    "    geom_line() + #geom_smooth(method = lm, se = F) +\n",
    "    theme(aspect.ratio = 1) +\n",
    "    ggtitle('Head Circumference over time') + ylab('mean head circumference')\n",
    "#dev.off()"
   ]
  },
  {
   "cell_type": "code",
   "execution_count": 14,
   "metadata": {},
   "outputs": [
    {
     "data": {
      "text/plain": [
       "\n",
       "Call:\n",
       "lm(formula = mean ~ week + sex + week:sex, data = weightDist)\n",
       "\n",
       "Residuals:\n",
       "      1       2       3       4       5       6       7       8 \n",
       "-142.77   58.29  165.70  -81.21 -279.17  276.06   40.34  -37.23 \n",
       "\n",
       "Coefficients:\n",
       "            Estimate Std. Error t value Pr(>|t|)    \n",
       "(Intercept)  3365.70     174.91  19.243  4.3e-05 ***\n",
       "week          223.54      19.40  11.520 0.000324 ***\n",
       "sexboy       -185.37     247.35  -0.749 0.495267    \n",
       "week:sexboy    32.75      27.44   1.194 0.298597    \n",
       "---\n",
       "Signif. codes:  0 '***' 0.001 '**' 0.01 '*' 0.05 '.' 0.1 ' ' 1\n",
       "\n",
       "Residual standard error: 231.8 on 4 degrees of freedom\n",
       "Multiple R-squared:  0.9871,\tAdjusted R-squared:  0.9775 \n",
       "F-statistic: 102.4 on 3 and 4 DF,  p-value: 0.0003084\n"
      ]
     },
     "metadata": {},
     "output_type": "display_data"
    }
   ],
   "source": [
    "summary(lm(weightDist, formula = mean ~ week + sex + week:sex))"
   ]
  },
  {
   "cell_type": "code",
   "execution_count": 15,
   "metadata": {},
   "outputs": [
    {
     "data": {
      "text/plain": [
       "\n",
       "Call:\n",
       "lm(formula = mean ~ week + sex + week:sex, data = headCDist)\n",
       "\n",
       "Residuals:\n",
       "      1       2       3       4       5       6       7       8 \n",
       "-0.9137  0.5435  0.7621 -0.3919 -0.7740  0.5162  0.5478 -0.2901 \n",
       "\n",
       "Coefficients:\n",
       "            Estimate Std. Error t value Pr(>|t|)    \n",
       "(Intercept) 34.07687    0.66572  51.188 8.72e-07 ***\n",
       "week         0.36628    0.07385   4.959  0.00771 ** \n",
       "sexboy       0.12198    0.94147   0.130  0.90317    \n",
       "week:sexboy  0.08387    0.10445   0.803  0.46700    \n",
       "---\n",
       "Signif. codes:  0 '***' 0.001 '**' 0.01 '*' 0.05 '.' 0.1 ' ' 1\n",
       "\n",
       "Residual standard error: 0.8824 on 4 degrees of freedom\n",
       "Multiple R-squared:  0.9403,\tAdjusted R-squared:  0.8955 \n",
       "F-statistic: 20.99 on 3 and 4 DF,  p-value: 0.006556\n"
      ]
     },
     "metadata": {},
     "output_type": "display_data"
    }
   ],
   "source": [
    "summary(lm(headCDist, formula = mean ~ week + sex + week:sex))"
   ]
  },
  {
   "cell_type": "code",
   "execution_count": 138,
   "metadata": {},
   "outputs": [
    {
     "data": {
      "text/html": [
       "<table>\n",
       "<thead><tr><th></th><th scope=col>BABYWeigth1g</th><th scope=col>BABYWeigth2g</th><th scope=col>BABYWeigth3g</th><th scope=col>BABYWeigth4g</th><th scope=col>HeadCircumcm1</th><th scope=col>HCcm2</th><th scope=col>HCcm3</th><th scope=col>HCcm4</th></tr></thead>\n",
       "<tbody>\n",
       "\t<tr><th scope=row>BABYWeigth1g</th><td>1.0000000  </td><td> 0.18492505</td><td>0.6236000  </td><td>0.3964243  </td><td>0.52235889 </td><td>0.5382875  </td><td>0.5883136  </td><td> 0.19971893</td></tr>\n",
       "\t<tr><th scope=row>BABYWeigth2g</th><td>0.1849250  </td><td> 1.00000000</td><td>0.3589664  </td><td>0.2509749  </td><td>0.07017043 </td><td>0.2817560  </td><td>0.1265833  </td><td>-0.08215091</td></tr>\n",
       "\t<tr><th scope=row>BABYWeigth3g</th><td>0.6236000  </td><td> 0.35896645</td><td>1.0000000  </td><td>0.7727088  </td><td>0.78427813 </td><td>0.8303841  </td><td>0.8158937  </td><td> 0.54844962</td></tr>\n",
       "\t<tr><th scope=row>BABYWeigth4g</th><td>0.3964243  </td><td> 0.25097489</td><td>0.7727088  </td><td>1.0000000  </td><td>0.66359782 </td><td>0.6963510  </td><td>0.7417554  </td><td> 0.68986933</td></tr>\n",
       "\t<tr><th scope=row>HeadCircumcm1</th><td>0.5223589  </td><td> 0.07017043</td><td>0.7842781  </td><td>0.6635978  </td><td>1.00000000 </td><td>0.8338292  </td><td>0.8214121  </td><td> 0.75736063</td></tr>\n",
       "\t<tr><th scope=row>HCcm2</th><td>0.5382875  </td><td> 0.28175596</td><td>0.8303841  </td><td>0.6963510  </td><td>0.83382922 </td><td>1.0000000  </td><td>0.7285378  </td><td> 0.64730848</td></tr>\n",
       "\t<tr><th scope=row>HCcm3</th><td>0.5883136  </td><td> 0.12658332</td><td>0.8158937  </td><td>0.7417554  </td><td>0.82141209 </td><td>0.7285378  </td><td>1.0000000  </td><td> 0.74281294</td></tr>\n",
       "\t<tr><th scope=row>HCcm4</th><td>0.1997189  </td><td>-0.08215091</td><td>0.5484496  </td><td>0.6898693  </td><td>0.75736063 </td><td>0.6473085  </td><td>0.7428129  </td><td> 1.00000000</td></tr>\n",
       "</tbody>\n",
       "</table>\n"
      ],
      "text/latex": [
       "\\begin{tabular}{r|llllllll}\n",
       "  & BABYWeigth1g & BABYWeigth2g & BABYWeigth3g & BABYWeigth4g & HeadCircumcm1 & HCcm2 & HCcm3 & HCcm4\\\\\n",
       "\\hline\n",
       "\tBABYWeigth1g & 1.0000000   &  0.18492505 & 0.6236000   & 0.3964243   & 0.52235889  & 0.5382875   & 0.5883136   &  0.19971893\\\\\n",
       "\tBABYWeigth2g & 0.1849250   &  1.00000000 & 0.3589664   & 0.2509749   & 0.07017043  & 0.2817560   & 0.1265833   & -0.08215091\\\\\n",
       "\tBABYWeigth3g & 0.6236000   &  0.35896645 & 1.0000000   & 0.7727088   & 0.78427813  & 0.8303841   & 0.8158937   &  0.54844962\\\\\n",
       "\tBABYWeigth4g & 0.3964243   &  0.25097489 & 0.7727088   & 1.0000000   & 0.66359782  & 0.6963510   & 0.7417554   &  0.68986933\\\\\n",
       "\tHeadCircumcm1 & 0.5223589   &  0.07017043 & 0.7842781   & 0.6635978   & 1.00000000  & 0.8338292   & 0.8214121   &  0.75736063\\\\\n",
       "\tHCcm2 & 0.5382875   &  0.28175596 & 0.8303841   & 0.6963510   & 0.83382922  & 1.0000000   & 0.7285378   &  0.64730848\\\\\n",
       "\tHCcm3 & 0.5883136   &  0.12658332 & 0.8158937   & 0.7417554   & 0.82141209  & 0.7285378   & 1.0000000   &  0.74281294\\\\\n",
       "\tHCcm4 & 0.1997189   & -0.08215091 & 0.5484496   & 0.6898693   & 0.75736063  & 0.6473085   & 0.7428129   &  1.00000000\\\\\n",
       "\\end{tabular}\n"
      ],
      "text/markdown": [
       "\n",
       "| <!--/--> | BABYWeigth1g | BABYWeigth2g | BABYWeigth3g | BABYWeigth4g | HeadCircumcm1 | HCcm2 | HCcm3 | HCcm4 | \n",
       "|---|---|---|---|---|---|---|---|\n",
       "| BABYWeigth1g | 1.0000000   |  0.18492505 | 0.6236000   | 0.3964243   | 0.52235889  | 0.5382875   | 0.5883136   |  0.19971893 | \n",
       "| BABYWeigth2g | 0.1849250   |  1.00000000 | 0.3589664   | 0.2509749   | 0.07017043  | 0.2817560   | 0.1265833   | -0.08215091 | \n",
       "| BABYWeigth3g | 0.6236000   |  0.35896645 | 1.0000000   | 0.7727088   | 0.78427813  | 0.8303841   | 0.8158937   |  0.54844962 | \n",
       "| BABYWeigth4g | 0.3964243   |  0.25097489 | 0.7727088   | 1.0000000   | 0.66359782  | 0.6963510   | 0.7417554   |  0.68986933 | \n",
       "| HeadCircumcm1 | 0.5223589   |  0.07017043 | 0.7842781   | 0.6635978   | 1.00000000  | 0.8338292   | 0.8214121   |  0.75736063 | \n",
       "| HCcm2 | 0.5382875   |  0.28175596 | 0.8303841   | 0.6963510   | 0.83382922  | 1.0000000   | 0.7285378   |  0.64730848 | \n",
       "| HCcm3 | 0.5883136   |  0.12658332 | 0.8158937   | 0.7417554   | 0.82141209  | 0.7285378   | 1.0000000   |  0.74281294 | \n",
       "| HCcm4 | 0.1997189   | -0.08215091 | 0.5484496   | 0.6898693   | 0.75736063  | 0.6473085   | 0.7428129   |  1.00000000 | \n",
       "\n",
       "\n"
      ],
      "text/plain": [
       "              BABYWeigth1g BABYWeigth2g BABYWeigth3g BABYWeigth4g HeadCircumcm1\n",
       "BABYWeigth1g  1.0000000     0.18492505  0.6236000    0.3964243    0.52235889   \n",
       "BABYWeigth2g  0.1849250     1.00000000  0.3589664    0.2509749    0.07017043   \n",
       "BABYWeigth3g  0.6236000     0.35896645  1.0000000    0.7727088    0.78427813   \n",
       "BABYWeigth4g  0.3964243     0.25097489  0.7727088    1.0000000    0.66359782   \n",
       "HeadCircumcm1 0.5223589     0.07017043  0.7842781    0.6635978    1.00000000   \n",
       "HCcm2         0.5382875     0.28175596  0.8303841    0.6963510    0.83382922   \n",
       "HCcm3         0.5883136     0.12658332  0.8158937    0.7417554    0.82141209   \n",
       "HCcm4         0.1997189    -0.08215091  0.5484496    0.6898693    0.75736063   \n",
       "              HCcm2     HCcm3     HCcm4      \n",
       "BABYWeigth1g  0.5382875 0.5883136  0.19971893\n",
       "BABYWeigth2g  0.2817560 0.1265833 -0.08215091\n",
       "BABYWeigth3g  0.8303841 0.8158937  0.54844962\n",
       "BABYWeigth4g  0.6963510 0.7417554  0.68986933\n",
       "HeadCircumcm1 0.8338292 0.8214121  0.75736063\n",
       "HCcm2         1.0000000 0.7285378  0.64730848\n",
       "HCcm3         0.7285378 1.0000000  0.74281294\n",
       "HCcm4         0.6473085 0.7428129  1.00000000"
      ]
     },
     "metadata": {},
     "output_type": "display_data"
    }
   ],
   "source": [
    "weight %>% inner_join(headC, by = 'id') %>% select(contains('Weigth'), contains('cm')) %>% cor(use=\"complete.obs\")"
   ]
  },
  {
   "cell_type": "markdown",
   "metadata": {},
   "source": [
    "## Weight and size of babies = Week?"
   ]
  },
  {
   "cell_type": "code",
   "execution_count": 144,
   "metadata": {},
   "outputs": [
    {
     "data": {
      "text/html": [
       "<table>\n",
       "<thead><tr><th scope=col>sex</th><th scope=col>week</th><th scope=col>mean</th><th scope=col>sd</th></tr></thead>\n",
       "<tbody>\n",
       "\t<tr><td>girl     </td><td> 1       </td><td>33.52941 </td><td>0.8744746</td></tr>\n",
       "\t<tr><td>girl     </td><td> 2       </td><td>35.35294 </td><td>1.4116115</td></tr>\n",
       "\t<tr><td>girl     </td><td> 8       </td><td>37.76923 </td><td>1.0919284</td></tr>\n",
       "\t<tr><td>girl     </td><td>16       </td><td>39.54545 </td><td>1.3684763</td></tr>\n",
       "\t<tr><td>boy      </td><td> 1       </td><td>33.87500 </td><td>1.3619246</td></tr>\n",
       "\t<tr><td>boy      </td><td> 2       </td><td>35.61538 </td><td>1.3587324</td></tr>\n",
       "\t<tr><td>boy      </td><td> 8       </td><td>38.34783 </td><td>1.5553046</td></tr>\n",
       "\t<tr><td>boy      </td><td>16       </td><td>41.11111 </td><td>1.5676468</td></tr>\n",
       "</tbody>\n",
       "</table>\n"
      ],
      "text/latex": [
       "\\begin{tabular}{r|llll}\n",
       " sex & week & mean & sd\\\\\n",
       "\\hline\n",
       "\t girl      &  1        & 33.52941  & 0.8744746\\\\\n",
       "\t girl      &  2        & 35.35294  & 1.4116115\\\\\n",
       "\t girl      &  8        & 37.76923  & 1.0919284\\\\\n",
       "\t girl      & 16        & 39.54545  & 1.3684763\\\\\n",
       "\t boy       &  1        & 33.87500  & 1.3619246\\\\\n",
       "\t boy       &  2        & 35.61538  & 1.3587324\\\\\n",
       "\t boy       &  8        & 38.34783  & 1.5553046\\\\\n",
       "\t boy       & 16        & 41.11111  & 1.5676468\\\\\n",
       "\\end{tabular}\n"
      ],
      "text/markdown": [
       "\n",
       "sex | week | mean | sd | \n",
       "|---|---|---|---|---|---|---|---|\n",
       "| girl      |  1        | 33.52941  | 0.8744746 | \n",
       "| girl      |  2        | 35.35294  | 1.4116115 | \n",
       "| girl      |  8        | 37.76923  | 1.0919284 | \n",
       "| girl      | 16        | 39.54545  | 1.3684763 | \n",
       "| boy       |  1        | 33.87500  | 1.3619246 | \n",
       "| boy       |  2        | 35.61538  | 1.3587324 | \n",
       "| boy       |  8        | 38.34783  | 1.5553046 | \n",
       "| boy       | 16        | 41.11111  | 1.5676468 | \n",
       "\n",
       "\n"
      ],
      "text/plain": [
       "  sex  week mean     sd       \n",
       "1 girl  1   33.52941 0.8744746\n",
       "2 girl  2   35.35294 1.4116115\n",
       "3 girl  8   37.76923 1.0919284\n",
       "4 girl 16   39.54545 1.3684763\n",
       "5 boy   1   33.87500 1.3619246\n",
       "6 boy   2   35.61538 1.3587324\n",
       "7 boy   8   38.34783 1.5553046\n",
       "8 boy  16   41.11111 1.5676468"
      ]
     },
     "metadata": {},
     "output_type": "display_data"
    },
    {
     "data": {
      "text/html": [
       "<table>\n",
       "<thead><tr><th></th><th scope=col>week</th><th scope=col>mean</th></tr></thead>\n",
       "<tbody>\n",
       "\t<tr><th scope=row>week</th><td>1.0000000</td><td>0.9911695</td></tr>\n",
       "\t<tr><th scope=row>mean</th><td>0.9911695</td><td>1.0000000</td></tr>\n",
       "</tbody>\n",
       "</table>\n"
      ],
      "text/latex": [
       "\\begin{tabular}{r|ll}\n",
       "  & week & mean\\\\\n",
       "\\hline\n",
       "\tweek & 1.0000000 & 0.9911695\\\\\n",
       "\tmean & 0.9911695 & 1.0000000\\\\\n",
       "\\end{tabular}\n"
      ],
      "text/markdown": [
       "\n",
       "| <!--/--> | week | mean | \n",
       "|---|---|\n",
       "| week | 1.0000000 | 0.9911695 | \n",
       "| mean | 0.9911695 | 1.0000000 | \n",
       "\n",
       "\n"
      ],
      "text/plain": [
       "     week      mean     \n",
       "week 1.0000000 0.9911695\n",
       "mean 0.9911695 1.0000000"
      ]
     },
     "metadata": {},
     "output_type": "display_data"
    },
    {
     "data": {
      "text/html": [
       "<table>\n",
       "<thead><tr><th></th><th scope=col>week</th><th scope=col>mean</th></tr></thead>\n",
       "<tbody>\n",
       "\t<tr><th scope=row>week</th><td>1.0000000</td><td>0.9552353</td></tr>\n",
       "\t<tr><th scope=row>mean</th><td>0.9552353</td><td>1.0000000</td></tr>\n",
       "</tbody>\n",
       "</table>\n"
      ],
      "text/latex": [
       "\\begin{tabular}{r|ll}\n",
       "  & week & mean\\\\\n",
       "\\hline\n",
       "\tweek & 1.0000000 & 0.9552353\\\\\n",
       "\tmean & 0.9552353 & 1.0000000\\\\\n",
       "\\end{tabular}\n"
      ],
      "text/markdown": [
       "\n",
       "| <!--/--> | week | mean | \n",
       "|---|---|\n",
       "| week | 1.0000000 | 0.9552353 | \n",
       "| mean | 0.9552353 | 1.0000000 | \n",
       "\n",
       "\n"
      ],
      "text/plain": [
       "     week      mean     \n",
       "week 1.0000000 0.9552353\n",
       "mean 0.9552353 1.0000000"
      ]
     },
     "metadata": {},
     "output_type": "display_data"
    }
   ],
   "source": [
    "headCDist\n",
    "cor(weightDist[2:3])\n",
    "cor(headCDist[2:3])"
   ]
  },
  {
   "cell_type": "markdown",
   "metadata": {},
   "source": [
    "### Weight and size effect on AA:\n",
    "\n",
    "$AA = \\alpha_0 + \\alpha_1 \\ week + \\alpha_2 \\ sex + \\alpha_3 \\ weight + \\alpha_4 \\ sex \\times weight + \\alpha_{id}$\n",
    "\n",
    "and \n",
    "\n",
    "$AA = \\alpha_0 + \\alpha_1 \\ week + \\alpha_2 \\ sex + \\alpha_3 \\ head + \\alpha_4 \\ sex \\times head + \\alpha_{id}$"
   ]
  },
  {
   "cell_type": "code",
   "execution_count": 17,
   "metadata": {
    "collapsed": true
   },
   "outputs": [],
   "source": [
    "meWeight <- function(df){\n",
    "    \n",
    "    me <- lmer(level ~ sex + week + weight + sex:weight + (1 | id), data = df)\n",
    "    \n",
    "    return(me)\n",
    "}"
   ]
  },
  {
   "cell_type": "code",
   "execution_count": 18,
   "metadata": {
    "collapsed": true
   },
   "outputs": [],
   "source": [
    "meHead <- function(df){\n",
    "    \n",
    "    me <- lmer(level ~ sex + week + head + sex:head + (1 | id), data = df)\n",
    "    \n",
    "    return(me)\n",
    "}"
   ]
  },
  {
   "cell_type": "code",
   "execution_count": 19,
   "metadata": {
    "collapsed": true
   },
   "outputs": [],
   "source": [
    "AA_E_Nested <- AA_E_Long %>% group_by(AA) %>% nest()\n",
    "AA_NE_Nested <- AA_NE_Long %>% group_by(AA) %>% nest()"
   ]
  },
  {
   "cell_type": "code",
   "execution_count": 20,
   "metadata": {
    "collapsed": true
   },
   "outputs": [],
   "source": [
    "nAA_E <- length(AA_E_Nested$AA)\n",
    "nAA_NE <- length(AA_NE_Nested$AA)"
   ]
  },
  {
   "cell_type": "code",
   "execution_count": 21,
   "metadata": {},
   "outputs": [
    {
     "data": {
      "text/html": [
       "<table>\n",
       "<thead><tr><th scope=col>id</th><th scope=col>group</th><th scope=col>age</th><th scope=col>sex</th><th scope=col>weekNames</th><th scope=col>level</th><th scope=col>week</th></tr></thead>\n",
       "<tbody>\n",
       "\t<tr><td>2            </td><td>teen         </td><td>16           </td><td>boy          </td><td>HISCalostrum </td><td>1            </td><td> 1           </td></tr>\n",
       "\t<tr><td>2            </td><td>teen         </td><td>16           </td><td>boy          </td><td>HISTransition</td><td>3            </td><td> 2           </td></tr>\n",
       "\t<tr><td>2            </td><td>teen         </td><td>16           </td><td>boy          </td><td>HISMature2m  </td><td>2            </td><td> 8           </td></tr>\n",
       "\t<tr><td>2            </td><td>teen         </td><td>16           </td><td>boy          </td><td>HISMature4m  </td><td>2            </td><td>16           </td></tr>\n",
       "</tbody>\n",
       "</table>\n"
      ],
      "text/latex": [
       "\\begin{tabular}{r|lllllll}\n",
       " id & group & age & sex & weekNames & level & week\\\\\n",
       "\\hline\n",
       "\t 2             & teen          & 16            & boy           & HISCalostrum  & 1             &  1           \\\\\n",
       "\t 2             & teen          & 16            & boy           & HISTransition & 3             &  2           \\\\\n",
       "\t 2             & teen          & 16            & boy           & HISMature2m   & 2             &  8           \\\\\n",
       "\t 2             & teen          & 16            & boy           & HISMature4m   & 2             & 16           \\\\\n",
       "\\end{tabular}\n"
      ],
      "text/markdown": [
       "\n",
       "id | group | age | sex | weekNames | level | week | \n",
       "|---|---|---|---|\n",
       "| 2             | teen          | 16            | boy           | HISCalostrum  | 1             |  1            | \n",
       "| 2             | teen          | 16            | boy           | HISTransition | 3             |  2            | \n",
       "| 2             | teen          | 16            | boy           | HISMature2m   | 2             |  8            | \n",
       "| 2             | teen          | 16            | boy           | HISMature4m   | 2             | 16            | \n",
       "\n",
       "\n"
      ],
      "text/plain": [
       "  id group age sex weekNames     level week\n",
       "1 2  teen  16  boy HISCalostrum  1      1  \n",
       "2 2  teen  16  boy HISTransition 3      2  \n",
       "3 2  teen  16  boy HISMature2m   2      8  \n",
       "4 2  teen  16  boy HISMature4m   2     16  "
      ]
     },
     "metadata": {},
     "output_type": "display_data"
    }
   ],
   "source": [
    "AA_E_Nested$data[[1]] %>% filter(id == 2)"
   ]
  },
  {
   "cell_type": "code",
   "execution_count": 22,
   "metadata": {},
   "outputs": [
    {
     "data": {
      "text/html": [
       "<table>\n",
       "<thead><tr><th scope=col>id</th><th scope=col>weight</th><th scope=col>week</th></tr></thead>\n",
       "<tbody>\n",
       "\t<tr><td>2      </td><td>3.39290</td><td> 1     </td></tr>\n",
       "\t<tr><td>2      </td><td>4.09150</td><td> 2     </td></tr>\n",
       "\t<tr><td>2      </td><td>5.98750</td><td> 8     </td></tr>\n",
       "\t<tr><td>2      </td><td>7.88357</td><td>16     </td></tr>\n",
       "</tbody>\n",
       "</table>\n"
      ],
      "text/latex": [
       "\\begin{tabular}{r|lll}\n",
       " id & weight & week\\\\\n",
       "\\hline\n",
       "\t 2       & 3.39290 &  1     \\\\\n",
       "\t 2       & 4.09150 &  2     \\\\\n",
       "\t 2       & 5.98750 &  8     \\\\\n",
       "\t 2       & 7.88357 & 16     \\\\\n",
       "\\end{tabular}\n"
      ],
      "text/markdown": [
       "\n",
       "id | weight | week | \n",
       "|---|---|---|---|\n",
       "| 2       | 3.39290 |  1      | \n",
       "| 2       | 4.09150 |  2      | \n",
       "| 2       | 5.98750 |  8      | \n",
       "| 2       | 7.88357 | 16      | \n",
       "\n",
       "\n"
      ],
      "text/plain": [
       "  id weight  week\n",
       "1 2  3.39290  1  \n",
       "2 2  4.09150  2  \n",
       "3 2  5.98750  8  \n",
       "4 2  7.88357 16  "
      ]
     },
     "metadata": {},
     "output_type": "display_data"
    }
   ],
   "source": [
    "w <- weightLong %>% select(id, weight, week) %>% mutate(weight = weight/1000)\n",
    "w %>% filter(id == 2)"
   ]
  },
  {
   "cell_type": "code",
   "execution_count": 23,
   "metadata": {},
   "outputs": [
    {
     "data": {
      "text/html": [
       "<table>\n",
       "<thead><tr><th scope=col>id</th><th scope=col>head</th><th scope=col>week</th></tr></thead>\n",
       "<tbody>\n",
       "\t<tr><td>2 </td><td>35</td><td> 1</td></tr>\n",
       "\t<tr><td>2 </td><td>37</td><td> 2</td></tr>\n",
       "\t<tr><td>2 </td><td>38</td><td> 8</td></tr>\n",
       "\t<tr><td>2 </td><td>41</td><td>16</td></tr>\n",
       "</tbody>\n",
       "</table>\n"
      ],
      "text/latex": [
       "\\begin{tabular}{r|lll}\n",
       " id & head & week\\\\\n",
       "\\hline\n",
       "\t 2  & 35 &  1\\\\\n",
       "\t 2  & 37 &  2\\\\\n",
       "\t 2  & 38 &  8\\\\\n",
       "\t 2  & 41 & 16\\\\\n",
       "\\end{tabular}\n"
      ],
      "text/markdown": [
       "\n",
       "id | head | week | \n",
       "|---|---|---|---|\n",
       "| 2  | 35 |  1 | \n",
       "| 2  | 37 |  2 | \n",
       "| 2  | 38 |  8 | \n",
       "| 2  | 41 | 16 | \n",
       "\n",
       "\n"
      ],
      "text/plain": [
       "  id head week\n",
       "1 2  35    1  \n",
       "2 2  37    2  \n",
       "3 2  38    8  \n",
       "4 2  41   16  "
      ]
     },
     "metadata": {},
     "output_type": "display_data"
    }
   ],
   "source": [
    "hc <- headCLong %>% select(id, head, week) \n",
    "hc %>% filter(id == 2)"
   ]
  },
  {
   "cell_type": "code",
   "execution_count": 24,
   "metadata": {},
   "outputs": [
    {
     "data": {
      "text/html": [
       "<table>\n",
       "<thead><tr><th scope=col>id</th><th scope=col>group</th><th scope=col>age</th><th scope=col>sex</th><th scope=col>weekNames</th><th scope=col>level</th><th scope=col>week</th><th scope=col>weight</th><th scope=col>head</th></tr></thead>\n",
       "<tbody>\n",
       "\t<tr><td>2            </td><td>teen         </td><td>16           </td><td>boy          </td><td>HISCalostrum </td><td>1            </td><td> 1           </td><td>3.39290      </td><td>35           </td></tr>\n",
       "\t<tr><td>2            </td><td>teen         </td><td>16           </td><td>boy          </td><td>HISTransition</td><td>3            </td><td> 2           </td><td>4.09150      </td><td>37           </td></tr>\n",
       "\t<tr><td>2            </td><td>teen         </td><td>16           </td><td>boy          </td><td>HISMature2m  </td><td>2            </td><td> 8           </td><td>5.98750      </td><td>38           </td></tr>\n",
       "\t<tr><td>2            </td><td>teen         </td><td>16           </td><td>boy          </td><td>HISMature4m  </td><td>2            </td><td>16           </td><td>7.88357      </td><td>41           </td></tr>\n",
       "</tbody>\n",
       "</table>\n"
      ],
      "text/latex": [
       "\\begin{tabular}{r|lllllllll}\n",
       " id & group & age & sex & weekNames & level & week & weight & head\\\\\n",
       "\\hline\n",
       "\t 2             & teen          & 16            & boy           & HISCalostrum  & 1             &  1            & 3.39290       & 35           \\\\\n",
       "\t 2             & teen          & 16            & boy           & HISTransition & 3             &  2            & 4.09150       & 37           \\\\\n",
       "\t 2             & teen          & 16            & boy           & HISMature2m   & 2             &  8            & 5.98750       & 38           \\\\\n",
       "\t 2             & teen          & 16            & boy           & HISMature4m   & 2             & 16            & 7.88357       & 41           \\\\\n",
       "\\end{tabular}\n"
      ],
      "text/markdown": [
       "\n",
       "id | group | age | sex | weekNames | level | week | weight | head | \n",
       "|---|---|---|---|\n",
       "| 2             | teen          | 16            | boy           | HISCalostrum  | 1             |  1            | 3.39290       | 35            | \n",
       "| 2             | teen          | 16            | boy           | HISTransition | 3             |  2            | 4.09150       | 37            | \n",
       "| 2             | teen          | 16            | boy           | HISMature2m   | 2             |  8            | 5.98750       | 38            | \n",
       "| 2             | teen          | 16            | boy           | HISMature4m   | 2             | 16            | 7.88357       | 41            | \n",
       "\n",
       "\n"
      ],
      "text/plain": [
       "  id group age sex weekNames     level week weight  head\n",
       "1 2  teen  16  boy HISCalostrum  1      1   3.39290 35  \n",
       "2 2  teen  16  boy HISTransition 3      2   4.09150 37  \n",
       "3 2  teen  16  boy HISMature2m   2      8   5.98750 38  \n",
       "4 2  teen  16  boy HISMature4m   2     16   7.88357 41  "
      ]
     },
     "metadata": {},
     "output_type": "display_data"
    }
   ],
   "source": [
    "AA_E_Nested$data[[1]] %>% left_join(w, by = c('id', 'week')) %>% \n",
    "    left_join(hc, by = c('id', 'week')) %>% filter(id == 2)"
   ]
  },
  {
   "cell_type": "code",
   "execution_count": 25,
   "metadata": {
    "collapsed": true
   },
   "outputs": [],
   "source": [
    "me_E_W <- list()\n",
    "me_E_HC <- list()\n",
    "\n",
    "tidy_E_W <- list()\n",
    "tidy_E_HC <- list()\n",
    "\n",
    "for(i in 1:nAA_E){\n",
    "    \n",
    "    w <- weightLong %>% select(id, weight, week) %>% mutate(weight = weight/1000)\n",
    "    hc <- headCLong %>% select(id, head, week)\n",
    "    \n",
    "    AA_E_wh <- AA_E_Nested$data[[i]] %>% left_join(w, by = c('id', 'week')) %>% left_join(hc, by = c('id', 'week'))\n",
    "    \n",
    "    me_E_W[[i]] <- meWeight(AA_E_wh)\n",
    "    me_E_HC[[i]] <- meHead(AA_E_wh)\n",
    "    \n",
    "    tidy_E_W[[i]] <- tidy(me_E_W[[i]], effects = 'fixed') %>% mutate(AA = AA_E_Nested$AA[i])\n",
    "    tidy_E_HC[[i]] <- tidy(me_E_HC[[i]], effects = 'fixed') %>% mutate(AA = AA_E_Nested$AA[i])\n",
    "    \n",
    "}"
   ]
  },
  {
   "cell_type": "code",
   "execution_count": 26,
   "metadata": {
    "collapsed": true
   },
   "outputs": [],
   "source": [
    "me_NE_W <- list()\n",
    "me_NE_HC <- list()\n",
    "\n",
    "tidy_NE_W <- list()\n",
    "tidy_NE_HC <- list()\n",
    "\n",
    "for(i in 1:nAA_NE){\n",
    "    \n",
    "    w <- weightLong %>% select(id, weight, week) %>% mutate(weight = weight/1000)\n",
    "    hc <- headCLong %>% select(id, head, week)\n",
    "    \n",
    "    AA_NE_wh <- AA_NE_Nested$data[[i]] %>% left_join(w, by = c('id', 'week')) %>% left_join(hc, by = c('id', 'week'))\n",
    "    \n",
    "    me_NE_W[[i]] <- meWeight(AA_NE_wh)\n",
    "    me_NE_HC[[i]] <- meHead(AA_NE_wh)\n",
    "    \n",
    "    tidy_NE_W[[i]] <- tidy(me_NE_W[[i]], effects = 'fixed') %>% mutate(AA = AA_NE_Nested$AA[i])\n",
    "    tidy_NE_HC[[i]] <- tidy(me_NE_HC[[i]], effects = 'fixed') %>% mutate(AA = AA_NE_Nested$AA[i])\n",
    "    \n",
    "}"
   ]
  },
  {
   "cell_type": "code",
   "execution_count": 27,
   "metadata": {},
   "outputs": [
    {
     "data": {
      "text/plain": [
       "Linear mixed model fit by REML ['lmerMod']\n",
       "Formula: level ~ sex + week + weight + sex:weight + (1 | id)\n",
       "   Data: df\n",
       "REML criterion at convergence: 414.748\n",
       "Random effects:\n",
       " Groups   Name        Std.Dev.\n",
       " id       (Intercept) 0.3059  \n",
       " Residual             0.8614  \n",
       "Number of obs: 152, groups:  id, 54\n",
       "Fixed Effects:\n",
       "  (Intercept)         sexboy           week         weight  sexboy:weight  \n",
       "      1.53318       -0.16948       -0.02101        0.10194        0.06432  "
      ]
     },
     "metadata": {},
     "output_type": "display_data"
    },
    {
     "data": {
      "text/html": [
       "<table>\n",
       "<thead><tr><th scope=col>term</th><th scope=col>estimate</th><th scope=col>std.error</th><th scope=col>statistic</th><th scope=col>AA</th></tr></thead>\n",
       "<tbody>\n",
       "\t<tr><td>(Intercept)  </td><td> 1.53317965  </td><td>0.43026286   </td><td> 3.5633558   </td><td>HIS          </td></tr>\n",
       "\t<tr><td>sexboy       </td><td>-0.16947541  </td><td>0.45669894   </td><td>-0.3710878   </td><td>HIS          </td></tr>\n",
       "\t<tr><td>week         </td><td>-0.02101240  </td><td>0.02606095   </td><td>-0.8062794   </td><td>HIS          </td></tr>\n",
       "\t<tr><td>weight       </td><td> 0.10193713  </td><td>0.10959273   </td><td> 0.9301450   </td><td>HIS          </td></tr>\n",
       "\t<tr><td>sexboy:weight</td><td> 0.06431513  </td><td>0.09289172   </td><td> 0.6923667   </td><td>HIS          </td></tr>\n",
       "</tbody>\n",
       "</table>\n"
      ],
      "text/latex": [
       "\\begin{tabular}{r|lllll}\n",
       " term & estimate & std.error & statistic & AA\\\\\n",
       "\\hline\n",
       "\t (Intercept)   &  1.53317965   & 0.43026286    &  3.5633558    & HIS          \\\\\n",
       "\t sexboy        & -0.16947541   & 0.45669894    & -0.3710878    & HIS          \\\\\n",
       "\t week          & -0.02101240   & 0.02606095    & -0.8062794    & HIS          \\\\\n",
       "\t weight        &  0.10193713   & 0.10959273    &  0.9301450    & HIS          \\\\\n",
       "\t sexboy:weight &  0.06431513   & 0.09289172    &  0.6923667    & HIS          \\\\\n",
       "\\end{tabular}\n"
      ],
      "text/markdown": [
       "\n",
       "term | estimate | std.error | statistic | AA | \n",
       "|---|---|---|---|---|\n",
       "| (Intercept)   |  1.53317965   | 0.43026286    |  3.5633558    | HIS           | \n",
       "| sexboy        | -0.16947541   | 0.45669894    | -0.3710878    | HIS           | \n",
       "| week          | -0.02101240   | 0.02606095    | -0.8062794    | HIS           | \n",
       "| weight        |  0.10193713   | 0.10959273    |  0.9301450    | HIS           | \n",
       "| sexboy:weight |  0.06431513   | 0.09289172    |  0.6923667    | HIS           | \n",
       "\n",
       "\n"
      ],
      "text/plain": [
       "  term          estimate    std.error  statistic  AA \n",
       "1 (Intercept)    1.53317965 0.43026286  3.5633558 HIS\n",
       "2 sexboy        -0.16947541 0.45669894 -0.3710878 HIS\n",
       "3 week          -0.02101240 0.02606095 -0.8062794 HIS\n",
       "4 weight         0.10193713 0.10959273  0.9301450 HIS\n",
       "5 sexboy:weight  0.06431513 0.09289172  0.6923667 HIS"
      ]
     },
     "metadata": {},
     "output_type": "display_data"
    }
   ],
   "source": [
    "me_E_W[[1]]\n",
    "tidy_E_W[[1]]"
   ]
  },
  {
   "cell_type": "code",
   "execution_count": 28,
   "metadata": {},
   "outputs": [
    {
     "data": {
      "text/plain": [
       "Linear mixed model fit by REML ['lmerMod']\n",
       "Formula: level ~ sex + week + weight + sex:weight + (1 | id)\n",
       "   Data: df\n",
       "REML criterion at convergence: 1297.268\n",
       "Random effects:\n",
       " Groups   Name        Std.Dev.\n",
       " id       (Intercept)  8.048  \n",
       " Residual             16.771  \n",
       "Number of obs: 152, groups:  id, 54\n",
       "Fixed Effects:\n",
       "  (Intercept)         sexboy           week         weight  sexboy:weight  \n",
       "        3.231         -1.337          1.377          4.582          1.088  "
      ]
     },
     "metadata": {},
     "output_type": "display_data"
    },
    {
     "data": {
      "text/html": [
       "<table>\n",
       "<thead><tr><th scope=col>term</th><th scope=col>estimate</th><th scope=col>std.error</th><th scope=col>statistic</th><th scope=col>AA</th></tr></thead>\n",
       "<tbody>\n",
       "\t<tr><td>(Intercept)  </td><td> 3.230994    </td><td>8.6623510    </td><td> 0.3729928   </td><td>GLN          </td></tr>\n",
       "\t<tr><td>sexboy       </td><td>-1.337214    </td><td>9.1109235    </td><td>-0.1467704   </td><td>GLN          </td></tr>\n",
       "\t<tr><td>week         </td><td> 1.376701    </td><td>0.5236165    </td><td> 2.6292166   </td><td>GLN          </td></tr>\n",
       "\t<tr><td>weight       </td><td> 4.582458    </td><td>2.2020112    </td><td> 2.0810329   </td><td>GLN          </td></tr>\n",
       "\t<tr><td>sexboy:weight</td><td> 1.088165    </td><td>1.8337339    </td><td> 0.5934149   </td><td>GLN          </td></tr>\n",
       "</tbody>\n",
       "</table>\n"
      ],
      "text/latex": [
       "\\begin{tabular}{r|lllll}\n",
       " term & estimate & std.error & statistic & AA\\\\\n",
       "\\hline\n",
       "\t (Intercept)   &  3.230994     & 8.6623510     &  0.3729928    & GLN          \\\\\n",
       "\t sexboy        & -1.337214     & 9.1109235     & -0.1467704    & GLN          \\\\\n",
       "\t week          &  1.376701     & 0.5236165     &  2.6292166    & GLN          \\\\\n",
       "\t weight        &  4.582458     & 2.2020112     &  2.0810329    & GLN          \\\\\n",
       "\t sexboy:weight &  1.088165     & 1.8337339     &  0.5934149    & GLN          \\\\\n",
       "\\end{tabular}\n"
      ],
      "text/markdown": [
       "\n",
       "term | estimate | std.error | statistic | AA | \n",
       "|---|---|---|---|---|\n",
       "| (Intercept)   |  3.230994     | 8.6623510     |  0.3729928    | GLN           | \n",
       "| sexboy        | -1.337214     | 9.1109235     | -0.1467704    | GLN           | \n",
       "| week          |  1.376701     | 0.5236165     |  2.6292166    | GLN           | \n",
       "| weight        |  4.582458     | 2.2020112     |  2.0810329    | GLN           | \n",
       "| sexboy:weight |  1.088165     | 1.8337339     |  0.5934149    | GLN           | \n",
       "\n",
       "\n"
      ],
      "text/plain": [
       "  term          estimate  std.error statistic  AA \n",
       "1 (Intercept)    3.230994 8.6623510  0.3729928 GLN\n",
       "2 sexboy        -1.337214 9.1109235 -0.1467704 GLN\n",
       "3 week           1.376701 0.5236165  2.6292166 GLN\n",
       "4 weight         4.582458 2.2020112  2.0810329 GLN\n",
       "5 sexboy:weight  1.088165 1.8337339  0.5934149 GLN"
      ]
     },
     "metadata": {},
     "output_type": "display_data"
    }
   ],
   "source": [
    "me_NE_W[[8]]\n",
    "tidy_NE_W[[8]]"
   ]
  },
  {
   "cell_type": "code",
   "execution_count": 29,
   "metadata": {
    "collapsed": true
   },
   "outputs": [],
   "source": [
    "AA_E_Nested <- AA_E_Nested %>% mutate(model = me_E_W, tidy = tidy_E_W)\n",
    "AA_NE_Nested <- AA_NE_Nested %>% mutate(model = me_NE_W, tidy = tidy_NE_W)"
   ]
  },
  {
   "cell_type": "code",
   "execution_count": 85,
   "metadata": {},
   "outputs": [
    {
     "data": {
      "text/html": [
       "<table>\n",
       "<thead><tr><th scope=col>term</th><th scope=col>estimate</th><th scope=col>std.error</th><th scope=col>statistic</th><th scope=col>AA</th></tr></thead>\n",
       "<tbody>\n",
       "\t<tr><td>weight       </td><td> 0.1019371296</td><td>0.109592727  </td><td> 0.93014503  </td><td>HIS          </td></tr>\n",
       "\t<tr><td>sexboy:weight</td><td> 0.0643151323</td><td>0.092891716  </td><td> 0.69236671  </td><td>HIS          </td></tr>\n",
       "\t<tr><td>weight       </td><td>-0.0540401115</td><td>0.066129536  </td><td>-0.81718570  </td><td>ILE          </td></tr>\n",
       "\t<tr><td>sexboy:weight</td><td>-0.0159886334</td><td>0.054591905  </td><td>-0.29287553  </td><td>ILE          </td></tr>\n",
       "\t<tr><td>weight       </td><td>-0.0746737891</td><td>0.161428361  </td><td>-0.46258160  </td><td>LEU          </td></tr>\n",
       "\t<tr><td>sexboy:weight</td><td> 0.0773194501</td><td>0.139249401  </td><td> 0.55525876  </td><td>LEU          </td></tr>\n",
       "\t<tr><td>weight       </td><td>-0.0724323102</td><td>0.160134195  </td><td>-0.45232257  </td><td>LYS          </td></tr>\n",
       "\t<tr><td>sexboy:weight</td><td>-0.1375761390</td><td>0.136003405  </td><td>-1.01156393  </td><td>LYS          </td></tr>\n",
       "\t<tr><td>weight       </td><td>-0.0258857011</td><td>0.041561937  </td><td>-0.62282230  </td><td>MET          </td></tr>\n",
       "\t<tr><td>sexboy:weight</td><td> 0.0201771097</td><td>0.035202447  </td><td> 0.57317349  </td><td>MET          </td></tr>\n",
       "\t<tr><td>weight       </td><td> 0.0761024083</td><td>0.063475682  </td><td> 1.19892226  </td><td>PHE          </td></tr>\n",
       "\t<tr><td>sexboy:weight</td><td>-0.0112185491</td><td>0.055028329  </td><td>-0.20386861  </td><td>PHE          </td></tr>\n",
       "\t<tr><td>weight       </td><td>-0.4198214822</td><td>0.330309181  </td><td>-1.27099550  </td><td>THR          </td></tr>\n",
       "\t<tr><td>sexboy:weight</td><td> 0.0715190901</td><td>0.267036530  </td><td> 0.26782512  </td><td>THR          </td></tr>\n",
       "\t<tr><td>weight       </td><td>-0.0005881584</td><td>0.009810711  </td><td>-0.05995064  </td><td>TRP          </td></tr>\n",
       "\t<tr><td>sexboy:weight</td><td>-0.0062372534</td><td>0.008570104  </td><td>-0.72779204  </td><td>TRP          </td></tr>\n",
       "\t<tr><td>weight       </td><td> 0.0430747837</td><td>0.176128642  </td><td> 0.24456433  </td><td>VAL          </td></tr>\n",
       "\t<tr><td>sexboy:weight</td><td>-0.0078354777</td><td>0.146768240  </td><td>-0.05338674  </td><td>VAL          </td></tr>\n",
       "</tbody>\n",
       "</table>\n"
      ],
      "text/latex": [
       "\\begin{tabular}{r|lllll}\n",
       " term & estimate & std.error & statistic & AA\\\\\n",
       "\\hline\n",
       "\t weight        &  0.1019371296 & 0.109592727   &  0.93014503   & HIS          \\\\\n",
       "\t sexboy:weight &  0.0643151323 & 0.092891716   &  0.69236671   & HIS          \\\\\n",
       "\t weight        & -0.0540401115 & 0.066129536   & -0.81718570   & ILE          \\\\\n",
       "\t sexboy:weight & -0.0159886334 & 0.054591905   & -0.29287553   & ILE          \\\\\n",
       "\t weight        & -0.0746737891 & 0.161428361   & -0.46258160   & LEU          \\\\\n",
       "\t sexboy:weight &  0.0773194501 & 0.139249401   &  0.55525876   & LEU          \\\\\n",
       "\t weight        & -0.0724323102 & 0.160134195   & -0.45232257   & LYS          \\\\\n",
       "\t sexboy:weight & -0.1375761390 & 0.136003405   & -1.01156393   & LYS          \\\\\n",
       "\t weight        & -0.0258857011 & 0.041561937   & -0.62282230   & MET          \\\\\n",
       "\t sexboy:weight &  0.0201771097 & 0.035202447   &  0.57317349   & MET          \\\\\n",
       "\t weight        &  0.0761024083 & 0.063475682   &  1.19892226   & PHE          \\\\\n",
       "\t sexboy:weight & -0.0112185491 & 0.055028329   & -0.20386861   & PHE          \\\\\n",
       "\t weight        & -0.4198214822 & 0.330309181   & -1.27099550   & THR          \\\\\n",
       "\t sexboy:weight &  0.0715190901 & 0.267036530   &  0.26782512   & THR          \\\\\n",
       "\t weight        & -0.0005881584 & 0.009810711   & -0.05995064   & TRP          \\\\\n",
       "\t sexboy:weight & -0.0062372534 & 0.008570104   & -0.72779204   & TRP          \\\\\n",
       "\t weight        &  0.0430747837 & 0.176128642   &  0.24456433   & VAL          \\\\\n",
       "\t sexboy:weight & -0.0078354777 & 0.146768240   & -0.05338674   & VAL          \\\\\n",
       "\\end{tabular}\n"
      ],
      "text/markdown": [
       "\n",
       "term | estimate | std.error | statistic | AA | \n",
       "|---|---|---|---|---|---|---|---|---|---|---|---|---|---|---|---|---|---|\n",
       "| weight        |  0.1019371296 | 0.109592727   |  0.93014503   | HIS           | \n",
       "| sexboy:weight |  0.0643151323 | 0.092891716   |  0.69236671   | HIS           | \n",
       "| weight        | -0.0540401115 | 0.066129536   | -0.81718570   | ILE           | \n",
       "| sexboy:weight | -0.0159886334 | 0.054591905   | -0.29287553   | ILE           | \n",
       "| weight        | -0.0746737891 | 0.161428361   | -0.46258160   | LEU           | \n",
       "| sexboy:weight |  0.0773194501 | 0.139249401   |  0.55525876   | LEU           | \n",
       "| weight        | -0.0724323102 | 0.160134195   | -0.45232257   | LYS           | \n",
       "| sexboy:weight | -0.1375761390 | 0.136003405   | -1.01156393   | LYS           | \n",
       "| weight        | -0.0258857011 | 0.041561937   | -0.62282230   | MET           | \n",
       "| sexboy:weight |  0.0201771097 | 0.035202447   |  0.57317349   | MET           | \n",
       "| weight        |  0.0761024083 | 0.063475682   |  1.19892226   | PHE           | \n",
       "| sexboy:weight | -0.0112185491 | 0.055028329   | -0.20386861   | PHE           | \n",
       "| weight        | -0.4198214822 | 0.330309181   | -1.27099550   | THR           | \n",
       "| sexboy:weight |  0.0715190901 | 0.267036530   |  0.26782512   | THR           | \n",
       "| weight        | -0.0005881584 | 0.009810711   | -0.05995064   | TRP           | \n",
       "| sexboy:weight | -0.0062372534 | 0.008570104   | -0.72779204   | TRP           | \n",
       "| weight        |  0.0430747837 | 0.176128642   |  0.24456433   | VAL           | \n",
       "| sexboy:weight | -0.0078354777 | 0.146768240   | -0.05338674   | VAL           | \n",
       "\n",
       "\n"
      ],
      "text/plain": [
       "   term          estimate      std.error   statistic   AA \n",
       "1  weight         0.1019371296 0.109592727  0.93014503 HIS\n",
       "2  sexboy:weight  0.0643151323 0.092891716  0.69236671 HIS\n",
       "3  weight        -0.0540401115 0.066129536 -0.81718570 ILE\n",
       "4  sexboy:weight -0.0159886334 0.054591905 -0.29287553 ILE\n",
       "5  weight        -0.0746737891 0.161428361 -0.46258160 LEU\n",
       "6  sexboy:weight  0.0773194501 0.139249401  0.55525876 LEU\n",
       "7  weight        -0.0724323102 0.160134195 -0.45232257 LYS\n",
       "8  sexboy:weight -0.1375761390 0.136003405 -1.01156393 LYS\n",
       "9  weight        -0.0258857011 0.041561937 -0.62282230 MET\n",
       "10 sexboy:weight  0.0201771097 0.035202447  0.57317349 MET\n",
       "11 weight         0.0761024083 0.063475682  1.19892226 PHE\n",
       "12 sexboy:weight -0.0112185491 0.055028329 -0.20386861 PHE\n",
       "13 weight        -0.4198214822 0.330309181 -1.27099550 THR\n",
       "14 sexboy:weight  0.0715190901 0.267036530  0.26782512 THR\n",
       "15 weight        -0.0005881584 0.009810711 -0.05995064 TRP\n",
       "16 sexboy:weight -0.0062372534 0.008570104 -0.72779204 TRP\n",
       "17 weight         0.0430747837 0.176128642  0.24456433 VAL\n",
       "18 sexboy:weight -0.0078354777 0.146768240 -0.05338674 VAL"
      ]
     },
     "metadata": {},
     "output_type": "display_data"
    },
    {
     "data": {
      "text/html": [
       "<table>\n",
       "<thead><tr><th scope=col>term</th><th scope=col>estimate</th><th scope=col>std.error</th><th scope=col>statistic</th><th scope=col>AA</th></tr></thead>\n",
       "<tbody>\n",
       "\t<tr><td>weight       </td><td> 0.009402506 </td><td>0.10533508   </td><td> 0.08926281  </td><td>ARG          </td></tr>\n",
       "\t<tr><td>sexboy:weight</td><td>-0.080371565 </td><td>0.08777944   </td><td>-0.91560807  </td><td>ARG          </td></tr>\n",
       "\t<tr><td>weight       </td><td> 0.326208627 </td><td>0.32017974   </td><td> 1.01882968  </td><td>ASP          </td></tr>\n",
       "\t<tr><td>sexboy:weight</td><td> 0.301673380 </td><td>0.26730708   </td><td> 1.12856488  </td><td>ASP          </td></tr>\n",
       "\t<tr><td>weight       </td><td> 0.859809499 </td><td>1.12997987   </td><td> 0.76090691  </td><td>ALA          </td></tr>\n",
       "\t<tr><td>sexboy:weight</td><td> 1.179983932 </td><td>0.95223371   </td><td> 1.23917471  </td><td>ALA          </td></tr>\n",
       "\t<tr><td>weight       </td><td>-0.198122983 </td><td>0.08360795   </td><td>-2.36966668  </td><td>ASN          </td></tr>\n",
       "\t<tr><td>sexboy:weight</td><td> 0.094610247 </td><td>0.07211628   </td><td> 1.31191247  </td><td>ASN          </td></tr>\n",
       "\t<tr><td>weight       </td><td>-0.070840653 </td><td>0.10781595   </td><td>-0.65705169  </td><td>CYS          </td></tr>\n",
       "\t<tr><td>sexboy:weight</td><td> 0.076718942 </td><td>0.08981499   </td><td> 0.85418866  </td><td>CYS          </td></tr>\n",
       "\t<tr><td>weight       </td><td> 0.417261517 </td><td>0.54423738   </td><td> 0.76669030  </td><td>GLY          </td></tr>\n",
       "\t<tr><td>sexboy:weight</td><td> 0.542122248 </td><td>0.45327911   </td><td> 1.19600096  </td><td>GLY          </td></tr>\n",
       "\t<tr><td>weight       </td><td> 6.306902302 </td><td>4.56295367   </td><td> 1.38219731  </td><td>GLU          </td></tr>\n",
       "\t<tr><td>sexboy:weight</td><td> 4.431094587 </td><td>3.80525545   </td><td> 1.16446705  </td><td>GLU          </td></tr>\n",
       "\t<tr><td>weight       </td><td> 4.582457892 </td><td>2.20201125   </td><td> 2.08103292  </td><td>GLN          </td></tr>\n",
       "\t<tr><td>sexboy:weight</td><td> 1.088164909 </td><td>1.83373386   </td><td> 0.59341485  </td><td>GLN          </td></tr>\n",
       "\t<tr><td>weight       </td><td>-0.366673836 </td><td>0.23830158   </td><td>-1.53869662  </td><td>PRO          </td></tr>\n",
       "\t<tr><td>sexboy:weight</td><td>-0.103643510 </td><td>0.19669183   </td><td>-0.52693349  </td><td>PRO          </td></tr>\n",
       "\t<tr><td>weight       </td><td> 0.519460606 </td><td>0.46112095   </td><td> 1.12651705  </td><td>SER          </td></tr>\n",
       "\t<tr><td>sexboy:weight</td><td> 0.407440531 </td><td>0.38206467   </td><td> 1.06641771  </td><td>SER          </td></tr>\n",
       "\t<tr><td>weight       </td><td>-0.032899039 </td><td>0.07067952   </td><td>-0.46546780  </td><td>TYR          </td></tr>\n",
       "\t<tr><td>sexboy:weight</td><td> 0.058558047 </td><td>0.05770520   </td><td> 1.01477933  </td><td>TYR          </td></tr>\n",
       "</tbody>\n",
       "</table>\n"
      ],
      "text/latex": [
       "\\begin{tabular}{r|lllll}\n",
       " term & estimate & std.error & statistic & AA\\\\\n",
       "\\hline\n",
       "\t weight        &  0.009402506  & 0.10533508    &  0.08926281   & ARG          \\\\\n",
       "\t sexboy:weight & -0.080371565  & 0.08777944    & -0.91560807   & ARG          \\\\\n",
       "\t weight        &  0.326208627  & 0.32017974    &  1.01882968   & ASP          \\\\\n",
       "\t sexboy:weight &  0.301673380  & 0.26730708    &  1.12856488   & ASP          \\\\\n",
       "\t weight        &  0.859809499  & 1.12997987    &  0.76090691   & ALA          \\\\\n",
       "\t sexboy:weight &  1.179983932  & 0.95223371    &  1.23917471   & ALA          \\\\\n",
       "\t weight        & -0.198122983  & 0.08360795    & -2.36966668   & ASN          \\\\\n",
       "\t sexboy:weight &  0.094610247  & 0.07211628    &  1.31191247   & ASN          \\\\\n",
       "\t weight        & -0.070840653  & 0.10781595    & -0.65705169   & CYS          \\\\\n",
       "\t sexboy:weight &  0.076718942  & 0.08981499    &  0.85418866   & CYS          \\\\\n",
       "\t weight        &  0.417261517  & 0.54423738    &  0.76669030   & GLY          \\\\\n",
       "\t sexboy:weight &  0.542122248  & 0.45327911    &  1.19600096   & GLY          \\\\\n",
       "\t weight        &  6.306902302  & 4.56295367    &  1.38219731   & GLU          \\\\\n",
       "\t sexboy:weight &  4.431094587  & 3.80525545    &  1.16446705   & GLU          \\\\\n",
       "\t weight        &  4.582457892  & 2.20201125    &  2.08103292   & GLN          \\\\\n",
       "\t sexboy:weight &  1.088164909  & 1.83373386    &  0.59341485   & GLN          \\\\\n",
       "\t weight        & -0.366673836  & 0.23830158    & -1.53869662   & PRO          \\\\\n",
       "\t sexboy:weight & -0.103643510  & 0.19669183    & -0.52693349   & PRO          \\\\\n",
       "\t weight        &  0.519460606  & 0.46112095    &  1.12651705   & SER          \\\\\n",
       "\t sexboy:weight &  0.407440531  & 0.38206467    &  1.06641771   & SER          \\\\\n",
       "\t weight        & -0.032899039  & 0.07067952    & -0.46546780   & TYR          \\\\\n",
       "\t sexboy:weight &  0.058558047  & 0.05770520    &  1.01477933   & TYR          \\\\\n",
       "\\end{tabular}\n"
      ],
      "text/markdown": [
       "\n",
       "term | estimate | std.error | statistic | AA | \n",
       "|---|---|---|---|---|---|---|---|---|---|---|---|---|---|---|---|---|---|---|---|---|---|\n",
       "| weight        |  0.009402506  | 0.10533508    |  0.08926281   | ARG           | \n",
       "| sexboy:weight | -0.080371565  | 0.08777944    | -0.91560807   | ARG           | \n",
       "| weight        |  0.326208627  | 0.32017974    |  1.01882968   | ASP           | \n",
       "| sexboy:weight |  0.301673380  | 0.26730708    |  1.12856488   | ASP           | \n",
       "| weight        |  0.859809499  | 1.12997987    |  0.76090691   | ALA           | \n",
       "| sexboy:weight |  1.179983932  | 0.95223371    |  1.23917471   | ALA           | \n",
       "| weight        | -0.198122983  | 0.08360795    | -2.36966668   | ASN           | \n",
       "| sexboy:weight |  0.094610247  | 0.07211628    |  1.31191247   | ASN           | \n",
       "| weight        | -0.070840653  | 0.10781595    | -0.65705169   | CYS           | \n",
       "| sexboy:weight |  0.076718942  | 0.08981499    |  0.85418866   | CYS           | \n",
       "| weight        |  0.417261517  | 0.54423738    |  0.76669030   | GLY           | \n",
       "| sexboy:weight |  0.542122248  | 0.45327911    |  1.19600096   | GLY           | \n",
       "| weight        |  6.306902302  | 4.56295367    |  1.38219731   | GLU           | \n",
       "| sexboy:weight |  4.431094587  | 3.80525545    |  1.16446705   | GLU           | \n",
       "| weight        |  4.582457892  | 2.20201125    |  2.08103292   | GLN           | \n",
       "| sexboy:weight |  1.088164909  | 1.83373386    |  0.59341485   | GLN           | \n",
       "| weight        | -0.366673836  | 0.23830158    | -1.53869662   | PRO           | \n",
       "| sexboy:weight | -0.103643510  | 0.19669183    | -0.52693349   | PRO           | \n",
       "| weight        |  0.519460606  | 0.46112095    |  1.12651705   | SER           | \n",
       "| sexboy:weight |  0.407440531  | 0.38206467    |  1.06641771   | SER           | \n",
       "| weight        | -0.032899039  | 0.07067952    | -0.46546780   | TYR           | \n",
       "| sexboy:weight |  0.058558047  | 0.05770520    |  1.01477933   | TYR           | \n",
       "\n",
       "\n"
      ],
      "text/plain": [
       "   term          estimate     std.error  statistic   AA \n",
       "1  weight         0.009402506 0.10533508  0.08926281 ARG\n",
       "2  sexboy:weight -0.080371565 0.08777944 -0.91560807 ARG\n",
       "3  weight         0.326208627 0.32017974  1.01882968 ASP\n",
       "4  sexboy:weight  0.301673380 0.26730708  1.12856488 ASP\n",
       "5  weight         0.859809499 1.12997987  0.76090691 ALA\n",
       "6  sexboy:weight  1.179983932 0.95223371  1.23917471 ALA\n",
       "7  weight        -0.198122983 0.08360795 -2.36966668 ASN\n",
       "8  sexboy:weight  0.094610247 0.07211628  1.31191247 ASN\n",
       "9  weight        -0.070840653 0.10781595 -0.65705169 CYS\n",
       "10 sexboy:weight  0.076718942 0.08981499  0.85418866 CYS\n",
       "11 weight         0.417261517 0.54423738  0.76669030 GLY\n",
       "12 sexboy:weight  0.542122248 0.45327911  1.19600096 GLY\n",
       "13 weight         6.306902302 4.56295367  1.38219731 GLU\n",
       "14 sexboy:weight  4.431094587 3.80525545  1.16446705 GLU\n",
       "15 weight         4.582457892 2.20201125  2.08103292 GLN\n",
       "16 sexboy:weight  1.088164909 1.83373386  0.59341485 GLN\n",
       "17 weight        -0.366673836 0.23830158 -1.53869662 PRO\n",
       "18 sexboy:weight -0.103643510 0.19669183 -0.52693349 PRO\n",
       "19 weight         0.519460606 0.46112095  1.12651705 SER\n",
       "20 sexboy:weight  0.407440531 0.38206467  1.06641771 SER\n",
       "21 weight        -0.032899039 0.07067952 -0.46546780 TYR\n",
       "22 sexboy:weight  0.058558047 0.05770520  1.01477933 TYR"
      ]
     },
     "metadata": {},
     "output_type": "display_data"
    }
   ],
   "source": [
    "weightCoef_E <- bind_rows(tidy_E_W) %>% filter(grepl(\"weight\", term)) %>% \n",
    "    mutate(term = factor(term, levels=c(\"weight\",\"sexboy:weight\")))\n",
    "weightCoef_NE <- bind_rows(tidy_NE_W) %>% filter(grepl(\"weight\", term)) %>% \n",
    "    mutate(term = factor(term, levels=c(\"weight\",\"sexboy:weight\")))\n",
    "\n",
    "weightCoef_E\n",
    "weightCoef_NE"
   ]
  },
  {
   "cell_type": "code",
   "execution_count": 103,
   "metadata": {},
   "outputs": [
    {
     "data": {},
     "metadata": {},
     "output_type": "display_data"
    },
    {
     "data": {
      "image/png": "[encoded data removed]",
      "text/plain": [
       "plot without title"
      ]
     },
     "metadata": {},
     "output_type": "display_data"
    }
   ],
   "source": [
    "#png(filename=\"./plots/weight_E.png\", units=\"cm\", width=20, height=20, res = 300)\n",
    "ggplot(weightCoef_E, aes(x = reorder(AA, estimate), y = estimate, color = AA)) + \n",
    "    geom_hline(yintercept = 0, alpha = 0.4) + \n",
    "    geom_point() + \n",
    "    geom_pointrange( aes(x = AA, ymin = estimate - 2*std.error, ymax = estimate + 2*std.error)) + \n",
    "    theme(legend.position = \"none\", aspect.ratio = 1) + \n",
    "    coord_flip() + \n",
    "    facet_wrap(~term) +\n",
    "    ggtitle('Essential AA \\n Estimate and 95% CI') + xlab('estimate')    \n",
    "#dev.off()"
   ]
  },
  {
   "cell_type": "code",
   "execution_count": 105,
   "metadata": {},
   "outputs": [
    {
     "data": {},
     "metadata": {},
     "output_type": "display_data"
    },
    {
     "data": {
      "image/png": "[encoded data removed]",
      "text/plain": [
       "plot without title"
      ]
     },
     "metadata": {},
     "output_type": "display_data"
    }
   ],
   "source": [
    "#png(filename=\"./plots/weight_NE.png\", units=\"cm\", width=20, height=20, res = 300)\n",
    "ggplot(weightCoef_NE, aes(x = reorder(AA, estimate), y = estimate, color = AA)) + \n",
    "    geom_hline(yintercept = 0, alpha = 0.4) + \n",
    "    geom_point() + geom_pointrange( aes(x = AA, ymin = estimate - 2*std.error, ymax = estimate + 2*std.error)) + \n",
    "    theme(legend.position = \"none\", aspect.ratio = 1) + \n",
    "    coord_flip() + \n",
    "    facet_wrap(~term) +\n",
    "    ggtitle('Non Essential AA \\n Estimate and 95% CI') + xlab('Amino Acid') \n",
    "#dev.off()"
   ]
  },
  {
   "cell_type": "code",
   "execution_count": 107,
   "metadata": {},
   "outputs": [
    {
     "data": {},
     "metadata": {},
     "output_type": "display_data"
    },
    {
     "data": {
      "image/png": "[encoded data removed]",
      "text/plain": [
       "plot without title"
      ]
     },
     "metadata": {},
     "output_type": "display_data"
    }
   ],
   "source": [
    "#png(filename=\"./plots/weight_NE_detail.png\", units=\"cm\", width=20, height=20, res = 300)\n",
    "ggplot(weightCoef_NE, aes(x = reorder(AA, estimate), y = estimate, color = AA)) + \n",
    "    geom_hline(yintercept = 0, alpha = 0.4) + \n",
    "    geom_point() + geom_pointrange( aes(x = AA, ymin = estimate - 2*std.error, ymax = estimate + 2*std.error)) + \n",
    "    theme(legend.position = \"none\", aspect.ratio = 1) + \n",
    "    coord_flip(ylim = c(-0.9, 0.25), xlim = c(1, 4.65)) + \n",
    "    facet_wrap(~term) +\n",
    "    ggtitle('Detail Non Essential AA \\n Estimate and 95% CI') + xlab('Amino Acid')   \n",
    "#dev.off()"
   ]
  },
  {
   "cell_type": "code",
   "execution_count": 90,
   "metadata": {},
   "outputs": [
    {
     "data": {
      "text/plain": [
       "Linear mixed model fit by REML ['lmerMod']\n",
       "Formula: level ~ sex + week + head + sex:head + (1 | id)\n",
       "   Data: df\n",
       "REML criterion at convergence: 1520.022\n",
       "Random effects:\n",
       " Groups   Name        Std.Dev.\n",
       " id       (Intercept) 18.00   \n",
       " Residual             33.85   \n",
       "Number of obs: 153, groups:  id, 54\n",
       "Fixed Effects:\n",
       "(Intercept)       sexboy         week         head  sexboy:head  \n",
       "  -187.1091     -18.2737       0.9058       7.2788       0.6601  "
      ]
     },
     "metadata": {},
     "output_type": "display_data"
    }
   ],
   "source": [
    "AA_E_Nested <- AA_E_Nested %>% mutate(model = me_E_HC, tidy = tidy_E_HC)\n",
    "AA_NE_Nested <- AA_NE_Nested %>% mutate(model = me_NE_HC, tidy = tidy_NE_HC)\n",
    "\n",
    "me_NE_HC[[7]]"
   ]
  },
  {
   "cell_type": "code",
   "execution_count": 133,
   "metadata": {},
   "outputs": [
    {
     "data": {
      "text/html": [
       "<table>\n",
       "<thead><tr><th scope=col>term</th><th scope=col>estimate</th><th scope=col>std.error</th><th scope=col>statistic</th><th scope=col>AA</th></tr></thead>\n",
       "<tbody>\n",
       "\t<tr><td>head         </td><td> 9.161800e-02</td><td>0.068370330  </td><td> 1.340025702 </td><td>HIS          </td></tr>\n",
       "\t<tr><td>sexboy:head  </td><td> 2.457392e-02</td><td>0.055381922  </td><td> 0.443717272 </td><td>HIS          </td></tr>\n",
       "\t<tr><td>head         </td><td> 9.231072e-02</td><td>0.042360343  </td><td> 2.179177789 </td><td>ILE          </td></tr>\n",
       "\t<tr><td>sexboy:head  </td><td>-4.853242e-02</td><td>0.033080396  </td><td>-1.467105277 </td><td>ILE          </td></tr>\n",
       "\t<tr><td>head         </td><td> 9.701036e-02</td><td>0.100839944  </td><td> 0.962023103 </td><td>LEU          </td></tr>\n",
       "\t<tr><td>sexboy:head  </td><td>-1.635066e-02</td><td>0.083374557  </td><td>-0.196110877 </td><td>LEU          </td></tr>\n",
       "\t<tr><td>head         </td><td>-1.168642e-01</td><td>0.103059071  </td><td>-1.133953464 </td><td>LYS          </td></tr>\n",
       "\t<tr><td>sexboy:head  </td><td>-2.234178e-02</td><td>0.081774667  </td><td>-0.273211503 </td><td>LYS          </td></tr>\n",
       "\t<tr><td>head         </td><td> 1.541038e-02</td><td>0.026320049  </td><td> 0.585499625 </td><td>MET          </td></tr>\n",
       "\t<tr><td>sexboy:head  </td><td> 7.227271e-05</td><td>0.021395844  </td><td> 0.003377885 </td><td>MET          </td></tr>\n",
       "\t<tr><td>head         </td><td> 9.966501e-02</td><td>0.038991466  </td><td> 2.556072466 </td><td>PHE          </td></tr>\n",
       "\t<tr><td>sexboy:head  </td><td>-3.728951e-02</td><td>0.032614881  </td><td>-1.143328163 </td><td>PHE          </td></tr>\n",
       "\t<tr><td>head         </td><td> 7.388620e-02</td><td>0.220902530  </td><td> 0.334474228 </td><td>THR          </td></tr>\n",
       "\t<tr><td>sexboy:head  </td><td> 1.019227e-01</td><td>0.162532871  </td><td> 0.627089524 </td><td>THR          </td></tr>\n",
       "\t<tr><td>head         </td><td> 2.904838e-03</td><td>0.006090969  </td><td> 0.476909060 </td><td>TRP          </td></tr>\n",
       "\t<tr><td>sexboy:head  </td><td>-2.282828e-03</td><td>0.005154889  </td><td>-0.442847191 </td><td>TRP          </td></tr>\n",
       "\t<tr><td>head         </td><td> 3.504823e-01</td><td>0.110427965  </td><td> 3.173854861 </td><td>VAL          </td></tr>\n",
       "\t<tr><td>sexboy:head  </td><td>-1.051392e-01</td><td>0.085689510  </td><td>-1.226978385 </td><td>VAL          </td></tr>\n",
       "</tbody>\n",
       "</table>\n"
      ],
      "text/latex": [
       "\\begin{tabular}{r|lllll}\n",
       " term & estimate & std.error & statistic & AA\\\\\n",
       "\\hline\n",
       "\t head          &  9.161800e-02 & 0.068370330   &  1.340025702  & HIS          \\\\\n",
       "\t sexboy:head   &  2.457392e-02 & 0.055381922   &  0.443717272  & HIS          \\\\\n",
       "\t head          &  9.231072e-02 & 0.042360343   &  2.179177789  & ILE          \\\\\n",
       "\t sexboy:head   & -4.853242e-02 & 0.033080396   & -1.467105277  & ILE          \\\\\n",
       "\t head          &  9.701036e-02 & 0.100839944   &  0.962023103  & LEU          \\\\\n",
       "\t sexboy:head   & -1.635066e-02 & 0.083374557   & -0.196110877  & LEU          \\\\\n",
       "\t head          & -1.168642e-01 & 0.103059071   & -1.133953464  & LYS          \\\\\n",
       "\t sexboy:head   & -2.234178e-02 & 0.081774667   & -0.273211503  & LYS          \\\\\n",
       "\t head          &  1.541038e-02 & 0.026320049   &  0.585499625  & MET          \\\\\n",
       "\t sexboy:head   &  7.227271e-05 & 0.021395844   &  0.003377885  & MET          \\\\\n",
       "\t head          &  9.966501e-02 & 0.038991466   &  2.556072466  & PHE          \\\\\n",
       "\t sexboy:head   & -3.728951e-02 & 0.032614881   & -1.143328163  & PHE          \\\\\n",
       "\t head          &  7.388620e-02 & 0.220902530   &  0.334474228  & THR          \\\\\n",
       "\t sexboy:head   &  1.019227e-01 & 0.162532871   &  0.627089524  & THR          \\\\\n",
       "\t head          &  2.904838e-03 & 0.006090969   &  0.476909060  & TRP          \\\\\n",
       "\t sexboy:head   & -2.282828e-03 & 0.005154889   & -0.442847191  & TRP          \\\\\n",
       "\t head          &  3.504823e-01 & 0.110427965   &  3.173854861  & VAL          \\\\\n",
       "\t sexboy:head   & -1.051392e-01 & 0.085689510   & -1.226978385  & VAL          \\\\\n",
       "\\end{tabular}\n"
      ],
      "text/markdown": [
       "\n",
       "term | estimate | std.error | statistic | AA | \n",
       "|---|---|---|---|---|---|---|---|---|---|---|---|---|---|---|---|---|---|\n",
       "| head          |  9.161800e-02 | 0.068370330   |  1.340025702  | HIS           | \n",
       "| sexboy:head   |  2.457392e-02 | 0.055381922   |  0.443717272  | HIS           | \n",
       "| head          |  9.231072e-02 | 0.042360343   |  2.179177789  | ILE           | \n",
       "| sexboy:head   | -4.853242e-02 | 0.033080396   | -1.467105277  | ILE           | \n",
       "| head          |  9.701036e-02 | 0.100839944   |  0.962023103  | LEU           | \n",
       "| sexboy:head   | -1.635066e-02 | 0.083374557   | -0.196110877  | LEU           | \n",
       "| head          | -1.168642e-01 | 0.103059071   | -1.133953464  | LYS           | \n",
       "| sexboy:head   | -2.234178e-02 | 0.081774667   | -0.273211503  | LYS           | \n",
       "| head          |  1.541038e-02 | 0.026320049   |  0.585499625  | MET           | \n",
       "| sexboy:head   |  7.227271e-05 | 0.021395844   |  0.003377885  | MET           | \n",
       "| head          |  9.966501e-02 | 0.038991466   |  2.556072466  | PHE           | \n",
       "| sexboy:head   | -3.728951e-02 | 0.032614881   | -1.143328163  | PHE           | \n",
       "| head          |  7.388620e-02 | 0.220902530   |  0.334474228  | THR           | \n",
       "| sexboy:head   |  1.019227e-01 | 0.162532871   |  0.627089524  | THR           | \n",
       "| head          |  2.904838e-03 | 0.006090969   |  0.476909060  | TRP           | \n",
       "| sexboy:head   | -2.282828e-03 | 0.005154889   | -0.442847191  | TRP           | \n",
       "| head          |  3.504823e-01 | 0.110427965   |  3.173854861  | VAL           | \n",
       "| sexboy:head   | -1.051392e-01 | 0.085689510   | -1.226978385  | VAL           | \n",
       "\n",
       "\n"
      ],
      "text/plain": [
       "   term        estimate      std.error   statistic    AA \n",
       "1  head         9.161800e-02 0.068370330  1.340025702 HIS\n",
       "2  sexboy:head  2.457392e-02 0.055381922  0.443717272 HIS\n",
       "3  head         9.231072e-02 0.042360343  2.179177789 ILE\n",
       "4  sexboy:head -4.853242e-02 0.033080396 -1.467105277 ILE\n",
       "5  head         9.701036e-02 0.100839944  0.962023103 LEU\n",
       "6  sexboy:head -1.635066e-02 0.083374557 -0.196110877 LEU\n",
       "7  head        -1.168642e-01 0.103059071 -1.133953464 LYS\n",
       "8  sexboy:head -2.234178e-02 0.081774667 -0.273211503 LYS\n",
       "9  head         1.541038e-02 0.026320049  0.585499625 MET\n",
       "10 sexboy:head  7.227271e-05 0.021395844  0.003377885 MET\n",
       "11 head         9.966501e-02 0.038991466  2.556072466 PHE\n",
       "12 sexboy:head -3.728951e-02 0.032614881 -1.143328163 PHE\n",
       "13 head         7.388620e-02 0.220902530  0.334474228 THR\n",
       "14 sexboy:head  1.019227e-01 0.162532871  0.627089524 THR\n",
       "15 head         2.904838e-03 0.006090969  0.476909060 TRP\n",
       "16 sexboy:head -2.282828e-03 0.005154889 -0.442847191 TRP\n",
       "17 head         3.504823e-01 0.110427965  3.173854861 VAL\n",
       "18 sexboy:head -1.051392e-01 0.085689510 -1.226978385 VAL"
      ]
     },
     "metadata": {},
     "output_type": "display_data"
    },
    {
     "data": {
      "text/html": [
       "<table>\n",
       "<thead><tr><th scope=col>term</th><th scope=col>estimate</th><th scope=col>std.error</th><th scope=col>statistic</th><th scope=col>AA</th></tr></thead>\n",
       "<tbody>\n",
       "\t<tr><td>head        </td><td>-0.063790506</td><td>0.06779015  </td><td>-0.9409997  </td><td>ARG         </td></tr>\n",
       "\t<tr><td>sexboy:head </td><td>-0.038137104</td><td>0.05189542  </td><td>-0.7348838  </td><td>ARG         </td></tr>\n",
       "\t<tr><td>head        </td><td>-0.039830383</td><td>0.20874603  </td><td>-0.1908079  </td><td>ASP         </td></tr>\n",
       "\t<tr><td>sexboy:head </td><td> 0.226836301</td><td>0.16262895  </td><td> 1.3948089  </td><td>ASP         </td></tr>\n",
       "\t<tr><td>head        </td><td> 0.888071096</td><td>0.72341106  </td><td> 1.2276161  </td><td>ALA         </td></tr>\n",
       "\t<tr><td>sexboy:head </td><td> 0.625037171</td><td>0.56958794  </td><td> 1.0973497  </td><td>ALA         </td></tr>\n",
       "\t<tr><td>head        </td><td>-0.098196143</td><td>0.05468768  </td><td>-1.7955807  </td><td>ASN         </td></tr>\n",
       "\t<tr><td>sexboy:head </td><td> 0.062558702</td><td>0.04492780  </td><td> 1.3924274  </td><td>ASN         </td></tr>\n",
       "\t<tr><td>head        </td><td>-0.010690948</td><td>0.07015613  </td><td>-0.1523879  </td><td>CYS         </td></tr>\n",
       "\t<tr><td>sexboy:head </td><td> 0.063805427</td><td>0.05395179  </td><td> 1.1826378  </td><td>CYS         </td></tr>\n",
       "\t<tr><td>head        </td><td> 0.921884523</td><td>0.34158769  </td><td> 2.6988224  </td><td>GLY         </td></tr>\n",
       "\t<tr><td>sexboy:head </td><td> 0.085299555</td><td>0.26302911  </td><td> 0.3242970  </td><td>GLY         </td></tr>\n",
       "\t<tr><td>head        </td><td> 7.278819952</td><td>2.93406022  </td><td> 2.4808011  </td><td>GLU         </td></tr>\n",
       "\t<tr><td>sexboy:head </td><td> 0.660116073</td><td>2.26344640  </td><td> 0.2916420  </td><td>GLU         </td></tr>\n",
       "\t<tr><td>head        </td><td> 3.219779828</td><td>1.44559795  </td><td> 2.2272997  </td><td>GLN         </td></tr>\n",
       "\t<tr><td>sexboy:head </td><td> 0.632476529</td><td>1.10957508  </td><td> 0.5700169  </td><td>GLN         </td></tr>\n",
       "\t<tr><td>head        </td><td>-0.091636583</td><td>0.15760166  </td><td>-0.5814443  </td><td>PRO         </td></tr>\n",
       "\t<tr><td>sexboy:head </td><td>-0.068443714</td><td>0.12089946  </td><td>-0.5661209  </td><td>PRO         </td></tr>\n",
       "\t<tr><td>head        </td><td> 0.832246411</td><td>0.29139828  </td><td> 2.8560444  </td><td>SER         </td></tr>\n",
       "\t<tr><td>sexboy:head </td><td> 0.140838263</td><td>0.22203187  </td><td> 0.6343155  </td><td>SER         </td></tr>\n",
       "\t<tr><td>head        </td><td> 0.075194593</td><td>0.04631427  </td><td> 1.6235729  </td><td>TYR         </td></tr>\n",
       "\t<tr><td>sexboy:head </td><td> 0.004386879</td><td>0.03488403  </td><td> 0.1257561  </td><td>TYR         </td></tr>\n",
       "</tbody>\n",
       "</table>\n"
      ],
      "text/latex": [
       "\\begin{tabular}{r|lllll}\n",
       " term & estimate & std.error & statistic & AA\\\\\n",
       "\\hline\n",
       "\t head         & -0.063790506 & 0.06779015   & -0.9409997   & ARG         \\\\\n",
       "\t sexboy:head  & -0.038137104 & 0.05189542   & -0.7348838   & ARG         \\\\\n",
       "\t head         & -0.039830383 & 0.20874603   & -0.1908079   & ASP         \\\\\n",
       "\t sexboy:head  &  0.226836301 & 0.16262895   &  1.3948089   & ASP         \\\\\n",
       "\t head         &  0.888071096 & 0.72341106   &  1.2276161   & ALA         \\\\\n",
       "\t sexboy:head  &  0.625037171 & 0.56958794   &  1.0973497   & ALA         \\\\\n",
       "\t head         & -0.098196143 & 0.05468768   & -1.7955807   & ASN         \\\\\n",
       "\t sexboy:head  &  0.062558702 & 0.04492780   &  1.3924274   & ASN         \\\\\n",
       "\t head         & -0.010690948 & 0.07015613   & -0.1523879   & CYS         \\\\\n",
       "\t sexboy:head  &  0.063805427 & 0.05395179   &  1.1826378   & CYS         \\\\\n",
       "\t head         &  0.921884523 & 0.34158769   &  2.6988224   & GLY         \\\\\n",
       "\t sexboy:head  &  0.085299555 & 0.26302911   &  0.3242970   & GLY         \\\\\n",
       "\t head         &  7.278819952 & 2.93406022   &  2.4808011   & GLU         \\\\\n",
       "\t sexboy:head  &  0.660116073 & 2.26344640   &  0.2916420   & GLU         \\\\\n",
       "\t head         &  3.219779828 & 1.44559795   &  2.2272997   & GLN         \\\\\n",
       "\t sexboy:head  &  0.632476529 & 1.10957508   &  0.5700169   & GLN         \\\\\n",
       "\t head         & -0.091636583 & 0.15760166   & -0.5814443   & PRO         \\\\\n",
       "\t sexboy:head  & -0.068443714 & 0.12089946   & -0.5661209   & PRO         \\\\\n",
       "\t head         &  0.832246411 & 0.29139828   &  2.8560444   & SER         \\\\\n",
       "\t sexboy:head  &  0.140838263 & 0.22203187   &  0.6343155   & SER         \\\\\n",
       "\t head         &  0.075194593 & 0.04631427   &  1.6235729   & TYR         \\\\\n",
       "\t sexboy:head  &  0.004386879 & 0.03488403   &  0.1257561   & TYR         \\\\\n",
       "\\end{tabular}\n"
      ],
      "text/markdown": [
       "\n",
       "term | estimate | std.error | statistic | AA | \n",
       "|---|---|---|---|---|---|---|---|---|---|---|---|---|---|---|---|---|---|---|---|---|---|\n",
       "| head         | -0.063790506 | 0.06779015   | -0.9409997   | ARG          | \n",
       "| sexboy:head  | -0.038137104 | 0.05189542   | -0.7348838   | ARG          | \n",
       "| head         | -0.039830383 | 0.20874603   | -0.1908079   | ASP          | \n",
       "| sexboy:head  |  0.226836301 | 0.16262895   |  1.3948089   | ASP          | \n",
       "| head         |  0.888071096 | 0.72341106   |  1.2276161   | ALA          | \n",
       "| sexboy:head  |  0.625037171 | 0.56958794   |  1.0973497   | ALA          | \n",
       "| head         | -0.098196143 | 0.05468768   | -1.7955807   | ASN          | \n",
       "| sexboy:head  |  0.062558702 | 0.04492780   |  1.3924274   | ASN          | \n",
       "| head         | -0.010690948 | 0.07015613   | -0.1523879   | CYS          | \n",
       "| sexboy:head  |  0.063805427 | 0.05395179   |  1.1826378   | CYS          | \n",
       "| head         |  0.921884523 | 0.34158769   |  2.6988224   | GLY          | \n",
       "| sexboy:head  |  0.085299555 | 0.26302911   |  0.3242970   | GLY          | \n",
       "| head         |  7.278819952 | 2.93406022   |  2.4808011   | GLU          | \n",
       "| sexboy:head  |  0.660116073 | 2.26344640   |  0.2916420   | GLU          | \n",
       "| head         |  3.219779828 | 1.44559795   |  2.2272997   | GLN          | \n",
       "| sexboy:head  |  0.632476529 | 1.10957508   |  0.5700169   | GLN          | \n",
       "| head         | -0.091636583 | 0.15760166   | -0.5814443   | PRO          | \n",
       "| sexboy:head  | -0.068443714 | 0.12089946   | -0.5661209   | PRO          | \n",
       "| head         |  0.832246411 | 0.29139828   |  2.8560444   | SER          | \n",
       "| sexboy:head  |  0.140838263 | 0.22203187   |  0.6343155   | SER          | \n",
       "| head         |  0.075194593 | 0.04631427   |  1.6235729   | TYR          | \n",
       "| sexboy:head  |  0.004386879 | 0.03488403   |  0.1257561   | TYR          | \n",
       "\n",
       "\n"
      ],
      "text/plain": [
       "   term        estimate     std.error  statistic  AA \n",
       "1  head        -0.063790506 0.06779015 -0.9409997 ARG\n",
       "2  sexboy:head -0.038137104 0.05189542 -0.7348838 ARG\n",
       "3  head        -0.039830383 0.20874603 -0.1908079 ASP\n",
       "4  sexboy:head  0.226836301 0.16262895  1.3948089 ASP\n",
       "5  head         0.888071096 0.72341106  1.2276161 ALA\n",
       "6  sexboy:head  0.625037171 0.56958794  1.0973497 ALA\n",
       "7  head        -0.098196143 0.05468768 -1.7955807 ASN\n",
       "8  sexboy:head  0.062558702 0.04492780  1.3924274 ASN\n",
       "9  head        -0.010690948 0.07015613 -0.1523879 CYS\n",
       "10 sexboy:head  0.063805427 0.05395179  1.1826378 CYS\n",
       "11 head         0.921884523 0.34158769  2.6988224 GLY\n",
       "12 sexboy:head  0.085299555 0.26302911  0.3242970 GLY\n",
       "13 head         7.278819952 2.93406022  2.4808011 GLU\n",
       "14 sexboy:head  0.660116073 2.26344640  0.2916420 GLU\n",
       "15 head         3.219779828 1.44559795  2.2272997 GLN\n",
       "16 sexboy:head  0.632476529 1.10957508  0.5700169 GLN\n",
       "17 head        -0.091636583 0.15760166 -0.5814443 PRO\n",
       "18 sexboy:head -0.068443714 0.12089946 -0.5661209 PRO\n",
       "19 head         0.832246411 0.29139828  2.8560444 SER\n",
       "20 sexboy:head  0.140838263 0.22203187  0.6343155 SER\n",
       "21 head         0.075194593 0.04631427  1.6235729 TYR\n",
       "22 sexboy:head  0.004386879 0.03488403  0.1257561 TYR"
      ]
     },
     "metadata": {},
     "output_type": "display_data"
    }
   ],
   "source": [
    "headCoef_E <- bind_rows(tidy_E_HC) %>% filter(grepl(\"head\", term))\n",
    "headCoef_NE <- bind_rows(tidy_NE_HC) %>% filter(grepl(\"head\", term))\n",
    "\n",
    "headCoef_E\n",
    "headCoef_NE"
   ]
  },
  {
   "cell_type": "code",
   "execution_count": 129,
   "metadata": {},
   "outputs": [],
   "source": [
    "sexCoef_E <- bind_rows(tidy_E_W) %>% filter(grepl(\"sexboy$\", term))\n",
    "sexCoef_NE <- bind_rows(tidy_NE_W) %>% filter(grepl(\"sexboy$\", term))\n",
    "\n",
    "\n",
    "headCoef_E <- rbind(headCoef_E, sexCoef_E)\n",
    "headCoef_NE <- rbind(headCoef_NE, sexCoef_NE)"
   ]
  },
  {
   "cell_type": "code",
   "execution_count": 134,
   "metadata": {},
   "outputs": [
    {
     "data": {},
     "metadata": {},
     "output_type": "display_data"
    },
    {
     "data": {
      "image/png": "[encoded data removed]",
      "text/plain": [
       "plot without title"
      ]
     },
     "metadata": {},
     "output_type": "display_data"
    }
   ],
   "source": [
    "#png(filename=\"./plots/head_E.png\", units=\"cm\", width=20, height=20, res = 300)\n",
    "ggplot(headCoef_E, aes(x = reorder(AA, estimate), y = estimate, color = AA)) + \n",
    "    geom_hline(yintercept = 0, alpha = 0.4) + \n",
    "    geom_point() + geom_pointrange( aes(x = AA, ymin = estimate - 2*std.error, ymax = estimate + 2*std.error)) + \n",
    "    theme(legend.position = \"none\", aspect.ratio = 1) + \n",
    "    coord_flip() + \n",
    "    facet_wrap(~term) +\n",
    "    ggtitle('Essential AA \\n Estimate and 95% CI') + xlab('Amino Acid')   \n",
    "#dev.off()"
   ]
  },
  {
   "cell_type": "code",
   "execution_count": 135,
   "metadata": {},
   "outputs": [
    {
     "data": {},
     "metadata": {},
     "output_type": "display_data"
    },
    {
     "data": {
      "image/png": "[encoded data removed]",
      "text/plain": [
       "plot without title"
      ]
     },
     "metadata": {},
     "output_type": "display_data"
    }
   ],
   "source": [
    "#png(filename=\"./plots/head_NE.png\", units=\"cm\", width=20, height=20, res = 300)\n",
    "ggplot(headCoef_NE, aes(x = reorder(AA, estimate), y = estimate, color = AA)) + \n",
    "    geom_hline(yintercept = 0, alpha = 0.4) + \n",
    "    geom_point() + geom_pointrange( aes(x = AA, ymin = estimate - 2*std.error, ymax = estimate + 2*std.error)) + \n",
    "    theme(legend.position = \"none\", aspect.ratio = 1) + \n",
    "    coord_flip() + \n",
    "    facet_wrap(~term) +\n",
    "    ggtitle('Non Essential AA \\n Estimate and 95% CI') + xlab('Amino Acid')   \n",
    "#dev.off()"
   ]
  },
  {
   "cell_type": "code",
   "execution_count": 137,
   "metadata": {},
   "outputs": [
    {
     "data": {},
     "metadata": {},
     "output_type": "display_data"
    },
    {
     "data": {
      "image/png": "[encoded data removed]",
      "text/plain": [
       "plot without title"
      ]
     },
     "metadata": {},
     "output_type": "display_data"
    }
   ],
   "source": [
    "#png(filename=\"./plots/head_NE_detail.png\", units=\"cm\", width=20, height=20, res = 300)\n",
    "ggplot(headCoef_NE, aes(x = reorder(AA, estimate), y = estimate, color = AA)) + \n",
    "    geom_hline(yintercept = 0, alpha = 0.4) + \n",
    "    geom_point() + geom_pointrange( aes(x = AA, ymin = estimate - 2*std.error, ymax = estimate + 2*std.error)) + \n",
    "    theme(legend.position = \"none\", aspect.ratio = 1) + \n",
    "    coord_flip(ylim = c(-0.5, 1.6), xlim = c(1, 7.8)) + \n",
    "    facet_wrap(~term) +\n",
    "    ggtitle('Detail Non Essential AA \\n Estimate and 95% CI') + xlab('Amino Acid')   \n",
    "#dev.off()"
   ]
  },
  {
   "cell_type": "markdown",
   "metadata": {},
   "source": [
    "### sex controlling for size and weight "
   ]
  },
  {
   "cell_type": "code",
   "execution_count": null,
   "metadata": {},
   "outputs": [],
   "source": []
  },
  {
   "cell_type": "code",
   "execution_count": 49,
   "metadata": {},
   "outputs": [
    {
     "data": {},
     "metadata": {},
     "output_type": "display_data"
    },
    {
     "data": {
      "image/png": "[encoded data removed]",
      "text/plain": [
       "plot without title"
      ]
     },
     "metadata": {},
     "output_type": "display_data"
    }
   ],
   "source": [
    "#png(filename=\"./plots/sex_E.png\", units=\"cm\", width=20, height=20, res = 300)\n",
    "ggplot(sexCoef_E, aes(x = reorder(AA, estimate), y = estimate, color = AA)) + \n",
    "    geom_hline(yintercept = 0, alpha = 0.4) + \n",
    "    geom_point() + geom_pointrange( aes(x = AA, ymin = estimate - 2*std.error, ymax = estimate + 2*std.error)) + \n",
    "    theme(legend.position = \"none\") + \n",
    "    coord_flip() + \n",
    "    ggtitle('Essential AA \\n Estimate and 95% CI - controlling for weight and week') + \n",
    "    xlab('estimate') + ylab(TeX('sex (boy $\\\\rightarrow$)'))   \n",
    "#dev.off()"
   ]
  },
  {
   "cell_type": "code",
   "execution_count": 51,
   "metadata": {},
   "outputs": [
    {
     "data": {},
     "metadata": {},
     "output_type": "display_data"
    },
    {
     "data": {
      "image/png": "[encoded data removed]",
      "text/plain": [
       "plot without title"
      ]
     },
     "metadata": {},
     "output_type": "display_data"
    }
   ],
   "source": [
    "#png(filename=\"./plots/sex_NE.png\", units=\"cm\", width=20, height=20, res = 300)\n",
    "ggplot(sexCoef_NE, aes(x = reorder(AA, estimate), y = estimate, color = AA)) + \n",
    "    geom_hline(yintercept = 0, alpha = 0.4) + \n",
    "    geom_point() + geom_pointrange( aes(x = AA, ymin = estimate - 2*std.error, ymax = estimate + 2*std.error)) + \n",
    "    theme(legend.position = \"none\") + \n",
    "    coord_flip() + \n",
    "    ggtitle('Non Essential AA \\n Estimate and 95% CI - controlling for weight and week') + \n",
    "    xlab('estimate') + ylab(TeX('sex (boy $\\\\rightarrow$)'))   \n",
    "#dev.off()"
   ]
  },
  {
   "cell_type": "code",
   "execution_count": 55,
   "metadata": {},
   "outputs": [
    {
     "data": {},
     "metadata": {},
     "output_type": "display_data"
    },
    {
     "data": {
      "image/png": "[encoded data removed]",
      "text/plain": [
       "plot without title"
      ]
     },
     "metadata": {},
     "output_type": "display_data"
    }
   ],
   "source": [
    "#png(filename=\"./plots/sex_NE_detail.png\", units=\"cm\", width=20, height=20, res = 300)\n",
    "ggplot(sexCoef_NE, aes(x = reorder(AA, estimate), y = estimate, color = AA)) + \n",
    "    geom_hline(yintercept = 0, alpha = 0.4) + \n",
    "    geom_point() + geom_pointrange( aes(x = AA, ymin = estimate - 2*std.error, ymax = estimate + 2*std.error)) + \n",
    "    theme(legend.position = \"none\") + \n",
    "    coord_flip(ylim = c(-0.75, 1.5), xlim = c(1, 5.8)) + \n",
    "    ggtitle('Detail') + \n",
    "    xlab('estimate') + ylab(TeX('sex (boy $\\\\rightarrow$)'))   \n",
    "#dev.off()"
   ]
  },
  {
   "cell_type": "code",
   "execution_count": 56,
   "metadata": {},
   "outputs": [
    {
     "data": {
      "text/html": [
       "<table>\n",
       "<thead><tr><th scope=col>term</th><th scope=col>estimate</th><th scope=col>std.error</th><th scope=col>statistic</th><th scope=col>AA</th></tr></thead>\n",
       "<tbody>\n",
       "\t<tr><td>sexboy      </td><td> 0.033653895</td><td>0.16654079  </td><td> 0.20207598 </td><td>HIS         </td></tr>\n",
       "\t<tr><td>sexboy      </td><td> 0.029099657</td><td>0.11118122  </td><td> 0.26173176 </td><td>ILE         </td></tr>\n",
       "\t<tr><td>sexboy      </td><td>-0.007958073</td><td>0.23761662  </td><td>-0.03349123 </td><td>LEU         </td></tr>\n",
       "\t<tr><td>sexboy      </td><td> 0.226094656</td><td>0.26104797  </td><td> 0.86610387 </td><td>LYS         </td></tr>\n",
       "\t<tr><td>sexboy      </td><td> 0.072466361</td><td>0.06371412  </td><td> 1.13736728 </td><td>MET         </td></tr>\n",
       "\t<tr><td>sexboy      </td><td> 0.084390439</td><td>0.09147499  </td><td> 0.92255208 </td><td>PHE         </td></tr>\n",
       "\t<tr><td>sexboy      </td><td>-0.751393945</td><td>0.64337250  </td><td>-1.16789875 </td><td>THR         </td></tr>\n",
       "\t<tr><td>sexboy      </td><td> 0.009723059</td><td>0.01378500  </td><td> 0.70533624 </td><td>TRP         </td></tr>\n",
       "\t<tr><td>sexboy      </td><td>-0.010395363</td><td>0.29036672  </td><td>-0.03580081 </td><td>VAL         </td></tr>\n",
       "</tbody>\n",
       "</table>\n"
      ],
      "text/latex": [
       "\\begin{tabular}{r|lllll}\n",
       " term & estimate & std.error & statistic & AA\\\\\n",
       "\\hline\n",
       "\t sexboy       &  0.033653895 & 0.16654079   &  0.20207598  & HIS         \\\\\n",
       "\t sexboy       &  0.029099657 & 0.11118122   &  0.26173176  & ILE         \\\\\n",
       "\t sexboy       & -0.007958073 & 0.23761662   & -0.03349123  & LEU         \\\\\n",
       "\t sexboy       &  0.226094656 & 0.26104797   &  0.86610387  & LYS         \\\\\n",
       "\t sexboy       &  0.072466361 & 0.06371412   &  1.13736728  & MET         \\\\\n",
       "\t sexboy       &  0.084390439 & 0.09147499   &  0.92255208  & PHE         \\\\\n",
       "\t sexboy       & -0.751393945 & 0.64337250   & -1.16789875  & THR         \\\\\n",
       "\t sexboy       &  0.009723059 & 0.01378500   &  0.70533624  & TRP         \\\\\n",
       "\t sexboy       & -0.010395363 & 0.29036672   & -0.03580081  & VAL         \\\\\n",
       "\\end{tabular}\n"
      ],
      "text/markdown": [
       "\n",
       "term | estimate | std.error | statistic | AA | \n",
       "|---|---|---|---|---|---|---|---|---|\n",
       "| sexboy       |  0.033653895 | 0.16654079   |  0.20207598  | HIS          | \n",
       "| sexboy       |  0.029099657 | 0.11118122   |  0.26173176  | ILE          | \n",
       "| sexboy       | -0.007958073 | 0.23761662   | -0.03349123  | LEU          | \n",
       "| sexboy       |  0.226094656 | 0.26104797   |  0.86610387  | LYS          | \n",
       "| sexboy       |  0.072466361 | 0.06371412   |  1.13736728  | MET          | \n",
       "| sexboy       |  0.084390439 | 0.09147499   |  0.92255208  | PHE          | \n",
       "| sexboy       | -0.751393945 | 0.64337250   | -1.16789875  | THR          | \n",
       "| sexboy       |  0.009723059 | 0.01378500   |  0.70533624  | TRP          | \n",
       "| sexboy       | -0.010395363 | 0.29036672   | -0.03580081  | VAL          | \n",
       "\n",
       "\n"
      ],
      "text/plain": [
       "  term   estimate     std.error  statistic   AA \n",
       "1 sexboy  0.033653895 0.16654079  0.20207598 HIS\n",
       "2 sexboy  0.029099657 0.11118122  0.26173176 ILE\n",
       "3 sexboy -0.007958073 0.23761662 -0.03349123 LEU\n",
       "4 sexboy  0.226094656 0.26104797  0.86610387 LYS\n",
       "5 sexboy  0.072466361 0.06371412  1.13736728 MET\n",
       "6 sexboy  0.084390439 0.09147499  0.92255208 PHE\n",
       "7 sexboy -0.751393945 0.64337250 -1.16789875 THR\n",
       "8 sexboy  0.009723059 0.01378500  0.70533624 TRP\n",
       "9 sexboy -0.010395363 0.29036672 -0.03580081 VAL"
      ]
     },
     "metadata": {},
     "output_type": "display_data"
    },
    {
     "data": {
      "text/html": [
       "<table>\n",
       "<thead><tr><th scope=col>term</th><th scope=col>estimate</th><th scope=col>std.error</th><th scope=col>statistic</th><th scope=col>AA</th></tr></thead>\n",
       "<tbody>\n",
       "\t<tr><td>sexboy   </td><td>0.2065960</td><td>0.1842581</td><td>1.1212316</td><td>ARG      </td></tr>\n",
       "\t<tr><td>sexboy   </td><td>0.1230930</td><td>0.5403108</td><td>0.2278189</td><td>ASP      </td></tr>\n",
       "\t<tr><td>sexboy   </td><td>0.2120318</td><td>1.8293545</td><td>0.1159053</td><td>ALA      </td></tr>\n",
       "\t<tr><td>sexboy   </td><td>0.0800377</td><td>0.1280958</td><td>0.6248266</td><td>ASN      </td></tr>\n",
       "\t<tr><td>sexboy   </td><td>0.2989439</td><td>0.1869555</td><td>1.5990110</td><td>CYS      </td></tr>\n",
       "\t<tr><td>sexboy   </td><td>1.1919557</td><td>0.9086241</td><td>1.3118250</td><td>GLY      </td></tr>\n",
       "\t<tr><td>sexboy   </td><td>5.5436361</td><td>7.7833029</td><td>0.7122472</td><td>GLU      </td></tr>\n",
       "\t<tr><td>sexboy   </td><td>1.3919164</td><td>3.8663011</td><td>0.3600124</td><td>GLN      </td></tr>\n",
       "\t<tr><td>sexboy   </td><td>0.4135682</td><td>0.4249354</td><td>0.9732495</td><td>PRO      </td></tr>\n",
       "\t<tr><td>sexboy   </td><td>0.8979458</td><td>0.7890213</td><td>1.1380501</td><td>SER      </td></tr>\n",
       "\t<tr><td>sexboy   </td><td>0.1819152</td><td>0.1287884</td><td>1.4125130</td><td>TYR      </td></tr>\n",
       "</tbody>\n",
       "</table>\n"
      ],
      "text/latex": [
       "\\begin{tabular}{r|lllll}\n",
       " term & estimate & std.error & statistic & AA\\\\\n",
       "\\hline\n",
       "\t sexboy    & 0.2065960 & 0.1842581 & 1.1212316 & ARG      \\\\\n",
       "\t sexboy    & 0.1230930 & 0.5403108 & 0.2278189 & ASP      \\\\\n",
       "\t sexboy    & 0.2120318 & 1.8293545 & 0.1159053 & ALA      \\\\\n",
       "\t sexboy    & 0.0800377 & 0.1280958 & 0.6248266 & ASN      \\\\\n",
       "\t sexboy    & 0.2989439 & 0.1869555 & 1.5990110 & CYS      \\\\\n",
       "\t sexboy    & 1.1919557 & 0.9086241 & 1.3118250 & GLY      \\\\\n",
       "\t sexboy    & 5.5436361 & 7.7833029 & 0.7122472 & GLU      \\\\\n",
       "\t sexboy    & 1.3919164 & 3.8663011 & 0.3600124 & GLN      \\\\\n",
       "\t sexboy    & 0.4135682 & 0.4249354 & 0.9732495 & PRO      \\\\\n",
       "\t sexboy    & 0.8979458 & 0.7890213 & 1.1380501 & SER      \\\\\n",
       "\t sexboy    & 0.1819152 & 0.1287884 & 1.4125130 & TYR      \\\\\n",
       "\\end{tabular}\n"
      ],
      "text/markdown": [
       "\n",
       "term | estimate | std.error | statistic | AA | \n",
       "|---|---|---|---|---|---|---|---|---|---|---|\n",
       "| sexboy    | 0.2065960 | 0.1842581 | 1.1212316 | ARG       | \n",
       "| sexboy    | 0.1230930 | 0.5403108 | 0.2278189 | ASP       | \n",
       "| sexboy    | 0.2120318 | 1.8293545 | 0.1159053 | ALA       | \n",
       "| sexboy    | 0.0800377 | 0.1280958 | 0.6248266 | ASN       | \n",
       "| sexboy    | 0.2989439 | 0.1869555 | 1.5990110 | CYS       | \n",
       "| sexboy    | 1.1919557 | 0.9086241 | 1.3118250 | GLY       | \n",
       "| sexboy    | 5.5436361 | 7.7833029 | 0.7122472 | GLU       | \n",
       "| sexboy    | 1.3919164 | 3.8663011 | 0.3600124 | GLN       | \n",
       "| sexboy    | 0.4135682 | 0.4249354 | 0.9732495 | PRO       | \n",
       "| sexboy    | 0.8979458 | 0.7890213 | 1.1380501 | SER       | \n",
       "| sexboy    | 0.1819152 | 0.1287884 | 1.4125130 | TYR       | \n",
       "\n",
       "\n"
      ],
      "text/plain": [
       "   term   estimate  std.error statistic AA \n",
       "1  sexboy 0.2065960 0.1842581 1.1212316 ARG\n",
       "2  sexboy 0.1230930 0.5403108 0.2278189 ASP\n",
       "3  sexboy 0.2120318 1.8293545 0.1159053 ALA\n",
       "4  sexboy 0.0800377 0.1280958 0.6248266 ASN\n",
       "5  sexboy 0.2989439 0.1869555 1.5990110 CYS\n",
       "6  sexboy 1.1919557 0.9086241 1.3118250 GLY\n",
       "7  sexboy 5.5436361 7.7833029 0.7122472 GLU\n",
       "8  sexboy 1.3919164 3.8663011 0.3600124 GLN\n",
       "9  sexboy 0.4135682 0.4249354 0.9732495 PRO\n",
       "10 sexboy 0.8979458 0.7890213 1.1380501 SER\n",
       "11 sexboy 0.1819152 0.1287884 1.4125130 TYR"
      ]
     },
     "metadata": {},
     "output_type": "display_data"
    }
   ],
   "source": [
    "sexCoef_E_HC <- bind_rows(tidy_E_HC) %>% filter(grepl(\"sex\", term))\n",
    "sexCoef_NE_HC <- bind_rows(tidy_NE_HC) %>% filter(grepl(\"sex\", term))\n",
    "\n",
    "sexCoef_E_HC\n",
    "sexCoef_NE_HC"
   ]
  },
  {
   "cell_type": "code",
   "execution_count": 58,
   "metadata": {},
   "outputs": [
    {
     "data": {},
     "metadata": {},
     "output_type": "display_data"
    },
    {
     "data": {
      "image/png": "[encoded data removed]",
      "text/plain": [
       "plot without title"
      ]
     },
     "metadata": {},
     "output_type": "display_data"
    }
   ],
   "source": [
    "#png(filename=\"./plots/sex_E_HC.png\", units=\"cm\", width=20, height=20, res = 300)\n",
    "ggplot(sexCoef_E, aes(x = reorder(AA, estimate), y = estimate, color = AA)) + \n",
    "    geom_hline(yintercept = 0, alpha = 0.4) + \n",
    "    geom_point() + geom_pointrange( aes(x = AA, ymin = estimate - 2*std.error, ymax = estimate + 2*std.error)) + \n",
    "    theme(legend.position = \"none\") + \n",
    "    coord_flip() + \n",
    "    ggtitle('Essential AA \\n Estimate and 95% CI - controlling for head circumference and week') + \n",
    "    xlab('estimate') + ylab(TeX('sex (boy $\\\\rightarrow$)'))   \n",
    "#dev.off()"
   ]
  },
  {
   "cell_type": "code",
   "execution_count": 71,
   "metadata": {},
   "outputs": [
    {
     "data": {},
     "metadata": {},
     "output_type": "display_data"
    },
    {
     "data": {
      "image/png": "[encoded data removed]",
      "text/plain": [
       "plot without title"
      ]
     },
     "metadata": {},
     "output_type": "display_data"
    }
   ],
   "source": [
    "#png(filename=\"./plots/sex_NE_HC.png\", units=\"cm\", width=20, height=20, res = 300)\n",
    "ggplot(sexCoef_NE_HC, aes(x = reorder(AA, estimate), y = estimate, color = AA)) + \n",
    "    geom_hline(yintercept = 0, alpha = 0.4) + \n",
    "    geom_point() + geom_pointrange( aes(x = AA, ymin = estimate - 2*std.error, ymax = estimate + 2*std.error)) + \n",
    "    theme(legend.position = \"none\") + \n",
    "    coord_flip() + \n",
    "    ggtitle('Non Essential AA \\n Estimate and 95% CI - controlling for head circumference and week') + \n",
    "    xlab('estimate') + ylab(TeX('sex (boy $\\\\rightarrow$)'))   \n",
    "#dev.off()"
   ]
  },
  {
   "cell_type": "code",
   "execution_count": 73,
   "metadata": {},
   "outputs": [
    {
     "data": {},
     "metadata": {},
     "output_type": "display_data"
    },
    {
     "data": {
      "image/png": "[encoded data removed]",
      "text/plain": [
       "plot without title"
      ]
     },
     "metadata": {},
     "output_type": "display_data"
    }
   ],
   "source": [
    "#png(filename=\"./plots/sex_NE_HC_detail.png\", units=\"cm\", width=20, height=20, res = 300)\n",
    "ggplot(sexCoef_NE_HC, aes(x = reorder(AA, estimate), y = estimate, color = AA)) + \n",
    "    geom_hline(yintercept = 0, alpha = 0.4) + \n",
    "    geom_point() + geom_pointrange( aes(x = AA, ymin = estimate - 2*std.error, ymax = estimate + 2*std.error)) + \n",
    "    theme(legend.position = \"none\") + \n",
    "    coord_flip(ylim = c(-4.5, 4.5), xlim = c(1, 5.8)) + \n",
    "    ggtitle('Non Essential AA \\n Estimate and 95% CI - controlling for head circumference and week') + \n",
    "    xlab('estimate') + ylab(TeX('sex (boy $\\\\rightarrow$)'))   \n",
    "#dev.off()"
   ]
  },
  {
   "cell_type": "markdown",
   "metadata": {},
   "source": [
    "## Group and Free AA levels"
   ]
  },
  {
   "cell_type": "code",
   "execution_count": 38,
   "metadata": {},
   "outputs": [
    {
     "name": "stdout",
     "output_type": "stream",
     "text": [
      "      group\n",
      "sex    teen adult\n",
      "  girl   13    13\n",
      "  boy    24    11\n"
     ]
    }
   ],
   "source": [
    "table = table( AA_E %>% select(sex, group)) \n",
    "print(table)"
   ]
  },
  {
   "cell_type": "markdown",
   "metadata": {},
   "source": [
    "Teen mothers have almost twice the number of boys: 24 boys and 13 girls. Is there an assosiation between group and sex? \n",
    "\n",
    "\n",
    "$H_0:$ group and sex are independent."
   ]
  },
  {
   "cell_type": "code",
   "execution_count": 37,
   "metadata": {},
   "outputs": [
    {
     "name": "stdout",
     "output_type": "stream",
     "text": [
      "\n",
      "\tPearson's Chi-squared test with Yates' continuity correction\n",
      "\n",
      "data:  table\n",
      "X-squared = 1.448, df = 1, p-value = 0.2288\n",
      "\n"
     ]
    }
   ],
   "source": [
    "print(chisq.test(table))"
   ]
  },
  {
   "cell_type": "markdown",
   "metadata": {},
   "source": [
    "$P(independence) \\approx 0.23$ \n",
    "\n",
    "### The model: \n",
    "\n",
    "$AA = \\alpha_0 + \\alpha_1 \\ group + \\alpha_2 \\ sex + \\alpha_{id}$"
   ]
  },
  {
   "cell_type": "code",
   "execution_count": null,
   "metadata": {
    "collapsed": true
   },
   "outputs": [],
   "source": []
  }
 ],
 "metadata": {
  "kernelspec": {
   "display_name": "R 3.3",
   "language": "R",
   "name": "ir33"
  },
  "language_info": {
   "codemirror_mode": "r",
   "file_extension": ".r",
   "mimetype": "text/x-r-source",
   "name": "R",
   "pygments_lexer": "r",
   "version": "3.3.3"
  }
 },
 "nbformat": 4,
 "nbformat_minor": 2
}
