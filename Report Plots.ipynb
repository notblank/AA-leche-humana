{
 "cells": [
  {
   "cell_type": "code",
   "execution_count": 1,
   "metadata": {},
   "outputs": [
    {
     "name": "stderr",
     "output_type": "stream",
     "text": [
      "Loading tidyverse: ggplot2\n",
      "Loading tidyverse: tibble\n",
      "Loading tidyverse: tidyr\n",
      "Loading tidyverse: readr\n",
      "Loading tidyverse: purrr\n",
      "Loading tidyverse: dplyr\n",
      "Conflicts with tidy packages ---------------------------------------------------\n",
      "filter(): dplyr, stats\n",
      "lag():    dplyr, stats\n",
      "Loading required package: Matrix\n",
      "\n",
      "Attaching package: 'Matrix'\n",
      "\n",
      "The following object is masked from 'package:tidyr':\n",
      "\n",
      "    expand\n",
      "\n"
     ]
    }
   ],
   "source": [
    "library(haven)\n",
    "library(tidyverse)\n",
    "library(broom)\n",
    "library(lme4) \n",
    "library(latex2exp)"
   ]
  },
  {
   "cell_type": "code",
   "execution_count": 2,
   "metadata": {},
   "outputs": [
    {
     "data": {
      "text/html": [
       "<table>\n",
       "<thead><tr><th scope=col>ID</th><th scope=col>GROUP</th><th scope=col>MATERNALAGE</th><th scope=col>SEXO</th><th scope=col>INFANTDOB</th><th scope=col>MATBMI1COLL</th><th scope=col>MATBMI215d</th><th scope=col>MATBMI32mos</th><th scope=col>MATBMI44mos</th><th scope=col>BABYWeigth1g</th><th scope=col>...</th><th scope=col>ALAGLOB</th><th scope=col>ASNGLOB</th><th scope=col>SYSGLOB</th><th scope=col>GLYGLOB</th><th scope=col>GLUGLOB</th><th scope=col>GLNGLOB</th><th scope=col>PROLINEGLOB</th><th scope=col>SERINEGLOB</th><th scope=col>TYRAMINEGLOB</th><th scope=col>new</th></tr></thead>\n",
       "<tbody>\n",
       "\t<tr><td>1         </td><td>0         </td><td>17        </td><td> 1        </td><td>2009-08-20</td><td>25        </td><td>24        </td><td>24        </td><td>22        </td><td>3492.7    </td><td>...       </td><td>21.25     </td><td>0.5       </td><td>1.00      </td><td>10.00     </td><td> 87.25    </td><td>23.25     </td><td>2.75      </td><td>8.0       </td><td>1.00      </td><td>0         </td></tr>\n",
       "\t<tr><td>2         </td><td>0         </td><td>16        </td><td> 2        </td><td>2009-08-24</td><td>32        </td><td>31        </td><td>30        </td><td>29        </td><td>3392.9    </td><td>...       </td><td>18.25     </td><td>0.0       </td><td>0.75      </td><td>13.75     </td><td>100.50    </td><td>40.50     </td><td>2.50      </td><td>9.5       </td><td>0.75      </td><td>0         </td></tr>\n",
       "\t<tr><td>3         </td><td>0         </td><td>17        </td><td> 2        </td><td>2009-08-21</td><td>23        </td><td>23        </td><td>NA        </td><td>NA        </td><td>2993.8    </td><td>...       </td><td>   NA     </td><td> NA       </td><td>  NA      </td><td>   NA     </td><td>    NA    </td><td>   NA     </td><td>  NA      </td><td> NA       </td><td>  NA      </td><td>0         </td></tr>\n",
       "\t<tr><td>4         </td><td>0         </td><td>16        </td><td> 2        </td><td>2009-08-21</td><td>26        </td><td>NA        </td><td>NA        </td><td>NA        </td><td>3692.3    </td><td>...       </td><td>   NA     </td><td> NA       </td><td>  NA      </td><td>   NA     </td><td>    NA    </td><td>   NA     </td><td>  NA      </td><td> NA       </td><td>  NA      </td><td>0         </td></tr>\n",
       "\t<tr><td>5         </td><td>0         </td><td>16        </td><td>NA        </td><td>2009-08-29</td><td>25        </td><td>NA        </td><td>NA        </td><td>NA        </td><td>3592.5    </td><td>...       </td><td>   NA     </td><td> NA       </td><td>  NA      </td><td>   NA     </td><td>    NA    </td><td>   NA     </td><td>  NA      </td><td> NA       </td><td>  NA      </td><td>0         </td></tr>\n",
       "\t<tr><td>6         </td><td>0         </td><td>16        </td><td> 2        </td><td>2009-08-27</td><td>29        </td><td>28        </td><td>30        </td><td>31        </td><td>3093.5    </td><td>...       </td><td>15.50     </td><td>0.5       </td><td>1.50      </td><td>10.25     </td><td> 74.75    </td><td>30.00     </td><td>5.25      </td><td>8.0       </td><td>2.00      </td><td>0         </td></tr>\n",
       "</tbody>\n",
       "</table>\n"
      ],
      "text/latex": [
       "\\begin{tabular}{r|lllllllllllllllllllllllllllllllllllllllllllllllllllllllllllllllllllllllllllllllllllllllllllllllllllllllllllllllllllllllllllllllllllllllllllllllllllllllllllllllllllllllllll}\n",
       " ID & GROUP & MATERNALAGE & SEXO & INFANTDOB & MATBMI1COLL & MATBMI215d & MATBMI32mos & MATBMI44mos & BABYWeigth1g & ... & ALAGLOB & ASNGLOB & SYSGLOB & GLYGLOB & GLUGLOB & GLNGLOB & PROLINEGLOB & SERINEGLOB & TYRAMINEGLOB & new\\\\\n",
       "\\hline\n",
       "\t 1          & 0          & 17         &  1         & 2009-08-20 & 25         & 24         & 24         & 22         & 3492.7     & ...        & 21.25      & 0.5        & 1.00       & 10.00      &  87.25     & 23.25      & 2.75       & 8.0        & 1.00       & 0         \\\\\n",
       "\t 2          & 0          & 16         &  2         & 2009-08-24 & 32         & 31         & 30         & 29         & 3392.9     & ...        & 18.25      & 0.0        & 0.75       & 13.75      & 100.50     & 40.50      & 2.50       & 9.5        & 0.75       & 0         \\\\\n",
       "\t 3          & 0          & 17         &  2         & 2009-08-21 & 23         & 23         & NA         & NA         & 2993.8     & ...        &    NA      &  NA        &   NA       &    NA      &     NA     &    NA      &   NA       &  NA        &   NA       & 0         \\\\\n",
       "\t 4          & 0          & 16         &  2         & 2009-08-21 & 26         & NA         & NA         & NA         & 3692.3     & ...        &    NA      &  NA        &   NA       &    NA      &     NA     &    NA      &   NA       &  NA        &   NA       & 0         \\\\\n",
       "\t 5          & 0          & 16         & NA         & 2009-08-29 & 25         & NA         & NA         & NA         & 3592.5     & ...        &    NA      &  NA        &   NA       &    NA      &     NA     &    NA      &   NA       &  NA        &   NA       & 0         \\\\\n",
       "\t 6          & 0          & 16         &  2         & 2009-08-27 & 29         & 28         & 30         & 31         & 3093.5     & ...        & 15.50      & 0.5        & 1.50       & 10.25      &  74.75     & 30.00      & 5.25       & 8.0        & 2.00       & 0         \\\\\n",
       "\\end{tabular}\n"
      ],
      "text/markdown": [
       "\n",
       "ID | GROUP | MATERNALAGE | SEXO | INFANTDOB | MATBMI1COLL | MATBMI215d | MATBMI32mos | MATBMI44mos | BABYWeigth1g | ... | ALAGLOB | ASNGLOB | SYSGLOB | GLYGLOB | GLUGLOB | GLNGLOB | PROLINEGLOB | SERINEGLOB | TYRAMINEGLOB | new | \n",
       "|---|---|---|---|---|---|\n",
       "| 1          | 0          | 17         |  1         | 2009-08-20 | 25         | 24         | 24         | 22         | 3492.7     | ...        | 21.25      | 0.5        | 1.00       | 10.00      |  87.25     | 23.25      | 2.75       | 8.0        | 1.00       | 0          | \n",
       "| 2          | 0          | 16         |  2         | 2009-08-24 | 32         | 31         | 30         | 29         | 3392.9     | ...        | 18.25      | 0.0        | 0.75       | 13.75      | 100.50     | 40.50      | 2.50       | 9.5        | 0.75       | 0          | \n",
       "| 3          | 0          | 17         |  2         | 2009-08-21 | 23         | 23         | NA         | NA         | 2993.8     | ...        |    NA      |  NA        |   NA       |    NA      |     NA     |    NA      |   NA       |  NA        |   NA       | 0          | \n",
       "| 4          | 0          | 16         |  2         | 2009-08-21 | 26         | NA         | NA         | NA         | 3692.3     | ...        |    NA      |  NA        |   NA       |    NA      |     NA     |    NA      |   NA       |  NA        |   NA       | 0          | \n",
       "| 5          | 0          | 16         | NA         | 2009-08-29 | 25         | NA         | NA         | NA         | 3592.5     | ...        |    NA      |  NA        |   NA       |    NA      |     NA     |    NA      |   NA       |  NA        |   NA       | 0          | \n",
       "| 6          | 0          | 16         |  2         | 2009-08-27 | 29         | 28         | 30         | 31         | 3093.5     | ...        | 15.50      | 0.5        | 1.50       | 10.25      |  74.75     | 30.00      | 5.25       | 8.0        | 2.00       | 0          | \n",
       "\n",
       "\n"
      ],
      "text/plain": [
       "  ID GROUP MATERNALAGE SEXO INFANTDOB  MATBMI1COLL MATBMI215d MATBMI32mos\n",
       "1 1  0     17           1   2009-08-20 25          24         24         \n",
       "2 2  0     16           2   2009-08-24 32          31         30         \n",
       "3 3  0     17           2   2009-08-21 23          23         NA         \n",
       "4 4  0     16           2   2009-08-21 26          NA         NA         \n",
       "5 5  0     16          NA   2009-08-29 25          NA         NA         \n",
       "6 6  0     16           2   2009-08-27 29          28         30         \n",
       "  MATBMI44mos BABYWeigth1g ... ALAGLOB ASNGLOB SYSGLOB GLYGLOB GLUGLOB GLNGLOB\n",
       "1 22          3492.7       ... 21.25   0.5     1.00    10.00    87.25  23.25  \n",
       "2 29          3392.9       ... 18.25   0.0     0.75    13.75   100.50  40.50  \n",
       "3 NA          2993.8       ...    NA    NA       NA       NA       NA     NA  \n",
       "4 NA          3692.3       ...    NA    NA       NA       NA       NA     NA  \n",
       "5 NA          3592.5       ...    NA    NA       NA       NA       NA     NA  \n",
       "6 31          3093.5       ... 15.50   0.5     1.50    10.25    74.75  30.00  \n",
       "  PROLINEGLOB SERINEGLOB TYRAMINEGLOB new\n",
       "1 2.75        8.0        1.00         0  \n",
       "2 2.50        9.5        0.75         0  \n",
       "3   NA         NA          NA         0  \n",
       "4   NA         NA          NA         0  \n",
       "5   NA         NA          NA         0  \n",
       "6 5.25        8.0        2.00         0  "
      ]
     },
     "metadata": {},
     "output_type": "display_data"
    }
   ],
   "source": [
    "AA_Sex_1 <- read_sav(\"C:/Users/Personal/AA leche/datos/AMINOACIDOS POR SEXO_1.sav\")\n",
    "head(AA_Sex_1) "
   ]
  },
  {
   "cell_type": "code",
   "execution_count": 3,
   "metadata": {},
   "outputs": [
    {
     "data": {
      "text/html": [
       "<ol class=list-inline>\n",
       "\t<li>'ID'</li>\n",
       "\t<li>'GROUP'</li>\n",
       "\t<li>'MATERNALAGE'</li>\n",
       "\t<li>'SEXO'</li>\n",
       "\t<li>'INFANTDOB'</li>\n",
       "\t<li>'MATBMI1COLL'</li>\n",
       "\t<li>'MATBMI215d'</li>\n",
       "\t<li>'MATBMI32mos'</li>\n",
       "\t<li>'MATBMI44mos'</li>\n",
       "\t<li>'BABYWeigth1g'</li>\n",
       "\t<li>'BABYWeigth2g'</li>\n",
       "\t<li>'BABYWeigth3g'</li>\n",
       "\t<li>'BABYWeigth4g'</li>\n",
       "\t<li>'HeadCircumcm1'</li>\n",
       "\t<li>'HCcm2'</li>\n",
       "\t<li>'HCcm3'</li>\n",
       "\t<li>'HCcm4'</li>\n",
       "\t<li>'MATHeight1m'</li>\n",
       "\t<li>'MATHeight2m'</li>\n",
       "\t<li>'MATHeight3m'</li>\n",
       "\t<li>'MATHeight4m'</li>\n",
       "\t<li>'MATWeight1kg'</li>\n",
       "\t<li>'MATWeight2kg'</li>\n",
       "\t<li>'MATWeight3kg'</li>\n",
       "\t<li>'MATWeight4kg'</li>\n",
       "\t<li>'A.TOTALCALORIESKcal'</li>\n",
       "\t<li>'B.TOTALCALORIESKcal'</li>\n",
       "\t<li>'A.PROTEINg'</li>\n",
       "\t<li>'B.PROTEINg'</li>\n",
       "\t<li>'A.CHOg'</li>\n",
       "\t<li>'B.CHOg'</li>\n",
       "\t<li>'A.LIPIDSg'</li>\n",
       "\t<li>'B.LIPIDSg'</li>\n",
       "\t<li>'A.GLUCOSEmgdL'</li>\n",
       "\t<li>'B.GLUCOSEmgdL'</li>\n",
       "\t<li>'A.CHOLESTEROLmgdL'</li>\n",
       "\t<li>'B.CHOLESTEROLmgdL'</li>\n",
       "\t<li>'A.TRIGLYCERIDSmgdL'</li>\n",
       "\t<li>'B.TRIGLYCERIDmgdL'</li>\n",
       "\t<li>'A.HDLmgdL'</li>\n",
       "\t<li>'B.HDLmgdL'</li>\n",
       "\t<li>'A.LDLmgdL'</li>\n",
       "\t<li>'B.LDLmgdL'</li>\n",
       "\t<li>'A.PROTEINSgdL'</li>\n",
       "\t<li>'B.PROTEINSgdL'</li>\n",
       "\t<li>'A.ALBUMINgdL'</li>\n",
       "\t<li>'B.ALBUMINgdL'</li>\n",
       "\t<li>'edadr'</li>\n",
       "\t<li>'Grupos'</li>\n",
       "\t<li>'CALOSTRUMtotalAA'</li>\n",
       "\t<li>'TRANSITIONtotalAA'</li>\n",
       "\t<li>'MATURE2mtotalAA'</li>\n",
       "\t<li>'MATURE4mtotalAA'</li>\n",
       "\t<li>'CALOSTRUMessentialAA'</li>\n",
       "\t<li>'TRANSITIONessentialAA'</li>\n",
       "\t<li>'MATURE2messentialAA'</li>\n",
       "\t<li>'MATURE4messentialAA'</li>\n",
       "\t<li>'ARGCalostrum'</li>\n",
       "\t<li>'ARGTransition'</li>\n",
       "\t<li>'ARGMature2m'</li>\n",
       "\t<li>'ARGMature4m'</li>\n",
       "\t<li>'HISCalostrum'</li>\n",
       "\t<li>'HISTransition'</li>\n",
       "\t<li>'HISMature2m'</li>\n",
       "\t<li>'HISMature4m'</li>\n",
       "\t<li>'ILECalostrum'</li>\n",
       "\t<li>'ILETransition'</li>\n",
       "\t<li>'ILEMature2m'</li>\n",
       "\t<li>'ILEMature4m'</li>\n",
       "\t<li>'LEUCalostrum'</li>\n",
       "\t<li>'LEUTransition'</li>\n",
       "\t<li>'LEUMature2m'</li>\n",
       "\t<li>'LEUMature4m'</li>\n",
       "\t<li>'LYSCalostrum'</li>\n",
       "\t<li>'LYSTransition'</li>\n",
       "\t<li>'LYSMature2m'</li>\n",
       "\t<li>'LYSMature4m'</li>\n",
       "\t<li>'METCalostrum'</li>\n",
       "\t<li>'METTransition'</li>\n",
       "\t<li>'METMature2m'</li>\n",
       "\t<li>'METMature4m'</li>\n",
       "\t<li>'PHECalostrum'</li>\n",
       "\t<li>'PHETransition'</li>\n",
       "\t<li>'PHEMature2m'</li>\n",
       "\t<li>'PHEMature4m'</li>\n",
       "\t<li>'THRCalostrum'</li>\n",
       "\t<li>'THRTransition'</li>\n",
       "\t<li>'THRMature2m'</li>\n",
       "\t<li>'THRMature4m'</li>\n",
       "\t<li>'TRPCalostrum'</li>\n",
       "\t<li>'TRPTransition'</li>\n",
       "\t<li>'TRPMature2m'</li>\n",
       "\t<li>'TRPMature4m'</li>\n",
       "\t<li>'VALCalostrum'</li>\n",
       "\t<li>'VALTransition'</li>\n",
       "\t<li>'VALMature2m'</li>\n",
       "\t<li>'VALMature4m'</li>\n",
       "\t<li>'CALOSTRUMnonessentialAA'</li>\n",
       "\t<li>'TRANSITIONnonessentialAA'</li>\n",
       "\t<li>'MATURE2mnonessentialAA'</li>\n",
       "\t<li>'MATURE4mnonessentialAA'</li>\n",
       "\t<li>'ASPCalostrum'</li>\n",
       "\t<li>'ASPTransition'</li>\n",
       "\t<li>'ASPMature2m'</li>\n",
       "\t<li>'ASPMature4m'</li>\n",
       "\t<li>'ALACalostrum'</li>\n",
       "\t<li>'ALATransition'</li>\n",
       "\t<li>'ALAMature2m'</li>\n",
       "\t<li>'ALAMature4m'</li>\n",
       "\t<li>'ASNCalostrum'</li>\n",
       "\t<li>'ASNTransition'</li>\n",
       "\t<li>'ASNMature2m'</li>\n",
       "\t<li>'ASNMature4m'</li>\n",
       "\t<li>'CYSCalostrum'</li>\n",
       "\t<li>'CYSTransition'</li>\n",
       "\t<li>'CYSMature2m'</li>\n",
       "\t<li>'CYSMature4m'</li>\n",
       "\t<li>'GLYCalostrum'</li>\n",
       "\t<li>'GLYTransition'</li>\n",
       "\t<li>'GLYMature2m'</li>\n",
       "\t<li>'GLYMature4m'</li>\n",
       "\t<li>'GLUCalostrum'</li>\n",
       "\t<li>'GLUTransition'</li>\n",
       "\t<li>'GLUMature2m'</li>\n",
       "\t<li>'GLUMature4m'</li>\n",
       "\t<li>'GLNCalostrum'</li>\n",
       "\t<li>'GLNTransition'</li>\n",
       "\t<li>'GLNMature2m'</li>\n",
       "\t<li>'GLNMature4m'</li>\n",
       "\t<li>'PROCalostrum'</li>\n",
       "\t<li>'PROTransition'</li>\n",
       "\t<li>'PROMature2m'</li>\n",
       "\t<li>'PROMature4m'</li>\n",
       "\t<li>'SERCalostrum'</li>\n",
       "\t<li>'SERTransition'</li>\n",
       "\t<li>'SERMature2m'</li>\n",
       "\t<li>'SERMature4m'</li>\n",
       "\t<li>'TYRCalostrum'</li>\n",
       "\t<li>'TYRTransition'</li>\n",
       "\t<li>'TYRMature2m'</li>\n",
       "\t<li>'TYRMature4m'</li>\n",
       "\t<li>'filter_$'</li>\n",
       "\t<li>'CAL1NONE'</li>\n",
       "\t<li>'TRANS2NONE'</li>\n",
       "\t<li>'MAT3NONE'</li>\n",
       "\t<li>'MAT4NONE'</li>\n",
       "\t<li>'ADOEXTR'</li>\n",
       "\t<li>'TotalAAGLOB'</li>\n",
       "\t<li>'EssentAAGLOB'</li>\n",
       "\t<li>'ARGGLOB'</li>\n",
       "\t<li>'HISTGLOB'</li>\n",
       "\t<li>'ISOLGLOB'</li>\n",
       "\t<li>'LEUCINEGLOB'</li>\n",
       "\t<li>'LYSINEGLOB'</li>\n",
       "\t<li>'METHIONGLOB'</li>\n",
       "\t<li>'PHENYLGLOB'</li>\n",
       "\t<li>'THREOGLOB'</li>\n",
       "\t<li>'TRYPTOGLOB'</li>\n",
       "\t<li>'VALINEGLOB'</li>\n",
       "\t<li>'NONESSENGLOB'</li>\n",
       "\t<li>'ASPGLOB'</li>\n",
       "\t<li>'ALAGLOB'</li>\n",
       "\t<li>'ASNGLOB'</li>\n",
       "\t<li>'SYSGLOB'</li>\n",
       "\t<li>'GLYGLOB'</li>\n",
       "\t<li>'GLUGLOB'</li>\n",
       "\t<li>'GLNGLOB'</li>\n",
       "\t<li>'PROLINEGLOB'</li>\n",
       "\t<li>'SERINEGLOB'</li>\n",
       "\t<li>'TYRAMINEGLOB'</li>\n",
       "\t<li>'new'</li>\n",
       "</ol>\n"
      ],
      "text/latex": [
       "\\begin{enumerate*}\n",
       "\\item 'ID'\n",
       "\\item 'GROUP'\n",
       "\\item 'MATERNALAGE'\n",
       "\\item 'SEXO'\n",
       "\\item 'INFANTDOB'\n",
       "\\item 'MATBMI1COLL'\n",
       "\\item 'MATBMI215d'\n",
       "\\item 'MATBMI32mos'\n",
       "\\item 'MATBMI44mos'\n",
       "\\item 'BABYWeigth1g'\n",
       "\\item 'BABYWeigth2g'\n",
       "\\item 'BABYWeigth3g'\n",
       "\\item 'BABYWeigth4g'\n",
       "\\item 'HeadCircumcm1'\n",
       "\\item 'HCcm2'\n",
       "\\item 'HCcm3'\n",
       "\\item 'HCcm4'\n",
       "\\item 'MATHeight1m'\n",
       "\\item 'MATHeight2m'\n",
       "\\item 'MATHeight3m'\n",
       "\\item 'MATHeight4m'\n",
       "\\item 'MATWeight1kg'\n",
       "\\item 'MATWeight2kg'\n",
       "\\item 'MATWeight3kg'\n",
       "\\item 'MATWeight4kg'\n",
       "\\item 'A.TOTALCALORIESKcal'\n",
       "\\item 'B.TOTALCALORIESKcal'\n",
       "\\item 'A.PROTEINg'\n",
       "\\item 'B.PROTEINg'\n",
       "\\item 'A.CHOg'\n",
       "\\item 'B.CHOg'\n",
       "\\item 'A.LIPIDSg'\n",
       "\\item 'B.LIPIDSg'\n",
       "\\item 'A.GLUCOSEmgdL'\n",
       "\\item 'B.GLUCOSEmgdL'\n",
       "\\item 'A.CHOLESTEROLmgdL'\n",
       "\\item 'B.CHOLESTEROLmgdL'\n",
       "\\item 'A.TRIGLYCERIDSmgdL'\n",
       "\\item 'B.TRIGLYCERIDmgdL'\n",
       "\\item 'A.HDLmgdL'\n",
       "\\item 'B.HDLmgdL'\n",
       "\\item 'A.LDLmgdL'\n",
       "\\item 'B.LDLmgdL'\n",
       "\\item 'A.PROTEINSgdL'\n",
       "\\item 'B.PROTEINSgdL'\n",
       "\\item 'A.ALBUMINgdL'\n",
       "\\item 'B.ALBUMINgdL'\n",
       "\\item 'edadr'\n",
       "\\item 'Grupos'\n",
       "\\item 'CALOSTRUMtotalAA'\n",
       "\\item 'TRANSITIONtotalAA'\n",
       "\\item 'MATURE2mtotalAA'\n",
       "\\item 'MATURE4mtotalAA'\n",
       "\\item 'CALOSTRUMessentialAA'\n",
       "\\item 'TRANSITIONessentialAA'\n",
       "\\item 'MATURE2messentialAA'\n",
       "\\item 'MATURE4messentialAA'\n",
       "\\item 'ARGCalostrum'\n",
       "\\item 'ARGTransition'\n",
       "\\item 'ARGMature2m'\n",
       "\\item 'ARGMature4m'\n",
       "\\item 'HISCalostrum'\n",
       "\\item 'HISTransition'\n",
       "\\item 'HISMature2m'\n",
       "\\item 'HISMature4m'\n",
       "\\item 'ILECalostrum'\n",
       "\\item 'ILETransition'\n",
       "\\item 'ILEMature2m'\n",
       "\\item 'ILEMature4m'\n",
       "\\item 'LEUCalostrum'\n",
       "\\item 'LEUTransition'\n",
       "\\item 'LEUMature2m'\n",
       "\\item 'LEUMature4m'\n",
       "\\item 'LYSCalostrum'\n",
       "\\item 'LYSTransition'\n",
       "\\item 'LYSMature2m'\n",
       "\\item 'LYSMature4m'\n",
       "\\item 'METCalostrum'\n",
       "\\item 'METTransition'\n",
       "\\item 'METMature2m'\n",
       "\\item 'METMature4m'\n",
       "\\item 'PHECalostrum'\n",
       "\\item 'PHETransition'\n",
       "\\item 'PHEMature2m'\n",
       "\\item 'PHEMature4m'\n",
       "\\item 'THRCalostrum'\n",
       "\\item 'THRTransition'\n",
       "\\item 'THRMature2m'\n",
       "\\item 'THRMature4m'\n",
       "\\item 'TRPCalostrum'\n",
       "\\item 'TRPTransition'\n",
       "\\item 'TRPMature2m'\n",
       "\\item 'TRPMature4m'\n",
       "\\item 'VALCalostrum'\n",
       "\\item 'VALTransition'\n",
       "\\item 'VALMature2m'\n",
       "\\item 'VALMature4m'\n",
       "\\item 'CALOSTRUMnonessentialAA'\n",
       "\\item 'TRANSITIONnonessentialAA'\n",
       "\\item 'MATURE2mnonessentialAA'\n",
       "\\item 'MATURE4mnonessentialAA'\n",
       "\\item 'ASPCalostrum'\n",
       "\\item 'ASPTransition'\n",
       "\\item 'ASPMature2m'\n",
       "\\item 'ASPMature4m'\n",
       "\\item 'ALACalostrum'\n",
       "\\item 'ALATransition'\n",
       "\\item 'ALAMature2m'\n",
       "\\item 'ALAMature4m'\n",
       "\\item 'ASNCalostrum'\n",
       "\\item 'ASNTransition'\n",
       "\\item 'ASNMature2m'\n",
       "\\item 'ASNMature4m'\n",
       "\\item 'CYSCalostrum'\n",
       "\\item 'CYSTransition'\n",
       "\\item 'CYSMature2m'\n",
       "\\item 'CYSMature4m'\n",
       "\\item 'GLYCalostrum'\n",
       "\\item 'GLYTransition'\n",
       "\\item 'GLYMature2m'\n",
       "\\item 'GLYMature4m'\n",
       "\\item 'GLUCalostrum'\n",
       "\\item 'GLUTransition'\n",
       "\\item 'GLUMature2m'\n",
       "\\item 'GLUMature4m'\n",
       "\\item 'GLNCalostrum'\n",
       "\\item 'GLNTransition'\n",
       "\\item 'GLNMature2m'\n",
       "\\item 'GLNMature4m'\n",
       "\\item 'PROCalostrum'\n",
       "\\item 'PROTransition'\n",
       "\\item 'PROMature2m'\n",
       "\\item 'PROMature4m'\n",
       "\\item 'SERCalostrum'\n",
       "\\item 'SERTransition'\n",
       "\\item 'SERMature2m'\n",
       "\\item 'SERMature4m'\n",
       "\\item 'TYRCalostrum'\n",
       "\\item 'TYRTransition'\n",
       "\\item 'TYRMature2m'\n",
       "\\item 'TYRMature4m'\n",
       "\\item 'filter\\_\\$'\n",
       "\\item 'CAL1NONE'\n",
       "\\item 'TRANS2NONE'\n",
       "\\item 'MAT3NONE'\n",
       "\\item 'MAT4NONE'\n",
       "\\item 'ADOEXTR'\n",
       "\\item 'TotalAAGLOB'\n",
       "\\item 'EssentAAGLOB'\n",
       "\\item 'ARGGLOB'\n",
       "\\item 'HISTGLOB'\n",
       "\\item 'ISOLGLOB'\n",
       "\\item 'LEUCINEGLOB'\n",
       "\\item 'LYSINEGLOB'\n",
       "\\item 'METHIONGLOB'\n",
       "\\item 'PHENYLGLOB'\n",
       "\\item 'THREOGLOB'\n",
       "\\item 'TRYPTOGLOB'\n",
       "\\item 'VALINEGLOB'\n",
       "\\item 'NONESSENGLOB'\n",
       "\\item 'ASPGLOB'\n",
       "\\item 'ALAGLOB'\n",
       "\\item 'ASNGLOB'\n",
       "\\item 'SYSGLOB'\n",
       "\\item 'GLYGLOB'\n",
       "\\item 'GLUGLOB'\n",
       "\\item 'GLNGLOB'\n",
       "\\item 'PROLINEGLOB'\n",
       "\\item 'SERINEGLOB'\n",
       "\\item 'TYRAMINEGLOB'\n",
       "\\item 'new'\n",
       "\\end{enumerate*}\n"
      ],
      "text/markdown": [
       "1. 'ID'\n",
       "2. 'GROUP'\n",
       "3. 'MATERNALAGE'\n",
       "4. 'SEXO'\n",
       "5. 'INFANTDOB'\n",
       "6. 'MATBMI1COLL'\n",
       "7. 'MATBMI215d'\n",
       "8. 'MATBMI32mos'\n",
       "9. 'MATBMI44mos'\n",
       "10. 'BABYWeigth1g'\n",
       "11. 'BABYWeigth2g'\n",
       "12. 'BABYWeigth3g'\n",
       "13. 'BABYWeigth4g'\n",
       "14. 'HeadCircumcm1'\n",
       "15. 'HCcm2'\n",
       "16. 'HCcm3'\n",
       "17. 'HCcm4'\n",
       "18. 'MATHeight1m'\n",
       "19. 'MATHeight2m'\n",
       "20. 'MATHeight3m'\n",
       "21. 'MATHeight4m'\n",
       "22. 'MATWeight1kg'\n",
       "23. 'MATWeight2kg'\n",
       "24. 'MATWeight3kg'\n",
       "25. 'MATWeight4kg'\n",
       "26. 'A.TOTALCALORIESKcal'\n",
       "27. 'B.TOTALCALORIESKcal'\n",
       "28. 'A.PROTEINg'\n",
       "29. 'B.PROTEINg'\n",
       "30. 'A.CHOg'\n",
       "31. 'B.CHOg'\n",
       "32. 'A.LIPIDSg'\n",
       "33. 'B.LIPIDSg'\n",
       "34. 'A.GLUCOSEmgdL'\n",
       "35. 'B.GLUCOSEmgdL'\n",
       "36. 'A.CHOLESTEROLmgdL'\n",
       "37. 'B.CHOLESTEROLmgdL'\n",
       "38. 'A.TRIGLYCERIDSmgdL'\n",
       "39. 'B.TRIGLYCERIDmgdL'\n",
       "40. 'A.HDLmgdL'\n",
       "41. 'B.HDLmgdL'\n",
       "42. 'A.LDLmgdL'\n",
       "43. 'B.LDLmgdL'\n",
       "44. 'A.PROTEINSgdL'\n",
       "45. 'B.PROTEINSgdL'\n",
       "46. 'A.ALBUMINgdL'\n",
       "47. 'B.ALBUMINgdL'\n",
       "48. 'edadr'\n",
       "49. 'Grupos'\n",
       "50. 'CALOSTRUMtotalAA'\n",
       "51. 'TRANSITIONtotalAA'\n",
       "52. 'MATURE2mtotalAA'\n",
       "53. 'MATURE4mtotalAA'\n",
       "54. 'CALOSTRUMessentialAA'\n",
       "55. 'TRANSITIONessentialAA'\n",
       "56. 'MATURE2messentialAA'\n",
       "57. 'MATURE4messentialAA'\n",
       "58. 'ARGCalostrum'\n",
       "59. 'ARGTransition'\n",
       "60. 'ARGMature2m'\n",
       "61. 'ARGMature4m'\n",
       "62. 'HISCalostrum'\n",
       "63. 'HISTransition'\n",
       "64. 'HISMature2m'\n",
       "65. 'HISMature4m'\n",
       "66. 'ILECalostrum'\n",
       "67. 'ILETransition'\n",
       "68. 'ILEMature2m'\n",
       "69. 'ILEMature4m'\n",
       "70. 'LEUCalostrum'\n",
       "71. 'LEUTransition'\n",
       "72. 'LEUMature2m'\n",
       "73. 'LEUMature4m'\n",
       "74. 'LYSCalostrum'\n",
       "75. 'LYSTransition'\n",
       "76. 'LYSMature2m'\n",
       "77. 'LYSMature4m'\n",
       "78. 'METCalostrum'\n",
       "79. 'METTransition'\n",
       "80. 'METMature2m'\n",
       "81. 'METMature4m'\n",
       "82. 'PHECalostrum'\n",
       "83. 'PHETransition'\n",
       "84. 'PHEMature2m'\n",
       "85. 'PHEMature4m'\n",
       "86. 'THRCalostrum'\n",
       "87. 'THRTransition'\n",
       "88. 'THRMature2m'\n",
       "89. 'THRMature4m'\n",
       "90. 'TRPCalostrum'\n",
       "91. 'TRPTransition'\n",
       "92. 'TRPMature2m'\n",
       "93. 'TRPMature4m'\n",
       "94. 'VALCalostrum'\n",
       "95. 'VALTransition'\n",
       "96. 'VALMature2m'\n",
       "97. 'VALMature4m'\n",
       "98. 'CALOSTRUMnonessentialAA'\n",
       "99. 'TRANSITIONnonessentialAA'\n",
       "100. 'MATURE2mnonessentialAA'\n",
       "101. 'MATURE4mnonessentialAA'\n",
       "102. 'ASPCalostrum'\n",
       "103. 'ASPTransition'\n",
       "104. 'ASPMature2m'\n",
       "105. 'ASPMature4m'\n",
       "106. 'ALACalostrum'\n",
       "107. 'ALATransition'\n",
       "108. 'ALAMature2m'\n",
       "109. 'ALAMature4m'\n",
       "110. 'ASNCalostrum'\n",
       "111. 'ASNTransition'\n",
       "112. 'ASNMature2m'\n",
       "113. 'ASNMature4m'\n",
       "114. 'CYSCalostrum'\n",
       "115. 'CYSTransition'\n",
       "116. 'CYSMature2m'\n",
       "117. 'CYSMature4m'\n",
       "118. 'GLYCalostrum'\n",
       "119. 'GLYTransition'\n",
       "120. 'GLYMature2m'\n",
       "121. 'GLYMature4m'\n",
       "122. 'GLUCalostrum'\n",
       "123. 'GLUTransition'\n",
       "124. 'GLUMature2m'\n",
       "125. 'GLUMature4m'\n",
       "126. 'GLNCalostrum'\n",
       "127. 'GLNTransition'\n",
       "128. 'GLNMature2m'\n",
       "129. 'GLNMature4m'\n",
       "130. 'PROCalostrum'\n",
       "131. 'PROTransition'\n",
       "132. 'PROMature2m'\n",
       "133. 'PROMature4m'\n",
       "134. 'SERCalostrum'\n",
       "135. 'SERTransition'\n",
       "136. 'SERMature2m'\n",
       "137. 'SERMature4m'\n",
       "138. 'TYRCalostrum'\n",
       "139. 'TYRTransition'\n",
       "140. 'TYRMature2m'\n",
       "141. 'TYRMature4m'\n",
       "142. 'filter_$'\n",
       "143. 'CAL1NONE'\n",
       "144. 'TRANS2NONE'\n",
       "145. 'MAT3NONE'\n",
       "146. 'MAT4NONE'\n",
       "147. 'ADOEXTR'\n",
       "148. 'TotalAAGLOB'\n",
       "149. 'EssentAAGLOB'\n",
       "150. 'ARGGLOB'\n",
       "151. 'HISTGLOB'\n",
       "152. 'ISOLGLOB'\n",
       "153. 'LEUCINEGLOB'\n",
       "154. 'LYSINEGLOB'\n",
       "155. 'METHIONGLOB'\n",
       "156. 'PHENYLGLOB'\n",
       "157. 'THREOGLOB'\n",
       "158. 'TRYPTOGLOB'\n",
       "159. 'VALINEGLOB'\n",
       "160. 'NONESSENGLOB'\n",
       "161. 'ASPGLOB'\n",
       "162. 'ALAGLOB'\n",
       "163. 'ASNGLOB'\n",
       "164. 'SYSGLOB'\n",
       "165. 'GLYGLOB'\n",
       "166. 'GLUGLOB'\n",
       "167. 'GLNGLOB'\n",
       "168. 'PROLINEGLOB'\n",
       "169. 'SERINEGLOB'\n",
       "170. 'TYRAMINEGLOB'\n",
       "171. 'new'\n",
       "\n",
       "\n"
      ],
      "text/plain": [
       "  [1] \"ID\"                       \"GROUP\"                   \n",
       "  [3] \"MATERNALAGE\"              \"SEXO\"                    \n",
       "  [5] \"INFANTDOB\"                \"MATBMI1COLL\"             \n",
       "  [7] \"MATBMI215d\"               \"MATBMI32mos\"             \n",
       "  [9] \"MATBMI44mos\"              \"BABYWeigth1g\"            \n",
       " [11] \"BABYWeigth2g\"             \"BABYWeigth3g\"            \n",
       " [13] \"BABYWeigth4g\"             \"HeadCircumcm1\"           \n",
       " [15] \"HCcm2\"                    \"HCcm3\"                   \n",
       " [17] \"HCcm4\"                    \"MATHeight1m\"             \n",
       " [19] \"MATHeight2m\"              \"MATHeight3m\"             \n",
       " [21] \"MATHeight4m\"              \"MATWeight1kg\"            \n",
       " [23] \"MATWeight2kg\"             \"MATWeight3kg\"            \n",
       " [25] \"MATWeight4kg\"             \"A.TOTALCALORIESKcal\"     \n",
       " [27] \"B.TOTALCALORIESKcal\"      \"A.PROTEINg\"              \n",
       " [29] \"B.PROTEINg\"               \"A.CHOg\"                  \n",
       " [31] \"B.CHOg\"                   \"A.LIPIDSg\"               \n",
       " [33] \"B.LIPIDSg\"                \"A.GLUCOSEmgdL\"           \n",
       " [35] \"B.GLUCOSEmgdL\"            \"A.CHOLESTEROLmgdL\"       \n",
       " [37] \"B.CHOLESTEROLmgdL\"        \"A.TRIGLYCERIDSmgdL\"      \n",
       " [39] \"B.TRIGLYCERIDmgdL\"        \"A.HDLmgdL\"               \n",
       " [41] \"B.HDLmgdL\"                \"A.LDLmgdL\"               \n",
       " [43] \"B.LDLmgdL\"                \"A.PROTEINSgdL\"           \n",
       " [45] \"B.PROTEINSgdL\"            \"A.ALBUMINgdL\"            \n",
       " [47] \"B.ALBUMINgdL\"             \"edadr\"                   \n",
       " [49] \"Grupos\"                   \"CALOSTRUMtotalAA\"        \n",
       " [51] \"TRANSITIONtotalAA\"        \"MATURE2mtotalAA\"         \n",
       " [53] \"MATURE4mtotalAA\"          \"CALOSTRUMessentialAA\"    \n",
       " [55] \"TRANSITIONessentialAA\"    \"MATURE2messentialAA\"     \n",
       " [57] \"MATURE4messentialAA\"      \"ARGCalostrum\"            \n",
       " [59] \"ARGTransition\"            \"ARGMature2m\"             \n",
       " [61] \"ARGMature4m\"              \"HISCalostrum\"            \n",
       " [63] \"HISTransition\"            \"HISMature2m\"             \n",
       " [65] \"HISMature4m\"              \"ILECalostrum\"            \n",
       " [67] \"ILETransition\"            \"ILEMature2m\"             \n",
       " [69] \"ILEMature4m\"              \"LEUCalostrum\"            \n",
       " [71] \"LEUTransition\"            \"LEUMature2m\"             \n",
       " [73] \"LEUMature4m\"              \"LYSCalostrum\"            \n",
       " [75] \"LYSTransition\"            \"LYSMature2m\"             \n",
       " [77] \"LYSMature4m\"              \"METCalostrum\"            \n",
       " [79] \"METTransition\"            \"METMature2m\"             \n",
       " [81] \"METMature4m\"              \"PHECalostrum\"            \n",
       " [83] \"PHETransition\"            \"PHEMature2m\"             \n",
       " [85] \"PHEMature4m\"              \"THRCalostrum\"            \n",
       " [87] \"THRTransition\"            \"THRMature2m\"             \n",
       " [89] \"THRMature4m\"              \"TRPCalostrum\"            \n",
       " [91] \"TRPTransition\"            \"TRPMature2m\"             \n",
       " [93] \"TRPMature4m\"              \"VALCalostrum\"            \n",
       " [95] \"VALTransition\"            \"VALMature2m\"             \n",
       " [97] \"VALMature4m\"              \"CALOSTRUMnonessentialAA\" \n",
       " [99] \"TRANSITIONnonessentialAA\" \"MATURE2mnonessentialAA\"  \n",
       "[101] \"MATURE4mnonessentialAA\"   \"ASPCalostrum\"            \n",
       "[103] \"ASPTransition\"            \"ASPMature2m\"             \n",
       "[105] \"ASPMature4m\"              \"ALACalostrum\"            \n",
       "[107] \"ALATransition\"            \"ALAMature2m\"             \n",
       "[109] \"ALAMature4m\"              \"ASNCalostrum\"            \n",
       "[111] \"ASNTransition\"            \"ASNMature2m\"             \n",
       "[113] \"ASNMature4m\"              \"CYSCalostrum\"            \n",
       "[115] \"CYSTransition\"            \"CYSMature2m\"             \n",
       "[117] \"CYSMature4m\"              \"GLYCalostrum\"            \n",
       "[119] \"GLYTransition\"            \"GLYMature2m\"             \n",
       "[121] \"GLYMature4m\"              \"GLUCalostrum\"            \n",
       "[123] \"GLUTransition\"            \"GLUMature2m\"             \n",
       "[125] \"GLUMature4m\"              \"GLNCalostrum\"            \n",
       "[127] \"GLNTransition\"            \"GLNMature2m\"             \n",
       "[129] \"GLNMature4m\"              \"PROCalostrum\"            \n",
       "[131] \"PROTransition\"            \"PROMature2m\"             \n",
       "[133] \"PROMature4m\"              \"SERCalostrum\"            \n",
       "[135] \"SERTransition\"            \"SERMature2m\"             \n",
       "[137] \"SERMature4m\"              \"TYRCalostrum\"            \n",
       "[139] \"TYRTransition\"            \"TYRMature2m\"             \n",
       "[141] \"TYRMature4m\"              \"filter_$\"                \n",
       "[143] \"CAL1NONE\"                 \"TRANS2NONE\"              \n",
       "[145] \"MAT3NONE\"                 \"MAT4NONE\"                \n",
       "[147] \"ADOEXTR\"                  \"TotalAAGLOB\"             \n",
       "[149] \"EssentAAGLOB\"             \"ARGGLOB\"                 \n",
       "[151] \"HISTGLOB\"                 \"ISOLGLOB\"                \n",
       "[153] \"LEUCINEGLOB\"              \"LYSINEGLOB\"              \n",
       "[155] \"METHIONGLOB\"              \"PHENYLGLOB\"              \n",
       "[157] \"THREOGLOB\"                \"TRYPTOGLOB\"              \n",
       "[159] \"VALINEGLOB\"               \"NONESSENGLOB\"            \n",
       "[161] \"ASPGLOB\"                  \"ALAGLOB\"                 \n",
       "[163] \"ASNGLOB\"                  \"SYSGLOB\"                 \n",
       "[165] \"GLYGLOB\"                  \"GLUGLOB\"                 \n",
       "[167] \"GLNGLOB\"                  \"PROLINEGLOB\"             \n",
       "[169] \"SERINEGLOB\"               \"TYRAMINEGLOB\"            \n",
       "[171] \"new\"                     "
      ]
     },
     "metadata": {},
     "output_type": "display_data"
    }
   ],
   "source": [
    "names(AA_Sex_1)"
   ]
  },
  {
   "cell_type": "code",
   "execution_count": 4,
   "metadata": {},
   "outputs": [
    {
     "name": "stdout",
     "output_type": "stream",
     "text": [
      "Classes 'tbl_df', 'tbl' and 'data.frame':\t65 obs. of  171 variables:\n",
      " $ ID                      : atomic  1 2 3 4 5 6 7 8 9 10 ...\n",
      "  ..- attr(*, \"format.spss\")= chr \"F8.0\"\n",
      "  ..- attr(*, \"display_width\")= int 12\n",
      " $ GROUP                   :Class 'labelled'  atomic [1:65] 0 0 0 0 0 0 0 0 0 0 ...\n",
      "  .. ..- attr(*, \"format.spss\")= chr \"F8.0\"\n",
      "  .. ..- attr(*, \"display_width\")= int 12\n",
      "  .. ..- attr(*, \"labels\")= Named num [1:2] 0 1\n",
      "  .. .. ..- attr(*, \"names\")= chr [1:2] \"ADOLESCENTE\" \"ADULTA\"\n",
      " $ MATERNALAGE             : atomic  17 16 17 16 16 16 16 16 17 18 ...\n",
      "  ..- attr(*, \"label\")= chr \"MATERNAL AGE\"\n",
      "  ..- attr(*, \"format.spss\")= chr \"F8.0\"\n",
      "  ..- attr(*, \"display_width\")= int 12\n",
      " $ SEXO                    :Class 'labelled'  atomic [1:65] 1 2 2 2 NA 2 2 2 1 2 ...\n",
      "  .. ..- attr(*, \"format.spss\")= chr \"F8.0\"\n",
      "  .. ..- attr(*, \"display_width\")= int 12\n",
      "  .. ..- attr(*, \"labels\")= Named num [1:2] 1 2\n",
      "  .. .. ..- attr(*, \"names\")= chr [1:2] \"Femenino\" \"Masculino\"\n",
      " $ INFANTDOB               : Date, format: \"2009-08-20\" \"2009-08-24\" ...\n",
      " $ MATBMI1COLL             : atomic  25 32 23 26 25 29 23 29 24 24 ...\n",
      "  ..- attr(*, \"label\")= chr \"MATBMI 1 (COLL)\"\n",
      "  ..- attr(*, \"format.spss\")= chr \"F8.1\"\n",
      "  ..- attr(*, \"display_width\")= int 12\n",
      " $ MATBMI215d              : atomic  24 31 23 NA NA 28 22 28 23 23 ...\n",
      "  ..- attr(*, \"label\")= chr \"MATBMI 2 (15d)\"\n",
      "  ..- attr(*, \"format.spss\")= chr \"F8.1\"\n",
      "  ..- attr(*, \"display_width\")= int 12\n",
      " $ MATBMI32mos             : atomic  24 30 NA NA NA 30 21 27 NA NA ...\n",
      "  ..- attr(*, \"label\")= chr \"MATBMI 3 (2mos)\"\n",
      "  ..- attr(*, \"format.spss\")= chr \"F8.1\"\n",
      "  ..- attr(*, \"display_width\")= int 12\n",
      " $ MATBMI44mos             : atomic  22 29 NA NA NA 31 20 26 NA NA ...\n",
      "  ..- attr(*, \"label\")= chr \"MATBMI 4 (4mos)\"\n",
      "  ..- attr(*, \"format.spss\")= chr \"F8.1\"\n",
      "  ..- attr(*, \"display_width\")= int 12\n",
      " $ BABYWeigth1g            : atomic  3493 3393 2994 3692 3592 ...\n",
      "  ..- attr(*, \"label\")= chr \"BABY Weigth 1 (g)\"\n",
      "  ..- attr(*, \"format.spss\")= chr \"F8.1\"\n",
      "  ..- attr(*, \"display_width\")= int 12\n",
      " $ BABYWeigth2g            : atomic  3592 4092 3592 NA NA ...\n",
      "  ..- attr(*, \"label\")= chr \"BABY Weigth 2 (g)\"\n",
      "  ..- attr(*, \"format.spss\")= chr \"F8.1\"\n",
      "  ..- attr(*, \"display_width\")= int 12\n",
      " $ BABYWeigth3g            : atomic  5489 5988 NA NA NA ...\n",
      "  ..- attr(*, \"label\")= chr \"BABY Weigth 3 (g)\"\n",
      "  ..- attr(*, \"format.spss\")= chr \"F8.1\"\n",
      "  ..- attr(*, \"display_width\")= int 12\n",
      " $ BABYWeigth4g            : atomic  8283 7884 NA NA NA ...\n",
      "  ..- attr(*, \"label\")= chr \"BABY Weigth 4 (g)\"\n",
      "  ..- attr(*, \"format.spss\")= chr \"F8.1\"\n",
      "  ..- attr(*, \"display_width\")= int 12\n",
      " $ HeadCircumcm1           : atomic  34 35 35 37 34 35 34 34 34 35 ...\n",
      "  ..- attr(*, \"label\")= chr \"Head Circum (cm) 1\"\n",
      "  ..- attr(*, \"format.spss\")= chr \"F8.0\"\n",
      "  ..- attr(*, \"display_width\")= int 12\n",
      " $ HCcm2                   : atomic  37 37 37 NA NA 36 35 36 35 36 ...\n",
      "  ..- attr(*, \"label\")= chr \"HC (cm) 2\"\n",
      "  ..- attr(*, \"format.spss\")= chr \"F8.0\"\n",
      "  ..- attr(*, \"display_width\")= int 12\n",
      " $ HCcm3                   : atomic  39 38 NA NA NA 39 39 39 NA NA ...\n",
      "  ..- attr(*, \"label\")= chr \"HC (cm) 3\"\n",
      "  ..- attr(*, \"format.spss\")= chr \"F8.0\"\n",
      "  ..- attr(*, \"display_width\")= int 12\n",
      " $ HCcm4                   : atomic  42 41 NA NA NA 44 40 42 NA NA ...\n",
      "  ..- attr(*, \"label\")= chr \"HC (cm) 4\"\n",
      "  ..- attr(*, \"format.spss\")= chr \"F8.0\"\n",
      "  ..- attr(*, \"display_width\")= int 12\n",
      " $ MATHeight1m             : atomic  1.48 1.52 1.55 1.6 1.51 1.57 1.67 1.5 1.65 1.64 ...\n",
      "  ..- attr(*, \"label\")= chr \"MATHeight1 (m)\"\n",
      "  ..- attr(*, \"format.spss\")= chr \"F8.2\"\n",
      "  ..- attr(*, \"display_width\")= int 12\n",
      " $ MATHeight2m             : atomic  1.48 1.52 1.55 NA NA 1.57 1.67 1.5 1.65 1.64 ...\n",
      "  ..- attr(*, \"label\")= chr \"MATHeight2 (m)\"\n",
      "  ..- attr(*, \"format.spss\")= chr \"F8.2\"\n",
      "  ..- attr(*, \"display_width\")= int 12\n",
      " $ MATHeight3m             : atomic  1.48 1.52 1.55 NA NA 1.57 1.67 1.5 NA NA ...\n",
      "  ..- attr(*, \"label\")= chr \"MATHeight3 (m)\"\n",
      "  ..- attr(*, \"format.spss\")= chr \"F8.2\"\n",
      "  ..- attr(*, \"display_width\")= int 12\n",
      " $ MATHeight4m             : atomic  1.48 1.52 1.55 NA NA 1.57 1.67 1.5 NA NA ...\n",
      "  ..- attr(*, \"label\")= chr \"MATHeight4 (m)\"\n",
      "  ..- attr(*, \"format.spss\")= chr \"F8.2\"\n",
      "  ..- attr(*, \"display_width\")= int 12\n",
      " $ MATWeight1kg            : atomic  54.4 74.7 56.4 65.9 56.5 71.2 64.9 64.5 65.5 63.5 ...\n",
      "  ..- attr(*, \"label\")= chr \"MATWeight1 (kg)\"\n",
      "  ..- attr(*, \"format.spss\")= chr \"F8.1\"\n",
      "  ..- attr(*, \"display_width\")= int 12\n",
      " $ MATWeight2kg            : atomic  51.7 71.7 54.7 NA NA 69.5 60.3 62.1 62.1 61 ...\n",
      "  ..- attr(*, \"label\")= chr \"MATWeight2 (kg)\"\n",
      "  ..- attr(*, \"format.spss\")= chr \"F8.2\"\n",
      "  ..- attr(*, \"display_width\")= int 12\n",
      " $ MATWeight3kg            : atomic  52.6 69 NA NA NA 72.9 57.3 60.5 NA NA ...\n",
      "  ..- attr(*, \"label\")= chr \"MATWeight3 (kg)\"\n",
      "  ..- attr(*, \"format.spss\")= chr \"F8.1\"\n",
      "  ..- attr(*, \"display_width\")= int 12\n",
      " $ MATWeight4kg            : atomic  48.3 65.9 NA NA NA 76.2 55 57.4 NA NA ...\n",
      "  ..- attr(*, \"label\")= chr \"MATWeight4 (kg)\"\n",
      "  ..- attr(*, \"format.spss\")= chr \"F8.1\"\n",
      "  ..- attr(*, \"display_width\")= int 12\n",
      " $ A.TOTALCALORIESKcal     : atomic  4204 1586 2052 NA 1621 ...\n",
      "  ..- attr(*, \"label\")= chr \"A.TOTALCALORIES (Kcal)\"\n",
      "  ..- attr(*, \"format.spss\")= chr \"F8.1\"\n",
      "  ..- attr(*, \"display_width\")= int 12\n",
      " $ B.TOTALCALORIESKcal     : atomic  3571 2416 NA NA NA ...\n",
      "  ..- attr(*, \"label\")= chr \"B.TOTALCALORIES (Kcal)\"\n",
      "  ..- attr(*, \"format.spss\")= chr \"F8.1\"\n",
      "  ..- attr(*, \"display_width\")= int 12\n",
      " $ A.PROTEINg              : atomic  103 27 88 NA 63 100 87 38 69 NA ...\n",
      "  ..- attr(*, \"label\")= chr \"A.PROTEIN (g)\"\n",
      "  ..- attr(*, \"format.spss\")= chr \"F8.1\"\n",
      "  ..- attr(*, \"display_width\")= int 12\n",
      " $ B.PROTEINg              : atomic  114 65 NA NA NA 56 76 91 NA NA ...\n",
      "  ..- attr(*, \"label\")= chr \"B.PROTEIN (g)\"\n",
      "  ..- attr(*, \"format.spss\")= chr \"F8.1\"\n",
      "  ..- attr(*, \"display_width\")= int 12\n",
      " $ A.CHOg                  : atomic  759 242 281 NA 270 311 343 214 146 NA ...\n",
      "  ..- attr(*, \"label\")= chr \"A.CHO (g)\"\n",
      "  ..- attr(*, \"format.spss\")= chr \"F8.1\"\n",
      "  ..- attr(*, \"display_width\")= int 12\n",
      " $ B.CHOg                  : atomic  605 401 NA NA NA 131 175 209 NA NA ...\n",
      "  ..- attr(*, \"label\")= chr \"B.CHO (g)\"\n",
      "  ..- attr(*, \"format.spss\")= chr \"F8.1\"\n",
      "  ..- attr(*, \"display_width\")= int 12\n",
      " $ A.LIPIDSg               : atomic  86 34 67 NA 38 28 65 20 42 NA ...\n",
      "  ..- attr(*, \"label\")= chr \"A.LIPIDS (g)\"\n",
      "  ..- attr(*, \"format.spss\")= chr \"F8.1\"\n",
      "  ..- attr(*, \"display_width\")= int 12\n",
      " $ B.LIPIDSg               : atomic  76 61 NA NA NA 30 47 51 NA NA ...\n",
      "  ..- attr(*, \"label\")= chr \"B.LIPIDS (g)\"\n",
      "  ..- attr(*, \"format.spss\")= chr \"F8.1\"\n",
      "  ..- attr(*, \"display_width\")= int 12\n",
      " $ A.GLUCOSEmgdL           : atomic  115 107.8 87.2 95.7 73.9 ...\n",
      "  ..- attr(*, \"label\")= chr \"A.GLUCOSE (mg/dL)\"\n",
      "  ..- attr(*, \"format.spss\")= chr \"F8.1\"\n",
      "  ..- attr(*, \"display_width\")= int 15\n",
      " $ B.GLUCOSEmgdL           : atomic  84.7 86.7 NA NA NA ...\n",
      "  ..- attr(*, \"label\")= chr \"B.GLUCOSE (mg/dL)\"\n",
      "  ..- attr(*, \"format.spss\")= chr \"F8.1\"\n",
      "  ..- attr(*, \"display_width\")= int 12\n",
      " $ A.CHOLESTEROLmgdL       : atomic  205 196 346 273 266 224 243 253 255 159 ...\n",
      "  ..- attr(*, \"label\")= chr \"A.CHOLESTEROL (mg/dL)\"\n",
      "  ..- attr(*, \"format.spss\")= chr \"F8.1\"\n",
      "  ..- attr(*, \"display_width\")= int 12\n",
      " $ B.CHOLESTEROLmgdL       : atomic  136 160 NA NA NA ...\n",
      "  ..- attr(*, \"label\")= chr \"B.CHOLESTEROL (mg/dL)\"\n",
      "  ..- attr(*, \"format.spss\")= chr \"F8.1\"\n",
      "  ..- attr(*, \"display_width\")= int 12\n",
      " $ A.TRIGLYCERIDSmgdL      : atomic  305 193 285 143 123 ...\n",
      "  ..- attr(*, \"label\")= chr \"A.TRIGLYCERIDS (mg/dL)\"\n",
      "  ..- attr(*, \"format.spss\")= chr \"F8.1\"\n",
      "  ..- attr(*, \"display_width\")= int 12\n",
      " $ B.TRIGLYCERIDmgdL       : atomic  79.3 86.7 NA NA NA ...\n",
      "  ..- attr(*, \"label\")= chr \"B.TRIGLYCERID (mg/dL)\"\n",
      "  ..- attr(*, \"format.spss\")= chr \"F8.1\"\n",
      "  ..- attr(*, \"display_width\")= int 12\n",
      " $ A.HDLmgdL               : atomic  23.7 34.5 23 39.9 37.7 21.9 30 29.1 31.3 41.3 ...\n",
      "  ..- attr(*, \"label\")= chr \"A.HDL (mg/dL)\"\n",
      "  ..- attr(*, \"format.spss\")= chr \"F8.1\"\n",
      "  ..- attr(*, \"display_width\")= int 12\n",
      " $ B.HDLmgdL               : atomic  38.4 30.1 NA NA NA 55 26 33.2 NA NA ...\n",
      "  ..- attr(*, \"label\")= chr \"B.HDL (mg/dL)\"\n",
      "  ..- attr(*, \"format.spss\")= chr \"F8.1\"\n",
      "  ..- attr(*, \"display_width\")= int 12\n",
      " $ A.LDLmgdL               : atomic  120 123 266 204 204 ...\n",
      "  ..- attr(*, \"label\")= chr \"A.LDL (mg/dL)\"\n",
      "  ..- attr(*, \"format.spss\")= chr \"F8.1\"\n",
      "  ..- attr(*, \"display_width\")= int 12\n",
      " $ B.LDLmgdL               : atomic  81.5 112.6 NA NA NA ...\n",
      "  ..- attr(*, \"label\")= chr \"B.LDL (mg/dL)\"\n",
      "  ..- attr(*, \"format.spss\")= chr \"F8.1\"\n",
      "  ..- attr(*, \"display_width\")= int 12\n",
      " $ A.PROTEINSgdL           : atomic  7.43 7.08 8.35 7.12 6.9 7.72 7.21 6.71 7.51 7.12 ...\n",
      "  ..- attr(*, \"label\")= chr \"A.PROTEINS (g/dL)\"\n",
      "  ..- attr(*, \"format.spss\")= chr \"F8.2\"\n",
      "  ..- attr(*, \"display_width\")= int 12\n",
      " $ B.PROTEINSgdL           : atomic  6.92 7.59 NA NA NA 6.77 7.29 7.61 NA NA ...\n",
      "  ..- attr(*, \"label\")= chr \"B.PROTEINS  (g/dL)\"\n",
      "  ..- attr(*, \"format.spss\")= chr \"F8.2\"\n",
      "  ..- attr(*, \"display_width\")= int 12\n",
      " $ A.ALBUMINgdL            : atomic  4.44 4.42 4.79 4.47 4.39 4.49 4.78 4.42 4.55 4.67 ...\n",
      "  ..- attr(*, \"label\")= chr \"A.ALBUMIN  (g/dL)\"\n",
      "  ..- attr(*, \"format.spss\")= chr \"F8.2\"\n",
      "  ..- attr(*, \"display_width\")= int 12\n",
      " $ B.ALBUMINgdL            : atomic  5.55 5.61 NA NA NA 4.72 4.42 4.45 NA NA ...\n",
      "  ..- attr(*, \"label\")= chr \"B.ALBUMIN  (g/dL)\"\n",
      "  ..- attr(*, \"format.spss\")= chr \"F8.2\"\n",
      "  ..- attr(*, \"display_width\")= int 12\n",
      " $ edadr                   : atomic  1 1 1 1 1 1 1 1 1 1 ...\n",
      "  ..- attr(*, \"format.spss\")= chr \"F8.0\"\n",
      "  ..- attr(*, \"display_width\")= int 12\n",
      " $ Grupos                  : atomic  1 1 1 1 1 1 1 1 1 1 ...\n",
      "  ..- attr(*, \"format.spss\")= chr \"F8.0\"\n",
      "  ..- attr(*, \"display_width\")= int 12\n",
      " $ CALOSTRUMtotalAA        : atomic  166.1 22.4 128.5 71.8 54.2 ...\n",
      "  ..- attr(*, \"label\")= chr \"CALOSTRUM (total AA)\"\n",
      "  ..- attr(*, \"format.spss\")= chr \"F8.2\"\n",
      "  ..- attr(*, \"display_width\")= int 16\n",
      " $ TRANSITIONtotalAA       : atomic  186 233 266 NA NA ...\n",
      "  ..- attr(*, \"label\")= chr \"TRANSITION (total AA)\"\n",
      "  ..- attr(*, \"format.spss\")= chr \"F8.2\"\n",
      "  ..- attr(*, \"display_width\")= int 16\n",
      " $ MATURE2mtotalAA         : atomic  189 197 NA NA NA ...\n",
      "  ..- attr(*, \"label\")= chr \"MATURE2m (total AA)\"\n",
      "  ..- attr(*, \"format.spss\")= chr \"F8.2\"\n",
      "  ..- attr(*, \"display_width\")= int 16\n",
      " $ MATURE4mtotalAA         : atomic  167 366 NA NA NA ...\n",
      "  ..- attr(*, \"label\")= chr \"MATURE4m (total AA)\"\n",
      "  ..- attr(*, \"format.spss\")= chr \"F8.2\"\n",
      "  ..- attr(*, \"display_width\")= int 16\n",
      " $ CALOSTRUMessentialAA    : atomic  14.63 6.74 18.49 8.59 11.05 ...\n",
      "  ..- attr(*, \"label\")= chr \"CALOSTRUM (essential AA)\"\n",
      "  ..- attr(*, \"format.spss\")= chr \"F8.2\"\n",
      "  ..- attr(*, \"display_width\")= int 16\n",
      " $ TRANSITIONessentialAA   : atomic  24.1 20.5 25 NA NA ...\n",
      "  ..- attr(*, \"label\")= chr \"TRANSITION (essential AA)\"\n",
      "  ..- attr(*, \"format.spss\")= chr \"F8.2\"\n",
      "  ..- attr(*, \"display_width\")= int 16\n",
      " $ MATURE2messentialAA     : atomic  18.4 11.4 NA NA NA ...\n",
      "  ..- attr(*, \"label\")= chr \"MATURE2m (essential AA)\"\n",
      "  ..- attr(*, \"format.spss\")= chr \"F8.2\"\n",
      "  ..- attr(*, \"display_width\")= int 16\n",
      " $ MATURE4messentialAA     : atomic  19.2 17.2 NA NA NA ...\n",
      "  ..- attr(*, \"label\")= chr \"MATURE4m (essential AA)\"\n",
      "  ..- attr(*, \"format.spss\")= chr \"F8.2\"\n",
      "  ..- attr(*, \"display_width\")= int 16\n",
      " $ ARGCalostrum            : atomic  1 1 1 1 2 2 2 2 1 2 ...\n",
      "  ..- attr(*, \"label\")= chr \"ARG Calostrum\"\n",
      "  ..- attr(*, \"format.spss\")= chr \"F8.1\"\n",
      "  ..- attr(*, \"display_width\")= int 12\n",
      " $ ARGTransition           : atomic  1 1 1 NA NA 3 1 1 1 1 ...\n",
      "  ..- attr(*, \"label\")= chr \"ARG Transition\"\n",
      "  ..- attr(*, \"format.spss\")= chr \"F8.1\"\n",
      "  ..- attr(*, \"display_width\")= int 12\n",
      " $ ARGMature2m             : atomic  1 1 NA NA NA 2 1 1 NA NA ...\n",
      "  ..- attr(*, \"label\")= chr \"ARG Mature2m\"\n",
      "  ..- attr(*, \"format.spss\")= chr \"F8.1\"\n",
      "  ..- attr(*, \"display_width\")= int 12\n",
      " $ ARGMature4m             : atomic  1 1 NA NA NA 2 1 1 NA NA ...\n",
      "  ..- attr(*, \"label\")= chr \"ARG Mature4m\"\n",
      "  ..- attr(*, \"format.spss\")= chr \"F8.1\"\n",
      "  ..- attr(*, \"display_width\")= int 12\n",
      " $ HISCalostrum            : atomic  2 1 2 1 1 1 1 2 1 2 ...\n",
      "  ..- attr(*, \"label\")= chr \"HIS Calostrum\"\n",
      "  ..- attr(*, \"format.spss\")= chr \"F8.1\"\n",
      "  ..- attr(*, \"display_width\")= int 12\n",
      " $ HISTransition           : atomic  2 3 3 NA NA 2 3 3 2 2 ...\n",
      "  ..- attr(*, \"label\")= chr \"HIS Transition\"\n",
      "  ..- attr(*, \"format.spss\")= chr \"F8.1\"\n",
      "  ..- attr(*, \"display_width\")= int 12\n",
      " $ HISMature2m             : atomic  2 2 NA NA NA 2 3 3 NA NA ...\n",
      "  ..- attr(*, \"label\")= chr \"HIS Mature 2m\"\n",
      "  ..- attr(*, \"format.spss\")= chr \"F8.1\"\n",
      "  ..- attr(*, \"display_width\")= int 12\n",
      " $ HISMature4m             : atomic  1 2 NA NA NA 2 2 3 NA NA ...\n",
      "  ..- attr(*, \"label\")= chr \"HIS Mature 4m\"\n",
      "  ..- attr(*, \"format.spss\")= chr \"F8.1\"\n",
      "  ..- attr(*, \"display_width\")= int 12\n",
      " $ ILECalostrum            : atomic  0 0 1 0 0 1 1 1 0 1 ...\n",
      "  ..- attr(*, \"label\")= chr \"ILE Calostrum\"\n",
      "  ..- attr(*, \"format.spss\")= chr \"F8.1\"\n",
      "  ..- attr(*, \"display_width\")= int 12\n",
      " $ ILETransition           : atomic  1 1 1 NA NA 1 1 1 1 0 ...\n",
      "  ..- attr(*, \"label\")= chr \"ILE Transition\"\n",
      "  ..- attr(*, \"format.spss\")= chr \"F8.1\"\n",
      "  ..- attr(*, \"display_width\")= int 12\n",
      " $ ILEMature2m             : atomic  1 0 NA NA NA 1 1 1 NA NA ...\n",
      "  ..- attr(*, \"label\")= chr \"ILE Mature2m\"\n",
      "  ..- attr(*, \"format.spss\")= chr \"F8.1\"\n",
      "  ..- attr(*, \"display_width\")= int 12\n",
      " $ ILEMature4m             : atomic  1 1 NA NA NA 1 1 1 NA NA ...\n",
      "  ..- attr(*, \"label\")= chr \"ILE Mature4m\"\n",
      "  ..- attr(*, \"format.spss\")= chr \"F8.1\"\n",
      "  ..- attr(*, \"display_width\")= int 12\n",
      " $ LEUCalostrum            : atomic  1 1 2 1 1 1 1 2 1 1 ...\n",
      "  ..- attr(*, \"label\")= chr \"LEU Calostrum\"\n",
      "  ..- attr(*, \"format.spss\")= chr \"F8.1\"\n",
      "  ..- attr(*, \"display_width\")= int 12\n",
      " $ LEUTransition           : atomic  3 2 2 NA NA 2 2 4 1 1 ...\n",
      "  ..- attr(*, \"label\")= chr \"LEU Transition\"\n",
      "  ..- attr(*, \"format.spss\")= chr \"F8.1\"\n",
      "  ..- attr(*, \"display_width\")= int 12\n",
      " $ LEUMature2m             : atomic  2 1 NA NA NA 2 2 4 NA NA ...\n",
      "  ..- attr(*, \"label\")= chr \"LEU Mature 2m\"\n",
      "  ..- attr(*, \"format.spss\")= chr \"F8.1\"\n",
      "  ..- attr(*, \"display_width\")= int 12\n",
      " $ LEUMature4m             : atomic  2 2 NA NA NA 2 2 3 NA NA ...\n",
      "  ..- attr(*, \"label\")= chr \"LEU Mature 4m\"\n",
      "  ..- attr(*, \"format.spss\")= chr \"F8.1\"\n",
      "  ..- attr(*, \"display_width\")= int 12\n",
      " $ LYSCalostrum            : atomic  2 1 2 1 3 3 4 3 2 2 ...\n",
      "  ..- attr(*, \"label\")= chr \"LYS Calostrum\"\n",
      "  ..- attr(*, \"format.spss\")= chr \"F8.1\"\n",
      "  ..- attr(*, \"display_width\")= int 12\n",
      " $ LYSTransition           : atomic  1 1 1 NA NA 4 1 2 1 1 ...\n",
      "  ..- attr(*, \"label\")= chr \"LYS Transition\"\n",
      "  ..- attr(*, \"format.spss\")= chr \"F8.1\"\n",
      "  ..- attr(*, \"display_width\")= int 12\n",
      " $ LYSMature2m             : atomic  1 1 NA NA NA 2 1 2 NA NA ...\n",
      "  ..- attr(*, \"label\")= chr \"LYSMature 2m\"\n",
      "  ..- attr(*, \"format.spss\")= chr \"F8.1\"\n",
      "  ..- attr(*, \"display_width\")= int 12\n",
      " $ LYSMature4m             : atomic  1 1 NA NA NA 2 1 2 NA NA ...\n",
      "  ..- attr(*, \"label\")= chr \"LYS Mature 4m\"\n",
      "  ..- attr(*, \"format.spss\")= chr \"F8.1\"\n",
      "  ..- attr(*, \"display_width\")= int 12\n",
      " $ METCalostrum            : atomic  0 0 0 0 0 0 0 0 0 0 ...\n",
      "  ..- attr(*, \"label\")= chr \"MET Calostrum\"\n",
      "  ..- attr(*, \"format.spss\")= chr \"F8.1\"\n",
      "  ..- attr(*, \"display_width\")= int 12\n",
      " $ METTransition           : atomic  0 1 0 NA NA 0 0 1 0 0 ...\n",
      "  ..- attr(*, \"label\")= chr \"MET Transition\"\n",
      "  ..- attr(*, \"format.spss\")= chr \"F8.1\"\n",
      "  ..- attr(*, \"display_width\")= int 12\n",
      " $ METMature2m             : atomic  0 0 NA NA NA 0 1 1 NA NA ...\n",
      "  ..- attr(*, \"label\")= chr \"MET Mature 2m\"\n",
      "  ..- attr(*, \"format.spss\")= chr \"F8.1\"\n",
      "  ..- attr(*, \"display_width\")= int 12\n",
      " $ METMature4m             : atomic  0 0 NA NA NA 0 0 1 NA NA ...\n",
      "  ..- attr(*, \"label\")= chr \"MET Mature 4m\"\n",
      "  ..- attr(*, \"format.spss\")= chr \"F8.1\"\n",
      "  ..- attr(*, \"display_width\")= int 12\n",
      " $ PHECalostrum            : atomic  NA 0 1 0 0 0 0 1 0 1 ...\n",
      "  ..- attr(*, \"label\")= chr \"PHE Calostrum\"\n",
      "  ..- attr(*, \"format.spss\")= chr \"F8.1\"\n",
      "  ..- attr(*, \"display_width\")= int 12\n",
      " $ PHETransition           : atomic  1 1 1 NA NA 1 1 2 1 1 ...\n",
      "  ..- attr(*, \"label\")= chr \"PHE Transition\"\n",
      "  ..- attr(*, \"format.spss\")= chr \"F8.1\"\n",
      "  ..- attr(*, \"display_width\")= int 12\n",
      " $ PHEMature2m             : atomic  1 1 NA NA NA 1 1 2 NA NA ...\n",
      "  ..- attr(*, \"label\")= chr \"PHE Mature 2m\"\n",
      "  ..- attr(*, \"format.spss\")= chr \"F8.1\"\n",
      "  ..- attr(*, \"display_width\")= int 12\n",
      " $ PHEMature4m             : atomic  1 1 NA NA NA 1 1 2 NA NA ...\n",
      "  ..- attr(*, \"label\")= chr \"PHE Mature 4m\"\n",
      "  ..- attr(*, \"format.spss\")= chr \"F8.1\"\n",
      "  ..- attr(*, \"display_width\")= int 12\n",
      " $ THRCalostrum            : atomic  5 1 8 2 3 4 4 11 6 7 ...\n",
      "  ..- attr(*, \"label\")= chr \"THR Calostrum\"\n",
      "  ..- attr(*, \"format.spss\")= chr \"F8.1\"\n",
      "  ..- attr(*, \"display_width\")= int 12\n",
      " $ THRTransition           : atomic  9 8 12 NA NA 5 6 10 7 7 ...\n",
      "  ..- attr(*, \"label\")= chr \"THR Transition\"\n",
      "  ..- attr(*, \"format.spss\")= chr \"F8.1\"\n",
      "  ..- attr(*, \"display_width\")= int 12\n",
      " $ THRMature2m             : atomic  5 3 NA NA NA 6 7 9 NA NA ...\n",
      "  ..- attr(*, \"label\")= chr \"THR Mature 2m\"\n",
      "  ..- attr(*, \"format.spss\")= chr \"F8.1\"\n",
      "  ..- attr(*, \"display_width\")= int 12\n",
      " $ THRMature4m             : atomic  9 5 NA NA NA 8 7 9 NA NA ...\n",
      "  ..- attr(*, \"label\")= chr \"THR Mature 4m\"\n",
      "  ..- attr(*, \"format.spss\")= chr \"F8.1\"\n",
      "  ..- attr(*, \"display_width\")= int 12\n",
      " $ TRPCalostrum            : atomic  0 0 0 0 0 0 0 0 0 0 ...\n",
      "  ..- attr(*, \"label\")= chr \"TRP Calostrum\"\n",
      "  ..- attr(*, \"format.spss\")= chr \"F8.1\"\n",
      "  ..- attr(*, \"display_width\")= int 12\n",
      " $ TRPTransition           : atomic  0 0 0 NA NA 0 0 0 0 0 ...\n",
      "  ..- attr(*, \"label\")= chr \"TRP Transition\"\n",
      "  ..- attr(*, \"format.spss\")= chr \"F8.1\"\n",
      "  ..- attr(*, \"display_width\")= int 12\n",
      " $ TRPMature2m             : atomic  0 0 NA NA NA 0 0 0 NA NA ...\n",
      "  ..- attr(*, \"label\")= chr \"TRP Mature2m\"\n",
      "  ..- attr(*, \"format.spss\")= chr \"F8.1\"\n",
      "  ..- attr(*, \"display_width\")= int 12\n",
      " $ TRPMature4m             : atomic  0 0 NA NA NA 0 0 0 NA NA ...\n",
      "  ..- attr(*, \"label\")= chr \"TRP Mature4m\"\n",
      "  ..- attr(*, \"format.spss\")= chr \"F8.1\"\n",
      "  ..- attr(*, \"display_width\")= int 12\n",
      " $ VALCalostrum            : atomic  2 1 3 2 1 2 2 5 2 2 ...\n",
      "  ..- attr(*, \"label\")= chr \"VAL Calostrum\"\n",
      "  ..- attr(*, \"format.spss\")= chr \"F8.1\"\n",
      "  ..- attr(*, \"display_width\")= int 12\n",
      " $ VALTransition           : atomic  5 4 4 NA NA 3 5 7 3 3 ...\n",
      "  ..- attr(*, \"label\")= chr \"VAL Transition\"\n",
      "  ..- attr(*, \"format.spss\")= chr \"F8.1\"\n",
      "  ..- attr(*, \"display_width\")= int 12\n",
      " $ VALMature2m             : atomic  5 2 NA NA NA 5 4 8 NA NA ...\n",
      "  ..- attr(*, \"label\")= chr \"VAL Mature2m\"\n",
      "  ..- attr(*, \"format.spss\")= chr \"F8.1\"\n",
      "  ..- attr(*, \"display_width\")= int 12\n",
      " $ VALMature4m             : atomic  4 4 NA NA NA 4 4 6 NA NA ...\n",
      "  ..- attr(*, \"label\")= chr \"VAL Mature4m\"\n",
      "  ..- attr(*, \"format.spss\")= chr \"F8.1\"\n",
      "  ..- attr(*, \"display_width\")= int 12\n",
      " $ CALOSTRUMnonessentialAA : atomic  151.5 15.6 110 63.3 43.1 ...\n",
      "  ..- attr(*, \"label\")= chr \"CALOSTRUM (non essential AA)\"\n",
      "  ..- attr(*, \"format.spss\")= chr \"F8.1\"\n",
      "  ..- attr(*, \"display_width\")= int 12\n",
      " $ TRANSITIONnonessentialAA: atomic  162 213 241 NA NA ...\n",
      "  ..- attr(*, \"label\")= chr \"TRANSITION (non essential AA)\"\n",
      "  ..- attr(*, \"format.spss\")= chr \"F8.1\"\n",
      "  ..- attr(*, \"display_width\")= int 12\n",
      "  [list output truncated]\n"
     ]
    }
   ],
   "source": [
    "str(AA_Sex_1)"
   ]
  },
  {
   "cell_type": "code",
   "execution_count": 5,
   "metadata": {},
   "outputs": [
    {
     "data": {
      "text/html": [
       "'ARGCalostrum'"
      ],
      "text/latex": [
       "'ARGCalostrum'"
      ],
      "text/markdown": [
       "'ARGCalostrum'"
      ],
      "text/plain": [
       "[1] \"ARGCalostrum\""
      ]
     },
     "metadata": {},
     "output_type": "display_data"
    },
    {
     "data": {
      "text/html": [
       "'VALMature4m'"
      ],
      "text/latex": [
       "'VALMature4m'"
      ],
      "text/markdown": [
       "'VALMature4m'"
      ],
      "text/plain": [
       "[1] \"VALMature4m\""
      ]
     },
     "metadata": {},
     "output_type": "display_data"
    },
    {
     "data": {
      "text/html": [
       "'ASPCalostrum'"
      ],
      "text/latex": [
       "'ASPCalostrum'"
      ],
      "text/markdown": [
       "'ASPCalostrum'"
      ],
      "text/plain": [
       "[1] \"ASPCalostrum\""
      ]
     },
     "metadata": {},
     "output_type": "display_data"
    },
    {
     "data": {
      "text/html": [
       "'TYRMature4m'"
      ],
      "text/latex": [
       "'TYRMature4m'"
      ],
      "text/markdown": [
       "'TYRMature4m'"
      ],
      "text/plain": [
       "[1] \"TYRMature4m\""
      ]
     },
     "metadata": {},
     "output_type": "display_data"
    }
   ],
   "source": [
    "names(AA_Sex_1)[58]\n",
    "names(AA_Sex_1)[97]\n",
    "\n",
    "names(AA_Sex_1)[102]\n",
    "names(AA_Sex_1)[141]"
   ]
  },
  {
   "cell_type": "code",
   "execution_count": 6,
   "metadata": {},
   "outputs": [
    {
     "name": "stderr",
     "output_type": "stream",
     "text": [
      "Warning message:\n",
      "\"`as_dictionary()` is soft-deprecated as of rlang 0.3.0.\n",
      "Please use `as_data_pronoun()` instead\n",
      "This warning is displayed once per session.\"Warning message:\n",
      "\"`new_overscope()` is soft-deprecated as of rlang 0.2.0.\n",
      "Please use `new_data_mask()` instead\n",
      "This warning is displayed once per session.\"Warning message:\n",
      "\"The `parent` argument of `new_data_mask()` is deprecated.\n",
      "The parent of the data mask is determined from either:\n",
      "\n",
      "  * The `env` argument of `eval_tidy()`\n",
      "  * Quosure environments when applicable\n",
      "This warning is displayed once per session.\"Warning message:\n",
      "\"`overscope_clean()` is soft-deprecated as of rlang 0.2.0.\n",
      "This warning is displayed once per session.\""
     ]
    },
    {
     "data": {
      "text/html": [
       "<ol class=list-inline>\n",
       "\t<li>'id'</li>\n",
       "\t<li>'group'</li>\n",
       "\t<li>'age'</li>\n",
       "\t<li>'sex'</li>\n",
       "\t<li>'ARGCalostrum'</li>\n",
       "\t<li>'ARGTransition'</li>\n",
       "\t<li>'ARGMature2m'</li>\n",
       "\t<li>'ARGMature4m'</li>\n",
       "\t<li>'HISCalostrum'</li>\n",
       "\t<li>'HISTransition'</li>\n",
       "\t<li>'HISMature2m'</li>\n",
       "\t<li>'HISMature4m'</li>\n",
       "\t<li>'ILECalostrum'</li>\n",
       "\t<li>'ILETransition'</li>\n",
       "\t<li>'ILEMature2m'</li>\n",
       "\t<li>'ILEMature4m'</li>\n",
       "\t<li>'LEUCalostrum'</li>\n",
       "\t<li>'LEUTransition'</li>\n",
       "\t<li>'LEUMature2m'</li>\n",
       "\t<li>'LEUMature4m'</li>\n",
       "\t<li>'LYSCalostrum'</li>\n",
       "\t<li>'LYSTransition'</li>\n",
       "\t<li>'LYSMature2m'</li>\n",
       "\t<li>'LYSMature4m'</li>\n",
       "\t<li>'METCalostrum'</li>\n",
       "\t<li>'METTransition'</li>\n",
       "\t<li>'METMature2m'</li>\n",
       "\t<li>'METMature4m'</li>\n",
       "\t<li>'PHECalostrum'</li>\n",
       "\t<li>'PHETransition'</li>\n",
       "\t<li>'PHEMature2m'</li>\n",
       "\t<li>'PHEMature4m'</li>\n",
       "\t<li>'THRCalostrum'</li>\n",
       "\t<li>'THRTransition'</li>\n",
       "\t<li>'THRMature2m'</li>\n",
       "\t<li>'THRMature4m'</li>\n",
       "\t<li>'TRPCalostrum'</li>\n",
       "\t<li>'TRPTransition'</li>\n",
       "\t<li>'TRPMature2m'</li>\n",
       "\t<li>'TRPMature4m'</li>\n",
       "\t<li>'VALCalostrum'</li>\n",
       "\t<li>'VALTransition'</li>\n",
       "\t<li>'VALMature2m'</li>\n",
       "\t<li>'VALMature4m'</li>\n",
       "</ol>\n"
      ],
      "text/latex": [
       "\\begin{enumerate*}\n",
       "\\item 'id'\n",
       "\\item 'group'\n",
       "\\item 'age'\n",
       "\\item 'sex'\n",
       "\\item 'ARGCalostrum'\n",
       "\\item 'ARGTransition'\n",
       "\\item 'ARGMature2m'\n",
       "\\item 'ARGMature4m'\n",
       "\\item 'HISCalostrum'\n",
       "\\item 'HISTransition'\n",
       "\\item 'HISMature2m'\n",
       "\\item 'HISMature4m'\n",
       "\\item 'ILECalostrum'\n",
       "\\item 'ILETransition'\n",
       "\\item 'ILEMature2m'\n",
       "\\item 'ILEMature4m'\n",
       "\\item 'LEUCalostrum'\n",
       "\\item 'LEUTransition'\n",
       "\\item 'LEUMature2m'\n",
       "\\item 'LEUMature4m'\n",
       "\\item 'LYSCalostrum'\n",
       "\\item 'LYSTransition'\n",
       "\\item 'LYSMature2m'\n",
       "\\item 'LYSMature4m'\n",
       "\\item 'METCalostrum'\n",
       "\\item 'METTransition'\n",
       "\\item 'METMature2m'\n",
       "\\item 'METMature4m'\n",
       "\\item 'PHECalostrum'\n",
       "\\item 'PHETransition'\n",
       "\\item 'PHEMature2m'\n",
       "\\item 'PHEMature4m'\n",
       "\\item 'THRCalostrum'\n",
       "\\item 'THRTransition'\n",
       "\\item 'THRMature2m'\n",
       "\\item 'THRMature4m'\n",
       "\\item 'TRPCalostrum'\n",
       "\\item 'TRPTransition'\n",
       "\\item 'TRPMature2m'\n",
       "\\item 'TRPMature4m'\n",
       "\\item 'VALCalostrum'\n",
       "\\item 'VALTransition'\n",
       "\\item 'VALMature2m'\n",
       "\\item 'VALMature4m'\n",
       "\\end{enumerate*}\n"
      ],
      "text/markdown": [
       "1. 'id'\n",
       "2. 'group'\n",
       "3. 'age'\n",
       "4. 'sex'\n",
       "5. 'ARGCalostrum'\n",
       "6. 'ARGTransition'\n",
       "7. 'ARGMature2m'\n",
       "8. 'ARGMature4m'\n",
       "9. 'HISCalostrum'\n",
       "10. 'HISTransition'\n",
       "11. 'HISMature2m'\n",
       "12. 'HISMature4m'\n",
       "13. 'ILECalostrum'\n",
       "14. 'ILETransition'\n",
       "15. 'ILEMature2m'\n",
       "16. 'ILEMature4m'\n",
       "17. 'LEUCalostrum'\n",
       "18. 'LEUTransition'\n",
       "19. 'LEUMature2m'\n",
       "20. 'LEUMature4m'\n",
       "21. 'LYSCalostrum'\n",
       "22. 'LYSTransition'\n",
       "23. 'LYSMature2m'\n",
       "24. 'LYSMature4m'\n",
       "25. 'METCalostrum'\n",
       "26. 'METTransition'\n",
       "27. 'METMature2m'\n",
       "28. 'METMature4m'\n",
       "29. 'PHECalostrum'\n",
       "30. 'PHETransition'\n",
       "31. 'PHEMature2m'\n",
       "32. 'PHEMature4m'\n",
       "33. 'THRCalostrum'\n",
       "34. 'THRTransition'\n",
       "35. 'THRMature2m'\n",
       "36. 'THRMature4m'\n",
       "37. 'TRPCalostrum'\n",
       "38. 'TRPTransition'\n",
       "39. 'TRPMature2m'\n",
       "40. 'TRPMature4m'\n",
       "41. 'VALCalostrum'\n",
       "42. 'VALTransition'\n",
       "43. 'VALMature2m'\n",
       "44. 'VALMature4m'\n",
       "\n",
       "\n"
      ],
      "text/plain": [
       " [1] \"id\"            \"group\"         \"age\"           \"sex\"          \n",
       " [5] \"ARGCalostrum\"  \"ARGTransition\" \"ARGMature2m\"   \"ARGMature4m\"  \n",
       " [9] \"HISCalostrum\"  \"HISTransition\" \"HISMature2m\"   \"HISMature4m\"  \n",
       "[13] \"ILECalostrum\"  \"ILETransition\" \"ILEMature2m\"   \"ILEMature4m\"  \n",
       "[17] \"LEUCalostrum\"  \"LEUTransition\" \"LEUMature2m\"   \"LEUMature4m\"  \n",
       "[21] \"LYSCalostrum\"  \"LYSTransition\" \"LYSMature2m\"   \"LYSMature4m\"  \n",
       "[25] \"METCalostrum\"  \"METTransition\" \"METMature2m\"   \"METMature4m\"  \n",
       "[29] \"PHECalostrum\"  \"PHETransition\" \"PHEMature2m\"   \"PHEMature4m\"  \n",
       "[33] \"THRCalostrum\"  \"THRTransition\" \"THRMature2m\"   \"THRMature4m\"  \n",
       "[37] \"TRPCalostrum\"  \"TRPTransition\" \"TRPMature2m\"   \"TRPMature4m\"  \n",
       "[41] \"VALCalostrum\"  \"VALTransition\" \"VALMature2m\"   \"VALMature4m\"  "
      ]
     },
     "metadata": {},
     "output_type": "display_data"
    }
   ],
   "source": [
    "AA_E <- AA_Sex_1 %>%  select(id = ID, group = GROUP, age = MATERNALAGE, sex = SEXO, 58:97) %>%\n",
    "                         mutate(id = factor(id), \n",
    "                                sex =  factor(sex, labels = c('girl', 'boy')),\n",
    "                                group = factor(group, labels = c('teen', 'adult'))) \n",
    "\n",
    "AA_NE <- AA_Sex_1 %>%  select(id = ID, group = GROUP, age = MATERNALAGE, sex = SEXO, 102:141) %>%\n",
    "                         mutate(id = factor(id), \n",
    "                                sex =  factor(sex, labels = c('girl', 'boy')),\n",
    "                                group = factor(group, labels = c('teen', 'adult'))) \n",
    "\n",
    "names(AA_E)"
   ]
  },
  {
   "cell_type": "code",
   "execution_count": 7,
   "metadata": {},
   "outputs": [
    {
     "name": "stderr",
     "output_type": "stream",
     "text": [
      "Warning message:\n",
      "\"attributes are not identical across measure variables; they will be dropped\"Warning message:\n",
      "\"attributes are not identical across measure variables; they will be dropped\""
     ]
    },
    {
     "data": {
      "text/html": [
       "<table>\n",
       "<thead><tr><th scope=col>id</th><th scope=col>group</th><th scope=col>age</th><th scope=col>sex</th><th scope=col>weekNames</th><th scope=col>level</th></tr></thead>\n",
       "<tbody>\n",
       "\t<tr><td>1           </td><td>teen        </td><td>17          </td><td>girl        </td><td>ARGCalostrum</td><td>1           </td></tr>\n",
       "\t<tr><td>2           </td><td>teen        </td><td>16          </td><td>boy         </td><td>ARGCalostrum</td><td>1           </td></tr>\n",
       "\t<tr><td>3           </td><td>teen        </td><td>17          </td><td>boy         </td><td>ARGCalostrum</td><td>1           </td></tr>\n",
       "\t<tr><td>4           </td><td>teen        </td><td>16          </td><td>boy         </td><td>ARGCalostrum</td><td>1           </td></tr>\n",
       "\t<tr><td>5           </td><td>teen        </td><td>16          </td><td>NA          </td><td>ARGCalostrum</td><td>2           </td></tr>\n",
       "\t<tr><td>6           </td><td>teen        </td><td>16          </td><td>boy         </td><td>ARGCalostrum</td><td>2           </td></tr>\n",
       "</tbody>\n",
       "</table>\n"
      ],
      "text/latex": [
       "\\begin{tabular}{r|llllll}\n",
       " id & group & age & sex & weekNames & level\\\\\n",
       "\\hline\n",
       "\t 1            & teen         & 17           & girl         & ARGCalostrum & 1           \\\\\n",
       "\t 2            & teen         & 16           & boy          & ARGCalostrum & 1           \\\\\n",
       "\t 3            & teen         & 17           & boy          & ARGCalostrum & 1           \\\\\n",
       "\t 4            & teen         & 16           & boy          & ARGCalostrum & 1           \\\\\n",
       "\t 5            & teen         & 16           & NA           & ARGCalostrum & 2           \\\\\n",
       "\t 6            & teen         & 16           & boy          & ARGCalostrum & 2           \\\\\n",
       "\\end{tabular}\n"
      ],
      "text/markdown": [
       "\n",
       "id | group | age | sex | weekNames | level | \n",
       "|---|---|---|---|---|---|\n",
       "| 1            | teen         | 17           | girl         | ARGCalostrum | 1            | \n",
       "| 2            | teen         | 16           | boy          | ARGCalostrum | 1            | \n",
       "| 3            | teen         | 17           | boy          | ARGCalostrum | 1            | \n",
       "| 4            | teen         | 16           | boy          | ARGCalostrum | 1            | \n",
       "| 5            | teen         | 16           | NA           | ARGCalostrum | 2            | \n",
       "| 6            | teen         | 16           | boy          | ARGCalostrum | 2            | \n",
       "\n",
       "\n"
      ],
      "text/plain": [
       "  id group age sex  weekNames    level\n",
       "1 1  teen  17  girl ARGCalostrum 1    \n",
       "2 2  teen  16  boy  ARGCalostrum 1    \n",
       "3 3  teen  17  boy  ARGCalostrum 1    \n",
       "4 4  teen  16  boy  ARGCalostrum 1    \n",
       "5 5  teen  16  NA   ARGCalostrum 2    \n",
       "6 6  teen  16  boy  ARGCalostrum 2    "
      ]
     },
     "metadata": {},
     "output_type": "display_data"
    }
   ],
   "source": [
    "# Removing NAs\n",
    "AA_E_Long <- AA_E %>% gather(weekNames, level, 5:length(names(AA_E))) \n",
    "AA_NE_Long <- AA_NE %>% gather(weekNames, level, 5:length(names(AA_NE))) \n",
    "\n",
    "head(AA_E_Long)"
   ]
  },
  {
   "cell_type": "code",
   "execution_count": 8,
   "metadata": {},
   "outputs": [
    {
     "data": {
      "text/html": [
       "<table>\n",
       "<thead><tr><th scope=col>id</th><th scope=col>group</th><th scope=col>age</th><th scope=col>sex</th><th scope=col>weekNames</th><th scope=col>level</th><th scope=col>week</th><th scope=col>AA</th></tr></thead>\n",
       "<tbody>\n",
       "\t<tr><td>1           </td><td>teen        </td><td>17          </td><td>girl        </td><td>ARGCalostrum</td><td>1           </td><td>1           </td><td>ARG         </td></tr>\n",
       "\t<tr><td>2           </td><td>teen        </td><td>16          </td><td>boy         </td><td>ARGCalostrum</td><td>1           </td><td>1           </td><td>ARG         </td></tr>\n",
       "\t<tr><td>3           </td><td>teen        </td><td>17          </td><td>boy         </td><td>ARGCalostrum</td><td>1           </td><td>1           </td><td>ARG         </td></tr>\n",
       "\t<tr><td>4           </td><td>teen        </td><td>16          </td><td>boy         </td><td>ARGCalostrum</td><td>1           </td><td>1           </td><td>ARG         </td></tr>\n",
       "\t<tr><td>5           </td><td>teen        </td><td>16          </td><td>NA          </td><td>ARGCalostrum</td><td>2           </td><td>1           </td><td>ARG         </td></tr>\n",
       "\t<tr><td>6           </td><td>teen        </td><td>16          </td><td>boy         </td><td>ARGCalostrum</td><td>2           </td><td>1           </td><td>ARG         </td></tr>\n",
       "</tbody>\n",
       "</table>\n"
      ],
      "text/latex": [
       "\\begin{tabular}{r|llllllll}\n",
       " id & group & age & sex & weekNames & level & week & AA\\\\\n",
       "\\hline\n",
       "\t 1            & teen         & 17           & girl         & ARGCalostrum & 1            & 1            & ARG         \\\\\n",
       "\t 2            & teen         & 16           & boy          & ARGCalostrum & 1            & 1            & ARG         \\\\\n",
       "\t 3            & teen         & 17           & boy          & ARGCalostrum & 1            & 1            & ARG         \\\\\n",
       "\t 4            & teen         & 16           & boy          & ARGCalostrum & 1            & 1            & ARG         \\\\\n",
       "\t 5            & teen         & 16           & NA           & ARGCalostrum & 2            & 1            & ARG         \\\\\n",
       "\t 6            & teen         & 16           & boy          & ARGCalostrum & 2            & 1            & ARG         \\\\\n",
       "\\end{tabular}\n"
      ],
      "text/markdown": [
       "\n",
       "id | group | age | sex | weekNames | level | week | AA | \n",
       "|---|---|---|---|---|---|\n",
       "| 1            | teen         | 17           | girl         | ARGCalostrum | 1            | 1            | ARG          | \n",
       "| 2            | teen         | 16           | boy          | ARGCalostrum | 1            | 1            | ARG          | \n",
       "| 3            | teen         | 17           | boy          | ARGCalostrum | 1            | 1            | ARG          | \n",
       "| 4            | teen         | 16           | boy          | ARGCalostrum | 1            | 1            | ARG          | \n",
       "| 5            | teen         | 16           | NA           | ARGCalostrum | 2            | 1            | ARG          | \n",
       "| 6            | teen         | 16           | boy          | ARGCalostrum | 2            | 1            | ARG          | \n",
       "\n",
       "\n"
      ],
      "text/plain": [
       "  id group age sex  weekNames    level week AA \n",
       "1 1  teen  17  girl ARGCalostrum 1     1    ARG\n",
       "2 2  teen  16  boy  ARGCalostrum 1     1    ARG\n",
       "3 3  teen  17  boy  ARGCalostrum 1     1    ARG\n",
       "4 4  teen  16  boy  ARGCalostrum 1     1    ARG\n",
       "5 5  teen  16  NA   ARGCalostrum 2     1    ARG\n",
       "6 6  teen  16  boy  ARGCalostrum 2     1    ARG"
      ]
     },
     "metadata": {},
     "output_type": "display_data"
    }
   ],
   "source": [
    "AA_E_Long <- \n",
    "    AA_E_Long %>% \n",
    "        mutate(week = gsub(\".*Calostrum.*\", \"1\", weekNames)) %>%\n",
    "        mutate(week = gsub(\".*Transition.*\", \"2\", week)) %>%\n",
    "        mutate(week = gsub(\".*Mature2m.*\", \"4\", week)) %>%\n",
    "        mutate(week = gsub(\".*Mature4m.*\", \"16\", week)) %>% \n",
    "        mutate(week = as.numeric(week))\n",
    "\n",
    "AA_E_Long <- \n",
    "    AA_E_Long %>% \n",
    "        mutate(AA = gsub(\"Calostrum.*\", \"\", weekNames)) %>%\n",
    "        mutate(AA = gsub(\"Transition.*\", \"\", AA)) %>%\n",
    "        mutate(AA = gsub(\"Mature2m.*\", \"\", AA)) %>%\n",
    "        mutate(AA = gsub(\"Mature4m.*\", \"\", AA))\n",
    "\n",
    "head(AA_E_Long)"
   ]
  },
  {
   "cell_type": "code",
   "execution_count": 9,
   "metadata": {},
   "outputs": [
    {
     "data": {
      "text/html": [
       "<table>\n",
       "<thead><tr><th scope=col>id</th><th scope=col>group</th><th scope=col>age</th><th scope=col>sex</th><th scope=col>weekNames</th><th scope=col>level</th><th scope=col>week</th><th scope=col>AA</th></tr></thead>\n",
       "<tbody>\n",
       "\t<tr><td>1           </td><td>teen        </td><td>17          </td><td>girl        </td><td>ASPCalostrum</td><td>3           </td><td>1           </td><td>ASP         </td></tr>\n",
       "\t<tr><td>2           </td><td>teen        </td><td>16          </td><td>boy         </td><td>ASPCalostrum</td><td>1           </td><td>1           </td><td>ASP         </td></tr>\n",
       "\t<tr><td>3           </td><td>teen        </td><td>17          </td><td>boy         </td><td>ASPCalostrum</td><td>4           </td><td>1           </td><td>ASP         </td></tr>\n",
       "\t<tr><td>4           </td><td>teen        </td><td>16          </td><td>boy         </td><td>ASPCalostrum</td><td>1           </td><td>1           </td><td>ASP         </td></tr>\n",
       "\t<tr><td>5           </td><td>teen        </td><td>16          </td><td>NA          </td><td>ASPCalostrum</td><td>1           </td><td>1           </td><td>ASP         </td></tr>\n",
       "\t<tr><td>6           </td><td>teen        </td><td>16          </td><td>boy         </td><td>ASPCalostrum</td><td>1           </td><td>1           </td><td>ASP         </td></tr>\n",
       "</tbody>\n",
       "</table>\n"
      ],
      "text/latex": [
       "\\begin{tabular}{r|llllllll}\n",
       " id & group & age & sex & weekNames & level & week & AA\\\\\n",
       "\\hline\n",
       "\t 1            & teen         & 17           & girl         & ASPCalostrum & 3            & 1            & ASP         \\\\\n",
       "\t 2            & teen         & 16           & boy          & ASPCalostrum & 1            & 1            & ASP         \\\\\n",
       "\t 3            & teen         & 17           & boy          & ASPCalostrum & 4            & 1            & ASP         \\\\\n",
       "\t 4            & teen         & 16           & boy          & ASPCalostrum & 1            & 1            & ASP         \\\\\n",
       "\t 5            & teen         & 16           & NA           & ASPCalostrum & 1            & 1            & ASP         \\\\\n",
       "\t 6            & teen         & 16           & boy          & ASPCalostrum & 1            & 1            & ASP         \\\\\n",
       "\\end{tabular}\n"
      ],
      "text/markdown": [
       "\n",
       "id | group | age | sex | weekNames | level | week | AA | \n",
       "|---|---|---|---|---|---|\n",
       "| 1            | teen         | 17           | girl         | ASPCalostrum | 3            | 1            | ASP          | \n",
       "| 2            | teen         | 16           | boy          | ASPCalostrum | 1            | 1            | ASP          | \n",
       "| 3            | teen         | 17           | boy          | ASPCalostrum | 4            | 1            | ASP          | \n",
       "| 4            | teen         | 16           | boy          | ASPCalostrum | 1            | 1            | ASP          | \n",
       "| 5            | teen         | 16           | NA           | ASPCalostrum | 1            | 1            | ASP          | \n",
       "| 6            | teen         | 16           | boy          | ASPCalostrum | 1            | 1            | ASP          | \n",
       "\n",
       "\n"
      ],
      "text/plain": [
       "  id group age sex  weekNames    level week AA \n",
       "1 1  teen  17  girl ASPCalostrum 3     1    ASP\n",
       "2 2  teen  16  boy  ASPCalostrum 1     1    ASP\n",
       "3 3  teen  17  boy  ASPCalostrum 4     1    ASP\n",
       "4 4  teen  16  boy  ASPCalostrum 1     1    ASP\n",
       "5 5  teen  16  NA   ASPCalostrum 1     1    ASP\n",
       "6 6  teen  16  boy  ASPCalostrum 1     1    ASP"
      ]
     },
     "metadata": {},
     "output_type": "display_data"
    }
   ],
   "source": [
    "AA_NE_Long <- \n",
    "    AA_NE_Long %>% \n",
    "        mutate(week = gsub(\".*Calostrum.*\", \"1\", weekNames)) %>%\n",
    "        mutate(week = gsub(\".*Transition.*\", \"2\", week)) %>%\n",
    "        mutate(week = gsub(\".*Mature2m.*\", \"4\", week)) %>%\n",
    "        mutate(week = gsub(\".*Mature4m.*\", \"16\", week)) %>% \n",
    "        mutate(week = as.numeric(week))\n",
    "\n",
    "AA_NE_Long <- \n",
    "    AA_NE_Long %>% \n",
    "        mutate(AA = gsub(\"Calostrum.*\", \"\", weekNames)) %>%\n",
    "        mutate(AA = gsub(\"Transition.*\", \"\", AA)) %>%\n",
    "        mutate(AA = gsub(\"Mature2m.*\", \"\", AA)) %>%\n",
    "        mutate(AA = gsub(\"Mature4m.*\", \"\", AA))\n",
    "\n",
    "head(AA_NE_Long)"
   ]
  },
  {
   "cell_type": "code",
   "execution_count": 10,
   "metadata": {},
   "outputs": [
    {
     "data": {
      "text/html": [
       "<table>\n",
       "<thead><tr><th scope=col>id</th><th scope=col>group</th><th scope=col>age</th><th scope=col>sex</th><th scope=col>weekNames</th><th scope=col>level</th><th scope=col>week</th><th scope=col>AA</th></tr></thead>\n",
       "<tbody>\n",
       "\t<tr><td>4            </td><td>teen         </td><td>16           </td><td>boy          </td><td>ARGCalostrum </td><td> 1           </td><td> 1           </td><td>ARG          </td></tr>\n",
       "\t<tr><td>4            </td><td>teen         </td><td>16           </td><td>boy          </td><td>ARGTransition</td><td>NA           </td><td> 2           </td><td>ARG          </td></tr>\n",
       "\t<tr><td>4            </td><td>teen         </td><td>16           </td><td>boy          </td><td>ARGMature2m  </td><td>NA           </td><td> 4           </td><td>ARG          </td></tr>\n",
       "\t<tr><td>4            </td><td>teen         </td><td>16           </td><td>boy          </td><td>ARGMature4m  </td><td>NA           </td><td>16           </td><td>ARG          </td></tr>\n",
       "\t<tr><td>4            </td><td>teen         </td><td>16           </td><td>boy          </td><td>HISCalostrum </td><td> 1           </td><td> 1           </td><td>HIS          </td></tr>\n",
       "\t<tr><td>4            </td><td>teen         </td><td>16           </td><td>boy          </td><td>HISTransition</td><td>NA           </td><td> 2           </td><td>HIS          </td></tr>\n",
       "</tbody>\n",
       "</table>\n"
      ],
      "text/latex": [
       "\\begin{tabular}{r|llllllll}\n",
       " id & group & age & sex & weekNames & level & week & AA\\\\\n",
       "\\hline\n",
       "\t 4             & teen          & 16            & boy           & ARGCalostrum  &  1            &  1            & ARG          \\\\\n",
       "\t 4             & teen          & 16            & boy           & ARGTransition & NA            &  2            & ARG          \\\\\n",
       "\t 4             & teen          & 16            & boy           & ARGMature2m   & NA            &  4            & ARG          \\\\\n",
       "\t 4             & teen          & 16            & boy           & ARGMature4m   & NA            & 16            & ARG          \\\\\n",
       "\t 4             & teen          & 16            & boy           & HISCalostrum  &  1            &  1            & HIS          \\\\\n",
       "\t 4             & teen          & 16            & boy           & HISTransition & NA            &  2            & HIS          \\\\\n",
       "\\end{tabular}\n"
      ],
      "text/markdown": [
       "\n",
       "id | group | age | sex | weekNames | level | week | AA | \n",
       "|---|---|---|---|---|---|\n",
       "| 4             | teen          | 16            | boy           | ARGCalostrum  |  1            |  1            | ARG           | \n",
       "| 4             | teen          | 16            | boy           | ARGTransition | NA            |  2            | ARG           | \n",
       "| 4             | teen          | 16            | boy           | ARGMature2m   | NA            |  4            | ARG           | \n",
       "| 4             | teen          | 16            | boy           | ARGMature4m   | NA            | 16            | ARG           | \n",
       "| 4             | teen          | 16            | boy           | HISCalostrum  |  1            |  1            | HIS           | \n",
       "| 4             | teen          | 16            | boy           | HISTransition | NA            |  2            | HIS           | \n",
       "\n",
       "\n"
      ],
      "text/plain": [
       "  id group age sex weekNames     level week AA \n",
       "1 4  teen  16  boy ARGCalostrum   1     1   ARG\n",
       "2 4  teen  16  boy ARGTransition NA     2   ARG\n",
       "3 4  teen  16  boy ARGMature2m   NA     4   ARG\n",
       "4 4  teen  16  boy ARGMature4m   NA    16   ARG\n",
       "5 4  teen  16  boy HISCalostrum   1     1   HIS\n",
       "6 4  teen  16  boy HISTransition NA     2   HIS"
      ]
     },
     "metadata": {},
     "output_type": "display_data"
    }
   ],
   "source": [
    "AA_E_Long %>% filter(id == 4) %>% head()"
   ]
  },
  {
   "cell_type": "code",
   "execution_count": 11,
   "metadata": {},
   "outputs": [
    {
     "name": "stderr",
     "output_type": "stream",
     "text": [
      "Warning message:\n",
      "\"Removed 711 rows containing non-finite values (stat_density).\""
     ]
    },
    {
     "data": {},
     "metadata": {},
     "output_type": "display_data"
    },
    {
     "data": {
      "text/html": [
       "<strong>png:</strong> 2"
      ],
      "text/latex": [
       "\\textbf{png:} 2"
      ],
      "text/markdown": [
       "**png:** 2"
      ],
      "text/plain": [
       "png \n",
       "  2 "
      ]
     },
     "metadata": {},
     "output_type": "display_data"
    }
   ],
   "source": [
    "png(filename=\"./plots/EAA_dist.png\", units=\"cm\", width=15, height=20, res = 300)\n",
    "\n",
    "ggplot(AA_E_Long, aes(x = level, fill = AA)) + geom_density() + \n",
    "    guides(fill=FALSE) +\n",
    "    facet_grid(AA ~ week, scales = \"free_y\") +\n",
    "    theme( \n",
    "      #strip.background = element_blank(),\n",
    "      axis.ticks.y = element_blank(),\n",
    "      axis.text.y = element_blank()\n",
    "    ) + ggtitle('Essential AA') \n",
    "\n",
    "dev.off()\n"
   ]
  },
  {
   "cell_type": "code",
   "execution_count": 12,
   "metadata": {},
   "outputs": [
    {
     "name": "stderr",
     "output_type": "stream",
     "text": [
      "Warning message:\n",
      "\"Removed 710 rows containing non-finite values (stat_density).\""
     ]
    },
    {
     "data": {},
     "metadata": {},
     "output_type": "display_data"
    },
    {
     "data": {
      "text/html": [
       "<strong>png:</strong> 2"
      ],
      "text/latex": [
       "\\textbf{png:} 2"
      ],
      "text/markdown": [
       "**png:** 2"
      ],
      "text/plain": [
       "png \n",
       "  2 "
      ]
     },
     "metadata": {},
     "output_type": "display_data"
    }
   ],
   "source": [
    "png(filename=\"./plots/NEAA_dist.png\", units=\"cm\", width=15, height=20, res = 300)\n",
    "ggplot(AA_NE_Long, aes(x = level, fill = AA)) + geom_density() + \n",
    "    guides(fill=FALSE) + \n",
    "    facet_grid(AA ~ week, scales = \"free_y\") +\n",
    "    theme(\n",
    "      #strip.background = element_blank(),\n",
    "      axis.ticks.y = element_blank(),\n",
    "      axis.text.y = element_blank()\n",
    "    ) + ggtitle('Non Essential AA')\n",
    "\n",
    "dev.off()"
   ]
  },
  {
   "cell_type": "code",
   "execution_count": 13,
   "metadata": {},
   "outputs": [
    {
     "data": {
      "text/html": [
       "<table>\n",
       "<thead><tr><th scope=col>AA</th><th scope=col>1</th><th scope=col>2</th><th scope=col>4</th><th scope=col>16</th></tr></thead>\n",
       "<tbody>\n",
       "\t<tr><td>ARG        </td><td>1.54 ± 1.15</td><td>1.12 ± 1.06</td><td>1 ± 0.69   </td><td>0.95 ± 0.4 </td></tr>\n",
       "\t<tr><td>HIS        </td><td>1.43 ± 0.98</td><td>2.29 ± 0.85</td><td>2.23 ± 0.71</td><td>1.95 ± 0.57</td></tr>\n",
       "\t<tr><td>ILE        </td><td>0.45 ± 0.59</td><td>0.56 ± 0.54</td><td>0.74 ± 0.68</td><td>0.62 ± 0.49</td></tr>\n",
       "\t<tr><td>LEU        </td><td>1.38 ± 1   </td><td>1.79 ± 1.09</td><td>2.15 ± 1.39</td><td>2.19 ± 1.7 </td></tr>\n",
       "\t<tr><td>LYS        </td><td>2.55 ± 2.21</td><td>1.38 ± 0.98</td><td>1.36 ± 0.99</td><td>1.27 ± 0.56</td></tr>\n",
       "\t<tr><td>MET        </td><td>0.09 ± 0.29</td><td>0.1 ± 0.31 </td><td>0.23 ± 0.48</td><td>0.16 ± 0.37</td></tr>\n",
       "\t<tr><td>PHE        </td><td>0.48 ± 0.5 </td><td>1 ± 0.51   </td><td>1.13 ± 0.52</td><td>1.03 ± 0.37</td></tr>\n",
       "\t<tr><td>THR        </td><td>5.08 ± 3.05</td><td>6.15 ± 2.63</td><td>6.31 ± 2.9 </td><td>7.68 ± 3.64</td></tr>\n",
       "\t<tr><td>TRP        </td><td>0.03 ± 0.17</td><td>0 ± 0      </td><td>0.03 ± 0.16</td><td>0 ± 0      </td></tr>\n",
       "\t<tr><td>VAL        </td><td>2.38 ± 1.34</td><td>3.73 ± 1.09</td><td>4.54 ± 1.6 </td><td>4.05 ± 1.39</td></tr>\n",
       "</tbody>\n",
       "</table>\n"
      ],
      "text/latex": [
       "\\begin{tabular}{r|lllll}\n",
       " AA & 1 & 2 & 4 & 16\\\\\n",
       "\\hline\n",
       "\t ARG         & 1.54 ± 1.15 & 1.12 ± 1.06 & 1 ± 0.69    & 0.95 ± 0.4 \\\\\n",
       "\t HIS         & 1.43 ± 0.98 & 2.29 ± 0.85 & 2.23 ± 0.71 & 1.95 ± 0.57\\\\\n",
       "\t ILE         & 0.45 ± 0.59 & 0.56 ± 0.54 & 0.74 ± 0.68 & 0.62 ± 0.49\\\\\n",
       "\t LEU         & 1.38 ± 1    & 1.79 ± 1.09 & 2.15 ± 1.39 & 2.19 ± 1.7 \\\\\n",
       "\t LYS         & 2.55 ± 2.21 & 1.38 ± 0.98 & 1.36 ± 0.99 & 1.27 ± 0.56\\\\\n",
       "\t MET         & 0.09 ± 0.29 & 0.1 ± 0.31  & 0.23 ± 0.48 & 0.16 ± 0.37\\\\\n",
       "\t PHE         & 0.48 ± 0.5  & 1 ± 0.51    & 1.13 ± 0.52 & 1.03 ± 0.37\\\\\n",
       "\t THR         & 5.08 ± 3.05 & 6.15 ± 2.63 & 6.31 ± 2.9  & 7.68 ± 3.64\\\\\n",
       "\t TRP         & 0.03 ± 0.17 & 0 ± 0       & 0.03 ± 0.16 & 0 ± 0      \\\\\n",
       "\t VAL         & 2.38 ± 1.34 & 3.73 ± 1.09 & 4.54 ± 1.6  & 4.05 ± 1.39\\\\\n",
       "\\end{tabular}\n"
      ],
      "text/markdown": [
       "\n",
       "AA | 1 | 2 | 4 | 16 | \n",
       "|---|---|---|---|---|---|---|---|---|---|\n",
       "| ARG         | 1.54 ± 1.15 | 1.12 ± 1.06 | 1 ± 0.69    | 0.95 ± 0.4  | \n",
       "| HIS         | 1.43 ± 0.98 | 2.29 ± 0.85 | 2.23 ± 0.71 | 1.95 ± 0.57 | \n",
       "| ILE         | 0.45 ± 0.59 | 0.56 ± 0.54 | 0.74 ± 0.68 | 0.62 ± 0.49 | \n",
       "| LEU         | 1.38 ± 1    | 1.79 ± 1.09 | 2.15 ± 1.39 | 2.19 ± 1.7  | \n",
       "| LYS         | 2.55 ± 2.21 | 1.38 ± 0.98 | 1.36 ± 0.99 | 1.27 ± 0.56 | \n",
       "| MET         | 0.09 ± 0.29 | 0.1 ± 0.31  | 0.23 ± 0.48 | 0.16 ± 0.37 | \n",
       "| PHE         | 0.48 ± 0.5  | 1 ± 0.51    | 1.13 ± 0.52 | 1.03 ± 0.37 | \n",
       "| THR         | 5.08 ± 3.05 | 6.15 ± 2.63 | 6.31 ± 2.9  | 7.68 ± 3.64 | \n",
       "| TRP         | 0.03 ± 0.17 | 0 ± 0       | 0.03 ± 0.16 | 0 ± 0       | \n",
       "| VAL         | 2.38 ± 1.34 | 3.73 ± 1.09 | 4.54 ± 1.6  | 4.05 ± 1.39 | \n",
       "\n",
       "\n"
      ],
      "text/plain": [
       "   AA  1           2           4           16         \n",
       "1  ARG 1.54 ± 1.15 1.12 ± 1.06 1 ± 0.69    0.95 ± 0.4 \n",
       "2  HIS 1.43 ± 0.98 2.29 ± 0.85 2.23 ± 0.71 1.95 ± 0.57\n",
       "3  ILE 0.45 ± 0.59 0.56 ± 0.54 0.74 ± 0.68 0.62 ± 0.49\n",
       "4  LEU 1.38 ± 1    1.79 ± 1.09 2.15 ± 1.39 2.19 ± 1.7 \n",
       "5  LYS 2.55 ± 2.21 1.38 ± 0.98 1.36 ± 0.99 1.27 ± 0.56\n",
       "6  MET 0.09 ± 0.29 0.1 ± 0.31  0.23 ± 0.48 0.16 ± 0.37\n",
       "7  PHE 0.48 ± 0.5  1 ± 0.51    1.13 ± 0.52 1.03 ± 0.37\n",
       "8  THR 5.08 ± 3.05 6.15 ± 2.63 6.31 ± 2.9  7.68 ± 3.64\n",
       "9  TRP 0.03 ± 0.17 0 ± 0       0.03 ± 0.16 0 ± 0      \n",
       "10 VAL 2.38 ± 1.34 3.73 ± 1.09 4.54 ± 1.6  4.05 ± 1.39"
      ]
     },
     "metadata": {},
     "output_type": "display_data"
    }
   ],
   "source": [
    "AA_E_sum <- \n",
    " AA_E_Long %>% group_by(week, AA) %>% \n",
    "    summarise(mean = mean(level, na.rm = T), sd = sd(level, na.rm = T)) %>% \n",
    "    mutate(mean = round(mean, 2), sd = round(sd, 2)) %>%\n",
    "    mutate(mean = as.character(mean), sd = as.character(sd)) %>% \n",
    "    mutate(CI = paste(mean, '±', sd)) %>% \n",
    "    select(-mean, -sd) %>% \n",
    "    spread(week, CI)\n",
    "\n",
    "AA_E_sum"
   ]
  },
  {
   "cell_type": "code",
   "execution_count": 14,
   "metadata": {},
   "outputs": [
    {
     "data": {
      "text/html": [
       "<table>\n",
       "<thead><tr><th scope=col>AA</th><th scope=col>1</th><th scope=col>2</th><th scope=col>4</th><th scope=col>16</th></tr></thead>\n",
       "<tbody>\n",
       "\t<tr><td>ALA           </td><td>12.12 ± 9.02  </td><td>20.98 ± 7.65  </td><td>24 ± 8.15     </td><td>24.11 ± 9.67  </td></tr>\n",
       "\t<tr><td>ASN           </td><td>0.75 ± 0.66   </td><td>0.21 ± 0.54   </td><td>0.62 ± 1.02   </td><td>0.54 ± 0.87   </td></tr>\n",
       "\t<tr><td>ASP           </td><td>2.66 ± 2.15   </td><td>3.69 ± 1.98   </td><td>4.92 ± 3.06   </td><td>5.03 ± 3.7    </td></tr>\n",
       "\t<tr><td>CYS           </td><td>0.77 ± 0.7    </td><td>1.27 ± 1.01   </td><td>1.85 ± 0.87   </td><td>2.3 ± 1.08    </td></tr>\n",
       "\t<tr><td>GLN           </td><td>12.6 ± 10.68  </td><td>31.42 ± 15.85 </td><td>51.95 ± 21.76 </td><td>56.05 ± 21.17 </td></tr>\n",
       "\t<tr><td>GLU           </td><td>44.92 ± 33.93 </td><td>89.46 ± 31.81 </td><td>118.28 ± 31.19</td><td>114.84 ± 35.95</td></tr>\n",
       "\t<tr><td>GLY           </td><td>5.03 ± 4.07   </td><td>10.12 ± 3.38  </td><td>12.74 ± 4.46  </td><td>12.24 ± 3.85  </td></tr>\n",
       "\t<tr><td>PRO           </td><td>3.6 ± 2.82    </td><td>2.81 ± 0.91   </td><td>2.77 ± 1.68   </td><td>2.54 ± 1.04   </td></tr>\n",
       "\t<tr><td>SER           </td><td>4.57 ± 2.68   </td><td>8.54 ± 3.62   </td><td>11.62 ± 3.7   </td><td>12.32 ± 4.44  </td></tr>\n",
       "\t<tr><td>TYR           </td><td>0.66 ± 0.64   </td><td>1.04 ± 0.58   </td><td>1.13 ± 0.66   </td><td>1 ± 0.58      </td></tr>\n",
       "</tbody>\n",
       "</table>\n"
      ],
      "text/latex": [
       "\\begin{tabular}{r|lllll}\n",
       " AA & 1 & 2 & 4 & 16\\\\\n",
       "\\hline\n",
       "\t ALA            & 12.12 ± 9.02   & 20.98 ± 7.65   & 24 ± 8.15      & 24.11 ± 9.67  \\\\\n",
       "\t ASN            & 0.75 ± 0.66    & 0.21 ± 0.54    & 0.62 ± 1.02    & 0.54 ± 0.87   \\\\\n",
       "\t ASP            & 2.66 ± 2.15    & 3.69 ± 1.98    & 4.92 ± 3.06    & 5.03 ± 3.7    \\\\\n",
       "\t CYS            & 0.77 ± 0.7     & 1.27 ± 1.01    & 1.85 ± 0.87    & 2.3 ± 1.08    \\\\\n",
       "\t GLN            & 12.6 ± 10.68   & 31.42 ± 15.85  & 51.95 ± 21.76  & 56.05 ± 21.17 \\\\\n",
       "\t GLU            & 44.92 ± 33.93  & 89.46 ± 31.81  & 118.28 ± 31.19 & 114.84 ± 35.95\\\\\n",
       "\t GLY            & 5.03 ± 4.07    & 10.12 ± 3.38   & 12.74 ± 4.46   & 12.24 ± 3.85  \\\\\n",
       "\t PRO            & 3.6 ± 2.82     & 2.81 ± 0.91    & 2.77 ± 1.68    & 2.54 ± 1.04   \\\\\n",
       "\t SER            & 4.57 ± 2.68    & 8.54 ± 3.62    & 11.62 ± 3.7    & 12.32 ± 4.44  \\\\\n",
       "\t TYR            & 0.66 ± 0.64    & 1.04 ± 0.58    & 1.13 ± 0.66    & 1 ± 0.58      \\\\\n",
       "\\end{tabular}\n"
      ],
      "text/markdown": [
       "\n",
       "AA | 1 | 2 | 4 | 16 | \n",
       "|---|---|---|---|---|---|---|---|---|---|\n",
       "| ALA            | 12.12 ± 9.02   | 20.98 ± 7.65   | 24 ± 8.15      | 24.11 ± 9.67   | \n",
       "| ASN            | 0.75 ± 0.66    | 0.21 ± 0.54    | 0.62 ± 1.02    | 0.54 ± 0.87    | \n",
       "| ASP            | 2.66 ± 2.15    | 3.69 ± 1.98    | 4.92 ± 3.06    | 5.03 ± 3.7     | \n",
       "| CYS            | 0.77 ± 0.7     | 1.27 ± 1.01    | 1.85 ± 0.87    | 2.3 ± 1.08     | \n",
       "| GLN            | 12.6 ± 10.68   | 31.42 ± 15.85  | 51.95 ± 21.76  | 56.05 ± 21.17  | \n",
       "| GLU            | 44.92 ± 33.93  | 89.46 ± 31.81  | 118.28 ± 31.19 | 114.84 ± 35.95 | \n",
       "| GLY            | 5.03 ± 4.07    | 10.12 ± 3.38   | 12.74 ± 4.46   | 12.24 ± 3.85   | \n",
       "| PRO            | 3.6 ± 2.82     | 2.81 ± 0.91    | 2.77 ± 1.68    | 2.54 ± 1.04    | \n",
       "| SER            | 4.57 ± 2.68    | 8.54 ± 3.62    | 11.62 ± 3.7    | 12.32 ± 4.44   | \n",
       "| TYR            | 0.66 ± 0.64    | 1.04 ± 0.58    | 1.13 ± 0.66    | 1 ± 0.58       | \n",
       "\n",
       "\n"
      ],
      "text/plain": [
       "   AA  1             2             4              16            \n",
       "1  ALA 12.12 ± 9.02  20.98 ± 7.65  24 ± 8.15      24.11 ± 9.67  \n",
       "2  ASN 0.75 ± 0.66   0.21 ± 0.54   0.62 ± 1.02    0.54 ± 0.87   \n",
       "3  ASP 2.66 ± 2.15   3.69 ± 1.98   4.92 ± 3.06    5.03 ± 3.7    \n",
       "4  CYS 0.77 ± 0.7    1.27 ± 1.01   1.85 ± 0.87    2.3 ± 1.08    \n",
       "5  GLN 12.6 ± 10.68  31.42 ± 15.85 51.95 ± 21.76  56.05 ± 21.17 \n",
       "6  GLU 44.92 ± 33.93 89.46 ± 31.81 118.28 ± 31.19 114.84 ± 35.95\n",
       "7  GLY 5.03 ± 4.07   10.12 ± 3.38  12.74 ± 4.46   12.24 ± 3.85  \n",
       "8  PRO 3.6 ± 2.82    2.81 ± 0.91   2.77 ± 1.68    2.54 ± 1.04   \n",
       "9  SER 4.57 ± 2.68   8.54 ± 3.62   11.62 ± 3.7    12.32 ± 4.44  \n",
       "10 TYR 0.66 ± 0.64   1.04 ± 0.58   1.13 ± 0.66    1 ± 0.58      "
      ]
     },
     "metadata": {},
     "output_type": "display_data"
    }
   ],
   "source": [
    "AA_NE_sum <- \n",
    " AA_NE_Long %>% group_by(week, AA) %>% \n",
    "    summarise(mean = mean(level, na.rm = T), sd = sd(level, na.rm = T)) %>% \n",
    "    mutate(mean = round(mean, 2), sd = round(sd, 2)) %>%\n",
    "    mutate(mean = as.character(mean), sd = as.character(sd)) %>% \n",
    "    mutate(CI = paste(mean, '±', sd)) %>% \n",
    "    select(-mean, -sd) %>% \n",
    "    spread(week, CI)\n",
    "\n",
    "AA_NE_sum"
   ]
  },
  {
   "cell_type": "markdown",
   "metadata": {
    "collapsed": true
   },
   "source": [
    "## Sex and Free AA levels:\n",
    "\n",
    "http://felixhaass.de/dataviz_ggplot2/session4.html\n"
   ]
  },
  {
   "cell_type": "code",
   "execution_count": 15,
   "metadata": {},
   "outputs": [
    {
     "name": "stderr",
     "output_type": "stream",
     "text": [
      "\n",
      "Attaching package: 'broom.mixed'\n",
      "\n",
      "The following object is masked from 'package:broom':\n",
      "\n",
      "    tidyMCMC\n",
      "\n"
     ]
    }
   ],
   "source": [
    "library(broom.mixed)\n",
    "library(dotwhisker)"
   ]
  },
  {
   "cell_type": "code",
   "execution_count": 16,
   "metadata": {
    "collapsed": true
   },
   "outputs": [],
   "source": [
    "AA_E_Nested <- AA_E_Long %>% group_by(AA) %>% nest()\n",
    "AA_NE_Nested <- AA_NE_Long %>% group_by(AA) %>% nest()"
   ]
  },
  {
   "cell_type": "code",
   "execution_count": 17,
   "metadata": {
    "collapsed": true
   },
   "outputs": [],
   "source": [
    "meSex <- function(df){\n",
    "    \n",
    "    me <- lmer(level ~ sex + week + (1 | id), data = df)\n",
    "    \n",
    "    return(me)\n",
    "}"
   ]
  },
  {
   "cell_type": "code",
   "execution_count": 18,
   "metadata": {
    "collapsed": true
   },
   "outputs": [],
   "source": [
    "nAA_E <- length(AA_E_Nested$AA)\n",
    "nAA_NE <- length(AA_NE_Nested$AA)"
   ]
  },
  {
   "cell_type": "code",
   "execution_count": 19,
   "metadata": {
    "collapsed": true
   },
   "outputs": [],
   "source": [
    "me_E <- list()\n",
    "tidy_E <- list()\n",
    "\n",
    "me_NE <- list()\n",
    "tidy_NE <- list()\n",
    "\n",
    "for(i in 1:nAA_E){\n",
    "    \n",
    "    me_E[[i]] <- meSex(AA_E_Nested$data[[i]])\n",
    "    tidy_E[[i]] <- tidy(me_E[[i]], effects = 'fixed') %>% mutate(AA = AA_E_Nested$AA[i])\n",
    "    \n",
    "    me_NE[[i]] <- meSex(AA_NE_Nested$data[[i]])\n",
    "    tidy_NE[[i]] <- tidy(me_NE[[i]], effects = 'fixed') %>% mutate(AA = AA_NE_Nested$AA[i])\n",
    "\n",
    "}"
   ]
  },
  {
   "cell_type": "code",
   "execution_count": 20,
   "metadata": {
    "collapsed": true
   },
   "outputs": [],
   "source": [
    "AA_E_Nested <- AA_E_Nested %>% mutate(model = me_E, tidy = tidy_E)\n",
    "AA_NE_Nested <- AA_NE_Nested %>% mutate(model = me_NE, tidy = tidy_NE)"
   ]
  },
  {
   "cell_type": "code",
   "execution_count": 21,
   "metadata": {},
   "outputs": [
    {
     "data": {
      "text/plain": [
       "Linear mixed model fit by REML ['lmerMod']\n",
       "Formula: level ~ sex + week + (1 | id)\n",
       "   Data: df\n",
       "REML criterion at convergence: 469.0712\n",
       "Random effects:\n",
       " Groups   Name        Std.Dev.\n",
       " id       (Intercept) 0.3587  \n",
       " Residual             0.7847  \n",
       "Number of obs: 183, groups:  id, 61\n",
       "Fixed Effects:\n",
       "(Intercept)       sexboy         week  \n",
       "    1.22548      0.14074     -0.02248  "
      ]
     },
     "metadata": {},
     "output_type": "display_data"
    },
    {
     "data": {
      "text/html": [
       "<table>\n",
       "<thead><tr><th scope=col>effect</th><th scope=col>term</th><th scope=col>estimate</th><th scope=col>std.error</th><th scope=col>statistic</th><th scope=col>AA</th></tr></thead>\n",
       "<tbody>\n",
       "\t<tr><td>fixed      </td><td>(Intercept)</td><td> 1.22547932</td><td>0.12673091 </td><td> 9.6699323 </td><td>ARG        </td></tr>\n",
       "\t<tr><td>fixed      </td><td>sexboy     </td><td> 0.14073970</td><td>0.15293027 </td><td> 0.9202867 </td><td>ARG        </td></tr>\n",
       "\t<tr><td>fixed      </td><td>week       </td><td>-0.02247854</td><td>0.01037076 </td><td>-2.1674926 </td><td>ARG        </td></tr>\n",
       "</tbody>\n",
       "</table>\n"
      ],
      "text/latex": [
       "\\begin{tabular}{r|llllll}\n",
       " effect & term & estimate & std.error & statistic & AA\\\\\n",
       "\\hline\n",
       "\t fixed       & (Intercept) &  1.22547932 & 0.12673091  &  9.6699323  & ARG        \\\\\n",
       "\t fixed       & sexboy      &  0.14073970 & 0.15293027  &  0.9202867  & ARG        \\\\\n",
       "\t fixed       & week        & -0.02247854 & 0.01037076  & -2.1674926  & ARG        \\\\\n",
       "\\end{tabular}\n"
      ],
      "text/markdown": [
       "\n",
       "effect | term | estimate | std.error | statistic | AA | \n",
       "|---|---|---|\n",
       "| fixed       | (Intercept) |  1.22547932 | 0.12673091  |  9.6699323  | ARG         | \n",
       "| fixed       | sexboy      |  0.14073970 | 0.15293027  |  0.9202867  | ARG         | \n",
       "| fixed       | week        | -0.02247854 | 0.01037076  | -2.1674926  | ARG         | \n",
       "\n",
       "\n"
      ],
      "text/plain": [
       "  effect term        estimate    std.error  statistic  AA \n",
       "1 fixed  (Intercept)  1.22547932 0.12673091  9.6699323 ARG\n",
       "2 fixed  sexboy       0.14073970 0.15293027  0.9202867 ARG\n",
       "3 fixed  week        -0.02247854 0.01037076 -2.1674926 ARG"
      ]
     },
     "metadata": {},
     "output_type": "display_data"
    }
   ],
   "source": [
    "me_E[[1]]\n",
    "AA_E_Nested$tidy[[1]]"
   ]
  },
  {
   "cell_type": "code",
   "execution_count": 22,
   "metadata": {},
   "outputs": [
    {
     "data": {
      "text/html": [
       "<table>\n",
       "<thead><tr><th scope=col>effect</th><th scope=col>term</th><th scope=col>estimate</th><th scope=col>std.error</th><th scope=col>statistic</th><th scope=col>AA</th></tr></thead>\n",
       "<tbody>\n",
       "\t<tr><td>fixed       </td><td>sexboy      </td><td> 0.140739699</td><td>0.15293027  </td><td> 0.9202867  </td><td>ARG         </td></tr>\n",
       "\t<tr><td>fixed       </td><td>sexboy      </td><td> 0.179637148</td><td>0.14826963  </td><td> 1.2115572  </td><td>HIS         </td></tr>\n",
       "\t<tr><td>fixed       </td><td>sexboy      </td><td> 0.088613218</td><td>0.10500084  </td><td> 0.8439287  </td><td>ILE         </td></tr>\n",
       "\t<tr><td>fixed       </td><td>sexboy      </td><td> 0.040495036</td><td>0.19819822  </td><td> 0.2043158  </td><td>LEU         </td></tr>\n",
       "\t<tr><td>fixed       </td><td>sexboy      </td><td> 0.174878897</td><td>0.21943104  </td><td> 0.7969652  </td><td>LYS         </td></tr>\n",
       "\t<tr><td>fixed       </td><td>sexboy      </td><td> 0.061657018</td><td>0.05528562  </td><td> 1.1152452  </td><td>MET         </td></tr>\n",
       "\t<tr><td>fixed       </td><td>sexboy      </td><td> 0.117331807</td><td>0.08059965  </td><td> 1.4557359  </td><td>PHE         </td></tr>\n",
       "\t<tr><td>fixed       </td><td>sexboy      </td><td>-0.687749892</td><td>0.61301954  </td><td>-1.1219053  </td><td>THR         </td></tr>\n",
       "\t<tr><td>fixed       </td><td>sexboy      </td><td>-0.003569898</td><td>0.01565889  </td><td>-0.2279790  </td><td>TRP         </td></tr>\n",
       "\t<tr><td>fixed       </td><td>sexboy      </td><td> 0.260670679</td><td>0.25206341  </td><td> 1.0341472  </td><td>VAL         </td></tr>\n",
       "</tbody>\n",
       "</table>\n"
      ],
      "text/latex": [
       "\\begin{tabular}{r|llllll}\n",
       " effect & term & estimate & std.error & statistic & AA\\\\\n",
       "\\hline\n",
       "\t fixed        & sexboy       &  0.140739699 & 0.15293027   &  0.9202867   & ARG         \\\\\n",
       "\t fixed        & sexboy       &  0.179637148 & 0.14826963   &  1.2115572   & HIS         \\\\\n",
       "\t fixed        & sexboy       &  0.088613218 & 0.10500084   &  0.8439287   & ILE         \\\\\n",
       "\t fixed        & sexboy       &  0.040495036 & 0.19819822   &  0.2043158   & LEU         \\\\\n",
       "\t fixed        & sexboy       &  0.174878897 & 0.21943104   &  0.7969652   & LYS         \\\\\n",
       "\t fixed        & sexboy       &  0.061657018 & 0.05528562   &  1.1152452   & MET         \\\\\n",
       "\t fixed        & sexboy       &  0.117331807 & 0.08059965   &  1.4557359   & PHE         \\\\\n",
       "\t fixed        & sexboy       & -0.687749892 & 0.61301954   & -1.1219053   & THR         \\\\\n",
       "\t fixed        & sexboy       & -0.003569898 & 0.01565889   & -0.2279790   & TRP         \\\\\n",
       "\t fixed        & sexboy       &  0.260670679 & 0.25206341   &  1.0341472   & VAL         \\\\\n",
       "\\end{tabular}\n"
      ],
      "text/markdown": [
       "\n",
       "effect | term | estimate | std.error | statistic | AA | \n",
       "|---|---|---|---|---|---|---|---|---|---|\n",
       "| fixed        | sexboy       |  0.140739699 | 0.15293027   |  0.9202867   | ARG          | \n",
       "| fixed        | sexboy       |  0.179637148 | 0.14826963   |  1.2115572   | HIS          | \n",
       "| fixed        | sexboy       |  0.088613218 | 0.10500084   |  0.8439287   | ILE          | \n",
       "| fixed        | sexboy       |  0.040495036 | 0.19819822   |  0.2043158   | LEU          | \n",
       "| fixed        | sexboy       |  0.174878897 | 0.21943104   |  0.7969652   | LYS          | \n",
       "| fixed        | sexboy       |  0.061657018 | 0.05528562   |  1.1152452   | MET          | \n",
       "| fixed        | sexboy       |  0.117331807 | 0.08059965   |  1.4557359   | PHE          | \n",
       "| fixed        | sexboy       | -0.687749892 | 0.61301954   | -1.1219053   | THR          | \n",
       "| fixed        | sexboy       | -0.003569898 | 0.01565889   | -0.2279790   | TRP          | \n",
       "| fixed        | sexboy       |  0.260670679 | 0.25206341   |  1.0341472   | VAL          | \n",
       "\n",
       "\n"
      ],
      "text/plain": [
       "   effect term   estimate     std.error  statistic  AA \n",
       "1  fixed  sexboy  0.140739699 0.15293027  0.9202867 ARG\n",
       "2  fixed  sexboy  0.179637148 0.14826963  1.2115572 HIS\n",
       "3  fixed  sexboy  0.088613218 0.10500084  0.8439287 ILE\n",
       "4  fixed  sexboy  0.040495036 0.19819822  0.2043158 LEU\n",
       "5  fixed  sexboy  0.174878897 0.21943104  0.7969652 LYS\n",
       "6  fixed  sexboy  0.061657018 0.05528562  1.1152452 MET\n",
       "7  fixed  sexboy  0.117331807 0.08059965  1.4557359 PHE\n",
       "8  fixed  sexboy -0.687749892 0.61301954 -1.1219053 THR\n",
       "9  fixed  sexboy -0.003569898 0.01565889 -0.2279790 TRP\n",
       "10 fixed  sexboy  0.260670679 0.25206341  1.0341472 VAL"
      ]
     },
     "metadata": {},
     "output_type": "display_data"
    },
    {
     "data": {
      "text/html": [
       "<table>\n",
       "<thead><tr><th scope=col>effect</th><th scope=col>term</th><th scope=col>estimate</th><th scope=col>std.error</th><th scope=col>statistic</th><th scope=col>AA</th></tr></thead>\n",
       "<tbody>\n",
       "\t<tr><td>fixed      </td><td>sexboy     </td><td> 0.55352849</td><td>0.4824506  </td><td> 1.1473268 </td><td>ASP        </td></tr>\n",
       "\t<tr><td>fixed      </td><td>sexboy     </td><td> 1.64897865</td><td>1.6709972  </td><td> 0.9868231 </td><td>ALA        </td></tr>\n",
       "\t<tr><td>fixed      </td><td>sexboy     </td><td>-0.08409476</td><td>0.1258007  </td><td>-0.6684763 </td><td>ASN        </td></tr>\n",
       "\t<tr><td>fixed      </td><td>sexboy     </td><td> 0.36643929</td><td>0.1655625  </td><td> 2.2132985 </td><td>CYS        </td></tr>\n",
       "\t<tr><td>fixed      </td><td>sexboy     </td><td> 1.83468673</td><td>0.8053847  </td><td> 2.2780253 </td><td>GLY        </td></tr>\n",
       "\t<tr><td>fixed      </td><td>sexboy     </td><td>14.45211622</td><td>6.6578580  </td><td> 2.1706856 </td><td>GLU        </td></tr>\n",
       "\t<tr><td>fixed      </td><td>sexboy     </td><td> 3.21092145</td><td>3.5211046  </td><td> 0.9119074 </td><td>GLN        </td></tr>\n",
       "\t<tr><td>fixed      </td><td>sexboy     </td><td> 0.38254081</td><td>0.3443933  </td><td> 1.1107673 </td><td>PRO        </td></tr>\n",
       "\t<tr><td>fixed      </td><td>sexboy     </td><td> 1.25092729</td><td>0.7143037  </td><td> 1.7512541 </td><td>SER        </td></tr>\n",
       "\t<tr><td>fixed      </td><td>sexboy     </td><td> 0.23736429</td><td>0.1101457  </td><td> 2.1550025 </td><td>TYR        </td></tr>\n",
       "</tbody>\n",
       "</table>\n"
      ],
      "text/latex": [
       "\\begin{tabular}{r|llllll}\n",
       " effect & term & estimate & std.error & statistic & AA\\\\\n",
       "\\hline\n",
       "\t fixed       & sexboy      &  0.55352849 & 0.4824506   &  1.1473268  & ASP        \\\\\n",
       "\t fixed       & sexboy      &  1.64897865 & 1.6709972   &  0.9868231  & ALA        \\\\\n",
       "\t fixed       & sexboy      & -0.08409476 & 0.1258007   & -0.6684763  & ASN        \\\\\n",
       "\t fixed       & sexboy      &  0.36643929 & 0.1655625   &  2.2132985  & CYS        \\\\\n",
       "\t fixed       & sexboy      &  1.83468673 & 0.8053847   &  2.2780253  & GLY        \\\\\n",
       "\t fixed       & sexboy      & 14.45211622 & 6.6578580   &  2.1706856  & GLU        \\\\\n",
       "\t fixed       & sexboy      &  3.21092145 & 3.5211046   &  0.9119074  & GLN        \\\\\n",
       "\t fixed       & sexboy      &  0.38254081 & 0.3443933   &  1.1107673  & PRO        \\\\\n",
       "\t fixed       & sexboy      &  1.25092729 & 0.7143037   &  1.7512541  & SER        \\\\\n",
       "\t fixed       & sexboy      &  0.23736429 & 0.1101457   &  2.1550025  & TYR        \\\\\n",
       "\\end{tabular}\n"
      ],
      "text/markdown": [
       "\n",
       "effect | term | estimate | std.error | statistic | AA | \n",
       "|---|---|---|---|---|---|---|---|---|---|\n",
       "| fixed       | sexboy      |  0.55352849 | 0.4824506   |  1.1473268  | ASP         | \n",
       "| fixed       | sexboy      |  1.64897865 | 1.6709972   |  0.9868231  | ALA         | \n",
       "| fixed       | sexboy      | -0.08409476 | 0.1258007   | -0.6684763  | ASN         | \n",
       "| fixed       | sexboy      |  0.36643929 | 0.1655625   |  2.2132985  | CYS         | \n",
       "| fixed       | sexboy      |  1.83468673 | 0.8053847   |  2.2780253  | GLY         | \n",
       "| fixed       | sexboy      | 14.45211622 | 6.6578580   |  2.1706856  | GLU         | \n",
       "| fixed       | sexboy      |  3.21092145 | 3.5211046   |  0.9119074  | GLN         | \n",
       "| fixed       | sexboy      |  0.38254081 | 0.3443933   |  1.1107673  | PRO         | \n",
       "| fixed       | sexboy      |  1.25092729 | 0.7143037   |  1.7512541  | SER         | \n",
       "| fixed       | sexboy      |  0.23736429 | 0.1101457   |  2.1550025  | TYR         | \n",
       "\n",
       "\n"
      ],
      "text/plain": [
       "   effect term   estimate    std.error statistic  AA \n",
       "1  fixed  sexboy  0.55352849 0.4824506  1.1473268 ASP\n",
       "2  fixed  sexboy  1.64897865 1.6709972  0.9868231 ALA\n",
       "3  fixed  sexboy -0.08409476 0.1258007 -0.6684763 ASN\n",
       "4  fixed  sexboy  0.36643929 0.1655625  2.2132985 CYS\n",
       "5  fixed  sexboy  1.83468673 0.8053847  2.2780253 GLY\n",
       "6  fixed  sexboy 14.45211622 6.6578580  2.1706856 GLU\n",
       "7  fixed  sexboy  3.21092145 3.5211046  0.9119074 GLN\n",
       "8  fixed  sexboy  0.38254081 0.3443933  1.1107673 PRO\n",
       "9  fixed  sexboy  1.25092729 0.7143037  1.7512541 SER\n",
       "10 fixed  sexboy  0.23736429 0.1101457  2.1550025 TYR"
      ]
     },
     "metadata": {},
     "output_type": "display_data"
    }
   ],
   "source": [
    "sexCoef_E <- bind_rows(tidy_E) %>% filter(grepl(\"sexboy\", term))\n",
    "sexCoef_NE <- bind_rows(tidy_NE) %>% filter(grepl(\"sexboy\", term))\n",
    "\n",
    "sexCoef_E\n",
    "sexCoef_NE"
   ]
  },
  {
   "cell_type": "code",
   "execution_count": 23,
   "metadata": {},
   "outputs": [
    {
     "data": {},
     "metadata": {},
     "output_type": "display_data"
    },
    {
     "data": {
      "text/html": [
       "<strong>png:</strong> 2"
      ],
      "text/latex": [
       "\\textbf{png:} 2"
      ],
      "text/markdown": [
       "**png:** 2"
      ],
      "text/plain": [
       "png \n",
       "  2 "
      ]
     },
     "metadata": {},
     "output_type": "display_data"
    }
   ],
   "source": [
    "png(filename=\"./plots/EAA_coeff.png\", units=\"cm\", width=20, height=20, res = 300)\n",
    "ggplot(sexCoef_E, aes(x = AA, y = estimate, color = AA)) + \n",
    "    geom_hline(yintercept = 0, alpha = 0.4) + \n",
    "    geom_point() + geom_pointrange( aes(x = AA, ymin = estimate - 2*std.error, ymax = estimate + 2*std.error)) + \n",
    "    theme(legend.position = \"none\") + \n",
    "    coord_flip() + ylab(TeX('sex (boy $\\\\rightarrow$)')) + \n",
    "    ggtitle('Essential AA \\n Estimate and 95% CI') \n",
    "dev.off()"
   ]
  },
  {
   "cell_type": "code",
   "execution_count": 24,
   "metadata": {},
   "outputs": [
    {
     "data": {},
     "metadata": {},
     "output_type": "display_data"
    },
    {
     "data": {
      "text/html": [
       "<strong>png:</strong> 2"
      ],
      "text/latex": [
       "\\textbf{png:} 2"
      ],
      "text/markdown": [
       "**png:** 2"
      ],
      "text/plain": [
       "png \n",
       "  2 "
      ]
     },
     "metadata": {},
     "output_type": "display_data"
    }
   ],
   "source": [
    "png(filename=\"./plots/NEAA_coeff.png\", units=\"cm\", width=20, height=20, res = 300)\n",
    "ggplot(sexCoef_NE, aes(x = AA, y = estimate, color = AA)) + \n",
    "    geom_hline(yintercept = 0, alpha = 0.4) + \n",
    "    geom_point() + geom_pointrange( aes(x = AA, ymin = estimate - 2*std.error, ymax = estimate + 2*std.error)) + \n",
    "    theme(legend.position = \"none\") +\n",
    "    coord_flip() + ylab(TeX('sex (boy $\\\\rightarrow$)')) + ggtitle('Non Essential AA \\n Estimate and 95% CI')\n",
    "dev.off()"
   ]
  },
  {
   "cell_type": "code",
   "execution_count": 25,
   "metadata": {},
   "outputs": [
    {
     "data": {
      "text/html": [
       "<table>\n",
       "<thead><tr><th scope=col>id</th><th scope=col>TAA</th></tr></thead>\n",
       "<tbody>\n",
       "\t<tr><td>1     </td><td>15.825</td></tr>\n",
       "\t<tr><td>2     </td><td>19.050</td></tr>\n",
       "\t<tr><td>3     </td><td>17.550</td></tr>\n",
       "\t<tr><td>4     </td><td> 6.300</td></tr>\n",
       "\t<tr><td>5     </td><td> 4.200</td></tr>\n",
       "\t<tr><td>6     </td><td>15.075</td></tr>\n",
       "</tbody>\n",
       "</table>\n"
      ],
      "text/latex": [
       "\\begin{tabular}{r|ll}\n",
       " id & TAA\\\\\n",
       "\\hline\n",
       "\t 1      & 15.825\\\\\n",
       "\t 2      & 19.050\\\\\n",
       "\t 3      & 17.550\\\\\n",
       "\t 4      &  6.300\\\\\n",
       "\t 5      &  4.200\\\\\n",
       "\t 6      & 15.075\\\\\n",
       "\\end{tabular}\n"
      ],
      "text/markdown": [
       "\n",
       "id | TAA | \n",
       "|---|---|---|---|---|---|\n",
       "| 1      | 15.825 | \n",
       "| 2      | 19.050 | \n",
       "| 3      | 17.550 | \n",
       "| 4      |  6.300 | \n",
       "| 5      |  4.200 | \n",
       "| 6      | 15.075 | \n",
       "\n",
       "\n"
      ],
      "text/plain": [
       "  id TAA   \n",
       "1 1  15.825\n",
       "2 2  19.050\n",
       "3 3  17.550\n",
       "4 4   6.300\n",
       "5 5   4.200\n",
       "6 6  15.075"
      ]
     },
     "metadata": {},
     "output_type": "display_data"
    }
   ],
   "source": [
    "AA_NE_Long %>% group_by(id) %>% summarise(TAA = mean(level, na.rm = T)) %>% head()"
   ]
  },
  {
   "cell_type": "markdown",
   "metadata": {},
   "source": [
    "## Group and Free AA levels\n",
    "\n",
    "$AA = \\alpha_0 + \\alpha_1 \\ group + \\alpha_2 \\ sex + \\alpha_3 \\ week + \\alpha_{id}$"
   ]
  },
  {
   "cell_type": "code",
   "execution_count": 26,
   "metadata": {
    "collapsed": true
   },
   "outputs": [],
   "source": [
    "meGroup <- function(df){\n",
    "    \n",
    "    me <- lmer(level ~ sex + group + week + (1 | id), data = df)\n",
    "    \n",
    "    return(me)\n",
    "}"
   ]
  },
  {
   "cell_type": "code",
   "execution_count": 27,
   "metadata": {
    "collapsed": true
   },
   "outputs": [],
   "source": [
    "me_E_G <- list()\n",
    "tidy_E_G <- list()\n",
    "\n",
    "me_NE_G <- list()\n",
    "tidy_NE_G <- list()\n",
    "\n",
    "for(i in 1:nAA_E){\n",
    "    \n",
    "    me_E_G[[i]] <- meGroup(AA_E_Nested$data[[i]])\n",
    "    tidy_E_G[[i]] <- tidy(me_E_G[[i]], effects = 'fixed') %>% mutate(AA = AA_E_Nested$AA[i])\n",
    "    \n",
    "    me_NE_G[[i]] <- meGroup(AA_NE_Nested$data[[i]])\n",
    "    tidy_NE_G[[i]] <- tidy(me_NE_G[[i]], effects = 'fixed') %>% mutate(AA = AA_NE_Nested$AA[i])\n",
    "\n",
    "}"
   ]
  },
  {
   "cell_type": "code",
   "execution_count": 28,
   "metadata": {
    "collapsed": true
   },
   "outputs": [],
   "source": [
    "AA_E_Nested <- AA_E_Nested %>% mutate(model_G = me_E_G, tidy_G = tidy_E_G)\n",
    "AA_NE_Nested <- AA_NE_Nested %>% mutate(model_G = me_NE_G, tidy_G = tidy_NE_G)"
   ]
  },
  {
   "cell_type": "code",
   "execution_count": 29,
   "metadata": {},
   "outputs": [
    {
     "data": {
      "text/plain": [
       "[[1]]\n",
       "Linear mixed model fit by REML ['lmerMod']\n",
       "Formula: level ~ sex + group + week + (1 | id)\n",
       "   Data: df\n",
       "REML criterion at convergence: 470.7771\n",
       "Random effects:\n",
       " Groups   Name        Std.Dev.\n",
       " id       (Intercept) 0.3670  \n",
       " Residual             0.7844  \n",
       "Number of obs: 183, groups:  id, 61\n",
       "Fixed Effects:\n",
       "(Intercept)       sexboy   groupadult         week  \n",
       "    1.25446      0.12876     -0.05705     -0.02217  \n"
      ]
     },
     "metadata": {},
     "output_type": "display_data"
    },
    {
     "data": {
      "text/html": [
       "<table>\n",
       "<thead><tr><th scope=col>effect</th><th scope=col>term</th><th scope=col>estimate</th><th scope=col>std.error</th><th scope=col>statistic</th><th scope=col>AA</th></tr></thead>\n",
       "<tbody>\n",
       "\t<tr><td>fixed      </td><td>(Intercept)</td><td> 1.25446257</td><td>0.15227476 </td><td> 8.2381519 </td><td>ARG        </td></tr>\n",
       "\t<tr><td>fixed      </td><td>sexboy     </td><td> 0.12875803</td><td>0.15871727 </td><td> 0.8112415 </td><td>ARG        </td></tr>\n",
       "\t<tr><td>fixed      </td><td>groupadult </td><td>-0.05705268</td><td>0.16019387 </td><td>-0.3561477 </td><td>ARG        </td></tr>\n",
       "\t<tr><td>fixed      </td><td>week       </td><td>-0.02216557</td><td>0.01039111 </td><td>-2.1331276 </td><td>ARG        </td></tr>\n",
       "</tbody>\n",
       "</table>\n"
      ],
      "text/latex": [
       "\\begin{tabular}{r|llllll}\n",
       " effect & term & estimate & std.error & statistic & AA\\\\\n",
       "\\hline\n",
       "\t fixed       & (Intercept) &  1.25446257 & 0.15227476  &  8.2381519  & ARG        \\\\\n",
       "\t fixed       & sexboy      &  0.12875803 & 0.15871727  &  0.8112415  & ARG        \\\\\n",
       "\t fixed       & groupadult  & -0.05705268 & 0.16019387  & -0.3561477  & ARG        \\\\\n",
       "\t fixed       & week        & -0.02216557 & 0.01039111  & -2.1331276  & ARG        \\\\\n",
       "\\end{tabular}\n"
      ],
      "text/markdown": [
       "\n",
       "effect | term | estimate | std.error | statistic | AA | \n",
       "|---|---|---|---|\n",
       "| fixed       | (Intercept) |  1.25446257 | 0.15227476  |  8.2381519  | ARG         | \n",
       "| fixed       | sexboy      |  0.12875803 | 0.15871727  |  0.8112415  | ARG         | \n",
       "| fixed       | groupadult  | -0.05705268 | 0.16019387  | -0.3561477  | ARG         | \n",
       "| fixed       | week        | -0.02216557 | 0.01039111  | -2.1331276  | ARG         | \n",
       "\n",
       "\n"
      ],
      "text/plain": [
       "  effect term        estimate    std.error  statistic  AA \n",
       "1 fixed  (Intercept)  1.25446257 0.15227476  8.2381519 ARG\n",
       "2 fixed  sexboy       0.12875803 0.15871727  0.8112415 ARG\n",
       "3 fixed  groupadult  -0.05705268 0.16019387 -0.3561477 ARG\n",
       "4 fixed  week        -0.02216557 0.01039111 -2.1331276 ARG"
      ]
     },
     "metadata": {},
     "output_type": "display_data"
    },
    {
     "data": {
      "text/html": [
       "<table>\n",
       "<thead><tr><th scope=col>effect</th><th scope=col>term</th><th scope=col>estimate</th><th scope=col>std.error</th><th scope=col>statistic</th><th scope=col>AA</th></tr></thead>\n",
       "<tbody>\n",
       "\t<tr><td>fixed      </td><td>(Intercept)</td><td> 1.22547932</td><td>0.12673091 </td><td> 9.6699323 </td><td>ARG        </td></tr>\n",
       "\t<tr><td>fixed      </td><td>sexboy     </td><td> 0.14073970</td><td>0.15293027 </td><td> 0.9202867 </td><td>ARG        </td></tr>\n",
       "\t<tr><td>fixed      </td><td>week       </td><td>-0.02247854</td><td>0.01037076 </td><td>-2.1674926 </td><td>ARG        </td></tr>\n",
       "</tbody>\n",
       "</table>\n"
      ],
      "text/latex": [
       "\\begin{tabular}{r|llllll}\n",
       " effect & term & estimate & std.error & statistic & AA\\\\\n",
       "\\hline\n",
       "\t fixed       & (Intercept) &  1.22547932 & 0.12673091  &  9.6699323  & ARG        \\\\\n",
       "\t fixed       & sexboy      &  0.14073970 & 0.15293027  &  0.9202867  & ARG        \\\\\n",
       "\t fixed       & week        & -0.02247854 & 0.01037076  & -2.1674926  & ARG        \\\\\n",
       "\\end{tabular}\n"
      ],
      "text/markdown": [
       "\n",
       "effect | term | estimate | std.error | statistic | AA | \n",
       "|---|---|---|\n",
       "| fixed       | (Intercept) |  1.22547932 | 0.12673091  |  9.6699323  | ARG         | \n",
       "| fixed       | sexboy      |  0.14073970 | 0.15293027  |  0.9202867  | ARG         | \n",
       "| fixed       | week        | -0.02247854 | 0.01037076  | -2.1674926  | ARG         | \n",
       "\n",
       "\n"
      ],
      "text/plain": [
       "  effect term        estimate    std.error  statistic  AA \n",
       "1 fixed  (Intercept)  1.22547932 0.12673091  9.6699323 ARG\n",
       "2 fixed  sexboy       0.14073970 0.15293027  0.9202867 ARG\n",
       "3 fixed  week        -0.02247854 0.01037076 -2.1674926 ARG"
      ]
     },
     "metadata": {},
     "output_type": "display_data"
    }
   ],
   "source": [
    "me_E_G[1]\n",
    "AA_E_Nested$tidy_G[[1]]\n",
    "AA_E_Nested$tidy[[1]]"
   ]
  },
  {
   "cell_type": "code",
   "execution_count": 30,
   "metadata": {},
   "outputs": [
    {
     "data": {
      "text/html": [
       "<table>\n",
       "<thead><tr><th scope=col>effect</th><th scope=col>term</th><th scope=col>estimate</th><th scope=col>std.error</th><th scope=col>statistic</th><th scope=col>AA</th></tr></thead>\n",
       "<tbody>\n",
       "\t<tr><td>fixed      </td><td>sexboy     </td><td> 0.48898235</td><td>0.4998729  </td><td> 0.9782133 </td><td>ASP        </td></tr>\n",
       "\t<tr><td>fixed      </td><td>sexboy     </td><td> 1.88231168</td><td>1.7243405  </td><td> 1.0916125 </td><td>ALA        </td></tr>\n",
       "\t<tr><td>fixed      </td><td>sexboy     </td><td>-0.04513407</td><td>0.1290757  </td><td>-0.3496712 </td><td>ASN        </td></tr>\n",
       "\t<tr><td>fixed      </td><td>sexboy     </td><td> 0.33374428</td><td>0.1711375  </td><td> 1.9501525 </td><td>CYS        </td></tr>\n",
       "\t<tr><td>fixed      </td><td>sexboy     </td><td> 1.83744597</td><td>0.8368059  </td><td> 2.1957851 </td><td>GLY        </td></tr>\n",
       "\t<tr><td>fixed      </td><td>sexboy     </td><td>13.42882741</td><td>6.9197059  </td><td> 1.9406645 </td><td>GLU        </td></tr>\n",
       "\t<tr><td>fixed      </td><td>sexboy     </td><td> 5.14216990</td><td>3.4559402  </td><td> 1.4879221 </td><td>GLN        </td></tr>\n",
       "\t<tr><td>fixed      </td><td>sexboy     </td><td> 0.34213434</td><td>0.3558679  </td><td> 0.9614083 </td><td>PRO        </td></tr>\n",
       "\t<tr><td>fixed      </td><td>sexboy     </td><td> 1.53337035</td><td>0.7180422  </td><td> 2.1354877 </td><td>SER        </td></tr>\n",
       "\t<tr><td>fixed      </td><td>sexboy     </td><td> 0.20542126</td><td>0.1126921  </td><td> 1.8228538 </td><td>TYR        </td></tr>\n",
       "</tbody>\n",
       "</table>\n"
      ],
      "text/latex": [
       "\\begin{tabular}{r|llllll}\n",
       " effect & term & estimate & std.error & statistic & AA\\\\\n",
       "\\hline\n",
       "\t fixed       & sexboy      &  0.48898235 & 0.4998729   &  0.9782133  & ASP        \\\\\n",
       "\t fixed       & sexboy      &  1.88231168 & 1.7243405   &  1.0916125  & ALA        \\\\\n",
       "\t fixed       & sexboy      & -0.04513407 & 0.1290757   & -0.3496712  & ASN        \\\\\n",
       "\t fixed       & sexboy      &  0.33374428 & 0.1711375   &  1.9501525  & CYS        \\\\\n",
       "\t fixed       & sexboy      &  1.83744597 & 0.8368059   &  2.1957851  & GLY        \\\\\n",
       "\t fixed       & sexboy      & 13.42882741 & 6.9197059   &  1.9406645  & GLU        \\\\\n",
       "\t fixed       & sexboy      &  5.14216990 & 3.4559402   &  1.4879221  & GLN        \\\\\n",
       "\t fixed       & sexboy      &  0.34213434 & 0.3558679   &  0.9614083  & PRO        \\\\\n",
       "\t fixed       & sexboy      &  1.53337035 & 0.7180422   &  2.1354877  & SER        \\\\\n",
       "\t fixed       & sexboy      &  0.20542126 & 0.1126921   &  1.8228538  & TYR        \\\\\n",
       "\\end{tabular}\n"
      ],
      "text/markdown": [
       "\n",
       "effect | term | estimate | std.error | statistic | AA | \n",
       "|---|---|---|---|---|---|---|---|---|---|\n",
       "| fixed       | sexboy      |  0.48898235 | 0.4998729   |  0.9782133  | ASP         | \n",
       "| fixed       | sexboy      |  1.88231168 | 1.7243405   |  1.0916125  | ALA         | \n",
       "| fixed       | sexboy      | -0.04513407 | 0.1290757   | -0.3496712  | ASN         | \n",
       "| fixed       | sexboy      |  0.33374428 | 0.1711375   |  1.9501525  | CYS         | \n",
       "| fixed       | sexboy      |  1.83744597 | 0.8368059   |  2.1957851  | GLY         | \n",
       "| fixed       | sexboy      | 13.42882741 | 6.9197059   |  1.9406645  | GLU         | \n",
       "| fixed       | sexboy      |  5.14216990 | 3.4559402   |  1.4879221  | GLN         | \n",
       "| fixed       | sexboy      |  0.34213434 | 0.3558679   |  0.9614083  | PRO         | \n",
       "| fixed       | sexboy      |  1.53337035 | 0.7180422   |  2.1354877  | SER         | \n",
       "| fixed       | sexboy      |  0.20542126 | 0.1126921   |  1.8228538  | TYR         | \n",
       "\n",
       "\n"
      ],
      "text/plain": [
       "   effect term   estimate    std.error statistic  AA \n",
       "1  fixed  sexboy  0.48898235 0.4998729  0.9782133 ASP\n",
       "2  fixed  sexboy  1.88231168 1.7243405  1.0916125 ALA\n",
       "3  fixed  sexboy -0.04513407 0.1290757 -0.3496712 ASN\n",
       "4  fixed  sexboy  0.33374428 0.1711375  1.9501525 CYS\n",
       "5  fixed  sexboy  1.83744597 0.8368059  2.1957851 GLY\n",
       "6  fixed  sexboy 13.42882741 6.9197059  1.9406645 GLU\n",
       "7  fixed  sexboy  5.14216990 3.4559402  1.4879221 GLN\n",
       "8  fixed  sexboy  0.34213434 0.3558679  0.9614083 PRO\n",
       "9  fixed  sexboy  1.53337035 0.7180422  2.1354877 SER\n",
       "10 fixed  sexboy  0.20542126 0.1126921  1.8228538 TYR"
      ]
     },
     "metadata": {},
     "output_type": "display_data"
    },
    {
     "data": {
      "text/html": [
       "<table>\n",
       "<thead><tr><th scope=col>effect</th><th scope=col>term</th><th scope=col>estimate</th><th scope=col>std.error</th><th scope=col>statistic</th><th scope=col>AA</th></tr></thead>\n",
       "<tbody>\n",
       "\t<tr><td>fixed       </td><td>groupadult  </td><td>-0.057052677</td><td>0.16019387  </td><td>-0.3561477  </td><td>ARG         </td></tr>\n",
       "\t<tr><td>fixed       </td><td>groupadult  </td><td> 0.078707251</td><td>0.15488689  </td><td> 0.5081595  </td><td>HIS         </td></tr>\n",
       "\t<tr><td>fixed       </td><td>groupadult  </td><td>-0.079596925</td><td>0.10924127  </td><td>-0.7286342  </td><td>ILE         </td></tr>\n",
       "\t<tr><td>fixed       </td><td>groupadult  </td><td> 0.080070978</td><td>0.20778112  </td><td> 0.3853621  </td><td>LEU         </td></tr>\n",
       "\t<tr><td>fixed       </td><td>groupadult  </td><td> 0.078731029</td><td>0.23015010  </td><td> 0.3420856  </td><td>LYS         </td></tr>\n",
       "\t<tr><td>fixed       </td><td>groupadult  </td><td> 0.031222250</td><td>0.05794368  </td><td> 0.5388379  </td><td>MET         </td></tr>\n",
       "\t<tr><td>fixed       </td><td>groupadult  </td><td> 0.034067776</td><td>0.08401854  </td><td> 0.4054792  </td><td>PHE         </td></tr>\n",
       "\t<tr><td>fixed       </td><td>groupadult  </td><td> 0.918000361</td><td>0.62783098  </td><td> 1.4621776  </td><td>THR         </td></tr>\n",
       "\t<tr><td>fixed       </td><td>groupadult  </td><td> 0.004198853</td><td>0.01633558  </td><td> 0.2570373  </td><td>TRP         </td></tr>\n",
       "\t<tr><td>fixed       </td><td>groupadult  </td><td> 0.076820636</td><td>0.26418239  </td><td> 0.2907864  </td><td>VAL         </td></tr>\n",
       "</tbody>\n",
       "</table>\n"
      ],
      "text/latex": [
       "\\begin{tabular}{r|llllll}\n",
       " effect & term & estimate & std.error & statistic & AA\\\\\n",
       "\\hline\n",
       "\t fixed        & groupadult   & -0.057052677 & 0.16019387   & -0.3561477   & ARG         \\\\\n",
       "\t fixed        & groupadult   &  0.078707251 & 0.15488689   &  0.5081595   & HIS         \\\\\n",
       "\t fixed        & groupadult   & -0.079596925 & 0.10924127   & -0.7286342   & ILE         \\\\\n",
       "\t fixed        & groupadult   &  0.080070978 & 0.20778112   &  0.3853621   & LEU         \\\\\n",
       "\t fixed        & groupadult   &  0.078731029 & 0.23015010   &  0.3420856   & LYS         \\\\\n",
       "\t fixed        & groupadult   &  0.031222250 & 0.05794368   &  0.5388379   & MET         \\\\\n",
       "\t fixed        & groupadult   &  0.034067776 & 0.08401854   &  0.4054792   & PHE         \\\\\n",
       "\t fixed        & groupadult   &  0.918000361 & 0.62783098   &  1.4621776   & THR         \\\\\n",
       "\t fixed        & groupadult   &  0.004198853 & 0.01633558   &  0.2570373   & TRP         \\\\\n",
       "\t fixed        & groupadult   &  0.076820636 & 0.26418239   &  0.2907864   & VAL         \\\\\n",
       "\\end{tabular}\n"
      ],
      "text/markdown": [
       "\n",
       "effect | term | estimate | std.error | statistic | AA | \n",
       "|---|---|---|---|---|---|---|---|---|---|\n",
       "| fixed        | groupadult   | -0.057052677 | 0.16019387   | -0.3561477   | ARG          | \n",
       "| fixed        | groupadult   |  0.078707251 | 0.15488689   |  0.5081595   | HIS          | \n",
       "| fixed        | groupadult   | -0.079596925 | 0.10924127   | -0.7286342   | ILE          | \n",
       "| fixed        | groupadult   |  0.080070978 | 0.20778112   |  0.3853621   | LEU          | \n",
       "| fixed        | groupadult   |  0.078731029 | 0.23015010   |  0.3420856   | LYS          | \n",
       "| fixed        | groupadult   |  0.031222250 | 0.05794368   |  0.5388379   | MET          | \n",
       "| fixed        | groupadult   |  0.034067776 | 0.08401854   |  0.4054792   | PHE          | \n",
       "| fixed        | groupadult   |  0.918000361 | 0.62783098   |  1.4621776   | THR          | \n",
       "| fixed        | groupadult   |  0.004198853 | 0.01633558   |  0.2570373   | TRP          | \n",
       "| fixed        | groupadult   |  0.076820636 | 0.26418239   |  0.2907864   | VAL          | \n",
       "\n",
       "\n"
      ],
      "text/plain": [
       "   effect term       estimate     std.error  statistic  AA \n",
       "1  fixed  groupadult -0.057052677 0.16019387 -0.3561477 ARG\n",
       "2  fixed  groupadult  0.078707251 0.15488689  0.5081595 HIS\n",
       "3  fixed  groupadult -0.079596925 0.10924127 -0.7286342 ILE\n",
       "4  fixed  groupadult  0.080070978 0.20778112  0.3853621 LEU\n",
       "5  fixed  groupadult  0.078731029 0.23015010  0.3420856 LYS\n",
       "6  fixed  groupadult  0.031222250 0.05794368  0.5388379 MET\n",
       "7  fixed  groupadult  0.034067776 0.08401854  0.4054792 PHE\n",
       "8  fixed  groupadult  0.918000361 0.62783098  1.4621776 THR\n",
       "9  fixed  groupadult  0.004198853 0.01633558  0.2570373 TRP\n",
       "10 fixed  groupadult  0.076820636 0.26418239  0.2907864 VAL"
      ]
     },
     "metadata": {},
     "output_type": "display_data"
    },
    {
     "data": {
      "text/html": [
       "<table>\n",
       "<thead><tr><th scope=col>effect</th><th scope=col>term</th><th scope=col>estimate</th><th scope=col>std.error</th><th scope=col>statistic</th><th scope=col>AA</th></tr></thead>\n",
       "<tbody>\n",
       "\t<tr><td>fixed       </td><td>groupadult  </td><td>-0.2839931  </td><td>0.5045151   </td><td>-0.562903080</td><td>ASP         </td></tr>\n",
       "\t<tr><td>fixed       </td><td>groupadult  </td><td> 1.0002150  </td><td>1.7402092   </td><td> 0.574767135</td><td>ALA         </td></tr>\n",
       "\t<tr><td>fixed       </td><td>groupadult  </td><td> 0.1627368  </td><td>0.1301663   </td><td> 1.250222557</td><td>ASN         </td></tr>\n",
       "\t<tr><td>fixed       </td><td>groupadult  </td><td>-0.1404428  </td><td>0.1727313   </td><td>-0.813070974</td><td>CYS         </td></tr>\n",
       "\t<tr><td>fixed       </td><td>groupadult  </td><td> 0.0045989  </td><td>0.8444166   </td><td> 0.005446246</td><td>GLY         </td></tr>\n",
       "\t<tr><td>fixed       </td><td>groupadult  </td><td>-4.4516726  </td><td>6.9810926   </td><td>-0.637675625</td><td>GLU         </td></tr>\n",
       "\t<tr><td>fixed       </td><td>groupadult  </td><td> 8.2005016  </td><td>3.4861317   </td><td> 2.352321266</td><td>GLN         </td></tr>\n",
       "\t<tr><td>fixed       </td><td>groupadult  </td><td>-0.1749968  </td><td>0.3591263   </td><td>-0.487284722</td><td>PRO         </td></tr>\n",
       "\t<tr><td>fixed       </td><td>groupadult  </td><td> 1.2102175  </td><td>0.7244904   </td><td> 1.670439585</td><td>SER         </td></tr>\n",
       "\t<tr><td>fixed       </td><td>groupadult  </td><td>-0.1367912  </td><td>0.1137469   </td><td>-1.202592257</td><td>TYR         </td></tr>\n",
       "</tbody>\n",
       "</table>\n"
      ],
      "text/latex": [
       "\\begin{tabular}{r|llllll}\n",
       " effect & term & estimate & std.error & statistic & AA\\\\\n",
       "\\hline\n",
       "\t fixed        & groupadult   & -0.2839931   & 0.5045151    & -0.562903080 & ASP         \\\\\n",
       "\t fixed        & groupadult   &  1.0002150   & 1.7402092    &  0.574767135 & ALA         \\\\\n",
       "\t fixed        & groupadult   &  0.1627368   & 0.1301663    &  1.250222557 & ASN         \\\\\n",
       "\t fixed        & groupadult   & -0.1404428   & 0.1727313    & -0.813070974 & CYS         \\\\\n",
       "\t fixed        & groupadult   &  0.0045989   & 0.8444166    &  0.005446246 & GLY         \\\\\n",
       "\t fixed        & groupadult   & -4.4516726   & 6.9810926    & -0.637675625 & GLU         \\\\\n",
       "\t fixed        & groupadult   &  8.2005016   & 3.4861317    &  2.352321266 & GLN         \\\\\n",
       "\t fixed        & groupadult   & -0.1749968   & 0.3591263    & -0.487284722 & PRO         \\\\\n",
       "\t fixed        & groupadult   &  1.2102175   & 0.7244904    &  1.670439585 & SER         \\\\\n",
       "\t fixed        & groupadult   & -0.1367912   & 0.1137469    & -1.202592257 & TYR         \\\\\n",
       "\\end{tabular}\n"
      ],
      "text/markdown": [
       "\n",
       "effect | term | estimate | std.error | statistic | AA | \n",
       "|---|---|---|---|---|---|---|---|---|---|\n",
       "| fixed        | groupadult   | -0.2839931   | 0.5045151    | -0.562903080 | ASP          | \n",
       "| fixed        | groupadult   |  1.0002150   | 1.7402092    |  0.574767135 | ALA          | \n",
       "| fixed        | groupadult   |  0.1627368   | 0.1301663    |  1.250222557 | ASN          | \n",
       "| fixed        | groupadult   | -0.1404428   | 0.1727313    | -0.813070974 | CYS          | \n",
       "| fixed        | groupadult   |  0.0045989   | 0.8444166    |  0.005446246 | GLY          | \n",
       "| fixed        | groupadult   | -4.4516726   | 6.9810926    | -0.637675625 | GLU          | \n",
       "| fixed        | groupadult   |  8.2005016   | 3.4861317    |  2.352321266 | GLN          | \n",
       "| fixed        | groupadult   | -0.1749968   | 0.3591263    | -0.487284722 | PRO          | \n",
       "| fixed        | groupadult   |  1.2102175   | 0.7244904    |  1.670439585 | SER          | \n",
       "| fixed        | groupadult   | -0.1367912   | 0.1137469    | -1.202592257 | TYR          | \n",
       "\n",
       "\n"
      ],
      "text/plain": [
       "   effect term       estimate   std.error statistic    AA \n",
       "1  fixed  groupadult -0.2839931 0.5045151 -0.562903080 ASP\n",
       "2  fixed  groupadult  1.0002150 1.7402092  0.574767135 ALA\n",
       "3  fixed  groupadult  0.1627368 0.1301663  1.250222557 ASN\n",
       "4  fixed  groupadult -0.1404428 0.1727313 -0.813070974 CYS\n",
       "5  fixed  groupadult  0.0045989 0.8444166  0.005446246 GLY\n",
       "6  fixed  groupadult -4.4516726 6.9810926 -0.637675625 GLU\n",
       "7  fixed  groupadult  8.2005016 3.4861317  2.352321266 GLN\n",
       "8  fixed  groupadult -0.1749968 0.3591263 -0.487284722 PRO\n",
       "9  fixed  groupadult  1.2102175 0.7244904  1.670439585 SER\n",
       "10 fixed  groupadult -0.1367912 0.1137469 -1.202592257 TYR"
      ]
     },
     "metadata": {},
     "output_type": "display_data"
    }
   ],
   "source": [
    "sexCoef_E_G <- bind_rows(tidy_E_G) %>% filter(grepl(\"sexboy\", term))\n",
    "sexCoef_NE_G <- bind_rows(tidy_NE_G) %>% filter(grepl(\"sexboy\", term))\n",
    "\n",
    "groupCoef_E_G <- bind_rows(tidy_E_G) %>% filter(grepl(\"groupadult\", term))\n",
    "groupCoef_NE_G <- bind_rows(tidy_NE_G) %>% filter(grepl(\"groupadult\", term))\n",
    "\n",
    "sexCoef_NE_G\n",
    "groupCoef_E_G\n",
    "groupCoef_NE_G"
   ]
  },
  {
   "cell_type": "code",
   "execution_count": 32,
   "metadata": {},
   "outputs": [
    {
     "data": {},
     "metadata": {},
     "output_type": "display_data"
    },
    {
     "data": {
      "text/html": [
       "<strong>png:</strong> 2"
      ],
      "text/latex": [
       "\\textbf{png:} 2"
      ],
      "text/markdown": [
       "**png:** 2"
      ],
      "text/plain": [
       "png \n",
       "  2 "
      ]
     },
     "metadata": {},
     "output_type": "display_data"
    }
   ],
   "source": [
    "png(filename=\"./plots/EAA_G_given_S_coeff.png\", units=\"cm\", width=20, height=20, res = 300)\n",
    "ggplot(groupCoef_E_G, aes(x = AA, y = estimate, color = AA)) + \n",
    "    geom_hline(yintercept = 0, alpha = 0.4) + \n",
    "    geom_point() + geom_pointrange( aes(x = AA, ymin = estimate - 2*std.error, ymax = estimate + 2*std.error)) + \n",
    "    theme(legend.position = \"none\") + \n",
    "    coord_flip() + ylab(TeX('group (adult $\\\\rightarrow$)')) + \n",
    "    ggtitle('Essential AA \\n Estimate and 95% CI controlling for sex') \n",
    "dev.off()"
   ]
  },
  {
   "cell_type": "code",
   "execution_count": 33,
   "metadata": {},
   "outputs": [
    {
     "data": {},
     "metadata": {},
     "output_type": "display_data"
    },
    {
     "data": {
      "text/html": [
       "<strong>png:</strong> 2"
      ],
      "text/latex": [
       "\\textbf{png:} 2"
      ],
      "text/markdown": [
       "**png:** 2"
      ],
      "text/plain": [
       "png \n",
       "  2 "
      ]
     },
     "metadata": {},
     "output_type": "display_data"
    }
   ],
   "source": [
    "png(filename=\"./plots/EAA_S_given_G_coeff.png\", units=\"cm\", width=20, height=20, res = 300)\n",
    "ggplot(sexCoef_E_G, aes(x = AA, y = estimate, color = AA)) + \n",
    "    geom_hline(yintercept = 0, alpha = 0.4) + \n",
    "    geom_point() + geom_pointrange( aes(x = AA, ymin = estimate - 2*std.error, ymax = estimate + 2*std.error)) + \n",
    "    theme(legend.position = \"none\") + \n",
    "    coord_flip() + ylab(TeX('sex (boy $\\\\rightarrow$)')) + \n",
    "    ggtitle('Essential AA \\n Estimate and 95% CI controlling for group') \n",
    "dev.off()"
   ]
  },
  {
   "cell_type": "code",
   "execution_count": 34,
   "metadata": {},
   "outputs": [
    {
     "data": {},
     "metadata": {},
     "output_type": "display_data"
    },
    {
     "data": {
      "text/html": [
       "<strong>png:</strong> 2"
      ],
      "text/latex": [
       "\\textbf{png:} 2"
      ],
      "text/markdown": [
       "**png:** 2"
      ],
      "text/plain": [
       "png \n",
       "  2 "
      ]
     },
     "metadata": {},
     "output_type": "display_data"
    }
   ],
   "source": [
    "png(filename=\"./plots/NEAA_G_given_S_coeff.png\", units=\"cm\", width=20, height=20, res = 300)\n",
    "ggplot(groupCoef_NE_G, aes(x = AA, y = estimate, color = AA)) + \n",
    "    geom_hline(yintercept = 0, alpha = 0.4) + \n",
    "    geom_point() + geom_pointrange( aes(x = AA, ymin = estimate - 2*std.error, ymax = estimate + 2*std.error)) + \n",
    "    theme(legend.position = \"none\") +\n",
    "    coord_flip() + ylab(TeX('group (adult $\\\\rightarrow$)')) + \n",
    "    ggtitle('Non Essential AA \\n Estimate and 95% CI controlling for sex')\n",
    "dev.off()"
   ]
  },
  {
   "cell_type": "code",
   "execution_count": 35,
   "metadata": {},
   "outputs": [
    {
     "data": {},
     "metadata": {},
     "output_type": "display_data"
    },
    {
     "data": {
      "text/html": [
       "<strong>png:</strong> 2"
      ],
      "text/latex": [
       "\\textbf{png:} 2"
      ],
      "text/markdown": [
       "**png:** 2"
      ],
      "text/plain": [
       "png \n",
       "  2 "
      ]
     },
     "metadata": {},
     "output_type": "display_data"
    }
   ],
   "source": [
    "png(filename=\"./plots/NEAA_S_given_G_coeff.png\", units=\"cm\", width=20, height=20, res = 300)\n",
    "ggplot(sexCoef_NE_G, aes(x = AA, y = estimate, color = AA)) + \n",
    "    geom_hline(yintercept = 0, alpha = 0.4) + \n",
    "    geom_point() + geom_pointrange( aes(x = AA, ymin = estimate - 2*std.error, ymax = estimate + 2*std.error)) + \n",
    "    theme(legend.position = \"none\") +\n",
    "    coord_flip() + ylab(TeX('sex (boy $\\\\rightarrow$)')) + \n",
    "    ggtitle('Non Essential AA \\n Estimate and 95% CI controlling for group')\n",
    "dev.off()"
   ]
  },
  {
   "cell_type": "code",
   "execution_count": 36,
   "metadata": {},
   "outputs": [
    {
     "data": {
      "text/html": [
       "<table>\n",
       "<thead><tr><th scope=col>sex</th><th scope=col>group</th><th scope=col>n()</th></tr></thead>\n",
       "<tbody>\n",
       "\t<tr><td>girl </td><td>teen </td><td>13   </td></tr>\n",
       "\t<tr><td>girl </td><td>adult</td><td>13   </td></tr>\n",
       "\t<tr><td>boy  </td><td>teen </td><td>24   </td></tr>\n",
       "\t<tr><td>boy  </td><td>adult</td><td>11   </td></tr>\n",
       "\t<tr><td>NA   </td><td>teen </td><td> 2   </td></tr>\n",
       "\t<tr><td>NA   </td><td>adult</td><td> 2   </td></tr>\n",
       "</tbody>\n",
       "</table>\n"
      ],
      "text/latex": [
       "\\begin{tabular}{r|lll}\n",
       " sex & group & n()\\\\\n",
       "\\hline\n",
       "\t girl  & teen  & 13   \\\\\n",
       "\t girl  & adult & 13   \\\\\n",
       "\t boy   & teen  & 24   \\\\\n",
       "\t boy   & adult & 11   \\\\\n",
       "\t NA    & teen  &  2   \\\\\n",
       "\t NA    & adult &  2   \\\\\n",
       "\\end{tabular}\n"
      ],
      "text/markdown": [
       "\n",
       "sex | group | n() | \n",
       "|---|---|---|---|---|---|\n",
       "| girl  | teen  | 13    | \n",
       "| girl  | adult | 13    | \n",
       "| boy   | teen  | 24    | \n",
       "| boy   | adult | 11    | \n",
       "| NA    | teen  |  2    | \n",
       "| NA    | adult |  2    | \n",
       "\n",
       "\n"
      ],
      "text/plain": [
       "  sex  group n()\n",
       "1 girl teen  13 \n",
       "2 girl adult 13 \n",
       "3 boy  teen  24 \n",
       "4 boy  adult 11 \n",
       "5 NA   teen   2 \n",
       "6 NA   adult  2 "
      ]
     },
     "metadata": {},
     "output_type": "display_data"
    }
   ],
   "source": [
    "AA_E %>% group_by(sex, group) %>% summarise(n())"
   ]
  },
  {
   "cell_type": "markdown",
   "metadata": {},
   "source": [
    "## Sex-Week interaction and Free AA\n",
    "\n",
    "$$\n",
    "\\begin{align*}\n",
    "AA &= \\alpha_0 + \\alpha_1 \\ sex + \\alpha_2 \\ week + \\alpha_3 \\ sex \\times week + \\alpha_{id} \\\\\n",
    "   &= \\alpha_0 + \\alpha_1 \\ sex + \\left( \\alpha_2 + \\alpha_3 \\ sex \\right) \\times week + \\alpha_{id}\n",
    "\\end{align*}\n",
    "$$"
   ]
  },
  {
   "cell_type": "code",
   "execution_count": 40,
   "metadata": {
    "collapsed": true
   },
   "outputs": [],
   "source": [
    "meSexWeek <- function(df){\n",
    "    \n",
    "    me <- lmer(level ~ sex + week + sex:week + (1 | id), data = df)\n",
    "    \n",
    "    return(me)\n",
    "}"
   ]
  },
  {
   "cell_type": "code",
   "execution_count": 41,
   "metadata": {
    "collapsed": true
   },
   "outputs": [],
   "source": [
    "me_E_SW <- list()\n",
    "tidy_E_SW <- list()\n",
    "\n",
    "me_NE_SW <- list()\n",
    "tidy_NE_SW <- list()\n",
    "\n",
    "for(i in 1:nAA_E){\n",
    "    \n",
    "    me_E_SW[[i]] <- meSexWeek(AA_E_Nested$data[[i]])\n",
    "    covMat_E <- vcov(me_E_SW[[i]])\n",
    "    tidy_E_SW[[i]] <- tidy(me_E_SW[[i]], effects = 'fixed') %>% mutate(AA = AA_E_Nested$AA[i], cov = covMat_E[3, 4])\n",
    "    \n",
    "    me_NE_SW[[i]] <- meSexWeek(AA_NE_Nested$data[[i]])\n",
    "    covMat_NE <- vcov(me_NE_SW[[i]])\n",
    "    tidy_NE_SW[[i]] <- tidy(me_NE_SW[[i]], effects = 'fixed') %>% mutate(AA = AA_NE_Nested$AA[i], cov = covMat_NE[3, 4])\n",
    "\n",
    "}"
   ]
  },
  {
   "cell_type": "code",
   "execution_count": 42,
   "metadata": {},
   "outputs": [],
   "source": [
    "AA_E_Nested <- AA_E_Nested %>% mutate(model_SW = me_E_SW, tidy_SW = tidy_E_SW)\n",
    "AA_NE_Nested <- AA_NE_Nested %>% mutate(model_SW = me_NE_SW, tidy_SW = tidy_NE_SW)"
   ]
  },
  {
   "cell_type": "code",
   "execution_count": 43,
   "metadata": {},
   "outputs": [
    {
     "data": {
      "text/plain": [
       "[[1]]\n",
       "Linear mixed model fit by REML ['lmerMod']\n",
       "Formula: level ~ sex + week + sex:week + (1 | id)\n",
       "   Data: df\n",
       "REML criterion at convergence: 473.9153\n",
       "Random effects:\n",
       " Groups   Name        Std.Dev.\n",
       " id       (Intercept) 0.3486  \n",
       " Residual             0.7875  \n",
       "Number of obs: 183, groups:  id, 61\n",
       "Fixed Effects:\n",
       "(Intercept)       sexboy         week  sexboy:week  \n",
       "    1.16831      0.24210     -0.01085     -0.02156  \n"
      ]
     },
     "metadata": {},
     "output_type": "display_data"
    },
    {
     "data": {
      "text/html": [
       "<ol>\n",
       "\t<li><table>\n",
       "<thead><tr><th scope=col>effect</th><th scope=col>term</th><th scope=col>estimate</th><th scope=col>std.error</th><th scope=col>statistic</th><th scope=col>AA</th><th scope=col>cov</th></tr></thead>\n",
       "<tbody>\n",
       "\t<tr><td>fixed        </td><td>(Intercept)  </td><td> 1.16831055  </td><td>0.13782134   </td><td> 8.4769934   </td><td>ARG          </td><td>-0.0002377638</td></tr>\n",
       "\t<tr><td>fixed        </td><td>sexboy       </td><td> 0.24210293  </td><td>0.18146355   </td><td> 1.3341684   </td><td>ARG          </td><td>-0.0002377638</td></tr>\n",
       "\t<tr><td>fixed        </td><td>week         </td><td>-0.01084601  </td><td>0.01541959   </td><td>-0.7033915   </td><td>ARG          </td><td>-0.0002377638</td></tr>\n",
       "\t<tr><td>fixed        </td><td>sexboy:week  </td><td>-0.02155984  </td><td>0.02088780   </td><td>-1.0321738   </td><td>ARG          </td><td>-0.0002377638</td></tr>\n",
       "</tbody>\n",
       "</table>\n",
       "</li>\n",
       "</ol>\n"
      ],
      "text/latex": [
       "\\begin{enumerate}\n",
       "\\item \\begin{tabular}{r|lllllll}\n",
       " effect & term & estimate & std.error & statistic & AA & cov\\\\\n",
       "\\hline\n",
       "\t fixed         & (Intercept)   &  1.16831055   & 0.13782134    &  8.4769934    & ARG           & -0.0002377638\\\\\n",
       "\t fixed         & sexboy        &  0.24210293   & 0.18146355    &  1.3341684    & ARG           & -0.0002377638\\\\\n",
       "\t fixed         & week          & -0.01084601   & 0.01541959    & -0.7033915    & ARG           & -0.0002377638\\\\\n",
       "\t fixed         & sexboy:week   & -0.02155984   & 0.02088780    & -1.0321738    & ARG           & -0.0002377638\\\\\n",
       "\\end{tabular}\n",
       "\n",
       "\\end{enumerate}\n"
      ],
      "text/markdown": [
       "1. \n",
       "effect | term | estimate | std.error | statistic | AA | cov | \n",
       "|---|---|---|---|\n",
       "| fixed         | (Intercept)   |  1.16831055   | 0.13782134    |  8.4769934    | ARG           | -0.0002377638 | \n",
       "| fixed         | sexboy        |  0.24210293   | 0.18146355    |  1.3341684    | ARG           | -0.0002377638 | \n",
       "| fixed         | week          | -0.01084601   | 0.01541959    | -0.7033915    | ARG           | -0.0002377638 | \n",
       "| fixed         | sexboy:week   | -0.02155984   | 0.02088780    | -1.0321738    | ARG           | -0.0002377638 | \n",
       "\n",
       "\n",
       "\n",
       "\n",
       "\n"
      ],
      "text/plain": [
       "[[1]]\n",
       "# A tibble: 4 x 7\n",
       "  effect        term    estimate  std.error  statistic    AA           cov\n",
       "   <chr>       <chr>       <dbl>      <dbl>      <dbl> <chr>         <dbl>\n",
       "1  fixed (Intercept)  1.16831055 0.13782134  8.4769934   ARG -0.0002377638\n",
       "2  fixed      sexboy  0.24210293 0.18146355  1.3341684   ARG -0.0002377638\n",
       "3  fixed        week -0.01084601 0.01541959 -0.7033915   ARG -0.0002377638\n",
       "4  fixed sexboy:week -0.02155984 0.02088780 -1.0321738   ARG -0.0002377638\n"
      ]
     },
     "metadata": {},
     "output_type": "display_data"
    }
   ],
   "source": [
    "AA_E_Nested$model_SW[1]\n",
    "AA_E_Nested$tidy_SW[1]"
   ]
  },
  {
   "cell_type": "code",
   "execution_count": 44,
   "metadata": {},
   "outputs": [
    {
     "data": {
      "text/html": [
       "<table>\n",
       "<thead><tr><th scope=col>effect</th><th scope=col>AA</th><th scope=col>estimate_boy</th><th scope=col>std.error_boy</th><th scope=col>estimate_girl</th></tr></thead>\n",
       "<tbody>\n",
       "\t<tr><td>fixed       </td><td>ARG         </td><td>-0.032405848</td><td>0.035831863 </td><td>-0.010846008</td></tr>\n",
       "\t<tr><td>fixed       </td><td>HIS         </td><td> 0.014420854</td><td>0.038456963 </td><td> 0.002612866</td></tr>\n",
       "\t<tr><td>fixed       </td><td>ILE         </td><td> 0.003577430</td><td>0.023676683 </td><td> 0.015668427</td></tr>\n",
       "\t<tr><td>fixed       </td><td>LEU         </td><td> 0.049805045</td><td>0.056720963 </td><td> 0.032661412</td></tr>\n",
       "\t<tr><td>fixed       </td><td>LYS         </td><td>-0.059594968</td><td>0.057827890 </td><td>-0.031840262</td></tr>\n",
       "\t<tr><td>fixed       </td><td>MET         </td><td> 0.004652845</td><td>0.016192043 </td><td> 0.003823882</td></tr>\n",
       "\t<tr><td>fixed       </td><td>PHE         </td><td> 0.021583876</td><td>0.024341015 </td><td> 0.021258453</td></tr>\n",
       "\t<tr><td>fixed       </td><td>THR         </td><td> 0.108454852</td><td>0.107769866 </td><td> 0.153076793</td></tr>\n",
       "\t<tr><td>fixed       </td><td>TRP         </td><td>-0.001163836</td><td>0.004769196 </td><td>-0.000413382</td></tr>\n",
       "\t<tr><td>fixed       </td><td>VAL         </td><td> 0.072332748</td><td>0.064806719 </td><td> 0.072450086</td></tr>\n",
       "</tbody>\n",
       "</table>\n"
      ],
      "text/latex": [
       "\\begin{tabular}{r|lllll}\n",
       " effect & AA & estimate\\_boy & std.error\\_boy & estimate\\_girl\\\\\n",
       "\\hline\n",
       "\t fixed        & ARG          & -0.032405848 & 0.035831863  & -0.010846008\\\\\n",
       "\t fixed        & HIS          &  0.014420854 & 0.038456963  &  0.002612866\\\\\n",
       "\t fixed        & ILE          &  0.003577430 & 0.023676683  &  0.015668427\\\\\n",
       "\t fixed        & LEU          &  0.049805045 & 0.056720963  &  0.032661412\\\\\n",
       "\t fixed        & LYS          & -0.059594968 & 0.057827890  & -0.031840262\\\\\n",
       "\t fixed        & MET          &  0.004652845 & 0.016192043  &  0.003823882\\\\\n",
       "\t fixed        & PHE          &  0.021583876 & 0.024341015  &  0.021258453\\\\\n",
       "\t fixed        & THR          &  0.108454852 & 0.107769866  &  0.153076793\\\\\n",
       "\t fixed        & TRP          & -0.001163836 & 0.004769196  & -0.000413382\\\\\n",
       "\t fixed        & VAL          &  0.072332748 & 0.064806719  &  0.072450086\\\\\n",
       "\\end{tabular}\n"
      ],
      "text/markdown": [
       "\n",
       "effect | AA | estimate_boy | std.error_boy | estimate_girl | \n",
       "|---|---|---|---|---|---|---|---|---|---|\n",
       "| fixed        | ARG          | -0.032405848 | 0.035831863  | -0.010846008 | \n",
       "| fixed        | HIS          |  0.014420854 | 0.038456963  |  0.002612866 | \n",
       "| fixed        | ILE          |  0.003577430 | 0.023676683  |  0.015668427 | \n",
       "| fixed        | LEU          |  0.049805045 | 0.056720963  |  0.032661412 | \n",
       "| fixed        | LYS          | -0.059594968 | 0.057827890  | -0.031840262 | \n",
       "| fixed        | MET          |  0.004652845 | 0.016192043  |  0.003823882 | \n",
       "| fixed        | PHE          |  0.021583876 | 0.024341015  |  0.021258453 | \n",
       "| fixed        | THR          |  0.108454852 | 0.107769866  |  0.153076793 | \n",
       "| fixed        | TRP          | -0.001163836 | 0.004769196  | -0.000413382 | \n",
       "| fixed        | VAL          |  0.072332748 | 0.064806719  |  0.072450086 | \n",
       "\n",
       "\n"
      ],
      "text/plain": [
       "   effect AA  estimate_boy std.error_boy estimate_girl\n",
       "1  fixed  ARG -0.032405848 0.035831863   -0.010846008 \n",
       "2  fixed  HIS  0.014420854 0.038456963    0.002612866 \n",
       "3  fixed  ILE  0.003577430 0.023676683    0.015668427 \n",
       "4  fixed  LEU  0.049805045 0.056720963    0.032661412 \n",
       "5  fixed  LYS -0.059594968 0.057827890   -0.031840262 \n",
       "6  fixed  MET  0.004652845 0.016192043    0.003823882 \n",
       "7  fixed  PHE  0.021583876 0.024341015    0.021258453 \n",
       "8  fixed  THR  0.108454852 0.107769866    0.153076793 \n",
       "9  fixed  TRP -0.001163836 0.004769196   -0.000413382 \n",
       "10 fixed  VAL  0.072332748 0.064806719    0.072450086 "
      ]
     },
     "metadata": {},
     "output_type": "display_data"
    }
   ],
   "source": [
    "df1_E <- bind_rows(tidy_E_SW) %>% filter(grepl(\"^week$\", term))\n",
    "df2_E <- bind_rows(tidy_E_SW) %>% filter(grepl(\"^sexboy:week$\", term))\n",
    "\n",
    "sexCoef_E_SW <- left_join(df1_E, df2_E, by = c('AA', 'effect')) %>% \n",
    "            mutate(estimate_girl = estimate.x,\n",
    "                   estimate_boy = estimate.x + estimate.y, \n",
    "                   std.error_boy = std.error.x + std.error.y + 2*cov.y) %>% \n",
    "            select(effect, AA, estimate_boy, std.error_boy, estimate_girl)\n",
    "\n",
    "sexCoef_E_SW"
   ]
  },
  {
   "cell_type": "code",
   "execution_count": 45,
   "metadata": {},
   "outputs": [
    {
     "data": {
      "text/html": [
       "<table>\n",
       "<thead><tr><th scope=col>effect</th><th scope=col>AA</th><th scope=col>estimate_boy</th><th scope=col>std.error_boy</th><th scope=col>estimate_girl</th></tr></thead>\n",
       "<tbody>\n",
       "\t<tr><td>fixed       </td><td>ASP         </td><td> 0.159940361</td><td>0.10951894  </td><td> 0.088414553</td></tr>\n",
       "\t<tr><td>fixed       </td><td>ALA         </td><td> 0.669325536</td><td>0.34283843  </td><td> 0.403477923</td></tr>\n",
       "\t<tr><td>fixed       </td><td>ASN         </td><td> 0.002062971</td><td>0.03531315  </td><td>-0.008616085</td></tr>\n",
       "\t<tr><td>fixed       </td><td>CYS         </td><td> 0.098553935</td><td>0.03836863  </td><td> 0.074835846</td></tr>\n",
       "\t<tr><td>fixed       </td><td>GLY         </td><td> 0.353514499</td><td>0.18635854  </td><td> 0.327704341</td></tr>\n",
       "\t<tr><td>fixed       </td><td>GLU         </td><td> 3.695463574</td><td>0.64433632  </td><td> 3.056393934</td></tr>\n",
       "\t<tr><td>fixed       </td><td>GLN         </td><td> 2.429967802</td><td>0.60723306  </td><td> 2.187116258</td></tr>\n",
       "\t<tr><td>fixed       </td><td>PRO         </td><td>-0.051868937</td><td>0.08166832  </td><td>-0.044056790</td></tr>\n",
       "\t<tr><td>fixed       </td><td>SER         </td><td> 0.422110920</td><td>0.16538547  </td><td> 0.369754547</td></tr>\n",
       "\t<tr><td>fixed       </td><td>TYR         </td><td> 0.016743548</td><td>0.02516157  </td><td> 0.008344355</td></tr>\n",
       "</tbody>\n",
       "</table>\n"
      ],
      "text/latex": [
       "\\begin{tabular}{r|lllll}\n",
       " effect & AA & estimate\\_boy & std.error\\_boy & estimate\\_girl\\\\\n",
       "\\hline\n",
       "\t fixed        & ASP          &  0.159940361 & 0.10951894   &  0.088414553\\\\\n",
       "\t fixed        & ALA          &  0.669325536 & 0.34283843   &  0.403477923\\\\\n",
       "\t fixed        & ASN          &  0.002062971 & 0.03531315   & -0.008616085\\\\\n",
       "\t fixed        & CYS          &  0.098553935 & 0.03836863   &  0.074835846\\\\\n",
       "\t fixed        & GLY          &  0.353514499 & 0.18635854   &  0.327704341\\\\\n",
       "\t fixed        & GLU          &  3.695463574 & 0.64433632   &  3.056393934\\\\\n",
       "\t fixed        & GLN          &  2.429967802 & 0.60723306   &  2.187116258\\\\\n",
       "\t fixed        & PRO          & -0.051868937 & 0.08166832   & -0.044056790\\\\\n",
       "\t fixed        & SER          &  0.422110920 & 0.16538547   &  0.369754547\\\\\n",
       "\t fixed        & TYR          &  0.016743548 & 0.02516157   &  0.008344355\\\\\n",
       "\\end{tabular}\n"
      ],
      "text/markdown": [
       "\n",
       "effect | AA | estimate_boy | std.error_boy | estimate_girl | \n",
       "|---|---|---|---|---|---|---|---|---|---|\n",
       "| fixed        | ASP          |  0.159940361 | 0.10951894   |  0.088414553 | \n",
       "| fixed        | ALA          |  0.669325536 | 0.34283843   |  0.403477923 | \n",
       "| fixed        | ASN          |  0.002062971 | 0.03531315   | -0.008616085 | \n",
       "| fixed        | CYS          |  0.098553935 | 0.03836863   |  0.074835846 | \n",
       "| fixed        | GLY          |  0.353514499 | 0.18635854   |  0.327704341 | \n",
       "| fixed        | GLU          |  3.695463574 | 0.64433632   |  3.056393934 | \n",
       "| fixed        | GLN          |  2.429967802 | 0.60723306   |  2.187116258 | \n",
       "| fixed        | PRO          | -0.051868937 | 0.08166832   | -0.044056790 | \n",
       "| fixed        | SER          |  0.422110920 | 0.16538547   |  0.369754547 | \n",
       "| fixed        | TYR          |  0.016743548 | 0.02516157   |  0.008344355 | \n",
       "\n",
       "\n"
      ],
      "text/plain": [
       "   effect AA  estimate_boy std.error_boy estimate_girl\n",
       "1  fixed  ASP  0.159940361 0.10951894     0.088414553 \n",
       "2  fixed  ALA  0.669325536 0.34283843     0.403477923 \n",
       "3  fixed  ASN  0.002062971 0.03531315    -0.008616085 \n",
       "4  fixed  CYS  0.098553935 0.03836863     0.074835846 \n",
       "5  fixed  GLY  0.353514499 0.18635854     0.327704341 \n",
       "6  fixed  GLU  3.695463574 0.64433632     3.056393934 \n",
       "7  fixed  GLN  2.429967802 0.60723306     2.187116258 \n",
       "8  fixed  PRO -0.051868937 0.08166832    -0.044056790 \n",
       "9  fixed  SER  0.422110920 0.16538547     0.369754547 \n",
       "10 fixed  TYR  0.016743548 0.02516157     0.008344355 "
      ]
     },
     "metadata": {},
     "output_type": "display_data"
    }
   ],
   "source": [
    "df1_NE <- bind_rows(tidy_NE_SW) %>% filter(grepl(\"^week$\", term))\n",
    "df2_NE <- bind_rows(tidy_NE_SW) %>% filter(grepl(\"^sexboy:week$\", term))\n",
    "\n",
    "sexCoef_NE_SW <- left_join(df1_NE, df2_NE, by = c('AA', 'effect')) %>% \n",
    "            mutate(estimate_girl = estimate.x,\n",
    "                   estimate_boy = estimate.x + estimate.y, \n",
    "                   std.error_boy = std.error.x + std.error.y + 2*cov.y) %>% \n",
    "            select(effect, AA, estimate_boy, std.error_boy, estimate_girl)\n",
    "\n",
    "sexCoef_NE_SW"
   ]
  },
  {
   "cell_type": "code",
   "execution_count": 46,
   "metadata": {},
   "outputs": [
    {
     "data": {},
     "metadata": {},
     "output_type": "display_data"
    },
    {
     "data": {
      "text/html": [
       "<strong>png:</strong> 2"
      ],
      "text/latex": [
       "\\textbf{png:} 2"
      ],
      "text/markdown": [
       "**png:** 2"
      ],
      "text/plain": [
       "png \n",
       "  2 "
      ]
     },
     "metadata": {},
     "output_type": "display_data"
    }
   ],
   "source": [
    "png(filename=\"./plots/EAA_SW_coeff.png\", units=\"cm\", width=20, height=20, res = 300)\n",
    "ggplot(sexCoef_E_SW, aes(x = AA, y = estimate_boy, color = AA)) + \n",
    "    geom_hline(yintercept = 0, alpha = 0.4) + \n",
    "    geom_point() + geom_pointrange( aes(x = AA, ymin = estimate_boy - 2*std.error_boy, ymax = estimate_boy + 2*std.error_boy)) + \n",
    "    theme(legend.position = \"none\") + \n",
    "    coord_flip() + ylab(TeX('sex (boy $\\\\rightarrow$):week')) + \n",
    "    ggtitle('Essential AA \\n Estimate and 95% CI') \n",
    "dev.off()"
   ]
  },
  {
   "cell_type": "code",
   "execution_count": 47,
   "metadata": {},
   "outputs": [
    {
     "data": {},
     "metadata": {},
     "output_type": "display_data"
    },
    {
     "data": {
      "text/html": [
       "<strong>png:</strong> 2"
      ],
      "text/latex": [
       "\\textbf{png:} 2"
      ],
      "text/markdown": [
       "**png:** 2"
      ],
      "text/plain": [
       "png \n",
       "  2 "
      ]
     },
     "metadata": {},
     "output_type": "display_data"
    }
   ],
   "source": [
    "png(filename=\"./plots/NEAA_SW_coeff.png\", units=\"cm\", width=20, height=20, res = 300)\n",
    "ggplot(sexCoef_NE_SW, aes(x = AA, y = estimate_boy, color = AA)) + \n",
    "    geom_hline(yintercept = 0, alpha = 0.4) + \n",
    "    geom_point() + geom_pointrange( aes(x = AA, ymin = estimate_boy - 2*std.error_boy, ymax = estimate_boy + 2*std.error_boy)) + \n",
    "    theme(legend.position = \"none\") + \n",
    "    coord_flip() + ylab(TeX('sex (boy $\\\\rightarrow$):week')) + \n",
    "    ggtitle('Non Essential AA \\n Estimate and 95% CI') \n",
    "dev.off()"
   ]
  },
  {
   "cell_type": "code",
   "execution_count": 48,
   "metadata": {},
   "outputs": [
    {
     "data": {
      "text/html": [
       "<table>\n",
       "<thead><tr><th scope=col>AA</th><th scope=col>estimate.a_0</th><th scope=col>std.error.a_0</th></tr></thead>\n",
       "<tbody>\n",
       "\t<tr><td>ARG       </td><td>1.16831055</td><td>0.13782134</td></tr>\n",
       "\t<tr><td>HIS       </td><td>1.80873649</td><td>0.13971468</td></tr>\n",
       "\t<tr><td>ILE       </td><td>0.44104761</td><td>0.09369154</td></tr>\n",
       "\t<tr><td>LEU       </td><td>1.63667005</td><td>0.19551658</td></tr>\n",
       "\t<tr><td>LYS       </td><td>1.76403506</td><td>0.20801540</td></tr>\n",
       "\t<tr><td>MET       </td><td>0.08233561</td><td>0.05472538</td></tr>\n",
       "\t<tr><td>PHE       </td><td>0.69558953</td><td>0.08168510</td></tr>\n",
       "\t<tr><td>THR       </td><td>5.75930577</td><td>0.51689861</td></tr>\n",
       "\t<tr><td>TRP       </td><td>0.01492982</td><td>0.01577609</td></tr>\n",
       "\t<tr><td>VAL       </td><td>2.98515007</td><td>0.23760977</td></tr>\n",
       "</tbody>\n",
       "</table>\n"
      ],
      "text/latex": [
       "\\begin{tabular}{r|lll}\n",
       " AA & estimate.a\\_0 & std.error.a\\_0\\\\\n",
       "\\hline\n",
       "\t ARG        & 1.16831055 & 0.13782134\\\\\n",
       "\t HIS        & 1.80873649 & 0.13971468\\\\\n",
       "\t ILE        & 0.44104761 & 0.09369154\\\\\n",
       "\t LEU        & 1.63667005 & 0.19551658\\\\\n",
       "\t LYS        & 1.76403506 & 0.20801540\\\\\n",
       "\t MET        & 0.08233561 & 0.05472538\\\\\n",
       "\t PHE        & 0.69558953 & 0.08168510\\\\\n",
       "\t THR        & 5.75930577 & 0.51689861\\\\\n",
       "\t TRP        & 0.01492982 & 0.01577609\\\\\n",
       "\t VAL        & 2.98515007 & 0.23760977\\\\\n",
       "\\end{tabular}\n"
      ],
      "text/markdown": [
       "\n",
       "AA | estimate.a_0 | std.error.a_0 | \n",
       "|---|---|---|---|---|---|---|---|---|---|\n",
       "| ARG        | 1.16831055 | 0.13782134 | \n",
       "| HIS        | 1.80873649 | 0.13971468 | \n",
       "| ILE        | 0.44104761 | 0.09369154 | \n",
       "| LEU        | 1.63667005 | 0.19551658 | \n",
       "| LYS        | 1.76403506 | 0.20801540 | \n",
       "| MET        | 0.08233561 | 0.05472538 | \n",
       "| PHE        | 0.69558953 | 0.08168510 | \n",
       "| THR        | 5.75930577 | 0.51689861 | \n",
       "| TRP        | 0.01492982 | 0.01577609 | \n",
       "| VAL        | 2.98515007 | 0.23760977 | \n",
       "\n",
       "\n"
      ],
      "text/plain": [
       "   AA  estimate.a_0 std.error.a_0\n",
       "1  ARG 1.16831055   0.13782134   \n",
       "2  HIS 1.80873649   0.13971468   \n",
       "3  ILE 0.44104761   0.09369154   \n",
       "4  LEU 1.63667005   0.19551658   \n",
       "5  LYS 1.76403506   0.20801540   \n",
       "6  MET 0.08233561   0.05472538   \n",
       "7  PHE 0.69558953   0.08168510   \n",
       "8  THR 5.75930577   0.51689861   \n",
       "9  TRP 0.01492982   0.01577609   \n",
       "10 VAL 2.98515007   0.23760977   "
      ]
     },
     "metadata": {},
     "output_type": "display_data"
    },
    {
     "data": {
      "text/html": [
       "<table>\n",
       "<thead><tr><th scope=col>AA</th><th scope=col>estimate.a_0</th><th scope=col>std.error.a_0</th></tr></thead>\n",
       "<tbody>\n",
       "\t<tr><td>ASP       </td><td> 3.1176259</td><td>0.43805579</td></tr>\n",
       "\t<tr><td>ALA       </td><td>16.3290953</td><td>1.52629570</td></tr>\n",
       "\t<tr><td>ASN       </td><td> 0.6397583</td><td>0.12254220</td></tr>\n",
       "\t<tr><td>CYS       </td><td> 0.8555460</td><td>0.14980618</td></tr>\n",
       "\t<tr><td>GLY       </td><td> 6.6789461</td><td>0.74393501</td></tr>\n",
       "\t<tr><td>GLU       </td><td>62.0894968</td><td>6.27197008</td></tr>\n",
       "\t<tr><td>GLN       </td><td>21.6839891</td><td>3.27898888</td></tr>\n",
       "\t<tr><td>PRO       </td><td> 3.0518183</td><td>0.31543060</td></tr>\n",
       "\t<tr><td>SER       </td><td> 6.0760260</td><td>0.65726590</td></tr>\n",
       "\t<tr><td>TYR       </td><td> 0.7428239</td><td>0.09902662</td></tr>\n",
       "</tbody>\n",
       "</table>\n"
      ],
      "text/latex": [
       "\\begin{tabular}{r|lll}\n",
       " AA & estimate.a\\_0 & std.error.a\\_0\\\\\n",
       "\\hline\n",
       "\t ASP        &  3.1176259 & 0.43805579\\\\\n",
       "\t ALA        & 16.3290953 & 1.52629570\\\\\n",
       "\t ASN        &  0.6397583 & 0.12254220\\\\\n",
       "\t CYS        &  0.8555460 & 0.14980618\\\\\n",
       "\t GLY        &  6.6789461 & 0.74393501\\\\\n",
       "\t GLU        & 62.0894968 & 6.27197008\\\\\n",
       "\t GLN        & 21.6839891 & 3.27898888\\\\\n",
       "\t PRO        &  3.0518183 & 0.31543060\\\\\n",
       "\t SER        &  6.0760260 & 0.65726590\\\\\n",
       "\t TYR        &  0.7428239 & 0.09902662\\\\\n",
       "\\end{tabular}\n"
      ],
      "text/markdown": [
       "\n",
       "AA | estimate.a_0 | std.error.a_0 | \n",
       "|---|---|---|---|---|---|---|---|---|---|\n",
       "| ASP        |  3.1176259 | 0.43805579 | \n",
       "| ALA        | 16.3290953 | 1.52629570 | \n",
       "| ASN        |  0.6397583 | 0.12254220 | \n",
       "| CYS        |  0.8555460 | 0.14980618 | \n",
       "| GLY        |  6.6789461 | 0.74393501 | \n",
       "| GLU        | 62.0894968 | 6.27197008 | \n",
       "| GLN        | 21.6839891 | 3.27898888 | \n",
       "| PRO        |  3.0518183 | 0.31543060 | \n",
       "| SER        |  6.0760260 | 0.65726590 | \n",
       "| TYR        |  0.7428239 | 0.09902662 | \n",
       "\n",
       "\n"
      ],
      "text/plain": [
       "   AA  estimate.a_0 std.error.a_0\n",
       "1  ASP  3.1176259   0.43805579   \n",
       "2  ALA 16.3290953   1.52629570   \n",
       "3  ASN  0.6397583   0.12254220   \n",
       "4  CYS  0.8555460   0.14980618   \n",
       "5  GLY  6.6789461   0.74393501   \n",
       "6  GLU 62.0894968   6.27197008   \n",
       "7  GLN 21.6839891   3.27898888   \n",
       "8  PRO  3.0518183   0.31543060   \n",
       "9  SER  6.0760260   0.65726590   \n",
       "10 TYR  0.7428239   0.09902662   "
      ]
     },
     "metadata": {},
     "output_type": "display_data"
    }
   ],
   "source": [
    "a_0_E <- bind_rows(tidy_E_SW) %>% filter(grepl(\"(Intercept)\", term)) %>% \n",
    "                select(AA, estimate.a_0 = estimate, std.error.a_0 = std.error)\n",
    "a_0_NE <- bind_rows(tidy_NE_SW) %>% filter(grepl(\"(Intercept)\", term)) %>% \n",
    "                select(AA, estimate.a_0 = estimate, std.error.a_0 = std.error)\n",
    "\n",
    "a_0_E \n",
    "a_0_NE "
   ]
  },
  {
   "cell_type": "code",
   "execution_count": 49,
   "metadata": {},
   "outputs": [
    {
     "data": {
      "text/html": [
       "<table>\n",
       "<thead><tr><th scope=col>AA</th><th scope=col>estimate.a_0</th><th scope=col>sex</th><th scope=col>estimate</th></tr></thead>\n",
       "<tbody>\n",
       "\t<tr><td>ARG          </td><td>1.16831055   </td><td>estimate_boy </td><td>-0.032405848 </td></tr>\n",
       "\t<tr><td>HIS          </td><td>1.80873649   </td><td>estimate_boy </td><td> 0.014420854 </td></tr>\n",
       "\t<tr><td>ILE          </td><td>0.44104761   </td><td>estimate_boy </td><td> 0.003577430 </td></tr>\n",
       "\t<tr><td>LEU          </td><td>1.63667005   </td><td>estimate_boy </td><td> 0.049805045 </td></tr>\n",
       "\t<tr><td>LYS          </td><td>1.76403506   </td><td>estimate_boy </td><td>-0.059594968 </td></tr>\n",
       "\t<tr><td>MET          </td><td>0.08233561   </td><td>estimate_boy </td><td> 0.004652845 </td></tr>\n",
       "\t<tr><td>PHE          </td><td>0.69558953   </td><td>estimate_boy </td><td> 0.021583876 </td></tr>\n",
       "\t<tr><td>THR          </td><td>5.75930577   </td><td>estimate_boy </td><td> 0.108454852 </td></tr>\n",
       "\t<tr><td>TRP          </td><td>0.01492982   </td><td>estimate_boy </td><td>-0.001163836 </td></tr>\n",
       "\t<tr><td>VAL          </td><td>2.98515007   </td><td>estimate_boy </td><td> 0.072332748 </td></tr>\n",
       "\t<tr><td>ARG          </td><td>1.16831055   </td><td>estimate_girl</td><td>-0.010846008 </td></tr>\n",
       "\t<tr><td>HIS          </td><td>1.80873649   </td><td>estimate_girl</td><td> 0.002612866 </td></tr>\n",
       "\t<tr><td>ILE          </td><td>0.44104761   </td><td>estimate_girl</td><td> 0.015668427 </td></tr>\n",
       "\t<tr><td>LEU          </td><td>1.63667005   </td><td>estimate_girl</td><td> 0.032661412 </td></tr>\n",
       "\t<tr><td>LYS          </td><td>1.76403506   </td><td>estimate_girl</td><td>-0.031840262 </td></tr>\n",
       "\t<tr><td>MET          </td><td>0.08233561   </td><td>estimate_girl</td><td> 0.003823882 </td></tr>\n",
       "\t<tr><td>PHE          </td><td>0.69558953   </td><td>estimate_girl</td><td> 0.021258453 </td></tr>\n",
       "\t<tr><td>THR          </td><td>5.75930577   </td><td>estimate_girl</td><td> 0.153076793 </td></tr>\n",
       "\t<tr><td>TRP          </td><td>0.01492982   </td><td>estimate_girl</td><td>-0.000413382 </td></tr>\n",
       "\t<tr><td>VAL          </td><td>2.98515007   </td><td>estimate_girl</td><td> 0.072450086 </td></tr>\n",
       "</tbody>\n",
       "</table>\n"
      ],
      "text/latex": [
       "\\begin{tabular}{r|llll}\n",
       " AA & estimate.a\\_0 & sex & estimate\\\\\n",
       "\\hline\n",
       "\t ARG             & 1.16831055      & estimate\\_boy  & -0.032405848   \\\\\n",
       "\t HIS             & 1.80873649      & estimate\\_boy  &  0.014420854   \\\\\n",
       "\t ILE             & 0.44104761      & estimate\\_boy  &  0.003577430   \\\\\n",
       "\t LEU             & 1.63667005      & estimate\\_boy  &  0.049805045   \\\\\n",
       "\t LYS             & 1.76403506      & estimate\\_boy  & -0.059594968   \\\\\n",
       "\t MET             & 0.08233561      & estimate\\_boy  &  0.004652845   \\\\\n",
       "\t PHE             & 0.69558953      & estimate\\_boy  &  0.021583876   \\\\\n",
       "\t THR             & 5.75930577      & estimate\\_boy  &  0.108454852   \\\\\n",
       "\t TRP             & 0.01492982      & estimate\\_boy  & -0.001163836   \\\\\n",
       "\t VAL             & 2.98515007      & estimate\\_boy  &  0.072332748   \\\\\n",
       "\t ARG             & 1.16831055      & estimate\\_girl & -0.010846008   \\\\\n",
       "\t HIS             & 1.80873649      & estimate\\_girl &  0.002612866   \\\\\n",
       "\t ILE             & 0.44104761      & estimate\\_girl &  0.015668427   \\\\\n",
       "\t LEU             & 1.63667005      & estimate\\_girl &  0.032661412   \\\\\n",
       "\t LYS             & 1.76403506      & estimate\\_girl & -0.031840262   \\\\\n",
       "\t MET             & 0.08233561      & estimate\\_girl &  0.003823882   \\\\\n",
       "\t PHE             & 0.69558953      & estimate\\_girl &  0.021258453   \\\\\n",
       "\t THR             & 5.75930577      & estimate\\_girl &  0.153076793   \\\\\n",
       "\t TRP             & 0.01492982      & estimate\\_girl & -0.000413382   \\\\\n",
       "\t VAL             & 2.98515007      & estimate\\_girl &  0.072450086   \\\\\n",
       "\\end{tabular}\n"
      ],
      "text/markdown": [
       "\n",
       "AA | estimate.a_0 | sex | estimate | \n",
       "|---|---|---|---|---|---|---|---|---|---|---|---|---|---|---|---|---|---|---|---|\n",
       "| ARG           | 1.16831055    | estimate_boy  | -0.032405848  | \n",
       "| HIS           | 1.80873649    | estimate_boy  |  0.014420854  | \n",
       "| ILE           | 0.44104761    | estimate_boy  |  0.003577430  | \n",
       "| LEU           | 1.63667005    | estimate_boy  |  0.049805045  | \n",
       "| LYS           | 1.76403506    | estimate_boy  | -0.059594968  | \n",
       "| MET           | 0.08233561    | estimate_boy  |  0.004652845  | \n",
       "| PHE           | 0.69558953    | estimate_boy  |  0.021583876  | \n",
       "| THR           | 5.75930577    | estimate_boy  |  0.108454852  | \n",
       "| TRP           | 0.01492982    | estimate_boy  | -0.001163836  | \n",
       "| VAL           | 2.98515007    | estimate_boy  |  0.072332748  | \n",
       "| ARG           | 1.16831055    | estimate_girl | -0.010846008  | \n",
       "| HIS           | 1.80873649    | estimate_girl |  0.002612866  | \n",
       "| ILE           | 0.44104761    | estimate_girl |  0.015668427  | \n",
       "| LEU           | 1.63667005    | estimate_girl |  0.032661412  | \n",
       "| LYS           | 1.76403506    | estimate_girl | -0.031840262  | \n",
       "| MET           | 0.08233561    | estimate_girl |  0.003823882  | \n",
       "| PHE           | 0.69558953    | estimate_girl |  0.021258453  | \n",
       "| THR           | 5.75930577    | estimate_girl |  0.153076793  | \n",
       "| TRP           | 0.01492982    | estimate_girl | -0.000413382  | \n",
       "| VAL           | 2.98515007    | estimate_girl |  0.072450086  | \n",
       "\n",
       "\n"
      ],
      "text/plain": [
       "   AA  estimate.a_0 sex           estimate    \n",
       "1  ARG 1.16831055   estimate_boy  -0.032405848\n",
       "2  HIS 1.80873649   estimate_boy   0.014420854\n",
       "3  ILE 0.44104761   estimate_boy   0.003577430\n",
       "4  LEU 1.63667005   estimate_boy   0.049805045\n",
       "5  LYS 1.76403506   estimate_boy  -0.059594968\n",
       "6  MET 0.08233561   estimate_boy   0.004652845\n",
       "7  PHE 0.69558953   estimate_boy   0.021583876\n",
       "8  THR 5.75930577   estimate_boy   0.108454852\n",
       "9  TRP 0.01492982   estimate_boy  -0.001163836\n",
       "10 VAL 2.98515007   estimate_boy   0.072332748\n",
       "11 ARG 1.16831055   estimate_girl -0.010846008\n",
       "12 HIS 1.80873649   estimate_girl  0.002612866\n",
       "13 ILE 0.44104761   estimate_girl  0.015668427\n",
       "14 LEU 1.63667005   estimate_girl  0.032661412\n",
       "15 LYS 1.76403506   estimate_girl -0.031840262\n",
       "16 MET 0.08233561   estimate_girl  0.003823882\n",
       "17 PHE 0.69558953   estimate_girl  0.021258453\n",
       "18 THR 5.75930577   estimate_girl  0.153076793\n",
       "19 TRP 0.01492982   estimate_girl -0.000413382\n",
       "20 VAL 2.98515007   estimate_girl  0.072450086"
      ]
     },
     "metadata": {},
     "output_type": "display_data"
    },
    {
     "data": {
      "text/html": [
       "<table>\n",
       "<thead><tr><th scope=col>AA</th><th scope=col>estimate.a_0</th><th scope=col>sex</th><th scope=col>estimate</th></tr></thead>\n",
       "<tbody>\n",
       "\t<tr><td>ASP          </td><td> 3.1176259   </td><td>estimate_boy </td><td> 0.159940361 </td></tr>\n",
       "\t<tr><td>ALA          </td><td>16.3290953   </td><td>estimate_boy </td><td> 0.669325536 </td></tr>\n",
       "\t<tr><td>ASN          </td><td> 0.6397583   </td><td>estimate_boy </td><td> 0.002062971 </td></tr>\n",
       "\t<tr><td>CYS          </td><td> 0.8555460   </td><td>estimate_boy </td><td> 0.098553935 </td></tr>\n",
       "\t<tr><td>GLY          </td><td> 6.6789461   </td><td>estimate_boy </td><td> 0.353514499 </td></tr>\n",
       "\t<tr><td>GLU          </td><td>62.0894968   </td><td>estimate_boy </td><td> 3.695463574 </td></tr>\n",
       "\t<tr><td>GLN          </td><td>21.6839891   </td><td>estimate_boy </td><td> 2.429967802 </td></tr>\n",
       "\t<tr><td>PRO          </td><td> 3.0518183   </td><td>estimate_boy </td><td>-0.051868937 </td></tr>\n",
       "\t<tr><td>SER          </td><td> 6.0760260   </td><td>estimate_boy </td><td> 0.422110920 </td></tr>\n",
       "\t<tr><td>TYR          </td><td> 0.7428239   </td><td>estimate_boy </td><td> 0.016743548 </td></tr>\n",
       "\t<tr><td>ASP          </td><td> 3.1176259   </td><td>estimate_girl</td><td> 0.088414553 </td></tr>\n",
       "\t<tr><td>ALA          </td><td>16.3290953   </td><td>estimate_girl</td><td> 0.403477923 </td></tr>\n",
       "\t<tr><td>ASN          </td><td> 0.6397583   </td><td>estimate_girl</td><td>-0.008616085 </td></tr>\n",
       "\t<tr><td>CYS          </td><td> 0.8555460   </td><td>estimate_girl</td><td> 0.074835846 </td></tr>\n",
       "\t<tr><td>GLY          </td><td> 6.6789461   </td><td>estimate_girl</td><td> 0.327704341 </td></tr>\n",
       "\t<tr><td>GLU          </td><td>62.0894968   </td><td>estimate_girl</td><td> 3.056393934 </td></tr>\n",
       "\t<tr><td>GLN          </td><td>21.6839891   </td><td>estimate_girl</td><td> 2.187116258 </td></tr>\n",
       "\t<tr><td>PRO          </td><td> 3.0518183   </td><td>estimate_girl</td><td>-0.044056790 </td></tr>\n",
       "\t<tr><td>SER          </td><td> 6.0760260   </td><td>estimate_girl</td><td> 0.369754547 </td></tr>\n",
       "\t<tr><td>TYR          </td><td> 0.7428239   </td><td>estimate_girl</td><td> 0.008344355 </td></tr>\n",
       "</tbody>\n",
       "</table>\n"
      ],
      "text/latex": [
       "\\begin{tabular}{r|llll}\n",
       " AA & estimate.a\\_0 & sex & estimate\\\\\n",
       "\\hline\n",
       "\t ASP             &  3.1176259      & estimate\\_boy  &  0.159940361   \\\\\n",
       "\t ALA             & 16.3290953      & estimate\\_boy  &  0.669325536   \\\\\n",
       "\t ASN             &  0.6397583      & estimate\\_boy  &  0.002062971   \\\\\n",
       "\t CYS             &  0.8555460      & estimate\\_boy  &  0.098553935   \\\\\n",
       "\t GLY             &  6.6789461      & estimate\\_boy  &  0.353514499   \\\\\n",
       "\t GLU             & 62.0894968      & estimate\\_boy  &  3.695463574   \\\\\n",
       "\t GLN             & 21.6839891      & estimate\\_boy  &  2.429967802   \\\\\n",
       "\t PRO             &  3.0518183      & estimate\\_boy  & -0.051868937   \\\\\n",
       "\t SER             &  6.0760260      & estimate\\_boy  &  0.422110920   \\\\\n",
       "\t TYR             &  0.7428239      & estimate\\_boy  &  0.016743548   \\\\\n",
       "\t ASP             &  3.1176259      & estimate\\_girl &  0.088414553   \\\\\n",
       "\t ALA             & 16.3290953      & estimate\\_girl &  0.403477923   \\\\\n",
       "\t ASN             &  0.6397583      & estimate\\_girl & -0.008616085   \\\\\n",
       "\t CYS             &  0.8555460      & estimate\\_girl &  0.074835846   \\\\\n",
       "\t GLY             &  6.6789461      & estimate\\_girl &  0.327704341   \\\\\n",
       "\t GLU             & 62.0894968      & estimate\\_girl &  3.056393934   \\\\\n",
       "\t GLN             & 21.6839891      & estimate\\_girl &  2.187116258   \\\\\n",
       "\t PRO             &  3.0518183      & estimate\\_girl & -0.044056790   \\\\\n",
       "\t SER             &  6.0760260      & estimate\\_girl &  0.369754547   \\\\\n",
       "\t TYR             &  0.7428239      & estimate\\_girl &  0.008344355   \\\\\n",
       "\\end{tabular}\n"
      ],
      "text/markdown": [
       "\n",
       "AA | estimate.a_0 | sex | estimate | \n",
       "|---|---|---|---|---|---|---|---|---|---|---|---|---|---|---|---|---|---|---|---|\n",
       "| ASP           |  3.1176259    | estimate_boy  |  0.159940361  | \n",
       "| ALA           | 16.3290953    | estimate_boy  |  0.669325536  | \n",
       "| ASN           |  0.6397583    | estimate_boy  |  0.002062971  | \n",
       "| CYS           |  0.8555460    | estimate_boy  |  0.098553935  | \n",
       "| GLY           |  6.6789461    | estimate_boy  |  0.353514499  | \n",
       "| GLU           | 62.0894968    | estimate_boy  |  3.695463574  | \n",
       "| GLN           | 21.6839891    | estimate_boy  |  2.429967802  | \n",
       "| PRO           |  3.0518183    | estimate_boy  | -0.051868937  | \n",
       "| SER           |  6.0760260    | estimate_boy  |  0.422110920  | \n",
       "| TYR           |  0.7428239    | estimate_boy  |  0.016743548  | \n",
       "| ASP           |  3.1176259    | estimate_girl |  0.088414553  | \n",
       "| ALA           | 16.3290953    | estimate_girl |  0.403477923  | \n",
       "| ASN           |  0.6397583    | estimate_girl | -0.008616085  | \n",
       "| CYS           |  0.8555460    | estimate_girl |  0.074835846  | \n",
       "| GLY           |  6.6789461    | estimate_girl |  0.327704341  | \n",
       "| GLU           | 62.0894968    | estimate_girl |  3.056393934  | \n",
       "| GLN           | 21.6839891    | estimate_girl |  2.187116258  | \n",
       "| PRO           |  3.0518183    | estimate_girl | -0.044056790  | \n",
       "| SER           |  6.0760260    | estimate_girl |  0.369754547  | \n",
       "| TYR           |  0.7428239    | estimate_girl |  0.008344355  | \n",
       "\n",
       "\n"
      ],
      "text/plain": [
       "   AA  estimate.a_0 sex           estimate    \n",
       "1  ASP  3.1176259   estimate_boy   0.159940361\n",
       "2  ALA 16.3290953   estimate_boy   0.669325536\n",
       "3  ASN  0.6397583   estimate_boy   0.002062971\n",
       "4  CYS  0.8555460   estimate_boy   0.098553935\n",
       "5  GLY  6.6789461   estimate_boy   0.353514499\n",
       "6  GLU 62.0894968   estimate_boy   3.695463574\n",
       "7  GLN 21.6839891   estimate_boy   2.429967802\n",
       "8  PRO  3.0518183   estimate_boy  -0.051868937\n",
       "9  SER  6.0760260   estimate_boy   0.422110920\n",
       "10 TYR  0.7428239   estimate_boy   0.016743548\n",
       "11 ASP  3.1176259   estimate_girl  0.088414553\n",
       "12 ALA 16.3290953   estimate_girl  0.403477923\n",
       "13 ASN  0.6397583   estimate_girl -0.008616085\n",
       "14 CYS  0.8555460   estimate_girl  0.074835846\n",
       "15 GLY  6.6789461   estimate_girl  0.327704341\n",
       "16 GLU 62.0894968   estimate_girl  3.056393934\n",
       "17 GLN 21.6839891   estimate_girl  2.187116258\n",
       "18 PRO  3.0518183   estimate_girl -0.044056790\n",
       "19 SER  6.0760260   estimate_girl  0.369754547\n",
       "20 TYR  0.7428239   estimate_girl  0.008344355"
      ]
     },
     "metadata": {},
     "output_type": "display_data"
    }
   ],
   "source": [
    "ablines_E_SW <- left_join(sexCoef_E_SW, a_0_E, by = 'AA') %>% select(AA, estimate_boy, estimate_girl, estimate.a_0)\n",
    "ablines_NE_SW <- left_join(sexCoef_NE_SW, a_0_NE, by = 'AA') %>% select(AA, estimate_boy, estimate_girl, estimate.a_0)\n",
    "\n",
    "ablines_E_SW <- ablines_E_SW %>% gather(sex, estimate, 2:3)\n",
    "ablines_NE_SW <- ablines_NE_SW %>% gather(sex, estimate, 2:3)\n",
    "\n",
    "ablines_E_SW\n",
    "ablines_NE_SW"
   ]
  },
  {
   "cell_type": "code",
   "execution_count": 52,
   "metadata": {},
   "outputs": [
    {
     "data": {},
     "metadata": {},
     "output_type": "display_data"
    },
    {
     "data": {
      "text/html": [
       "<strong>png:</strong> 2"
      ],
      "text/latex": [
       "\\textbf{png:} 2"
      ],
      "text/markdown": [
       "**png:** 2"
      ],
      "text/plain": [
       "png \n",
       "  2 "
      ]
     },
     "metadata": {},
     "output_type": "display_data"
    }
   ],
   "source": [
    "png(filename=\"./plots/E_SW_trends.png\", units=\"cm\", width=20, height=20, res = 300)\n",
    "ggplot() + \n",
    "    scale_x_continuous(limits=c(0, 16)) +\n",
    "    scale_y_continuous(limits=c(0, 10)) + \n",
    "    geom_abline(data=ablines_E_SW, size = 1.1, alpha = 0.5,\n",
    "                aes(slope = estimate, intercept = estimate.a_0, color = AA, linetype=sex)) + \n",
    "    facet_wrap(~AA)\n",
    "\n",
    "dev.off()"
   ]
  },
  {
   "cell_type": "code",
   "execution_count": 53,
   "metadata": {},
   "outputs": [
    {
     "data": {},
     "metadata": {},
     "output_type": "display_data"
    },
    {
     "data": {
      "text/html": [
       "<strong>png:</strong> 2"
      ],
      "text/latex": [
       "\\textbf{png:} 2"
      ],
      "text/markdown": [
       "**png:** 2"
      ],
      "text/plain": [
       "png \n",
       "  2 "
      ]
     },
     "metadata": {},
     "output_type": "display_data"
    }
   ],
   "source": [
    "png(filename=\"./plots/NE_SW_trends.png\", units=\"cm\", width=20, height=20, res = 300)\n",
    "ggplot() + \n",
    "    scale_x_continuous(limits=c(0, 16)) +\n",
    "    scale_y_continuous(limits=c(0, 150)) + \n",
    "    geom_abline(data=ablines_NE_SW, size = 1.1, alpha = 0.5,\n",
    "                aes(slope = estimate, intercept = estimate.a_0, color = AA, linetype=sex)) + \n",
    "    facet_wrap(~AA)\n",
    "\n",
    "dev.off()"
   ]
  }
 ],
 "metadata": {
  "kernelspec": {
   "display_name": "R 3.3",
   "language": "R",
   "name": "ir33"
  },
  "language_info": {
   "codemirror_mode": "r",
   "file_extension": ".r",
   "mimetype": "text/x-r-source",
   "name": "R",
   "pygments_lexer": "r",
   "version": "3.3.3"
  }
 },
 "nbformat": 4,
 "nbformat_minor": 2
}
