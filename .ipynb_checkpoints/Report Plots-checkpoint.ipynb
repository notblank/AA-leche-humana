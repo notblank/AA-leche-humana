{
 "cells": [
  {
   "cell_type": "code",
   "execution_count": 1,
   "metadata": {},
   "outputs": [
    {
     "name": "stderr",
     "output_type": "stream",
     "text": [
      "Loading tidyverse: ggplot2\n",
      "Loading tidyverse: tibble\n",
      "Loading tidyverse: tidyr\n",
      "Loading tidyverse: readr\n",
      "Loading tidyverse: purrr\n",
      "Loading tidyverse: dplyr\n",
      "Conflicts with tidy packages ---------------------------------------------------\n",
      "filter(): dplyr, stats\n",
      "lag():    dplyr, stats\n",
      "Loading required package: Matrix\n",
      "\n",
      "Attaching package: 'Matrix'\n",
      "\n",
      "The following object is masked from 'package:tidyr':\n",
      "\n",
      "    expand\n",
      "\n"
     ]
    }
   ],
   "source": [
    "library(haven)\n",
    "library(tidyverse)\n",
    "library(broom)\n",
    "library(lme4) \n",
    "library(latex2exp)"
   ]
  },
  {
   "cell_type": "code",
   "execution_count": 2,
   "metadata": {},
   "outputs": [
    {
     "data": {
      "text/html": [
       "<table>\n",
       "<thead><tr><th scope=col>ID</th><th scope=col>GROUP</th><th scope=col>MATERNALAGE</th><th scope=col>SEXO</th><th scope=col>INFANTDOB</th><th scope=col>MATBMI1COLL</th><th scope=col>MATBMI215d</th><th scope=col>MATBMI32mos</th><th scope=col>MATBMI44mos</th><th scope=col>BABYWeigth1g</th><th scope=col>...</th><th scope=col>ALAGLOB</th><th scope=col>ASNGLOB</th><th scope=col>SYSGLOB</th><th scope=col>GLYGLOB</th><th scope=col>GLUGLOB</th><th scope=col>GLNGLOB</th><th scope=col>PROLINEGLOB</th><th scope=col>SERINEGLOB</th><th scope=col>TYRAMINEGLOB</th><th scope=col>new</th></tr></thead>\n",
       "<tbody>\n",
       "\t<tr><td>1         </td><td>0         </td><td>17        </td><td> 1        </td><td>2009-08-20</td><td>25        </td><td>24        </td><td>24        </td><td>22        </td><td>3492.7    </td><td>...       </td><td>21.25     </td><td>0.5       </td><td>1.00      </td><td>10.00     </td><td> 87.25    </td><td>23.25     </td><td>2.75      </td><td>8.0       </td><td>1.00      </td><td>0         </td></tr>\n",
       "\t<tr><td>2         </td><td>0         </td><td>16        </td><td> 2        </td><td>2009-08-24</td><td>32        </td><td>31        </td><td>30        </td><td>29        </td><td>3392.9    </td><td>...       </td><td>18.25     </td><td>0.0       </td><td>0.75      </td><td>13.75     </td><td>100.50    </td><td>40.50     </td><td>2.50      </td><td>9.5       </td><td>0.75      </td><td>0         </td></tr>\n",
       "\t<tr><td>3         </td><td>0         </td><td>17        </td><td> 2        </td><td>2009-08-21</td><td>23        </td><td>23        </td><td>NA        </td><td>NA        </td><td>2993.8    </td><td>...       </td><td>   NA     </td><td> NA       </td><td>  NA      </td><td>   NA     </td><td>    NA    </td><td>   NA     </td><td>  NA      </td><td> NA       </td><td>  NA      </td><td>0         </td></tr>\n",
       "\t<tr><td>4         </td><td>0         </td><td>16        </td><td> 2        </td><td>2009-08-21</td><td>26        </td><td>NA        </td><td>NA        </td><td>NA        </td><td>3692.3    </td><td>...       </td><td>   NA     </td><td> NA       </td><td>  NA      </td><td>   NA     </td><td>    NA    </td><td>   NA     </td><td>  NA      </td><td> NA       </td><td>  NA      </td><td>0         </td></tr>\n",
       "\t<tr><td>5         </td><td>0         </td><td>16        </td><td>NA        </td><td>2009-08-29</td><td>25        </td><td>NA        </td><td>NA        </td><td>NA        </td><td>3592.5    </td><td>...       </td><td>   NA     </td><td> NA       </td><td>  NA      </td><td>   NA     </td><td>    NA    </td><td>   NA     </td><td>  NA      </td><td> NA       </td><td>  NA      </td><td>0         </td></tr>\n",
       "\t<tr><td>6         </td><td>0         </td><td>16        </td><td> 2        </td><td>2009-08-27</td><td>29        </td><td>28        </td><td>30        </td><td>31        </td><td>3093.5    </td><td>...       </td><td>15.50     </td><td>0.5       </td><td>1.50      </td><td>10.25     </td><td> 74.75    </td><td>30.00     </td><td>5.25      </td><td>8.0       </td><td>2.00      </td><td>0         </td></tr>\n",
       "</tbody>\n",
       "</table>\n"
      ],
      "text/latex": [
       "\\begin{tabular}{r|lllllllllllllllllllllllllllllllllllllllllllllllllllllllllllllllllllllllllllllllllllllllllllllllllllllllllllllllllllllllllllllllllllllllllllllllllllllllllllllllllllllllllll}\n",
       " ID & GROUP & MATERNALAGE & SEXO & INFANTDOB & MATBMI1COLL & MATBMI215d & MATBMI32mos & MATBMI44mos & BABYWeigth1g & ... & ALAGLOB & ASNGLOB & SYSGLOB & GLYGLOB & GLUGLOB & GLNGLOB & PROLINEGLOB & SERINEGLOB & TYRAMINEGLOB & new\\\\\n",
       "\\hline\n",
       "\t 1          & 0          & 17         &  1         & 2009-08-20 & 25         & 24         & 24         & 22         & 3492.7     & ...        & 21.25      & 0.5        & 1.00       & 10.00      &  87.25     & 23.25      & 2.75       & 8.0        & 1.00       & 0         \\\\\n",
       "\t 2          & 0          & 16         &  2         & 2009-08-24 & 32         & 31         & 30         & 29         & 3392.9     & ...        & 18.25      & 0.0        & 0.75       & 13.75      & 100.50     & 40.50      & 2.50       & 9.5        & 0.75       & 0         \\\\\n",
       "\t 3          & 0          & 17         &  2         & 2009-08-21 & 23         & 23         & NA         & NA         & 2993.8     & ...        &    NA      &  NA        &   NA       &    NA      &     NA     &    NA      &   NA       &  NA        &   NA       & 0         \\\\\n",
       "\t 4          & 0          & 16         &  2         & 2009-08-21 & 26         & NA         & NA         & NA         & 3692.3     & ...        &    NA      &  NA        &   NA       &    NA      &     NA     &    NA      &   NA       &  NA        &   NA       & 0         \\\\\n",
       "\t 5          & 0          & 16         & NA         & 2009-08-29 & 25         & NA         & NA         & NA         & 3592.5     & ...        &    NA      &  NA        &   NA       &    NA      &     NA     &    NA      &   NA       &  NA        &   NA       & 0         \\\\\n",
       "\t 6          & 0          & 16         &  2         & 2009-08-27 & 29         & 28         & 30         & 31         & 3093.5     & ...        & 15.50      & 0.5        & 1.50       & 10.25      &  74.75     & 30.00      & 5.25       & 8.0        & 2.00       & 0         \\\\\n",
       "\\end{tabular}\n"
      ],
      "text/markdown": [
       "\n",
       "ID | GROUP | MATERNALAGE | SEXO | INFANTDOB | MATBMI1COLL | MATBMI215d | MATBMI32mos | MATBMI44mos | BABYWeigth1g | ... | ALAGLOB | ASNGLOB | SYSGLOB | GLYGLOB | GLUGLOB | GLNGLOB | PROLINEGLOB | SERINEGLOB | TYRAMINEGLOB | new | \n",
       "|---|---|---|---|---|---|\n",
       "| 1          | 0          | 17         |  1         | 2009-08-20 | 25         | 24         | 24         | 22         | 3492.7     | ...        | 21.25      | 0.5        | 1.00       | 10.00      |  87.25     | 23.25      | 2.75       | 8.0        | 1.00       | 0          | \n",
       "| 2          | 0          | 16         |  2         | 2009-08-24 | 32         | 31         | 30         | 29         | 3392.9     | ...        | 18.25      | 0.0        | 0.75       | 13.75      | 100.50     | 40.50      | 2.50       | 9.5        | 0.75       | 0          | \n",
       "| 3          | 0          | 17         |  2         | 2009-08-21 | 23         | 23         | NA         | NA         | 2993.8     | ...        |    NA      |  NA        |   NA       |    NA      |     NA     |    NA      |   NA       |  NA        |   NA       | 0          | \n",
       "| 4          | 0          | 16         |  2         | 2009-08-21 | 26         | NA         | NA         | NA         | 3692.3     | ...        |    NA      |  NA        |   NA       |    NA      |     NA     |    NA      |   NA       |  NA        |   NA       | 0          | \n",
       "| 5          | 0          | 16         | NA         | 2009-08-29 | 25         | NA         | NA         | NA         | 3592.5     | ...        |    NA      |  NA        |   NA       |    NA      |     NA     |    NA      |   NA       |  NA        |   NA       | 0          | \n",
       "| 6          | 0          | 16         |  2         | 2009-08-27 | 29         | 28         | 30         | 31         | 3093.5     | ...        | 15.50      | 0.5        | 1.50       | 10.25      |  74.75     | 30.00      | 5.25       | 8.0        | 2.00       | 0          | \n",
       "\n",
       "\n"
      ],
      "text/plain": [
       "  ID GROUP MATERNALAGE SEXO INFANTDOB  MATBMI1COLL MATBMI215d MATBMI32mos\n",
       "1 1  0     17           1   2009-08-20 25          24         24         \n",
       "2 2  0     16           2   2009-08-24 32          31         30         \n",
       "3 3  0     17           2   2009-08-21 23          23         NA         \n",
       "4 4  0     16           2   2009-08-21 26          NA         NA         \n",
       "5 5  0     16          NA   2009-08-29 25          NA         NA         \n",
       "6 6  0     16           2   2009-08-27 29          28         30         \n",
       "  MATBMI44mos BABYWeigth1g ... ALAGLOB ASNGLOB SYSGLOB GLYGLOB GLUGLOB GLNGLOB\n",
       "1 22          3492.7       ... 21.25   0.5     1.00    10.00    87.25  23.25  \n",
       "2 29          3392.9       ... 18.25   0.0     0.75    13.75   100.50  40.50  \n",
       "3 NA          2993.8       ...    NA    NA       NA       NA       NA     NA  \n",
       "4 NA          3692.3       ...    NA    NA       NA       NA       NA     NA  \n",
       "5 NA          3592.5       ...    NA    NA       NA       NA       NA     NA  \n",
       "6 31          3093.5       ... 15.50   0.5     1.50    10.25    74.75  30.00  \n",
       "  PROLINEGLOB SERINEGLOB TYRAMINEGLOB new\n",
       "1 2.75        8.0        1.00         0  \n",
       "2 2.50        9.5        0.75         0  \n",
       "3   NA         NA          NA         0  \n",
       "4   NA         NA          NA         0  \n",
       "5   NA         NA          NA         0  \n",
       "6 5.25        8.0        2.00         0  "
      ]
     },
     "metadata": {},
     "output_type": "display_data"
    }
   ],
   "source": [
    "AA_Sex_1 <- read_sav(\"C:/Users/Personal/AA leche/datos/AMINOACIDOS POR SEXO_1.sav\")\n",
    "head(AA_Sex_1) "
   ]
  },
  {
   "cell_type": "code",
   "execution_count": 3,
   "metadata": {},
   "outputs": [
    {
     "data": {
      "text/html": [
       "<ol class=list-inline>\n",
       "\t<li>'ID'</li>\n",
       "\t<li>'GROUP'</li>\n",
       "\t<li>'MATERNALAGE'</li>\n",
       "\t<li>'SEXO'</li>\n",
       "\t<li>'INFANTDOB'</li>\n",
       "\t<li>'MATBMI1COLL'</li>\n",
       "\t<li>'MATBMI215d'</li>\n",
       "\t<li>'MATBMI32mos'</li>\n",
       "\t<li>'MATBMI44mos'</li>\n",
       "\t<li>'BABYWeigth1g'</li>\n",
       "\t<li>'BABYWeigth2g'</li>\n",
       "\t<li>'BABYWeigth3g'</li>\n",
       "\t<li>'BABYWeigth4g'</li>\n",
       "\t<li>'HeadCircumcm1'</li>\n",
       "\t<li>'HCcm2'</li>\n",
       "\t<li>'HCcm3'</li>\n",
       "\t<li>'HCcm4'</li>\n",
       "\t<li>'MATHeight1m'</li>\n",
       "\t<li>'MATHeight2m'</li>\n",
       "\t<li>'MATHeight3m'</li>\n",
       "\t<li>'MATHeight4m'</li>\n",
       "\t<li>'MATWeight1kg'</li>\n",
       "\t<li>'MATWeight2kg'</li>\n",
       "\t<li>'MATWeight3kg'</li>\n",
       "\t<li>'MATWeight4kg'</li>\n",
       "\t<li>'A.TOTALCALORIESKcal'</li>\n",
       "\t<li>'B.TOTALCALORIESKcal'</li>\n",
       "\t<li>'A.PROTEINg'</li>\n",
       "\t<li>'B.PROTEINg'</li>\n",
       "\t<li>'A.CHOg'</li>\n",
       "\t<li>'B.CHOg'</li>\n",
       "\t<li>'A.LIPIDSg'</li>\n",
       "\t<li>'B.LIPIDSg'</li>\n",
       "\t<li>'A.GLUCOSEmgdL'</li>\n",
       "\t<li>'B.GLUCOSEmgdL'</li>\n",
       "\t<li>'A.CHOLESTEROLmgdL'</li>\n",
       "\t<li>'B.CHOLESTEROLmgdL'</li>\n",
       "\t<li>'A.TRIGLYCERIDSmgdL'</li>\n",
       "\t<li>'B.TRIGLYCERIDmgdL'</li>\n",
       "\t<li>'A.HDLmgdL'</li>\n",
       "\t<li>'B.HDLmgdL'</li>\n",
       "\t<li>'A.LDLmgdL'</li>\n",
       "\t<li>'B.LDLmgdL'</li>\n",
       "\t<li>'A.PROTEINSgdL'</li>\n",
       "\t<li>'B.PROTEINSgdL'</li>\n",
       "\t<li>'A.ALBUMINgdL'</li>\n",
       "\t<li>'B.ALBUMINgdL'</li>\n",
       "\t<li>'edadr'</li>\n",
       "\t<li>'Grupos'</li>\n",
       "\t<li>'CALOSTRUMtotalAA'</li>\n",
       "\t<li>'TRANSITIONtotalAA'</li>\n",
       "\t<li>'MATURE2mtotalAA'</li>\n",
       "\t<li>'MATURE4mtotalAA'</li>\n",
       "\t<li>'CALOSTRUMessentialAA'</li>\n",
       "\t<li>'TRANSITIONessentialAA'</li>\n",
       "\t<li>'MATURE2messentialAA'</li>\n",
       "\t<li>'MATURE4messentialAA'</li>\n",
       "\t<li>'ARGCalostrum'</li>\n",
       "\t<li>'ARGTransition'</li>\n",
       "\t<li>'ARGMature2m'</li>\n",
       "\t<li>'ARGMature4m'</li>\n",
       "\t<li>'HISCalostrum'</li>\n",
       "\t<li>'HISTransition'</li>\n",
       "\t<li>'HISMature2m'</li>\n",
       "\t<li>'HISMature4m'</li>\n",
       "\t<li>'ILECalostrum'</li>\n",
       "\t<li>'ILETransition'</li>\n",
       "\t<li>'ILEMature2m'</li>\n",
       "\t<li>'ILEMature4m'</li>\n",
       "\t<li>'LEUCalostrum'</li>\n",
       "\t<li>'LEUTransition'</li>\n",
       "\t<li>'LEUMature2m'</li>\n",
       "\t<li>'LEUMature4m'</li>\n",
       "\t<li>'LYSCalostrum'</li>\n",
       "\t<li>'LYSTransition'</li>\n",
       "\t<li>'LYSMature2m'</li>\n",
       "\t<li>'LYSMature4m'</li>\n",
       "\t<li>'METCalostrum'</li>\n",
       "\t<li>'METTransition'</li>\n",
       "\t<li>'METMature2m'</li>\n",
       "\t<li>'METMature4m'</li>\n",
       "\t<li>'PHECalostrum'</li>\n",
       "\t<li>'PHETransition'</li>\n",
       "\t<li>'PHEMature2m'</li>\n",
       "\t<li>'PHEMature4m'</li>\n",
       "\t<li>'THRCalostrum'</li>\n",
       "\t<li>'THRTransition'</li>\n",
       "\t<li>'THRMature2m'</li>\n",
       "\t<li>'THRMature4m'</li>\n",
       "\t<li>'TRPCalostrum'</li>\n",
       "\t<li>'TRPTransition'</li>\n",
       "\t<li>'TRPMature2m'</li>\n",
       "\t<li>'TRPMature4m'</li>\n",
       "\t<li>'VALCalostrum'</li>\n",
       "\t<li>'VALTransition'</li>\n",
       "\t<li>'VALMature2m'</li>\n",
       "\t<li>'VALMature4m'</li>\n",
       "\t<li>'CALOSTRUMnonessentialAA'</li>\n",
       "\t<li>'TRANSITIONnonessentialAA'</li>\n",
       "\t<li>'MATURE2mnonessentialAA'</li>\n",
       "\t<li>'MATURE4mnonessentialAA'</li>\n",
       "\t<li>'ASPCalostrum'</li>\n",
       "\t<li>'ASPTransition'</li>\n",
       "\t<li>'ASPMature2m'</li>\n",
       "\t<li>'ASPMature4m'</li>\n",
       "\t<li>'ALACalostrum'</li>\n",
       "\t<li>'ALATransition'</li>\n",
       "\t<li>'ALAMature2m'</li>\n",
       "\t<li>'ALAMature4m'</li>\n",
       "\t<li>'ASNCalostrum'</li>\n",
       "\t<li>'ASNTransition'</li>\n",
       "\t<li>'ASNMature2m'</li>\n",
       "\t<li>'ASNMature4m'</li>\n",
       "\t<li>'CYSCalostrum'</li>\n",
       "\t<li>'CYSTransition'</li>\n",
       "\t<li>'CYSMature2m'</li>\n",
       "\t<li>'CYSMature4m'</li>\n",
       "\t<li>'GLYCalostrum'</li>\n",
       "\t<li>'GLYTransition'</li>\n",
       "\t<li>'GLYMature2m'</li>\n",
       "\t<li>'GLYMature4m'</li>\n",
       "\t<li>'GLUCalostrum'</li>\n",
       "\t<li>'GLUTransition'</li>\n",
       "\t<li>'GLUMature2m'</li>\n",
       "\t<li>'GLUMature4m'</li>\n",
       "\t<li>'GLNCalostrum'</li>\n",
       "\t<li>'GLNTransition'</li>\n",
       "\t<li>'GLNMature2m'</li>\n",
       "\t<li>'GLNMature4m'</li>\n",
       "\t<li>'PROCalostrum'</li>\n",
       "\t<li>'PROTransition'</li>\n",
       "\t<li>'PROMature2m'</li>\n",
       "\t<li>'PROMature4m'</li>\n",
       "\t<li>'SERCalostrum'</li>\n",
       "\t<li>'SERTransition'</li>\n",
       "\t<li>'SERMature2m'</li>\n",
       "\t<li>'SERMature4m'</li>\n",
       "\t<li>'TYRCalostrum'</li>\n",
       "\t<li>'TYRTransition'</li>\n",
       "\t<li>'TYRMature2m'</li>\n",
       "\t<li>'TYRMature4m'</li>\n",
       "\t<li>'filter_$'</li>\n",
       "\t<li>'CAL1NONE'</li>\n",
       "\t<li>'TRANS2NONE'</li>\n",
       "\t<li>'MAT3NONE'</li>\n",
       "\t<li>'MAT4NONE'</li>\n",
       "\t<li>'ADOEXTR'</li>\n",
       "\t<li>'TotalAAGLOB'</li>\n",
       "\t<li>'EssentAAGLOB'</li>\n",
       "\t<li>'ARGGLOB'</li>\n",
       "\t<li>'HISTGLOB'</li>\n",
       "\t<li>'ISOLGLOB'</li>\n",
       "\t<li>'LEUCINEGLOB'</li>\n",
       "\t<li>'LYSINEGLOB'</li>\n",
       "\t<li>'METHIONGLOB'</li>\n",
       "\t<li>'PHENYLGLOB'</li>\n",
       "\t<li>'THREOGLOB'</li>\n",
       "\t<li>'TRYPTOGLOB'</li>\n",
       "\t<li>'VALINEGLOB'</li>\n",
       "\t<li>'NONESSENGLOB'</li>\n",
       "\t<li>'ASPGLOB'</li>\n",
       "\t<li>'ALAGLOB'</li>\n",
       "\t<li>'ASNGLOB'</li>\n",
       "\t<li>'SYSGLOB'</li>\n",
       "\t<li>'GLYGLOB'</li>\n",
       "\t<li>'GLUGLOB'</li>\n",
       "\t<li>'GLNGLOB'</li>\n",
       "\t<li>'PROLINEGLOB'</li>\n",
       "\t<li>'SERINEGLOB'</li>\n",
       "\t<li>'TYRAMINEGLOB'</li>\n",
       "\t<li>'new'</li>\n",
       "</ol>\n"
      ],
      "text/latex": [
       "\\begin{enumerate*}\n",
       "\\item 'ID'\n",
       "\\item 'GROUP'\n",
       "\\item 'MATERNALAGE'\n",
       "\\item 'SEXO'\n",
       "\\item 'INFANTDOB'\n",
       "\\item 'MATBMI1COLL'\n",
       "\\item 'MATBMI215d'\n",
       "\\item 'MATBMI32mos'\n",
       "\\item 'MATBMI44mos'\n",
       "\\item 'BABYWeigth1g'\n",
       "\\item 'BABYWeigth2g'\n",
       "\\item 'BABYWeigth3g'\n",
       "\\item 'BABYWeigth4g'\n",
       "\\item 'HeadCircumcm1'\n",
       "\\item 'HCcm2'\n",
       "\\item 'HCcm3'\n",
       "\\item 'HCcm4'\n",
       "\\item 'MATHeight1m'\n",
       "\\item 'MATHeight2m'\n",
       "\\item 'MATHeight3m'\n",
       "\\item 'MATHeight4m'\n",
       "\\item 'MATWeight1kg'\n",
       "\\item 'MATWeight2kg'\n",
       "\\item 'MATWeight3kg'\n",
       "\\item 'MATWeight4kg'\n",
       "\\item 'A.TOTALCALORIESKcal'\n",
       "\\item 'B.TOTALCALORIESKcal'\n",
       "\\item 'A.PROTEINg'\n",
       "\\item 'B.PROTEINg'\n",
       "\\item 'A.CHOg'\n",
       "\\item 'B.CHOg'\n",
       "\\item 'A.LIPIDSg'\n",
       "\\item 'B.LIPIDSg'\n",
       "\\item 'A.GLUCOSEmgdL'\n",
       "\\item 'B.GLUCOSEmgdL'\n",
       "\\item 'A.CHOLESTEROLmgdL'\n",
       "\\item 'B.CHOLESTEROLmgdL'\n",
       "\\item 'A.TRIGLYCERIDSmgdL'\n",
       "\\item 'B.TRIGLYCERIDmgdL'\n",
       "\\item 'A.HDLmgdL'\n",
       "\\item 'B.HDLmgdL'\n",
       "\\item 'A.LDLmgdL'\n",
       "\\item 'B.LDLmgdL'\n",
       "\\item 'A.PROTEINSgdL'\n",
       "\\item 'B.PROTEINSgdL'\n",
       "\\item 'A.ALBUMINgdL'\n",
       "\\item 'B.ALBUMINgdL'\n",
       "\\item 'edadr'\n",
       "\\item 'Grupos'\n",
       "\\item 'CALOSTRUMtotalAA'\n",
       "\\item 'TRANSITIONtotalAA'\n",
       "\\item 'MATURE2mtotalAA'\n",
       "\\item 'MATURE4mtotalAA'\n",
       "\\item 'CALOSTRUMessentialAA'\n",
       "\\item 'TRANSITIONessentialAA'\n",
       "\\item 'MATURE2messentialAA'\n",
       "\\item 'MATURE4messentialAA'\n",
       "\\item 'ARGCalostrum'\n",
       "\\item 'ARGTransition'\n",
       "\\item 'ARGMature2m'\n",
       "\\item 'ARGMature4m'\n",
       "\\item 'HISCalostrum'\n",
       "\\item 'HISTransition'\n",
       "\\item 'HISMature2m'\n",
       "\\item 'HISMature4m'\n",
       "\\item 'ILECalostrum'\n",
       "\\item 'ILETransition'\n",
       "\\item 'ILEMature2m'\n",
       "\\item 'ILEMature4m'\n",
       "\\item 'LEUCalostrum'\n",
       "\\item 'LEUTransition'\n",
       "\\item 'LEUMature2m'\n",
       "\\item 'LEUMature4m'\n",
       "\\item 'LYSCalostrum'\n",
       "\\item 'LYSTransition'\n",
       "\\item 'LYSMature2m'\n",
       "\\item 'LYSMature4m'\n",
       "\\item 'METCalostrum'\n",
       "\\item 'METTransition'\n",
       "\\item 'METMature2m'\n",
       "\\item 'METMature4m'\n",
       "\\item 'PHECalostrum'\n",
       "\\item 'PHETransition'\n",
       "\\item 'PHEMature2m'\n",
       "\\item 'PHEMature4m'\n",
       "\\item 'THRCalostrum'\n",
       "\\item 'THRTransition'\n",
       "\\item 'THRMature2m'\n",
       "\\item 'THRMature4m'\n",
       "\\item 'TRPCalostrum'\n",
       "\\item 'TRPTransition'\n",
       "\\item 'TRPMature2m'\n",
       "\\item 'TRPMature4m'\n",
       "\\item 'VALCalostrum'\n",
       "\\item 'VALTransition'\n",
       "\\item 'VALMature2m'\n",
       "\\item 'VALMature4m'\n",
       "\\item 'CALOSTRUMnonessentialAA'\n",
       "\\item 'TRANSITIONnonessentialAA'\n",
       "\\item 'MATURE2mnonessentialAA'\n",
       "\\item 'MATURE4mnonessentialAA'\n",
       "\\item 'ASPCalostrum'\n",
       "\\item 'ASPTransition'\n",
       "\\item 'ASPMature2m'\n",
       "\\item 'ASPMature4m'\n",
       "\\item 'ALACalostrum'\n",
       "\\item 'ALATransition'\n",
       "\\item 'ALAMature2m'\n",
       "\\item 'ALAMature4m'\n",
       "\\item 'ASNCalostrum'\n",
       "\\item 'ASNTransition'\n",
       "\\item 'ASNMature2m'\n",
       "\\item 'ASNMature4m'\n",
       "\\item 'CYSCalostrum'\n",
       "\\item 'CYSTransition'\n",
       "\\item 'CYSMature2m'\n",
       "\\item 'CYSMature4m'\n",
       "\\item 'GLYCalostrum'\n",
       "\\item 'GLYTransition'\n",
       "\\item 'GLYMature2m'\n",
       "\\item 'GLYMature4m'\n",
       "\\item 'GLUCalostrum'\n",
       "\\item 'GLUTransition'\n",
       "\\item 'GLUMature2m'\n",
       "\\item 'GLUMature4m'\n",
       "\\item 'GLNCalostrum'\n",
       "\\item 'GLNTransition'\n",
       "\\item 'GLNMature2m'\n",
       "\\item 'GLNMature4m'\n",
       "\\item 'PROCalostrum'\n",
       "\\item 'PROTransition'\n",
       "\\item 'PROMature2m'\n",
       "\\item 'PROMature4m'\n",
       "\\item 'SERCalostrum'\n",
       "\\item 'SERTransition'\n",
       "\\item 'SERMature2m'\n",
       "\\item 'SERMature4m'\n",
       "\\item 'TYRCalostrum'\n",
       "\\item 'TYRTransition'\n",
       "\\item 'TYRMature2m'\n",
       "\\item 'TYRMature4m'\n",
       "\\item 'filter\\_\\$'\n",
       "\\item 'CAL1NONE'\n",
       "\\item 'TRANS2NONE'\n",
       "\\item 'MAT3NONE'\n",
       "\\item 'MAT4NONE'\n",
       "\\item 'ADOEXTR'\n",
       "\\item 'TotalAAGLOB'\n",
       "\\item 'EssentAAGLOB'\n",
       "\\item 'ARGGLOB'\n",
       "\\item 'HISTGLOB'\n",
       "\\item 'ISOLGLOB'\n",
       "\\item 'LEUCINEGLOB'\n",
       "\\item 'LYSINEGLOB'\n",
       "\\item 'METHIONGLOB'\n",
       "\\item 'PHENYLGLOB'\n",
       "\\item 'THREOGLOB'\n",
       "\\item 'TRYPTOGLOB'\n",
       "\\item 'VALINEGLOB'\n",
       "\\item 'NONESSENGLOB'\n",
       "\\item 'ASPGLOB'\n",
       "\\item 'ALAGLOB'\n",
       "\\item 'ASNGLOB'\n",
       "\\item 'SYSGLOB'\n",
       "\\item 'GLYGLOB'\n",
       "\\item 'GLUGLOB'\n",
       "\\item 'GLNGLOB'\n",
       "\\item 'PROLINEGLOB'\n",
       "\\item 'SERINEGLOB'\n",
       "\\item 'TYRAMINEGLOB'\n",
       "\\item 'new'\n",
       "\\end{enumerate*}\n"
      ],
      "text/markdown": [
       "1. 'ID'\n",
       "2. 'GROUP'\n",
       "3. 'MATERNALAGE'\n",
       "4. 'SEXO'\n",
       "5. 'INFANTDOB'\n",
       "6. 'MATBMI1COLL'\n",
       "7. 'MATBMI215d'\n",
       "8. 'MATBMI32mos'\n",
       "9. 'MATBMI44mos'\n",
       "10. 'BABYWeigth1g'\n",
       "11. 'BABYWeigth2g'\n",
       "12. 'BABYWeigth3g'\n",
       "13. 'BABYWeigth4g'\n",
       "14. 'HeadCircumcm1'\n",
       "15. 'HCcm2'\n",
       "16. 'HCcm3'\n",
       "17. 'HCcm4'\n",
       "18. 'MATHeight1m'\n",
       "19. 'MATHeight2m'\n",
       "20. 'MATHeight3m'\n",
       "21. 'MATHeight4m'\n",
       "22. 'MATWeight1kg'\n",
       "23. 'MATWeight2kg'\n",
       "24. 'MATWeight3kg'\n",
       "25. 'MATWeight4kg'\n",
       "26. 'A.TOTALCALORIESKcal'\n",
       "27. 'B.TOTALCALORIESKcal'\n",
       "28. 'A.PROTEINg'\n",
       "29. 'B.PROTEINg'\n",
       "30. 'A.CHOg'\n",
       "31. 'B.CHOg'\n",
       "32. 'A.LIPIDSg'\n",
       "33. 'B.LIPIDSg'\n",
       "34. 'A.GLUCOSEmgdL'\n",
       "35. 'B.GLUCOSEmgdL'\n",
       "36. 'A.CHOLESTEROLmgdL'\n",
       "37. 'B.CHOLESTEROLmgdL'\n",
       "38. 'A.TRIGLYCERIDSmgdL'\n",
       "39. 'B.TRIGLYCERIDmgdL'\n",
       "40. 'A.HDLmgdL'\n",
       "41. 'B.HDLmgdL'\n",
       "42. 'A.LDLmgdL'\n",
       "43. 'B.LDLmgdL'\n",
       "44. 'A.PROTEINSgdL'\n",
       "45. 'B.PROTEINSgdL'\n",
       "46. 'A.ALBUMINgdL'\n",
       "47. 'B.ALBUMINgdL'\n",
       "48. 'edadr'\n",
       "49. 'Grupos'\n",
       "50. 'CALOSTRUMtotalAA'\n",
       "51. 'TRANSITIONtotalAA'\n",
       "52. 'MATURE2mtotalAA'\n",
       "53. 'MATURE4mtotalAA'\n",
       "54. 'CALOSTRUMessentialAA'\n",
       "55. 'TRANSITIONessentialAA'\n",
       "56. 'MATURE2messentialAA'\n",
       "57. 'MATURE4messentialAA'\n",
       "58. 'ARGCalostrum'\n",
       "59. 'ARGTransition'\n",
       "60. 'ARGMature2m'\n",
       "61. 'ARGMature4m'\n",
       "62. 'HISCalostrum'\n",
       "63. 'HISTransition'\n",
       "64. 'HISMature2m'\n",
       "65. 'HISMature4m'\n",
       "66. 'ILECalostrum'\n",
       "67. 'ILETransition'\n",
       "68. 'ILEMature2m'\n",
       "69. 'ILEMature4m'\n",
       "70. 'LEUCalostrum'\n",
       "71. 'LEUTransition'\n",
       "72. 'LEUMature2m'\n",
       "73. 'LEUMature4m'\n",
       "74. 'LYSCalostrum'\n",
       "75. 'LYSTransition'\n",
       "76. 'LYSMature2m'\n",
       "77. 'LYSMature4m'\n",
       "78. 'METCalostrum'\n",
       "79. 'METTransition'\n",
       "80. 'METMature2m'\n",
       "81. 'METMature4m'\n",
       "82. 'PHECalostrum'\n",
       "83. 'PHETransition'\n",
       "84. 'PHEMature2m'\n",
       "85. 'PHEMature4m'\n",
       "86. 'THRCalostrum'\n",
       "87. 'THRTransition'\n",
       "88. 'THRMature2m'\n",
       "89. 'THRMature4m'\n",
       "90. 'TRPCalostrum'\n",
       "91. 'TRPTransition'\n",
       "92. 'TRPMature2m'\n",
       "93. 'TRPMature4m'\n",
       "94. 'VALCalostrum'\n",
       "95. 'VALTransition'\n",
       "96. 'VALMature2m'\n",
       "97. 'VALMature4m'\n",
       "98. 'CALOSTRUMnonessentialAA'\n",
       "99. 'TRANSITIONnonessentialAA'\n",
       "100. 'MATURE2mnonessentialAA'\n",
       "101. 'MATURE4mnonessentialAA'\n",
       "102. 'ASPCalostrum'\n",
       "103. 'ASPTransition'\n",
       "104. 'ASPMature2m'\n",
       "105. 'ASPMature4m'\n",
       "106. 'ALACalostrum'\n",
       "107. 'ALATransition'\n",
       "108. 'ALAMature2m'\n",
       "109. 'ALAMature4m'\n",
       "110. 'ASNCalostrum'\n",
       "111. 'ASNTransition'\n",
       "112. 'ASNMature2m'\n",
       "113. 'ASNMature4m'\n",
       "114. 'CYSCalostrum'\n",
       "115. 'CYSTransition'\n",
       "116. 'CYSMature2m'\n",
       "117. 'CYSMature4m'\n",
       "118. 'GLYCalostrum'\n",
       "119. 'GLYTransition'\n",
       "120. 'GLYMature2m'\n",
       "121. 'GLYMature4m'\n",
       "122. 'GLUCalostrum'\n",
       "123. 'GLUTransition'\n",
       "124. 'GLUMature2m'\n",
       "125. 'GLUMature4m'\n",
       "126. 'GLNCalostrum'\n",
       "127. 'GLNTransition'\n",
       "128. 'GLNMature2m'\n",
       "129. 'GLNMature4m'\n",
       "130. 'PROCalostrum'\n",
       "131. 'PROTransition'\n",
       "132. 'PROMature2m'\n",
       "133. 'PROMature4m'\n",
       "134. 'SERCalostrum'\n",
       "135. 'SERTransition'\n",
       "136. 'SERMature2m'\n",
       "137. 'SERMature4m'\n",
       "138. 'TYRCalostrum'\n",
       "139. 'TYRTransition'\n",
       "140. 'TYRMature2m'\n",
       "141. 'TYRMature4m'\n",
       "142. 'filter_$'\n",
       "143. 'CAL1NONE'\n",
       "144. 'TRANS2NONE'\n",
       "145. 'MAT3NONE'\n",
       "146. 'MAT4NONE'\n",
       "147. 'ADOEXTR'\n",
       "148. 'TotalAAGLOB'\n",
       "149. 'EssentAAGLOB'\n",
       "150. 'ARGGLOB'\n",
       "151. 'HISTGLOB'\n",
       "152. 'ISOLGLOB'\n",
       "153. 'LEUCINEGLOB'\n",
       "154. 'LYSINEGLOB'\n",
       "155. 'METHIONGLOB'\n",
       "156. 'PHENYLGLOB'\n",
       "157. 'THREOGLOB'\n",
       "158. 'TRYPTOGLOB'\n",
       "159. 'VALINEGLOB'\n",
       "160. 'NONESSENGLOB'\n",
       "161. 'ASPGLOB'\n",
       "162. 'ALAGLOB'\n",
       "163. 'ASNGLOB'\n",
       "164. 'SYSGLOB'\n",
       "165. 'GLYGLOB'\n",
       "166. 'GLUGLOB'\n",
       "167. 'GLNGLOB'\n",
       "168. 'PROLINEGLOB'\n",
       "169. 'SERINEGLOB'\n",
       "170. 'TYRAMINEGLOB'\n",
       "171. 'new'\n",
       "\n",
       "\n"
      ],
      "text/plain": [
       "  [1] \"ID\"                       \"GROUP\"                   \n",
       "  [3] \"MATERNALAGE\"              \"SEXO\"                    \n",
       "  [5] \"INFANTDOB\"                \"MATBMI1COLL\"             \n",
       "  [7] \"MATBMI215d\"               \"MATBMI32mos\"             \n",
       "  [9] \"MATBMI44mos\"              \"BABYWeigth1g\"            \n",
       " [11] \"BABYWeigth2g\"             \"BABYWeigth3g\"            \n",
       " [13] \"BABYWeigth4g\"             \"HeadCircumcm1\"           \n",
       " [15] \"HCcm2\"                    \"HCcm3\"                   \n",
       " [17] \"HCcm4\"                    \"MATHeight1m\"             \n",
       " [19] \"MATHeight2m\"              \"MATHeight3m\"             \n",
       " [21] \"MATHeight4m\"              \"MATWeight1kg\"            \n",
       " [23] \"MATWeight2kg\"             \"MATWeight3kg\"            \n",
       " [25] \"MATWeight4kg\"             \"A.TOTALCALORIESKcal\"     \n",
       " [27] \"B.TOTALCALORIESKcal\"      \"A.PROTEINg\"              \n",
       " [29] \"B.PROTEINg\"               \"A.CHOg\"                  \n",
       " [31] \"B.CHOg\"                   \"A.LIPIDSg\"               \n",
       " [33] \"B.LIPIDSg\"                \"A.GLUCOSEmgdL\"           \n",
       " [35] \"B.GLUCOSEmgdL\"            \"A.CHOLESTEROLmgdL\"       \n",
       " [37] \"B.CHOLESTEROLmgdL\"        \"A.TRIGLYCERIDSmgdL\"      \n",
       " [39] \"B.TRIGLYCERIDmgdL\"        \"A.HDLmgdL\"               \n",
       " [41] \"B.HDLmgdL\"                \"A.LDLmgdL\"               \n",
       " [43] \"B.LDLmgdL\"                \"A.PROTEINSgdL\"           \n",
       " [45] \"B.PROTEINSgdL\"            \"A.ALBUMINgdL\"            \n",
       " [47] \"B.ALBUMINgdL\"             \"edadr\"                   \n",
       " [49] \"Grupos\"                   \"CALOSTRUMtotalAA\"        \n",
       " [51] \"TRANSITIONtotalAA\"        \"MATURE2mtotalAA\"         \n",
       " [53] \"MATURE4mtotalAA\"          \"CALOSTRUMessentialAA\"    \n",
       " [55] \"TRANSITIONessentialAA\"    \"MATURE2messentialAA\"     \n",
       " [57] \"MATURE4messentialAA\"      \"ARGCalostrum\"            \n",
       " [59] \"ARGTransition\"            \"ARGMature2m\"             \n",
       " [61] \"ARGMature4m\"              \"HISCalostrum\"            \n",
       " [63] \"HISTransition\"            \"HISMature2m\"             \n",
       " [65] \"HISMature4m\"              \"ILECalostrum\"            \n",
       " [67] \"ILETransition\"            \"ILEMature2m\"             \n",
       " [69] \"ILEMature4m\"              \"LEUCalostrum\"            \n",
       " [71] \"LEUTransition\"            \"LEUMature2m\"             \n",
       " [73] \"LEUMature4m\"              \"LYSCalostrum\"            \n",
       " [75] \"LYSTransition\"            \"LYSMature2m\"             \n",
       " [77] \"LYSMature4m\"              \"METCalostrum\"            \n",
       " [79] \"METTransition\"            \"METMature2m\"             \n",
       " [81] \"METMature4m\"              \"PHECalostrum\"            \n",
       " [83] \"PHETransition\"            \"PHEMature2m\"             \n",
       " [85] \"PHEMature4m\"              \"THRCalostrum\"            \n",
       " [87] \"THRTransition\"            \"THRMature2m\"             \n",
       " [89] \"THRMature4m\"              \"TRPCalostrum\"            \n",
       " [91] \"TRPTransition\"            \"TRPMature2m\"             \n",
       " [93] \"TRPMature4m\"              \"VALCalostrum\"            \n",
       " [95] \"VALTransition\"            \"VALMature2m\"             \n",
       " [97] \"VALMature4m\"              \"CALOSTRUMnonessentialAA\" \n",
       " [99] \"TRANSITIONnonessentialAA\" \"MATURE2mnonessentialAA\"  \n",
       "[101] \"MATURE4mnonessentialAA\"   \"ASPCalostrum\"            \n",
       "[103] \"ASPTransition\"            \"ASPMature2m\"             \n",
       "[105] \"ASPMature4m\"              \"ALACalostrum\"            \n",
       "[107] \"ALATransition\"            \"ALAMature2m\"             \n",
       "[109] \"ALAMature4m\"              \"ASNCalostrum\"            \n",
       "[111] \"ASNTransition\"            \"ASNMature2m\"             \n",
       "[113] \"ASNMature4m\"              \"CYSCalostrum\"            \n",
       "[115] \"CYSTransition\"            \"CYSMature2m\"             \n",
       "[117] \"CYSMature4m\"              \"GLYCalostrum\"            \n",
       "[119] \"GLYTransition\"            \"GLYMature2m\"             \n",
       "[121] \"GLYMature4m\"              \"GLUCalostrum\"            \n",
       "[123] \"GLUTransition\"            \"GLUMature2m\"             \n",
       "[125] \"GLUMature4m\"              \"GLNCalostrum\"            \n",
       "[127] \"GLNTransition\"            \"GLNMature2m\"             \n",
       "[129] \"GLNMature4m\"              \"PROCalostrum\"            \n",
       "[131] \"PROTransition\"            \"PROMature2m\"             \n",
       "[133] \"PROMature4m\"              \"SERCalostrum\"            \n",
       "[135] \"SERTransition\"            \"SERMature2m\"             \n",
       "[137] \"SERMature4m\"              \"TYRCalostrum\"            \n",
       "[139] \"TYRTransition\"            \"TYRMature2m\"             \n",
       "[141] \"TYRMature4m\"              \"filter_$\"                \n",
       "[143] \"CAL1NONE\"                 \"TRANS2NONE\"              \n",
       "[145] \"MAT3NONE\"                 \"MAT4NONE\"                \n",
       "[147] \"ADOEXTR\"                  \"TotalAAGLOB\"             \n",
       "[149] \"EssentAAGLOB\"             \"ARGGLOB\"                 \n",
       "[151] \"HISTGLOB\"                 \"ISOLGLOB\"                \n",
       "[153] \"LEUCINEGLOB\"              \"LYSINEGLOB\"              \n",
       "[155] \"METHIONGLOB\"              \"PHENYLGLOB\"              \n",
       "[157] \"THREOGLOB\"                \"TRYPTOGLOB\"              \n",
       "[159] \"VALINEGLOB\"               \"NONESSENGLOB\"            \n",
       "[161] \"ASPGLOB\"                  \"ALAGLOB\"                 \n",
       "[163] \"ASNGLOB\"                  \"SYSGLOB\"                 \n",
       "[165] \"GLYGLOB\"                  \"GLUGLOB\"                 \n",
       "[167] \"GLNGLOB\"                  \"PROLINEGLOB\"             \n",
       "[169] \"SERINEGLOB\"               \"TYRAMINEGLOB\"            \n",
       "[171] \"new\"                     "
      ]
     },
     "metadata": {},
     "output_type": "display_data"
    }
   ],
   "source": [
    "names(AA_Sex_1)"
   ]
  },
  {
   "cell_type": "code",
   "execution_count": 4,
   "metadata": {
    "collapsed": true
   },
   "outputs": [],
   "source": [
    "#str(AA_Sex_1)"
   ]
  },
  {
   "cell_type": "code",
   "execution_count": 5,
   "metadata": {},
   "outputs": [
    {
     "name": "stdout",
     "output_type": "stream",
     "text": [
      "[1] \"Essential AA \\n\"\n"
     ]
    },
    {
     "data": {
      "text/html": [
       "'ARGCalostrum'"
      ],
      "text/latex": [
       "'ARGCalostrum'"
      ],
      "text/markdown": [
       "'ARGCalostrum'"
      ],
      "text/plain": [
       "[1] \"ARGCalostrum\""
      ]
     },
     "metadata": {},
     "output_type": "display_data"
    },
    {
     "data": {
      "text/html": [
       "'VALMature4m'"
      ],
      "text/latex": [
       "'VALMature4m'"
      ],
      "text/markdown": [
       "'VALMature4m'"
      ],
      "text/plain": [
       "[1] \"VALMature4m\""
      ]
     },
     "metadata": {},
     "output_type": "display_data"
    },
    {
     "name": "stdout",
     "output_type": "stream",
     "text": [
      "[1] \"Prolyne \\n\"\n"
     ]
    },
    {
     "data": {
      "text/html": [
       "'PROCalostrum'"
      ],
      "text/latex": [
       "'PROCalostrum'"
      ],
      "text/markdown": [
       "'PROCalostrum'"
      ],
      "text/plain": [
       "[1] \"PROCalostrum\""
      ]
     },
     "metadata": {},
     "output_type": "display_data"
    },
    {
     "data": {
      "text/html": [
       "'PROMature4m'"
      ],
      "text/latex": [
       "'PROMature4m'"
      ],
      "text/markdown": [
       "'PROMature4m'"
      ],
      "text/plain": [
       "[1] \"PROMature4m\""
      ]
     },
     "metadata": {},
     "output_type": "display_data"
    },
    {
     "name": "stdout",
     "output_type": "stream",
     "text": [
      "[1] \"Non essential AA \\n\"\n"
     ]
    },
    {
     "data": {
      "text/html": [
       "'ASPCalostrum'"
      ],
      "text/latex": [
       "'ASPCalostrum'"
      ],
      "text/markdown": [
       "'ASPCalostrum'"
      ],
      "text/plain": [
       "[1] \"ASPCalostrum\""
      ]
     },
     "metadata": {},
     "output_type": "display_data"
    },
    {
     "data": {
      "text/html": [
       "'TYRMature4m'"
      ],
      "text/latex": [
       "'TYRMature4m'"
      ],
      "text/markdown": [
       "'TYRMature4m'"
      ],
      "text/plain": [
       "[1] \"TYRMature4m\""
      ]
     },
     "metadata": {},
     "output_type": "display_data"
    }
   ],
   "source": [
    "print('Essential AA \\n')\n",
    "names(AA_Sex_1)[58]\n",
    "names(AA_Sex_1)[97]\n",
    "\n",
    "print('Prolyne \\n')\n",
    "names(AA_Sex_1)[130]\n",
    "names(AA_Sex_1)[133]\n",
    "\n",
    "print('Non essential AA \\n')\n",
    "names(AA_Sex_1)[102]\n",
    "names(AA_Sex_1)[141]"
   ]
  },
  {
   "cell_type": "code",
   "execution_count": 6,
   "metadata": {},
   "outputs": [
    {
     "name": "stderr",
     "output_type": "stream",
     "text": [
      "Warning message:\n",
      "\"`as_dictionary()` is soft-deprecated as of rlang 0.3.0.\n",
      "Please use `as_data_pronoun()` instead\n",
      "This warning is displayed once per session.\"Warning message:\n",
      "\"`new_overscope()` is soft-deprecated as of rlang 0.2.0.\n",
      "Please use `new_data_mask()` instead\n",
      "This warning is displayed once per session.\"Warning message:\n",
      "\"The `parent` argument of `new_data_mask()` is deprecated.\n",
      "The parent of the data mask is determined from either:\n",
      "\n",
      "  * The `env` argument of `eval_tidy()`\n",
      "  * Quosure environments when applicable\n",
      "This warning is displayed once per session.\"Warning message:\n",
      "\"`overscope_clean()` is soft-deprecated as of rlang 0.2.0.\n",
      "This warning is displayed once per session.\""
     ]
    },
    {
     "data": {
      "text/html": [
       "<ol class=list-inline>\n",
       "\t<li>'id'</li>\n",
       "\t<li>'group'</li>\n",
       "\t<li>'age'</li>\n",
       "\t<li>'sex'</li>\n",
       "\t<li>'HISCalostrum'</li>\n",
       "\t<li>'HISTransition'</li>\n",
       "\t<li>'HISMature2m'</li>\n",
       "\t<li>'HISMature4m'</li>\n",
       "\t<li>'ILECalostrum'</li>\n",
       "\t<li>'ILETransition'</li>\n",
       "\t<li>'ILEMature2m'</li>\n",
       "\t<li>'ILEMature4m'</li>\n",
       "\t<li>'LEUCalostrum'</li>\n",
       "\t<li>'LEUTransition'</li>\n",
       "\t<li>'LEUMature2m'</li>\n",
       "\t<li>'LEUMature4m'</li>\n",
       "\t<li>'LYSCalostrum'</li>\n",
       "\t<li>'LYSTransition'</li>\n",
       "\t<li>'LYSMature2m'</li>\n",
       "\t<li>'LYSMature4m'</li>\n",
       "\t<li>'METCalostrum'</li>\n",
       "\t<li>'METTransition'</li>\n",
       "\t<li>'METMature2m'</li>\n",
       "\t<li>'METMature4m'</li>\n",
       "\t<li>'PHECalostrum'</li>\n",
       "\t<li>'PHETransition'</li>\n",
       "\t<li>'PHEMature2m'</li>\n",
       "\t<li>'PHEMature4m'</li>\n",
       "\t<li>'THRCalostrum'</li>\n",
       "\t<li>'THRTransition'</li>\n",
       "\t<li>'THRMature2m'</li>\n",
       "\t<li>'THRMature4m'</li>\n",
       "\t<li>'TRPCalostrum'</li>\n",
       "\t<li>'TRPTransition'</li>\n",
       "\t<li>'TRPMature2m'</li>\n",
       "\t<li>'TRPMature4m'</li>\n",
       "\t<li>'VALCalostrum'</li>\n",
       "\t<li>'VALTransition'</li>\n",
       "\t<li>'VALMature2m'</li>\n",
       "\t<li>'VALMature4m'</li>\n",
       "</ol>\n"
      ],
      "text/latex": [
       "\\begin{enumerate*}\n",
       "\\item 'id'\n",
       "\\item 'group'\n",
       "\\item 'age'\n",
       "\\item 'sex'\n",
       "\\item 'HISCalostrum'\n",
       "\\item 'HISTransition'\n",
       "\\item 'HISMature2m'\n",
       "\\item 'HISMature4m'\n",
       "\\item 'ILECalostrum'\n",
       "\\item 'ILETransition'\n",
       "\\item 'ILEMature2m'\n",
       "\\item 'ILEMature4m'\n",
       "\\item 'LEUCalostrum'\n",
       "\\item 'LEUTransition'\n",
       "\\item 'LEUMature2m'\n",
       "\\item 'LEUMature4m'\n",
       "\\item 'LYSCalostrum'\n",
       "\\item 'LYSTransition'\n",
       "\\item 'LYSMature2m'\n",
       "\\item 'LYSMature4m'\n",
       "\\item 'METCalostrum'\n",
       "\\item 'METTransition'\n",
       "\\item 'METMature2m'\n",
       "\\item 'METMature4m'\n",
       "\\item 'PHECalostrum'\n",
       "\\item 'PHETransition'\n",
       "\\item 'PHEMature2m'\n",
       "\\item 'PHEMature4m'\n",
       "\\item 'THRCalostrum'\n",
       "\\item 'THRTransition'\n",
       "\\item 'THRMature2m'\n",
       "\\item 'THRMature4m'\n",
       "\\item 'TRPCalostrum'\n",
       "\\item 'TRPTransition'\n",
       "\\item 'TRPMature2m'\n",
       "\\item 'TRPMature4m'\n",
       "\\item 'VALCalostrum'\n",
       "\\item 'VALTransition'\n",
       "\\item 'VALMature2m'\n",
       "\\item 'VALMature4m'\n",
       "\\end{enumerate*}\n"
      ],
      "text/markdown": [
       "1. 'id'\n",
       "2. 'group'\n",
       "3. 'age'\n",
       "4. 'sex'\n",
       "5. 'HISCalostrum'\n",
       "6. 'HISTransition'\n",
       "7. 'HISMature2m'\n",
       "8. 'HISMature4m'\n",
       "9. 'ILECalostrum'\n",
       "10. 'ILETransition'\n",
       "11. 'ILEMature2m'\n",
       "12. 'ILEMature4m'\n",
       "13. 'LEUCalostrum'\n",
       "14. 'LEUTransition'\n",
       "15. 'LEUMature2m'\n",
       "16. 'LEUMature4m'\n",
       "17. 'LYSCalostrum'\n",
       "18. 'LYSTransition'\n",
       "19. 'LYSMature2m'\n",
       "20. 'LYSMature4m'\n",
       "21. 'METCalostrum'\n",
       "22. 'METTransition'\n",
       "23. 'METMature2m'\n",
       "24. 'METMature4m'\n",
       "25. 'PHECalostrum'\n",
       "26. 'PHETransition'\n",
       "27. 'PHEMature2m'\n",
       "28. 'PHEMature4m'\n",
       "29. 'THRCalostrum'\n",
       "30. 'THRTransition'\n",
       "31. 'THRMature2m'\n",
       "32. 'THRMature4m'\n",
       "33. 'TRPCalostrum'\n",
       "34. 'TRPTransition'\n",
       "35. 'TRPMature2m'\n",
       "36. 'TRPMature4m'\n",
       "37. 'VALCalostrum'\n",
       "38. 'VALTransition'\n",
       "39. 'VALMature2m'\n",
       "40. 'VALMature4m'\n",
       "\n",
       "\n"
      ],
      "text/plain": [
       " [1] \"id\"            \"group\"         \"age\"           \"sex\"          \n",
       " [5] \"HISCalostrum\"  \"HISTransition\" \"HISMature2m\"   \"HISMature4m\"  \n",
       " [9] \"ILECalostrum\"  \"ILETransition\" \"ILEMature2m\"   \"ILEMature4m\"  \n",
       "[13] \"LEUCalostrum\"  \"LEUTransition\" \"LEUMature2m\"   \"LEUMature4m\"  \n",
       "[17] \"LYSCalostrum\"  \"LYSTransition\" \"LYSMature2m\"   \"LYSMature4m\"  \n",
       "[21] \"METCalostrum\"  \"METTransition\" \"METMature2m\"   \"METMature4m\"  \n",
       "[25] \"PHECalostrum\"  \"PHETransition\" \"PHEMature2m\"   \"PHEMature4m\"  \n",
       "[29] \"THRCalostrum\"  \"THRTransition\" \"THRMature2m\"   \"THRMature4m\"  \n",
       "[33] \"TRPCalostrum\"  \"TRPTransition\" \"TRPMature2m\"   \"TRPMature4m\"  \n",
       "[37] \"VALCalostrum\"  \"VALTransition\" \"VALMature2m\"   \"VALMature4m\"  "
      ]
     },
     "metadata": {},
     "output_type": "display_data"
    }
   ],
   "source": [
    "AA_E <- AA_Sex_1 %>%  select(id = ID, group = GROUP, age = MATERNALAGE, sex = SEXO, 62:97) %>%\n",
    "                         mutate(id = factor(id), \n",
    "                                sex =  factor(sex, labels = c('girl', 'boy')),\n",
    "                                group = factor(group, labels = c('teen', 'adult'))) \n",
    "\n",
    "\n",
    "names(AA_E)"
   ]
  },
  {
   "cell_type": "code",
   "execution_count": 7,
   "metadata": {},
   "outputs": [
    {
     "data": {
      "text/html": [
       "<ol class=list-inline>\n",
       "\t<li>'id'</li>\n",
       "\t<li>'group'</li>\n",
       "\t<li>'age'</li>\n",
       "\t<li>'sex'</li>\n",
       "\t<li>'ARGCalostrum'</li>\n",
       "\t<li>'ARGTransition'</li>\n",
       "\t<li>'ARGMature2m'</li>\n",
       "\t<li>'ARGMature4m'</li>\n",
       "\t<li>'ASPCalostrum'</li>\n",
       "\t<li>'ASPTransition'</li>\n",
       "\t<li>'ASPMature2m'</li>\n",
       "\t<li>'ASPMature4m'</li>\n",
       "\t<li>'ALACalostrum'</li>\n",
       "\t<li>'ALATransition'</li>\n",
       "\t<li>'ALAMature2m'</li>\n",
       "\t<li>'ALAMature4m'</li>\n",
       "\t<li>'ASNCalostrum'</li>\n",
       "\t<li>'ASNTransition'</li>\n",
       "\t<li>'ASNMature2m'</li>\n",
       "\t<li>'ASNMature4m'</li>\n",
       "\t<li>'CYSCalostrum'</li>\n",
       "\t<li>'CYSTransition'</li>\n",
       "\t<li>'CYSMature2m'</li>\n",
       "\t<li>'CYSMature4m'</li>\n",
       "\t<li>'GLYCalostrum'</li>\n",
       "\t<li>'GLYTransition'</li>\n",
       "\t<li>'GLYMature2m'</li>\n",
       "\t<li>'GLYMature4m'</li>\n",
       "\t<li>'GLUCalostrum'</li>\n",
       "\t<li>'GLUTransition'</li>\n",
       "\t<li>'GLUMature2m'</li>\n",
       "\t<li>'GLUMature4m'</li>\n",
       "\t<li>'GLNCalostrum'</li>\n",
       "\t<li>'GLNTransition'</li>\n",
       "\t<li>'GLNMature2m'</li>\n",
       "\t<li>'GLNMature4m'</li>\n",
       "\t<li>'PROCalostrum'</li>\n",
       "\t<li>'PROTransition'</li>\n",
       "\t<li>'PROMature2m'</li>\n",
       "\t<li>'PROMature4m'</li>\n",
       "\t<li>'SERCalostrum'</li>\n",
       "\t<li>'SERTransition'</li>\n",
       "\t<li>'SERMature2m'</li>\n",
       "\t<li>'SERMature4m'</li>\n",
       "\t<li>'TYRCalostrum'</li>\n",
       "\t<li>'TYRTransition'</li>\n",
       "\t<li>'TYRMature2m'</li>\n",
       "\t<li>'TYRMature4m'</li>\n",
       "</ol>\n"
      ],
      "text/latex": [
       "\\begin{enumerate*}\n",
       "\\item 'id'\n",
       "\\item 'group'\n",
       "\\item 'age'\n",
       "\\item 'sex'\n",
       "\\item 'ARGCalostrum'\n",
       "\\item 'ARGTransition'\n",
       "\\item 'ARGMature2m'\n",
       "\\item 'ARGMature4m'\n",
       "\\item 'ASPCalostrum'\n",
       "\\item 'ASPTransition'\n",
       "\\item 'ASPMature2m'\n",
       "\\item 'ASPMature4m'\n",
       "\\item 'ALACalostrum'\n",
       "\\item 'ALATransition'\n",
       "\\item 'ALAMature2m'\n",
       "\\item 'ALAMature4m'\n",
       "\\item 'ASNCalostrum'\n",
       "\\item 'ASNTransition'\n",
       "\\item 'ASNMature2m'\n",
       "\\item 'ASNMature4m'\n",
       "\\item 'CYSCalostrum'\n",
       "\\item 'CYSTransition'\n",
       "\\item 'CYSMature2m'\n",
       "\\item 'CYSMature4m'\n",
       "\\item 'GLYCalostrum'\n",
       "\\item 'GLYTransition'\n",
       "\\item 'GLYMature2m'\n",
       "\\item 'GLYMature4m'\n",
       "\\item 'GLUCalostrum'\n",
       "\\item 'GLUTransition'\n",
       "\\item 'GLUMature2m'\n",
       "\\item 'GLUMature4m'\n",
       "\\item 'GLNCalostrum'\n",
       "\\item 'GLNTransition'\n",
       "\\item 'GLNMature2m'\n",
       "\\item 'GLNMature4m'\n",
       "\\item 'PROCalostrum'\n",
       "\\item 'PROTransition'\n",
       "\\item 'PROMature2m'\n",
       "\\item 'PROMature4m'\n",
       "\\item 'SERCalostrum'\n",
       "\\item 'SERTransition'\n",
       "\\item 'SERMature2m'\n",
       "\\item 'SERMature4m'\n",
       "\\item 'TYRCalostrum'\n",
       "\\item 'TYRTransition'\n",
       "\\item 'TYRMature2m'\n",
       "\\item 'TYRMature4m'\n",
       "\\end{enumerate*}\n"
      ],
      "text/markdown": [
       "1. 'id'\n",
       "2. 'group'\n",
       "3. 'age'\n",
       "4. 'sex'\n",
       "5. 'ARGCalostrum'\n",
       "6. 'ARGTransition'\n",
       "7. 'ARGMature2m'\n",
       "8. 'ARGMature4m'\n",
       "9. 'ASPCalostrum'\n",
       "10. 'ASPTransition'\n",
       "11. 'ASPMature2m'\n",
       "12. 'ASPMature4m'\n",
       "13. 'ALACalostrum'\n",
       "14. 'ALATransition'\n",
       "15. 'ALAMature2m'\n",
       "16. 'ALAMature4m'\n",
       "17. 'ASNCalostrum'\n",
       "18. 'ASNTransition'\n",
       "19. 'ASNMature2m'\n",
       "20. 'ASNMature4m'\n",
       "21. 'CYSCalostrum'\n",
       "22. 'CYSTransition'\n",
       "23. 'CYSMature2m'\n",
       "24. 'CYSMature4m'\n",
       "25. 'GLYCalostrum'\n",
       "26. 'GLYTransition'\n",
       "27. 'GLYMature2m'\n",
       "28. 'GLYMature4m'\n",
       "29. 'GLUCalostrum'\n",
       "30. 'GLUTransition'\n",
       "31. 'GLUMature2m'\n",
       "32. 'GLUMature4m'\n",
       "33. 'GLNCalostrum'\n",
       "34. 'GLNTransition'\n",
       "35. 'GLNMature2m'\n",
       "36. 'GLNMature4m'\n",
       "37. 'PROCalostrum'\n",
       "38. 'PROTransition'\n",
       "39. 'PROMature2m'\n",
       "40. 'PROMature4m'\n",
       "41. 'SERCalostrum'\n",
       "42. 'SERTransition'\n",
       "43. 'SERMature2m'\n",
       "44. 'SERMature4m'\n",
       "45. 'TYRCalostrum'\n",
       "46. 'TYRTransition'\n",
       "47. 'TYRMature2m'\n",
       "48. 'TYRMature4m'\n",
       "\n",
       "\n"
      ],
      "text/plain": [
       " [1] \"id\"            \"group\"         \"age\"           \"sex\"          \n",
       " [5] \"ARGCalostrum\"  \"ARGTransition\" \"ARGMature2m\"   \"ARGMature4m\"  \n",
       " [9] \"ASPCalostrum\"  \"ASPTransition\" \"ASPMature2m\"   \"ASPMature4m\"  \n",
       "[13] \"ALACalostrum\"  \"ALATransition\" \"ALAMature2m\"   \"ALAMature4m\"  \n",
       "[17] \"ASNCalostrum\"  \"ASNTransition\" \"ASNMature2m\"   \"ASNMature4m\"  \n",
       "[21] \"CYSCalostrum\"  \"CYSTransition\" \"CYSMature2m\"   \"CYSMature4m\"  \n",
       "[25] \"GLYCalostrum\"  \"GLYTransition\" \"GLYMature2m\"   \"GLYMature4m\"  \n",
       "[29] \"GLUCalostrum\"  \"GLUTransition\" \"GLUMature2m\"   \"GLUMature4m\"  \n",
       "[33] \"GLNCalostrum\"  \"GLNTransition\" \"GLNMature2m\"   \"GLNMature4m\"  \n",
       "[37] \"PROCalostrum\"  \"PROTransition\" \"PROMature2m\"   \"PROMature4m\"  \n",
       "[41] \"SERCalostrum\"  \"SERTransition\" \"SERMature2m\"   \"SERMature4m\"  \n",
       "[45] \"TYRCalostrum\"  \"TYRTransition\" \"TYRMature2m\"   \"TYRMature4m\"  "
      ]
     },
     "metadata": {},
     "output_type": "display_data"
    }
   ],
   "source": [
    "AA_NE <- AA_Sex_1 %>%  select(id = ID, group = GROUP, age = MATERNALAGE, sex = SEXO, 58:61, 102:141) %>%\n",
    "                         mutate(id = factor(id), \n",
    "                                sex =  factor(sex, labels = c('girl', 'boy')),\n",
    "                                group = factor(group, labels = c('teen', 'adult'))) \n",
    "\n",
    "names(AA_NE)"
   ]
  },
  {
   "cell_type": "code",
   "execution_count": 8,
   "metadata": {},
   "outputs": [
    {
     "name": "stderr",
     "output_type": "stream",
     "text": [
      "Warning message:\n",
      "\"attributes are not identical across measure variables; they will be dropped\"Warning message:\n",
      "\"attributes are not identical across measure variables; they will be dropped\""
     ]
    },
    {
     "data": {
      "text/html": [
       "<table>\n",
       "<thead><tr><th scope=col>id</th><th scope=col>group</th><th scope=col>age</th><th scope=col>sex</th><th scope=col>weekNames</th><th scope=col>level</th></tr></thead>\n",
       "<tbody>\n",
       "\t<tr><td>1           </td><td>teen        </td><td>17          </td><td>girl        </td><td>HISCalostrum</td><td>2           </td></tr>\n",
       "\t<tr><td>2           </td><td>teen        </td><td>16          </td><td>boy         </td><td>HISCalostrum</td><td>1           </td></tr>\n",
       "\t<tr><td>3           </td><td>teen        </td><td>17          </td><td>boy         </td><td>HISCalostrum</td><td>2           </td></tr>\n",
       "\t<tr><td>4           </td><td>teen        </td><td>16          </td><td>boy         </td><td>HISCalostrum</td><td>1           </td></tr>\n",
       "\t<tr><td>5           </td><td>teen        </td><td>16          </td><td>NA          </td><td>HISCalostrum</td><td>1           </td></tr>\n",
       "\t<tr><td>6           </td><td>teen        </td><td>16          </td><td>boy         </td><td>HISCalostrum</td><td>1           </td></tr>\n",
       "</tbody>\n",
       "</table>\n"
      ],
      "text/latex": [
       "\\begin{tabular}{r|llllll}\n",
       " id & group & age & sex & weekNames & level\\\\\n",
       "\\hline\n",
       "\t 1            & teen         & 17           & girl         & HISCalostrum & 2           \\\\\n",
       "\t 2            & teen         & 16           & boy          & HISCalostrum & 1           \\\\\n",
       "\t 3            & teen         & 17           & boy          & HISCalostrum & 2           \\\\\n",
       "\t 4            & teen         & 16           & boy          & HISCalostrum & 1           \\\\\n",
       "\t 5            & teen         & 16           & NA           & HISCalostrum & 1           \\\\\n",
       "\t 6            & teen         & 16           & boy          & HISCalostrum & 1           \\\\\n",
       "\\end{tabular}\n"
      ],
      "text/markdown": [
       "\n",
       "id | group | age | sex | weekNames | level | \n",
       "|---|---|---|---|---|---|\n",
       "| 1            | teen         | 17           | girl         | HISCalostrum | 2            | \n",
       "| 2            | teen         | 16           | boy          | HISCalostrum | 1            | \n",
       "| 3            | teen         | 17           | boy          | HISCalostrum | 2            | \n",
       "| 4            | teen         | 16           | boy          | HISCalostrum | 1            | \n",
       "| 5            | teen         | 16           | NA           | HISCalostrum | 1            | \n",
       "| 6            | teen         | 16           | boy          | HISCalostrum | 1            | \n",
       "\n",
       "\n"
      ],
      "text/plain": [
       "  id group age sex  weekNames    level\n",
       "1 1  teen  17  girl HISCalostrum 2    \n",
       "2 2  teen  16  boy  HISCalostrum 1    \n",
       "3 3  teen  17  boy  HISCalostrum 2    \n",
       "4 4  teen  16  boy  HISCalostrum 1    \n",
       "5 5  teen  16  NA   HISCalostrum 1    \n",
       "6 6  teen  16  boy  HISCalostrum 1    "
      ]
     },
     "metadata": {},
     "output_type": "display_data"
    }
   ],
   "source": [
    "# Removing NAs\n",
    "AA_E_Long <- AA_E %>% gather(weekNames, level, 5:length(names(AA_E))) \n",
    "AA_NE_Long <- AA_NE %>% gather(weekNames, level, 5:length(names(AA_NE))) \n",
    "\n",
    "head(AA_E_Long)"
   ]
  },
  {
   "cell_type": "code",
   "execution_count": 9,
   "metadata": {},
   "outputs": [
    {
     "data": {
      "text/html": [
       "<table>\n",
       "<thead><tr><th scope=col>id</th><th scope=col>group</th><th scope=col>age</th><th scope=col>sex</th><th scope=col>weekNames</th><th scope=col>level</th><th scope=col>week</th><th scope=col>AA</th></tr></thead>\n",
       "<tbody>\n",
       "\t<tr><td>1           </td><td>teen        </td><td>17          </td><td>girl        </td><td>HISCalostrum</td><td>2           </td><td>1           </td><td>HIS         </td></tr>\n",
       "\t<tr><td>2           </td><td>teen        </td><td>16          </td><td>boy         </td><td>HISCalostrum</td><td>1           </td><td>1           </td><td>HIS         </td></tr>\n",
       "\t<tr><td>3           </td><td>teen        </td><td>17          </td><td>boy         </td><td>HISCalostrum</td><td>2           </td><td>1           </td><td>HIS         </td></tr>\n",
       "\t<tr><td>4           </td><td>teen        </td><td>16          </td><td>boy         </td><td>HISCalostrum</td><td>1           </td><td>1           </td><td>HIS         </td></tr>\n",
       "\t<tr><td>5           </td><td>teen        </td><td>16          </td><td>NA          </td><td>HISCalostrum</td><td>1           </td><td>1           </td><td>HIS         </td></tr>\n",
       "\t<tr><td>6           </td><td>teen        </td><td>16          </td><td>boy         </td><td>HISCalostrum</td><td>1           </td><td>1           </td><td>HIS         </td></tr>\n",
       "</tbody>\n",
       "</table>\n"
      ],
      "text/latex": [
       "\\begin{tabular}{r|llllllll}\n",
       " id & group & age & sex & weekNames & level & week & AA\\\\\n",
       "\\hline\n",
       "\t 1            & teen         & 17           & girl         & HISCalostrum & 2            & 1            & HIS         \\\\\n",
       "\t 2            & teen         & 16           & boy          & HISCalostrum & 1            & 1            & HIS         \\\\\n",
       "\t 3            & teen         & 17           & boy          & HISCalostrum & 2            & 1            & HIS         \\\\\n",
       "\t 4            & teen         & 16           & boy          & HISCalostrum & 1            & 1            & HIS         \\\\\n",
       "\t 5            & teen         & 16           & NA           & HISCalostrum & 1            & 1            & HIS         \\\\\n",
       "\t 6            & teen         & 16           & boy          & HISCalostrum & 1            & 1            & HIS         \\\\\n",
       "\\end{tabular}\n"
      ],
      "text/markdown": [
       "\n",
       "id | group | age | sex | weekNames | level | week | AA | \n",
       "|---|---|---|---|---|---|\n",
       "| 1            | teen         | 17           | girl         | HISCalostrum | 2            | 1            | HIS          | \n",
       "| 2            | teen         | 16           | boy          | HISCalostrum | 1            | 1            | HIS          | \n",
       "| 3            | teen         | 17           | boy          | HISCalostrum | 2            | 1            | HIS          | \n",
       "| 4            | teen         | 16           | boy          | HISCalostrum | 1            | 1            | HIS          | \n",
       "| 5            | teen         | 16           | NA           | HISCalostrum | 1            | 1            | HIS          | \n",
       "| 6            | teen         | 16           | boy          | HISCalostrum | 1            | 1            | HIS          | \n",
       "\n",
       "\n"
      ],
      "text/plain": [
       "  id group age sex  weekNames    level week AA \n",
       "1 1  teen  17  girl HISCalostrum 2     1    HIS\n",
       "2 2  teen  16  boy  HISCalostrum 1     1    HIS\n",
       "3 3  teen  17  boy  HISCalostrum 2     1    HIS\n",
       "4 4  teen  16  boy  HISCalostrum 1     1    HIS\n",
       "5 5  teen  16  NA   HISCalostrum 1     1    HIS\n",
       "6 6  teen  16  boy  HISCalostrum 1     1    HIS"
      ]
     },
     "metadata": {},
     "output_type": "display_data"
    }
   ],
   "source": [
    "AA_E_Long <- \n",
    "    AA_E_Long %>% \n",
    "        mutate(week = gsub(\".*Calostrum.*\", \"1\", weekNames)) %>%\n",
    "        mutate(week = gsub(\".*Transition.*\", \"2\", week)) %>%\n",
    "        mutate(week = gsub(\".*Mature2m.*\", \"8\", week)) %>%\n",
    "        mutate(week = gsub(\".*Mature4m.*\", \"16\", week)) %>% \n",
    "        mutate(week = as.numeric(week))\n",
    "\n",
    "AA_E_Long <- \n",
    "    AA_E_Long %>% \n",
    "        mutate(AA = gsub(\"Calostrum.*\", \"\", weekNames)) %>%\n",
    "        mutate(AA = gsub(\"Transition.*\", \"\", AA)) %>%\n",
    "        mutate(AA = gsub(\"Mature2m.*\", \"\", AA)) %>%\n",
    "        mutate(AA = gsub(\"Mature4m.*\", \"\", AA))\n",
    "\n",
    "head(AA_E_Long)"
   ]
  },
  {
   "cell_type": "code",
   "execution_count": 10,
   "metadata": {},
   "outputs": [
    {
     "data": {
      "text/html": [
       "<table>\n",
       "<thead><tr><th scope=col>id</th><th scope=col>group</th><th scope=col>age</th><th scope=col>sex</th><th scope=col>weekNames</th><th scope=col>level</th><th scope=col>week</th><th scope=col>AA</th></tr></thead>\n",
       "<tbody>\n",
       "\t<tr><td>1           </td><td>teen        </td><td>17          </td><td>girl        </td><td>ARGCalostrum</td><td>1           </td><td>1           </td><td>ARG         </td></tr>\n",
       "\t<tr><td>2           </td><td>teen        </td><td>16          </td><td>boy         </td><td>ARGCalostrum</td><td>1           </td><td>1           </td><td>ARG         </td></tr>\n",
       "\t<tr><td>3           </td><td>teen        </td><td>17          </td><td>boy         </td><td>ARGCalostrum</td><td>1           </td><td>1           </td><td>ARG         </td></tr>\n",
       "\t<tr><td>4           </td><td>teen        </td><td>16          </td><td>boy         </td><td>ARGCalostrum</td><td>1           </td><td>1           </td><td>ARG         </td></tr>\n",
       "\t<tr><td>5           </td><td>teen        </td><td>16          </td><td>NA          </td><td>ARGCalostrum</td><td>2           </td><td>1           </td><td>ARG         </td></tr>\n",
       "\t<tr><td>6           </td><td>teen        </td><td>16          </td><td>boy         </td><td>ARGCalostrum</td><td>2           </td><td>1           </td><td>ARG         </td></tr>\n",
       "</tbody>\n",
       "</table>\n"
      ],
      "text/latex": [
       "\\begin{tabular}{r|llllllll}\n",
       " id & group & age & sex & weekNames & level & week & AA\\\\\n",
       "\\hline\n",
       "\t 1            & teen         & 17           & girl         & ARGCalostrum & 1            & 1            & ARG         \\\\\n",
       "\t 2            & teen         & 16           & boy          & ARGCalostrum & 1            & 1            & ARG         \\\\\n",
       "\t 3            & teen         & 17           & boy          & ARGCalostrum & 1            & 1            & ARG         \\\\\n",
       "\t 4            & teen         & 16           & boy          & ARGCalostrum & 1            & 1            & ARG         \\\\\n",
       "\t 5            & teen         & 16           & NA           & ARGCalostrum & 2            & 1            & ARG         \\\\\n",
       "\t 6            & teen         & 16           & boy          & ARGCalostrum & 2            & 1            & ARG         \\\\\n",
       "\\end{tabular}\n"
      ],
      "text/markdown": [
       "\n",
       "id | group | age | sex | weekNames | level | week | AA | \n",
       "|---|---|---|---|---|---|\n",
       "| 1            | teen         | 17           | girl         | ARGCalostrum | 1            | 1            | ARG          | \n",
       "| 2            | teen         | 16           | boy          | ARGCalostrum | 1            | 1            | ARG          | \n",
       "| 3            | teen         | 17           | boy          | ARGCalostrum | 1            | 1            | ARG          | \n",
       "| 4            | teen         | 16           | boy          | ARGCalostrum | 1            | 1            | ARG          | \n",
       "| 5            | teen         | 16           | NA           | ARGCalostrum | 2            | 1            | ARG          | \n",
       "| 6            | teen         | 16           | boy          | ARGCalostrum | 2            | 1            | ARG          | \n",
       "\n",
       "\n"
      ],
      "text/plain": [
       "  id group age sex  weekNames    level week AA \n",
       "1 1  teen  17  girl ARGCalostrum 1     1    ARG\n",
       "2 2  teen  16  boy  ARGCalostrum 1     1    ARG\n",
       "3 3  teen  17  boy  ARGCalostrum 1     1    ARG\n",
       "4 4  teen  16  boy  ARGCalostrum 1     1    ARG\n",
       "5 5  teen  16  NA   ARGCalostrum 2     1    ARG\n",
       "6 6  teen  16  boy  ARGCalostrum 2     1    ARG"
      ]
     },
     "metadata": {},
     "output_type": "display_data"
    }
   ],
   "source": [
    "AA_NE_Long <- \n",
    "    AA_NE_Long %>% \n",
    "        mutate(week = gsub(\".*Calostrum.*\", \"1\", weekNames)) %>%\n",
    "        mutate(week = gsub(\".*Transition.*\", \"2\", week)) %>%\n",
    "        mutate(week = gsub(\".*Mature2m.*\", \"8\", week)) %>%\n",
    "        mutate(week = gsub(\".*Mature4m.*\", \"16\", week)) %>% \n",
    "        mutate(week = as.numeric(week))\n",
    "\n",
    "AA_NE_Long <- \n",
    "    AA_NE_Long %>% \n",
    "        mutate(AA = gsub(\"Calostrum.*\", \"\", weekNames)) %>%\n",
    "        mutate(AA = gsub(\"Transition.*\", \"\", AA)) %>%\n",
    "        mutate(AA = gsub(\"Mature2m.*\", \"\", AA)) %>%\n",
    "        mutate(AA = gsub(\"Mature4m.*\", \"\", AA))\n",
    "\n",
    "head(AA_NE_Long)"
   ]
  },
  {
   "cell_type": "code",
   "execution_count": 11,
   "metadata": {},
   "outputs": [
    {
     "data": {
      "text/html": [
       "<table>\n",
       "<thead><tr><th scope=col>id</th><th scope=col>group</th><th scope=col>age</th><th scope=col>sex</th><th scope=col>weekNames</th><th scope=col>level</th><th scope=col>week</th><th scope=col>AA</th></tr></thead>\n",
       "<tbody>\n",
       "\t<tr><td>4            </td><td>teen         </td><td>16           </td><td>boy          </td><td>HISCalostrum </td><td> 1           </td><td> 1           </td><td>HIS          </td></tr>\n",
       "\t<tr><td>4            </td><td>teen         </td><td>16           </td><td>boy          </td><td>HISTransition</td><td>NA           </td><td> 2           </td><td>HIS          </td></tr>\n",
       "\t<tr><td>4            </td><td>teen         </td><td>16           </td><td>boy          </td><td>HISMature2m  </td><td>NA           </td><td> 8           </td><td>HIS          </td></tr>\n",
       "\t<tr><td>4            </td><td>teen         </td><td>16           </td><td>boy          </td><td>HISMature4m  </td><td>NA           </td><td>16           </td><td>HIS          </td></tr>\n",
       "\t<tr><td>4            </td><td>teen         </td><td>16           </td><td>boy          </td><td>ILECalostrum </td><td> 0           </td><td> 1           </td><td>ILE          </td></tr>\n",
       "\t<tr><td>4            </td><td>teen         </td><td>16           </td><td>boy          </td><td>ILETransition</td><td>NA           </td><td> 2           </td><td>ILE          </td></tr>\n",
       "</tbody>\n",
       "</table>\n"
      ],
      "text/latex": [
       "\\begin{tabular}{r|llllllll}\n",
       " id & group & age & sex & weekNames & level & week & AA\\\\\n",
       "\\hline\n",
       "\t 4             & teen          & 16            & boy           & HISCalostrum  &  1            &  1            & HIS          \\\\\n",
       "\t 4             & teen          & 16            & boy           & HISTransition & NA            &  2            & HIS          \\\\\n",
       "\t 4             & teen          & 16            & boy           & HISMature2m   & NA            &  8            & HIS          \\\\\n",
       "\t 4             & teen          & 16            & boy           & HISMature4m   & NA            & 16            & HIS          \\\\\n",
       "\t 4             & teen          & 16            & boy           & ILECalostrum  &  0            &  1            & ILE          \\\\\n",
       "\t 4             & teen          & 16            & boy           & ILETransition & NA            &  2            & ILE          \\\\\n",
       "\\end{tabular}\n"
      ],
      "text/markdown": [
       "\n",
       "id | group | age | sex | weekNames | level | week | AA | \n",
       "|---|---|---|---|---|---|\n",
       "| 4             | teen          | 16            | boy           | HISCalostrum  |  1            |  1            | HIS           | \n",
       "| 4             | teen          | 16            | boy           | HISTransition | NA            |  2            | HIS           | \n",
       "| 4             | teen          | 16            | boy           | HISMature2m   | NA            |  8            | HIS           | \n",
       "| 4             | teen          | 16            | boy           | HISMature4m   | NA            | 16            | HIS           | \n",
       "| 4             | teen          | 16            | boy           | ILECalostrum  |  0            |  1            | ILE           | \n",
       "| 4             | teen          | 16            | boy           | ILETransition | NA            |  2            | ILE           | \n",
       "\n",
       "\n"
      ],
      "text/plain": [
       "  id group age sex weekNames     level week AA \n",
       "1 4  teen  16  boy HISCalostrum   1     1   HIS\n",
       "2 4  teen  16  boy HISTransition NA     2   HIS\n",
       "3 4  teen  16  boy HISMature2m   NA     8   HIS\n",
       "4 4  teen  16  boy HISMature4m   NA    16   HIS\n",
       "5 4  teen  16  boy ILECalostrum   0     1   ILE\n",
       "6 4  teen  16  boy ILETransition NA     2   ILE"
      ]
     },
     "metadata": {},
     "output_type": "display_data"
    }
   ],
   "source": [
    "AA_E_Long %>% filter(id == 4) %>% head()"
   ]
  },
  {
   "cell_type": "code",
   "execution_count": 12,
   "metadata": {},
   "outputs": [
    {
     "name": "stderr",
     "output_type": "stream",
     "text": [
      "Warning message:\n",
      "\"Removed 640 rows containing non-finite values (stat_density).\""
     ]
    },
    {
     "data": {},
     "metadata": {},
     "output_type": "display_data"
    },
    {
     "data": {
      "image/png": "[encoded data removed]",
      "text/plain": [
       "plot without title"
      ]
     },
     "metadata": {},
     "output_type": "display_data"
    }
   ],
   "source": [
    "#png(filename=\"./plots/EAA_dist.png\", units=\"cm\", width=15, height=20, res = 300)\n",
    "\n",
    "AA_E_Long_SU <- AA_E_Long %>% group_by(AA) %>% mutate(level = (level - mean(level, na.rm = TRUE))/sd(level, na.rm = TRUE))\n",
    " \n",
    "ggplot(AA_E_Long_SU, aes(x = level, fill = AA)) + geom_density() + \n",
    "    guides(fill=FALSE) +\n",
    "    facet_grid(AA ~ week, scales = \"free_y\") +\n",
    "    theme( \n",
    "      #strip.background = element_blank(),\n",
    "      axis.ticks.y = element_blank(),\n",
    "      axis.text.y = element_blank(),\n",
    "      axis.text.x = element_blank()\n",
    "    ) + ggtitle('Essential AA (standar units)') \n",
    "\n",
    "#dev.off()\n"
   ]
  },
  {
   "cell_type": "code",
   "execution_count": 13,
   "metadata": {},
   "outputs": [
    {
     "name": "stderr",
     "output_type": "stream",
     "text": [
      "Warning message:\n",
      "\"Removed 781 rows containing non-finite values (stat_density).\""
     ]
    },
    {
     "data": {},
     "metadata": {},
     "output_type": "display_data"
    },
    {
     "data": {
      "image/png": "[encoded data removed]",
      "text/plain": [
       "plot without title"
      ]
     },
     "metadata": {},
     "output_type": "display_data"
    }
   ],
   "source": [
    "#png(filename=\"./plots/NEAA_dist.png\", units=\"cm\", width=15, height=20, res = 300)\n",
    "\n",
    "AA_NE_Long_SU <- AA_NE_Long %>% group_by(AA) %>% mutate(level = (level - mean(level, na.rm = TRUE))/sd(level, na.rm = TRUE))\n",
    "\n",
    "ggplot(AA_NE_Long_SU, aes(x = level, fill = AA)) + geom_density() + \n",
    "    guides(fill=FALSE) + \n",
    "    facet_grid(AA ~ week, scales = \"free_y\") +\n",
    "    theme(\n",
    "      #strip.background = element_blank(),\n",
    "      axis.ticks.y = element_blank(),\n",
    "      axis.text.y = element_blank(),\n",
    "      axis.text.x = element_blank()\n",
    "    ) + ggtitle('Non Essential AA (standar units)')\n",
    "\n",
    "#dev.off()"
   ]
  },
  {
   "cell_type": "code",
   "execution_count": 14,
   "metadata": {},
   "outputs": [
    {
     "data": {
      "text/html": [
       "<table>\n",
       "<thead><tr><th scope=col>AA</th><th scope=col>1</th><th scope=col>2</th><th scope=col>8</th><th scope=col>16</th></tr></thead>\n",
       "<tbody>\n",
       "\t<tr><td>HIS        </td><td>1.43 ± 0.98</td><td>2.29 ± 0.85</td><td>2.23 ± 0.71</td><td>1.95 ± 0.57</td></tr>\n",
       "\t<tr><td>ILE        </td><td>0.45 ± 0.59</td><td>0.56 ± 0.54</td><td>0.74 ± 0.68</td><td>0.62 ± 0.49</td></tr>\n",
       "\t<tr><td>LEU        </td><td>1.38 ± 1   </td><td>1.79 ± 1.09</td><td>2.15 ± 1.39</td><td>2.19 ± 1.7 </td></tr>\n",
       "\t<tr><td>LYS        </td><td>2.55 ± 2.21</td><td>1.38 ± 0.98</td><td>1.36 ± 0.99</td><td>1.27 ± 0.56</td></tr>\n",
       "\t<tr><td>MET        </td><td>0.09 ± 0.29</td><td>0.1 ± 0.31 </td><td>0.23 ± 0.48</td><td>0.16 ± 0.37</td></tr>\n",
       "\t<tr><td>PHE        </td><td>0.48 ± 0.5 </td><td>1 ± 0.51   </td><td>1.13 ± 0.52</td><td>1.03 ± 0.37</td></tr>\n",
       "\t<tr><td>THR        </td><td>5.08 ± 3.05</td><td>6.15 ± 2.63</td><td>6.31 ± 2.9 </td><td>7.68 ± 3.64</td></tr>\n",
       "\t<tr><td>TRP        </td><td>0.03 ± 0.17</td><td>0 ± 0      </td><td>0.03 ± 0.16</td><td>0 ± 0      </td></tr>\n",
       "\t<tr><td>VAL        </td><td>2.38 ± 1.34</td><td>3.73 ± 1.09</td><td>4.54 ± 1.6 </td><td>4.05 ± 1.39</td></tr>\n",
       "</tbody>\n",
       "</table>\n"
      ],
      "text/latex": [
       "\\begin{tabular}{r|lllll}\n",
       " AA & 1 & 2 & 8 & 16\\\\\n",
       "\\hline\n",
       "\t HIS         & 1.43 ± 0.98 & 2.29 ± 0.85 & 2.23 ± 0.71 & 1.95 ± 0.57\\\\\n",
       "\t ILE         & 0.45 ± 0.59 & 0.56 ± 0.54 & 0.74 ± 0.68 & 0.62 ± 0.49\\\\\n",
       "\t LEU         & 1.38 ± 1    & 1.79 ± 1.09 & 2.15 ± 1.39 & 2.19 ± 1.7 \\\\\n",
       "\t LYS         & 2.55 ± 2.21 & 1.38 ± 0.98 & 1.36 ± 0.99 & 1.27 ± 0.56\\\\\n",
       "\t MET         & 0.09 ± 0.29 & 0.1 ± 0.31  & 0.23 ± 0.48 & 0.16 ± 0.37\\\\\n",
       "\t PHE         & 0.48 ± 0.5  & 1 ± 0.51    & 1.13 ± 0.52 & 1.03 ± 0.37\\\\\n",
       "\t THR         & 5.08 ± 3.05 & 6.15 ± 2.63 & 6.31 ± 2.9  & 7.68 ± 3.64\\\\\n",
       "\t TRP         & 0.03 ± 0.17 & 0 ± 0       & 0.03 ± 0.16 & 0 ± 0      \\\\\n",
       "\t VAL         & 2.38 ± 1.34 & 3.73 ± 1.09 & 4.54 ± 1.6  & 4.05 ± 1.39\\\\\n",
       "\\end{tabular}\n"
      ],
      "text/markdown": [
       "\n",
       "AA | 1 | 2 | 8 | 16 | \n",
       "|---|---|---|---|---|---|---|---|---|\n",
       "| HIS         | 1.43 ± 0.98 | 2.29 ± 0.85 | 2.23 ± 0.71 | 1.95 ± 0.57 | \n",
       "| ILE         | 0.45 ± 0.59 | 0.56 ± 0.54 | 0.74 ± 0.68 | 0.62 ± 0.49 | \n",
       "| LEU         | 1.38 ± 1    | 1.79 ± 1.09 | 2.15 ± 1.39 | 2.19 ± 1.7  | \n",
       "| LYS         | 2.55 ± 2.21 | 1.38 ± 0.98 | 1.36 ± 0.99 | 1.27 ± 0.56 | \n",
       "| MET         | 0.09 ± 0.29 | 0.1 ± 0.31  | 0.23 ± 0.48 | 0.16 ± 0.37 | \n",
       "| PHE         | 0.48 ± 0.5  | 1 ± 0.51    | 1.13 ± 0.52 | 1.03 ± 0.37 | \n",
       "| THR         | 5.08 ± 3.05 | 6.15 ± 2.63 | 6.31 ± 2.9  | 7.68 ± 3.64 | \n",
       "| TRP         | 0.03 ± 0.17 | 0 ± 0       | 0.03 ± 0.16 | 0 ± 0       | \n",
       "| VAL         | 2.38 ± 1.34 | 3.73 ± 1.09 | 4.54 ± 1.6  | 4.05 ± 1.39 | \n",
       "\n",
       "\n"
      ],
      "text/plain": [
       "  AA  1           2           8           16         \n",
       "1 HIS 1.43 ± 0.98 2.29 ± 0.85 2.23 ± 0.71 1.95 ± 0.57\n",
       "2 ILE 0.45 ± 0.59 0.56 ± 0.54 0.74 ± 0.68 0.62 ± 0.49\n",
       "3 LEU 1.38 ± 1    1.79 ± 1.09 2.15 ± 1.39 2.19 ± 1.7 \n",
       "4 LYS 2.55 ± 2.21 1.38 ± 0.98 1.36 ± 0.99 1.27 ± 0.56\n",
       "5 MET 0.09 ± 0.29 0.1 ± 0.31  0.23 ± 0.48 0.16 ± 0.37\n",
       "6 PHE 0.48 ± 0.5  1 ± 0.51    1.13 ± 0.52 1.03 ± 0.37\n",
       "7 THR 5.08 ± 3.05 6.15 ± 2.63 6.31 ± 2.9  7.68 ± 3.64\n",
       "8 TRP 0.03 ± 0.17 0 ± 0       0.03 ± 0.16 0 ± 0      \n",
       "9 VAL 2.38 ± 1.34 3.73 ± 1.09 4.54 ± 1.6  4.05 ± 1.39"
      ]
     },
     "metadata": {},
     "output_type": "display_data"
    }
   ],
   "source": [
    "AA_E_sum <- \n",
    " AA_E_Long %>% group_by(week, AA) %>% \n",
    "    summarise(mean = mean(level, na.rm = T), sd = sd(level, na.rm = T)) %>% \n",
    "    mutate(mean = round(mean, 2), sd = round(sd, 2)) %>%\n",
    "    mutate(mean = as.character(mean), sd = as.character(sd)) %>% \n",
    "    mutate(CI = paste(mean, '±', sd)) %>% \n",
    "    select(-mean, -sd) %>% \n",
    "    spread(week, CI)\n",
    "\n",
    "AA_E_sum"
   ]
  },
  {
   "cell_type": "code",
   "execution_count": 15,
   "metadata": {},
   "outputs": [
    {
     "data": {
      "text/html": [
       "<table>\n",
       "<thead><tr><th scope=col>AA</th><th scope=col>1</th><th scope=col>2</th><th scope=col>8</th><th scope=col>16</th></tr></thead>\n",
       "<tbody>\n",
       "\t<tr><td>Total      </td><td>1.54 ± 2.09</td><td>1.89 ± 2.18</td><td>2.08 ± 2.36</td><td>2.11 ± 2.71</td></tr>\n",
       "</tbody>\n",
       "</table>\n"
      ],
      "text/latex": [
       "\\begin{tabular}{r|lllll}\n",
       " AA & 1 & 2 & 8 & 16\\\\\n",
       "\\hline\n",
       "\t Total       & 1.54 ± 2.09 & 1.89 ± 2.18 & 2.08 ± 2.36 & 2.11 ± 2.71\\\\\n",
       "\\end{tabular}\n"
      ],
      "text/markdown": [
       "\n",
       "AA | 1 | 2 | 8 | 16 | \n",
       "|---|\n",
       "| Total       | 1.54 ± 2.09 | 1.89 ± 2.18 | 2.08 ± 2.36 | 2.11 ± 2.71 | \n",
       "\n",
       "\n"
      ],
      "text/plain": [
       "  AA    1           2           8           16         \n",
       "1 Total 1.54 ± 2.09 1.89 ± 2.18 2.08 ± 2.36 2.11 ± 2.71"
      ]
     },
     "metadata": {},
     "output_type": "display_data"
    }
   ],
   "source": [
    "dft <- AA_E_Long %>% group_by(week) %>% \n",
    "    summarise(mean = mean(level, na.rm = T), sd = sd(level, na.rm = T)) %>% \n",
    "    mutate(mean = round(mean, 2), sd = round(sd, 2)) %>% \n",
    "    mutate(mean = as.character(mean), sd = as.character(sd)) %>% mutate(CI = paste(mean, '±', sd)) %>% \n",
    "    select(-mean, -sd) %>% spread(week, CI) \n",
    "\n",
    "cbind(AA = 'Total', dft)\n",
    "#rbind(AA_E_sum, cbind(AA = 'Total', dft))"
   ]
  },
  {
   "cell_type": "code",
   "execution_count": 16,
   "metadata": {},
   "outputs": [
    {
     "data": {
      "text/html": [
       "<table>\n",
       "<thead><tr><th scope=col>AA</th><th scope=col>1</th><th scope=col>2</th><th scope=col>8</th><th scope=col>16</th></tr></thead>\n",
       "<tbody>\n",
       "\t<tr><td>ALA           </td><td>12.12 ± 9.02  </td><td>20.98 ± 7.65  </td><td>24 ± 8.15     </td><td>24.11 ± 9.67  </td></tr>\n",
       "\t<tr><td>ARG           </td><td>1.54 ± 1.15   </td><td>1.12 ± 1.06   </td><td>1 ± 0.69      </td><td>0.95 ± 0.4    </td></tr>\n",
       "\t<tr><td>ASN           </td><td>0.75 ± 0.66   </td><td>0.21 ± 0.54   </td><td>0.62 ± 1.02   </td><td>0.54 ± 0.87   </td></tr>\n",
       "\t<tr><td>ASP           </td><td>2.66 ± 2.15   </td><td>3.69 ± 1.98   </td><td>4.92 ± 3.06   </td><td>5.03 ± 3.7    </td></tr>\n",
       "\t<tr><td>CYS           </td><td>0.77 ± 0.7    </td><td>1.27 ± 1.01   </td><td>1.85 ± 0.87   </td><td>2.3 ± 1.08    </td></tr>\n",
       "\t<tr><td>GLN           </td><td>12.6 ± 10.68  </td><td>31.42 ± 15.85 </td><td>51.95 ± 21.76 </td><td>56.05 ± 21.17 </td></tr>\n",
       "\t<tr><td>GLU           </td><td>44.92 ± 33.93 </td><td>89.46 ± 31.81 </td><td>118.28 ± 31.19</td><td>114.84 ± 35.95</td></tr>\n",
       "\t<tr><td>GLY           </td><td>5.03 ± 4.07   </td><td>10.12 ± 3.38  </td><td>12.74 ± 4.46  </td><td>12.24 ± 3.85  </td></tr>\n",
       "\t<tr><td>PRO           </td><td>3.6 ± 2.82    </td><td>2.81 ± 0.91   </td><td>2.77 ± 1.68   </td><td>2.54 ± 1.04   </td></tr>\n",
       "\t<tr><td>SER           </td><td>4.57 ± 2.68   </td><td>8.54 ± 3.62   </td><td>11.62 ± 3.7   </td><td>12.32 ± 4.44  </td></tr>\n",
       "\t<tr><td>TYR           </td><td>0.66 ± 0.64   </td><td>1.04 ± 0.58   </td><td>1.13 ± 0.66   </td><td>1 ± 0.58      </td></tr>\n",
       "</tbody>\n",
       "</table>\n"
      ],
      "text/latex": [
       "\\begin{tabular}{r|lllll}\n",
       " AA & 1 & 2 & 8 & 16\\\\\n",
       "\\hline\n",
       "\t ALA            & 12.12 ± 9.02   & 20.98 ± 7.65   & 24 ± 8.15      & 24.11 ± 9.67  \\\\\n",
       "\t ARG            & 1.54 ± 1.15    & 1.12 ± 1.06    & 1 ± 0.69       & 0.95 ± 0.4    \\\\\n",
       "\t ASN            & 0.75 ± 0.66    & 0.21 ± 0.54    & 0.62 ± 1.02    & 0.54 ± 0.87   \\\\\n",
       "\t ASP            & 2.66 ± 2.15    & 3.69 ± 1.98    & 4.92 ± 3.06    & 5.03 ± 3.7    \\\\\n",
       "\t CYS            & 0.77 ± 0.7     & 1.27 ± 1.01    & 1.85 ± 0.87    & 2.3 ± 1.08    \\\\\n",
       "\t GLN            & 12.6 ± 10.68   & 31.42 ± 15.85  & 51.95 ± 21.76  & 56.05 ± 21.17 \\\\\n",
       "\t GLU            & 44.92 ± 33.93  & 89.46 ± 31.81  & 118.28 ± 31.19 & 114.84 ± 35.95\\\\\n",
       "\t GLY            & 5.03 ± 4.07    & 10.12 ± 3.38   & 12.74 ± 4.46   & 12.24 ± 3.85  \\\\\n",
       "\t PRO            & 3.6 ± 2.82     & 2.81 ± 0.91    & 2.77 ± 1.68    & 2.54 ± 1.04   \\\\\n",
       "\t SER            & 4.57 ± 2.68    & 8.54 ± 3.62    & 11.62 ± 3.7    & 12.32 ± 4.44  \\\\\n",
       "\t TYR            & 0.66 ± 0.64    & 1.04 ± 0.58    & 1.13 ± 0.66    & 1 ± 0.58      \\\\\n",
       "\\end{tabular}\n"
      ],
      "text/markdown": [
       "\n",
       "AA | 1 | 2 | 8 | 16 | \n",
       "|---|---|---|---|---|---|---|---|---|---|---|\n",
       "| ALA            | 12.12 ± 9.02   | 20.98 ± 7.65   | 24 ± 8.15      | 24.11 ± 9.67   | \n",
       "| ARG            | 1.54 ± 1.15    | 1.12 ± 1.06    | 1 ± 0.69       | 0.95 ± 0.4     | \n",
       "| ASN            | 0.75 ± 0.66    | 0.21 ± 0.54    | 0.62 ± 1.02    | 0.54 ± 0.87    | \n",
       "| ASP            | 2.66 ± 2.15    | 3.69 ± 1.98    | 4.92 ± 3.06    | 5.03 ± 3.7     | \n",
       "| CYS            | 0.77 ± 0.7     | 1.27 ± 1.01    | 1.85 ± 0.87    | 2.3 ± 1.08     | \n",
       "| GLN            | 12.6 ± 10.68   | 31.42 ± 15.85  | 51.95 ± 21.76  | 56.05 ± 21.17  | \n",
       "| GLU            | 44.92 ± 33.93  | 89.46 ± 31.81  | 118.28 ± 31.19 | 114.84 ± 35.95 | \n",
       "| GLY            | 5.03 ± 4.07    | 10.12 ± 3.38   | 12.74 ± 4.46   | 12.24 ± 3.85   | \n",
       "| PRO            | 3.6 ± 2.82     | 2.81 ± 0.91    | 2.77 ± 1.68    | 2.54 ± 1.04    | \n",
       "| SER            | 4.57 ± 2.68    | 8.54 ± 3.62    | 11.62 ± 3.7    | 12.32 ± 4.44   | \n",
       "| TYR            | 0.66 ± 0.64    | 1.04 ± 0.58    | 1.13 ± 0.66    | 1 ± 0.58       | \n",
       "\n",
       "\n"
      ],
      "text/plain": [
       "   AA  1             2             8              16            \n",
       "1  ALA 12.12 ± 9.02  20.98 ± 7.65  24 ± 8.15      24.11 ± 9.67  \n",
       "2  ARG 1.54 ± 1.15   1.12 ± 1.06   1 ± 0.69       0.95 ± 0.4    \n",
       "3  ASN 0.75 ± 0.66   0.21 ± 0.54   0.62 ± 1.02    0.54 ± 0.87   \n",
       "4  ASP 2.66 ± 2.15   3.69 ± 1.98   4.92 ± 3.06    5.03 ± 3.7    \n",
       "5  CYS 0.77 ± 0.7    1.27 ± 1.01   1.85 ± 0.87    2.3 ± 1.08    \n",
       "6  GLN 12.6 ± 10.68  31.42 ± 15.85 51.95 ± 21.76  56.05 ± 21.17 \n",
       "7  GLU 44.92 ± 33.93 89.46 ± 31.81 118.28 ± 31.19 114.84 ± 35.95\n",
       "8  GLY 5.03 ± 4.07   10.12 ± 3.38  12.74 ± 4.46   12.24 ± 3.85  \n",
       "9  PRO 3.6 ± 2.82    2.81 ± 0.91   2.77 ± 1.68    2.54 ± 1.04   \n",
       "10 SER 4.57 ± 2.68   8.54 ± 3.62   11.62 ± 3.7    12.32 ± 4.44  \n",
       "11 TYR 0.66 ± 0.64   1.04 ± 0.58   1.13 ± 0.66    1 ± 0.58      "
      ]
     },
     "metadata": {},
     "output_type": "display_data"
    }
   ],
   "source": [
    "AA_NE_sum <- \n",
    " AA_NE_Long %>% group_by(week, AA) %>% \n",
    "    summarise(mean = mean(level, na.rm = T), sd = sd(level, na.rm = T)) %>% \n",
    "    mutate(mean = round(mean, 2), sd = round(sd, 2)) %>%\n",
    "    mutate(mean = as.character(mean), sd = as.character(sd)) %>% \n",
    "    mutate(CI = paste(mean, '±', sd)) %>% \n",
    "    select(-mean, -sd) %>% \n",
    "    spread(week, CI)\n",
    "\n",
    "AA_NE_sum"
   ]
  },
  {
   "cell_type": "code",
   "execution_count": 17,
   "metadata": {},
   "outputs": [
    {
     "data": {
      "text/html": [
       "<table>\n",
       "<thead><tr><th scope=col>AA</th><th scope=col>1</th><th scope=col>2</th><th scope=col>8</th><th scope=col>16</th></tr></thead>\n",
       "<tbody>\n",
       "\t<tr><td>Total        </td><td>8.11 ± 16.62 </td><td>15.52 ± 27.51</td><td>20.99 ± 36.07</td><td>21.08 ± 35.97</td></tr>\n",
       "</tbody>\n",
       "</table>\n"
      ],
      "text/latex": [
       "\\begin{tabular}{r|lllll}\n",
       " AA & 1 & 2 & 8 & 16\\\\\n",
       "\\hline\n",
       "\t Total         & 8.11 ± 16.62  & 15.52 ± 27.51 & 20.99 ± 36.07 & 21.08 ± 35.97\\\\\n",
       "\\end{tabular}\n"
      ],
      "text/markdown": [
       "\n",
       "AA | 1 | 2 | 8 | 16 | \n",
       "|---|\n",
       "| Total         | 8.11 ± 16.62  | 15.52 ± 27.51 | 20.99 ± 36.07 | 21.08 ± 35.97 | \n",
       "\n",
       "\n"
      ],
      "text/plain": [
       "  AA    1            2             8             16           \n",
       "1 Total 8.11 ± 16.62 15.52 ± 27.51 20.99 ± 36.07 21.08 ± 35.97"
      ]
     },
     "metadata": {},
     "output_type": "display_data"
    }
   ],
   "source": [
    "dft <- AA_NE_Long %>% group_by(week) %>% \n",
    "    summarise(mean = mean(level, na.rm = T), sd = sd(level, na.rm = T)) %>% \n",
    "    mutate(mean = round(mean, 2), sd = round(sd, 2)) %>% \n",
    "    mutate(mean = as.character(mean), sd = as.character(sd)) %>% mutate(CI = paste(mean, '±', sd)) %>% \n",
    "    select(-mean, -sd) %>% spread(week, CI) \n",
    "\n",
    "cbind(AA = 'Total', dft)\n",
    "#rbind(AA_NE_sum, cbind(AA = 'Total', dft))"
   ]
  },
  {
   "cell_type": "code",
   "execution_count": 18,
   "metadata": {},
   "outputs": [
    {
     "data": {
      "text/html": [
       "<table>\n",
       "<thead><tr><th scope=col>AA</th><th scope=col>1</th><th scope=col>2</th><th scope=col>8</th><th scope=col>16</th></tr></thead>\n",
       "<tbody>\n",
       "\t<tr><td>Total        </td><td>5.16 ± 12.83 </td><td>9.38 ± 21.54 </td><td>12.48 ± 28.39</td><td>12.54 ± 28.34</td></tr>\n",
       "</tbody>\n",
       "</table>\n"
      ],
      "text/latex": [
       "\\begin{tabular}{r|lllll}\n",
       " AA & 1 & 2 & 8 & 16\\\\\n",
       "\\hline\n",
       "\t Total         & 5.16 ± 12.83  & 9.38 ± 21.54  & 12.48 ± 28.39 & 12.54 ± 28.34\\\\\n",
       "\\end{tabular}\n"
      ],
      "text/markdown": [
       "\n",
       "AA | 1 | 2 | 8 | 16 | \n",
       "|---|\n",
       "| Total         | 5.16 ± 12.83  | 9.38 ± 21.54  | 12.48 ± 28.39 | 12.54 ± 28.34 | \n",
       "\n",
       "\n"
      ],
      "text/plain": [
       "  AA    1            2            8             16           \n",
       "1 Total 5.16 ± 12.83 9.38 ± 21.54 12.48 ± 28.39 12.54 ± 28.34"
      ]
     },
     "metadata": {},
     "output_type": "display_data"
    }
   ],
   "source": [
    "dft <- rbind(AA_E_Long, AA_NE_Long) %>% group_by(week) %>% \n",
    "    summarize(mean = mean(level, na.rm = TRUE), sd = sd(level, na.rm = TRUE))%>% \n",
    "    mutate(mean = round(mean, 2), sd = round(sd, 2)) %>% \n",
    "    mutate(mean = as.character(mean), sd = as.character(sd)) %>% mutate(CI = paste(mean, '±', sd)) %>% \n",
    "    select(-mean, -sd) %>% spread(week, CI) \n",
    "\n",
    "cbind(AA = 'Total', dft)"
   ]
  },
  {
   "cell_type": "code",
   "execution_count": 99,
   "metadata": {},
   "outputs": [
    {
     "data": {},
     "metadata": {},
     "output_type": "display_data"
    },
    {
     "data": {
      "image/png": "[encoded data removed]",
      "text/plain": [
       "plot without title"
      ]
     },
     "metadata": {},
     "output_type": "display_data"
    }
   ],
   "source": [
    "AA_E_mean_plot <- \n",
    " AA_E_Long %>% group_by(week, AA) %>% \n",
    "    summarise(mean = mean(level, na.rm = T), sd = sd(level, na.rm = T)) %>% \n",
    "    mutate(mean = round(mean, 2), sd = round(sd, 2)) \n",
    "\n",
    "ggplot(AA_E_mean_plot, aes(x = week, y = mean)) + \n",
    "    geom_point() + geom_line() + \n",
    "    #geom_pointrange( aes(ymin = mean - sd, ymax = mean + sd)) + \n",
    "    facet_wrap(~AA,  scales = \"free_y\") + geom_smooth(method = lm, se = F) +\n",
    "    ggtitle('Essential AA \\n Average concentration over time with a linear model. \\n (Simple Relationships)')"
   ]
  },
  {
   "cell_type": "code",
   "execution_count": 101,
   "metadata": {},
   "outputs": [
    {
     "data": {},
     "metadata": {},
     "output_type": "display_data"
    },
    {
     "data": {
      "image/png": "[encoded data removed]",
      "text/plain": [
       "plot without title"
      ]
     },
     "metadata": {},
     "output_type": "display_data"
    }
   ],
   "source": [
    "# THR, VAL, LEU, PHE, LYS\n",
    "E_SIMPLE <- AA_E_mean_plot %>% filter(AA == 'THR' | AA == 'VAL' | AA == 'LEU' | AA == 'PHE' | AA == 'LYS') %>%\n",
    "                mutate(AA = factor(AA, levels = c('THR', 'VAL', 'LEU', 'PHE', 'LYS')))\n",
    "\n",
    "#png(filename=\"./plots/EAA_simple.png\", units=\"cm\", width=20, height=20, res = 300)\n",
    "ggplot(E_SIMPLE, aes(x = week, y = mean)) + \n",
    "    geom_point() + geom_line() + \n",
    "    #geom_pointrange( aes(ymin = mean - sd, ymax = mean + sd)) + \n",
    "    facet_wrap(~AA,  scales = \"free_y\") + geom_smooth(method = lm, se = F) +\n",
    "    theme(aspect.ratio = 1) +\n",
    "    ggtitle('Essential AA \\n Average concentration over time with a linear model. \\n (Simple General Relationships)')\n",
    "#dev.off()"
   ]
  },
  {
   "cell_type": "code",
   "execution_count": 96,
   "metadata": {},
   "outputs": [
    {
     "data": {},
     "metadata": {},
     "output_type": "display_data"
    },
    {
     "data": {
      "image/png": "[encoded data removed]",
      "text/plain": [
       "plot without title"
      ]
     },
     "metadata": {},
     "output_type": "display_data"
    }
   ],
   "source": [
    "# HIS, 'ILE', 'MET', 'TRP'\n",
    "E_COMPLEX <- AA_E_mean_plot %>% filter(AA == 'HIS' | AA == 'ILE' | AA == 'MET' | AA == 'TRP') %>%\n",
    "            mutate(AA = factor(AA, levels=c('HIS', 'ILE', 'MET', 'TRP')))\n",
    "\n",
    "#png(filename=\"./plots/EAA_complex.png\", units=\"cm\", width=20, height=20, res = 300)\n",
    "ggplot(E_COMPLEX, aes(x = week, y = mean)) + \n",
    "    geom_point() + geom_line() + \n",
    "    #geom_pointrange( aes(ymin = mean - sd, ymax = mean + sd)) + \n",
    "    facet_wrap(~AA,  scales = \"free_y\") + geom_smooth(method = lm, se = F) +\n",
    "    theme(aspect.ratio = 1) +\n",
    "    ggtitle('Essential AA \\n  Average concentration over time with a linear model. \\n (Complex General Relationships)')\n",
    "#dev.off()"
   ]
  },
  {
   "cell_type": "code",
   "execution_count": 22,
   "metadata": {},
   "outputs": [
    {
     "data": {},
     "metadata": {},
     "output_type": "display_data"
    },
    {
     "data": {
      "image/png": "[encoded data removed]",
      "text/plain": [
       "plot without title"
      ]
     },
     "metadata": {},
     "output_type": "display_data"
    }
   ],
   "source": [
    "AA_NE_mean_plot <- \n",
    " AA_NE_Long %>% group_by(week, AA) %>% \n",
    "    summarise(mean = mean(level, na.rm = T), sd = sd(level, na.rm = T)) %>% \n",
    "    mutate(mean = round(mean, 2), sd = round(sd, 2)) \n",
    "\n",
    "ggplot(AA_NE_mean_plot, aes(x = week, y = mean)) + \n",
    "    geom_point() + geom_line() +\n",
    "    facet_wrap(~AA,  scales = \"free_y\") + geom_smooth(method = lm, se = FALSE) +\n",
    "    theme(aspect.ratio = 1) + \n",
    "    ggtitle('Non Essential AA \\n Average concentration over time with a linear model.')"
   ]
  },
  {
   "cell_type": "code",
   "execution_count": 93,
   "metadata": {},
   "outputs": [
    {
     "data": {},
     "metadata": {},
     "output_type": "display_data"
    },
    {
     "data": {
      "image/png": "[encoded data removed]",
      "text/plain": [
       "plot without title"
      ]
     },
     "metadata": {},
     "output_type": "display_data"
    }
   ],
   "source": [
    "# GLU, GLN, ALA, SER, GLY, ASP, CYS, TYR, ARG, PRO\n",
    "NE_SIMPLE <- AA_NE_mean_plot %>% \n",
    "    filter(AA == 'GLU' | AA == 'GLN' | AA == 'ALA' | AA == 'SER' | \n",
    "           AA == 'GLY' | AA == 'ASP' | AA == 'GLY' | AA == 'ASP' | \n",
    "           AA == 'CYS' | AA == 'TYR' | AA == 'ARG' | AA == 'PRO') %>% \n",
    "    mutate(AA = factor(AA, levels=c('GLU', 'GLN', 'ALA', 'SER', 'GLY', 'ASP', 'CYS', 'TYR', 'ARG', 'PRO')))\n",
    "               \n",
    "#png(filename=\"./plots/NEAA_simple.png\", units=\"cm\", width=20, height=20, res = 300)\n",
    "ggplot(NE_SIMPLE, aes(x = week, y = mean)) + \n",
    "    geom_point() + geom_line() + \n",
    "    #geom_pointrange( aes(ymin = mean - sd, ymax = mean + sd)) + \n",
    "    facet_wrap(~AA,  scales = \"free_y\") + geom_smooth(method = lm, se = F) +\n",
    "    theme(aspect.ratio = 1) +\n",
    "    ggtitle('Non Essential AA \\n Average concentration over time with a linear model. \\n (Simple General Relationships)')\n",
    "#dev.off()"
   ]
  },
  {
   "cell_type": "code",
   "execution_count": 90,
   "metadata": {},
   "outputs": [
    {
     "data": {},
     "metadata": {},
     "output_type": "display_data"
    },
    {
     "data": {
      "image/png": "[encoded data removed]",
      "text/plain": [
       "plot without title"
      ]
     },
     "metadata": {},
     "output_type": "display_data"
    }
   ],
   "source": [
    "# ASN\n",
    "NE_COMPLEX <- AA_NE_mean_plot %>% filter(AA == 'ASN')\n",
    "\n",
    "#png(filename=\"./plots/NEAA_complex.png\", units=\"cm\", width=20, height=20, res = 300)\n",
    "ggplot(NE_COMPLEX, aes(x = week, y = mean)) + \n",
    "    geom_point() + geom_line() + \n",
    "    #geom_pointrange( aes(ymin = mean - sd, ymax = mean + sd)) + \n",
    "    facet_wrap(~AA,  scales = \"free_y\") + geom_smooth(method = lm, se = F) +\n",
    "    theme(aspect.ratio = 1) +\n",
    "    ggtitle('Non Essential AA \\n Average concentration over time with a linear model. \\n (Complex General Relationships)')\n",
    "#dev.off()"
   ]
  },
  {
   "cell_type": "markdown",
   "metadata": {
    "collapsed": true
   },
   "source": [
    "## Sex and Free AA levels:\n",
    "\n",
    "http://felixhaass.de/dataviz_ggplot2/session4.html\n"
   ]
  },
  {
   "cell_type": "code",
   "execution_count": 25,
   "metadata": {},
   "outputs": [
    {
     "name": "stderr",
     "output_type": "stream",
     "text": [
      "\n",
      "Attaching package: 'broom.mixed'\n",
      "\n",
      "The following object is masked from 'package:broom':\n",
      "\n",
      "    tidyMCMC\n",
      "\n"
     ]
    }
   ],
   "source": [
    "library(broom.mixed)"
   ]
  },
  {
   "cell_type": "code",
   "execution_count": 26,
   "metadata": {
    "collapsed": true
   },
   "outputs": [],
   "source": [
    "AA_E_Nested <- AA_E_Long %>% group_by(AA) %>% nest()\n",
    "AA_NE_Nested <- AA_NE_Long %>% group_by(AA) %>% nest()"
   ]
  },
  {
   "cell_type": "code",
   "execution_count": 27,
   "metadata": {
    "collapsed": true
   },
   "outputs": [],
   "source": [
    "meSex <- function(df){\n",
    "    \n",
    "    me <- lmer(level ~ sex + week + (1 | id), data = df)\n",
    "    \n",
    "    return(me)\n",
    "}"
   ]
  },
  {
   "cell_type": "code",
   "execution_count": 28,
   "metadata": {
    "collapsed": true
   },
   "outputs": [],
   "source": [
    "nAA_E <- length(AA_E_Nested$AA)\n",
    "nAA_NE <- length(AA_NE_Nested$AA)"
   ]
  },
  {
   "cell_type": "code",
   "execution_count": 29,
   "metadata": {
    "collapsed": true
   },
   "outputs": [],
   "source": [
    "me_E <- list()\n",
    "tidy_E <- list()\n",
    "\n",
    "for(i in 1:nAA_E){\n",
    "    \n",
    "    me_E[[i]] <- meSex(AA_E_Nested$data[[i]])\n",
    "    tidy_E[[i]] <- tidy(me_E[[i]], effects = 'fixed') %>% mutate(AA = AA_E_Nested$AA[i])\n",
    "    \n",
    "}"
   ]
  },
  {
   "cell_type": "code",
   "execution_count": 30,
   "metadata": {
    "collapsed": true
   },
   "outputs": [],
   "source": [
    "me_NE <- list()\n",
    "tidy_NE <- list()\n",
    "\n",
    "for(j in 1:nAA_NE) {\n",
    "    me_NE[[j]] <- meSex(AA_NE_Nested$data[[j]])\n",
    "    tidy_NE[[j]] <- tidy(me_NE[[j]], effects = 'fixed') %>% mutate(AA = AA_NE_Nested$AA[j])\n",
    "}"
   ]
  },
  {
   "cell_type": "code",
   "execution_count": 31,
   "metadata": {
    "collapsed": true
   },
   "outputs": [],
   "source": [
    "AA_E_Nested <- AA_E_Nested %>% mutate(model = me_E, tidy = tidy_E)\n",
    "AA_NE_Nested <- AA_NE_Nested %>% mutate(model = me_NE, tidy = tidy_NE)"
   ]
  },
  {
   "cell_type": "code",
   "execution_count": 32,
   "metadata": {},
   "outputs": [
    {
     "data": {
      "text/plain": [
       "Linear mixed model fit by REML ['lmerMod']\n",
       "Formula: level ~ sex + week + (1 | id)\n",
       "   Data: df\n",
       "REML criterion at convergence: 484.086\n",
       "Random effects:\n",
       " Groups   Name        Std.Dev.\n",
       " id       (Intercept) 0.2793  \n",
       " Residual             0.8445  \n",
       "Number of obs: 183, groups:  id, 61\n",
       "Fixed Effects:\n",
       "(Intercept)       sexboy         week  \n",
       "    1.73261      0.18010      0.01551  "
      ]
     },
     "metadata": {},
     "output_type": "display_data"
    },
    {
     "data": {
      "text/html": [
       "<table>\n",
       "<thead><tr><th scope=col>effect</th><th scope=col>term</th><th scope=col>estimate</th><th scope=col>std.error</th><th scope=col>statistic</th><th scope=col>AA</th></tr></thead>\n",
       "<tbody>\n",
       "\t<tr><td>fixed      </td><td>(Intercept)</td><td>1.73260733 </td><td>0.12840780 </td><td>13.493007  </td><td>HIS        </td></tr>\n",
       "\t<tr><td>fixed      </td><td>sexboy     </td><td>0.18009510 </td><td>0.14783155 </td><td> 1.218245  </td><td>HIS        </td></tr>\n",
       "\t<tr><td>fixed      </td><td>week       </td><td>0.01550524 </td><td>0.01091728 </td><td> 1.420248  </td><td>HIS        </td></tr>\n",
       "</tbody>\n",
       "</table>\n"
      ],
      "text/latex": [
       "\\begin{tabular}{r|llllll}\n",
       " effect & term & estimate & std.error & statistic & AA\\\\\n",
       "\\hline\n",
       "\t fixed       & (Intercept) & 1.73260733  & 0.12840780  & 13.493007   & HIS        \\\\\n",
       "\t fixed       & sexboy      & 0.18009510  & 0.14783155  &  1.218245   & HIS        \\\\\n",
       "\t fixed       & week        & 0.01550524  & 0.01091728  &  1.420248   & HIS        \\\\\n",
       "\\end{tabular}\n"
      ],
      "text/markdown": [
       "\n",
       "effect | term | estimate | std.error | statistic | AA | \n",
       "|---|---|---|\n",
       "| fixed       | (Intercept) | 1.73260733  | 0.12840780  | 13.493007   | HIS         | \n",
       "| fixed       | sexboy      | 0.18009510  | 0.14783155  |  1.218245   | HIS         | \n",
       "| fixed       | week        | 0.01550524  | 0.01091728  |  1.420248   | HIS         | \n",
       "\n",
       "\n"
      ],
      "text/plain": [
       "  effect term        estimate   std.error  statistic AA \n",
       "1 fixed  (Intercept) 1.73260733 0.12840780 13.493007 HIS\n",
       "2 fixed  sexboy      0.18009510 0.14783155  1.218245 HIS\n",
       "3 fixed  week        0.01550524 0.01091728  1.420248 HIS"
      ]
     },
     "metadata": {},
     "output_type": "display_data"
    }
   ],
   "source": [
    "me_E[[1]]\n",
    "AA_E_Nested$tidy[[1]]"
   ]
  },
  {
   "cell_type": "code",
   "execution_count": 33,
   "metadata": {},
   "outputs": [
    {
     "data": {
      "text/html": [
       "<table>\n",
       "<thead><tr><th scope=col>effect</th><th scope=col>term</th><th scope=col>estimate</th><th scope=col>std.error</th><th scope=col>statistic</th><th scope=col>AA</th></tr></thead>\n",
       "<tbody>\n",
       "\t<tr><td>fixed      </td><td>sexboy     </td><td> 0.18009510</td><td>0.14783155 </td><td> 1.2182454 </td><td>HIS        </td></tr>\n",
       "\t<tr><td>fixed      </td><td>sexboy     </td><td> 0.08909543</td><td>0.10494380 </td><td> 0.8489822 </td><td>ILE        </td></tr>\n",
       "\t<tr><td>fixed      </td><td>sexboy     </td><td> 0.03872330</td><td>0.19775339 </td><td> 0.1958161 </td><td>LEU        </td></tr>\n",
       "\t<tr><td>fixed      </td><td>sexboy     </td><td> 0.17976559</td><td>0.21885167 </td><td> 0.8214038 </td><td>LYS        </td></tr>\n",
       "\t<tr><td>fixed      </td><td>sexboy     </td><td> 0.06183346</td><td>0.05528161 </td><td> 1.1185178 </td><td>MET        </td></tr>\n",
       "\t<tr><td>fixed      </td><td>sexboy     </td><td> 0.11793044</td><td>0.08011749 </td><td> 1.4719686 </td><td>PHE        </td></tr>\n",
       "\t<tr><td>fixed      </td><td>sexboy     </td><td>-0.70135844</td><td>0.61254573 </td><td>-1.1449895 </td><td>THR        </td></tr>\n",
       "\t<tr><td>fixed      </td><td>sexboy     </td><td>-0.00338907</td><td>0.01566710 </td><td>-0.2163177 </td><td>TRP        </td></tr>\n",
       "\t<tr><td>fixed      </td><td>sexboy     </td><td> 0.26116773</td><td>0.24902208 </td><td> 1.0487734 </td><td>VAL        </td></tr>\n",
       "</tbody>\n",
       "</table>\n"
      ],
      "text/latex": [
       "\\begin{tabular}{r|llllll}\n",
       " effect & term & estimate & std.error & statistic & AA\\\\\n",
       "\\hline\n",
       "\t fixed       & sexboy      &  0.18009510 & 0.14783155  &  1.2182454  & HIS        \\\\\n",
       "\t fixed       & sexboy      &  0.08909543 & 0.10494380  &  0.8489822  & ILE        \\\\\n",
       "\t fixed       & sexboy      &  0.03872330 & 0.19775339  &  0.1958161  & LEU        \\\\\n",
       "\t fixed       & sexboy      &  0.17976559 & 0.21885167  &  0.8214038  & LYS        \\\\\n",
       "\t fixed       & sexboy      &  0.06183346 & 0.05528161  &  1.1185178  & MET        \\\\\n",
       "\t fixed       & sexboy      &  0.11793044 & 0.08011749  &  1.4719686  & PHE        \\\\\n",
       "\t fixed       & sexboy      & -0.70135844 & 0.61254573  & -1.1449895  & THR        \\\\\n",
       "\t fixed       & sexboy      & -0.00338907 & 0.01566710  & -0.2163177  & TRP        \\\\\n",
       "\t fixed       & sexboy      &  0.26116773 & 0.24902208  &  1.0487734  & VAL        \\\\\n",
       "\\end{tabular}\n"
      ],
      "text/markdown": [
       "\n",
       "effect | term | estimate | std.error | statistic | AA | \n",
       "|---|---|---|---|---|---|---|---|---|\n",
       "| fixed       | sexboy      |  0.18009510 | 0.14783155  |  1.2182454  | HIS         | \n",
       "| fixed       | sexboy      |  0.08909543 | 0.10494380  |  0.8489822  | ILE         | \n",
       "| fixed       | sexboy      |  0.03872330 | 0.19775339  |  0.1958161  | LEU         | \n",
       "| fixed       | sexboy      |  0.17976559 | 0.21885167  |  0.8214038  | LYS         | \n",
       "| fixed       | sexboy      |  0.06183346 | 0.05528161  |  1.1185178  | MET         | \n",
       "| fixed       | sexboy      |  0.11793044 | 0.08011749  |  1.4719686  | PHE         | \n",
       "| fixed       | sexboy      | -0.70135844 | 0.61254573  | -1.1449895  | THR         | \n",
       "| fixed       | sexboy      | -0.00338907 | 0.01566710  | -0.2163177  | TRP         | \n",
       "| fixed       | sexboy      |  0.26116773 | 0.24902208  |  1.0487734  | VAL         | \n",
       "\n",
       "\n"
      ],
      "text/plain": [
       "  effect term   estimate    std.error  statistic  AA \n",
       "1 fixed  sexboy  0.18009510 0.14783155  1.2182454 HIS\n",
       "2 fixed  sexboy  0.08909543 0.10494380  0.8489822 ILE\n",
       "3 fixed  sexboy  0.03872330 0.19775339  0.1958161 LEU\n",
       "4 fixed  sexboy  0.17976559 0.21885167  0.8214038 LYS\n",
       "5 fixed  sexboy  0.06183346 0.05528161  1.1185178 MET\n",
       "6 fixed  sexboy  0.11793044 0.08011749  1.4719686 PHE\n",
       "7 fixed  sexboy -0.70135844 0.61254573 -1.1449895 THR\n",
       "8 fixed  sexboy -0.00338907 0.01566710 -0.2163177 TRP\n",
       "9 fixed  sexboy  0.26116773 0.24902208  1.0487734 VAL"
      ]
     },
     "metadata": {},
     "output_type": "display_data"
    },
    {
     "data": {
      "text/html": [
       "<table>\n",
       "<thead><tr><th scope=col>effect</th><th scope=col>term</th><th scope=col>estimate</th><th scope=col>std.error</th><th scope=col>statistic</th><th scope=col>AA</th></tr></thead>\n",
       "<tbody>\n",
       "\t<tr><td>fixed      </td><td>sexboy     </td><td> 0.14263751</td><td>0.1522882  </td><td> 0.9366285 </td><td>ARG        </td></tr>\n",
       "\t<tr><td>fixed      </td><td>sexboy     </td><td> 0.54756965</td><td>0.4801044  </td><td> 1.1405219 </td><td>ASP        </td></tr>\n",
       "\t<tr><td>fixed      </td><td>sexboy     </td><td> 1.61818930</td><td>1.6590414  </td><td> 0.9753761 </td><td>ALA        </td></tr>\n",
       "\t<tr><td>fixed      </td><td>sexboy     </td><td>-0.08339861</td><td>0.1257038  </td><td>-0.6634533 </td><td>ASN        </td></tr>\n",
       "\t<tr><td>fixed      </td><td>sexboy     </td><td> 0.35682776</td><td>0.1635167  </td><td> 2.1822097 </td><td>CYS        </td></tr>\n",
       "\t<tr><td>fixed      </td><td>sexboy     </td><td> 1.81908239</td><td>0.7897730  </td><td> 2.3032979 </td><td>GLY        </td></tr>\n",
       "\t<tr><td>fixed      </td><td>sexboy     </td><td>14.39755181</td><td>6.5220682  </td><td> 2.2075132 </td><td>GLU        </td></tr>\n",
       "\t<tr><td>fixed      </td><td>sexboy     </td><td> 3.06094539</td><td>3.3877643  </td><td> 0.9035296 </td><td>GLN        </td></tr>\n",
       "\t<tr><td>fixed      </td><td>sexboy     </td><td> 0.38692513</td><td>0.3436295  </td><td> 1.1259951 </td><td>PRO        </td></tr>\n",
       "\t<tr><td>fixed      </td><td>sexboy     </td><td> 1.22571449</td><td>0.6975134  </td><td> 1.7572631 </td><td>SER        </td></tr>\n",
       "\t<tr><td>fixed      </td><td>sexboy     </td><td> 0.23773898</td><td>0.1099537  </td><td> 2.1621732 </td><td>TYR        </td></tr>\n",
       "</tbody>\n",
       "</table>\n"
      ],
      "text/latex": [
       "\\begin{tabular}{r|llllll}\n",
       " effect & term & estimate & std.error & statistic & AA\\\\\n",
       "\\hline\n",
       "\t fixed       & sexboy      &  0.14263751 & 0.1522882   &  0.9366285  & ARG        \\\\\n",
       "\t fixed       & sexboy      &  0.54756965 & 0.4801044   &  1.1405219  & ASP        \\\\\n",
       "\t fixed       & sexboy      &  1.61818930 & 1.6590414   &  0.9753761  & ALA        \\\\\n",
       "\t fixed       & sexboy      & -0.08339861 & 0.1257038   & -0.6634533  & ASN        \\\\\n",
       "\t fixed       & sexboy      &  0.35682776 & 0.1635167   &  2.1822097  & CYS        \\\\\n",
       "\t fixed       & sexboy      &  1.81908239 & 0.7897730   &  2.3032979  & GLY        \\\\\n",
       "\t fixed       & sexboy      & 14.39755181 & 6.5220682   &  2.2075132  & GLU        \\\\\n",
       "\t fixed       & sexboy      &  3.06094539 & 3.3877643   &  0.9035296  & GLN        \\\\\n",
       "\t fixed       & sexboy      &  0.38692513 & 0.3436295   &  1.1259951  & PRO        \\\\\n",
       "\t fixed       & sexboy      &  1.22571449 & 0.6975134   &  1.7572631  & SER        \\\\\n",
       "\t fixed       & sexboy      &  0.23773898 & 0.1099537   &  2.1621732  & TYR        \\\\\n",
       "\\end{tabular}\n"
      ],
      "text/markdown": [
       "\n",
       "effect | term | estimate | std.error | statistic | AA | \n",
       "|---|---|---|---|---|---|---|---|---|---|---|\n",
       "| fixed       | sexboy      |  0.14263751 | 0.1522882   |  0.9366285  | ARG         | \n",
       "| fixed       | sexboy      |  0.54756965 | 0.4801044   |  1.1405219  | ASP         | \n",
       "| fixed       | sexboy      |  1.61818930 | 1.6590414   |  0.9753761  | ALA         | \n",
       "| fixed       | sexboy      | -0.08339861 | 0.1257038   | -0.6634533  | ASN         | \n",
       "| fixed       | sexboy      |  0.35682776 | 0.1635167   |  2.1822097  | CYS         | \n",
       "| fixed       | sexboy      |  1.81908239 | 0.7897730   |  2.3032979  | GLY         | \n",
       "| fixed       | sexboy      | 14.39755181 | 6.5220682   |  2.2075132  | GLU         | \n",
       "| fixed       | sexboy      |  3.06094539 | 3.3877643   |  0.9035296  | GLN         | \n",
       "| fixed       | sexboy      |  0.38692513 | 0.3436295   |  1.1259951  | PRO         | \n",
       "| fixed       | sexboy      |  1.22571449 | 0.6975134   |  1.7572631  | SER         | \n",
       "| fixed       | sexboy      |  0.23773898 | 0.1099537   |  2.1621732  | TYR         | \n",
       "\n",
       "\n"
      ],
      "text/plain": [
       "   effect term   estimate    std.error statistic  AA \n",
       "1  fixed  sexboy  0.14263751 0.1522882  0.9366285 ARG\n",
       "2  fixed  sexboy  0.54756965 0.4801044  1.1405219 ASP\n",
       "3  fixed  sexboy  1.61818930 1.6590414  0.9753761 ALA\n",
       "4  fixed  sexboy -0.08339861 0.1257038 -0.6634533 ASN\n",
       "5  fixed  sexboy  0.35682776 0.1635167  2.1822097 CYS\n",
       "6  fixed  sexboy  1.81908239 0.7897730  2.3032979 GLY\n",
       "7  fixed  sexboy 14.39755181 6.5220682  2.2075132 GLU\n",
       "8  fixed  sexboy  3.06094539 3.3877643  0.9035296 GLN\n",
       "9  fixed  sexboy  0.38692513 0.3436295  1.1259951 PRO\n",
       "10 fixed  sexboy  1.22571449 0.6975134  1.7572631 SER\n",
       "11 fixed  sexboy  0.23773898 0.1099537  2.1621732 TYR"
      ]
     },
     "metadata": {},
     "output_type": "display_data"
    }
   ],
   "source": [
    "sexCoef_E <- bind_rows(tidy_E) %>% filter(grepl(\"sexboy\", term))\n",
    "sexCoef_NE <- bind_rows(tidy_NE) %>% filter(grepl(\"sexboy\", term))\n",
    "\n",
    "sexCoef_E\n",
    "sexCoef_NE"
   ]
  },
  {
   "cell_type": "code",
   "execution_count": 34,
   "metadata": {},
   "outputs": [
    {
     "data": {},
     "metadata": {},
     "output_type": "display_data"
    },
    {
     "data": {
      "image/png": "[encoded data removed]",
      "text/plain": [
       "plot without title"
      ]
     },
     "metadata": {},
     "output_type": "display_data"
    }
   ],
   "source": [
    "#png(filename=\"./plots/EAA_coeff.png\", units=\"cm\", width=20, height=20, res = 300)\n",
    "ggplot(sexCoef_E, aes(x = reorder(AA, estimate), y = estimate, color = AA)) + \n",
    "    geom_hline(yintercept = 0, alpha = 0.4) + \n",
    "    geom_point() + geom_pointrange( aes(x = AA, ymin = estimate - 2*std.error, ymax = estimate + 2*std.error)) + \n",
    "    theme(legend.position = \"none\") + \n",
    "    coord_flip() + \n",
    "    ggtitle('Essential AA \\n Estimate and 95% CI') + xlab('estimate') + ylab(TeX('sex (boy $\\\\rightarrow$)'))   \n",
    "#dev.off()"
   ]
  },
  {
   "cell_type": "code",
   "execution_count": 35,
   "metadata": {},
   "outputs": [
    {
     "data": {},
     "metadata": {},
     "output_type": "display_data"
    },
    {
     "data": {
      "image/png": "[encoded data removed]",
      "text/plain": [
       "plot without title"
      ]
     },
     "metadata": {},
     "output_type": "display_data"
    }
   ],
   "source": [
    "#png(filename=\"./plots/NEAA_coeff.png\", units=\"cm\", width=20, height=20, res = 300)\n",
    "ggplot(sexCoef_NE, aes(x = reorder(AA, estimate), y = estimate, color = AA)) + \n",
    "    geom_hline(yintercept = 0, alpha = 0.4) + \n",
    "    geom_point() + geom_pointrange( aes(x = AA, ymin = estimate - 2*std.error, ymax = estimate + 2*std.error)) + \n",
    "    theme(legend.position = \"none\") +\n",
    "    coord_flip() +\n",
    "    ggtitle('Non Essential AA: \\n Estimate and 95% CI.') +  xlab('estimate') + ylab(TeX('sex (boy $\\\\rightarrow$)')) \n",
    "#dev.off()"
   ]
  },
  {
   "cell_type": "code",
   "execution_count": 82,
   "metadata": {},
   "outputs": [
    {
     "data": {},
     "metadata": {},
     "output_type": "display_data"
    },
    {
     "data": {
      "text/html": [
       "<strong>png:</strong> 2"
      ],
      "text/latex": [
       "\\textbf{png:} 2"
      ],
      "text/markdown": [
       "**png:** 2"
      ],
      "text/plain": [
       "png \n",
       "  2 "
      ]
     },
     "metadata": {},
     "output_type": "display_data"
    }
   ],
   "source": [
    "#png(filename=\"./plots/NEAA_coeff_detail.png\", units=\"cm\", width=20, height=20, res = 300)\n",
    "ggplot(sexCoef_NE, aes(x = reorder(AA, estimate), y = estimate, color = AA)) + \n",
    "    geom_hline(yintercept = 0, alpha = 0.4) + \n",
    "    geom_point() + geom_pointrange( aes(x = AA, ymin = estimate - 2*std.error, ymax = estimate + 2*std.error)) + \n",
    "    theme(legend.position = \"none\") + \n",
    "    coord_flip(ylim = c(-0.5, 0.7), xlim = c(1, 4)) +  \n",
    "    ggtitle('Detail') + xlab('estimate') + ylab(TeX('sex (boy $\\\\rightarrow$)')) \n",
    "#dev.off()\n"
   ]
  },
  {
   "cell_type": "code",
   "execution_count": 37,
   "metadata": {},
   "outputs": [
    {
     "data": {
      "text/html": [
       "<table>\n",
       "<thead><tr><th scope=col>id</th><th scope=col>TAA</th></tr></thead>\n",
       "<tbody>\n",
       "\t<tr><td>1        </td><td>14.477273</td></tr>\n",
       "\t<tr><td>2        </td><td>17.409091</td></tr>\n",
       "\t<tr><td>3        </td><td>16.045455</td></tr>\n",
       "\t<tr><td>4        </td><td> 5.818182</td></tr>\n",
       "\t<tr><td>5        </td><td> 4.000000</td></tr>\n",
       "\t<tr><td>6        </td><td>13.909091</td></tr>\n",
       "</tbody>\n",
       "</table>\n"
      ],
      "text/latex": [
       "\\begin{tabular}{r|ll}\n",
       " id & TAA\\\\\n",
       "\\hline\n",
       "\t 1         & 14.477273\\\\\n",
       "\t 2         & 17.409091\\\\\n",
       "\t 3         & 16.045455\\\\\n",
       "\t 4         &  5.818182\\\\\n",
       "\t 5         &  4.000000\\\\\n",
       "\t 6         & 13.909091\\\\\n",
       "\\end{tabular}\n"
      ],
      "text/markdown": [
       "\n",
       "id | TAA | \n",
       "|---|---|---|---|---|---|\n",
       "| 1         | 14.477273 | \n",
       "| 2         | 17.409091 | \n",
       "| 3         | 16.045455 | \n",
       "| 4         |  5.818182 | \n",
       "| 5         |  4.000000 | \n",
       "| 6         | 13.909091 | \n",
       "\n",
       "\n"
      ],
      "text/plain": [
       "  id TAA      \n",
       "1 1  14.477273\n",
       "2 2  17.409091\n",
       "3 3  16.045455\n",
       "4 4   5.818182\n",
       "5 5   4.000000\n",
       "6 6  13.909091"
      ]
     },
     "metadata": {},
     "output_type": "display_data"
    }
   ],
   "source": [
    "AA_NE_Long %>% group_by(id) %>% summarise(TAA = mean(level, na.rm = T)) %>% head()"
   ]
  },
  {
   "cell_type": "code",
   "execution_count": 40,
   "metadata": {},
   "outputs": [
    {
     "data": {
      "text/html": [
       "<table>\n",
       "<thead><tr><th scope=col>effect</th><th scope=col>term</th><th scope=col>estimate</th><th scope=col>std.error</th><th scope=col>statistic</th><th scope=col>AA</th></tr></thead>\n",
       "<tbody>\n",
       "\t<tr><td>fixed        </td><td>week         </td><td> 0.0155052407</td><td>0.010917280  </td><td> 1.4202476   </td><td>HIS          </td></tr>\n",
       "\t<tr><td>fixed        </td><td>week         </td><td> 0.0133510720</td><td>0.006676275  </td><td> 1.9997787   </td><td>ILE          </td></tr>\n",
       "\t<tr><td>fixed        </td><td>week         </td><td> 0.0497045238</td><td>0.016096309  </td><td> 3.0879454   </td><td>LEU          </td></tr>\n",
       "\t<tr><td>fixed        </td><td>week         </td><td>-0.0537753068</td><td>0.016430839  </td><td>-3.2728278   </td><td>LYS          </td></tr>\n",
       "\t<tr><td>fixed        </td><td>week         </td><td> 0.0065908320</td><td>0.004543971  </td><td> 1.4504566   </td><td>MET          </td></tr>\n",
       "\t<tr><td>fixed        </td><td>week         </td><td> 0.0272732201</td><td>0.006733247  </td><td> 4.0505300   </td><td>PHE          </td></tr>\n",
       "\t<tr><td>fixed        </td><td>week         </td><td> 0.1310249700</td><td>0.031598543  </td><td> 4.1465511   </td><td>THR          </td></tr>\n",
       "\t<tr><td>fixed        </td><td>week         </td><td>-0.0004120271</td><td>0.001340103  </td><td>-0.3074593   </td><td>TRP          </td></tr>\n",
       "\t<tr><td>fixed        </td><td>week         </td><td> 0.0943042848</td><td>0.017936935  </td><td> 5.2575473   </td><td>VAL          </td></tr>\n",
       "</tbody>\n",
       "</table>\n"
      ],
      "text/latex": [
       "\\begin{tabular}{r|llllll}\n",
       " effect & term & estimate & std.error & statistic & AA\\\\\n",
       "\\hline\n",
       "\t fixed         & week          &  0.0155052407 & 0.010917280   &  1.4202476    & HIS          \\\\\n",
       "\t fixed         & week          &  0.0133510720 & 0.006676275   &  1.9997787    & ILE          \\\\\n",
       "\t fixed         & week          &  0.0497045238 & 0.016096309   &  3.0879454    & LEU          \\\\\n",
       "\t fixed         & week          & -0.0537753068 & 0.016430839   & -3.2728278    & LYS          \\\\\n",
       "\t fixed         & week          &  0.0065908320 & 0.004543971   &  1.4504566    & MET          \\\\\n",
       "\t fixed         & week          &  0.0272732201 & 0.006733247   &  4.0505300    & PHE          \\\\\n",
       "\t fixed         & week          &  0.1310249700 & 0.031598543   &  4.1465511    & THR          \\\\\n",
       "\t fixed         & week          & -0.0004120271 & 0.001340103   & -0.3074593    & TRP          \\\\\n",
       "\t fixed         & week          &  0.0943042848 & 0.017936935   &  5.2575473    & VAL          \\\\\n",
       "\\end{tabular}\n"
      ],
      "text/markdown": [
       "\n",
       "effect | term | estimate | std.error | statistic | AA | \n",
       "|---|---|---|---|---|---|---|---|---|\n",
       "| fixed         | week          |  0.0155052407 | 0.010917280   |  1.4202476    | HIS           | \n",
       "| fixed         | week          |  0.0133510720 | 0.006676275   |  1.9997787    | ILE           | \n",
       "| fixed         | week          |  0.0497045238 | 0.016096309   |  3.0879454    | LEU           | \n",
       "| fixed         | week          | -0.0537753068 | 0.016430839   | -3.2728278    | LYS           | \n",
       "| fixed         | week          |  0.0065908320 | 0.004543971   |  1.4504566    | MET           | \n",
       "| fixed         | week          |  0.0272732201 | 0.006733247   |  4.0505300    | PHE           | \n",
       "| fixed         | week          |  0.1310249700 | 0.031598543   |  4.1465511    | THR           | \n",
       "| fixed         | week          | -0.0004120271 | 0.001340103   | -0.3074593    | TRP           | \n",
       "| fixed         | week          |  0.0943042848 | 0.017936935   |  5.2575473    | VAL           | \n",
       "\n",
       "\n"
      ],
      "text/plain": [
       "  effect term estimate      std.error   statistic  AA \n",
       "1 fixed  week  0.0155052407 0.010917280  1.4202476 HIS\n",
       "2 fixed  week  0.0133510720 0.006676275  1.9997787 ILE\n",
       "3 fixed  week  0.0497045238 0.016096309  3.0879454 LEU\n",
       "4 fixed  week -0.0537753068 0.016430839 -3.2728278 LYS\n",
       "5 fixed  week  0.0065908320 0.004543971  1.4504566 MET\n",
       "6 fixed  week  0.0272732201 0.006733247  4.0505300 PHE\n",
       "7 fixed  week  0.1310249700 0.031598543  4.1465511 THR\n",
       "8 fixed  week -0.0004120271 0.001340103 -0.3074593 TRP\n",
       "9 fixed  week  0.0943042848 0.017936935  5.2575473 VAL"
      ]
     },
     "metadata": {},
     "output_type": "display_data"
    },
    {
     "data": {
      "text/html": [
       "<table>\n",
       "<thead><tr><th scope=col>effect</th><th scope=col>term</th><th scope=col>estimate</th><th scope=col>std.error</th><th scope=col>statistic</th><th scope=col>AA</th></tr></thead>\n",
       "<tbody>\n",
       "\t<tr><td>fixed        </td><td>week         </td><td>-0.0256058452</td><td>0.010165582  </td><td>-2.51887658  </td><td>ARG          </td></tr>\n",
       "\t<tr><td>fixed        </td><td>week         </td><td> 0.1506534181</td><td>0.031530444  </td><td> 4.77803029  </td><td>ASP          </td></tr>\n",
       "\t<tr><td>fixed        </td><td>week         </td><td> 0.6432946534</td><td>0.109616643  </td><td> 5.86858561  </td><td>ALA          </td></tr>\n",
       "\t<tr><td>fixed        </td><td>week         </td><td>-0.0007231668</td><td>0.010046321  </td><td>-0.07198324  </td><td>ASN          </td></tr>\n",
       "\t<tr><td>fixed        </td><td>week         </td><td> 0.0954215677</td><td>0.010469964  </td><td> 9.11383894  </td><td>CYS          </td></tr>\n",
       "\t<tr><td>fixed        </td><td>week         </td><td> 0.4108440229</td><td>0.053088741  </td><td> 7.73881653  </td><td>GLY          </td></tr>\n",
       "\t<tr><td>fixed        </td><td>week         </td><td> 4.0793697194</td><td>0.452598363  </td><td> 9.01322243  </td><td>GLU          </td></tr>\n",
       "\t<tr><td>fixed        </td><td>week         </td><td> 2.6781209810</td><td>0.224747115  </td><td>11.91615285  </td><td>GLN          </td></tr>\n",
       "\t<tr><td>fixed        </td><td>week         </td><td>-0.0536342174</td><td>0.023582439  </td><td>-2.27432871  </td><td>PRO          </td></tr>\n",
       "\t<tr><td>fixed        </td><td>week         </td><td> 0.4607940237</td><td>0.045398815  </td><td>10.14991297  </td><td>SER          </td></tr>\n",
       "\t<tr><td>fixed        </td><td>week         </td><td> 0.0179801299</td><td>0.007074038  </td><td> 2.54170681  </td><td>TYR          </td></tr>\n",
       "</tbody>\n",
       "</table>\n"
      ],
      "text/latex": [
       "\\begin{tabular}{r|llllll}\n",
       " effect & term & estimate & std.error & statistic & AA\\\\\n",
       "\\hline\n",
       "\t fixed         & week          & -0.0256058452 & 0.010165582   & -2.51887658   & ARG          \\\\\n",
       "\t fixed         & week          &  0.1506534181 & 0.031530444   &  4.77803029   & ASP          \\\\\n",
       "\t fixed         & week          &  0.6432946534 & 0.109616643   &  5.86858561   & ALA          \\\\\n",
       "\t fixed         & week          & -0.0007231668 & 0.010046321   & -0.07198324   & ASN          \\\\\n",
       "\t fixed         & week          &  0.0954215677 & 0.010469964   &  9.11383894   & CYS          \\\\\n",
       "\t fixed         & week          &  0.4108440229 & 0.053088741   &  7.73881653   & GLY          \\\\\n",
       "\t fixed         & week          &  4.0793697194 & 0.452598363   &  9.01322243   & GLU          \\\\\n",
       "\t fixed         & week          &  2.6781209810 & 0.224747115   & 11.91615285   & GLN          \\\\\n",
       "\t fixed         & week          & -0.0536342174 & 0.023582439   & -2.27432871   & PRO          \\\\\n",
       "\t fixed         & week          &  0.4607940237 & 0.045398815   & 10.14991297   & SER          \\\\\n",
       "\t fixed         & week          &  0.0179801299 & 0.007074038   &  2.54170681   & TYR          \\\\\n",
       "\\end{tabular}\n"
      ],
      "text/markdown": [
       "\n",
       "effect | term | estimate | std.error | statistic | AA | \n",
       "|---|---|---|---|---|---|---|---|---|---|---|\n",
       "| fixed         | week          | -0.0256058452 | 0.010165582   | -2.51887658   | ARG           | \n",
       "| fixed         | week          |  0.1506534181 | 0.031530444   |  4.77803029   | ASP           | \n",
       "| fixed         | week          |  0.6432946534 | 0.109616643   |  5.86858561   | ALA           | \n",
       "| fixed         | week          | -0.0007231668 | 0.010046321   | -0.07198324   | ASN           | \n",
       "| fixed         | week          |  0.0954215677 | 0.010469964   |  9.11383894   | CYS           | \n",
       "| fixed         | week          |  0.4108440229 | 0.053088741   |  7.73881653   | GLY           | \n",
       "| fixed         | week          |  4.0793697194 | 0.452598363   |  9.01322243   | GLU           | \n",
       "| fixed         | week          |  2.6781209810 | 0.224747115   | 11.91615285   | GLN           | \n",
       "| fixed         | week          | -0.0536342174 | 0.023582439   | -2.27432871   | PRO           | \n",
       "| fixed         | week          |  0.4607940237 | 0.045398815   | 10.14991297   | SER           | \n",
       "| fixed         | week          |  0.0179801299 | 0.007074038   |  2.54170681   | TYR           | \n",
       "\n",
       "\n"
      ],
      "text/plain": [
       "   effect term estimate      std.error   statistic   AA \n",
       "1  fixed  week -0.0256058452 0.010165582 -2.51887658 ARG\n",
       "2  fixed  week  0.1506534181 0.031530444  4.77803029 ASP\n",
       "3  fixed  week  0.6432946534 0.109616643  5.86858561 ALA\n",
       "4  fixed  week -0.0007231668 0.010046321 -0.07198324 ASN\n",
       "5  fixed  week  0.0954215677 0.010469964  9.11383894 CYS\n",
       "6  fixed  week  0.4108440229 0.053088741  7.73881653 GLY\n",
       "7  fixed  week  4.0793697194 0.452598363  9.01322243 GLU\n",
       "8  fixed  week  2.6781209810 0.224747115 11.91615285 GLN\n",
       "9  fixed  week -0.0536342174 0.023582439 -2.27432871 PRO\n",
       "10 fixed  week  0.4607940237 0.045398815 10.14991297 SER\n",
       "11 fixed  week  0.0179801299 0.007074038  2.54170681 TYR"
      ]
     },
     "metadata": {},
     "output_type": "display_data"
    }
   ],
   "source": [
    "weekCoef_E <- bind_rows(tidy_E) %>% filter(grepl(\"week\", term))\n",
    "weekCoef_NE <- bind_rows(tidy_NE) %>% filter(grepl(\"week\", term))\n",
    "\n",
    "weekCoef_E\n",
    "weekCoef_NE"
   ]
  },
  {
   "cell_type": "code",
   "execution_count": 41,
   "metadata": {},
   "outputs": [
    {
     "data": {},
     "metadata": {},
     "output_type": "display_data"
    },
    {
     "data": {
      "image/png": "[encoded data removed]",
      "text/plain": [
       "plot without title"
      ]
     },
     "metadata": {},
     "output_type": "display_data"
    }
   ],
   "source": [
    "#png(filename=\"./plots/EAA_week_coeff.png\", units=\"cm\", width=20, height=20, res = 300)\n",
    "ggplot(weekCoef_E, aes(x = reorder(AA, estimate), y = estimate, color = AA)) + \n",
    "    geom_hline(yintercept = 0, alpha = 0.4) + \n",
    "    geom_point() + geom_pointrange( aes(x = AA, ymin = estimate - 2*std.error, ymax = estimate + 2*std.error)) + \n",
    "    theme(legend.position = \"none\") +\n",
    "    coord_flip() +\n",
    "    ggtitle('Essential AA; \\n Estimate and 95% CI.') +  xlab('estimate') + ylab('week') \n",
    "#dev.off()"
   ]
  },
  {
   "cell_type": "code",
   "execution_count": 42,
   "metadata": {},
   "outputs": [
    {
     "data": {},
     "metadata": {},
     "output_type": "display_data"
    },
    {
     "data": {
      "image/png": "[encoded data removed]",
      "text/plain": [
       "plot without title"
      ]
     },
     "metadata": {},
     "output_type": "display_data"
    }
   ],
   "source": [
    "#png(filename=\"./plots/NEAA_week_coeff.png\", units=\"cm\", width=20, height=20, res = 300)\n",
    "ggplot(weekCoef_NE, aes(x = reorder(AA, estimate), y = estimate, color = AA)) + \n",
    "    geom_hline(yintercept = 0, alpha = 0.4) + \n",
    "    geom_point() + geom_pointrange( aes(x = AA, ymin = estimate - 2*std.error, ymax = estimate + 2*std.error)) + \n",
    "    theme(legend.position = \"none\") +\n",
    "    coord_flip() +\n",
    "    ggtitle('Non Essential: AA \\n Estimate and 95% CI') +  xlab('estimate') + ylab('week controlling for sex') \n",
    "#dev.off()"
   ]
  },
  {
   "cell_type": "markdown",
   "metadata": {},
   "source": [
    "## Group and Free AA levels\n",
    "\n",
    "$AA = \\alpha_0 + \\alpha_1 \\ group + \\alpha_2 \\ sex + \\alpha_3 \\ week + \\alpha_{id}$"
   ]
  },
  {
   "cell_type": "code",
   "execution_count": 43,
   "metadata": {
    "collapsed": true
   },
   "outputs": [],
   "source": [
    "meGroup <- function(df){\n",
    "    \n",
    "    me <- lmer(level ~ sex + group + week + (1 | id), data = df)\n",
    "    \n",
    "    return(me)\n",
    "}"
   ]
  },
  {
   "cell_type": "code",
   "execution_count": 44,
   "metadata": {
    "collapsed": true
   },
   "outputs": [],
   "source": [
    "me_E_G <- list()\n",
    "tidy_E_G <- list()\n",
    "\n",
    "for(i in 1:nAA_E){\n",
    "    \n",
    "    me_E_G[[i]] <- meGroup(AA_E_Nested$data[[i]])\n",
    "    tidy_E_G[[i]] <- tidy(me_E_G[[i]], effects = 'fixed') %>% mutate(AA = AA_E_Nested$AA[i])\n",
    "    \n",
    "}"
   ]
  },
  {
   "cell_type": "code",
   "execution_count": 45,
   "metadata": {
    "collapsed": true
   },
   "outputs": [],
   "source": [
    "me_NE_G <- list()\n",
    "tidy_NE_G <- list()\n",
    "\n",
    "for(i in 1:nAA_NE){\n",
    "    \n",
    "    me_NE_G[[i]] <- meGroup(AA_NE_Nested$data[[i]])\n",
    "    tidy_NE_G[[i]] <- tidy(me_NE_G[[i]], effects = 'fixed') %>% mutate(AA = AA_NE_Nested$AA[i])\n",
    "\n",
    "}"
   ]
  },
  {
   "cell_type": "code",
   "execution_count": 46,
   "metadata": {
    "collapsed": true
   },
   "outputs": [],
   "source": [
    "AA_E_Nested <- AA_E_Nested %>% mutate(model_G = me_E_G, tidy_G = tidy_E_G)\n",
    "AA_NE_Nested <- AA_NE_Nested %>% mutate(model_G = me_NE_G, tidy_G = tidy_NE_G)"
   ]
  },
  {
   "cell_type": "code",
   "execution_count": 47,
   "metadata": {},
   "outputs": [
    {
     "data": {
      "text/plain": [
       "[[1]]\n",
       "Linear mixed model fit by REML ['lmerMod']\n",
       "Formula: level ~ sex + group + week + (1 | id)\n",
       "   Data: df\n",
       "REML criterion at convergence: 485.7638\n",
       "Random effects:\n",
       " Groups   Name        Std.Dev.\n",
       " id       (Intercept) 0.2849  \n",
       " Residual             0.8451  \n",
       "Number of obs: 183, groups:  id, 61\n",
       "Fixed Effects:\n",
       "(Intercept)       sexboy   groupadult         week  \n",
       "    1.69466      0.19741      0.07302      0.01516  \n"
      ]
     },
     "metadata": {},
     "output_type": "display_data"
    },
    {
     "data": {
      "text/html": [
       "<table>\n",
       "<thead><tr><th scope=col>effect</th><th scope=col>term</th><th scope=col>estimate</th><th scope=col>std.error</th><th scope=col>statistic</th><th scope=col>AA</th></tr></thead>\n",
       "<tbody>\n",
       "\t<tr><td>fixed      </td><td>(Intercept)</td><td>1.69465972 </td><td>0.15172437 </td><td>11.1693307 </td><td>HIS        </td></tr>\n",
       "\t<tr><td>fixed      </td><td>sexboy     </td><td>0.19741206 </td><td>0.15314414 </td><td> 1.2890605 </td><td>HIS        </td></tr>\n",
       "\t<tr><td>fixed      </td><td>groupadult </td><td>0.07302050 </td><td>0.15447799 </td><td> 0.4726919 </td><td>HIS        </td></tr>\n",
       "\t<tr><td>fixed      </td><td>week       </td><td>0.01515671 </td><td>0.01095015 </td><td> 1.3841560 </td><td>HIS        </td></tr>\n",
       "</tbody>\n",
       "</table>\n"
      ],
      "text/latex": [
       "\\begin{tabular}{r|llllll}\n",
       " effect & term & estimate & std.error & statistic & AA\\\\\n",
       "\\hline\n",
       "\t fixed       & (Intercept) & 1.69465972  & 0.15172437  & 11.1693307  & HIS        \\\\\n",
       "\t fixed       & sexboy      & 0.19741206  & 0.15314414  &  1.2890605  & HIS        \\\\\n",
       "\t fixed       & groupadult  & 0.07302050  & 0.15447799  &  0.4726919  & HIS        \\\\\n",
       "\t fixed       & week        & 0.01515671  & 0.01095015  &  1.3841560  & HIS        \\\\\n",
       "\\end{tabular}\n"
      ],
      "text/markdown": [
       "\n",
       "effect | term | estimate | std.error | statistic | AA | \n",
       "|---|---|---|---|\n",
       "| fixed       | (Intercept) | 1.69465972  | 0.15172437  | 11.1693307  | HIS         | \n",
       "| fixed       | sexboy      | 0.19741206  | 0.15314414  |  1.2890605  | HIS         | \n",
       "| fixed       | groupadult  | 0.07302050  | 0.15447799  |  0.4726919  | HIS         | \n",
       "| fixed       | week        | 0.01515671  | 0.01095015  |  1.3841560  | HIS         | \n",
       "\n",
       "\n"
      ],
      "text/plain": [
       "  effect term        estimate   std.error  statistic  AA \n",
       "1 fixed  (Intercept) 1.69465972 0.15172437 11.1693307 HIS\n",
       "2 fixed  sexboy      0.19741206 0.15314414  1.2890605 HIS\n",
       "3 fixed  groupadult  0.07302050 0.15447799  0.4726919 HIS\n",
       "4 fixed  week        0.01515671 0.01095015  1.3841560 HIS"
      ]
     },
     "metadata": {},
     "output_type": "display_data"
    },
    {
     "data": {
      "text/html": [
       "<table>\n",
       "<thead><tr><th scope=col>effect</th><th scope=col>term</th><th scope=col>estimate</th><th scope=col>std.error</th><th scope=col>statistic</th><th scope=col>AA</th></tr></thead>\n",
       "<tbody>\n",
       "\t<tr><td>fixed      </td><td>(Intercept)</td><td>1.73260733 </td><td>0.12840780 </td><td>13.493007  </td><td>HIS        </td></tr>\n",
       "\t<tr><td>fixed      </td><td>sexboy     </td><td>0.18009510 </td><td>0.14783155 </td><td> 1.218245  </td><td>HIS        </td></tr>\n",
       "\t<tr><td>fixed      </td><td>week       </td><td>0.01550524 </td><td>0.01091728 </td><td> 1.420248  </td><td>HIS        </td></tr>\n",
       "</tbody>\n",
       "</table>\n"
      ],
      "text/latex": [
       "\\begin{tabular}{r|llllll}\n",
       " effect & term & estimate & std.error & statistic & AA\\\\\n",
       "\\hline\n",
       "\t fixed       & (Intercept) & 1.73260733  & 0.12840780  & 13.493007   & HIS        \\\\\n",
       "\t fixed       & sexboy      & 0.18009510  & 0.14783155  &  1.218245   & HIS        \\\\\n",
       "\t fixed       & week        & 0.01550524  & 0.01091728  &  1.420248   & HIS        \\\\\n",
       "\\end{tabular}\n"
      ],
      "text/markdown": [
       "\n",
       "effect | term | estimate | std.error | statistic | AA | \n",
       "|---|---|---|\n",
       "| fixed       | (Intercept) | 1.73260733  | 0.12840780  | 13.493007   | HIS         | \n",
       "| fixed       | sexboy      | 0.18009510  | 0.14783155  |  1.218245   | HIS         | \n",
       "| fixed       | week        | 0.01550524  | 0.01091728  |  1.420248   | HIS         | \n",
       "\n",
       "\n"
      ],
      "text/plain": [
       "  effect term        estimate   std.error  statistic AA \n",
       "1 fixed  (Intercept) 1.73260733 0.12840780 13.493007 HIS\n",
       "2 fixed  sexboy      0.18009510 0.14783155  1.218245 HIS\n",
       "3 fixed  week        0.01550524 0.01091728  1.420248 HIS"
      ]
     },
     "metadata": {},
     "output_type": "display_data"
    }
   ],
   "source": [
    "me_E_G[1]\n",
    "AA_E_Nested$tidy_G[[1]]\n",
    "AA_E_Nested$tidy[[1]]"
   ]
  },
  {
   "cell_type": "code",
   "execution_count": 48,
   "metadata": {},
   "outputs": [
    {
     "data": {
      "text/html": [
       "<table>\n",
       "<thead><tr><th scope=col>effect</th><th scope=col>term</th><th scope=col>estimate</th><th scope=col>std.error</th><th scope=col>statistic</th><th scope=col>AA</th></tr></thead>\n",
       "<tbody>\n",
       "\t<tr><td>fixed      </td><td>sexboy     </td><td> 0.13119286</td><td>0.1580725  </td><td> 0.8299535 </td><td>ARG        </td></tr>\n",
       "\t<tr><td>fixed      </td><td>sexboy     </td><td> 0.47781369</td><td>0.4972377  </td><td> 0.9609363 </td><td>ASP        </td></tr>\n",
       "\t<tr><td>fixed      </td><td>sexboy     </td><td> 1.82605942</td><td>1.7129060  </td><td> 1.0660594 </td><td>ALA        </td></tr>\n",
       "\t<tr><td>fixed      </td><td>sexboy     </td><td>-0.04476726</td><td>0.1290421  </td><td>-0.3469199 </td><td>ASN        </td></tr>\n",
       "\t<tr><td>fixed      </td><td>sexboy     </td><td> 0.32271226</td><td>0.1688611  </td><td> 1.9111112 </td><td>CYS        </td></tr>\n",
       "\t<tr><td>fixed      </td><td>sexboy     </td><td> 1.80891292</td><td>0.8199613  </td><td> 2.2060955 </td><td>GLY        </td></tr>\n",
       "\t<tr><td>fixed      </td><td>sexboy     </td><td>13.19308351</td><td>6.7666051  </td><td> 1.9497345 </td><td>GLU        </td></tr>\n",
       "\t<tr><td>fixed      </td><td>sexboy     </td><td> 4.85963020</td><td>3.3327430  </td><td> 1.4581473 </td><td>GLN        </td></tr>\n",
       "\t<tr><td>fixed      </td><td>sexboy     </td><td> 0.34748015</td><td>0.3551629  </td><td> 0.9783683 </td><td>PRO        </td></tr>\n",
       "\t<tr><td>fixed      </td><td>sexboy     </td><td> 1.48581776</td><td>0.7025900  </td><td> 2.1147721 </td><td>SER        </td></tr>\n",
       "\t<tr><td>fixed      </td><td>sexboy     </td><td> 0.20476119</td><td>0.1124081  </td><td> 1.8215867 </td><td>TYR        </td></tr>\n",
       "</tbody>\n",
       "</table>\n"
      ],
      "text/latex": [
       "\\begin{tabular}{r|llllll}\n",
       " effect & term & estimate & std.error & statistic & AA\\\\\n",
       "\\hline\n",
       "\t fixed       & sexboy      &  0.13119286 & 0.1580725   &  0.8299535  & ARG        \\\\\n",
       "\t fixed       & sexboy      &  0.47781369 & 0.4972377   &  0.9609363  & ASP        \\\\\n",
       "\t fixed       & sexboy      &  1.82605942 & 1.7129060   &  1.0660594  & ALA        \\\\\n",
       "\t fixed       & sexboy      & -0.04476726 & 0.1290421   & -0.3469199  & ASN        \\\\\n",
       "\t fixed       & sexboy      &  0.32271226 & 0.1688611   &  1.9111112  & CYS        \\\\\n",
       "\t fixed       & sexboy      &  1.80891292 & 0.8199613   &  2.2060955  & GLY        \\\\\n",
       "\t fixed       & sexboy      & 13.19308351 & 6.7666051   &  1.9497345  & GLU        \\\\\n",
       "\t fixed       & sexboy      &  4.85963020 & 3.3327430   &  1.4581473  & GLN        \\\\\n",
       "\t fixed       & sexboy      &  0.34748015 & 0.3551629   &  0.9783683  & PRO        \\\\\n",
       "\t fixed       & sexboy      &  1.48581776 & 0.7025900   &  2.1147721  & SER        \\\\\n",
       "\t fixed       & sexboy      &  0.20476119 & 0.1124081   &  1.8215867  & TYR        \\\\\n",
       "\\end{tabular}\n"
      ],
      "text/markdown": [
       "\n",
       "effect | term | estimate | std.error | statistic | AA | \n",
       "|---|---|---|---|---|---|---|---|---|---|---|\n",
       "| fixed       | sexboy      |  0.13119286 | 0.1580725   |  0.8299535  | ARG         | \n",
       "| fixed       | sexboy      |  0.47781369 | 0.4972377   |  0.9609363  | ASP         | \n",
       "| fixed       | sexboy      |  1.82605942 | 1.7129060   |  1.0660594  | ALA         | \n",
       "| fixed       | sexboy      | -0.04476726 | 0.1290421   | -0.3469199  | ASN         | \n",
       "| fixed       | sexboy      |  0.32271226 | 0.1688611   |  1.9111112  | CYS         | \n",
       "| fixed       | sexboy      |  1.80891292 | 0.8199613   |  2.2060955  | GLY         | \n",
       "| fixed       | sexboy      | 13.19308351 | 6.7666051   |  1.9497345  | GLU         | \n",
       "| fixed       | sexboy      |  4.85963020 | 3.3327430   |  1.4581473  | GLN         | \n",
       "| fixed       | sexboy      |  0.34748015 | 0.3551629   |  0.9783683  | PRO         | \n",
       "| fixed       | sexboy      |  1.48581776 | 0.7025900   |  2.1147721  | SER         | \n",
       "| fixed       | sexboy      |  0.20476119 | 0.1124081   |  1.8215867  | TYR         | \n",
       "\n",
       "\n"
      ],
      "text/plain": [
       "   effect term   estimate    std.error statistic  AA \n",
       "1  fixed  sexboy  0.13119286 0.1580725  0.8299535 ARG\n",
       "2  fixed  sexboy  0.47781369 0.4972377  0.9609363 ASP\n",
       "3  fixed  sexboy  1.82605942 1.7129060  1.0660594 ALA\n",
       "4  fixed  sexboy -0.04476726 0.1290421 -0.3469199 ASN\n",
       "5  fixed  sexboy  0.32271226 0.1688611  1.9111112 CYS\n",
       "6  fixed  sexboy  1.80891292 0.8199613  2.2060955 GLY\n",
       "7  fixed  sexboy 13.19308351 6.7666051  1.9497345 GLU\n",
       "8  fixed  sexboy  4.85963020 3.3327430  1.4581473 GLN\n",
       "9  fixed  sexboy  0.34748015 0.3551629  0.9783683 PRO\n",
       "10 fixed  sexboy  1.48581776 0.7025900  2.1147721 SER\n",
       "11 fixed  sexboy  0.20476119 0.1124081  1.8215867 TYR"
      ]
     },
     "metadata": {},
     "output_type": "display_data"
    },
    {
     "data": {
      "text/html": [
       "<table>\n",
       "<thead><tr><th scope=col>effect</th><th scope=col>term</th><th scope=col>estimate</th><th scope=col>std.error</th><th scope=col>statistic</th><th scope=col>AA</th></tr></thead>\n",
       "<tbody>\n",
       "\t<tr><td>fixed       </td><td>groupadult  </td><td> 0.073020496</td><td>0.15447799  </td><td> 0.4726919  </td><td>HIS         </td></tr>\n",
       "\t<tr><td>fixed       </td><td>groupadult  </td><td>-0.083155492</td><td>0.10912814  </td><td>-0.7619986  </td><td>ILE         </td></tr>\n",
       "\t<tr><td>fixed       </td><td>groupadult  </td><td> 0.074785724</td><td>0.20732122  </td><td> 0.3607239  </td><td>LEU         </td></tr>\n",
       "\t<tr><td>fixed       </td><td>groupadult  </td><td> 0.084027004</td><td>0.22950020  </td><td> 0.3661304  </td><td>LYS         </td></tr>\n",
       "\t<tr><td>fixed       </td><td>groupadult  </td><td> 0.029426189</td><td>0.05794487  </td><td> 0.5078308  </td><td>MET         </td></tr>\n",
       "\t<tr><td>fixed       </td><td>groupadult  </td><td> 0.028960713</td><td>0.08380161  </td><td> 0.3455866  </td><td>PHE         </td></tr>\n",
       "\t<tr><td>fixed       </td><td>groupadult  </td><td> 0.917370138</td><td>0.62730367  </td><td> 1.4624020  </td><td>THR         </td></tr>\n",
       "\t<tr><td>fixed       </td><td>groupadult  </td><td> 0.003820134</td><td>0.01636325  </td><td> 0.2334581  </td><td>TRP         </td></tr>\n",
       "\t<tr><td>fixed       </td><td>groupadult  </td><td> 0.060417454</td><td>0.26093030  </td><td> 0.2315463  </td><td>VAL         </td></tr>\n",
       "</tbody>\n",
       "</table>\n"
      ],
      "text/latex": [
       "\\begin{tabular}{r|llllll}\n",
       " effect & term & estimate & std.error & statistic & AA\\\\\n",
       "\\hline\n",
       "\t fixed        & groupadult   &  0.073020496 & 0.15447799   &  0.4726919   & HIS         \\\\\n",
       "\t fixed        & groupadult   & -0.083155492 & 0.10912814   & -0.7619986   & ILE         \\\\\n",
       "\t fixed        & groupadult   &  0.074785724 & 0.20732122   &  0.3607239   & LEU         \\\\\n",
       "\t fixed        & groupadult   &  0.084027004 & 0.22950020   &  0.3661304   & LYS         \\\\\n",
       "\t fixed        & groupadult   &  0.029426189 & 0.05794487   &  0.5078308   & MET         \\\\\n",
       "\t fixed        & groupadult   &  0.028960713 & 0.08380161   &  0.3455866   & PHE         \\\\\n",
       "\t fixed        & groupadult   &  0.917370138 & 0.62730367   &  1.4624020   & THR         \\\\\n",
       "\t fixed        & groupadult   &  0.003820134 & 0.01636325   &  0.2334581   & TRP         \\\\\n",
       "\t fixed        & groupadult   &  0.060417454 & 0.26093030   &  0.2315463   & VAL         \\\\\n",
       "\\end{tabular}\n"
      ],
      "text/markdown": [
       "\n",
       "effect | term | estimate | std.error | statistic | AA | \n",
       "|---|---|---|---|---|---|---|---|---|\n",
       "| fixed        | groupadult   |  0.073020496 | 0.15447799   |  0.4726919   | HIS          | \n",
       "| fixed        | groupadult   | -0.083155492 | 0.10912814   | -0.7619986   | ILE          | \n",
       "| fixed        | groupadult   |  0.074785724 | 0.20732122   |  0.3607239   | LEU          | \n",
       "| fixed        | groupadult   |  0.084027004 | 0.22950020   |  0.3661304   | LYS          | \n",
       "| fixed        | groupadult   |  0.029426189 | 0.05794487   |  0.5078308   | MET          | \n",
       "| fixed        | groupadult   |  0.028960713 | 0.08380161   |  0.3455866   | PHE          | \n",
       "| fixed        | groupadult   |  0.917370138 | 0.62730367   |  1.4624020   | THR          | \n",
       "| fixed        | groupadult   |  0.003820134 | 0.01636325   |  0.2334581   | TRP          | \n",
       "| fixed        | groupadult   |  0.060417454 | 0.26093030   |  0.2315463   | VAL          | \n",
       "\n",
       "\n"
      ],
      "text/plain": [
       "  effect term       estimate     std.error  statistic  AA \n",
       "1 fixed  groupadult  0.073020496 0.15447799  0.4726919 HIS\n",
       "2 fixed  groupadult -0.083155492 0.10912814 -0.7619986 ILE\n",
       "3 fixed  groupadult  0.074785724 0.20732122  0.3607239 LEU\n",
       "4 fixed  groupadult  0.084027004 0.22950020  0.3661304 LYS\n",
       "5 fixed  groupadult  0.029426189 0.05794487  0.5078308 MET\n",
       "6 fixed  groupadult  0.028960713 0.08380161  0.3455866 PHE\n",
       "7 fixed  groupadult  0.917370138 0.62730367  1.4624020 THR\n",
       "8 fixed  groupadult  0.003820134 0.01636325  0.2334581 TRP\n",
       "9 fixed  groupadult  0.060417454 0.26093030  0.2315463 VAL"
      ]
     },
     "metadata": {},
     "output_type": "display_data"
    },
    {
     "data": {
      "text/html": [
       "<table>\n",
       "<thead><tr><th scope=col>effect</th><th scope=col>term</th><th scope=col>estimate</th><th scope=col>std.error</th><th scope=col>statistic</th><th scope=col>AA</th></tr></thead>\n",
       "<tbody>\n",
       "\t<tr><td>fixed      </td><td>groupadult </td><td>-0.05459405</td><td>0.1595268  </td><td>-0.34222494</td><td>ARG        </td></tr>\n",
       "\t<tr><td>fixed      </td><td>groupadult </td><td>-0.30670596</td><td>0.5018444  </td><td>-0.61115746</td><td>ASP        </td></tr>\n",
       "\t<tr><td>fixed      </td><td>groupadult </td><td> 0.89361966</td><td>1.7286932  </td><td> 0.51693364</td><td>ALA        </td></tr>\n",
       "\t<tr><td>fixed      </td><td>groupadult </td><td> 0.16081508</td><td>0.1301098  </td><td> 1.23599534</td><td>ASN        </td></tr>\n",
       "\t<tr><td>fixed      </td><td>groupadult </td><td>-0.14744090</td><td>0.1704427  </td><td>-0.86504663</td><td>CYS        </td></tr>\n",
       "\t<tr><td>fixed      </td><td>groupadult </td><td>-0.04948849</td><td>0.8274783  </td><td>-0.05980639</td><td>GLY        </td></tr>\n",
       "\t<tr><td>fixed      </td><td>groupadult </td><td>-5.24953592</td><td>6.8276765  </td><td>-0.76886126</td><td>GLU        </td></tr>\n",
       "\t<tr><td>fixed      </td><td>groupadult </td><td> 7.73109968</td><td>3.3626699  </td><td> 2.29909566</td><td>GLN        </td></tr>\n",
       "\t<tr><td>fixed      </td><td>groupadult </td><td>-0.17061851</td><td>0.3583763  </td><td>-0.47608764</td><td>PRO        </td></tr>\n",
       "\t<tr><td>fixed      </td><td>groupadult </td><td> 1.12675255</td><td>0.7090336  </td><td> 1.58913852</td><td>SER        </td></tr>\n",
       "\t<tr><td>fixed      </td><td>groupadult </td><td>-0.14107793</td><td>0.1134533  </td><td>-1.24348855</td><td>TYR        </td></tr>\n",
       "</tbody>\n",
       "</table>\n"
      ],
      "text/latex": [
       "\\begin{tabular}{r|llllll}\n",
       " effect & term & estimate & std.error & statistic & AA\\\\\n",
       "\\hline\n",
       "\t fixed       & groupadult  & -0.05459405 & 0.1595268   & -0.34222494 & ARG        \\\\\n",
       "\t fixed       & groupadult  & -0.30670596 & 0.5018444   & -0.61115746 & ASP        \\\\\n",
       "\t fixed       & groupadult  &  0.89361966 & 1.7286932   &  0.51693364 & ALA        \\\\\n",
       "\t fixed       & groupadult  &  0.16081508 & 0.1301098   &  1.23599534 & ASN        \\\\\n",
       "\t fixed       & groupadult  & -0.14744090 & 0.1704427   & -0.86504663 & CYS        \\\\\n",
       "\t fixed       & groupadult  & -0.04948849 & 0.8274783   & -0.05980639 & GLY        \\\\\n",
       "\t fixed       & groupadult  & -5.24953592 & 6.8276765   & -0.76886126 & GLU        \\\\\n",
       "\t fixed       & groupadult  &  7.73109968 & 3.3626699   &  2.29909566 & GLN        \\\\\n",
       "\t fixed       & groupadult  & -0.17061851 & 0.3583763   & -0.47608764 & PRO        \\\\\n",
       "\t fixed       & groupadult  &  1.12675255 & 0.7090336   &  1.58913852 & SER        \\\\\n",
       "\t fixed       & groupadult  & -0.14107793 & 0.1134533   & -1.24348855 & TYR        \\\\\n",
       "\\end{tabular}\n"
      ],
      "text/markdown": [
       "\n",
       "effect | term | estimate | std.error | statistic | AA | \n",
       "|---|---|---|---|---|---|---|---|---|---|---|\n",
       "| fixed       | groupadult  | -0.05459405 | 0.1595268   | -0.34222494 | ARG         | \n",
       "| fixed       | groupadult  | -0.30670596 | 0.5018444   | -0.61115746 | ASP         | \n",
       "| fixed       | groupadult  |  0.89361966 | 1.7286932   |  0.51693364 | ALA         | \n",
       "| fixed       | groupadult  |  0.16081508 | 0.1301098   |  1.23599534 | ASN         | \n",
       "| fixed       | groupadult  | -0.14744090 | 0.1704427   | -0.86504663 | CYS         | \n",
       "| fixed       | groupadult  | -0.04948849 | 0.8274783   | -0.05980639 | GLY         | \n",
       "| fixed       | groupadult  | -5.24953592 | 6.8276765   | -0.76886126 | GLU         | \n",
       "| fixed       | groupadult  |  7.73109968 | 3.3626699   |  2.29909566 | GLN         | \n",
       "| fixed       | groupadult  | -0.17061851 | 0.3583763   | -0.47608764 | PRO         | \n",
       "| fixed       | groupadult  |  1.12675255 | 0.7090336   |  1.58913852 | SER         | \n",
       "| fixed       | groupadult  | -0.14107793 | 0.1134533   | -1.24348855 | TYR         | \n",
       "\n",
       "\n"
      ],
      "text/plain": [
       "   effect term       estimate    std.error statistic   AA \n",
       "1  fixed  groupadult -0.05459405 0.1595268 -0.34222494 ARG\n",
       "2  fixed  groupadult -0.30670596 0.5018444 -0.61115746 ASP\n",
       "3  fixed  groupadult  0.89361966 1.7286932  0.51693364 ALA\n",
       "4  fixed  groupadult  0.16081508 0.1301098  1.23599534 ASN\n",
       "5  fixed  groupadult -0.14744090 0.1704427 -0.86504663 CYS\n",
       "6  fixed  groupadult -0.04948849 0.8274783 -0.05980639 GLY\n",
       "7  fixed  groupadult -5.24953592 6.8276765 -0.76886126 GLU\n",
       "8  fixed  groupadult  7.73109968 3.3626699  2.29909566 GLN\n",
       "9  fixed  groupadult -0.17061851 0.3583763 -0.47608764 PRO\n",
       "10 fixed  groupadult  1.12675255 0.7090336  1.58913852 SER\n",
       "11 fixed  groupadult -0.14107793 0.1134533 -1.24348855 TYR"
      ]
     },
     "metadata": {},
     "output_type": "display_data"
    }
   ],
   "source": [
    "sexCoef_E_G <- bind_rows(tidy_E_G) %>% filter(grepl(\"sexboy\", term))\n",
    "sexCoef_NE_G <- bind_rows(tidy_NE_G) %>% filter(grepl(\"sexboy\", term))\n",
    "\n",
    "groupCoef_E_G <- bind_rows(tidy_E_G) %>% filter(grepl(\"groupadult\", term))\n",
    "groupCoef_NE_G <- bind_rows(tidy_NE_G) %>% filter(grepl(\"groupadult\", term))\n",
    "\n",
    "sexCoef_NE_G\n",
    "groupCoef_E_G\n",
    "groupCoef_NE_G"
   ]
  },
  {
   "cell_type": "code",
   "execution_count": 49,
   "metadata": {},
   "outputs": [
    {
     "data": {},
     "metadata": {},
     "output_type": "display_data"
    },
    {
     "data": {
      "image/png": "[encoded data removed]",
      "text/plain": [
       "plot without title"
      ]
     },
     "metadata": {},
     "output_type": "display_data"
    }
   ],
   "source": [
    "#png(filename=\"./plots/EAA_G_given_S_coeff.png\", units=\"cm\", width=20, height=20, res = 300)\n",
    "ggplot(groupCoef_E_G, aes(x = reorder(AA, estimate), y = estimate, color = AA)) + \n",
    "    geom_hline(yintercept = 0, alpha = 0.4) + \n",
    "    geom_point() + geom_pointrange( aes(x = AA, ymin = estimate - 2*std.error, ymax = estimate + 2*std.error)) + \n",
    "    theme(legend.position = \"none\") + \n",
    "    coord_flip() + \n",
    "    ggtitle('Essential AA: \\n Estimate and 95% CI controlling for sex') + ylab(TeX('group (adult $\\\\rightarrow$)')) \n",
    "#dev.off()"
   ]
  },
  {
   "cell_type": "code",
   "execution_count": 50,
   "metadata": {},
   "outputs": [
    {
     "data": {},
     "metadata": {},
     "output_type": "display_data"
    },
    {
     "data": {
      "image/png": "[encoded data removed]",
      "text/plain": [
       "plot without title"
      ]
     },
     "metadata": {},
     "output_type": "display_data"
    }
   ],
   "source": [
    "#png(filename=\"./plots/EAA_S_given_G_coeff.png\", units=\"cm\", width=20, height=20, res = 300)\n",
    "ggplot(sexCoef_E_G, aes(x = reorder(AA, estimate), y = estimate, color = AA)) + \n",
    "    geom_hline(yintercept = 0, alpha = 0.4) + \n",
    "    geom_point() + geom_pointrange( aes(x = AA, ymin = estimate - 2*std.error, ymax = estimate + 2*std.error)) + \n",
    "    theme(legend.position = \"none\") + \n",
    "    coord_flip() + \n",
    "    ggtitle('Essential AA: \\n Estimate and 95% CI controlling for group') + ylab(TeX('sex (boy $\\\\rightarrow$)'))\n",
    "#dev.off()"
   ]
  },
  {
   "cell_type": "code",
   "execution_count": 51,
   "metadata": {},
   "outputs": [
    {
     "data": {},
     "metadata": {},
     "output_type": "display_data"
    },
    {
     "data": {
      "image/png": "[encoded data removed]",
      "text/plain": [
       "plot without title"
      ]
     },
     "metadata": {},
     "output_type": "display_data"
    }
   ],
   "source": [
    "#png(filename=\"./plots/NEAA_G_given_S_coeff.png\", units=\"cm\", width=20, height=20, res = 300)\n",
    "ggplot(groupCoef_NE_G, aes(x = AA, y = estimate, color = AA)) + \n",
    "    geom_hline(yintercept = 0, alpha = 0.4) + \n",
    "    geom_point() + geom_pointrange( aes(x = AA, ymin = estimate - 2*std.error, ymax = estimate + 2*std.error)) + \n",
    "    theme(legend.position = \"none\") +\n",
    "    coord_flip() + ylab(TeX('group (adult $\\\\rightarrow$)')) + \n",
    "    ggtitle('Non Essential AA: \\n Estimate and 95% CI controlling for sex')\n",
    "#dev.off()"
   ]
  },
  {
   "cell_type": "code",
   "execution_count": 52,
   "metadata": {},
   "outputs": [
    {
     "data": {},
     "metadata": {},
     "output_type": "display_data"
    },
    {
     "data": {
      "image/png": "[encoded data removed]",
      "text/plain": [
       "plot without title"
      ]
     },
     "metadata": {},
     "output_type": "display_data"
    }
   ],
   "source": [
    "#png(filename=\"./plots/NEAA_S_given_G_coeff.png\", units=\"cm\", width=20, height=20, res = 300)\n",
    "ggplot(sexCoef_NE_G, aes(x = AA, y = estimate, color = AA)) + \n",
    "    geom_hline(yintercept = 0, alpha = 0.4) + \n",
    "    geom_point() + geom_pointrange( aes(x = AA, ymin = estimate - 2*std.error, ymax = estimate + 2*std.error)) + \n",
    "    theme(legend.position = \"none\") +\n",
    "    coord_flip() + ylab(TeX('sex (boy $\\\\rightarrow$)')) + \n",
    "    ggtitle('Non Essential AA: \\n Estimate and 95% CI controlling for group')\n",
    "#dev.off()"
   ]
  },
  {
   "cell_type": "code",
   "execution_count": 53,
   "metadata": {},
   "outputs": [
    {
     "data": {
      "text/html": [
       "<table>\n",
       "<thead><tr><th scope=col>sex</th><th scope=col>group</th><th scope=col>n()</th></tr></thead>\n",
       "<tbody>\n",
       "\t<tr><td>girl </td><td>teen </td><td>13   </td></tr>\n",
       "\t<tr><td>girl </td><td>adult</td><td>13   </td></tr>\n",
       "\t<tr><td>boy  </td><td>teen </td><td>24   </td></tr>\n",
       "\t<tr><td>boy  </td><td>adult</td><td>11   </td></tr>\n",
       "\t<tr><td>NA   </td><td>teen </td><td> 2   </td></tr>\n",
       "\t<tr><td>NA   </td><td>adult</td><td> 2   </td></tr>\n",
       "</tbody>\n",
       "</table>\n"
      ],
      "text/latex": [
       "\\begin{tabular}{r|lll}\n",
       " sex & group & n()\\\\\n",
       "\\hline\n",
       "\t girl  & teen  & 13   \\\\\n",
       "\t girl  & adult & 13   \\\\\n",
       "\t boy   & teen  & 24   \\\\\n",
       "\t boy   & adult & 11   \\\\\n",
       "\t NA    & teen  &  2   \\\\\n",
       "\t NA    & adult &  2   \\\\\n",
       "\\end{tabular}\n"
      ],
      "text/markdown": [
       "\n",
       "sex | group | n() | \n",
       "|---|---|---|---|---|---|\n",
       "| girl  | teen  | 13    | \n",
       "| girl  | adult | 13    | \n",
       "| boy   | teen  | 24    | \n",
       "| boy   | adult | 11    | \n",
       "| NA    | teen  |  2    | \n",
       "| NA    | adult |  2    | \n",
       "\n",
       "\n"
      ],
      "text/plain": [
       "  sex  group n()\n",
       "1 girl teen  13 \n",
       "2 girl adult 13 \n",
       "3 boy  teen  24 \n",
       "4 boy  adult 11 \n",
       "5 NA   teen   2 \n",
       "6 NA   adult  2 "
      ]
     },
     "metadata": {},
     "output_type": "display_data"
    }
   ],
   "source": [
    "AA_E %>% group_by(sex, group) %>% summarise(n())"
   ]
  },
  {
   "cell_type": "markdown",
   "metadata": {},
   "source": [
    "## Sex-Week interaction and Free AA\n",
    "\n",
    "$$\n",
    "\\begin{align*}\n",
    "AA &= \\alpha_0 + \\alpha_1 \\ sex + \\alpha_2 \\ week + \\alpha_3 \\ sex \\times week + \\alpha_{id} \\\\\n",
    "   &= \\alpha_0 + \\alpha_1 \\ sex + \\left( \\alpha_2 + \\alpha_3 \\ sex \\right) \\times week + \\alpha_{id} \\\\\n",
    "   &= \\alpha_0 + \\left( \\alpha_1 + \\alpha_3 \\ week \\right) \\times \\ sex +  \\alpha_2 \\ week + \\alpha_{id}\n",
    "\\end{align*}\n",
    "$$"
   ]
  },
  {
   "cell_type": "code",
   "execution_count": 54,
   "metadata": {
    "collapsed": true
   },
   "outputs": [],
   "source": [
    "meSexWeek <- function(df){\n",
    "    \n",
    "    me <- lmer(level ~ sex + week + sex:week + (1 | id), data = df)\n",
    "    \n",
    "    return(me)\n",
    "}"
   ]
  },
  {
   "cell_type": "code",
   "execution_count": 55,
   "metadata": {
    "collapsed": true
   },
   "outputs": [],
   "source": [
    "me_E_SW <- list()\n",
    "tidy_E_SW <- list()\n",
    "\n",
    "for(i in 1:nAA_E){\n",
    "    \n",
    "    me_E_SW[[i]] <- meSexWeek(AA_E_Nested$data[[i]])\n",
    "    covMat_E <- vcov(me_E_SW[[i]])\n",
    "    tidy_E_SW[[i]] <- tidy(me_E_SW[[i]], effects = 'fixed') %>% \n",
    "        mutate(AA = AA_E_Nested$AA[i], var_W = covMat_E[3, 3], var_SW = covMat_E[4, 4], cov_SW = covMat_E[3, 4])\n",
    "   \n",
    "}"
   ]
  },
  {
   "cell_type": "code",
   "execution_count": 56,
   "metadata": {
    "collapsed": true
   },
   "outputs": [],
   "source": [
    "me_NE_SW <- list()\n",
    "tidy_NE_SW <- list()\n",
    "\n",
    "for(i in 1:nAA_NE){\n",
    "    \n",
    "    me_NE_SW[[i]] <- meSexWeek(AA_NE_Nested$data[[i]])\n",
    "    covMat_NE <- vcov(me_NE_SW[[i]])\n",
    "    tidy_NE_SW[[i]] <- tidy(me_NE_SW[[i]], effects = 'fixed') %>% \n",
    "        mutate(AA = AA_NE_Nested$AA[i], var_W = covMat_NE[3, 3], var_SW = covMat_NE[4, 4], cov_SW = covMat_NE[3, 4])\n",
    "\n",
    "}"
   ]
  },
  {
   "cell_type": "code",
   "execution_count": 57,
   "metadata": {},
   "outputs": [
    {
     "data": {
      "text/plain": [
       "4 x 4 Matrix of class \"dpoMatrix\"\n",
       "             (Intercept)       sexboy          week   sexboy:week\n",
       "(Intercept)  0.021393448 -0.021393448 -0.0015330822  0.0015330822\n",
       "sexboy      -0.021393448  0.037314739  0.0015330822 -0.0027327055\n",
       "week        -0.001533082  0.001533082  0.0002670664 -0.0002670664\n",
       "sexboy:week  0.001533082 -0.002732705 -0.0002670664  0.0004846457"
      ]
     },
     "metadata": {},
     "output_type": "display_data"
    }
   ],
   "source": [
    "vcov(me_E_SW[[1]])"
   ]
  },
  {
   "cell_type": "code",
   "execution_count": 58,
   "metadata": {
    "collapsed": true
   },
   "outputs": [],
   "source": [
    "AA_E_Nested <- AA_E_Nested %>% mutate(model_SW = me_E_SW, tidy_SW = tidy_E_SW)\n",
    "AA_NE_Nested <- AA_NE_Nested %>% mutate(model_SW = me_NE_SW, tidy_SW = tidy_NE_SW)"
   ]
  },
  {
   "cell_type": "code",
   "execution_count": 59,
   "metadata": {},
   "outputs": [
    {
     "data": {
      "text/plain": [
       "[[1]]\n",
       "Linear mixed model fit by REML ['lmerMod']\n",
       "Formula: level ~ sex + week + sex:week + (1 | id)\n",
       "   Data: df\n",
       "REML criterion at convergence: 489.7939\n",
       "Random effects:\n",
       " Groups   Name        Std.Dev.\n",
       " id       (Intercept) 0.2782  \n",
       " Residual             0.8472  \n",
       "Number of obs: 183, groups:  id, 61\n",
       "Fixed Effects:\n",
       "(Intercept)       sexboy         week  sexboy:week  \n",
       "   1.753438     0.143093     0.011896     0.006564  \n"
      ]
     },
     "metadata": {},
     "output_type": "display_data"
    },
    {
     "data": {
      "text/html": [
       "<ol>\n",
       "\t<li><table>\n",
       "<thead><tr><th scope=col>effect</th><th scope=col>term</th><th scope=col>estimate</th><th scope=col>std.error</th><th scope=col>statistic</th><th scope=col>AA</th><th scope=col>var_W</th><th scope=col>var_SW</th><th scope=col>cov_SW</th></tr></thead>\n",
       "<tbody>\n",
       "\t<tr><td>fixed        </td><td>(Intercept)  </td><td>1.753438036  </td><td>0.14626499   </td><td>11.9880910   </td><td>HIS          </td><td>0.0002670664 </td><td>0.0004846457 </td><td>-0.0002670664</td></tr>\n",
       "\t<tr><td>fixed        </td><td>sexboy       </td><td>0.143092607  </td><td>0.19317023   </td><td> 0.7407591   </td><td>HIS          </td><td>0.0002670664 </td><td>0.0004846457 </td><td>-0.0002670664</td></tr>\n",
       "\t<tr><td>fixed        </td><td>week         </td><td>0.011896119  </td><td>0.01634217   </td><td> 0.7279401   </td><td>HIS          </td><td>0.0002670664 </td><td>0.0004846457 </td><td>-0.0002670664</td></tr>\n",
       "\t<tr><td>fixed        </td><td>sexboy:week  </td><td>0.006563508  </td><td>0.02201467   </td><td> 0.2981424   </td><td>HIS          </td><td>0.0002670664 </td><td>0.0004846457 </td><td>-0.0002670664</td></tr>\n",
       "</tbody>\n",
       "</table>\n",
       "</li>\n",
       "</ol>\n"
      ],
      "text/latex": [
       "\\begin{enumerate}\n",
       "\\item \\begin{tabular}{r|lllllllll}\n",
       " effect & term & estimate & std.error & statistic & AA & var\\_W & var\\_SW & cov\\_SW\\\\\n",
       "\\hline\n",
       "\t fixed         & (Intercept)   & 1.753438036   & 0.14626499    & 11.9880910    & HIS           & 0.0002670664  & 0.0004846457  & -0.0002670664\\\\\n",
       "\t fixed         & sexboy        & 0.143092607   & 0.19317023    &  0.7407591    & HIS           & 0.0002670664  & 0.0004846457  & -0.0002670664\\\\\n",
       "\t fixed         & week          & 0.011896119   & 0.01634217    &  0.7279401    & HIS           & 0.0002670664  & 0.0004846457  & -0.0002670664\\\\\n",
       "\t fixed         & sexboy:week   & 0.006563508   & 0.02201467    &  0.2981424    & HIS           & 0.0002670664  & 0.0004846457  & -0.0002670664\\\\\n",
       "\\end{tabular}\n",
       "\n",
       "\\end{enumerate}\n"
      ],
      "text/markdown": [
       "1. \n",
       "effect | term | estimate | std.error | statistic | AA | var_W | var_SW | cov_SW | \n",
       "|---|---|---|---|\n",
       "| fixed         | (Intercept)   | 1.753438036   | 0.14626499    | 11.9880910    | HIS           | 0.0002670664  | 0.0004846457  | -0.0002670664 | \n",
       "| fixed         | sexboy        | 0.143092607   | 0.19317023    |  0.7407591    | HIS           | 0.0002670664  | 0.0004846457  | -0.0002670664 | \n",
       "| fixed         | week          | 0.011896119   | 0.01634217    |  0.7279401    | HIS           | 0.0002670664  | 0.0004846457  | -0.0002670664 | \n",
       "| fixed         | sexboy:week   | 0.006563508   | 0.02201467    |  0.2981424    | HIS           | 0.0002670664  | 0.0004846457  | -0.0002670664 | \n",
       "\n",
       "\n",
       "\n",
       "\n",
       "\n"
      ],
      "text/plain": [
       "[[1]]\n",
       "# A tibble: 4 x 9\n",
       "  effect        term    estimate  std.error  statistic    AA        var_W\n",
       "   <chr>       <chr>       <dbl>      <dbl>      <dbl> <chr>        <dbl>\n",
       "1  fixed (Intercept) 1.753438036 0.14626499 11.9880910   HIS 0.0002670664\n",
       "2  fixed      sexboy 0.143092607 0.19317023  0.7407591   HIS 0.0002670664\n",
       "3  fixed        week 0.011896119 0.01634217  0.7279401   HIS 0.0002670664\n",
       "4  fixed sexboy:week 0.006563508 0.02201467  0.2981424   HIS 0.0002670664\n",
       "# ... with 2 more variables: var_SW <dbl>, cov_SW <dbl>\n"
      ]
     },
     "metadata": {},
     "output_type": "display_data"
    }
   ],
   "source": [
    "AA_E_Nested$model_SW[1]\n",
    "AA_E_Nested$tidy_SW[1]"
   ]
  },
  {
   "cell_type": "code",
   "execution_count": 60,
   "metadata": {},
   "outputs": [
    {
     "data": {
      "text/html": [
       "<table>\n",
       "<thead><tr><th scope=col>effect</th><th scope=col>term.x</th><th scope=col>estimate.x</th><th scope=col>std.error.x</th><th scope=col>statistic.x</th><th scope=col>AA</th><th scope=col>var_W.x</th><th scope=col>var_SW.x</th><th scope=col>cov_SW.x</th><th scope=col>term.y</th><th scope=col>estimate.y</th><th scope=col>std.error.y</th><th scope=col>statistic.y</th><th scope=col>var_W.y</th><th scope=col>var_SW.y</th><th scope=col>cov_SW.y</th></tr></thead>\n",
       "<tbody>\n",
       "\t<tr><td>fixed        </td><td>week         </td><td> 0.0118961190</td><td>0.016342167  </td><td> 0.7279401   </td><td>HIS          </td><td>2.670664e-04 </td><td>4.846457e-04 </td><td>-2.670664e-04</td><td>sexboy:week  </td><td> 0.006563508 </td><td>0.022014670  </td><td> 0.29814245  </td><td>2.670664e-04 </td><td>4.846457e-04 </td><td>-2.670664e-04</td></tr>\n",
       "\t<tr><td>fixed        </td><td>week         </td><td> 0.0218973491</td><td>0.009945470  </td><td> 2.2017409   </td><td>ILE          </td><td>9.891238e-05 </td><td>1.802144e-04 </td><td>-9.891238e-05</td><td>sexboy:week  </td><td>-0.015593924 </td><td>0.013424397  </td><td>-1.16161073  </td><td>9.891238e-05 </td><td>1.802144e-04 </td><td>-9.891238e-05</td></tr>\n",
       "\t<tr><td>fixed        </td><td>week         </td><td> 0.0506114225</td><td>0.024153214  </td><td> 2.0954322   </td><td>LEU          </td><td>5.833777e-04 </td><td>1.055268e-03 </td><td>-5.833777e-04</td><td>sexboy:week  </td><td>-0.001675822 </td><td>0.032484883  </td><td>-0.05158774  </td><td>5.833777e-04 </td><td>1.055268e-03 </td><td>-5.833777e-04</td></tr>\n",
       "\t<tr><td>fixed        </td><td>week         </td><td>-0.0313407448</td><td>0.024544818  </td><td>-1.2768783   </td><td>LYS          </td><td>6.024481e-04 </td><td>1.092492e-03 </td><td>-6.024481e-04</td><td>sexboy:week  </td><td>-0.040869984 </td><td>0.033052873  </td><td>-1.23650322  </td><td>6.024481e-04 </td><td>1.092492e-03 </td><td>-6.024481e-04</td></tr>\n",
       "\t<tr><td>fixed        </td><td>week         </td><td> 0.0073141172</td><td>0.006819872  </td><td> 1.0724713   </td><td>MET          </td><td>4.651066e-05 </td><td>8.410353e-05 </td><td>-4.651066e-05</td><td>sexboy:week  </td><td>-0.001314011 </td><td>0.009170797  </td><td>-0.14328206  </td><td>4.651066e-05 </td><td>8.410353e-05 </td><td>-4.651066e-05</td></tr>\n",
       "\t<tr><td>fixed        </td><td>week         </td><td> 0.0310360166</td><td>0.010139772  </td><td> 3.0608199   </td><td>PHE          </td><td>1.028150e-04 </td><td>1.849940e-04 </td><td>-1.028150e-04</td><td>sexboy:week  </td><td>-0.006803457 </td><td>0.013601251  </td><td>-0.50020817  </td><td>1.028150e-04 </td><td>1.849940e-04 </td><td>-1.028150e-04</td></tr>\n",
       "\t<tr><td>fixed        </td><td>week         </td><td> 0.1512440782</td><td>0.047073073  </td><td> 3.2129638   </td><td>THR          </td><td>2.215874e-03 </td><td>4.054511e-03 </td><td>-2.215874e-03</td><td>sexboy:week  </td><td>-0.036877869 </td><td>0.063675043  </td><td>-0.57915735  </td><td>2.215874e-03 </td><td>4.054511e-03 </td><td>-2.215874e-03</td></tr>\n",
       "\t<tr><td>fixed        </td><td>week         </td><td> 0.0007799286</td><td>0.002008098  </td><td> 0.3883916   </td><td>TRP          </td><td>4.032459e-06 </td><td>7.282184e-06 </td><td>-4.032459e-06</td><td>sexboy:week  </td><td>-0.002152543 </td><td>0.002698552  </td><td>-0.79766576  </td><td>4.032459e-06 </td><td>7.282184e-06 </td><td>-4.032459e-06</td></tr>\n",
       "\t<tr><td>fixed        </td><td>week         </td><td> 0.1026163853</td><td>0.026850696  </td><td> 3.8217402   </td><td>VAL          </td><td>7.209599e-04 </td><td>1.309204e-03 </td><td>-7.209599e-04</td><td>sexboy:week  </td><td>-0.015064571 </td><td>0.036182930  </td><td>-0.41634468  </td><td>7.209599e-04 </td><td>1.309204e-03 </td><td>-7.209599e-04</td></tr>\n",
       "</tbody>\n",
       "</table>\n"
      ],
      "text/latex": [
       "\\begin{tabular}{r|llllllllllllllll}\n",
       " effect & term.x & estimate.x & std.error.x & statistic.x & AA & var\\_W.x & var\\_SW.x & cov\\_SW.x & term.y & estimate.y & std.error.y & statistic.y & var\\_W.y & var\\_SW.y & cov\\_SW.y\\\\\n",
       "\\hline\n",
       "\t fixed         & week          &  0.0118961190 & 0.016342167   &  0.7279401    & HIS           & 2.670664e-04  & 4.846457e-04  & -2.670664e-04 & sexboy:week   &  0.006563508  & 0.022014670   &  0.29814245   & 2.670664e-04  & 4.846457e-04  & -2.670664e-04\\\\\n",
       "\t fixed         & week          &  0.0218973491 & 0.009945470   &  2.2017409    & ILE           & 9.891238e-05  & 1.802144e-04  & -9.891238e-05 & sexboy:week   & -0.015593924  & 0.013424397   & -1.16161073   & 9.891238e-05  & 1.802144e-04  & -9.891238e-05\\\\\n",
       "\t fixed         & week          &  0.0506114225 & 0.024153214   &  2.0954322    & LEU           & 5.833777e-04  & 1.055268e-03  & -5.833777e-04 & sexboy:week   & -0.001675822  & 0.032484883   & -0.05158774   & 5.833777e-04  & 1.055268e-03  & -5.833777e-04\\\\\n",
       "\t fixed         & week          & -0.0313407448 & 0.024544818   & -1.2768783    & LYS           & 6.024481e-04  & 1.092492e-03  & -6.024481e-04 & sexboy:week   & -0.040869984  & 0.033052873   & -1.23650322   & 6.024481e-04  & 1.092492e-03  & -6.024481e-04\\\\\n",
       "\t fixed         & week          &  0.0073141172 & 0.006819872   &  1.0724713    & MET           & 4.651066e-05  & 8.410353e-05  & -4.651066e-05 & sexboy:week   & -0.001314011  & 0.009170797   & -0.14328206   & 4.651066e-05  & 8.410353e-05  & -4.651066e-05\\\\\n",
       "\t fixed         & week          &  0.0310360166 & 0.010139772   &  3.0608199    & PHE           & 1.028150e-04  & 1.849940e-04  & -1.028150e-04 & sexboy:week   & -0.006803457  & 0.013601251   & -0.50020817   & 1.028150e-04  & 1.849940e-04  & -1.028150e-04\\\\\n",
       "\t fixed         & week          &  0.1512440782 & 0.047073073   &  3.2129638    & THR           & 2.215874e-03  & 4.054511e-03  & -2.215874e-03 & sexboy:week   & -0.036877869  & 0.063675043   & -0.57915735   & 2.215874e-03  & 4.054511e-03  & -2.215874e-03\\\\\n",
       "\t fixed         & week          &  0.0007799286 & 0.002008098   &  0.3883916    & TRP           & 4.032459e-06  & 7.282184e-06  & -4.032459e-06 & sexboy:week   & -0.002152543  & 0.002698552   & -0.79766576   & 4.032459e-06  & 7.282184e-06  & -4.032459e-06\\\\\n",
       "\t fixed         & week          &  0.1026163853 & 0.026850696   &  3.8217402    & VAL           & 7.209599e-04  & 1.309204e-03  & -7.209599e-04 & sexboy:week   & -0.015064571  & 0.036182930   & -0.41634468   & 7.209599e-04  & 1.309204e-03  & -7.209599e-04\\\\\n",
       "\\end{tabular}\n"
      ],
      "text/markdown": [
       "\n",
       "effect | term.x | estimate.x | std.error.x | statistic.x | AA | var_W.x | var_SW.x | cov_SW.x | term.y | estimate.y | std.error.y | statistic.y | var_W.y | var_SW.y | cov_SW.y | \n",
       "|---|---|---|---|---|---|---|---|---|\n",
       "| fixed         | week          |  0.0118961190 | 0.016342167   |  0.7279401    | HIS           | 2.670664e-04  | 4.846457e-04  | -2.670664e-04 | sexboy:week   |  0.006563508  | 0.022014670   |  0.29814245   | 2.670664e-04  | 4.846457e-04  | -2.670664e-04 | \n",
       "| fixed         | week          |  0.0218973491 | 0.009945470   |  2.2017409    | ILE           | 9.891238e-05  | 1.802144e-04  | -9.891238e-05 | sexboy:week   | -0.015593924  | 0.013424397   | -1.16161073   | 9.891238e-05  | 1.802144e-04  | -9.891238e-05 | \n",
       "| fixed         | week          |  0.0506114225 | 0.024153214   |  2.0954322    | LEU           | 5.833777e-04  | 1.055268e-03  | -5.833777e-04 | sexboy:week   | -0.001675822  | 0.032484883   | -0.05158774   | 5.833777e-04  | 1.055268e-03  | -5.833777e-04 | \n",
       "| fixed         | week          | -0.0313407448 | 0.024544818   | -1.2768783    | LYS           | 6.024481e-04  | 1.092492e-03  | -6.024481e-04 | sexboy:week   | -0.040869984  | 0.033052873   | -1.23650322   | 6.024481e-04  | 1.092492e-03  | -6.024481e-04 | \n",
       "| fixed         | week          |  0.0073141172 | 0.006819872   |  1.0724713    | MET           | 4.651066e-05  | 8.410353e-05  | -4.651066e-05 | sexboy:week   | -0.001314011  | 0.009170797   | -0.14328206   | 4.651066e-05  | 8.410353e-05  | -4.651066e-05 | \n",
       "| fixed         | week          |  0.0310360166 | 0.010139772   |  3.0608199    | PHE           | 1.028150e-04  | 1.849940e-04  | -1.028150e-04 | sexboy:week   | -0.006803457  | 0.013601251   | -0.50020817   | 1.028150e-04  | 1.849940e-04  | -1.028150e-04 | \n",
       "| fixed         | week          |  0.1512440782 | 0.047073073   |  3.2129638    | THR           | 2.215874e-03  | 4.054511e-03  | -2.215874e-03 | sexboy:week   | -0.036877869  | 0.063675043   | -0.57915735   | 2.215874e-03  | 4.054511e-03  | -2.215874e-03 | \n",
       "| fixed         | week          |  0.0007799286 | 0.002008098   |  0.3883916    | TRP           | 4.032459e-06  | 7.282184e-06  | -4.032459e-06 | sexboy:week   | -0.002152543  | 0.002698552   | -0.79766576   | 4.032459e-06  | 7.282184e-06  | -4.032459e-06 | \n",
       "| fixed         | week          |  0.1026163853 | 0.026850696   |  3.8217402    | VAL           | 7.209599e-04  | 1.309204e-03  | -7.209599e-04 | sexboy:week   | -0.015064571  | 0.036182930   | -0.41634468   | 7.209599e-04  | 1.309204e-03  | -7.209599e-04 | \n",
       "\n",
       "\n"
      ],
      "text/plain": [
       "  effect term.x estimate.x    std.error.x statistic.x AA  var_W.x     \n",
       "1 fixed  week    0.0118961190 0.016342167  0.7279401  HIS 2.670664e-04\n",
       "2 fixed  week    0.0218973491 0.009945470  2.2017409  ILE 9.891238e-05\n",
       "3 fixed  week    0.0506114225 0.024153214  2.0954322  LEU 5.833777e-04\n",
       "4 fixed  week   -0.0313407448 0.024544818 -1.2768783  LYS 6.024481e-04\n",
       "5 fixed  week    0.0073141172 0.006819872  1.0724713  MET 4.651066e-05\n",
       "6 fixed  week    0.0310360166 0.010139772  3.0608199  PHE 1.028150e-04\n",
       "7 fixed  week    0.1512440782 0.047073073  3.2129638  THR 2.215874e-03\n",
       "8 fixed  week    0.0007799286 0.002008098  0.3883916  TRP 4.032459e-06\n",
       "9 fixed  week    0.1026163853 0.026850696  3.8217402  VAL 7.209599e-04\n",
       "  var_SW.x     cov_SW.x      term.y      estimate.y   std.error.y statistic.y\n",
       "1 4.846457e-04 -2.670664e-04 sexboy:week  0.006563508 0.022014670  0.29814245\n",
       "2 1.802144e-04 -9.891238e-05 sexboy:week -0.015593924 0.013424397 -1.16161073\n",
       "3 1.055268e-03 -5.833777e-04 sexboy:week -0.001675822 0.032484883 -0.05158774\n",
       "4 1.092492e-03 -6.024481e-04 sexboy:week -0.040869984 0.033052873 -1.23650322\n",
       "5 8.410353e-05 -4.651066e-05 sexboy:week -0.001314011 0.009170797 -0.14328206\n",
       "6 1.849940e-04 -1.028150e-04 sexboy:week -0.006803457 0.013601251 -0.50020817\n",
       "7 4.054511e-03 -2.215874e-03 sexboy:week -0.036877869 0.063675043 -0.57915735\n",
       "8 7.282184e-06 -4.032459e-06 sexboy:week -0.002152543 0.002698552 -0.79766576\n",
       "9 1.309204e-03 -7.209599e-04 sexboy:week -0.015064571 0.036182930 -0.41634468\n",
       "  var_W.y      var_SW.y     cov_SW.y     \n",
       "1 2.670664e-04 4.846457e-04 -2.670664e-04\n",
       "2 9.891238e-05 1.802144e-04 -9.891238e-05\n",
       "3 5.833777e-04 1.055268e-03 -5.833777e-04\n",
       "4 6.024481e-04 1.092492e-03 -6.024481e-04\n",
       "5 4.651066e-05 8.410353e-05 -4.651066e-05\n",
       "6 1.028150e-04 1.849940e-04 -1.028150e-04\n",
       "7 2.215874e-03 4.054511e-03 -2.215874e-03\n",
       "8 4.032459e-06 7.282184e-06 -4.032459e-06\n",
       "9 7.209599e-04 1.309204e-03 -7.209599e-04"
      ]
     },
     "metadata": {},
     "output_type": "display_data"
    }
   ],
   "source": [
    "df1_E <- bind_rows(tidy_E_SW) %>% filter(grepl(\"^week$\", term))\n",
    "df2_E <- bind_rows(tidy_E_SW) %>% filter(grepl(\"^sexboy:week$\", term))\n",
    "\n",
    "left_join(df1_E, df2_E, by = c('AA', 'effect'))"
   ]
  },
  {
   "cell_type": "code",
   "execution_count": 61,
   "metadata": {},
   "outputs": [
    {
     "data": {
      "text/html": [
       "<table>\n",
       "<thead><tr><th scope=col>effect</th><th scope=col>AA</th><th scope=col>estimate_boy</th><th scope=col>std.error_boy</th><th scope=col>estimate_girl</th></tr></thead>\n",
       "<tbody>\n",
       "\t<tr><td>fixed        </td><td>HIS          </td><td> 0.018459627 </td><td>0.014750568  </td><td> 0.0118961190</td></tr>\n",
       "\t<tr><td>fixed        </td><td>ILE          </td><td> 0.006303426 </td><td>0.009016765  </td><td> 0.0218973491</td></tr>\n",
       "\t<tr><td>fixed        </td><td>LEU          </td><td> 0.048935601 </td><td>0.021723027  </td><td> 0.0506114225</td></tr>\n",
       "\t<tr><td>fixed        </td><td>LYS          </td><td>-0.072210729 </td><td>0.022136944  </td><td>-0.0313407448</td></tr>\n",
       "\t<tr><td>fixed        </td><td>MET          </td><td> 0.006000106 </td><td>0.006131302  </td><td> 0.0073141172</td></tr>\n",
       "\t<tr><td>fixed        </td><td>PHE          </td><td> 0.024232560 </td><td>0.009065265  </td><td> 0.0310360166</td></tr>\n",
       "\t<tr><td>fixed        </td><td>THR          </td><td> 0.114366210 </td><td>0.042879329  </td><td> 0.1512440782</td></tr>\n",
       "\t<tr><td>fixed        </td><td>TRP          </td><td>-0.001372614 </td><td>0.001802699  </td><td> 0.0007799286</td></tr>\n",
       "\t<tr><td>fixed        </td><td>VAL          </td><td> 0.087551815 </td><td>0.024253754  </td><td> 0.1026163853</td></tr>\n",
       "</tbody>\n",
       "</table>\n"
      ],
      "text/latex": [
       "\\begin{tabular}{r|lllll}\n",
       " effect & AA & estimate\\_boy & std.error\\_boy & estimate\\_girl\\\\\n",
       "\\hline\n",
       "\t fixed         & HIS           &  0.018459627  & 0.014750568   &  0.0118961190\\\\\n",
       "\t fixed         & ILE           &  0.006303426  & 0.009016765   &  0.0218973491\\\\\n",
       "\t fixed         & LEU           &  0.048935601  & 0.021723027   &  0.0506114225\\\\\n",
       "\t fixed         & LYS           & -0.072210729  & 0.022136944   & -0.0313407448\\\\\n",
       "\t fixed         & MET           &  0.006000106  & 0.006131302   &  0.0073141172\\\\\n",
       "\t fixed         & PHE           &  0.024232560  & 0.009065265   &  0.0310360166\\\\\n",
       "\t fixed         & THR           &  0.114366210  & 0.042879329   &  0.1512440782\\\\\n",
       "\t fixed         & TRP           & -0.001372614  & 0.001802699   &  0.0007799286\\\\\n",
       "\t fixed         & VAL           &  0.087551815  & 0.024253754   &  0.1026163853\\\\\n",
       "\\end{tabular}\n"
      ],
      "text/markdown": [
       "\n",
       "effect | AA | estimate_boy | std.error_boy | estimate_girl | \n",
       "|---|---|---|---|---|---|---|---|---|\n",
       "| fixed         | HIS           |  0.018459627  | 0.014750568   |  0.0118961190 | \n",
       "| fixed         | ILE           |  0.006303426  | 0.009016765   |  0.0218973491 | \n",
       "| fixed         | LEU           |  0.048935601  | 0.021723027   |  0.0506114225 | \n",
       "| fixed         | LYS           | -0.072210729  | 0.022136944   | -0.0313407448 | \n",
       "| fixed         | MET           |  0.006000106  | 0.006131302   |  0.0073141172 | \n",
       "| fixed         | PHE           |  0.024232560  | 0.009065265   |  0.0310360166 | \n",
       "| fixed         | THR           |  0.114366210  | 0.042879329   |  0.1512440782 | \n",
       "| fixed         | TRP           | -0.001372614  | 0.001802699   |  0.0007799286 | \n",
       "| fixed         | VAL           |  0.087551815  | 0.024253754   |  0.1026163853 | \n",
       "\n",
       "\n"
      ],
      "text/plain": [
       "  effect AA  estimate_boy std.error_boy estimate_girl\n",
       "1 fixed  HIS  0.018459627 0.014750568    0.0118961190\n",
       "2 fixed  ILE  0.006303426 0.009016765    0.0218973491\n",
       "3 fixed  LEU  0.048935601 0.021723027    0.0506114225\n",
       "4 fixed  LYS -0.072210729 0.022136944   -0.0313407448\n",
       "5 fixed  MET  0.006000106 0.006131302    0.0073141172\n",
       "6 fixed  PHE  0.024232560 0.009065265    0.0310360166\n",
       "7 fixed  THR  0.114366210 0.042879329    0.1512440782\n",
       "8 fixed  TRP -0.001372614 0.001802699    0.0007799286\n",
       "9 fixed  VAL  0.087551815 0.024253754    0.1026163853"
      ]
     },
     "metadata": {},
     "output_type": "display_data"
    }
   ],
   "source": [
    "df1_E <- bind_rows(tidy_E_SW) %>% filter(grepl(\"^week$\", term))\n",
    "df2_E <- bind_rows(tidy_E_SW) %>% filter(grepl(\"^sexboy:week$\", term))\n",
    "\n",
    "sexCoef_E_SW <- left_join(df1_E, df2_E, by = c('AA', 'effect')) %>% \n",
    "            mutate(estimate_girl = estimate.x,\n",
    "                   estimate_boy = estimate.x + estimate.y, \n",
    "                   std.error_boy = sqrt(var_W.x + var_SW.x + 2*cov_SW.x)) %>% \n",
    "            select(effect, AA, estimate_boy, std.error_boy, estimate_girl)\n",
    "\n",
    "sexCoef_E_SW"
   ]
  },
  {
   "cell_type": "code",
   "execution_count": 62,
   "metadata": {},
   "outputs": [
    {
     "data": {
      "text/html": [
       "<table>\n",
       "<thead><tr><th scope=col>effect</th><th scope=col>AA</th><th scope=col>estimate_boy</th><th scope=col>std.error_boy</th><th scope=col>estimate_girl</th></tr></thead>\n",
       "<tbody>\n",
       "\t<tr><td>fixed       </td><td>ARG         </td><td>-0.039514820</td><td>0.013713784 </td><td>-0.008931382</td></tr>\n",
       "\t<tr><td>fixed       </td><td>ASP         </td><td> 0.191335633</td><td>0.042293959 </td><td> 0.101209065</td></tr>\n",
       "\t<tr><td>fixed       </td><td>ALA         </td><td> 0.785458521</td><td>0.146877072 </td><td> 0.470434199</td></tr>\n",
       "\t<tr><td>fixed       </td><td>ASN         </td><td> 0.003399247</td><td>0.013547176 </td><td>-0.005808696</td></tr>\n",
       "\t<tr><td>fixed       </td><td>CYS         </td><td> 0.107833530</td><td>0.014081245 </td><td> 0.080326062</td></tr>\n",
       "\t<tr><td>fixed       </td><td>GLY         </td><td> 0.428403222</td><td>0.071777214 </td><td> 0.389428512</td></tr>\n",
       "\t<tr><td>fixed       </td><td>GLU         </td><td> 4.392748009</td><td>0.610486601 </td><td> 3.696369483</td></tr>\n",
       "\t<tr><td>fixed       </td><td>GLN         </td><td> 2.778492223</td><td>0.303949898 </td><td> 2.555991339</td></tr>\n",
       "\t<tr><td>fixed       </td><td>PRO         </td><td>-0.069070724</td><td>0.031874819 </td><td>-0.034913860</td></tr>\n",
       "\t<tr><td>fixed       </td><td>SER         </td><td> 0.483329438</td><td>0.061391981 </td><td> 0.433364878</td></tr>\n",
       "\t<tr><td>fixed       </td><td>TYR         </td><td> 0.019476071</td><td>0.009575948 </td><td> 0.016157241</td></tr>\n",
       "</tbody>\n",
       "</table>\n"
      ],
      "text/latex": [
       "\\begin{tabular}{r|lllll}\n",
       " effect & AA & estimate\\_boy & std.error\\_boy & estimate\\_girl\\\\\n",
       "\\hline\n",
       "\t fixed        & ARG          & -0.039514820 & 0.013713784  & -0.008931382\\\\\n",
       "\t fixed        & ASP          &  0.191335633 & 0.042293959  &  0.101209065\\\\\n",
       "\t fixed        & ALA          &  0.785458521 & 0.146877072  &  0.470434199\\\\\n",
       "\t fixed        & ASN          &  0.003399247 & 0.013547176  & -0.005808696\\\\\n",
       "\t fixed        & CYS          &  0.107833530 & 0.014081245  &  0.080326062\\\\\n",
       "\t fixed        & GLY          &  0.428403222 & 0.071777214  &  0.389428512\\\\\n",
       "\t fixed        & GLU          &  4.392748009 & 0.610486601  &  3.696369483\\\\\n",
       "\t fixed        & GLN          &  2.778492223 & 0.303949898  &  2.555991339\\\\\n",
       "\t fixed        & PRO          & -0.069070724 & 0.031874819  & -0.034913860\\\\\n",
       "\t fixed        & SER          &  0.483329438 & 0.061391981  &  0.433364878\\\\\n",
       "\t fixed        & TYR          &  0.019476071 & 0.009575948  &  0.016157241\\\\\n",
       "\\end{tabular}\n"
      ],
      "text/markdown": [
       "\n",
       "effect | AA | estimate_boy | std.error_boy | estimate_girl | \n",
       "|---|---|---|---|---|---|---|---|---|---|---|\n",
       "| fixed        | ARG          | -0.039514820 | 0.013713784  | -0.008931382 | \n",
       "| fixed        | ASP          |  0.191335633 | 0.042293959  |  0.101209065 | \n",
       "| fixed        | ALA          |  0.785458521 | 0.146877072  |  0.470434199 | \n",
       "| fixed        | ASN          |  0.003399247 | 0.013547176  | -0.005808696 | \n",
       "| fixed        | CYS          |  0.107833530 | 0.014081245  |  0.080326062 | \n",
       "| fixed        | GLY          |  0.428403222 | 0.071777214  |  0.389428512 | \n",
       "| fixed        | GLU          |  4.392748009 | 0.610486601  |  3.696369483 | \n",
       "| fixed        | GLN          |  2.778492223 | 0.303949898  |  2.555991339 | \n",
       "| fixed        | PRO          | -0.069070724 | 0.031874819  | -0.034913860 | \n",
       "| fixed        | SER          |  0.483329438 | 0.061391981  |  0.433364878 | \n",
       "| fixed        | TYR          |  0.019476071 | 0.009575948  |  0.016157241 | \n",
       "\n",
       "\n"
      ],
      "text/plain": [
       "   effect AA  estimate_boy std.error_boy estimate_girl\n",
       "1  fixed  ARG -0.039514820 0.013713784   -0.008931382 \n",
       "2  fixed  ASP  0.191335633 0.042293959    0.101209065 \n",
       "3  fixed  ALA  0.785458521 0.146877072    0.470434199 \n",
       "4  fixed  ASN  0.003399247 0.013547176   -0.005808696 \n",
       "5  fixed  CYS  0.107833530 0.014081245    0.080326062 \n",
       "6  fixed  GLY  0.428403222 0.071777214    0.389428512 \n",
       "7  fixed  GLU  4.392748009 0.610486601    3.696369483 \n",
       "8  fixed  GLN  2.778492223 0.303949898    2.555991339 \n",
       "9  fixed  PRO -0.069070724 0.031874819   -0.034913860 \n",
       "10 fixed  SER  0.483329438 0.061391981    0.433364878 \n",
       "11 fixed  TYR  0.019476071 0.009575948    0.016157241 "
      ]
     },
     "metadata": {},
     "output_type": "display_data"
    }
   ],
   "source": [
    "df1_NE <- bind_rows(tidy_NE_SW) %>% filter(grepl(\"^week$\", term))\n",
    "df2_NE <- bind_rows(tidy_NE_SW) %>% filter(grepl(\"^sexboy:week$\", term))\n",
    "\n",
    "sexCoef_NE_SW <- left_join(df1_NE, df2_NE, by = c('AA', 'effect')) %>% \n",
    "            mutate(estimate_girl = estimate.x,\n",
    "                   estimate_boy = estimate.x + estimate.y, \n",
    "                   std.error_boy = sqrt(var_W.x + var_SW.x + 2*cov_SW.x)) %>% \n",
    "            select(effect, AA, estimate_boy, std.error_boy, estimate_girl)\n",
    "\n",
    "sexCoef_NE_SW"
   ]
  },
  {
   "cell_type": "code",
   "execution_count": 63,
   "metadata": {},
   "outputs": [
    {
     "data": {},
     "metadata": {},
     "output_type": "display_data"
    },
    {
     "data": {
      "image/png": "[encoded data removed]",
      "text/plain": [
       "plot without title"
      ]
     },
     "metadata": {},
     "output_type": "display_data"
    }
   ],
   "source": [
    "#png(filename=\"./plots/EAA_SW_coeff.png\", units=\"cm\", width=20, height=20, res = 300)\n",
    "ggplot(sexCoef_E_SW, aes(x = AA, y = estimate_boy, color = AA)) + \n",
    "    geom_hline(yintercept = 0, alpha = 0.4) + \n",
    "    geom_point() + geom_pointrange( aes(x = AA, ymin = estimate_boy - 2*std.error_boy, ymax = estimate_boy + 2*std.error_boy)) + \n",
    "    theme(legend.position = \"none\") + \n",
    "    coord_flip() + ylab('week for boys') + \n",
    "    ggtitle('Essential AA \\n Estimate and 95% CI') \n",
    "#dev.off()"
   ]
  },
  {
   "cell_type": "code",
   "execution_count": 64,
   "metadata": {},
   "outputs": [
    {
     "data": {},
     "metadata": {},
     "output_type": "display_data"
    },
    {
     "data": {
      "image/png": "[encoded data removed]",
      "text/plain": [
       "plot without title"
      ]
     },
     "metadata": {},
     "output_type": "display_data"
    }
   ],
   "source": [
    "#png(filename=\"./plots/NEAA_SW_coeff.png\", units=\"cm\", width=20, height=20, res = 300)\n",
    "ggplot(sexCoef_NE_SW, aes(x = AA, y = estimate_boy, color = AA)) + \n",
    "    geom_hline(yintercept = 0, alpha = 0.4) + \n",
    "    geom_point() + geom_pointrange( aes(x = AA, ymin = estimate_boy - 2*std.error_boy, ymax = estimate_boy + 2*std.error_boy)) + \n",
    "    theme(legend.position = \"none\") + \n",
    "    coord_flip() + ylab(TeX('week for boys')) + \n",
    "    ggtitle('Non Essential AA \\n Estimate and 95% CI') \n",
    "#dev.off()"
   ]
  },
  {
   "cell_type": "code",
   "execution_count": 65,
   "metadata": {},
   "outputs": [
    {
     "data": {
      "text/html": [
       "<table>\n",
       "<thead><tr><th scope=col>AA</th><th scope=col>estimate.a_0</th><th scope=col>std.error.a_0</th></tr></thead>\n",
       "<tbody>\n",
       "\t<tr><td>HIS        </td><td>1.753438036</td><td>0.14626499 </td></tr>\n",
       "\t<tr><td>ILE        </td><td>0.394481886</td><td>0.09688867 </td></tr>\n",
       "\t<tr><td>LEU        </td><td>1.506555131</td><td>0.20567606 </td></tr>\n",
       "\t<tr><td>LYS        </td><td>1.784889567</td><td>0.21704767 </td></tr>\n",
       "\t<tr><td>MET        </td><td>0.058953707</td><td>0.05780137 </td></tr>\n",
       "\t<tr><td>PHE        </td><td>0.620540958</td><td>0.08537866 </td></tr>\n",
       "\t<tr><td>THR        </td><td>5.663313420</td><td>0.53009813 </td></tr>\n",
       "\t<tr><td>TRP        </td><td>0.008240932</td><td>0.01673621 </td></tr>\n",
       "\t<tr><td>VAL        </td><td>2.754038339</td><td>0.24325533 </td></tr>\n",
       "</tbody>\n",
       "</table>\n"
      ],
      "text/latex": [
       "\\begin{tabular}{r|lll}\n",
       " AA & estimate.a\\_0 & std.error.a\\_0\\\\\n",
       "\\hline\n",
       "\t HIS         & 1.753438036 & 0.14626499 \\\\\n",
       "\t ILE         & 0.394481886 & 0.09688867 \\\\\n",
       "\t LEU         & 1.506555131 & 0.20567606 \\\\\n",
       "\t LYS         & 1.784889567 & 0.21704767 \\\\\n",
       "\t MET         & 0.058953707 & 0.05780137 \\\\\n",
       "\t PHE         & 0.620540958 & 0.08537866 \\\\\n",
       "\t THR         & 5.663313420 & 0.53009813 \\\\\n",
       "\t TRP         & 0.008240932 & 0.01673621 \\\\\n",
       "\t VAL         & 2.754038339 & 0.24325533 \\\\\n",
       "\\end{tabular}\n"
      ],
      "text/markdown": [
       "\n",
       "AA | estimate.a_0 | std.error.a_0 | \n",
       "|---|---|---|---|---|---|---|---|---|\n",
       "| HIS         | 1.753438036 | 0.14626499  | \n",
       "| ILE         | 0.394481886 | 0.09688867  | \n",
       "| LEU         | 1.506555131 | 0.20567606  | \n",
       "| LYS         | 1.784889567 | 0.21704767  | \n",
       "| MET         | 0.058953707 | 0.05780137  | \n",
       "| PHE         | 0.620540958 | 0.08537866  | \n",
       "| THR         | 5.663313420 | 0.53009813  | \n",
       "| TRP         | 0.008240932 | 0.01673621  | \n",
       "| VAL         | 2.754038339 | 0.24325533  | \n",
       "\n",
       "\n"
      ],
      "text/plain": [
       "  AA  estimate.a_0 std.error.a_0\n",
       "1 HIS 1.753438036  0.14626499   \n",
       "2 ILE 0.394481886  0.09688867   \n",
       "3 LEU 1.506555131  0.20567606   \n",
       "4 LYS 1.784889567  0.21704767   \n",
       "5 MET 0.058953707  0.05780137   \n",
       "6 PHE 0.620540958  0.08537866   \n",
       "7 THR 5.663313420  0.53009813   \n",
       "8 TRP 0.008240932  0.01673621   \n",
       "9 VAL 2.754038339  0.24325533   "
      ]
     },
     "metadata": {},
     "output_type": "display_data"
    },
    {
     "data": {
      "text/html": [
       "<table>\n",
       "<thead><tr><th scope=col>AA</th><th scope=col>estimate.a_0</th><th scope=col>std.error.a_0</th></tr></thead>\n",
       "<tbody>\n",
       "\t<tr><td>ARG       </td><td> 1.1653868</td><td>0.1426091 </td></tr>\n",
       "\t<tr><td>ASP       </td><td> 2.9765403</td><td>0.4508441 </td></tr>\n",
       "\t<tr><td>ALA       </td><td>15.6299040</td><td>1.5637160 </td></tr>\n",
       "\t<tr><td>ASN       </td><td> 0.6299832</td><td>0.1294563 </td></tr>\n",
       "\t<tr><td>CYS       </td><td> 0.7681782</td><td>0.1518533 </td></tr>\n",
       "\t<tr><td>GLY       </td><td> 6.0628496</td><td>0.7496030 </td></tr>\n",
       "\t<tr><td>GLU       </td><td>55.8558794</td><td>6.2725985 </td></tr>\n",
       "\t<tr><td>GLN       </td><td>17.8043882</td><td>3.1952381 </td></tr>\n",
       "\t<tr><td>PRO       </td><td> 3.0321843</td><td>0.3282142 </td></tr>\n",
       "\t<tr><td>SER       </td><td> 5.4152040</td><td>0.6528930 </td></tr>\n",
       "\t<tr><td>TYR       </td><td> 0.6923081</td><td>0.1024926 </td></tr>\n",
       "</tbody>\n",
       "</table>\n"
      ],
      "text/latex": [
       "\\begin{tabular}{r|lll}\n",
       " AA & estimate.a\\_0 & std.error.a\\_0\\\\\n",
       "\\hline\n",
       "\t ARG        &  1.1653868 & 0.1426091 \\\\\n",
       "\t ASP        &  2.9765403 & 0.4508441 \\\\\n",
       "\t ALA        & 15.6299040 & 1.5637160 \\\\\n",
       "\t ASN        &  0.6299832 & 0.1294563 \\\\\n",
       "\t CYS        &  0.7681782 & 0.1518533 \\\\\n",
       "\t GLY        &  6.0628496 & 0.7496030 \\\\\n",
       "\t GLU        & 55.8558794 & 6.2725985 \\\\\n",
       "\t GLN        & 17.8043882 & 3.1952381 \\\\\n",
       "\t PRO        &  3.0321843 & 0.3282142 \\\\\n",
       "\t SER        &  5.4152040 & 0.6528930 \\\\\n",
       "\t TYR        &  0.6923081 & 0.1024926 \\\\\n",
       "\\end{tabular}\n"
      ],
      "text/markdown": [
       "\n",
       "AA | estimate.a_0 | std.error.a_0 | \n",
       "|---|---|---|---|---|---|---|---|---|---|---|\n",
       "| ARG        |  1.1653868 | 0.1426091  | \n",
       "| ASP        |  2.9765403 | 0.4508441  | \n",
       "| ALA        | 15.6299040 | 1.5637160  | \n",
       "| ASN        |  0.6299832 | 0.1294563  | \n",
       "| CYS        |  0.7681782 | 0.1518533  | \n",
       "| GLY        |  6.0628496 | 0.7496030  | \n",
       "| GLU        | 55.8558794 | 6.2725985  | \n",
       "| GLN        | 17.8043882 | 3.1952381  | \n",
       "| PRO        |  3.0321843 | 0.3282142  | \n",
       "| SER        |  5.4152040 | 0.6528930  | \n",
       "| TYR        |  0.6923081 | 0.1024926  | \n",
       "\n",
       "\n"
      ],
      "text/plain": [
       "   AA  estimate.a_0 std.error.a_0\n",
       "1  ARG  1.1653868   0.1426091    \n",
       "2  ASP  2.9765403   0.4508441    \n",
       "3  ALA 15.6299040   1.5637160    \n",
       "4  ASN  0.6299832   0.1294563    \n",
       "5  CYS  0.7681782   0.1518533    \n",
       "6  GLY  6.0628496   0.7496030    \n",
       "7  GLU 55.8558794   6.2725985    \n",
       "8  GLN 17.8043882   3.1952381    \n",
       "9  PRO  3.0321843   0.3282142    \n",
       "10 SER  5.4152040   0.6528930    \n",
       "11 TYR  0.6923081   0.1024926    "
      ]
     },
     "metadata": {},
     "output_type": "display_data"
    }
   ],
   "source": [
    "a_0_E <- bind_rows(tidy_E_SW) %>% filter(grepl(\"(Intercept)\", term)) %>% \n",
    "                select(AA, estimate.a_0 = estimate, std.error.a_0 = std.error)\n",
    "a_0_NE <- bind_rows(tidy_NE_SW) %>% filter(grepl(\"(Intercept)\", term)) %>% \n",
    "                select(AA, estimate.a_0 = estimate, std.error.a_0 = std.error)\n",
    "\n",
    "a_0_E \n",
    "a_0_NE "
   ]
  },
  {
   "cell_type": "code",
   "execution_count": 66,
   "metadata": {},
   "outputs": [
    {
     "data": {
      "text/html": [
       "<table>\n",
       "<thead><tr><th scope=col>AA</th><th scope=col>estimate.a_0</th><th scope=col>sex</th><th scope=col>estimate</th></tr></thead>\n",
       "<tbody>\n",
       "\t<tr><td>HIS          </td><td>1.753438036  </td><td>estimate_boy </td><td> 0.0184596266</td></tr>\n",
       "\t<tr><td>ILE          </td><td>0.394481886  </td><td>estimate_boy </td><td> 0.0063034255</td></tr>\n",
       "\t<tr><td>LEU          </td><td>1.506555131  </td><td>estimate_boy </td><td> 0.0489356008</td></tr>\n",
       "\t<tr><td>LYS          </td><td>1.784889567  </td><td>estimate_boy </td><td>-0.0722107285</td></tr>\n",
       "\t<tr><td>MET          </td><td>0.058953707  </td><td>estimate_boy </td><td> 0.0060001065</td></tr>\n",
       "\t<tr><td>PHE          </td><td>0.620540958  </td><td>estimate_boy </td><td> 0.0242325599</td></tr>\n",
       "\t<tr><td>THR          </td><td>5.663313420  </td><td>estimate_boy </td><td> 0.1143662095</td></tr>\n",
       "\t<tr><td>TRP          </td><td>0.008240932  </td><td>estimate_boy </td><td>-0.0013726141</td></tr>\n",
       "\t<tr><td>VAL          </td><td>2.754038339  </td><td>estimate_boy </td><td> 0.0875518147</td></tr>\n",
       "\t<tr><td>HIS          </td><td>1.753438036  </td><td>estimate_girl</td><td> 0.0118961190</td></tr>\n",
       "\t<tr><td>ILE          </td><td>0.394481886  </td><td>estimate_girl</td><td> 0.0218973491</td></tr>\n",
       "\t<tr><td>LEU          </td><td>1.506555131  </td><td>estimate_girl</td><td> 0.0506114225</td></tr>\n",
       "\t<tr><td>LYS          </td><td>1.784889567  </td><td>estimate_girl</td><td>-0.0313407448</td></tr>\n",
       "\t<tr><td>MET          </td><td>0.058953707  </td><td>estimate_girl</td><td> 0.0073141172</td></tr>\n",
       "\t<tr><td>PHE          </td><td>0.620540958  </td><td>estimate_girl</td><td> 0.0310360166</td></tr>\n",
       "\t<tr><td>THR          </td><td>5.663313420  </td><td>estimate_girl</td><td> 0.1512440782</td></tr>\n",
       "\t<tr><td>TRP          </td><td>0.008240932  </td><td>estimate_girl</td><td> 0.0007799286</td></tr>\n",
       "\t<tr><td>VAL          </td><td>2.754038339  </td><td>estimate_girl</td><td> 0.1026163853</td></tr>\n",
       "</tbody>\n",
       "</table>\n"
      ],
      "text/latex": [
       "\\begin{tabular}{r|llll}\n",
       " AA & estimate.a\\_0 & sex & estimate\\\\\n",
       "\\hline\n",
       "\t HIS             & 1.753438036     & estimate\\_boy  &  0.0184596266  \\\\\n",
       "\t ILE             & 0.394481886     & estimate\\_boy  &  0.0063034255  \\\\\n",
       "\t LEU             & 1.506555131     & estimate\\_boy  &  0.0489356008  \\\\\n",
       "\t LYS             & 1.784889567     & estimate\\_boy  & -0.0722107285  \\\\\n",
       "\t MET             & 0.058953707     & estimate\\_boy  &  0.0060001065  \\\\\n",
       "\t PHE             & 0.620540958     & estimate\\_boy  &  0.0242325599  \\\\\n",
       "\t THR             & 5.663313420     & estimate\\_boy  &  0.1143662095  \\\\\n",
       "\t TRP             & 0.008240932     & estimate\\_boy  & -0.0013726141  \\\\\n",
       "\t VAL             & 2.754038339     & estimate\\_boy  &  0.0875518147  \\\\\n",
       "\t HIS             & 1.753438036     & estimate\\_girl &  0.0118961190  \\\\\n",
       "\t ILE             & 0.394481886     & estimate\\_girl &  0.0218973491  \\\\\n",
       "\t LEU             & 1.506555131     & estimate\\_girl &  0.0506114225  \\\\\n",
       "\t LYS             & 1.784889567     & estimate\\_girl & -0.0313407448  \\\\\n",
       "\t MET             & 0.058953707     & estimate\\_girl &  0.0073141172  \\\\\n",
       "\t PHE             & 0.620540958     & estimate\\_girl &  0.0310360166  \\\\\n",
       "\t THR             & 5.663313420     & estimate\\_girl &  0.1512440782  \\\\\n",
       "\t TRP             & 0.008240932     & estimate\\_girl &  0.0007799286  \\\\\n",
       "\t VAL             & 2.754038339     & estimate\\_girl &  0.1026163853  \\\\\n",
       "\\end{tabular}\n"
      ],
      "text/markdown": [
       "\n",
       "AA | estimate.a_0 | sex | estimate | \n",
       "|---|---|---|---|---|---|---|---|---|---|---|---|---|---|---|---|---|---|\n",
       "| HIS           | 1.753438036   | estimate_boy  |  0.0184596266 | \n",
       "| ILE           | 0.394481886   | estimate_boy  |  0.0063034255 | \n",
       "| LEU           | 1.506555131   | estimate_boy  |  0.0489356008 | \n",
       "| LYS           | 1.784889567   | estimate_boy  | -0.0722107285 | \n",
       "| MET           | 0.058953707   | estimate_boy  |  0.0060001065 | \n",
       "| PHE           | 0.620540958   | estimate_boy  |  0.0242325599 | \n",
       "| THR           | 5.663313420   | estimate_boy  |  0.1143662095 | \n",
       "| TRP           | 0.008240932   | estimate_boy  | -0.0013726141 | \n",
       "| VAL           | 2.754038339   | estimate_boy  |  0.0875518147 | \n",
       "| HIS           | 1.753438036   | estimate_girl |  0.0118961190 | \n",
       "| ILE           | 0.394481886   | estimate_girl |  0.0218973491 | \n",
       "| LEU           | 1.506555131   | estimate_girl |  0.0506114225 | \n",
       "| LYS           | 1.784889567   | estimate_girl | -0.0313407448 | \n",
       "| MET           | 0.058953707   | estimate_girl |  0.0073141172 | \n",
       "| PHE           | 0.620540958   | estimate_girl |  0.0310360166 | \n",
       "| THR           | 5.663313420   | estimate_girl |  0.1512440782 | \n",
       "| TRP           | 0.008240932   | estimate_girl |  0.0007799286 | \n",
       "| VAL           | 2.754038339   | estimate_girl |  0.1026163853 | \n",
       "\n",
       "\n"
      ],
      "text/plain": [
       "   AA  estimate.a_0 sex           estimate     \n",
       "1  HIS 1.753438036  estimate_boy   0.0184596266\n",
       "2  ILE 0.394481886  estimate_boy   0.0063034255\n",
       "3  LEU 1.506555131  estimate_boy   0.0489356008\n",
       "4  LYS 1.784889567  estimate_boy  -0.0722107285\n",
       "5  MET 0.058953707  estimate_boy   0.0060001065\n",
       "6  PHE 0.620540958  estimate_boy   0.0242325599\n",
       "7  THR 5.663313420  estimate_boy   0.1143662095\n",
       "8  TRP 0.008240932  estimate_boy  -0.0013726141\n",
       "9  VAL 2.754038339  estimate_boy   0.0875518147\n",
       "10 HIS 1.753438036  estimate_girl  0.0118961190\n",
       "11 ILE 0.394481886  estimate_girl  0.0218973491\n",
       "12 LEU 1.506555131  estimate_girl  0.0506114225\n",
       "13 LYS 1.784889567  estimate_girl -0.0313407448\n",
       "14 MET 0.058953707  estimate_girl  0.0073141172\n",
       "15 PHE 0.620540958  estimate_girl  0.0310360166\n",
       "16 THR 5.663313420  estimate_girl  0.1512440782\n",
       "17 TRP 0.008240932  estimate_girl  0.0007799286\n",
       "18 VAL 2.754038339  estimate_girl  0.1026163853"
      ]
     },
     "metadata": {},
     "output_type": "display_data"
    },
    {
     "data": {
      "text/html": [
       "<table>\n",
       "<thead><tr><th scope=col>AA</th><th scope=col>estimate.a_0</th><th scope=col>sex</th><th scope=col>estimate</th></tr></thead>\n",
       "<tbody>\n",
       "\t<tr><td>ARG          </td><td> 1.1653868   </td><td>estimate_boy </td><td>-0.039514820 </td></tr>\n",
       "\t<tr><td>ASP          </td><td> 2.9765403   </td><td>estimate_boy </td><td> 0.191335633 </td></tr>\n",
       "\t<tr><td>ALA          </td><td>15.6299040   </td><td>estimate_boy </td><td> 0.785458521 </td></tr>\n",
       "\t<tr><td>ASN          </td><td> 0.6299832   </td><td>estimate_boy </td><td> 0.003399247 </td></tr>\n",
       "\t<tr><td>CYS          </td><td> 0.7681782   </td><td>estimate_boy </td><td> 0.107833530 </td></tr>\n",
       "\t<tr><td>GLY          </td><td> 6.0628496   </td><td>estimate_boy </td><td> 0.428403222 </td></tr>\n",
       "\t<tr><td>GLU          </td><td>55.8558794   </td><td>estimate_boy </td><td> 4.392748009 </td></tr>\n",
       "\t<tr><td>GLN          </td><td>17.8043882   </td><td>estimate_boy </td><td> 2.778492223 </td></tr>\n",
       "\t<tr><td>PRO          </td><td> 3.0321843   </td><td>estimate_boy </td><td>-0.069070724 </td></tr>\n",
       "\t<tr><td>SER          </td><td> 5.4152040   </td><td>estimate_boy </td><td> 0.483329438 </td></tr>\n",
       "\t<tr><td>TYR          </td><td> 0.6923081   </td><td>estimate_boy </td><td> 0.019476071 </td></tr>\n",
       "\t<tr><td>ARG          </td><td> 1.1653868   </td><td>estimate_girl</td><td>-0.008931382 </td></tr>\n",
       "\t<tr><td>ASP          </td><td> 2.9765403   </td><td>estimate_girl</td><td> 0.101209065 </td></tr>\n",
       "\t<tr><td>ALA          </td><td>15.6299040   </td><td>estimate_girl</td><td> 0.470434199 </td></tr>\n",
       "\t<tr><td>ASN          </td><td> 0.6299832   </td><td>estimate_girl</td><td>-0.005808696 </td></tr>\n",
       "\t<tr><td>CYS          </td><td> 0.7681782   </td><td>estimate_girl</td><td> 0.080326062 </td></tr>\n",
       "\t<tr><td>GLY          </td><td> 6.0628496   </td><td>estimate_girl</td><td> 0.389428512 </td></tr>\n",
       "\t<tr><td>GLU          </td><td>55.8558794   </td><td>estimate_girl</td><td> 3.696369483 </td></tr>\n",
       "\t<tr><td>GLN          </td><td>17.8043882   </td><td>estimate_girl</td><td> 2.555991339 </td></tr>\n",
       "\t<tr><td>PRO          </td><td> 3.0321843   </td><td>estimate_girl</td><td>-0.034913860 </td></tr>\n",
       "\t<tr><td>SER          </td><td> 5.4152040   </td><td>estimate_girl</td><td> 0.433364878 </td></tr>\n",
       "\t<tr><td>TYR          </td><td> 0.6923081   </td><td>estimate_girl</td><td> 0.016157241 </td></tr>\n",
       "</tbody>\n",
       "</table>\n"
      ],
      "text/latex": [
       "\\begin{tabular}{r|llll}\n",
       " AA & estimate.a\\_0 & sex & estimate\\\\\n",
       "\\hline\n",
       "\t ARG             &  1.1653868      & estimate\\_boy  & -0.039514820   \\\\\n",
       "\t ASP             &  2.9765403      & estimate\\_boy  &  0.191335633   \\\\\n",
       "\t ALA             & 15.6299040      & estimate\\_boy  &  0.785458521   \\\\\n",
       "\t ASN             &  0.6299832      & estimate\\_boy  &  0.003399247   \\\\\n",
       "\t CYS             &  0.7681782      & estimate\\_boy  &  0.107833530   \\\\\n",
       "\t GLY             &  6.0628496      & estimate\\_boy  &  0.428403222   \\\\\n",
       "\t GLU             & 55.8558794      & estimate\\_boy  &  4.392748009   \\\\\n",
       "\t GLN             & 17.8043882      & estimate\\_boy  &  2.778492223   \\\\\n",
       "\t PRO             &  3.0321843      & estimate\\_boy  & -0.069070724   \\\\\n",
       "\t SER             &  5.4152040      & estimate\\_boy  &  0.483329438   \\\\\n",
       "\t TYR             &  0.6923081      & estimate\\_boy  &  0.019476071   \\\\\n",
       "\t ARG             &  1.1653868      & estimate\\_girl & -0.008931382   \\\\\n",
       "\t ASP             &  2.9765403      & estimate\\_girl &  0.101209065   \\\\\n",
       "\t ALA             & 15.6299040      & estimate\\_girl &  0.470434199   \\\\\n",
       "\t ASN             &  0.6299832      & estimate\\_girl & -0.005808696   \\\\\n",
       "\t CYS             &  0.7681782      & estimate\\_girl &  0.080326062   \\\\\n",
       "\t GLY             &  6.0628496      & estimate\\_girl &  0.389428512   \\\\\n",
       "\t GLU             & 55.8558794      & estimate\\_girl &  3.696369483   \\\\\n",
       "\t GLN             & 17.8043882      & estimate\\_girl &  2.555991339   \\\\\n",
       "\t PRO             &  3.0321843      & estimate\\_girl & -0.034913860   \\\\\n",
       "\t SER             &  5.4152040      & estimate\\_girl &  0.433364878   \\\\\n",
       "\t TYR             &  0.6923081      & estimate\\_girl &  0.016157241   \\\\\n",
       "\\end{tabular}\n"
      ],
      "text/markdown": [
       "\n",
       "AA | estimate.a_0 | sex | estimate | \n",
       "|---|---|---|---|---|---|---|---|---|---|---|---|---|---|---|---|---|---|---|---|---|---|\n",
       "| ARG           |  1.1653868    | estimate_boy  | -0.039514820  | \n",
       "| ASP           |  2.9765403    | estimate_boy  |  0.191335633  | \n",
       "| ALA           | 15.6299040    | estimate_boy  |  0.785458521  | \n",
       "| ASN           |  0.6299832    | estimate_boy  |  0.003399247  | \n",
       "| CYS           |  0.7681782    | estimate_boy  |  0.107833530  | \n",
       "| GLY           |  6.0628496    | estimate_boy  |  0.428403222  | \n",
       "| GLU           | 55.8558794    | estimate_boy  |  4.392748009  | \n",
       "| GLN           | 17.8043882    | estimate_boy  |  2.778492223  | \n",
       "| PRO           |  3.0321843    | estimate_boy  | -0.069070724  | \n",
       "| SER           |  5.4152040    | estimate_boy  |  0.483329438  | \n",
       "| TYR           |  0.6923081    | estimate_boy  |  0.019476071  | \n",
       "| ARG           |  1.1653868    | estimate_girl | -0.008931382  | \n",
       "| ASP           |  2.9765403    | estimate_girl |  0.101209065  | \n",
       "| ALA           | 15.6299040    | estimate_girl |  0.470434199  | \n",
       "| ASN           |  0.6299832    | estimate_girl | -0.005808696  | \n",
       "| CYS           |  0.7681782    | estimate_girl |  0.080326062  | \n",
       "| GLY           |  6.0628496    | estimate_girl |  0.389428512  | \n",
       "| GLU           | 55.8558794    | estimate_girl |  3.696369483  | \n",
       "| GLN           | 17.8043882    | estimate_girl |  2.555991339  | \n",
       "| PRO           |  3.0321843    | estimate_girl | -0.034913860  | \n",
       "| SER           |  5.4152040    | estimate_girl |  0.433364878  | \n",
       "| TYR           |  0.6923081    | estimate_girl |  0.016157241  | \n",
       "\n",
       "\n"
      ],
      "text/plain": [
       "   AA  estimate.a_0 sex           estimate    \n",
       "1  ARG  1.1653868   estimate_boy  -0.039514820\n",
       "2  ASP  2.9765403   estimate_boy   0.191335633\n",
       "3  ALA 15.6299040   estimate_boy   0.785458521\n",
       "4  ASN  0.6299832   estimate_boy   0.003399247\n",
       "5  CYS  0.7681782   estimate_boy   0.107833530\n",
       "6  GLY  6.0628496   estimate_boy   0.428403222\n",
       "7  GLU 55.8558794   estimate_boy   4.392748009\n",
       "8  GLN 17.8043882   estimate_boy   2.778492223\n",
       "9  PRO  3.0321843   estimate_boy  -0.069070724\n",
       "10 SER  5.4152040   estimate_boy   0.483329438\n",
       "11 TYR  0.6923081   estimate_boy   0.019476071\n",
       "12 ARG  1.1653868   estimate_girl -0.008931382\n",
       "13 ASP  2.9765403   estimate_girl  0.101209065\n",
       "14 ALA 15.6299040   estimate_girl  0.470434199\n",
       "15 ASN  0.6299832   estimate_girl -0.005808696\n",
       "16 CYS  0.7681782   estimate_girl  0.080326062\n",
       "17 GLY  6.0628496   estimate_girl  0.389428512\n",
       "18 GLU 55.8558794   estimate_girl  3.696369483\n",
       "19 GLN 17.8043882   estimate_girl  2.555991339\n",
       "20 PRO  3.0321843   estimate_girl -0.034913860\n",
       "21 SER  5.4152040   estimate_girl  0.433364878\n",
       "22 TYR  0.6923081   estimate_girl  0.016157241"
      ]
     },
     "metadata": {},
     "output_type": "display_data"
    }
   ],
   "source": [
    "ablines_E_SW <- left_join(sexCoef_E_SW, a_0_E, by = 'AA') %>% select(AA, estimate_boy, estimate_girl, estimate.a_0)\n",
    "ablines_NE_SW <- left_join(sexCoef_NE_SW, a_0_NE, by = 'AA') %>% select(AA, estimate_boy, estimate_girl, estimate.a_0)\n",
    "\n",
    "ablines_E_SW <- ablines_E_SW %>% gather(sex, estimate, 2:3)\n",
    "ablines_NE_SW <- ablines_NE_SW %>% gather(sex, estimate, 2:3)\n",
    "\n",
    "ablines_E_SW\n",
    "ablines_NE_SW"
   ]
  },
  {
   "cell_type": "code",
   "execution_count": 67,
   "metadata": {},
   "outputs": [
    {
     "data": {},
     "metadata": {},
     "output_type": "display_data"
    },
    {
     "data": {
      "image/png": "[encoded data removed]",
      "text/plain": [
       "plot without title"
      ]
     },
     "metadata": {},
     "output_type": "display_data"
    }
   ],
   "source": [
    "#png(filename=\"./plots/E_SW_trends.png\", units=\"cm\", width=20, height=20, res = 300)\n",
    "ggplot() + \n",
    "    scale_x_continuous(limits=c(0, 16)) +\n",
    "    scale_y_continuous(limits=c(0, 10)) + \n",
    "    geom_abline(data=ablines_E_SW, size = 1.1, alpha = 0.5,\n",
    "                aes(slope = estimate, intercept = estimate.a_0, color = AA, linetype=sex)) + \n",
    "    facet_wrap(~AA)\n",
    "\n",
    "#dev.off()"
   ]
  },
  {
   "cell_type": "code",
   "execution_count": 102,
   "metadata": {},
   "outputs": [
    {
     "data": {},
     "metadata": {},
     "output_type": "display_data"
    },
    {
     "data": {
      "image/png": "[encoded data removed]",
      "text/plain": [
       "plot without title"
      ]
     },
     "metadata": {},
     "output_type": "display_data"
    }
   ],
   "source": [
    "#png(filename=\"./plots/NE_SW_trends.png\", units=\"cm\", width=20, height=20, res = 300)\n",
    "ggplot() + \n",
    "    #scale_x_continuous(limits=c(0, 16)) +\n",
    "    #scale_y_continuous(limits=c(0, 150)) + \n",
    "    geom_abline(data=ablines_NE_SW, size = 1.1, alpha = 0.5,\n",
    "                aes(slope = estimate, intercept = estimate.a_0, color = AA, linetype=sex)) + \n",
    "    facet_wrap(~AA, scales = \"free_y\")\n",
    "\n",
    "#dev.off()"
   ]
  },
  {
   "cell_type": "code",
   "execution_count": 69,
   "metadata": {},
   "outputs": [
    {
     "data": {
      "text/html": [
       "<table>\n",
       "<thead><tr><th scope=col>effect</th><th scope=col>term</th><th scope=col>estimate</th><th scope=col>std.error</th><th scope=col>statistic</th><th scope=col>AA</th></tr></thead>\n",
       "<tbody>\n",
       "\t<tr><td>fixed       </td><td>sexboy      </td><td> 0.143092607</td><td>0.19317023  </td><td> 0.7407591  </td><td>HIS         </td></tr>\n",
       "\t<tr><td>fixed       </td><td>sexboy      </td><td> 0.174595018</td><td>0.12794612  </td><td> 1.3645980  </td><td>ILE         </td></tr>\n",
       "\t<tr><td>fixed       </td><td>sexboy      </td><td> 0.047945393</td><td>0.27163690  </td><td> 0.1765054  </td><td>LEU         </td></tr>\n",
       "\t<tr><td>fixed       </td><td>sexboy      </td><td> 0.409603825</td><td>0.28665438  </td><td> 1.4289118  </td><td>LYS         </td></tr>\n",
       "\t<tr><td>fixed       </td><td>sexboy      </td><td> 0.069296904</td><td>0.07633821  </td><td> 0.9077618  </td><td>MET         </td></tr>\n",
       "\t<tr><td>fixed       </td><td>sexboy      </td><td> 0.156944157</td><td>0.11224616  </td><td> 1.3982140  </td><td>PHE         </td></tr>\n",
       "\t<tr><td>fixed       </td><td>sexboy      </td><td>-0.505636994</td><td>0.69988022  </td><td>-0.7224622  </td><td>THR         </td></tr>\n",
       "\t<tr><td>fixed       </td><td>sexboy      </td><td> 0.009034879</td><td>0.02210311  </td><td> 0.4087605  </td><td>TRP         </td></tr>\n",
       "\t<tr><td>fixed       </td><td>sexboy      </td><td> 0.345219059</td><td>0.32126058  </td><td> 1.0745765  </td><td>VAL         </td></tr>\n",
       "</tbody>\n",
       "</table>\n"
      ],
      "text/latex": [
       "\\begin{tabular}{r|llllll}\n",
       " effect & term & estimate & std.error & statistic & AA\\\\\n",
       "\\hline\n",
       "\t fixed        & sexboy       &  0.143092607 & 0.19317023   &  0.7407591   & HIS         \\\\\n",
       "\t fixed        & sexboy       &  0.174595018 & 0.12794612   &  1.3645980   & ILE         \\\\\n",
       "\t fixed        & sexboy       &  0.047945393 & 0.27163690   &  0.1765054   & LEU         \\\\\n",
       "\t fixed        & sexboy       &  0.409603825 & 0.28665438   &  1.4289118   & LYS         \\\\\n",
       "\t fixed        & sexboy       &  0.069296904 & 0.07633821   &  0.9077618   & MET         \\\\\n",
       "\t fixed        & sexboy       &  0.156944157 & 0.11224616   &  1.3982140   & PHE         \\\\\n",
       "\t fixed        & sexboy       & -0.505636994 & 0.69988022   & -0.7224622   & THR         \\\\\n",
       "\t fixed        & sexboy       &  0.009034879 & 0.02210311   &  0.4087605   & TRP         \\\\\n",
       "\t fixed        & sexboy       &  0.345219059 & 0.32126058   &  1.0745765   & VAL         \\\\\n",
       "\\end{tabular}\n"
      ],
      "text/markdown": [
       "\n",
       "effect | term | estimate | std.error | statistic | AA | \n",
       "|---|---|---|---|---|---|---|---|---|\n",
       "| fixed        | sexboy       |  0.143092607 | 0.19317023   |  0.7407591   | HIS          | \n",
       "| fixed        | sexboy       |  0.174595018 | 0.12794612   |  1.3645980   | ILE          | \n",
       "| fixed        | sexboy       |  0.047945393 | 0.27163690   |  0.1765054   | LEU          | \n",
       "| fixed        | sexboy       |  0.409603825 | 0.28665438   |  1.4289118   | LYS          | \n",
       "| fixed        | sexboy       |  0.069296904 | 0.07633821   |  0.9077618   | MET          | \n",
       "| fixed        | sexboy       |  0.156944157 | 0.11224616   |  1.3982140   | PHE          | \n",
       "| fixed        | sexboy       | -0.505636994 | 0.69988022   | -0.7224622   | THR          | \n",
       "| fixed        | sexboy       |  0.009034879 | 0.02210311   |  0.4087605   | TRP          | \n",
       "| fixed        | sexboy       |  0.345219059 | 0.32126058   |  1.0745765   | VAL          | \n",
       "\n",
       "\n"
      ],
      "text/plain": [
       "  effect term   estimate     std.error  statistic  AA \n",
       "1 fixed  sexboy  0.143092607 0.19317023  0.7407591 HIS\n",
       "2 fixed  sexboy  0.174595018 0.12794612  1.3645980 ILE\n",
       "3 fixed  sexboy  0.047945393 0.27163690  0.1765054 LEU\n",
       "4 fixed  sexboy  0.409603825 0.28665438  1.4289118 LYS\n",
       "5 fixed  sexboy  0.069296904 0.07633821  0.9077618 MET\n",
       "6 fixed  sexboy  0.156944157 0.11224616  1.3982140 PHE\n",
       "7 fixed  sexboy -0.505636994 0.69988022 -0.7224622 THR\n",
       "8 fixed  sexboy  0.009034879 0.02210311  0.4087605 TRP\n",
       "9 fixed  sexboy  0.345219059 0.32126058  1.0745765 VAL"
      ]
     },
     "metadata": {},
     "output_type": "display_data"
    },
    {
     "data": {
      "text/html": [
       "<table>\n",
       "<thead><tr><th scope=col>effect</th><th scope=col>term</th><th scope=col>estimate</th><th scope=col>std.error</th><th scope=col>statistic</th><th scope=col>AA</th></tr></thead>\n",
       "<tbody>\n",
       "\t<tr><td>fixed      </td><td>sexboy     </td><td> 0.31074934</td><td>0.1883314  </td><td> 1.65001388</td><td>ARG        </td></tr>\n",
       "\t<tr><td>fixed      </td><td>sexboy     </td><td> 0.05185834</td><td>0.5953684  </td><td> 0.08710294</td><td>ASP        </td></tr>\n",
       "\t<tr><td>fixed      </td><td>sexboy     </td><td>-0.11682474</td><td>2.0649908  </td><td>-0.05657397</td><td>ALA        </td></tr>\n",
       "\t<tr><td>fixed      </td><td>sexboy     </td><td>-0.13598389</td><td>0.1709738  </td><td>-0.79534916</td><td>ASN        </td></tr>\n",
       "\t<tr><td>fixed      </td><td>sexboy     </td><td> 0.20510859</td><td>0.2005285  </td><td> 1.02284025</td><td>CYS        </td></tr>\n",
       "\t<tr><td>fixed      </td><td>sexboy     </td><td> 1.60275402</td><td>0.9899288  </td><td> 1.61905983</td><td>GLY        </td></tr>\n",
       "\t<tr><td>fixed      </td><td>sexboy     </td><td>10.52145458</td><td>8.2838069  </td><td> 1.27012311</td><td>GLU        </td></tr>\n",
       "\t<tr><td>fixed      </td><td>sexboy     </td><td> 1.82734425</td><td>4.2196043  </td><td> 0.43306058</td><td>GLN        </td></tr>\n",
       "\t<tr><td>fixed      </td><td>sexboy     </td><td> 0.57680676</td><td>0.4334495  </td><td> 1.33073566</td><td>PRO        </td></tr>\n",
       "\t<tr><td>fixed      </td><td>sexboy     </td><td> 0.94959680</td><td>0.8621900  </td><td> 1.10137762</td><td>SER        </td></tr>\n",
       "\t<tr><td>fixed      </td><td>sexboy     </td><td> 0.21934399</td><td>0.1353471  </td><td> 1.62060311</td><td>TYR        </td></tr>\n",
       "</tbody>\n",
       "</table>\n"
      ],
      "text/latex": [
       "\\begin{tabular}{r|llllll}\n",
       " effect & term & estimate & std.error & statistic & AA\\\\\n",
       "\\hline\n",
       "\t fixed       & sexboy      &  0.31074934 & 0.1883314   &  1.65001388 & ARG        \\\\\n",
       "\t fixed       & sexboy      &  0.05185834 & 0.5953684   &  0.08710294 & ASP        \\\\\n",
       "\t fixed       & sexboy      & -0.11682474 & 2.0649908   & -0.05657397 & ALA        \\\\\n",
       "\t fixed       & sexboy      & -0.13598389 & 0.1709738   & -0.79534916 & ASN        \\\\\n",
       "\t fixed       & sexboy      &  0.20510859 & 0.2005285   &  1.02284025 & CYS        \\\\\n",
       "\t fixed       & sexboy      &  1.60275402 & 0.9899288   &  1.61905983 & GLY        \\\\\n",
       "\t fixed       & sexboy      & 10.52145458 & 8.2838069   &  1.27012311 & GLU        \\\\\n",
       "\t fixed       & sexboy      &  1.82734425 & 4.2196043   &  0.43306058 & GLN        \\\\\n",
       "\t fixed       & sexboy      &  0.57680676 & 0.4334495   &  1.33073566 & PRO        \\\\\n",
       "\t fixed       & sexboy      &  0.94959680 & 0.8621900   &  1.10137762 & SER        \\\\\n",
       "\t fixed       & sexboy      &  0.21934399 & 0.1353471   &  1.62060311 & TYR        \\\\\n",
       "\\end{tabular}\n"
      ],
      "text/markdown": [
       "\n",
       "effect | term | estimate | std.error | statistic | AA | \n",
       "|---|---|---|---|---|---|---|---|---|---|---|\n",
       "| fixed       | sexboy      |  0.31074934 | 0.1883314   |  1.65001388 | ARG         | \n",
       "| fixed       | sexboy      |  0.05185834 | 0.5953684   |  0.08710294 | ASP         | \n",
       "| fixed       | sexboy      | -0.11682474 | 2.0649908   | -0.05657397 | ALA         | \n",
       "| fixed       | sexboy      | -0.13598389 | 0.1709738   | -0.79534916 | ASN         | \n",
       "| fixed       | sexboy      |  0.20510859 | 0.2005285   |  1.02284025 | CYS         | \n",
       "| fixed       | sexboy      |  1.60275402 | 0.9899288   |  1.61905983 | GLY         | \n",
       "| fixed       | sexboy      | 10.52145458 | 8.2838069   |  1.27012311 | GLU         | \n",
       "| fixed       | sexboy      |  1.82734425 | 4.2196043   |  0.43306058 | GLN         | \n",
       "| fixed       | sexboy      |  0.57680676 | 0.4334495   |  1.33073566 | PRO         | \n",
       "| fixed       | sexboy      |  0.94959680 | 0.8621900   |  1.10137762 | SER         | \n",
       "| fixed       | sexboy      |  0.21934399 | 0.1353471   |  1.62060311 | TYR         | \n",
       "\n",
       "\n"
      ],
      "text/plain": [
       "   effect term   estimate    std.error statistic   AA \n",
       "1  fixed  sexboy  0.31074934 0.1883314  1.65001388 ARG\n",
       "2  fixed  sexboy  0.05185834 0.5953684  0.08710294 ASP\n",
       "3  fixed  sexboy -0.11682474 2.0649908 -0.05657397 ALA\n",
       "4  fixed  sexboy -0.13598389 0.1709738 -0.79534916 ASN\n",
       "5  fixed  sexboy  0.20510859 0.2005285  1.02284025 CYS\n",
       "6  fixed  sexboy  1.60275402 0.9899288  1.61905983 GLY\n",
       "7  fixed  sexboy 10.52145458 8.2838069  1.27012311 GLU\n",
       "8  fixed  sexboy  1.82734425 4.2196043  0.43306058 GLN\n",
       "9  fixed  sexboy  0.57680676 0.4334495  1.33073566 PRO\n",
       "10 fixed  sexboy  0.94959680 0.8621900  1.10137762 SER\n",
       "11 fixed  sexboy  0.21934399 0.1353471  1.62060311 TYR"
      ]
     },
     "metadata": {},
     "output_type": "display_data"
    }
   ],
   "source": [
    "sexCoef_E_SW <- bind_rows(tidy_E_SW) %>% filter(grepl(\"^sexboy$\", term)) %>% select(1:6)\n",
    "sexCoef_NE_SW <- bind_rows(tidy_NE_SW) %>% filter(grepl(\"^sexboy$\", term)) %>% select(1:6)\n",
    "\n",
    "sexCoef_E_SW\n",
    "sexCoef_NE_SW"
   ]
  },
  {
   "cell_type": "code",
   "execution_count": 70,
   "metadata": {},
   "outputs": [
    {
     "data": {},
     "metadata": {},
     "output_type": "display_data"
    },
    {
     "data": {
      "image/png": "[encoded data removed]",
      "text/plain": [
       "plot without title"
      ]
     },
     "metadata": {},
     "output_type": "display_data"
    }
   ],
   "source": [
    "#png(filename=\"./plots/EAA_S_SW_coeff.png\", units=\"cm\", width=20, height=20, res = 300)\n",
    "ggplot(sexCoef_E_SW, aes(x = AA, y = estimate, color = AA)) + \n",
    "    geom_hline(yintercept = 0, alpha = 0.4) + \n",
    "    geom_point() + geom_pointrange( aes(x = AA, ymin = estimate - 2*std.error, ymax = estimate + 2*std.error)) + \n",
    "    theme(legend.position = \"none\") + \n",
    "    coord_flip() + ylab(TeX('sex (boy $\\\\rightarrow$)')) + \n",
    "    ggtitle('Essential AA \\n Estimate and 95% CI controlling for sex:week interaction') \n",
    "#dev.off()"
   ]
  },
  {
   "cell_type": "code",
   "execution_count": 71,
   "metadata": {},
   "outputs": [
    {
     "data": {},
     "metadata": {},
     "output_type": "display_data"
    },
    {
     "data": {
      "image/png": "[encoded data removed]",
      "text/plain": [
       "plot without title"
      ]
     },
     "metadata": {},
     "output_type": "display_data"
    }
   ],
   "source": [
    "#png(filename=\"./plots/NEAA_S_SW_coeff.png\", units=\"cm\", width=20, height=20, res = 300)\n",
    "ggplot(sexCoef_NE_SW, aes(x = AA, y = estimate, color = AA)) + \n",
    "    geom_hline(yintercept = 0, alpha = 0.4) + \n",
    "    geom_point() + geom_pointrange( aes(x = AA, ymin = estimate - 2*std.error, ymax = estimate + 2*std.error)) + \n",
    "    theme(legend.position = \"none\") + \n",
    "    coord_flip() + ylab(TeX('sex (boy $\\\\rightarrow$)')) + \n",
    "    ggtitle('Non Essential AA \\n Estimate and 95% CI controlling for sex:week interaction') \n",
    "#dev.off()"
   ]
  },
  {
   "cell_type": "code",
   "execution_count": 72,
   "metadata": {},
   "outputs": [
    {
     "data": {
      "text/html": [
       "<table>\n",
       "<thead><tr><th scope=col>effect</th><th scope=col>term</th><th scope=col>estimate</th><th scope=col>std.error</th><th scope=col>statistic</th><th scope=col>AA</th></tr></thead>\n",
       "<tbody>\n",
       "\t<tr><td>fixed       </td><td>sexboy:week </td><td> 0.006563508</td><td>0.022014670 </td><td> 0.29814245 </td><td>HIS         </td></tr>\n",
       "\t<tr><td>fixed       </td><td>sexboy:week </td><td>-0.015593924</td><td>0.013424397 </td><td>-1.16161073 </td><td>ILE         </td></tr>\n",
       "\t<tr><td>fixed       </td><td>sexboy:week </td><td>-0.001675822</td><td>0.032484883 </td><td>-0.05158774 </td><td>LEU         </td></tr>\n",
       "\t<tr><td>fixed       </td><td>sexboy:week </td><td>-0.040869984</td><td>0.033052873 </td><td>-1.23650322 </td><td>LYS         </td></tr>\n",
       "\t<tr><td>fixed       </td><td>sexboy:week </td><td>-0.001314011</td><td>0.009170797 </td><td>-0.14328206 </td><td>MET         </td></tr>\n",
       "\t<tr><td>fixed       </td><td>sexboy:week </td><td>-0.006803457</td><td>0.013601251 </td><td>-0.50020817 </td><td>PHE         </td></tr>\n",
       "\t<tr><td>fixed       </td><td>sexboy:week </td><td>-0.036877869</td><td>0.063675043 </td><td>-0.57915735 </td><td>THR         </td></tr>\n",
       "\t<tr><td>fixed       </td><td>sexboy:week </td><td>-0.002152543</td><td>0.002698552 </td><td>-0.79766576 </td><td>TRP         </td></tr>\n",
       "\t<tr><td>fixed       </td><td>sexboy:week </td><td>-0.015064571</td><td>0.036182930 </td><td>-0.41634468 </td><td>VAL         </td></tr>\n",
       "</tbody>\n",
       "</table>\n"
      ],
      "text/latex": [
       "\\begin{tabular}{r|llllll}\n",
       " effect & term & estimate & std.error & statistic & AA\\\\\n",
       "\\hline\n",
       "\t fixed        & sexboy:week  &  0.006563508 & 0.022014670  &  0.29814245  & HIS         \\\\\n",
       "\t fixed        & sexboy:week  & -0.015593924 & 0.013424397  & -1.16161073  & ILE         \\\\\n",
       "\t fixed        & sexboy:week  & -0.001675822 & 0.032484883  & -0.05158774  & LEU         \\\\\n",
       "\t fixed        & sexboy:week  & -0.040869984 & 0.033052873  & -1.23650322  & LYS         \\\\\n",
       "\t fixed        & sexboy:week  & -0.001314011 & 0.009170797  & -0.14328206  & MET         \\\\\n",
       "\t fixed        & sexboy:week  & -0.006803457 & 0.013601251  & -0.50020817  & PHE         \\\\\n",
       "\t fixed        & sexboy:week  & -0.036877869 & 0.063675043  & -0.57915735  & THR         \\\\\n",
       "\t fixed        & sexboy:week  & -0.002152543 & 0.002698552  & -0.79766576  & TRP         \\\\\n",
       "\t fixed        & sexboy:week  & -0.015064571 & 0.036182930  & -0.41634468  & VAL         \\\\\n",
       "\\end{tabular}\n"
      ],
      "text/markdown": [
       "\n",
       "effect | term | estimate | std.error | statistic | AA | \n",
       "|---|---|---|---|---|---|---|---|---|\n",
       "| fixed        | sexboy:week  |  0.006563508 | 0.022014670  |  0.29814245  | HIS          | \n",
       "| fixed        | sexboy:week  | -0.015593924 | 0.013424397  | -1.16161073  | ILE          | \n",
       "| fixed        | sexboy:week  | -0.001675822 | 0.032484883  | -0.05158774  | LEU          | \n",
       "| fixed        | sexboy:week  | -0.040869984 | 0.033052873  | -1.23650322  | LYS          | \n",
       "| fixed        | sexboy:week  | -0.001314011 | 0.009170797  | -0.14328206  | MET          | \n",
       "| fixed        | sexboy:week  | -0.006803457 | 0.013601251  | -0.50020817  | PHE          | \n",
       "| fixed        | sexboy:week  | -0.036877869 | 0.063675043  | -0.57915735  | THR          | \n",
       "| fixed        | sexboy:week  | -0.002152543 | 0.002698552  | -0.79766576  | TRP          | \n",
       "| fixed        | sexboy:week  | -0.015064571 | 0.036182930  | -0.41634468  | VAL          | \n",
       "\n",
       "\n"
      ],
      "text/plain": [
       "  effect term        estimate     std.error   statistic   AA \n",
       "1 fixed  sexboy:week  0.006563508 0.022014670  0.29814245 HIS\n",
       "2 fixed  sexboy:week -0.015593924 0.013424397 -1.16161073 ILE\n",
       "3 fixed  sexboy:week -0.001675822 0.032484883 -0.05158774 LEU\n",
       "4 fixed  sexboy:week -0.040869984 0.033052873 -1.23650322 LYS\n",
       "5 fixed  sexboy:week -0.001314011 0.009170797 -0.14328206 MET\n",
       "6 fixed  sexboy:week -0.006803457 0.013601251 -0.50020817 PHE\n",
       "7 fixed  sexboy:week -0.036877869 0.063675043 -0.57915735 THR\n",
       "8 fixed  sexboy:week -0.002152543 0.002698552 -0.79766576 TRP\n",
       "9 fixed  sexboy:week -0.015064571 0.036182930 -0.41634468 VAL"
      ]
     },
     "metadata": {},
     "output_type": "display_data"
    },
    {
     "data": {
      "text/html": [
       "<table>\n",
       "<thead><tr><th scope=col>effect</th><th scope=col>term</th><th scope=col>estimate</th><th scope=col>std.error</th><th scope=col>statistic</th><th scope=col>AA</th></tr></thead>\n",
       "<tbody>\n",
       "\t<tr><td>fixed       </td><td>sexboy:week </td><td>-0.030583438</td><td>0.02043535  </td><td>-1.4965946  </td><td>ARG         </td></tr>\n",
       "\t<tr><td>fixed       </td><td>sexboy:week </td><td> 0.090126567</td><td>0.06298104  </td><td> 1.4310110  </td><td>ASP         </td></tr>\n",
       "\t<tr><td>fixed       </td><td>sexboy:week </td><td> 0.315024322</td><td>0.21872555  </td><td> 1.4402721  </td><td>ALA         </td></tr>\n",
       "\t<tr><td>fixed       </td><td>sexboy:week </td><td> 0.009207942</td><td>0.02024970  </td><td> 0.4547199  </td><td>ASN         </td></tr>\n",
       "\t<tr><td>fixed       </td><td>sexboy:week </td><td> 0.027507469</td><td>0.02096268  </td><td> 1.3122113  </td><td>CYS         </td></tr>\n",
       "\t<tr><td>fixed       </td><td>sexboy:week </td><td> 0.038974710</td><td>0.10694446  </td><td> 0.3644388  </td><td>GLY         </td></tr>\n",
       "\t<tr><td>fixed       </td><td>sexboy:week </td><td> 0.696378526</td><td>0.91003229  </td><td> 0.7652240  </td><td>GLU         </td></tr>\n",
       "\t<tr><td>fixed       </td><td>sexboy:week </td><td> 0.222500884</td><td>0.45278705  </td><td> 0.4914029  </td><td>GLN         </td></tr>\n",
       "\t<tr><td>fixed       </td><td>sexboy:week </td><td>-0.034156864</td><td>0.04751160  </td><td>-0.7189163  </td><td>PRO         </td></tr>\n",
       "\t<tr><td>fixed       </td><td>sexboy:week </td><td> 0.049964560</td><td>0.09142594  </td><td> 0.5465031  </td><td>SER         </td></tr>\n",
       "\t<tr><td>fixed       </td><td>sexboy:week </td><td> 0.003318830</td><td>0.01425833  </td><td> 0.2327644  </td><td>TYR         </td></tr>\n",
       "</tbody>\n",
       "</table>\n"
      ],
      "text/latex": [
       "\\begin{tabular}{r|llllll}\n",
       " effect & term & estimate & std.error & statistic & AA\\\\\n",
       "\\hline\n",
       "\t fixed        & sexboy:week  & -0.030583438 & 0.02043535   & -1.4965946   & ARG         \\\\\n",
       "\t fixed        & sexboy:week  &  0.090126567 & 0.06298104   &  1.4310110   & ASP         \\\\\n",
       "\t fixed        & sexboy:week  &  0.315024322 & 0.21872555   &  1.4402721   & ALA         \\\\\n",
       "\t fixed        & sexboy:week  &  0.009207942 & 0.02024970   &  0.4547199   & ASN         \\\\\n",
       "\t fixed        & sexboy:week  &  0.027507469 & 0.02096268   &  1.3122113   & CYS         \\\\\n",
       "\t fixed        & sexboy:week  &  0.038974710 & 0.10694446   &  0.3644388   & GLY         \\\\\n",
       "\t fixed        & sexboy:week  &  0.696378526 & 0.91003229   &  0.7652240   & GLU         \\\\\n",
       "\t fixed        & sexboy:week  &  0.222500884 & 0.45278705   &  0.4914029   & GLN         \\\\\n",
       "\t fixed        & sexboy:week  & -0.034156864 & 0.04751160   & -0.7189163   & PRO         \\\\\n",
       "\t fixed        & sexboy:week  &  0.049964560 & 0.09142594   &  0.5465031   & SER         \\\\\n",
       "\t fixed        & sexboy:week  &  0.003318830 & 0.01425833   &  0.2327644   & TYR         \\\\\n",
       "\\end{tabular}\n"
      ],
      "text/markdown": [
       "\n",
       "effect | term | estimate | std.error | statistic | AA | \n",
       "|---|---|---|---|---|---|---|---|---|---|---|\n",
       "| fixed        | sexboy:week  | -0.030583438 | 0.02043535   | -1.4965946   | ARG          | \n",
       "| fixed        | sexboy:week  |  0.090126567 | 0.06298104   |  1.4310110   | ASP          | \n",
       "| fixed        | sexboy:week  |  0.315024322 | 0.21872555   |  1.4402721   | ALA          | \n",
       "| fixed        | sexboy:week  |  0.009207942 | 0.02024970   |  0.4547199   | ASN          | \n",
       "| fixed        | sexboy:week  |  0.027507469 | 0.02096268   |  1.3122113   | CYS          | \n",
       "| fixed        | sexboy:week  |  0.038974710 | 0.10694446   |  0.3644388   | GLY          | \n",
       "| fixed        | sexboy:week  |  0.696378526 | 0.91003229   |  0.7652240   | GLU          | \n",
       "| fixed        | sexboy:week  |  0.222500884 | 0.45278705   |  0.4914029   | GLN          | \n",
       "| fixed        | sexboy:week  | -0.034156864 | 0.04751160   | -0.7189163   | PRO          | \n",
       "| fixed        | sexboy:week  |  0.049964560 | 0.09142594   |  0.5465031   | SER          | \n",
       "| fixed        | sexboy:week  |  0.003318830 | 0.01425833   |  0.2327644   | TYR          | \n",
       "\n",
       "\n"
      ],
      "text/plain": [
       "   effect term        estimate     std.error  statistic  AA \n",
       "1  fixed  sexboy:week -0.030583438 0.02043535 -1.4965946 ARG\n",
       "2  fixed  sexboy:week  0.090126567 0.06298104  1.4310110 ASP\n",
       "3  fixed  sexboy:week  0.315024322 0.21872555  1.4402721 ALA\n",
       "4  fixed  sexboy:week  0.009207942 0.02024970  0.4547199 ASN\n",
       "5  fixed  sexboy:week  0.027507469 0.02096268  1.3122113 CYS\n",
       "6  fixed  sexboy:week  0.038974710 0.10694446  0.3644388 GLY\n",
       "7  fixed  sexboy:week  0.696378526 0.91003229  0.7652240 GLU\n",
       "8  fixed  sexboy:week  0.222500884 0.45278705  0.4914029 GLN\n",
       "9  fixed  sexboy:week -0.034156864 0.04751160 -0.7189163 PRO\n",
       "10 fixed  sexboy:week  0.049964560 0.09142594  0.5465031 SER\n",
       "11 fixed  sexboy:week  0.003318830 0.01425833  0.2327644 TYR"
      ]
     },
     "metadata": {},
     "output_type": "display_data"
    }
   ],
   "source": [
    "swCoef_E_SW <- bind_rows(tidy_E_SW) %>% filter(grepl(\"^sexboy:week$\", term)) %>% select(1:6)\n",
    "swCoef_NE_SW <- bind_rows(tidy_NE_SW) %>% filter(grepl(\"^sexboy:week$\", term)) %>% select(1:6)\n",
    "\n",
    "swCoef_E_SW\n",
    "swCoef_NE_SW"
   ]
  },
  {
   "cell_type": "code",
   "execution_count": 73,
   "metadata": {},
   "outputs": [
    {
     "data": {},
     "metadata": {},
     "output_type": "display_data"
    },
    {
     "data": {
      "image/png": "[encoded data removed]",
      "text/plain": [
       "plot without title"
      ]
     },
     "metadata": {},
     "output_type": "display_data"
    }
   ],
   "source": [
    "#png(filename=\"./plots/EAA_SW_SW_coeff.png\", units=\"cm\", width=20, height=20, res = 300)\n",
    "ggplot(swCoef_E_SW, aes(x = reorder(AA, estimate), y = estimate, color = AA)) + \n",
    "    geom_hline(yintercept = 0, alpha = 0.4) + \n",
    "    geom_point() + geom_pointrange( aes(x = AA, ymin = estimate - 2*std.error, ymax = estimate + 2*std.error)) + \n",
    "    theme(legend.position = \"none\") + \n",
    "    coord_flip() + \n",
    "    ggtitle('Essential AA \\n Estimate and 95% CI') + ylab('sex:week') + xlab('estimate')\n",
    "#dev.off()"
   ]
  },
  {
   "cell_type": "code",
   "execution_count": 74,
   "metadata": {
    "collapsed": true
   },
   "outputs": [],
   "source": [
    "AA_E_mean_plot_SEX <- \n",
    " AA_E_Long %>% filter(!is.na(sex)) %>% group_by(week, sex, AA) %>% \n",
    "    summarise(mean = mean(level, na.rm = T), sd = sd(level, na.rm = T)) %>% \n",
    "    mutate(mean = round(mean, 2), sd = round(sd, 2)) "
   ]
  },
  {
   "cell_type": "code",
   "execution_count": 75,
   "metadata": {},
   "outputs": [
    {
     "data": {},
     "metadata": {},
     "output_type": "display_data"
    },
    {
     "data": {
      "image/png": "[encoded data removed]",
      "text/plain": [
       "plot without title"
      ]
     },
     "metadata": {},
     "output_type": "display_data"
    }
   ],
   "source": [
    "E_GIRLS <- AA_E_mean_plot_SEX %>% \n",
    "                filter(AA == 'THR' | AA == 'VAL' | AA == 'LEU' | AA == 'PHE' | \n",
    "                       AA == 'LYS' | AA == 'ILE' | AA == 'MET') %>%\n",
    "                mutate(AA = factor(AA, levels = c('LYS', 'THR', 'ILE', 'VAL', 'PHE', 'LEU', 'MET')))\n",
    "\n",
    "#png(filename=\"./plots/EAA_girls.png\", units=\"cm\", width=20, height=20, res = 300)\n",
    "ggplot(E_GIRLS, aes(x = week, y = mean, color = sex)) + \n",
    "    geom_point() + geom_line() +\n",
    "    facet_wrap(~AA,  scales = \"free_y\") + geom_smooth(method = lm, se = FALSE) +\n",
    "    theme(aspect.ratio = 1) + \n",
    "    ggtitle('Essential AA \\n Average concentration over time with a linear model. \\n (Bigger effect for girls)')\n",
    "#dev.off()"
   ]
  },
  {
   "cell_type": "code",
   "execution_count": 76,
   "metadata": {},
   "outputs": [
    {
     "data": {},
     "metadata": {},
     "output_type": "display_data"
    },
    {
     "data": {
      "image/png": "[encoded data removed]",
      "text/plain": [
       "plot without title"
      ]
     },
     "metadata": {},
     "output_type": "display_data"
    }
   ],
   "source": [
    "E_BOYS <- AA_E_mean_plot_SEX %>% filter(AA == 'HIS') \n",
    "\n",
    "#png(filename=\"./plots/EAA_boys.png\", units=\"cm\", width=20, height=20, res = 300)\n",
    "ggplot(E_BOYS, aes(x = week, y = mean, color = sex)) + \n",
    "    geom_point() + geom_line() +\n",
    "    facet_wrap(~AA,  scales = \"free_y\") + geom_smooth(method = lm, se = FALSE) +\n",
    "    theme(aspect.ratio = 1) + \n",
    "    ggtitle('Essential AA: \\n Average concentration over time with a linear model. \\n (Bigger effect for boys)')\n",
    "#dev.off()"
   ]
  },
  {
   "cell_type": "code",
   "execution_count": 77,
   "metadata": {},
   "outputs": [
    {
     "data": {},
     "metadata": {},
     "output_type": "display_data"
    },
    {
     "data": {
      "image/png": "[encoded data removed]",
      "text/plain": [
       "plot without title"
      ]
     },
     "metadata": {},
     "output_type": "display_data"
    }
   ],
   "source": [
    "E_TRP <- AA_E_mean_plot_SEX %>% filter(AA == 'TRP') \n",
    "\n",
    "#png(filename=\"./plots/EAA_TRP.png\", units=\"cm\", width=20, height=20, res = 300)\n",
    "ggplot(E_TRP, aes(x = week, y = mean, color = sex)) + \n",
    "    geom_point() + geom_line() +\n",
    "    facet_wrap(~AA,  scales = \"free_y\") + geom_smooth(method = lm, se = FALSE) +\n",
    "    theme(aspect.ratio = 1) + \n",
    "    ggtitle('Essential AA: \\n Average concentration over time with a linear model.')\n",
    "#dev.off()"
   ]
  },
  {
   "cell_type": "code",
   "execution_count": 78,
   "metadata": {},
   "outputs": [
    {
     "data": {},
     "metadata": {},
     "output_type": "display_data"
    },
    {
     "data": {
      "image/png": "[encoded data removed]",
      "text/plain": [
       "plot without title"
      ]
     },
     "metadata": {},
     "output_type": "display_data"
    }
   ],
   "source": [
    "#png(filename=\"./plots/NEAA_SW_SW_coeff.png\", units=\"cm\", width=20, height=20, res = 300)\n",
    "ggplot(swCoef_NE_SW, aes(x = reorder(AA, estimate), y = estimate, color = AA)) + \n",
    "    geom_hline(yintercept = 0, alpha = 0.4) + \n",
    "    geom_point() + geom_pointrange( aes(x = AA, ymin = estimate - 2*std.error, ymax = estimate + 2*std.error)) + \n",
    "    theme(legend.position = \"none\") + \n",
    "    coord_flip() + \n",
    "    ggtitle('Non Essential AA: \\n Estimate and 95% CI') + ylab('sex:week') + xlab('estimate') \n",
    "#dev.off()"
   ]
  },
  {
   "cell_type": "code",
   "execution_count": 79,
   "metadata": {
    "collapsed": true
   },
   "outputs": [],
   "source": [
    "AA_NE_mean_plot_SEX <- \n",
    " AA_NE_Long %>% filter(!is.na(sex)) %>% group_by(week, sex, AA) %>% \n",
    "    summarise(mean = mean(level, na.rm = T), sd = sd(level, na.rm = T)) %>% \n",
    "    mutate(mean = round(mean, 2), sd = round(sd, 2)) "
   ]
  },
  {
   "cell_type": "code",
   "execution_count": 85,
   "metadata": {},
   "outputs": [
    {
     "data": {},
     "metadata": {},
     "output_type": "display_data"
    },
    {
     "data": {
      "image/png": "[encoded data removed]",
      "text/plain": [
       "plot without title"
      ]
     },
     "metadata": {},
     "output_type": "display_data"
    }
   ],
   "source": [
    "E_BOYS <- AA_NE_mean_plot_SEX %>% \n",
    "                filter(AA == 'GLU' | AA == 'ALA' | AA == 'GLN' | AA == 'ASP' | \n",
    "                       AA == 'SER' | AA == 'GLY' | AA == 'CYS' | AA == 'ASN' | AA == 'TYR') %>%\n",
    "                mutate(AA = factor(AA, levels = c('GLU', 'ALA', 'GLN', 'ASP', 'SER', 'GLY', 'CYS', 'ASN', 'TYR')))\n",
    "\n",
    "#png(filename=\"./plots/NEAA_boys.png\", units=\"cm\", width=20, height=20, res = 300)\n",
    "ggplot(E_BOYS, aes(x = week, y = mean, color = sex)) + \n",
    "    geom_point() + geom_line() +\n",
    "    facet_wrap(~AA,  scales = \"free_y\") + geom_smooth(method = lm, se = FALSE) +\n",
    "    theme(aspect.ratio = 1) + \n",
    "    ggtitle('Non Essential AA: \\n Average concentration over time with a linear model. \\n (Bigger effect for boys)')\n",
    "#dev.off()"
   ]
  },
  {
   "cell_type": "code",
   "execution_count": 87,
   "metadata": {},
   "outputs": [
    {
     "data": {},
     "metadata": {},
     "output_type": "display_data"
    },
    {
     "data": {
      "image/png": "[encoded data removed]",
      "text/plain": [
       "plot without title"
      ]
     },
     "metadata": {},
     "output_type": "display_data"
    }
   ],
   "source": [
    "E_GIRLS <- AA_NE_mean_plot_SEX %>% \n",
    "                filter(AA == 'ARG' | AA == 'PRO') %>%\n",
    "                mutate(AA = factor(AA, levels = c('ARG', 'PRO')))\n",
    "\n",
    "#png(filename=\"./plots/NEAA_girls.png\", units=\"cm\", width=20, height=20, res = 300)\n",
    "ggplot(E_GIRLS, aes(x = week, y = mean, color = sex)) + \n",
    "    geom_point() + geom_line() +\n",
    "    facet_wrap(~AA,  scales = \"free_y\") + geom_smooth(method = lm, se = FALSE) +\n",
    "    theme(aspect.ratio = 1) + \n",
    "    ggtitle('Non Essential AA: \\n Average concentration over time with a linear model. \\n (Bigger effect for girls)')\n",
    "#dev.off()"
   ]
  },
  {
   "cell_type": "markdown",
   "metadata": {
    "collapsed": true
   },
   "source": [
    "## Week and Free AA\n",
    "\n"
   ]
  },
  {
   "cell_type": "code",
   "execution_count": 152,
   "metadata": {
    "collapsed": true
   },
   "outputs": [],
   "source": [
    "meWeek <- function(df){\n",
    "    \n",
    "    me <- lmer(level ~ week + (1 | id), data = df)\n",
    "    \n",
    "    return(me)\n",
    "}"
   ]
  },
  {
   "cell_type": "code",
   "execution_count": 153,
   "metadata": {
    "collapsed": true
   },
   "outputs": [],
   "source": [
    "me_E_W <- list()\n",
    "tidy_E_W <- list()\n",
    "\n",
    "for(i in 1:nAA_E){\n",
    "    \n",
    "    me_E_W[[i]] <- meWeek(AA_E_Nested$data[[i]])\n",
    "    tidy_E_W[[i]] <- tidy(me_E_W[[i]], effects = 'fixed') %>% mutate(AA = AA_E_Nested$AA[i])\n",
    "   \n",
    "}"
   ]
  },
  {
   "cell_type": "code",
   "execution_count": 154,
   "metadata": {
    "collapsed": true
   },
   "outputs": [],
   "source": [
    "me_NE_W <- list()\n",
    "tidy_NE_W <- list()\n",
    "\n",
    "for(i in 1:nAA_NE){\n",
    "    \n",
    "    me_NE_W[[i]] <- meWeek(AA_NE_Nested$data[[i]])\n",
    "    tidy_NE_W[[i]] <- tidy(me_NE_W[[i]], effects = 'fixed') %>% mutate(AA = AA_NE_Nested$AA[i])\n",
    "\n",
    "}"
   ]
  },
  {
   "cell_type": "code",
   "execution_count": 155,
   "metadata": {
    "collapsed": true
   },
   "outputs": [],
   "source": [
    "AA_E_Nested <- AA_E_Nested %>% mutate(model_W = me_E_W, tidy_W = tidy_E_W)\n",
    "AA_NE_Nested <- AA_NE_Nested %>% mutate(model_W = me_NE_W, tidy_W = tidy_NE_W)"
   ]
  },
  {
   "cell_type": "code",
   "execution_count": 156,
   "metadata": {},
   "outputs": [
    {
     "data": {
      "text/html": [
       "<table>\n",
       "<thead><tr><th scope=col>effect</th><th scope=col>term</th><th scope=col>estimate</th><th scope=col>std.error</th><th scope=col>statistic</th><th scope=col>AA</th></tr></thead>\n",
       "<tbody>\n",
       "\t<tr><td>fixed       </td><td>week        </td><td> 0.018738164</td><td>0.010967849 </td><td> 1.708463   </td><td>HIS         </td></tr>\n",
       "\t<tr><td>fixed       </td><td>week        </td><td> 0.012731132</td><td>0.006733172 </td><td> 1.890807   </td><td>ILE         </td></tr>\n",
       "\t<tr><td>fixed       </td><td>week        </td><td> 0.049856423</td><td>0.015917927 </td><td> 3.132093   </td><td>LEU         </td></tr>\n",
       "\t<tr><td>fixed       </td><td>week        </td><td>-0.059342986</td><td>0.018348179 </td><td>-3.234271   </td><td>LYS         </td></tr>\n",
       "\t<tr><td>fixed       </td><td>week        </td><td> 0.006077201</td><td>0.004517861 </td><td> 1.345150   </td><td>MET         </td></tr>\n",
       "\t<tr><td>fixed       </td><td>week        </td><td> 0.028363731</td><td>0.006709344 </td><td> 4.227497   </td><td>PHE         </td></tr>\n",
       "\t<tr><td>fixed       </td><td>week        </td><td> 0.133049683</td><td>0.031251708 </td><td> 4.257357   </td><td>THR         </td></tr>\n",
       "\t<tr><td>fixed       </td><td>week        </td><td>-0.001109411</td><td>0.001590644 </td><td>-0.697460   </td><td>TRP         </td></tr>\n",
       "\t<tr><td>fixed       </td><td>week        </td><td> 0.096704532</td><td>0.018141917 </td><td> 5.330447   </td><td>VAL         </td></tr>\n",
       "</tbody>\n",
       "</table>\n"
      ],
      "text/latex": [
       "\\begin{tabular}{r|llllll}\n",
       " effect & term & estimate & std.error & statistic & AA\\\\\n",
       "\\hline\n",
       "\t fixed        & week         &  0.018738164 & 0.010967849  &  1.708463    & HIS         \\\\\n",
       "\t fixed        & week         &  0.012731132 & 0.006733172  &  1.890807    & ILE         \\\\\n",
       "\t fixed        & week         &  0.049856423 & 0.015917927  &  3.132093    & LEU         \\\\\n",
       "\t fixed        & week         & -0.059342986 & 0.018348179  & -3.234271    & LYS         \\\\\n",
       "\t fixed        & week         &  0.006077201 & 0.004517861  &  1.345150    & MET         \\\\\n",
       "\t fixed        & week         &  0.028363731 & 0.006709344  &  4.227497    & PHE         \\\\\n",
       "\t fixed        & week         &  0.133049683 & 0.031251708  &  4.257357    & THR         \\\\\n",
       "\t fixed        & week         & -0.001109411 & 0.001590644  & -0.697460    & TRP         \\\\\n",
       "\t fixed        & week         &  0.096704532 & 0.018141917  &  5.330447    & VAL         \\\\\n",
       "\\end{tabular}\n"
      ],
      "text/markdown": [
       "\n",
       "effect | term | estimate | std.error | statistic | AA | \n",
       "|---|---|---|---|---|---|---|---|---|\n",
       "| fixed        | week         |  0.018738164 | 0.010967849  |  1.708463    | HIS          | \n",
       "| fixed        | week         |  0.012731132 | 0.006733172  |  1.890807    | ILE          | \n",
       "| fixed        | week         |  0.049856423 | 0.015917927  |  3.132093    | LEU          | \n",
       "| fixed        | week         | -0.059342986 | 0.018348179  | -3.234271    | LYS          | \n",
       "| fixed        | week         |  0.006077201 | 0.004517861  |  1.345150    | MET          | \n",
       "| fixed        | week         |  0.028363731 | 0.006709344  |  4.227497    | PHE          | \n",
       "| fixed        | week         |  0.133049683 | 0.031251708  |  4.257357    | THR          | \n",
       "| fixed        | week         | -0.001109411 | 0.001590644  | -0.697460    | TRP          | \n",
       "| fixed        | week         |  0.096704532 | 0.018141917  |  5.330447    | VAL          | \n",
       "\n",
       "\n"
      ],
      "text/plain": [
       "  effect term estimate     std.error   statistic AA \n",
       "1 fixed  week  0.018738164 0.010967849  1.708463 HIS\n",
       "2 fixed  week  0.012731132 0.006733172  1.890807 ILE\n",
       "3 fixed  week  0.049856423 0.015917927  3.132093 LEU\n",
       "4 fixed  week -0.059342986 0.018348179 -3.234271 LYS\n",
       "5 fixed  week  0.006077201 0.004517861  1.345150 MET\n",
       "6 fixed  week  0.028363731 0.006709344  4.227497 PHE\n",
       "7 fixed  week  0.133049683 0.031251708  4.257357 THR\n",
       "8 fixed  week -0.001109411 0.001590644 -0.697460 TRP\n",
       "9 fixed  week  0.096704532 0.018141917  5.330447 VAL"
      ]
     },
     "metadata": {},
     "output_type": "display_data"
    },
    {
     "data": {
      "text/html": [
       "<table>\n",
       "<thead><tr><th scope=col>effect</th><th scope=col>term</th><th scope=col>estimate</th><th scope=col>std.error</th><th scope=col>statistic</th><th scope=col>AA</th></tr></thead>\n",
       "<tbody>\n",
       "\t<tr><td>fixed        </td><td>week         </td><td>-0.0284400853</td><td>0.010809657  </td><td>-2.630989    </td><td>ARG          </td></tr>\n",
       "\t<tr><td>fixed        </td><td>week         </td><td> 0.1510887926</td><td>0.032073629  </td><td> 4.710686    </td><td>ASP          </td></tr>\n",
       "\t<tr><td>fixed        </td><td>week         </td><td> 0.6653476156</td><td>0.109949524  </td><td> 6.051391    </td><td>ALA          </td></tr>\n",
       "\t<tr><td>fixed        </td><td>week         </td><td>-0.0004539237</td><td>0.009832637  </td><td>-0.046165    </td><td>ASN          </td></tr>\n",
       "\t<tr><td>fixed        </td><td>week         </td><td> 0.0958404519</td><td>0.010378179  </td><td> 9.234805    </td><td>CYS          </td></tr>\n",
       "\t<tr><td>fixed        </td><td>week         </td><td> 0.4175892468</td><td>0.052746777  </td><td> 7.916868    </td><td>GLY          </td></tr>\n",
       "\t<tr><td>fixed        </td><td>week         </td><td> 4.1506857471</td><td>0.461582247  </td><td> 8.992299    </td><td>GLU          </td></tr>\n",
       "\t<tr><td>fixed        </td><td>week         </td><td> 2.7038227854</td><td>0.222554713  </td><td>12.149025    </td><td>GLN          </td></tr>\n",
       "\t<tr><td>fixed        </td><td>week         </td><td>-0.0519788025</td><td>0.023221897  </td><td>-2.238353    </td><td>PRO          </td></tr>\n",
       "\t<tr><td>fixed        </td><td>week         </td><td> 0.4639072569</td><td>0.044848180  </td><td>10.343948    </td><td>SER          </td></tr>\n",
       "\t<tr><td>fixed        </td><td>week         </td><td> 0.0174107246</td><td>0.007276234  </td><td> 2.392821    </td><td>TYR          </td></tr>\n",
       "</tbody>\n",
       "</table>\n"
      ],
      "text/latex": [
       "\\begin{tabular}{r|llllll}\n",
       " effect & term & estimate & std.error & statistic & AA\\\\\n",
       "\\hline\n",
       "\t fixed         & week          & -0.0284400853 & 0.010809657   & -2.630989     & ARG          \\\\\n",
       "\t fixed         & week          &  0.1510887926 & 0.032073629   &  4.710686     & ASP          \\\\\n",
       "\t fixed         & week          &  0.6653476156 & 0.109949524   &  6.051391     & ALA          \\\\\n",
       "\t fixed         & week          & -0.0004539237 & 0.009832637   & -0.046165     & ASN          \\\\\n",
       "\t fixed         & week          &  0.0958404519 & 0.010378179   &  9.234805     & CYS          \\\\\n",
       "\t fixed         & week          &  0.4175892468 & 0.052746777   &  7.916868     & GLY          \\\\\n",
       "\t fixed         & week          &  4.1506857471 & 0.461582247   &  8.992299     & GLU          \\\\\n",
       "\t fixed         & week          &  2.7038227854 & 0.222554713   & 12.149025     & GLN          \\\\\n",
       "\t fixed         & week          & -0.0519788025 & 0.023221897   & -2.238353     & PRO          \\\\\n",
       "\t fixed         & week          &  0.4639072569 & 0.044848180   & 10.343948     & SER          \\\\\n",
       "\t fixed         & week          &  0.0174107246 & 0.007276234   &  2.392821     & TYR          \\\\\n",
       "\\end{tabular}\n"
      ],
      "text/markdown": [
       "\n",
       "effect | term | estimate | std.error | statistic | AA | \n",
       "|---|---|---|---|---|---|---|---|---|---|---|\n",
       "| fixed         | week          | -0.0284400853 | 0.010809657   | -2.630989     | ARG           | \n",
       "| fixed         | week          |  0.1510887926 | 0.032073629   |  4.710686     | ASP           | \n",
       "| fixed         | week          |  0.6653476156 | 0.109949524   |  6.051391     | ALA           | \n",
       "| fixed         | week          | -0.0004539237 | 0.009832637   | -0.046165     | ASN           | \n",
       "| fixed         | week          |  0.0958404519 | 0.010378179   |  9.234805     | CYS           | \n",
       "| fixed         | week          |  0.4175892468 | 0.052746777   |  7.916868     | GLY           | \n",
       "| fixed         | week          |  4.1506857471 | 0.461582247   |  8.992299     | GLU           | \n",
       "| fixed         | week          |  2.7038227854 | 0.222554713   | 12.149025     | GLN           | \n",
       "| fixed         | week          | -0.0519788025 | 0.023221897   | -2.238353     | PRO           | \n",
       "| fixed         | week          |  0.4639072569 | 0.044848180   | 10.343948     | SER           | \n",
       "| fixed         | week          |  0.0174107246 | 0.007276234   |  2.392821     | TYR           | \n",
       "\n",
       "\n"
      ],
      "text/plain": [
       "   effect term estimate      std.error   statistic AA \n",
       "1  fixed  week -0.0284400853 0.010809657 -2.630989 ARG\n",
       "2  fixed  week  0.1510887926 0.032073629  4.710686 ASP\n",
       "3  fixed  week  0.6653476156 0.109949524  6.051391 ALA\n",
       "4  fixed  week -0.0004539237 0.009832637 -0.046165 ASN\n",
       "5  fixed  week  0.0958404519 0.010378179  9.234805 CYS\n",
       "6  fixed  week  0.4175892468 0.052746777  7.916868 GLY\n",
       "7  fixed  week  4.1506857471 0.461582247  8.992299 GLU\n",
       "8  fixed  week  2.7038227854 0.222554713 12.149025 GLN\n",
       "9  fixed  week -0.0519788025 0.023221897 -2.238353 PRO\n",
       "10 fixed  week  0.4639072569 0.044848180 10.343948 SER\n",
       "11 fixed  week  0.0174107246 0.007276234  2.392821 TYR"
      ]
     },
     "metadata": {},
     "output_type": "display_data"
    }
   ],
   "source": [
    "weekCoef_E <- bind_rows(tidy_E_W) %>% filter(grepl(\"week\", term))\n",
    "weekCoef_NE <- bind_rows(tidy_NE_W) %>% filter(grepl(\"week\", term))\n",
    "\n",
    "weekCoef_E\n",
    "weekCoef_NE"
   ]
  },
  {
   "cell_type": "code",
   "execution_count": 167,
   "metadata": {},
   "outputs": [
    {
     "data": {},
     "metadata": {},
     "output_type": "display_data"
    },
    {
     "data": {
      "image/png": "[encoded data removed]",
      "text/plain": [
       "plot without title"
      ]
     },
     "metadata": {},
     "output_type": "display_data"
    }
   ],
   "source": [
    "#png(filename=\"./plots/EAA_W_coeff.png\", units=\"cm\", width=20, height=20, res = 300)\n",
    "ggplot(weekCoef_E, aes(x = reorder(AA, estimate), y = estimate, color = AA)) + \n",
    "    geom_hline(yintercept = 0, alpha = 0.4) + \n",
    "    geom_point() + geom_pointrange( aes(x = AA, ymin = estimate - 2*std.error, ymax = estimate + 2*std.error)) + \n",
    "    theme(legend.position = \"none\") + \n",
    "    coord_flip() + xlab('estimate') + ylab('week') + \n",
    "    ggtitle('Essential AA \\n Estimate and 95% CI') \n",
    "#dev.off()"
   ]
  },
  {
   "cell_type": "code",
   "execution_count": 163,
   "metadata": {},
   "outputs": [
    {
     "data": {},
     "metadata": {},
     "output_type": "display_data"
    },
    {
     "data": {
      "image/png": "[encoded data removed]",
      "text/plain": [
       "plot without title"
      ]
     },
     "metadata": {},
     "output_type": "display_data"
    }
   ],
   "source": [
    "#png(filename=\"./plots/NEAA_W_coeff.png\", units=\"cm\", width=20, height=20, res = 300)\n",
    "ggplot(weekCoef_NE, aes(x = reorder(AA, estimate), y = estimate, color = AA)) + \n",
    "    geom_hline(yintercept = 0, alpha = 0.4) + \n",
    "    geom_point() + geom_pointrange( aes(x = AA, ymin = estimate - 2*std.error, ymax = estimate + 2*std.error)) + \n",
    "    theme(legend.position = \"none\") + \n",
    "    coord_flip() +  \n",
    "    ggtitle('Non Essential AA \\n Estimate and 95% CI') + xlab('estimate') + ylab('week') \n",
    "#dev.off()"
   ]
  },
  {
   "cell_type": "code",
   "execution_count": 165,
   "metadata": {},
   "outputs": [
    {
     "data": {},
     "metadata": {},
     "output_type": "display_data"
    },
    {
     "data": {
      "image/png": "[encoded data removed]",
      "text/plain": [
       "plot without title"
      ]
     },
     "metadata": {},
     "output_type": "display_data"
    }
   ],
   "source": [
    "#png(filename=\"./plots/NEAA_W_coeff_detail.png\", units=\"cm\", width=20, height=20, res = 300)\n",
    "ggplot(weekCoef_NE, aes(x = reorder(AA, estimate), y = estimate, color = AA)) + \n",
    "    geom_hline(yintercept = 0, alpha = 0.4) + \n",
    "    geom_point() + geom_pointrange( aes(x = AA, ymin = estimate - 2*std.error, ymax = estimate + 2*std.error)) + \n",
    "    theme(legend.position = \"none\") + \n",
    "    coord_flip(ylim = c(-0.1, 0.12), xlim = c(1, 4.8)) +  \n",
    "    ggtitle('Detail') + xlab('estimate') + ylab('week') \n",
    "#dev.off()"
   ]
  },
  {
   "cell_type": "code",
   "execution_count": 160,
   "metadata": {},
   "outputs": [
    {
     "data": {
      "text/html": [
       "<table>\n",
       "<thead><tr><th scope=col>sex</th><th scope=col>n()</th></tr></thead>\n",
       "<tbody>\n",
       "\t<tr><td>girl</td><td>12  </td></tr>\n",
       "\t<tr><td>boy </td><td>16  </td></tr>\n",
       "</tbody>\n",
       "</table>\n"
      ],
      "text/latex": [
       "\\begin{tabular}{r|ll}\n",
       " sex & n()\\\\\n",
       "\\hline\n",
       "\t girl & 12  \\\\\n",
       "\t boy  & 16  \\\\\n",
       "\\end{tabular}\n"
      ],
      "text/markdown": [
       "\n",
       "sex | n() | \n",
       "|---|---|\n",
       "| girl | 12   | \n",
       "| boy  | 16   | \n",
       "\n",
       "\n"
      ],
      "text/plain": [
       "  sex  n()\n",
       "1 girl 12 \n",
       "2 boy  16 "
      ]
     },
     "metadata": {},
     "output_type": "display_data"
    },
    {
     "data": {
      "text/html": [
       "<table>\n",
       "<thead><tr><th scope=col>sex</th><th scope=col>n()</th></tr></thead>\n",
       "<tbody>\n",
       "\t<tr><td>girl</td><td>26  </td></tr>\n",
       "\t<tr><td>boy </td><td>35  </td></tr>\n",
       "\t<tr><td>NA  </td><td> 4  </td></tr>\n",
       "</tbody>\n",
       "</table>\n"
      ],
      "text/latex": [
       "\\begin{tabular}{r|ll}\n",
       " sex & n()\\\\\n",
       "\\hline\n",
       "\t girl & 26  \\\\\n",
       "\t boy  & 35  \\\\\n",
       "\t NA   &  4  \\\\\n",
       "\\end{tabular}\n"
      ],
      "text/markdown": [
       "\n",
       "sex | n() | \n",
       "|---|---|---|\n",
       "| girl | 26   | \n",
       "| boy  | 35   | \n",
       "| NA   |  4   | \n",
       "\n",
       "\n"
      ],
      "text/plain": [
       "  sex  n()\n",
       "1 girl 26 \n",
       "2 boy  35 \n",
       "3 NA    4 "
      ]
     },
     "metadata": {},
     "output_type": "display_data"
    },
    {
     "data": {
      "text/html": [
       "19"
      ],
      "text/latex": [
       "19"
      ],
      "text/markdown": [
       "19"
      ],
      "text/plain": [
       "[1] 19"
      ]
     },
     "metadata": {},
     "output_type": "display_data"
    },
    {
     "data": {
      "text/html": [
       "14"
      ],
      "text/latex": [
       "14"
      ],
      "text/markdown": [
       "14"
      ],
      "text/plain": [
       "[1] 14"
      ]
     },
     "metadata": {},
     "output_type": "display_data"
    }
   ],
   "source": [
    "AA_E %>% na.omit() %>% group_by(sex) %>% summarise(n())\n",
    "\n",
    "AA_E %>% group_by(sex) %>% summarise(n())\n",
    "\n",
    "35 - 16\n",
    "26 - 12"
   ]
  },
  {
   "cell_type": "code",
   "execution_count": 161,
   "metadata": {},
   "outputs": [
    {
     "data": {
      "text/html": [
       "<table>\n",
       "<thead><tr><th scope=col>sex</th><th scope=col>id</th><th scope=col>group</th><th scope=col>age</th><th scope=col>HISCalostrum</th><th scope=col>HISTransition</th><th scope=col>HISMature2m</th><th scope=col>HISMature4m</th><th scope=col>ILECalostrum</th><th scope=col>ILETransition</th><th scope=col>...</th><th scope=col>THRMature2m</th><th scope=col>THRMature4m</th><th scope=col>TRPCalostrum</th><th scope=col>TRPTransition</th><th scope=col>TRPMature2m</th><th scope=col>TRPMature4m</th><th scope=col>VALCalostrum</th><th scope=col>VALTransition</th><th scope=col>VALMature2m</th><th scope=col>VALMature4m</th></tr></thead>\n",
       "<tbody>\n",
       "\t<tr><td>girl</td><td>0   </td><td>0   </td><td>0   </td><td>0   </td><td>6   </td><td>11  </td><td> 9  </td><td>0   </td><td>6   </td><td>... </td><td>11  </td><td> 9  </td><td>0   </td><td>6   </td><td>11  </td><td> 9  </td><td>0   </td><td>6   </td><td>11  </td><td> 9  </td></tr>\n",
       "\t<tr><td>boy </td><td>0   </td><td>0   </td><td>0   </td><td>0   </td><td>8   </td><td>12  </td><td>15  </td><td>0   </td><td>8   </td><td>... </td><td>12  </td><td>15  </td><td>0   </td><td>8   </td><td>12  </td><td>15  </td><td>0   </td><td>8   </td><td>12  </td><td>15  </td></tr>\n",
       "\t<tr><td>NA  </td><td>0   </td><td>0   </td><td>0   </td><td>0   </td><td>3   </td><td> 3  </td><td> 4  </td><td>0   </td><td>3   </td><td>... </td><td> 3  </td><td> 4  </td><td>0   </td><td>3   </td><td> 3  </td><td> 4  </td><td>0   </td><td>3   </td><td> 3  </td><td> 4  </td></tr>\n",
       "</tbody>\n",
       "</table>\n"
      ],
      "text/latex": [
       "\\begin{tabular}{r|llllllllllllllllllllllllllllllllllllllll}\n",
       " sex & id & group & age & HISCalostrum & HISTransition & HISMature2m & HISMature4m & ILECalostrum & ILETransition & ... & THRMature2m & THRMature4m & TRPCalostrum & TRPTransition & TRPMature2m & TRPMature4m & VALCalostrum & VALTransition & VALMature2m & VALMature4m\\\\\n",
       "\\hline\n",
       "\t girl & 0    & 0    & 0    & 0    & 6    & 11   &  9   & 0    & 6    & ...  & 11   &  9   & 0    & 6    & 11   &  9   & 0    & 6    & 11   &  9  \\\\\n",
       "\t boy  & 0    & 0    & 0    & 0    & 8    & 12   & 15   & 0    & 8    & ...  & 12   & 15   & 0    & 8    & 12   & 15   & 0    & 8    & 12   & 15  \\\\\n",
       "\t NA   & 0    & 0    & 0    & 0    & 3    &  3   &  4   & 0    & 3    & ...  &  3   &  4   & 0    & 3    &  3   &  4   & 0    & 3    &  3   &  4  \\\\\n",
       "\\end{tabular}\n"
      ],
      "text/markdown": [
       "\n",
       "sex | id | group | age | HISCalostrum | HISTransition | HISMature2m | HISMature4m | ILECalostrum | ILETransition | ... | THRMature2m | THRMature4m | TRPCalostrum | TRPTransition | TRPMature2m | TRPMature4m | VALCalostrum | VALTransition | VALMature2m | VALMature4m | \n",
       "|---|---|---|\n",
       "| girl | 0    | 0    | 0    | 0    | 6    | 11   |  9   | 0    | 6    | ...  | 11   |  9   | 0    | 6    | 11   |  9   | 0    | 6    | 11   |  9   | \n",
       "| boy  | 0    | 0    | 0    | 0    | 8    | 12   | 15   | 0    | 8    | ...  | 12   | 15   | 0    | 8    | 12   | 15   | 0    | 8    | 12   | 15   | \n",
       "| NA   | 0    | 0    | 0    | 0    | 3    |  3   |  4   | 0    | 3    | ...  |  3   |  4   | 0    | 3    |  3   |  4   | 0    | 3    |  3   |  4   | \n",
       "\n",
       "\n"
      ],
      "text/plain": [
       "  sex  id group age HISCalostrum HISTransition HISMature2m HISMature4m\n",
       "1 girl 0  0     0   0            6             11           9         \n",
       "2 boy  0  0     0   0            8             12          15         \n",
       "3 NA   0  0     0   0            3              3           4         \n",
       "  ILECalostrum ILETransition ... THRMature2m THRMature4m TRPCalostrum\n",
       "1 0            6             ... 11           9          0           \n",
       "2 0            8             ... 12          15          0           \n",
       "3 0            3             ...  3           4          0           \n",
       "  TRPTransition TRPMature2m TRPMature4m VALCalostrum VALTransition VALMature2m\n",
       "1 6             11           9          0            6             11         \n",
       "2 8             12          15          0            8             12         \n",
       "3 3              3           4          0            3              3         \n",
       "  VALMature4m\n",
       "1  9         \n",
       "2 15         \n",
       "3  4         "
      ]
     },
     "metadata": {},
     "output_type": "display_data"
    }
   ],
   "source": [
    "AA_E %>% group_by(sex) %>% summarise_all(funs(sum(is.na(.))))"
   ]
  }
 ],
 "metadata": {
  "kernelspec": {
   "display_name": "R 3.3",
   "language": "R",
   "name": "ir33"
  },
  "language_info": {
   "codemirror_mode": "r",
   "file_extension": ".r",
   "mimetype": "text/x-r-source",
   "name": "R",
   "pygments_lexer": "r",
   "version": "3.3.3"
  }
 },
 "nbformat": 4,
 "nbformat_minor": 2
}
