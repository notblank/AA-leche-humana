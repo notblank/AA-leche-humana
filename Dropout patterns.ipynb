{
 "cells": [
  {
   "cell_type": "code",
   "execution_count": 1,
   "metadata": {},
   "outputs": [
    {
     "name": "stderr",
     "output_type": "stream",
     "text": [
      "Loading tidyverse: ggplot2\n",
      "Loading tidyverse: tibble\n",
      "Loading tidyverse: tidyr\n",
      "Loading tidyverse: readr\n",
      "Loading tidyverse: purrr\n",
      "Loading tidyverse: dplyr\n",
      "Conflicts with tidy packages ---------------------------------------------------\n",
      "filter(): dplyr, stats\n",
      "lag():    dplyr, stats\n",
      "Loading required package: Matrix\n",
      "\n",
      "Attaching package: 'Matrix'\n",
      "\n",
      "The following object is masked from 'package:tidyr':\n",
      "\n",
      "    expand\n",
      "\n"
     ]
    }
   ],
   "source": [
    "library(haven)\n",
    "library(tidyverse)\n",
    "library(broom)\n",
    "library(lme4) "
   ]
  },
  {
   "cell_type": "code",
   "execution_count": 2,
   "metadata": {
    "collapsed": true
   },
   "outputs": [],
   "source": [
    "aaSelect <- function(df, AA){\n",
    "    aaDf <- df %>% select(id = ID, group = GROUP, age = MATERNALAGE, sex = SEXO, starts_with(AA)) %>%\n",
    "                         mutate(id = factor(id), \n",
    "                                sex =  factor(sex, labels = c('girl', 'boy')),\n",
    "                                group = factor(group, labels = c('teen', 'adult'))) \n",
    "    \n",
    "    return(aaDf)\n",
    "}\n",
    "\n",
    "aaLong <-  function(df, AA){\n",
    "    aaL <- df %>% gather(week, level, starts_with(AA))\n",
    "    \n",
    "    aaL[aaL == paste(AA, 'Calostrum', sep = '')] = 1\n",
    "    aaL[aaL == paste(AA, 'Transition', sep = '')] = 2\n",
    "    aaL[aaL == paste(AA, 'Mature2m', sep = '')] = 8\n",
    "    aaL[aaL == paste(AA, 'Mature4m', sep = '')] = 16\n",
    "\n",
    "    aaL <- aaL %>% mutate(week = as.numeric(week))\n",
    "    \n",
    "    return(aaL)\n",
    "}"
   ]
  },
  {
   "cell_type": "code",
   "execution_count": 3,
   "metadata": {},
   "outputs": [
    {
     "data": {
      "text/html": [
       "<table>\n",
       "<thead><tr><th scope=col>ID</th><th scope=col>GROUP</th><th scope=col>MATERNALAGE</th><th scope=col>SEXO</th><th scope=col>INFANTDOB</th><th scope=col>MATBMI1COLL</th><th scope=col>MATBMI215d</th><th scope=col>MATBMI32mos</th><th scope=col>MATBMI44mos</th><th scope=col>BABYWeigth1g</th><th scope=col>...</th><th scope=col>ALAGLOB</th><th scope=col>ASNGLOB</th><th scope=col>SYSGLOB</th><th scope=col>GLYGLOB</th><th scope=col>GLUGLOB</th><th scope=col>GLNGLOB</th><th scope=col>PROLINEGLOB</th><th scope=col>SERINEGLOB</th><th scope=col>TYRAMINEGLOB</th><th scope=col>new</th></tr></thead>\n",
       "<tbody>\n",
       "\t<tr><td>1         </td><td>0         </td><td>17        </td><td> 1        </td><td>2009-08-20</td><td>25        </td><td>24        </td><td>24        </td><td>22        </td><td>3492.7    </td><td>...       </td><td>21.25     </td><td>0.5       </td><td>1.00      </td><td>10.00     </td><td> 87.25    </td><td>23.25     </td><td>2.75      </td><td>8.0       </td><td>1.00      </td><td>0         </td></tr>\n",
       "\t<tr><td>2         </td><td>0         </td><td>16        </td><td> 2        </td><td>2009-08-24</td><td>32        </td><td>31        </td><td>30        </td><td>29        </td><td>3392.9    </td><td>...       </td><td>18.25     </td><td>0.0       </td><td>0.75      </td><td>13.75     </td><td>100.50    </td><td>40.50     </td><td>2.50      </td><td>9.5       </td><td>0.75      </td><td>0         </td></tr>\n",
       "\t<tr><td>3         </td><td>0         </td><td>17        </td><td> 2        </td><td>2009-08-21</td><td>23        </td><td>23        </td><td>NA        </td><td>NA        </td><td>2993.8    </td><td>...       </td><td>   NA     </td><td> NA       </td><td>  NA      </td><td>   NA     </td><td>    NA    </td><td>   NA     </td><td>  NA      </td><td> NA       </td><td>  NA      </td><td>0         </td></tr>\n",
       "\t<tr><td>4         </td><td>0         </td><td>16        </td><td> 2        </td><td>2009-08-21</td><td>26        </td><td>NA        </td><td>NA        </td><td>NA        </td><td>3692.3    </td><td>...       </td><td>   NA     </td><td> NA       </td><td>  NA      </td><td>   NA     </td><td>    NA    </td><td>   NA     </td><td>  NA      </td><td> NA       </td><td>  NA      </td><td>0         </td></tr>\n",
       "\t<tr><td>5         </td><td>0         </td><td>16        </td><td>NA        </td><td>2009-08-29</td><td>25        </td><td>NA        </td><td>NA        </td><td>NA        </td><td>3592.5    </td><td>...       </td><td>   NA     </td><td> NA       </td><td>  NA      </td><td>   NA     </td><td>    NA    </td><td>   NA     </td><td>  NA      </td><td> NA       </td><td>  NA      </td><td>0         </td></tr>\n",
       "\t<tr><td>6         </td><td>0         </td><td>16        </td><td> 2        </td><td>2009-08-27</td><td>29        </td><td>28        </td><td>30        </td><td>31        </td><td>3093.5    </td><td>...       </td><td>15.50     </td><td>0.5       </td><td>1.50      </td><td>10.25     </td><td> 74.75    </td><td>30.00     </td><td>5.25      </td><td>8.0       </td><td>2.00      </td><td>0         </td></tr>\n",
       "</tbody>\n",
       "</table>\n"
      ],
      "text/latex": [
       "\\begin{tabular}{r|lllllllllllllllllllllllllllllllllllllllllllllllllllllllllllllllllllllllllllllllllllllllllllllllllllllllllllllllllllllllllllllllllllllllllllllllllllllllllllllllllllllllllll}\n",
       " ID & GROUP & MATERNALAGE & SEXO & INFANTDOB & MATBMI1COLL & MATBMI215d & MATBMI32mos & MATBMI44mos & BABYWeigth1g & ... & ALAGLOB & ASNGLOB & SYSGLOB & GLYGLOB & GLUGLOB & GLNGLOB & PROLINEGLOB & SERINEGLOB & TYRAMINEGLOB & new\\\\\n",
       "\\hline\n",
       "\t 1          & 0          & 17         &  1         & 2009-08-20 & 25         & 24         & 24         & 22         & 3492.7     & ...        & 21.25      & 0.5        & 1.00       & 10.00      &  87.25     & 23.25      & 2.75       & 8.0        & 1.00       & 0         \\\\\n",
       "\t 2          & 0          & 16         &  2         & 2009-08-24 & 32         & 31         & 30         & 29         & 3392.9     & ...        & 18.25      & 0.0        & 0.75       & 13.75      & 100.50     & 40.50      & 2.50       & 9.5        & 0.75       & 0         \\\\\n",
       "\t 3          & 0          & 17         &  2         & 2009-08-21 & 23         & 23         & NA         & NA         & 2993.8     & ...        &    NA      &  NA        &   NA       &    NA      &     NA     &    NA      &   NA       &  NA        &   NA       & 0         \\\\\n",
       "\t 4          & 0          & 16         &  2         & 2009-08-21 & 26         & NA         & NA         & NA         & 3692.3     & ...        &    NA      &  NA        &   NA       &    NA      &     NA     &    NA      &   NA       &  NA        &   NA       & 0         \\\\\n",
       "\t 5          & 0          & 16         & NA         & 2009-08-29 & 25         & NA         & NA         & NA         & 3592.5     & ...        &    NA      &  NA        &   NA       &    NA      &     NA     &    NA      &   NA       &  NA        &   NA       & 0         \\\\\n",
       "\t 6          & 0          & 16         &  2         & 2009-08-27 & 29         & 28         & 30         & 31         & 3093.5     & ...        & 15.50      & 0.5        & 1.50       & 10.25      &  74.75     & 30.00      & 5.25       & 8.0        & 2.00       & 0         \\\\\n",
       "\\end{tabular}\n"
      ],
      "text/markdown": [
       "\n",
       "ID | GROUP | MATERNALAGE | SEXO | INFANTDOB | MATBMI1COLL | MATBMI215d | MATBMI32mos | MATBMI44mos | BABYWeigth1g | ... | ALAGLOB | ASNGLOB | SYSGLOB | GLYGLOB | GLUGLOB | GLNGLOB | PROLINEGLOB | SERINEGLOB | TYRAMINEGLOB | new | \n",
       "|---|---|---|---|---|---|\n",
       "| 1          | 0          | 17         |  1         | 2009-08-20 | 25         | 24         | 24         | 22         | 3492.7     | ...        | 21.25      | 0.5        | 1.00       | 10.00      |  87.25     | 23.25      | 2.75       | 8.0        | 1.00       | 0          | \n",
       "| 2          | 0          | 16         |  2         | 2009-08-24 | 32         | 31         | 30         | 29         | 3392.9     | ...        | 18.25      | 0.0        | 0.75       | 13.75      | 100.50     | 40.50      | 2.50       | 9.5        | 0.75       | 0          | \n",
       "| 3          | 0          | 17         |  2         | 2009-08-21 | 23         | 23         | NA         | NA         | 2993.8     | ...        |    NA      |  NA        |   NA       |    NA      |     NA     |    NA      |   NA       |  NA        |   NA       | 0          | \n",
       "| 4          | 0          | 16         |  2         | 2009-08-21 | 26         | NA         | NA         | NA         | 3692.3     | ...        |    NA      |  NA        |   NA       |    NA      |     NA     |    NA      |   NA       |  NA        |   NA       | 0          | \n",
       "| 5          | 0          | 16         | NA         | 2009-08-29 | 25         | NA         | NA         | NA         | 3592.5     | ...        |    NA      |  NA        |   NA       |    NA      |     NA     |    NA      |   NA       |  NA        |   NA       | 0          | \n",
       "| 6          | 0          | 16         |  2         | 2009-08-27 | 29         | 28         | 30         | 31         | 3093.5     | ...        | 15.50      | 0.5        | 1.50       | 10.25      |  74.75     | 30.00      | 5.25       | 8.0        | 2.00       | 0          | \n",
       "\n",
       "\n"
      ],
      "text/plain": [
       "  ID GROUP MATERNALAGE SEXO INFANTDOB  MATBMI1COLL MATBMI215d MATBMI32mos\n",
       "1 1  0     17           1   2009-08-20 25          24         24         \n",
       "2 2  0     16           2   2009-08-24 32          31         30         \n",
       "3 3  0     17           2   2009-08-21 23          23         NA         \n",
       "4 4  0     16           2   2009-08-21 26          NA         NA         \n",
       "5 5  0     16          NA   2009-08-29 25          NA         NA         \n",
       "6 6  0     16           2   2009-08-27 29          28         30         \n",
       "  MATBMI44mos BABYWeigth1g ... ALAGLOB ASNGLOB SYSGLOB GLYGLOB GLUGLOB GLNGLOB\n",
       "1 22          3492.7       ... 21.25   0.5     1.00    10.00    87.25  23.25  \n",
       "2 29          3392.9       ... 18.25   0.0     0.75    13.75   100.50  40.50  \n",
       "3 NA          2993.8       ...    NA    NA       NA       NA       NA     NA  \n",
       "4 NA          3692.3       ...    NA    NA       NA       NA       NA     NA  \n",
       "5 NA          3592.5       ...    NA    NA       NA       NA       NA     NA  \n",
       "6 31          3093.5       ... 15.50   0.5     1.50    10.25    74.75  30.00  \n",
       "  PROLINEGLOB SERINEGLOB TYRAMINEGLOB new\n",
       "1 2.75        8.0        1.00         0  \n",
       "2 2.50        9.5        0.75         0  \n",
       "3   NA         NA          NA         0  \n",
       "4   NA         NA          NA         0  \n",
       "5   NA         NA          NA         0  \n",
       "6 5.25        8.0        2.00         0  "
      ]
     },
     "metadata": {},
     "output_type": "display_data"
    }
   ],
   "source": [
    "AA_Sex_1 <- read_sav(\"C:/Users/Personal/AA leche/datos/AMINOACIDOS POR SEXO_1.sav\")\n",
    "head(AA_Sex_1)"
   ]
  },
  {
   "cell_type": "code",
   "execution_count": 7,
   "metadata": {},
   "outputs": [
    {
     "name": "stderr",
     "output_type": "stream",
     "text": [
      "Warning message:\n",
      "\"attributes are not identical across measure variables; they will be dropped\""
     ]
    },
    {
     "data": {
      "text/html": [
       "<table>\n",
       "<thead><tr><th scope=col>id</th><th scope=col>group</th><th scope=col>age</th><th scope=col>sex</th><th scope=col>GLUCalostrum</th><th scope=col>GLUTransition</th><th scope=col>GLUMature2m</th><th scope=col>GLUMature4m</th></tr></thead>\n",
       "<tbody>\n",
       "\t<tr><td>1   </td><td>teen</td><td>17  </td><td>girl</td><td>89  </td><td> 89 </td><td> 99 </td><td> 72 </td></tr>\n",
       "\t<tr><td>2   </td><td>teen</td><td>16  </td><td>boy </td><td> 4  </td><td>103 </td><td>104 </td><td>191 </td></tr>\n",
       "\t<tr><td>3   </td><td>teen</td><td>17  </td><td>boy </td><td>54  </td><td>122 </td><td> NA </td><td> NA </td></tr>\n",
       "\t<tr><td>4   </td><td>teen</td><td>16  </td><td>boy </td><td>33  </td><td> NA </td><td> NA </td><td> NA </td></tr>\n",
       "\t<tr><td>6   </td><td>teen</td><td>16  </td><td>boy </td><td>30  </td><td> 67 </td><td> 92 </td><td>110 </td></tr>\n",
       "\t<tr><td>7   </td><td>teen</td><td>16  </td><td>boy </td><td>34  </td><td> 97 </td><td>115 </td><td>130 </td></tr>\n",
       "</tbody>\n",
       "</table>\n"
      ],
      "text/latex": [
       "\\begin{tabular}{r|llllllll}\n",
       " id & group & age & sex & GLUCalostrum & GLUTransition & GLUMature2m & GLUMature4m\\\\\n",
       "\\hline\n",
       "\t 1    & teen & 17   & girl & 89   &  89  &  99  &  72 \\\\\n",
       "\t 2    & teen & 16   & boy  &  4   & 103  & 104  & 191 \\\\\n",
       "\t 3    & teen & 17   & boy  & 54   & 122  &  NA  &  NA \\\\\n",
       "\t 4    & teen & 16   & boy  & 33   &  NA  &  NA  &  NA \\\\\n",
       "\t 6    & teen & 16   & boy  & 30   &  67  &  92  & 110 \\\\\n",
       "\t 7    & teen & 16   & boy  & 34   &  97  & 115  & 130 \\\\\n",
       "\\end{tabular}\n"
      ],
      "text/markdown": [
       "\n",
       "id | group | age | sex | GLUCalostrum | GLUTransition | GLUMature2m | GLUMature4m | \n",
       "|---|---|---|---|---|---|\n",
       "| 1    | teen | 17   | girl | 89   |  89  |  99  |  72  | \n",
       "| 2    | teen | 16   | boy  |  4   | 103  | 104  | 191  | \n",
       "| 3    | teen | 17   | boy  | 54   | 122  |  NA  |  NA  | \n",
       "| 4    | teen | 16   | boy  | 33   |  NA  |  NA  |  NA  | \n",
       "| 6    | teen | 16   | boy  | 30   |  67  |  92  | 110  | \n",
       "| 7    | teen | 16   | boy  | 34   |  97  | 115  | 130  | \n",
       "\n",
       "\n"
      ],
      "text/plain": [
       "  id group age sex  GLUCalostrum GLUTransition GLUMature2m GLUMature4m\n",
       "1 1  teen  17  girl 89            89            99          72        \n",
       "2 2  teen  16  boy   4           103           104         191        \n",
       "3 3  teen  17  boy  54           122            NA          NA        \n",
       "4 4  teen  16  boy  33            NA            NA          NA        \n",
       "5 6  teen  16  boy  30            67            92         110        \n",
       "6 7  teen  16  boy  34            97           115         130        "
      ]
     },
     "metadata": {},
     "output_type": "display_data"
    }
   ],
   "source": [
    "AA <- 'GLU'\n",
    "\n",
    "AAdf <- aaSelect(AA_Sex_1, AA) %>% select(-contains('GLOB')) \n",
    "AAdf <- AAdf %>% filter(!is.na(AAdf$sex))\n",
    "AAdfLong <- aaLong(AAdf, AA)\n",
    "\n",
    "head(AAdf)"
   ]
  },
  {
   "cell_type": "code",
   "execution_count": 116,
   "metadata": {},
   "outputs": [
    {
     "data": {
      "text/html": [
       "<table>\n",
       "<thead><tr><th scope=col>id</th><th scope=col>group</th><th scope=col>age</th><th scope=col>sex</th><th scope=col>GLUCalostrum</th><th scope=col>GLUTransition</th><th scope=col>GLUMature2m</th><th scope=col>GLUMature4m</th></tr></thead>\n",
       "<tbody>\n",
       "\t<tr><td>3    </td><td>teen </td><td>17   </td><td>boy  </td><td> 54  </td><td>122  </td><td> NA  </td><td> NA  </td></tr>\n",
       "\t<tr><td>4    </td><td>teen </td><td>16   </td><td>boy  </td><td> 33  </td><td> NA  </td><td> NA  </td><td> NA  </td></tr>\n",
       "\t<tr><td>9    </td><td>teen </td><td>17   </td><td>girl </td><td> 27  </td><td> 72  </td><td> NA  </td><td> NA  </td></tr>\n",
       "\t<tr><td>10   </td><td>teen </td><td>18   </td><td>boy  </td><td> 84  </td><td>141  </td><td> NA  </td><td> NA  </td></tr>\n",
       "\t<tr><td>11   </td><td>teen </td><td>17   </td><td>boy  </td><td> 64  </td><td> 84  </td><td> NA  </td><td>158  </td></tr>\n",
       "\t<tr><td>12   </td><td>teen </td><td>16   </td><td>girl </td><td> 17  </td><td> NA  </td><td> NA  </td><td> NA  </td></tr>\n",
       "\t<tr><td>16   </td><td>teen </td><td>15   </td><td>boy  </td><td> 43  </td><td>197  </td><td>179  </td><td> NA  </td></tr>\n",
       "\t<tr><td>17   </td><td>teen </td><td>16   </td><td>boy  </td><td>  9  </td><td> 79  </td><td>117  </td><td> NA  </td></tr>\n",
       "\t<tr><td>18   </td><td>teen </td><td>16   </td><td>boy  </td><td> 69  </td><td> 85  </td><td>184  </td><td> NA  </td></tr>\n",
       "\t<tr><td>19   </td><td>teen </td><td>14   </td><td>boy  </td><td>  3  </td><td> 70  </td><td>138  </td><td> NA  </td></tr>\n",
       "\t<tr><td>21   </td><td>teen </td><td>18   </td><td>girl </td><td> 27  </td><td> NA  </td><td> NA  </td><td> NA  </td></tr>\n",
       "\t<tr><td>22   </td><td>teen </td><td>16   </td><td>boy  </td><td> 51  </td><td> 79  </td><td> NA  </td><td> NA  </td></tr>\n",
       "\t<tr><td>24   </td><td>teen </td><td>18   </td><td>boy  </td><td> 17  </td><td> NA  </td><td> NA  </td><td> NA  </td></tr>\n",
       "\t<tr><td>25   </td><td>teen </td><td>17   </td><td>boy  </td><td>100  </td><td> NA  </td><td> NA  </td><td> NA  </td></tr>\n",
       "\t<tr><td>26   </td><td>teen </td><td>15   </td><td>girl </td><td>  3  </td><td>130  </td><td>200  </td><td> NA  </td></tr>\n",
       "\t<tr><td>29   </td><td>teen </td><td>16   </td><td>girl </td><td>  6  </td><td> 60  </td><td> 98  </td><td> NA  </td></tr>\n",
       "\t<tr><td>33   </td><td>teen </td><td>16   </td><td>girl </td><td>115  </td><td> NA  </td><td> NA  </td><td> NA  </td></tr>\n",
       "\t<tr><td>34   </td><td>teen </td><td>16   </td><td>girl </td><td> 45  </td><td> NA  </td><td> NA  </td><td> NA  </td></tr>\n",
       "\t<tr><td>35   </td><td>teen </td><td>18   </td><td>boy  </td><td> 46  </td><td> NA  </td><td>136  </td><td>144  </td></tr>\n",
       "\t<tr><td>36   </td><td>teen </td><td>16   </td><td>girl </td><td> 27  </td><td>110  </td><td> NA  </td><td>  2  </td></tr>\n",
       "\t<tr><td>38   </td><td>teen </td><td>17   </td><td>boy  </td><td> 75  </td><td>110  </td><td> NA  </td><td> NA  </td></tr>\n",
       "\t<tr><td>45   </td><td>adult</td><td>23   </td><td>boy  </td><td> 48  </td><td> NA  </td><td> NA  </td><td> NA  </td></tr>\n",
       "\t<tr><td>46   </td><td>adult</td><td>19   </td><td>girl </td><td>  7  </td><td> 40  </td><td> NA  </td><td> 74  </td></tr>\n",
       "\t<tr><td>47   </td><td>adult</td><td>20   </td><td>boy  </td><td> 19  </td><td> NA  </td><td> NA  </td><td> NA  </td></tr>\n",
       "\t<tr><td>48   </td><td>adult</td><td>19   </td><td>boy  </td><td> 34  </td><td> 48  </td><td> NA  </td><td>110  </td></tr>\n",
       "\t<tr><td>49   </td><td>adult</td><td>20   </td><td>girl </td><td> 17  </td><td> NA  </td><td> NA  </td><td> NA  </td></tr>\n",
       "\t<tr><td>50   </td><td>adult</td><td>20   </td><td>boy  </td><td> 55  </td><td> NA  </td><td> NA  </td><td> NA  </td></tr>\n",
       "\t<tr><td>51   </td><td>adult</td><td>23   </td><td>girl </td><td>  4  </td><td> 82  </td><td> NA  </td><td> 99  </td></tr>\n",
       "\t<tr><td>59   </td><td>adult</td><td>27   </td><td>boy  </td><td> 92  </td><td> 72  </td><td> 81  </td><td> NA  </td></tr>\n",
       "\t<tr><td>65   </td><td>adult</td><td>19   </td><td>girl </td><td> 26  </td><td> NA  </td><td> NA  </td><td> NA  </td></tr>\n",
       "\t<tr><td>66   </td><td>adult</td><td>22   </td><td>boy  </td><td> 59  </td><td> NA  </td><td>128  </td><td>122  </td></tr>\n",
       "\t<tr><td>67   </td><td>adult</td><td>19   </td><td>girl </td><td> 40  </td><td> 76  </td><td> NA  </td><td>118  </td></tr>\n",
       "</tbody>\n",
       "</table>\n"
      ],
      "text/latex": [
       "\\begin{tabular}{r|llllllll}\n",
       " id & group & age & sex & GLUCalostrum & GLUTransition & GLUMature2m & GLUMature4m\\\\\n",
       "\\hline\n",
       "\t 3     & teen  & 17    & boy   &  54   & 122   &  NA   &  NA  \\\\\n",
       "\t 4     & teen  & 16    & boy   &  33   &  NA   &  NA   &  NA  \\\\\n",
       "\t 9     & teen  & 17    & girl  &  27   &  72   &  NA   &  NA  \\\\\n",
       "\t 10    & teen  & 18    & boy   &  84   & 141   &  NA   &  NA  \\\\\n",
       "\t 11    & teen  & 17    & boy   &  64   &  84   &  NA   & 158  \\\\\n",
       "\t 12    & teen  & 16    & girl  &  17   &  NA   &  NA   &  NA  \\\\\n",
       "\t 16    & teen  & 15    & boy   &  43   & 197   & 179   &  NA  \\\\\n",
       "\t 17    & teen  & 16    & boy   &   9   &  79   & 117   &  NA  \\\\\n",
       "\t 18    & teen  & 16    & boy   &  69   &  85   & 184   &  NA  \\\\\n",
       "\t 19    & teen  & 14    & boy   &   3   &  70   & 138   &  NA  \\\\\n",
       "\t 21    & teen  & 18    & girl  &  27   &  NA   &  NA   &  NA  \\\\\n",
       "\t 22    & teen  & 16    & boy   &  51   &  79   &  NA   &  NA  \\\\\n",
       "\t 24    & teen  & 18    & boy   &  17   &  NA   &  NA   &  NA  \\\\\n",
       "\t 25    & teen  & 17    & boy   & 100   &  NA   &  NA   &  NA  \\\\\n",
       "\t 26    & teen  & 15    & girl  &   3   & 130   & 200   &  NA  \\\\\n",
       "\t 29    & teen  & 16    & girl  &   6   &  60   &  98   &  NA  \\\\\n",
       "\t 33    & teen  & 16    & girl  & 115   &  NA   &  NA   &  NA  \\\\\n",
       "\t 34    & teen  & 16    & girl  &  45   &  NA   &  NA   &  NA  \\\\\n",
       "\t 35    & teen  & 18    & boy   &  46   &  NA   & 136   & 144  \\\\\n",
       "\t 36    & teen  & 16    & girl  &  27   & 110   &  NA   &   2  \\\\\n",
       "\t 38    & teen  & 17    & boy   &  75   & 110   &  NA   &  NA  \\\\\n",
       "\t 45    & adult & 23    & boy   &  48   &  NA   &  NA   &  NA  \\\\\n",
       "\t 46    & adult & 19    & girl  &   7   &  40   &  NA   &  74  \\\\\n",
       "\t 47    & adult & 20    & boy   &  19   &  NA   &  NA   &  NA  \\\\\n",
       "\t 48    & adult & 19    & boy   &  34   &  48   &  NA   & 110  \\\\\n",
       "\t 49    & adult & 20    & girl  &  17   &  NA   &  NA   &  NA  \\\\\n",
       "\t 50    & adult & 20    & boy   &  55   &  NA   &  NA   &  NA  \\\\\n",
       "\t 51    & adult & 23    & girl  &   4   &  82   &  NA   &  99  \\\\\n",
       "\t 59    & adult & 27    & boy   &  92   &  72   &  81   &  NA  \\\\\n",
       "\t 65    & adult & 19    & girl  &  26   &  NA   &  NA   &  NA  \\\\\n",
       "\t 66    & adult & 22    & boy   &  59   &  NA   & 128   & 122  \\\\\n",
       "\t 67    & adult & 19    & girl  &  40   &  76   &  NA   & 118  \\\\\n",
       "\\end{tabular}\n"
      ],
      "text/markdown": [
       "\n",
       "id | group | age | sex | GLUCalostrum | GLUTransition | GLUMature2m | GLUMature4m | \n",
       "|---|---|---|---|---|---|---|---|---|---|---|---|---|---|---|---|---|---|---|---|---|---|---|---|---|---|---|---|---|---|---|---|\n",
       "| 3     | teen  | 17    | boy   |  54   | 122   |  NA   |  NA   | \n",
       "| 4     | teen  | 16    | boy   |  33   |  NA   |  NA   |  NA   | \n",
       "| 9     | teen  | 17    | girl  |  27   |  72   |  NA   |  NA   | \n",
       "| 10    | teen  | 18    | boy   |  84   | 141   |  NA   |  NA   | \n",
       "| 11    | teen  | 17    | boy   |  64   |  84   |  NA   | 158   | \n",
       "| 12    | teen  | 16    | girl  |  17   |  NA   |  NA   |  NA   | \n",
       "| 16    | teen  | 15    | boy   |  43   | 197   | 179   |  NA   | \n",
       "| 17    | teen  | 16    | boy   |   9   |  79   | 117   |  NA   | \n",
       "| 18    | teen  | 16    | boy   |  69   |  85   | 184   |  NA   | \n",
       "| 19    | teen  | 14    | boy   |   3   |  70   | 138   |  NA   | \n",
       "| 21    | teen  | 18    | girl  |  27   |  NA   |  NA   |  NA   | \n",
       "| 22    | teen  | 16    | boy   |  51   |  79   |  NA   |  NA   | \n",
       "| 24    | teen  | 18    | boy   |  17   |  NA   |  NA   |  NA   | \n",
       "| 25    | teen  | 17    | boy   | 100   |  NA   |  NA   |  NA   | \n",
       "| 26    | teen  | 15    | girl  |   3   | 130   | 200   |  NA   | \n",
       "| 29    | teen  | 16    | girl  |   6   |  60   |  98   |  NA   | \n",
       "| 33    | teen  | 16    | girl  | 115   |  NA   |  NA   |  NA   | \n",
       "| 34    | teen  | 16    | girl  |  45   |  NA   |  NA   |  NA   | \n",
       "| 35    | teen  | 18    | boy   |  46   |  NA   | 136   | 144   | \n",
       "| 36    | teen  | 16    | girl  |  27   | 110   |  NA   |   2   | \n",
       "| 38    | teen  | 17    | boy   |  75   | 110   |  NA   |  NA   | \n",
       "| 45    | adult | 23    | boy   |  48   |  NA   |  NA   |  NA   | \n",
       "| 46    | adult | 19    | girl  |   7   |  40   |  NA   |  74   | \n",
       "| 47    | adult | 20    | boy   |  19   |  NA   |  NA   |  NA   | \n",
       "| 48    | adult | 19    | boy   |  34   |  48   |  NA   | 110   | \n",
       "| 49    | adult | 20    | girl  |  17   |  NA   |  NA   |  NA   | \n",
       "| 50    | adult | 20    | boy   |  55   |  NA   |  NA   |  NA   | \n",
       "| 51    | adult | 23    | girl  |   4   |  82   |  NA   |  99   | \n",
       "| 59    | adult | 27    | boy   |  92   |  72   |  81   |  NA   | \n",
       "| 65    | adult | 19    | girl  |  26   |  NA   |  NA   |  NA   | \n",
       "| 66    | adult | 22    | boy   |  59   |  NA   | 128   | 122   | \n",
       "| 67    | adult | 19    | girl  |  40   |  76   |  NA   | 118   | \n",
       "\n",
       "\n"
      ],
      "text/plain": [
       "   id group age sex  GLUCalostrum GLUTransition GLUMature2m GLUMature4m\n",
       "1  3  teen  17  boy   54          122            NA          NA        \n",
       "2  4  teen  16  boy   33           NA            NA          NA        \n",
       "3  9  teen  17  girl  27           72            NA          NA        \n",
       "4  10 teen  18  boy   84          141            NA          NA        \n",
       "5  11 teen  17  boy   64           84            NA         158        \n",
       "6  12 teen  16  girl  17           NA            NA          NA        \n",
       "7  16 teen  15  boy   43          197           179          NA        \n",
       "8  17 teen  16  boy    9           79           117          NA        \n",
       "9  18 teen  16  boy   69           85           184          NA        \n",
       "10 19 teen  14  boy    3           70           138          NA        \n",
       "11 21 teen  18  girl  27           NA            NA          NA        \n",
       "12 22 teen  16  boy   51           79            NA          NA        \n",
       "13 24 teen  18  boy   17           NA            NA          NA        \n",
       "14 25 teen  17  boy  100           NA            NA          NA        \n",
       "15 26 teen  15  girl   3          130           200          NA        \n",
       "16 29 teen  16  girl   6           60            98          NA        \n",
       "17 33 teen  16  girl 115           NA            NA          NA        \n",
       "18 34 teen  16  girl  45           NA            NA          NA        \n",
       "19 35 teen  18  boy   46           NA           136         144        \n",
       "20 36 teen  16  girl  27          110            NA           2        \n",
       "21 38 teen  17  boy   75          110            NA          NA        \n",
       "22 45 adult 23  boy   48           NA            NA          NA        \n",
       "23 46 adult 19  girl   7           40            NA          74        \n",
       "24 47 adult 20  boy   19           NA            NA          NA        \n",
       "25 48 adult 19  boy   34           48            NA         110        \n",
       "26 49 adult 20  girl  17           NA            NA          NA        \n",
       "27 50 adult 20  boy   55           NA            NA          NA        \n",
       "28 51 adult 23  girl   4           82            NA          99        \n",
       "29 59 adult 27  boy   92           72            81          NA        \n",
       "30 65 adult 19  girl  26           NA            NA          NA        \n",
       "31 66 adult 22  boy   59           NA           128         122        \n",
       "32 67 adult 19  girl  40           76            NA         118        "
      ]
     },
     "metadata": {},
     "output_type": "display_data"
    }
   ],
   "source": [
    "AAdf %>% filter(is.na(GLUTransition) | is.na(GLUMature2m) | is.na(GLUMature4m) )"
   ]
  },
  {
   "cell_type": "code",
   "execution_count": 127,
   "metadata": {},
   "outputs": [
    {
     "data": {
      "text/html": [
       "<table>\n",
       "<thead><tr><th scope=col>id</th><th scope=col>group</th><th scope=col>age</th><th scope=col>sex</th><th scope=col>GLUCalostrum</th><th scope=col>GLUTransition</th><th scope=col>GLUMature2m</th><th scope=col>GLUMature4m</th></tr></thead>\n",
       "<tbody>\n",
       "\t<tr><td>46   </td><td>adult</td><td>19   </td><td>girl </td><td> 7   </td><td>40   </td><td>NA   </td><td> 74  </td></tr>\n",
       "\t<tr><td>48   </td><td>adult</td><td>19   </td><td>boy  </td><td>34   </td><td>48   </td><td>NA   </td><td>110  </td></tr>\n",
       "\t<tr><td>51   </td><td>adult</td><td>23   </td><td>girl </td><td> 4   </td><td>82   </td><td>NA   </td><td> 99  </td></tr>\n",
       "\t<tr><td>67   </td><td>adult</td><td>19   </td><td>girl </td><td>40   </td><td>76   </td><td>NA   </td><td>118  </td></tr>\n",
       "</tbody>\n",
       "</table>\n"
      ],
      "text/latex": [
       "\\begin{tabular}{r|llllllll}\n",
       " id & group & age & sex & GLUCalostrum & GLUTransition & GLUMature2m & GLUMature4m\\\\\n",
       "\\hline\n",
       "\t 46    & adult & 19    & girl  &  7    & 40    & NA    &  74  \\\\\n",
       "\t 48    & adult & 19    & boy   & 34    & 48    & NA    & 110  \\\\\n",
       "\t 51    & adult & 23    & girl  &  4    & 82    & NA    &  99  \\\\\n",
       "\t 67    & adult & 19    & girl  & 40    & 76    & NA    & 118  \\\\\n",
       "\\end{tabular}\n"
      ],
      "text/markdown": [
       "\n",
       "id | group | age | sex | GLUCalostrum | GLUTransition | GLUMature2m | GLUMature4m | \n",
       "|---|---|---|---|\n",
       "| 46    | adult | 19    | girl  |  7    | 40    | NA    |  74   | \n",
       "| 48    | adult | 19    | boy   | 34    | 48    | NA    | 110   | \n",
       "| 51    | adult | 23    | girl  |  4    | 82    | NA    |  99   | \n",
       "| 67    | adult | 19    | girl  | 40    | 76    | NA    | 118   | \n",
       "\n",
       "\n"
      ],
      "text/plain": [
       "  id group age sex  GLUCalostrum GLUTransition GLUMature2m GLUMature4m\n",
       "1 46 adult 19  girl  7           40            NA           74        \n",
       "2 48 adult 19  boy  34           48            NA          110        \n",
       "3 51 adult 23  girl  4           82            NA           99        \n",
       "4 67 adult 19  girl 40           76            NA          118        "
      ]
     },
     "metadata": {},
     "output_type": "display_data"
    }
   ],
   "source": [
    "AAdf %>% filter(group == 'adult') %>% \n",
    "    filter( (!is.na(GLUTransition)) & is.na(GLUMature2m) )"
   ]
  },
  {
   "cell_type": "code",
   "execution_count": 132,
   "metadata": {},
   "outputs": [
    {
     "data": {
      "text/html": [
       "<table>\n",
       "<thead><tr><th scope=col>id</th><th scope=col>group</th><th scope=col>age</th><th scope=col>sex</th><th scope=col>GLUCalostrum</th><th scope=col>GLUTransition</th><th scope=col>GLUMature2m</th><th scope=col>GLUMature4m</th></tr></thead>\n",
       "<tbody>\n",
       "\t<tr><td>66   </td><td>adult</td><td>22   </td><td>boy  </td><td>59   </td><td>NA   </td><td>128  </td><td>122  </td></tr>\n",
       "</tbody>\n",
       "</table>\n"
      ],
      "text/latex": [
       "\\begin{tabular}{r|llllllll}\n",
       " id & group & age & sex & GLUCalostrum & GLUTransition & GLUMature2m & GLUMature4m\\\\\n",
       "\\hline\n",
       "\t 66    & adult & 22    & boy   & 59    & NA    & 128   & 122  \\\\\n",
       "\\end{tabular}\n"
      ],
      "text/markdown": [
       "\n",
       "id | group | age | sex | GLUCalostrum | GLUTransition | GLUMature2m | GLUMature4m | \n",
       "|---|\n",
       "| 66    | adult | 22    | boy   | 59    | NA    | 128   | 122   | \n",
       "\n",
       "\n"
      ],
      "text/plain": [
       "  id group age sex GLUCalostrum GLUTransition GLUMature2m GLUMature4m\n",
       "1 66 adult 22  boy 59           NA            128         122        "
      ]
     },
     "metadata": {},
     "output_type": "display_data"
    }
   ],
   "source": [
    "AAdf %>% filter(group == 'adult') %>% \n",
    "    filter( (is.na(GLUTransition)) & !is.na(GLUMature2m) )"
   ]
  },
  {
   "cell_type": "code",
   "execution_count": 135,
   "metadata": {},
   "outputs": [
    {
     "data": {
      "text/html": [
       "<table>\n",
       "<thead><tr><th scope=col>id</th><th scope=col>group</th><th scope=col>age</th><th scope=col>sex</th><th scope=col>GLUCalostrum</th><th scope=col>GLUTransition</th><th scope=col>GLUMature2m</th><th scope=col>GLUMature4m</th></tr></thead>\n",
       "<tbody>\n",
       "\t<tr><td>66   </td><td>adult</td><td>22   </td><td>boy  </td><td>59   </td><td>NA   </td><td>128  </td><td>122  </td></tr>\n",
       "</tbody>\n",
       "</table>\n"
      ],
      "text/latex": [
       "\\begin{tabular}{r|llllllll}\n",
       " id & group & age & sex & GLUCalostrum & GLUTransition & GLUMature2m & GLUMature4m\\\\\n",
       "\\hline\n",
       "\t 66    & adult & 22    & boy   & 59    & NA    & 128   & 122  \\\\\n",
       "\\end{tabular}\n"
      ],
      "text/markdown": [
       "\n",
       "id | group | age | sex | GLUCalostrum | GLUTransition | GLUMature2m | GLUMature4m | \n",
       "|---|\n",
       "| 66    | adult | 22    | boy   | 59    | NA    | 128   | 122   | \n",
       "\n",
       "\n"
      ],
      "text/plain": [
       "  id group age sex GLUCalostrum GLUTransition GLUMature2m GLUMature4m\n",
       "1 66 adult 22  boy 59           NA            128         122        "
      ]
     },
     "metadata": {},
     "output_type": "display_data"
    }
   ],
   "source": [
    "AAdf %>% filter(group == 'adult') %>% \n",
    "    filter( is.na(GLUTransition) &  !is.na(GLUMature4m))"
   ]
  },
  {
   "cell_type": "code",
   "execution_count": 136,
   "metadata": {},
   "outputs": [
    {
     "data": {
      "text/html": [
       "<table>\n",
       "<thead><tr><th scope=col>id</th><th scope=col>group</th><th scope=col>age</th><th scope=col>sex</th><th scope=col>GLUCalostrum</th><th scope=col>GLUTransition</th><th scope=col>GLUMature2m</th><th scope=col>GLUMature4m</th></tr></thead>\n",
       "<tbody>\n",
       "\t<tr><td>3   </td><td>teen</td><td>17  </td><td>boy </td><td>54  </td><td>122 </td><td>NA  </td><td> NA </td></tr>\n",
       "\t<tr><td>9   </td><td>teen</td><td>17  </td><td>girl</td><td>27  </td><td> 72 </td><td>NA  </td><td> NA </td></tr>\n",
       "\t<tr><td>10  </td><td>teen</td><td>18  </td><td>boy </td><td>84  </td><td>141 </td><td>NA  </td><td> NA </td></tr>\n",
       "\t<tr><td>11  </td><td>teen</td><td>17  </td><td>boy </td><td>64  </td><td> 84 </td><td>NA  </td><td>158 </td></tr>\n",
       "\t<tr><td>22  </td><td>teen</td><td>16  </td><td>boy </td><td>51  </td><td> 79 </td><td>NA  </td><td> NA </td></tr>\n",
       "\t<tr><td>36  </td><td>teen</td><td>16  </td><td>girl</td><td>27  </td><td>110 </td><td>NA  </td><td>  2 </td></tr>\n",
       "\t<tr><td>38  </td><td>teen</td><td>17  </td><td>boy </td><td>75  </td><td>110 </td><td>NA  </td><td> NA </td></tr>\n",
       "</tbody>\n",
       "</table>\n"
      ],
      "text/latex": [
       "\\begin{tabular}{r|llllllll}\n",
       " id & group & age & sex & GLUCalostrum & GLUTransition & GLUMature2m & GLUMature4m\\\\\n",
       "\\hline\n",
       "\t 3    & teen & 17   & boy  & 54   & 122  & NA   &  NA \\\\\n",
       "\t 9    & teen & 17   & girl & 27   &  72  & NA   &  NA \\\\\n",
       "\t 10   & teen & 18   & boy  & 84   & 141  & NA   &  NA \\\\\n",
       "\t 11   & teen & 17   & boy  & 64   &  84  & NA   & 158 \\\\\n",
       "\t 22   & teen & 16   & boy  & 51   &  79  & NA   &  NA \\\\\n",
       "\t 36   & teen & 16   & girl & 27   & 110  & NA   &   2 \\\\\n",
       "\t 38   & teen & 17   & boy  & 75   & 110  & NA   &  NA \\\\\n",
       "\\end{tabular}\n"
      ],
      "text/markdown": [
       "\n",
       "id | group | age | sex | GLUCalostrum | GLUTransition | GLUMature2m | GLUMature4m | \n",
       "|---|---|---|---|---|---|---|\n",
       "| 3    | teen | 17   | boy  | 54   | 122  | NA   |  NA  | \n",
       "| 9    | teen | 17   | girl | 27   |  72  | NA   |  NA  | \n",
       "| 10   | teen | 18   | boy  | 84   | 141  | NA   |  NA  | \n",
       "| 11   | teen | 17   | boy  | 64   |  84  | NA   | 158  | \n",
       "| 22   | teen | 16   | boy  | 51   |  79  | NA   |  NA  | \n",
       "| 36   | teen | 16   | girl | 27   | 110  | NA   |   2  | \n",
       "| 38   | teen | 17   | boy  | 75   | 110  | NA   |  NA  | \n",
       "\n",
       "\n"
      ],
      "text/plain": [
       "  id group age sex  GLUCalostrum GLUTransition GLUMature2m GLUMature4m\n",
       "1 3  teen  17  boy  54           122           NA           NA        \n",
       "2 9  teen  17  girl 27            72           NA           NA        \n",
       "3 10 teen  18  boy  84           141           NA           NA        \n",
       "4 11 teen  17  boy  64            84           NA          158        \n",
       "5 22 teen  16  boy  51            79           NA           NA        \n",
       "6 36 teen  16  girl 27           110           NA            2        \n",
       "7 38 teen  17  boy  75           110           NA           NA        "
      ]
     },
     "metadata": {},
     "output_type": "display_data"
    }
   ],
   "source": [
    "AAdf %>% filter(group == 'teen') %>% \n",
    "    filter( !is.na(GLUTransition) & is.na(GLUMature2m) )"
   ]
  },
  {
   "cell_type": "code",
   "execution_count": 137,
   "metadata": {},
   "outputs": [
    {
     "data": {
      "text/html": [
       "<table>\n",
       "<thead><tr><th scope=col>id</th><th scope=col>group</th><th scope=col>age</th><th scope=col>sex</th><th scope=col>GLUCalostrum</th><th scope=col>GLUTransition</th><th scope=col>GLUMature2m</th><th scope=col>GLUMature4m</th></tr></thead>\n",
       "<tbody>\n",
       "\t<tr><td>35  </td><td>teen</td><td>18  </td><td>boy </td><td>46  </td><td>NA  </td><td>136 </td><td>144 </td></tr>\n",
       "</tbody>\n",
       "</table>\n"
      ],
      "text/latex": [
       "\\begin{tabular}{r|llllllll}\n",
       " id & group & age & sex & GLUCalostrum & GLUTransition & GLUMature2m & GLUMature4m\\\\\n",
       "\\hline\n",
       "\t 35   & teen & 18   & boy  & 46   & NA   & 136  & 144 \\\\\n",
       "\\end{tabular}\n"
      ],
      "text/markdown": [
       "\n",
       "id | group | age | sex | GLUCalostrum | GLUTransition | GLUMature2m | GLUMature4m | \n",
       "|---|\n",
       "| 35   | teen | 18   | boy  | 46   | NA   | 136  | 144  | \n",
       "\n",
       "\n"
      ],
      "text/plain": [
       "  id group age sex GLUCalostrum GLUTransition GLUMature2m GLUMature4m\n",
       "1 35 teen  18  boy 46           NA            136         144        "
      ]
     },
     "metadata": {},
     "output_type": "display_data"
    }
   ],
   "source": [
    "AAdf %>% filter(group == 'teen') %>% \n",
    "    filter( is.na(GLUTransition) & !is.na(GLUMature4m) )"
   ]
  },
  {
   "cell_type": "code",
   "execution_count": 6,
   "metadata": {},
   "outputs": [
    {
     "data": {
      "text/html": [
       "<table>\n",
       "<thead><tr><th scope=col>x</th><th scope=col>y</th></tr></thead>\n",
       "<tbody>\n",
       "\t<tr><td>NA</td><td>NA</td></tr>\n",
       "\t<tr><td> 3</td><td>NA</td></tr>\n",
       "</tbody>\n",
       "</table>\n"
      ],
      "text/latex": [
       "\\begin{tabular}{r|ll}\n",
       " x & y\\\\\n",
       "\\hline\n",
       "\t NA & NA\\\\\n",
       "\t  3 & NA\\\\\n",
       "\\end{tabular}\n"
      ],
      "text/markdown": [
       "\n",
       "x | y | \n",
       "|---|---|\n",
       "| NA | NA | \n",
       "|  3 | NA | \n",
       "\n",
       "\n"
      ],
      "text/plain": [
       "  x  y \n",
       "1 NA NA\n",
       "2  3 NA"
      ]
     },
     "metadata": {},
     "output_type": "display_data"
    }
   ],
   "source": [
    "df <- data.frame(x = c(1, NA, 3, 8), y = c(1, NA, NA, 8))\n",
    "\n",
    "df %>% filter(is.na(x) | is.na(y))"
   ]
  },
  {
   "cell_type": "markdown",
   "metadata": {},
   "source": [
    "# Dropout mechanism: \n",
    "\n",
    "Suppose the data is organized in a long format where each individual appears in more than one row: \n",
    "\n",
    "\n",
    "| Id |DO |week | sex | group |\n",
    "|:--:|:--:|:---:|:---:|:-----:|\n",
    "|1  |NO\t| 1 | G = 0 | T \n",
    "|2  |NO\t| 1 | B = 1 | A\n",
    "|1  |YES| 3\t| G = 0 | T\n",
    "|1  |NO\t| 2 | G = 0 | T\n",
    "\n",
    "\n",
    "where $DO$ register if patient $i$ came to the corresponding measurement session. Then, the model for the probability of dropping out is: \n",
    "\n",
    "$$\n",
    "logit \\left( P(DO_i = 1) \\right) = \\beta_1 \\ week + \\beta_2 \\ group + \\beta_3 \\ group \\times week  \n",
    "$$\n",
    "\n",
    "where the $\\beta_1$ is the time effect for adults and $\\beta_2 + \\beta_3$  is the time effect for teens. The intercept is $0$ since we already have an interaction term. "
   ]
  },
  {
   "cell_type": "code",
   "execution_count": 15,
   "metadata": {},
   "outputs": [
    {
     "data": {
      "text/html": [
       "<table>\n",
       "<thead><tr><th scope=col>id</th><th scope=col>group</th><th scope=col>age</th><th scope=col>sex</th><th scope=col>week</th><th scope=col>level</th></tr></thead>\n",
       "<tbody>\n",
       "\t<tr><td>3   </td><td>teen</td><td>17  </td><td>boy </td><td> 1  </td><td> 54 </td></tr>\n",
       "\t<tr><td>3   </td><td>teen</td><td>17  </td><td>boy </td><td> 2  </td><td>122 </td></tr>\n",
       "\t<tr><td>3   </td><td>teen</td><td>17  </td><td>boy </td><td> 8  </td><td> NA </td></tr>\n",
       "\t<tr><td>3   </td><td>teen</td><td>17  </td><td>boy </td><td>16  </td><td> NA </td></tr>\n",
       "</tbody>\n",
       "</table>\n"
      ],
      "text/latex": [
       "\\begin{tabular}{r|llllll}\n",
       " id & group & age & sex & week & level\\\\\n",
       "\\hline\n",
       "\t 3    & teen & 17   & boy  &  1   &  54 \\\\\n",
       "\t 3    & teen & 17   & boy  &  2   & 122 \\\\\n",
       "\t 3    & teen & 17   & boy  &  8   &  NA \\\\\n",
       "\t 3    & teen & 17   & boy  & 16   &  NA \\\\\n",
       "\\end{tabular}\n"
      ],
      "text/markdown": [
       "\n",
       "id | group | age | sex | week | level | \n",
       "|---|---|---|---|\n",
       "| 3    | teen | 17   | boy  |  1   |  54  | \n",
       "| 3    | teen | 17   | boy  |  2   | 122  | \n",
       "| 3    | teen | 17   | boy  |  8   |  NA  | \n",
       "| 3    | teen | 17   | boy  | 16   |  NA  | \n",
       "\n",
       "\n"
      ],
      "text/plain": [
       "  id group age sex week level\n",
       "1 3  teen  17  boy  1    54  \n",
       "2 3  teen  17  boy  2   122  \n",
       "3 3  teen  17  boy  8    NA  \n",
       "4 3  teen  17  boy 16    NA  "
      ]
     },
     "metadata": {},
     "output_type": "display_data"
    }
   ],
   "source": [
    "AAdfLong %>% filter(id == 3)"
   ]
  },
  {
   "cell_type": "code",
   "execution_count": 87,
   "metadata": {},
   "outputs": [
    {
     "data": {
      "text/html": [
       "<table>\n",
       "<thead><tr><th scope=col>group</th><th scope=col>age</th><th scope=col>sex</th><th scope=col>week</th><th scope=col>DO</th></tr></thead>\n",
       "<tbody>\n",
       "\t<tr><td>teen</td><td>17  </td><td>girl</td><td>1   </td><td>0   </td></tr>\n",
       "\t<tr><td>teen</td><td>16  </td><td>boy </td><td>1   </td><td>0   </td></tr>\n",
       "\t<tr><td>teen</td><td>17  </td><td>boy </td><td>1   </td><td>0   </td></tr>\n",
       "\t<tr><td>teen</td><td>16  </td><td>boy </td><td>1   </td><td>0   </td></tr>\n",
       "\t<tr><td>teen</td><td>16  </td><td>boy </td><td>1   </td><td>0   </td></tr>\n",
       "\t<tr><td>teen</td><td>16  </td><td>boy </td><td>1   </td><td>0   </td></tr>\n",
       "</tbody>\n",
       "</table>\n"
      ],
      "text/latex": [
       "\\begin{tabular}{r|lllll}\n",
       " group & age & sex & week & DO\\\\\n",
       "\\hline\n",
       "\t teen & 17   & girl & 1    & 0   \\\\\n",
       "\t teen & 16   & boy  & 1    & 0   \\\\\n",
       "\t teen & 17   & boy  & 1    & 0   \\\\\n",
       "\t teen & 16   & boy  & 1    & 0   \\\\\n",
       "\t teen & 16   & boy  & 1    & 0   \\\\\n",
       "\t teen & 16   & boy  & 1    & 0   \\\\\n",
       "\\end{tabular}\n"
      ],
      "text/markdown": [
       "\n",
       "group | age | sex | week | DO | \n",
       "|---|---|---|---|---|---|\n",
       "| teen | 17   | girl | 1    | 0    | \n",
       "| teen | 16   | boy  | 1    | 0    | \n",
       "| teen | 17   | boy  | 1    | 0    | \n",
       "| teen | 16   | boy  | 1    | 0    | \n",
       "| teen | 16   | boy  | 1    | 0    | \n",
       "| teen | 16   | boy  | 1    | 0    | \n",
       "\n",
       "\n"
      ],
      "text/plain": [
       "  group age sex  week DO\n",
       "1 teen  17  girl 1    0 \n",
       "2 teen  16  boy  1    0 \n",
       "3 teen  17  boy  1    0 \n",
       "4 teen  16  boy  1    0 \n",
       "5 teen  16  boy  1    0 \n",
       "6 teen  16  boy  1    0 "
      ]
     },
     "metadata": {},
     "output_type": "display_data"
    }
   ],
   "source": [
    "AAdfLongDO <- AAdfLong %>% \n",
    "        mutate(DO = ifelse(is.na(level), 1, 0)) %>% \n",
    "        select(-level, -id) \n",
    "\n",
    "head(AAdfLongDO)"
   ]
  },
  {
   "cell_type": "code",
   "execution_count": 88,
   "metadata": {},
   "outputs": [
    {
     "data": {
      "image/png": "[encoded data removed]",
      "text/plain": [
       "plot without title"
      ]
     },
     "metadata": {},
     "output_type": "display_data"
    }
   ],
   "source": [
    "pairs(AAdfLongDO)"
   ]
  },
  {
   "cell_type": "code",
   "execution_count": 115,
   "metadata": {},
   "outputs": [
    {
     "data": {
      "text/plain": [
       "\n",
       "Call:\n",
       "glm(formula = DO ~ week + group, family = binomial(link = \"logit\"), \n",
       "    data = AAdfLongDO)\n",
       "\n",
       "Deviance Residuals: \n",
       "     Min        1Q    Median        3Q       Max  \n",
       "-1.15126  -0.70844  -0.57278  -0.07158   2.02799  \n",
       "\n",
       "Coefficients:\n",
       "            Estimate Std. Error z value Pr(>|z|)    \n",
       "(Intercept) -1.83535    0.28631  -6.410 1.45e-10 ***\n",
       "week         0.11084    0.02514   4.409 1.04e-05 ***\n",
       "groupadult  -0.30584    0.32263  -0.948    0.343    \n",
       "---\n",
       "Signif. codes:  0 '***' 0.001 '**' 0.01 '*' 0.05 '.' 0.1 ' ' 1\n",
       "\n",
       "(Dispersion parameter for binomial family taken to be 1)\n",
       "\n",
       "    Null deviance: 274.42  on 243  degrees of freedom\n",
       "Residual deviance: 253.26  on 241  degrees of freedom\n",
       "AIC: 259.26\n",
       "\n",
       "Number of Fisher Scoring iterations: 4\n"
      ]
     },
     "metadata": {},
     "output_type": "display_data"
    }
   ],
   "source": [
    "pDO <- glm(DO ~ week + group, data=AAdfLongDO, family = binomial(link='logit'))\n",
    "summary(pDO)"
   ]
  },
  {
   "cell_type": "code",
   "execution_count": 105,
   "metadata": {},
   "outputs": [
    {
     "data": {},
     "metadata": {},
     "output_type": "display_data"
    },
    {
     "data": {
      "image/png": "[encoded data removed]",
      "text/plain": [
       "plot without title"
      ]
     },
     "metadata": {},
     "output_type": "display_data"
    }
   ],
   "source": [
    "ggplot(AAdfLongDO, aes(x = week, y = DO, color = group)) + \n",
    "    geom_point() + geom_jitter(alpha = 0.3, width = 0.5, height = 0) +\n",
    "    geom_smooth(method = glm, formula = y ~ x, method.args = list(family = \"binomial\"), se = FALSE)"
   ]
  }
 ],
 "metadata": {
  "kernelspec": {
   "display_name": "R 3.3",
   "language": "R",
   "name": "ir33"
  },
  "language_info": {
   "codemirror_mode": "r",
   "file_extension": ".r",
   "mimetype": "text/x-r-source",
   "name": "R",
   "pygments_lexer": "r",
   "version": "3.3.3"
  }
 },
 "nbformat": 4,
 "nbformat_minor": 2
}
