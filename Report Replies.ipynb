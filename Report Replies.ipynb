{
 "cells": [
  {
   "cell_type": "code",
   "execution_count": 1,
   "metadata": {},
   "outputs": [
    {
     "name": "stderr",
     "output_type": "stream",
     "text": [
      "── \u001b[1mAttaching packages\u001b[22m ─────────────────────────────────────── tidyverse 1.2.1 ──\n",
      "\u001b[32m✔\u001b[39m \u001b[34mggplot2\u001b[39m 3.2.0     \u001b[32m✔\u001b[39m \u001b[34mpurrr  \u001b[39m 0.3.2\n",
      "\u001b[32m✔\u001b[39m \u001b[34mtibble \u001b[39m 2.1.3     \u001b[32m✔\u001b[39m \u001b[34mdplyr  \u001b[39m 0.8.2\n",
      "\u001b[32m✔\u001b[39m \u001b[34mtidyr  \u001b[39m 0.8.3     \u001b[32m✔\u001b[39m \u001b[34mstringr\u001b[39m 1.4.0\n",
      "\u001b[32m✔\u001b[39m \u001b[34mreadr  \u001b[39m 1.3.1     \u001b[32m✔\u001b[39m \u001b[34mforcats\u001b[39m 0.4.0\n",
      "── \u001b[1mConflicts\u001b[22m ────────────────────────────────────────── tidyverse_conflicts() ──\n",
      "\u001b[31m✖\u001b[39m \u001b[34mdplyr\u001b[39m::\u001b[32mfilter()\u001b[39m masks \u001b[34mstats\u001b[39m::filter()\n",
      "\u001b[31m✖\u001b[39m \u001b[34mdplyr\u001b[39m::\u001b[32mlag()\u001b[39m    masks \u001b[34mstats\u001b[39m::lag()\n",
      "Loading required package: Matrix\n",
      "\n",
      "Attaching package: ‘Matrix’\n",
      "\n",
      "The following object is masked from ‘package:tidyr’:\n",
      "\n",
      "    expand\n",
      "\n"
     ]
    }
   ],
   "source": [
    "library(haven)\n",
    "library(tidyverse)\n",
    "library(broom)\n",
    "library(lme4) \n",
    "library(latex2exp)"
   ]
  },
  {
   "cell_type": "code",
   "execution_count": 2,
   "metadata": {},
   "outputs": [
    {
     "data": {
      "text/html": [
       "<table>\n",
       "<caption>A tibble: 6 × 171</caption>\n",
       "<thead>\n",
       "\t<tr><th scope=col>ID</th><th scope=col>GROUP</th><th scope=col>MATERNALAGE</th><th scope=col>SEXO</th><th scope=col>INFANTDOB</th><th scope=col>MATBMI1COLL</th><th scope=col>MATBMI215d</th><th scope=col>MATBMI32mos</th><th scope=col>MATBMI44mos</th><th scope=col>BABYWeigth1g</th><th scope=col>⋯</th><th scope=col>ALAGLOB</th><th scope=col>ASNGLOB</th><th scope=col>SYSGLOB</th><th scope=col>GLYGLOB</th><th scope=col>GLUGLOB</th><th scope=col>GLNGLOB</th><th scope=col>PROLINEGLOB</th><th scope=col>SERINEGLOB</th><th scope=col>TYRAMINEGLOB</th><th scope=col>new</th></tr>\n",
       "\t<tr><th scope=col>&lt;dbl&gt;</th><th scope=col>&lt;dbl+lbl&gt;</th><th scope=col>&lt;dbl&gt;</th><th scope=col>&lt;dbl+lbl&gt;</th><th scope=col>&lt;date&gt;</th><th scope=col>&lt;dbl&gt;</th><th scope=col>&lt;dbl&gt;</th><th scope=col>&lt;dbl&gt;</th><th scope=col>&lt;dbl&gt;</th><th scope=col>&lt;dbl&gt;</th><th scope=col>⋯</th><th scope=col>&lt;dbl&gt;</th><th scope=col>&lt;dbl&gt;</th><th scope=col>&lt;dbl&gt;</th><th scope=col>&lt;dbl&gt;</th><th scope=col>&lt;dbl&gt;</th><th scope=col>&lt;dbl&gt;</th><th scope=col>&lt;dbl&gt;</th><th scope=col>&lt;dbl&gt;</th><th scope=col>&lt;dbl&gt;</th><th scope=col>&lt;dbl&gt;</th></tr>\n",
       "</thead>\n",
       "<tbody>\n",
       "\t<tr><td>1</td><td>0</td><td>17</td><td> 1</td><td>2009-08-20</td><td>25</td><td>24</td><td>24</td><td>22</td><td>3492.7</td><td>⋯</td><td>21.25</td><td>0.5</td><td>1.00</td><td>10.00</td><td> 87.25</td><td>23.25</td><td>2.75</td><td>8.0</td><td>1.00</td><td>0</td></tr>\n",
       "\t<tr><td>2</td><td>0</td><td>16</td><td> 2</td><td>2009-08-24</td><td>32</td><td>31</td><td>30</td><td>29</td><td>3392.9</td><td>⋯</td><td>18.25</td><td>0.0</td><td>0.75</td><td>13.75</td><td>100.50</td><td>40.50</td><td>2.50</td><td>9.5</td><td>0.75</td><td>0</td></tr>\n",
       "\t<tr><td>3</td><td>0</td><td>17</td><td> 2</td><td>2009-08-21</td><td>23</td><td>23</td><td>NA</td><td>NA</td><td>2993.8</td><td>⋯</td><td>   NA</td><td> NA</td><td>  NA</td><td>   NA</td><td>    NA</td><td>   NA</td><td>  NA</td><td> NA</td><td>  NA</td><td>0</td></tr>\n",
       "\t<tr><td>4</td><td>0</td><td>16</td><td> 2</td><td>2009-08-21</td><td>26</td><td>NA</td><td>NA</td><td>NA</td><td>3692.3</td><td>⋯</td><td>   NA</td><td> NA</td><td>  NA</td><td>   NA</td><td>    NA</td><td>   NA</td><td>  NA</td><td> NA</td><td>  NA</td><td>0</td></tr>\n",
       "\t<tr><td>5</td><td>0</td><td>16</td><td>NA</td><td>2009-08-29</td><td>25</td><td>NA</td><td>NA</td><td>NA</td><td>3592.5</td><td>⋯</td><td>   NA</td><td> NA</td><td>  NA</td><td>   NA</td><td>    NA</td><td>   NA</td><td>  NA</td><td> NA</td><td>  NA</td><td>0</td></tr>\n",
       "\t<tr><td>6</td><td>0</td><td>16</td><td> 2</td><td>2009-08-27</td><td>29</td><td>28</td><td>30</td><td>31</td><td>3093.5</td><td>⋯</td><td>15.50</td><td>0.5</td><td>1.50</td><td>10.25</td><td> 74.75</td><td>30.00</td><td>5.25</td><td>8.0</td><td>2.00</td><td>0</td></tr>\n",
       "</tbody>\n",
       "</table>\n"
      ],
      "text/latex": [
       "A tibble: 6 × 171\n",
       "\\begin{tabular}{r|lllllllllllllllllllllllllllllllllllllllllllllllllllllllllllllllllllllllllllllllllllllllllllllllllllllllllllllllllllllllllllllllllllllllllllllllllllllllllllllllllllllllllll}\n",
       " ID & GROUP & MATERNALAGE & SEXO & INFANTDOB & MATBMI1COLL & MATBMI215d & MATBMI32mos & MATBMI44mos & BABYWeigth1g & BABYWeigth2g & BABYWeigth3g & BABYWeigth4g & HeadCircumcm1 & HCcm2 & HCcm3 & HCcm4 & MATHeight1m & MATHeight2m & MATHeight3m & MATHeight4m & MATWeight1kg & MATWeight2kg & MATWeight3kg & MATWeight4kg & A.TOTALCALORIESKcal & B.TOTALCALORIESKcal & A.PROTEINg & B.PROTEINg & A.CHOg & B.CHOg & A.LIPIDSg & B.LIPIDSg & A.GLUCOSEmgdL & B.GLUCOSEmgdL & A.CHOLESTEROLmgdL & B.CHOLESTEROLmgdL & A.TRIGLYCERIDSmgdL & B.TRIGLYCERIDmgdL & A.HDLmgdL & B.HDLmgdL & A.LDLmgdL & B.LDLmgdL & A.PROTEINSgdL & B.PROTEINSgdL & A.ALBUMINgdL & B.ALBUMINgdL & edadr & Grupos & CALOSTRUMtotalAA & TRANSITIONtotalAA & MATURE2mtotalAA & MATURE4mtotalAA & CALOSTRUMessentialAA & TRANSITIONessentialAA & MATURE2messentialAA & MATURE4messentialAA & ARGCalostrum & ARGTransition & ARGMature2m & ARGMature4m & HISCalostrum & HISTransition & HISMature2m & HISMature4m & ILECalostrum & ILETransition & ILEMature2m & ILEMature4m & LEUCalostrum & LEUTransition & LEUMature2m & LEUMature4m & LYSCalostrum & LYSTransition & LYSMature2m & LYSMature4m & METCalostrum & METTransition & METMature2m & METMature4m & PHECalostrum & PHETransition & PHEMature2m & PHEMature4m & THRCalostrum & THRTransition & THRMature2m & THRMature4m & TRPCalostrum & TRPTransition & TRPMature2m & TRPMature4m & VALCalostrum & VALTransition & VALMature2m & VALMature4m & CALOSTRUMnonessentialAA & TRANSITIONnonessentialAA & MATURE2mnonessentialAA & MATURE4mnonessentialAA & ASPCalostrum & ASPTransition & ASPMature2m & ASPMature4m & ALACalostrum & ALATransition & ALAMature2m & ALAMature4m & ASNCalostrum & ASNTransition & ASNMature2m & ASNMature4m & CYSCalostrum & CYSTransition & CYSMature2m & CYSMature4m & GLYCalostrum & GLYTransition & GLYMature2m & GLYMature4m & GLUCalostrum & GLUTransition & GLUMature2m & GLUMature4m & GLNCalostrum & GLNTransition & GLNMature2m & GLNMature4m & PROCalostrum & PROTransition & PROMature2m & PROMature4m & SERCalostrum & SERTransition & SERMature2m & SERMature4m & TYRCalostrum & TYRTransition & TYRMature2m & TYRMature4m & filter\\_\\$ & CAL1NONE & TRANS2NONE & MAT3NONE & MAT4NONE & ADOEXTR & TotalAAGLOB & EssentAAGLOB & ARGGLOB & HISTGLOB & ISOLGLOB & LEUCINEGLOB & LYSINEGLOB & METHIONGLOB & PHENYLGLOB & THREOGLOB & TRYPTOGLOB & VALINEGLOB & NONESSENGLOB & ASPGLOB & ALAGLOB & ASNGLOB & SYSGLOB & GLYGLOB & GLUGLOB & GLNGLOB & PROLINEGLOB & SERINEGLOB & TYRAMINEGLOB & new\\\\\n",
       " <dbl> & <dbl+lbl> & <dbl> & <dbl+lbl> & <date> & <dbl> & <dbl> & <dbl> & <dbl> & <dbl> & <dbl> & <dbl> & <dbl> & <dbl> & <dbl> & <dbl> & <dbl> & <dbl> & <dbl> & <dbl> & <dbl> & <dbl> & <dbl> & <dbl> & <dbl> & <dbl> & <dbl> & <dbl> & <dbl> & <dbl> & <dbl> & <dbl> & <dbl> & <dbl> & <dbl> & <dbl> & <dbl> & <dbl> & <dbl> & <dbl> & <dbl> & <dbl> & <dbl> & <dbl> & <dbl> & <dbl> & <dbl> & <dbl> & <dbl> & <dbl> & <dbl> & <dbl> & <dbl> & <dbl> & <dbl> & <dbl> & <dbl> & <dbl> & <dbl> & <dbl> & <dbl> & <dbl> & <dbl> & <dbl> & <dbl> & <dbl> & <dbl> & <dbl> & <dbl> & <dbl> & <dbl> & <dbl> & <dbl> & <dbl> & <dbl> & <dbl> & <dbl> & <dbl> & <dbl> & <dbl> & <dbl> & <dbl> & <dbl> & <dbl> & <dbl> & <dbl> & <dbl> & <dbl> & <dbl> & <dbl> & <dbl> & <dbl> & <dbl> & <dbl> & <dbl> & <dbl> & <dbl> & <dbl> & <dbl> & <dbl> & <dbl> & <dbl> & <dbl> & <dbl> & <dbl> & <dbl> & <dbl> & <dbl> & <dbl> & <dbl> & <dbl> & <dbl> & <dbl> & <dbl> & <dbl> & <dbl> & <dbl> & <dbl> & <dbl> & <dbl> & <dbl> & <dbl> & <dbl> & <dbl> & <dbl> & <dbl> & <dbl> & <dbl> & <dbl> & <dbl> & <dbl> & <dbl> & <dbl> & <dbl> & <dbl> & <dbl> & <dbl> & <dbl> & <dbl> & <dbl> & <dbl> & <dbl+lbl> & <dbl> & <dbl> & <dbl> & <dbl> & <dbl+lbl> & <dbl> & <dbl> & <dbl> & <dbl> & <dbl> & <dbl> & <dbl> & <dbl> & <dbl> & <dbl> & <dbl> & <dbl> & <dbl> & <dbl> & <dbl> & <dbl> & <dbl> & <dbl> & <dbl> & <dbl> & <dbl> & <dbl> & <dbl> & <dbl>\\\\\n",
       "\\hline\n",
       "\t 1 & 0 & 17 &  1 & 2009-08-20 & 25 & 24 & 24 & 22 & 3492.7 & 3592.5 & 5488.6 & 8282.74 & 34 & 37 & 39 & 42 & 1.48 & 1.48 & 1.48 & 1.48 & 54.4 & 51.7 & 52.6 & 48.3 & 4204 & 3571 & 103 & 114 & 759 & 605 & 86 & 76 & 115.0 &  84.7 & 205 & 135.8 & 304.9 &  79.3 & 23.7 & 38.4 & 120.4 &  81.5 & 7.43 & 6.92 & 4.44 & 5.55 & 1 & 1 & 166.10 & 186.01 & 189.40 & 167.38 & 14.63 & 24.07 & 18.35 & 19.22 & 1 &  1 &  1 &  1 & 2 &  2 &  2 &  1 & 0 &  1 &  1 &  1 & 1 &  3 &  2 &  2 & 2 &  1 &  1 &  1 & 0 &  0 &  0 &  0 & NA &  1 &  1 &  1 & 5 &  9 &  5 &  9 & 0 &  0 &  0 &  0 & 2 &  5 &  5 &  4 & 151.47 & 161.93 & 171.05 & 148.16 & 3 &  5 &  4 &  1 & 18 & 29 & 23 & 15 & 2 &  0 &  0 &  0 & 1 &  1 &  1 &  1 & 10 &  9 & 10 & 11 & 89 &  89 &  99 &  72 & 20 & 17 & 22 & 34 & 3 &  3 &  3 &  2 & 5 &  8 &  8 & 11 & 1 &  1 &  1 &  1 & 1 & 151.47 & 161.93 & 171.05 & 148.16 & 2 & 177.2225 & 19.0675 & 1.00 & 1.75 & 0.75 & 2.00 & 1.25 & 0.00 &   NA & 7.00 &  0 & 4.00 & 158.1525 & 3.25 & 21.25 & 0.5 & 1.00 & 10.00 &  87.25 & 23.25 & 2.75 & 8.0 & 1.00 & 0\\\\\n",
       "\t 2 & 0 & 16 &  2 & 2009-08-24 & 32 & 31 & 30 & 29 & 3392.9 & 4091.5 & 5987.5 & 7883.57 & 35 & 37 & 38 & 41 & 1.52 & 1.52 & 1.52 & 1.52 & 74.7 & 71.7 & 69.0 & 65.9 & 1586 & 2416 &  27 &  65 & 242 & 401 & 34 & 61 & 107.8 &  86.7 & 196 & 160.0 & 193.0 &  86.7 & 34.5 & 30.1 & 122.9 & 112.6 & 7.08 & 7.59 & 4.42 & 5.61 & 1 & 1 &  22.35 & 233.20 & 197.11 & 366.14 &  6.74 & 20.50 & 11.41 & 17.19 & 1 &  1 &  1 &  1 & 1 &  3 &  2 &  2 & 0 &  1 &  0 &  1 & 1 &  2 &  1 &  2 & 1 &  1 &  1 &  1 & 0 &  1 &  0 &  0 &  0 &  1 &  1 &  1 & 1 &  8 &  3 &  5 & 0 &  0 &  0 &  0 & 1 &  4 &  2 &  4 &  15.62 & 212.70 & 185.70 & 348.95 & 1 &  2 &  4 &  9 &  2 & 20 & 21 & 30 & 0 &  0 &  0 &  0 & 0 &  1 &  1 &  1 &  3 & 17 & 15 & 20 &  4 & 103 & 104 & 191 &  1 & 53 & 29 & 79 & 2 &  3 &  3 &  2 & 3 & 12 &  7 & 16 & 0 &  1 &  1 &  1 & 1 &  15.62 & 212.70 & 185.70 & 348.95 & 1 & 204.7000 & 13.9600 & 1.00 & 2.00 & 0.50 & 1.50 & 1.00 & 0.25 & 0.75 & 4.25 &  0 & 2.75 & 190.7425 & 4.00 & 18.25 & 0.0 & 0.75 & 13.75 & 100.50 & 40.50 & 2.50 & 9.5 & 0.75 & 0\\\\\n",
       "\t 3 & 0 & 17 &  2 & 2009-08-21 & 23 & 23 & NA & NA & 2993.8 & 3592.5 &     NA &      NA & 35 & 37 & NA & NA & 1.55 & 1.55 & 1.55 & 1.55 & 56.4 & 54.7 &   NA &   NA & 2052 &   NA &  88 &  NA & 281 &  NA & 67 & NA &  87.2 &    NA & 346 &    NA & 285.0 &    NA & 23.0 &   NA & 266.0 &    NA & 8.35 &   NA & 4.79 &   NA & 1 & 1 & 128.53 & 266.21 &     NA &     NA & 18.49 & 25.04 &    NA &    NA & 1 &  1 & NA & NA & 2 &  3 & NA & NA & 1 &  1 & NA & NA & 2 &  2 & NA & NA & 2 &  1 & NA & NA & 0 &  0 & NA & NA &  1 &  1 & NA & NA & 8 & 12 & NA & NA & 0 &  0 & NA & NA & 3 &  4 & NA & NA & 110.03 & 241.16 &     NA &     NA & 4 &  7 & NA & NA & 20 & 35 & NA & NA & 0 &  0 & NA & NA & 2 &  2 & NA & NA &  5 & 13 & NA & NA & 54 & 122 &  NA &  NA & 16 & 43 & NA & NA & 3 &  3 & NA & NA & 6 & 14 & NA & NA & 1 &  1 & NA & NA & 1 & 110.03 & 241.16 &   0.00 &   0.00 & 2 &       NA &      NA &   NA &   NA &   NA &   NA &   NA &   NA &   NA &   NA & NA &   NA &       NA &   NA &    NA &  NA &   NA &    NA &     NA &    NA &   NA &  NA &   NA & 0\\\\\n",
       "\t 4 & 0 & 16 &  2 & 2009-08-21 & 26 & NA & NA & NA & 3692.3 &     NA &     NA &      NA & 37 & NA & NA & NA & 1.60 &   NA &   NA &   NA & 65.9 &   NA &   NA &   NA &   NA &   NA &  NA &  NA &  NA &  NA & NA & NA &  95.7 &    NA & 273 &    NA & 143.2 &    NA & 39.9 &   NA & 204.4 &    NA & 7.12 &   NA & 4.47 &   NA & 1 & 1 &  71.85 &     NA &     NA &     NA &  8.59 &    NA &    NA &    NA & 1 & NA & NA & NA & 1 & NA & NA & NA & 0 & NA & NA & NA & 1 & NA & NA & NA & 1 & NA & NA & NA & 0 & NA & NA & NA &  0 & NA & NA & NA & 2 & NA & NA & NA & 0 & NA & NA & NA & 2 & NA & NA & NA &  63.27 &     NA &     NA &     NA & 1 & NA & NA & NA &  6 & NA & NA & NA & 0 & NA & NA & NA & 1 & NA & NA & NA &  4 & NA & NA & NA & 33 &  NA &  NA &  NA & 10 & NA & NA & NA & 3 & NA & NA & NA & 4 & NA & NA & NA & 1 & NA & NA & NA & 1 &  63.27 &   0.00 &   0.00 &   0.00 & 1 &       NA &      NA &   NA &   NA &   NA &   NA &   NA &   NA &   NA &   NA & NA &   NA &       NA &   NA &    NA &  NA &   NA &    NA &     NA &    NA &   NA &  NA &   NA & 0\\\\\n",
       "\t 5 & 0 & 16 & NA & 2009-08-29 & 25 & NA & NA & NA & 3592.5 &     NA &     NA &      NA & 34 & NA & NA & NA & 1.51 &   NA &   NA &   NA & 56.5 &   NA &   NA &   NA & 1621 &   NA &  63 &  NA & 270 &  NA & 38 & NA &  73.9 &    NA & 266 &    NA & 123.0 &    NA & 37.7 &   NA & 203.7 &    NA & 6.90 &   NA & 4.39 &   NA & 1 & 1 &  54.19 &     NA &     NA &     NA & 11.05 &    NA &    NA &    NA & 2 & NA & NA & NA & 1 & NA & NA & NA & 0 & NA & NA & NA & 1 & NA & NA & NA & 3 & NA & NA & NA & 0 & NA & NA & NA &  0 & NA & NA & NA & 3 & NA & NA & NA & 0 & NA & NA & NA & 1 & NA & NA & NA &  43.14 &     NA &     NA &     NA & 1 & NA & NA & NA &  5 & NA & NA & NA & 0 & NA & NA & NA & 0 & NA & NA & NA &  3 & NA & NA & NA & 23 &  NA &  NA &  NA &  4 & NA & NA & NA & 2 & NA & NA & NA & 4 & NA & NA & NA & 0 & NA & NA & NA & 1 &  43.14 &   0.00 &   0.00 &   0.00 & 1 &       NA &      NA &   NA &   NA &   NA &   NA &   NA &   NA &   NA &   NA & NA &   NA &       NA &   NA &    NA &  NA &   NA &    NA &     NA &    NA &   NA &  NA &   NA & 0\\\\\n",
       "\t 6 & 0 & 16 &  2 & 2009-08-27 & 29 & 28 & 30 & 31 & 3093.5 & 3392.9 & 4989.6 & 6785.80 & 35 & 36 & 39 & 44 & 1.57 & 1.57 & 1.57 & 1.57 & 71.2 & 69.5 & 72.9 & 76.2 & 1932 &  970 & 100 &  56 & 311 & 131 & 28 & 30 & 100.7 & 117.1 & 224 & 221.0 & 289.0 & 120.0 & 21.9 & 55.0 & 144.3 & 142.0 & 7.72 & 6.77 & 4.49 & 4.72 & 1 & 1 &  79.75 & 155.78 & 201.10 & 248.13 & 14.20 & 20.89 & 22.26 & 24.01 & 2 &  3 &  2 &  2 & 1 &  2 &  2 &  2 & 1 &  1 &  1 &  1 & 1 &  2 &  2 &  2 & 3 &  4 &  2 &  2 & 0 &  0 &  0 &  0 &  0 &  1 &  1 &  1 & 4 &  5 &  6 &  8 & 0 &  0 &  0 &  0 & 2 &  3 &  5 &  4 &  65.55 & 134.89 & 178.85 & 224.13 & 1 &  3 &  3 &  5 &  5 & 17 & 17 & 23 & 1 &  0 &  1 &  0 & 1 &  1 &  2 &  2 &  4 & 10 & 12 & 15 & 30 &  67 &  92 & 110 & 12 & 22 & 36 & 50 & 5 &  6 &  5 &  5 & 4 &  7 &  9 & 12 & 1 &  2 &  2 &  3 & 1 &  65.55 & 134.89 & 178.85 & 224.13 & 1 & 171.1900 & 20.3400 & 2.25 & 1.75 & 1.00 & 1.75 & 2.75 & 0.00 & 0.75 & 5.75 &  0 & 3.50 & 150.8550 & 3.00 & 15.50 & 0.5 & 1.50 & 10.25 &  74.75 & 30.00 & 5.25 & 8.0 & 2.00 & 0\\\\\n",
       "\\end{tabular}\n"
      ],
      "text/markdown": [
       "\n",
       "A tibble: 6 × 171\n",
       "\n",
       "| ID &lt;dbl&gt; | GROUP &lt;dbl+lbl&gt; | MATERNALAGE &lt;dbl&gt; | SEXO &lt;dbl+lbl&gt; | INFANTDOB &lt;date&gt; | MATBMI1COLL &lt;dbl&gt; | MATBMI215d &lt;dbl&gt; | MATBMI32mos &lt;dbl&gt; | MATBMI44mos &lt;dbl&gt; | BABYWeigth1g &lt;dbl&gt; | ⋯ ⋯ | ALAGLOB &lt;dbl&gt; | ASNGLOB &lt;dbl&gt; | SYSGLOB &lt;dbl&gt; | GLYGLOB &lt;dbl&gt; | GLUGLOB &lt;dbl&gt; | GLNGLOB &lt;dbl&gt; | PROLINEGLOB &lt;dbl&gt; | SERINEGLOB &lt;dbl&gt; | TYRAMINEGLOB &lt;dbl&gt; | new &lt;dbl&gt; |\n",
       "|---|---|---|---|---|---|---|---|---|---|---|---|---|---|---|---|---|---|---|---|---|\n",
       "| 1 | 0 | 17 |  1 | 2009-08-20 | 25 | 24 | 24 | 22 | 3492.7 | ⋯ | 21.25 | 0.5 | 1.00 | 10.00 |  87.25 | 23.25 | 2.75 | 8.0 | 1.00 | 0 |\n",
       "| 2 | 0 | 16 |  2 | 2009-08-24 | 32 | 31 | 30 | 29 | 3392.9 | ⋯ | 18.25 | 0.0 | 0.75 | 13.75 | 100.50 | 40.50 | 2.50 | 9.5 | 0.75 | 0 |\n",
       "| 3 | 0 | 17 |  2 | 2009-08-21 | 23 | 23 | NA | NA | 2993.8 | ⋯ |    NA |  NA |   NA |    NA |     NA |    NA |   NA |  NA |   NA | 0 |\n",
       "| 4 | 0 | 16 |  2 | 2009-08-21 | 26 | NA | NA | NA | 3692.3 | ⋯ |    NA |  NA |   NA |    NA |     NA |    NA |   NA |  NA |   NA | 0 |\n",
       "| 5 | 0 | 16 | NA | 2009-08-29 | 25 | NA | NA | NA | 3592.5 | ⋯ |    NA |  NA |   NA |    NA |     NA |    NA |   NA |  NA |   NA | 0 |\n",
       "| 6 | 0 | 16 |  2 | 2009-08-27 | 29 | 28 | 30 | 31 | 3093.5 | ⋯ | 15.50 | 0.5 | 1.50 | 10.25 |  74.75 | 30.00 | 5.25 | 8.0 | 2.00 | 0 |\n",
       "\n"
      ],
      "text/plain": [
       "  ID GROUP MATERNALAGE SEXO INFANTDOB  MATBMI1COLL MATBMI215d MATBMI32mos\n",
       "1 1  0     17           1   2009-08-20 25          24         24         \n",
       "2 2  0     16           2   2009-08-24 32          31         30         \n",
       "3 3  0     17           2   2009-08-21 23          23         NA         \n",
       "4 4  0     16           2   2009-08-21 26          NA         NA         \n",
       "5 5  0     16          NA   2009-08-29 25          NA         NA         \n",
       "6 6  0     16           2   2009-08-27 29          28         30         \n",
       "  MATBMI44mos BABYWeigth1g ⋯ ALAGLOB ASNGLOB SYSGLOB GLYGLOB GLUGLOB GLNGLOB\n",
       "1 22          3492.7       ⋯ 21.25   0.5     1.00    10.00    87.25  23.25  \n",
       "2 29          3392.9       ⋯ 18.25   0.0     0.75    13.75   100.50  40.50  \n",
       "3 NA          2993.8       ⋯    NA    NA       NA       NA       NA     NA  \n",
       "4 NA          3692.3       ⋯    NA    NA       NA       NA       NA     NA  \n",
       "5 NA          3592.5       ⋯    NA    NA       NA       NA       NA     NA  \n",
       "6 31          3093.5       ⋯ 15.50   0.5     1.50    10.25    74.75  30.00  \n",
       "  PROLINEGLOB SERINEGLOB TYRAMINEGLOB new\n",
       "1 2.75        8.0        1.00         0  \n",
       "2 2.50        9.5        0.75         0  \n",
       "3   NA         NA          NA         0  \n",
       "4   NA         NA          NA         0  \n",
       "5   NA         NA          NA         0  \n",
       "6 5.25        8.0        2.00         0  "
      ]
     },
     "metadata": {},
     "output_type": "display_data"
    }
   ],
   "source": [
    "AA_Sex_1 <- read_sav(\"~/Documents/AA-leche-humana/datos/AMINOACIDOS POR SEXO_1.sav\")\n",
    "head(AA_Sex_1)"
   ]
  },
  {
   "cell_type": "code",
   "execution_count": null,
   "metadata": {},
   "outputs": [],
   "source": []
  }
 ],
 "metadata": {
  "kernelspec": {
   "display_name": "R",
   "language": "R",
   "name": "ir"
  },
  "language_info": {
   "codemirror_mode": "r",
   "file_extension": ".r",
   "mimetype": "text/x-r-source",
   "name": "R",
   "pygments_lexer": "r",
   "version": "3.6.0"
  }
 },
 "nbformat": 4,
 "nbformat_minor": 2
}
